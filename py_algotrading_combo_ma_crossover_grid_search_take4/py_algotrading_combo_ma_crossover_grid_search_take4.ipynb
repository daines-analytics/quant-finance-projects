{
 "cells": [
  {
   "cell_type": "markdown",
   "metadata": {
    "colab_type": "text",
    "id": "nn0Ld1RjTekC"
   },
   "source": [
    "# Algorithmic Trading Model for Combo Moving Average Crossover Grid Search Take 4\n",
    "### David Lowe\n",
    "### August 13, 2020\n",
    "\n",
    "NOTE: This script is for learning purposes only and does not constitute a recommendation for buying or selling any stock mentioned in this script.\n",
    "\n",
    "SUMMARY: The purpose of this project is to construct and test an algorithmic trading model and document the end-to-end steps using a template.\n",
    "\n",
    "INTRODUCTION: This algorithmic trading model examines a series of exponential and simple moving average (MA) crossover models via a grid search methodology. The previous Take1 and Take2 iterations of modeling focused on applying a trend-following or a momentum-oriented approach. This iteration of modeling will focus on applying a mean-reversion approach. When the fast moving-average curve crosses below the slow moving-average curve, the strategy goes long (buys) on the stock. When the opposite occurs, we will exit the position.\n",
    "\n",
    "From iteration Take1, the grid search script searched through all combinations between the two sets of MA curves, simple and exponential. The faster MA curve ranged from 5 days to 30 days, while the slower MA ranged from 10 days to 60 days. Both curves used a 5-day increment.\n",
    "\n",
    "From iteration Take2, the grid search script searched through all combinations between the four sets of MA curves. The four models were simple only, exponential only, fast simple/slow exponential, and fast exponential/slow simple. The fast MA curve ranged from 5 days to 30 days, while the slow MA ranged from 10 days to 60 days. All four sets of curves used a 5-day increment.\n",
    "\n",
    "From iteration Take3, the grid search script searched through all combinations between the two sets of MA curves, simple and exponential. The faster MA curve ranged from 5 days to 30 days, while the slower MA ranged from 10 days to 60 days. Both curves used a 5-day increment.\n",
    "\n",
    "For this Take4 iteration, the grid search script will search through all combinations between the four sets of MA curves. The four models are simple only, exponential only, fast simple/slow exponential, and fast exponential/slow simple. The fast MA curve can range from 5 days to 30 days, while the slow MA can range from 10 days to 60 days. All four sets of curves use a 5-day increment.\n",
    "\n",
    "ANALYSIS: From iteration Take1, we analyzed the stock prices for Apple Inc. (AAPL) between January 1, 2019 and August 3, 2020. The best simple MA model with 10-day and 20-day produced a profit of 284.11 per share. The best exponential MA model with 5-day and 20-day produced a gain of 280.73. The long-only approach yielded a gain of 280.86 per share.\n",
    "\n",
    "From iteration Take2, we analyzed the stock prices for Apple Inc. (AAPL) between January 1, 2019 and August 3, 2020. The best MA model with 5-day EMA and 30-day SMA produced a profit of 289.28 per share. The long-only approach yielded a profit of 280.86 per share.\n",
    "\n",
    "From iteration Take3, we analyzed the stock prices for Apple Inc. (AAPL) between January 1, 2019 and August 3, 2020. The best simple MA model with 30-day and 60-day produced a profit of 97.39 per share. The long-only approach yielded a gain of 280.86 per share.\n",
    "\n",
    "For this Take4 iteration, we analyzed the stock prices for Apple Inc. (AAPL) between January 1, 2019 and August 3, 2020. The best MA model with 30-day SMA and 35-day EMA produced a profit of 112.00 per share. The long-only approach yielded a profit of 280.86 per share.\n",
    "\n",
    "CONCLUSION: For AAPL and during the modeling time frame, the mean-reversion approach produced a suboptimal return when compared to the momentum-oriented and long-only approaches. In this case, the buying-and-holding approach is much more profitable without too much fuss.\n",
    "\n",
    "Dataset ML Model: Time series analysis with numerical attributes\n",
    "\n",
    "Dataset Used: Quandl\n",
    "\n",
    "An algorithmic trading modeling project generally can be broken down into about five major tasks:\n",
    "\n",
    "1. Prepare Environment\n",
    "2. Acquire and Pre-Process Data\n",
    "3. Develop Strategy and Train Model\n",
    "4. Back-test Model\n",
    "5. Evaluate Performance"
   ]
  },
  {
   "cell_type": "markdown",
   "metadata": {
    "colab_type": "text",
    "id": "-DieEv9pTekE"
   },
   "source": [
    "## Task 1. Prepare Environment"
   ]
  },
  {
   "cell_type": "code",
   "execution_count": 1,
   "metadata": {
    "colab": {},
    "colab_type": "code",
    "collapsed": false,
    "id": "8IwyGxxuTekE",
    "jupyter": {
     "outputs_hidden": false
    },
    "pycharm": {
     "name": "#%%\n"
    }
   },
   "outputs": [],
   "source": [
    "import os\n",
    "import sys\n",
    "import numpy as np\n",
    "import pandas as pd\n",
    "import requests\n",
    "import json\n",
    "import matplotlib.pyplot as plt\n",
    "from datetime import datetime, timedelta\n",
    "from dotenv import load_dotenv"
   ]
  },
  {
   "cell_type": "code",
   "execution_count": 2,
   "metadata": {
    "colab": {
     "base_uri": "https://localhost:8080/",
     "height": 51
    },
    "colab_type": "code",
    "collapsed": false,
    "id": "Zagik25QTekS",
    "jupyter": {
     "outputs_hidden": false
    },
    "outputId": "d14332ba-63ec-4224-ca13-c4ecdab3541a",
    "pycharm": {
     "name": "#%%\n"
    }
   },
   "outputs": [
    {
     "name": "stdout",
     "output_type": "stream",
     "text": [
      "Starting date for the model: 2019-01-01 00:00:00\n",
      "Ending date for the model: 2020-08-03 00:00:00\n"
     ]
    }
   ],
   "source": [
    "stock_symbol = 'AAPL'\n",
    "initial_capital = 0\n",
    "\n",
    "# Specify the moving average parameters for the trading strategy\n",
    "fast_ema_min = 5\n",
    "fast_ema_max = 30\n",
    "slow_ema_min = 10\n",
    "slow_ema_max = 60\n",
    "fast_sma_min = 5\n",
    "fast_sma_max = 30\n",
    "slow_sma_min = 10\n",
    "slow_sma_max = 60\n",
    "ma_increment = 5\n",
    "min_ma_gap = 5\n",
    "\n",
    "# The number of extra days of data we need (usually equals to the larger of slow_ema or slow_sma)\n",
    "extra_days_data = slow_sma_max\n",
    "\n",
    "model_start_date = datetime(2019, 1, 1)\n",
    "print(\"Starting date for the model:\", model_start_date)\n",
    "stock_start_date = model_start_date - timedelta(days=int(extra_days_data*1.5)) # Need more pricing data to calculate moving averages\n",
    "\n",
    "model_end_date = datetime.now()\n",
    "model_end_date = datetime(2020, 8, 3)\n",
    "print(\"Ending date for the model:\", model_end_date)"
   ]
  },
  {
   "cell_type": "code",
   "execution_count": 3,
   "metadata": {
    "colab": {
     "base_uri": "https://localhost:8080/",
     "height": 34
    },
    "colab_type": "code",
    "collapsed": false,
    "id": "aTI50KL9TekN",
    "jupyter": {
     "outputs_hidden": false
    },
    "outputId": "68f4a687-6e33-48e5-ef46-c23d7994bc3e",
    "pycharm": {
     "name": "#%%\n"
    }
   },
   "outputs": [],
   "source": [
    "# Begin the timer for the script processing\n",
    "startTimeScript = datetime.now()\n",
    "\n",
    "# Set up the verbose flag to print detailed messages for debugging (setting True will activate!)\n",
    "verbose_models = False\n",
    "verbose_graphs = False\n",
    "verbose_portfolios = False\n",
    "\n",
    "# Set up the sendNotification flag to send progress emails (setting True will send emails!)\n",
    "notifyStatus = False\n",
    "\n",
    "# Set up the parent directory location for loading the dotenv files\n",
    "useColab = False\n",
    "if useColab:\n",
    "    # Mount Google Drive locally for storing files\n",
    "    from google.colab import drive\n",
    "    drive.mount('/content/gdrive')\n",
    "    gdrivePrefix = '/content/gdrive/My Drive/Colab_Downloads/'\n",
    "    env_path = '/content/gdrive/My Drive/Colab Notebooks/'\n",
    "    dotenv_path = env_path + \"python_script.env\"\n",
    "    load_dotenv(dotenv_path=dotenv_path)\n",
    "\n",
    "# Set up the dotenv file for retrieving environment variables\n",
    "useLocalPC = False\n",
    "if useLocalPC:\n",
    "    env_path = \"/Users/david/PycharmProjects/\"\n",
    "    dotenv_path = env_path + \"python_script.env\"\n",
    "    load_dotenv(dotenv_path=dotenv_path)\n",
    "\n",
    "# Configure the plotting style\n",
    "plt.style.use('seaborn')\n",
    "\n",
    "# Set Pandas options\n",
    "pd.set_option(\"display.max_rows\", None)\n",
    "pd.set_option(\"display.max_columns\", None)\n",
    "pd.set_option(\"display.width\", 140)"
   ]
  },
  {
   "cell_type": "markdown",
   "metadata": {
    "colab_type": "text",
    "id": "Xa51FMY_TekZ"
   },
   "source": [
    "## Task 2. Acquire and Pre-Process Data"
   ]
  },
  {
   "cell_type": "code",
   "execution_count": 4,
   "metadata": {
    "colab": {},
    "colab_type": "code",
    "collapsed": false,
    "id": "Og9L0byuTekd",
    "jupyter": {
     "outputs_hidden": false
    },
    "pycharm": {
     "name": "#%%\n"
    }
   },
   "outputs": [],
   "source": [
    "# Check and see whether the API key is available\n",
    "quandl_key = os.environ.get('QUANDL_API')\n",
    "if quandl_key is None: sys.exit(\"API key for Quandl not available. Script Processing Aborted!!!\")"
   ]
  },
  {
   "cell_type": "code",
   "execution_count": 5,
   "metadata": {
    "colab": {},
    "colab_type": "code",
    "collapsed": false,
    "id": "Vx4DZ7UbTekg",
    "jupyter": {
     "outputs_hidden": false
    },
    "pycharm": {
     "name": "#%%\n"
    }
   },
   "outputs": [],
   "source": [
    "start_date_string = stock_start_date.strftime('%Y-%m-%d')\n",
    "end_date_string = model_end_date.strftime('%Y-%m-%d')\n",
    "\n",
    "quandl_url = \"https://www.quandl.com/api/v3/datatables/SHARADAR/SEP.json?date.gte=%s&date.lte=%s&ticker=%s&api_key=%s\" % (start_date_string, end_date_string, stock_symbol, quandl_key)"
   ]
  },
  {
   "cell_type": "code",
   "execution_count": 6,
   "metadata": {
    "colab": {
     "base_uri": "https://localhost:8080/",
     "height": 34
    },
    "colab_type": "code",
    "collapsed": false,
    "id": "zdbEhMn8Tekj",
    "jupyter": {
     "outputs_hidden": false
    },
    "outputId": "c52a8b39-0a15-4b5a-c2d7-4359b519573d",
    "pycharm": {
     "name": "#%%\n"
    }
   },
   "outputs": [
    {
     "name": "stdout",
     "output_type": "stream",
     "text": [
      "461 data points retrieved from the API call.\n"
     ]
    }
   ],
   "source": [
    "response = requests.get(quandl_url)\n",
    "quandl_dict = json.loads(response.text)\n",
    "stock_quandl = pd.DataFrame(quandl_dict['datatable']['data'])\n",
    "print(len(stock_quandl), 'data points retrieved from the API call.')"
   ]
  },
  {
   "cell_type": "code",
   "execution_count": 7,
   "metadata": {
    "colab": {
     "base_uri": "https://localhost:8080/",
     "height": 306
    },
    "colab_type": "code",
    "collapsed": false,
    "id": "5ybXsZl1Tekl",
    "jupyter": {
     "outputs_hidden": false
    },
    "outputId": "2ecb3706-3631-40df-d26e-cb13ffec5fa4",
    "pycharm": {
     "name": "#%%\n"
    }
   },
   "outputs": [
    {
     "name": "stdout",
     "output_type": "stream",
     "text": [
      "<class 'pandas.core.frame.DataFrame'>\n",
      "DatetimeIndex: 461 entries, 2018-10-03 to 2020-08-03\n",
      "Data columns (total 10 columns):\n",
      " #   Column       Non-Null Count  Dtype  \n",
      "---  ------       --------------  -----  \n",
      " 0   ticker       461 non-null    object \n",
      " 1   date         461 non-null    object \n",
      " 2   open         461 non-null    float64\n",
      " 3   high         461 non-null    float64\n",
      " 4   low          461 non-null    float64\n",
      " 5   close        461 non-null    float64\n",
      " 6   volume       461 non-null    float64\n",
      " 7   dividend     461 non-null    float64\n",
      " 8   closeunadj   461 non-null    float64\n",
      " 9   lastupdated  461 non-null    object \n",
      "dtypes: float64(7), object(3)\n",
      "memory usage: 39.6+ KB\n"
     ]
    }
   ],
   "source": [
    "stock_quandl.columns = ['ticker', 'date', 'open', 'high', 'low', 'close', 'volume', 'dividend', 'closeunadj', 'lastupdated']\n",
    "# stock_quandl.set_index('date', inplace=True)\n",
    "stock_quandl.index = pd.to_datetime(stock_quandl.date)\n",
    "stock_quandl = stock_quandl.sort_index(ascending=True)\n",
    "stock_quandl.info()"
   ]
  },
  {
   "cell_type": "code",
   "execution_count": 8,
   "metadata": {
    "colab": {
     "base_uri": "https://localhost:8080/",
     "height": 235
    },
    "colab_type": "code",
    "collapsed": false,
    "id": "GzN1_13bTeko",
    "jupyter": {
     "outputs_hidden": false
    },
    "outputId": "c113bf72-655c-46a1-ee6d-36b236404897",
    "pycharm": {
     "name": "#%%\n"
    }
   },
   "outputs": [
    {
     "data": {
      "text/html": [
       "<div>\n",
       "<style scoped>\n",
       "    .dataframe tbody tr th:only-of-type {\n",
       "        vertical-align: middle;\n",
       "    }\n",
       "\n",
       "    .dataframe tbody tr th {\n",
       "        vertical-align: top;\n",
       "    }\n",
       "\n",
       "    .dataframe thead th {\n",
       "        text-align: right;\n",
       "    }\n",
       "</style>\n",
       "<table border=\"1\" class=\"dataframe\">\n",
       "  <thead>\n",
       "    <tr style=\"text-align: right;\">\n",
       "      <th></th>\n",
       "      <th>ticker</th>\n",
       "      <th>date</th>\n",
       "      <th>open</th>\n",
       "      <th>high</th>\n",
       "      <th>low</th>\n",
       "      <th>close</th>\n",
       "      <th>volume</th>\n",
       "      <th>dividend</th>\n",
       "      <th>closeunadj</th>\n",
       "      <th>lastupdated</th>\n",
       "    </tr>\n",
       "    <tr>\n",
       "      <th>date</th>\n",
       "      <th></th>\n",
       "      <th></th>\n",
       "      <th></th>\n",
       "      <th></th>\n",
       "      <th></th>\n",
       "      <th></th>\n",
       "      <th></th>\n",
       "      <th></th>\n",
       "      <th></th>\n",
       "      <th></th>\n",
       "    </tr>\n",
       "  </thead>\n",
       "  <tbody>\n",
       "    <tr>\n",
       "      <th>2018-10-03</th>\n",
       "      <td>AAPL</td>\n",
       "      <td>2018-10-03</td>\n",
       "      <td>230.05</td>\n",
       "      <td>233.47</td>\n",
       "      <td>229.780</td>\n",
       "      <td>232.07</td>\n",
       "      <td>28654799.0</td>\n",
       "      <td>0.0</td>\n",
       "      <td>232.07</td>\n",
       "      <td>2020-05-01</td>\n",
       "    </tr>\n",
       "    <tr>\n",
       "      <th>2018-10-04</th>\n",
       "      <td>AAPL</td>\n",
       "      <td>2018-10-04</td>\n",
       "      <td>230.78</td>\n",
       "      <td>232.35</td>\n",
       "      <td>226.730</td>\n",
       "      <td>227.99</td>\n",
       "      <td>32042000.0</td>\n",
       "      <td>0.0</td>\n",
       "      <td>227.99</td>\n",
       "      <td>2020-05-01</td>\n",
       "    </tr>\n",
       "    <tr>\n",
       "      <th>2018-10-05</th>\n",
       "      <td>AAPL</td>\n",
       "      <td>2018-10-05</td>\n",
       "      <td>227.96</td>\n",
       "      <td>228.41</td>\n",
       "      <td>220.580</td>\n",
       "      <td>224.29</td>\n",
       "      <td>33580463.0</td>\n",
       "      <td>0.0</td>\n",
       "      <td>224.29</td>\n",
       "      <td>2020-05-01</td>\n",
       "    </tr>\n",
       "    <tr>\n",
       "      <th>2018-10-08</th>\n",
       "      <td>AAPL</td>\n",
       "      <td>2018-10-08</td>\n",
       "      <td>222.21</td>\n",
       "      <td>224.80</td>\n",
       "      <td>220.200</td>\n",
       "      <td>223.77</td>\n",
       "      <td>29663923.0</td>\n",
       "      <td>0.0</td>\n",
       "      <td>223.77</td>\n",
       "      <td>2020-05-01</td>\n",
       "    </tr>\n",
       "    <tr>\n",
       "      <th>2018-10-09</th>\n",
       "      <td>AAPL</td>\n",
       "      <td>2018-10-09</td>\n",
       "      <td>223.64</td>\n",
       "      <td>227.27</td>\n",
       "      <td>222.246</td>\n",
       "      <td>226.87</td>\n",
       "      <td>26891029.0</td>\n",
       "      <td>0.0</td>\n",
       "      <td>226.87</td>\n",
       "      <td>2020-05-01</td>\n",
       "    </tr>\n",
       "  </tbody>\n",
       "</table>\n",
       "</div>"
      ],
      "text/plain": [
       "           ticker        date    open    high      low   close      volume  dividend  closeunadj lastupdated\n",
       "date                                                                                                        \n",
       "2018-10-03   AAPL  2018-10-03  230.05  233.47  229.780  232.07  28654799.0       0.0      232.07  2020-05-01\n",
       "2018-10-04   AAPL  2018-10-04  230.78  232.35  226.730  227.99  32042000.0       0.0      227.99  2020-05-01\n",
       "2018-10-05   AAPL  2018-10-05  227.96  228.41  220.580  224.29  33580463.0       0.0      224.29  2020-05-01\n",
       "2018-10-08   AAPL  2018-10-08  222.21  224.80  220.200  223.77  29663923.0       0.0      223.77  2020-05-01\n",
       "2018-10-09   AAPL  2018-10-09  223.64  227.27  222.246  226.87  26891029.0       0.0      226.87  2020-05-01"
      ]
     },
     "execution_count": 8,
     "metadata": {},
     "output_type": "execute_result"
    }
   ],
   "source": [
    "stock_quandl.head()"
   ]
  },
  {
   "cell_type": "code",
   "execution_count": 9,
   "metadata": {
    "colab": {
     "base_uri": "https://localhost:8080/",
     "height": 235
    },
    "colab_type": "code",
    "collapsed": false,
    "id": "T7jmDLccTeks",
    "jupyter": {
     "outputs_hidden": false
    },
    "outputId": "4c47d9b0-b8d7-4a64-c05b-300169b85925",
    "pycharm": {
     "name": "#%%\n"
    }
   },
   "outputs": [
    {
     "data": {
      "text/html": [
       "<div>\n",
       "<style scoped>\n",
       "    .dataframe tbody tr th:only-of-type {\n",
       "        vertical-align: middle;\n",
       "    }\n",
       "\n",
       "    .dataframe tbody tr th {\n",
       "        vertical-align: top;\n",
       "    }\n",
       "\n",
       "    .dataframe thead th {\n",
       "        text-align: right;\n",
       "    }\n",
       "</style>\n",
       "<table border=\"1\" class=\"dataframe\">\n",
       "  <thead>\n",
       "    <tr style=\"text-align: right;\">\n",
       "      <th></th>\n",
       "      <th>ticker</th>\n",
       "      <th>date</th>\n",
       "      <th>open</th>\n",
       "      <th>high</th>\n",
       "      <th>low</th>\n",
       "      <th>close</th>\n",
       "      <th>volume</th>\n",
       "      <th>dividend</th>\n",
       "      <th>closeunadj</th>\n",
       "      <th>lastupdated</th>\n",
       "    </tr>\n",
       "    <tr>\n",
       "      <th>date</th>\n",
       "      <th></th>\n",
       "      <th></th>\n",
       "      <th></th>\n",
       "      <th></th>\n",
       "      <th></th>\n",
       "      <th></th>\n",
       "      <th></th>\n",
       "      <th></th>\n",
       "      <th></th>\n",
       "      <th></th>\n",
       "    </tr>\n",
       "  </thead>\n",
       "  <tbody>\n",
       "    <tr>\n",
       "      <th>2020-07-28</th>\n",
       "      <td>AAPL</td>\n",
       "      <td>2020-07-28</td>\n",
       "      <td>377.470</td>\n",
       "      <td>378.199</td>\n",
       "      <td>372.99</td>\n",
       "      <td>373.01</td>\n",
       "      <td>25311293.0</td>\n",
       "      <td>0.0</td>\n",
       "      <td>373.01</td>\n",
       "      <td>2020-07-28</td>\n",
       "    </tr>\n",
       "    <tr>\n",
       "      <th>2020-07-29</th>\n",
       "      <td>AAPL</td>\n",
       "      <td>2020-07-29</td>\n",
       "      <td>375.000</td>\n",
       "      <td>380.920</td>\n",
       "      <td>374.85</td>\n",
       "      <td>380.16</td>\n",
       "      <td>21818093.0</td>\n",
       "      <td>0.0</td>\n",
       "      <td>380.16</td>\n",
       "      <td>2020-07-29</td>\n",
       "    </tr>\n",
       "    <tr>\n",
       "      <th>2020-07-30</th>\n",
       "      <td>AAPL</td>\n",
       "      <td>2020-07-30</td>\n",
       "      <td>376.750</td>\n",
       "      <td>385.190</td>\n",
       "      <td>375.07</td>\n",
       "      <td>384.76</td>\n",
       "      <td>31601852.0</td>\n",
       "      <td>0.0</td>\n",
       "      <td>384.76</td>\n",
       "      <td>2020-07-30</td>\n",
       "    </tr>\n",
       "    <tr>\n",
       "      <th>2020-07-31</th>\n",
       "      <td>AAPL</td>\n",
       "      <td>2020-07-31</td>\n",
       "      <td>411.535</td>\n",
       "      <td>425.660</td>\n",
       "      <td>403.30</td>\n",
       "      <td>425.04</td>\n",
       "      <td>93573867.0</td>\n",
       "      <td>0.0</td>\n",
       "      <td>425.04</td>\n",
       "      <td>2020-07-31</td>\n",
       "    </tr>\n",
       "    <tr>\n",
       "      <th>2020-08-03</th>\n",
       "      <td>AAPL</td>\n",
       "      <td>2020-08-03</td>\n",
       "      <td>432.800</td>\n",
       "      <td>446.546</td>\n",
       "      <td>431.57</td>\n",
       "      <td>435.75</td>\n",
       "      <td>76817302.0</td>\n",
       "      <td>0.0</td>\n",
       "      <td>435.75</td>\n",
       "      <td>2020-08-03</td>\n",
       "    </tr>\n",
       "  </tbody>\n",
       "</table>\n",
       "</div>"
      ],
      "text/plain": [
       "           ticker        date     open     high     low   close      volume  dividend  closeunadj lastupdated\n",
       "date                                                                                                         \n",
       "2020-07-28   AAPL  2020-07-28  377.470  378.199  372.99  373.01  25311293.0       0.0      373.01  2020-07-28\n",
       "2020-07-29   AAPL  2020-07-29  375.000  380.920  374.85  380.16  21818093.0       0.0      380.16  2020-07-29\n",
       "2020-07-30   AAPL  2020-07-30  376.750  385.190  375.07  384.76  31601852.0       0.0      384.76  2020-07-30\n",
       "2020-07-31   AAPL  2020-07-31  411.535  425.660  403.30  425.04  93573867.0       0.0      425.04  2020-07-31\n",
       "2020-08-03   AAPL  2020-08-03  432.800  446.546  431.57  435.75  76817302.0       0.0      435.75  2020-08-03"
      ]
     },
     "execution_count": 9,
     "metadata": {},
     "output_type": "execute_result"
    }
   ],
   "source": [
    "stock_quandl.tail()"
   ]
  },
  {
   "cell_type": "code",
   "execution_count": 10,
   "metadata": {
    "colab": {
     "base_uri": "https://localhost:8080/",
     "height": 535
    },
    "colab_type": "code",
    "collapsed": false,
    "id": "Tfuu40coTekv",
    "jupyter": {
     "outputs_hidden": false
    },
    "outputId": "2357753d-6c83-46ad-e8cc-8593497d20ff",
    "pycharm": {
     "name": "#%%\n"
    }
   },
   "outputs": [
    {
     "data": {
      "image/png": "[encoded data removed]",
      "text/plain": [
       "<Figure size 1152x648 with 1 Axes>"
      ]
     },
     "metadata": {},
     "output_type": "display_data"
    }
   ],
   "source": [
    "quandl_title = 'Quandl Historical Stock Information for ' + stock_symbol\n",
    "stock_quandl['close'].plot(figsize=(16,9), title=quandl_title)\n",
    "plt.show()"
   ]
  },
  {
   "cell_type": "markdown",
   "metadata": {
    "colab_type": "text",
    "id": "UKNJYDlGTek0"
   },
   "source": [
    "## Task 3. Develop Strategy and Train Model"
   ]
  },
  {
   "cell_type": "markdown",
   "metadata": {
    "colab_type": "text",
    "id": "zUtaaGbgTek3"
   },
   "source": [
    "### 3.a) Set up the Dataframe for the Trading Model"
   ]
  },
  {
   "cell_type": "code",
   "execution_count": 11,
   "metadata": {
    "colab": {
     "base_uri": "https://localhost:8080/",
     "height": 170
    },
    "colab_type": "code",
    "collapsed": false,
    "id": "dGpN7bg-Tek3",
    "jupyter": {
     "outputs_hidden": false
    },
    "outputId": "60f23809-9c25-44bd-dcbc-82c93777493d",
    "pycharm": {
     "name": "#%%\n"
    }
   },
   "outputs": [
    {
     "name": "stdout",
     "output_type": "stream",
     "text": [
      "<class 'pandas.core.frame.DataFrame'>\n",
      "DatetimeIndex: 461 entries, 2018-10-03 to 2020-08-03\n",
      "Data columns (total 2 columns):\n",
      " #   Column       Non-Null Count  Dtype  \n",
      "---  ------       --------------  -----  \n",
      " 0   open_price   461 non-null    float64\n",
      " 1   close_price  461 non-null    float64\n",
      "dtypes: float64(2)\n",
      "memory usage: 10.8 KB\n"
     ]
    }
   ],
   "source": [
    "# Set up the standard column name for modeling\n",
    "model_template = stock_quandl.loc[:, ['open','close']]\n",
    "model_template.rename(columns={'open': 'open_price', 'close': 'close_price'}, inplace=True)\n",
    "model_template.info()"
   ]
  },
  {
   "cell_type": "markdown",
   "metadata": {
    "colab_type": "text",
    "id": "v-3ecix6Tek_"
   },
   "source": [
    "### 3.b) Set up the Analysis Table with Indicators"
   ]
  },
  {
   "cell_type": "code",
   "execution_count": 12,
   "metadata": {
    "colab": {},
    "colab_type": "code",
    "collapsed": false,
    "id": "yfQTRXPnTelA",
    "jupyter": {
     "outputs_hidden": false
    },
    "pycharm": {
     "name": "#%%\n"
    }
   },
   "outputs": [],
   "source": [
    "# Define the functions that will generate the indicators and trading signals\n",
    "\n",
    "def populate_indicators(passed_model):\n",
    "    passed_model['fast_ema'] = passed_model['close_price'].ewm(span=fast_ma).mean()\n",
    "    passed_model['slow_ema'] = passed_model['close_price'].ewm(span=slow_ma).mean()\n",
    "    passed_model['fast_sma'] = passed_model['close_price'].rolling(fast_ma).mean()\n",
    "    passed_model['slow_sma'] = passed_model['close_price'].rolling(slow_ma).mean()\n",
    "    passed_model['ema_change'] = passed_model['slow_ema'] - passed_model['fast_ema']\n",
    "    passed_model['sma_change'] = passed_model['slow_sma'] - passed_model['fast_sma']\n",
    "    passed_model['fastema_slowsma_chg'] = passed_model['slow_sma'] - passed_model['fast_ema']\n",
    "    passed_model['fastsma_slowema_chg'] = passed_model['slow_ema'] - passed_model['fast_sma']\n",
    "    passed_model['trade_signal'] = np.zeros(len(passed_model))\n",
    "    passed_model['signal_change'] = np.zeros(len(passed_model))\n",
    "    passed_model['entry_exit'] = np.zeros(len(passed_model))\n",
    "\n",
    "def populate_signals(model, change_curve):\n",
    "    wait_for_entry = True\n",
    "    for x in range(len(model)):\n",
    "        if model[change_curve].iloc[x] > 0:\n",
    "            model['trade_signal'].iloc[x] = 1  # trade_signal = 1 means we should enter into a long position\n",
    "        else:\n",
    "            model['trade_signal'].iloc[x] = 0  # trade_signal = 0 means we should exit the long position\n",
    "        if x != 0:\n",
    "            model['signal_change'].iloc[x] = model['trade_signal'].iloc[x] - model['trade_signal'].iloc[x-1]\n",
    "            if wait_for_entry and (model['signal_change'].iloc[x-1] == 1):\n",
    "                model['entry_exit'].iloc[x] = model['signal_change'].iloc[x-1]\n",
    "                wait_for_entry = False\n",
    "            elif (not wait_for_entry) and (model['signal_change'].iloc[x-1] != 0):\n",
    "                model['entry_exit'].iloc[x] = model['signal_change'].iloc[x-1]\n"
   ]
  },
  {
   "cell_type": "code",
   "execution_count": 13,
   "metadata": {
    "colab": {
     "base_uri": "https://localhost:8080/",
     "height": 1000
    },
    "colab_type": "code",
    "collapsed": false,
    "id": "8M4khYD7TelG",
    "jupyter": {
     "outputs_hidden": false
    },
    "outputId": "05f4cf43-5ebd-4654-9806-00894118795f",
    "pycharm": {
     "name": "#%%\n"
    }
   },
   "outputs": [
    {
     "name": "stdout",
     "output_type": "stream",
     "text": [
      "51 EMA only models generated!\n",
      "\n",
      "51 SMA only models generated!\n",
      "\n",
      "51 Fast EMA/Slow SMA models generated!\n",
      "\n",
      "51 Fast SMA/Slow EMA models generated!\n"
     ]
    }
   ],
   "source": [
    "# Processing models using only the EMA curves\n",
    "ema_model_collection = {}\n",
    "serial_number = 1\n",
    "for slow_ma in range(slow_ema_min, slow_ema_max+1, ma_increment):\n",
    "    for fast_ma in range(fast_ema_min, fast_ema_max+1, ma_increment):\n",
    "        if (slow_ma - fast_ma) < min_ma_gap: break\n",
    "        if verbose_models: print('Processing model with fast_ema of', fast_ma, 'and slow_ema of', slow_ma)\n",
    "        model_tag = 'EMA_' + str(serial_number).zfill(3) + '_FastEMA_' + str(fast_ma).zfill(3) + '_SlowEMA_' + str(slow_ma).zfill(3)\n",
    "        serial_number = serial_number + 1\n",
    "        trading_model = model_template.copy()\n",
    "        populate_indicators(trading_model)\n",
    "        trading_model = trading_model[model_start_date:model_end_date]\n",
    "        populate_signals(trading_model, 'ema_change')\n",
    "        ema_model_collection[model_tag] = trading_model.copy()\n",
    "        if verbose_models: print('Model', model_tag, 'added to the trading model collection.')\n",
    "print(len(ema_model_collection), 'EMA only models generated!')\n",
    "\n",
    "# Processing models using only the SMA curves\n",
    "print()\n",
    "sma_model_collection = {}\n",
    "serial_number = 1\n",
    "for slow_ma in range(slow_sma_min, slow_sma_max+1, ma_increment):\n",
    "    for fast_ma in range(fast_sma_min, fast_sma_max+1, ma_increment):\n",
    "        if (slow_ma - fast_ma) < min_ma_gap: break\n",
    "        if verbose_models: print('Processing model with fast_sma of', fast_ma, 'and slow_sma of', slow_ma)\n",
    "        model_tag = 'SMA_' + str(serial_number).zfill(3) + '_FastSMA_' + str(fast_ma).zfill(3) + '_SlowSMA_' + str(slow_ma).zfill(3)\n",
    "        serial_number = serial_number + 1\n",
    "        trading_model = model_template.copy()\n",
    "        populate_indicators(trading_model)\n",
    "        trading_model = trading_model[model_start_date:model_end_date]\n",
    "        populate_signals(trading_model, 'sma_change')\n",
    "        sma_model_collection[model_tag] = trading_model.copy()\n",
    "        if verbose_models: print('Model', model_tag, 'added to the trading model collection.')\n",
    "print(len(sma_model_collection), 'SMA only models generated!')\n",
    "\n",
    "# Processing models using fast EMA and slow SMA curves\n",
    "print()\n",
    "fast_ema_slow_sma_models = {}\n",
    "serial_number = 1\n",
    "for slow_ma in range(slow_sma_min, slow_sma_max+1, ma_increment):\n",
    "    for fast_ma in range(fast_ema_min, fast_ema_max+1, ma_increment):\n",
    "        if (slow_ma - fast_ma) < min_ma_gap: break\n",
    "        if verbose_models: print('Processing model with fast_ema of', fast_ma, 'and slow_sma of', slow_ma)\n",
    "        model_tag = 'Mixed_' + str(serial_number).zfill(3) + '_FastEMA_' + str(fast_ma).zfill(3) + '_SlowSMA_' + str(slow_ma).zfill(3)\n",
    "        serial_number = serial_number + 1\n",
    "        trading_model = model_template.copy()\n",
    "        populate_indicators(trading_model)\n",
    "        trading_model = trading_model[model_start_date:model_end_date]\n",
    "        populate_signals(trading_model, 'fastema_slowsma_chg')\n",
    "        fast_ema_slow_sma_models[model_tag] = trading_model.copy()\n",
    "        if verbose_models: print('Model', model_tag, 'added to the trading model collection.')\n",
    "print(len(fast_ema_slow_sma_models), 'Fast EMA/Slow SMA models generated!')\n",
    "\n",
    "# Processing models using fast SMA and slow EMA curves\n",
    "print()\n",
    "fast_sma_slow_ema_models = {}\n",
    "serial_number = 1\n",
    "for slow_ma in range(slow_ema_min, slow_ema_max+1, ma_increment):\n",
    "    for fast_ma in range(fast_sma_min, fast_sma_max+1, ma_increment):\n",
    "        if (slow_ma - fast_ma) < min_ma_gap: break\n",
    "        if verbose_models: print('Processing model with fast_sma of', fast_ma, 'and slow_ema of', slow_ma)\n",
    "        model_tag = 'Mixed_' + str(serial_number).zfill(3) + '_FastSMA_' + str(fast_ma).zfill(3) + '_SlowEMA_' + str(slow_ma).zfill(3)\n",
    "        serial_number = serial_number + 1\n",
    "        trading_model = model_template.copy()\n",
    "        populate_indicators(trading_model)\n",
    "        trading_model = trading_model[model_start_date:model_end_date]\n",
    "        populate_signals(trading_model, 'fastsma_slowema_chg')\n",
    "        fast_sma_slow_ema_models[model_tag] = trading_model.copy()\n",
    "        if verbose_models: print('Model', model_tag, 'added to the trading model collection.')\n",
    "print(len(fast_sma_slow_ema_models), 'Fast SMA/Slow EMA models generated!')\n"
   ]
  },
  {
   "cell_type": "code",
   "execution_count": 14,
   "metadata": {
    "colab": {
     "base_uri": "https://localhost:8080/",
     "height": 1000
    },
    "colab_type": "code",
    "collapsed": false,
    "id": "327CZKmtTelL",
    "jupyter": {
     "outputs_hidden": false
    },
    "outputId": "b353b49d-0281-4aa7-a530-6747c166eae5",
    "pycharm": {
     "name": "#%%\n"
    }
   },
   "outputs": [],
   "source": [
    "# List the entry/exit points for each model\n",
    "def list_model_entry_exit(model_collection):\n",
    "    for model_name in model_collection:\n",
    "        print('List the signal change and entry/exit points for', model_name)\n",
    "        print(model_collection[model_name][(model_collection[model_name].signal_change != 0) | (model_collection[model_name].entry_exit != 0)])\n",
    "        print()"
   ]
  },
  {
   "cell_type": "code",
   "execution_count": 15,
   "metadata": {
    "collapsed": false,
    "jupyter": {
     "outputs_hidden": false
    },
    "pycharm": {
     "name": "#%%\n"
    }
   },
   "outputs": [],
   "source": [
    "if verbose_models: list_model_entry_exit(ema_model_collection)"
   ]
  },
  {
   "cell_type": "code",
   "execution_count": 16,
   "metadata": {
    "collapsed": false,
    "jupyter": {
     "outputs_hidden": false
    },
    "pycharm": {
     "name": "#%%\n"
    }
   },
   "outputs": [],
   "source": [
    "if verbose_models: list_model_entry_exit(sma_model_collection)"
   ]
  },
  {
   "cell_type": "code",
   "execution_count": 17,
   "metadata": {},
   "outputs": [],
   "source": [
    "if verbose_models: list_model_entry_exit(fast_ema_slow_sma_models)"
   ]
  },
  {
   "cell_type": "code",
   "execution_count": 18,
   "metadata": {},
   "outputs": [],
   "source": [
    "if verbose_models: list_model_entry_exit(fast_sma_slow_ema_models)"
   ]
  },
  {
   "cell_type": "code",
   "execution_count": 19,
   "metadata": {
    "colab": {
     "base_uri": "https://localhost:8080/",
     "height": 1000
    },
    "colab_type": "code",
    "collapsed": false,
    "id": "XEyJXVxcTelS",
    "jupyter": {
     "outputs_hidden": false
    },
    "outputId": "c74ac3e9-fbd3-4e73-8294-f12d0cce88dc",
    "pycharm": {
     "name": "#%%\n"
    }
   },
   "outputs": [],
   "source": [
    "def draw_model_graphs(model_name, trade_model, fast_ma_curve='fast_ema', slow_ma_curve='slow_ema'):\n",
    "    graph_data = trade_model.copy()\n",
    "    title_string = \"Moving Average Crossover Model for \" + model_name\n",
    "    fig = plt.figure(figsize=(16,9))\n",
    "    ylabel = stock_symbol + ' price in $'\n",
    "    ax1 = fig.add_subplot(111, ylabel=ylabel, title=title_string)\n",
    "    graph_data[fast_ma_curve].plot(ax=ax1, color='b', lw=2.)\n",
    "    graph_data[slow_ma_curve].plot(ax=ax1, color='r', lw=2.)\n",
    "    graph_data['close_price'].plot(ax=ax1, color='g')\n",
    "    ax1.plot(graph_data.loc[graph_data.entry_exit == 1].index, graph_data.close_price[graph_data.entry_exit == 1], '^', markersize=7, color='k',label='buy')\n",
    "    ax1.plot(graph_data.loc[graph_data.entry_exit == -1].index, graph_data.close_price[graph_data.entry_exit == -1], 'v', markersize=7, color='k',label='sell')\n",
    "    plt.legend(loc='upper left')\n",
    "    plt.show()"
   ]
  },
  {
   "cell_type": "code",
   "execution_count": 20,
   "metadata": {
    "collapsed": false,
    "jupyter": {
     "outputs_hidden": false
    },
    "pycharm": {
     "name": "#%%\n"
    }
   },
   "outputs": [],
   "source": [
    "if verbose_graphs:\n",
    "    for tag in ema_model_collection:\n",
    "        draw_model_graphs(tag, ema_model_collection[tag], 'fast_ema', 'slow_ema')"
   ]
  },
  {
   "cell_type": "code",
   "execution_count": 21,
   "metadata": {
    "collapsed": false,
    "jupyter": {
     "outputs_hidden": false
    },
    "pycharm": {
     "name": "#%%\n"
    }
   },
   "outputs": [],
   "source": [
    "if verbose_graphs:\n",
    "    for tag in sma_model_collection:\n",
    "        draw_model_graphs(tag, sma_model_collection[tag], 'fast_sma', 'slow_sma')"
   ]
  },
  {
   "cell_type": "code",
   "execution_count": 22,
   "metadata": {},
   "outputs": [],
   "source": [
    "if verbose_graphs:\n",
    "    for tag in fast_ema_slow_sma_models:\n",
    "        draw_model_graphs(tag, fast_ema_slow_sma_models[tag], 'fast_ema', 'slow_sma')"
   ]
  },
  {
   "cell_type": "code",
   "execution_count": 23,
   "metadata": {},
   "outputs": [],
   "source": [
    "if verbose_graphs:\n",
    "    for tag in fast_sma_slow_ema_models:\n",
    "        draw_model_graphs(tag, fast_sma_slow_ema_models[tag], 'fast_sma', 'slow_ema')"
   ]
  },
  {
   "cell_type": "markdown",
   "metadata": {
    "colab_type": "text",
    "id": "wzTQaZkeTeld"
   },
   "source": [
    "## Task 4. Back-test Model"
   ]
  },
  {
   "cell_type": "code",
   "execution_count": 24,
   "metadata": {
    "colab": {},
    "colab_type": "code",
    "collapsed": false,
    "id": "Q1xZWksnTelr",
    "jupyter": {
     "outputs_hidden": false
    },
    "pycharm": {
     "name": "#%%\n"
    }
   },
   "outputs": [],
   "source": [
    "def trading_portfolio_generation(initial_fund, trade_model):\n",
    "    # Construct a portfolio to track the transactions and returns\n",
    "    portfolio = pd.DataFrame(index=trade_model.index, columns=['trade_action', 'qty_onhand', 'cost_basis', 'sold_transaction', 'gain_loss', 'cash_onhand', 'position_value', 'total_position', 'accumu_return'])\n",
    "    portfolio.iloc[0]['trade_action'] = 0\n",
    "    portfolio.iloc[0]['qty_onhand'] = 0\n",
    "    portfolio.iloc[0]['cost_basis'] = 0.00\n",
    "    portfolio.iloc[0]['sold_transaction'] = 0.00\n",
    "    portfolio.iloc[0]['gain_loss'] = 0.00\n",
    "    portfolio.iloc[0]['cash_onhand'] = initial_capital\n",
    "    portfolio.iloc[0]['position_value'] = 0.00\n",
    "    portfolio.iloc[0]['total_position'] = initial_capital\n",
    "    portfolio.iloc[0]['accumu_return'] = portfolio.iloc[0]['total_position'] - initial_fund\n",
    "    recent_cost = 0\n",
    "\n",
    "    # The conditional parameters below determine how the trading strategy will be carried out\n",
    "    for i in range(1, len(portfolio)):\n",
    "        if (trade_model.iloc[i]['entry_exit'] == 1) and (portfolio.iloc[i-1]['qty_onhand'] == 0):\n",
    "            portfolio.iloc[i]['trade_action'] = 1\n",
    "            portfolio.iloc[i]['qty_onhand'] = portfolio.iloc[i-1]['qty_onhand'] + portfolio.iloc[i]['trade_action']\n",
    "            portfolio.iloc[i]['cost_basis'] = trade_model.iloc[i]['open_price'] * portfolio.iloc[i]['trade_action']\n",
    "            portfolio.iloc[i]['sold_transaction'] = 0.00\n",
    "            portfolio.iloc[i]['gain_loss'] = 0.00\n",
    "            portfolio.iloc[i]['cash_onhand'] = portfolio.iloc[i-1]['cash_onhand'] - portfolio.iloc[i]['cost_basis']\n",
    "            recent_cost = trade_model.iloc[i]['open_price'] * portfolio.iloc[i]['trade_action']\n",
    "            if verbose_portfolios: print('BOUGHT QTY:', portfolio.iloc[i]['trade_action'], 'on', portfolio.index[i], 'at the price of', trade_model.iloc[i]['open_price'])\n",
    "        elif (trade_model.iloc[i]['entry_exit'] == -1) and (portfolio.iloc[i-1]['qty_onhand'] > 0):\n",
    "            portfolio.iloc[i]['trade_action'] = -1\n",
    "            portfolio.iloc[i]['qty_onhand'] = portfolio.iloc[i-1]['qty_onhand'] + portfolio.iloc[i]['trade_action']\n",
    "            portfolio.iloc[i]['cost_basis'] = 0.00\n",
    "            portfolio.iloc[i]['sold_transaction'] = trade_model.iloc[i]['open_price'] * portfolio.iloc[i]['trade_action'] * -1\n",
    "            portfolio.iloc[i]['gain_loss'] = (recent_cost + (trade_model.iloc[i]['open_price'] * portfolio.iloc[i]['trade_action'])) * -1\n",
    "            portfolio.iloc[i]['cash_onhand'] = portfolio.iloc[i-1]['cash_onhand'] + portfolio.iloc[i]['sold_transaction']\n",
    "            recent_cost = 0.00\n",
    "            if verbose_portfolios: print('SOLD QTY:', portfolio.iloc[i]['trade_action'], 'on', portfolio.index[i], 'at the price of', trade_model.iloc[i]['open_price'])\n",
    "        else:\n",
    "            portfolio.iloc[i]['trade_action'] = 0\n",
    "            portfolio.iloc[i]['qty_onhand'] = portfolio.iloc[i-1]['qty_onhand']\n",
    "            portfolio.iloc[i]['cost_basis'] = portfolio.iloc[i-1]['cost_basis']\n",
    "            portfolio.iloc[i]['sold_transaction'] = 0.00\n",
    "            portfolio.iloc[i]['gain_loss'] = 0.00\n",
    "            portfolio.iloc[i]['cash_onhand'] = portfolio.iloc[i-1]['cash_onhand']\n",
    "        portfolio.iloc[i]['position_value'] = trade_model.iloc[i]['close_price'] * portfolio.iloc[i]['qty_onhand']\n",
    "        portfolio.iloc[i]['total_position'] = portfolio.iloc[i]['cash_onhand'] + portfolio.iloc[i]['position_value']\n",
    "        portfolio.iloc[i]['accumu_return'] = portfolio.iloc[i]['total_position'] - initial_fund\n",
    "\n",
    "    return portfolio"
   ]
  },
  {
   "cell_type": "code",
   "execution_count": 25,
   "metadata": {
    "colab": {
     "base_uri": "https://localhost:8080/",
     "height": 1000
    },
    "colab_type": "code",
    "collapsed": false,
    "id": "mOsqVrfRTelw",
    "jupyter": {
     "outputs_hidden": false
    },
    "outputId": "17950f55-4566-48b2-dde6-0974c6e45966",
    "pycharm": {
     "name": "#%%\n"
    }
   },
   "outputs": [],
   "source": [
    "def generate_portfolio_and_performance(model_collection):\n",
    "    # Initialize a dictionary for tracking portfolios for all models\n",
    "    portfolio_collection = {}\n",
    "    # Initialize a dataframe for reporting model performance summary\n",
    "    performance_summary = pd.DataFrame(columns=['model_name','return_value','return_percent'])\n",
    "\n",
    "    for model_name in model_collection:\n",
    "        if verbose_portfolios: print('Processing portfolio for model:', model_name)\n",
    "        portfolio_collection[model_name] = trading_portfolio_generation(initial_capital, model_collection[model_name])\n",
    "        trade_transactions = portfolio_collection[model_name][portfolio_collection[model_name].trade_action != 0]\n",
    "        if verbose_portfolios: print(trade_transactions)\n",
    "        if verbose_portfolios: print('Accumulated profit/loss for one share of stock with initial capital of $%.0f at the end of modeling period: $%.2f' % (initial_capital, portfolio_collection[model_name].accumu_return[-1]))\n",
    "        if initial_capital != 0:\n",
    "            return_percentage = portfolio_collection[model_name].accumu_return[-1] / initial_capital * 100\n",
    "            if verbose_portfolios: print('Accumulated return percentage based on the initial capital investment: %.2f%%' % return_percentage)\n",
    "        else:\n",
    "            return_percentage = None\n",
    "        if trade_transactions.iloc[-1]['trade_action'] == 1:\n",
    "            if verbose_portfolios: print('The current status of the model is:', 'Holding a position since', trade_transactions.index.tolist()[-1], '\\n')\n",
    "        else:\n",
    "            if verbose_portfolios: print('The current status of the model is:', 'Waiting to enter since', trade_transactions.index.tolist()[-1], '\\n')\n",
    "        performance_summary = performance_summary.append({'model_name': model_name, 'return_value': portfolio_collection[model_name].accumu_return[-1], 'return_percent': return_percentage}, ignore_index=True)\n",
    "    performance_summary.sort_values(by=['return_value'], inplace=True, ascending=False)\n",
    "    return portfolio_collection, performance_summary"
   ]
  },
  {
   "cell_type": "code",
   "execution_count": 26,
   "metadata": {
    "collapsed": false,
    "jupyter": {
     "outputs_hidden": false
    },
    "pycharm": {
     "name": "#%%\n"
    }
   },
   "outputs": [
    {
     "name": "stdout",
     "output_type": "stream",
     "text": [
      "51 trading transaction portfolios generated.\n",
      "51 profit/loss performance summaries generated.\n"
     ]
    }
   ],
   "source": [
    "ema_portfolio_collection, ema_performance_summary = generate_portfolio_and_performance(ema_model_collection)\n",
    "print(len(ema_portfolio_collection), 'trading transaction portfolios generated.')\n",
    "print(len(ema_performance_summary), 'profit/loss performance summaries generated.')"
   ]
  },
  {
   "cell_type": "code",
   "execution_count": 27,
   "metadata": {
    "collapsed": false,
    "jupyter": {
     "outputs_hidden": false
    },
    "pycharm": {
     "name": "#%%\n"
    }
   },
   "outputs": [
    {
     "name": "stdout",
     "output_type": "stream",
     "text": [
      "51 trading transaction portfolios generated.\n",
      "51 profit/loss performance summaries generated.\n"
     ]
    }
   ],
   "source": [
    "sma_portfolio_collection, sma_performance_summary = generate_portfolio_and_performance(sma_model_collection)\n",
    "print(len(sma_portfolio_collection), 'trading transaction portfolios generated.')\n",
    "print(len(sma_performance_summary), 'profit/loss performance summaries generated.')"
   ]
  },
  {
   "cell_type": "code",
   "execution_count": 28,
   "metadata": {},
   "outputs": [
    {
     "name": "stdout",
     "output_type": "stream",
     "text": [
      "51 trading transaction portfolios generated.\n",
      "51 profit/loss performance summaries generated.\n"
     ]
    }
   ],
   "source": [
    "fast_ema_slow_sma_portfolios, fast_ema_slow_sma_performance = generate_portfolio_and_performance(fast_ema_slow_sma_models)\n",
    "print(len(fast_ema_slow_sma_portfolios), 'trading transaction portfolios generated.')\n",
    "print(len(fast_ema_slow_sma_performance), 'profit/loss performance summaries generated.')"
   ]
  },
  {
   "cell_type": "code",
   "execution_count": 29,
   "metadata": {},
   "outputs": [
    {
     "name": "stdout",
     "output_type": "stream",
     "text": [
      "51 trading transaction portfolios generated.\n",
      "51 profit/loss performance summaries generated.\n"
     ]
    }
   ],
   "source": [
    "fast_sma_slow_ema_portfolios, fast_sma_slow_ema_performance = generate_portfolio_and_performance(fast_sma_slow_ema_models)\n",
    "print(len(fast_sma_slow_ema_portfolios), 'trading transaction portfolios generated.')\n",
    "print(len(fast_sma_slow_ema_performance), 'profit/loss performance summaries generated.')"
   ]
  },
  {
   "cell_type": "code",
   "execution_count": 30,
   "metadata": {
    "collapsed": false,
    "jupyter": {
     "outputs_hidden": false
    },
    "pycharm": {
     "name": "#%%\n"
    }
   },
   "outputs": [
    {
     "data": {
      "text/html": [
       "<div>\n",
       "<style scoped>\n",
       "    .dataframe tbody tr th:only-of-type {\n",
       "        vertical-align: middle;\n",
       "    }\n",
       "\n",
       "    .dataframe tbody tr th {\n",
       "        vertical-align: top;\n",
       "    }\n",
       "\n",
       "    .dataframe thead th {\n",
       "        text-align: right;\n",
       "    }\n",
       "</style>\n",
       "<table border=\"1\" class=\"dataframe\">\n",
       "  <thead>\n",
       "    <tr style=\"text-align: right;\">\n",
       "      <th></th>\n",
       "      <th>model_name</th>\n",
       "      <th>return_value</th>\n",
       "      <th>return_percent</th>\n",
       "    </tr>\n",
       "  </thead>\n",
       "  <tbody>\n",
       "    <tr>\n",
       "      <th>44</th>\n",
       "      <td>EMA_045_FastEMA_030_SlowEMA_055</td>\n",
       "      <td>78.960</td>\n",
       "      <td>None</td>\n",
       "    </tr>\n",
       "    <tr>\n",
       "      <th>50</th>\n",
       "      <td>EMA_051_FastEMA_030_SlowEMA_060</td>\n",
       "      <td>68.895</td>\n",
       "      <td>None</td>\n",
       "    </tr>\n",
       "    <tr>\n",
       "      <th>37</th>\n",
       "      <td>EMA_038_FastEMA_025_SlowEMA_050</td>\n",
       "      <td>62.380</td>\n",
       "      <td>None</td>\n",
       "    </tr>\n",
       "    <tr>\n",
       "      <th>32</th>\n",
       "      <td>EMA_033_FastEMA_030_SlowEMA_045</td>\n",
       "      <td>60.850</td>\n",
       "      <td>None</td>\n",
       "    </tr>\n",
       "    <tr>\n",
       "      <th>38</th>\n",
       "      <td>EMA_039_FastEMA_030_SlowEMA_050</td>\n",
       "      <td>59.020</td>\n",
       "      <td>None</td>\n",
       "    </tr>\n",
       "  </tbody>\n",
       "</table>\n",
       "</div>"
      ],
      "text/plain": [
       "                         model_name  return_value return_percent\n",
       "44  EMA_045_FastEMA_030_SlowEMA_055        78.960           None\n",
       "50  EMA_051_FastEMA_030_SlowEMA_060        68.895           None\n",
       "37  EMA_038_FastEMA_025_SlowEMA_050        62.380           None\n",
       "32  EMA_033_FastEMA_030_SlowEMA_045        60.850           None\n",
       "38  EMA_039_FastEMA_030_SlowEMA_050        59.020           None"
      ]
     },
     "execution_count": 30,
     "metadata": {},
     "output_type": "execute_result"
    }
   ],
   "source": [
    "# Display the top models from EMA-only performance summary\n",
    "ema_performance_summary.head()"
   ]
  },
  {
   "cell_type": "code",
   "execution_count": 31,
   "metadata": {
    "colab": {
     "base_uri": "https://localhost:8080/",
     "height": 544
    },
    "colab_type": "code",
    "id": "7ErV8f-6Tely",
    "outputId": "79745f23-239b-43bc-ab91-4fde0a9947cb"
   },
   "outputs": [
    {
     "data": {
      "text/html": [
       "<div>\n",
       "<style scoped>\n",
       "    .dataframe tbody tr th:only-of-type {\n",
       "        vertical-align: middle;\n",
       "    }\n",
       "\n",
       "    .dataframe tbody tr th {\n",
       "        vertical-align: top;\n",
       "    }\n",
       "\n",
       "    .dataframe thead th {\n",
       "        text-align: right;\n",
       "    }\n",
       "</style>\n",
       "<table border=\"1\" class=\"dataframe\">\n",
       "  <thead>\n",
       "    <tr style=\"text-align: right;\">\n",
       "      <th></th>\n",
       "      <th>model_name</th>\n",
       "      <th>return_value</th>\n",
       "      <th>return_percent</th>\n",
       "    </tr>\n",
       "  </thead>\n",
       "  <tbody>\n",
       "    <tr>\n",
       "      <th>50</th>\n",
       "      <td>SMA_051_FastSMA_030_SlowSMA_060</td>\n",
       "      <td>97.390</td>\n",
       "      <td>None</td>\n",
       "    </tr>\n",
       "    <tr>\n",
       "      <th>2</th>\n",
       "      <td>SMA_003_FastSMA_010_SlowSMA_015</td>\n",
       "      <td>69.461</td>\n",
       "      <td>None</td>\n",
       "    </tr>\n",
       "    <tr>\n",
       "      <th>44</th>\n",
       "      <td>SMA_045_FastSMA_030_SlowSMA_055</td>\n",
       "      <td>69.400</td>\n",
       "      <td>None</td>\n",
       "    </tr>\n",
       "    <tr>\n",
       "      <th>43</th>\n",
       "      <td>SMA_044_FastSMA_025_SlowSMA_055</td>\n",
       "      <td>67.490</td>\n",
       "      <td>None</td>\n",
       "    </tr>\n",
       "    <tr>\n",
       "      <th>49</th>\n",
       "      <td>SMA_050_FastSMA_025_SlowSMA_060</td>\n",
       "      <td>67.000</td>\n",
       "      <td>None</td>\n",
       "    </tr>\n",
       "  </tbody>\n",
       "</table>\n",
       "</div>"
      ],
      "text/plain": [
       "                         model_name  return_value return_percent\n",
       "50  SMA_051_FastSMA_030_SlowSMA_060        97.390           None\n",
       "2   SMA_003_FastSMA_010_SlowSMA_015        69.461           None\n",
       "44  SMA_045_FastSMA_030_SlowSMA_055        69.400           None\n",
       "43  SMA_044_FastSMA_025_SlowSMA_055        67.490           None\n",
       "49  SMA_050_FastSMA_025_SlowSMA_060        67.000           None"
      ]
     },
     "execution_count": 31,
     "metadata": {},
     "output_type": "execute_result"
    }
   ],
   "source": [
    "# Display the top models from SMA-only performance summary\n",
    "sma_performance_summary.head()"
   ]
  },
  {
   "cell_type": "code",
   "execution_count": 32,
   "metadata": {},
   "outputs": [
    {
     "data": {
      "text/html": [
       "<div>\n",
       "<style scoped>\n",
       "    .dataframe tbody tr th:only-of-type {\n",
       "        vertical-align: middle;\n",
       "    }\n",
       "\n",
       "    .dataframe tbody tr th {\n",
       "        vertical-align: top;\n",
       "    }\n",
       "\n",
       "    .dataframe thead th {\n",
       "        text-align: right;\n",
       "    }\n",
       "</style>\n",
       "<table border=\"1\" class=\"dataframe\">\n",
       "  <thead>\n",
       "    <tr style=\"text-align: right;\">\n",
       "      <th></th>\n",
       "      <th>model_name</th>\n",
       "      <th>return_value</th>\n",
       "      <th>return_percent</th>\n",
       "    </tr>\n",
       "  </thead>\n",
       "  <tbody>\n",
       "    <tr>\n",
       "      <th>0</th>\n",
       "      <td>Mixed_001_FastEMA_005_SlowSMA_010</td>\n",
       "      <td>100.810</td>\n",
       "      <td>None</td>\n",
       "    </tr>\n",
       "    <tr>\n",
       "      <th>50</th>\n",
       "      <td>Mixed_051_FastEMA_030_SlowSMA_060</td>\n",
       "      <td>63.860</td>\n",
       "      <td>None</td>\n",
       "    </tr>\n",
       "    <tr>\n",
       "      <th>49</th>\n",
       "      <td>Mixed_050_FastEMA_025_SlowSMA_060</td>\n",
       "      <td>61.070</td>\n",
       "      <td>None</td>\n",
       "    </tr>\n",
       "    <tr>\n",
       "      <th>5</th>\n",
       "      <td>Mixed_006_FastEMA_015_SlowSMA_020</td>\n",
       "      <td>59.021</td>\n",
       "      <td>None</td>\n",
       "    </tr>\n",
       "    <tr>\n",
       "      <th>45</th>\n",
       "      <td>Mixed_046_FastEMA_005_SlowSMA_060</td>\n",
       "      <td>48.860</td>\n",
       "      <td>None</td>\n",
       "    </tr>\n",
       "  </tbody>\n",
       "</table>\n",
       "</div>"
      ],
      "text/plain": [
       "                           model_name  return_value return_percent\n",
       "0   Mixed_001_FastEMA_005_SlowSMA_010       100.810           None\n",
       "50  Mixed_051_FastEMA_030_SlowSMA_060        63.860           None\n",
       "49  Mixed_050_FastEMA_025_SlowSMA_060        61.070           None\n",
       "5   Mixed_006_FastEMA_015_SlowSMA_020        59.021           None\n",
       "45  Mixed_046_FastEMA_005_SlowSMA_060        48.860           None"
      ]
     },
     "execution_count": 32,
     "metadata": {},
     "output_type": "execute_result"
    }
   ],
   "source": [
    "# Display the top models from Fast EMA/Slow SMA performance summary\n",
    "fast_ema_slow_sma_performance.head()"
   ]
  },
  {
   "cell_type": "code",
   "execution_count": 33,
   "metadata": {},
   "outputs": [
    {
     "data": {
      "text/html": [
       "<div>\n",
       "<style scoped>\n",
       "    .dataframe tbody tr th:only-of-type {\n",
       "        vertical-align: middle;\n",
       "    }\n",
       "\n",
       "    .dataframe tbody tr th {\n",
       "        vertical-align: top;\n",
       "    }\n",
       "\n",
       "    .dataframe thead th {\n",
       "        text-align: right;\n",
       "    }\n",
       "</style>\n",
       "<table border=\"1\" class=\"dataframe\">\n",
       "  <thead>\n",
       "    <tr style=\"text-align: right;\">\n",
       "      <th></th>\n",
       "      <th>model_name</th>\n",
       "      <th>return_value</th>\n",
       "      <th>return_percent</th>\n",
       "    </tr>\n",
       "  </thead>\n",
       "  <tbody>\n",
       "    <tr>\n",
       "      <th>20</th>\n",
       "      <td>Mixed_021_FastSMA_030_SlowEMA_035</td>\n",
       "      <td>112.00</td>\n",
       "      <td>None</td>\n",
       "    </tr>\n",
       "    <tr>\n",
       "      <th>25</th>\n",
       "      <td>Mixed_026_FastSMA_025_SlowEMA_040</td>\n",
       "      <td>99.79</td>\n",
       "      <td>None</td>\n",
       "    </tr>\n",
       "    <tr>\n",
       "      <th>19</th>\n",
       "      <td>Mixed_020_FastSMA_025_SlowEMA_035</td>\n",
       "      <td>84.82</td>\n",
       "      <td>None</td>\n",
       "    </tr>\n",
       "    <tr>\n",
       "      <th>26</th>\n",
       "      <td>Mixed_027_FastSMA_030_SlowEMA_040</td>\n",
       "      <td>79.89</td>\n",
       "      <td>None</td>\n",
       "    </tr>\n",
       "    <tr>\n",
       "      <th>48</th>\n",
       "      <td>Mixed_049_FastSMA_020_SlowEMA_060</td>\n",
       "      <td>76.35</td>\n",
       "      <td>None</td>\n",
       "    </tr>\n",
       "  </tbody>\n",
       "</table>\n",
       "</div>"
      ],
      "text/plain": [
       "                           model_name  return_value return_percent\n",
       "20  Mixed_021_FastSMA_030_SlowEMA_035        112.00           None\n",
       "25  Mixed_026_FastSMA_025_SlowEMA_040         99.79           None\n",
       "19  Mixed_020_FastSMA_025_SlowEMA_035         84.82           None\n",
       "26  Mixed_027_FastSMA_030_SlowEMA_040         79.89           None\n",
       "48  Mixed_049_FastSMA_020_SlowEMA_060         76.35           None"
      ]
     },
     "execution_count": 33,
     "metadata": {},
     "output_type": "execute_result"
    }
   ],
   "source": [
    "# Display the top models from Fast SMA/Slow EMA performance summary\n",
    "fast_sma_slow_ema_performance.head()"
   ]
  },
  {
   "cell_type": "code",
   "execution_count": 34,
   "metadata": {
    "collapsed": false,
    "jupyter": {
     "outputs_hidden": false
    },
    "pycharm": {
     "name": "#%%\n"
    }
   },
   "outputs": [],
   "source": [
    "# Display the entry/exit signals and transactions from the top model\n",
    "def display_signals_transactions(model_name, portfolio_collection, model_collection):\n",
    "    cols_to_display = ['open_price','close_price','fast_ema','slow_ema','fast_sma','slow_sma','trade_signal','signal_change','entry_exit']\n",
    "    print('The transactions from the top model %s:' % model_name)\n",
    "    print(portfolio_collection[model_name][portfolio_collection[model_name].trade_action != 0])\n",
    "    print()\n",
    "    print('The trading signal changes from the top model %s:' % model_name)\n",
    "    print(model_collection[model_name][(model_collection[model_name].signal_change != 0) | (model_collection[model_name].entry_exit != 0)][cols_to_display])"
   ]
  },
  {
   "cell_type": "code",
   "execution_count": 35,
   "metadata": {},
   "outputs": [
    {
     "name": "stdout",
     "output_type": "stream",
     "text": [
      "The transactions from the top model Mixed_021_FastSMA_030_SlowEMA_035:\n",
      "           trade_action qty_onhand cost_basis sold_transaction gain_loss cash_onhand position_value total_position accumu_return\n",
      "date                                                                                                                            \n",
      "2019-03-22            1          1     195.34                0         0     -195.34         191.05          -4.29         -4.29\n",
      "2019-04-01           -1          0          0           191.64      -3.7        -3.7              0           -3.7          -3.7\n",
      "2019-06-17            1          1      192.9                0         0      -196.6         193.89          -2.71         -2.71\n",
      "2019-07-19           -1          0          0           205.79     12.89        9.19              0           9.19          9.19\n",
      "2019-09-11            1          1     218.07                0         0     -208.88         223.59          14.71         14.71\n",
      "2019-09-30           -1          0          0            220.9      2.83       12.02              0          12.02         12.02\n",
      "2019-10-29            1          1     248.97                0         0     -236.95         243.29           6.34          6.34\n",
      "2019-11-13           -1          0          0           261.13     12.16       24.18              0          24.18         24.18\n",
      "2020-01-10            1          1      310.6                0         0     -286.42         310.33          23.91         23.91\n",
      "2020-01-21           -1          0          0           317.19      6.59       30.77              0          30.77         30.77\n",
      "2020-04-03            1          1      242.8                0         0     -212.03         241.41          29.38         29.38\n",
      "2020-05-27           -1          0          0           316.14     73.34      104.11              0         104.11        104.11\n",
      "2020-05-28            1          1     316.77                0         0     -212.66         318.25         105.59        105.59\n",
      "2020-06-03           -1          0          0           324.66      7.89         112              0            112           112\n",
      "\n",
      "The trading signal changes from the top model Mixed_021_FastSMA_030_SlowEMA_035:\n",
      "            open_price  close_price    fast_ema    slow_ema    fast_sma    slow_sma  trade_signal  signal_change  entry_exit\n",
      "date                                                                                                                        \n",
      "2019-03-08     170.320       172.91  170.393780  169.936465  170.318000  168.061143           0.0           -1.0         0.0\n",
      "2019-03-21     190.020       195.09  177.534523  176.446426  176.403000  175.563429           1.0            1.0         0.0\n",
      "2019-03-22     195.340       191.05  178.406845  177.258748  177.073333  176.266571           1.0            0.0         1.0\n",
      "2019-03-29     189.830       189.95  181.296351  180.076941  180.105333  178.710571           0.0           -1.0         0.0\n",
      "2019-04-01     191.640       191.24  181.938052  180.697660  180.799333  179.305714           0.0            0.0        -1.0\n",
      "2019-06-14     191.545       192.74  189.080283  189.296743  188.922333  191.340571           1.0            1.0         0.0\n",
      "2019-06-17     192.900       193.89  189.390590  189.551935  188.327000  191.043143           1.0            0.0         1.0\n",
      "2019-07-18     204.000       205.66  199.220322  198.489625  198.836000  195.826571           0.0           -1.0         0.0\n",
      "2019-07-19     205.790       202.59  199.437721  198.717426  199.415000  196.520571           0.0            0.0        -1.0\n",
      "2019-09-10     213.860       216.70  207.710053  207.067924  206.773000  207.004000           1.0            1.0         0.0\n",
      "2019-09-11     218.070       223.59  208.734566  207.985819  207.266667  207.425429           1.0            0.0         1.0\n",
      "2019-09-27     220.540       218.82  214.854978  213.883495  214.160167  212.563857           0.0           -1.0         0.0\n",
      "2019-09-30     220.900       223.97  215.443044  214.443857  214.742500  213.220429           0.0            0.0        -1.0\n",
      "2019-10-28     247.420       249.05  231.207016  229.420186  229.285000  228.016429           1.0            1.0         0.0\n",
      "2019-10-29     248.970       243.29  231.986564  230.190732  230.038000  228.776143           1.0            0.0         1.0\n",
      "2019-11-12     261.550       261.96  244.293879  241.926076  241.947333  239.049143           0.0           -1.0         0.0\n",
      "2019-11-13     261.130       264.47  245.595564  243.178516  243.464333  240.290286           0.0            0.0        -1.0\n",
      "2020-01-09     307.235       309.63  283.371180  280.556088  280.507000  278.138571           1.0            1.0         0.0\n",
      "2020-01-10     310.600       310.33  285.110459  282.210194  282.041667  279.396857           1.0            0.0         1.0\n",
      "2020-01-17     316.270       318.73  293.608647  290.377624  290.525333  286.748571           0.0           -1.0         0.0\n",
      "2020-01-21     317.190       316.57  295.090025  291.832756  292.225000  288.140857           0.0            0.0        -1.0\n",
      "2020-04-02     240.340       244.93  264.543002  267.647595  266.615000  274.605429           1.0            1.0         0.0\n",
      "2020-04-03     242.800       241.41  263.050551  266.189951  264.227000  272.220857           1.0            0.0         1.0\n",
      "2020-05-26     323.500       316.73  299.211560  296.960417  296.968667  292.522000           0.0           -1.0         0.0\n",
      "2020-05-27     316.140       318.11  300.430814  298.135394  298.004000  294.111714           1.0            1.0        -1.0\n",
      "2020-05-28     316.770       318.25  301.580439  299.252872  299.131333  295.792286           1.0            0.0         1.0\n",
      "2020-06-02     320.745       323.34  305.131288  302.702723  303.021667  300.244286           0.0           -1.0         0.0\n",
      "2020-06-03     324.660       325.12  306.420882  303.948127  304.913333  301.332000           0.0            0.0        -1.0\n",
      "\n"
     ]
    },
    {
     "data": {
      "image/png": "[encoded data removed]",
      "text/plain": [
       "<Figure size 1152x648 with 1 Axes>"
      ]
     },
     "metadata": {},
     "output_type": "display_data"
    }
   ],
   "source": [
    "# Display the details for the top model\n",
    "return_list = [ema_performance_summary.iloc[0]['return_value'], sma_performance_summary.iloc[0]['return_value'], \n",
    "               fast_ema_slow_sma_performance.iloc[0]['return_value'], fast_sma_slow_ema_performance.iloc[0]['return_value']]\n",
    "performance_list = [ema_performance_summary, sma_performance_summary, fast_ema_slow_sma_performance, fast_sma_slow_ema_performance]\n",
    "portfolio_list = [ema_portfolio_collection, sma_portfolio_collection, fast_ema_slow_sma_portfolios, fast_sma_slow_ema_portfolios]\n",
    "model_list = [ema_model_collection, sma_model_collection, fast_ema_slow_sma_models, fast_sma_slow_ema_models]\n",
    "fast_ma_list = ['fast_ema', 'fast_sma', 'fast_ema', 'fast_sma']\n",
    "slow_ma_list = ['slow_ema', 'slow_sma', 'slow_sma', 'slow_ema']\n",
    "top_model_return = max(return_list)\n",
    "top_model_index = return_list.index(top_model_return)\n",
    "top_model_name = performance_list[top_model_index].iloc[0]['model_name']\n",
    "display_signals_transactions(top_model_name, portfolio_list[top_model_index], model_list[top_model_index])\n",
    "print()\n",
    "draw_model_graphs(top_model_name, model_list[top_model_index][top_model_name], fast_ma_list[top_model_index], slow_ma_list[top_model_index])"
   ]
  },
  {
   "cell_type": "markdown",
   "metadata": {
    "colab_type": "text",
    "id": "xc_vWsaSTel4"
   },
   "source": [
    "## Task 5. Evaluate Performance"
   ]
  },
  {
   "cell_type": "code",
   "execution_count": 36,
   "metadata": {
    "colab": {
     "base_uri": "https://localhost:8080/",
     "height": 51
    },
    "colab_type": "code",
    "collapsed": false,
    "id": "YTyOJjYzTel7",
    "jupyter": {
     "outputs_hidden": false
    },
    "outputId": "8ab127f5-5316-4e3a-9908-75f18dd9a2b9",
    "pycharm": {
     "name": "#%%\n"
    }
   },
   "outputs": [
    {
     "name": "stdout",
     "output_type": "stream",
     "text": [
      "The best model found is: Mixed_021_FastSMA_030_SlowEMA_035\n",
      "The best profit/loss for the investing period is: $112.00\n"
     ]
    }
   ],
   "source": [
    "print('The best model found is:', top_model_name)\n",
    "print('The best profit/loss for the investing period is: $%.2f' % top_model_return)\n",
    "if initial_capital != 0:\n",
    "    print('The best return percentage for initial capital is: %.2f%%' % (top_model_return / initial_capital * 100))"
   ]
  },
  {
   "cell_type": "code",
   "execution_count": 37,
   "metadata": {
    "colab": {
     "base_uri": "https://localhost:8080/",
     "height": 34
    },
    "colab_type": "code",
    "id": "aTP_6WyfTemB",
    "outputId": "6cda4cc2-d890-47d5-9a63-43cffd21d72f"
   },
   "outputs": [
    {
     "name": "stdout",
     "output_type": "stream",
     "text": [
      "The performance of the long-only model from day one is: $280.86\n"
     ]
    }
   ],
   "source": [
    "# Calculate the stock's performance for a long-only model\n",
    "model_template = model_template[model_start_date:model_end_date]\n",
    "print('The performance of the long-only model from day one is: $%.2f' %(model_template.iloc[-1]['close_price'] - model_template.iloc[0]['open_price']))"
   ]
  },
  {
   "cell_type": "code",
   "execution_count": 38,
   "metadata": {
    "colab": {
     "base_uri": "https://localhost:8080/",
     "height": 34
    },
    "colab_type": "code",
    "collapsed": false,
    "id": "be1J2gmiTemG",
    "jupyter": {
     "outputs_hidden": false
    },
    "outputId": "28010a58-a8c1-43ae-d6ff-200fc13eb876",
    "pycharm": {
     "name": "#%%\n"
    }
   },
   "outputs": [
    {
     "name": "stdout",
     "output_type": "stream",
     "text": [
      "Total time for the script: 0:08:47.398703\n"
     ]
    }
   ],
   "source": [
    "print ('Total time for the script:',(datetime.now() - startTimeScript))"
   ]
  }
 ],
 "metadata": {
  "colab": {
   "collapsed_sections": [],
   "name": "py_algotrading_ema_crossover_grid_search.ipynb",
   "provenance": []
  },
  "kernelspec": {
   "display_name": "Python 3",
   "language": "python",
   "name": "python3"
  },
  "language_info": {
   "codemirror_mode": {
    "name": "ipython",
    "version": 3
   },
   "file_extension": ".py",
   "mimetype": "text/x-python",
   "name": "python",
   "nbconvert_exporter": "python",
   "pygments_lexer": "ipython3",
   "version": "3.7.6"
  }
 },
 "nbformat": 4,
 "nbformat_minor": 4
}
