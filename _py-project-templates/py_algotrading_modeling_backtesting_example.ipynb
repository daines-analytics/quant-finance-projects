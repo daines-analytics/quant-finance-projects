{
 "cells": [
  {
   "cell_type": "markdown",
   "metadata": {
    "colab_type": "text",
    "id": "nn0Ld1RjTekC"
   },
   "source": [
    "# Algorithmic Trading Model for [Simple Moving Average Crossover] Using Python Version 1\n",
    "### David Lowe\n",
    "### October 28, 2020\n",
    "\n",
    "NOTE: This script is for learning purposes only and does not constitute a recommendation for buying or selling any stock mentioned in this script.\n",
    "\n",
    "SUMMARY: This project aims to construct and test an algorithmic trading model and document the end-to-end steps using a template. We will test trading models with the strategy of [Simple Moving Average Crossover].\n",
    "\n",
    "INTRODUCTION: [SAMPLE PARAGRAPH - This algorithmic trading model examines a series of simple moving average (MA) crossover models via a grid search methodology. For the momentum-based models, the strategy goes long (buys) on the stock when the fast MA curve crosses above the slow MA curve. We will exit the long position when the fast MA curve crosses below the slow MA curve. For the mean-reversion models, we will populate the model using the exact opposite approach.]\n",
    "\n",
    "ANALYSIS: [SAMPLE PARAGRAPH - From this iteration, we analyzed the stock prices for Apple Inc. (AAPL) between January 1, 2019, and September 30, 2020. The best model is momentum-based with a 20-day fast MA and a 10-day slow MA, and it produced a profit of 80.42 per share. The buy-and-hold approach yielded a gain of 77.09 per share.]\n",
    "\n",
    "CONCLUSION: [SAMPLE PARAGRAPH - For the stock of AAPL during the modeling time frame, the trading strategy produced a better return than the buy-and-hold approach. We should consider modeling this stock further by using the same method.]\n",
    "\n",
    "Dataset ML Model: Time series analysis with numerical attributes\n",
    "\n",
    "Dataset Used: Quandl\n",
    "\n",
    "An algorithmic trading modeling project generally can be broken down into about five major tasks:\n",
    "\n",
    "1. Prepare Environment\n",
    "2. Acquire and Pre-Process Data\n",
    "3. Implement and Train Models\n",
    "4. Back-test Models\n",
    "5. Evaluate Strategy Performance"
   ]
  },
  {
   "cell_type": "markdown",
   "metadata": {
    "colab_type": "text",
    "id": "-DieEv9pTekE"
   },
   "source": [
    "## Task 1 - Prepare Environment"
   ]
  },
  {
   "cell_type": "code",
   "execution_count": 1,
   "metadata": {
    "collapsed": false,
    "jupyter": {
     "outputs_hidden": false
    },
    "pycharm": {
     "name": "#%%\n"
    }
   },
   "outputs": [],
   "source": [
    "# # Install the necessary packages for Colab\n",
    "# !pip install python-dotenv PyMySQL"
   ]
  },
  {
   "cell_type": "code",
   "execution_count": 2,
   "metadata": {
    "collapsed": false,
    "jupyter": {
     "outputs_hidden": false
    },
    "pycharm": {
     "name": "#%%\n"
    }
   },
   "outputs": [],
   "source": [
    "# # Retrieve the GPU information from Colab\n",
    "# gpu_info = !nvidia-smi\n",
    "# gpu_info = '\\n'.join(gpu_info)\n",
    "# if gpu_info.find('failed') >= 0:\n",
    "#     print('Select the Runtime → \"Change runtime type\" menu to enable a GPU accelerator, ')\n",
    "#     print('and then re-execute this cell.')\n",
    "# else:\n",
    "#     print(gpu_info)"
   ]
  },
  {
   "cell_type": "code",
   "execution_count": 3,
   "metadata": {
    "collapsed": false,
    "jupyter": {
     "outputs_hidden": false
    },
    "pycharm": {
     "name": "#%%\n"
    }
   },
   "outputs": [],
   "source": [
    "# # Retrieve the memory configuration from Colab\n",
    "# from psutil import virtual_memory\n",
    "# ram_gb = virtual_memory().total / 1e9\n",
    "# print('Your runtime has {:.1f} gigabytes of available RAM\\n'.format(ram_gb))\n",
    "#\n",
    "# if ram_gb < 20:\n",
    "#     print('To enable a high-RAM runtime, select the Runtime → \"Change runtime type\"')\n",
    "#     print('menu, and then select High-RAM in the Runtime shape dropdown. Then, ')\n",
    "#     print('re-execute this cell.')\n",
    "# else:\n",
    "#     print('You are using a high-RAM runtime!')"
   ]
  },
  {
   "cell_type": "code",
   "execution_count": 4,
   "metadata": {
    "collapsed": false,
    "jupyter": {
     "outputs_hidden": false
    },
    "pycharm": {
     "name": "#%%\n"
    }
   },
   "outputs": [],
   "source": [
    "# # Retrieve the CPU information\n",
    "# ncpu = !nproc\n",
    "# print(\"The number of available CPUs is:\", ncpu[0])"
   ]
  },
  {
   "cell_type": "markdown",
   "metadata": {
    "pycharm": {
     "name": "#%% md\n"
    }
   },
   "source": [
    "### 1.a) Load libraries and modules"
   ]
  },
  {
   "cell_type": "code",
   "execution_count": 5,
   "metadata": {
    "colab": {},
    "colab_type": "code",
    "collapsed": false,
    "id": "8IwyGxxuTekE",
    "jupyter": {
     "outputs_hidden": false
    },
    "pycharm": {
     "name": "#%%\n"
    }
   },
   "outputs": [],
   "source": [
    "import numpy as np\n",
    "import pandas as pd\n",
    "import matplotlib.pyplot as plt\n",
    "import os\n",
    "import sys\n",
    "from datetime import date, datetime, timedelta\n",
    "import requests\n",
    "import json\n",
    "from dotenv import load_dotenv\n",
    "import pandas_datareader.data as pdr"
   ]
  },
  {
   "cell_type": "markdown",
   "metadata": {
    "pycharm": {
     "name": "#%% md\n"
    }
   },
   "source": [
    "### 1.b) Set up the controlling parameters and functions¶"
   ]
  },
  {
   "cell_type": "code",
   "execution_count": 6,
   "metadata": {
    "colab": {
     "base_uri": "https://localhost:8080/",
     "height": 51
    },
    "colab_type": "code",
    "collapsed": false,
    "id": "Zagik25QTekS",
    "jupyter": {
     "outputs_hidden": false
    },
    "outputId": "d14332ba-63ec-4224-ca13-c4ecdab3541a",
    "pycharm": {
     "name": "#%%\n"
    }
   },
   "outputs": [
    {
     "name": "stdout",
     "output_type": "stream",
     "text": [
      "Starting date for the model: 2019-01-01\n",
      "Ending date for the model: 2020-09-30\n",
      "First date of data we need for modeling: 2018-10-03\n",
      "Last date of data we need for modeling: 2020-09-30\n"
     ]
    }
   ],
   "source": [
    "stock_symbol = 'AAPL'\n",
    "initial_capital = 0\n",
    "\n",
    "# Specify the moving average parameters for the trading strategy\n",
    "fast_sma_min = 10\n",
    "fast_sma_max = 30\n",
    "slow_sma_min = 10\n",
    "slow_sma_max = 60\n",
    "ma_increment = 5\n",
    "min_ma_gap = 5\n",
    "\n",
    "# The number of extra days of data we need (usually equals to the larger of slow_ema or slow_sma)\n",
    "extra_days_data = slow_sma_max\n",
    "\n",
    "model_start_date = date(2019, 1, 1)\n",
    "print(\"Starting date for the model:\", model_start_date)\n",
    "\n",
    "# model_end_date = date()\n",
    "model_end_date = date(2020, 9, 30)\n",
    "print(\"Ending date for the model:\", model_end_date)\n",
    "\n",
    "data_start_date = model_start_date - timedelta(days=int(extra_days_data*1.5)) # Need more pricing data to calculate moving averages\n",
    "print(\"First date of data we need for modeling:\", data_start_date)\n",
    "\n",
    "data_end_date = model_end_date\n",
    "print(\"Last date of data we need for modeling:\", data_end_date)"
   ]
  },
  {
   "cell_type": "code",
   "execution_count": 7,
   "metadata": {
    "colab": {
     "base_uri": "https://localhost:8080/",
     "height": 34
    },
    "colab_type": "code",
    "collapsed": false,
    "id": "aTI50KL9TekN",
    "jupyter": {
     "outputs_hidden": false
    },
    "outputId": "68f4a687-6e33-48e5-ef46-c23d7994bc3e",
    "pycharm": {
     "name": "#%%\n"
    }
   },
   "outputs": [],
   "source": [
    "# Begin the timer for the script processing\n",
    "startTimeScript = datetime.now()\n",
    "\n",
    "# Set Pandas options\n",
    "pd.set_option(\"display.max_rows\", None)\n",
    "pd.set_option(\"display.max_columns\", None)\n",
    "pd.set_option(\"display.width\", 140)\n",
    "\n",
    "# Configure the plotting style\n",
    "plt.style.use('seaborn')\n",
    "\n",
    "# Set up the verbose flag to print detailed messages for debugging (setting True will activate!)\n",
    "verbose_models = False\n",
    "verbose_graphs = False\n",
    "verbose_portfolios = False"
   ]
  },
  {
   "cell_type": "code",
   "execution_count": 8,
   "metadata": {
    "collapsed": false,
    "jupyter": {
     "outputs_hidden": false
    },
    "pycharm": {
     "name": "#%%\n"
    }
   },
   "outputs": [],
   "source": [
    "# Set up the parent directory location for loading the dotenv files\n",
    "\n",
    "# # Mount Google Drive locally for storing files\n",
    "# from google.colab import drive\n",
    "# drive.mount('/content/gdrive')\n",
    "# gdrivePrefix = '/content/gdrive/My Drive/Colab_Downloads/'\n",
    "# env_path = '/content/gdrive/My Drive/Colab Notebooks/'\n",
    "# dotenv_path = env_path + \"python_script.env\"\n",
    "# load_dotenv(dotenv_path=dotenv_path)\n",
    "\n",
    "# # Set up access to the dotenv file on local PC\n",
    "# env_path = \"/Users/david/PycharmProjects/\"\n",
    "# dotenv_path = env_path + \"python_script.env\"\n",
    "# load_dotenv(dotenv_path=dotenv_path)"
   ]
  },
  {
   "cell_type": "markdown",
   "metadata": {
    "colab_type": "text",
    "id": "Xa51FMY_TekZ"
   },
   "source": [
    "## Task 2 - Acquire and Pre-Process Data"
   ]
  },
  {
   "cell_type": "code",
   "execution_count": 9,
   "metadata": {
    "colab": {},
    "colab_type": "code",
    "collapsed": false,
    "id": "Og9L0byuTekd",
    "jupyter": {
     "outputs_hidden": false
    },
    "pycharm": {
     "name": "#%%\n"
    }
   },
   "outputs": [
    {
     "name": "stdout",
     "output_type": "stream",
     "text": [
      "502 data points retrieved from the API call.\n",
      "\n",
      "           ticker        date    open    high     low   close       volume  dividend  closeunadj lastupdated\n",
      "date                                                                                                        \n",
      "2018-10-03   AAPL  2018-10-03  57.513  58.367  57.445  58.017  114619196.0       0.0      232.07  2020-08-31\n",
      "2018-10-04   AAPL  2018-10-04  57.695  58.087  56.682  56.998  128168000.0       0.0      227.99  2020-08-31\n",
      "2018-10-05   AAPL  2018-10-05  56.990  57.102  55.145  56.072  134321852.0       0.0      224.29  2020-08-31\n",
      "2018-10-08   AAPL  2018-10-08  55.553  56.200  55.050  55.943  118655692.0       0.0      223.77  2020-08-31\n",
      "2018-10-09   AAPL  2018-10-09  55.910  56.818  55.562  56.718  107564116.0       0.0      226.87  2020-08-31\n",
      "\n",
      "           ticker        date    open    high     low   close       volume  dividend  closeunadj lastupdated\n",
      "date                                                                                                        \n",
      "2020-09-24   AAPL  2020-09-24  105.17  110.25  105.00  108.22  167743349.0       0.0      108.22  2020-09-24\n",
      "2020-09-25   AAPL  2020-09-25  108.43  112.44  107.67  112.28  149981441.0       0.0      112.28  2020-09-25\n",
      "2020-09-28   AAPL  2020-09-28  115.01  115.32  112.78  114.96  136441425.0       0.0      114.96  2020-09-28\n",
      "2020-09-29   AAPL  2020-09-29  114.55  115.31  113.57  114.09   98636389.0       0.0      114.09  2020-09-29\n",
      "2020-09-30   AAPL  2020-09-30  113.79  117.26  113.62  115.81  141667323.0       0.0      115.81  2020-09-30\n"
     ]
    }
   ],
   "source": [
    "# Set up the data service provider and data acquisition parameters\n",
    "data_service = 'Quandl'\n",
    "\n",
    "# Check and see whether the API key is available\n",
    "api_key = os.environ.get('QUANDL_API')\n",
    "if api_key is None: sys.exit(\"API key for Quandl not available. Script Processing Aborted!!!\")\n",
    "\n",
    "start_date_string = data_start_date.strftime('%Y-%m-%d')\n",
    "end_date_string = data_end_date.strftime('%Y-%m-%d')\n",
    "api_url = \"https://www.quandl.com/api/v3/datatables/SHARADAR/SEP.json?date.gte=%s&date.lte=%s&ticker=%s&api_key=%s\" % (start_date_string, end_date_string, stock_symbol, api_key)\n",
    "response = requests.get(api_url)\n",
    "resp_dict = json.loads(response.text)\n",
    "stock_rawdata = pd.DataFrame(resp_dict['datatable']['data'])\n",
    "print(len(stock_rawdata), 'data points retrieved from the API call.')\n",
    "print()\n",
    "\n",
    "stock_rawdata.columns = ['ticker', 'date', 'open', 'high', 'low', 'close', 'volume', 'dividend', 'closeunadj', 'lastupdated']\n",
    "# stock_rawdata.set_index('date', inplace=True)\n",
    "stock_rawdata.index = pd.to_datetime(stock_rawdata.date)\n",
    "stock_pricing = stock_rawdata.sort_index(ascending=True)\n",
    "print(stock_pricing.head())\n",
    "print()\n",
    "print(stock_pricing.tail())"
   ]
  },
  {
   "cell_type": "code",
   "execution_count": 10,
   "metadata": {
    "colab": {
     "base_uri": "https://localhost:8080/",
     "height": 535
    },
    "colab_type": "code",
    "collapsed": false,
    "id": "Tfuu40coTekv",
    "jupyter": {
     "outputs_hidden": false
    },
    "outputId": "2357753d-6c83-46ad-e8cc-8593497d20ff",
    "pycharm": {
     "name": "#%%\n"
    }
   },
   "outputs": [
    {
     "data": {
      "image/png": "[encoded data removed]",
      "text/plain": [
       "<Figure size 1152x648 with 1 Axes>"
      ]
     },
     "metadata": {},
     "output_type": "display_data"
    }
   ],
   "source": [
    "# Set up the standard column name for modeling\n",
    "# Column names may be data-provider specific!\n",
    "model_template = stock_pricing.loc[:, ['open','close']]\n",
    "model_template.rename(columns={'open': 'open_price', 'close': 'close_price'}, inplace=True)\n",
    "plot_title = 'Historical Stock Information for ' + stock_symbol + ' from ' + data_service\n",
    "model_template['close_price'].plot(figsize=(16,9), title=plot_title)\n",
    "plt.show()"
   ]
  },
  {
   "cell_type": "markdown",
   "metadata": {
    "colab_type": "text",
    "id": "UKNJYDlGTek0"
   },
   "source": [
    "## Task 3 - Implement and Train Models"
   ]
  },
  {
   "cell_type": "code",
   "execution_count": 11,
   "metadata": {
    "colab": {},
    "colab_type": "code",
    "collapsed": false,
    "id": "yfQTRXPnTelA",
    "jupyter": {
     "outputs_hidden": false
    },
    "pycharm": {
     "name": "#%%\n"
    }
   },
   "outputs": [],
   "source": [
    "# Define the functions that will generate the indicators and trading signals\n",
    "\n",
    "def populate_indicators(passed_model):\n",
    "    passed_model['fast_sma'] = passed_model['close_price'].rolling(fast_ma).mean()\n",
    "    passed_model['slow_sma'] = passed_model['close_price'].rolling(slow_ma).mean()\n",
    "    passed_model['sma_change'] = passed_model['fast_sma'] - passed_model['slow_sma']\n",
    "    passed_model['trade_signal'] = np.zeros(len(passed_model))\n",
    "    passed_model['signal_change'] = np.zeros(len(passed_model))\n",
    "    passed_model['entry_exit'] = np.zeros(len(passed_model))\n",
    "\n",
    "def populate_momentum_signals(model, change_curve):\n",
    "    wait_for_entry = True # If True, we will wait for the next entry point when the signal changes from neutral to long\n",
    "    for x in range(len(model)):\n",
    "        if model[change_curve].iloc[x] > 0:\n",
    "            model['trade_signal'].iloc[x] = 1  # trade_signal = 1 means we should be in a long position\n",
    "        else:\n",
    "            model['trade_signal'].iloc[x] = 0  # trade_signal = 0 means we should be in a neutral position\n",
    "        if x != 0:\n",
    "            model['signal_change'].iloc[x] = model['trade_signal'].iloc[x] - model['trade_signal'].iloc[x-1]\n",
    "            # IF logics to handle the very first entry and the subsequent entries and exits\n",
    "            if wait_for_entry and (model['signal_change'].iloc[x-1] == 1):\n",
    "                model['entry_exit'].iloc[x] = model['signal_change'].iloc[x-1]\n",
    "                wait_for_entry = False\n",
    "            elif (not wait_for_entry) and (model['signal_change'].iloc[x-1] != 0):\n",
    "                model['entry_exit'].iloc[x] = model['signal_change'].iloc[x-1]\n",
    "\n",
    "def populate_reversion_signals(model, change_curve):\n",
    "    wait_for_entry = True # If True, we will wait for the next entry point when the signal changes from neutral to long\n",
    "    for x in range(len(model)):\n",
    "        if model[change_curve].iloc[x] < 0:\n",
    "            model['trade_signal'].iloc[x] = 1  # trade_signal = 1 means we should be in a long position\n",
    "        else:\n",
    "            model['trade_signal'].iloc[x] = 0  # trade_signal = 0 means we should be in a neutral position\n",
    "        if x != 0:\n",
    "            model['signal_change'].iloc[x] = model['trade_signal'].iloc[x] - model['trade_signal'].iloc[x-1]\n",
    "            # IF logics to handle the very first entry and the subsequent entries and exits\n",
    "            if wait_for_entry and (model['signal_change'].iloc[x-1] == 1):\n",
    "                model['entry_exit'].iloc[x] = model['signal_change'].iloc[x-1]\n",
    "                wait_for_entry = False\n",
    "            elif (not wait_for_entry) and (model['signal_change'].iloc[x-1] != 0):\n",
    "                model['entry_exit'].iloc[x] = model['signal_change'].iloc[x-1]"
   ]
  },
  {
   "cell_type": "code",
   "execution_count": 12,
   "metadata": {
    "colab": {
     "base_uri": "https://localhost:8080/",
     "height": 1000
    },
    "colab_type": "code",
    "collapsed": false,
    "id": "8M4khYD7TelG",
    "jupyter": {
     "outputs_hidden": false
    },
    "outputId": "05f4cf43-5ebd-4654-9806-00894118795f",
    "pycharm": {
     "name": "#%%\n"
    }
   },
   "outputs": [
    {
     "name": "stdout",
     "output_type": "stream",
     "text": [
      "\n",
      "40 momentum SMA-only models generated!\n",
      "\n",
      "40 mean-reversion SMA-only models generated!\n"
     ]
    }
   ],
   "source": [
    "# Processing momentum models using the SMA curves\n",
    "print()\n",
    "momentum_fast_sma_slow_sma_models = {}\n",
    "serial_number = 1\n",
    "for slow_ma in range(slow_sma_min, slow_sma_max+1, ma_increment):\n",
    "    for fast_ma in range(fast_sma_min, fast_sma_max+1, ma_increment):\n",
    "        if (slow_ma - fast_ma) < min_ma_gap: break\n",
    "        if verbose_models: print('Processing momentum model with fast_sma of', fast_ma, 'and slow_sma of', slow_ma)\n",
    "        model_tag = 'Momentum_' + str(serial_number).zfill(3) + '_FastSMA_' + str(fast_ma).zfill(3) + '_SlowSMA_' + str(slow_ma).zfill(3)\n",
    "        serial_number = serial_number + 1\n",
    "        trading_model = model_template.copy()\n",
    "        populate_indicators(trading_model)\n",
    "        trading_model = trading_model[model_start_date:model_end_date]\n",
    "        populate_momentum_signals(trading_model, 'sma_change')\n",
    "        momentum_fast_sma_slow_sma_models[model_tag] = trading_model.copy()\n",
    "        if verbose_models: print('Model', model_tag, 'added to the trading model collection.')\n",
    "print(len(momentum_fast_sma_slow_sma_models), 'momentum SMA-only models generated!')\n",
    "\n",
    "# Processing mean-reversion models using only the SMA curves\n",
    "print()\n",
    "reversion_fast_sma_slow_sma_models = {}\n",
    "serial_number = 1\n",
    "for slow_ma in range(slow_sma_min, slow_sma_max+1, ma_increment):\n",
    "    for fast_ma in range(fast_sma_min, fast_sma_max+1, ma_increment):\n",
    "        if (slow_ma - fast_ma) < min_ma_gap: break\n",
    "        if verbose_models: print('Processing mean-reversion model with fast_sma of', fast_ma, 'and slow_sma of', slow_ma)\n",
    "        model_tag = 'Reversion_' + str(serial_number).zfill(3) + '_FastSMA_' + str(fast_ma).zfill(3) + '_SlowSMA_' + str(slow_ma).zfill(3)\n",
    "        serial_number = serial_number + 1\n",
    "        trading_model = model_template.copy()\n",
    "        populate_indicators(trading_model)\n",
    "        trading_model = trading_model[model_start_date:model_end_date]\n",
    "        populate_reversion_signals(trading_model, 'sma_change')\n",
    "        reversion_fast_sma_slow_sma_models[model_tag] = trading_model.copy()\n",
    "        if verbose_models: print('Model', model_tag, 'added to the trading model collection.')\n",
    "print(len(reversion_fast_sma_slow_sma_models), 'mean-reversion SMA-only models generated!')"
   ]
  },
  {
   "cell_type": "code",
   "execution_count": 13,
   "metadata": {
    "colab": {
     "base_uri": "https://localhost:8080/",
     "height": 1000
    },
    "colab_type": "code",
    "collapsed": false,
    "id": "327CZKmtTelL",
    "jupyter": {
     "outputs_hidden": false
    },
    "outputId": "b353b49d-0281-4aa7-a530-6747c166eae5",
    "pycharm": {
     "name": "#%%\n"
    }
   },
   "outputs": [],
   "source": [
    "# List the entry/exit points for each model\n",
    "def list_model_entry_exit(model_collection):\n",
    "    for model_name in model_collection:\n",
    "        print('List the signal change and entry/exit points for', model_name)\n",
    "        print(model_collection[model_name][(model_collection[model_name].signal_change != 0) | (model_collection[model_name].entry_exit != 0)])\n",
    "        print()"
   ]
  },
  {
   "cell_type": "code",
   "execution_count": 14,
   "metadata": {
    "collapsed": false,
    "jupyter": {
     "outputs_hidden": false
    },
    "pycharm": {
     "name": "#%%\n"
    }
   },
   "outputs": [],
   "source": [
    "if verbose_models: list_model_entry_exit(momentum_fast_sma_slow_sma_models)"
   ]
  },
  {
   "cell_type": "code",
   "execution_count": 15,
   "metadata": {
    "collapsed": false,
    "jupyter": {
     "outputs_hidden": false
    },
    "pycharm": {
     "name": "#%%\n"
    }
   },
   "outputs": [],
   "source": [
    "if verbose_models: list_model_entry_exit(reversion_fast_sma_slow_sma_models)"
   ]
  },
  {
   "cell_type": "code",
   "execution_count": 16,
   "metadata": {
    "colab": {
     "base_uri": "https://localhost:8080/",
     "height": 1000
    },
    "colab_type": "code",
    "collapsed": false,
    "id": "XEyJXVxcTelS",
    "jupyter": {
     "outputs_hidden": false
    },
    "outputId": "c74ac3e9-fbd3-4e73-8294-f12d0cce88dc",
    "pycharm": {
     "name": "#%%\n"
    }
   },
   "outputs": [],
   "source": [
    "def draw_model_graphs(model_name, trade_model, fast_ma_curve='fast_sma', slow_ma_curve='slow_sma'):\n",
    "    graph_data = trade_model.copy()\n",
    "    title_string = \"Moving Average Crossover Model for \" + model_name\n",
    "    fig = plt.figure(figsize=(16,9))\n",
    "    ylabel = stock_symbol + ' price in $'\n",
    "    ax1 = fig.add_subplot(111, ylabel=ylabel, title=title_string)\n",
    "    graph_data[fast_ma_curve].plot(ax=ax1, color='b', lw=2.)\n",
    "    graph_data[slow_ma_curve].plot(ax=ax1, color='r', lw=2.)\n",
    "    graph_data['close_price'].plot(ax=ax1, color='g')\n",
    "    ax1.plot(graph_data.loc[graph_data.entry_exit == 1].index, graph_data.close_price[graph_data.entry_exit == 1], '^', markersize=7, color='k',label='buy')\n",
    "    ax1.plot(graph_data.loc[graph_data.entry_exit == -1].index, graph_data.close_price[graph_data.entry_exit == -1], 'v', markersize=7, color='k',label='sell')\n",
    "    plt.legend(loc='upper left')\n",
    "    plt.show()"
   ]
  },
  {
   "cell_type": "code",
   "execution_count": 17,
   "metadata": {
    "collapsed": false,
    "jupyter": {
     "outputs_hidden": false
    },
    "pycharm": {
     "name": "#%%\n"
    }
   },
   "outputs": [],
   "source": [
    "if verbose_graphs:\n",
    "    for tag in momentum_fast_sma_slow_sma_models:\n",
    "        draw_model_graphs(tag, momentum_fast_sma_slow_sma_models[tag], 'fast_sma', 'slow_sma')"
   ]
  },
  {
   "cell_type": "code",
   "execution_count": 18,
   "metadata": {
    "collapsed": false,
    "jupyter": {
     "outputs_hidden": false
    },
    "pycharm": {
     "name": "#%%\n"
    }
   },
   "outputs": [],
   "source": [
    "if verbose_graphs:\n",
    "    for tag in reversion_fast_sma_slow_sma_models:\n",
    "        draw_model_graphs(tag, reversion_fast_sma_slow_sma_models[tag], 'fast_sma', 'slow_sma')"
   ]
  },
  {
   "cell_type": "markdown",
   "metadata": {
    "colab_type": "text",
    "id": "wzTQaZkeTeld"
   },
   "source": [
    "## Task 4 - Back-test Models"
   ]
  },
  {
   "cell_type": "code",
   "execution_count": 19,
   "metadata": {
    "colab": {},
    "colab_type": "code",
    "collapsed": false,
    "id": "Q1xZWksnTelr",
    "jupyter": {
     "outputs_hidden": false
    },
    "pycharm": {
     "name": "#%%\n"
    }
   },
   "outputs": [],
   "source": [
    "def generate_trading_portfolios(initial_fund, trade_model):\n",
    "    # Construct a portfolio to track the transactions and returns\n",
    "    portfolio = pd.DataFrame(index=trade_model.index, columns=['trade_action', 'qty_onhand', 'cost_basis', 'sold_transaction', 'gain_loss', 'cash_onhand', 'position_value', 'total_position', 'accumu_return'])\n",
    "    portfolio.iloc[0]['trade_action'] = 0\n",
    "    portfolio.iloc[0]['qty_onhand'] = 0\n",
    "    portfolio.iloc[0]['cost_basis'] = 0.00\n",
    "    portfolio.iloc[0]['sold_transaction'] = 0.00\n",
    "    portfolio.iloc[0]['gain_loss'] = 0.00\n",
    "    portfolio.iloc[0]['cash_onhand'] = initial_capital\n",
    "    portfolio.iloc[0]['position_value'] = 0.00\n",
    "    portfolio.iloc[0]['total_position'] = initial_capital\n",
    "    portfolio.iloc[0]['accumu_return'] = portfolio.iloc[0]['total_position'] - initial_fund\n",
    "    recent_cost = 0\n",
    "\n",
    "    # The conditional parameters below determine how the trading strategy will be carried out\n",
    "    for i in range(1, len(portfolio)):\n",
    "        if (trade_model.iloc[i]['entry_exit'] == 1) and (portfolio.iloc[i-1]['qty_onhand'] == 0):\n",
    "            portfolio.iloc[i]['trade_action'] = 1\n",
    "            portfolio.iloc[i]['qty_onhand'] = portfolio.iloc[i-1]['qty_onhand'] + portfolio.iloc[i]['trade_action']\n",
    "            portfolio.iloc[i]['cost_basis'] = trade_model.iloc[i]['open_price'] * portfolio.iloc[i]['trade_action']\n",
    "            portfolio.iloc[i]['sold_transaction'] = 0.00\n",
    "            portfolio.iloc[i]['gain_loss'] = 0.00\n",
    "            portfolio.iloc[i]['cash_onhand'] = portfolio.iloc[i-1]['cash_onhand'] - portfolio.iloc[i]['cost_basis']\n",
    "            recent_cost = trade_model.iloc[i]['open_price'] * portfolio.iloc[i]['trade_action']\n",
    "            if verbose_portfolios: print('BOUGHT QTY:', portfolio.iloc[i]['trade_action'], 'on', portfolio.index[i], 'at the price of', trade_model.iloc[i]['open_price'])\n",
    "        elif (trade_model.iloc[i]['entry_exit'] == -1) and (portfolio.iloc[i-1]['qty_onhand'] > 0):\n",
    "            portfolio.iloc[i]['trade_action'] = -1\n",
    "            portfolio.iloc[i]['qty_onhand'] = portfolio.iloc[i-1]['qty_onhand'] + portfolio.iloc[i]['trade_action']\n",
    "            portfolio.iloc[i]['cost_basis'] = 0.00\n",
    "            portfolio.iloc[i]['sold_transaction'] = trade_model.iloc[i]['open_price'] * portfolio.iloc[i]['trade_action'] * -1\n",
    "            portfolio.iloc[i]['gain_loss'] = (recent_cost + (trade_model.iloc[i]['open_price'] * portfolio.iloc[i]['trade_action'])) * -1\n",
    "            portfolio.iloc[i]['cash_onhand'] = portfolio.iloc[i-1]['cash_onhand'] + portfolio.iloc[i]['sold_transaction']\n",
    "            recent_cost = 0.00\n",
    "            if verbose_portfolios: print('SOLD QTY:', portfolio.iloc[i]['trade_action'], 'on', portfolio.index[i], 'at the price of', trade_model.iloc[i]['open_price'])\n",
    "        else:\n",
    "            portfolio.iloc[i]['trade_action'] = 0\n",
    "            portfolio.iloc[i]['qty_onhand'] = portfolio.iloc[i-1]['qty_onhand']\n",
    "            portfolio.iloc[i]['cost_basis'] = portfolio.iloc[i-1]['cost_basis']\n",
    "            portfolio.iloc[i]['sold_transaction'] = 0.00\n",
    "            portfolio.iloc[i]['gain_loss'] = 0.00\n",
    "            portfolio.iloc[i]['cash_onhand'] = portfolio.iloc[i-1]['cash_onhand']\n",
    "        portfolio.iloc[i]['position_value'] = trade_model.iloc[i]['close_price'] * portfolio.iloc[i]['qty_onhand']\n",
    "        portfolio.iloc[i]['total_position'] = portfolio.iloc[i]['cash_onhand'] + portfolio.iloc[i]['position_value']\n",
    "        portfolio.iloc[i]['accumu_return'] = portfolio.iloc[i]['total_position'] - initial_fund\n",
    "\n",
    "    return portfolio"
   ]
  },
  {
   "cell_type": "code",
   "execution_count": 20,
   "metadata": {
    "colab": {
     "base_uri": "https://localhost:8080/",
     "height": 1000
    },
    "colab_type": "code",
    "collapsed": false,
    "id": "mOsqVrfRTelw",
    "jupyter": {
     "outputs_hidden": false
    },
    "outputId": "17950f55-4566-48b2-dde6-0974c6e45966",
    "pycharm": {
     "name": "#%%\n"
    }
   },
   "outputs": [],
   "source": [
    "def calculate_portfolio_performance(model_collection):\n",
    "    # Initialize a dictionary for tracking portfolios for all models\n",
    "    portfolio_collection = {}\n",
    "    # Initialize a dataframe for reporting model performance summary\n",
    "    performance_summary = pd.DataFrame(columns=['model_name','return_value','return_percent'])\n",
    "\n",
    "    for model_name in model_collection:\n",
    "        if verbose_portfolios: print('Processing portfolio for model:', model_name)\n",
    "        portfolio_collection[model_name] = generate_trading_portfolios(initial_capital, model_collection[model_name])\n",
    "        trade_transactions = portfolio_collection[model_name][portfolio_collection[model_name].trade_action != 0]\n",
    "        if verbose_portfolios: print(trade_transactions)\n",
    "        if verbose_portfolios: print('Accumulated profit/loss for one share of stock with initial capital of $%.0f at the end of modeling period: $%.2f' % (initial_capital, portfolio_collection[model_name].accumu_return[-1]))\n",
    "        if initial_capital != 0:\n",
    "            return_percentage = portfolio_collection[model_name].accumu_return[-1] / initial_capital * 100\n",
    "            if verbose_portfolios: print('Accumulated return percentage based on the initial capital investment: %.2f%%' % return_percentage)\n",
    "        else:\n",
    "            return_percentage = None\n",
    "        if trade_transactions.iloc[-1]['trade_action'] == 1:\n",
    "            if verbose_portfolios: print('The current status of the model is:', 'Holding a position since', trade_transactions.index.tolist()[-1], '\\n')\n",
    "        else:\n",
    "            if verbose_portfolios: print('The current status of the model is:', 'Waiting to enter since', trade_transactions.index.tolist()[-1], '\\n')\n",
    "        performance_summary = performance_summary.append({'model_name': model_name, 'return_value': portfolio_collection[model_name].accumu_return[-1], 'return_percent': return_percentage}, ignore_index=True)\n",
    "    performance_summary.sort_values(by=['return_value'], inplace=True, ascending=False)\n",
    "    return portfolio_collection, performance_summary"
   ]
  },
  {
   "cell_type": "code",
   "execution_count": 21,
   "metadata": {
    "collapsed": false,
    "jupyter": {
     "outputs_hidden": false
    },
    "pycharm": {
     "name": "#%%\n"
    }
   },
   "outputs": [
    {
     "name": "stdout",
     "output_type": "stream",
     "text": [
      "40 momentum trading transaction portfolios generated.\n",
      "40 profit/loss performance summaries generated.\n",
      "\n",
      "                              model_name  return_value return_percent\n",
      "1   Momentum_002_FastSMA_010_SlowSMA_020        80.419           None\n",
      "35  Momentum_036_FastSMA_010_SlowSMA_060        73.867           None\n",
      "3   Momentum_004_FastSMA_010_SlowSMA_025        73.625           None\n",
      "22  Momentum_023_FastSMA_020_SlowSMA_045        70.358           None\n",
      "14  Momentum_015_FastSMA_030_SlowSMA_035        69.936           None\n"
     ]
    }
   ],
   "source": [
    "momentum_fast_sma_slow_sma_portfolios, momentum_fast_sma_slow_sma_performance = calculate_portfolio_performance(momentum_fast_sma_slow_sma_models)\n",
    "print(len(momentum_fast_sma_slow_sma_portfolios), 'momentum trading transaction portfolios generated.')\n",
    "print(len(momentum_fast_sma_slow_sma_performance), 'profit/loss performance summaries generated.')\n",
    "print()\n",
    "print(momentum_fast_sma_slow_sma_performance.head())"
   ]
  },
  {
   "cell_type": "code",
   "execution_count": 22,
   "metadata": {
    "collapsed": false,
    "jupyter": {
     "outputs_hidden": false
    },
    "pycharm": {
     "name": "#%%\n"
    }
   },
   "outputs": [
    {
     "name": "stdout",
     "output_type": "stream",
     "text": [
      "40 mean-reversion trading transaction portfolios generated.\n",
      "40 profit/loss performance summaries generated.\n",
      "\n",
      "                               model_name  return_value return_percent\n",
      "39  Reversion_040_FastSMA_030_SlowSMA_060        24.348           None\n",
      "15  Reversion_016_FastSMA_010_SlowSMA_040        22.260           None\n",
      "8   Reversion_009_FastSMA_020_SlowSMA_030        19.367           None\n",
      "0   Reversion_001_FastSMA_010_SlowSMA_015        18.800           None\n",
      "34  Reversion_035_FastSMA_030_SlowSMA_055        17.351           None\n"
     ]
    }
   ],
   "source": [
    "reversion_fast_sma_slow_sma_portfolios, reversion_fast_sma_slow_sma_performance = calculate_portfolio_performance(reversion_fast_sma_slow_sma_models)\n",
    "print(len(reversion_fast_sma_slow_sma_portfolios), 'mean-reversion trading transaction portfolios generated.')\n",
    "print(len(reversion_fast_sma_slow_sma_performance), 'profit/loss performance summaries generated.')\n",
    "print()\n",
    "print(reversion_fast_sma_slow_sma_performance.head())"
   ]
  },
  {
   "cell_type": "markdown",
   "metadata": {},
   "source": [
    "## Task 5 - Evaluate Strategy Performance"
   ]
  },
  {
   "cell_type": "code",
   "execution_count": 23,
   "metadata": {
    "collapsed": false,
    "jupyter": {
     "outputs_hidden": false
    },
    "pycharm": {
     "name": "#%%\n"
    }
   },
   "outputs": [],
   "source": [
    "# Display the entry/exit signals and transactions from the top model\n",
    "def display_signals_transactions(model_name, portfolio_collection, model_collection):\n",
    "    cols_to_display = ['open_price','close_price','fast_sma','slow_sma','trade_signal','signal_change','entry_exit']\n",
    "    print('The transactions from the top model %s:' % model_name)\n",
    "    print(portfolio_collection[model_name][portfolio_collection[model_name].trade_action != 0])\n",
    "    print()\n",
    "    print('The trading signal changes from the top model %s:' % model_name)\n",
    "    print(model_collection[model_name][(model_collection[model_name].signal_change != 0) | (model_collection[model_name].entry_exit != 0)][cols_to_display])"
   ]
  },
  {
   "cell_type": "code",
   "execution_count": 24,
   "metadata": {},
   "outputs": [
    {
     "name": "stdout",
     "output_type": "stream",
     "text": [
      "The transactions from the top model Momentum_002_FastSMA_010_SlowSMA_020:\n",
      "           trade_action qty_onhand cost_basis sold_transaction gain_loss cash_onhand position_value total_position accumu_return\n",
      "date                                                                                                                            \n",
      "2019-01-23            1          1     38.538                0         0     -38.538          38.48         -0.058        -0.058\n",
      "2019-05-14           -1          0          0           46.602     8.064       8.064              0          8.064         8.064\n",
      "2019-06-13            1          1     48.675                0         0     -40.611         48.538          7.927         7.927\n",
      "2019-08-08           -1          0          0            50.05     1.375       9.439              0          9.439         9.439\n",
      "2019-08-22            1          1     53.297                0         0     -43.858         53.115          9.257         9.257\n",
      "2020-02-26           -1          0          0           71.632    18.335      27.774              0         27.774        27.774\n",
      "2020-04-08            1          1     65.685                0         0     -37.911         66.517         28.606        28.606\n",
      "2020-09-15           -1          0          0           118.33    52.645      80.419              0         80.419        80.419\n",
      "\n",
      "The trading signal changes from the top model Momentum_002_FastSMA_010_SlowSMA_020:\n",
      "            open_price  close_price  fast_sma   slow_sma  trade_signal  signal_change  entry_exit\n",
      "date                                                                                             \n",
      "2019-01-22      39.102       38.325   38.3535   38.19110           1.0            1.0         0.0\n",
      "2019-01-23      38.538       38.480   38.4327   38.23100           1.0            0.0         1.0\n",
      "2019-05-13      46.928       46.430   50.7488   50.85980           0.0           -1.0         0.0\n",
      "2019-05-14      46.602       47.165   50.4486   50.72770           0.0            0.0        -1.0\n",
      "2019-06-12      48.487       48.547   46.1450   46.03135           1.0            1.0         0.0\n",
      "2019-06-13      48.675       48.538   46.5413   46.07175           1.0            0.0         1.0\n",
      "2019-08-07      48.852       49.760   51.2023   51.23980           0.0           -1.0         0.0\n",
      "2019-08-08      50.050       50.858   51.1126   51.26080           0.0            0.0        -1.0\n",
      "2019-08-21      53.248       53.160   51.4553   51.32880           1.0            1.0         0.0\n",
      "2019-08-22      53.297       53.115   51.6810   51.39680           1.0            0.0         1.0\n",
      "2020-02-25      75.237       72.020   78.9716   79.37525           0.0           -1.0         0.0\n",
      "2020-02-26      71.632       73.162   78.2975   79.06225           0.0            0.0        -1.0\n",
      "2020-04-07      67.700       64.858   62.7488   62.48245           1.0            1.0         0.0\n",
      "2020-04-08      65.685       66.517   63.2625   62.36540           1.0            0.0         1.0\n",
      "2020-09-14     114.720      115.355  120.7445  121.14955           0.0           -1.0         0.0\n",
      "2020-09-15     118.330      115.540  119.3945  121.19615           0.0            0.0        -1.0\n",
      "\n"
     ]
    },
    {
     "data": {
      "image/png": "[encoded data removed]",
      "text/plain": [
       "<Figure size 1152x648 with 1 Axes>"
      ]
     },
     "metadata": {},
     "output_type": "display_data"
    }
   ],
   "source": [
    "# Display the details for the top model\n",
    "return_list = [momentum_fast_sma_slow_sma_performance.iloc[0]['return_value'], reversion_fast_sma_slow_sma_performance.iloc[0]['return_value']]\n",
    "performance_list = [momentum_fast_sma_slow_sma_performance, reversion_fast_sma_slow_sma_performance]\n",
    "portfolio_list = [momentum_fast_sma_slow_sma_portfolios, reversion_fast_sma_slow_sma_portfolios]\n",
    "model_list = [momentum_fast_sma_slow_sma_models, reversion_fast_sma_slow_sma_models]\n",
    "fast_ma_list = ['fast_sma', 'fast_sma']\n",
    "slow_ma_list = ['slow_sma', 'slow_sma']\n",
    "top_model_return = max(return_list)\n",
    "top_model_index = return_list.index(top_model_return)\n",
    "top_model_name = performance_list[top_model_index].iloc[0]['model_name']\n",
    "display_signals_transactions(top_model_name, portfolio_list[top_model_index], model_list[top_model_index])\n",
    "print()\n",
    "draw_model_graphs(top_model_name, model_list[top_model_index][top_model_name], fast_ma_list[top_model_index], slow_ma_list[top_model_index])"
   ]
  },
  {
   "cell_type": "code",
   "execution_count": 25,
   "metadata": {
    "colab": {
     "base_uri": "https://localhost:8080/",
     "height": 51
    },
    "colab_type": "code",
    "collapsed": false,
    "id": "YTyOJjYzTel7",
    "jupyter": {
     "outputs_hidden": false
    },
    "outputId": "8ab127f5-5316-4e3a-9908-75f18dd9a2b9",
    "pycharm": {
     "name": "#%%\n"
    }
   },
   "outputs": [
    {
     "name": "stdout",
     "output_type": "stream",
     "text": [
      "The best model found is: Momentum_002_FastSMA_010_SlowSMA_020\n",
      "The best profit/loss for the investing period is: $80.42\n"
     ]
    }
   ],
   "source": [
    "print('The best model found is:', top_model_name)\n",
    "print('The best profit/loss for the investing period is: $%.2f' % top_model_return)\n",
    "if initial_capital != 0:\n",
    "    print('The best return percentage for initial capital is: %.2f%%' % (top_model_return / initial_capital * 100))"
   ]
  },
  {
   "cell_type": "code",
   "execution_count": 26,
   "metadata": {
    "colab": {
     "base_uri": "https://localhost:8080/",
     "height": 34
    },
    "colab_type": "code",
    "id": "aTP_6WyfTemB",
    "outputId": "6cda4cc2-d890-47d5-9a63-43cffd21d72f"
   },
   "outputs": [
    {
     "name": "stdout",
     "output_type": "stream",
     "text": [
      "The entry point for the buy-and-hold model: $38.72 on 2019-01-02 00:00:00\n",
      "The exit point for the buy-and-hold model: $115.81 on 2020-09-30 00:00:00\n",
      "The performance of the long-only model from day one is: $77.09\n"
     ]
    }
   ],
   "source": [
    "# Calculate the stock's performance for a buy-and-hold model\n",
    "model_template = model_template[model_start_date:model_end_date]\n",
    "print('The entry point for the buy-and-hold model: $%.2f on %s' % (model_template.iloc[0]['open_price'], model_template.index[0]))\n",
    "print('The exit point for the buy-and-hold model: $%.2f on %s' % (model_template.iloc[-1]['close_price'], model_template.index[-1]))\n",
    "print('The performance of the long-only model from day one is: $%.2f' %(model_template.iloc[-1]['close_price'] - model_template.iloc[0]['open_price']))"
   ]
  },
  {
   "cell_type": "code",
   "execution_count": 27,
   "metadata": {
    "colab": {
     "base_uri": "https://localhost:8080/",
     "height": 34
    },
    "colab_type": "code",
    "collapsed": false,
    "id": "be1J2gmiTemG",
    "jupyter": {
     "outputs_hidden": false
    },
    "outputId": "28010a58-a8c1-43ae-d6ff-200fc13eb876",
    "pycharm": {
     "name": "#%%\n"
    }
   },
   "outputs": [
    {
     "name": "stdout",
     "output_type": "stream",
     "text": [
      "Total time for the script: 0:03:25.059836\n"
     ]
    }
   ],
   "source": [
    "print ('Total time for the script:',(datetime.now() - startTimeScript))"
   ]
  }
 ],
 "metadata": {
  "colab": {
   "collapsed_sections": [],
   "name": "py_algotrading_ema_crossover_grid_search.ipynb",
   "provenance": []
  },
  "kernelspec": {
   "display_name": "Python 3",
   "language": "python",
   "name": "python3"
  },
  "language_info": {
   "codemirror_mode": {
    "name": "ipython",
    "version": 3
   },
   "file_extension": ".py",
   "mimetype": "text/x-python",
   "name": "python",
   "nbconvert_exporter": "python",
   "pygments_lexer": "ipython3",
   "version": "3.8.3"
  }
 },
 "nbformat": 4,
 "nbformat_minor": 4
}
