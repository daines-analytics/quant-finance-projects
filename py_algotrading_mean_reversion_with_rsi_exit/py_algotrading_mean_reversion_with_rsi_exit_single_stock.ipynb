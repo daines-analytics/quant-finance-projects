{
 "cells": [
  {
   "cell_type": "markdown",
   "metadata": {
    "colab_type": "text",
    "id": "nn0Ld1RjTekC"
   },
   "source": [
    "# Algorithmic Trading Model for Mean-Reversion with RSI Exit Signal for an Individual Stock Using Python\n",
    "### David Lowe\n",
    "### July 21, 2021\n",
    "\n",
    "NOTE: This script is for learning purposes only and does not constitute a recommendation for buying or selling any stock mentioned in this script.\n",
    "\n",
    "SUMMARY: This project aims to construct and test an algorithmic trading model and document the end-to-end steps using a template.\n",
    "\n",
    "INTRODUCTION: This algorithmic trading model compares a simple mean-reversion strategy with or without using RSI as the exit signal for an individual stock. The model will use a trend window size of ten days for long trades only. When the 14-day RSI value reaches 70, the model will exit the long position.\n",
    "\n",
    "ANALYSIS: In this modeling iteration, we analyzed the stock of AAPL (Apple Inc.) between January 1, 2016, and July 19, 2021. The mean-reversion model without using RSI produced a profit of 3.59 dollars per share, while the model with RSI signals returned 45.97. In addition, the buy-and-hold approach yielded a gain of 118.09 dollars per share.\n",
    "\n",
    "CONCLUSION: For the AAPL stock during the modeling time frame, the long-only trading strategy with or without RSI as the exit signal did not produce a better return than the buy-and-hold approach. We should consider experimenting with more variations of the strategy.\n",
    "\n",
    "Dataset ML Model: Time series analysis with numerical attributes\n",
    "\n",
    "Dataset Used: Quandl\n",
    "\n",
    "An algorithmic trading modeling project generally can be broken down into about five major tasks:\n",
    "\n",
    "1. Prepare Environment\n",
    "2. Acquire and Pre-Process Data\n",
    "3. Implement and Train Models\n",
    "4. Back-test Models\n",
    "5. Evaluate Strategy Performance"
   ]
  },
  {
   "cell_type": "markdown",
   "metadata": {
    "colab_type": "text",
    "id": "-DieEv9pTekE"
   },
   "source": [
    "## Task 1 - Prepare Environment"
   ]
  },
  {
   "cell_type": "markdown",
   "metadata": {
    "pycharm": {
     "name": "#%% md\n"
    }
   },
   "source": [
    "### 1.a) Load libraries and modules"
   ]
  },
  {
   "cell_type": "code",
   "execution_count": 1,
   "metadata": {
    "colab": {},
    "colab_type": "code",
    "collapsed": false,
    "id": "8IwyGxxuTekE",
    "jupyter": {
     "outputs_hidden": false
    },
    "pycharm": {
     "name": "#%%\n"
    }
   },
   "outputs": [],
   "source": [
    "import pandas as pd\n",
    "import matplotlib.pyplot as plt\n",
    "import statistics as stats\n",
    "import os\n",
    "import sys\n",
    "from datetime import date, datetime, timedelta\n",
    "import requests\n",
    "import json\n",
    "from dotenv import load_dotenv\n",
    "\n",
    "# Begin the timer for the script processing\n",
    "startTimeScript = datetime.now()"
   ]
  },
  {
   "cell_type": "markdown",
   "metadata": {
    "pycharm": {
     "name": "#%% md\n"
    }
   },
   "source": [
    "### 1.b) Set up the controlling parameters and functions¶"
   ]
  },
  {
   "cell_type": "code",
   "execution_count": 2,
   "metadata": {
    "colab": {
     "base_uri": "https://localhost:8080/",
     "height": 51
    },
    "colab_type": "code",
    "collapsed": false,
    "id": "Zagik25QTekS",
    "jupyter": {
     "outputs_hidden": false
    },
    "outputId": "d14332ba-63ec-4224-ca13-c4ecdab3541a",
    "pycharm": {
     "name": "#%%\n"
    }
   },
   "outputs": [
    {
     "name": "stdout",
     "output_type": "stream",
     "text": [
      "Starting date for the model: 2016-01-01\n",
      "Ending date for the model: 2021-07-19\n",
      "First date of data we need for modeling: 2015-12-12\n",
      "Last date of data we need for modeling: 2021-07-19\n"
     ]
    }
   ],
   "source": [
    "# Specify the key modeling parameters below\n",
    "stock_list = ['AAPL']\n",
    "\n",
    "# Specify the parameters for calculating moving average windows\n",
    "TREND_WINDOW = 10\n",
    "VOLUME_WINDOW = 10\n",
    "MEAN_REVERSION = True  # If false, model using the trend-following strategy\n",
    "\n",
    "# Specify the parameters for calculating RSI\n",
    "RSI_WINDOW = 14\n",
    "RSI_HIGH = 70\n",
    "RSI_MIDDLE = 50\n",
    "RSI_LOW = 30\n",
    "\n",
    "# Specify the risk management parameters\n",
    "HOLDING_PERIOD_MIN = 999\n",
    "HOLDING_PERIOD_MAX = 999\n",
    "GAIN_MAX = 0.99\n",
    "LOSS_MAX = 0.99\n",
    "LONG_ONLY = True  # If false, model both long and short trades\n",
    "\n",
    "# The number of extra days of data we need for calculating moving averages (usually equals to the largest value of window size)\n",
    "EXTRA_DAYS = TREND_WINDOW\n",
    "\n",
    "MODEL_START_DATE = date(2016, 1, 1)\n",
    "print(\"Starting date for the model:\", MODEL_START_DATE)\n",
    "\n",
    "# MODEL_END_DATE = datetime.now().date()\n",
    "MODEL_END_DATE = date(2021, 7, 19)\n",
    "print(\"Ending date for the model:\", MODEL_END_DATE)\n",
    "\n",
    "# data_start_date = MODEL_START_DATE\n",
    "data_start_date = MODEL_START_DATE - timedelta(days=int(EXTRA_DAYS * 2)) # Need more pricing data to calculate moving averages\n",
    "print(\"First date of data we need for modeling:\", data_start_date)\n",
    "\n",
    "data_end_date = MODEL_END_DATE\n",
    "print(\"Last date of data we need for modeling:\", data_end_date)\n",
    "\n",
    "# Set up the verbose flag to print detailed messages for debugging (setting True will activate!)\n",
    "verbose_data_retrieval = False  # Show the head and tail of the raw dataframe\n",
    "verbose_signals = False  # All entries from the Signals dataframe\n",
    "verbose_entry_exit = False  # All entry and exit points from the Signals dataframe\n",
    "verbose_trade_actions = False  # All bought and sold activities during portfolio generation\n",
    "verbose_portfolios = False  # All entries from the Positions dataframe\n",
    "verbose_transactions = True  #  All buying and selling transactions from the Positions dataframe\n",
    "verbose_draw_graphs = True"
   ]
  },
  {
   "cell_type": "code",
   "execution_count": 3,
   "metadata": {
    "collapsed": false,
    "jupyter": {
     "outputs_hidden": false
    },
    "pycharm": {
     "name": "#%%\n"
    }
   },
   "outputs": [],
   "source": [
    "# Set up parameters for displaying report data\n",
    "pd.set_option('display.max_rows', None)\n",
    "pd.set_option('display.max_columns', None)\n",
    "pd.set_option('display.width', 999)"
   ]
  },
  {
   "cell_type": "markdown",
   "metadata": {
    "colab_type": "text",
    "id": "Xa51FMY_TekZ"
   },
   "source": [
    "## Task 2 - Acquire and Pre-Process Data"
   ]
  },
  {
   "cell_type": "code",
   "execution_count": 4,
   "metadata": {
    "colab": {},
    "colab_type": "code",
    "collapsed": false,
    "id": "Og9L0byuTekd",
    "jupyter": {
     "outputs_hidden": false
    },
    "pycharm": {
     "name": "#%%\n"
    }
   },
   "outputs": [],
   "source": [
    "def retrieve_stock_data(ticker=stock_list[0]):\n",
    "    # Set up the data service provider and data acquisition parameters\n",
    "    data_service = 'Quandl'\n",
    "\n",
    "    # Check and see whether the API key is available\n",
    "    api_key = os.environ.get('QUANDL_API')\n",
    "    if api_key is None: sys.exit(data_service + ' API key not available. Script processing cannot continue!!!')\n",
    "\n",
    "    if ticker=='': sys.exit('Stock symbol not available. Script processing cannot continue!!!')\n",
    "\n",
    "    start_date_string = data_start_date.strftime('%Y-%m-%d')\n",
    "    end_date_string = data_end_date.strftime('%Y-%m-%d')\n",
    "    api_url = \"https://www.quandl.com/api/v3/datatables/SHARADAR/SEP.json?date.gte=%s&date.lte=%s&ticker=%s&api_key=%s&qopts.data_version=2\" % (start_date_string, end_date_string, ticker, api_key)\n",
    "    response = requests.get(api_url)\n",
    "    resp_dict = json.loads(response.text)\n",
    "    stock_rawdata = pd.DataFrame(resp_dict['datatable']['data'])\n",
    "    print(len(stock_rawdata), 'data points retrieved from the API call for stock:', ticker)\n",
    "\n",
    "    stock_rawdata.columns = ['ticker', 'date', 'open', 'high', 'low', 'close', 'volume', 'closeadj', 'closeunadj', 'lastupdated']\n",
    "    # stock_rawdata.set_index('date', inplace=True)\n",
    "    stock_rawdata.index = pd.to_datetime(stock_rawdata.date)\n",
    "    stock_pricing = stock_rawdata.sort_index(ascending=True)\n",
    "\n",
    "    # Set up the standard column name for modeling\n",
    "    # Column names may be data-provider specific!\n",
    "    model_template = stock_pricing.loc[:, ['open','closeadj','volume']]\n",
    "    model_template.rename(columns={'open': 'open_price', 'closeadj': 'close_price', 'volume': 'trading_volume'}, inplace=True)\n",
    "    if verbose_data_retrieval:\n",
    "        print(model_template.head())\n",
    "        print()\n",
    "        print(model_template.tail())\n",
    "\n",
    "    return model_template"
   ]
  },
  {
   "cell_type": "markdown",
   "metadata": {
    "colab_type": "text",
    "id": "UKNJYDlGTek0"
   },
   "source": [
    "## Task 3 - Implement and Train Models"
   ]
  },
  {
   "cell_type": "code",
   "execution_count": 5,
   "metadata": {
    "collapsed": false,
    "jupyter": {
     "outputs_hidden": false
    },
    "pycharm": {
     "name": "#%%\n"
    }
   },
   "outputs": [],
   "source": [
    "# Define the function that will generate the indicators and trading signals\n",
    "# General logic for processing the trading signals for each time period\n",
    "# 1 - Check to see whether we need to execute a trading action from the previous day's signal. Once the trading action is executed, move on to the next day.\n",
    "# 2 - If no trade actions to execute on open, check to see whether we have any breakout that generates a trading signal. If we have a new trading signal and currently has no position, mark the entry action for the next day.\n",
    "# 3 - If no new signal for today, check to see whether we need to exit any existing position. If we have an exit signal and currently hold a position, mark the exit action for the next day.\n",
    "# 4 - If nothing is going on, mark up the trading model appropriately and move to the next day.\n",
    "\n",
    "def populate_signals_model1(model_template):\n",
    "    \"\"\"Calculate signals for a Mean Reversion strategy\n",
    "\n",
    "    Strategy details:\n",
    "    Entry signals -- Low point of a trend window (default 10 days)\n",
    "    Exit signals -- high point of a trend window (default 10 days)\n",
    "    \"\"\"\n",
    "\n",
    "    trade_model = model_template.copy()\n",
    "    mean_reversion_flag = MEAN_REVERSION\n",
    "    trend_window = TREND_WINDOW\n",
    "    volume_window = VOLUME_WINDOW\n",
    "\n",
    "    trade_model['buy_on_open'] = False\n",
    "    trade_model['sell_on_open'] = False\n",
    "    trade_model['short_on_open'] = False\n",
    "    trade_model['cover_on_open'] = False\n",
    "    trade_model['position_long'] = False\n",
    "    trade_model['position_short'] = False\n",
    "    trade_model['holding_period'] = 0\n",
    "    trade_model['cost_basis'] = 0.0\n",
    "    trade_model['gain_loss_pct'] = 0.0\n",
    "    trade_model['window_avg'] = trade_model['close_price'].shift(1).rolling(window=trend_window).mean()\n",
    "    trade_model['window_high'] = trade_model['close_price'].shift(1).rolling(window=trend_window).max()\n",
    "    trade_model['window_low'] = trade_model['close_price'].shift(1).rolling(window=trend_window).min()\n",
    "    trade_model['volume_ma'] = trade_model['trading_volume'].rolling(volume_window).mean()\n",
    "\n",
    "    # Truncate the model to the required starting and ending dates\n",
    "    trade_model = trade_model[MODEL_START_DATE:MODEL_END_DATE]\n",
    "    last_index = len(trade_model) - 1\n",
    "\n",
    "    for k in range(len(trade_model)-1):\n",
    "        # Calculate the breakout, True or False.\n",
    "        price_today = trade_model.at[trade_model.index[k],'close_price']\n",
    "        price_high =  trade_model.at[trade_model.index[k],'window_high']\n",
    "        price_low = trade_model.at[trade_model.index[k],'window_low']\n",
    "        if mean_reversion_flag:\n",
    "            breakout_long_side = price_today < price_low\n",
    "            breakout_short_side = price_today > price_high\n",
    "        else:\n",
    "            breakout_long_side = price_today > price_high\n",
    "            breakout_short_side = price_today < price_low\n",
    "        volume_today = trade_model.at[trade_model.index[k],'trading_volume']\n",
    "        volume_avg = trade_model.at[trade_model.index[k],'volume_ma']\n",
    "\n",
    "        # Set the exit signals\n",
    "        price_avg = trade_model.at[trade_model.index[k],'window_avg']\n",
    "        close_above_threshold = price_today > price_avg\n",
    "        close_below_threshold = price_today < price_avg\n",
    "\n",
    "        # For the very first trading session, just need to check for the breakout action\n",
    "        if k == 0:\n",
    "            if breakout_long_side and (volume_today > volume_avg):\n",
    "                trade_model.at[trade_model.index[k+1],'buy_on_open'] = True\n",
    "            elif breakout_short_side and (volume_today > volume_avg) and (not LONG_ONLY):\n",
    "                trade_model.at[trade_model.index[k+1],'short_on_open'] = True\n",
    "        else:\n",
    "            currently_long = trade_model.at[trade_model.index[k-1],'position_long']\n",
    "            currently_short = trade_model.at[trade_model.index[k-1],'position_short']\n",
    "            holding_period = trade_model.at[trade_model.index[k-1],'holding_period']\n",
    "            cost_basis = trade_model.at[trade_model.index[k-1],'cost_basis']\n",
    "\n",
    "            # Check to see whether we need to execute any trade action on open\n",
    "            if trade_model.at[trade_model.index[k],'buy_on_open']:\n",
    "                trade_executed_today = True\n",
    "                currently_long = True\n",
    "                currently_short = False\n",
    "                holding_period = 1\n",
    "                cost_basis = -trade_model.at[trade_model.index[k],'open_price']\n",
    "            elif trade_model.at[trade_model.index[k],'short_on_open']:\n",
    "                trade_executed_today = True\n",
    "                currently_long = False\n",
    "                currently_short = True\n",
    "                holding_period = 1\n",
    "                cost_basis = trade_model.at[trade_model.index[k],'open_price']\n",
    "            elif trade_model.at[trade_model.index[k],'sell_on_open']:\n",
    "                trade_executed_today = True\n",
    "                currently_long = False\n",
    "                currently_short = False\n",
    "                holding_period = 0\n",
    "                cost_basis = 0.0\n",
    "            elif trade_model.at[trade_model.index[k],'cover_on_open']:\n",
    "                trade_executed_today = True\n",
    "                currently_long = False\n",
    "                currently_short = False\n",
    "                holding_period = 0\n",
    "                cost_basis = 0.0\n",
    "            else:\n",
    "                trade_executed_today = False\n",
    "\n",
    "            # If no trade on open, check to see whether we have a breakout with an entry the next day\n",
    "            if breakout_long_side and (not currently_long) and (not currently_short) and (volume_today > volume_avg) and (k < last_index):\n",
    "                trade_model.at[trade_model.index[k+1],'buy_on_open'] = True\n",
    "            elif breakout_short_side and (not currently_long) and (not currently_short) and (volume_today > volume_avg) and (k < last_index) and (not LONG_ONLY):\n",
    "                trade_model.at[trade_model.index[k+1],'short_on_open'] = True\n",
    "\n",
    "            # If no breakout, check to see whether we need to exit based on the price action\n",
    "            if currently_long and ((mean_reversion_flag and close_above_threshold) or ((not mean_reversion_flag) and close_below_threshold) or (holding_period >= HOLDING_PERIOD_MAX)):\n",
    "                trade_model.at[trade_model.index[k+1],'sell_on_open'] = True\n",
    "            elif currently_short and ((mean_reversion_flag and close_below_threshold) or ((not mean_reversion_flag) and close_above_threshold) or (holding_period >= HOLDING_PERIOD_MAX)):\n",
    "                trade_model.at[trade_model.index[k+1],'cover_on_open'] = True\n",
    "\n",
    "            # If no breakout, check to see whether we need to exit based on the profit or loss targets\n",
    "            if currently_long :\n",
    "                up_down_pct = (cost_basis + price_today) / abs(cost_basis)\n",
    "                trade_model.at[trade_model.index[k],'gain_loss_pct'] = up_down_pct\n",
    "                if (up_down_pct >= GAIN_MAX) or (up_down_pct <= -LOSS_MAX) :\n",
    "                    trade_model.at[trade_model.index[k+1],'sell_on_open'] = True\n",
    "            elif currently_short :\n",
    "                up_down_pct = (cost_basis - price_today) / abs(cost_basis)\n",
    "                trade_model.at[trade_model.index[k],'gain_loss_pct'] = up_down_pct\n",
    "                if (up_down_pct >= GAIN_MAX) or (up_down_pct <= -LOSS_MAX) :\n",
    "                    trade_model.at[trade_model.index[k+1],'cover_on_open'] = True\n",
    "\n",
    "            # If no action on a given day, carry over the position status\n",
    "            if (k > 0) and (not trade_executed_today):\n",
    "                if currently_long or currently_short:\n",
    "                    holding_period = holding_period + 1\n",
    "\n",
    "            trade_model.at[trade_model.index[k],'position_long'] = currently_long\n",
    "            trade_model.at[trade_model.index[k],'position_short'] = currently_short\n",
    "            trade_model.at[trade_model.index[k],'holding_period'] = holding_period\n",
    "            trade_model.at[trade_model.index[k],'cost_basis'] = cost_basis\n",
    "\n",
    "            # # Exiting the position on the last day of modeling period\n",
    "            # if k == last_index-1:\n",
    "            #     if trade_model.at[trade_model.index[k],'position_long']:\n",
    "            #         trade_model.at[trade_model.index[k+1],'sell_on_open'] = True\n",
    "            #         trade_model.at[trade_model.index[k+1],'position_long'] = False\n",
    "            #     elif trade_model.at[trade_model.index[k],'position_short']:\n",
    "            #         trade_model.at[trade_model.index[k+1],'cover_on_open'] = True\n",
    "            #         trade_model.at[trade_model.index[k+1],'position_short'] = False\n",
    "\n",
    "    if verbose_signals: print(trade_model, '\\n')\n",
    "    return trade_model"
   ]
  },
  {
   "cell_type": "code",
   "execution_count": 6,
   "metadata": {
    "colab": {},
    "colab_type": "code",
    "collapsed": false,
    "id": "yfQTRXPnTelA",
    "jupyter": {
     "outputs_hidden": false
    },
    "pycharm": {
     "name": "#%%\n"
    }
   },
   "outputs": [],
   "source": [
    "# Define the function that will generate the indicators and trading signals\n",
    "# General logic for processing the trading signals for each time period\n",
    "# 1 - Check to see whether we need to execute a trading action from the previous day's signal. Once the trading action is executed, move on to the next day.\n",
    "# 2 - If no trade actions to execute on open, check to see whether we have any breakout that generates a trading signal. If we have a new trading signal and currently has no position, mark the entry action for the next day.\n",
    "# 3 - If no new signal for today, check to see whether we need to exit any existing position. If we have an exit signal and currently hold a position, mark the exit action for the next day.\n",
    "# 4 - If nothing is going on, mark up the trading model appropriately and move to the next day.\n",
    "\n",
    "def populate_signals_model2(model_template):\n",
    "    \"\"\"Calculate signals for a Mean Reversion strategy\n",
    "\n",
    "    Strategy details:\n",
    "    Entry signals -- Low point of a trend window (default 10 days)\n",
    "    Exit signals -- Above the high RSI threshold (default 70)\n",
    "    \"\"\"\n",
    "\n",
    "    trade_model = model_template.copy()\n",
    "    mean_reversion_flag = MEAN_REVERSION\n",
    "    trend_window = TREND_WINDOW\n",
    "    volume_window = VOLUME_WINDOW\n",
    "    rsi_lookback = RSI_WINDOW\n",
    "\n",
    "    trade_model['buy_on_open'] = False\n",
    "    trade_model['sell_on_open'] = False\n",
    "    trade_model['short_on_open'] = False\n",
    "    trade_model['cover_on_open'] = False\n",
    "    trade_model['position_long'] = False\n",
    "    trade_model['position_short'] = False\n",
    "    trade_model['holding_period'] = 0\n",
    "    trade_model['cost_basis'] = 0.0\n",
    "    trade_model['gain_loss_pct'] = 0.0\n",
    "    trade_model['window_avg'] = trade_model['close_price'].shift(1).rolling(window=trend_window).mean()\n",
    "    trade_model['window_high'] = trade_model['close_price'].shift(1).rolling(window=trend_window).max()\n",
    "    trade_model['window_low'] = trade_model['close_price'].shift(1).rolling(window=trend_window).min()\n",
    "    trade_model['volume_ma'] = trade_model['trading_volume'].rolling(volume_window).mean()\n",
    "\n",
    "    # Calculate the RSI ratings\n",
    "    gain_history = []\n",
    "    loss_history = []\n",
    "    for k in range(len(trade_model)):\n",
    "        close_price = trade_model.at[trade_model.index[k],'close_price']\n",
    "        if k == 0:\n",
    "            trade_model.at[trade_model.index[k],'rsi_value'] = 50\n",
    "        else:\n",
    "            previous_price = trade_model.at[trade_model.index[k-1],'close_price']\n",
    "            gain_history.append(max(0, close_price - previous_price))\n",
    "            loss_history.append(max(0, previous_price - close_price))\n",
    "            if len(gain_history) > rsi_lookback: # maximum observations is equal to look-back period\n",
    "                del (gain_history[0])\n",
    "                del (loss_history[0])\n",
    "            avg_gain = stats.mean(gain_history) # average gain over look-back period\n",
    "            avg_loss = stats.mean(loss_history) # average loss over look-back period\n",
    "            rs = 1\n",
    "            if avg_loss > 0: # to avoid division by 0, which is undefined\n",
    "                rs = avg_gain / avg_loss\n",
    "            trade_model.at[trade_model.index[k],'rsi_value'] = 100 - (100 / (1 + rs))\n",
    "\n",
    "    # Truncate the model to the required starting and ending dates\n",
    "    trade_model = trade_model[MODEL_START_DATE:MODEL_END_DATE]\n",
    "    last_index = len(trade_model) - 1\n",
    "\n",
    "    for k in range(len(trade_model)-1):\n",
    "        # Calculate the breakout, True or False.\n",
    "        price_today = trade_model.at[trade_model.index[k],'close_price']\n",
    "        price_high =  trade_model.at[trade_model.index[k],'window_high']\n",
    "        price_low = trade_model.at[trade_model.index[k],'window_low']\n",
    "        if mean_reversion_flag:\n",
    "            breakout_long_side = price_today < price_low\n",
    "            breakout_short_side = price_today > price_high\n",
    "        else:\n",
    "            breakout_long_side = price_today > price_high\n",
    "            breakout_short_side = price_today < price_low\n",
    "        volume_today = trade_model.at[trade_model.index[k],'trading_volume']\n",
    "        volume_avg = trade_model.at[trade_model.index[k],'volume_ma']\n",
    "\n",
    "        # Set the exit signals\n",
    "        rsi_value = trade_model.at[trade_model.index[k],'rsi_value']\n",
    "        close_above_threshold = rsi_value > RSI_HIGH\n",
    "        close_below_threshold = rsi_value < RSI_LOW\n",
    "\n",
    "        # For the very first trading session, just need to check for the breakout action\n",
    "        if k == 0:\n",
    "            if breakout_long_side and (volume_today > volume_avg):\n",
    "                trade_model.at[trade_model.index[k+1],'buy_on_open'] = True\n",
    "            elif breakout_short_side and (volume_today > volume_avg) and (not LONG_ONLY):\n",
    "                trade_model.at[trade_model.index[k+1],'short_on_open'] = True\n",
    "        else:\n",
    "            currently_long = trade_model.at[trade_model.index[k-1],'position_long']\n",
    "            currently_short = trade_model.at[trade_model.index[k-1],'position_short']\n",
    "            holding_period = trade_model.at[trade_model.index[k-1],'holding_period']\n",
    "            cost_basis = trade_model.at[trade_model.index[k-1],'cost_basis']\n",
    "\n",
    "            # Check to see whether we need to execute any trade action on open\n",
    "            if trade_model.at[trade_model.index[k],'buy_on_open']:\n",
    "                trade_executed_today = True\n",
    "                currently_long = True\n",
    "                currently_short = False\n",
    "                holding_period = 1\n",
    "                cost_basis = -trade_model.at[trade_model.index[k],'open_price']\n",
    "            elif trade_model.at[trade_model.index[k],'short_on_open']:\n",
    "                trade_executed_today = True\n",
    "                currently_long = False\n",
    "                currently_short = True\n",
    "                holding_period = 1\n",
    "                cost_basis = trade_model.at[trade_model.index[k],'open_price']\n",
    "            elif trade_model.at[trade_model.index[k],'sell_on_open']:\n",
    "                trade_executed_today = True\n",
    "                currently_long = False\n",
    "                currently_short = False\n",
    "                holding_period = 0\n",
    "                cost_basis = 0.0\n",
    "            elif trade_model.at[trade_model.index[k],'cover_on_open']:\n",
    "                trade_executed_today = True\n",
    "                currently_long = False\n",
    "                currently_short = False\n",
    "                holding_period = 0\n",
    "                cost_basis = 0.0\n",
    "            else:\n",
    "                trade_executed_today = False\n",
    "\n",
    "            # If no trade on open, check to see whether we have a breakout with an entry the next day\n",
    "            if breakout_long_side and (not currently_long) and (not currently_short) and (volume_today > volume_avg) and (k < last_index):\n",
    "                trade_model.at[trade_model.index[k+1],'buy_on_open'] = True\n",
    "            elif breakout_short_side and (not currently_long) and (not currently_short) and (volume_today > volume_avg) and (k < last_index) and (not LONG_ONLY):\n",
    "                trade_model.at[trade_model.index[k+1],'short_on_open'] = True\n",
    "\n",
    "            # If no breakout, check to see whether we need to exit based on the price action\n",
    "            if currently_long and ((mean_reversion_flag and close_above_threshold) or ((not mean_reversion_flag) and close_below_threshold) or (holding_period >= HOLDING_PERIOD_MAX)):\n",
    "                trade_model.at[trade_model.index[k+1],'sell_on_open'] = True\n",
    "            elif currently_short and ((mean_reversion_flag and close_below_threshold) or ((not mean_reversion_flag) and close_above_threshold) or (holding_period >= HOLDING_PERIOD_MAX)):\n",
    "                trade_model.at[trade_model.index[k+1],'cover_on_open'] = True\n",
    "\n",
    "            # If no breakout, check to see whether we need to exit based on the profit or loss targets\n",
    "            if currently_long :\n",
    "                up_down_pct = (cost_basis + price_today) / abs(cost_basis)\n",
    "                trade_model.at[trade_model.index[k],'gain_loss_pct'] = up_down_pct\n",
    "                if (up_down_pct >= GAIN_MAX) or (up_down_pct <= -LOSS_MAX) :\n",
    "                    trade_model.at[trade_model.index[k+1],'sell_on_open'] = True\n",
    "            elif currently_short :\n",
    "                up_down_pct = (cost_basis - price_today) / abs(cost_basis)\n",
    "                trade_model.at[trade_model.index[k],'gain_loss_pct'] = up_down_pct\n",
    "                if (up_down_pct >= GAIN_MAX) or (up_down_pct <= -LOSS_MAX) :\n",
    "                    trade_model.at[trade_model.index[k+1],'cover_on_open'] = True\n",
    "\n",
    "            # If no action on a given day, carry over the position status\n",
    "            if (k > 0) and (not trade_executed_today):\n",
    "                if currently_long or currently_short:\n",
    "                    holding_period = holding_period + 1\n",
    "\n",
    "            trade_model.at[trade_model.index[k],'position_long'] = currently_long\n",
    "            trade_model.at[trade_model.index[k],'position_short'] = currently_short\n",
    "            trade_model.at[trade_model.index[k],'holding_period'] = holding_period\n",
    "            trade_model.at[trade_model.index[k],'cost_basis'] = cost_basis\n",
    "\n",
    "            # # Exiting the position on the last day of modeling period\n",
    "            # if k == last_index-1:\n",
    "            #     if trade_model.at[trade_model.index[k],'position_long']:\n",
    "            #         trade_model.at[trade_model.index[k+1],'sell_on_open'] = True\n",
    "            #         trade_model.at[trade_model.index[k+1],'position_long'] = False\n",
    "            #     elif trade_model.at[trade_model.index[k],'position_short']:\n",
    "            #         trade_model.at[trade_model.index[k+1],'cover_on_open'] = True\n",
    "            #         trade_model.at[trade_model.index[k+1],'position_short'] = False\n",
    "\n",
    "    if verbose_signals: print(trade_model, '\\n')\n",
    "    return trade_model"
   ]
  },
  {
   "cell_type": "code",
   "execution_count": 7,
   "metadata": {
    "colab": {
     "base_uri": "https://localhost:8080/",
     "height": 1000
    },
    "colab_type": "code",
    "collapsed": false,
    "id": "327CZKmtTelL",
    "jupyter": {
     "outputs_hidden": false
    },
    "outputId": "b353b49d-0281-4aa7-a530-6747c166eae5",
    "pycharm": {
     "name": "#%%\n"
    }
   },
   "outputs": [],
   "source": [
    "# List the entry/exit points for each model\n",
    "def list_model_entry_exit(trade_model):\n",
    "    print(trade_model[trade_model['buy_on_open'] | trade_model['sell_on_open'] | trade_model['short_on_open'] | trade_model['cover_on_open']])"
   ]
  },
  {
   "cell_type": "code",
   "execution_count": 8,
   "metadata": {
    "collapsed": false,
    "jupyter": {
     "outputs_hidden": false
    },
    "pycharm": {
     "name": "#%%\n"
    }
   },
   "outputs": [],
   "source": [
    "def draw_model_graph(trade_model, ticker='', model_name=''):\n",
    "    graph_data = trade_model.copy()\n",
    "    title_string = model_name + ' Trading Model for ' + ticker\n",
    "    fig = plt.figure(figsize=(16,9))\n",
    "    ylabel = ticker + ' price in $'\n",
    "    ax1 = fig.add_subplot(111, ylabel=ylabel, title=title_string)\n",
    "    graph_data['close_price'].plot(ax=ax1, color='g')\n",
    "    graph_data['window_high'].plot(ax=ax1, color='b')\n",
    "    graph_data['window_low'].plot(ax=ax1, color='r')\n",
    "    ax1.plot(graph_data.loc[graph_data['buy_on_open']].index, graph_data.close_price[graph_data['buy_on_open']], '^', markersize=7, color='b',label='Buy on Open')\n",
    "    ax1.plot(graph_data.loc[graph_data['sell_on_open']].index, graph_data.close_price[graph_data['sell_on_open']], 'v', markersize=7, color='b',label='Sell on Open')\n",
    "    ax1.plot(graph_data.loc[graph_data['short_on_open']].index, graph_data.close_price[graph_data['short_on_open']], '^', markersize=7, color='r',label='Short on Open')\n",
    "    ax1.plot(graph_data.loc[graph_data['cover_on_open']].index, graph_data.close_price[graph_data['cover_on_open']], 'v', markersize=7, color='r',label='Cover on Open')\n",
    "    plt.legend(loc='upper left')\n",
    "    plt.show()"
   ]
  },
  {
   "cell_type": "markdown",
   "metadata": {
    "colab_type": "text",
    "id": "wzTQaZkeTeld"
   },
   "source": [
    "## Task 4 - Back-test Models"
   ]
  },
  {
   "cell_type": "code",
   "execution_count": 9,
   "metadata": {
    "collapsed": false,
    "jupyter": {
     "outputs_hidden": false
    },
    "pycharm": {
     "name": "#%%\n"
    }
   },
   "outputs": [],
   "source": [
    "def generate_trading_portfolios(trade_model):\n",
    "    # Construct a portfolio to track the transactions and returns\n",
    "    portfolio = pd.DataFrame(index=trade_model.index, columns=['trade_action', 'price_executed', 'qty_transacted', 'cost_basis', 'gain_loss', 'qty_on_hand', 'cash_on_hand', 'position_value', 'total_position', 'accum_return'])\n",
    "    portfolio['trade_action'] = False\n",
    "    portfolio.at[portfolio.index[0],'price_executed'] = 0.00\n",
    "    portfolio.at[portfolio.index[0],'qty_transacted'] = 0\n",
    "    portfolio.at[portfolio.index[0],'cost_basis'] = 0.00\n",
    "    portfolio.at[portfolio.index[0],'gain_loss'] = 0.00\n",
    "    portfolio.at[portfolio.index[0],'qty_on_hand'] = 0\n",
    "    portfolio.at[portfolio.index[0],'cash_on_hand'] = INITIAL_CAPITAL\n",
    "    portfolio.at[portfolio.index[0],'position_value'] = 0.00\n",
    "    portfolio.at[portfolio.index[0],'total_position'] = INITIAL_CAPITAL\n",
    "    portfolio.at[portfolio.index[0],'accum_return'] = 0.00\n",
    "    quantity = 1\n",
    "\n",
    "    # The conditional parameters below determine how the trading strategy will be carried out\n",
    "    for i in range(1, len(portfolio)):\n",
    "        price_per_share = trade_model.at[trade_model.index[i],'open_price']\n",
    "        if trade_model.at[trade_model.index[i],'buy_on_open']:\n",
    "            # Code block for Buy on Open\n",
    "            portfolio.at[portfolio.index[i],'trade_action'] = True\n",
    "            portfolio.at[portfolio.index[i],'price_executed'] = price_per_share\n",
    "            portfolio.at[portfolio.index[i],'qty_transacted'] = quantity\n",
    "            recent_cost = price_per_share * -quantity\n",
    "            portfolio.at[portfolio.index[i],'cost_basis'] = recent_cost\n",
    "            portfolio.at[portfolio.index[i],'gain_loss'] = 0.00\n",
    "            portfolio.at[portfolio.index[i],'qty_on_hand'] = portfolio.iloc[i-1]['qty_on_hand'] + quantity\n",
    "            portfolio.at[portfolio.index[i],'cash_on_hand'] = portfolio.iloc[i-1]['cash_on_hand'] + recent_cost\n",
    "            if verbose_trade_actions: print('BOUGHT QTY:', quantity, 'on', portfolio.index[i].date(), 'at the price of', price_per_share)\n",
    "        elif trade_model.at[trade_model.index[i],'sell_on_open']:\n",
    "            # Code block for Sell on Open\n",
    "            portfolio.at[portfolio.index[i],'trade_action'] = True\n",
    "            portfolio.at[portfolio.index[i],'price_executed'] = price_per_share\n",
    "            portfolio.at[portfolio.index[i],'qty_transacted'] = -quantity\n",
    "            recent_cost = 0.00\n",
    "            portfolio.at[portfolio.index[i],'cost_basis'] = recent_cost\n",
    "            portfolio.at[portfolio.index[i],'gain_loss'] = (price_per_share * quantity) + portfolio.iloc[i-1]['cost_basis']\n",
    "            portfolio.at[portfolio.index[i],'qty_on_hand'] = portfolio.iloc[i-1]['qty_on_hand'] - quantity\n",
    "            portfolio.at[portfolio.index[i],'cash_on_hand'] = portfolio.iloc[i-1]['cash_on_hand'] + (price_per_share * quantity)\n",
    "            if verbose_trade_actions: print('SOLD QTY:', quantity, 'on', portfolio.index[i].date(), 'at the price of', price_per_share)\n",
    "        elif trade_model.at[trade_model.index[i],'short_on_open']:\n",
    "            # Code block for Short on Open\n",
    "            portfolio.at[portfolio.index[i],'trade_action'] = True\n",
    "            portfolio.at[portfolio.index[i],'price_executed'] = price_per_share\n",
    "            portfolio.at[portfolio.index[i],'qty_transacted'] = -quantity\n",
    "            recent_cost = price_per_share * quantity\n",
    "            portfolio.at[portfolio.index[i],'cost_basis'] = recent_cost\n",
    "            portfolio.at[portfolio.index[i],'gain_loss'] = 0.00\n",
    "            portfolio.at[portfolio.index[i],'qty_on_hand'] = portfolio.iloc[i-1]['qty_on_hand'] - quantity\n",
    "            portfolio.at[portfolio.index[i],'cash_on_hand'] = portfolio.iloc[i-1]['cash_on_hand'] + recent_cost\n",
    "            if verbose_trade_actions: print('SHORTED QTY:', -quantity, 'on', portfolio.index[i].date(), 'at the price of', trade_model.at[portfolio.index[i],'open_price'])\n",
    "        elif trade_model.at[trade_model.index[i],'cover_on_open']:\n",
    "            # Code block for Cover on Open\n",
    "            portfolio.at[portfolio.index[i],'trade_action'] = True\n",
    "            portfolio.at[portfolio.index[i],'price_executed'] = price_per_share\n",
    "            portfolio.at[portfolio.index[i],'qty_transacted'] = quantity\n",
    "            recent_cost = 0.00\n",
    "            portfolio.at[portfolio.index[i],'cost_basis'] = recent_cost\n",
    "            portfolio.at[portfolio.index[i],'gain_loss'] = portfolio.iloc[i-1]['cost_basis'] - (price_per_share * quantity)\n",
    "            portfolio.at[portfolio.index[i],'qty_on_hand'] = portfolio.iloc[i-1]['qty_on_hand'] + quantity\n",
    "            portfolio.at[portfolio.index[i],'cash_on_hand'] = portfolio.iloc[i-1]['cash_on_hand'] - (price_per_share * quantity)\n",
    "            if verbose_trade_actions: print('COVERED QTY:', quantity, 'on', portfolio.index[i].date(), 'at the price of', trade_model.at[portfolio.index[i],'open_price'])\n",
    "        else:\n",
    "            # Code block for no trade actions\n",
    "            portfolio.at[portfolio.index[i],'price_executed'] = 0.00\n",
    "            portfolio.at[portfolio.index[i],'qty_transacted'] = 0\n",
    "            portfolio.at[portfolio.index[i],'cost_basis'] = portfolio.iloc[i-1]['cost_basis']\n",
    "            portfolio.at[portfolio.index[i],'gain_loss'] = 0.00\n",
    "            portfolio.at[portfolio.index[i],'qty_on_hand'] = portfolio.iloc[i-1]['qty_on_hand']\n",
    "            portfolio.at[portfolio.index[i],'cash_on_hand'] = portfolio.iloc[i-1]['cash_on_hand']\n",
    "        portfolio.at[portfolio.index[i],'position_value'] = trade_model.at[trade_model.index[i],'close_price'] * portfolio.at[portfolio.index[i],'qty_on_hand']\n",
    "        portfolio.at[portfolio.index[i],'total_position'] = portfolio.at[portfolio.index[i],'cash_on_hand'] + portfolio.at[portfolio.index[i],'position_value']\n",
    "        portfolio.at[portfolio.index[i],'accum_return'] = portfolio.at[portfolio.index[i],'total_position'] - INITIAL_CAPITAL\n",
    "\n",
    "    if verbose_portfolios: print('\\n', portfolio, '\\n')\n",
    "    return portfolio"
   ]
  },
  {
   "cell_type": "code",
   "execution_count": 10,
   "metadata": {
    "colab": {
     "base_uri": "https://localhost:8080/",
     "height": 1000
    },
    "colab_type": "code",
    "collapsed": false,
    "id": "mOsqVrfRTelw",
    "jupyter": {
     "outputs_hidden": false
    },
    "outputId": "17950f55-4566-48b2-dde6-0974c6e45966",
    "pycharm": {
     "name": "#%%\n"
    }
   },
   "outputs": [],
   "source": [
    "def calculate_positions_performance(trade_model):\n",
    "    trade_positions = generate_trading_portfolios(trade_model)\n",
    "    trade_transactions = trade_positions[trade_positions['trade_action']]\n",
    "    if verbose_transactions: print(trade_transactions)\n",
    "    if trade_transactions.at[trade_transactions.index[-1],'trade_action']:\n",
    "        if trade_transactions.at[trade_transactions.index[-1],'qty_on_hand'] == 0:\n",
    "            print('The current status of the model is:','Waiting to enter a position since',trade_transactions.index.tolist()[-1].date(),'\\n')\n",
    "        elif trade_transactions.at[trade_transactions.index[-1],'qty_on_hand'] > 0:\n",
    "            print('The current status of the model is:','Holding a long position since',trade_transactions.index.tolist()[-1].date(),'\\n')\n",
    "        else:\n",
    "            print('The current status of the model is:','Holding a short position since',trade_transactions.index.tolist()[-1].date(),'\\n')\n",
    "    return trade_positions"
   ]
  },
  {
   "cell_type": "markdown",
   "metadata": {
    "pycharm": {
     "name": "#%% md\n"
    }
   },
   "source": [
    "## Task 5 - Evaluate Strategy Performance"
   ]
  },
  {
   "cell_type": "code",
   "execution_count": 11,
   "metadata": {
    "collapsed": false,
    "jupyter": {
     "outputs_hidden": false
    },
    "pycharm": {
     "name": "#%%\n"
    }
   },
   "outputs": [],
   "source": [
    "def evaluate_strategy_performance(ticker=stock_list[0]):\n",
    "    model1_signals = stock_signals_positions[ticker+'model1_signals']\n",
    "    if verbose_entry_exit:\n",
    "        print('List the entry and exit points for model #1...')\n",
    "        list_model_entry_exit(model1_signals)\n",
    "    print('\\nCalculating the positions for model #1...')\n",
    "    model1_positions = calculate_positions_performance(model1_signals)\n",
    "\n",
    "    model2_signals = stock_signals_positions[ticker+'model2_signals']\n",
    "    if verbose_entry_exit:\n",
    "        print('List the entry and exit points for model #2...')\n",
    "        list_model_entry_exit(model2_signals)\n",
    "    print('\\nCalculating the positions for model #2...')\n",
    "    model2_positions = calculate_positions_performance(model2_signals)\n",
    "\n",
    "    print('Processing the transactions for model #1...')\n",
    "    print('Accumulated profit/loss for one share of stock with initial capital of $%.2f at the end of modeling period: $%.2f' % (INITIAL_CAPITAL, model1_positions.accum_return[-1]))\n",
    "    model1_return_pct = model1_positions.accum_return[-1] / INITIAL_CAPITAL * 100\n",
    "    print('Accumulated return percentage based on the initial capital investment: %.2f%%\\n' % model1_return_pct)\n",
    "\n",
    "    print('Processing the transactions for model #2...')\n",
    "    print('Accumulated profit/loss for one share of stock with initial capital of $%.2f at the end of modeling period: $%.2f' % (INITIAL_CAPITAL, model2_positions.accum_return[-1]))\n",
    "    model2_return_pct = model2_positions.accum_return[-1] / INITIAL_CAPITAL * 100\n",
    "    print('Accumulated return percentage based on the initial capital investment: %.2f%%' % model2_return_pct)\n",
    "\n",
    "    # Calculate the stock's performance for a buy-and-hold model\n",
    "    buy_hold_model = stock_model_template[MODEL_START_DATE:MODEL_END_DATE]\n",
    "    print()\n",
    "    print('The entry point for the buy-and-hold model: $%.2f on %s' % (buy_hold_model.iloc[0]['open_price'], buy_hold_model.index[0].date()))\n",
    "    print('The exit point for the buy-and-hold model: $%.2f on %s' % (buy_hold_model.iloc[-1]['open_price'], buy_hold_model.index[-1].date()))\n",
    "    buy_hold_return = buy_hold_model.iloc[-1]['open_price'] - buy_hold_model.iloc[0]['open_price']\n",
    "    print('The performance of the buy-and-hold model: $%.2f' % buy_hold_return)\n",
    "    buyhold_return_pct = buy_hold_return / INITIAL_CAPITAL * 100\n",
    "    print('Accumulated return percentage based on the initial capital investment: %.2f%%\\n' % buyhold_return_pct)\n",
    "\n",
    "    model_performance = {'Symbol': ticker,\n",
    "                         'Model1_Return_VAL': model1_positions.accum_return[-1],\n",
    "                         'Model1_Return_PCT': model1_return_pct,\n",
    "                         'Model2_Return_VAL': model2_positions.accum_return[-1],\n",
    "                         'Model2_Return_PCT': model2_return_pct,\n",
    "                         'Buy_Hold_Return': buy_hold_return,\n",
    "                         'BH_Return_PCT': buyhold_return_pct}\n",
    "\n",
    "    if verbose_draw_graphs: draw_model_graph(model1_signals, ticker, 'Mean-Reversion without RSI')\n",
    "    if verbose_draw_graphs: draw_model_graph(model2_signals, ticker, 'Mean-Reversion using RSI Exit')\n",
    "\n",
    "    return model_performance"
   ]
  },
  {
   "cell_type": "code",
   "execution_count": 12,
   "metadata": {
    "collapsed": false,
    "jupyter": {
     "outputs_hidden": false
    },
    "pycharm": {
     "name": "#%%\n"
    }
   },
   "outputs": [],
   "source": [
    "# Initialize a dataframe for storing the model's profit and loss\n",
    "performance_summary = pd.DataFrame(columns=['Symbol','Model1_Return_VAL','Model1_Return_PCT',\n",
    "                                            'Model2_Return_VAL','Model2_Return_PCT',\n",
    "                                            'Buy_Hold_Return','BH_Return_PCT'])"
   ]
  },
  {
   "cell_type": "code",
   "execution_count": 13,
   "metadata": {
    "collapsed": false,
    "jupyter": {
     "outputs_hidden": false
    },
    "pycharm": {
     "name": "#%%\n"
    }
   },
   "outputs": [
    {
     "name": "stdout",
     "output_type": "stream",
     "text": [
      "1408 data points retrieved from the API call for stock: AAPL\n",
      "\n",
      "Generating the trading signals for model #1...\n",
      "\n",
      "Generating the trading signals for model #2...\n",
      "\n",
      "Calculating the positions for model #1...\n",
      "            trade_action price_executed qty_transacted cost_basis gain_loss qty_on_hand cash_on_hand position_value total_position accum_return\n",
      "date                                                                                                                                           \n",
      "2016-01-06          True          25.14              1     -25.14         0           1        0.512         23.247         23.759       -1.893\n",
      "2016-01-25          True          25.38             -1          0      0.24           0       25.892              0         25.892         0.24\n",
      "2016-01-28          True         23.448              1    -23.448         0           1        2.444         21.721         24.165       -1.487\n",
      "2016-02-05          True          24.13             -1          0     0.682           0       26.574              0         26.574        0.922\n",
      "2016-04-19          True          26.97              1     -26.97         0           1       -0.396         24.813         24.417       -1.235\n",
      "2016-05-17          True         23.637             -1          0    -3.333           0       23.241              0         23.241       -2.411\n",
      "2016-06-14          True          24.33              1     -24.33         0           1       -1.089         22.758         21.669       -3.983\n",
      "2016-07-01          True         23.872             -1          0    -0.458           0       22.783              0         22.783       -2.869\n",
      "2016-07-27          True         26.066              1    -26.066         0           1       -3.283          24.04         20.757       -4.895\n",
      "2016-07-28          True         25.707             -1          0    -0.359           0       22.424              0         22.424       -3.228\n",
      "2016-08-26          True         26.852              1    -26.852         0           1       -4.428         25.106         20.678       -4.974\n",
      "2016-09-06          True         26.975             -1          0     0.123           0       22.547              0         22.547       -3.105\n",
      "2016-09-09          True          26.16              1     -26.16         0           1       -3.613         24.212         20.599       -5.053\n",
      "2016-09-14          True         27.183             -1          0     1.023           0        23.57              0          23.57       -2.082\n",
      "2016-10-27          True         28.848              1    -28.848         0           1       -5.278         26.877         21.599       -4.053\n",
      "2016-11-17          True         27.453             -1          0    -1.395           0       22.175              0         22.175       -3.477\n",
      "2016-12-02          True         27.293              1    -27.293         0           1       -5.118         25.935         20.817       -4.835\n",
      "2016-12-08          True         27.715             -1          0     0.422           0       22.597              0         22.597       -3.055\n",
      "2017-04-12          True           35.4              1      -35.4         0           1      -12.803         33.607         20.804       -4.848\n",
      "2017-04-21          True          35.61             -1          0      0.21           0       22.807              0         22.807       -2.845\n",
      "2017-06-12          True         36.435              1    -36.435         0           1      -13.628         34.606         20.978       -4.674\n",
      "2017-06-26          True         36.792             -1          0     0.357           0       23.164              0         23.164       -2.488\n",
      "2017-09-11          True         40.125              1    -40.125         0           1      -16.961         38.589         21.628       -4.024\n",
      "2017-10-04          True         38.407             -1          0    -1.718           0       21.446              0         21.446       -4.206\n",
      "2017-12-27          True         42.525              1    -42.525         0           1      -21.079          40.91         19.831       -5.821\n",
      "2018-01-05          True          43.36             -1          0     0.835           0       22.281              0         22.281       -3.371\n",
      "2018-01-25          True         43.626              1    -43.626         0           1      -21.345         41.032         19.687       -5.965\n",
      "2018-02-13          True         40.487             -1          0    -3.139           0       19.142              0         19.142        -6.51\n",
      "2018-03-22          True           42.5              1      -42.5         0           1      -23.358         40.654         17.296       -8.356\n",
      "2018-04-05          True         43.145             -1          0     0.645           0       19.787              0         19.787       -5.865\n",
      "2018-04-23          True         41.709              1    -41.709         0           1      -21.922         39.784         17.862        -7.79\n",
      "2018-05-02          True         43.806             -1          0     2.097           0       21.884              0         21.884       -3.768\n",
      "2018-06-18          True          46.97              1     -46.97         0           1      -25.086         45.618         20.532        -5.12\n",
      "2018-07-03          True         46.947             -1          0    -0.023           0       21.861              0         21.861       -3.791\n",
      "2018-07-31          True         47.575              1    -47.575         0           1      -25.714         45.993         20.279       -5.373\n",
      "2018-08-02          True         50.145             -1          0      2.57           0       24.431              0         24.431       -1.221\n",
      "2018-09-18          True         54.447              1    -54.447         0           1      -30.016         52.934         22.918       -2.734\n",
      "2018-09-25          True         54.938             -1          0     0.491           0       24.922              0         24.922        -0.73\n",
      "2018-10-11          True          53.63              1     -53.63         0           1      -28.708         52.015         23.307       -2.345\n",
      "2018-10-23          True         53.958             -1          0     0.328           0        25.25              0          25.25       -0.402\n",
      "2018-10-30          True         52.788              1    -52.788         0           1      -27.538         51.736         24.198       -1.454\n",
      "2018-11-01          True         54.763             -1          0     1.975           0       27.225              0         27.225        1.573\n",
      "2018-11-05          True         51.075              1    -51.075         0           1       -23.85         48.896         25.046       -0.606\n",
      "2018-12-04          True         45.237             -1          0    -5.838           0       21.387              0         21.387       -4.265\n",
      "2018-12-10          True          41.25              1     -41.25         0           1      -19.863          41.28         21.417       -4.235\n",
      "2019-01-03          True         35.995             -1          0    -5.255           0       16.132              0         16.132        -9.52\n",
      "2019-01-04          True         36.133              1    -36.133         0           1      -20.001         36.086         16.085       -9.567\n",
      "2019-01-10          True         38.125             -1          0     1.992           0       18.124              0         18.124       -7.528\n",
      "2019-05-13          True         46.928              1    -46.928         0           1      -28.804         45.575         16.771       -8.881\n",
      "2019-06-05          True          46.07             -1          0    -0.858           0       17.266              0         17.266       -8.386\n",
      "2019-08-06          True         49.078              1    -49.078         0           1      -31.812         48.343         16.531       -9.121\n",
      "2019-08-14          True          50.79             -1          0     1.712           0       18.978              0         18.978       -6.674\n",
      "2019-12-04          True         65.267              1    -65.267         0           1      -46.289         64.667         18.378       -7.274\n",
      "2019-12-06          True          66.87             -1          0     1.603           0       20.581              0         20.581       -5.071\n",
      "2020-01-28          True          78.15              1     -78.15         0           1      -57.569         78.491         20.922        -4.73\n",
      "2020-01-29          True         81.112             -1          0     2.962           0       23.543              0         23.543       -2.109\n",
      "2020-02-04          True         78.828              1    -78.828         0           1      -55.285         78.778         23.493       -2.159\n",
      "2020-02-05          True          80.88             -1          0     2.052           0       25.595              0         25.595       -0.057\n",
      "2020-02-24          True         74.315              1    -74.315         0           1       -48.72         73.848         25.128       -0.524\n",
      "2020-03-05          True          73.88             -1          0    -0.435           0        25.16              0          25.16       -0.492\n",
      "2020-03-10          True         69.285              1    -69.285         0           1      -44.125         70.668         26.543        0.891\n",
      "2020-03-27          True         63.188             -1          0    -6.097           0       19.063              0         19.063       -6.589\n",
      "2020-07-24          True         90.987              1    -90.987         0           1      -71.924         91.991         20.067       -5.585\n",
      "2020-07-31          True        102.884             -1          0    11.897           0        30.96              0          30.96        5.308\n",
      "2020-09-09          True         117.26              1    -117.26         0           1        -86.3        116.745         30.445        4.793\n",
      "2020-09-28          True         115.01             -1          0     -2.25           0        28.71              0          28.71        3.058\n",
      "2020-10-29          True         112.37              1    -112.37         0           1       -83.66        114.755         31.095        5.443\n",
      "2020-11-05          True         117.95             -1          0      5.58           0        34.29              0          34.29        8.638\n",
      "2020-11-24          True         113.91              1    -113.91         0           1       -79.62        114.804         35.184        9.532\n",
      "2020-12-01          True         121.01             -1          0       7.1           0        41.39              0          41.39       15.738\n",
      "2021-01-07          True         128.36              1    -128.36         0           1       -86.97        130.504         43.534       17.882\n",
      "2021-01-11          True         129.19             -1          0      0.83           0        42.22              0          42.22       16.568\n",
      "2021-02-17          True         131.25              1    -131.25         0           1       -89.03        130.619         41.589       15.937\n",
      "2021-03-12          True          120.4             -1          0    -10.85           0        31.37              0          31.37        5.718\n",
      "2021-05-03          True         132.04              1    -132.04         0           1      -100.67        132.316         31.646        5.994\n",
      "2021-05-21          True         127.82             -1          0     -4.22           0        27.15              0          27.15        1.498\n",
      "2021-06-04          True         124.07              1    -124.07         0           1       -96.92         125.89          28.97        3.318\n",
      "2021-06-07          True         126.17             -1          0       2.1           0        29.25              0          29.25        3.598\n",
      "The current status of the model is: Waiting to enter a position since 2021-06-07 \n",
      "\n",
      "\n",
      "Calculating the positions for model #2...\n",
      "            trade_action price_executed qty_transacted cost_basis gain_loss qty_on_hand cash_on_hand position_value total_position accum_return\n",
      "date                                                                                                                                           \n",
      "2016-01-06          True          25.14              1     -25.14         0           1        0.512         23.247         23.759       -1.893\n",
      "2016-03-04          True         25.593             -1          0     0.453           0       26.105              0         26.105        0.453\n",
      "2016-04-19          True          26.97              1     -26.97         0           1       -0.865         24.813         23.948       -1.704\n",
      "2016-05-26          True          24.92             -1          0     -2.05           0       24.055              0         24.055       -1.597\n",
      "2016-06-14          True          24.33              1     -24.33         0           1       -0.275         22.758         22.483       -3.169\n",
      "2016-07-18          True         24.675             -1          0     0.345           0         24.4              0           24.4       -1.252\n",
      "2016-07-27          True         26.066              1    -26.066         0           1       -1.666          24.04         22.374       -3.278\n",
      "2016-07-28          True         25.707             -1          0    -0.359           0       24.041              0         24.041       -1.611\n",
      "2016-08-26          True         26.852              1    -26.852         0           1       -2.811         25.106         22.295       -3.357\n",
      "2016-09-29          True          28.29             -1          0     1.438           0       25.479              0         25.479       -0.173\n",
      "2016-10-27          True         28.848              1    -28.848         0           1       -3.369         26.877         23.508       -2.144\n",
      "2016-12-20          True         29.185             -1          0     0.337           0       25.816              0         25.816        0.164\n",
      "2017-04-12          True           35.4              1      -35.4         0           1       -9.584         33.607         24.023       -1.629\n",
      "2017-05-03          True         36.398             -1          0     0.998           0       26.814              0         26.814        1.162\n",
      "2017-06-12          True         36.435              1    -36.435         0           1       -9.621         34.606         24.985       -0.667\n",
      "2017-07-19          True          37.62             -1          0     1.185           0       27.999              0         27.999        2.347\n",
      "2017-09-11          True         40.125              1    -40.125         0           1      -12.126         38.589         26.463        0.811\n",
      "2017-10-16          True         39.475             -1          0     -0.65           0       27.349              0         27.349        1.697\n",
      "2017-12-27          True         42.525              1    -42.525         0           1      -15.176          40.91         25.734        0.082\n",
      "2018-01-18          True         44.843             -1          0     2.318           0       29.667              0         29.667        4.015\n",
      "2018-01-25          True         43.626              1    -43.626         0           1      -13.959         41.032         27.073        1.421\n",
      "2018-02-27          True         44.775             -1          0     1.149           0       30.816              0         30.816        5.164\n",
      "2018-03-22          True           42.5              1      -42.5         0           1      -11.684         40.654          28.97        3.318\n",
      "2018-04-19          True         43.737             -1          0     1.237           0       32.053              0         32.053        6.401\n",
      "2018-04-23          True         41.709              1    -41.709         0           1       -9.656         39.784         30.128        4.476\n",
      "2018-05-11          True         47.373             -1          0     5.664           0       37.717              0         37.717       12.065\n",
      "2018-06-18          True          46.97              1     -46.97         0           1       -9.253         45.618         36.365       10.713\n",
      "2018-07-25          True         48.265             -1          0     1.295           0       39.012              0         39.012        13.36\n",
      "2018-07-31          True         47.575              1    -47.575         0           1       -8.563         45.993          37.43       11.778\n",
      "2018-08-02          True         50.145             -1          0      2.57           0       41.582              0         41.582        15.93\n",
      "2018-09-18          True         54.447              1    -54.447         0           1      -12.865         52.934         40.069       14.417\n",
      "2019-02-04          True         41.852             -1          0   -12.595           0       28.987              0         28.987        3.335\n",
      "2019-05-13          True         46.928              1    -46.928         0           1      -17.941         45.575         27.634        1.982\n",
      "2019-06-14          True         47.886             -1          0     0.958           0       29.945              0         29.945        4.293\n",
      "2019-08-06          True         49.078              1    -49.078         0           1      -19.133         48.343          29.21        3.558\n",
      "2019-09-16          True         54.432             -1          0     5.354           0       35.299              0         35.299        9.647\n",
      "2019-12-04          True         65.267              1    -65.267         0           1      -29.968         64.667         34.699        9.047\n",
      "2019-12-23          True         70.132             -1          0     4.865           0       40.164              0         40.164       14.512\n",
      "2020-01-28          True          78.15              1     -78.15         0           1      -37.986         78.491         40.505       14.853\n",
      "2020-04-14          True             70             -1          0     -8.15           0       32.014              0         32.014        6.362\n",
      "2020-07-24          True         90.987              1    -90.987         0           1      -58.973         91.991         33.018        7.366\n",
      "2020-08-06          True        110.405             -1          0    19.418           0       51.432              0         51.432        25.78\n",
      "2020-09-09          True         117.26              1    -117.26         0           1      -65.828        116.745         50.917       25.265\n",
      "2020-11-20          True         118.64             -1          0      1.38           0       52.812              0         52.812        27.16\n",
      "2020-11-24          True         113.91              1    -113.91         0           1      -61.098        114.804         53.706       28.054\n",
      "2020-12-15          True         124.34             -1          0     10.43           0       63.242              0         63.242        37.59\n",
      "2021-01-07          True         128.36              1    -128.36         0           1      -65.118        130.504         65.386       39.734\n",
      "2021-01-28          True         139.52             -1          0     11.16           0       74.402              0         74.402        48.75\n",
      "2021-02-17          True         131.25              1    -131.25         0           1      -56.848        130.619         73.771       48.119\n",
      "2021-04-09          True          129.8             -1          0     -1.45           0       72.952              0         72.952         47.3\n",
      "2021-05-03          True         132.04              1    -132.04         0           1      -59.088        132.316         73.228       47.576\n",
      "2021-06-18          True         130.71             -1          0     -1.33           0       71.622              0         71.622        45.97\n",
      "The current status of the model is: Waiting to enter a position since 2021-06-18 \n",
      "\n",
      "Processing the transactions for model #1...\n",
      "Accumulated profit/loss for one share of stock with initial capital of $25.65 at the end of modeling period: $3.60\n",
      "Accumulated return percentage based on the initial capital investment: 14.03%\n",
      "\n",
      "Processing the transactions for model #2...\n",
      "Accumulated profit/loss for one share of stock with initial capital of $25.65 at the end of modeling period: $45.97\n",
      "Accumulated return percentage based on the initial capital investment: 179.21%\n",
      "\n",
      "The entry point for the buy-and-hold model: $25.65 on 2016-01-04\n",
      "The exit point for the buy-and-hold model: $143.75 on 2021-07-19\n",
      "The performance of the buy-and-hold model: $118.10\n",
      "Accumulated return percentage based on the initial capital investment: 460.39%\n",
      "\n"
     ]
    },
    {
     "data": {
      "image/png": "[encoded data removed]",
      "text/plain": [
       "<Figure size 1152x648 with 1 Axes>"
      ]
     },
     "metadata": {
      "needs_background": "light"
     },
     "output_type": "display_data"
    },
    {
     "data": {
      "image/png": "[encoded data removed]",
      "text/plain": [
       "<Figure size 1152x648 with 1 Axes>"
      ]
     },
     "metadata": {
      "needs_background": "light"
     },
     "output_type": "display_data"
    }
   ],
   "source": [
    "for symbol in stock_list:\n",
    "    stock_signals_positions = {}\n",
    "    stock_model_template = retrieve_stock_data(symbol)\n",
    "\n",
    "    print('\\nGenerating the trading signals for model #1...')\n",
    "    tag_name = symbol + 'model1_signals'\n",
    "    stock_signals_positions[tag_name] = populate_signals_model1(stock_model_template)\n",
    "\n",
    "    print('\\nGenerating the trading signals for model #2...')\n",
    "    tag_name = symbol + 'model2_signals'\n",
    "    stock_signals_positions[tag_name] = populate_signals_model2(stock_model_template)\n",
    "\n",
    "    INITIAL_CAPITAL = stock_signals_positions[tag_name].at[stock_signals_positions[tag_name].index[0],'open_price']\n",
    "    performance_values = evaluate_strategy_performance(symbol)\n",
    "    performance_summary = performance_summary.append(performance_values, ignore_index=True)"
   ]
  },
  {
   "cell_type": "code",
   "execution_count": 14,
   "metadata": {
    "collapsed": false,
    "jupyter": {
     "outputs_hidden": false
    },
    "pycharm": {
     "name": "#%%\n"
    }
   },
   "outputs": [
    {
     "name": "stdout",
     "output_type": "stream",
     "text": [
      "  Symbol  Model1_Return_VAL  Model1_Return_PCT  Model2_Return_VAL  Model2_Return_PCT  Buy_Hold_Return  BH_Return_PCT\n",
      "0   AAPL              3.598          14.026197              45.97           179.2063          118.098     460.385155\n"
     ]
    }
   ],
   "source": [
    "print(performance_summary)"
   ]
  },
  {
   "cell_type": "code",
   "execution_count": 15,
   "metadata": {
    "collapsed": false,
    "jupyter": {
     "outputs_hidden": false
    },
    "pycharm": {
     "name": "#%%\n"
    }
   },
   "outputs": [
    {
     "name": "stdout",
     "output_type": "stream",
     "text": [
      "Total time for the script: 0:00:12.943419\n"
     ]
    }
   ],
   "source": [
    "print ('Total time for the script:',(datetime.now() - startTimeScript))"
   ]
  }
 ],
 "metadata": {
  "colab": {
   "collapsed_sections": [],
   "name": "py_algotrading_ema_crossover_grid_search.ipynb",
   "provenance": []
  },
  "kernelspec": {
   "display_name": "Python 3",
   "language": "python",
   "name": "python3"
  },
  "language_info": {
   "codemirror_mode": {
    "name": "ipython",
    "version": 3
   },
   "file_extension": ".py",
   "mimetype": "text/x-python",
   "name": "python",
   "nbconvert_exporter": "python",
   "pygments_lexer": "ipython3",
   "version": "3.8.5"
  }
 },
 "nbformat": 4,
 "nbformat_minor": 4
}
