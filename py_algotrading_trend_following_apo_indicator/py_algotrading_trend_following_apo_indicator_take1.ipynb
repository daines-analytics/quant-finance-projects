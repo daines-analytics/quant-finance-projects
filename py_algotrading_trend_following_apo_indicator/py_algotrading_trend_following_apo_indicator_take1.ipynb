{
 "cells": [
  {
   "cell_type": "markdown",
   "metadata": {
    "colab_type": "text",
    "id": "nn0Ld1RjTekC"
   },
   "source": [
    "# Algorithmic Trading Model for Trend-Following with APO Indicator Strategy Using Python Take 1\n",
    "### David Lowe\n",
    "### March 24, 2021\n",
    "\n",
    "NOTE: This script is for learning purposes only and does not constitute a recommendation for buying or selling any stock mentioned in this script.\n",
    "\n",
    "SUMMARY: This project aims to construct and test an algorithmic trading model and document the end-to-end steps using a template.\n",
    "\n",
    "INTRODUCTION: This algorithmic trading model examines a simple trend-following strategy for a stock. The model enters a position when the price reaches either the highest or lowest points for the last X number of days. The model will exit the trade when the stock's MACD histogram switches side.\n",
    "\n",
    "In addition to the stock price, the models will also use the absolute price oscillator (APO) indicator to confirm the buy/sell signal further. Finally, the strategy will also incorporate a profit/loss threshold. The strategy will exit the position when the profit or loss has reached the established threshold.\n",
    "\n",
    "In this Take1 iteration, we will set up the models using a trend window size for long trades only. The window size will vary from 10 to 20 trading days at a 5-day increment. We will use 10 to 20 days for the fast EMA curve and 40 to 50 days for the slow EMA curve. The models will also incorporate an APO indicator with a range of plus and minus 2 to 4 dollars. Furthermore, we will establish a profit cap of 15% and a loss threshold of 8%.\n",
    "\n",
    "ANALYSIS: In this Take1 iteration, we analyzed the stock prices for Costco Wholesale (COST) between January 1, 2018, and March 19, 2021. The top trading model produced a profit of 136.38 dollars per share. The buy-and-hold approach yielded a gain of 109.12 dollars per share.\n",
    "\n",
    "CONCLUSION: For the stock of COST during the modeling time frame, the long-only trading strategy with profit/loss limits did not produce a better return than the buy-and-hold approach. We should consider modeling this stock further by experimenting with more variations of the strategy.\n",
    "\n",
    "Dataset ML Model: Time series analysis with numerical attributes\n",
    "\n",
    "Dataset Used: Quandl\n",
    "\n",
    "An algorithmic trading modeling project generally can be broken down into about five major tasks:\n",
    "\n",
    "1. Prepare Environment\n",
    "2. Acquire and Pre-Process Data\n",
    "3. Implement and Train Models\n",
    "4. Back-test Models\n",
    "5. Evaluate Strategy Performance"
   ]
  },
  {
   "cell_type": "markdown",
   "metadata": {
    "colab_type": "text",
    "id": "-DieEv9pTekE"
   },
   "source": [
    "## Task 1 - Prepare Environment"
   ]
  },
  {
   "cell_type": "code",
   "execution_count": 1,
   "metadata": {
    "collapsed": false,
    "jupyter": {
     "outputs_hidden": false
    },
    "pycharm": {
     "name": "#%%\n"
    }
   },
   "outputs": [],
   "source": [
    "# # Install the necessary packages for Colab\n",
    "# !pip install python-dotenv PyMySQL"
   ]
  },
  {
   "cell_type": "code",
   "execution_count": 2,
   "metadata": {
    "collapsed": false,
    "jupyter": {
     "outputs_hidden": false
    },
    "pycharm": {
     "name": "#%%\n"
    }
   },
   "outputs": [],
   "source": [
    "# # Retrieve the GPU information from Colab\n",
    "# gpu_info = !nvidia-smi\n",
    "# gpu_info = '\\n'.join(gpu_info)\n",
    "# if gpu_info.find('failed') >= 0:\n",
    "#     print('Select the Runtime → \"Change runtime type\" menu to enable a GPU accelerator, ')\n",
    "#     print('and then re-execute this cell.')\n",
    "# else:\n",
    "#     print(gpu_info)"
   ]
  },
  {
   "cell_type": "code",
   "execution_count": 3,
   "metadata": {
    "collapsed": false,
    "jupyter": {
     "outputs_hidden": false
    },
    "pycharm": {
     "name": "#%%\n"
    }
   },
   "outputs": [],
   "source": [
    "# # Retrieve the memory configuration from Colab\n",
    "# from psutil import virtual_memory\n",
    "# ram_gb = virtual_memory().total / 1e9\n",
    "# print('Your runtime has {:.1f} gigabytes of available RAM\\n'.format(ram_gb))\n",
    "#\n",
    "# if ram_gb < 20:\n",
    "#     print('To enable a high-RAM runtime, select the Runtime → \"Change runtime type\"')\n",
    "#     print('menu, and then select High-RAM in the Runtime shape dropdown. Then, ')\n",
    "#     print('re-execute this cell.')\n",
    "# else:\n",
    "#     print('You are using a high-RAM runtime!')"
   ]
  },
  {
   "cell_type": "code",
   "execution_count": 4,
   "metadata": {
    "collapsed": false,
    "jupyter": {
     "outputs_hidden": false
    },
    "pycharm": {
     "name": "#%%\n"
    }
   },
   "outputs": [],
   "source": [
    "# # Retrieve the CPU information\n",
    "# ncpu = !nproc\n",
    "# print(\"The number of available CPUs is:\", ncpu[0])"
   ]
  },
  {
   "cell_type": "markdown",
   "metadata": {
    "pycharm": {
     "name": "#%% md\n"
    }
   },
   "source": [
    "### 1.a) Load libraries and modules"
   ]
  },
  {
   "cell_type": "code",
   "execution_count": 5,
   "metadata": {
    "colab": {},
    "colab_type": "code",
    "collapsed": false,
    "id": "8IwyGxxuTekE",
    "jupyter": {
     "outputs_hidden": false
    },
    "pycharm": {
     "name": "#%%\n"
    }
   },
   "outputs": [],
   "source": [
    "import pandas as pd\n",
    "import matplotlib.pyplot as plt\n",
    "import os\n",
    "import sys\n",
    "from datetime import date, datetime, timedelta\n",
    "import requests\n",
    "import json\n",
    "from dotenv import load_dotenv\n",
    "# import pandas_datareader.data as pdr\n",
    "\n",
    "# Begin the timer for the script processing\n",
    "startTimeScript = datetime.now()"
   ]
  },
  {
   "cell_type": "markdown",
   "metadata": {
    "pycharm": {
     "name": "#%% md\n"
    }
   },
   "source": [
    "### 1.b) Set up the controlling parameters and functions¶"
   ]
  },
  {
   "cell_type": "code",
   "execution_count": 6,
   "metadata": {
    "colab": {
     "base_uri": "https://localhost:8080/",
     "height": 51
    },
    "colab_type": "code",
    "collapsed": false,
    "id": "Zagik25QTekS",
    "jupyter": {
     "outputs_hidden": false
    },
    "outputId": "d14332ba-63ec-4224-ca13-c4ecdab3541a",
    "pycharm": {
     "name": "#%%\n"
    }
   },
   "outputs": [
    {
     "name": "stdout",
     "output_type": "stream",
     "text": [
      "Starting date for the model: 2018-01-01\n",
      "Ending date for the model: 2021-03-19\n",
      "First date of data we need for modeling: 2017-10-18\n",
      "Last date of data we need for modeling: 2021-03-19\n"
     ]
    }
   ],
   "source": [
    "# Specify the key modeling parameters below\n",
    "STOCK_SYMBOL = 'COST'\n",
    "INITIAL_CAPITAL = 0\n",
    "\n",
    "# Specify the moving average parameters for the trading strategy\n",
    "WINDOW_MIN = 10\n",
    "WINDOW_MAX = 20\n",
    "WINDOW_INCREMENT = 5\n",
    "VOL_MA_MIN = 10\n",
    "VOL_MA_MAX = 10\n",
    "VOL_MA_INCREMENT = 10\n",
    "HOLDING_MIN = 999\n",
    "HOLDING_MAX = 999\n",
    "HOLDING_INCREMENT = 10\n",
    "GAIN_MAX = 0.15\n",
    "LOSS_MAX = 0.08\n",
    "FAST_MA_MIN = 10\n",
    "FAST_MA_MAX = 20\n",
    "SLOW_MA_MIN = 40\n",
    "SLOW_MA_MAX = 50\n",
    "MA_INCREMENT = 5\n",
    "MA_GAP = 10\n",
    "APO_MIN = 2\n",
    "APO_MAX = 4\n",
    "APO_INCREMENT = 1\n",
    "\n",
    "LONG_ONLY = True\n",
    "SHORT_ONLY = False\n",
    "if LONG_ONLY and SHORT_ONLY: sys.exit(\"Cannot have both LONG_ONLY and SHORT_LONG flags be set to True. Script Processing Aborted!!!\")\n",
    "\n",
    "# The number of extra days of data we need for calculating moving averages (usually equals to the largest value of slow MA)\n",
    "EXTRA_DAYS = SLOW_MA_MAX\n",
    "\n",
    "MODEL_START_DATE = date(2018, 1, 1)\n",
    "print(\"Starting date for the model:\", MODEL_START_DATE)\n",
    "\n",
    "# MODEL_END_DATE = datetime.now().date()\n",
    "MODEL_END_DATE = date(2021, 3, 19)\n",
    "print(\"Ending date for the model:\", MODEL_END_DATE)\n",
    "\n",
    "# data_start_date = MODEL_START_DATE\n",
    "data_start_date = MODEL_START_DATE - timedelta(days=int(EXTRA_DAYS * 1.5)) # Need more pricing data to calculate moving averages\n",
    "print(\"First date of data we need for modeling:\", data_start_date)\n",
    "\n",
    "data_end_date = MODEL_END_DATE\n",
    "print(\"Last date of data we need for modeling:\", data_end_date)"
   ]
  },
  {
   "cell_type": "code",
   "execution_count": 7,
   "metadata": {
    "colab": {
     "base_uri": "https://localhost:8080/",
     "height": 34
    },
    "colab_type": "code",
    "collapsed": false,
    "id": "aTI50KL9TekN",
    "jupyter": {
     "outputs_hidden": false
    },
    "outputId": "68f4a687-6e33-48e5-ef46-c23d7994bc3e",
    "pycharm": {
     "name": "#%%\n"
    }
   },
   "outputs": [],
   "source": [
    "# Specify the script running parameters below\n",
    "\n",
    "# Set Pandas options\n",
    "pd.set_option(\"display.max_rows\", None)\n",
    "pd.set_option(\"display.max_columns\", None)\n",
    "pd.set_option(\"display.width\", 384)\n",
    "\n",
    "# Configure the plotting style\n",
    "plt.style.use('seaborn')\n",
    "\n",
    "# Set up the verbose flag to print detailed messages for debugging (setting True will activate!)\n",
    "verbose_signals = False\n",
    "verbose_models = False\n",
    "verbose_graphs = False\n",
    "verbose_trade_actions = False\n",
    "verbose_portfolios = False\n",
    "verbose_transactions = False\n",
    "verbose_positions = False"
   ]
  },
  {
   "cell_type": "code",
   "execution_count": 8,
   "metadata": {
    "collapsed": false,
    "jupyter": {
     "outputs_hidden": false
    },
    "pycharm": {
     "name": "#%%\n"
    }
   },
   "outputs": [],
   "source": [
    "# Set up the parent directory location for loading the dotenv files\n",
    "\n",
    "# Mount Google Drive locally for storing files\n",
    "# from google.colab import drive\n",
    "# drive.mount('/content/gdrive')\n",
    "# gdrivePrefix = '/content/gdrive/My Drive/Colab_Downloads/'\n",
    "# env_path = '/content/gdrive/My Drive/Colab Notebooks/'\n",
    "# dotenv_path = env_path + \"python_script.env\"\n",
    "# load_dotenv(dotenv_path=dotenv_path)\n",
    "\n",
    "# Set up access to the dotenv file on local PC\n",
    "# env_path = \"/Users/david/PycharmProjects/\"\n",
    "# dotenv_path = env_path + \"python_script.env\"\n",
    "# load_dotenv(dotenv_path=dotenv_path)"
   ]
  },
  {
   "cell_type": "markdown",
   "metadata": {
    "colab_type": "text",
    "id": "Xa51FMY_TekZ"
   },
   "source": [
    "## Task 2 - Acquire and Pre-Process Data"
   ]
  },
  {
   "cell_type": "code",
   "execution_count": 9,
   "metadata": {
    "colab": {},
    "colab_type": "code",
    "collapsed": false,
    "id": "Og9L0byuTekd",
    "jupyter": {
     "outputs_hidden": false
    },
    "pycharm": {
     "name": "#%%\n"
    }
   },
   "outputs": [
    {
     "name": "stdout",
     "output_type": "stream",
     "text": [
      "860 data points retrieved from the API call.\n"
     ]
    }
   ],
   "source": [
    "# Set up the data service provider and data acquisition parameters\n",
    "data_service = 'Quandl'\n",
    "\n",
    "# Check and see whether the API key is available\n",
    "api_key = os.environ.get('QUANDL_API')\n",
    "if api_key is None: sys.exit(\"API key for Quandl not available. Script Processing Aborted!!!\")\n",
    "\n",
    "start_date_string = data_start_date.strftime('%Y-%m-%d')\n",
    "end_date_string = data_end_date.strftime('%Y-%m-%d')\n",
    "api_url = \"https://www.quandl.com/api/v3/datatables/SHARADAR/SEP.json?date.gte=%s&date.lte=%s&ticker=%s&api_key=%s&qopts.data_version=2\" % (start_date_string, end_date_string, STOCK_SYMBOL, api_key)\n",
    "response = requests.get(api_url)\n",
    "resp_dict = json.loads(response.text)\n",
    "stock_rawdata = pd.DataFrame(resp_dict['datatable']['data'])\n",
    "print(len(stock_rawdata), 'data points retrieved from the API call.')"
   ]
  },
  {
   "cell_type": "code",
   "execution_count": 10,
   "metadata": {},
   "outputs": [
    {
     "name": "stdout",
     "output_type": "stream",
     "text": [
      "           ticker        date    open    high      low   close     volume  closeadj  closeunadj lastupdated\n",
      "date                                                                                                       \n",
      "2017-10-18   COST  2017-10-18  158.84  158.84  157.305  157.55  3011277.0   148.529      157.55  2021-02-04\n",
      "2017-10-19   COST  2017-10-19  157.14  158.76  157.003  158.46  2981719.0   149.387      158.46  2021-02-04\n",
      "2017-10-20   COST  2017-10-20  158.97  161.01  158.510  160.77  3993227.0   151.565      160.77  2021-02-04\n",
      "2017-10-23   COST  2017-10-23  160.85  162.39  160.580  162.04  2811210.0   152.762      162.04  2021-02-04\n",
      "2017-10-24   COST  2017-10-24  161.16  162.89  161.000  162.29  3040729.0   152.998      162.29  2021-02-04\n",
      "\n",
      "           ticker        date    open    high      low   close     volume  closeadj  closeunadj lastupdated\n",
      "date                                                                                                       \n",
      "2021-03-15   COST  2021-03-15  333.60  333.68  327.320  330.51  3237938.0    330.51      330.51  2021-03-15\n",
      "2021-03-16   COST  2021-03-16  329.67  330.03  326.640  327.25  3049667.0    327.25      327.25  2021-03-16\n",
      "2021-03-17   COST  2021-03-17  326.00  330.50  324.120  329.19  2669276.0    329.19      329.19  2021-03-17\n",
      "2021-03-18   COST  2021-03-18  326.48  328.14  322.375  322.98  2738244.0    322.98      322.98  2021-03-18\n",
      "2021-03-19   COST  2021-03-19  323.61  329.25  322.390  328.91  4859256.0    328.91      328.91  2021-03-19\n"
     ]
    }
   ],
   "source": [
    "stock_rawdata.columns = ['ticker', 'date', 'open', 'high', 'low', 'close', 'volume', 'closeadj', 'closeunadj', 'lastupdated']\n",
    "# stock_rawdata.set_index('date', inplace=True)\n",
    "stock_rawdata.index = pd.to_datetime(stock_rawdata.date)\n",
    "stock_pricing = stock_rawdata.sort_index(ascending=True)\n",
    "print(stock_pricing.head())\n",
    "print()\n",
    "print(stock_pricing.tail())"
   ]
  },
  {
   "cell_type": "code",
   "execution_count": 11,
   "metadata": {
    "colab": {
     "base_uri": "https://localhost:8080/",
     "height": 535
    },
    "colab_type": "code",
    "collapsed": false,
    "id": "Tfuu40coTekv",
    "jupyter": {
     "outputs_hidden": false
    },
    "outputId": "2357753d-6c83-46ad-e8cc-8593497d20ff",
    "pycharm": {
     "name": "#%%\n"
    }
   },
   "outputs": [
    {
     "data": {
      "image/png": "[encoded data removed]",
      "text/plain": [
       "<Figure size 1152x648 with 1 Axes>"
      ]
     },
     "metadata": {},
     "output_type": "display_data"
    }
   ],
   "source": [
    "# Set up the standard column name for modeling\n",
    "# Column names may be data-provider specific!\n",
    "MODEL_TEMPLATE = stock_pricing.loc[:, ['open','closeadj','volume']]\n",
    "MODEL_TEMPLATE.rename(columns={'open': 'open_price', 'closeadj': 'close_price', 'volume': 'trading_volume'}, inplace=True)\n",
    "plot_title = 'Historical Stock Close Price for ' + STOCK_SYMBOL + ' from ' + data_service\n",
    "MODEL_TEMPLATE['close_price'].plot(figsize=(16,9), title=plot_title)\n",
    "plt.show()"
   ]
  },
  {
   "cell_type": "markdown",
   "metadata": {
    "colab_type": "text",
    "id": "UKNJYDlGTek0"
   },
   "source": [
    "## Task 3 - Implement and Train Models"
   ]
  },
  {
   "cell_type": "code",
   "execution_count": 12,
   "metadata": {
    "colab": {},
    "colab_type": "code",
    "collapsed": false,
    "id": "yfQTRXPnTelA",
    "jupyter": {
     "outputs_hidden": false
    },
    "pycharm": {
     "name": "#%%\n"
    }
   },
   "outputs": [],
   "source": [
    "# Define the function that will generate the indicators and trading signals\n",
    "# General logic for processing the trading signals for each time period\n",
    "# 1 - Check to see whether we need to execute a trading action from the previous day's signal. Once the trading action is executed, move on to the next day.\n",
    "# 2 - If no trade actions to execute on open, check to see whether we have any breakout that generates a trading signal. If we have a new trading signal and currently has no position, mark the entry action for the next day.\n",
    "# 3 - If no new signal for today, check to see whether we need to exit any existing position. If we have an exit signal and currently hold a position, mark the exit action for the next day.\n",
    "# 4 - If nothing is going on, mark up the trading model appropriately and move to the next day.\n",
    "\n",
    "def populate_signals(window=WINDOW_MIN, vol_ma=VOL_MA_MIN, max_holding=HOLDING_MAX, fast_ma=FAST_MA_MIN, slow_ma=SLOW_MA_MIN, apo_value=APO_MIN):\n",
    "\n",
    "    trade_model = MODEL_TEMPLATE.copy()\n",
    "    trade_model['window_high'] = trade_model['close_price'].shift(1).rolling(window=window).max()\n",
    "    trade_model['window_low'] = trade_model['close_price'].shift(1).rolling(window=window).min()\n",
    "    trade_model['buy_on_open'] = False\n",
    "    trade_model['sell_on_open'] = False\n",
    "    trade_model['short_on_open'] = False\n",
    "    trade_model['cover_on_open'] = False\n",
    "    trade_model['holding_period'] = None\n",
    "    trade_model['cost_basis'] = None\n",
    "    trade_model['pandl_pct'] = None\n",
    "    trade_model['position_long'] = None\n",
    "    trade_model['position_short'] = None\n",
    "    trade_model['window_avg'] = trade_model['close_price'].shift(1).rolling(window=window).mean()\n",
    "    trade_model['close_above_avg'] = False  # Price closes above the window average\n",
    "    trade_model['close_below_avg'] = False  # Price closes below the window average\n",
    "    trade_model['volume_ma'] = trade_model['trading_volume'].rolling(vol_ma).mean()\n",
    "    trade_model['ema_fast'] = trade_model['close_price'].ewm(span=fast_ma).mean()\n",
    "    trade_model['ema_slow'] = trade_model['close_price'].ewm(span=slow_ma).mean()\n",
    "    trade_model['apo'] = trade_model['ema_fast'] - trade_model['ema_slow']\n",
    "\n",
    "    # Truncate the model to the required starting and ending dates\n",
    "    trade_model = trade_model[MODEL_START_DATE:MODEL_END_DATE]\n",
    "    last_index = len(trade_model) - 1\n",
    "\n",
    "    for k in range(len(trade_model)):\n",
    "        breakout_high = trade_model.at[trade_model.index[k],'close_price'] - trade_model.at[trade_model.index[k],'window_high']\n",
    "        breakout_low = trade_model.at[trade_model.index[k],'close_price'] - trade_model.at[trade_model.index[k],'window_low']\n",
    "        trade_volume = trade_model.at[trade_model.index[k],'trading_volume']\n",
    "        average_volume = trade_model.at[trade_model.index[k],'volume_ma']\n",
    "        if k == 0:\n",
    "            currently_long = False\n",
    "            currently_short = False\n",
    "            holding_period = 0\n",
    "            cost_basis = 0\n",
    "        else:\n",
    "            currently_long = trade_model.at[trade_model.index[k-1],'position_long']\n",
    "            currently_short = trade_model.at[trade_model.index[k-1],'position_short']\n",
    "            holding_period = trade_model.at[trade_model.index[k-1],'holding_period']\n",
    "            cost_basis = trade_model.at[trade_model.index[k-1],'cost_basis']\n",
    "\n",
    "        trade_executed_today = False\n",
    "\n",
    "        # Check to see whether we need to execute any trade action on open\n",
    "        if trade_model.at[trade_model.index[k],'buy_on_open']:\n",
    "            trade_executed_today = True\n",
    "            currently_long = True\n",
    "            currently_short = False\n",
    "            holding_period = 1\n",
    "            cost_basis = -trade_model.at[trade_model.index[k],'open_price']\n",
    "        elif trade_model.at[trade_model.index[k],'short_on_open']:\n",
    "            trade_executed_today = True\n",
    "            currently_long = False\n",
    "            currently_short = True\n",
    "            holding_period = 1\n",
    "            cost_basis = trade_model.at[trade_model.index[k],'open_price']\n",
    "        elif trade_model.at[trade_model.index[k],'sell_on_open']:\n",
    "            trade_executed_today = True\n",
    "            currently_long = False\n",
    "            currently_short = False\n",
    "            holding_period = 0\n",
    "            cost_basis = 0.0\n",
    "        elif trade_model.at[trade_model.index[k],'cover_on_open']:\n",
    "            trade_executed_today = True\n",
    "            currently_long = False\n",
    "            currently_short = False\n",
    "            holding_period = 0\n",
    "            cost_basis = 0.0\n",
    "        else:\n",
    "            # If no trade on open, check to see whether we have a breakout with an entry the next day\n",
    "            if (breakout_high >= 0) and (not currently_long) and (not currently_short) and (trade_model.at[trade_model.index[k],'apo'] >= apo_value) and (trade_volume > average_volume) and (k < last_index-1) and (not SHORT_ONLY):\n",
    "                trade_model.at[trade_model.index[k+1],'buy_on_open'] = True\n",
    "            elif (breakout_low < 0) and (not currently_long) and (not currently_short) and (trade_model.at[trade_model.index[k],'apo'] <= -apo_value) and (trade_volume > average_volume) and (k < last_index-1) and (not LONG_ONLY):\n",
    "                trade_model.at[trade_model.index[k+1],'short_on_open'] = True\n",
    "            else:\n",
    "                # If no breakout, check to see whether we need to exit an existing position the next day\n",
    "                if currently_short and (k < last_index-1):\n",
    "                    if ((trade_model.at[trade_model.index[k-1],'apo'] < 0) and (trade_model.at[trade_model.index[k],'apo'] > 0)) or (holding_period+1 >= max_holding):\n",
    "                        trade_model.at[trade_model.index[k+1],'cover_on_open'] = True\n",
    "                elif currently_long and (k < last_index-1):\n",
    "                    if ((trade_model.at[trade_model.index[k-1],'apo'] > 0) and (trade_model.at[trade_model.index[k],'apo'] < 0)) or (holding_period+1 >= max_holding):\n",
    "                        trade_model.at[trade_model.index[k+1],'sell_on_open'] = True\n",
    "\n",
    "        # If no action on a given day, carry over the position status\n",
    "        if (k > 0) and (not trade_executed_today):\n",
    "            if currently_long or currently_short:\n",
    "                holding_period = holding_period + 1\n",
    "\n",
    "        trade_model.at[trade_model.index[k],'position_long'] = currently_long\n",
    "        trade_model.at[trade_model.index[k],'position_short'] = currently_short\n",
    "        trade_model.at[trade_model.index[k],'holding_period'] = holding_period\n",
    "        trade_model.at[trade_model.index[k],'cost_basis'] = cost_basis\n",
    "\n",
    "        # Check to see whether the profit or loss target has been met for exiting the position\n",
    "        if currently_long :\n",
    "            pandl_pct = (cost_basis + trade_model.at[trade_model.index[k],'close_price']) / abs(cost_basis)\n",
    "            trade_model.at[trade_model.index[k],'pandl_pct'] = pandl_pct\n",
    "            if (pandl_pct >= GAIN_MAX) or (pandl_pct <= -LOSS_MAX) :\n",
    "                trade_model.at[trade_model.index[k+1],'sell_on_open'] = True\n",
    "        elif currently_short :\n",
    "            pandl_pct = (cost_basis - trade_model.at[trade_model.index[k],'close_price']) / abs(cost_basis)\n",
    "            trade_model.at[trade_model.index[k],'pandl_pct'] = pandl_pct\n",
    "            if (pandl_pct >= GAIN_MAX) or (pandl_pct <= -LOSS_MAX) :\n",
    "                trade_model.at[trade_model.index[k+1],'cover_on_open'] = True\n",
    "        else:\n",
    "            trade_model.at[trade_model.index[k],'pandl_pct'] = 0.0\n",
    "\n",
    "        # # Exiting the position on the last day of modeling period\n",
    "        # if k == last_index-1:\n",
    "        #     if trade_model.at[trade_model.index[k],'position_long']:\n",
    "        #         trade_model.at[trade_model.index[k+1],'sell_on_open'] = True\n",
    "        #         trade_model.at[trade_model.index[k+1],'position_long'] = False\n",
    "        #     elif trade_model.at[trade_model.index[k],'position_short']:\n",
    "        #         trade_model.at[trade_model.index[k+1],'cover_on_open'] = True\n",
    "        #         trade_model.at[trade_model.index[k+1],'position_short'] = False\n",
    "\n",
    "    if verbose_signals: print(trade_model, '\\n')\n",
    "    return trade_model"
   ]
  },
  {
   "cell_type": "code",
   "execution_count": 13,
   "metadata": {
    "collapsed": false,
    "jupyter": {
     "outputs_hidden": false
    },
    "pycharm": {
     "name": "#%%\n"
    }
   },
   "outputs": [
    {
     "name": "stdout",
     "output_type": "stream",
     "text": [
      "81 trading models generated!\n"
     ]
    }
   ],
   "source": [
    "# Build the collection of trading models by iterating through the parameters\n",
    "trading_model_collection = {}\n",
    "serial_no = 0\n",
    "for window_size in range(WINDOW_MIN, WINDOW_MAX+1, WINDOW_INCREMENT):\n",
    "    for vol_average in range(VOL_MA_MIN, VOL_MA_MAX+1, VOL_MA_INCREMENT):\n",
    "        for hold_period in range(HOLDING_MIN, HOLDING_MAX+1, HOLDING_INCREMENT):\n",
    "            for apo_threshold in range(APO_MIN, APO_MAX+1, APO_INCREMENT):\n",
    "                for fastma_curve in range(FAST_MA_MIN, FAST_MA_MAX+1, MA_INCREMENT):\n",
    "                    for slowma_curve in range(SLOW_MA_MIN, SLOW_MA_MAX+1, MA_INCREMENT):\n",
    "                        if (slowma_curve - fastma_curve) < MA_GAP: break\n",
    "                        serial_no += 1\n",
    "                        model_tag = 'Model_' + str(serial_no).zfill(3) + '_WINDOW_' + str(window_size).zfill(3) + '_FASTMA_' + str(fastma_curve).zfill(3) + '_SLOWMA_' + str(slowma_curve).zfill(3) + '_APO_' + str(apo_threshold).zfill(2) + '_VOLMA_' + str(vol_average).zfill(3) + '_HOLD_' + str(hold_period).zfill(3)\n",
    "                        if verbose_signals: print('Processing model:', model_tag)\n",
    "                        trading_model = populate_signals(window_size, vol_average, hold_period, fastma_curve, slowma_curve, apo_threshold)\n",
    "                        trading_model_collection[model_tag] = trading_model.copy()\n",
    "print(len(trading_model_collection), 'trading models generated!')"
   ]
  },
  {
   "cell_type": "code",
   "execution_count": 14,
   "metadata": {
    "colab": {
     "base_uri": "https://localhost:8080/",
     "height": 1000
    },
    "colab_type": "code",
    "collapsed": false,
    "id": "327CZKmtTelL",
    "jupyter": {
     "outputs_hidden": false
    },
    "outputId": "b353b49d-0281-4aa7-a530-6747c166eae5",
    "pycharm": {
     "name": "#%%\n"
    }
   },
   "outputs": [],
   "source": [
    "# List the entry/exit points for each model\n",
    "def list_model_entry_exit(trade_model):\n",
    "    print(trade_model[trade_model['buy_on_open'] | trade_model['sell_on_open'] | trade_model['short_on_open'] | trade_model['cover_on_open']])"
   ]
  },
  {
   "cell_type": "code",
   "execution_count": 15,
   "metadata": {
    "collapsed": false,
    "jupyter": {
     "outputs_hidden": false
    },
    "pycharm": {
     "name": "#%%\n"
    }
   },
   "outputs": [],
   "source": [
    "if verbose_models:\n",
    "    for model_name in trading_model_collection:\n",
    "        print('List the signal changes and entry/exit points for model:', model_name)\n",
    "        list_model_entry_exit(trading_model_collection[model_name])\n",
    "        print()"
   ]
  },
  {
   "cell_type": "code",
   "execution_count": 16,
   "metadata": {
    "collapsed": false,
    "jupyter": {
     "outputs_hidden": false
    },
    "pycharm": {
     "name": "#%%\n"
    }
   },
   "outputs": [],
   "source": [
    "def draw_model_graph(trade_model, mdl_name=STOCK_SYMBOL):\n",
    "    graph_data = trade_model.copy()\n",
    "    title_string = 'Simple Trend-Following Trading Model for ' + mdl_name\n",
    "    fig = plt.figure(figsize=(16,9))\n",
    "    ylabel = STOCK_SYMBOL + ' price in $'\n",
    "    ax1 = fig.add_subplot(111, ylabel=ylabel, title=title_string)\n",
    "    graph_data['ema_fast'].plot(ax=ax1, color='r')\n",
    "    graph_data['ema_slow'].plot(ax=ax1, color='b')\n",
    "    graph_data['close_price'].plot(ax=ax1, color='g')\n",
    "    ax1.plot(graph_data.loc[graph_data['buy_on_open']].index, graph_data.close_price[graph_data['buy_on_open']], '^', markersize=7, color='b',label='Buy on Open')\n",
    "    ax1.plot(graph_data.loc[graph_data['sell_on_open']].index, graph_data.close_price[graph_data['sell_on_open']], 'v', markersize=7, color='b',label='Sell on Open')\n",
    "    ax1.plot(graph_data.loc[graph_data['short_on_open']].index, graph_data.close_price[graph_data['short_on_open']], '^', markersize=7, color='r',label='Short on Open')\n",
    "    ax1.plot(graph_data.loc[graph_data['cover_on_open']].index, graph_data.close_price[graph_data['cover_on_open']], 'v', markersize=7, color='r',label='Cover on Open')\n",
    "    plt.legend(loc='upper left')\n",
    "    plt.show()"
   ]
  },
  {
   "cell_type": "code",
   "execution_count": 17,
   "metadata": {
    "collapsed": false,
    "jupyter": {
     "outputs_hidden": false
    },
    "pycharm": {
     "name": "#%%\n"
    }
   },
   "outputs": [],
   "source": [
    "if verbose_graphs:\n",
    "    for model_name in trading_model_collection:\n",
    "        draw_model_graph(trading_model_collection[model_name], model_name)"
   ]
  },
  {
   "cell_type": "markdown",
   "metadata": {
    "colab_type": "text",
    "id": "wzTQaZkeTeld"
   },
   "source": [
    "## Task 4 - Back-test Models"
   ]
  },
  {
   "cell_type": "code",
   "execution_count": 18,
   "metadata": {
    "collapsed": false,
    "jupyter": {
     "outputs_hidden": false
    },
    "pycharm": {
     "name": "#%%\n"
    }
   },
   "outputs": [],
   "source": [
    "def generate_trading_portfolios(trade_model):\n",
    "    # Construct a portfolio to track the transactions and returns\n",
    "    portfolio = pd.DataFrame(index=trade_model.index, columns=['trade_action', 'price_executed', 'qty_transacted', 'cost_basis', 'gain_loss', 'qty_on_hand', 'cash_on_hand', 'position_value', 'total_position', 'accum_return'])\n",
    "    portfolio['trade_action'] = False\n",
    "    portfolio.at[portfolio.index[0],'price_executed'] = 0.00\n",
    "    portfolio.at[portfolio.index[0],'qty_transacted'] = 0\n",
    "    portfolio.at[portfolio.index[0],'cost_basis'] = 0.00\n",
    "    portfolio.at[portfolio.index[0],'gain_loss'] = 0.00\n",
    "    portfolio.at[portfolio.index[0],'qty_on_hand'] = 0\n",
    "    portfolio.at[portfolio.index[0],'cash_on_hand'] = INITIAL_CAPITAL\n",
    "    portfolio.at[portfolio.index[0],'position_value'] = 0.00\n",
    "    portfolio.at[portfolio.index[0],'total_position'] = INITIAL_CAPITAL\n",
    "    portfolio.at[portfolio.index[0],'accum_return'] = 0.00\n",
    "    quantity = 1\n",
    "\n",
    "    # The conditional parameters below determine how the trading strategy will be carried out\n",
    "    for i in range(1, len(portfolio)):\n",
    "        price_per_share = trade_model.at[trade_model.index[i],'open_price']\n",
    "        if trade_model.at[trade_model.index[i],'buy_on_open']:\n",
    "            # Code block for Buy on Open\n",
    "            portfolio.at[portfolio.index[i],'trade_action'] = True\n",
    "            portfolio.at[portfolio.index[i],'price_executed'] = price_per_share\n",
    "            portfolio.at[portfolio.index[i],'qty_transacted'] = quantity\n",
    "            recent_cost = price_per_share * -quantity\n",
    "            portfolio.at[portfolio.index[i],'cost_basis'] = recent_cost\n",
    "            portfolio.at[portfolio.index[i],'gain_loss'] = 0.00\n",
    "            portfolio.at[portfolio.index[i],'qty_on_hand'] = portfolio.iloc[i-1]['qty_on_hand'] + quantity\n",
    "            portfolio.at[portfolio.index[i],'cash_on_hand'] = portfolio.iloc[i-1]['cash_on_hand'] + recent_cost\n",
    "            if verbose_trade_actions: print('BOUGHT QTY:', quantity, 'on', portfolio.index[i].date(), 'at the price of', price_per_share)\n",
    "        elif trade_model.at[trade_model.index[i],'sell_on_open']:\n",
    "            # Code block for Sell on Open\n",
    "            portfolio.at[portfolio.index[i],'trade_action'] = True\n",
    "            portfolio.at[portfolio.index[i],'price_executed'] = price_per_share\n",
    "            portfolio.at[portfolio.index[i],'qty_transacted'] = -quantity\n",
    "            recent_cost = 0.00\n",
    "            portfolio.at[portfolio.index[i],'cost_basis'] = recent_cost\n",
    "            portfolio.at[portfolio.index[i],'gain_loss'] = (price_per_share * quantity) + portfolio.iloc[i-1]['cost_basis']\n",
    "            portfolio.at[portfolio.index[i],'qty_on_hand'] = portfolio.iloc[i-1]['qty_on_hand'] - quantity\n",
    "            portfolio.at[portfolio.index[i],'cash_on_hand'] = portfolio.iloc[i-1]['cash_on_hand'] + (price_per_share * quantity)\n",
    "            if verbose_trade_actions: print('SOLD QTY:', quantity, 'on', portfolio.index[i].date(), 'at the price of', price_per_share)\n",
    "        elif trade_model.at[trade_model.index[i],'short_on_open']:\n",
    "            # Code block for Short on Open\n",
    "            portfolio.at[portfolio.index[i],'trade_action'] = True\n",
    "            portfolio.at[portfolio.index[i],'price_executed'] = price_per_share\n",
    "            portfolio.at[portfolio.index[i],'qty_transacted'] = -quantity\n",
    "            recent_cost = price_per_share * quantity\n",
    "            portfolio.at[portfolio.index[i],'cost_basis'] = recent_cost\n",
    "            portfolio.at[portfolio.index[i],'gain_loss'] = 0.00\n",
    "            portfolio.at[portfolio.index[i],'qty_on_hand'] = portfolio.iloc[i-1]['qty_on_hand'] - quantity\n",
    "            portfolio.at[portfolio.index[i],'cash_on_hand'] = portfolio.iloc[i-1]['cash_on_hand'] + recent_cost\n",
    "            if verbose_trade_actions: print('SHORTED QTY:', -quantity, 'on', portfolio.index[i].date(), 'at the price of', trade_model.at[portfolio.index[i],'open_price'])\n",
    "        elif trade_model.at[trade_model.index[i],'cover_on_open']:\n",
    "            # Code block for Cover on Open\n",
    "            portfolio.at[portfolio.index[i],'trade_action'] = True\n",
    "            portfolio.at[portfolio.index[i],'price_executed'] = price_per_share\n",
    "            portfolio.at[portfolio.index[i],'qty_transacted'] = quantity\n",
    "            recent_cost = 0.00\n",
    "            portfolio.at[portfolio.index[i],'cost_basis'] = recent_cost\n",
    "            portfolio.at[portfolio.index[i],'gain_loss'] = portfolio.iloc[i-1]['cost_basis'] - (price_per_share * quantity)\n",
    "            portfolio.at[portfolio.index[i],'qty_on_hand'] = portfolio.iloc[i-1]['qty_on_hand'] + quantity\n",
    "            portfolio.at[portfolio.index[i],'cash_on_hand'] = portfolio.iloc[i-1]['cash_on_hand'] - (price_per_share * quantity)\n",
    "            if verbose_trade_actions: print('COVERED QTY:', quantity, 'on', portfolio.index[i].date(), 'at the price of', trade_model.at[portfolio.index[i],'open_price'])\n",
    "        else:\n",
    "            # Code block for no trade actions\n",
    "            portfolio.at[portfolio.index[i],'price_executed'] = 0.00\n",
    "            portfolio.at[portfolio.index[i],'qty_transacted'] = 0\n",
    "            portfolio.at[portfolio.index[i],'cost_basis'] = portfolio.iloc[i-1]['cost_basis']\n",
    "            portfolio.at[portfolio.index[i],'gain_loss'] = 0.00\n",
    "            portfolio.at[portfolio.index[i],'qty_on_hand'] = portfolio.iloc[i-1]['qty_on_hand']\n",
    "            portfolio.at[portfolio.index[i],'cash_on_hand'] = portfolio.iloc[i-1]['cash_on_hand']\n",
    "        portfolio.at[portfolio.index[i],'position_value'] = trade_model.at[trade_model.index[i],'close_price'] * portfolio.at[portfolio.index[i],'qty_on_hand']\n",
    "        portfolio.at[portfolio.index[i],'total_position'] = portfolio.at[portfolio.index[i],'cash_on_hand'] + portfolio.at[portfolio.index[i],'position_value']\n",
    "        portfolio.at[portfolio.index[i],'accum_return'] = portfolio.at[portfolio.index[i],'total_position'] - INITIAL_CAPITAL\n",
    "\n",
    "    if verbose_portfolios: print('\\n', portfolio, '\\n')\n",
    "    return portfolio"
   ]
  },
  {
   "cell_type": "code",
   "execution_count": 19,
   "metadata": {
    "colab": {
     "base_uri": "https://localhost:8080/",
     "height": 1000
    },
    "colab_type": "code",
    "collapsed": false,
    "id": "mOsqVrfRTelw",
    "jupyter": {
     "outputs_hidden": false
    },
    "outputId": "17950f55-4566-48b2-dde6-0974c6e45966",
    "pycharm": {
     "name": "#%%\n"
    }
   },
   "outputs": [],
   "source": [
    "def calculate_positions_and_performance(trade_model):\n",
    "    trade_positions = generate_trading_portfolios(trade_model)\n",
    "    trade_transactions = trade_positions[trade_positions['trade_action']]\n",
    "    if verbose_transactions: print(trade_transactions)\n",
    "    if trade_transactions.at[trade_transactions.index[-1],'trade_action']:\n",
    "        if trade_transactions.at[trade_transactions.index[-1],'qty_on_hand'] == 0:\n",
    "            print('The current status of the model is:','Waiting to enter a position since',trade_transactions.index.tolist()[-1].date(),'\\n')\n",
    "        elif trade_transactions.at[trade_transactions.index[-1],'qty_on_hand'] > 0:\n",
    "            print('The current status of the model is:','Holding a long position since',trade_transactions.index.tolist()[-1].date(),'\\n')\n",
    "        else:\n",
    "            print('The current status of the model is:','Holding a short position since',trade_transactions.index.tolist()[-1].date(),'\\n')\n",
    "    return trade_positions"
   ]
  },
  {
   "cell_type": "code",
   "execution_count": 20,
   "metadata": {
    "collapsed": false,
    "jupyter": {
     "outputs_hidden": false
    },
    "pycharm": {
     "name": "#%%\n"
    }
   },
   "outputs": [
    {
     "name": "stdout",
     "output_type": "stream",
     "text": [
      "Processing the positions for model: Model_001_WINDOW_010_FASTMA_010_SLOWMA_040_APO_02_VOLMA_010_HOLD_999\n",
      "The current status of the model is: Waiting to enter a position since 2021-01-13 \n",
      "\n",
      "Processing the positions for model: Model_002_WINDOW_010_FASTMA_010_SLOWMA_045_APO_02_VOLMA_010_HOLD_999\n",
      "The current status of the model is: Waiting to enter a position since 2021-01-15 \n",
      "\n",
      "Processing the positions for model: Model_003_WINDOW_010_FASTMA_010_SLOWMA_050_APO_02_VOLMA_010_HOLD_999\n",
      "The current status of the model is: Waiting to enter a position since 2021-01-19 \n",
      "\n",
      "Processing the positions for model: Model_004_WINDOW_010_FASTMA_015_SLOWMA_040_APO_02_VOLMA_010_HOLD_999\n",
      "The current status of the model is: Waiting to enter a position since 2021-01-15 \n",
      "\n",
      "Processing the positions for model: Model_005_WINDOW_010_FASTMA_015_SLOWMA_045_APO_02_VOLMA_010_HOLD_999\n",
      "The current status of the model is: Waiting to enter a position since 2021-01-19 \n",
      "\n",
      "Processing the positions for model: Model_006_WINDOW_010_FASTMA_015_SLOWMA_050_APO_02_VOLMA_010_HOLD_999\n",
      "The current status of the model is: Waiting to enter a position since 2021-01-20 \n",
      "\n",
      "Processing the positions for model: Model_007_WINDOW_010_FASTMA_020_SLOWMA_040_APO_02_VOLMA_010_HOLD_999\n",
      "The current status of the model is: Waiting to enter a position since 2021-01-20 \n",
      "\n",
      "Processing the positions for model: Model_008_WINDOW_010_FASTMA_020_SLOWMA_045_APO_02_VOLMA_010_HOLD_999\n",
      "The current status of the model is: Waiting to enter a position since 2021-01-20 \n",
      "\n",
      "Processing the positions for model: Model_009_WINDOW_010_FASTMA_020_SLOWMA_050_APO_02_VOLMA_010_HOLD_999\n",
      "The current status of the model is: Waiting to enter a position since 2021-01-20 \n",
      "\n",
      "Processing the positions for model: Model_010_WINDOW_010_FASTMA_010_SLOWMA_040_APO_03_VOLMA_010_HOLD_999\n",
      "The current status of the model is: Waiting to enter a position since 2021-01-13 \n",
      "\n",
      "Processing the positions for model: Model_011_WINDOW_010_FASTMA_010_SLOWMA_045_APO_03_VOLMA_010_HOLD_999\n",
      "The current status of the model is: Waiting to enter a position since 2021-01-15 \n",
      "\n",
      "Processing the positions for model: Model_012_WINDOW_010_FASTMA_010_SLOWMA_050_APO_03_VOLMA_010_HOLD_999\n",
      "The current status of the model is: Waiting to enter a position since 2021-01-19 \n",
      "\n",
      "Processing the positions for model: Model_013_WINDOW_010_FASTMA_015_SLOWMA_040_APO_03_VOLMA_010_HOLD_999\n",
      "The current status of the model is: Waiting to enter a position since 2021-01-15 \n",
      "\n",
      "Processing the positions for model: Model_014_WINDOW_010_FASTMA_015_SLOWMA_045_APO_03_VOLMA_010_HOLD_999\n",
      "The current status of the model is: Waiting to enter a position since 2021-01-19 \n",
      "\n",
      "Processing the positions for model: Model_015_WINDOW_010_FASTMA_015_SLOWMA_050_APO_03_VOLMA_010_HOLD_999\n",
      "The current status of the model is: Waiting to enter a position since 2021-01-20 \n",
      "\n",
      "Processing the positions for model: Model_016_WINDOW_010_FASTMA_020_SLOWMA_040_APO_03_VOLMA_010_HOLD_999\n",
      "The current status of the model is: Waiting to enter a position since 2020-12-01 \n",
      "\n",
      "Processing the positions for model: Model_017_WINDOW_010_FASTMA_020_SLOWMA_045_APO_03_VOLMA_010_HOLD_999\n",
      "The current status of the model is: Waiting to enter a position since 2021-01-20 \n",
      "\n",
      "Processing the positions for model: Model_018_WINDOW_010_FASTMA_020_SLOWMA_050_APO_03_VOLMA_010_HOLD_999\n",
      "The current status of the model is: Waiting to enter a position since 2021-01-22 \n",
      "\n",
      "Processing the positions for model: Model_019_WINDOW_010_FASTMA_010_SLOWMA_040_APO_04_VOLMA_010_HOLD_999\n",
      "The current status of the model is: Waiting to enter a position since 2020-12-24 \n",
      "\n",
      "Processing the positions for model: Model_020_WINDOW_010_FASTMA_010_SLOWMA_045_APO_04_VOLMA_010_HOLD_999\n",
      "The current status of the model is: Waiting to enter a position since 2021-01-15 \n",
      "\n",
      "Processing the positions for model: Model_021_WINDOW_010_FASTMA_010_SLOWMA_050_APO_04_VOLMA_010_HOLD_999\n",
      "The current status of the model is: Waiting to enter a position since 2021-01-19 \n",
      "\n",
      "Processing the positions for model: Model_022_WINDOW_010_FASTMA_015_SLOWMA_040_APO_04_VOLMA_010_HOLD_999\n",
      "The current status of the model is: Waiting to enter a position since 2020-12-01 \n",
      "\n",
      "Processing the positions for model: Model_023_WINDOW_010_FASTMA_015_SLOWMA_045_APO_04_VOLMA_010_HOLD_999\n",
      "The current status of the model is: Waiting to enter a position since 2020-12-01 \n",
      "\n",
      "Processing the positions for model: Model_024_WINDOW_010_FASTMA_015_SLOWMA_050_APO_04_VOLMA_010_HOLD_999\n",
      "The current status of the model is: Waiting to enter a position since 2021-01-20 \n",
      "\n",
      "Processing the positions for model: Model_025_WINDOW_010_FASTMA_020_SLOWMA_040_APO_04_VOLMA_010_HOLD_999\n",
      "The current status of the model is: Waiting to enter a position since 2020-12-01 \n",
      "\n",
      "Processing the positions for model: Model_026_WINDOW_010_FASTMA_020_SLOWMA_045_APO_04_VOLMA_010_HOLD_999\n",
      "The current status of the model is: Waiting to enter a position since 2020-12-01 \n",
      "\n",
      "Processing the positions for model: Model_027_WINDOW_010_FASTMA_020_SLOWMA_050_APO_04_VOLMA_010_HOLD_999\n",
      "The current status of the model is: Waiting to enter a position since 2021-01-22 \n",
      "\n",
      "Processing the positions for model: Model_028_WINDOW_015_FASTMA_010_SLOWMA_040_APO_02_VOLMA_010_HOLD_999\n",
      "The current status of the model is: Waiting to enter a position since 2021-01-13 \n",
      "\n",
      "Processing the positions for model: Model_029_WINDOW_015_FASTMA_010_SLOWMA_045_APO_02_VOLMA_010_HOLD_999\n",
      "The current status of the model is: Waiting to enter a position since 2021-01-15 \n",
      "\n",
      "Processing the positions for model: Model_030_WINDOW_015_FASTMA_010_SLOWMA_050_APO_02_VOLMA_010_HOLD_999\n",
      "The current status of the model is: Waiting to enter a position since 2021-01-19 \n",
      "\n",
      "Processing the positions for model: Model_031_WINDOW_015_FASTMA_015_SLOWMA_040_APO_02_VOLMA_010_HOLD_999\n",
      "The current status of the model is: Waiting to enter a position since 2021-01-15 \n",
      "\n",
      "Processing the positions for model: Model_032_WINDOW_015_FASTMA_015_SLOWMA_045_APO_02_VOLMA_010_HOLD_999\n",
      "The current status of the model is: Waiting to enter a position since 2021-01-19 \n",
      "\n",
      "Processing the positions for model: Model_033_WINDOW_015_FASTMA_015_SLOWMA_050_APO_02_VOLMA_010_HOLD_999\n",
      "The current status of the model is: Waiting to enter a position since 2021-01-20 \n",
      "\n",
      "Processing the positions for model: Model_034_WINDOW_015_FASTMA_020_SLOWMA_040_APO_02_VOLMA_010_HOLD_999\n",
      "The current status of the model is: Waiting to enter a position since 2021-01-20 \n",
      "\n",
      "Processing the positions for model: Model_035_WINDOW_015_FASTMA_020_SLOWMA_045_APO_02_VOLMA_010_HOLD_999\n",
      "The current status of the model is: Waiting to enter a position since 2021-01-20 \n",
      "\n",
      "Processing the positions for model: Model_036_WINDOW_015_FASTMA_020_SLOWMA_050_APO_02_VOLMA_010_HOLD_999\n",
      "The current status of the model is: Waiting to enter a position since 2021-01-20 \n",
      "\n",
      "Processing the positions for model: Model_037_WINDOW_015_FASTMA_010_SLOWMA_040_APO_03_VOLMA_010_HOLD_999\n",
      "The current status of the model is: Waiting to enter a position since 2021-01-13 \n",
      "\n",
      "Processing the positions for model: Model_038_WINDOW_015_FASTMA_010_SLOWMA_045_APO_03_VOLMA_010_HOLD_999\n",
      "The current status of the model is: Waiting to enter a position since 2021-01-15 \n",
      "\n",
      "Processing the positions for model: Model_039_WINDOW_015_FASTMA_010_SLOWMA_050_APO_03_VOLMA_010_HOLD_999\n",
      "The current status of the model is: Waiting to enter a position since 2021-01-19 \n",
      "\n",
      "Processing the positions for model: Model_040_WINDOW_015_FASTMA_015_SLOWMA_040_APO_03_VOLMA_010_HOLD_999\n",
      "The current status of the model is: Waiting to enter a position since 2021-01-15 \n",
      "\n",
      "Processing the positions for model: Model_041_WINDOW_015_FASTMA_015_SLOWMA_045_APO_03_VOLMA_010_HOLD_999\n",
      "The current status of the model is: Waiting to enter a position since 2021-01-19 \n",
      "\n",
      "Processing the positions for model: Model_042_WINDOW_015_FASTMA_015_SLOWMA_050_APO_03_VOLMA_010_HOLD_999\n",
      "The current status of the model is: Waiting to enter a position since 2021-01-20 \n",
      "\n",
      "Processing the positions for model: Model_043_WINDOW_015_FASTMA_020_SLOWMA_040_APO_03_VOLMA_010_HOLD_999\n",
      "The current status of the model is: Waiting to enter a position since 2020-12-01 \n",
      "\n",
      "Processing the positions for model: Model_044_WINDOW_015_FASTMA_020_SLOWMA_045_APO_03_VOLMA_010_HOLD_999\n",
      "The current status of the model is: Waiting to enter a position since 2021-01-20 \n",
      "\n",
      "Processing the positions for model: Model_045_WINDOW_015_FASTMA_020_SLOWMA_050_APO_03_VOLMA_010_HOLD_999\n",
      "The current status of the model is: Waiting to enter a position since 2021-01-22 \n",
      "\n",
      "Processing the positions for model: Model_046_WINDOW_015_FASTMA_010_SLOWMA_040_APO_04_VOLMA_010_HOLD_999\n",
      "The current status of the model is: Waiting to enter a position since 2020-12-24 \n",
      "\n",
      "Processing the positions for model: Model_047_WINDOW_015_FASTMA_010_SLOWMA_045_APO_04_VOLMA_010_HOLD_999\n",
      "The current status of the model is: Waiting to enter a position since 2021-01-15 \n",
      "\n",
      "Processing the positions for model: Model_048_WINDOW_015_FASTMA_010_SLOWMA_050_APO_04_VOLMA_010_HOLD_999\n",
      "The current status of the model is: Waiting to enter a position since 2021-01-19 \n",
      "\n",
      "Processing the positions for model: Model_049_WINDOW_015_FASTMA_015_SLOWMA_040_APO_04_VOLMA_010_HOLD_999\n",
      "The current status of the model is: Waiting to enter a position since 2020-12-01 \n",
      "\n",
      "Processing the positions for model: Model_050_WINDOW_015_FASTMA_015_SLOWMA_045_APO_04_VOLMA_010_HOLD_999\n",
      "The current status of the model is: Waiting to enter a position since 2020-12-01 \n",
      "\n",
      "Processing the positions for model: Model_051_WINDOW_015_FASTMA_015_SLOWMA_050_APO_04_VOLMA_010_HOLD_999\n",
      "The current status of the model is: Waiting to enter a position since 2021-01-20 \n",
      "\n",
      "Processing the positions for model: Model_052_WINDOW_015_FASTMA_020_SLOWMA_040_APO_04_VOLMA_010_HOLD_999\n",
      "The current status of the model is: Waiting to enter a position since 2020-12-01 \n",
      "\n",
      "Processing the positions for model: Model_053_WINDOW_015_FASTMA_020_SLOWMA_045_APO_04_VOLMA_010_HOLD_999\n",
      "The current status of the model is: Waiting to enter a position since 2020-12-01 \n",
      "\n",
      "Processing the positions for model: Model_054_WINDOW_015_FASTMA_020_SLOWMA_050_APO_04_VOLMA_010_HOLD_999\n",
      "The current status of the model is: Waiting to enter a position since 2021-01-22 \n",
      "\n",
      "Processing the positions for model: Model_055_WINDOW_020_FASTMA_010_SLOWMA_040_APO_02_VOLMA_010_HOLD_999\n",
      "The current status of the model is: Waiting to enter a position since 2021-01-13 \n",
      "\n",
      "Processing the positions for model: Model_056_WINDOW_020_FASTMA_010_SLOWMA_045_APO_02_VOLMA_010_HOLD_999\n",
      "The current status of the model is: Waiting to enter a position since 2021-01-15 \n",
      "\n",
      "Processing the positions for model: Model_057_WINDOW_020_FASTMA_010_SLOWMA_050_APO_02_VOLMA_010_HOLD_999\n",
      "The current status of the model is: Waiting to enter a position since 2021-01-19 \n",
      "\n",
      "Processing the positions for model: Model_058_WINDOW_020_FASTMA_015_SLOWMA_040_APO_02_VOLMA_010_HOLD_999\n",
      "The current status of the model is: Waiting to enter a position since 2021-01-15 \n",
      "\n",
      "Processing the positions for model: Model_059_WINDOW_020_FASTMA_015_SLOWMA_045_APO_02_VOLMA_010_HOLD_999\n",
      "The current status of the model is: Waiting to enter a position since 2021-01-19 \n",
      "\n",
      "Processing the positions for model: Model_060_WINDOW_020_FASTMA_015_SLOWMA_050_APO_02_VOLMA_010_HOLD_999\n",
      "The current status of the model is: Waiting to enter a position since 2021-01-20 \n",
      "\n",
      "Processing the positions for model: Model_061_WINDOW_020_FASTMA_020_SLOWMA_040_APO_02_VOLMA_010_HOLD_999\n",
      "The current status of the model is: Waiting to enter a position since 2021-01-20 \n",
      "\n",
      "Processing the positions for model: Model_062_WINDOW_020_FASTMA_020_SLOWMA_045_APO_02_VOLMA_010_HOLD_999\n",
      "The current status of the model is: Waiting to enter a position since 2021-01-20 \n",
      "\n",
      "Processing the positions for model: Model_063_WINDOW_020_FASTMA_020_SLOWMA_050_APO_02_VOLMA_010_HOLD_999\n",
      "The current status of the model is: Waiting to enter a position since 2021-01-20 \n",
      "\n",
      "Processing the positions for model: Model_064_WINDOW_020_FASTMA_010_SLOWMA_040_APO_03_VOLMA_010_HOLD_999\n",
      "The current status of the model is: Waiting to enter a position since 2021-01-13 \n",
      "\n",
      "Processing the positions for model: Model_065_WINDOW_020_FASTMA_010_SLOWMA_045_APO_03_VOLMA_010_HOLD_999\n",
      "The current status of the model is: Waiting to enter a position since 2021-01-15 \n",
      "\n",
      "Processing the positions for model: Model_066_WINDOW_020_FASTMA_010_SLOWMA_050_APO_03_VOLMA_010_HOLD_999\n",
      "The current status of the model is: Waiting to enter a position since 2021-01-19 \n",
      "\n",
      "Processing the positions for model: Model_067_WINDOW_020_FASTMA_015_SLOWMA_040_APO_03_VOLMA_010_HOLD_999\n",
      "The current status of the model is: Waiting to enter a position since 2021-01-15 \n",
      "\n",
      "Processing the positions for model: Model_068_WINDOW_020_FASTMA_015_SLOWMA_045_APO_03_VOLMA_010_HOLD_999\n",
      "The current status of the model is: Waiting to enter a position since 2021-01-19 \n",
      "\n",
      "Processing the positions for model: Model_069_WINDOW_020_FASTMA_015_SLOWMA_050_APO_03_VOLMA_010_HOLD_999\n",
      "The current status of the model is: Waiting to enter a position since 2021-01-20 \n",
      "\n",
      "Processing the positions for model: Model_070_WINDOW_020_FASTMA_020_SLOWMA_040_APO_03_VOLMA_010_HOLD_999\n",
      "The current status of the model is: Waiting to enter a position since 2020-12-01 \n",
      "\n",
      "Processing the positions for model: Model_071_WINDOW_020_FASTMA_020_SLOWMA_045_APO_03_VOLMA_010_HOLD_999\n",
      "The current status of the model is: Waiting to enter a position since 2021-01-20 \n",
      "\n",
      "Processing the positions for model: Model_072_WINDOW_020_FASTMA_020_SLOWMA_050_APO_03_VOLMA_010_HOLD_999\n",
      "The current status of the model is: Waiting to enter a position since 2021-01-22 \n",
      "\n",
      "Processing the positions for model: Model_073_WINDOW_020_FASTMA_010_SLOWMA_040_APO_04_VOLMA_010_HOLD_999\n",
      "The current status of the model is: Waiting to enter a position since 2020-12-24 \n",
      "\n",
      "Processing the positions for model: Model_074_WINDOW_020_FASTMA_010_SLOWMA_045_APO_04_VOLMA_010_HOLD_999\n",
      "The current status of the model is: Waiting to enter a position since 2021-01-15 \n",
      "\n",
      "Processing the positions for model: Model_075_WINDOW_020_FASTMA_010_SLOWMA_050_APO_04_VOLMA_010_HOLD_999\n",
      "The current status of the model is: Waiting to enter a position since 2021-01-19 \n",
      "\n",
      "Processing the positions for model: Model_076_WINDOW_020_FASTMA_015_SLOWMA_040_APO_04_VOLMA_010_HOLD_999\n",
      "The current status of the model is: Waiting to enter a position since 2020-12-01 \n",
      "\n",
      "Processing the positions for model: Model_077_WINDOW_020_FASTMA_015_SLOWMA_045_APO_04_VOLMA_010_HOLD_999\n",
      "The current status of the model is: Waiting to enter a position since 2020-12-01 \n",
      "\n",
      "Processing the positions for model: Model_078_WINDOW_020_FASTMA_015_SLOWMA_050_APO_04_VOLMA_010_HOLD_999\n",
      "The current status of the model is: Waiting to enter a position since 2021-01-20 \n",
      "\n",
      "Processing the positions for model: Model_079_WINDOW_020_FASTMA_020_SLOWMA_040_APO_04_VOLMA_010_HOLD_999\n",
      "The current status of the model is: Waiting to enter a position since 2020-12-01 \n",
      "\n",
      "Processing the positions for model: Model_080_WINDOW_020_FASTMA_020_SLOWMA_045_APO_04_VOLMA_010_HOLD_999\n",
      "The current status of the model is: Waiting to enter a position since 2020-12-01 \n",
      "\n",
      "Processing the positions for model: Model_081_WINDOW_020_FASTMA_020_SLOWMA_050_APO_04_VOLMA_010_HOLD_999\n",
      "The current status of the model is: Waiting to enter a position since 2021-01-22 \n",
      "\n",
      "81 sets of model positions generated.\n"
     ]
    }
   ],
   "source": [
    "# Convert trading models into positions and calculate profit and loss\n",
    "# Initialize a dictionary for tracking positions for all models\n",
    "model_positions_collection={}\n",
    "\n",
    "for model_name in trading_model_collection:\n",
    "    print('Processing the positions for model:', model_name)\n",
    "    model_positions_collection[model_name] = calculate_positions_and_performance(trading_model_collection[model_name])\n",
    "print(len(model_positions_collection), 'sets of model positions generated.')"
   ]
  },
  {
   "cell_type": "code",
   "execution_count": 21,
   "metadata": {
    "collapsed": false,
    "jupyter": {
     "outputs_hidden": false
    },
    "pycharm": {
     "name": "#%%\n"
    }
   },
   "outputs": [
    {
     "name": "stdout",
     "output_type": "stream",
     "text": [
      "81 profit/loss summaries generated.\n",
      "\n",
      "The top ten model's performance summary:\n",
      "                                           Model_name  Return_value Return_percentage\n",
      "0   Model_012_WINDOW_010_FASTMA_010_SLOWMA_050_APO...       109.125              None\n",
      "1   Model_039_WINDOW_015_FASTMA_010_SLOWMA_050_APO...       104.455              None\n",
      "2   Model_011_WINDOW_010_FASTMA_010_SLOWMA_045_APO...       103.790              None\n",
      "3   Model_066_WINDOW_020_FASTMA_010_SLOWMA_050_APO...       103.195              None\n",
      "4   Model_004_WINDOW_010_FASTMA_015_SLOWMA_040_APO...       100.820              None\n",
      "5   Model_038_WINDOW_015_FASTMA_010_SLOWMA_045_APO...        99.120              None\n",
      "6   Model_065_WINDOW_020_FASTMA_010_SLOWMA_045_APO...        97.860              None\n",
      "7   Model_031_WINDOW_015_FASTMA_015_SLOWMA_040_APO...        96.150              None\n",
      "8   Model_058_WINDOW_020_FASTMA_015_SLOWMA_040_APO...        94.890              None\n",
      "11  Model_052_WINDOW_015_FASTMA_020_SLOWMA_040_APO...        94.100              None\n"
     ]
    }
   ],
   "source": [
    "# Initialize a dataframe for storing the model's profit and loss\n",
    "model_performance_summary = pd.DataFrame(columns=['Model_name','Return_value','Return_percentage'])\n",
    "for model_name in model_positions_collection:\n",
    "    if verbose_positions: print('Processing positions for model:', model_name)\n",
    "    if verbose_positions: print('Accumulated profit/loss for one share of stock with initial capital of $%.0f at the end of modeling period: $%.2f' % (INITIAL_CAPITAL, model_positions_collection[model_name].accum_return[-1]))\n",
    "    if INITIAL_CAPITAL != 0:\n",
    "        return_percentage = model_positions_collection[model_name].accum_return[-1] / INITIAL_CAPITAL * 100\n",
    "        if verbose_positions: print('Accumulated return percentage based on the initial capital investment: %.2f%%' % return_percentage)\n",
    "    else:\n",
    "        return_percentage = None\n",
    "    if verbose_positions: print()\n",
    "    model_performance_summary = model_performance_summary.append({'Model_name': model_name, 'Return_value': model_positions_collection[model_name].accum_return[-1], 'Return_percentage': return_percentage}, ignore_index=True)\n",
    "    model_performance_summary.sort_values(by=['Return_value'], inplace=True, ascending=False)\n",
    "\n",
    "print(len(model_performance_summary), 'profit/loss summaries generated.\\n')\n",
    "print('The top ten model\\'s performance summary:')\n",
    "print(model_performance_summary.head(10))"
   ]
  },
  {
   "cell_type": "markdown",
   "metadata": {
    "pycharm": {
     "name": "#%% md\n"
    }
   },
   "source": [
    "## Task 5 - Evaluate Strategy Performance"
   ]
  },
  {
   "cell_type": "code",
   "execution_count": 22,
   "metadata": {
    "collapsed": false,
    "jupyter": {
     "outputs_hidden": false
    },
    "pycharm": {
     "name": "#%%\n"
    }
   },
   "outputs": [
    {
     "name": "stdout",
     "output_type": "stream",
     "text": [
      "The entry point for the buy-and-hold model: $187.23 on 2018-01-02\n",
      "The exit point for the buy-and-hold model: $323.61 on 2021-03-19\n",
      "The performance of the buy-and-hold model: $136.38\n",
      "The performance of the top trading model: $109.12\n"
     ]
    }
   ],
   "source": [
    "# Calculate the stock's performance for a buy-and-hold model\n",
    "top_model_name = model_performance_summary.loc[0]['Model_name']\n",
    "top_trading_model = trading_model_collection[top_model_name]\n",
    "print('The entry point for the buy-and-hold model: $%.2f on %s' % (top_trading_model.iloc[0]['open_price'], top_trading_model.index[0].date()))\n",
    "print('The exit point for the buy-and-hold model: $%.2f on %s' % (top_trading_model.iloc[-1]['open_price'], top_trading_model.index[-1].date()))\n",
    "print('The performance of the buy-and-hold model: $%.2f' %(top_trading_model.iloc[-1]['open_price'] - top_trading_model.iloc[0]['open_price']))\n",
    "print('The performance of the top trading model: $%.2f' %(model_performance_summary.iloc[0]['Return_value']))"
   ]
  },
  {
   "cell_type": "code",
   "execution_count": 23,
   "metadata": {
    "collapsed": false,
    "jupyter": {
     "outputs_hidden": false
    },
    "pycharm": {
     "name": "#%%\n"
    }
   },
   "outputs": [
    {
     "name": "stdout",
     "output_type": "stream",
     "text": [
      "            trade_action price_executed qty_transacted cost_basis gain_loss qty_on_hand cash_on_hand position_value total_position accum_return\n",
      "date                                                                                                                                           \n",
      "2018-01-16          True         192.35              1    -192.35         0           1      -192.35        181.091        -11.259      -11.259\n",
      "2018-02-06          True         178.91             -1          0    -13.44           0       -13.44              0         -13.44       -13.44\n",
      "2018-05-01          True         196.49              1    -196.49         0           1      -209.93        186.323        -23.607      -23.607\n",
      "2018-09-10          True            243             -1          0     46.51           0        33.07              0          33.07        33.07\n",
      "2018-09-12          True            245              1       -245         0           1      -211.93        231.065         19.135       19.135\n",
      "2018-09-17          True         234.06             -1          0    -10.94           0        22.13              0          22.13        22.13\n",
      "2019-03-06          True          220.5              1     -220.5         0           1      -198.37        210.014         11.644       11.644\n",
      "2019-06-21          True         266.77             -1          0     46.27           0         68.4              0           68.4         68.4\n",
      "2019-07-10          True         270.05              1    -270.05         0           1      -201.65        260.704         59.054       59.054\n",
      "2019-12-16          True         293.03             -1          0     22.98           0        91.38              0          91.38        91.38\n",
      "2020-01-21          True          306.2              1     -306.2         0           1      -214.82        302.211         87.391       87.391\n",
      "2020-03-02          True         294.44             -1          0    -11.76           0        79.62              0          79.62        79.62\n",
      "2020-06-08          True         310.66              1    -310.66         0           1      -231.04        297.661         66.621       66.621\n",
      "2020-06-16          True         301.35             -1          0     -9.31           0        70.31              0          70.31        70.31\n",
      "2020-07-10          True            326              1       -326         0           1      -255.69        316.111         60.421       60.421\n",
      "2020-11-09          True         388.25             -1          0     62.25           0       132.56              0         132.56       132.56\n",
      "2020-11-25          True         385.79              1    -385.79         0           1      -253.23        377.255        124.025      124.025\n",
      "2021-01-19          True        362.355             -1          0   -23.435           0      109.125              0        109.125      109.125\n"
     ]
    }
   ],
   "source": [
    "top_model_positions = model_positions_collection[top_model_name]\n",
    "print(top_model_positions[top_model_positions['trade_action'] != 0])"
   ]
  },
  {
   "cell_type": "code",
   "execution_count": 24,
   "metadata": {
    "collapsed": false,
    "jupyter": {
     "outputs_hidden": false
    },
    "pycharm": {
     "name": "#%%\n"
    }
   },
   "outputs": [
    {
     "data": {
      "image/png": "[encoded data removed]",
      "text/plain": [
       "<Figure size 1152x648 with 1 Axes>"
      ]
     },
     "metadata": {},
     "output_type": "display_data"
    }
   ],
   "source": [
    "draw_model_graph(trading_model_collection[top_model_name], top_model_name)"
   ]
  },
  {
   "cell_type": "code",
   "execution_count": 25,
   "metadata": {
    "colab": {
     "base_uri": "https://localhost:8080/",
     "height": 34
    },
    "colab_type": "code",
    "collapsed": false,
    "id": "be1J2gmiTemG",
    "jupyter": {
     "outputs_hidden": false
    },
    "outputId": "28010a58-a8c1-43ae-d6ff-200fc13eb876",
    "pycharm": {
     "name": "#%%\n"
    }
   },
   "outputs": [
    {
     "name": "stdout",
     "output_type": "stream",
     "text": [
      "Total time for the script: 0:04:18.544163\n"
     ]
    }
   ],
   "source": [
    "print ('Total time for the script:',(datetime.now() - startTimeScript))"
   ]
  }
 ],
 "metadata": {
  "colab": {
   "collapsed_sections": [],
   "name": "py_algotrading_ema_crossover_grid_search.ipynb",
   "provenance": []
  },
  "kernelspec": {
   "display_name": "Python 3",
   "language": "python",
   "name": "python3"
  },
  "language_info": {
   "codemirror_mode": {
    "name": "ipython",
    "version": 3
   },
   "file_extension": ".py",
   "mimetype": "text/x-python",
   "name": "python",
   "nbconvert_exporter": "python",
   "pygments_lexer": "ipython3",
   "version": "3.8.5"
  }
 },
 "nbformat": 4,
 "nbformat_minor": 4
}
