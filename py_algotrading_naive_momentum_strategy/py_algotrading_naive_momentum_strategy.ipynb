{
 "cells": [
  {
   "cell_type": "markdown",
   "metadata": {
    "colab_type": "text",
    "id": "nn0Ld1RjTekC"
   },
   "source": [
    "# Algorithmic Trading Model for Naive Momentum Strategy Using Python\n",
    "### David Lowe\n",
    "### November 25, 2020\n",
    "\n",
    "NOTE: This script is for learning purposes only and does not constitute a recommendation for buying or selling any stock mentioned in this script.\n",
    "\n",
    "SUMMARY: This project aims to construct and test an algorithmic trading model and document the end-to-end steps using a template. We will test trading models with the naive momentum strategy.\n",
    "\n",
    "INTRODUCTION: This algorithmic trading model examines a simplistic naive momentum strategy in comparison to a buy-and-hold approach. The plan goes long (buys) on the stock when the daily closing price improves from the previous day for a pre-defined consecutive number of days. Conversely, we will exit the position when the daily price declines for the same successive number of days.\n",
    "\n",
    "ANALYSIS: From this iteration, we analyzed the stock prices for Apple Inc. (AAPL) between January 1, 2020, and November 20, 2020. The trading model produced a profit of 23.22 dollars per share. The buy-and-hold approach yielded a gain of 44.58 dollars per share.\n",
    "\n",
    "CONCLUSION: For the stock of AAPL during the modeling time frame, the trading strategy did not produce a better return than the buy-and-hold approach. We should consider modeling this stock further by experimenting with more variations of the strategy.\n",
    "\n",
    "Dataset ML Model: Time series analysis with numerical attributes\n",
    "\n",
    "Dataset Used: Quandl\n",
    "\n",
    "An algorithmic trading modeling project generally can be broken down into about five major tasks:\n",
    "\n",
    "1. Prepare Environment\n",
    "2. Acquire and Pre-Process Data\n",
    "3. Implement and Train Models\n",
    "4. Back-test Models\n",
    "5. Evaluate Strategy Performance"
   ]
  },
  {
   "cell_type": "markdown",
   "metadata": {
    "colab_type": "text",
    "id": "-DieEv9pTekE"
   },
   "source": [
    "## Task 1 - Prepare Environment"
   ]
  },
  {
   "cell_type": "code",
   "execution_count": 1,
   "metadata": {
    "collapsed": false,
    "jupyter": {
     "outputs_hidden": false
    },
    "pycharm": {
     "name": "#%%\n"
    }
   },
   "outputs": [],
   "source": [
    "# # Install the necessary packages for Colab\n",
    "# !pip install python-dotenv PyMySQL"
   ]
  },
  {
   "cell_type": "code",
   "execution_count": 2,
   "metadata": {
    "collapsed": false,
    "jupyter": {
     "outputs_hidden": false
    },
    "pycharm": {
     "name": "#%%\n"
    }
   },
   "outputs": [],
   "source": [
    "# # Retrieve the GPU information from Colab\n",
    "# gpu_info = !nvidia-smi\n",
    "# gpu_info = '\\n'.join(gpu_info)\n",
    "# if gpu_info.find('failed') >= 0:\n",
    "#     print('Select the Runtime → \"Change runtime type\" menu to enable a GPU accelerator, ')\n",
    "#     print('and then re-execute this cell.')\n",
    "# else:\n",
    "#     print(gpu_info)"
   ]
  },
  {
   "cell_type": "code",
   "execution_count": 3,
   "metadata": {
    "collapsed": false,
    "jupyter": {
     "outputs_hidden": false
    },
    "pycharm": {
     "name": "#%%\n"
    }
   },
   "outputs": [],
   "source": [
    "# # Retrieve the memory configuration from Colab\n",
    "# from psutil import virtual_memory\n",
    "# ram_gb = virtual_memory().total / 1e9\n",
    "# print('Your runtime has {:.1f} gigabytes of available RAM\\n'.format(ram_gb))\n",
    "#\n",
    "# if ram_gb < 20:\n",
    "#     print('To enable a high-RAM runtime, select the Runtime → \"Change runtime type\"')\n",
    "#     print('menu, and then select High-RAM in the Runtime shape dropdown. Then, ')\n",
    "#     print('re-execute this cell.')\n",
    "# else:\n",
    "#     print('You are using a high-RAM runtime!')"
   ]
  },
  {
   "cell_type": "code",
   "execution_count": 4,
   "metadata": {
    "collapsed": false,
    "jupyter": {
     "outputs_hidden": false
    },
    "pycharm": {
     "name": "#%%\n"
    }
   },
   "outputs": [],
   "source": [
    "# # Retrieve the CPU information\n",
    "# ncpu = !nproc\n",
    "# print(\"The number of available CPUs is:\", ncpu[0])"
   ]
  },
  {
   "cell_type": "markdown",
   "metadata": {
    "pycharm": {
     "name": "#%% md\n"
    }
   },
   "source": [
    "### 1.a) Load libraries and modules"
   ]
  },
  {
   "cell_type": "code",
   "execution_count": 5,
   "metadata": {
    "colab": {},
    "colab_type": "code",
    "collapsed": false,
    "id": "8IwyGxxuTekE",
    "jupyter": {
     "outputs_hidden": false
    },
    "pycharm": {
     "name": "#%%\n"
    }
   },
   "outputs": [],
   "source": [
    "import pandas as pd\n",
    "import matplotlib.pyplot as plt\n",
    "import os\n",
    "import sys\n",
    "# from datetime import date, datetime, timedelta\n",
    "from datetime import date, datetime\n",
    "import requests\n",
    "import json\n",
    "from dotenv import load_dotenv\n",
    "# import pandas_datareader.data as pdr"
   ]
  },
  {
   "cell_type": "markdown",
   "metadata": {
    "pycharm": {
     "name": "#%% md\n"
    }
   },
   "source": [
    "### 1.b) Set up the controlling parameters and functions¶"
   ]
  },
  {
   "cell_type": "code",
   "execution_count": 6,
   "metadata": {
    "colab": {
     "base_uri": "https://localhost:8080/",
     "height": 51
    },
    "colab_type": "code",
    "collapsed": false,
    "id": "Zagik25QTekS",
    "jupyter": {
     "outputs_hidden": false
    },
    "outputId": "d14332ba-63ec-4224-ca13-c4ecdab3541a",
    "pycharm": {
     "name": "#%%\n"
    }
   },
   "outputs": [
    {
     "name": "stdout",
     "output_type": "stream",
     "text": [
      "Starting date for the model: 2020-01-01\n",
      "Ending date for the model: 2020-11-20\n",
      "First date of data we need for modeling: 2020-01-01\n",
      "Last date of data we need for modeling: 2020-11-20\n"
     ]
    }
   ],
   "source": [
    "stock_symbol = 'AAPL'\n",
    "initial_capital = 0\n",
    "\n",
    "# Specify the moving average parameters for the trading strategy\n",
    "consec_up_days = 3\n",
    "consec_dn_days = 3\n",
    "\n",
    "model_start_date = date(2020, 1, 1)\n",
    "print(\"Starting date for the model:\", model_start_date)\n",
    "\n",
    "model_end_date = datetime.now().date()\n",
    "model_end_date = date(2020, 11, 20)\n",
    "print(\"Ending date for the model:\", model_end_date)\n",
    "\n",
    "data_start_date = model_start_date\n",
    "print(\"First date of data we need for modeling:\", data_start_date)\n",
    "\n",
    "data_end_date = model_end_date\n",
    "print(\"Last date of data we need for modeling:\", data_end_date)"
   ]
  },
  {
   "cell_type": "code",
   "execution_count": 7,
   "metadata": {
    "colab": {
     "base_uri": "https://localhost:8080/",
     "height": 34
    },
    "colab_type": "code",
    "collapsed": false,
    "id": "aTI50KL9TekN",
    "jupyter": {
     "outputs_hidden": false
    },
    "outputId": "68f4a687-6e33-48e5-ef46-c23d7994bc3e",
    "pycharm": {
     "name": "#%%\n"
    }
   },
   "outputs": [],
   "source": [
    "# Begin the timer for the script processing\n",
    "startTimeScript = datetime.now()\n",
    "\n",
    "# Set Pandas options\n",
    "pd.set_option(\"display.max_rows\", None)\n",
    "pd.set_option(\"display.max_columns\", None)\n",
    "pd.set_option(\"display.width\", 140)\n",
    "\n",
    "# Configure the plotting style\n",
    "plt.style.use('seaborn')\n",
    "\n",
    "# Set up the verbose flag to print detailed messages for debugging (setting True will activate!)\n",
    "verbose_signals = False\n",
    "verbose_models = True\n",
    "verbose_graphs = True\n",
    "verbose_portfolios = False"
   ]
  },
  {
   "cell_type": "code",
   "execution_count": 8,
   "metadata": {
    "collapsed": false,
    "jupyter": {
     "outputs_hidden": false
    },
    "pycharm": {
     "name": "#%%\n"
    }
   },
   "outputs": [],
   "source": [
    "# Set up the parent directory location for loading the dotenv files\n",
    "\n",
    "# # Mount Google Drive locally for storing files\n",
    "# from google.colab import drive\n",
    "# drive.mount('/content/gdrive')\n",
    "# gdrivePrefix = '/content/gdrive/My Drive/Colab_Downloads/'\n",
    "# env_path = '/content/gdrive/My Drive/Colab Notebooks/'\n",
    "# dotenv_path = env_path + \"python_script.env\"\n",
    "# load_dotenv(dotenv_path=dotenv_path)\n",
    "\n",
    "# Set up access to the dotenv file on local PC\n",
    "# env_path = \"/Users/david/PycharmProjects/\"\n",
    "# dotenv_path = env_path + \"python_script.env\"\n",
    "# load_dotenv(dotenv_path=dotenv_path)"
   ]
  },
  {
   "cell_type": "markdown",
   "metadata": {
    "colab_type": "text",
    "id": "Xa51FMY_TekZ"
   },
   "source": [
    "## Task 2 - Acquire and Pre-Process Data"
   ]
  },
  {
   "cell_type": "code",
   "execution_count": 9,
   "metadata": {
    "colab": {},
    "colab_type": "code",
    "collapsed": false,
    "id": "Og9L0byuTekd",
    "jupyter": {
     "outputs_hidden": false
    },
    "pycharm": {
     "name": "#%%\n"
    }
   },
   "outputs": [
    {
     "name": "stdout",
     "output_type": "stream",
     "text": [
      "226 data points retrieved from the API call.\n"
     ]
    }
   ],
   "source": [
    "# Set up the data service provider and data acquisition parameters\n",
    "data_service = 'Quandl'\n",
    "\n",
    "# Check and see whether the API key is available\n",
    "api_key = os.environ.get('QUANDL_API')\n",
    "if api_key is None: sys.exit(\"API key for Quandl not available. Script Processing Aborted!!!\")\n",
    "\n",
    "start_date_string = data_start_date.strftime('%Y-%m-%d')\n",
    "end_date_string = data_end_date.strftime('%Y-%m-%d')\n",
    "api_url = \"https://www.quandl.com/api/v3/datatables/SHARADAR/SEP.json?date.gte=%s&date.lte=%s&ticker=%s&api_key=%s\" % (start_date_string, end_date_string, stock_symbol, api_key)\n",
    "response = requests.get(api_url)\n",
    "resp_dict = json.loads(response.text)\n",
    "stock_rawdata = pd.DataFrame(resp_dict['datatable']['data'])\n",
    "print(len(stock_rawdata), 'data points retrieved from the API call.')"
   ]
  },
  {
   "cell_type": "code",
   "execution_count": 10,
   "metadata": {},
   "outputs": [
    {
     "name": "stdout",
     "output_type": "stream",
     "text": [
      "           ticker        date    open    high     low   close       volume  dividend  closeunadj lastupdated\n",
      "date                                                                                                        \n",
      "2020-01-02   AAPL  2020-01-02  74.060  75.150  73.797  75.088  135647456.0       0.0      300.35  2020-08-31\n",
      "2020-01-03   AAPL  2020-01-03  74.287  75.145  74.125  74.358  146535512.0       0.0      297.43  2020-08-31\n",
      "2020-01-06   AAPL  2020-01-06  73.448  74.990  73.188  74.950  117288824.0       0.0      299.80  2020-08-31\n",
      "2020-01-07   AAPL  2020-01-07  74.960  75.225  74.370  74.597  111510620.0       0.0      298.39  2020-08-31\n",
      "2020-01-08   AAPL  2020-01-08  74.290  76.110  74.289  75.797  132363784.0       0.0      303.19  2020-08-31\n",
      "\n",
      "           ticker        date    open     high      low   close      volume  dividend  closeunadj lastupdated\n",
      "date                                                                                                         \n",
      "2020-11-16   AAPL  2020-11-16  118.92  120.990  118.146  120.30  91183018.0       0.0      120.30  2020-11-16\n",
      "2020-11-17   AAPL  2020-11-17  119.55  120.674  118.960  119.39  74270973.0       0.0      119.39  2020-11-17\n",
      "2020-11-18   AAPL  2020-11-18  118.61  119.820  118.000  118.03  74550131.0       0.0      118.03  2020-11-18\n",
      "2020-11-19   AAPL  2020-11-19  117.59  119.060  116.810  118.64  74112972.0       0.0      118.64  2020-11-19\n",
      "2020-11-20   AAPL  2020-11-20  118.64  118.770  117.290  117.34  71568288.0       0.0      117.34  2020-11-20\n"
     ]
    }
   ],
   "source": [
    "stock_rawdata.columns = ['ticker', 'date', 'open', 'high', 'low', 'close', 'volume', 'dividend', 'closeunadj', 'lastupdated']\n",
    "# stock_rawdata.set_index('date', inplace=True)\n",
    "stock_rawdata.index = pd.to_datetime(stock_rawdata.date)\n",
    "stock_pricing = stock_rawdata.sort_index(ascending=True)\n",
    "print(stock_pricing.head())\n",
    "print()\n",
    "print(stock_pricing.tail())"
   ]
  },
  {
   "cell_type": "code",
   "execution_count": 11,
   "metadata": {
    "colab": {
     "base_uri": "https://localhost:8080/",
     "height": 535
    },
    "colab_type": "code",
    "collapsed": false,
    "id": "Tfuu40coTekv",
    "jupyter": {
     "outputs_hidden": false
    },
    "outputId": "2357753d-6c83-46ad-e8cc-8593497d20ff",
    "pycharm": {
     "name": "#%%\n"
    }
   },
   "outputs": [
    {
     "data": {
      "image/png": "[encoded data removed]",
      "text/plain": [
       "<Figure size 1152x648 with 1 Axes>"
      ]
     },
     "metadata": {},
     "output_type": "display_data"
    }
   ],
   "source": [
    "# Set up the standard column name for modeling\n",
    "# Column names may be data-provider specific!\n",
    "model_template = stock_pricing.loc[:, ['open','close']]\n",
    "model_template.rename(columns={'open': 'open_price', 'close': 'close_price'}, inplace=True)\n",
    "plot_title = 'Historical Stock Information for ' + stock_symbol + ' from ' + data_service\n",
    "model_template['close_price'].plot(figsize=(16,9), title=plot_title)\n",
    "plt.show()"
   ]
  },
  {
   "cell_type": "markdown",
   "metadata": {
    "colab_type": "text",
    "id": "UKNJYDlGTek0"
   },
   "source": [
    "## Task 3 - Implement and Train Models"
   ]
  },
  {
   "cell_type": "code",
   "execution_count": 12,
   "metadata": {
    "colab": {},
    "colab_type": "code",
    "collapsed": false,
    "id": "yfQTRXPnTelA",
    "jupyter": {
     "outputs_hidden": false
    },
    "pycharm": {
     "name": "#%%\n"
    }
   },
   "outputs": [],
   "source": [
    "# Define the functions that will generate the indicators and trading signals\n",
    "\n",
    "def populate_indicators(trade_model):\n",
    "    trade_model['momentum_streak'] = 0\n",
    "    trade_model['trade_signal'] = 0\n",
    "    trade_model['entry_exit'] = 0\n",
    "\n",
    "def populate_signals(trade_model, nb_consec_up, nb_consec_dn):\n",
    "    cons_day = 0\n",
    "    prior_signal = 0\n",
    "    prior_price = 0.0\n",
    "    currently_own = False\n",
    "    init = True\n",
    "    for k in range(len(trade_model)):\n",
    "        current_signal = 0\n",
    "        price = trade_model['close_price'].iloc[k]\n",
    "        trade_model['entry_exit'].iloc[k] = prior_signal\n",
    "        if init:\n",
    "            init = False\n",
    "        else:\n",
    "            if price > prior_price:\n",
    "                if cons_day < 0: cons_day = 0\n",
    "                cons_day += 1\n",
    "            elif price < prior_price:\n",
    "                if cons_day > 0: cons_day = 0\n",
    "                cons_day -= 1\n",
    "            trade_model['momentum_streak'].iloc[k] = cons_day\n",
    "            if (cons_day == nb_consec_up) and (not currently_own):\n",
    "                current_signal = 1  # trade_signal = 1 means we should buy\n",
    "                currently_own = True\n",
    "                cons_day = 0\n",
    "            elif (cons_day == -nb_consec_dn) and currently_own:\n",
    "                current_signal = -1  # trade_signal = -1 means we should sell\n",
    "                currently_own = False\n",
    "                cons_day = 0\n",
    "        trade_model['trade_signal'].iloc[k] = current_signal\n",
    "        prior_signal = current_signal\n",
    "        prior_price = price\n",
    "\n",
    "    # Exiting the position on the last day of modeling period\n",
    "    if currently_own:\n",
    "        trade_model.iloc[-1]['entry_exit'] = -1\n",
    "\n",
    "    if verbose_signals: print(trade_model)"
   ]
  },
  {
   "cell_type": "code",
   "execution_count": 13,
   "metadata": {
    "collapsed": false,
    "jupyter": {
     "outputs_hidden": false
    },
    "pycharm": {
     "name": "#%%\n"
    }
   },
   "outputs": [
    {
     "name": "stderr",
     "output_type": "stream",
     "text": [
      "/opt/conda/lib/python3.8/site-packages/pandas/core/indexing.py:671: SettingWithCopyWarning: \n",
      "A value is trying to be set on a copy of a slice from a DataFrame\n",
      "\n",
      "See the caveats in the documentation: https://pandas.pydata.org/pandas-docs/stable/user_guide/indexing.html#returning-a-view-versus-a-copy\n",
      "  self._setitem_with_indexer(indexer, value)\n"
     ]
    }
   ],
   "source": [
    "trading_model = model_template.copy()\n",
    "populate_indicators(trading_model)\n",
    "trading_model = trading_model[model_start_date:model_end_date]\n",
    "populate_signals(trading_model, consec_up_days, consec_dn_days)"
   ]
  },
  {
   "cell_type": "code",
   "execution_count": 14,
   "metadata": {
    "colab": {
     "base_uri": "https://localhost:8080/",
     "height": 1000
    },
    "colab_type": "code",
    "collapsed": false,
    "id": "327CZKmtTelL",
    "jupyter": {
     "outputs_hidden": false
    },
    "outputId": "b353b49d-0281-4aa7-a530-6747c166eae5",
    "pycharm": {
     "name": "#%%\n"
    }
   },
   "outputs": [],
   "source": [
    "# List the entry/exit points for each model\n",
    "def list_model_entry_exit(trade_model):\n",
    "    print('List the signal change and entry/exit points for', stock_symbol)\n",
    "    print(trade_model[(trade_model['trade_signal'] != 0) | (trade_model['entry_exit'] != 0)])"
   ]
  },
  {
   "cell_type": "code",
   "execution_count": 15,
   "metadata": {
    "collapsed": false,
    "jupyter": {
     "outputs_hidden": false
    },
    "pycharm": {
     "name": "#%%\n"
    }
   },
   "outputs": [
    {
     "name": "stdout",
     "output_type": "stream",
     "text": [
      "List the signal change and entry/exit points for AAPL\n",
      "            open_price  close_price  momentum_streak  trade_signal  entry_exit\n",
      "date                                                                          \n",
      "2020-01-10      77.650       77.582                3             1           0\n",
      "2020-01-13      77.910       79.240                1             0           1\n",
      "2020-02-03      76.075       77.165               -3            -1           0\n",
      "2020-02-04      78.828       79.713                1             0          -1\n",
      "2020-02-06      80.642       81.302                3             1           0\n",
      "2020-02-07      80.593       80.007               -1             0           1\n",
      "2020-02-24      74.315       74.545               -3            -1           0\n",
      "2020-02-25      75.237       72.020               -1             0          -1\n",
      "2020-04-13      67.078       68.313                3             1           0\n",
      "2020-04-14      70.000       71.763                1             0           1\n",
      "2020-04-21      69.070       67.093               -3            -1           0\n",
      "2020-04-22      68.403       69.025                1             0          -1\n",
      "2020-05-06      75.115       75.157                3             1           0\n",
      "2020-05-07      75.805       75.935                1             0           1\n",
      "2020-09-18     110.400      106.840               -3            -1           0\n",
      "2020-09-21     104.540      110.080                1             0          -1\n",
      "2020-09-28     115.010      114.960                3             1           0\n",
      "2020-09-29     114.550      114.090               -1             0           1\n",
      "2020-10-19     119.960      115.980               -3            -1           0\n",
      "2020-10-20     116.200      117.510                1             0          -1\n",
      "2020-11-05     117.950      119.030                3             1           0\n",
      "2020-11-06     118.320      118.690               -1             0           1\n",
      "2020-11-10     115.550      115.970               -3            -1           0\n",
      "2020-11-11     117.190      119.490                1             0          -1\n"
     ]
    }
   ],
   "source": [
    "if verbose_models: list_model_entry_exit(trading_model)"
   ]
  },
  {
   "cell_type": "code",
   "execution_count": 16,
   "metadata": {
    "colab": {
     "base_uri": "https://localhost:8080/",
     "height": 1000
    },
    "colab_type": "code",
    "collapsed": false,
    "id": "XEyJXVxcTelS",
    "jupyter": {
     "outputs_hidden": false
    },
    "outputId": "c74ac3e9-fbd3-4e73-8294-f12d0cce88dc",
    "pycharm": {
     "name": "#%%\n"
    }
   },
   "outputs": [],
   "source": [
    "def draw_model_graphs(trade_model):\n",
    "    graph_data = trade_model.copy()\n",
    "    title_string = 'Naive Momentum Trading Model for ' + stock_symbol\n",
    "    fig = plt.figure(figsize=(16,9))\n",
    "    ylabel = stock_symbol + ' price in $'\n",
    "    ax1 = fig.add_subplot(111, ylabel=ylabel, title=title_string)\n",
    "    graph_data['close_price'].plot(ax=ax1, color='g')\n",
    "    ax1.plot(graph_data.loc[graph_data.entry_exit == 1].index, graph_data.close_price[graph_data.entry_exit == 1], '^', markersize=7, color='k',label='buy')\n",
    "    ax1.plot(graph_data.loc[graph_data.entry_exit == -1].index, graph_data.close_price[graph_data.entry_exit == -1], 'v', markersize=7, color='k',label='sell')\n",
    "    plt.legend(loc='upper left')\n",
    "    plt.show()"
   ]
  },
  {
   "cell_type": "code",
   "execution_count": 17,
   "metadata": {
    "collapsed": false,
    "jupyter": {
     "outputs_hidden": false
    },
    "pycharm": {
     "name": "#%%\n"
    }
   },
   "outputs": [
    {
     "data": {
      "image/png": "[encoded data removed]",
      "text/plain": [
       "<Figure size 1152x648 with 1 Axes>"
      ]
     },
     "metadata": {},
     "output_type": "display_data"
    }
   ],
   "source": [
    "if verbose_graphs: draw_model_graphs(trading_model)"
   ]
  },
  {
   "cell_type": "markdown",
   "metadata": {
    "colab_type": "text",
    "id": "wzTQaZkeTeld"
   },
   "source": [
    "## Task 4 - Back-test Models"
   ]
  },
  {
   "cell_type": "code",
   "execution_count": 18,
   "metadata": {
    "colab": {},
    "colab_type": "code",
    "collapsed": false,
    "id": "Q1xZWksnTelr",
    "jupyter": {
     "outputs_hidden": false
    },
    "pycharm": {
     "name": "#%%\n"
    }
   },
   "outputs": [],
   "source": [
    "def generate_trading_portfolios(trade_model, initial_fund):\n",
    "    # Construct a portfolio to track the transactions and returns\n",
    "    portfolio = pd.DataFrame(index=trade_model.index, columns=['trade_action', 'qty_onhand', 'cost_basis', 'sold_transaction', 'gain_loss', 'cash_onhand', 'position_value', 'total_position', 'accumu_return'])\n",
    "    portfolio.iloc[0]['trade_action'] = 0\n",
    "    portfolio.iloc[0]['qty_onhand'] = 0\n",
    "    portfolio.iloc[0]['cost_basis'] = 0.00\n",
    "    portfolio.iloc[0]['sold_transaction'] = 0.00\n",
    "    portfolio.iloc[0]['gain_loss'] = 0.00\n",
    "    portfolio.iloc[0]['cash_onhand'] = initial_capital\n",
    "    portfolio.iloc[0]['position_value'] = 0.00\n",
    "    portfolio.iloc[0]['total_position'] = initial_capital\n",
    "    portfolio.iloc[0]['accumu_return'] = portfolio.iloc[0]['total_position'] - initial_fund\n",
    "    recent_cost = 0\n",
    "\n",
    "    # The conditional parameters below determine how the trading strategy will be carried out\n",
    "    for i in range(1, len(portfolio)):\n",
    "        if (trade_model.iloc[i]['entry_exit'] == 1) and (portfolio.iloc[i-1]['qty_onhand'] == 0):\n",
    "            portfolio.iloc[i]['trade_action'] = 1\n",
    "            portfolio.iloc[i]['qty_onhand'] = portfolio.iloc[i-1]['qty_onhand'] + portfolio.iloc[i]['trade_action']\n",
    "            portfolio.iloc[i]['cost_basis'] = trade_model.iloc[i]['open_price'] * portfolio.iloc[i]['trade_action']\n",
    "            portfolio.iloc[i]['sold_transaction'] = 0.00\n",
    "            portfolio.iloc[i]['gain_loss'] = 0.00\n",
    "            portfolio.iloc[i]['cash_onhand'] = portfolio.iloc[i-1]['cash_onhand'] - portfolio.iloc[i]['cost_basis']\n",
    "            recent_cost = trade_model.iloc[i]['open_price'] * portfolio.iloc[i]['trade_action']\n",
    "            if verbose_portfolios: print('BOUGHT QTY:', portfolio.iloc[i]['trade_action'], 'on', portfolio.index[i], 'at the price of', trade_model.iloc[i]['open_price'])\n",
    "        elif (trade_model.iloc[i]['entry_exit'] == -1) and (portfolio.iloc[i-1]['qty_onhand'] > 0):\n",
    "            portfolio.iloc[i]['trade_action'] = -1\n",
    "            portfolio.iloc[i]['qty_onhand'] = portfolio.iloc[i-1]['qty_onhand'] + portfolio.iloc[i]['trade_action']\n",
    "            portfolio.iloc[i]['cost_basis'] = 0.00\n",
    "            portfolio.iloc[i]['sold_transaction'] = trade_model.iloc[i]['open_price'] * portfolio.iloc[i]['trade_action'] * -1\n",
    "            portfolio.iloc[i]['gain_loss'] = (recent_cost + (trade_model.iloc[i]['open_price'] * portfolio.iloc[i]['trade_action'])) * -1\n",
    "            portfolio.iloc[i]['cash_onhand'] = portfolio.iloc[i-1]['cash_onhand'] + portfolio.iloc[i]['sold_transaction']\n",
    "            recent_cost = 0.00\n",
    "            if verbose_portfolios: print('SOLD QTY:', portfolio.iloc[i]['trade_action'], 'on', portfolio.index[i], 'at the price of', trade_model.iloc[i]['open_price'])\n",
    "        else:\n",
    "            portfolio.iloc[i]['trade_action'] = 0\n",
    "            portfolio.iloc[i]['qty_onhand'] = portfolio.iloc[i-1]['qty_onhand']\n",
    "            portfolio.iloc[i]['cost_basis'] = portfolio.iloc[i-1]['cost_basis']\n",
    "            portfolio.iloc[i]['sold_transaction'] = 0.00\n",
    "            portfolio.iloc[i]['gain_loss'] = 0.00\n",
    "            portfolio.iloc[i]['cash_onhand'] = portfolio.iloc[i-1]['cash_onhand']\n",
    "        portfolio.iloc[i]['position_value'] = trade_model.iloc[i]['close_price'] * portfolio.iloc[i]['qty_onhand']\n",
    "        portfolio.iloc[i]['total_position'] = portfolio.iloc[i]['cash_onhand'] + portfolio.iloc[i]['position_value']\n",
    "        portfolio.iloc[i]['accumu_return'] = portfolio.iloc[i]['total_position'] - initial_fund\n",
    "\n",
    "    if verbose_portfolios:\n",
    "        print()\n",
    "        print(portfolio)\n",
    "        print()\n",
    "    return portfolio"
   ]
  },
  {
   "cell_type": "code",
   "execution_count": 19,
   "metadata": {
    "colab": {
     "base_uri": "https://localhost:8080/",
     "height": 1000
    },
    "colab_type": "code",
    "collapsed": false,
    "id": "mOsqVrfRTelw",
    "jupyter": {
     "outputs_hidden": false
    },
    "outputId": "17950f55-4566-48b2-dde6-0974c6e45966",
    "pycharm": {
     "name": "#%%\n"
    }
   },
   "outputs": [],
   "source": [
    "def calculate_portfolio_performance(trade_model):\n",
    "    print('Processing portfolio for stock', stock_symbol)\n",
    "    trade_portfolio = generate_trading_portfolios(trade_model, initial_capital)\n",
    "    trade_transactions = trade_portfolio[trade_portfolio['trade_action'] != 0]\n",
    "    print(trade_transactions)\n",
    "    print('Accumulated profit/loss for one share of stock with initial capital of $%.0f at the end of modeling period: $%.2f' % (initial_capital, trade_portfolio['accumu_return'][-1]))\n",
    "    if initial_capital != 0:\n",
    "        return_percentage = trade_portfolio['accumu_return'][-1] / initial_capital * 100\n",
    "        print('Accumulated return percentage based on the initial capital investment: %.2f%%' % return_percentage)\n",
    "    if trade_transactions.iloc[-1]['trade_action'] == 1:\n",
    "        print('The current status of the model is:', 'Holding a position since', trade_transactions.index.tolist()[-1], '\\n')\n",
    "    else:\n",
    "        print('The current status of the model is:', 'Waiting to enter since', trade_transactions.index.tolist()[-1], '\\n')\n",
    "    return trade_portfolio"
   ]
  },
  {
   "cell_type": "code",
   "execution_count": 20,
   "metadata": {
    "collapsed": false,
    "jupyter": {
     "outputs_hidden": false
    },
    "pycharm": {
     "name": "#%%\n"
    }
   },
   "outputs": [
    {
     "name": "stdout",
     "output_type": "stream",
     "text": [
      "Processing portfolio for stock AAPL\n",
      "           trade_action qty_onhand cost_basis sold_transaction gain_loss cash_onhand position_value total_position accumu_return\n",
      "date                                                                                                                            \n",
      "2020-01-13            1          1      77.91                0         0      -77.91          79.24           1.33          1.33\n",
      "2020-02-04           -1          0          0           78.828     0.918       0.918              0          0.918         0.918\n",
      "2020-02-07            1          1     80.593                0         0     -79.675         80.007          0.332         0.332\n",
      "2020-02-25           -1          0          0           75.237    -5.356      -4.438              0         -4.438        -4.438\n",
      "2020-04-14            1          1         70                0         0     -74.438         71.763         -2.675        -2.675\n",
      "2020-04-22           -1          0          0           68.403    -1.597      -6.035              0         -6.035        -6.035\n",
      "2020-05-07            1          1     75.805                0         0      -81.84         75.935         -5.905        -5.905\n",
      "2020-09-21           -1          0          0           104.54    28.735        22.7              0           22.7          22.7\n",
      "2020-09-29            1          1     114.55                0         0      -91.85         114.09          22.24         22.24\n",
      "2020-10-20           -1          0          0            116.2      1.65       24.35              0          24.35         24.35\n",
      "2020-11-06            1          1     118.32                0         0      -93.97         118.69          24.72         24.72\n",
      "2020-11-11           -1          0          0           117.19     -1.13       23.22              0          23.22         23.22\n",
      "Accumulated profit/loss for one share of stock with initial capital of $0 at the end of modeling period: $23.22\n",
      "The current status of the model is: Waiting to enter since 2020-11-11 00:00:00 \n",
      "\n"
     ]
    }
   ],
   "source": [
    "trading_portfolios = calculate_portfolio_performance(trading_model)"
   ]
  },
  {
   "cell_type": "markdown",
   "metadata": {},
   "source": [
    "## Task 5 - Evaluate Strategy Performance"
   ]
  },
  {
   "cell_type": "code",
   "execution_count": 21,
   "metadata": {
    "colab": {
     "base_uri": "https://localhost:8080/",
     "height": 34
    },
    "colab_type": "code",
    "id": "aTP_6WyfTemB",
    "outputId": "6cda4cc2-d890-47d5-9a63-43cffd21d72f"
   },
   "outputs": [
    {
     "name": "stdout",
     "output_type": "stream",
     "text": [
      "The entry point for the buy-and-hold model: $74.06 on 2020-01-02 00:00:00\n",
      "The exit point for the buy-and-hold model: $118.64 on 2020-11-20 00:00:00\n",
      "The performance of the long-only model from day one is: $44.58\n"
     ]
    }
   ],
   "source": [
    "# Calculate the stock's performance for a buy-and-hold model\n",
    "model_template = model_template[model_start_date:model_end_date]\n",
    "print('The entry point for the buy-and-hold model: $%.2f on %s' % (model_template.iloc[0]['open_price'], model_template.index[0]))\n",
    "print('The exit point for the buy-and-hold model: $%.2f on %s' % (model_template.iloc[-1]['open_price'], model_template.index[-1]))\n",
    "print('The performance of the long-only model from day one is: $%.2f' %(model_template.iloc[-1]['open_price'] - model_template.iloc[0]['open_price']))"
   ]
  },
  {
   "cell_type": "code",
   "execution_count": 22,
   "metadata": {
    "colab": {
     "base_uri": "https://localhost:8080/",
     "height": 34
    },
    "colab_type": "code",
    "collapsed": false,
    "id": "be1J2gmiTemG",
    "jupyter": {
     "outputs_hidden": false
    },
    "outputId": "28010a58-a8c1-43ae-d6ff-200fc13eb876",
    "pycharm": {
     "name": "#%%\n"
    }
   },
   "outputs": [
    {
     "name": "stdout",
     "output_type": "stream",
     "text": [
      "Total time for the script: 0:00:04.257524\n"
     ]
    }
   ],
   "source": [
    "print ('Total time for the script:',(datetime.now() - startTimeScript))"
   ]
  }
 ],
 "metadata": {
  "colab": {
   "collapsed_sections": [],
   "name": "py_algotrading_ema_crossover_grid_search.ipynb",
   "provenance": []
  },
  "kernelspec": {
   "display_name": "Python 3",
   "language": "python",
   "name": "python3"
  },
  "language_info": {
   "codemirror_mode": {
    "name": "ipython",
    "version": 3
   },
   "file_extension": ".py",
   "mimetype": "text/x-python",
   "name": "python",
   "nbconvert_exporter": "python",
   "pygments_lexer": "ipython3",
   "version": "3.8.3"
  }
 },
 "nbformat": 4,
 "nbformat_minor": 4
}
