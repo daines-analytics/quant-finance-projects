{
 "cells": [
  {
   "cell_type": "markdown",
   "metadata": {
    "colab_type": "text",
    "id": "nn0Ld1RjTekC"
   },
   "source": [
    "# Algorithmic Trading Model for Naive Momentum Strategy with Volume Indicator Using Python\n",
    "### David Lowe\n",
    "### December 2, 2020\n",
    "\n",
    "NOTE: This script is for learning purposes only and does not constitute a recommendation for buying or selling any stock mentioned in this script.\n",
    "\n",
    "SUMMARY: This project aims to construct and test an algorithmic trading model and document the end-to-end steps using a template. We will test trading models with the naive momentum strategy.\n",
    "\n",
    "INTRODUCTION: This algorithmic trading model examines a simplistic naive momentum strategy in comparison to a buy-and-hold approach. The plan goes long (buys) on the stock when the daily closing price improves from the previous day for a pre-defined consecutive number of days. Conversely, we will exit the position when the daily price declines for the same successive number of days. Furthermore, we will use the trading volumes to confirm the buy and sell signals by comparing them to the 10-day moving average.\n",
    "\n",
    "ANALYSIS: From this iteration, we analyzed the stock prices for Apple Inc. (AAPL) between January 1, 2019, and November 27, 2020. The trading model produced a profit of 35.78 dollars per share. The buy-and-hold approach yielded a gain of 77.85 dollars per share.\n",
    "\n",
    "CONCLUSION: For the stock of AAPL during the modeling time frame, the trading strategy did not produce a better return than the buy-and-hold approach. We should consider modeling this stock further by experimenting with more variations of the strategy.\n",
    "\n",
    "Dataset ML Model: Time series analysis with numerical attributes\n",
    "\n",
    "Dataset Used: Quandl\n",
    "\n",
    "An algorithmic trading modeling project generally can be broken down into about five major tasks:\n",
    "\n",
    "1. Prepare Environment\n",
    "2. Acquire and Pre-Process Data\n",
    "3. Implement and Train Models\n",
    "4. Back-test Models\n",
    "5. Evaluate Strategy Performance"
   ]
  },
  {
   "cell_type": "markdown",
   "metadata": {
    "colab_type": "text",
    "id": "-DieEv9pTekE"
   },
   "source": [
    "## Task 1 - Prepare Environment"
   ]
  },
  {
   "cell_type": "code",
   "execution_count": 1,
   "metadata": {
    "collapsed": false,
    "jupyter": {
     "outputs_hidden": false
    },
    "pycharm": {
     "name": "#%%\n"
    }
   },
   "outputs": [],
   "source": [
    "# # Install the necessary packages for Colab\n",
    "# !pip install python-dotenv PyMySQL"
   ]
  },
  {
   "cell_type": "code",
   "execution_count": 2,
   "metadata": {
    "collapsed": false,
    "jupyter": {
     "outputs_hidden": false
    },
    "pycharm": {
     "name": "#%%\n"
    }
   },
   "outputs": [],
   "source": [
    "# # Retrieve the GPU information from Colab\n",
    "# gpu_info = !nvidia-smi\n",
    "# gpu_info = '\\n'.join(gpu_info)\n",
    "# if gpu_info.find('failed') >= 0:\n",
    "#     print('Select the Runtime → \"Change runtime type\" menu to enable a GPU accelerator, ')\n",
    "#     print('and then re-execute this cell.')\n",
    "# else:\n",
    "#     print(gpu_info)"
   ]
  },
  {
   "cell_type": "code",
   "execution_count": 3,
   "metadata": {
    "collapsed": false,
    "jupyter": {
     "outputs_hidden": false
    },
    "pycharm": {
     "name": "#%%\n"
    }
   },
   "outputs": [],
   "source": [
    "# # Retrieve the memory configuration from Colab\n",
    "# from psutil import virtual_memory\n",
    "# ram_gb = virtual_memory().total / 1e9\n",
    "# print('Your runtime has {:.1f} gigabytes of available RAM\\n'.format(ram_gb))\n",
    "#\n",
    "# if ram_gb < 20:\n",
    "#     print('To enable a high-RAM runtime, select the Runtime → \"Change runtime type\"')\n",
    "#     print('menu, and then select High-RAM in the Runtime shape dropdown. Then, ')\n",
    "#     print('re-execute this cell.')\n",
    "# else:\n",
    "#     print('You are using a high-RAM runtime!')"
   ]
  },
  {
   "cell_type": "code",
   "execution_count": 4,
   "metadata": {
    "collapsed": false,
    "jupyter": {
     "outputs_hidden": false
    },
    "pycharm": {
     "name": "#%%\n"
    }
   },
   "outputs": [],
   "source": [
    "# # Retrieve the CPU information\n",
    "# ncpu = !nproc\n",
    "# print(\"The number of available CPUs is:\", ncpu[0])"
   ]
  },
  {
   "cell_type": "markdown",
   "metadata": {
    "pycharm": {
     "name": "#%% md\n"
    }
   },
   "source": [
    "### 1.a) Load libraries and modules"
   ]
  },
  {
   "cell_type": "code",
   "execution_count": 5,
   "metadata": {
    "colab": {},
    "colab_type": "code",
    "collapsed": false,
    "id": "8IwyGxxuTekE",
    "jupyter": {
     "outputs_hidden": false
    },
    "pycharm": {
     "name": "#%%\n"
    }
   },
   "outputs": [],
   "source": [
    "import pandas as pd\n",
    "import matplotlib.pyplot as plt\n",
    "import os\n",
    "import sys\n",
    "from datetime import date, datetime, timedelta\n",
    "import requests\n",
    "import json\n",
    "from dotenv import load_dotenv\n",
    "# import pandas_datareader.data as pdr"
   ]
  },
  {
   "cell_type": "markdown",
   "metadata": {
    "pycharm": {
     "name": "#%% md\n"
    }
   },
   "source": [
    "### 1.b) Set up the controlling parameters and functions¶"
   ]
  },
  {
   "cell_type": "code",
   "execution_count": 6,
   "metadata": {
    "colab": {
     "base_uri": "https://localhost:8080/",
     "height": 51
    },
    "colab_type": "code",
    "collapsed": false,
    "id": "Zagik25QTekS",
    "jupyter": {
     "outputs_hidden": false
    },
    "outputId": "d14332ba-63ec-4224-ca13-c4ecdab3541a",
    "pycharm": {
     "name": "#%%\n"
    }
   },
   "outputs": [
    {
     "name": "stdout",
     "output_type": "stream",
     "text": [
      "Starting date for the model: 2019-01-01\n",
      "Ending date for the model: 2020-11-27\n",
      "First date of data we need for modeling: 2018-12-17\n",
      "Last date of data we need for modeling: 2020-11-27\n"
     ]
    }
   ],
   "source": [
    "stock_symbol = 'AAPL'\n",
    "initial_capital = 0\n",
    "\n",
    "# Specify the moving average parameters for the trading strategy\n",
    "CONSEC_UP_DAYS = 3\n",
    "CONSEC_DN_DAYS = 3\n",
    "VOL_MA_DAYS = 10\n",
    "\n",
    "MODEL_START_DATE = date(2019, 1, 1)\n",
    "print(\"Starting date for the model:\", MODEL_START_DATE)\n",
    "\n",
    "MODEL_END_DATE = datetime.now().date()\n",
    "# model_end_date = date(2020, 11, 20)\n",
    "print(\"Ending date for the model:\", MODEL_END_DATE)\n",
    "\n",
    "# data_start_date = model_start_date\n",
    "data_start_date = MODEL_START_DATE - timedelta(days=int(VOL_MA_DAYS * 1.5)) # Need more pricing data to calculate moving averages\n",
    "print(\"First date of data we need for modeling:\", data_start_date)\n",
    "\n",
    "data_end_date = MODEL_END_DATE\n",
    "print(\"Last date of data we need for modeling:\", data_end_date)"
   ]
  },
  {
   "cell_type": "code",
   "execution_count": 7,
   "metadata": {
    "colab": {
     "base_uri": "https://localhost:8080/",
     "height": 34
    },
    "colab_type": "code",
    "collapsed": false,
    "id": "aTI50KL9TekN",
    "jupyter": {
     "outputs_hidden": false
    },
    "outputId": "68f4a687-6e33-48e5-ef46-c23d7994bc3e",
    "pycharm": {
     "name": "#%%\n"
    }
   },
   "outputs": [],
   "source": [
    "# Begin the timer for the script processing\n",
    "startTimeScript = datetime.now()\n",
    "\n",
    "# Set Pandas options\n",
    "pd.set_option(\"display.max_rows\", None)\n",
    "pd.set_option(\"display.max_columns\", None)\n",
    "pd.set_option(\"display.width\", 140)\n",
    "\n",
    "# Configure the plotting style\n",
    "plt.style.use('seaborn')\n",
    "\n",
    "# Set up the verbose flag to print detailed messages for debugging (setting True will activate!)\n",
    "verbose_signals = False\n",
    "verbose_models = True\n",
    "verbose_graphs = True\n",
    "verbose_portfolios = False"
   ]
  },
  {
   "cell_type": "code",
   "execution_count": 8,
   "metadata": {
    "collapsed": false,
    "jupyter": {
     "outputs_hidden": false
    },
    "pycharm": {
     "name": "#%%\n"
    }
   },
   "outputs": [],
   "source": [
    "# Set up the parent directory location for loading the dotenv files\n",
    "\n",
    "# # Mount Google Drive locally for storing files\n",
    "# from google.colab import drive\n",
    "# drive.mount('/content/gdrive')\n",
    "# gdrivePrefix = '/content/gdrive/My Drive/Colab_Downloads/'\n",
    "# env_path = '/content/gdrive/My Drive/Colab Notebooks/'\n",
    "# dotenv_path = env_path + \"python_script.env\"\n",
    "# load_dotenv(dotenv_path=dotenv_path)\n",
    "\n",
    "# # Set up access to the dotenv file on local PC\n",
    "# env_path = \"/Users/david/PycharmProjects/\"\n",
    "# dotenv_path = env_path + \"python_script.env\"\n",
    "# load_dotenv(dotenv_path=dotenv_path)"
   ]
  },
  {
   "cell_type": "markdown",
   "metadata": {
    "colab_type": "text",
    "id": "Xa51FMY_TekZ"
   },
   "source": [
    "## Task 2 - Acquire and Pre-Process Data"
   ]
  },
  {
   "cell_type": "code",
   "execution_count": 9,
   "metadata": {
    "colab": {},
    "colab_type": "code",
    "collapsed": false,
    "id": "Og9L0byuTekd",
    "jupyter": {
     "outputs_hidden": false
    },
    "pycharm": {
     "name": "#%%\n"
    }
   },
   "outputs": [
    {
     "name": "stdout",
     "output_type": "stream",
     "text": [
      "492 data points retrieved from the API call.\n"
     ]
    }
   ],
   "source": [
    "# Set up the data service provider and data acquisition parameters\n",
    "data_service = 'Quandl'\n",
    "\n",
    "# Check and see whether the API key is available\n",
    "api_key = os.environ.get('QUANDL_API')\n",
    "if api_key is None: sys.exit(\"API key for Quandl not available. Script Processing Aborted!!!\")\n",
    "\n",
    "start_date_string = data_start_date.strftime('%Y-%m-%d')\n",
    "end_date_string = data_end_date.strftime('%Y-%m-%d')\n",
    "api_url = \"https://www.quandl.com/api/v3/datatables/SHARADAR/SEP.json?date.gte=%s&date.lte=%s&ticker=%s&api_key=%s\" % (start_date_string, end_date_string, stock_symbol, api_key)\n",
    "response = requests.get(api_url)\n",
    "resp_dict = json.loads(response.text)\n",
    "stock_rawdata = pd.DataFrame(resp_dict['datatable']['data'])\n",
    "print(len(stock_rawdata), 'data points retrieved from the API call.')"
   ]
  },
  {
   "cell_type": "code",
   "execution_count": 10,
   "metadata": {},
   "outputs": [
    {
     "name": "stdout",
     "output_type": "stream",
     "text": [
      "           ticker        date    open    high     low   close       volume  dividend  closeunadj lastupdated\n",
      "date                                                                                                        \n",
      "2018-12-17   AAPL  2018-12-17  41.362  42.087  40.682  40.985  177151688.0       0.0      163.94  2020-08-31\n",
      "2018-12-18   AAPL  2018-12-18  41.345  41.883  41.097  41.517  135366072.0       0.0      166.07  2020-08-31\n",
      "2018-12-19   AAPL  2018-12-19  41.500  41.862  39.773  40.222  196189188.0       0.0      160.89  2020-08-31\n",
      "2018-12-20   AAPL  2018-12-20  40.100  40.528  38.825  39.208  259091840.0       0.0      156.83  2020-08-31\n",
      "2018-12-21   AAPL  2018-12-21  39.215  39.540  37.407  37.682  382977536.0       0.0      150.73  2020-08-31\n",
      "\n",
      "           ticker        date    open    high     low   close       volume  dividend  closeunadj lastupdated\n",
      "date                                                                                                        \n",
      "2020-11-20   AAPL  2020-11-20  118.64  118.77  117.29  117.34   71568288.0       0.0      117.34  2020-11-20\n",
      "2020-11-23   AAPL  2020-11-23  117.18  117.62  113.75  113.85  125934410.0       0.0      113.85  2020-11-23\n",
      "2020-11-24   AAPL  2020-11-24  113.91  115.85  112.59  115.17  113226248.0       0.0      115.17  2020-11-25\n",
      "2020-11-25   AAPL  2020-11-25  115.55  116.75  115.17  116.03   76226384.0       0.0      116.03  2020-11-25\n",
      "2020-11-27   AAPL  2020-11-27  116.57  117.49  116.22  116.59   46209233.0       0.0      116.59  2020-11-27\n"
     ]
    }
   ],
   "source": [
    "stock_rawdata.columns = ['ticker', 'date', 'open', 'high', 'low', 'close', 'volume', 'dividend', 'closeunadj', 'lastupdated']\n",
    "# stock_rawdata.set_index('date', inplace=True)\n",
    "stock_rawdata.index = pd.to_datetime(stock_rawdata.date)\n",
    "stock_pricing = stock_rawdata.sort_index(ascending=True)\n",
    "print(stock_pricing.head())\n",
    "print()\n",
    "print(stock_pricing.tail())"
   ]
  },
  {
   "cell_type": "code",
   "execution_count": 11,
   "metadata": {
    "colab": {
     "base_uri": "https://localhost:8080/",
     "height": 535
    },
    "colab_type": "code",
    "collapsed": false,
    "id": "Tfuu40coTekv",
    "jupyter": {
     "outputs_hidden": false
    },
    "outputId": "2357753d-6c83-46ad-e8cc-8593497d20ff",
    "pycharm": {
     "name": "#%%\n"
    }
   },
   "outputs": [
    {
     "data": {
      "image/png": "[encoded data removed]",
      "text/plain": [
       "<Figure size 1152x648 with 1 Axes>"
      ]
     },
     "metadata": {},
     "output_type": "display_data"
    }
   ],
   "source": [
    "# Set up the standard column name for modeling\n",
    "# Column names may be data-provider specific!\n",
    "model_template = stock_pricing.loc[:, ['open','close','volume']]\n",
    "model_template.rename(columns={'open': 'open_price', 'close': 'close_price', 'volume': 'trading_volume'}, inplace=True)\n",
    "model_template = model_template[MODEL_START_DATE:MODEL_END_DATE]\n",
    "plot_title = 'Historical Stock Close Price for ' + stock_symbol + ' from ' + data_service\n",
    "model_template['close_price'].plot(figsize=(16,9), title=plot_title)\n",
    "plt.show()"
   ]
  },
  {
   "cell_type": "markdown",
   "metadata": {
    "colab_type": "text",
    "id": "UKNJYDlGTek0"
   },
   "source": [
    "## Task 3 - Implement and Train Models"
   ]
  },
  {
   "cell_type": "code",
   "execution_count": 12,
   "metadata": {
    "colab": {},
    "colab_type": "code",
    "collapsed": false,
    "id": "yfQTRXPnTelA",
    "jupyter": {
     "outputs_hidden": false
    },
    "pycharm": {
     "name": "#%%\n"
    }
   },
   "outputs": [],
   "source": [
    "# Define the function that will generate the indicators and trading signals\n",
    "def populate_signals(blank_model):\n",
    "    trade_model = blank_model.copy()\n",
    "    trade_model['volume_ma'] = trade_model['trading_volume'].rolling(VOL_MA_DAYS).mean()\n",
    "    trade_model['momentum_streak'] = 0\n",
    "    trade_model['trade_signal'] = 0\n",
    "    trade_model['entry_exit'] = 0\n",
    "    consecutive_days = 0\n",
    "    prior_signal = 0\n",
    "    prior_price = 0.0\n",
    "    currently_own = False\n",
    "    init = True\n",
    "    for k in range(len(trade_model)):\n",
    "        current_signal = 0\n",
    "        price = trade_model.at[trade_model.index[k], 'close_price']\n",
    "        trade_volume = trade_model.at[trade_model.index[k], 'trading_volume']\n",
    "        average_volume = trade_model.at[trade_model.index[k], 'volume_ma']\n",
    "        trade_model.at[trade_model.index[k], 'entry_exit'] = prior_signal\n",
    "        if init:\n",
    "            init = False\n",
    "        else:\n",
    "            if price > prior_price:\n",
    "                if consecutive_days < 0: consecutive_days = 0\n",
    "                consecutive_days += 1\n",
    "            elif price < prior_price:\n",
    "                if consecutive_days > 0: consecutive_days = 0\n",
    "                consecutive_days -= 1\n",
    "            trade_model.at[trade_model.index[k], 'momentum_streak'] = consecutive_days\n",
    "            if (consecutive_days == CONSEC_UP_DAYS) and (trade_volume > average_volume) and (not currently_own):\n",
    "                current_signal = 1  # trade_signal = 1 means we should buy\n",
    "                currently_own = True\n",
    "                consecutive_days = 0\n",
    "            elif (consecutive_days == -CONSEC_DN_DAYS) and (trade_volume > average_volume) and currently_own:\n",
    "                current_signal = -1  # trade_signal = -1 means we should sell\n",
    "                currently_own = False\n",
    "                consecutive_days = 0\n",
    "        trade_model.at[trade_model.index[k], 'trade_signal'] = current_signal\n",
    "        prior_signal = current_signal\n",
    "        prior_price = price\n",
    "\n",
    "    # Exiting the position on the last day of modeling period\n",
    "    if currently_own:\n",
    "        trade_model.at[trade_model.index[-1], 'entry_exit'] = -1\n",
    "\n",
    "    if verbose_signals: print(trade_model)\n",
    "    return trade_model"
   ]
  },
  {
   "cell_type": "code",
   "execution_count": 13,
   "metadata": {
    "collapsed": false,
    "jupyter": {
     "outputs_hidden": false
    },
    "pycharm": {
     "name": "#%%\n"
    }
   },
   "outputs": [],
   "source": [
    "trading_model = populate_signals(model_template)"
   ]
  },
  {
   "cell_type": "code",
   "execution_count": 14,
   "metadata": {
    "colab": {
     "base_uri": "https://localhost:8080/",
     "height": 1000
    },
    "colab_type": "code",
    "collapsed": false,
    "id": "327CZKmtTelL",
    "jupyter": {
     "outputs_hidden": false
    },
    "outputId": "b353b49d-0281-4aa7-a530-6747c166eae5",
    "pycharm": {
     "name": "#%%\n"
    }
   },
   "outputs": [],
   "source": [
    "# List the entry/exit points for each model\n",
    "def list_model_entry_exit(trade_model):\n",
    "    print('List the signal change and entry/exit points for', stock_symbol)\n",
    "    print(trade_model[(trade_model['trade_signal'] != 0) | (trade_model['entry_exit'] != 0)])"
   ]
  },
  {
   "cell_type": "code",
   "execution_count": 15,
   "metadata": {
    "collapsed": false,
    "jupyter": {
     "outputs_hidden": false
    },
    "pycharm": {
     "name": "#%%\n"
    }
   },
   "outputs": [
    {
     "name": "stdout",
     "output_type": "stream",
     "text": [
      "List the signal change and entry/exit points for AAPL\n",
      "            open_price  close_price  trading_volume    volume_ma  momentum_streak  trade_signal  entry_exit\n",
      "date                                                                                                       \n",
      "2019-03-12      45.000       45.227     129870336.0  105278131.2                3             1           0\n",
      "2019-03-13      45.563       45.428     124130096.0  106556985.2                1             0           1\n",
      "2019-03-26      47.916       46.697     199202152.0  147857644.0               -3            -1           0\n",
      "2019-03-27      47.188       47.117     119393708.0  147384005.2                1             0          -1\n",
      "2019-04-17      49.885       50.782     115627120.0   96714971.2                3             1           0\n",
      "2019-04-18      50.780       50.965      96783064.0   98747567.6                1             0           1\n",
      "2019-05-13      46.928       46.430     229722492.0  158138084.0               -3            -1           0\n",
      "2019-05-14      46.602       47.165     146118708.0  154135985.6                1             0          -1\n",
      "2019-09-11      54.517       55.898     177158584.0   97584114.4                3             1           0\n",
      "2019-09-12      56.200       55.771     128906676.0  104091729.2               -1             0           1\n",
      "2019-11-21      65.922       65.502     121395112.0   92364474.4               -3            -1           0\n",
      "2019-11-22      65.647       65.445      65325052.0   91888781.6               -1             0          -1\n",
      "2019-12-06      66.870       67.677     106189972.0   82730475.6                3             1           0\n",
      "2019-12-09      67.500       66.730     128730580.0   89071028.4               -1             0           1\n",
      "2020-02-03      76.075       77.165     173985604.0  150287300.4               -3            -1           0\n",
      "2020-02-04      78.828       79.713     136616536.0  153054938.4                1             0          -1\n",
      "2020-06-09      83.035       85.998     147712364.0  113847138.0                3             1           0\n",
      "2020-06-10      86.975       88.210     165423144.0  119094942.8                1             0           1\n",
      "2020-09-18     110.400      106.840     284477372.0  203046019.2               -3            -1           0\n",
      "2020-09-21     104.540      110.080     193321297.0  189117432.6                1             0          -1\n"
     ]
    }
   ],
   "source": [
    "if verbose_models: list_model_entry_exit(trading_model)"
   ]
  },
  {
   "cell_type": "code",
   "execution_count": 16,
   "metadata": {
    "colab": {
     "base_uri": "https://localhost:8080/",
     "height": 1000
    },
    "colab_type": "code",
    "collapsed": false,
    "id": "XEyJXVxcTelS",
    "jupyter": {
     "outputs_hidden": false
    },
    "outputId": "c74ac3e9-fbd3-4e73-8294-f12d0cce88dc",
    "pycharm": {
     "name": "#%%\n"
    }
   },
   "outputs": [],
   "source": [
    "def draw_model_graphs(trade_model):\n",
    "    graph_data = trade_model.copy()\n",
    "    title_string = 'Naive Momentum Trading Model for ' + stock_symbol\n",
    "    fig = plt.figure(figsize=(16,9))\n",
    "    ylabel = stock_symbol + ' price in $'\n",
    "    ax1 = fig.add_subplot(111, ylabel=ylabel, title=title_string)\n",
    "    graph_data['close_price'].plot(ax=ax1, color='g')\n",
    "    ax1.plot(graph_data.loc[graph_data.entry_exit == 1].index, graph_data.close_price[graph_data.entry_exit == 1], '^', markersize=7, color='k',label='buy')\n",
    "    ax1.plot(graph_data.loc[graph_data.entry_exit == -1].index, graph_data.close_price[graph_data.entry_exit == -1], 'v', markersize=7, color='k',label='sell')\n",
    "    plt.legend(loc='upper left')\n",
    "    plt.show()"
   ]
  },
  {
   "cell_type": "code",
   "execution_count": 17,
   "metadata": {
    "collapsed": false,
    "jupyter": {
     "outputs_hidden": false
    },
    "pycharm": {
     "name": "#%%\n"
    }
   },
   "outputs": [
    {
     "data": {
      "image/png": "[encoded data removed]",
      "text/plain": [
       "<Figure size 1152x648 with 1 Axes>"
      ]
     },
     "metadata": {},
     "output_type": "display_data"
    }
   ],
   "source": [
    "if verbose_graphs: draw_model_graphs(trading_model)"
   ]
  },
  {
   "cell_type": "markdown",
   "metadata": {
    "colab_type": "text",
    "id": "wzTQaZkeTeld"
   },
   "source": [
    "## Task 4 - Back-test Models"
   ]
  },
  {
   "cell_type": "code",
   "execution_count": 18,
   "metadata": {
    "colab": {},
    "colab_type": "code",
    "collapsed": false,
    "id": "Q1xZWksnTelr",
    "jupyter": {
     "outputs_hidden": false
    },
    "pycharm": {
     "name": "#%%\n"
    }
   },
   "outputs": [],
   "source": [
    "def generate_trading_portfolios(trade_model, initial_fund):\n",
    "    # Construct a portfolio to track the transactions and returns\n",
    "    portfolio = pd.DataFrame(index=trade_model.index, columns=['trade_action', 'qty_onhand', 'cost_basis', 'sold_transaction', 'gain_loss', 'cash_onhand', 'position_value', 'total_position', 'accumu_return'])\n",
    "    portfolio.iloc[0]['trade_action'] = 0\n",
    "    portfolio.iloc[0]['qty_onhand'] = 0\n",
    "    portfolio.iloc[0]['cost_basis'] = 0.00\n",
    "    portfolio.iloc[0]['sold_transaction'] = 0.00\n",
    "    portfolio.iloc[0]['gain_loss'] = 0.00\n",
    "    portfolio.iloc[0]['cash_onhand'] = initial_capital\n",
    "    portfolio.iloc[0]['position_value'] = 0.00\n",
    "    portfolio.iloc[0]['total_position'] = initial_capital\n",
    "    portfolio.iloc[0]['accumu_return'] = portfolio.iloc[0]['total_position'] - initial_fund\n",
    "    recent_cost = 0\n",
    "\n",
    "    # The conditional parameters below determine how the trading strategy will be carried out\n",
    "    for i in range(1, len(portfolio)):\n",
    "        if (trade_model.iloc[i]['entry_exit'] == 1) and (portfolio.iloc[i-1]['qty_onhand'] == 0):\n",
    "            portfolio.iloc[i]['trade_action'] = 1\n",
    "            portfolio.iloc[i]['qty_onhand'] = portfolio.iloc[i-1]['qty_onhand'] + portfolio.iloc[i]['trade_action']\n",
    "            portfolio.iloc[i]['cost_basis'] = trade_model.iloc[i]['open_price'] * portfolio.iloc[i]['trade_action']\n",
    "            portfolio.iloc[i]['sold_transaction'] = 0.00\n",
    "            portfolio.iloc[i]['gain_loss'] = 0.00\n",
    "            portfolio.iloc[i]['cash_onhand'] = portfolio.iloc[i-1]['cash_onhand'] - portfolio.iloc[i]['cost_basis']\n",
    "            recent_cost = trade_model.iloc[i]['open_price'] * portfolio.iloc[i]['trade_action']\n",
    "            if verbose_portfolios: print('BOUGHT QTY:', portfolio.iloc[i]['trade_action'], 'on', portfolio.index[i], 'at the price of', trade_model.iloc[i]['open_price'])\n",
    "        elif (trade_model.iloc[i]['entry_exit'] == -1) and (portfolio.iloc[i-1]['qty_onhand'] > 0):\n",
    "            portfolio.iloc[i]['trade_action'] = -1\n",
    "            portfolio.iloc[i]['qty_onhand'] = portfolio.iloc[i-1]['qty_onhand'] + portfolio.iloc[i]['trade_action']\n",
    "            portfolio.iloc[i]['cost_basis'] = 0.00\n",
    "            portfolio.iloc[i]['sold_transaction'] = trade_model.iloc[i]['open_price'] * portfolio.iloc[i]['trade_action'] * -1\n",
    "            portfolio.iloc[i]['gain_loss'] = (recent_cost + (trade_model.iloc[i]['open_price'] * portfolio.iloc[i]['trade_action'])) * -1\n",
    "            portfolio.iloc[i]['cash_onhand'] = portfolio.iloc[i-1]['cash_onhand'] + portfolio.iloc[i]['sold_transaction']\n",
    "            recent_cost = 0.00\n",
    "            if verbose_portfolios: print('SOLD QTY:', portfolio.iloc[i]['trade_action'], 'on', portfolio.index[i], 'at the price of', trade_model.iloc[i]['open_price'])\n",
    "        else:\n",
    "            portfolio.iloc[i]['trade_action'] = 0\n",
    "            portfolio.iloc[i]['qty_onhand'] = portfolio.iloc[i-1]['qty_onhand']\n",
    "            portfolio.iloc[i]['cost_basis'] = portfolio.iloc[i-1]['cost_basis']\n",
    "            portfolio.iloc[i]['sold_transaction'] = 0.00\n",
    "            portfolio.iloc[i]['gain_loss'] = 0.00\n",
    "            portfolio.iloc[i]['cash_onhand'] = portfolio.iloc[i-1]['cash_onhand']\n",
    "        portfolio.iloc[i]['position_value'] = trade_model.iloc[i]['close_price'] * portfolio.iloc[i]['qty_onhand']\n",
    "        portfolio.iloc[i]['total_position'] = portfolio.iloc[i]['cash_onhand'] + portfolio.iloc[i]['position_value']\n",
    "        portfolio.iloc[i]['accumu_return'] = portfolio.iloc[i]['total_position'] - initial_fund\n",
    "\n",
    "    if verbose_portfolios:\n",
    "        print()\n",
    "        print(portfolio)\n",
    "        print()\n",
    "    return portfolio"
   ]
  },
  {
   "cell_type": "code",
   "execution_count": 19,
   "metadata": {
    "colab": {
     "base_uri": "https://localhost:8080/",
     "height": 1000
    },
    "colab_type": "code",
    "collapsed": false,
    "id": "mOsqVrfRTelw",
    "jupyter": {
     "outputs_hidden": false
    },
    "outputId": "17950f55-4566-48b2-dde6-0974c6e45966",
    "pycharm": {
     "name": "#%%\n"
    }
   },
   "outputs": [],
   "source": [
    "def calculate_portfolio_performance(trade_model):\n",
    "    print('Processing portfolio for stock', stock_symbol)\n",
    "    trade_portfolio = generate_trading_portfolios(trade_model, initial_capital)\n",
    "    trade_transactions = trade_portfolio[trade_portfolio['trade_action'] != 0]\n",
    "    print(trade_transactions)\n",
    "    print('Accumulated profit/loss for one share of stock with initial capital of $%.0f at the end of modeling period: $%.2f' % (initial_capital, trade_portfolio['accumu_return'][-1]))\n",
    "    if initial_capital != 0:\n",
    "        return_percentage = trade_portfolio['accumu_return'][-1] / initial_capital * 100\n",
    "        print('Accumulated return percentage based on the initial capital investment: %.2f%%' % return_percentage)\n",
    "    if trade_transactions.iloc[-1]['trade_action'] == 1:\n",
    "        print('The current status of the model is:', 'Holding a position since', trade_transactions.index.tolist()[-1], '\\n')\n",
    "    else:\n",
    "        print('The current status of the model is:', 'Waiting to enter since', trade_transactions.index.tolist()[-1], '\\n')\n",
    "    return trade_portfolio"
   ]
  },
  {
   "cell_type": "code",
   "execution_count": 20,
   "metadata": {
    "collapsed": false,
    "jupyter": {
     "outputs_hidden": false
    },
    "pycharm": {
     "name": "#%%\n"
    }
   },
   "outputs": [
    {
     "name": "stdout",
     "output_type": "stream",
     "text": [
      "Processing portfolio for stock AAPL\n",
      "           trade_action qty_onhand cost_basis sold_transaction gain_loss cash_onhand position_value total_position accumu_return\n",
      "date                                                                                                                            \n",
      "2019-03-13            1          1     45.563                0         0     -45.563         45.428         -0.135        -0.135\n",
      "2019-03-27           -1          0          0           47.188     1.625       1.625              0          1.625         1.625\n",
      "2019-04-18            1          1      50.78                0         0     -49.155         50.965           1.81          1.81\n",
      "2019-05-14           -1          0          0           46.602    -4.178      -2.553              0         -2.553        -2.553\n",
      "2019-09-12            1          1       56.2                0         0     -58.753         55.771         -2.982        -2.982\n",
      "2019-11-22           -1          0          0           65.647     9.447       6.894              0          6.894         6.894\n",
      "2019-12-09            1          1       67.5                0         0     -60.606          66.73          6.124         6.124\n",
      "2020-02-04           -1          0          0           78.828    11.328      18.222              0         18.222        18.222\n",
      "2020-06-10            1          1     86.975                0         0     -68.753          88.21         19.457        19.457\n",
      "2020-09-21           -1          0          0           104.54    17.565      35.787              0         35.787        35.787\n",
      "Accumulated profit/loss for one share of stock with initial capital of $0 at the end of modeling period: $35.79\n",
      "The current status of the model is: Waiting to enter since 2020-09-21 00:00:00 \n",
      "\n"
     ]
    }
   ],
   "source": [
    "trading_portfolios = calculate_portfolio_performance(trading_model)"
   ]
  },
  {
   "cell_type": "markdown",
   "metadata": {},
   "source": [
    "## Task 5 - Evaluate Strategy Performance"
   ]
  },
  {
   "cell_type": "code",
   "execution_count": 21,
   "metadata": {
    "colab": {
     "base_uri": "https://localhost:8080/",
     "height": 34
    },
    "colab_type": "code",
    "id": "aTP_6WyfTemB",
    "outputId": "6cda4cc2-d890-47d5-9a63-43cffd21d72f"
   },
   "outputs": [
    {
     "name": "stdout",
     "output_type": "stream",
     "text": [
      "The entry point for the buy-and-hold model: $38.72 on 2019-01-02 00:00:00\n",
      "The exit point for the buy-and-hold model: $116.57 on 2020-11-27 00:00:00\n",
      "The performance of the long-only model from day one is: $77.85\n"
     ]
    }
   ],
   "source": [
    "# Calculate the stock's performance for a buy-and-hold model\n",
    "print('The entry point for the buy-and-hold model: $%.2f on %s' % (model_template.iloc[0]['open_price'], model_template.index[0]))\n",
    "print('The exit point for the buy-and-hold model: $%.2f on %s' % (model_template.iloc[-1]['open_price'], model_template.index[-1]))\n",
    "print('The performance of the long-only model from day one is: $%.2f' %(model_template.iloc[-1]['open_price'] - model_template.iloc[0]['open_price']))"
   ]
  },
  {
   "cell_type": "code",
   "execution_count": 22,
   "metadata": {
    "colab": {
     "base_uri": "https://localhost:8080/",
     "height": 34
    },
    "colab_type": "code",
    "collapsed": false,
    "id": "be1J2gmiTemG",
    "jupyter": {
     "outputs_hidden": false
    },
    "outputId": "28010a58-a8c1-43ae-d6ff-200fc13eb876",
    "pycharm": {
     "name": "#%%\n"
    }
   },
   "outputs": [
    {
     "name": "stdout",
     "output_type": "stream",
     "text": [
      "Total time for the script: 0:00:06.399573\n"
     ]
    }
   ],
   "source": [
    "print ('Total time for the script:',(datetime.now() - startTimeScript))"
   ]
  }
 ],
 "metadata": {
  "colab": {
   "collapsed_sections": [],
   "name": "py_algotrading_ema_crossover_grid_search.ipynb",
   "provenance": []
  },
  "kernelspec": {
   "display_name": "Python 3",
   "language": "python",
   "name": "python3"
  },
  "language_info": {
   "codemirror_mode": {
    "name": "ipython",
    "version": 3
   },
   "file_extension": ".py",
   "mimetype": "text/x-python",
   "name": "python",
   "nbconvert_exporter": "python",
   "pygments_lexer": "ipython3",
   "version": "3.8.3"
  }
 },
 "nbformat": 4,
 "nbformat_minor": 4
}
