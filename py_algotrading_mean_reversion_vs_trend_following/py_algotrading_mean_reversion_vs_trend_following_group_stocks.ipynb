{
 "cells": [
  {
   "cell_type": "markdown",
   "metadata": {
    "colab_type": "text",
    "id": "nn0Ld1RjTekC"
   },
   "source": [
    "# Algorithmic Trading Model for Mean-Reversion vs. Trend-Following Strategy for a Group of Stocks Using Python\n",
    "### David Lowe\n",
    "### July 16, 2021\n",
    "\n",
    "NOTE: This script is for learning purposes only and does not constitute a recommendation for buying or selling any stock mentioned in this script.\n",
    "\n",
    "SUMMARY: This project aims to construct and test an algorithmic trading model and document the end-to-end steps using a template.\n",
    "\n",
    "INTRODUCTION: This algorithmic trading model compares a simple mean-reversion and trend-following strategy for a group of stocks. The model will use a trend window size of ten days for long trades only.\n",
    "\n",
    "ANALYSIS: In this modeling iteration, we analyzed ten stocks between January 1, 2016, and July 9, 2021. The models' performance appeared at the end of the script.\n",
    "\n",
    "CONCLUSION: For all the stocks during the modeling time frame, the long-only trading strategy with either mean-reversion or trend-following approach did not produce a better return than the buy-and-hold approach, except for LUV and PFE. We should consider modeling these stocks further by experimenting with more variations of the strategy.\n",
    "\n",
    "Dataset ML Model: Time series analysis with numerical attributes\n",
    "\n",
    "Dataset Used: Quandl\n",
    "\n",
    "An algorithmic trading modeling project generally can be broken down into about five major tasks:\n",
    "\n",
    "1. Prepare Environment\n",
    "2. Acquire and Pre-Process Data\n",
    "3. Implement and Train Models\n",
    "4. Back-test Models\n",
    "5. Evaluate Strategy Performance"
   ]
  },
  {
   "cell_type": "markdown",
   "metadata": {
    "colab_type": "text",
    "id": "-DieEv9pTekE"
   },
   "source": [
    "## Task 1 - Prepare Environment"
   ]
  },
  {
   "cell_type": "markdown",
   "metadata": {
    "pycharm": {
     "name": "#%% md\n"
    }
   },
   "source": [
    "### 1.a) Load libraries and modules"
   ]
  },
  {
   "cell_type": "code",
   "execution_count": 1,
   "metadata": {
    "colab": {},
    "colab_type": "code",
    "collapsed": false,
    "id": "8IwyGxxuTekE",
    "jupyter": {
     "outputs_hidden": false
    },
    "pycharm": {
     "name": "#%%\n"
    }
   },
   "outputs": [],
   "source": [
    "import pandas as pd\n",
    "import matplotlib.pyplot as plt\n",
    "import os\n",
    "import sys\n",
    "from datetime import date, datetime, timedelta\n",
    "import requests\n",
    "import json\n",
    "from dotenv import load_dotenv\n",
    "\n",
    "# Begin the timer for the script processing\n",
    "startTimeScript = datetime.now()"
   ]
  },
  {
   "cell_type": "markdown",
   "metadata": {
    "pycharm": {
     "name": "#%% md\n"
    }
   },
   "source": [
    "### 1.b) Set up the controlling parameters and functions¶"
   ]
  },
  {
   "cell_type": "code",
   "execution_count": 2,
   "metadata": {
    "colab": {
     "base_uri": "https://localhost:8080/",
     "height": 51
    },
    "colab_type": "code",
    "collapsed": false,
    "id": "Zagik25QTekS",
    "jupyter": {
     "outputs_hidden": false
    },
    "outputId": "d14332ba-63ec-4224-ca13-c4ecdab3541a",
    "pycharm": {
     "name": "#%%\n"
    }
   },
   "outputs": [
    {
     "name": "stdout",
     "output_type": "stream",
     "text": [
      "Starting date for the model: 2016-01-01\n",
      "Ending date for the model: 2021-07-09\n",
      "First date of data we need for modeling: 2015-12-12\n",
      "Last date of data we need for modeling: 2021-07-09\n"
     ]
    }
   ],
   "source": [
    "# Specify the key modeling parameters below\n",
    "stock_list = ['AAPL','AMZN','COST','FB','GOOGL','NFLX','LUV','PFE','VZ','WMT']\n",
    "INITIAL_CAPITAL = 0\n",
    "\n",
    "# Specify the moving average parameters for the trading strategy\n",
    "TREND_WINDOW = 10\n",
    "VOLUME_WINDOW = 10\n",
    "HOLDING_PERIOD_MIN = 999\n",
    "HOLDING_PERIOD_MAX = 999\n",
    "GAIN_MAX = 0.99\n",
    "LOSS_MAX = 0.99\n",
    "\n",
    "LONG_ONLY = True\n",
    "SHORT_ONLY = False\n",
    "if LONG_ONLY and SHORT_ONLY: sys.exit(\"Cannot have both LONG_ONLY and SHORT_LONG flags be set to True. Script Processing Aborted!!!\")\n",
    "\n",
    "# The number of extra days of data we need for calculating moving averages (usually equals to the largest value of window size)\n",
    "EXTRA_DAYS = TREND_WINDOW\n",
    "\n",
    "MODEL_START_DATE = date(2016, 1, 1)\n",
    "print(\"Starting date for the model:\", MODEL_START_DATE)\n",
    "\n",
    "# MODEL_END_DATE = datetime.now().date()\n",
    "MODEL_END_DATE = date(2021, 7, 9)\n",
    "print(\"Ending date for the model:\", MODEL_END_DATE)\n",
    "\n",
    "# data_start_date = MODEL_START_DATE\n",
    "data_start_date = MODEL_START_DATE - timedelta(days=int(EXTRA_DAYS * 2)) # Need more pricing data to calculate moving averages\n",
    "print(\"First date of data we need for modeling:\", data_start_date)\n",
    "\n",
    "data_end_date = MODEL_END_DATE\n",
    "print(\"Last date of data we need for modeling:\", data_end_date)\n",
    "\n",
    "# Set up the verbose flag to print detailed messages for debugging (setting True will activate!)\n",
    "verbose_data_retrieval = False\n",
    "verbose_signals = False\n",
    "verbose_trade_actions = False\n",
    "verbose_portfolios = False\n",
    "verbose_transactions = False\n",
    "verbose_entry_exit = False"
   ]
  },
  {
   "cell_type": "markdown",
   "metadata": {
    "colab_type": "text",
    "id": "Xa51FMY_TekZ"
   },
   "source": [
    "## Task 2 - Acquire and Pre-Process Data"
   ]
  },
  {
   "cell_type": "code",
   "execution_count": 3,
   "metadata": {
    "colab": {},
    "colab_type": "code",
    "collapsed": false,
    "id": "Og9L0byuTekd",
    "jupyter": {
     "outputs_hidden": false
    },
    "pycharm": {
     "name": "#%%\n"
    }
   },
   "outputs": [],
   "source": [
    "def retrieve_stock_data(ticker=''):\n",
    "    # Set up the data service provider and data acquisition parameters\n",
    "    data_service = 'Quandl'\n",
    "\n",
    "    # Check and see whether the API key is available\n",
    "    api_key = os.environ.get('QUANDL_API')\n",
    "    if api_key is None: sys.exit(data_service + ' API key not available. Script processing cannot continue!!!')\n",
    "\n",
    "    if ticker=='': sys.exit('Stock symbol not available. Script processing cannot continue!!!')\n",
    "\n",
    "    start_date_string = data_start_date.strftime('%Y-%m-%d')\n",
    "    end_date_string = data_end_date.strftime('%Y-%m-%d')\n",
    "    api_url = \"https://www.quandl.com/api/v3/datatables/SHARADAR/SEP.json?date.gte=%s&date.lte=%s&ticker=%s&api_key=%s&qopts.data_version=2\" % (start_date_string, end_date_string, ticker, api_key)\n",
    "    response = requests.get(api_url)\n",
    "    resp_dict = json.loads(response.text)\n",
    "    stock_rawdata = pd.DataFrame(resp_dict['datatable']['data'])\n",
    "    print(len(stock_rawdata), 'data points retrieved from the API call for stock:', ticker)\n",
    "\n",
    "    stock_rawdata.columns = ['ticker', 'date', 'open', 'high', 'low', 'close', 'volume', 'closeadj', 'closeunadj', 'lastupdated']\n",
    "    # stock_rawdata.set_index('date', inplace=True)\n",
    "    stock_rawdata.index = pd.to_datetime(stock_rawdata.date)\n",
    "    stock_pricing = stock_rawdata.sort_index(ascending=True)\n",
    "\n",
    "    # Set up the standard column name for modeling\n",
    "    # Column names may be data-provider specific!\n",
    "    model_template = stock_pricing.loc[:, ['open','closeadj','volume']]\n",
    "    model_template.rename(columns={'open': 'open_price', 'closeadj': 'close_price', 'volume': 'trading_volume'}, inplace=True)\n",
    "    if verbose_data_retrieval:\n",
    "        print(model_template.head())\n",
    "        print()\n",
    "        print(model_template.tail())\n",
    "\n",
    "    return model_template"
   ]
  },
  {
   "cell_type": "markdown",
   "metadata": {
    "colab_type": "text",
    "id": "UKNJYDlGTek0"
   },
   "source": [
    "## Task 3 - Implement and Train Models"
   ]
  },
  {
   "cell_type": "code",
   "execution_count": 4,
   "metadata": {
    "colab": {},
    "colab_type": "code",
    "collapsed": false,
    "id": "yfQTRXPnTelA",
    "jupyter": {
     "outputs_hidden": false
    },
    "pycharm": {
     "name": "#%%\n"
    }
   },
   "outputs": [],
   "source": [
    "# Define the function that will generate the indicators and trading signals\n",
    "# General logic for processing the trading signals for each time period\n",
    "# 1 - Check to see whether we need to execute a trading action from the previous day's signal. Once the trading action is executed, move on to the next day.\n",
    "# 2 - If no trade actions to execute on open, check to see whether we have any breakout that generates a trading signal. If we have a new trading signal and currently has no position, mark the entry action for the next day.\n",
    "# 3 - If no new signal for today, check to see whether we need to exit any existing position. If we have an exit signal and currently hold a position, mark the exit action for the next day.\n",
    "# 4 - If nothing is going on, mark up the trading model appropriately and move to the next day.\n",
    "\n",
    "def populate_signals_mr_tf(model_template, mean_reversion=True, trend_window=TREND_WINDOW, volume_window=VOLUME_WINDOW):\n",
    "\n",
    "    trade_model = model_template.copy()\n",
    "    trade_model['buy_on_open'] = False\n",
    "    trade_model['sell_on_open'] = False\n",
    "    trade_model['short_on_open'] = False\n",
    "    trade_model['cover_on_open'] = False\n",
    "    trade_model['holding_period'] = None\n",
    "    trade_model['cost_basis'] = None\n",
    "    trade_model['pandl_pct'] = None\n",
    "    trade_model['position_long'] = None\n",
    "    trade_model['position_short'] = None\n",
    "    trade_model['window_avg'] = trade_model['close_price'].shift(1).rolling(window=trend_window).mean()\n",
    "    trade_model['window_high'] = trade_model['close_price'].shift(1).rolling(window=trend_window).max()\n",
    "    trade_model['window_low'] = trade_model['close_price'].shift(1).rolling(window=trend_window).min()\n",
    "    trade_model['volume_ma'] = trade_model['trading_volume'].rolling(volume_window).mean()\n",
    "\n",
    "    # Truncate the model to the required starting and ending dates\n",
    "    trade_model = trade_model[MODEL_START_DATE:MODEL_END_DATE]\n",
    "    last_index = len(trade_model) - 1\n",
    "\n",
    "    for k in range(len(trade_model)):\n",
    "        # Calculate the magnitude of breakout. Positive value means breaking out towards a direction\n",
    "        price_today = trade_model.at[trade_model.index[k],'close_price']\n",
    "        price_high =  trade_model.at[trade_model.index[k],'window_high']\n",
    "        price_low = trade_model.at[trade_model.index[k],'window_low']\n",
    "        price_avg = trade_model.at[trade_model.index[k],'window_avg']\n",
    "        if mean_reversion:\n",
    "            breakout_long_side = price_today < price_low\n",
    "            breakout_short_side = price_today > price_high\n",
    "        else:\n",
    "            breakout_long_side = price_today > price_high\n",
    "            breakout_short_side = price_today < price_low\n",
    "        volume_today = trade_model.at[trade_model.index[k],'trading_volume']\n",
    "        volume_avg = trade_model.at[trade_model.index[k],'volume_ma']\n",
    "        close_above_avg = price_today > price_avg\n",
    "        close_below_avg = price_today < price_avg\n",
    "        if k == 0:\n",
    "            currently_long = False\n",
    "            currently_short = False\n",
    "            holding_period = 0\n",
    "            cost_basis = 0\n",
    "        else:\n",
    "            currently_long = trade_model.at[trade_model.index[k-1],'position_long']\n",
    "            currently_short = trade_model.at[trade_model.index[k-1],'position_short']\n",
    "            holding_period = trade_model.at[trade_model.index[k-1],'holding_period']\n",
    "            cost_basis = trade_model.at[trade_model.index[k-1],'cost_basis']\n",
    "\n",
    "        trade_executed_today = False\n",
    "\n",
    "        # Check to see whether we need to execute any trade action on open\n",
    "        if trade_model.at[trade_model.index[k],'buy_on_open']:\n",
    "            trade_executed_today = True\n",
    "            currently_long = True\n",
    "            currently_short = False\n",
    "            holding_period = 1\n",
    "            cost_basis = -trade_model.at[trade_model.index[k],'open_price']\n",
    "        elif trade_model.at[trade_model.index[k],'short_on_open']:\n",
    "            trade_executed_today = True\n",
    "            currently_long = False\n",
    "            currently_short = True\n",
    "            holding_period = 1\n",
    "            cost_basis = trade_model.at[trade_model.index[k],'open_price']\n",
    "        elif trade_model.at[trade_model.index[k],'sell_on_open']:\n",
    "            trade_executed_today = True\n",
    "            currently_long = False\n",
    "            currently_short = False\n",
    "            holding_period = 0\n",
    "            cost_basis = 0.0\n",
    "        elif trade_model.at[trade_model.index[k],'cover_on_open']:\n",
    "            trade_executed_today = True\n",
    "            currently_long = False\n",
    "            currently_short = False\n",
    "            holding_period = 0\n",
    "            cost_basis = 0.0\n",
    "        else:\n",
    "            # If no trade on open, check to see whether we have a breakout with an entry the next day\n",
    "            if breakout_long_side and (not currently_long) and (not currently_short) and (volume_today > volume_avg) and (k < last_index-1) and (not SHORT_ONLY):\n",
    "                trade_model.at[trade_model.index[k+1],'buy_on_open'] = True\n",
    "            elif breakout_short_side and (not currently_long) and (not currently_short) and (volume_today > volume_avg) and (k < last_index-1) and (not LONG_ONLY):\n",
    "                trade_model.at[trade_model.index[k+1],'short_on_open'] = True\n",
    "            else:\n",
    "                # If no breakout, check to see whether we need to exit an existing position the next day\n",
    "                if currently_short and (k < last_index-1):\n",
    "                    if (mean_reversion and close_below_avg) or ((not mean_reversion) and close_above_avg) or (holding_period+1 >= HOLDING_PERIOD_MAX):\n",
    "                        trade_model.at[trade_model.index[k+1],'cover_on_open'] = True\n",
    "                elif currently_long and (k < last_index-1):\n",
    "                    if (mean_reversion and close_above_avg) or ((not mean_reversion) and close_below_avg) or (holding_period+1 >= HOLDING_PERIOD_MAX):\n",
    "                        trade_model.at[trade_model.index[k+1],'sell_on_open'] = True\n",
    "\n",
    "        # If no action on a given day, carry over the position status\n",
    "        if (k > 0) and (not trade_executed_today):\n",
    "            if currently_long or currently_short:\n",
    "                holding_period = holding_period + 1\n",
    "\n",
    "        trade_model.at[trade_model.index[k],'position_long'] = currently_long\n",
    "        trade_model.at[trade_model.index[k],'position_short'] = currently_short\n",
    "        trade_model.at[trade_model.index[k],'holding_period'] = holding_period\n",
    "        trade_model.at[trade_model.index[k],'cost_basis'] = cost_basis\n",
    "\n",
    "        # Check to see whether the profit or loss target has been met for exiting the position\n",
    "        if currently_long :\n",
    "            pandl_pct = (cost_basis + price_today) / abs(cost_basis)\n",
    "            trade_model.at[trade_model.index[k],'pandl_pct'] = pandl_pct\n",
    "            if (pandl_pct >= GAIN_MAX) or (pandl_pct <= -LOSS_MAX) :\n",
    "                trade_model.at[trade_model.index[k+1],'sell_on_open'] = True\n",
    "        elif currently_short :\n",
    "            pandl_pct = (cost_basis - price_today) / abs(cost_basis)\n",
    "            trade_model.at[trade_model.index[k],'pandl_pct'] = pandl_pct\n",
    "            if (pandl_pct >= GAIN_MAX) or (pandl_pct <= -LOSS_MAX) :\n",
    "                trade_model.at[trade_model.index[k+1],'cover_on_open'] = True\n",
    "        else:\n",
    "            trade_model.at[trade_model.index[k],'pandl_pct'] = 0.0\n",
    "\n",
    "        # # Exiting the position on the last day of modeling period\n",
    "        # if k == last_index-1:\n",
    "        #     if trade_model.at[trade_model.index[k],'position_long']:\n",
    "        #         trade_model.at[trade_model.index[k+1],'sell_on_open'] = True\n",
    "        #         trade_model.at[trade_model.index[k+1],'position_long'] = False\n",
    "        #     elif trade_model.at[trade_model.index[k],'position_short']:\n",
    "        #         trade_model.at[trade_model.index[k+1],'cover_on_open'] = True\n",
    "        #         trade_model.at[trade_model.index[k+1],'position_short'] = False\n",
    "\n",
    "    if verbose_signals: print(trade_model, '\\n')\n",
    "    return trade_model"
   ]
  },
  {
   "cell_type": "code",
   "execution_count": 5,
   "metadata": {
    "colab": {
     "base_uri": "https://localhost:8080/",
     "height": 1000
    },
    "colab_type": "code",
    "collapsed": false,
    "id": "327CZKmtTelL",
    "jupyter": {
     "outputs_hidden": false
    },
    "outputId": "b353b49d-0281-4aa7-a530-6747c166eae5",
    "pycharm": {
     "name": "#%%\n"
    }
   },
   "outputs": [],
   "source": [
    "# List the entry/exit points for each model\n",
    "def list_model_entry_exit(trade_model):\n",
    "    print(trade_model[trade_model['buy_on_open'] | trade_model['sell_on_open'] | trade_model['short_on_open'] | trade_model['cover_on_open']])"
   ]
  },
  {
   "cell_type": "code",
   "execution_count": 6,
   "metadata": {
    "collapsed": false,
    "jupyter": {
     "outputs_hidden": false
    },
    "pycharm": {
     "name": "#%%\n"
    }
   },
   "outputs": [],
   "source": [
    "def draw_model_graph(trade_model, ticker='', model_name=''):\n",
    "    graph_data = trade_model.copy()\n",
    "    title_string = model_name + ' Trading Model for ' + ticker\n",
    "    fig = plt.figure(figsize=(16,9))\n",
    "    ylabel = ticker + ' price in $'\n",
    "    ax1 = fig.add_subplot(111, ylabel=ylabel, title=title_string)\n",
    "    graph_data['close_price'].plot(ax=ax1, color='g')\n",
    "    graph_data['window_high'].plot(ax=ax1, color='b')\n",
    "    graph_data['window_low'].plot(ax=ax1, color='r')\n",
    "    ax1.plot(graph_data.loc[graph_data['buy_on_open']].index, graph_data.close_price[graph_data['buy_on_open']], '^', markersize=7, color='b',label='Buy on Open')\n",
    "    ax1.plot(graph_data.loc[graph_data['sell_on_open']].index, graph_data.close_price[graph_data['sell_on_open']], 'v', markersize=7, color='b',label='Sell on Open')\n",
    "    ax1.plot(graph_data.loc[graph_data['short_on_open']].index, graph_data.close_price[graph_data['short_on_open']], '^', markersize=7, color='r',label='Short on Open')\n",
    "    ax1.plot(graph_data.loc[graph_data['cover_on_open']].index, graph_data.close_price[graph_data['cover_on_open']], 'v', markersize=7, color='r',label='Cover on Open')\n",
    "    plt.legend(loc='upper left')\n",
    "    plt.show()"
   ]
  },
  {
   "cell_type": "markdown",
   "metadata": {
    "colab_type": "text",
    "id": "wzTQaZkeTeld"
   },
   "source": [
    "## Task 4 - Back-test Models"
   ]
  },
  {
   "cell_type": "code",
   "execution_count": 7,
   "metadata": {
    "collapsed": false,
    "jupyter": {
     "outputs_hidden": false
    },
    "pycharm": {
     "name": "#%%\n"
    }
   },
   "outputs": [],
   "source": [
    "def generate_trading_portfolios(trade_model):\n",
    "    # Construct a portfolio to track the transactions and returns\n",
    "    portfolio = pd.DataFrame(index=trade_model.index, columns=['trade_action', 'price_executed', 'qty_transacted', 'cost_basis', 'gain_loss', 'qty_on_hand', 'cash_on_hand', 'position_value', 'total_position', 'accum_return'])\n",
    "    portfolio['trade_action'] = False\n",
    "    portfolio.at[portfolio.index[0],'price_executed'] = 0.00\n",
    "    portfolio.at[portfolio.index[0],'qty_transacted'] = 0\n",
    "    portfolio.at[portfolio.index[0],'cost_basis'] = 0.00\n",
    "    portfolio.at[portfolio.index[0],'gain_loss'] = 0.00\n",
    "    portfolio.at[portfolio.index[0],'qty_on_hand'] = 0\n",
    "    portfolio.at[portfolio.index[0],'cash_on_hand'] = INITIAL_CAPITAL\n",
    "    portfolio.at[portfolio.index[0],'position_value'] = 0.00\n",
    "    portfolio.at[portfolio.index[0],'total_position'] = INITIAL_CAPITAL\n",
    "    portfolio.at[portfolio.index[0],'accum_return'] = 0.00\n",
    "    quantity = 1\n",
    "\n",
    "    # The conditional parameters below determine how the trading strategy will be carried out\n",
    "    for i in range(1, len(portfolio)):\n",
    "        price_per_share = trade_model.at[trade_model.index[i],'open_price']\n",
    "        if trade_model.at[trade_model.index[i],'buy_on_open']:\n",
    "            # Code block for Buy on Open\n",
    "            portfolio.at[portfolio.index[i],'trade_action'] = True\n",
    "            portfolio.at[portfolio.index[i],'price_executed'] = price_per_share\n",
    "            portfolio.at[portfolio.index[i],'qty_transacted'] = quantity\n",
    "            recent_cost = price_per_share * -quantity\n",
    "            portfolio.at[portfolio.index[i],'cost_basis'] = recent_cost\n",
    "            portfolio.at[portfolio.index[i],'gain_loss'] = 0.00\n",
    "            portfolio.at[portfolio.index[i],'qty_on_hand'] = portfolio.iloc[i-1]['qty_on_hand'] + quantity\n",
    "            portfolio.at[portfolio.index[i],'cash_on_hand'] = portfolio.iloc[i-1]['cash_on_hand'] + recent_cost\n",
    "            if verbose_trade_actions: print('BOUGHT QTY:', quantity, 'on', portfolio.index[i].date(), 'at the price of', price_per_share)\n",
    "        elif trade_model.at[trade_model.index[i],'sell_on_open']:\n",
    "            # Code block for Sell on Open\n",
    "            portfolio.at[portfolio.index[i],'trade_action'] = True\n",
    "            portfolio.at[portfolio.index[i],'price_executed'] = price_per_share\n",
    "            portfolio.at[portfolio.index[i],'qty_transacted'] = -quantity\n",
    "            recent_cost = 0.00\n",
    "            portfolio.at[portfolio.index[i],'cost_basis'] = recent_cost\n",
    "            portfolio.at[portfolio.index[i],'gain_loss'] = (price_per_share * quantity) + portfolio.iloc[i-1]['cost_basis']\n",
    "            portfolio.at[portfolio.index[i],'qty_on_hand'] = portfolio.iloc[i-1]['qty_on_hand'] - quantity\n",
    "            portfolio.at[portfolio.index[i],'cash_on_hand'] = portfolio.iloc[i-1]['cash_on_hand'] + (price_per_share * quantity)\n",
    "            if verbose_trade_actions: print('SOLD QTY:', quantity, 'on', portfolio.index[i].date(), 'at the price of', price_per_share)\n",
    "        elif trade_model.at[trade_model.index[i],'short_on_open']:\n",
    "            # Code block for Short on Open\n",
    "            portfolio.at[portfolio.index[i],'trade_action'] = True\n",
    "            portfolio.at[portfolio.index[i],'price_executed'] = price_per_share\n",
    "            portfolio.at[portfolio.index[i],'qty_transacted'] = -quantity\n",
    "            recent_cost = price_per_share * quantity\n",
    "            portfolio.at[portfolio.index[i],'cost_basis'] = recent_cost\n",
    "            portfolio.at[portfolio.index[i],'gain_loss'] = 0.00\n",
    "            portfolio.at[portfolio.index[i],'qty_on_hand'] = portfolio.iloc[i-1]['qty_on_hand'] - quantity\n",
    "            portfolio.at[portfolio.index[i],'cash_on_hand'] = portfolio.iloc[i-1]['cash_on_hand'] + recent_cost\n",
    "            if verbose_trade_actions: print('SHORTED QTY:', -quantity, 'on', portfolio.index[i].date(), 'at the price of', trade_model.at[portfolio.index[i],'open_price'])\n",
    "        elif trade_model.at[trade_model.index[i],'cover_on_open']:\n",
    "            # Code block for Cover on Open\n",
    "            portfolio.at[portfolio.index[i],'trade_action'] = True\n",
    "            portfolio.at[portfolio.index[i],'price_executed'] = price_per_share\n",
    "            portfolio.at[portfolio.index[i],'qty_transacted'] = quantity\n",
    "            recent_cost = 0.00\n",
    "            portfolio.at[portfolio.index[i],'cost_basis'] = recent_cost\n",
    "            portfolio.at[portfolio.index[i],'gain_loss'] = portfolio.iloc[i-1]['cost_basis'] - (price_per_share * quantity)\n",
    "            portfolio.at[portfolio.index[i],'qty_on_hand'] = portfolio.iloc[i-1]['qty_on_hand'] + quantity\n",
    "            portfolio.at[portfolio.index[i],'cash_on_hand'] = portfolio.iloc[i-1]['cash_on_hand'] - (price_per_share * quantity)\n",
    "            if verbose_trade_actions: print('COVERED QTY:', quantity, 'on', portfolio.index[i].date(), 'at the price of', trade_model.at[portfolio.index[i],'open_price'])\n",
    "        else:\n",
    "            # Code block for no trade actions\n",
    "            portfolio.at[portfolio.index[i],'price_executed'] = 0.00\n",
    "            portfolio.at[portfolio.index[i],'qty_transacted'] = 0\n",
    "            portfolio.at[portfolio.index[i],'cost_basis'] = portfolio.iloc[i-1]['cost_basis']\n",
    "            portfolio.at[portfolio.index[i],'gain_loss'] = 0.00\n",
    "            portfolio.at[portfolio.index[i],'qty_on_hand'] = portfolio.iloc[i-1]['qty_on_hand']\n",
    "            portfolio.at[portfolio.index[i],'cash_on_hand'] = portfolio.iloc[i-1]['cash_on_hand']\n",
    "        portfolio.at[portfolio.index[i],'position_value'] = trade_model.at[trade_model.index[i],'close_price'] * portfolio.at[portfolio.index[i],'qty_on_hand']\n",
    "        portfolio.at[portfolio.index[i],'total_position'] = portfolio.at[portfolio.index[i],'cash_on_hand'] + portfolio.at[portfolio.index[i],'position_value']\n",
    "        portfolio.at[portfolio.index[i],'accum_return'] = portfolio.at[portfolio.index[i],'total_position'] - INITIAL_CAPITAL\n",
    "\n",
    "    if verbose_portfolios: print('\\n', portfolio, '\\n')\n",
    "    return portfolio"
   ]
  },
  {
   "cell_type": "code",
   "execution_count": 8,
   "metadata": {
    "colab": {
     "base_uri": "https://localhost:8080/",
     "height": 1000
    },
    "colab_type": "code",
    "collapsed": false,
    "id": "mOsqVrfRTelw",
    "jupyter": {
     "outputs_hidden": false
    },
    "outputId": "17950f55-4566-48b2-dde6-0974c6e45966",
    "pycharm": {
     "name": "#%%\n"
    }
   },
   "outputs": [],
   "source": [
    "def calculate_positions_performance(trade_model):\n",
    "    trade_positions = generate_trading_portfolios(trade_model)\n",
    "    trade_transactions = trade_positions[trade_positions['trade_action']]\n",
    "    if verbose_transactions: print(trade_transactions)\n",
    "    if trade_transactions.at[trade_transactions.index[-1],'trade_action']:\n",
    "        if trade_transactions.at[trade_transactions.index[-1],'qty_on_hand'] == 0:\n",
    "            print('The current status of the model is:','Waiting to enter a position since',trade_transactions.index.tolist()[-1].date(),'\\n')\n",
    "        elif trade_transactions.at[trade_transactions.index[-1],'qty_on_hand'] > 0:\n",
    "            print('The current status of the model is:','Holding a long position since',trade_transactions.index.tolist()[-1].date(),'\\n')\n",
    "        else:\n",
    "            print('The current status of the model is:','Holding a short position since',trade_transactions.index.tolist()[-1].date(),'\\n')\n",
    "    return trade_positions"
   ]
  },
  {
   "cell_type": "markdown",
   "metadata": {
    "pycharm": {
     "name": "#%% md\n"
    }
   },
   "source": [
    "## Task 5 - Evaluate Strategy Performance"
   ]
  },
  {
   "cell_type": "code",
   "execution_count": 9,
   "metadata": {
    "collapsed": false,
    "jupyter": {
     "outputs_hidden": false
    },
    "pycharm": {
     "name": "#%%\n"
    }
   },
   "outputs": [],
   "source": [
    "def evaluate_strategy_performance(ticker='AAPL'):\n",
    "    stock_model_template = retrieve_stock_data(ticker)\n",
    "    print('Generating the trading signals for the mean-reversion strategy...')\n",
    "    mean_reversion_model = populate_signals_mr_tf(stock_model_template, mean_reversion=True)\n",
    "    if verbose_entry_exit:\n",
    "        print('List the entry and exit points for the strategy...')\n",
    "        list_model_entry_exit(mean_reversion_model)\n",
    "    print('Calculating the positions for the strategy...')\n",
    "    mean_reversion_positions = calculate_positions_performance(mean_reversion_model)\n",
    "\n",
    "    # draw_model_graph(mean_reversion_model, stock_symbol, 'Simple Mean-Reversion')\n",
    "\n",
    "    print('Generating the trading signals for the trend-following strategy...')\n",
    "    trend_following_model = populate_signals_mr_tf(stock_model_template, mean_reversion=False)\n",
    "    if verbose_entry_exit:\n",
    "        print('List the entry and exit points for the strategy...')\n",
    "        list_model_entry_exit(trend_following_model)\n",
    "    print('Calculating the positions for the strategy...')\n",
    "    trend_following_positions = calculate_positions_performance(trend_following_model)\n",
    "\n",
    "    # draw_model_graph(trend_following_model, stock_symbol, 'Simple Trend-Following')\n",
    "\n",
    "    print('Processing the transactions for the mean-reversion model...')\n",
    "    print('Accumulated profit/loss for one share of stock with initial capital of $%.0f at the end of modeling period: $%.2f' % (INITIAL_CAPITAL, mean_reversion_positions.accum_return[-1]))\n",
    "    if INITIAL_CAPITAL != 0:\n",
    "        model1_return_pct = mean_reversion_positions.accum_return[-1] / INITIAL_CAPITAL * 100\n",
    "        print('Accumulated return percentage based on the initial capital investment: %.2f%%' % model1_return_pct)\n",
    "    else:\n",
    "        model1_return_pct = None\n",
    "\n",
    "    print('Processing the transactions for the trend-following model...')\n",
    "    print('Accumulated profit/loss for one share of stock with initial capital of $%.0f at the end of modeling period: $%.2f' % (INITIAL_CAPITAL, trend_following_positions.accum_return[-1]))\n",
    "    if INITIAL_CAPITAL != 0:\n",
    "        model2_return_pct = trend_following_positions.accum_return[-1] / INITIAL_CAPITAL * 100\n",
    "        print('Accumulated return percentage based on the initial capital investment: %.2f%%' % model2_return_pct)\n",
    "    else:\n",
    "        model2_return_pct = None\n",
    "\n",
    "    # Calculate the stock's performance for a buy-and-hold model\n",
    "    buy_hold_model = stock_model_template[MODEL_START_DATE:MODEL_END_DATE]\n",
    "    print('The entry point for the buy-and-hold model: $%.2f on %s' % (buy_hold_model.iloc[0]['open_price'], buy_hold_model.index[0].date()))\n",
    "    print('The exit point for the buy-and-hold model: $%.2f on %s' % (buy_hold_model.iloc[-1]['open_price'], buy_hold_model.index[-1].date()))\n",
    "    buy_hold_return = buy_hold_model.iloc[-1]['open_price'] - buy_hold_model.iloc[0]['open_price']\n",
    "    print('The performance of the buy-and-hold model: $%.2f' % buy_hold_return)\n",
    "\n",
    "    model_performance = {'Stock_Symbol': ticker,\n",
    "                         'Model1_Name': 'Mean-Reversion',\n",
    "                         'Model1_Return_VAL': mean_reversion_positions.accum_return[-1],\n",
    "                         'Model1_Return_PCT': model1_return_pct,\n",
    "                         'Model2_Name': 'Trend-Following',\n",
    "                         'Model2_Return_VAL': trend_following_positions.accum_return[-1],\n",
    "                         'Model2_Return_PCT': model2_return_pct,\n",
    "                         'Buy_Hold_Return': buy_hold_return}\n",
    "    # print(model_performance)\n",
    "    print()\n",
    "    return model_performance"
   ]
  },
  {
   "cell_type": "code",
   "execution_count": 10,
   "metadata": {
    "collapsed": false,
    "jupyter": {
     "outputs_hidden": false
    },
    "pycharm": {
     "name": "#%%\n"
    }
   },
   "outputs": [],
   "source": [
    "# Initialize a dataframe for storing the model's profit and loss\n",
    "performance_summary = pd.DataFrame(columns=['Stock_Symbol','Model1_Name','Model1_Return_VAL','Model1_Return_PCT',\n",
    "                                            'Model2_Name','Model2_Return_VAL','Model2_Return_PCT','Buy_Hold_Return'])"
   ]
  },
  {
   "cell_type": "code",
   "execution_count": 11,
   "metadata": {
    "collapsed": false,
    "jupyter": {
     "outputs_hidden": false
    },
    "pycharm": {
     "name": "#%%\n"
    }
   },
   "outputs": [
    {
     "name": "stdout",
     "output_type": "stream",
     "text": [
      "1402 data points retrieved from the API call for stock: AAPL\n",
      "Generating the trading signals for the mean-reversion strategy...\n",
      "Calculating the positions for the strategy...\n",
      "The current status of the model is: Waiting to enter a position since 2021-06-08 \n",
      "\n",
      "Generating the trading signals for the trend-following strategy...\n",
      "Calculating the positions for the strategy...\n",
      "The current status of the model is: Holding a long position since 2021-06-15 \n",
      "\n",
      "Processing the transactions for the mean-reversion model...\n",
      "Accumulated profit/loss for one share of stock with initial capital of $0 at the end of modeling period: $1.16\n",
      "Processing the transactions for the trend-following model...\n",
      "Accumulated profit/loss for one share of stock with initial capital of $0 at the end of modeling period: $52.20\n",
      "The entry point for the buy-and-hold model: $25.65 on 2016-01-04\n",
      "The exit point for the buy-and-hold model: $142.75 on 2021-07-09\n",
      "The performance of the buy-and-hold model: $117.10\n",
      "\n",
      "1402 data points retrieved from the API call for stock: AMZN\n",
      "Generating the trading signals for the mean-reversion strategy...\n",
      "Calculating the positions for the strategy...\n",
      "The current status of the model is: Waiting to enter a position since 2021-05-18 \n",
      "\n",
      "Generating the trading signals for the trend-following strategy...\n",
      "Calculating the positions for the strategy...\n",
      "The current status of the model is: Holding a long position since 2021-07-06 \n",
      "\n",
      "Processing the transactions for the mean-reversion model...\n",
      "Accumulated profit/loss for one share of stock with initial capital of $0 at the end of modeling period: $920.83\n",
      "Processing the transactions for the trend-following model...\n",
      "Accumulated profit/loss for one share of stock with initial capital of $0 at the end of modeling period: $536.38\n",
      "The entry point for the buy-and-hold model: $656.29 on 2016-01-04\n",
      "The exit point for the buy-and-hold model: $3722.52 on 2021-07-09\n",
      "The performance of the buy-and-hold model: $3066.23\n",
      "\n",
      "1402 data points retrieved from the API call for stock: COST\n",
      "Generating the trading signals for the mean-reversion strategy...\n",
      "Calculating the positions for the strategy...\n",
      "The current status of the model is: Waiting to enter a position since 2021-06-22 \n",
      "\n",
      "Generating the trading signals for the trend-following strategy...\n",
      "Calculating the positions for the strategy...\n",
      "The current status of the model is: Holding a long position since 2021-06-23 \n",
      "\n",
      "Processing the transactions for the mean-reversion model...\n",
      "Accumulated profit/loss for one share of stock with initial capital of $0 at the end of modeling period: $101.20\n",
      "Processing the transactions for the trend-following model...\n",
      "Accumulated profit/loss for one share of stock with initial capital of $0 at the end of modeling period: $154.21\n",
      "The entry point for the buy-and-hold model: $159.81 on 2016-01-04\n",
      "The exit point for the buy-and-hold model: $408.55 on 2021-07-09\n",
      "The performance of the buy-and-hold model: $248.74\n",
      "\n",
      "1402 data points retrieved from the API call for stock: FB\n",
      "Generating the trading signals for the mean-reversion strategy...\n",
      "Calculating the positions for the strategy...\n",
      "The current status of the model is: Waiting to enter a position since 2021-06-23 \n",
      "\n",
      "Generating the trading signals for the trend-following strategy...\n",
      "Calculating the positions for the strategy...\n",
      "The current status of the model is: Holding a long position since 2021-06-29 \n",
      "\n",
      "Processing the transactions for the mean-reversion model...\n",
      "Accumulated profit/loss for one share of stock with initial capital of $0 at the end of modeling period: $178.06\n",
      "Processing the transactions for the trend-following model...\n",
      "Accumulated profit/loss for one share of stock with initial capital of $0 at the end of modeling period: $-96.93\n",
      "The entry point for the buy-and-hold model: $101.95 on 2016-01-04\n",
      "The exit point for the buy-and-hold model: $345.32 on 2021-07-09\n",
      "The performance of the buy-and-hold model: $243.37\n",
      "\n",
      "1402 data points retrieved from the API call for stock: GOOGL\n",
      "Generating the trading signals for the mean-reversion strategy...\n",
      "Calculating the positions for the strategy...\n",
      "The current status of the model is: Waiting to enter a position since 2021-05-21 \n",
      "\n",
      "Generating the trading signals for the trend-following strategy...\n",
      "Calculating the positions for the strategy...\n",
      "The current status of the model is: Holding a long position since 2021-06-28 \n",
      "\n",
      "Processing the transactions for the mean-reversion model...\n",
      "Accumulated profit/loss for one share of stock with initial capital of $0 at the end of modeling period: $483.06\n",
      "Processing the transactions for the trend-following model...\n",
      "Accumulated profit/loss for one share of stock with initial capital of $0 at the end of modeling period: $-179.57\n",
      "The entry point for the buy-and-hold model: $762.20 on 2016-01-04\n",
      "The exit point for the buy-and-hold model: $2500.50 on 2021-07-09\n",
      "The performance of the buy-and-hold model: $1738.30\n",
      "\n",
      "1402 data points retrieved from the API call for stock: NFLX\n",
      "Generating the trading signals for the mean-reversion strategy...\n",
      "Calculating the positions for the strategy...\n",
      "The current status of the model is: Waiting to enter a position since 2021-06-15 \n",
      "\n",
      "Generating the trading signals for the trend-following strategy...\n",
      "Calculating the positions for the strategy...\n",
      "The current status of the model is: Holding a long position since 2021-06-21 \n",
      "\n",
      "Processing the transactions for the mean-reversion model...\n",
      "Accumulated profit/loss for one share of stock with initial capital of $0 at the end of modeling period: $338.70\n",
      "Processing the transactions for the trend-following model...\n",
      "Accumulated profit/loss for one share of stock with initial capital of $0 at the end of modeling period: $42.15\n",
      "The entry point for the buy-and-hold model: $109.00 on 2016-01-04\n",
      "The exit point for the buy-and-hold model: $531.00 on 2021-07-09\n",
      "The performance of the buy-and-hold model: $422.00\n",
      "\n",
      "1402 data points retrieved from the API call for stock: LUV\n",
      "Generating the trading signals for the mean-reversion strategy...\n",
      "Calculating the positions for the strategy...\n",
      "The current status of the model is: Holding a long position since 2021-06-04 \n",
      "\n",
      "Generating the trading signals for the trend-following strategy...\n",
      "Calculating the positions for the strategy...\n",
      "The current status of the model is: Waiting to enter a position since 2021-04-19 \n",
      "\n",
      "Processing the transactions for the mean-reversion model...\n",
      "Accumulated profit/loss for one share of stock with initial capital of $0 at the end of modeling period: $-9.78\n",
      "Processing the transactions for the trend-following model...\n",
      "Accumulated profit/loss for one share of stock with initial capital of $0 at the end of modeling period: $29.40\n",
      "The entry point for the buy-and-hold model: $41.70 on 2016-01-04\n",
      "The exit point for the buy-and-hold model: $52.00 on 2021-07-09\n",
      "The performance of the buy-and-hold model: $10.30\n",
      "\n",
      "1402 data points retrieved from the API call for stock: PFE\n",
      "Generating the trading signals for the mean-reversion strategy...\n",
      "Calculating the positions for the strategy...\n",
      "The current status of the model is: Waiting to enter a position since 2021-06-23 \n",
      "\n",
      "Generating the trading signals for the trend-following strategy...\n",
      "Calculating the positions for the strategy...\n",
      "The current status of the model is: Waiting to enter a position since 2021-06-17 \n",
      "\n",
      "Processing the transactions for the mean-reversion model...\n",
      "Accumulated profit/loss for one share of stock with initial capital of $0 at the end of modeling period: $7.17\n",
      "Processing the transactions for the trend-following model...\n",
      "Accumulated profit/loss for one share of stock with initial capital of $0 at the end of modeling period: $-8.77\n",
      "The entry point for the buy-and-hold model: $31.85 on 2016-01-04\n",
      "The exit point for the buy-and-hold model: $39.53 on 2021-07-09\n",
      "The performance of the buy-and-hold model: $7.68\n",
      "\n",
      "1402 data points retrieved from the API call for stock: VZ\n",
      "Generating the trading signals for the mean-reversion strategy...\n",
      "Calculating the positions for the strategy...\n",
      "The current status of the model is: Waiting to enter a position since 2021-07-02 \n",
      "\n",
      "Generating the trading signals for the trend-following strategy...\n",
      "Calculating the positions for the strategy...\n",
      "The current status of the model is: Holding a long position since 2021-07-08 \n",
      "\n",
      "Processing the transactions for the mean-reversion model...\n",
      "Accumulated profit/loss for one share of stock with initial capital of $0 at the end of modeling period: $6.35\n",
      "Processing the transactions for the trend-following model...\n",
      "Accumulated profit/loss for one share of stock with initial capital of $0 at the end of modeling period: $13.20\n",
      "The entry point for the buy-and-hold model: $45.67 on 2016-01-04\n",
      "The exit point for the buy-and-hold model: $55.70 on 2021-07-09\n",
      "The performance of the buy-and-hold model: $10.03\n",
      "\n",
      "1402 data points retrieved from the API call for stock: WMT\n",
      "Generating the trading signals for the mean-reversion strategy...\n",
      "Calculating the positions for the strategy...\n",
      "The current status of the model is: Waiting to enter a position since 2021-06-28 \n",
      "\n",
      "Generating the trading signals for the trend-following strategy...\n",
      "Calculating the positions for the strategy...\n",
      "The current status of the model is: Holding a long position since 2021-07-01 \n",
      "\n",
      "Processing the transactions for the mean-reversion model...\n",
      "Accumulated profit/loss for one share of stock with initial capital of $0 at the end of modeling period: $40.96\n",
      "Processing the transactions for the trend-following model...\n",
      "Accumulated profit/loss for one share of stock with initial capital of $0 at the end of modeling period: $-5.52\n",
      "The entry point for the buy-and-hold model: $60.50 on 2016-01-04\n",
      "The exit point for the buy-and-hold model: $140.41 on 2021-07-09\n",
      "The performance of the buy-and-hold model: $79.91\n",
      "\n"
     ]
    }
   ],
   "source": [
    "for stock_symbol in stock_list:\n",
    "    performance_values = evaluate_strategy_performance(stock_symbol)\n",
    "    performance_summary = performance_summary.append(performance_values, ignore_index=True)"
   ]
  },
  {
   "cell_type": "code",
   "execution_count": 12,
   "metadata": {
    "collapsed": false,
    "jupyter": {
     "outputs_hidden": false
    },
    "pycharm": {
     "name": "#%%\n"
    }
   },
   "outputs": [
    {
     "name": "stdout",
     "output_type": "stream",
     "text": [
      "  Stock_Symbol     Model1_Name  Model1_Return_VAL Model1_Return_PCT  \\\n",
      "0         AAPL  Mean-Reversion              1.162              None   \n",
      "1         AMZN  Mean-Reversion            920.830              None   \n",
      "2         COST  Mean-Reversion            101.195              None   \n",
      "3           FB  Mean-Reversion            178.063              None   \n",
      "4        GOOGL  Mean-Reversion            483.060              None   \n",
      "5         NFLX  Mean-Reversion            338.703              None   \n",
      "6          LUV  Mean-Reversion             -9.785              None   \n",
      "7          PFE  Mean-Reversion              7.170              None   \n",
      "8           VZ  Mean-Reversion              6.350              None   \n",
      "9          WMT  Mean-Reversion             40.960              None   \n",
      "\n",
      "       Model2_Name  Model2_Return_VAL Model2_Return_PCT  Buy_Hold_Return  \n",
      "0  Trend-Following             52.201              None          117.098  \n",
      "1  Trend-Following            536.380              None         3066.230  \n",
      "2  Trend-Following            154.210              None          248.740  \n",
      "3  Trend-Following            -96.931              None          243.370  \n",
      "4  Trend-Following           -179.570              None         1738.300  \n",
      "5  Trend-Following             42.154              None          422.000  \n",
      "6  Trend-Following             29.405              None           10.300  \n",
      "7  Trend-Following             -8.771              None            7.680  \n",
      "8  Trend-Following             13.200              None           10.030  \n",
      "9  Trend-Following             -5.520              None           79.910  \n"
     ]
    }
   ],
   "source": [
    "print(performance_summary)"
   ]
  },
  {
   "cell_type": "code",
   "execution_count": 13,
   "metadata": {
    "collapsed": false,
    "jupyter": {
     "outputs_hidden": false
    },
    "pycharm": {
     "name": "#%%\n"
    }
   },
   "outputs": [
    {
     "name": "stdout",
     "output_type": "stream",
     "text": [
      "Total time for the script: 0:01:44.435580\n"
     ]
    }
   ],
   "source": [
    "print ('Total time for the script:',(datetime.now() - startTimeScript))"
   ]
  }
 ],
 "metadata": {
  "colab": {
   "collapsed_sections": [],
   "name": "py_algotrading_ema_crossover_grid_search.ipynb",
   "provenance": []
  },
  "kernelspec": {
   "display_name": "Python 3",
   "language": "python",
   "name": "python3"
  },
  "language_info": {
   "codemirror_mode": {
    "name": "ipython",
    "version": 3
   },
   "file_extension": ".py",
   "mimetype": "text/x-python",
   "name": "python",
   "nbconvert_exporter": "python",
   "pygments_lexer": "ipython3",
   "version": "3.8.5"
  }
 },
 "nbformat": 4,
 "nbformat_minor": 4
}
