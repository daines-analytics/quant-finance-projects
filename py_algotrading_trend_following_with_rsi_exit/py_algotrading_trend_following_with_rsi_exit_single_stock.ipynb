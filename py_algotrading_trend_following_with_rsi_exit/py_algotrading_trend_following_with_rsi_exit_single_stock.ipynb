{
 "cells": [
  {
   "cell_type": "markdown",
   "metadata": {
    "colab_type": "text",
    "id": "nn0Ld1RjTekC"
   },
   "source": [
    "# Algorithmic Trading Model for Trend-Following with RSI Exit Signal for an Individual Stock Using Python\n",
    "### David Lowe\n",
    "### July 28, 2021\n",
    "\n",
    "NOTE: This script is for learning purposes only and does not constitute a recommendation for buying or selling any stock mentioned in this script.\n",
    "\n",
    "SUMMARY: This project aims to construct and test an algorithmic trading model and document the end-to-end steps using a template.\n",
    "\n",
    "INTRODUCTION: This algorithmic trading model compares a simple trend-following strategy with or without using RSI as the exit signal for an individual stock. The model will use a trend window size of ten days for long trades only. When the 14-day RSI value reaches 70, the model will exit the long position.\n",
    "\n",
    "ANALYSIS: In this modeling iteration, we analyzed the stock of AAPL (Apple Inc.) between January 1, 2016, and July 26, 2021. The mean-reversion model without using RSI produced a profit of 51.55 dollars per share, while the model with RSI signals returned 90.01. In addition, the buy-and-hold approach yielded a gain of 122.61 dollars per share.\n",
    "\n",
    "CONCLUSION: For the AAPL stock during the modeling time frame, the long-only trading strategy with or without RSI as the exit signal did not produce a better return than the buy-and-hold approach. We should consider experimenting with more variations of the strategy.\n",
    "\n",
    "Dataset ML Model: Time series analysis with numerical attributes\n",
    "\n",
    "Dataset Used: Quandl\n",
    "\n",
    "An algorithmic trading modeling project generally can be broken down into about five major tasks:\n",
    "\n",
    "1. Prepare Environment\n",
    "2. Acquire and Pre-Process Data\n",
    "3. Implement and Train Models\n",
    "4. Back-test Models\n",
    "5. Evaluate Strategy Performance"
   ]
  },
  {
   "cell_type": "markdown",
   "metadata": {
    "colab_type": "text",
    "id": "-DieEv9pTekE"
   },
   "source": [
    "## Task 1 - Prepare Environment"
   ]
  },
  {
   "cell_type": "markdown",
   "metadata": {
    "pycharm": {
     "name": "#%% md\n"
    }
   },
   "source": [
    "### 1.a) Load libraries and modules"
   ]
  },
  {
   "cell_type": "code",
   "execution_count": 16,
   "metadata": {
    "colab": {},
    "colab_type": "code",
    "collapsed": false,
    "id": "8IwyGxxuTekE",
    "jupyter": {
     "outputs_hidden": false
    },
    "pycharm": {
     "name": "#%%\n"
    }
   },
   "outputs": [],
   "source": [
    "import pandas as pd\n",
    "import matplotlib.pyplot as plt\n",
    "import statistics as stats\n",
    "import os\n",
    "import sys\n",
    "from datetime import date, datetime, timedelta\n",
    "import requests\n",
    "import json\n",
    "from dotenv import load_dotenv\n",
    "\n",
    "# Begin the timer for the script processing\n",
    "startTimeScript = datetime.now()"
   ]
  },
  {
   "cell_type": "markdown",
   "metadata": {
    "pycharm": {
     "name": "#%% md\n"
    }
   },
   "source": [
    "### 1.b) Set up the controlling parameters and functions¶"
   ]
  },
  {
   "cell_type": "code",
   "execution_count": 17,
   "metadata": {
    "colab": {
     "base_uri": "https://localhost:8080/",
     "height": 51
    },
    "colab_type": "code",
    "collapsed": false,
    "id": "Zagik25QTekS",
    "jupyter": {
     "outputs_hidden": false
    },
    "outputId": "d14332ba-63ec-4224-ca13-c4ecdab3541a",
    "pycharm": {
     "name": "#%%\n"
    }
   },
   "outputs": [
    {
     "name": "stdout",
     "output_type": "stream",
     "text": [
      "Starting date for the model: 2016-01-01\n",
      "Ending date for the model: 2021-07-26\n",
      "First date of data we need for modeling: 2015-12-12\n",
      "Last date of data we need for modeling: 2021-07-26\n"
     ]
    }
   ],
   "source": [
    "# Specify the key modeling parameters below\n",
    "stock_list = ['AAPL']\n",
    "\n",
    "# Specify the parameters for calculating moving average windows\n",
    "TREND_WINDOW = 10\n",
    "VOLUME_WINDOW = 10\n",
    "MEAN_REVERSION = False  # If false, model using the trend-following strategy\n",
    "\n",
    "# Specify the parameters for calculating RSI\n",
    "RSI_WINDOW = 14\n",
    "RSI_HIGH = 70\n",
    "RSI_MIDDLE = 50\n",
    "RSI_LOW = 30\n",
    "\n",
    "# Specify the risk management parameters\n",
    "HOLDING_PERIOD_MIN = 999\n",
    "HOLDING_PERIOD_MAX = 999\n",
    "GAIN_MAX = 0.99\n",
    "LOSS_MAX = 0.99\n",
    "LONG_ONLY = True  # If false, model both long and short trades\n",
    "\n",
    "# The number of extra days of data we need for calculating moving averages (usually equals to the largest value of window size)\n",
    "EXTRA_DAYS = TREND_WINDOW\n",
    "\n",
    "MODEL_START_DATE = date(2016, 1, 1)\n",
    "print(\"Starting date for the model:\", MODEL_START_DATE)\n",
    "\n",
    "# MODEL_END_DATE = datetime.now().date()\n",
    "MODEL_END_DATE = date(2021, 7, 26)\n",
    "print(\"Ending date for the model:\", MODEL_END_DATE)\n",
    "\n",
    "# data_start_date = MODEL_START_DATE\n",
    "data_start_date = MODEL_START_DATE - timedelta(days=int(EXTRA_DAYS * 2)) # Need more pricing data to calculate moving averages\n",
    "print(\"First date of data we need for modeling:\", data_start_date)\n",
    "\n",
    "data_end_date = MODEL_END_DATE\n",
    "print(\"Last date of data we need for modeling:\", data_end_date)\n",
    "\n",
    "# Set up the verbose flag to print detailed messages for debugging (setting True will activate!)\n",
    "verbose_data_retrieval = False  # Show the head and tail of the raw dataframe\n",
    "verbose_signals = False  # All entries from the Signals dataframe\n",
    "verbose_entry_exit = False  # All entry and exit points from the Signals dataframe\n",
    "verbose_trade_actions = False  # All bought and sold activities during portfolio generation\n",
    "verbose_portfolios = False  # All entries from the Positions dataframe\n",
    "verbose_transactions = True  #  All buying and selling transactions from the Positions dataframe\n",
    "verbose_draw_graphs = True"
   ]
  },
  {
   "cell_type": "code",
   "execution_count": 18,
   "metadata": {
    "collapsed": false,
    "jupyter": {
     "outputs_hidden": false
    },
    "pycharm": {
     "name": "#%%\n"
    }
   },
   "outputs": [],
   "source": [
    "# Set up parameters for displaying report data\n",
    "pd.set_option('display.max_rows', None)\n",
    "pd.set_option('display.max_columns', None)\n",
    "pd.set_option('display.width', 999)"
   ]
  },
  {
   "cell_type": "markdown",
   "metadata": {
    "colab_type": "text",
    "id": "Xa51FMY_TekZ"
   },
   "source": [
    "## Task 2 - Acquire and Pre-Process Data"
   ]
  },
  {
   "cell_type": "code",
   "execution_count": 19,
   "metadata": {
    "colab": {},
    "colab_type": "code",
    "collapsed": false,
    "id": "Og9L0byuTekd",
    "jupyter": {
     "outputs_hidden": false
    },
    "pycharm": {
     "name": "#%%\n"
    }
   },
   "outputs": [],
   "source": [
    "def retrieve_stock_data(ticker=stock_list[0]):\n",
    "    # Set up the data service provider and data acquisition parameters\n",
    "    data_service = 'Quandl'\n",
    "\n",
    "    # Check and see whether the API key is available\n",
    "    api_key = os.environ.get('QUANDL_API')\n",
    "    if api_key is None: sys.exit(data_service + ' API key not available. Script processing cannot continue!!!')\n",
    "\n",
    "    if ticker=='': sys.exit('Stock symbol not available. Script processing cannot continue!!!')\n",
    "\n",
    "    start_date_string = data_start_date.strftime('%Y-%m-%d')\n",
    "    end_date_string = data_end_date.strftime('%Y-%m-%d')\n",
    "    api_url = \"https://www.quandl.com/api/v3/datatables/SHARADAR/SEP.json?date.gte=%s&date.lte=%s&ticker=%s&api_key=%s&qopts.data_version=2\" % (start_date_string, end_date_string, ticker, api_key)\n",
    "    response = requests.get(api_url)\n",
    "    resp_dict = json.loads(response.text)\n",
    "    stock_rawdata = pd.DataFrame(resp_dict['datatable']['data'])\n",
    "    print(len(stock_rawdata), 'data points retrieved from the API call for stock:', ticker)\n",
    "\n",
    "    stock_rawdata.columns = ['ticker', 'date', 'open', 'high', 'low', 'close', 'volume', 'closeadj', 'closeunadj', 'lastupdated']\n",
    "    # stock_rawdata.set_index('date', inplace=True)\n",
    "    stock_rawdata.index = pd.to_datetime(stock_rawdata.date)\n",
    "    stock_pricing = stock_rawdata.sort_index(ascending=True)\n",
    "\n",
    "    # Set up the standard column name for modeling\n",
    "    # Column names may be data-provider specific!\n",
    "    model_template = stock_pricing.loc[:, ['open','closeadj','volume']]\n",
    "    model_template.rename(columns={'open': 'open_price', 'closeadj': 'close_price', 'volume': 'trading_volume'}, inplace=True)\n",
    "    if verbose_data_retrieval:\n",
    "        print(model_template.head())\n",
    "        print()\n",
    "        print(model_template.tail())\n",
    "\n",
    "    return model_template"
   ]
  },
  {
   "cell_type": "markdown",
   "metadata": {
    "colab_type": "text",
    "id": "UKNJYDlGTek0"
   },
   "source": [
    "## Task 3 - Implement and Train Models"
   ]
  },
  {
   "cell_type": "code",
   "execution_count": 20,
   "metadata": {
    "collapsed": false,
    "jupyter": {
     "outputs_hidden": false
    },
    "pycharm": {
     "name": "#%%\n"
    }
   },
   "outputs": [],
   "source": [
    "# Define the function that will generate the indicators and trading signals\n",
    "# General logic for processing the trading signals for each time period\n",
    "# 1 - Check to see whether we need to execute a trading action from the previous day's signal. Once the trading action is executed, move on to the next day.\n",
    "# 2 - If no trade actions to execute on open, check to see whether we have any breakout that generates a trading signal. If we have a new trading signal and currently has no position, mark the entry action for the next day.\n",
    "# 3 - If no new signal for today, check to see whether we need to exit any existing position. If we have an exit signal and currently hold a position, mark the exit action for the next day.\n",
    "# 4 - If nothing is going on, mark up the trading model appropriately and move to the next day.\n",
    "\n",
    "def populate_signals_model1(model_template):\n",
    "    \"\"\"Calculate signals for a Trend Following strategy\n",
    "\n",
    "    Strategy details:\n",
    "    Entry signals -- High point of a trend window (default 10 days)\n",
    "    Exit signals -- Low point of a trend window (default 10 days)\n",
    "    \"\"\"\n",
    "\n",
    "    trade_model = model_template.copy()\n",
    "    mean_reversion_flag = MEAN_REVERSION\n",
    "    trend_window = TREND_WINDOW\n",
    "    volume_window = VOLUME_WINDOW\n",
    "\n",
    "    trade_model['buy_on_open'] = False\n",
    "    trade_model['sell_on_open'] = False\n",
    "    trade_model['short_on_open'] = False\n",
    "    trade_model['cover_on_open'] = False\n",
    "    trade_model['position_long'] = False\n",
    "    trade_model['position_short'] = False\n",
    "    trade_model['holding_period'] = 0\n",
    "    trade_model['cost_basis'] = 0.0\n",
    "    trade_model['gain_loss_pct'] = 0.0\n",
    "    trade_model['window_avg'] = trade_model['close_price'].shift(1).rolling(window=trend_window).mean()\n",
    "    trade_model['window_high'] = trade_model['close_price'].shift(1).rolling(window=trend_window).max()\n",
    "    trade_model['window_low'] = trade_model['close_price'].shift(1).rolling(window=trend_window).min()\n",
    "    trade_model['volume_ma'] = trade_model['trading_volume'].rolling(volume_window).mean()\n",
    "\n",
    "    # Truncate the model to the required starting and ending dates\n",
    "    trade_model = trade_model[MODEL_START_DATE:MODEL_END_DATE]\n",
    "    last_index = len(trade_model) - 1\n",
    "\n",
    "    for k in range(len(trade_model)-1):\n",
    "        # Calculate the breakout, True or False.\n",
    "        price_today = trade_model.at[trade_model.index[k],'close_price']\n",
    "        price_high =  trade_model.at[trade_model.index[k],'window_high']\n",
    "        price_low = trade_model.at[trade_model.index[k],'window_low']\n",
    "        if mean_reversion_flag:\n",
    "            breakout_long_side = price_today < price_low\n",
    "            breakout_short_side = price_today > price_high\n",
    "        else:\n",
    "            breakout_long_side = price_today > price_high\n",
    "            breakout_short_side = price_today < price_low\n",
    "        volume_today = trade_model.at[trade_model.index[k],'trading_volume']\n",
    "        volume_avg = trade_model.at[trade_model.index[k],'volume_ma']\n",
    "\n",
    "        # Set the exit signals\n",
    "        price_avg = trade_model.at[trade_model.index[k],'window_avg']\n",
    "        close_above_threshold = price_today > price_avg\n",
    "        close_below_threshold = price_today < price_avg\n",
    "\n",
    "        # For the very first trading session, just need to check for the breakout action\n",
    "        if k == 0:\n",
    "            if breakout_long_side and (volume_today > volume_avg):\n",
    "                trade_model.at[trade_model.index[k+1],'buy_on_open'] = True\n",
    "            elif breakout_short_side and (volume_today > volume_avg) and (not LONG_ONLY):\n",
    "                trade_model.at[trade_model.index[k+1],'short_on_open'] = True\n",
    "        else:\n",
    "            currently_long = trade_model.at[trade_model.index[k-1],'position_long']\n",
    "            currently_short = trade_model.at[trade_model.index[k-1],'position_short']\n",
    "            holding_period = trade_model.at[trade_model.index[k-1],'holding_period']\n",
    "            cost_basis = trade_model.at[trade_model.index[k-1],'cost_basis']\n",
    "\n",
    "            # Check to see whether we need to execute any trade action on open\n",
    "            if trade_model.at[trade_model.index[k],'buy_on_open']:\n",
    "                trade_executed_today = True\n",
    "                currently_long = True\n",
    "                currently_short = False\n",
    "                holding_period = 1\n",
    "                cost_basis = -trade_model.at[trade_model.index[k],'open_price']\n",
    "            elif trade_model.at[trade_model.index[k],'short_on_open']:\n",
    "                trade_executed_today = True\n",
    "                currently_long = False\n",
    "                currently_short = True\n",
    "                holding_period = 1\n",
    "                cost_basis = trade_model.at[trade_model.index[k],'open_price']\n",
    "            elif trade_model.at[trade_model.index[k],'sell_on_open']:\n",
    "                trade_executed_today = True\n",
    "                currently_long = False\n",
    "                currently_short = False\n",
    "                holding_period = 0\n",
    "                cost_basis = 0.0\n",
    "            elif trade_model.at[trade_model.index[k],'cover_on_open']:\n",
    "                trade_executed_today = True\n",
    "                currently_long = False\n",
    "                currently_short = False\n",
    "                holding_period = 0\n",
    "                cost_basis = 0.0\n",
    "            else:\n",
    "                trade_executed_today = False\n",
    "\n",
    "            # If no trade on open, check to see whether we have a breakout with an entry the next day\n",
    "            if breakout_long_side and (not currently_long) and (not currently_short) and (volume_today > volume_avg) and (k < last_index):\n",
    "                trade_model.at[trade_model.index[k+1],'buy_on_open'] = True\n",
    "            elif breakout_short_side and (not currently_long) and (not currently_short) and (volume_today > volume_avg) and (k < last_index) and (not LONG_ONLY):\n",
    "                trade_model.at[trade_model.index[k+1],'short_on_open'] = True\n",
    "\n",
    "            # If no breakout, check to see whether we need to exit based on the price action\n",
    "            if currently_long and ((mean_reversion_flag and close_above_threshold) or ((not mean_reversion_flag) and close_below_threshold) or (holding_period >= HOLDING_PERIOD_MAX)):\n",
    "                trade_model.at[trade_model.index[k+1],'sell_on_open'] = True\n",
    "            elif currently_short and ((mean_reversion_flag and close_below_threshold) or ((not mean_reversion_flag) and close_above_threshold) or (holding_period >= HOLDING_PERIOD_MAX)):\n",
    "                trade_model.at[trade_model.index[k+1],'cover_on_open'] = True\n",
    "\n",
    "            # If no breakout, check to see whether we need to exit based on the profit or loss targets\n",
    "            if currently_long :\n",
    "                up_down_pct = (cost_basis + price_today) / abs(cost_basis)\n",
    "                trade_model.at[trade_model.index[k],'gain_loss_pct'] = up_down_pct\n",
    "                if (up_down_pct >= GAIN_MAX) or (up_down_pct <= -LOSS_MAX) :\n",
    "                    trade_model.at[trade_model.index[k+1],'sell_on_open'] = True\n",
    "            elif currently_short :\n",
    "                up_down_pct = (cost_basis - price_today) / abs(cost_basis)\n",
    "                trade_model.at[trade_model.index[k],'gain_loss_pct'] = up_down_pct\n",
    "                if (up_down_pct >= GAIN_MAX) or (up_down_pct <= -LOSS_MAX) :\n",
    "                    trade_model.at[trade_model.index[k+1],'cover_on_open'] = True\n",
    "\n",
    "            # If no action on a given day, carry over the position status\n",
    "            if (k > 0) and (not trade_executed_today):\n",
    "                if currently_long or currently_short:\n",
    "                    holding_period = holding_period + 1\n",
    "\n",
    "            trade_model.at[trade_model.index[k],'position_long'] = currently_long\n",
    "            trade_model.at[trade_model.index[k],'position_short'] = currently_short\n",
    "            trade_model.at[trade_model.index[k],'holding_period'] = holding_period\n",
    "            trade_model.at[trade_model.index[k],'cost_basis'] = cost_basis\n",
    "\n",
    "            # # Exiting the position on the last day of modeling period\n",
    "            # if k == last_index-1:\n",
    "            #     if trade_model.at[trade_model.index[k],'position_long']:\n",
    "            #         trade_model.at[trade_model.index[k+1],'sell_on_open'] = True\n",
    "            #         trade_model.at[trade_model.index[k+1],'position_long'] = False\n",
    "            #     elif trade_model.at[trade_model.index[k],'position_short']:\n",
    "            #         trade_model.at[trade_model.index[k+1],'cover_on_open'] = True\n",
    "            #         trade_model.at[trade_model.index[k+1],'position_short'] = False\n",
    "\n",
    "    if verbose_signals: print(trade_model, '\\n')\n",
    "    return trade_model"
   ]
  },
  {
   "cell_type": "code",
   "execution_count": 21,
   "metadata": {
    "colab": {},
    "colab_type": "code",
    "collapsed": false,
    "id": "yfQTRXPnTelA",
    "jupyter": {
     "outputs_hidden": false
    },
    "pycharm": {
     "name": "#%%\n"
    }
   },
   "outputs": [],
   "source": [
    "# Define the function that will generate the indicators and trading signals\n",
    "# General logic for processing the trading signals for each time period\n",
    "# 1 - Check to see whether we need to execute a trading action from the previous day's signal. Once the trading action is executed, move on to the next day.\n",
    "# 2 - If no trade actions to execute on open, check to see whether we have any breakout that generates a trading signal. If we have a new trading signal and currently has no position, mark the entry action for the next day.\n",
    "# 3 - If no new signal for today, check to see whether we need to exit any existing position. If we have an exit signal and currently hold a position, mark the exit action for the next day.\n",
    "# 4 - If nothing is going on, mark up the trading model appropriately and move to the next day.\n",
    "\n",
    "def populate_signals_model2(model_template):\n",
    "    \"\"\"Calculate signals for a Trend Following strategy\n",
    "\n",
    "    Strategy details:\n",
    "    Entry signals -- High point of a trend window (default 10 days)\n",
    "    Exit signals -- Cross below the middle RSI threshold (default 50)\n",
    "    \"\"\"\n",
    "\n",
    "    trade_model = model_template.copy()\n",
    "    mean_reversion_flag = MEAN_REVERSION\n",
    "    trend_window = TREND_WINDOW\n",
    "    volume_window = VOLUME_WINDOW\n",
    "    rsi_lookback = RSI_WINDOW\n",
    "\n",
    "    trade_model['buy_on_open'] = False\n",
    "    trade_model['sell_on_open'] = False\n",
    "    trade_model['short_on_open'] = False\n",
    "    trade_model['cover_on_open'] = False\n",
    "    trade_model['position_long'] = False\n",
    "    trade_model['position_short'] = False\n",
    "    trade_model['holding_period'] = 0\n",
    "    trade_model['cost_basis'] = 0.0\n",
    "    trade_model['gain_loss_pct'] = 0.0\n",
    "    trade_model['window_avg'] = trade_model['close_price'].shift(1).rolling(window=trend_window).mean()\n",
    "    trade_model['window_high'] = trade_model['close_price'].shift(1).rolling(window=trend_window).max()\n",
    "    trade_model['window_low'] = trade_model['close_price'].shift(1).rolling(window=trend_window).min()\n",
    "    trade_model['volume_ma'] = trade_model['trading_volume'].rolling(volume_window).mean()\n",
    "\n",
    "    # Calculate the RSI ratings\n",
    "    gain_history = []\n",
    "    loss_history = []\n",
    "    for k in range(len(trade_model)):\n",
    "        close_price = trade_model.at[trade_model.index[k],'close_price']\n",
    "        if k == 0:\n",
    "            trade_model.at[trade_model.index[k],'rsi_value'] = 50\n",
    "        else:\n",
    "            previous_price = trade_model.at[trade_model.index[k-1],'close_price']\n",
    "            gain_history.append(max(0, close_price - previous_price))\n",
    "            loss_history.append(max(0, previous_price - close_price))\n",
    "            if len(gain_history) > rsi_lookback: # maximum observations is equal to look-back period\n",
    "                del (gain_history[0])\n",
    "                del (loss_history[0])\n",
    "            avg_gain = stats.mean(gain_history) # average gain over look-back period\n",
    "            avg_loss = stats.mean(loss_history) # average loss over look-back period\n",
    "            rs = 1\n",
    "            if avg_loss > 0: # to avoid division by 0, which is undefined\n",
    "                rs = avg_gain / avg_loss\n",
    "            trade_model.at[trade_model.index[k],'rsi_value'] = 100 - (100 / (1 + rs))\n",
    "\n",
    "    # Truncate the model to the required starting and ending dates\n",
    "    trade_model = trade_model[MODEL_START_DATE:MODEL_END_DATE]\n",
    "    last_index = len(trade_model) - 1\n",
    "\n",
    "    for k in range(len(trade_model)-1):\n",
    "        # Calculate the breakout, True or False.\n",
    "        price_today = trade_model.at[trade_model.index[k],'close_price']\n",
    "        price_high =  trade_model.at[trade_model.index[k],'window_high']\n",
    "        price_low = trade_model.at[trade_model.index[k],'window_low']\n",
    "        if mean_reversion_flag:\n",
    "            breakout_long_side = price_today < price_low\n",
    "            breakout_short_side = price_today > price_high\n",
    "        else:\n",
    "            breakout_long_side = price_today > price_high\n",
    "            breakout_short_side = price_today < price_low\n",
    "        volume_today = trade_model.at[trade_model.index[k],'trading_volume']\n",
    "        volume_avg = trade_model.at[trade_model.index[k],'volume_ma']\n",
    "\n",
    "        # Set the exit signals\n",
    "        rsi_value = trade_model.at[trade_model.index[k],'rsi_value']\n",
    "        close_above_threshold = rsi_value > RSI_MIDDLE\n",
    "        close_below_threshold = rsi_value < RSI_MIDDLE\n",
    "\n",
    "        # For the very first trading session, just need to check for the breakout action\n",
    "        if k == 0:\n",
    "            if breakout_long_side and (volume_today > volume_avg):\n",
    "                trade_model.at[trade_model.index[k+1],'buy_on_open'] = True\n",
    "            elif breakout_short_side and (volume_today > volume_avg) and (not LONG_ONLY):\n",
    "                trade_model.at[trade_model.index[k+1],'short_on_open'] = True\n",
    "        else:\n",
    "            currently_long = trade_model.at[trade_model.index[k-1],'position_long']\n",
    "            currently_short = trade_model.at[trade_model.index[k-1],'position_short']\n",
    "            holding_period = trade_model.at[trade_model.index[k-1],'holding_period']\n",
    "            cost_basis = trade_model.at[trade_model.index[k-1],'cost_basis']\n",
    "\n",
    "            # Check to see whether we need to execute any trade action on open\n",
    "            if trade_model.at[trade_model.index[k],'buy_on_open']:\n",
    "                trade_executed_today = True\n",
    "                currently_long = True\n",
    "                currently_short = False\n",
    "                holding_period = 1\n",
    "                cost_basis = -trade_model.at[trade_model.index[k],'open_price']\n",
    "            elif trade_model.at[trade_model.index[k],'short_on_open']:\n",
    "                trade_executed_today = True\n",
    "                currently_long = False\n",
    "                currently_short = True\n",
    "                holding_period = 1\n",
    "                cost_basis = trade_model.at[trade_model.index[k],'open_price']\n",
    "            elif trade_model.at[trade_model.index[k],'sell_on_open']:\n",
    "                trade_executed_today = True\n",
    "                currently_long = False\n",
    "                currently_short = False\n",
    "                holding_period = 0\n",
    "                cost_basis = 0.0\n",
    "            elif trade_model.at[trade_model.index[k],'cover_on_open']:\n",
    "                trade_executed_today = True\n",
    "                currently_long = False\n",
    "                currently_short = False\n",
    "                holding_period = 0\n",
    "                cost_basis = 0.0\n",
    "            else:\n",
    "                trade_executed_today = False\n",
    "\n",
    "            # If no trade on open, check to see whether we have a breakout with an entry the next day\n",
    "            if breakout_long_side and (not currently_long) and (not currently_short) and (volume_today > volume_avg) and (k < last_index):\n",
    "                trade_model.at[trade_model.index[k+1],'buy_on_open'] = True\n",
    "            elif breakout_short_side and (not currently_long) and (not currently_short) and (volume_today > volume_avg) and (k < last_index) and (not LONG_ONLY):\n",
    "                trade_model.at[trade_model.index[k+1],'short_on_open'] = True\n",
    "\n",
    "            # If no breakout, check to see whether we need to exit based on the price action\n",
    "            if currently_long and ((mean_reversion_flag and close_above_threshold) or ((not mean_reversion_flag) and close_below_threshold) or (holding_period >= HOLDING_PERIOD_MAX)):\n",
    "                trade_model.at[trade_model.index[k+1],'sell_on_open'] = True\n",
    "            elif currently_short and ((mean_reversion_flag and close_below_threshold) or ((not mean_reversion_flag) and close_above_threshold) or (holding_period >= HOLDING_PERIOD_MAX)):\n",
    "                trade_model.at[trade_model.index[k+1],'cover_on_open'] = True\n",
    "\n",
    "            # If no breakout, check to see whether we need to exit based on the profit or loss targets\n",
    "            if currently_long :\n",
    "                up_down_pct = (cost_basis + price_today) / abs(cost_basis)\n",
    "                trade_model.at[trade_model.index[k],'gain_loss_pct'] = up_down_pct\n",
    "                if (up_down_pct >= GAIN_MAX) or (up_down_pct <= -LOSS_MAX) :\n",
    "                    trade_model.at[trade_model.index[k+1],'sell_on_open'] = True\n",
    "            elif currently_short :\n",
    "                up_down_pct = (cost_basis - price_today) / abs(cost_basis)\n",
    "                trade_model.at[trade_model.index[k],'gain_loss_pct'] = up_down_pct\n",
    "                if (up_down_pct >= GAIN_MAX) or (up_down_pct <= -LOSS_MAX) :\n",
    "                    trade_model.at[trade_model.index[k+1],'cover_on_open'] = True\n",
    "\n",
    "            # If no action on a given day, carry over the position status\n",
    "            if (k > 0) and (not trade_executed_today):\n",
    "                if currently_long or currently_short:\n",
    "                    holding_period = holding_period + 1\n",
    "\n",
    "            trade_model.at[trade_model.index[k],'position_long'] = currently_long\n",
    "            trade_model.at[trade_model.index[k],'position_short'] = currently_short\n",
    "            trade_model.at[trade_model.index[k],'holding_period'] = holding_period\n",
    "            trade_model.at[trade_model.index[k],'cost_basis'] = cost_basis\n",
    "\n",
    "            # # Exiting the position on the last day of modeling period\n",
    "            # if k == last_index-1:\n",
    "            #     if trade_model.at[trade_model.index[k],'position_long']:\n",
    "            #         trade_model.at[trade_model.index[k+1],'sell_on_open'] = True\n",
    "            #         trade_model.at[trade_model.index[k+1],'position_long'] = False\n",
    "            #     elif trade_model.at[trade_model.index[k],'position_short']:\n",
    "            #         trade_model.at[trade_model.index[k+1],'cover_on_open'] = True\n",
    "            #         trade_model.at[trade_model.index[k+1],'position_short'] = False\n",
    "\n",
    "    if verbose_signals: print(trade_model, '\\n')\n",
    "    return trade_model"
   ]
  },
  {
   "cell_type": "code",
   "execution_count": 22,
   "metadata": {
    "colab": {
     "base_uri": "https://localhost:8080/",
     "height": 1000
    },
    "colab_type": "code",
    "collapsed": false,
    "id": "327CZKmtTelL",
    "jupyter": {
     "outputs_hidden": false
    },
    "outputId": "b353b49d-0281-4aa7-a530-6747c166eae5",
    "pycharm": {
     "name": "#%%\n"
    }
   },
   "outputs": [],
   "source": [
    "# List the entry/exit points for each model\n",
    "def list_model_entry_exit(trade_model):\n",
    "    print(trade_model[trade_model['buy_on_open'] | trade_model['sell_on_open'] | trade_model['short_on_open'] | trade_model['cover_on_open']])"
   ]
  },
  {
   "cell_type": "code",
   "execution_count": 23,
   "metadata": {
    "collapsed": false,
    "jupyter": {
     "outputs_hidden": false
    },
    "pycharm": {
     "name": "#%%\n"
    }
   },
   "outputs": [],
   "source": [
    "def draw_model_graph(trade_model, ticker='', model_name=''):\n",
    "    graph_data = trade_model.copy()\n",
    "    title_string = model_name + ' Trading Model for ' + ticker\n",
    "    fig = plt.figure(figsize=(16,9))\n",
    "    ylabel = ticker + ' price in $'\n",
    "    ax1 = fig.add_subplot(111, ylabel=ylabel, title=title_string)\n",
    "    graph_data['close_price'].plot(ax=ax1, color='g')\n",
    "    graph_data['window_high'].plot(ax=ax1, color='b')\n",
    "    graph_data['window_low'].plot(ax=ax1, color='r')\n",
    "    ax1.plot(graph_data.loc[graph_data['buy_on_open']].index, graph_data.close_price[graph_data['buy_on_open']], '^', markersize=7, color='b',label='Buy on Open')\n",
    "    ax1.plot(graph_data.loc[graph_data['sell_on_open']].index, graph_data.close_price[graph_data['sell_on_open']], 'v', markersize=7, color='b',label='Sell on Open')\n",
    "    ax1.plot(graph_data.loc[graph_data['short_on_open']].index, graph_data.close_price[graph_data['short_on_open']], '^', markersize=7, color='r',label='Short on Open')\n",
    "    ax1.plot(graph_data.loc[graph_data['cover_on_open']].index, graph_data.close_price[graph_data['cover_on_open']], 'v', markersize=7, color='r',label='Cover on Open')\n",
    "    plt.legend(loc='upper left')\n",
    "    plt.show()"
   ]
  },
  {
   "cell_type": "markdown",
   "metadata": {
    "colab_type": "text",
    "id": "wzTQaZkeTeld"
   },
   "source": [
    "## Task 4 - Back-test Models"
   ]
  },
  {
   "cell_type": "code",
   "execution_count": 24,
   "metadata": {
    "collapsed": false,
    "jupyter": {
     "outputs_hidden": false
    },
    "pycharm": {
     "name": "#%%\n"
    }
   },
   "outputs": [],
   "source": [
    "def generate_trading_portfolios(trade_model):\n",
    "    # Construct a portfolio to track the transactions and returns\n",
    "    portfolio = pd.DataFrame(index=trade_model.index, columns=['trade_action', 'price_executed', 'qty_transacted', 'cost_basis', 'gain_loss', 'qty_on_hand', 'cash_on_hand', 'position_value', 'total_position', 'accum_return'])\n",
    "    portfolio['trade_action'] = False\n",
    "    portfolio.at[portfolio.index[0],'price_executed'] = 0.00\n",
    "    portfolio.at[portfolio.index[0],'qty_transacted'] = 0\n",
    "    portfolio.at[portfolio.index[0],'cost_basis'] = 0.00\n",
    "    portfolio.at[portfolio.index[0],'gain_loss'] = 0.00\n",
    "    portfolio.at[portfolio.index[0],'qty_on_hand'] = 0\n",
    "    portfolio.at[portfolio.index[0],'cash_on_hand'] = INITIAL_CAPITAL\n",
    "    portfolio.at[portfolio.index[0],'position_value'] = 0.00\n",
    "    portfolio.at[portfolio.index[0],'total_position'] = INITIAL_CAPITAL\n",
    "    portfolio.at[portfolio.index[0],'accum_return'] = 0.00\n",
    "    quantity = 1\n",
    "\n",
    "    # The conditional parameters below determine how the trading strategy will be carried out\n",
    "    for i in range(1, len(portfolio)):\n",
    "        price_per_share = trade_model.at[trade_model.index[i],'open_price']\n",
    "        if trade_model.at[trade_model.index[i],'buy_on_open']:\n",
    "            # Code block for Buy on Open\n",
    "            portfolio.at[portfolio.index[i],'trade_action'] = True\n",
    "            portfolio.at[portfolio.index[i],'price_executed'] = price_per_share\n",
    "            portfolio.at[portfolio.index[i],'qty_transacted'] = quantity\n",
    "            recent_cost = price_per_share * -quantity\n",
    "            portfolio.at[portfolio.index[i],'cost_basis'] = recent_cost\n",
    "            portfolio.at[portfolio.index[i],'gain_loss'] = 0.00\n",
    "            portfolio.at[portfolio.index[i],'qty_on_hand'] = portfolio.iloc[i-1]['qty_on_hand'] + quantity\n",
    "            portfolio.at[portfolio.index[i],'cash_on_hand'] = portfolio.iloc[i-1]['cash_on_hand'] + recent_cost\n",
    "            if verbose_trade_actions: print('BOUGHT QTY:', quantity, 'on', portfolio.index[i].date(), 'at the price of', price_per_share)\n",
    "        elif trade_model.at[trade_model.index[i],'sell_on_open']:\n",
    "            # Code block for Sell on Open\n",
    "            portfolio.at[portfolio.index[i],'trade_action'] = True\n",
    "            portfolio.at[portfolio.index[i],'price_executed'] = price_per_share\n",
    "            portfolio.at[portfolio.index[i],'qty_transacted'] = -quantity\n",
    "            recent_cost = 0.00\n",
    "            portfolio.at[portfolio.index[i],'cost_basis'] = recent_cost\n",
    "            portfolio.at[portfolio.index[i],'gain_loss'] = (price_per_share * quantity) + portfolio.iloc[i-1]['cost_basis']\n",
    "            portfolio.at[portfolio.index[i],'qty_on_hand'] = portfolio.iloc[i-1]['qty_on_hand'] - quantity\n",
    "            portfolio.at[portfolio.index[i],'cash_on_hand'] = portfolio.iloc[i-1]['cash_on_hand'] + (price_per_share * quantity)\n",
    "            if verbose_trade_actions: print('SOLD QTY:', quantity, 'on', portfolio.index[i].date(), 'at the price of', price_per_share)\n",
    "        elif trade_model.at[trade_model.index[i],'short_on_open']:\n",
    "            # Code block for Short on Open\n",
    "            portfolio.at[portfolio.index[i],'trade_action'] = True\n",
    "            portfolio.at[portfolio.index[i],'price_executed'] = price_per_share\n",
    "            portfolio.at[portfolio.index[i],'qty_transacted'] = -quantity\n",
    "            recent_cost = price_per_share * quantity\n",
    "            portfolio.at[portfolio.index[i],'cost_basis'] = recent_cost\n",
    "            portfolio.at[portfolio.index[i],'gain_loss'] = 0.00\n",
    "            portfolio.at[portfolio.index[i],'qty_on_hand'] = portfolio.iloc[i-1]['qty_on_hand'] - quantity\n",
    "            portfolio.at[portfolio.index[i],'cash_on_hand'] = portfolio.iloc[i-1]['cash_on_hand'] + recent_cost\n",
    "            if verbose_trade_actions: print('SHORTED QTY:', -quantity, 'on', portfolio.index[i].date(), 'at the price of', trade_model.at[portfolio.index[i],'open_price'])\n",
    "        elif trade_model.at[trade_model.index[i],'cover_on_open']:\n",
    "            # Code block for Cover on Open\n",
    "            portfolio.at[portfolio.index[i],'trade_action'] = True\n",
    "            portfolio.at[portfolio.index[i],'price_executed'] = price_per_share\n",
    "            portfolio.at[portfolio.index[i],'qty_transacted'] = quantity\n",
    "            recent_cost = 0.00\n",
    "            portfolio.at[portfolio.index[i],'cost_basis'] = recent_cost\n",
    "            portfolio.at[portfolio.index[i],'gain_loss'] = portfolio.iloc[i-1]['cost_basis'] - (price_per_share * quantity)\n",
    "            portfolio.at[portfolio.index[i],'qty_on_hand'] = portfolio.iloc[i-1]['qty_on_hand'] + quantity\n",
    "            portfolio.at[portfolio.index[i],'cash_on_hand'] = portfolio.iloc[i-1]['cash_on_hand'] - (price_per_share * quantity)\n",
    "            if verbose_trade_actions: print('COVERED QTY:', quantity, 'on', portfolio.index[i].date(), 'at the price of', trade_model.at[portfolio.index[i],'open_price'])\n",
    "        else:\n",
    "            # Code block for no trade actions\n",
    "            portfolio.at[portfolio.index[i],'price_executed'] = 0.00\n",
    "            portfolio.at[portfolio.index[i],'qty_transacted'] = 0\n",
    "            portfolio.at[portfolio.index[i],'cost_basis'] = portfolio.iloc[i-1]['cost_basis']\n",
    "            portfolio.at[portfolio.index[i],'gain_loss'] = 0.00\n",
    "            portfolio.at[portfolio.index[i],'qty_on_hand'] = portfolio.iloc[i-1]['qty_on_hand']\n",
    "            portfolio.at[portfolio.index[i],'cash_on_hand'] = portfolio.iloc[i-1]['cash_on_hand']\n",
    "        portfolio.at[portfolio.index[i],'position_value'] = trade_model.at[trade_model.index[i],'close_price'] * portfolio.at[portfolio.index[i],'qty_on_hand']\n",
    "        portfolio.at[portfolio.index[i],'total_position'] = portfolio.at[portfolio.index[i],'cash_on_hand'] + portfolio.at[portfolio.index[i],'position_value']\n",
    "        portfolio.at[portfolio.index[i],'accum_return'] = portfolio.at[portfolio.index[i],'total_position'] - INITIAL_CAPITAL\n",
    "\n",
    "    if verbose_portfolios: print('\\n', portfolio, '\\n')\n",
    "    return portfolio"
   ]
  },
  {
   "cell_type": "code",
   "execution_count": 25,
   "metadata": {
    "colab": {
     "base_uri": "https://localhost:8080/",
     "height": 1000
    },
    "colab_type": "code",
    "collapsed": false,
    "id": "mOsqVrfRTelw",
    "jupyter": {
     "outputs_hidden": false
    },
    "outputId": "17950f55-4566-48b2-dde6-0974c6e45966",
    "pycharm": {
     "name": "#%%\n"
    }
   },
   "outputs": [],
   "source": [
    "def calculate_positions_performance(trade_model):\n",
    "    trade_positions = generate_trading_portfolios(trade_model)\n",
    "    trade_transactions = trade_positions[trade_positions['trade_action']]\n",
    "    if verbose_transactions: print(trade_transactions)\n",
    "    if trade_transactions.at[trade_transactions.index[-1],'trade_action']:\n",
    "        if trade_transactions.at[trade_transactions.index[-1],'qty_on_hand'] == 0:\n",
    "            print('The current status of the model is:','Waiting to enter a position since',trade_transactions.index.tolist()[-1].date(),'\\n')\n",
    "        elif trade_transactions.at[trade_transactions.index[-1],'qty_on_hand'] > 0:\n",
    "            print('The current status of the model is:','Holding a long position since',trade_transactions.index.tolist()[-1].date(),'\\n')\n",
    "        else:\n",
    "            print('The current status of the model is:','Holding a short position since',trade_transactions.index.tolist()[-1].date(),'\\n')\n",
    "    return trade_positions"
   ]
  },
  {
   "cell_type": "markdown",
   "metadata": {
    "pycharm": {
     "name": "#%% md\n"
    }
   },
   "source": [
    "## Task 5 - Evaluate Strategy Performance"
   ]
  },
  {
   "cell_type": "code",
   "execution_count": 26,
   "metadata": {
    "collapsed": false,
    "jupyter": {
     "outputs_hidden": false
    },
    "pycharm": {
     "name": "#%%\n"
    }
   },
   "outputs": [],
   "source": [
    "def evaluate_strategy_performance(ticker=stock_list[0]):\n",
    "    model1_signals = stock_signals_positions[ticker+'model1_signals']\n",
    "    if verbose_entry_exit:\n",
    "        print('List the entry and exit points for model #1...')\n",
    "        list_model_entry_exit(model1_signals)\n",
    "    print('\\nCalculating the positions for model #1...')\n",
    "    model1_positions = calculate_positions_performance(model1_signals)\n",
    "\n",
    "    model2_signals = stock_signals_positions[ticker+'model2_signals']\n",
    "    if verbose_entry_exit:\n",
    "        print('List the entry and exit points for model #2...')\n",
    "        list_model_entry_exit(model2_signals)\n",
    "    print('\\nCalculating the positions for model #2...')\n",
    "    model2_positions = calculate_positions_performance(model2_signals)\n",
    "\n",
    "    print('Processing the transactions for model #1...')\n",
    "    print('Accumulated profit/loss for one share of stock with initial capital of $%.2f at the end of modeling period: $%.2f' % (INITIAL_CAPITAL, model1_positions.accum_return[-1]))\n",
    "    model1_return_pct = model1_positions.accum_return[-1] / INITIAL_CAPITAL * 100\n",
    "    print('Accumulated return percentage based on the initial capital investment: %.2f%%\\n' % model1_return_pct)\n",
    "\n",
    "    print('Processing the transactions for model #2...')\n",
    "    print('Accumulated profit/loss for one share of stock with initial capital of $%.2f at the end of modeling period: $%.2f' % (INITIAL_CAPITAL, model2_positions.accum_return[-1]))\n",
    "    model2_return_pct = model2_positions.accum_return[-1] / INITIAL_CAPITAL * 100\n",
    "    print('Accumulated return percentage based on the initial capital investment: %.2f%%' % model2_return_pct)\n",
    "\n",
    "    # Calculate the stock's performance for a buy-and-hold model\n",
    "    buy_hold_model = stock_model_template[MODEL_START_DATE:MODEL_END_DATE]\n",
    "    print()\n",
    "    print('The entry point for the buy-and-hold model: $%.2f on %s' % (buy_hold_model.iloc[0]['open_price'], buy_hold_model.index[0].date()))\n",
    "    print('The exit point for the buy-and-hold model: $%.2f on %s' % (buy_hold_model.iloc[-1]['open_price'], buy_hold_model.index[-1].date()))\n",
    "    buy_hold_return = buy_hold_model.iloc[-1]['open_price'] - buy_hold_model.iloc[0]['open_price']\n",
    "    print('The performance of the buy-and-hold model: $%.2f' % buy_hold_return)\n",
    "    buyhold_return_pct = buy_hold_return / INITIAL_CAPITAL * 100\n",
    "    print('Accumulated return percentage based on the initial capital investment: %.2f%%\\n' % buyhold_return_pct)\n",
    "\n",
    "    model_performance = {'Symbol': ticker,\n",
    "                         'Model1_Return_VAL': model1_positions.accum_return[-1],\n",
    "                         'Model1_Return_PCT': model1_return_pct,\n",
    "                         'Model2_Return_VAL': model2_positions.accum_return[-1],\n",
    "                         'Model2_Return_PCT': model2_return_pct,\n",
    "                         'Buy_Hold_Return': buy_hold_return,\n",
    "                         'BH_Return_PCT': buyhold_return_pct}\n",
    "\n",
    "    if verbose_draw_graphs: draw_model_graph(model1_signals, ticker, 'Trend-Following without RSI')\n",
    "    if verbose_draw_graphs: draw_model_graph(model2_signals, ticker, 'Trend-Following using RSI Exit')\n",
    "\n",
    "    return model_performance"
   ]
  },
  {
   "cell_type": "code",
   "execution_count": 27,
   "metadata": {
    "collapsed": false,
    "jupyter": {
     "outputs_hidden": false
    },
    "pycharm": {
     "name": "#%%\n"
    }
   },
   "outputs": [],
   "source": [
    "# Initialize a dataframe for storing the model's profit and loss\n",
    "performance_summary = pd.DataFrame(columns=['Symbol','Model1_Return_VAL','Model1_Return_PCT',\n",
    "                                            'Model2_Return_VAL','Model2_Return_PCT',\n",
    "                                            'Buy_Hold_Return','BH_Return_PCT'])"
   ]
  },
  {
   "cell_type": "code",
   "execution_count": 28,
   "metadata": {
    "collapsed": false,
    "jupyter": {
     "outputs_hidden": false
    },
    "pycharm": {
     "name": "#%%\n"
    }
   },
   "outputs": [
    {
     "name": "stdout",
     "output_type": "stream",
     "text": [
      "1413 data points retrieved from the API call for stock: AAPL\n",
      "\n",
      "Generating the trading signals for model #1...\n",
      "\n",
      "Generating the trading signals for model #2...\n",
      "\n",
      "Calculating the positions for model #1...\n",
      "            trade_action price_executed qty_transacted cost_basis gain_loss qty_on_hand cash_on_hand position_value total_position accum_return\n",
      "date                                                                                                                                           \n",
      "2016-01-25          True          25.38              1     -25.38         0           1        0.272         22.956         23.228       -2.424\n",
      "2016-01-28          True         23.448             -1          0    -1.932           0        23.72              0          23.72       -1.932\n",
      "2016-02-17          True         24.168              1    -24.168         0           1       -0.448         22.773         22.325       -3.327\n",
      "2016-02-24          True         23.495             -1          0    -0.673           0       23.047              0         23.047       -2.605\n",
      "2016-03-02          True         25.128              1    -25.128         0           1       -2.081         23.384         21.303       -4.349\n",
      "2016-04-11          True         27.242             -1          0     2.114           0       25.161              0         25.161       -0.491\n",
      "2016-04-14          True         27.905              1    -27.905         0           1       -2.744         26.018         23.274       -2.378\n",
      "2016-04-18          True         27.223             -1          0    -0.682           0       24.479              0         24.479       -1.173\n",
      "2016-05-27          True          24.86              1     -24.86         0           1       -0.381         23.433         23.052         -2.6\n",
      "2016-06-06          True         24.497             -1          0    -0.363           0       24.116              0         24.116       -1.536\n",
      "2016-07-15          True          24.73              1     -24.73         0           1       -0.614         23.066         22.452         -3.2\n",
      "2016-07-26          True         24.205             -1          0    -0.525           0       23.591              0         23.591       -2.061\n",
      "2016-07-28          True         25.707              1    -25.707         0           1       -2.116         24.365         22.249       -3.403\n",
      "2016-08-23          True         27.148             -1          0     1.441           0       25.032              0         25.032        -0.62\n",
      "2016-09-15          True         28.465              1    -28.465         0           1       -3.433         27.132         23.699       -1.953\n",
      "2016-09-28          True         28.422             -1          0    -0.043           0       24.989              0         24.989       -0.663\n",
      "2016-10-11          True         29.425              1    -29.425         0           1       -4.436         27.304         22.868       -2.784\n",
      "2016-10-24          True         29.275             -1          0     -0.15           0       24.839              0         24.839       -0.813\n",
      "2016-10-26          True         28.578              1    -28.578         0           1       -3.739         27.137         23.398       -2.254\n",
      "2016-10-27          True         28.848             -1          0      0.27           0       25.109              0         25.109       -0.543\n",
      "2016-12-12          True         28.323              1    -28.323         0           1       -3.214         26.738         23.524       -2.128\n",
      "2017-01-03          True          28.95             -1          0     0.627           0       25.736              0         25.736        0.084\n",
      "2017-01-09          True         29.488              1    -29.488         0           1       -3.752          28.08         24.328       -1.324\n",
      "2017-03-15          True         34.852             -1          0     5.364           0         31.1              0           31.1        5.448\n",
      "2017-03-16          True          35.18              1     -35.18         0           1        -4.08         33.344         29.264        3.612\n",
      "2017-04-11          True         35.735             -1          0     0.555           0       31.655              0         31.655        6.003\n",
      "2017-05-02          True         36.885              1    -36.885         0           1        -5.23         34.961         29.731        4.079\n",
      "2017-05-18          True         37.818             -1          0     0.933           0       32.588              0         32.588        6.936\n",
      "2017-06-05          True         38.585              1    -38.585         0           1       -5.997         36.631         30.634        4.982\n",
      "2017-06-12          True         36.435             -1          0     -2.15           0       30.438              0         30.438        4.786\n",
      "2017-07-14          True         36.992              1    -36.992         0           1       -6.554         35.468         28.914        3.262\n",
      "2017-07-28          True         37.472             -1          0      0.48           0       30.918              0         30.918        5.266\n",
      "2017-08-03          True         39.263              1    -39.263         0           1       -8.345         37.022         28.677        3.025\n",
      "2017-08-18          True         39.465             -1          0     0.202           0        31.12              0          31.12        5.468\n",
      "2017-08-30          True          40.95              1     -40.95         0           1        -9.83         39.031         29.201        3.549\n",
      "2017-09-08          True         40.215             -1          0    -0.735           0       30.385              0         30.385        4.733\n",
      "2017-10-17          True         39.945              1    -39.945         0           1        -9.56         38.343         28.783        3.131\n",
      "2017-10-20          True         39.153             -1          0    -0.792           0       29.593              0         29.593        3.941\n",
      "2017-10-30          True         40.972              1    -40.972         0           1      -11.379         39.836         28.457        2.805\n",
      "2017-11-15          True         42.492             -1          0      1.52           0       31.113              0         31.113        5.461\n",
      "2017-12-18          True          43.72              1     -43.72         0           1      -12.607         42.306         29.699        4.047\n",
      "2017-12-27          True         42.525             -1          0    -1.195           0       29.918              0         29.918        4.266\n",
      "2018-01-16          True         44.475              1    -44.475         0           1      -14.557         42.251         27.694        2.042\n",
      "2018-01-25          True         43.626             -1          0    -0.849           0       29.069              0         29.069        3.417\n",
      "2018-05-07          True         46.295              1    -46.295         0           1      -17.226         44.581         27.355        1.703\n",
      "2018-05-21          True             47             -1          0     0.705           0       29.774              0         29.774        4.122\n",
      "2018-06-04          True         47.909              1    -47.909         0           1      -18.135         46.365          28.23        2.578\n",
      "2018-06-14          True         47.888             -1          0    -0.021           0       29.753              0         29.753        4.101\n",
      "2018-07-13          True          47.77              1     -47.77         0           1      -18.017         46.244         28.227        2.575\n",
      "2018-07-30          True         47.975             -1          0     0.205           0       29.958              0         29.958        4.306\n",
      "2018-08-02          True         50.145              1    -50.145         0           1      -20.187         50.126         29.939        4.287\n",
      "2018-09-10          True         55.237             -1          0     5.092           0        35.05              0          35.05        9.398\n",
      "2019-01-28          True         38.947              1    -38.947         0           1       -3.897         38.043         34.146        8.494\n",
      "2019-02-19          True         42.428             -1          0     3.481           0       38.531              0         38.531       12.879\n",
      "2019-02-26          True         43.428              1    -43.428         0           1       -4.897         42.614         37.717       12.065\n",
      "2019-03-08          True          42.58             -1          0    -0.848           0       37.683              0         37.683       12.031\n",
      "2019-03-12          True             45              1        -45         0           1       -7.317         44.222         36.905       11.253\n",
      "2019-03-27          True         47.188             -1          0     2.188           0       39.871              0         39.871       14.219\n",
      "2019-04-18          True          50.78              1     -50.78         0           1      -10.909         49.832         38.923       13.271\n",
      "2019-05-01          True          52.47             -1          0      1.69           0       41.561              0         41.561       15.909\n",
      "2019-05-02          True          52.46              1     -52.46         0           1      -10.899         51.125         40.226       14.574\n",
      "2019-05-08          True         50.475             -1          0    -1.985           0       39.576              0         39.576       13.924\n",
      "2019-06-10          True         47.953              1    -47.953         0           1       -8.377         47.258         38.881       13.229\n",
      "2019-06-26          True         49.443             -1          0      1.49           0       41.066              0         41.066       15.414\n",
      "2019-06-27          True         50.072              1    -50.072         0           1       -9.006         49.015         40.009       14.357\n",
      "2019-07-09          True           49.8             -1          0    -0.272           0       40.794              0         40.794       15.142\n",
      "2019-07-19          True         51.447              1    -51.447         0           1      -10.653         49.715         39.062        13.41\n",
      "2019-07-22          True         50.913             -1          0    -0.534           0        40.26              0          40.26       14.608\n",
      "2019-07-23          True         52.115              1    -52.115         0           1      -11.855         51.249         39.394       13.742\n",
      "2019-08-05          True         49.498             -1          0    -2.617           0       37.643              0         37.643       11.991\n",
      "2019-09-10          True         53.465              1    -53.465         0           1      -15.822         53.381         37.559       11.907\n",
      "2019-09-23          True         54.737             -1          0     1.272           0       38.915              0         38.915       13.263\n",
      "2019-10-02          True         55.765              1    -55.765         0           1       -16.85         53.938         37.088       11.436\n",
      "2019-10-03          True         54.608             -1          0    -1.157           0       37.758              0         37.758       12.106\n",
      "2019-10-07          True         56.568              1    -56.568         0           1       -18.81         55.933         37.123       11.471\n",
      "2019-11-22          True         65.647             -1          0     9.079           0       46.837              0         46.837       21.185\n",
      "2019-12-09          True           67.5              1      -67.5         0           1      -20.663         65.947         45.284       19.632\n",
      "2020-01-28          True          78.15             -1          0     10.65           0       57.487              0         57.487       31.835\n",
      "2020-01-30          True         80.136              1    -80.136         0           1      -22.649         80.018         57.369       31.717\n",
      "2020-02-03          True         76.075             -1          0    -4.061           0       53.426              0         53.426       27.774\n",
      "2020-04-15          True           70.6              1      -70.6         0           1      -17.174         70.443         53.269       27.617\n",
      "2020-04-22          True         68.403             -1          0    -2.197           0       51.229              0         51.229       25.577\n",
      "2020-05-01          True         71.562              1    -71.562         0           1      -20.333         71.592         51.259       25.607\n",
      "2020-06-29          True         88.312             -1          0     16.75           0       67.979              0         67.979       42.327\n",
      "2020-07-15          True          98.99              1     -98.99         0           1      -31.011         97.067         66.056       40.404\n",
      "2020-07-24          True         90.987             -1          0    -8.003           0       59.976              0         59.976       34.324\n",
      "2020-08-03          True          108.2              1     -108.2         0           1      -48.224        108.204          59.98       34.328\n",
      "2020-09-04          True         120.07             -1          0     11.87           0       71.846              0         71.846       46.194\n",
      "2020-10-13          True         125.27              1    -125.27         0           1      -53.424        120.507         67.083       41.431\n",
      "2020-10-20          True          116.2             -1          0     -9.07           0       62.776              0         62.776       37.124\n",
      "2020-12-02          True         122.02              1    -122.02         0           1      -59.244        122.688         63.444       37.792\n",
      "2020-12-15          True         124.34             -1          0      2.32           0       65.096              0         65.096       39.444\n",
      "2020-12-16          True         127.41              1    -127.41         0           1      -62.314        127.403         65.089       39.437\n",
      "2021-01-05          True         128.89             -1          0      1.48           0       66.576              0         66.576       40.924\n",
      "2021-01-22          True         136.28              1    -136.28         0           1      -69.704        138.628         68.924       43.272\n",
      "2021-02-01          True         133.75             -1          0     -2.53           0       64.046              0         64.046       38.394\n",
      "2021-04-12          True         132.52              1    -132.52         0           1      -68.474        131.019         62.545       36.893\n",
      "2021-04-23          True         132.16             -1          0     -0.36           0       63.686              0         63.686       38.034\n",
      "2021-06-15          True         129.94              1    -129.94         0           1      -66.254         129.64         63.386       37.734\n",
      "2021-07-20          True         143.46             -1          0     13.52           0       77.206              0         77.206       51.554\n",
      "The current status of the model is: Waiting to enter a position since 2021-07-20 \n",
      "\n",
      "\n",
      "Calculating the positions for model #2...\n",
      "            trade_action price_executed qty_transacted cost_basis gain_loss qty_on_hand cash_on_hand position_value total_position accum_return\n",
      "date                                                                                                                                           \n",
      "2016-01-25          True          25.38              1     -25.38         0           1        0.272         22.956         23.228       -2.424\n",
      "2016-01-26          True         24.983             -1          0    -0.397           0       25.255              0         25.255       -0.397\n",
      "2016-02-17          True         24.168              1    -24.168         0           1        1.087         22.773          23.86       -1.792\n",
      "2016-02-22          True         24.078             -1          0     -0.09           0       25.165              0         25.165       -0.487\n",
      "2016-03-02          True         25.128              1    -25.128         0           1        0.037         23.384         23.421       -2.231\n",
      "2016-04-19          True          26.97             -1          0     1.842           0       27.007              0         27.007        1.355\n",
      "2016-05-27          True          24.86              1     -24.86         0           1        2.147         23.433          25.58       -0.072\n",
      "2016-06-15          True         24.455             -1          0    -0.405           0       26.602              0         26.602         0.95\n",
      "2016-07-15          True          24.73              1     -24.73         0           1        1.872         23.066         24.938       -0.714\n",
      "2016-08-29          True         26.655             -1          0     1.925           0       28.527              0         28.527        2.875\n",
      "2016-09-15          True         28.465              1    -28.465         0           1        0.062         27.132         27.194        1.542\n",
      "2016-10-06          True         28.425             -1          0     -0.04           0       28.487              0         28.487        2.835\n",
      "2016-10-11          True         29.425              1    -29.425         0           1       -0.938         27.304         26.366        0.714\n",
      "2016-10-31          True         28.413             -1          0    -1.012           0       27.475              0         27.475        1.823\n",
      "2016-12-12          True         28.323              1    -28.323         0           1       -0.848         26.738          25.89        0.238\n",
      "2017-04-19          True          35.47             -1          0     7.147           0       34.622              0         34.622         8.97\n",
      "2017-05-02          True         36.885              1    -36.885         0           1       -2.263         34.961         32.698        7.046\n",
      "2017-06-02          True         38.395             -1          0      1.51           0       36.132              0         36.132        10.48\n",
      "2017-06-05          True         38.585              1    -38.585         0           1       -2.453         36.631         34.178        8.526\n",
      "2017-06-06          True         38.475             -1          0     -0.11           0       36.022              0         36.022        10.37\n",
      "2017-07-14          True         36.992              1    -36.992         0           1        -0.97         35.468         34.498        8.846\n",
      "2017-09-14          True         39.748             -1          0     2.756           0       38.778              0         38.778       13.126\n",
      "2017-10-17          True         39.945              1    -39.945         0           1       -1.167         38.343         37.176       11.524\n",
      "2017-11-29          True         43.157             -1          0     3.212           0        41.99              0          41.99       16.338\n",
      "2017-12-18          True          43.72              1     -43.72         0           1        -1.73         42.306         40.576       14.924\n",
      "2018-01-02          True          42.54             -1          0     -1.18           0        40.81              0          40.81       15.158\n",
      "2018-01-16          True         44.475              1    -44.475         0           1       -3.665         42.251         38.586       12.934\n",
      "2018-01-26          True             43             -1          0    -1.475           0       39.335              0         39.335       13.683\n",
      "2018-05-07          True         46.295              1    -46.295         0           1        -6.96         44.581         37.621       11.969\n",
      "2018-06-01          True         46.998             -1          0     0.703           0       40.038              0         40.038       14.386\n",
      "2018-06-04          True         47.909              1    -47.909         0           1       -7.871         46.365         38.494       12.842\n",
      "2018-06-20          True         46.587             -1          0    -1.322           0       38.716              0         38.716       13.064\n",
      "2018-07-13          True          47.77              1     -47.77         0           1       -9.054         46.244          37.19       11.538\n",
      "2018-07-31          True         47.575             -1          0    -0.195           0       38.521              0         38.521       12.869\n",
      "2018-08-02          True         50.145              1    -50.145         0           1      -11.624         50.126         38.502        12.85\n",
      "2018-09-18          True         54.447             -1          0     4.302           0       42.823              0         42.823       17.171\n",
      "2019-01-28          True         38.947              1    -38.947         0           1        3.876         38.043         41.919       16.267\n",
      "2019-05-09          True           50.1             -1          0    11.153           0       53.976              0         53.976       28.324\n",
      "2019-06-10          True         47.953              1    -47.953         0           1        6.023         47.258         53.281       27.629\n",
      "2019-08-05          True         49.498             -1          0     1.545           0       55.521              0         55.521       29.869\n",
      "2019-09-10          True         53.465              1    -53.465         0           1        2.056         53.381         55.437       29.785\n",
      "2019-10-03          True         54.608             -1          0     1.143           0       56.664              0         56.664       31.012\n",
      "2019-10-07          True         56.568              1    -56.568         0           1        0.096         55.933         56.029       30.377\n",
      "2019-12-04          True         65.267             -1          0     8.699           0       65.363              0         65.363       39.711\n",
      "2019-12-09          True           67.5              1      -67.5         0           1       -2.137         65.947          63.81       38.158\n",
      "2019-12-10          True          67.15             -1          0     -0.35           0       65.013              0         65.013       39.361\n",
      "2019-12-13          True         67.865              1    -67.865         0           1       -2.852         67.981         65.129       39.477\n",
      "2020-02-03          True         76.075             -1          0      8.21           0       73.223              0         73.223       47.571\n",
      "2020-04-15          True           70.6              1      -70.6         0           1        2.623         70.443         73.066       47.414\n",
      "2020-07-27          True          93.71             -1          0     23.11           0       96.333              0         96.333       70.681\n",
      "2020-08-03          True          108.2              1     -108.2         0           1      -11.867        108.204         96.337       70.685\n",
      "2020-09-09          True         117.26             -1          0      9.06           0      105.393              0        105.393       79.741\n",
      "2020-10-13          True         125.27              1    -125.27         0           1      -19.877        120.507         100.63       74.978\n",
      "2020-10-26          True         114.01             -1          0    -11.26           0       94.133              0         94.133       68.481\n",
      "2020-12-02          True         122.02              1    -122.02         0           1      -27.887        122.688         94.801       69.149\n",
      "2021-01-07          True         128.36             -1          0      6.34           0      100.473              0        100.473       74.821\n",
      "2021-01-22          True         136.28              1    -136.28         0           1      -35.807        138.628        102.821       77.169\n",
      "2021-02-01          True         133.75             -1          0     -2.53           0       97.943              0         97.943       72.291\n",
      "2021-04-12          True         132.52              1    -132.52         0           1      -34.577        131.019         96.442        70.79\n",
      "2021-05-04          True         131.19             -1          0     -1.33           0       96.613              0         96.613       70.961\n",
      "2021-06-15          True         129.94              1    -129.94         0           1      -33.327         129.64         96.313       70.661\n",
      "The current status of the model is: Holding a long position since 2021-06-15 \n",
      "\n",
      "Processing the transactions for model #1...\n",
      "Accumulated profit/loss for one share of stock with initial capital of $25.65 at the end of modeling period: $51.55\n",
      "Accumulated return percentage based on the initial capital investment: 200.97%\n",
      "\n",
      "Processing the transactions for model #2...\n",
      "Accumulated profit/loss for one share of stock with initial capital of $25.65 at the end of modeling period: $90.01\n",
      "Accumulated return percentage based on the initial capital investment: 350.89%\n",
      "\n",
      "The entry point for the buy-and-hold model: $25.65 on 2016-01-04\n",
      "The exit point for the buy-and-hold model: $148.27 on 2021-07-26\n",
      "The performance of the buy-and-hold model: $122.62\n",
      "Accumulated return percentage based on the initial capital investment: 478.01%\n",
      "\n"
     ]
    },
    {
     "data": {
      "image/png": "[encoded data removed]",
      "text/plain": [
       "<Figure size 1152x648 with 1 Axes>"
      ]
     },
     "metadata": {
      "needs_background": "light"
     },
     "output_type": "display_data"
    },
    {
     "data": {
      "image/png": "[encoded data removed]",
      "text/plain": [
       "<Figure size 1152x648 with 1 Axes>"
      ]
     },
     "metadata": {
      "needs_background": "light"
     },
     "output_type": "display_data"
    }
   ],
   "source": [
    "for symbol in stock_list:\n",
    "    stock_signals_positions = {}\n",
    "    stock_model_template = retrieve_stock_data(symbol)\n",
    "\n",
    "    print('\\nGenerating the trading signals for model #1...')\n",
    "    tag_name = symbol + 'model1_signals'\n",
    "    stock_signals_positions[tag_name] = populate_signals_model1(stock_model_template)\n",
    "\n",
    "    print('\\nGenerating the trading signals for model #2...')\n",
    "    tag_name = symbol + 'model2_signals'\n",
    "    stock_signals_positions[tag_name] = populate_signals_model2(stock_model_template)\n",
    "\n",
    "    INITIAL_CAPITAL = stock_signals_positions[tag_name].at[stock_signals_positions[tag_name].index[0],'open_price']\n",
    "    performance_values = evaluate_strategy_performance(symbol)\n",
    "    performance_summary = performance_summary.append(performance_values, ignore_index=True)"
   ]
  },
  {
   "cell_type": "code",
   "execution_count": 29,
   "metadata": {
    "collapsed": false,
    "jupyter": {
     "outputs_hidden": false
    },
    "pycharm": {
     "name": "#%%\n"
    }
   },
   "outputs": [
    {
     "name": "stdout",
     "output_type": "stream",
     "text": [
      "  Symbol  Model1_Return_VAL  Model1_Return_PCT  Model2_Return_VAL  Model2_Return_PCT  Buy_Hold_Return  BH_Return_PCT\n",
      "0   AAPL             51.554         200.974583             90.011         350.892718          122.618     478.005614\n"
     ]
    }
   ],
   "source": [
    "print(performance_summary)"
   ]
  },
  {
   "cell_type": "code",
   "execution_count": 30,
   "metadata": {
    "collapsed": false,
    "jupyter": {
     "outputs_hidden": false
    },
    "pycharm": {
     "name": "#%%\n"
    }
   },
   "outputs": [
    {
     "name": "stdout",
     "output_type": "stream",
     "text": [
      "Total time for the script: 0:00:13.401831\n"
     ]
    }
   ],
   "source": [
    "print ('Total time for the script:',(datetime.now() - startTimeScript))"
   ]
  }
 ],
 "metadata": {
  "colab": {
   "collapsed_sections": [],
   "name": "py_algotrading_ema_crossover_grid_search.ipynb",
   "provenance": []
  },
  "kernelspec": {
   "display_name": "Python 3",
   "language": "python",
   "name": "python3"
  },
  "language_info": {
   "codemirror_mode": {
    "name": "ipython",
    "version": 3
   },
   "file_extension": ".py",
   "mimetype": "text/x-python",
   "name": "python",
   "nbconvert_exporter": "python",
   "pygments_lexer": "ipython3",
   "version": "3.8.5"
  }
 },
 "nbformat": 4,
 "nbformat_minor": 4
}
