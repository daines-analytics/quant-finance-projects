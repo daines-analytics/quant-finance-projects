{
 "cells": [
  {
   "cell_type": "markdown",
   "metadata": {
    "colab_type": "text",
    "id": "QjCdVPMyVdA9"
   },
   "source": [
    "# Algorithmic Trading Model with Dual Moving Average Crossover Using Python Take 2\n",
    "### David Lowe\n",
    "### April 3, 2020\n",
    "\n",
    "Code Credit: Adapted from code samples used in O'Reilly Media's Learning Path: Hands-On Algorithmic Trading with Python by Deepak Kanungo. [https://learning.oreilly.com/learning-paths/learning-path-hands-on/9781492082613/]\n",
    "\n",
    "SUMMARY: The purpose of this project is to construct an algorithmic trading model and document the end-to-end steps using a template.\n",
    "\n",
    "INTRODUCTION: This algorithmic trading model uses the 20-day and 50-day moving averages to generate trading signals. We apply the analysis on the MSFT stock for the three years of 2017-01-01 thru 2019-12-31.\n",
    "\n",
    "In iteration Take1, we constructed the code modules to cover the tasks of downloading the daily price information for a stock symbol.\n",
    "\n",
    "In this Take2 iteration, we will develop a trading model by constructing the coding segments to process the stock pricing data and generate trading signals. We will use the trading signals to \"backtest\" the trading model in another iteration of the modeling.\n",
    "\n",
    "ANALYSIS: Not available yet. To be developed further.\n",
    "\n",
    "CONCLUSION: Not available yet. To be developed further.\n",
    "\n",
    "Dataset ML Model: Time series forecast with numerical attributes\n",
    "\n",
    "Dataset Used: Various sources as illustrated below.\n",
    "\n",
    "Dataset Reference: Various sources as documented below.\n",
    "\n",
    "An algorithmic trading modeling project generally can be broken down into about five major tasks:\n",
    "\n",
    "1. Prepare Environment\n",
    "2. Acquire and Pre-Process Data\n",
    "3. Develop Strategy and Fit Models\n",
    "4. Backtest Models\n",
    "5. Evaluate Performance"
   ]
  },
  {
   "cell_type": "markdown",
   "metadata": {},
   "source": [
    "## Task 1. Prepare Environment"
   ]
  },
  {
   "cell_type": "code",
   "execution_count": 1,
   "metadata": {},
   "outputs": [],
   "source": [
    "# Create the random seed number for reproducible results\n",
    "seedNum = 888"
   ]
  },
  {
   "cell_type": "code",
   "execution_count": 2,
   "metadata": {
    "colab": {},
    "colab_type": "code",
    "id": "FZszqJgtph9m"
   },
   "outputs": [
    {
     "name": "stderr",
     "output_type": "stream",
     "text": [
      "/opt/conda/lib/python3.7/site-packages/pandas_datareader/compat/__init__.py:7: FutureWarning: pandas.util.testing is deprecated. Use the functions in the public API at pandas.testing instead.\n",
      "  from pandas.util.testing import assert_frame_equal\n"
     ]
    }
   ],
   "source": [
    "import os\n",
    "import numpy as np\n",
    "import pandas as pd\n",
    "import pandas_datareader.data as pdr\n",
    "import json\n",
    "import requests\n",
    "from email.message import EmailMessage\n",
    "import matplotlib.pyplot as plt\n",
    "plt.style.use('seaborn')\n",
    "from datetime import datetime, timedelta"
   ]
  },
  {
   "cell_type": "code",
   "execution_count": 3,
   "metadata": {},
   "outputs": [],
   "source": [
    "# Define the function for sending the status notification emails\n",
    "def email_notify(msg_text):\n",
    "    sender = os.environ.get('MAIL_SENDER')\n",
    "    receiver = os.environ.get('MAIL_RECEIVER')\n",
    "    gateway = os.environ.get('SMTP_GATEWAY')\n",
    "    smtpuser = os.environ.get('SMTP_USERNAME')\n",
    "    password = os.environ.get('SMTP_PASSWORD')\n",
    "    if sender==None or receiver==None or gateway==None or smtpuser==None or password==None:\n",
    "        sys.exit(\"Incomplete email setup info. Script Processing Aborted!!!\")\n",
    "    msg = EmailMessage()\n",
    "    msg.set_content(msg_text)\n",
    "    msg['Subject'] = 'Notification from Algorithmic Trading Modeling Script'\n",
    "    msg['From'] = sender\n",
    "    msg['To'] = receiver\n",
    "    server = smtplib.SMTP(gateway, 587)\n",
    "    server.starttls()\n",
    "    server.login(smtpuser, password)\n",
    "    server.send_message(msg)\n",
    "    server.quit()"
   ]
  },
  {
   "cell_type": "code",
   "execution_count": 4,
   "metadata": {},
   "outputs": [],
   "source": [
    "# Begin the timer for the script processing\n",
    "startTimeScript = datetime.now()\n",
    "\n",
    "# Set up the verbose flag to print detailed messages for debugging (setting True will activate!)\n",
    "verbose = False\n",
    "\n",
    "# Set up the sendNotification flag to send progress emails (setting True will send emails!)\n",
    "notifyStatus = False"
   ]
  },
  {
   "cell_type": "code",
   "execution_count": 5,
   "metadata": {},
   "outputs": [],
   "source": [
    "if notifyStatus: email_notify(\"Task 1. Prepare Environment has begun! \"+datetime.now().strftime('%a %B %d, %Y %I:%M:%S %p'))"
   ]
  },
  {
   "cell_type": "code",
   "execution_count": 6,
   "metadata": {},
   "outputs": [
    {
     "name": "stdout",
     "output_type": "stream",
     "text": [
      "Starting date: 2017-01-01 00:00:00\n",
      "Ending date: 2019-12-31 00:00:00\n"
     ]
    }
   ],
   "source": [
    "start_date = datetime(2017, 1, 1)\n",
    "print(\"Starting date:\", start_date)\n",
    "# end_date = datetime.now()\n",
    "end_date = datetime(2019, 12, 31)\n",
    "print(\"Ending date:\", end_date)\n",
    "stock_symbol = 'MSFT'"
   ]
  },
  {
   "cell_type": "code",
   "execution_count": 7,
   "metadata": {},
   "outputs": [],
   "source": [
    "if notifyStatus: email_notify(\"Task 1. Prepare Environment completed! \"+datetime.now().strftime('%a %B %d, %Y %I:%M:%S %p'))"
   ]
  },
  {
   "cell_type": "markdown",
   "metadata": {},
   "source": [
    "## Task 2. Acquire and Pre-Process Data"
   ]
  },
  {
   "cell_type": "code",
   "execution_count": 8,
   "metadata": {},
   "outputs": [],
   "source": [
    "if notifyStatus: email_notify(\"Task 2. Acquire and Pre-Process Data has begun! \"+datetime.now().strftime('%a %B %d, %Y %I:%M:%S %p'))"
   ]
  },
  {
   "cell_type": "markdown",
   "metadata": {
    "colab_type": "text",
    "id": "eRFlhLenGqOn"
   },
   "source": [
    "### 2.a) Federal Reserve Economic Data (FRED)"
   ]
  },
  {
   "cell_type": "code",
   "execution_count": 9,
   "metadata": {
    "colab": {
     "base_uri": "https://localhost:8080/",
     "height": 360
    },
    "colab_type": "code",
    "id": "CX3Vzj16SCqh",
    "outputId": "65c20c1a-fd8a-4397-fb5b-af9f7b02a87a"
   },
   "outputs": [
    {
     "name": "stdout",
     "output_type": "stream",
     "text": [
      "782 data points retrieved from the API call.\n"
     ]
    }
   ],
   "source": [
    "fred_data = 'DGS10'\n",
    "fred_series = pdr.DataReader(fred_data, 'fred', start_date, end_date)\n",
    "print(len(fred_series), 'data points retrieved from the API call.')"
   ]
  },
  {
   "cell_type": "code",
   "execution_count": 10,
   "metadata": {},
   "outputs": [
    {
     "data": {
      "text/html": [
       "<div>\n",
       "<style scoped>\n",
       "    .dataframe tbody tr th:only-of-type {\n",
       "        vertical-align: middle;\n",
       "    }\n",
       "\n",
       "    .dataframe tbody tr th {\n",
       "        vertical-align: top;\n",
       "    }\n",
       "\n",
       "    .dataframe thead th {\n",
       "        text-align: right;\n",
       "    }\n",
       "</style>\n",
       "<table border=\"1\" class=\"dataframe\">\n",
       "  <thead>\n",
       "    <tr style=\"text-align: right;\">\n",
       "      <th></th>\n",
       "      <th>DGS10</th>\n",
       "    </tr>\n",
       "    <tr>\n",
       "      <th>DATE</th>\n",
       "      <th></th>\n",
       "    </tr>\n",
       "  </thead>\n",
       "  <tbody>\n",
       "    <tr>\n",
       "      <th>2017-01-02</th>\n",
       "      <td>NaN</td>\n",
       "    </tr>\n",
       "    <tr>\n",
       "      <th>2017-01-03</th>\n",
       "      <td>2.45</td>\n",
       "    </tr>\n",
       "    <tr>\n",
       "      <th>2017-01-04</th>\n",
       "      <td>2.46</td>\n",
       "    </tr>\n",
       "    <tr>\n",
       "      <th>2017-01-05</th>\n",
       "      <td>2.37</td>\n",
       "    </tr>\n",
       "    <tr>\n",
       "      <th>2017-01-06</th>\n",
       "      <td>2.42</td>\n",
       "    </tr>\n",
       "  </tbody>\n",
       "</table>\n",
       "</div>"
      ],
      "text/plain": [
       "            DGS10\n",
       "DATE             \n",
       "2017-01-02    NaN\n",
       "2017-01-03   2.45\n",
       "2017-01-04   2.46\n",
       "2017-01-05   2.37\n",
       "2017-01-06   2.42"
      ]
     },
     "execution_count": 10,
     "metadata": {},
     "output_type": "execute_result"
    }
   ],
   "source": [
    "fred_series.head()"
   ]
  },
  {
   "cell_type": "code",
   "execution_count": 11,
   "metadata": {},
   "outputs": [
    {
     "data": {
      "text/html": [
       "<div>\n",
       "<style scoped>\n",
       "    .dataframe tbody tr th:only-of-type {\n",
       "        vertical-align: middle;\n",
       "    }\n",
       "\n",
       "    .dataframe tbody tr th {\n",
       "        vertical-align: top;\n",
       "    }\n",
       "\n",
       "    .dataframe thead th {\n",
       "        text-align: right;\n",
       "    }\n",
       "</style>\n",
       "<table border=\"1\" class=\"dataframe\">\n",
       "  <thead>\n",
       "    <tr style=\"text-align: right;\">\n",
       "      <th></th>\n",
       "      <th>DGS10</th>\n",
       "    </tr>\n",
       "    <tr>\n",
       "      <th>DATE</th>\n",
       "      <th></th>\n",
       "    </tr>\n",
       "  </thead>\n",
       "  <tbody>\n",
       "    <tr>\n",
       "      <th>2019-12-25</th>\n",
       "      <td>NaN</td>\n",
       "    </tr>\n",
       "    <tr>\n",
       "      <th>2019-12-26</th>\n",
       "      <td>1.90</td>\n",
       "    </tr>\n",
       "    <tr>\n",
       "      <th>2019-12-27</th>\n",
       "      <td>1.88</td>\n",
       "    </tr>\n",
       "    <tr>\n",
       "      <th>2019-12-30</th>\n",
       "      <td>1.90</td>\n",
       "    </tr>\n",
       "    <tr>\n",
       "      <th>2019-12-31</th>\n",
       "      <td>1.92</td>\n",
       "    </tr>\n",
       "  </tbody>\n",
       "</table>\n",
       "</div>"
      ],
      "text/plain": [
       "            DGS10\n",
       "DATE             \n",
       "2019-12-25    NaN\n",
       "2019-12-26   1.90\n",
       "2019-12-27   1.88\n",
       "2019-12-30   1.90\n",
       "2019-12-31   1.92"
      ]
     },
     "execution_count": 11,
     "metadata": {},
     "output_type": "execute_result"
    }
   ],
   "source": [
    "fred_series.tail()"
   ]
  },
  {
   "cell_type": "code",
   "execution_count": 12,
   "metadata": {},
   "outputs": [
    {
     "data": {
      "image/png": "[encoded data removed]",
      "text/plain": [
       "<Figure size 1152x648 with 1 Axes>"
      ]
     },
     "metadata": {},
     "output_type": "display_data"
    }
   ],
   "source": [
    "title_string = '10-Year Treasury Constant Maturity Rate'\n",
    "fred_series.plot(figsize=(16,9), title=title_string)\n",
    "plt.show()"
   ]
  },
  {
   "cell_type": "markdown",
   "metadata": {
    "colab_type": "text",
    "id": "1ZNh6i1sNFAF"
   },
   "source": [
    "### 2.b) Alpha Vantage"
   ]
  },
  {
   "cell_type": "code",
   "execution_count": 13,
   "metadata": {},
   "outputs": [],
   "source": [
    "# Check and see whether the API key is available\n",
    "alphavantage_key = os.environ.get('ALPHAVANTAGE_API')\n",
    "if (alphavantage_key==None): sys.exit(\"API key for Alpha Vantage not available. Script Processing Aborted!!!\")\n",
    "\n",
    "alphavantage_url = \"https://www.alphavantage.co/query?function=TIME_SERIES_DAILY_ADJUSTED&symbol=%s&outputsize=full&apikey=%s\" % (stock_symbol, alphavantage_key)"
   ]
  },
  {
   "cell_type": "code",
   "execution_count": 14,
   "metadata": {
    "colab": {
     "base_uri": "https://localhost:8080/",
     "height": 204
    },
    "colab_type": "code",
    "id": "dKy1UBpuVUjg",
    "outputId": "a75ae6d0-c680-4e3d-8202-c56aac092f99"
   },
   "outputs": [
    {
     "name": "stdout",
     "output_type": "stream",
     "text": [
      "5033 data points retrieved from the API call.\n"
     ]
    }
   ],
   "source": [
    "response = requests.get(alphavantage_url)\n",
    "alpha_dict = json.loads(response.text)\n",
    "print(len(alpha_dict['Time Series (Daily)']), 'data points retrieved from the API call.')\n",
    "if (verbose): print(alphadict)"
   ]
  },
  {
   "cell_type": "code",
   "execution_count": 15,
   "metadata": {},
   "outputs": [
    {
     "name": "stdout",
     "output_type": "stream",
     "text": [
      "<class 'pandas.core.frame.DataFrame'>\n",
      "DatetimeIndex: 5033 entries, 2000-03-24 to 2020-03-26\n",
      "Data columns (total 8 columns):\n",
      " #   Column      Non-Null Count  Dtype  \n",
      "---  ------      --------------  -----  \n",
      " 0   open        5033 non-null   float64\n",
      " 1   high        5033 non-null   float64\n",
      " 2   low         5033 non-null   float64\n",
      " 3   close       5033 non-null   float64\n",
      " 4   adj_close   5033 non-null   float64\n",
      " 5   volume      5033 non-null   float64\n",
      " 6   dividend    5033 non-null   float64\n",
      " 7   split_coef  5033 non-null   float64\n",
      "dtypes: float64(8)\n",
      "memory usage: 353.9 KB\n"
     ]
    }
   ],
   "source": [
    "stock_alpha = pd.DataFrame(alpha_dict['Time Series (Daily)']).T\n",
    "stock_alpha.index = pd.to_datetime(stock_alpha.index)\n",
    "stock_alpha = stock_alpha.sort_index(ascending = True)\n",
    "stock_alpha.columns = ['open', 'high', 'low', 'close', 'adj_close', 'volume', 'dividend', 'split_coef']\n",
    "stock_alpha = stock_alpha.astype(float)\n",
    "stock_alpha.info()"
   ]
  },
  {
   "cell_type": "code",
   "execution_count": 16,
   "metadata": {},
   "outputs": [
    {
     "data": {
      "text/html": [
       "<div>\n",
       "<style scoped>\n",
       "    .dataframe tbody tr th:only-of-type {\n",
       "        vertical-align: middle;\n",
       "    }\n",
       "\n",
       "    .dataframe tbody tr th {\n",
       "        vertical-align: top;\n",
       "    }\n",
       "\n",
       "    .dataframe thead th {\n",
       "        text-align: right;\n",
       "    }\n",
       "</style>\n",
       "<table border=\"1\" class=\"dataframe\">\n",
       "  <thead>\n",
       "    <tr style=\"text-align: right;\">\n",
       "      <th></th>\n",
       "      <th>open</th>\n",
       "      <th>high</th>\n",
       "      <th>low</th>\n",
       "      <th>close</th>\n",
       "      <th>adj_close</th>\n",
       "      <th>volume</th>\n",
       "      <th>dividend</th>\n",
       "      <th>split_coef</th>\n",
       "    </tr>\n",
       "  </thead>\n",
       "  <tbody>\n",
       "    <tr>\n",
       "      <th>2000-03-24</th>\n",
       "      <td>112.62</td>\n",
       "      <td>115.00</td>\n",
       "      <td>109.56</td>\n",
       "      <td>111.69</td>\n",
       "      <td>35.9087</td>\n",
       "      <td>56098400.0</td>\n",
       "      <td>0.0</td>\n",
       "      <td>1.0</td>\n",
       "    </tr>\n",
       "    <tr>\n",
       "      <th>2000-03-27</th>\n",
       "      <td>107.77</td>\n",
       "      <td>108.25</td>\n",
       "      <td>103.94</td>\n",
       "      <td>104.06</td>\n",
       "      <td>33.4556</td>\n",
       "      <td>55717000.0</td>\n",
       "      <td>0.0</td>\n",
       "      <td>1.0</td>\n",
       "    </tr>\n",
       "    <tr>\n",
       "      <th>2000-03-28</th>\n",
       "      <td>103.62</td>\n",
       "      <td>107.44</td>\n",
       "      <td>102.37</td>\n",
       "      <td>104.31</td>\n",
       "      <td>33.5360</td>\n",
       "      <td>40557200.0</td>\n",
       "      <td>0.0</td>\n",
       "      <td>1.0</td>\n",
       "    </tr>\n",
       "    <tr>\n",
       "      <th>2000-03-29</th>\n",
       "      <td>105.19</td>\n",
       "      <td>108.94</td>\n",
       "      <td>105.12</td>\n",
       "      <td>107.19</td>\n",
       "      <td>34.4619</td>\n",
       "      <td>32181900.0</td>\n",
       "      <td>0.0</td>\n",
       "      <td>1.0</td>\n",
       "    </tr>\n",
       "    <tr>\n",
       "      <th>2000-03-30</th>\n",
       "      <td>106.19</td>\n",
       "      <td>108.62</td>\n",
       "      <td>102.50</td>\n",
       "      <td>103.37</td>\n",
       "      <td>33.2338</td>\n",
       "      <td>32089200.0</td>\n",
       "      <td>0.0</td>\n",
       "      <td>1.0</td>\n",
       "    </tr>\n",
       "  </tbody>\n",
       "</table>\n",
       "</div>"
      ],
      "text/plain": [
       "              open    high     low   close  adj_close      volume  dividend  \\\n",
       "2000-03-24  112.62  115.00  109.56  111.69    35.9087  56098400.0       0.0   \n",
       "2000-03-27  107.77  108.25  103.94  104.06    33.4556  55717000.0       0.0   \n",
       "2000-03-28  103.62  107.44  102.37  104.31    33.5360  40557200.0       0.0   \n",
       "2000-03-29  105.19  108.94  105.12  107.19    34.4619  32181900.0       0.0   \n",
       "2000-03-30  106.19  108.62  102.50  103.37    33.2338  32089200.0       0.0   \n",
       "\n",
       "            split_coef  \n",
       "2000-03-24         1.0  \n",
       "2000-03-27         1.0  \n",
       "2000-03-28         1.0  \n",
       "2000-03-29         1.0  \n",
       "2000-03-30         1.0  "
      ]
     },
     "execution_count": 16,
     "metadata": {},
     "output_type": "execute_result"
    }
   ],
   "source": [
    "stock_alpha.head()"
   ]
  },
  {
   "cell_type": "code",
   "execution_count": 17,
   "metadata": {},
   "outputs": [
    {
     "data": {
      "text/html": [
       "<div>\n",
       "<style scoped>\n",
       "    .dataframe tbody tr th:only-of-type {\n",
       "        vertical-align: middle;\n",
       "    }\n",
       "\n",
       "    .dataframe tbody tr th {\n",
       "        vertical-align: top;\n",
       "    }\n",
       "\n",
       "    .dataframe thead th {\n",
       "        text-align: right;\n",
       "    }\n",
       "</style>\n",
       "<table border=\"1\" class=\"dataframe\">\n",
       "  <thead>\n",
       "    <tr style=\"text-align: right;\">\n",
       "      <th></th>\n",
       "      <th>open</th>\n",
       "      <th>high</th>\n",
       "      <th>low</th>\n",
       "      <th>close</th>\n",
       "      <th>adj_close</th>\n",
       "      <th>volume</th>\n",
       "      <th>dividend</th>\n",
       "      <th>split_coef</th>\n",
       "    </tr>\n",
       "  </thead>\n",
       "  <tbody>\n",
       "    <tr>\n",
       "      <th>2020-03-20</th>\n",
       "      <td>146.00</td>\n",
       "      <td>147.10</td>\n",
       "      <td>135.86</td>\n",
       "      <td>137.35</td>\n",
       "      <td>137.35</td>\n",
       "      <td>84866215.0</td>\n",
       "      <td>0.0</td>\n",
       "      <td>1.0</td>\n",
       "    </tr>\n",
       "    <tr>\n",
       "      <th>2020-03-23</th>\n",
       "      <td>137.01</td>\n",
       "      <td>140.57</td>\n",
       "      <td>132.52</td>\n",
       "      <td>135.98</td>\n",
       "      <td>135.98</td>\n",
       "      <td>78975176.0</td>\n",
       "      <td>0.0</td>\n",
       "      <td>1.0</td>\n",
       "    </tr>\n",
       "    <tr>\n",
       "      <th>2020-03-24</th>\n",
       "      <td>143.75</td>\n",
       "      <td>149.60</td>\n",
       "      <td>141.27</td>\n",
       "      <td>148.34</td>\n",
       "      <td>148.34</td>\n",
       "      <td>82516727.0</td>\n",
       "      <td>0.0</td>\n",
       "      <td>1.0</td>\n",
       "    </tr>\n",
       "    <tr>\n",
       "      <th>2020-03-25</th>\n",
       "      <td>148.91</td>\n",
       "      <td>154.33</td>\n",
       "      <td>144.44</td>\n",
       "      <td>146.92</td>\n",
       "      <td>146.92</td>\n",
       "      <td>74091383.0</td>\n",
       "      <td>0.0</td>\n",
       "      <td>1.0</td>\n",
       "    </tr>\n",
       "    <tr>\n",
       "      <th>2020-03-26</th>\n",
       "      <td>148.40</td>\n",
       "      <td>156.66</td>\n",
       "      <td>148.37</td>\n",
       "      <td>155.88</td>\n",
       "      <td>155.88</td>\n",
       "      <td>64527202.0</td>\n",
       "      <td>0.0</td>\n",
       "      <td>1.0</td>\n",
       "    </tr>\n",
       "  </tbody>\n",
       "</table>\n",
       "</div>"
      ],
      "text/plain": [
       "              open    high     low   close  adj_close      volume  dividend  \\\n",
       "2020-03-20  146.00  147.10  135.86  137.35     137.35  84866215.0       0.0   \n",
       "2020-03-23  137.01  140.57  132.52  135.98     135.98  78975176.0       0.0   \n",
       "2020-03-24  143.75  149.60  141.27  148.34     148.34  82516727.0       0.0   \n",
       "2020-03-25  148.91  154.33  144.44  146.92     146.92  74091383.0       0.0   \n",
       "2020-03-26  148.40  156.66  148.37  155.88     155.88  64527202.0       0.0   \n",
       "\n",
       "            split_coef  \n",
       "2020-03-20         1.0  \n",
       "2020-03-23         1.0  \n",
       "2020-03-24         1.0  \n",
       "2020-03-25         1.0  \n",
       "2020-03-26         1.0  "
      ]
     },
     "execution_count": 17,
     "metadata": {},
     "output_type": "execute_result"
    }
   ],
   "source": [
    "stock_alpha.tail()"
   ]
  },
  {
   "cell_type": "code",
   "execution_count": 18,
   "metadata": {
    "colab": {
     "base_uri": "https://localhost:8080/",
     "height": 332
    },
    "colab_type": "code",
    "id": "Ux_2fMzXdGE6",
    "outputId": "f258bf06-4484-4b70-88f2-5ef7086f7297"
   },
   "outputs": [
    {
     "data": {
      "image/png": "[encoded data removed]",
      "text/plain": [
       "<Figure size 1152x648 with 1 Axes>"
      ]
     },
     "metadata": {},
     "output_type": "display_data"
    }
   ],
   "source": [
    "title_string = alpha_dict['Meta Data']['1. Information'] + ' for ' + alpha_dict['Meta Data']['2. Symbol']\n",
    "stock_alpha['close'].plot(figsize=(16,9), title=title_string)\n",
    "plt.show()"
   ]
  },
  {
   "cell_type": "markdown",
   "metadata": {
    "colab_type": "text",
    "id": "zkopdSEjdfJp"
   },
   "source": [
    "### 2.c) Yahoo Finance"
   ]
  },
  {
   "cell_type": "code",
   "execution_count": 19,
   "metadata": {
    "colab": {
     "base_uri": "https://localhost:8080/",
     "height": 252
    },
    "colab_type": "code",
    "id": "p9ysfTWBhzSp",
    "outputId": "93e03488-8259-4cc8-bde7-dd5f2324b356"
   },
   "outputs": [
    {
     "name": "stdout",
     "output_type": "stream",
     "text": [
      "[*********************100%***********************]  1 of 1 completed\n",
      "753 data points retrieved from the API call.\n"
     ]
    }
   ],
   "source": [
    "import yfinance as yf\n",
    "yf.pdr_override()\n",
    "stock_yahoo = pdr.get_data_yahoo(stock_symbol, start_date, end_date)\n",
    "print(len(stock_yahoo), 'data points retrieved from the API call.')"
   ]
  },
  {
   "cell_type": "code",
   "execution_count": 20,
   "metadata": {},
   "outputs": [
    {
     "name": "stdout",
     "output_type": "stream",
     "text": [
      "<class 'pandas.core.frame.DataFrame'>\n",
      "DatetimeIndex: 753 entries, 2017-01-03 to 2019-12-30\n",
      "Data columns (total 6 columns):\n",
      " #   Column     Non-Null Count  Dtype  \n",
      "---  ------     --------------  -----  \n",
      " 0   Open       753 non-null    float64\n",
      " 1   High       753 non-null    float64\n",
      " 2   Low        753 non-null    float64\n",
      " 3   Close      753 non-null    float64\n",
      " 4   Adj Close  753 non-null    float64\n",
      " 5   Volume     753 non-null    int64  \n",
      "dtypes: float64(5), int64(1)\n",
      "memory usage: 41.2 KB\n"
     ]
    }
   ],
   "source": [
    "stock_yahoo.info()"
   ]
  },
  {
   "cell_type": "code",
   "execution_count": 21,
   "metadata": {},
   "outputs": [
    {
     "data": {
      "text/html": [
       "<div>\n",
       "<style scoped>\n",
       "    .dataframe tbody tr th:only-of-type {\n",
       "        vertical-align: middle;\n",
       "    }\n",
       "\n",
       "    .dataframe tbody tr th {\n",
       "        vertical-align: top;\n",
       "    }\n",
       "\n",
       "    .dataframe thead th {\n",
       "        text-align: right;\n",
       "    }\n",
       "</style>\n",
       "<table border=\"1\" class=\"dataframe\">\n",
       "  <thead>\n",
       "    <tr style=\"text-align: right;\">\n",
       "      <th></th>\n",
       "      <th>Open</th>\n",
       "      <th>High</th>\n",
       "      <th>Low</th>\n",
       "      <th>Close</th>\n",
       "      <th>Adj Close</th>\n",
       "      <th>Volume</th>\n",
       "    </tr>\n",
       "    <tr>\n",
       "      <th>Date</th>\n",
       "      <th></th>\n",
       "      <th></th>\n",
       "      <th></th>\n",
       "      <th></th>\n",
       "      <th></th>\n",
       "      <th></th>\n",
       "    </tr>\n",
       "  </thead>\n",
       "  <tbody>\n",
       "    <tr>\n",
       "      <th>2017-01-03</th>\n",
       "      <td>62.790001</td>\n",
       "      <td>62.840000</td>\n",
       "      <td>62.130001</td>\n",
       "      <td>62.580002</td>\n",
       "      <td>59.133289</td>\n",
       "      <td>20694100</td>\n",
       "    </tr>\n",
       "    <tr>\n",
       "      <th>2017-01-04</th>\n",
       "      <td>62.480000</td>\n",
       "      <td>62.750000</td>\n",
       "      <td>62.119999</td>\n",
       "      <td>62.299999</td>\n",
       "      <td>58.868710</td>\n",
       "      <td>21340000</td>\n",
       "    </tr>\n",
       "    <tr>\n",
       "      <th>2017-01-05</th>\n",
       "      <td>62.189999</td>\n",
       "      <td>62.660000</td>\n",
       "      <td>62.029999</td>\n",
       "      <td>62.299999</td>\n",
       "      <td>58.868710</td>\n",
       "      <td>24876000</td>\n",
       "    </tr>\n",
       "    <tr>\n",
       "      <th>2017-01-06</th>\n",
       "      <td>62.299999</td>\n",
       "      <td>63.150002</td>\n",
       "      <td>62.040001</td>\n",
       "      <td>62.840000</td>\n",
       "      <td>59.378971</td>\n",
       "      <td>19922900</td>\n",
       "    </tr>\n",
       "    <tr>\n",
       "      <th>2017-01-09</th>\n",
       "      <td>62.759998</td>\n",
       "      <td>63.080002</td>\n",
       "      <td>62.540001</td>\n",
       "      <td>62.639999</td>\n",
       "      <td>59.189987</td>\n",
       "      <td>20382700</td>\n",
       "    </tr>\n",
       "  </tbody>\n",
       "</table>\n",
       "</div>"
      ],
      "text/plain": [
       "                 Open       High        Low      Close  Adj Close    Volume\n",
       "Date                                                                       \n",
       "2017-01-03  62.790001  62.840000  62.130001  62.580002  59.133289  20694100\n",
       "2017-01-04  62.480000  62.750000  62.119999  62.299999  58.868710  21340000\n",
       "2017-01-05  62.189999  62.660000  62.029999  62.299999  58.868710  24876000\n",
       "2017-01-06  62.299999  63.150002  62.040001  62.840000  59.378971  19922900\n",
       "2017-01-09  62.759998  63.080002  62.540001  62.639999  59.189987  20382700"
      ]
     },
     "execution_count": 21,
     "metadata": {},
     "output_type": "execute_result"
    }
   ],
   "source": [
    "stock_yahoo.head()"
   ]
  },
  {
   "cell_type": "code",
   "execution_count": 22,
   "metadata": {},
   "outputs": [
    {
     "data": {
      "text/html": [
       "<div>\n",
       "<style scoped>\n",
       "    .dataframe tbody tr th:only-of-type {\n",
       "        vertical-align: middle;\n",
       "    }\n",
       "\n",
       "    .dataframe tbody tr th {\n",
       "        vertical-align: top;\n",
       "    }\n",
       "\n",
       "    .dataframe thead th {\n",
       "        text-align: right;\n",
       "    }\n",
       "</style>\n",
       "<table border=\"1\" class=\"dataframe\">\n",
       "  <thead>\n",
       "    <tr style=\"text-align: right;\">\n",
       "      <th></th>\n",
       "      <th>Open</th>\n",
       "      <th>High</th>\n",
       "      <th>Low</th>\n",
       "      <th>Close</th>\n",
       "      <th>Adj Close</th>\n",
       "      <th>Volume</th>\n",
       "    </tr>\n",
       "    <tr>\n",
       "      <th>Date</th>\n",
       "      <th></th>\n",
       "      <th></th>\n",
       "      <th></th>\n",
       "      <th></th>\n",
       "      <th></th>\n",
       "      <th></th>\n",
       "    </tr>\n",
       "  </thead>\n",
       "  <tbody>\n",
       "    <tr>\n",
       "      <th>2019-12-23</th>\n",
       "      <td>158.119995</td>\n",
       "      <td>158.119995</td>\n",
       "      <td>157.270004</td>\n",
       "      <td>157.410004</td>\n",
       "      <td>156.981232</td>\n",
       "      <td>17718200</td>\n",
       "    </tr>\n",
       "    <tr>\n",
       "      <th>2019-12-24</th>\n",
       "      <td>157.479996</td>\n",
       "      <td>157.710007</td>\n",
       "      <td>157.119995</td>\n",
       "      <td>157.380005</td>\n",
       "      <td>156.951309</td>\n",
       "      <td>8989200</td>\n",
       "    </tr>\n",
       "    <tr>\n",
       "      <th>2019-12-26</th>\n",
       "      <td>157.559998</td>\n",
       "      <td>158.729996</td>\n",
       "      <td>157.399994</td>\n",
       "      <td>158.669998</td>\n",
       "      <td>158.237793</td>\n",
       "      <td>14520600</td>\n",
       "    </tr>\n",
       "    <tr>\n",
       "      <th>2019-12-27</th>\n",
       "      <td>159.449997</td>\n",
       "      <td>159.550003</td>\n",
       "      <td>158.220001</td>\n",
       "      <td>158.960007</td>\n",
       "      <td>158.527008</td>\n",
       "      <td>18412800</td>\n",
       "    </tr>\n",
       "    <tr>\n",
       "      <th>2019-12-30</th>\n",
       "      <td>158.990005</td>\n",
       "      <td>159.020004</td>\n",
       "      <td>156.729996</td>\n",
       "      <td>157.589996</td>\n",
       "      <td>157.160736</td>\n",
       "      <td>16348400</td>\n",
       "    </tr>\n",
       "  </tbody>\n",
       "</table>\n",
       "</div>"
      ],
      "text/plain": [
       "                  Open        High         Low       Close   Adj Close  \\\n",
       "Date                                                                     \n",
       "2019-12-23  158.119995  158.119995  157.270004  157.410004  156.981232   \n",
       "2019-12-24  157.479996  157.710007  157.119995  157.380005  156.951309   \n",
       "2019-12-26  157.559998  158.729996  157.399994  158.669998  158.237793   \n",
       "2019-12-27  159.449997  159.550003  158.220001  158.960007  158.527008   \n",
       "2019-12-30  158.990005  159.020004  156.729996  157.589996  157.160736   \n",
       "\n",
       "              Volume  \n",
       "Date                  \n",
       "2019-12-23  17718200  \n",
       "2019-12-24   8989200  \n",
       "2019-12-26  14520600  \n",
       "2019-12-27  18412800  \n",
       "2019-12-30  16348400  "
      ]
     },
     "execution_count": 22,
     "metadata": {},
     "output_type": "execute_result"
    }
   ],
   "source": [
    "stock_yahoo.tail()"
   ]
  },
  {
   "cell_type": "code",
   "execution_count": 23,
   "metadata": {
    "colab": {
     "base_uri": "https://localhost:8080/",
     "height": 332
    },
    "colab_type": "code",
    "id": "Ux_2fMzXdGE6",
    "outputId": "f258bf06-4484-4b70-88f2-5ef7086f7297"
   },
   "outputs": [
    {
     "data": {
      "image/png": "[encoded data removed]",
      "text/plain": [
       "<Figure size 1152x648 with 1 Axes>"
      ]
     },
     "metadata": {},
     "output_type": "display_data"
    }
   ],
   "source": [
    "title_string = 'Yahoo Finance Stock Information for ' + stock_symbol\n",
    "stock_yahoo['Adj Close'].plot(figsize=(16,9), title=title_string)\n",
    "plt.show()"
   ]
  },
  {
   "cell_type": "markdown",
   "metadata": {
    "colab_type": "text",
    "id": "UJYD0wc73Tcu"
   },
   "source": [
    "### 2.d) Quandl"
   ]
  },
  {
   "cell_type": "code",
   "execution_count": 24,
   "metadata": {},
   "outputs": [],
   "source": [
    "# import quandl\n",
    "\n",
    "# Check and see whether the API key is available\n",
    "quandl_key = os.environ.get('QUANDL_API')\n",
    "if (quandl_key==None): sys.exit(\"API key for Quandl not available. Script Processing Aborted!!!\")\n",
    "\n",
    "quandl_url = \"https://www.quandl.com/api/v3/datasets/EOD/%s.json?api_key=%s\" % (stock_symbol, quandl_key)"
   ]
  },
  {
   "cell_type": "code",
   "execution_count": 25,
   "metadata": {
    "colab": {
     "base_uri": "https://localhost:8080/",
     "height": 680
    },
    "colab_type": "code",
    "id": "q-OIKmOJryU1",
    "outputId": "323439fa-ffea-4ba2-c624-d03ec7a5f83f"
   },
   "outputs": [
    {
     "name": "stdout",
     "output_type": "stream",
     "text": [
      "1090 data points retrieved from the API call.\n"
     ]
    }
   ],
   "source": [
    "response = requests.get(quandl_url)\n",
    "quandl_dict = json.loads(response.text)\n",
    "print(len(quandl_dict['dataset']['data']), 'data points retrieved from the API call.')\n",
    "if (verbose): print(quandl_dict)"
   ]
  },
  {
   "cell_type": "code",
   "execution_count": 26,
   "metadata": {
    "colab": {
     "base_uri": "https://localhost:8080/",
     "height": 360
    },
    "colab_type": "code",
    "id": "nD1m8nLjuzyi",
    "outputId": "4f7fe523-3ace-4ab7-f4a5-d7ccb7f9c0a7"
   },
   "outputs": [
    {
     "name": "stdout",
     "output_type": "stream",
     "text": [
      "<class 'pandas.core.frame.DataFrame'>\n",
      "Index: 1090 entries, 2013-09-03 to 2017-12-28\n",
      "Data columns (total 12 columns):\n",
      " #   Column      Non-Null Count  Dtype  \n",
      "---  ------      --------------  -----  \n",
      " 0   Open        1090 non-null   float64\n",
      " 1   High        1090 non-null   float64\n",
      " 2   Low         1090 non-null   float64\n",
      " 3   Close       1090 non-null   float64\n",
      " 4   Volume      1090 non-null   float64\n",
      " 5   Dividend    1090 non-null   float64\n",
      " 6   Split       1090 non-null   float64\n",
      " 7   Adj_Open    1090 non-null   float64\n",
      " 8   Adj_High    1090 non-null   float64\n",
      " 9   Adj_Low     1090 non-null   float64\n",
      " 10  Adj_Close   1090 non-null   float64\n",
      " 11  Adj_Volume  1090 non-null   float64\n",
      "dtypes: float64(12)\n",
      "memory usage: 110.7+ KB\n"
     ]
    }
   ],
   "source": [
    "stock_quandl = pd.DataFrame(quandl_dict['dataset']['data'])\n",
    "stock_quandl.columns = quandl_dict['dataset']['column_names']\n",
    "stock_quandl.set_index('Date', inplace=True)\n",
    "stock_quandl = stock_quandl.sort_index(ascending = True)\n",
    "stock_quandl.info()"
   ]
  },
  {
   "cell_type": "code",
   "execution_count": 27,
   "metadata": {
    "colab": {
     "base_uri": "https://localhost:8080/",
     "height": 360
    },
    "colab_type": "code",
    "id": "oxlNtuEE5ejQ",
    "outputId": "d0ae9a03-42ec-4a8a-8c00-4be937d20c70"
   },
   "outputs": [
    {
     "data": {
      "text/html": [
       "<div>\n",
       "<style scoped>\n",
       "    .dataframe tbody tr th:only-of-type {\n",
       "        vertical-align: middle;\n",
       "    }\n",
       "\n",
       "    .dataframe tbody tr th {\n",
       "        vertical-align: top;\n",
       "    }\n",
       "\n",
       "    .dataframe thead th {\n",
       "        text-align: right;\n",
       "    }\n",
       "</style>\n",
       "<table border=\"1\" class=\"dataframe\">\n",
       "  <thead>\n",
       "    <tr style=\"text-align: right;\">\n",
       "      <th></th>\n",
       "      <th>Open</th>\n",
       "      <th>High</th>\n",
       "      <th>Low</th>\n",
       "      <th>Close</th>\n",
       "      <th>Volume</th>\n",
       "      <th>Dividend</th>\n",
       "      <th>Split</th>\n",
       "      <th>Adj_Open</th>\n",
       "      <th>Adj_High</th>\n",
       "      <th>Adj_Low</th>\n",
       "      <th>Adj_Close</th>\n",
       "      <th>Adj_Volume</th>\n",
       "    </tr>\n",
       "    <tr>\n",
       "      <th>Date</th>\n",
       "      <th></th>\n",
       "      <th></th>\n",
       "      <th></th>\n",
       "      <th></th>\n",
       "      <th></th>\n",
       "      <th></th>\n",
       "      <th></th>\n",
       "      <th></th>\n",
       "      <th></th>\n",
       "      <th></th>\n",
       "      <th></th>\n",
       "      <th></th>\n",
       "    </tr>\n",
       "  </thead>\n",
       "  <tbody>\n",
       "    <tr>\n",
       "      <th>2013-09-03</th>\n",
       "      <td>31.7500</td>\n",
       "      <td>32.07</td>\n",
       "      <td>31.29</td>\n",
       "      <td>31.880</td>\n",
       "      <td>154507000.0</td>\n",
       "      <td>0.0</td>\n",
       "      <td>1.0</td>\n",
       "      <td>27.559502</td>\n",
       "      <td>27.837267</td>\n",
       "      <td>27.160215</td>\n",
       "      <td>27.672344</td>\n",
       "      <td>154507000.0</td>\n",
       "    </tr>\n",
       "    <tr>\n",
       "      <th>2013-09-04</th>\n",
       "      <td>31.3900</td>\n",
       "      <td>31.47</td>\n",
       "      <td>31.11</td>\n",
       "      <td>31.195</td>\n",
       "      <td>142320600.0</td>\n",
       "      <td>0.0</td>\n",
       "      <td>1.0</td>\n",
       "      <td>27.247017</td>\n",
       "      <td>27.316458</td>\n",
       "      <td>27.003972</td>\n",
       "      <td>27.077754</td>\n",
       "      <td>142320600.0</td>\n",
       "    </tr>\n",
       "    <tr>\n",
       "      <th>2013-09-05</th>\n",
       "      <td>31.1000</td>\n",
       "      <td>31.44</td>\n",
       "      <td>30.95</td>\n",
       "      <td>31.235</td>\n",
       "      <td>71644900.0</td>\n",
       "      <td>0.0</td>\n",
       "      <td>1.0</td>\n",
       "      <td>26.995292</td>\n",
       "      <td>27.290417</td>\n",
       "      <td>26.865090</td>\n",
       "      <td>27.112474</td>\n",
       "      <td>71644900.0</td>\n",
       "    </tr>\n",
       "    <tr>\n",
       "      <th>2013-09-06</th>\n",
       "      <td>31.3100</td>\n",
       "      <td>31.39</td>\n",
       "      <td>31.13</td>\n",
       "      <td>31.152</td>\n",
       "      <td>75434900.0</td>\n",
       "      <td>0.0</td>\n",
       "      <td>1.0</td>\n",
       "      <td>27.177575</td>\n",
       "      <td>27.247017</td>\n",
       "      <td>27.021333</td>\n",
       "      <td>27.040429</td>\n",
       "      <td>75434900.0</td>\n",
       "    </tr>\n",
       "    <tr>\n",
       "      <th>2013-09-09</th>\n",
       "      <td>31.2208</td>\n",
       "      <td>31.79</td>\n",
       "      <td>31.20</td>\n",
       "      <td>31.655</td>\n",
       "      <td>49628500.0</td>\n",
       "      <td>0.0</td>\n",
       "      <td>1.0</td>\n",
       "      <td>27.100148</td>\n",
       "      <td>27.594223</td>\n",
       "      <td>27.082094</td>\n",
       "      <td>27.477041</td>\n",
       "      <td>49628500.0</td>\n",
       "    </tr>\n",
       "  </tbody>\n",
       "</table>\n",
       "</div>"
      ],
      "text/plain": [
       "               Open   High    Low   Close       Volume  Dividend  Split  \\\n",
       "Date                                                                      \n",
       "2013-09-03  31.7500  32.07  31.29  31.880  154507000.0       0.0    1.0   \n",
       "2013-09-04  31.3900  31.47  31.11  31.195  142320600.0       0.0    1.0   \n",
       "2013-09-05  31.1000  31.44  30.95  31.235   71644900.0       0.0    1.0   \n",
       "2013-09-06  31.3100  31.39  31.13  31.152   75434900.0       0.0    1.0   \n",
       "2013-09-09  31.2208  31.79  31.20  31.655   49628500.0       0.0    1.0   \n",
       "\n",
       "             Adj_Open   Adj_High    Adj_Low  Adj_Close   Adj_Volume  \n",
       "Date                                                                 \n",
       "2013-09-03  27.559502  27.837267  27.160215  27.672344  154507000.0  \n",
       "2013-09-04  27.247017  27.316458  27.003972  27.077754  142320600.0  \n",
       "2013-09-05  26.995292  27.290417  26.865090  27.112474   71644900.0  \n",
       "2013-09-06  27.177575  27.247017  27.021333  27.040429   75434900.0  \n",
       "2013-09-09  27.100148  27.594223  27.082094  27.477041   49628500.0  "
      ]
     },
     "execution_count": 27,
     "metadata": {},
     "output_type": "execute_result"
    }
   ],
   "source": [
    "stock_quandl.head()"
   ]
  },
  {
   "cell_type": "code",
   "execution_count": 28,
   "metadata": {},
   "outputs": [
    {
     "data": {
      "text/html": [
       "<div>\n",
       "<style scoped>\n",
       "    .dataframe tbody tr th:only-of-type {\n",
       "        vertical-align: middle;\n",
       "    }\n",
       "\n",
       "    .dataframe tbody tr th {\n",
       "        vertical-align: top;\n",
       "    }\n",
       "\n",
       "    .dataframe thead th {\n",
       "        text-align: right;\n",
       "    }\n",
       "</style>\n",
       "<table border=\"1\" class=\"dataframe\">\n",
       "  <thead>\n",
       "    <tr style=\"text-align: right;\">\n",
       "      <th></th>\n",
       "      <th>Open</th>\n",
       "      <th>High</th>\n",
       "      <th>Low</th>\n",
       "      <th>Close</th>\n",
       "      <th>Volume</th>\n",
       "      <th>Dividend</th>\n",
       "      <th>Split</th>\n",
       "      <th>Adj_Open</th>\n",
       "      <th>Adj_High</th>\n",
       "      <th>Adj_Low</th>\n",
       "      <th>Adj_Close</th>\n",
       "      <th>Adj_Volume</th>\n",
       "    </tr>\n",
       "    <tr>\n",
       "      <th>Date</th>\n",
       "      <th></th>\n",
       "      <th></th>\n",
       "      <th></th>\n",
       "      <th></th>\n",
       "      <th></th>\n",
       "      <th></th>\n",
       "      <th></th>\n",
       "      <th></th>\n",
       "      <th></th>\n",
       "      <th></th>\n",
       "      <th></th>\n",
       "      <th></th>\n",
       "    </tr>\n",
       "  </thead>\n",
       "  <tbody>\n",
       "    <tr>\n",
       "      <th>2017-12-21</th>\n",
       "      <td>86.05</td>\n",
       "      <td>86.1000</td>\n",
       "      <td>85.400</td>\n",
       "      <td>85.50</td>\n",
       "      <td>17990745.0</td>\n",
       "      <td>0.0</td>\n",
       "      <td>1.0</td>\n",
       "      <td>83.403000</td>\n",
       "      <td>83.451462</td>\n",
       "      <td>82.772995</td>\n",
       "      <td>82.869919</td>\n",
       "      <td>17990745.0</td>\n",
       "    </tr>\n",
       "    <tr>\n",
       "      <th>2017-12-22</th>\n",
       "      <td>85.40</td>\n",
       "      <td>85.6300</td>\n",
       "      <td>84.920</td>\n",
       "      <td>85.51</td>\n",
       "      <td>14145841.0</td>\n",
       "      <td>0.0</td>\n",
       "      <td>1.0</td>\n",
       "      <td>82.772995</td>\n",
       "      <td>82.995920</td>\n",
       "      <td>82.307760</td>\n",
       "      <td>82.879611</td>\n",
       "      <td>14145841.0</td>\n",
       "    </tr>\n",
       "    <tr>\n",
       "      <th>2017-12-26</th>\n",
       "      <td>85.31</td>\n",
       "      <td>85.5346</td>\n",
       "      <td>85.030</td>\n",
       "      <td>85.40</td>\n",
       "      <td>9891237.0</td>\n",
       "      <td>0.0</td>\n",
       "      <td>1.0</td>\n",
       "      <td>82.685763</td>\n",
       "      <td>82.903454</td>\n",
       "      <td>82.414376</td>\n",
       "      <td>82.772995</td>\n",
       "      <td>9891237.0</td>\n",
       "    </tr>\n",
       "    <tr>\n",
       "      <th>2017-12-27</th>\n",
       "      <td>85.65</td>\n",
       "      <td>85.9800</td>\n",
       "      <td>85.215</td>\n",
       "      <td>85.71</td>\n",
       "      <td>14678025.0</td>\n",
       "      <td>0.0</td>\n",
       "      <td>1.0</td>\n",
       "      <td>83.015304</td>\n",
       "      <td>83.335153</td>\n",
       "      <td>82.593686</td>\n",
       "      <td>83.073459</td>\n",
       "      <td>14678025.0</td>\n",
       "    </tr>\n",
       "    <tr>\n",
       "      <th>2017-12-28</th>\n",
       "      <td>85.90</td>\n",
       "      <td>85.9300</td>\n",
       "      <td>85.550</td>\n",
       "      <td>85.72</td>\n",
       "      <td>10594344.0</td>\n",
       "      <td>0.0</td>\n",
       "      <td>1.0</td>\n",
       "      <td>83.257614</td>\n",
       "      <td>83.286691</td>\n",
       "      <td>82.918381</td>\n",
       "      <td>83.083151</td>\n",
       "      <td>10594344.0</td>\n",
       "    </tr>\n",
       "  </tbody>\n",
       "</table>\n",
       "</div>"
      ],
      "text/plain": [
       "             Open     High     Low  Close      Volume  Dividend  Split  \\\n",
       "Date                                                                     \n",
       "2017-12-21  86.05  86.1000  85.400  85.50  17990745.0       0.0    1.0   \n",
       "2017-12-22  85.40  85.6300  84.920  85.51  14145841.0       0.0    1.0   \n",
       "2017-12-26  85.31  85.5346  85.030  85.40   9891237.0       0.0    1.0   \n",
       "2017-12-27  85.65  85.9800  85.215  85.71  14678025.0       0.0    1.0   \n",
       "2017-12-28  85.90  85.9300  85.550  85.72  10594344.0       0.0    1.0   \n",
       "\n",
       "             Adj_Open   Adj_High    Adj_Low  Adj_Close  Adj_Volume  \n",
       "Date                                                                \n",
       "2017-12-21  83.403000  83.451462  82.772995  82.869919  17990745.0  \n",
       "2017-12-22  82.772995  82.995920  82.307760  82.879611  14145841.0  \n",
       "2017-12-26  82.685763  82.903454  82.414376  82.772995   9891237.0  \n",
       "2017-12-27  83.015304  83.335153  82.593686  83.073459  14678025.0  \n",
       "2017-12-28  83.257614  83.286691  82.918381  83.083151  10594344.0  "
      ]
     },
     "execution_count": 28,
     "metadata": {},
     "output_type": "execute_result"
    }
   ],
   "source": [
    "stock_quandl.tail()"
   ]
  },
  {
   "cell_type": "code",
   "execution_count": 29,
   "metadata": {},
   "outputs": [
    {
     "data": {
      "image/png": "[encoded data removed]",
      "text/plain": [
       "<Figure size 1152x648 with 1 Axes>"
      ]
     },
     "metadata": {},
     "output_type": "display_data"
    }
   ],
   "source": [
    "title_string = 'Quandl EOD Stock Information for ' + quandl_dict['dataset']['dataset_code']\n",
    "stock_quandl['Close'].plot(figsize=(16,9), title=title_string)\n",
    "plt.show()"
   ]
  },
  {
   "cell_type": "markdown",
   "metadata": {
    "colab_type": "text",
    "id": "Y50-He9dyQtO"
   },
   "source": [
    "### 2.e) IEX Cloud"
   ]
  },
  {
   "cell_type": "code",
   "execution_count": 30,
   "metadata": {},
   "outputs": [],
   "source": [
    "# Check and see whether the API key is available\n",
    "# iexcloud_key = os.environ.get('IEXCLOUD_API')\n",
    "iexcloud_key = \"Tsk_7be365b9ca0a4e0eaea2bd427afab760\"\n",
    "if (iexcloud_key==None): sys.exit(\"API key for IEX Cloud not available. Script Processing Aborted!!!\")\n",
    "\n",
    "iexcloud_url = \"https://sandbox.iexapis.com/stable/stock/%s/chart/5y?token=%s\" % (stock_symbol, iexcloud_key)"
   ]
  },
  {
   "cell_type": "code",
   "execution_count": 31,
   "metadata": {
    "colab": {
     "base_uri": "https://localhost:8080/",
     "height": 120
    },
    "colab_type": "code",
    "id": "5x2RpsDhkBO3",
    "outputId": "8c416096-a56d-4195-acfb-e86a23542fe9"
   },
   "outputs": [
    {
     "name": "stdout",
     "output_type": "stream",
     "text": [
      "1259 data points retrieved from the API call.\n"
     ]
    }
   ],
   "source": [
    "response = requests.get(iexcloud_url)\n",
    "iex_dict = json.loads(response.text)\n",
    "print(len(iex_dict), 'data points retrieved from the API call.')\n",
    "if (verbose): print(iex_dict)"
   ]
  },
  {
   "cell_type": "code",
   "execution_count": 32,
   "metadata": {},
   "outputs": [
    {
     "name": "stdout",
     "output_type": "stream",
     "text": [
      "<class 'pandas.core.frame.DataFrame'>\n",
      "Index: 1259 entries, 2015-03-26 to 2020-03-25\n",
      "Data columns (total 14 columns):\n",
      " #   Column          Non-Null Count  Dtype  \n",
      "---  ------          --------------  -----  \n",
      " 0   uClose          1259 non-null   float64\n",
      " 1   uOpen           1259 non-null   float64\n",
      " 2   uHigh           1259 non-null   float64\n",
      " 3   uLow            1259 non-null   float64\n",
      " 4   uVolume         1259 non-null   int64  \n",
      " 5   close           1259 non-null   float64\n",
      " 6   open            1259 non-null   float64\n",
      " 7   high            1259 non-null   float64\n",
      " 8   low             1259 non-null   float64\n",
      " 9   volume          1259 non-null   int64  \n",
      " 10  change          1259 non-null   float64\n",
      " 11  changePercent   1259 non-null   float64\n",
      " 12  label           1259 non-null   object \n",
      " 13  changeOverTime  1259 non-null   float64\n",
      "dtypes: float64(11), int64(2), object(1)\n",
      "memory usage: 147.5+ KB\n"
     ]
    }
   ],
   "source": [
    "stock_iexcloud = pd.DataFrame(iex_dict)\n",
    "stock_iexcloud.set_index('date', inplace=True)\n",
    "stock_iexcloud = stock_iexcloud.sort_index(ascending = True)\n",
    "stock_iexcloud.info()"
   ]
  },
  {
   "cell_type": "code",
   "execution_count": 33,
   "metadata": {},
   "outputs": [
    {
     "data": {
      "text/html": [
       "<div>\n",
       "<style scoped>\n",
       "    .dataframe tbody tr th:only-of-type {\n",
       "        vertical-align: middle;\n",
       "    }\n",
       "\n",
       "    .dataframe tbody tr th {\n",
       "        vertical-align: top;\n",
       "    }\n",
       "\n",
       "    .dataframe thead th {\n",
       "        text-align: right;\n",
       "    }\n",
       "</style>\n",
       "<table border=\"1\" class=\"dataframe\">\n",
       "  <thead>\n",
       "    <tr style=\"text-align: right;\">\n",
       "      <th></th>\n",
       "      <th>uClose</th>\n",
       "      <th>uOpen</th>\n",
       "      <th>uHigh</th>\n",
       "      <th>uLow</th>\n",
       "      <th>uVolume</th>\n",
       "      <th>close</th>\n",
       "      <th>open</th>\n",
       "      <th>high</th>\n",
       "      <th>low</th>\n",
       "      <th>volume</th>\n",
       "      <th>change</th>\n",
       "      <th>changePercent</th>\n",
       "      <th>label</th>\n",
       "      <th>changeOverTime</th>\n",
       "    </tr>\n",
       "    <tr>\n",
       "      <th>date</th>\n",
       "      <th></th>\n",
       "      <th></th>\n",
       "      <th></th>\n",
       "      <th></th>\n",
       "      <th></th>\n",
       "      <th></th>\n",
       "      <th></th>\n",
       "      <th></th>\n",
       "      <th></th>\n",
       "      <th></th>\n",
       "      <th></th>\n",
       "      <th></th>\n",
       "      <th></th>\n",
       "      <th></th>\n",
       "    </tr>\n",
       "  </thead>\n",
       "  <tbody>\n",
       "    <tr>\n",
       "      <th>2015-03-26</th>\n",
       "      <td>41.82</td>\n",
       "      <td>42.68</td>\n",
       "      <td>43.14</td>\n",
       "      <td>42.62</td>\n",
       "      <td>39000688</td>\n",
       "      <td>41.26</td>\n",
       "      <td>41.49</td>\n",
       "      <td>41.66</td>\n",
       "      <td>42.46</td>\n",
       "      <td>38517339</td>\n",
       "      <td>0.000</td>\n",
       "      <td>0.0000</td>\n",
       "      <td>Mar 26, 15</td>\n",
       "      <td>0.000000</td>\n",
       "    </tr>\n",
       "    <tr>\n",
       "      <th>2015-03-27</th>\n",
       "      <td>42.26</td>\n",
       "      <td>41.23</td>\n",
       "      <td>41.78</td>\n",
       "      <td>42.37</td>\n",
       "      <td>35824871</td>\n",
       "      <td>42.27</td>\n",
       "      <td>41.35</td>\n",
       "      <td>43.03</td>\n",
       "      <td>42.28</td>\n",
       "      <td>34520975</td>\n",
       "      <td>-0.250</td>\n",
       "      <td>-0.5839</td>\n",
       "      <td>Mar 27, 15</td>\n",
       "      <td>-0.005950</td>\n",
       "    </tr>\n",
       "    <tr>\n",
       "      <th>2015-03-30</th>\n",
       "      <td>42.87</td>\n",
       "      <td>41.40</td>\n",
       "      <td>42.93</td>\n",
       "      <td>41.36</td>\n",
       "      <td>36114883</td>\n",
       "      <td>42.39</td>\n",
       "      <td>42.10</td>\n",
       "      <td>42.69</td>\n",
       "      <td>42.60</td>\n",
       "      <td>35411320</td>\n",
       "      <td>-0.010</td>\n",
       "      <td>-0.0252</td>\n",
       "      <td>Mar 30, 15</td>\n",
       "      <td>-0.006172</td>\n",
       "    </tr>\n",
       "    <tr>\n",
       "      <th>2015-03-31</th>\n",
       "      <td>42.29</td>\n",
       "      <td>41.13</td>\n",
       "      <td>42.61</td>\n",
       "      <td>41.88</td>\n",
       "      <td>35200754</td>\n",
       "      <td>42.03</td>\n",
       "      <td>41.08</td>\n",
       "      <td>42.11</td>\n",
       "      <td>41.16</td>\n",
       "      <td>35775069</td>\n",
       "      <td>-0.313</td>\n",
       "      <td>-0.7692</td>\n",
       "      <td>Mar 31, 15</td>\n",
       "      <td>-0.014128</td>\n",
       "    </tr>\n",
       "    <tr>\n",
       "      <th>2015-04-01</th>\n",
       "      <td>42.70</td>\n",
       "      <td>41.90</td>\n",
       "      <td>40.83</td>\n",
       "      <td>40.47</td>\n",
       "      <td>38340996</td>\n",
       "      <td>40.86</td>\n",
       "      <td>42.00</td>\n",
       "      <td>40.76</td>\n",
       "      <td>41.45</td>\n",
       "      <td>37093670</td>\n",
       "      <td>0.068</td>\n",
       "      <td>0.1602</td>\n",
       "      <td>Apr 1, 15</td>\n",
       "      <td>-0.012450</td>\n",
       "    </tr>\n",
       "  </tbody>\n",
       "</table>\n",
       "</div>"
      ],
      "text/plain": [
       "            uClose  uOpen  uHigh   uLow   uVolume  close   open   high    low  \\\n",
       "date                                                                            \n",
       "2015-03-26   41.82  42.68  43.14  42.62  39000688  41.26  41.49  41.66  42.46   \n",
       "2015-03-27   42.26  41.23  41.78  42.37  35824871  42.27  41.35  43.03  42.28   \n",
       "2015-03-30   42.87  41.40  42.93  41.36  36114883  42.39  42.10  42.69  42.60   \n",
       "2015-03-31   42.29  41.13  42.61  41.88  35200754  42.03  41.08  42.11  41.16   \n",
       "2015-04-01   42.70  41.90  40.83  40.47  38340996  40.86  42.00  40.76  41.45   \n",
       "\n",
       "              volume  change  changePercent       label  changeOverTime  \n",
       "date                                                                     \n",
       "2015-03-26  38517339   0.000         0.0000  Mar 26, 15        0.000000  \n",
       "2015-03-27  34520975  -0.250        -0.5839  Mar 27, 15       -0.005950  \n",
       "2015-03-30  35411320  -0.010        -0.0252  Mar 30, 15       -0.006172  \n",
       "2015-03-31  35775069  -0.313        -0.7692  Mar 31, 15       -0.014128  \n",
       "2015-04-01  37093670   0.068         0.1602   Apr 1, 15       -0.012450  "
      ]
     },
     "execution_count": 33,
     "metadata": {},
     "output_type": "execute_result"
    }
   ],
   "source": [
    "stock_iexcloud.head()"
   ]
  },
  {
   "cell_type": "code",
   "execution_count": 34,
   "metadata": {},
   "outputs": [
    {
     "data": {
      "text/html": [
       "<div>\n",
       "<style scoped>\n",
       "    .dataframe tbody tr th:only-of-type {\n",
       "        vertical-align: middle;\n",
       "    }\n",
       "\n",
       "    .dataframe tbody tr th {\n",
       "        vertical-align: top;\n",
       "    }\n",
       "\n",
       "    .dataframe thead th {\n",
       "        text-align: right;\n",
       "    }\n",
       "</style>\n",
       "<table border=\"1\" class=\"dataframe\">\n",
       "  <thead>\n",
       "    <tr style=\"text-align: right;\">\n",
       "      <th></th>\n",
       "      <th>uClose</th>\n",
       "      <th>uOpen</th>\n",
       "      <th>uHigh</th>\n",
       "      <th>uLow</th>\n",
       "      <th>uVolume</th>\n",
       "      <th>close</th>\n",
       "      <th>open</th>\n",
       "      <th>high</th>\n",
       "      <th>low</th>\n",
       "      <th>volume</th>\n",
       "      <th>change</th>\n",
       "      <th>changePercent</th>\n",
       "      <th>label</th>\n",
       "      <th>changeOverTime</th>\n",
       "    </tr>\n",
       "    <tr>\n",
       "      <th>date</th>\n",
       "      <th></th>\n",
       "      <th></th>\n",
       "      <th></th>\n",
       "      <th></th>\n",
       "      <th></th>\n",
       "      <th></th>\n",
       "      <th></th>\n",
       "      <th></th>\n",
       "      <th></th>\n",
       "      <th></th>\n",
       "      <th></th>\n",
       "      <th></th>\n",
       "      <th></th>\n",
       "      <th></th>\n",
       "    </tr>\n",
       "  </thead>\n",
       "  <tbody>\n",
       "    <tr>\n",
       "      <th>2020-03-19</th>\n",
       "      <td>148.45</td>\n",
       "      <td>148.49</td>\n",
       "      <td>154.95</td>\n",
       "      <td>139.00</td>\n",
       "      <td>90010004</td>\n",
       "      <td>144.54</td>\n",
       "      <td>144.30</td>\n",
       "      <td>156.99</td>\n",
       "      <td>144.00</td>\n",
       "      <td>87360288</td>\n",
       "      <td>2.33</td>\n",
       "      <td>1.7142</td>\n",
       "      <td>Mar 19, 20</td>\n",
       "      <td>2.491775</td>\n",
       "    </tr>\n",
       "    <tr>\n",
       "      <th>2020-03-20</th>\n",
       "      <td>142.97</td>\n",
       "      <td>150.00</td>\n",
       "      <td>148.50</td>\n",
       "      <td>136.36</td>\n",
       "      <td>87720768</td>\n",
       "      <td>138.87</td>\n",
       "      <td>147.00</td>\n",
       "      <td>150.10</td>\n",
       "      <td>138.87</td>\n",
       "      <td>87693149</td>\n",
       "      <td>-5.39</td>\n",
       "      <td>-3.7919</td>\n",
       "      <td>Mar 20, 20</td>\n",
       "      <td>2.435137</td>\n",
       "    </tr>\n",
       "    <tr>\n",
       "      <th>2020-03-23</th>\n",
       "      <td>138.38</td>\n",
       "      <td>143.10</td>\n",
       "      <td>141.70</td>\n",
       "      <td>133.03</td>\n",
       "      <td>79189139</td>\n",
       "      <td>136.47</td>\n",
       "      <td>140.89</td>\n",
       "      <td>145.87</td>\n",
       "      <td>134.38</td>\n",
       "      <td>81175659</td>\n",
       "      <td>-1.41</td>\n",
       "      <td>-1.0057</td>\n",
       "      <td>Mar 23, 20</td>\n",
       "      <td>2.322367</td>\n",
       "    </tr>\n",
       "    <tr>\n",
       "      <th>2020-03-24</th>\n",
       "      <td>152.73</td>\n",
       "      <td>144.37</td>\n",
       "      <td>156.50</td>\n",
       "      <td>146.07</td>\n",
       "      <td>82672810</td>\n",
       "      <td>153.91</td>\n",
       "      <td>145.94</td>\n",
       "      <td>155.40</td>\n",
       "      <td>143.77</td>\n",
       "      <td>82818333</td>\n",
       "      <td>12.84</td>\n",
       "      <td>9.2053</td>\n",
       "      <td>Mar 24, 20</td>\n",
       "      <td>2.655272</td>\n",
       "    </tr>\n",
       "    <tr>\n",
       "      <th>2020-03-25</th>\n",
       "      <td>151.89</td>\n",
       "      <td>151.77</td>\n",
       "      <td>154.80</td>\n",
       "      <td>149.50</td>\n",
       "      <td>77573971</td>\n",
       "      <td>152.94</td>\n",
       "      <td>151.17</td>\n",
       "      <td>160.09</td>\n",
       "      <td>146.80</td>\n",
       "      <td>77920424</td>\n",
       "      <td>-1.47</td>\n",
       "      <td>-0.9887</td>\n",
       "      <td>Mar 25, 20</td>\n",
       "      <td>2.680049</td>\n",
       "    </tr>\n",
       "  </tbody>\n",
       "</table>\n",
       "</div>"
      ],
      "text/plain": [
       "            uClose   uOpen   uHigh    uLow   uVolume   close    open    high  \\\n",
       "date                                                                           \n",
       "2020-03-19  148.45  148.49  154.95  139.00  90010004  144.54  144.30  156.99   \n",
       "2020-03-20  142.97  150.00  148.50  136.36  87720768  138.87  147.00  150.10   \n",
       "2020-03-23  138.38  143.10  141.70  133.03  79189139  136.47  140.89  145.87   \n",
       "2020-03-24  152.73  144.37  156.50  146.07  82672810  153.91  145.94  155.40   \n",
       "2020-03-25  151.89  151.77  154.80  149.50  77573971  152.94  151.17  160.09   \n",
       "\n",
       "               low    volume  change  changePercent       label  \\\n",
       "date                                                              \n",
       "2020-03-19  144.00  87360288    2.33         1.7142  Mar 19, 20   \n",
       "2020-03-20  138.87  87693149   -5.39        -3.7919  Mar 20, 20   \n",
       "2020-03-23  134.38  81175659   -1.41        -1.0057  Mar 23, 20   \n",
       "2020-03-24  143.77  82818333   12.84         9.2053  Mar 24, 20   \n",
       "2020-03-25  146.80  77920424   -1.47        -0.9887  Mar 25, 20   \n",
       "\n",
       "            changeOverTime  \n",
       "date                        \n",
       "2020-03-19        2.491775  \n",
       "2020-03-20        2.435137  \n",
       "2020-03-23        2.322367  \n",
       "2020-03-24        2.655272  \n",
       "2020-03-25        2.680049  "
      ]
     },
     "execution_count": 34,
     "metadata": {},
     "output_type": "execute_result"
    }
   ],
   "source": [
    "stock_iexcloud.tail()"
   ]
  },
  {
   "cell_type": "code",
   "execution_count": 35,
   "metadata": {},
   "outputs": [
    {
     "data": {
      "image/png": "[encoded data removed]",
      "text/plain": [
       "<Figure size 1152x648 with 1 Axes>"
      ]
     },
     "metadata": {},
     "output_type": "display_data"
    }
   ],
   "source": [
    "title_string = 'IEX Cloud Historical Stock Information for ' + stock_symbol\n",
    "stock_iexcloud['close'].plot(figsize=(16,9), title=title_string)\n",
    "plt.show()"
   ]
  },
  {
   "cell_type": "markdown",
   "metadata": {
    "colab_type": "text",
    "id": "GuyiuIpuF15G"
   },
   "source": [
    "### 2.f) Electronic Data Gathering, Analysis, and Retrieval system (EDGAR)"
   ]
  },
  {
   "cell_type": "code",
   "execution_count": 36,
   "metadata": {
    "colab": {
     "base_uri": "https://localhost:8080/",
     "height": 439198
    },
    "colab_type": "code",
    "id": "HTYqL44sbuav",
    "outputId": "399e8007-6c40-422c-a33b-102847bac6bf"
   },
   "outputs": [
    {
     "name": "stdout",
     "output_type": "stream",
     "text": [
      "5 documents retrieved from EDGAR.\n"
     ]
    }
   ],
   "source": [
    "import edgar\n",
    "edgar_filing = edgar.Company(\"MICROSOFT CORP\", \"0000789019\")\n",
    "tree = edgar_filing.get_all_filings(filing_type = \"10-K\")\n",
    "docs = edgar_filing.get_documents(tree, no_of_documents=5)\n",
    "print(len(docs), \"documents retrieved from EDGAR.\")"
   ]
  },
  {
   "cell_type": "code",
   "execution_count": 37,
   "metadata": {},
   "outputs": [],
   "source": [
    "if notifyStatus: email_notify(\"Task 2. Acquire and Pre-Process Data completed! \"+datetime.now().strftime('%a %B %d, %Y %I:%M:%S %p'))"
   ]
  },
  {
   "cell_type": "markdown",
   "metadata": {},
   "source": [
    "## Task 3. Develop Strategy and Fit Models"
   ]
  },
  {
   "cell_type": "code",
   "execution_count": 38,
   "metadata": {},
   "outputs": [],
   "source": [
    "if notifyStatus: email_notify(\"Task 3. Develop Strategy and Fit Models has begun! \"+datetime.now().strftime('%a %B %d, %Y %I:%M:%S %p'))"
   ]
  },
  {
   "cell_type": "code",
   "execution_count": 39,
   "metadata": {},
   "outputs": [
    {
     "name": "stdout",
     "output_type": "stream",
     "text": [
      "<class 'pandas.core.frame.DataFrame'>\n",
      "DatetimeIndex: 754 entries, 2017-01-03 to 2019-12-31\n",
      "Data columns (total 2 columns):\n",
      " #   Column     Non-Null Count  Dtype  \n",
      "---  ------     --------------  -----  \n",
      " 0   adj_close  754 non-null    float64\n",
      " 1   price      754 non-null    float64\n",
      "dtypes: float64(2)\n",
      "memory usage: 17.7 KB\n"
     ]
    }
   ],
   "source": [
    "# Select the data source and pricing columns to use for modeling\n",
    "trading_model = stock_alpha.loc[start_date:end_date, ['adj_close']]\n",
    "# trading_model = stock_yahoo\n",
    "# trading_model = stock_quandl\n",
    "# trading_model = stock_iexcloud\n",
    "\n",
    "# Set up the standard column name for modeling\n",
    "trading_model['price'] = trading_model['adj_close']\n",
    "trading_model.info()"
   ]
  },
  {
   "cell_type": "code",
   "execution_count": 40,
   "metadata": {},
   "outputs": [
    {
     "data": {
      "text/html": [
       "<div>\n",
       "<style scoped>\n",
       "    .dataframe tbody tr th:only-of-type {\n",
       "        vertical-align: middle;\n",
       "    }\n",
       "\n",
       "    .dataframe tbody tr th {\n",
       "        vertical-align: top;\n",
       "    }\n",
       "\n",
       "    .dataframe thead th {\n",
       "        text-align: right;\n",
       "    }\n",
       "</style>\n",
       "<table border=\"1\" class=\"dataframe\">\n",
       "  <thead>\n",
       "    <tr style=\"text-align: right;\">\n",
       "      <th></th>\n",
       "      <th>adj_close</th>\n",
       "      <th>price</th>\n",
       "    </tr>\n",
       "  </thead>\n",
       "  <tbody>\n",
       "    <tr>\n",
       "      <th>2017-01-03</th>\n",
       "      <td>59.1329</td>\n",
       "      <td>59.1329</td>\n",
       "    </tr>\n",
       "    <tr>\n",
       "      <th>2017-01-04</th>\n",
       "      <td>58.8684</td>\n",
       "      <td>58.8684</td>\n",
       "    </tr>\n",
       "    <tr>\n",
       "      <th>2017-01-05</th>\n",
       "      <td>58.8684</td>\n",
       "      <td>58.8684</td>\n",
       "    </tr>\n",
       "    <tr>\n",
       "      <th>2017-01-06</th>\n",
       "      <td>59.3786</td>\n",
       "      <td>59.3786</td>\n",
       "    </tr>\n",
       "    <tr>\n",
       "      <th>2017-01-09</th>\n",
       "      <td>59.1896</td>\n",
       "      <td>59.1896</td>\n",
       "    </tr>\n",
       "  </tbody>\n",
       "</table>\n",
       "</div>"
      ],
      "text/plain": [
       "            adj_close    price\n",
       "2017-01-03    59.1329  59.1329\n",
       "2017-01-04    58.8684  58.8684\n",
       "2017-01-05    58.8684  58.8684\n",
       "2017-01-06    59.3786  59.3786\n",
       "2017-01-09    59.1896  59.1896"
      ]
     },
     "execution_count": 40,
     "metadata": {},
     "output_type": "execute_result"
    }
   ],
   "source": [
    "trading_model.head()"
   ]
  },
  {
   "cell_type": "code",
   "execution_count": 41,
   "metadata": {},
   "outputs": [
    {
     "data": {
      "text/html": [
       "<div>\n",
       "<style scoped>\n",
       "    .dataframe tbody tr th:only-of-type {\n",
       "        vertical-align: middle;\n",
       "    }\n",
       "\n",
       "    .dataframe tbody tr th {\n",
       "        vertical-align: top;\n",
       "    }\n",
       "\n",
       "    .dataframe thead th {\n",
       "        text-align: right;\n",
       "    }\n",
       "</style>\n",
       "<table border=\"1\" class=\"dataframe\">\n",
       "  <thead>\n",
       "    <tr style=\"text-align: right;\">\n",
       "      <th></th>\n",
       "      <th>adj_close</th>\n",
       "      <th>price</th>\n",
       "    </tr>\n",
       "  </thead>\n",
       "  <tbody>\n",
       "    <tr>\n",
       "      <th>2019-12-24</th>\n",
       "      <td>156.9526</td>\n",
       "      <td>156.9526</td>\n",
       "    </tr>\n",
       "    <tr>\n",
       "      <th>2019-12-26</th>\n",
       "      <td>158.2391</td>\n",
       "      <td>158.2391</td>\n",
       "    </tr>\n",
       "    <tr>\n",
       "      <th>2019-12-27</th>\n",
       "      <td>158.5283</td>\n",
       "      <td>158.5283</td>\n",
       "    </tr>\n",
       "    <tr>\n",
       "      <th>2019-12-30</th>\n",
       "      <td>157.1620</td>\n",
       "      <td>157.1620</td>\n",
       "    </tr>\n",
       "    <tr>\n",
       "      <th>2019-12-31</th>\n",
       "      <td>157.2717</td>\n",
       "      <td>157.2717</td>\n",
       "    </tr>\n",
       "  </tbody>\n",
       "</table>\n",
       "</div>"
      ],
      "text/plain": [
       "            adj_close     price\n",
       "2019-12-24   156.9526  156.9526\n",
       "2019-12-26   158.2391  158.2391\n",
       "2019-12-27   158.5283  158.5283\n",
       "2019-12-30   157.1620  157.1620\n",
       "2019-12-31   157.2717  157.2717"
      ]
     },
     "execution_count": 41,
     "metadata": {},
     "output_type": "execute_result"
    }
   ],
   "source": [
    "trading_model.tail()"
   ]
  },
  {
   "cell_type": "code",
   "execution_count": 42,
   "metadata": {},
   "outputs": [
    {
     "data": {
      "text/html": [
       "<div>\n",
       "<style scoped>\n",
       "    .dataframe tbody tr th:only-of-type {\n",
       "        vertical-align: middle;\n",
       "    }\n",
       "\n",
       "    .dataframe tbody tr th {\n",
       "        vertical-align: top;\n",
       "    }\n",
       "\n",
       "    .dataframe thead th {\n",
       "        text-align: right;\n",
       "    }\n",
       "</style>\n",
       "<table border=\"1\" class=\"dataframe\">\n",
       "  <thead>\n",
       "    <tr style=\"text-align: right;\">\n",
       "      <th></th>\n",
       "      <th>adj_close</th>\n",
       "      <th>price</th>\n",
       "      <th>SMA1</th>\n",
       "      <th>SMA2</th>\n",
       "    </tr>\n",
       "  </thead>\n",
       "  <tbody>\n",
       "    <tr>\n",
       "      <th>2017-03-15</th>\n",
       "      <td>61.5530</td>\n",
       "      <td>61.5530</td>\n",
       "      <td>61.332410</td>\n",
       "      <td>60.485568</td>\n",
       "    </tr>\n",
       "    <tr>\n",
       "      <th>2017-03-16</th>\n",
       "      <td>61.4484</td>\n",
       "      <td>61.4484</td>\n",
       "      <td>61.337640</td>\n",
       "      <td>60.531878</td>\n",
       "    </tr>\n",
       "    <tr>\n",
       "      <th>2017-03-17</th>\n",
       "      <td>61.6670</td>\n",
       "      <td>61.6670</td>\n",
       "      <td>61.354275</td>\n",
       "      <td>60.587850</td>\n",
       "    </tr>\n",
       "    <tr>\n",
       "      <th>2017-03-20</th>\n",
       "      <td>61.7241</td>\n",
       "      <td>61.7241</td>\n",
       "      <td>61.369010</td>\n",
       "      <td>60.644964</td>\n",
       "    </tr>\n",
       "    <tr>\n",
       "      <th>2017-03-21</th>\n",
       "      <td>61.0396</td>\n",
       "      <td>61.0396</td>\n",
       "      <td>61.355700</td>\n",
       "      <td>60.678184</td>\n",
       "    </tr>\n",
       "  </tbody>\n",
       "</table>\n",
       "</div>"
      ],
      "text/plain": [
       "            adj_close    price       SMA1       SMA2\n",
       "2017-03-15    61.5530  61.5530  61.332410  60.485568\n",
       "2017-03-16    61.4484  61.4484  61.337640  60.531878\n",
       "2017-03-17    61.6670  61.6670  61.354275  60.587850\n",
       "2017-03-20    61.7241  61.7241  61.369010  60.644964\n",
       "2017-03-21    61.0396  61.0396  61.355700  60.678184"
      ]
     },
     "execution_count": 42,
     "metadata": {},
     "output_type": "execute_result"
    }
   ],
   "source": [
    "# Set up the modeling strategy of using moving average lines\n",
    "SMA1 = 20\n",
    "SMA2 = 50\n",
    "trading_model['SMA1'] = trading_model['price'].rolling(SMA1).mean()\n",
    "trading_model['SMA2'] = trading_model['price'].rolling(SMA2).mean()\n",
    "\n",
    "# Drop the initial rows with the NaN value\n",
    "trading_model.dropna(inplace=True)\n",
    "trading_model.head()"
   ]
  },
  {
   "cell_type": "code",
   "execution_count": 43,
   "metadata": {},
   "outputs": [
    {
     "data": {
      "image/png": "[encoded data removed]",
      "text/plain": [
       "<Figure size 1152x648 with 1 Axes>"
      ]
     },
     "metadata": {},
     "output_type": "display_data"
    }
   ],
   "source": [
    "begin_plot = start_date\n",
    "end_plot = end_date\n",
    "\n",
    "# Customize the plotting period if requied\n",
    "# plot_length = 360\n",
    "# begin_plot = end_plot - timedelta(days=plot_length)\n",
    "\n",
    "title_string = 'The 20 and 50 day simple moving averages of ' + stock_symbol\n",
    "trading_model.loc[begin_plot:end_plot, ['price','SMA1','SMA2']].plot(figsize=(16,9), title=title_string)\n",
    "plt.show()"
   ]
  },
  {
   "cell_type": "code",
   "execution_count": 44,
   "metadata": {},
   "outputs": [
    {
     "data": {
      "text/html": [
       "<div>\n",
       "<style scoped>\n",
       "    .dataframe tbody tr th:only-of-type {\n",
       "        vertical-align: middle;\n",
       "    }\n",
       "\n",
       "    .dataframe tbody tr th {\n",
       "        vertical-align: top;\n",
       "    }\n",
       "\n",
       "    .dataframe thead th {\n",
       "        text-align: right;\n",
       "    }\n",
       "</style>\n",
       "<table border=\"1\" class=\"dataframe\">\n",
       "  <thead>\n",
       "    <tr style=\"text-align: right;\">\n",
       "      <th></th>\n",
       "      <th>adj_close</th>\n",
       "      <th>price</th>\n",
       "      <th>SMA1</th>\n",
       "      <th>SMA2</th>\n",
       "      <th>price_change</th>\n",
       "      <th>sma_change</th>\n",
       "      <th>signal</th>\n",
       "    </tr>\n",
       "  </thead>\n",
       "  <tbody>\n",
       "    <tr>\n",
       "      <th>2017-03-15</th>\n",
       "      <td>61.5530</td>\n",
       "      <td>61.5530</td>\n",
       "      <td>61.332410</td>\n",
       "      <td>60.485568</td>\n",
       "      <td>NaN</td>\n",
       "      <td>0.846842</td>\n",
       "      <td>1</td>\n",
       "    </tr>\n",
       "    <tr>\n",
       "      <th>2017-03-16</th>\n",
       "      <td>61.4484</td>\n",
       "      <td>61.4484</td>\n",
       "      <td>61.337640</td>\n",
       "      <td>60.531878</td>\n",
       "      <td>-0.1046</td>\n",
       "      <td>0.805762</td>\n",
       "      <td>1</td>\n",
       "    </tr>\n",
       "    <tr>\n",
       "      <th>2017-03-17</th>\n",
       "      <td>61.6670</td>\n",
       "      <td>61.6670</td>\n",
       "      <td>61.354275</td>\n",
       "      <td>60.587850</td>\n",
       "      <td>0.2186</td>\n",
       "      <td>0.766425</td>\n",
       "      <td>1</td>\n",
       "    </tr>\n",
       "    <tr>\n",
       "      <th>2017-03-20</th>\n",
       "      <td>61.7241</td>\n",
       "      <td>61.7241</td>\n",
       "      <td>61.369010</td>\n",
       "      <td>60.644964</td>\n",
       "      <td>0.0571</td>\n",
       "      <td>0.724046</td>\n",
       "      <td>1</td>\n",
       "    </tr>\n",
       "    <tr>\n",
       "      <th>2017-03-21</th>\n",
       "      <td>61.0396</td>\n",
       "      <td>61.0396</td>\n",
       "      <td>61.355700</td>\n",
       "      <td>60.678184</td>\n",
       "      <td>-0.6845</td>\n",
       "      <td>0.677516</td>\n",
       "      <td>1</td>\n",
       "    </tr>\n",
       "    <tr>\n",
       "      <th>2017-03-22</th>\n",
       "      <td>61.8191</td>\n",
       "      <td>61.8191</td>\n",
       "      <td>61.387545</td>\n",
       "      <td>60.730774</td>\n",
       "      <td>0.7795</td>\n",
       "      <td>0.656771</td>\n",
       "      <td>1</td>\n",
       "    </tr>\n",
       "    <tr>\n",
       "      <th>2017-03-23</th>\n",
       "      <td>61.6670</td>\n",
       "      <td>61.6670</td>\n",
       "      <td>61.399425</td>\n",
       "      <td>60.780700</td>\n",
       "      <td>-0.1521</td>\n",
       "      <td>0.618725</td>\n",
       "      <td>1</td>\n",
       "    </tr>\n",
       "    <tr>\n",
       "      <th>2017-03-24</th>\n",
       "      <td>61.7716</td>\n",
       "      <td>61.7716</td>\n",
       "      <td>61.416535</td>\n",
       "      <td>60.821946</td>\n",
       "      <td>0.1046</td>\n",
       "      <td>0.594589</td>\n",
       "      <td>1</td>\n",
       "    </tr>\n",
       "    <tr>\n",
       "      <th>2017-03-27</th>\n",
       "      <td>61.8857</td>\n",
       "      <td>61.8857</td>\n",
       "      <td>61.457890</td>\n",
       "      <td>60.876434</td>\n",
       "      <td>0.1141</td>\n",
       "      <td>0.581456</td>\n",
       "      <td>1</td>\n",
       "    </tr>\n",
       "    <tr>\n",
       "      <th>2017-03-28</th>\n",
       "      <td>62.0663</td>\n",
       "      <td>62.0663</td>\n",
       "      <td>61.520155</td>\n",
       "      <td>60.932834</td>\n",
       "      <td>0.1806</td>\n",
       "      <td>0.587321</td>\n",
       "      <td>1</td>\n",
       "    </tr>\n",
       "  </tbody>\n",
       "</table>\n",
       "</div>"
      ],
      "text/plain": [
       "            adj_close    price       SMA1       SMA2  price_change  \\\n",
       "2017-03-15    61.5530  61.5530  61.332410  60.485568           NaN   \n",
       "2017-03-16    61.4484  61.4484  61.337640  60.531878       -0.1046   \n",
       "2017-03-17    61.6670  61.6670  61.354275  60.587850        0.2186   \n",
       "2017-03-20    61.7241  61.7241  61.369010  60.644964        0.0571   \n",
       "2017-03-21    61.0396  61.0396  61.355700  60.678184       -0.6845   \n",
       "2017-03-22    61.8191  61.8191  61.387545  60.730774        0.7795   \n",
       "2017-03-23    61.6670  61.6670  61.399425  60.780700       -0.1521   \n",
       "2017-03-24    61.7716  61.7716  61.416535  60.821946        0.1046   \n",
       "2017-03-27    61.8857  61.8857  61.457890  60.876434        0.1141   \n",
       "2017-03-28    62.0663  62.0663  61.520155  60.932834        0.1806   \n",
       "\n",
       "            sma_change  signal  \n",
       "2017-03-15    0.846842       1  \n",
       "2017-03-16    0.805762       1  \n",
       "2017-03-17    0.766425       1  \n",
       "2017-03-20    0.724046       1  \n",
       "2017-03-21    0.677516       1  \n",
       "2017-03-22    0.656771       1  \n",
       "2017-03-23    0.618725       1  \n",
       "2017-03-24    0.594589       1  \n",
       "2017-03-27    0.581456       1  \n",
       "2017-03-28    0.587321       1  "
      ]
     },
     "execution_count": 44,
     "metadata": {},
     "output_type": "execute_result"
    }
   ],
   "source": [
    "# Generate the trading signals (1 : Buying, -1 : Selling)\n",
    "trading_model['price_change'] = trading_model['price'].diff()\n",
    "trading_model['sma_change'] = trading_model['SMA1'] - trading_model['SMA2']\n",
    "trading_model['signal']= np.where(trading_model['sma_change'] > 0, 1, -1)\n",
    "trading_model.head(10)"
   ]
  },
  {
   "cell_type": "code",
   "execution_count": 45,
   "metadata": {},
   "outputs": [
    {
     "data": {
      "text/html": [
       "<div>\n",
       "<style scoped>\n",
       "    .dataframe tbody tr th:only-of-type {\n",
       "        vertical-align: middle;\n",
       "    }\n",
       "\n",
       "    .dataframe tbody tr th {\n",
       "        vertical-align: top;\n",
       "    }\n",
       "\n",
       "    .dataframe thead th {\n",
       "        text-align: right;\n",
       "    }\n",
       "</style>\n",
       "<table border=\"1\" class=\"dataframe\">\n",
       "  <thead>\n",
       "    <tr style=\"text-align: right;\">\n",
       "      <th></th>\n",
       "      <th>adj_close</th>\n",
       "      <th>price</th>\n",
       "      <th>SMA1</th>\n",
       "      <th>SMA2</th>\n",
       "      <th>price_change</th>\n",
       "      <th>sma_change</th>\n",
       "      <th>signal</th>\n",
       "    </tr>\n",
       "  </thead>\n",
       "  <tbody>\n",
       "    <tr>\n",
       "      <th>2019-12-17</th>\n",
       "      <td>154.2699</td>\n",
       "      <td>154.2699</td>\n",
       "      <td>150.993765</td>\n",
       "      <td>145.373754</td>\n",
       "      <td>-0.8377</td>\n",
       "      <td>5.620011</td>\n",
       "      <td>1</td>\n",
       "    </tr>\n",
       "    <tr>\n",
       "      <th>2019-12-18</th>\n",
       "      <td>153.9508</td>\n",
       "      <td>153.9508</td>\n",
       "      <td>151.217700</td>\n",
       "      <td>145.755932</td>\n",
       "      <td>-0.3191</td>\n",
       "      <td>5.461768</td>\n",
       "      <td>1</td>\n",
       "    </tr>\n",
       "    <tr>\n",
       "      <th>2019-12-19</th>\n",
       "      <td>155.2871</td>\n",
       "      <td>155.2871</td>\n",
       "      <td>151.521370</td>\n",
       "      <td>146.113750</td>\n",
       "      <td>1.3363</td>\n",
       "      <td>5.407620</td>\n",
       "      <td>1</td>\n",
       "    </tr>\n",
       "    <tr>\n",
       "      <th>2019-12-20</th>\n",
       "      <td>156.9825</td>\n",
       "      <td>156.9825</td>\n",
       "      <td>151.916795</td>\n",
       "      <td>146.488380</td>\n",
       "      <td>1.6954</td>\n",
       "      <td>5.428415</td>\n",
       "      <td>1</td>\n",
       "    </tr>\n",
       "    <tr>\n",
       "      <th>2019-12-23</th>\n",
       "      <td>156.9825</td>\n",
       "      <td>156.9825</td>\n",
       "      <td>152.306735</td>\n",
       "      <td>146.851482</td>\n",
       "      <td>0.0000</td>\n",
       "      <td>5.455253</td>\n",
       "      <td>1</td>\n",
       "    </tr>\n",
       "    <tr>\n",
       "      <th>2019-12-24</th>\n",
       "      <td>156.9526</td>\n",
       "      <td>156.9526</td>\n",
       "      <td>152.613400</td>\n",
       "      <td>147.216570</td>\n",
       "      <td>-0.0299</td>\n",
       "      <td>5.396830</td>\n",
       "      <td>1</td>\n",
       "    </tr>\n",
       "    <tr>\n",
       "      <th>2019-12-26</th>\n",
       "      <td>158.2391</td>\n",
       "      <td>158.2391</td>\n",
       "      <td>152.944500</td>\n",
       "      <td>147.567134</td>\n",
       "      <td>1.2865</td>\n",
       "      <td>5.377366</td>\n",
       "      <td>1</td>\n",
       "    </tr>\n",
       "    <tr>\n",
       "      <th>2019-12-27</th>\n",
       "      <td>158.5283</td>\n",
       "      <td>158.5283</td>\n",
       "      <td>153.275600</td>\n",
       "      <td>147.946640</td>\n",
       "      <td>0.2892</td>\n",
       "      <td>5.328960</td>\n",
       "      <td>1</td>\n",
       "    </tr>\n",
       "    <tr>\n",
       "      <th>2019-12-30</th>\n",
       "      <td>157.1620</td>\n",
       "      <td>157.1620</td>\n",
       "      <td>153.585255</td>\n",
       "      <td>148.313132</td>\n",
       "      <td>-1.3663</td>\n",
       "      <td>5.272123</td>\n",
       "      <td>1</td>\n",
       "    </tr>\n",
       "    <tr>\n",
       "      <th>2019-12-31</th>\n",
       "      <td>157.2717</td>\n",
       "      <td>157.2717</td>\n",
       "      <td>153.991645</td>\n",
       "      <td>148.727140</td>\n",
       "      <td>0.1097</td>\n",
       "      <td>5.264505</td>\n",
       "      <td>1</td>\n",
       "    </tr>\n",
       "  </tbody>\n",
       "</table>\n",
       "</div>"
      ],
      "text/plain": [
       "            adj_close     price        SMA1        SMA2  price_change  \\\n",
       "2019-12-17   154.2699  154.2699  150.993765  145.373754       -0.8377   \n",
       "2019-12-18   153.9508  153.9508  151.217700  145.755932       -0.3191   \n",
       "2019-12-19   155.2871  155.2871  151.521370  146.113750        1.3363   \n",
       "2019-12-20   156.9825  156.9825  151.916795  146.488380        1.6954   \n",
       "2019-12-23   156.9825  156.9825  152.306735  146.851482        0.0000   \n",
       "2019-12-24   156.9526  156.9526  152.613400  147.216570       -0.0299   \n",
       "2019-12-26   158.2391  158.2391  152.944500  147.567134        1.2865   \n",
       "2019-12-27   158.5283  158.5283  153.275600  147.946640        0.2892   \n",
       "2019-12-30   157.1620  157.1620  153.585255  148.313132       -1.3663   \n",
       "2019-12-31   157.2717  157.2717  153.991645  148.727140        0.1097   \n",
       "\n",
       "            sma_change  signal  \n",
       "2019-12-17    5.620011       1  \n",
       "2019-12-18    5.461768       1  \n",
       "2019-12-19    5.407620       1  \n",
       "2019-12-20    5.428415       1  \n",
       "2019-12-23    5.455253       1  \n",
       "2019-12-24    5.396830       1  \n",
       "2019-12-26    5.377366       1  \n",
       "2019-12-27    5.328960       1  \n",
       "2019-12-30    5.272123       1  \n",
       "2019-12-31    5.264505       1  "
      ]
     },
     "execution_count": 45,
     "metadata": {},
     "output_type": "execute_result"
    }
   ],
   "source": [
    "trading_model.tail(10)"
   ]
  },
  {
   "cell_type": "code",
   "execution_count": 46,
   "metadata": {},
   "outputs": [],
   "source": [
    "if notifyStatus: email_notify(\"Task 3. Develop Strategy and Fit Models completed! \"+datetime.now().strftime('%a %B %d, %Y %I:%M:%S %p'))"
   ]
  },
  {
   "cell_type": "markdown",
   "metadata": {},
   "source": [
    "## Task 4. Backtest Models"
   ]
  },
  {
   "cell_type": "code",
   "execution_count": 47,
   "metadata": {},
   "outputs": [],
   "source": [
    "if notifyStatus: email_notify(\"Task 4. Backtest Models has begun! \"+datetime.now().strftime('%a %B %d, %Y %I:%M:%S %p'))"
   ]
  },
  {
   "cell_type": "code",
   "execution_count": 48,
   "metadata": {},
   "outputs": [],
   "source": [
    "if notifyStatus: email_notify(\"Task 4. Backtest Models completed! \"+datetime.now().strftime('%a %B %d, %Y %I:%M:%S %p'))"
   ]
  },
  {
   "cell_type": "markdown",
   "metadata": {},
   "source": [
    "## Task 5. Evaluate Performance"
   ]
  },
  {
   "cell_type": "code",
   "execution_count": 49,
   "metadata": {},
   "outputs": [],
   "source": [
    "if notifyStatus: email_notify(\"Task 5. Evaluate Performance has begun! \"+datetime.now().strftime('%a %B %d, %Y %I:%M:%S %p'))"
   ]
  },
  {
   "cell_type": "code",
   "execution_count": 50,
   "metadata": {},
   "outputs": [],
   "source": [
    "if notifyStatus: email_notify(\"Task 5. Evaluate Performance completed! \"+datetime.now().strftime('%a %B %d, %Y %I:%M:%S %p'))"
   ]
  },
  {
   "cell_type": "code",
   "execution_count": 51,
   "metadata": {},
   "outputs": [
    {
     "name": "stdout",
     "output_type": "stream",
     "text": [
      "Total time for the script: 0:00:24.815654\n"
     ]
    }
   ],
   "source": [
    "print ('Total time for the script:',(datetime.now() - startTimeScript))"
   ]
  }
 ],
 "metadata": {
  "colab": {
   "collapsed_sections": [],
   "name": "Algotrading_Datasources.ipynb",
   "provenance": [],
   "version": "0.3.2"
  },
  "kernelspec": {
   "display_name": "Python 3",
   "language": "python",
   "name": "python3"
  },
  "language_info": {
   "codemirror_mode": {
    "name": "ipython",
    "version": 3
   },
   "file_extension": ".py",
   "mimetype": "text/x-python",
   "name": "python",
   "nbconvert_exporter": "python",
   "pygments_lexer": "ipython3",
   "version": "3.7.6"
  }
 },
 "nbformat": 4,
 "nbformat_minor": 4
}
