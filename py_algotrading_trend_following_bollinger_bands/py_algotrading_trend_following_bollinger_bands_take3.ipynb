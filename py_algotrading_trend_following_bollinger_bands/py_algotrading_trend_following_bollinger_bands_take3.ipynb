{
 "cells": [
  {
   "cell_type": "markdown",
   "metadata": {
    "colab_type": "text",
    "id": "nn0Ld1RjTekC"
   },
   "source": [
    "# Algorithmic Trading Model for Trend-Following with Bollinger Bands Strategy Using Python Take 3\n",
    "### David Lowe\n",
    "### May 19, 2021\n",
    "\n",
    "NOTE: This script is for learning purposes only and does not constitute a recommendation for buying or selling any stock mentioned in this script.\n",
    "\n",
    "SUMMARY: This project aims to construct and test an algorithmic trading model and document the end-to-end steps using a template.\n",
    "\n",
    "INTRODUCTION: This algorithmic trading model examines a simple mean-reversion strategy for a stock. The model enters a position when the price reaches either the upper or lower Bollinger Bands for the last X number of days. The model will exit the trade when the stock price crosses the middle Bollinger Band of the same window size.\n",
    "\n",
    "In iteration Take1, we set up the models using a trend window size for long trades only. The window size varied from 10 to 50 trading days at a 5-day increment, and we fixed the Bollinger Band factor at 2.0.\n",
    "\n",
    "In iteration Take2, we set up the models using a trend window size for long and short trades. The window size varied from 10 to 50 trading days at a 5-day increment, and we fixed the Bollinger Band factor at 2.0.\n",
    "\n",
    "In this Take3 iteration, we will experiment with different Bollinger Band factors from 1.0 to 3.0. The models will use a trend window size for long trades only. The window size will vary from 10 to 50 trading days at a 5-day increment.\n",
    "\n",
    "ANALYSIS: In iteration Take1, we analyzed the stock prices for Costco Wholesale (COST) between January 1, 2016, and May 7, 2021. The top trading model produced a profit of 101.66 dollars per share. The buy-and-hold approach yielded a gain of 223.02 dollars per share.\n",
    "\n",
    "In iteration Take2, we analyzed the stock prices for Costco Wholesale (COST) between January 1, 2016, and May 7, 2021. The top trading model produced a profit of -1.26 dollars per share. The buy-and-hold approach yielded a gain of 223.02 dollars per share.\n",
    "\n",
    "In this Take3 iteration, we analyzed the stock prices for Costco Wholesale (COST) between January 1, 2016, and May 7, 2021. The top trading model produced a profit of 138.21 dollars per share. The buy-and-hold approach yielded a gain of 223.02 dollars per share.\n",
    "\n",
    "CONCLUSION: For the stock of COST during the modeling time frame, the long-only trading strategy with variable Bollinger Band factors did not produce a better return than the buy-and-hold approach. We should consider modeling this stock further by experimenting with more variations of the strategy.\n",
    "\n",
    "Dataset ML Model: Time series analysis with numerical attributes\n",
    "\n",
    "Dataset Used: Quandl\n",
    "\n",
    "An algorithmic trading modeling project generally can be broken down into about five major tasks:\n",
    "\n",
    "1. Prepare Environment\n",
    "2. Acquire and Pre-Process Data\n",
    "3. Implement and Train Models\n",
    "4. Back-test Models\n",
    "5. Evaluate Strategy Performance"
   ]
  },
  {
   "cell_type": "markdown",
   "metadata": {
    "colab_type": "text",
    "id": "-DieEv9pTekE"
   },
   "source": [
    "## Task 1 - Prepare Environment"
   ]
  },
  {
   "cell_type": "code",
   "execution_count": 1,
   "metadata": {
    "collapsed": false,
    "jupyter": {
     "outputs_hidden": false
    },
    "pycharm": {
     "name": "#%%\n"
    }
   },
   "outputs": [],
   "source": [
    "# # Install the necessary packages for Colab\n",
    "# !pip install python-dotenv PyMySQL"
   ]
  },
  {
   "cell_type": "code",
   "execution_count": 2,
   "metadata": {
    "collapsed": false,
    "jupyter": {
     "outputs_hidden": false
    },
    "pycharm": {
     "name": "#%%\n"
    }
   },
   "outputs": [],
   "source": [
    "# # Retrieve the GPU information from Colab\n",
    "# gpu_info = !nvidia-smi\n",
    "# gpu_info = '\\n'.join(gpu_info)\n",
    "# if gpu_info.find('failed') >= 0:\n",
    "#     print('Select the Runtime → \"Change runtime type\" menu to enable a GPU accelerator, ')\n",
    "#     print('and then re-execute this cell.')\n",
    "# else:\n",
    "#     print(gpu_info)"
   ]
  },
  {
   "cell_type": "code",
   "execution_count": 3,
   "metadata": {
    "collapsed": false,
    "jupyter": {
     "outputs_hidden": false
    },
    "pycharm": {
     "name": "#%%\n"
    }
   },
   "outputs": [],
   "source": [
    "# # Retrieve the memory configuration from Colab\n",
    "# from psutil import virtual_memory\n",
    "# ram_gb = virtual_memory().total / 1e9\n",
    "# print('Your runtime has {:.1f} gigabytes of available RAM\\n'.format(ram_gb))\n",
    "#\n",
    "# if ram_gb < 20:\n",
    "#     print('To enable a high-RAM runtime, select the Runtime → \"Change runtime type\"')\n",
    "#     print('menu, and then select High-RAM in the Runtime shape dropdown. Then, ')\n",
    "#     print('re-execute this cell.')\n",
    "# else:\n",
    "#     print('You are using a high-RAM runtime!')"
   ]
  },
  {
   "cell_type": "code",
   "execution_count": 4,
   "metadata": {
    "collapsed": false,
    "jupyter": {
     "outputs_hidden": false
    },
    "pycharm": {
     "name": "#%%\n"
    }
   },
   "outputs": [],
   "source": [
    "# # Retrieve the CPU information\n",
    "# ncpu = !nproc\n",
    "# print(\"The number of available CPUs is:\", ncpu[0])"
   ]
  },
  {
   "cell_type": "markdown",
   "metadata": {
    "pycharm": {
     "name": "#%% md\n"
    }
   },
   "source": [
    "### 1.a) Load libraries and modules"
   ]
  },
  {
   "cell_type": "code",
   "execution_count": 5,
   "metadata": {
    "colab": {},
    "colab_type": "code",
    "collapsed": false,
    "id": "8IwyGxxuTekE",
    "jupyter": {
     "outputs_hidden": false
    },
    "pycharm": {
     "name": "#%%\n"
    }
   },
   "outputs": [],
   "source": [
    "import pandas as pd\n",
    "import matplotlib.pyplot as plt\n",
    "import os\n",
    "import sys\n",
    "from datetime import date, datetime, timedelta\n",
    "import requests\n",
    "import json\n",
    "from dotenv import load_dotenv\n",
    "# import pandas_datareader.data as pdr\n",
    "\n",
    "# Begin the timer for the script processing\n",
    "startTimeScript = datetime.now()"
   ]
  },
  {
   "cell_type": "markdown",
   "metadata": {
    "pycharm": {
     "name": "#%% md\n"
    }
   },
   "source": [
    "### 1.b) Set up the controlling parameters and functions¶"
   ]
  },
  {
   "cell_type": "code",
   "execution_count": 6,
   "metadata": {
    "colab": {
     "base_uri": "https://localhost:8080/",
     "height": 51
    },
    "colab_type": "code",
    "collapsed": false,
    "id": "Zagik25QTekS",
    "jupyter": {
     "outputs_hidden": false
    },
    "outputId": "d14332ba-63ec-4224-ca13-c4ecdab3541a",
    "pycharm": {
     "name": "#%%\n"
    }
   },
   "outputs": [
    {
     "name": "stdout",
     "output_type": "stream",
     "text": [
      "Starting date for the model: 2016-01-01\n",
      "Ending date for the model: 2021-05-07\n",
      "First date of data we need for modeling: 2015-09-23\n",
      "Last date of data we need for modeling: 2021-05-07\n"
     ]
    }
   ],
   "source": [
    "# Specify the key modeling parameters below\n",
    "STOCK_SYMBOL = 'COST'\n",
    "INITIAL_CAPITAL = 0\n",
    "\n",
    "# Specify the moving average parameters for the trading strategy\n",
    "WINDOW_MIN = 10\n",
    "WINDOW_MAX = 50\n",
    "WINDOW_INCREMENT = 5\n",
    "VOL_MA_MIN = 10\n",
    "VOL_MA_MAX = 10\n",
    "VOL_MA_INCREMENT = 10\n",
    "HOLDING_MIN = 999\n",
    "HOLDING_MAX = 999\n",
    "HOLDING_INCREMENT = 10\n",
    "BBANDS_MAX = 30\n",
    "BBANDS_MIN = 10\n",
    "BBANDS_INCREMENT = 5\n",
    "GAIN_MAX = 0.99\n",
    "LOSS_MAX = 0.99\n",
    "\n",
    "MEAN_REVERSION = False\n",
    "TREND_FOLLOWING = True\n",
    "if (MEAN_REVERSION and TREND_FOLLOWING) or (not MEAN_REVERSION and not TREND_FOLLOWING): sys.exit(\"Cannot have both MEAN_REVERSION and TREND_FOLLOWING flags be set to the same value. Script Processing Aborted!!!\")\n",
    "\n",
    "LONG_ONLY = True\n",
    "SHORT_ONLY = False\n",
    "if LONG_ONLY and SHORT_ONLY: sys.exit(\"Cannot have both LONG_ONLY and SHORT_LONG flags be set to True. Script Processing Aborted!!!\")\n",
    "\n",
    "# The number of extra days of data we need for calculating moving averages (usually equals to the largest value of slow MA)\n",
    "EXTRA_DAYS = WINDOW_MAX\n",
    "# EXTRA_DAYS = SLOW_MA_MAX\n",
    "\n",
    "MODEL_START_DATE = date(2016, 1, 1)\n",
    "print(\"Starting date for the model:\", MODEL_START_DATE)\n",
    "\n",
    "# MODEL_END_DATE = datetime.now().date()\n",
    "MODEL_END_DATE = date(2021, 5, 7)\n",
    "print(\"Ending date for the model:\", MODEL_END_DATE)\n",
    "\n",
    "# data_start_date = MODEL_START_DATE\n",
    "data_start_date = MODEL_START_DATE - timedelta(days=int(EXTRA_DAYS * 2)) # Need more pricing data to calculate moving averages\n",
    "print(\"First date of data we need for modeling:\", data_start_date)\n",
    "\n",
    "data_end_date = MODEL_END_DATE\n",
    "print(\"Last date of data we need for modeling:\", data_end_date)"
   ]
  },
  {
   "cell_type": "code",
   "execution_count": 7,
   "metadata": {
    "colab": {
     "base_uri": "https://localhost:8080/",
     "height": 34
    },
    "colab_type": "code",
    "collapsed": false,
    "id": "aTI50KL9TekN",
    "jupyter": {
     "outputs_hidden": false
    },
    "outputId": "68f4a687-6e33-48e5-ef46-c23d7994bc3e",
    "pycharm": {
     "name": "#%%\n"
    }
   },
   "outputs": [],
   "source": [
    "# Specify the script running parameters below\n",
    "\n",
    "# Set Pandas options\n",
    "pd.set_option(\"display.max_rows\", None)\n",
    "pd.set_option(\"display.max_columns\", None)\n",
    "pd.set_option(\"display.width\", 384)\n",
    "\n",
    "# Configure the plotting style\n",
    "plt.style.use('seaborn')\n",
    "\n",
    "# Set up the verbose flag to print detailed messages for debugging (setting True will activate!)\n",
    "verbose_signals = False\n",
    "verbose_models = False\n",
    "verbose_graphs = False\n",
    "verbose_trade_actions = False\n",
    "verbose_portfolios = False\n",
    "verbose_transactions = False\n",
    "verbose_positions = False"
   ]
  },
  {
   "cell_type": "code",
   "execution_count": 8,
   "metadata": {
    "collapsed": false,
    "jupyter": {
     "outputs_hidden": false
    },
    "pycharm": {
     "name": "#%%\n"
    }
   },
   "outputs": [
    {
     "data": {
      "text/plain": [
       "True"
      ]
     },
     "execution_count": 8,
     "metadata": {},
     "output_type": "execute_result"
    }
   ],
   "source": [
    "# Set up the parent directory location for loading the dotenv files\n",
    "\n",
    "# Mount Google Drive locally for storing files\n",
    "# from google.colab import drive\n",
    "# drive.mount('/content/gdrive')\n",
    "# gdrivePrefix = '/content/gdrive/My Drive/Colab_Downloads/'\n",
    "# env_path = '/content/gdrive/My Drive/Colab Notebooks/'\n",
    "# dotenv_path = env_path + \"python_script.env\"\n",
    "# load_dotenv(dotenv_path=dotenv_path)\n",
    "\n",
    "# Set up access to the dotenv file on local PC\n",
    "env_path = \"/Users/david/PycharmProjects/\"\n",
    "dotenv_path = env_path + \"python_script.env\"\n",
    "load_dotenv(dotenv_path=dotenv_path)"
   ]
  },
  {
   "cell_type": "markdown",
   "metadata": {
    "colab_type": "text",
    "id": "Xa51FMY_TekZ"
   },
   "source": [
    "## Task 2 - Acquire and Pre-Process Data"
   ]
  },
  {
   "cell_type": "code",
   "execution_count": 9,
   "metadata": {
    "colab": {},
    "colab_type": "code",
    "collapsed": false,
    "id": "Og9L0byuTekd",
    "jupyter": {
     "outputs_hidden": false
    },
    "pycharm": {
     "name": "#%%\n"
    }
   },
   "outputs": [
    {
     "name": "stdout",
     "output_type": "stream",
     "text": [
      "1416 data points retrieved from the API call.\n"
     ]
    }
   ],
   "source": [
    "# Set up the data service provider and data acquisition parameters\n",
    "data_service = 'Quandl'\n",
    "\n",
    "# Check and see whether the API key is available\n",
    "api_key = os.environ.get('QUANDL_API')\n",
    "if api_key is None: sys.exit(\"API key for Quandl not available. Script Processing Aborted!!!\")\n",
    "\n",
    "start_date_string = data_start_date.strftime('%Y-%m-%d')\n",
    "end_date_string = data_end_date.strftime('%Y-%m-%d')\n",
    "api_url = \"https://www.quandl.com/api/v3/datatables/SHARADAR/SEP.json?date.gte=%s&date.lte=%s&ticker=%s&api_key=%s&qopts.data_version=2\" % (start_date_string, end_date_string, STOCK_SYMBOL, api_key)\n",
    "response = requests.get(api_url)\n",
    "resp_dict = json.loads(response.text)\n",
    "stock_rawdata = pd.DataFrame(resp_dict['datatable']['data'])\n",
    "print(len(stock_rawdata), 'data points retrieved from the API call.')"
   ]
  },
  {
   "cell_type": "code",
   "execution_count": 10,
   "metadata": {},
   "outputs": [
    {
     "name": "stdout",
     "output_type": "stream",
     "text": [
      "           ticker        date    open     high     low   close     volume  closeadj  closeunadj lastupdated\n",
      "date                                                                                                       \n",
      "2015-09-23   COST  2015-09-23  143.46  145.630  142.65  145.43  2310212.0   128.536      145.43  2021-04-29\n",
      "2015-09-24   COST  2015-09-24  144.37  145.420  143.65  144.87  1974868.0   128.041      144.87  2021-04-29\n",
      "2015-09-25   COST  2015-09-25  145.95  146.900  145.01  145.55  1845691.0   128.642      145.55  2021-04-29\n",
      "2015-09-28   COST  2015-09-28  145.39  145.800  143.29  143.55  2506451.0   126.875      143.55  2021-04-29\n",
      "2015-09-29   COST  2015-09-29  143.04  144.135  142.25  143.72  2513094.0   127.025      143.72  2021-04-29\n",
      "\n",
      "           ticker        date    open     high     low   close     volume  closeadj  closeunadj lastupdated\n",
      "date                                                                                                       \n",
      "2021-05-03   COST  2021-05-03  373.84  379.620  372.89  379.32  2685849.0    379.32      379.32  2021-05-03\n",
      "2021-05-04   COST  2021-05-04  379.03  379.230  373.75  375.29  2131511.0    375.29      375.29  2021-05-06\n",
      "2021-05-05   COST  2021-05-05  376.35  377.516  372.05  372.50  1905324.0    372.50      372.50  2021-05-05\n",
      "2021-05-06   COST  2021-05-06  373.19  382.940  373.19  382.76  2641378.0    382.76      382.76  2021-05-06\n",
      "2021-05-07   COST  2021-05-07  382.83  386.450  382.20  384.32  1817365.0    384.32      384.32  2021-05-07\n"
     ]
    }
   ],
   "source": [
    "stock_rawdata.columns = ['ticker', 'date', 'open', 'high', 'low', 'close', 'volume', 'closeadj', 'closeunadj', 'lastupdated']\n",
    "# stock_rawdata.set_index('date', inplace=True)\n",
    "stock_rawdata.index = pd.to_datetime(stock_rawdata.date)\n",
    "stock_pricing = stock_rawdata.sort_index(ascending=True)\n",
    "print(stock_pricing.head())\n",
    "print()\n",
    "print(stock_pricing.tail())"
   ]
  },
  {
   "cell_type": "code",
   "execution_count": 11,
   "metadata": {
    "colab": {
     "base_uri": "https://localhost:8080/",
     "height": 535
    },
    "colab_type": "code",
    "collapsed": false,
    "id": "Tfuu40coTekv",
    "jupyter": {
     "outputs_hidden": false
    },
    "outputId": "2357753d-6c83-46ad-e8cc-8593497d20ff",
    "pycharm": {
     "name": "#%%\n"
    }
   },
   "outputs": [
    {
     "data": {
      "image/png": "[encoded data removed]",
      "text/plain": [
       "<Figure size 1152x648 with 1 Axes>"
      ]
     },
     "metadata": {},
     "output_type": "display_data"
    }
   ],
   "source": [
    "# Set up the standard column name for modeling\n",
    "# Column names may be data-provider specific!\n",
    "MODEL_TEMPLATE = stock_pricing.loc[:, ['open','closeadj','volume']]\n",
    "MODEL_TEMPLATE.rename(columns={'open': 'open_price', 'closeadj': 'close_price', 'volume': 'trading_volume'}, inplace=True)\n",
    "plot_title = 'Historical Stock Close Price for ' + STOCK_SYMBOL + ' from ' + data_service\n",
    "MODEL_TEMPLATE['close_price'].plot(figsize=(16,9), title=plot_title)\n",
    "plt.show()"
   ]
  },
  {
   "cell_type": "markdown",
   "metadata": {
    "colab_type": "text",
    "id": "UKNJYDlGTek0"
   },
   "source": [
    "## Task 3 - Implement and Train Models"
   ]
  },
  {
   "cell_type": "code",
   "execution_count": 12,
   "metadata": {
    "colab": {},
    "colab_type": "code",
    "collapsed": false,
    "id": "yfQTRXPnTelA",
    "jupyter": {
     "outputs_hidden": false
    },
    "pycharm": {
     "name": "#%%\n"
    }
   },
   "outputs": [],
   "source": [
    "# Define the function that will generate the indicators and trading signals\n",
    "# General logic for processing the trading signals for each time period\n",
    "# 1 - Check to see whether we need to execute a trading action from the previous day's signal. Once the trading action is executed, move on to the next day.\n",
    "# 2 - If no trade actions to execute on open, check to see whether we have any breakout that generates a trading signal. If we have a new trading signal and currently has no position, mark the entry action for the next day.\n",
    "# 3 - If no new signal for today, check to see whether we need to exit any existing position. If we have an exit signal and currently hold a position, mark the exit action for the next day.\n",
    "# 4 - If nothing is going on, mark up the trading model appropriately and move to the next day.\n",
    "\n",
    "def populate_signals(window=WINDOW_MIN, bbands_factor=BBANDS_MIN, vol_ma=VOL_MA_MIN, max_holding=HOLDING_MAX):\n",
    "\n",
    "    trade_model = MODEL_TEMPLATE.copy()\n",
    "    trade_model['buy_on_open'] = False\n",
    "    trade_model['sell_on_open'] = False\n",
    "    trade_model['short_on_open'] = False\n",
    "    trade_model['cover_on_open'] = False\n",
    "    trade_model['holding_period'] = None\n",
    "    trade_model['cost_basis'] = None\n",
    "    trade_model['pandl_pct'] = None\n",
    "    trade_model['position_long'] = None\n",
    "    trade_model['position_short'] = None\n",
    "    trade_model['band_std'] = trade_model['close_price'].shift(1).rolling(window=window).std()\n",
    "    trade_model['band_middle'] = trade_model['close_price'].shift(1).rolling(window=window).mean()\n",
    "    trade_model['band_upper'] = trade_model['band_middle'] + (trade_model['band_std'] * bbands_factor / 10)\n",
    "    trade_model['band_lower'] = trade_model['band_middle'] - (trade_model['band_std'] * bbands_factor / 10)\n",
    "    trade_model['volume_ma'] = trade_model['trading_volume'].rolling(vol_ma).mean()\n",
    "\n",
    "    # Truncate the model to the required starting and ending dates\n",
    "    trade_model = trade_model[MODEL_START_DATE:MODEL_END_DATE]\n",
    "    last_index = len(trade_model) - 1\n",
    "\n",
    "    for k in range(len(trade_model)):\n",
    "        # Calculate the magnitude of breakout. Positive value means breaking out towards a direction\n",
    "        price_today = trade_model.at[trade_model.index[k],'close_price']\n",
    "        price_high =  trade_model.at[trade_model.index[k],'band_upper']\n",
    "        price_low = trade_model.at[trade_model.index[k],'band_lower']\n",
    "        price_avg = trade_model.at[trade_model.index[k],'band_middle']\n",
    "        if MEAN_REVERSION:\n",
    "            breakout_long_side = price_today < price_low\n",
    "            breakout_short_side = price_today > price_high\n",
    "        else:\n",
    "            breakout_long_side = price_today > price_high\n",
    "            breakout_short_side = price_today < price_low\n",
    "        volume_today = trade_model.at[trade_model.index[k],'trading_volume']\n",
    "        volume_avg = trade_model.at[trade_model.index[k],'volume_ma']\n",
    "        close_above_avg = price_today > price_avg\n",
    "        close_below_avg = price_today < price_avg\n",
    "        if k == 0:\n",
    "            currently_long = False\n",
    "            currently_short = False\n",
    "            holding_period = 0\n",
    "            cost_basis = 0\n",
    "        else:\n",
    "            currently_long = trade_model.at[trade_model.index[k-1],'position_long']\n",
    "            currently_short = trade_model.at[trade_model.index[k-1],'position_short']\n",
    "            holding_period = trade_model.at[trade_model.index[k-1],'holding_period']\n",
    "            cost_basis = trade_model.at[trade_model.index[k-1],'cost_basis']\n",
    "\n",
    "        trade_executed_today = False\n",
    "\n",
    "        # Check to see whether we need to execute any trade action on open\n",
    "        if trade_model.at[trade_model.index[k],'buy_on_open']:\n",
    "            trade_executed_today = True\n",
    "            currently_long = True\n",
    "            currently_short = False\n",
    "            holding_period = 1\n",
    "            cost_basis = -trade_model.at[trade_model.index[k],'open_price']\n",
    "        elif trade_model.at[trade_model.index[k],'short_on_open']:\n",
    "            trade_executed_today = True\n",
    "            currently_long = False\n",
    "            currently_short = True\n",
    "            holding_period = 1\n",
    "            cost_basis = trade_model.at[trade_model.index[k],'open_price']\n",
    "        elif trade_model.at[trade_model.index[k],'sell_on_open']:\n",
    "            trade_executed_today = True\n",
    "            currently_long = False\n",
    "            currently_short = False\n",
    "            holding_period = 0\n",
    "            cost_basis = 0.0\n",
    "        elif trade_model.at[trade_model.index[k],'cover_on_open']:\n",
    "            trade_executed_today = True\n",
    "            currently_long = False\n",
    "            currently_short = False\n",
    "            holding_period = 0\n",
    "            cost_basis = 0.0\n",
    "        else:\n",
    "            # If no trade on open, check to see whether we have a breakout with an entry the next day\n",
    "            if breakout_long_side and (not currently_long) and (not currently_short) and (volume_today > volume_avg) and (k < last_index-1) and (not SHORT_ONLY):\n",
    "                trade_model.at[trade_model.index[k+1],'buy_on_open'] = True\n",
    "            elif breakout_short_side and (not currently_long) and (not currently_short) and (volume_today > volume_avg) and (k < last_index-1) and (not LONG_ONLY):\n",
    "                trade_model.at[trade_model.index[k+1],'short_on_open'] = True\n",
    "            else:\n",
    "                # If no breakout, check to see whether we need to exit an existing position the next day\n",
    "                if currently_short and (k < last_index-1):\n",
    "                    if (MEAN_REVERSION and close_below_avg) or (TREND_FOLLOWING and close_above_avg) or (holding_period+1 >= max_holding):\n",
    "                        trade_model.at[trade_model.index[k+1],'cover_on_open'] = True\n",
    "                elif currently_long and (k < last_index-1):\n",
    "                    if (MEAN_REVERSION and close_above_avg) or (TREND_FOLLOWING and close_below_avg) or (holding_period+1 >= max_holding):\n",
    "                        trade_model.at[trade_model.index[k+1],'sell_on_open'] = True\n",
    "\n",
    "        # If no action on a given day, carry over the position status\n",
    "        if (k > 0) and (not trade_executed_today):\n",
    "            if currently_long or currently_short:\n",
    "                holding_period = holding_period + 1\n",
    "\n",
    "        trade_model.at[trade_model.index[k],'position_long'] = currently_long\n",
    "        trade_model.at[trade_model.index[k],'position_short'] = currently_short\n",
    "        trade_model.at[trade_model.index[k],'holding_period'] = holding_period\n",
    "        trade_model.at[trade_model.index[k],'cost_basis'] = cost_basis\n",
    "\n",
    "        # Check to see whether the profit or loss target has been met for exiting the position\n",
    "        if currently_long :\n",
    "            pandl_pct = (cost_basis + price_today) / abs(cost_basis)\n",
    "            trade_model.at[trade_model.index[k],'pandl_pct'] = pandl_pct\n",
    "            if (pandl_pct >= GAIN_MAX) or (pandl_pct <= -LOSS_MAX) :\n",
    "                trade_model.at[trade_model.index[k+1],'sell_on_open'] = True\n",
    "        elif currently_short :\n",
    "            pandl_pct = (cost_basis - price_today) / abs(cost_basis)\n",
    "            trade_model.at[trade_model.index[k],'pandl_pct'] = pandl_pct\n",
    "            if (pandl_pct >= GAIN_MAX) or (pandl_pct <= -LOSS_MAX) :\n",
    "                trade_model.at[trade_model.index[k+1],'cover_on_open'] = True\n",
    "        else:\n",
    "            trade_model.at[trade_model.index[k],'pandl_pct'] = 0.0\n",
    "\n",
    "        # # Exiting the position on the last day of modeling period\n",
    "        # if k == last_index-1:\n",
    "        #     if trade_model.at[trade_model.index[k],'position_long']:\n",
    "        #         trade_model.at[trade_model.index[k+1],'sell_on_open'] = True\n",
    "        #         trade_model.at[trade_model.index[k+1],'position_long'] = False\n",
    "        #     elif trade_model.at[trade_model.index[k],'position_short']:\n",
    "        #         trade_model.at[trade_model.index[k+1],'cover_on_open'] = True\n",
    "        #         trade_model.at[trade_model.index[k+1],'position_short'] = False\n",
    "\n",
    "    if verbose_signals: print(trade_model, '\\n')\n",
    "    return trade_model"
   ]
  },
  {
   "cell_type": "code",
   "execution_count": 13,
   "metadata": {
    "collapsed": false,
    "jupyter": {
     "outputs_hidden": false
    },
    "pycharm": {
     "name": "#%%\n"
    }
   },
   "outputs": [
    {
     "name": "stdout",
     "output_type": "stream",
     "text": [
      "45 trading models generated!\n"
     ]
    }
   ],
   "source": [
    "# Build the collection of trading models by iterating through the parameters\n",
    "trading_model_collection = {}\n",
    "serial_no = 0\n",
    "for window_size in range(WINDOW_MIN, WINDOW_MAX+1, WINDOW_INCREMENT):\n",
    "    for band_factor in range(BBANDS_MIN, BBANDS_MAX+1, BBANDS_INCREMENT):\n",
    "        for vol_average in range(VOL_MA_MIN, VOL_MA_MAX+1, VOL_MA_INCREMENT):\n",
    "            for hold_period in range(HOLDING_MIN, HOLDING_MAX+1, HOLDING_INCREMENT):\n",
    "                serial_no += 1\n",
    "                model_tag = 'Model_' + str(serial_no).zfill(3) + '_WINDOW_' + str(window_size).zfill(3) + '_BBFACTOR_' + str(band_factor).zfill(2) + '_VOLMA_' + str(vol_average).zfill(3) + '_HOLD_' + str(hold_period).zfill(3)\n",
    "                if verbose_signals: print('Processing model:', model_tag)\n",
    "                trading_model = populate_signals(window_size, band_factor, vol_average, hold_period)\n",
    "                trading_model_collection[model_tag] = trading_model.copy()\n",
    "print(len(trading_model_collection), 'trading models generated!')"
   ]
  },
  {
   "cell_type": "code",
   "execution_count": 14,
   "metadata": {
    "colab": {
     "base_uri": "https://localhost:8080/",
     "height": 1000
    },
    "colab_type": "code",
    "collapsed": false,
    "id": "327CZKmtTelL",
    "jupyter": {
     "outputs_hidden": false
    },
    "outputId": "b353b49d-0281-4aa7-a530-6747c166eae5",
    "pycharm": {
     "name": "#%%\n"
    }
   },
   "outputs": [],
   "source": [
    "# List the entry/exit points for each model\n",
    "def list_model_entry_exit(trade_model):\n",
    "    print(trade_model[trade_model['buy_on_open'] | trade_model['sell_on_open'] | trade_model['short_on_open'] | trade_model['cover_on_open']])"
   ]
  },
  {
   "cell_type": "code",
   "execution_count": 15,
   "metadata": {
    "collapsed": false,
    "jupyter": {
     "outputs_hidden": false
    },
    "pycharm": {
     "name": "#%%\n"
    }
   },
   "outputs": [],
   "source": [
    "if verbose_models:\n",
    "    for model_name in trading_model_collection:\n",
    "        print('List the signal changes and entry/exit points for model:', model_name)\n",
    "        list_model_entry_exit(trading_model_collection[model_name])\n",
    "        print()"
   ]
  },
  {
   "cell_type": "code",
   "execution_count": 16,
   "metadata": {
    "collapsed": false,
    "jupyter": {
     "outputs_hidden": false
    },
    "pycharm": {
     "name": "#%%\n"
    }
   },
   "outputs": [],
   "source": [
    "def draw_model_graph(trade_model, mdl_name=STOCK_SYMBOL):\n",
    "    graph_data = trade_model.copy()\n",
    "    title_string = 'Simple Mean-Reversion Trading Model for ' + mdl_name\n",
    "    fig = plt.figure(figsize=(16,9))\n",
    "    ylabel = STOCK_SYMBOL + ' price in $'\n",
    "    ax1 = fig.add_subplot(111, ylabel=ylabel, title=title_string)\n",
    "    graph_data['close_price'].plot(ax=ax1, color='g')\n",
    "    graph_data['band_upper'].plot(ax=ax1, color='b')\n",
    "    graph_data['band_lower'].plot(ax=ax1, color='r')\n",
    "    graph_data['band_middle'].plot(ax=ax1, color='k')\n",
    "    ax1.plot(graph_data.loc[graph_data['buy_on_open']].index, graph_data.close_price[graph_data['buy_on_open']], '^', markersize=7, color='b',label='Buy on Open')\n",
    "    ax1.plot(graph_data.loc[graph_data['sell_on_open']].index, graph_data.close_price[graph_data['sell_on_open']], 'v', markersize=7, color='b',label='Sell on Open')\n",
    "    ax1.plot(graph_data.loc[graph_data['short_on_open']].index, graph_data.close_price[graph_data['short_on_open']], '^', markersize=7, color='r',label='Short on Open')\n",
    "    ax1.plot(graph_data.loc[graph_data['cover_on_open']].index, graph_data.close_price[graph_data['cover_on_open']], 'v', markersize=7, color='r',label='Cover on Open')\n",
    "    plt.legend(loc='upper left')\n",
    "    plt.show()"
   ]
  },
  {
   "cell_type": "code",
   "execution_count": 17,
   "metadata": {
    "collapsed": false,
    "jupyter": {
     "outputs_hidden": false
    },
    "pycharm": {
     "name": "#%%\n"
    }
   },
   "outputs": [],
   "source": [
    "if verbose_graphs:\n",
    "    for model_name in trading_model_collection:\n",
    "        draw_model_graph(trading_model_collection[model_name], model_name)"
   ]
  },
  {
   "cell_type": "markdown",
   "metadata": {
    "colab_type": "text",
    "id": "wzTQaZkeTeld"
   },
   "source": [
    "## Task 4 - Back-test Models"
   ]
  },
  {
   "cell_type": "code",
   "execution_count": 18,
   "metadata": {
    "collapsed": false,
    "jupyter": {
     "outputs_hidden": false
    },
    "pycharm": {
     "name": "#%%\n"
    }
   },
   "outputs": [],
   "source": [
    "def generate_trading_portfolios(trade_model):\n",
    "    # Construct a portfolio to track the transactions and returns\n",
    "    portfolio = pd.DataFrame(index=trade_model.index, columns=['trade_action', 'price_executed', 'qty_transacted', 'cost_basis', 'gain_loss', 'qty_on_hand', 'cash_on_hand', 'position_value', 'total_position', 'accum_return'])\n",
    "    portfolio['trade_action'] = False\n",
    "    portfolio.at[portfolio.index[0],'price_executed'] = 0.00\n",
    "    portfolio.at[portfolio.index[0],'qty_transacted'] = 0\n",
    "    portfolio.at[portfolio.index[0],'cost_basis'] = 0.00\n",
    "    portfolio.at[portfolio.index[0],'gain_loss'] = 0.00\n",
    "    portfolio.at[portfolio.index[0],'qty_on_hand'] = 0\n",
    "    portfolio.at[portfolio.index[0],'cash_on_hand'] = INITIAL_CAPITAL\n",
    "    portfolio.at[portfolio.index[0],'position_value'] = 0.00\n",
    "    portfolio.at[portfolio.index[0],'total_position'] = INITIAL_CAPITAL\n",
    "    portfolio.at[portfolio.index[0],'accum_return'] = 0.00\n",
    "    quantity = 1\n",
    "\n",
    "    # The conditional parameters below determine how the trading strategy will be carried out\n",
    "    for i in range(1, len(portfolio)):\n",
    "        price_per_share = trade_model.at[trade_model.index[i],'open_price']\n",
    "        if trade_model.at[trade_model.index[i],'buy_on_open']:\n",
    "            # Code block for Buy on Open\n",
    "            portfolio.at[portfolio.index[i],'trade_action'] = True\n",
    "            portfolio.at[portfolio.index[i],'price_executed'] = price_per_share\n",
    "            portfolio.at[portfolio.index[i],'qty_transacted'] = quantity\n",
    "            recent_cost = price_per_share * -quantity\n",
    "            portfolio.at[portfolio.index[i],'cost_basis'] = recent_cost\n",
    "            portfolio.at[portfolio.index[i],'gain_loss'] = 0.00\n",
    "            portfolio.at[portfolio.index[i],'qty_on_hand'] = portfolio.iloc[i-1]['qty_on_hand'] + quantity\n",
    "            portfolio.at[portfolio.index[i],'cash_on_hand'] = portfolio.iloc[i-1]['cash_on_hand'] + recent_cost\n",
    "            if verbose_trade_actions: print('BOUGHT QTY:', quantity, 'on', portfolio.index[i].date(), 'at the price of', price_per_share)\n",
    "        elif trade_model.at[trade_model.index[i],'sell_on_open']:\n",
    "            # Code block for Sell on Open\n",
    "            portfolio.at[portfolio.index[i],'trade_action'] = True\n",
    "            portfolio.at[portfolio.index[i],'price_executed'] = price_per_share\n",
    "            portfolio.at[portfolio.index[i],'qty_transacted'] = -quantity\n",
    "            recent_cost = 0.00\n",
    "            portfolio.at[portfolio.index[i],'cost_basis'] = recent_cost\n",
    "            portfolio.at[portfolio.index[i],'gain_loss'] = (price_per_share * quantity) + portfolio.iloc[i-1]['cost_basis']\n",
    "            portfolio.at[portfolio.index[i],'qty_on_hand'] = portfolio.iloc[i-1]['qty_on_hand'] - quantity\n",
    "            portfolio.at[portfolio.index[i],'cash_on_hand'] = portfolio.iloc[i-1]['cash_on_hand'] + (price_per_share * quantity)\n",
    "            if verbose_trade_actions: print('SOLD QTY:', quantity, 'on', portfolio.index[i].date(), 'at the price of', price_per_share)\n",
    "        elif trade_model.at[trade_model.index[i],'short_on_open']:\n",
    "            # Code block for Short on Open\n",
    "            portfolio.at[portfolio.index[i],'trade_action'] = True\n",
    "            portfolio.at[portfolio.index[i],'price_executed'] = price_per_share\n",
    "            portfolio.at[portfolio.index[i],'qty_transacted'] = -quantity\n",
    "            recent_cost = price_per_share * quantity\n",
    "            portfolio.at[portfolio.index[i],'cost_basis'] = recent_cost\n",
    "            portfolio.at[portfolio.index[i],'gain_loss'] = 0.00\n",
    "            portfolio.at[portfolio.index[i],'qty_on_hand'] = portfolio.iloc[i-1]['qty_on_hand'] - quantity\n",
    "            portfolio.at[portfolio.index[i],'cash_on_hand'] = portfolio.iloc[i-1]['cash_on_hand'] + recent_cost\n",
    "            if verbose_trade_actions: print('SHORTED QTY:', -quantity, 'on', portfolio.index[i].date(), 'at the price of', trade_model.at[portfolio.index[i],'open_price'])\n",
    "        elif trade_model.at[trade_model.index[i],'cover_on_open']:\n",
    "            # Code block for Cover on Open\n",
    "            portfolio.at[portfolio.index[i],'trade_action'] = True\n",
    "            portfolio.at[portfolio.index[i],'price_executed'] = price_per_share\n",
    "            portfolio.at[portfolio.index[i],'qty_transacted'] = quantity\n",
    "            recent_cost = 0.00\n",
    "            portfolio.at[portfolio.index[i],'cost_basis'] = recent_cost\n",
    "            portfolio.at[portfolio.index[i],'gain_loss'] = portfolio.iloc[i-1]['cost_basis'] - (price_per_share * quantity)\n",
    "            portfolio.at[portfolio.index[i],'qty_on_hand'] = portfolio.iloc[i-1]['qty_on_hand'] + quantity\n",
    "            portfolio.at[portfolio.index[i],'cash_on_hand'] = portfolio.iloc[i-1]['cash_on_hand'] - (price_per_share * quantity)\n",
    "            if verbose_trade_actions: print('COVERED QTY:', quantity, 'on', portfolio.index[i].date(), 'at the price of', trade_model.at[portfolio.index[i],'open_price'])\n",
    "        else:\n",
    "            # Code block for no trade actions\n",
    "            portfolio.at[portfolio.index[i],'price_executed'] = 0.00\n",
    "            portfolio.at[portfolio.index[i],'qty_transacted'] = 0\n",
    "            portfolio.at[portfolio.index[i],'cost_basis'] = portfolio.iloc[i-1]['cost_basis']\n",
    "            portfolio.at[portfolio.index[i],'gain_loss'] = 0.00\n",
    "            portfolio.at[portfolio.index[i],'qty_on_hand'] = portfolio.iloc[i-1]['qty_on_hand']\n",
    "            portfolio.at[portfolio.index[i],'cash_on_hand'] = portfolio.iloc[i-1]['cash_on_hand']\n",
    "        portfolio.at[portfolio.index[i],'position_value'] = trade_model.at[trade_model.index[i],'close_price'] * portfolio.at[portfolio.index[i],'qty_on_hand']\n",
    "        portfolio.at[portfolio.index[i],'total_position'] = portfolio.at[portfolio.index[i],'cash_on_hand'] + portfolio.at[portfolio.index[i],'position_value']\n",
    "        portfolio.at[portfolio.index[i],'accum_return'] = portfolio.at[portfolio.index[i],'total_position'] - INITIAL_CAPITAL\n",
    "\n",
    "    if verbose_portfolios: print('\\n', portfolio, '\\n')\n",
    "    return portfolio"
   ]
  },
  {
   "cell_type": "code",
   "execution_count": 19,
   "metadata": {
    "colab": {
     "base_uri": "https://localhost:8080/",
     "height": 1000
    },
    "colab_type": "code",
    "collapsed": false,
    "id": "mOsqVrfRTelw",
    "jupyter": {
     "outputs_hidden": false
    },
    "outputId": "17950f55-4566-48b2-dde6-0974c6e45966",
    "pycharm": {
     "name": "#%%\n"
    }
   },
   "outputs": [],
   "source": [
    "def calculate_positions_and_performance(trade_model):\n",
    "    trade_positions = generate_trading_portfolios(trade_model)\n",
    "    trade_transactions = trade_positions[trade_positions['trade_action']]\n",
    "    if verbose_transactions: print(trade_transactions)\n",
    "    if trade_transactions.at[trade_transactions.index[-1],'trade_action']:\n",
    "        if trade_transactions.at[trade_transactions.index[-1],'qty_on_hand'] == 0:\n",
    "            print('The current status of the model is:','Waiting to enter a position since',trade_transactions.index.tolist()[-1].date(),'\\n')\n",
    "        elif trade_transactions.at[trade_transactions.index[-1],'qty_on_hand'] > 0:\n",
    "            print('The current status of the model is:','Holding a long position since',trade_transactions.index.tolist()[-1].date(),'\\n')\n",
    "        else:\n",
    "            print('The current status of the model is:','Holding a short position since',trade_transactions.index.tolist()[-1].date(),'\\n')\n",
    "    return trade_positions"
   ]
  },
  {
   "cell_type": "code",
   "execution_count": 20,
   "metadata": {
    "collapsed": false,
    "jupyter": {
     "outputs_hidden": false
    },
    "pycharm": {
     "name": "#%%\n"
    }
   },
   "outputs": [
    {
     "name": "stdout",
     "output_type": "stream",
     "text": [
      "Processing the positions for model: Model_001_WINDOW_010_BBFACTOR_10_VOLMA_010_HOLD_999\n",
      "The current status of the model is: Holding a long position since 2021-04-30 \n",
      "\n",
      "Processing the positions for model: Model_002_WINDOW_010_BBFACTOR_15_VOLMA_010_HOLD_999\n",
      "The current status of the model is: Holding a long position since 2021-04-30 \n",
      "\n",
      "Processing the positions for model: Model_003_WINDOW_010_BBFACTOR_20_VOLMA_010_HOLD_999\n",
      "The current status of the model is: Holding a long position since 2021-05-04 \n",
      "\n",
      "Processing the positions for model: Model_004_WINDOW_010_BBFACTOR_25_VOLMA_010_HOLD_999\n",
      "The current status of the model is: Holding a long position since 2021-05-04 \n",
      "\n",
      "Processing the positions for model: Model_005_WINDOW_010_BBFACTOR_30_VOLMA_010_HOLD_999\n",
      "The current status of the model is: Holding a long position since 2021-05-04 \n",
      "\n",
      "Processing the positions for model: Model_006_WINDOW_015_BBFACTOR_10_VOLMA_010_HOLD_999\n",
      "The current status of the model is: Holding a long position since 2021-03-23 \n",
      "\n",
      "Processing the positions for model: Model_007_WINDOW_015_BBFACTOR_15_VOLMA_010_HOLD_999\n",
      "The current status of the model is: Holding a long position since 2021-03-23 \n",
      "\n",
      "Processing the positions for model: Model_008_WINDOW_015_BBFACTOR_20_VOLMA_010_HOLD_999\n",
      "The current status of the model is: Holding a long position since 2021-03-26 \n",
      "\n",
      "Processing the positions for model: Model_009_WINDOW_015_BBFACTOR_25_VOLMA_010_HOLD_999\n",
      "The current status of the model is: Holding a long position since 2021-05-04 \n",
      "\n",
      "Processing the positions for model: Model_010_WINDOW_015_BBFACTOR_30_VOLMA_010_HOLD_999\n",
      "The current status of the model is: Holding a long position since 2021-05-04 \n",
      "\n",
      "Processing the positions for model: Model_011_WINDOW_020_BBFACTOR_10_VOLMA_010_HOLD_999\n",
      "The current status of the model is: Holding a long position since 2021-03-26 \n",
      "\n",
      "Processing the positions for model: Model_012_WINDOW_020_BBFACTOR_15_VOLMA_010_HOLD_999\n",
      "The current status of the model is: Holding a long position since 2021-03-26 \n",
      "\n",
      "Processing the positions for model: Model_013_WINDOW_020_BBFACTOR_20_VOLMA_010_HOLD_999\n",
      "The current status of the model is: Holding a long position since 2021-03-26 \n",
      "\n",
      "Processing the positions for model: Model_014_WINDOW_020_BBFACTOR_25_VOLMA_010_HOLD_999\n",
      "The current status of the model is: Holding a long position since 2021-03-26 \n",
      "\n",
      "Processing the positions for model: Model_015_WINDOW_020_BBFACTOR_30_VOLMA_010_HOLD_999\n",
      "The current status of the model is: Waiting to enter a position since 2020-09-09 \n",
      "\n",
      "Processing the positions for model: Model_016_WINDOW_025_BBFACTOR_10_VOLMA_010_HOLD_999\n",
      "The current status of the model is: Holding a long position since 2021-03-26 \n",
      "\n",
      "Processing the positions for model: Model_017_WINDOW_025_BBFACTOR_15_VOLMA_010_HOLD_999\n",
      "The current status of the model is: Holding a long position since 2021-04-09 \n",
      "\n",
      "Processing the positions for model: Model_018_WINDOW_025_BBFACTOR_20_VOLMA_010_HOLD_999\n",
      "The current status of the model is: Holding a long position since 2021-05-04 \n",
      "\n",
      "Processing the positions for model: Model_019_WINDOW_025_BBFACTOR_25_VOLMA_010_HOLD_999\n",
      "The current status of the model is: Waiting to enter a position since 2020-10-29 \n",
      "\n",
      "Processing the positions for model: Model_020_WINDOW_025_BBFACTOR_30_VOLMA_010_HOLD_999\n",
      "The current status of the model is: Waiting to enter a position since 2020-09-09 \n",
      "\n",
      "Processing the positions for model: Model_021_WINDOW_030_BBFACTOR_10_VOLMA_010_HOLD_999\n",
      "The current status of the model is: Holding a long position since 2021-04-09 \n",
      "\n",
      "Processing the positions for model: Model_022_WINDOW_030_BBFACTOR_15_VOLMA_010_HOLD_999\n",
      "The current status of the model is: Holding a long position since 2021-04-09 \n",
      "\n",
      "Processing the positions for model: Model_023_WINDOW_030_BBFACTOR_20_VOLMA_010_HOLD_999\n",
      "The current status of the model is: Waiting to enter a position since 2020-12-16 \n",
      "\n",
      "Processing the positions for model: Model_024_WINDOW_030_BBFACTOR_25_VOLMA_010_HOLD_999\n",
      "The current status of the model is: Waiting to enter a position since 2020-12-16 \n",
      "\n",
      "Processing the positions for model: Model_025_WINDOW_030_BBFACTOR_30_VOLMA_010_HOLD_999\n",
      "The current status of the model is: Waiting to enter a position since 2020-11-02 \n",
      "\n",
      "Processing the positions for model: Model_026_WINDOW_035_BBFACTOR_10_VOLMA_010_HOLD_999\n",
      "The current status of the model is: Holding a long position since 2021-04-09 \n",
      "\n",
      "Processing the positions for model: Model_027_WINDOW_035_BBFACTOR_15_VOLMA_010_HOLD_999\n",
      "The current status of the model is: Holding a long position since 2021-04-09 \n",
      "\n",
      "Processing the positions for model: Model_028_WINDOW_035_BBFACTOR_20_VOLMA_010_HOLD_999\n",
      "The current status of the model is: Waiting to enter a position since 2020-12-17 \n",
      "\n",
      "Processing the positions for model: Model_029_WINDOW_035_BBFACTOR_25_VOLMA_010_HOLD_999\n",
      "The current status of the model is: Waiting to enter a position since 2020-12-17 \n",
      "\n",
      "Processing the positions for model: Model_030_WINDOW_035_BBFACTOR_30_VOLMA_010_HOLD_999\n",
      "The current status of the model is: Waiting to enter a position since 2020-11-02 \n",
      "\n",
      "Processing the positions for model: Model_031_WINDOW_040_BBFACTOR_10_VOLMA_010_HOLD_999\n",
      "The current status of the model is: Holding a long position since 2021-04-09 \n",
      "\n",
      "Processing the positions for model: Model_032_WINDOW_040_BBFACTOR_15_VOLMA_010_HOLD_999\n",
      "The current status of the model is: Holding a long position since 2021-04-19 \n",
      "\n",
      "Processing the positions for model: Model_033_WINDOW_040_BBFACTOR_20_VOLMA_010_HOLD_999\n",
      "The current status of the model is: Waiting to enter a position since 2020-12-17 \n",
      "\n",
      "Processing the positions for model: Model_034_WINDOW_040_BBFACTOR_25_VOLMA_010_HOLD_999\n",
      "The current status of the model is: Waiting to enter a position since 2020-12-17 \n",
      "\n",
      "Processing the positions for model: Model_035_WINDOW_040_BBFACTOR_30_VOLMA_010_HOLD_999\n",
      "The current status of the model is: Waiting to enter a position since 2020-12-17 \n",
      "\n",
      "Processing the positions for model: Model_036_WINDOW_045_BBFACTOR_10_VOLMA_010_HOLD_999\n",
      "The current status of the model is: Holding a long position since 2021-04-09 \n",
      "\n",
      "Processing the positions for model: Model_037_WINDOW_045_BBFACTOR_15_VOLMA_010_HOLD_999\n",
      "The current status of the model is: Holding a long position since 2021-04-19 \n",
      "\n",
      "Processing the positions for model: Model_038_WINDOW_045_BBFACTOR_20_VOLMA_010_HOLD_999\n",
      "The current status of the model is: Waiting to enter a position since 2020-12-21 \n",
      "\n",
      "Processing the positions for model: Model_039_WINDOW_045_BBFACTOR_25_VOLMA_010_HOLD_999\n",
      "The current status of the model is: Waiting to enter a position since 2020-12-21 \n",
      "\n",
      "Processing the positions for model: Model_040_WINDOW_045_BBFACTOR_30_VOLMA_010_HOLD_999\n",
      "The current status of the model is: Waiting to enter a position since 2020-12-21 \n",
      "\n",
      "Processing the positions for model: Model_041_WINDOW_050_BBFACTOR_10_VOLMA_010_HOLD_999\n",
      "The current status of the model is: Holding a long position since 2021-04-09 \n",
      "\n",
      "Processing the positions for model: Model_042_WINDOW_050_BBFACTOR_15_VOLMA_010_HOLD_999\n",
      "The current status of the model is: Holding a long position since 2021-04-19 \n",
      "\n",
      "Processing the positions for model: Model_043_WINDOW_050_BBFACTOR_20_VOLMA_010_HOLD_999\n",
      "The current status of the model is: Waiting to enter a position since 2020-12-21 \n",
      "\n",
      "Processing the positions for model: Model_044_WINDOW_050_BBFACTOR_25_VOLMA_010_HOLD_999\n",
      "The current status of the model is: Waiting to enter a position since 2020-12-21 \n",
      "\n",
      "Processing the positions for model: Model_045_WINDOW_050_BBFACTOR_30_VOLMA_010_HOLD_999\n",
      "The current status of the model is: Waiting to enter a position since 2020-12-21 \n",
      "\n",
      "45 sets of model positions generated.\n"
     ]
    }
   ],
   "source": [
    "# Convert trading models into positions and calculate profit and loss\n",
    "# Initialize a dictionary for tracking positions for all models\n",
    "model_positions_collection={}\n",
    "\n",
    "for model_name in trading_model_collection:\n",
    "    print('Processing the positions for model:', model_name)\n",
    "    model_positions_collection[model_name] = calculate_positions_and_performance(trading_model_collection[model_name])\n",
    "print(len(model_positions_collection), 'sets of model positions generated.')"
   ]
  },
  {
   "cell_type": "code",
   "execution_count": 21,
   "metadata": {
    "collapsed": false,
    "jupyter": {
     "outputs_hidden": false
    },
    "pycharm": {
     "name": "#%%\n"
    }
   },
   "outputs": [
    {
     "name": "stdout",
     "output_type": "stream",
     "text": [
      "45 profit/loss summaries generated.\n",
      "\n",
      "The top ten model's performance summary:\n",
      "                                          Model_name  Return_value Return_percentage\n",
      "0  Model_001_WINDOW_010_BBFACTOR_10_VOLMA_010_HOL...       138.210              None\n",
      "1  Model_016_WINDOW_025_BBFACTOR_10_VOLMA_010_HOL...       136.392              None\n",
      "2  Model_002_WINDOW_010_BBFACTOR_15_VOLMA_010_HOL...       121.270              None\n",
      "3  Model_036_WINDOW_045_BBFACTOR_10_VOLMA_010_HOL...       112.821              None\n",
      "4  Model_007_WINDOW_015_BBFACTOR_15_VOLMA_010_HOL...       111.949              None\n",
      "5  Model_031_WINDOW_040_BBFACTOR_10_VOLMA_010_HOL...       108.760              None\n",
      "6  Model_041_WINDOW_050_BBFACTOR_10_VOLMA_010_HOL...       107.716              None\n",
      "7  Model_003_WINDOW_010_BBFACTOR_20_VOLMA_010_HOL...       101.660              None\n",
      "8  Model_006_WINDOW_015_BBFACTOR_10_VOLMA_010_HOL...       100.051              None\n",
      "9  Model_026_WINDOW_035_BBFACTOR_10_VOLMA_010_HOL...        92.930              None\n"
     ]
    }
   ],
   "source": [
    "# Initialize a dataframe for storing the model's profit and loss\n",
    "model_performance_summary = pd.DataFrame(columns=['Model_name','Return_value','Return_percentage'])\n",
    "for model_name in model_positions_collection:\n",
    "    if verbose_positions: print('Processing positions for model:', model_name)\n",
    "    if verbose_positions: print('Accumulated profit/loss for one share of stock with initial capital of $%.0f at the end of modeling period: $%.2f' % (INITIAL_CAPITAL, model_positions_collection[model_name].accum_return[-1]))\n",
    "    if INITIAL_CAPITAL != 0:\n",
    "        return_percentage = model_positions_collection[model_name].accum_return[-1] / INITIAL_CAPITAL * 100\n",
    "        if verbose_positions: print('Accumulated return percentage based on the initial capital investment: %.2f%%' % return_percentage)\n",
    "    else:\n",
    "        return_percentage = None\n",
    "    if verbose_positions: print()\n",
    "    model_performance_summary = model_performance_summary.append({'Model_name': model_name, 'Return_value': model_positions_collection[model_name].accum_return[-1], 'Return_percentage': return_percentage}, ignore_index=True)\n",
    "    model_performance_summary.sort_values(by=['Return_value'], inplace=True, ascending=False)\n",
    "\n",
    "print(len(model_performance_summary), 'profit/loss summaries generated.\\n')\n",
    "print('The top ten model\\'s performance summary:')\n",
    "print(model_performance_summary.head(10))"
   ]
  },
  {
   "cell_type": "markdown",
   "metadata": {
    "pycharm": {
     "name": "#%% md\n"
    }
   },
   "source": [
    "## Task 5 - Evaluate Strategy Performance"
   ]
  },
  {
   "cell_type": "code",
   "execution_count": 22,
   "metadata": {
    "collapsed": false,
    "jupyter": {
     "outputs_hidden": false
    },
    "pycharm": {
     "name": "#%%\n"
    }
   },
   "outputs": [
    {
     "name": "stdout",
     "output_type": "stream",
     "text": [
      "The entry point for the buy-and-hold model: $159.81 on 2016-01-04\n",
      "The exit point for the buy-and-hold model: $382.83 on 2021-05-07\n",
      "The performance of the buy-and-hold model: $223.02\n",
      "The performance of the top trading model: $138.21\n"
     ]
    }
   ],
   "source": [
    "# Calculate the stock's performance for a buy-and-hold model\n",
    "top_model_name = model_performance_summary.loc[0]['Model_name']\n",
    "top_trading_model = trading_model_collection[top_model_name]\n",
    "print('The entry point for the buy-and-hold model: $%.2f on %s' % (top_trading_model.iloc[0]['open_price'], top_trading_model.index[0].date()))\n",
    "print('The exit point for the buy-and-hold model: $%.2f on %s' % (top_trading_model.iloc[-1]['open_price'], top_trading_model.index[-1].date()))\n",
    "print('The performance of the buy-and-hold model: $%.2f' %(top_trading_model.iloc[-1]['open_price'] - top_trading_model.iloc[0]['open_price']))\n",
    "print('The performance of the top trading model: $%.2f' %(model_performance_summary.iloc[0]['Return_value']))"
   ]
  },
  {
   "cell_type": "code",
   "execution_count": 23,
   "metadata": {
    "collapsed": false,
    "jupyter": {
     "outputs_hidden": false
    },
    "pycharm": {
     "name": "#%%\n"
    }
   },
   "outputs": [
    {
     "name": "stdout",
     "output_type": "stream",
     "text": [
      "            trade_action price_executed qty_transacted cost_basis gain_loss qty_on_hand cash_on_hand position_value total_position accum_return\n",
      "date                                                                                                                                           \n",
      "2016-02-25          True         154.69              1    -154.69         0           1      -154.69        137.467        -17.223      -17.223\n",
      "2016-02-29          True         149.99             -1          0      -4.7           0         -4.7              0           -4.7         -4.7\n",
      "2016-03-03          True         148.56              1    -148.56         0           1      -153.26        134.695        -18.565      -18.565\n",
      "2016-03-07          True         149.96             -1          0       1.4           0         -3.3              0           -3.3         -3.3\n",
      "2016-03-31          True         157.96              1    -157.96         0           1      -161.26        140.008        -21.252      -21.252\n",
      "2016-04-08          True         152.98             -1          0     -4.98           0        -8.28              0          -8.28        -8.28\n",
      "2016-05-27          True         150.24              1    -150.24         0           1      -158.52        132.849        -25.671      -25.671\n",
      "2016-06-27          True         154.24             -1          0         4           0        -4.28              0          -4.28        -4.28\n",
      "2016-07-08          True         164.84              1    -164.84         0           1      -169.12        147.428        -21.692      -21.692\n",
      "2016-07-28          True         166.26             -1          0      1.42           0        -2.86              0          -2.86        -2.86\n",
      "2016-08-12          True         167.16              1    -167.16         0           1      -170.02        151.038        -18.982      -18.982\n",
      "2016-08-19          True         167.21             -1          0      0.05           0        -2.81              0          -2.81        -2.81\n",
      "2016-09-23          True         153.15              1    -153.15         0           1      -155.96        136.287        -19.673      -19.673\n",
      "2016-09-27          True         151.42             -1          0     -1.73           0        -4.54              0          -4.54        -4.54\n",
      "2016-10-25          True          149.9              1     -149.9         0           1      -154.44        134.911        -19.529      -19.529\n",
      "2016-10-31          True         148.89             -1          0     -1.01           0        -5.55              0          -5.55        -5.55\n",
      "2016-11-14          True         150.92              1    -150.92         0           1      -156.47        136.231        -20.239      -20.239\n",
      "2016-11-29          True         151.62             -1          0       0.7           0        -4.85              0          -4.85        -4.85\n",
      "2016-12-08          True         156.64              1    -156.64         0           1      -161.49        141.241        -20.249      -20.249\n",
      "2016-12-29          True         160.65             -1          0      4.01           0        -0.84              0          -0.84        -0.84\n",
      "2017-01-06          True         162.67              1    -162.67         0           1      -163.51        145.937        -17.573      -17.573\n",
      "2017-01-10          True         160.58             -1          0     -2.09           0        -2.93              0          -2.93        -2.93\n",
      "2017-01-18          True         163.65              1    -163.65         0           1      -166.58        147.228        -19.352      -19.352\n",
      "2017-01-30          True         162.03             -1          0     -1.62           0        -4.55              0          -4.55        -4.55\n",
      "2017-02-03          True         167.72              1    -167.72         0           1      -172.27        150.858        -21.412      -21.412\n",
      "2017-03-06          True         169.41             -1          0      1.69           0        -2.86              0          -2.86        -2.86\n",
      "2017-04-07          True          169.7              1     -169.7         0           1      -172.56        153.328        -19.232      -19.232\n",
      "2017-04-17          True         168.77             -1          0     -0.93           0        -3.79              0          -3.79        -3.79\n",
      "2017-04-25          True         172.91              1    -172.91         0           1       -176.7        155.179        -21.521      -21.521\n",
      "2017-05-11          True         170.78             -1          0     -2.13           0        -5.92              0          -5.92        -5.92\n",
      "2017-05-26          True         180.25              1    -180.25         0           1      -186.17          166.8         -19.37       -19.37\n",
      "2017-06-13          True          179.9             -1          0     -0.35           0        -6.27              0          -6.27        -6.27\n",
      "2017-07-26          True         153.41              1    -153.41         0           1      -159.68        142.633        -17.047      -17.047\n",
      "2017-08-11          True         156.51             -1          0       3.1           0        -3.17              0          -3.17        -3.17\n",
      "2017-08-17          True         158.48              1    -158.48         0           1      -161.65        149.175        -12.475      -12.475\n",
      "2017-08-22          True         157.53             -1          0     -0.95           0        -4.12              0          -4.12        -4.12\n",
      "2017-09-14          True         162.68              1    -162.68         0           1       -166.8         152.75         -14.05       -14.05\n",
      "2017-10-09          True         157.01             -1          0     -5.67           0        -9.79              0          -9.79        -9.79\n",
      "2017-10-23          True         160.85              1    -160.85         0           1      -170.64        152.439        -18.201      -18.201\n",
      "2017-10-31          True         159.84             -1          0     -1.01           0        -10.8              0          -10.8        -10.8\n",
      "2017-11-03          True         164.16              1    -164.16         0           1      -174.96        156.579        -18.381      -18.381\n",
      "2017-12-15          True         193.41             -1          0     29.25           0        18.45              0          18.45        18.45\n",
      "2017-12-19          True         192.91              1    -192.91         0           1      -174.46         177.69           3.23         3.23\n",
      "2017-12-21          True            188             -1          0     -4.91           0        13.54              0          13.54        13.54\n",
      "2018-01-04          True            192              1       -192         0           1      -178.46        178.416         -0.044       -0.044\n",
      "2018-01-10          True         185.75             -1          0     -6.25           0         7.29              0           7.29         7.29\n",
      "2018-01-12          True          190.1              1     -190.1         0           1      -182.81        181.002         -1.808       -1.808\n",
      "2018-02-01          True         193.41             -1          0      3.31           0         10.6              0           10.6         10.6\n",
      "2018-04-02          True         186.91              1    -186.91         0           1      -176.31        172.875         -3.435       -3.435\n",
      "2018-04-04          True         181.13             -1          0     -5.78           0         4.82              0           4.82         4.82\n",
      "2018-04-13          True         189.81              1    -189.81         0           1      -184.99        178.703         -6.287       -6.287\n",
      "2018-05-03          True        193.916             -1          0     4.106           0        8.926              0          8.926        8.926\n",
      "2018-05-17          True         199.06              1    -199.06         0           1     -190.134        189.366         -0.768       -0.768\n",
      "2018-05-30          True         198.16             -1          0      -0.9           0        8.026              0          8.026        8.026\n",
      "2018-06-08          True         201.51              1    -201.51         0           1     -193.484        193.312         -0.172       -0.172\n",
      "2018-07-02          True         208.42             -1          0      6.91           0       14.936              0         14.936       14.936\n",
      "2018-07-13          True            214              1       -214         0           1     -199.064        205.437          6.373        6.373\n",
      "2018-08-02          True         215.01             -1          0      1.01           0       15.946              0         15.946       15.946\n",
      "2018-08-09          True         221.62              1    -221.62         0           1     -205.674         207.05          1.376        1.376\n",
      "2018-08-13          True         221.03             -1          0     -0.59           0       15.356              0         15.356       15.356\n",
      "2018-08-20          True            226              1       -226         0           1     -210.644        215.693          5.049        5.049\n",
      "2018-09-17          True         234.06             -1          0      8.06           0       23.416              0         23.416       23.416\n",
      "2018-12-03          True         230.72              1    -230.72         0           1     -207.304        221.251         13.947       13.947\n",
      "2018-12-10          True         224.54             -1          0     -6.18           0       17.236              0         17.236       17.236\n",
      "2019-01-11          True         210.04              1    -210.04         0           1     -192.804        200.687          7.883        7.883\n",
      "2019-01-25          True         212.03             -1          0      1.99           0       19.226              0         19.226       19.226\n",
      "2019-02-01          True            214              1       -214         0           1     -194.774        200.459          5.685        5.685\n",
      "2019-02-05          True         211.49             -1          0     -2.51           0       16.716              0         16.716       16.716\n",
      "2019-02-19          True         216.67              1    -216.67         0           1     -199.954        208.509          8.555        8.555\n",
      "2019-03-08          True         225.48             -1          0      8.81           0       25.526              0         25.526       25.526\n",
      "2019-03-12          True         230.32              1    -230.32         0           1     -204.794        222.696         17.902       17.902\n",
      "2019-04-12          True         241.51             -1          0     11.19           0       36.716              0         36.716       36.716\n",
      "2019-04-16          True         246.65              1    -246.65         0           1     -209.934         234.53         24.596       24.596\n",
      "2019-04-23          True         244.65             -1          0        -2           0       34.716              0         34.716       34.716\n",
      "2019-05-13          True         244.12              1    -244.12         0           1     -209.404        231.878         22.474       22.474\n",
      "2019-05-15          True         242.11             -1          0     -2.01           0       32.706              0         32.706       32.706\n",
      "2019-05-17          True         245.88              1    -245.88         0           1     -213.174        238.041         24.867       24.867\n",
      "2019-05-29          True         244.13             -1          0     -1.75           0       30.956              0         30.956       30.956\n",
      "2019-06-19          True         262.31              1    -262.31         0           1     -231.354        252.716         21.362       21.362\n",
      "2019-07-01          True         266.43             -1          0      4.12           0       35.076              0         35.076       35.076\n",
      "2019-07-10          True         270.05              1    -270.05         0           1     -234.974        260.154          25.18        25.18\n",
      "2019-07-26          True          279.8             -1          0      9.75           0       44.826              0         44.826       44.826\n",
      "2019-08-23          True         278.21              1    -278.21         0           1     -233.384        262.636         29.252       29.252\n",
      "2019-09-12          True         290.34             -1          0     12.13           0       56.956              0         56.956       56.956\n",
      "2019-10-04          True         287.85              1    -287.85         0           1     -230.894        280.176         49.282       49.282\n",
      "2019-10-24          True         295.05             -1          0       7.2           0       64.156              0         64.156       64.156\n",
      "2019-11-06          True         299.97              1    -299.97         0           1     -235.814        290.319         54.505       54.505\n",
      "2019-11-20          True         302.44             -1          0      2.47           0       66.626              0         66.626       66.626\n",
      "2020-01-10          True            300              1       -300         0           1     -233.374        286.151         52.777       52.777\n",
      "2020-02-03          True        306.639             -1          0     6.639           0       73.265              0         73.265       73.265\n",
      "2020-02-10          True         313.76              1    -313.76         0           1     -240.495        302.716         62.221       62.221\n",
      "2020-02-25          True            315             -1          0      1.24           0       74.505              0         74.505       74.505\n",
      "2020-04-07          True          306.5              1     -306.5         0           1     -231.995        292.914         60.919       60.919\n",
      "2020-04-22          True            304             -1          0      -2.5           0       72.005              0         72.005       72.005\n",
      "2020-05-29          True          304.2              1     -304.2         0           1     -232.195        298.271         66.076       66.076\n",
      "2020-06-09          True          307.5             -1          0       3.3           0       75.305              0         75.305       75.305\n",
      "2020-07-01          True          302.5              1     -302.5         0           1     -227.195        294.674         67.479       67.479\n",
      "2020-07-24          True         326.22             -1          0     23.72           0       99.025              0         99.025       99.025\n",
      "2020-08-04          True         329.56              1    -329.56         0           1     -230.535        329.263         98.728       98.728\n",
      "2020-08-12          True        333.745             -1          0     4.185           0       103.21              0         103.21       103.21\n",
      "2020-08-24          True         345.11              1    -345.11         0           1       -241.9        333.469         91.569       91.569\n",
      "2020-09-08          True         343.84             -1          0     -1.27           0       101.94              0         101.94       101.94\n",
      "2020-09-23          True            348              1       -348         0           1      -246.06        333.953         87.893       87.893\n",
      "2020-10-23          True         375.61             -1          0     27.61           0       129.55              0         129.55       129.55\n",
      "2020-11-05          True         382.48              1    -382.48         0           1      -252.93        374.012        121.082      121.082\n",
      "2020-11-10          True         363.88             -1          0     -18.6           0       110.95              0         110.95       110.95\n",
      "2020-11-25          True         385.79              1    -385.79         0           1      -274.84        376.458        101.618      101.618\n",
      "2020-12-04          True         375.21             -1          0    -10.58           0       100.37              0         100.37       100.37\n",
      "2021-01-05          True         378.86              1    -378.86         0           1      -278.49        374.211         95.721       95.721\n",
      "2021-01-07          True         371.01             -1          0     -7.85           0        92.52              0          92.52        92.52\n",
      "2021-03-23          True         333.89              1    -333.89         0           1      -241.37        339.622         98.252       98.252\n",
      "2021-04-27          True         368.17             -1          0     34.28           0        126.8              0          126.8        126.8\n",
      "2021-04-30          True         372.91              1    -372.91         0           1      -246.11         372.09         125.98       125.98\n"
     ]
    }
   ],
   "source": [
    "top_model_positions = model_positions_collection[top_model_name]\n",
    "print(top_model_positions[top_model_positions['trade_action'] != 0])"
   ]
  },
  {
   "cell_type": "code",
   "execution_count": 24,
   "metadata": {
    "collapsed": false,
    "jupyter": {
     "outputs_hidden": false
    },
    "pycharm": {
     "name": "#%%\n"
    }
   },
   "outputs": [
    {
     "data": {
      "image/png": "[encoded data removed]",
      "text/plain": [
       "<Figure size 1152x648 with 1 Axes>"
      ]
     },
     "metadata": {},
     "output_type": "display_data"
    }
   ],
   "source": [
    "draw_model_graph(trading_model_collection[top_model_name], top_model_name)"
   ]
  },
  {
   "cell_type": "code",
   "execution_count": 25,
   "metadata": {
    "colab": {
     "base_uri": "https://localhost:8080/",
     "height": 34
    },
    "colab_type": "code",
    "collapsed": false,
    "id": "be1J2gmiTemG",
    "jupyter": {
     "outputs_hidden": false
    },
    "outputId": "28010a58-a8c1-43ae-d6ff-200fc13eb876",
    "pycharm": {
     "name": "#%%\n"
    }
   },
   "outputs": [
    {
     "name": "stdout",
     "output_type": "stream",
     "text": [
      "Total time for the script: 0:03:36.908466\n"
     ]
    }
   ],
   "source": [
    "print ('Total time for the script:',(datetime.now() - startTimeScript))"
   ]
  }
 ],
 "metadata": {
  "colab": {
   "collapsed_sections": [],
   "name": "py_algotrading_ema_crossover_grid_search.ipynb",
   "provenance": []
  },
  "kernelspec": {
   "display_name": "Python 3",
   "language": "python",
   "name": "python3"
  },
  "language_info": {
   "codemirror_mode": {
    "name": "ipython",
    "version": 3
   },
   "file_extension": ".py",
   "mimetype": "text/x-python",
   "name": "python",
   "nbconvert_exporter": "python",
   "pygments_lexer": "ipython3",
   "version": "3.8.5"
  }
 },
 "nbformat": 4,
 "nbformat_minor": 4
}
