{
 "cells": [
  {
   "cell_type": "markdown",
   "metadata": {
    "pycharm": {
     "name": "#%% md\n"
    }
   },
   "source": [
    "# Quantitative Finance Model using Donadio and Ghosh Learn Algorithmic Trading Chapter 4 Pairs Correlation Heatmap Example\n",
    "### David Lowe\n",
    "### August 23, 2022\n",
    "\n",
    "NOTE: This script is for learning purposes only and does not constitute a recommendation for buying or selling any stock mentioned in this script.\n",
    "\n",
    "SUMMARY: This project aims to construct and test an algorithmic trading model and document the end-to-end steps using a template.\n",
    "\n",
    "INTRODUCTION: This script aims to replicate the Pairs Correlation Heatmap example found in chapter four of the book Learn Algorithmic Trading by Sebastien Donadio and Sourav Ghosh. The script seeks to validate the Python environment and package requirements for running these code examples successfully. The eventual goal is to integrate various example code segments from the book into an end-to-end algorithmic trading system.\n",
    "\n",
    "Dataset ML Model: Time series analysis with numerical attributes\n",
    "\n",
    "Dataset Used: Sharadar US Equities and Fund Prices from Quandl/Nasdaq Data Link\n",
    "\n",
    "Source and Further Discussion of the Code Examples: https://github.com/PacktPublishing/Learn-Algorithmic-Trading"
   ]
  },
  {
   "cell_type": "markdown",
   "metadata": {
    "pycharm": {
     "name": "#%% md\n"
    }
   },
   "source": [
    "# Task 1 - Prepare Environment"
   ]
  },
  {
   "cell_type": "markdown",
   "metadata": {
    "pycharm": {
     "name": "#%% md\n"
    }
   },
   "source": [
    "## 1.a) Load the required packages and modules"
   ]
  },
  {
   "cell_type": "code",
   "execution_count": 1,
   "metadata": {
    "ExecuteTime": {
     "end_time": "2021-04-15T19:43:39.894161Z",
     "start_time": "2021-04-15T19:43:39.386933Z"
    },
    "pycharm": {
     "name": "#%%\n"
    }
   },
   "outputs": [],
   "source": [
    "import numpy as np\n",
    "import pandas as pd\n",
    "from datetime import date\n",
    "import matplotlib.pyplot as plt\n",
    "from statsmodels.tsa.stattools import coint\n",
    "import seaborn\n",
    "from pandas_datareader import data"
   ]
  },
  {
   "cell_type": "markdown",
   "metadata": {
    "pycharm": {
     "name": "#%% md\n"
    }
   },
   "source": [
    "## 1.b) Set up the controlling parameters and functions"
   ]
  },
  {
   "cell_type": "code",
   "execution_count": 2,
   "metadata": {
    "collapsed": false,
    "jupyter": {
     "outputs_hidden": false
    },
    "pycharm": {
     "name": "#%%\n"
    }
   },
   "outputs": [
    {
     "name": "stdout",
     "output_type": "stream",
     "text": [
      "Starting date for the model: 2001-01-01\n",
      "Ending date for the model: 2017-12-31\n"
     ]
    }
   ],
   "source": [
    "# Specify the key modeling parameters below\n",
    "DATA_STORE = '../sharadar.h5'\n",
    "symbolsIds = ['SPY','AAPL','ADBE','LUV','MSFT','SKYW','QCOM','HPQ','JNPR','AMD','IBM']\n",
    "\n",
    "MODEL_START_DATE = date(2001, 1, 1)\n",
    "print(\"Starting date for the model:\", MODEL_START_DATE)\n",
    "\n",
    "# MODEL_END_DATE = datetime.now().date()\n",
    "MODEL_END_DATE = date(2017, 12, 31)\n",
    "print(\"Ending date for the model:\", MODEL_END_DATE)\n",
    "\n",
    "# Set Pandas dsiplay parameters\n",
    "pd.set_option('display.max_rows', 500)\n",
    "pd.set_option('display.max_columns', 500)\n",
    "pd.set_option('display.width', 1000)"
   ]
  },
  {
   "cell_type": "markdown",
   "metadata": {
    "pycharm": {
     "name": "#%% md\n"
    }
   },
   "source": [
    "# Task 2 - Acquire and Pre-Process Data"
   ]
  },
  {
   "cell_type": "code",
   "execution_count": 3,
   "metadata": {
    "collapsed": false,
    "jupyter": {
     "outputs_hidden": false
    },
    "pycharm": {
     "name": "#%%\n"
    }
   },
   "outputs": [],
   "source": [
    "def load_financial_data(symbols, start_date, end_date, output_file):\n",
    "    try:\n",
    "        df = pd.read_pickle(output_file)\n",
    "        print('File data found...reading symbols data')\n",
    "    except FileNotFoundError:\n",
    "        print('File not found...downloading the symbols data')\n",
    "        df = data.DataReader(symbols, 'yahoo', start_date, end_date)\n",
    "        df.to_pickle(output_file)\n",
    "    return df"
   ]
  },
  {
   "cell_type": "code",
   "execution_count": 4,
   "metadata": {
    "collapsed": false,
    "jupyter": {
     "outputs_hidden": false
    },
    "pycharm": {
     "name": "#%%\n"
    }
   },
   "outputs": [
    {
     "name": "stdout",
     "output_type": "stream",
     "text": [
      "File not found...downloading the symbols data\n",
      "Attributes  Adj Close                                                                                                                   Close                                                                                                               High                                                                                                           Low                                                                                                            Open                                                                                                            Volume                                                                                                                      \n",
      "Symbols           SPY      AAPL       ADBE        LUV       MSFT       SKYW       QCOM        HPQ        JNPR      AMD        IBM         SPY      AAPL       ADBE        LUV      MSFT     SKYW      QCOM        HPQ        JNPR      AMD        IBM        SPY      AAPL     ADBE        LUV     MSFT     SKYW      QCOM        HPQ      JNPR      AMD        IBM        SPY      AAPL      ADBE        LUV      MSFT     SKYW      QCOM        HPQ      JNPR      AMD        IBM        SPY      AAPL      ADBE        LUV      MSFT       SKYW     QCOM        HPQ      JNPR      AMD        IBM         SPY         AAPL        ADBE        LUV         MSFT      SKYW        QCOM         HPQ        JNPR        AMD         IBM\n",
      "Date                                                                                                                                                                                                                                                                                                                                                                                                                                                                                                                                                                                                                                                                                                                                  \n",
      "2001-01-02  86.045502  0.226799  23.221338  20.411095  13.631791  23.294525  23.780750   8.945478   85.009377  14.3750  47.613968  128.812500  0.265625  23.367188  22.306667  21.68750  27.5000  35.43750  13.737511  102.562500  14.3750  81.082695  132.15625  0.272321  29.2500  22.400000  22.5000  29.0000  41.12500  14.929609  123.7500  14.7500  83.652008  127.56250  0.260045  22.37500  21.973333  21.43750  26.8750  35.15625  13.510445   98.5625  14.1250  80.425430  132.00000  0.265625  29.18750  22.166668  22.06250  29.000000  40.9375  14.333560  123.7500  14.1250  80.783936   8737500.0  452312000.0  16813400.0  3792150.0   82413200.0  354600.0  36380600.0  15019842.0  22142800.0  4863600.0   8375531.0\n",
      "2001-01-03  90.178719  0.249670  28.787941  20.045082  15.065678  24.406305  28.205557  10.072906  109.408745  16.2500  53.122734  135.000000  0.292411  28.968750  21.906668  23.96875  28.8125  42.03125  15.468892  132.000000  16.2500  90.463669  136.00000  0.297991  30.0625  22.000000  24.4375  29.0625  42.87500  15.781108  136.0000  16.3750  90.822182  127.65625  0.257813  22.03125  21.166668  21.56250  25.5000  34.53125  13.652361   97.2500  14.4375  80.066925  128.31250  0.258929  23.21875  22.000000  21.59375  26.875000  34.5625  13.737511   98.0000  14.5000  80.066925  19431600.0  817073600.0  15257000.0  6715200.0  135962200.0  452400.0  47526000.0  31391932.0  36720500.0  8808100.0  13357315.0\n",
      "2001-01-04  89.208038  0.260152  26.707256  21.198008  15.222814  23.241579  26.485966  10.239250  103.865799  16.6875  52.315735  133.546875  0.304688  26.875000  23.166668  24.21875  27.4375  39.46875  15.724342  125.312500  16.6875  89.089386  135.46875  0.330357  29.3750  23.166668  25.2500  29.0000  41.18750  16.547457  132.9375  17.3750  95.363289  133.00000  0.300223  26.50000  22.000000  23.43750  26.9375  38.37500  15.554042  122.0000  15.7500  88.611374  134.93750  0.323940  28.50000  22.500000  23.90625  28.984375  39.5000  15.554042  129.3750  16.1250  90.583176   9219000.0  739396000.0   9609600.0  6138150.0  112397000.0  950000.0  40355600.0  21579160.0  16270000.0  7045000.0  16129843.0\n",
      "2001-01-05  86.295998  0.249670  25.589275  21.289516  15.438879  23.506298  24.514719   9.056376   91.018539  16.0000  52.771866  129.187500  0.292411  25.750000  23.266666  24.56250  27.7500  36.53125  13.907811  109.812500  16.0000  89.866158  133.62500  0.310268  27.5000  23.273333  24.9375  27.9375  39.90625  15.837875  124.8750  17.1875  90.523422  129.18750  0.286830  25.00000  22.026667  23.78125  27.1875  36.28125  13.907811  109.6875  15.6875  86.998085  133.46875  0.302455  26.75000  23.033333  24.25000  27.812500  39.6875  15.724342  124.2500  17.1875  89.806404  12911400.0  412356000.0   8422200.0  6526500.0   93414600.0  157700.0  31656400.0  21077764.0  16469100.0  5230600.0   8413187.0\n",
      "2001-01-08  86.964012  0.252528  24.626575  20.740499  15.379952  22.765104  26.129459   9.278166   95.719719  16.1875  52.526241  130.187500  0.295759  24.781250  22.666668  24.46875  26.8750  38.93750  14.248411  115.484375  16.1875  89.447899  130.18750  0.303292  25.7500  23.320000  24.8750  28.1875  39.00000  14.390327  115.7500  16.2500  89.806404  127.68750  0.284598  22.75000  22.466667  23.34375  26.5000  35.87500  13.879428  102.7500  15.4375  87.535851  129.87500  0.302455  24.96875  22.933332  24.46875  27.750000  36.5000  13.907811  108.1875  15.9375  89.388145   6625300.0  373699200.0   8495600.0  3504150.0   79817600.0  426500.0  23359400.0  14371133.0  20383600.0  3365700.0   6343781.0\n"
     ]
    }
   ],
   "source": [
    "data = load_financial_data(symbolsIds, start_date=MODEL_START_DATE,\n",
    "                    end_date = MODEL_END_DATE,\n",
    "                    output_file='multi_data_large.pkl')\n",
    "print(data.head())"
   ]
  },
  {
   "cell_type": "markdown",
   "metadata": {
    "pycharm": {
     "name": "#%% md\n"
    }
   },
   "source": [
    "# Task 3 - Set up the Helper Functions for Modeling"
   ]
  },
  {
   "cell_type": "code",
   "execution_count": 5,
   "metadata": {
    "collapsed": false,
    "jupyter": {
     "outputs_hidden": false
    },
    "pycharm": {
     "name": "#%%\n"
    }
   },
   "outputs": [],
   "source": [
    "def find_cointegrated_pairs(data):\n",
    "    n = data.shape[1]\n",
    "    pvalue_matrix = np.ones((n, n))\n",
    "    keys = data.keys()\n",
    "    pairs = []\n",
    "    for i in range(n):\n",
    "        for j in range(i+1, n):\n",
    "            result = coint(data[keys[i]], data[keys[j]])\n",
    "            pvalue_matrix[i, j] = result[1]\n",
    "            if result[1] < 0.02:\n",
    "                pairs.append((keys[i], keys[j]))\n",
    "    return pvalue_matrix, pairs"
   ]
  },
  {
   "cell_type": "markdown",
   "metadata": {
    "pycharm": {
     "name": "#%% md\n"
    }
   },
   "source": [
    "# Task 4 - Build Model"
   ]
  },
  {
   "cell_type": "code",
   "execution_count": 6,
   "metadata": {
    "collapsed": false,
    "jupyter": {
     "outputs_hidden": false
    },
    "pycharm": {
     "name": "#%%\n"
    }
   },
   "outputs": [
    {
     "name": "stdout",
     "output_type": "stream",
     "text": [
      "[('ADBE', 'MSFT'), ('JNPR', 'AMD'), ('JNPR', 'IBM')]\n"
     ]
    }
   ],
   "source": [
    "pvalues, pairs = find_cointegrated_pairs(data['Adj Close'])\n",
    "print(pairs)"
   ]
  },
  {
   "cell_type": "markdown",
   "metadata": {
    "pycharm": {
     "name": "#%% md\n"
    }
   },
   "source": [
    "# Task 5 - Evaluate Model Performance"
   ]
  },
  {
   "cell_type": "code",
   "execution_count": 7,
   "metadata": {
    "collapsed": false,
    "jupyter": {
     "outputs_hidden": false
    },
    "pycharm": {
     "name": "#%%\n"
    }
   },
   "outputs": [
    {
     "data": {
      "image/png": "[encoded data removed]",
      "text/plain": [
       "<Figure size 432x288 with 2 Axes>"
      ]
     },
     "metadata": {
      "needs_background": "light"
     },
     "output_type": "display_data"
    },
    {
     "name": "stdout",
     "output_type": "stream",
     "text": [
      "[('ADBE', 'MSFT'), ('JNPR', 'AMD'), ('JNPR', 'IBM')]\n"
     ]
    }
   ],
   "source": [
    "seaborn.heatmap(pvalues, xticklabels=symbolsIds,\n",
    "                yticklabels=symbolsIds, cmap='RdYlGn_r',\n",
    "                mask = (pvalues >= 0.98))\n",
    "plt.show()\n",
    "print(pairs)"
   ]
  }
 ],
 "metadata": {
  "kernelspec": {
   "display_name": "Python 3 (ipykernel)",
   "language": "python",
   "name": "python3"
  },
  "language_info": {
   "codemirror_mode": {
    "name": "ipython",
    "version": 3
   },
   "file_extension": ".py",
   "mimetype": "text/x-python",
   "name": "python",
   "nbconvert_exporter": "python",
   "pygments_lexer": "ipython3",
   "version": "3.9.12"
  },
  "toc": {
   "base_numbering": 1,
   "nav_menu": {},
   "number_sections": true,
   "sideBar": true,
   "skip_h1_title": true,
   "title_cell": "Table of Contents",
   "title_sidebar": "Contents",
   "toc_cell": false,
   "toc_position": {
    "height": "calc(100% - 180px)",
    "left": "10px",
    "top": "150px",
    "width": "230.355px"
   },
   "toc_section_display": true,
   "toc_window_display": true
  }
 },
 "nbformat": 4,
 "nbformat_minor": 4
}
