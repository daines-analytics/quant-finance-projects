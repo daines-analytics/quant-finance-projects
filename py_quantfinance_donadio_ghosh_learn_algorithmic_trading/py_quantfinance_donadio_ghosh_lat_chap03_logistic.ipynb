{
 "cells": [
  {
   "cell_type": "markdown",
   "metadata": {
    "pycharm": {
     "name": "#%% md\n"
    }
   },
   "source": [
    "# Quantitative Finance Model using Donadio and Ghosh Learn Algorithmic Trading Chapter 3 Logistic Regression Example\n",
    "### David Lowe\n",
    "### August 17, 2022\n",
    "\n",
    "NOTE: This script is for learning purposes only and does not constitute a recommendation for buying or selling any stock mentioned in this script.\n",
    "\n",
    "SUMMARY: This project aims to construct and test an algorithmic trading model and document the end-to-end steps using a template.\n",
    "\n",
    "INTRODUCTION: This script aims to replicate the Logistic Regression example found in chapter three of the book Learn Algorithmic Trading by Sebastien Donadio and Sourav Ghosh. The script seeks to validate the Python environment and package requirements for running these code examples successfully. The eventual goal is to integrate various example code segments from the book into an end-to-end algorithmic trading system.\n",
    "\n",
    "Dataset ML Model: Time series analysis with numerical attributes\n",
    "\n",
    "Dataset Used: Sharadar US Equities and Fund Prices from Quandl/Nasdaq Data Link\n",
    "\n",
    "Source and Further Discussion of the Code Examples: https://github.com/PacktPublishing/Learn-Algorithmic-Trading"
   ]
  },
  {
   "cell_type": "markdown",
   "metadata": {
    "pycharm": {
     "name": "#%% md\n"
    }
   },
   "source": [
    "# Task 1 - Prepare Environment"
   ]
  },
  {
   "cell_type": "markdown",
   "metadata": {
    "pycharm": {
     "name": "#%% md\n"
    }
   },
   "source": [
    "## 1.a) Load the required packages and modules"
   ]
  },
  {
   "cell_type": "code",
   "execution_count": 1,
   "metadata": {
    "ExecuteTime": {
     "end_time": "2021-04-15T19:43:39.894161Z",
     "start_time": "2021-04-15T19:43:39.386933Z"
    },
    "pycharm": {
     "name": "#%%\n"
    }
   },
   "outputs": [],
   "source": [
    "import numpy as np\n",
    "import pandas as pd\n",
    "from datetime import date\n",
    "import matplotlib.pyplot as plt\n",
    "from sklearn.linear_model import LogisticRegression\n",
    "from sklearn.metrics import accuracy_score"
   ]
  },
  {
   "cell_type": "markdown",
   "metadata": {
    "pycharm": {
     "name": "#%% md\n"
    }
   },
   "source": [
    "## 1.b) Set up the controlling parameters and functions"
   ]
  },
  {
   "cell_type": "code",
   "execution_count": 2,
   "metadata": {
    "collapsed": false,
    "jupyter": {
     "outputs_hidden": false
    },
    "pycharm": {
     "name": "#%%\n"
    }
   },
   "outputs": [
    {
     "name": "stdout",
     "output_type": "stream",
     "text": [
      "Starting date for the model: 2012-01-01\n",
      "Ending date for the model: 2021-12-31\n"
     ]
    }
   ],
   "source": [
    "# Specify the key modeling parameters below\n",
    "DATA_STORE = '../sharadar.h5'\n",
    "ticker_symbol = 'GOOGL'\n",
    "\n",
    "MODEL_START_DATE = date(2012, 1, 1)\n",
    "print(\"Starting date for the model:\", MODEL_START_DATE)\n",
    "\n",
    "# MODEL_END_DATE = datetime.now().date()\n",
    "MODEL_END_DATE = date(2021, 12, 31)\n",
    "print(\"Ending date for the model:\", MODEL_END_DATE)"
   ]
  },
  {
   "cell_type": "markdown",
   "metadata": {
    "pycharm": {
     "name": "#%% md\n"
    }
   },
   "source": [
    "# Task 2 - Acquire and Pre-Process Data"
   ]
  },
  {
   "cell_type": "markdown",
   "metadata": {
    "pycharm": {
     "name": "#%% md\n"
    }
   },
   "source": [
    "## Instead of using pandas-datareader like in the book example, this script will use another commercial data source."
   ]
  },
  {
   "cell_type": "code",
   "execution_count": 3,
   "metadata": {
    "collapsed": false,
    "jupyter": {
     "outputs_hidden": false
    },
    "pycharm": {
     "name": "#%%\n"
    }
   },
   "outputs": [
    {
     "name": "stdout",
     "output_type": "stream",
     "text": [
      "<class 'pandas.core.frame.DataFrame'>\n",
      "DatetimeIndex: 2517 entries, 2012-01-03 to 2021-12-31\n",
      "Data columns (total 6 columns):\n",
      " #   Column  Non-Null Count  Dtype  \n",
      "---  ------  --------------  -----  \n",
      " 0   ticker  2517 non-null   object \n",
      " 1   open    2517 non-null   float64\n",
      " 2   high    2517 non-null   float64\n",
      " 3   low     2517 non-null   float64\n",
      " 4   close   2517 non-null   float64\n",
      " 5   volume  2517 non-null   float64\n",
      "dtypes: float64(5), object(1)\n",
      "memory usage: 137.6+ KB\n"
     ]
    }
   ],
   "source": [
    "with pd.HDFStore(DATA_STORE) as store:\n",
    "    goog_data = (store['quandl/sharadar/sep'].loc[[ticker_symbol], ['open', 'high', 'low', 'close', 'volume']])\n",
    "goog_data.reset_index(level=0, inplace=True)\n",
    "goog_data.sort_index(inplace=True)\n",
    "goog_data = goog_data[MODEL_START_DATE:MODEL_END_DATE]\n",
    "goog_data.info()"
   ]
  },
  {
   "cell_type": "markdown",
   "metadata": {
    "pycharm": {
     "name": "#%% md\n"
    }
   },
   "source": [
    "# Task 3 - Set up the Helper Functions for Modeling"
   ]
  },
  {
   "cell_type": "code",
   "execution_count": 4,
   "metadata": {
    "collapsed": false,
    "jupyter": {
     "outputs_hidden": false
    },
    "pycharm": {
     "name": "#%%\n"
    }
   },
   "outputs": [],
   "source": [
    "def create_trading_condition(df):\n",
    "    df['Open-Close'] = df.open - df.close\n",
    "    df['High-Low'] = df.high - df.low\n",
    "    df = df.dropna()\n",
    "    features = df[['Open-Close','High-Low']]\n",
    "    target = np.where(df['close'].shift(-1)>df['close'], 1, -1)\n",
    "    return features, target"
   ]
  },
  {
   "cell_type": "code",
   "execution_count": 5,
   "metadata": {
    "collapsed": false,
    "jupyter": {
     "outputs_hidden": false
    },
    "pycharm": {
     "name": "#%%\n"
    }
   },
   "outputs": [],
   "source": [
    "def create_train_split_group(features, target, split_ratio=0.8):\n",
    "    split_value = int(split_ratio * len(goog_data))\n",
    "    features_train = features[:split_value]\n",
    "    target_train = target[:split_value]\n",
    "    features_test = features[split_value:]\n",
    "    target_test = target[split_value:]\n",
    "    return features_train, features_test, target_train, target_test"
   ]
  },
  {
   "cell_type": "code",
   "execution_count": 6,
   "metadata": {
    "collapsed": false,
    "jupyter": {
     "outputs_hidden": false
    },
    "pycharm": {
     "name": "#%%\n"
    }
   },
   "outputs": [],
   "source": [
    "def calculate_return(df, split_val, symbol):\n",
    "    goog_return = df[split_val:]['%s_Returns' % symbol].cumsum() * 100\n",
    "    df['Strategy_Returns'] = df['%s_Returns' % symbol] * df['Predicted_Signal'].shift(1)\n",
    "    return goog_return"
   ]
  },
  {
   "cell_type": "code",
   "execution_count": 7,
   "metadata": {
    "collapsed": false,
    "jupyter": {
     "outputs_hidden": false
    },
    "pycharm": {
     "name": "#%%\n"
    }
   },
   "outputs": [],
   "source": [
    "def calculate_strategy_return(df, split_val):\n",
    "    strategy_return = df[split_val:]['Strategy_Returns'].cumsum() * 100\n",
    "    return strategy_return"
   ]
  },
  {
   "cell_type": "code",
   "execution_count": 8,
   "metadata": {
    "collapsed": false,
    "jupyter": {
     "outputs_hidden": false
    },
    "pycharm": {
     "name": "#%%\n"
    }
   },
   "outputs": [],
   "source": [
    "def plot_chart(cumu_symbol_return, cumu_strat_return, symbol):\n",
    "    plt.figure(figsize=(16, 10))\n",
    "    plt.plot(cumu_symbol_return, label='%s Returns' % symbol)\n",
    "    plt.plot(cumu_strat_return, label='Strategy Returns')\n",
    "    plt.legend()\n",
    "    plt.show()"
   ]
  },
  {
   "cell_type": "code",
   "execution_count": 9,
   "metadata": {
    "collapsed": false,
    "jupyter": {
     "outputs_hidden": false
    },
    "pycharm": {
     "name": "#%%\n"
    }
   },
   "outputs": [],
   "source": [
    "def sharpe_ratio(strategy_returns, symbol_returns):\n",
    "    strategy_std = strategy_returns.std()\n",
    "    sharpe = (strategy_returns - symbol_returns) / strategy_std\n",
    "    return sharpe.mean()"
   ]
  },
  {
   "cell_type": "markdown",
   "metadata": {
    "pycharm": {
     "name": "#%% md\n"
    }
   },
   "source": [
    "# Task 4 - Build model with the Logistic Regression algorithm"
   ]
  },
  {
   "cell_type": "markdown",
   "metadata": {
    "pycharm": {
     "name": "#%% md\n"
    }
   },
   "source": [
    "## This code segment implements and visualizes the Logistic Regression model."
   ]
  },
  {
   "cell_type": "code",
   "execution_count": 10,
   "metadata": {
    "collapsed": false,
    "jupyter": {
     "outputs_hidden": false
    },
    "pycharm": {
     "name": "#%%\n"
    }
   },
   "outputs": [
    {
     "name": "stdout",
     "output_type": "stream",
     "text": [
      "0.5226030799801291 0.5158730158730159\n"
     ]
    }
   ],
   "source": [
    "X, Y = create_trading_condition(goog_data)\n",
    "\n",
    "X_train, X_test, Y_train, Y_test = create_train_split_group(\n",
    "    X, Y, split_ratio=0.8)\n",
    "\n",
    "logistic=LogisticRegression()\n",
    "logistic.fit(X_train, Y_train)\n",
    "accuracy_train = accuracy_score(Y_train, logistic.predict(X_train))\n",
    "accuracy_test = accuracy_score(Y_test, logistic.predict(X_test))\n",
    "\n",
    "print(accuracy_train, accuracy_test)"
   ]
  },
  {
   "cell_type": "code",
   "execution_count": 11,
   "metadata": {
    "collapsed": false,
    "jupyter": {
     "outputs_hidden": false
    },
    "pycharm": {
     "name": "#%%\n"
    }
   },
   "outputs": [
    {
     "name": "stdout",
     "output_type": "stream",
     "text": [
      "           ticker    open    high     low   close       volume  Open-Close  \\\n",
      "date                                                                         \n",
      "2012-01-03  GOOGL  16.340  16.720  16.326  16.652  146912000.0      -0.312   \n",
      "2012-01-04  GOOGL  16.642  16.773  16.532  16.724  114444000.0      -0.082   \n",
      "2012-01-05  GOOGL  16.570  16.616  16.422  16.492  131184000.0       0.078   \n",
      "2012-01-06  GOOGL  16.495  16.517  16.261  16.267  107608000.0       0.228   \n",
      "2012-01-09  GOOGL  16.179  16.191  15.546  15.577  232670000.0       0.602   \n",
      "\n",
      "            High-Low  Predicted_Signal  GOOGL_Returns  \n",
      "date                                                   \n",
      "2012-01-03     0.394                 1            NaN  \n",
      "2012-01-04     0.241                 1       0.004314  \n",
      "2012-01-05     0.194                 1      -0.013969  \n",
      "2012-01-06     0.256                 1      -0.013737  \n",
      "2012-01-09     0.645                 1      -0.043343  \n"
     ]
    }
   ],
   "source": [
    "goog_data['Predicted_Signal'] = logistic.predict(X)\n",
    "goog_data['GOOGL_Returns'] = np.log(\n",
    "    goog_data['close'] / goog_data['close'].shift(1))\n",
    "\n",
    "print(goog_data.head())"
   ]
  },
  {
   "cell_type": "markdown",
   "metadata": {
    "pycharm": {
     "name": "#%% md\n"
    }
   },
   "source": [
    "# Task 5 - Evaluate Model Performance"
   ]
  },
  {
   "cell_type": "code",
   "execution_count": 12,
   "metadata": {
    "collapsed": false,
    "jupyter": {
     "outputs_hidden": false
    },
    "pycharm": {
     "name": "#%%\n"
    }
   },
   "outputs": [
    {
     "data": {
      "image/png": "[encoded data removed]",
      "text/plain": [
       "<Figure size 1152x720 with 1 Axes>"
      ]
     },
     "metadata": {
      "needs_background": "light"
     },
     "output_type": "display_data"
    }
   ],
   "source": [
    "cumu_goog_return = calculate_return(\n",
    "    goog_data, split_val=len(X_train), symbol=ticker_symbol)\n",
    "cumu_strategy_return = calculate_strategy_return(\n",
    "    goog_data, split_val=len(X_train))\n",
    "\n",
    "plot_chart(cumu_goog_return, cumu_strategy_return, symbol=ticker_symbol)"
   ]
  },
  {
   "cell_type": "code",
   "execution_count": 13,
   "metadata": {
    "collapsed": false,
    "jupyter": {
     "outputs_hidden": false
    },
    "pycharm": {
     "name": "#%%\n"
    }
   },
   "outputs": [
    {
     "name": "stdout",
     "output_type": "stream",
     "text": [
      "0.45592330556821914\n"
     ]
    }
   ],
   "source": [
    "print(sharpe_ratio(cumu_strategy_return, cumu_goog_return))"
   ]
  }
 ],
 "metadata": {
  "kernelspec": {
   "display_name": "Python 3 (ipykernel)",
   "language": "python",
   "name": "python3"
  },
  "language_info": {
   "codemirror_mode": {
    "name": "ipython",
    "version": 3
   },
   "file_extension": ".py",
   "mimetype": "text/x-python",
   "name": "python",
   "nbconvert_exporter": "python",
   "pygments_lexer": "ipython3",
   "version": "3.9.12"
  },
  "toc": {
   "base_numbering": 1,
   "nav_menu": {},
   "number_sections": true,
   "sideBar": true,
   "skip_h1_title": true,
   "title_cell": "Table of Contents",
   "title_sidebar": "Contents",
   "toc_cell": false,
   "toc_position": {
    "height": "calc(100% - 180px)",
    "left": "10px",
    "top": "150px",
    "width": "230.355px"
   },
   "toc_section_display": true,
   "toc_window_display": true
  }
 },
 "nbformat": 4,
 "nbformat_minor": 4
}
