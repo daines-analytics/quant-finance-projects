{
 "cells": [
  {
   "cell_type": "markdown",
   "source": [
    "# Quantitative Finance Model using Donadio and Ghosh Learn Algorithmic Trading Chapter 3 LASSO Example\n",
    "### David Lowe\n",
    "### August 11, 2022\n",
    "\n",
    "NOTE: This script is for learning purposes only and does not constitute a recommendation for buying or selling any stock mentioned in this script.\n",
    "\n",
    "SUMMARY: This project aims to construct and test an algorithmic trading model and document the end-to-end steps using a template.\n",
    "\n",
    "INTRODUCTION: This script aims to replicate the LASSO example found in chapter three of the book Learn Algorithmic Trading by Sebastien Donadio and Sourav Ghosh. The script seeks to validate the Python environment and package requirements for running these code examples successfully. The eventual goal is to integrate various example code segments from the book into an end-to-end algorithmic trading system.\n",
    "\n",
    "Dataset ML Model: Time series analysis with numerical attributes\n",
    "\n",
    "Dataset Used: Sharadar US Equities and Fund Prices from Quandl/Nasdaq Data Link\n",
    "\n",
    "Source and Further Discussion of the Code Examples: https://github.com/PacktPublishing/Learn-Algorithmic-Trading"
   ],
   "metadata": {
    "collapsed": false,
    "pycharm": {
     "name": "#%% md\n"
    }
   }
  },
  {
   "cell_type": "markdown",
   "metadata": {
    "pycharm": {
     "name": "#%% md\n"
    }
   },
   "source": [
    "# Task 1 - Prepare Environment"
   ]
  },
  {
   "cell_type": "markdown",
   "metadata": {
    "pycharm": {
     "name": "#%% md\n"
    }
   },
   "source": [
    "## 1.a) Load the required packages and modules"
   ]
  },
  {
   "cell_type": "code",
   "execution_count": 1,
   "metadata": {
    "ExecuteTime": {
     "end_time": "2021-04-15T19:43:39.894161Z",
     "start_time": "2021-04-15T19:43:39.386933Z"
    },
    "pycharm": {
     "name": "#%%\n"
    }
   },
   "outputs": [],
   "source": [
    "import numpy as np\n",
    "import pandas as pd\n",
    "from datetime import date\n",
    "import matplotlib.pyplot as plt\n",
    "from sklearn.model_selection import train_test_split\n",
    "from sklearn import linear_model\n",
    "from sklearn.metrics import mean_squared_error, r2_score"
   ]
  },
  {
   "cell_type": "markdown",
   "source": [
    "## 1.b) Set up the controlling parameters and functions"
   ],
   "metadata": {
    "collapsed": false,
    "pycharm": {
     "name": "#%% md\n"
    }
   }
  },
  {
   "cell_type": "code",
   "execution_count": 2,
   "outputs": [
    {
     "name": "stdout",
     "output_type": "stream",
     "text": [
      "Starting date for the model: 2012-01-01\n",
      "Ending date for the model: 2021-12-31\n"
     ]
    }
   ],
   "source": [
    "# Specify the key modeling parameters below\n",
    "DATA_STORE = '../sharadar.h5'\n",
    "ticker_symbol = 'GOOGL'\n",
    "\n",
    "STDEV_WINDOW = 20 # look back period for standard derivative\n",
    "MOM_WINDOW = 20 # how far to look back to find reference price to compute momentum\n",
    "\n",
    "MODEL_START_DATE = date(2012, 1, 1)\n",
    "print(\"Starting date for the model:\", MODEL_START_DATE)\n",
    "\n",
    "# MODEL_END_DATE = datetime.now().date()\n",
    "MODEL_END_DATE = date(2021, 12, 31)\n",
    "print(\"Ending date for the model:\", MODEL_END_DATE)"
   ],
   "metadata": {
    "collapsed": false,
    "pycharm": {
     "name": "#%%\n"
    }
   }
  },
  {
   "cell_type": "markdown",
   "source": [
    "# Task 2 - Acquire and Pre-Process Data"
   ],
   "metadata": {
    "collapsed": false,
    "pycharm": {
     "name": "#%% md\n"
    }
   }
  },
  {
   "cell_type": "markdown",
   "source": [
    "## Instead of using pandas-datareader like in the book example, this script will use a home-grown data source."
   ],
   "metadata": {
    "collapsed": false,
    "pycharm": {
     "name": "#%% md\n"
    }
   }
  },
  {
   "cell_type": "code",
   "execution_count": 3,
   "outputs": [
    {
     "name": "stdout",
     "output_type": "stream",
     "text": [
      "<class 'pandas.core.frame.DataFrame'>\n",
      "DatetimeIndex: 2517 entries, 2012-01-03 to 2021-12-31\n",
      "Data columns (total 6 columns):\n",
      " #   Column    Non-Null Count  Dtype  \n",
      "---  ------    --------------  -----  \n",
      " 0   ticker    2517 non-null   object \n",
      " 1   open      2517 non-null   float64\n",
      " 2   high      2517 non-null   float64\n",
      " 3   low       2517 non-null   float64\n",
      " 4   closeadj  2517 non-null   float64\n",
      " 5   volume    2517 non-null   float64\n",
      "dtypes: float64(5), object(1)\n",
      "memory usage: 137.6+ KB\n"
     ]
    }
   ],
   "source": [
    "with pd.HDFStore(DATA_STORE) as store:\n",
    "    goog_data = (store['quandl/sharadar/sep'].loc[[ticker_symbol], ['open', 'high', 'low', 'closeadj', 'volume']])\n",
    "goog_data.reset_index(level=0, inplace=True)\n",
    "goog_data.sort_index(inplace=True)\n",
    "goog_data = goog_data[MODEL_START_DATE:MODEL_END_DATE]\n",
    "goog_data.info()"
   ],
   "metadata": {
    "collapsed": false,
    "pycharm": {
     "name": "#%%\n"
    }
   }
  },
  {
   "cell_type": "markdown",
   "source": [
    "# Task 3 - Set up the Helper Functions for Modeling"
   ],
   "metadata": {
    "collapsed": false,
    "pycharm": {
     "name": "#%% md\n"
    }
   }
  },
  {
   "cell_type": "code",
   "execution_count": 4,
   "outputs": [],
   "source": [
    "def create_classification_trading_condition(df):\n",
    "    df['Open-Close'] = df.open - df.closeadj\n",
    "    df['High-Low'] = df.high - df.low\n",
    "    df = df.dropna()\n",
    "    features = df[['Open-Close', 'High-Low']]\n",
    "    target = np.where(df['closeadj'].shift(-1) > df['closeadj'], 1, -1)\n",
    "    return df, features, target"
   ],
   "metadata": {
    "collapsed": false,
    "pycharm": {
     "name": "#%%\n"
    }
   }
  },
  {
   "cell_type": "code",
   "execution_count": 5,
   "outputs": [],
   "source": [
    "def create_regression_trading_condition(df):\n",
    "    df['Open-Close'] = df.open - df.closeadj\n",
    "    df['High-Low'] = df.high - df.low\n",
    "    df['Target'] = df['closeadj'].shift(-1) - df['closeadj']\n",
    "    df = df.dropna()\n",
    "    features = df[['Open-Close', 'High-Low']]\n",
    "    target = df[['Target']]\n",
    "    return df, features, target"
   ],
   "metadata": {
    "collapsed": false,
    "pycharm": {
     "name": "#%%\n"
    }
   }
  },
  {
   "cell_type": "code",
   "execution_count": 6,
   "outputs": [],
   "source": [
    "def create_train_split_group(features, target, split_ratio=0.8):\n",
    "    return train_test_split(features, target, shuffle=False, train_size=split_ratio)"
   ],
   "metadata": {
    "collapsed": false,
    "pycharm": {
     "name": "#%%\n"
    }
   }
  },
  {
   "cell_type": "code",
   "execution_count": 7,
   "outputs": [],
   "source": [
    "def calculate_return(df, split_value, symbol):\n",
    "    goog_return = df[split_value:]['%s_Returns' % symbol].cumsum() * 100\n",
    "    df['Strategy_Returns'] = df['%s_Returns' % symbol] * df['Predicted_Signal'].shift(1)\n",
    "    return goog_return"
   ],
   "metadata": {
    "collapsed": false,
    "pycharm": {
     "name": "#%%\n"
    }
   }
  },
  {
   "cell_type": "code",
   "execution_count": 8,
   "outputs": [],
   "source": [
    "def calculate_strategy_return(df, split_value):\n",
    "    strategy_return = df[split_value:]['Strategy_Returns'].cumsum() * 100\n",
    "    return strategy_return"
   ],
   "metadata": {
    "collapsed": false,
    "pycharm": {
     "name": "#%%\n"
    }
   }
  },
  {
   "cell_type": "code",
   "execution_count": 9,
   "outputs": [],
   "source": [
    "def plot_chart(cumu_symbol_return, cumu_strat_return, symbol):\n",
    "    plt.figure(figsize=(16, 10))\n",
    "    plt.plot(cumu_symbol_return, label='%s Returns' % symbol)\n",
    "    plt.plot(cumu_strat_return, label='Strategy Returns')\n",
    "    plt.legend()\n",
    "    plt.show()"
   ],
   "metadata": {
    "collapsed": false,
    "pycharm": {
     "name": "#%%\n"
    }
   }
  },
  {
   "cell_type": "code",
   "execution_count": 10,
   "outputs": [],
   "source": [
    "def sharpe_ratio(symbol_returns, strategy_returns):\n",
    "    strategy_std = strategy_returns.std()\n",
    "    sharpe = (strategy_returns - symbol_returns) / strategy_std\n",
    "    return sharpe.mean()"
   ],
   "metadata": {
    "collapsed": false,
    "pycharm": {
     "name": "#%%\n"
    }
   }
  },
  {
   "cell_type": "markdown",
   "source": [
    "# Task 4 - Build model with the OLS algorithm"
   ],
   "metadata": {
    "collapsed": false,
    "pycharm": {
     "name": "#%% md\n"
    }
   }
  },
  {
   "cell_type": "markdown",
   "source": [
    "## This code segment implements and visualizes the OLS model."
   ],
   "metadata": {
    "collapsed": false,
    "pycharm": {
     "name": "#%% md\n"
    }
   }
  },
  {
   "cell_type": "code",
   "execution_count": 11,
   "outputs": [
    {
     "name": "stdout",
     "output_type": "stream",
     "text": [
      "Coefficients: \n",
      " [ 0. -0.]\n",
      "           ticker    open    high     low  closeadj       volume  Open-Close  \\\n",
      "date                                                                           \n",
      "2012-01-03  GOOGL  16.340  16.720  16.326    16.652  146912000.0      -0.312   \n",
      "2012-01-04  GOOGL  16.642  16.773  16.532    16.724  114444000.0      -0.082   \n",
      "2012-01-05  GOOGL  16.570  16.616  16.422    16.492  131184000.0       0.078   \n",
      "2012-01-06  GOOGL  16.495  16.517  16.261    16.267  107608000.0       0.228   \n",
      "2012-01-09  GOOGL  16.179  16.191  15.546    15.577  232670000.0       0.602   \n",
      "\n",
      "            High-Low  Target  Predicted_Signal  GOOG_Returns  \n",
      "date                                                          \n",
      "2012-01-03     0.394   0.072          0.025737           NaN  \n",
      "2012-01-04     0.241  -0.232          0.025737      0.004314  \n",
      "2012-01-05     0.194  -0.225          0.025737     -0.013969  \n",
      "2012-01-06     0.256  -0.690          0.025737     -0.013737  \n",
      "2012-01-09     0.645   0.017          0.025737     -0.043343  \n"
     ]
    }
   ],
   "source": [
    "goog_data, X, Y = create_regression_trading_condition(goog_data)\n",
    "\n",
    "X_train,X_test,Y_train,Y_test=create_train_split_group(X,Y,split_ratio=0.8)\n",
    "\n",
    "# Fit the model\n",
    "lasso = linear_model.Lasso(alpha=0.1)\n",
    "lasso.fit(X_train, Y_train)\n",
    "\n",
    "# The coefficients\n",
    "print('Coefficients: \\n', lasso.coef_)\n",
    "\n",
    "goog_data['Predicted_Signal'] = lasso.predict(X)\n",
    "goog_data['GOOG_Returns'] = np.log(\n",
    "    goog_data['closeadj'] / goog_data['closeadj'].shift(1))\n",
    "\n",
    "print(goog_data.head())"
   ],
   "metadata": {
    "collapsed": false,
    "pycharm": {
     "name": "#%%\n"
    }
   }
  },
  {
   "cell_type": "markdown",
   "source": [
    "# Task 5 - Evaluate Model Performance"
   ],
   "metadata": {
    "collapsed": false,
    "pycharm": {
     "name": "#%% md\n"
    }
   }
  },
  {
   "cell_type": "code",
   "execution_count": 12,
   "outputs": [
    {
     "data": {
      "text/plain": "<Figure size 1152x720 with 1 Axes>",
      "image/png": "[encoded data removed]"
     },
     "metadata": {
      "needs_background": "light"
     },
     "output_type": "display_data"
    }
   ],
   "source": [
    "cumu_goog_return = calculate_return(\n",
    "    goog_data, split_value=len(X_train), symbol='GOOG')\n",
    "cumu_strategy_return = calculate_strategy_return(\n",
    "    goog_data, split_value=len(X_train))\n",
    "\n",
    "plot_chart(cumu_goog_return, cumu_strategy_return, symbol='GOOG')"
   ],
   "metadata": {
    "collapsed": false,
    "pycharm": {
     "name": "#%%\n"
    }
   }
  },
  {
   "cell_type": "code",
   "execution_count": 13,
   "outputs": [
    {
     "name": "stdout",
     "output_type": "stream",
     "text": [
      "1.1603135186175744\n"
     ]
    }
   ],
   "source": [
    "print(sharpe_ratio(cumu_strategy_return, cumu_goog_return))"
   ],
   "metadata": {
    "collapsed": false,
    "pycharm": {
     "name": "#%%\n"
    }
   }
  },
  {
   "cell_type": "code",
   "execution_count": 14,
   "outputs": [
    {
     "name": "stdout",
     "output_type": "stream",
     "text": [
      "Mean squared error: 0.34\n",
      "Variance score: 0.00\n"
     ]
    }
   ],
   "source": [
    "# The mean squared error\n",
    "print(\"Mean squared error: %.2f\"\n",
    "      % mean_squared_error(Y_train, lasso.predict(X_train)))\n",
    "# Explained variance score: 1 is perfect prediction\n",
    "print('Variance score: %.2f' % r2_score(Y_train, lasso.predict(X_train)))\n"
   ],
   "metadata": {
    "collapsed": false,
    "pycharm": {
     "name": "#%%\n"
    }
   }
  },
  {
   "cell_type": "code",
   "execution_count": 15,
   "outputs": [
    {
     "name": "stdout",
     "output_type": "stream",
     "text": [
      "Mean squared error: 2.99\n",
      "Variance score: -0.01\n"
     ]
    }
   ],
   "source": [
    "# The mean squared error\n",
    "print(\"Mean squared error: %.2f\"\n",
    "      % mean_squared_error(Y_test, lasso.predict(X_test)))\n",
    "# Explained variance score: 1 is perfect prediction\n",
    "print('Variance score: %.2f' % r2_score(Y_test, lasso.predict(X_test)))"
   ],
   "metadata": {
    "collapsed": false,
    "pycharm": {
     "name": "#%%\n"
    }
   }
  }
 ],
 "metadata": {
  "kernelspec": {
   "display_name": "Python 3",
   "language": "python",
   "name": "python3"
  },
  "language_info": {
   "codemirror_mode": {
    "name": "ipython",
    "version": 3
   },
   "file_extension": ".py",
   "mimetype": "text/x-python",
   "name": "python",
   "nbconvert_exporter": "python",
   "pygments_lexer": "ipython3",
   "version": "3.8.8"
  },
  "toc": {
   "base_numbering": 1,
   "nav_menu": {},
   "number_sections": true,
   "sideBar": true,
   "skip_h1_title": true,
   "title_cell": "Table of Contents",
   "title_sidebar": "Contents",
   "toc_cell": false,
   "toc_position": {
    "height": "calc(100% - 180px)",
    "left": "10px",
    "top": "150px",
    "width": "230.355px"
   },
   "toc_section_display": true,
   "toc_window_display": true
  }
 },
 "nbformat": 4,
 "nbformat_minor": 2
}