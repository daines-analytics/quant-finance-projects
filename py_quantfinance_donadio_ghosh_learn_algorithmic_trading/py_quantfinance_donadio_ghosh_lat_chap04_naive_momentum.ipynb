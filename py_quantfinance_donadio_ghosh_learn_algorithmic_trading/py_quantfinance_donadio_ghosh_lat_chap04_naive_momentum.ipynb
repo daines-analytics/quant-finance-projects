{
 "cells": [
  {
   "cell_type": "markdown",
   "metadata": {
    "pycharm": {
     "name": "#%% md\n"
    }
   },
   "source": [
    "# Quantitative Finance Model using Donadio and Ghosh Learn Algorithmic Trading Chapter 4 Naïve Momentum Example\n",
    "### David Lowe\n",
    "### August 19, 2022\n",
    "\n",
    "NOTE: This script is for learning purposes only and does not constitute a recommendation for buying or selling any stock mentioned in this script.\n",
    "\n",
    "SUMMARY: This project aims to construct and test an algorithmic trading model and document the end-to-end steps using a template.\n",
    "\n",
    "INTRODUCTION: This script aims to replicate the Naïve Momentum example found in chapter four of the book Learn Algorithmic Trading by Sebastien Donadio and Sourav Ghosh. The script seeks to validate the Python environment and package requirements for running these code examples successfully. The eventual goal is to integrate various example code segments from the book into an end-to-end algorithmic trading system.\n",
    "\n",
    "Dataset ML Model: Time series analysis with numerical attributes\n",
    "\n",
    "Dataset Used: Sharadar US Equities and Fund Prices from Quandl/Nasdaq Data Link\n",
    "\n",
    "Source and Further Discussion of the Code Examples: https://github.com/PacktPublishing/Learn-Algorithmic-Trading"
   ]
  },
  {
   "cell_type": "markdown",
   "metadata": {
    "pycharm": {
     "name": "#%% md\n"
    }
   },
   "source": [
    "# Task 1 - Prepare Environment"
   ]
  },
  {
   "cell_type": "markdown",
   "metadata": {
    "pycharm": {
     "name": "#%% md\n"
    }
   },
   "source": [
    "## 1.a) Load the required packages and modules"
   ]
  },
  {
   "cell_type": "code",
   "execution_count": 1,
   "metadata": {
    "ExecuteTime": {
     "end_time": "2021-04-15T19:43:39.894161Z",
     "start_time": "2021-04-15T19:43:39.386933Z"
    },
    "pycharm": {
     "name": "#%%\n"
    }
   },
   "outputs": [],
   "source": [
    "import numpy as np\n",
    "import pandas as pd\n",
    "from datetime import date\n",
    "import matplotlib.pyplot as plt"
   ]
  },
  {
   "cell_type": "markdown",
   "metadata": {
    "pycharm": {
     "name": "#%% md\n"
    }
   },
   "source": [
    "## 1.b) Set up the controlling parameters and functions"
   ]
  },
  {
   "cell_type": "code",
   "execution_count": 2,
   "metadata": {
    "collapsed": false,
    "jupyter": {
     "outputs_hidden": false
    },
    "pycharm": {
     "name": "#%%\n"
    }
   },
   "outputs": [
    {
     "name": "stdout",
     "output_type": "stream",
     "text": [
      "Starting date for the model: 2014-01-01\n",
      "Ending date for the model: 2018-12-31\n"
     ]
    }
   ],
   "source": [
    "# Specify the key modeling parameters below\n",
    "DATA_STORE = '../sharadar.h5'\n",
    "ticker_symbol = 'GOOGL'\n",
    "\n",
    "MODEL_START_DATE = date(2014, 1, 1)\n",
    "print(\"Starting date for the model:\", MODEL_START_DATE)\n",
    "\n",
    "# MODEL_END_DATE = datetime.now().date()\n",
    "MODEL_END_DATE = date(2018, 12, 31)\n",
    "print(\"Ending date for the model:\", MODEL_END_DATE)"
   ]
  },
  {
   "cell_type": "markdown",
   "metadata": {
    "pycharm": {
     "name": "#%% md\n"
    }
   },
   "source": [
    "# Task 2 - Acquire and Pre-Process Data"
   ]
  },
  {
   "cell_type": "markdown",
   "metadata": {
    "pycharm": {
     "name": "#%% md\n"
    }
   },
   "source": [
    "## Instead of using pandas-datareader like in the book example, this script will use another commercial data source."
   ]
  },
  {
   "cell_type": "code",
   "execution_count": 3,
   "metadata": {
    "collapsed": false,
    "jupyter": {
     "outputs_hidden": false
    },
    "pycharm": {
     "name": "#%%\n"
    }
   },
   "outputs": [
    {
     "name": "stdout",
     "output_type": "stream",
     "text": [
      "<class 'pandas.core.frame.DataFrame'>\n",
      "DatetimeIndex: 1258 entries, 2014-01-02 to 2018-12-31\n",
      "Data columns (total 6 columns):\n",
      " #   Column  Non-Null Count  Dtype  \n",
      "---  ------  --------------  -----  \n",
      " 0   ticker  1258 non-null   object \n",
      " 1   open    1258 non-null   float64\n",
      " 2   high    1258 non-null   float64\n",
      " 3   low     1258 non-null   float64\n",
      " 4   close   1258 non-null   float64\n",
      " 5   volume  1258 non-null   float64\n",
      "dtypes: float64(5), object(1)\n",
      "memory usage: 68.8+ KB\n"
     ]
    }
   ],
   "source": [
    "with pd.HDFStore(DATA_STORE) as store:\n",
    "    goog_data = (store['quandl/sharadar/sep'].loc[[ticker_symbol], ['open', 'high', 'low', 'close', 'volume']])\n",
    "goog_data.reset_index(level=0, inplace=True)\n",
    "goog_data.sort_index(inplace=True)\n",
    "goog_data = goog_data[MODEL_START_DATE:MODEL_END_DATE]\n",
    "goog_data.info()"
   ]
  },
  {
   "cell_type": "markdown",
   "metadata": {
    "pycharm": {
     "name": "#%% md\n"
    }
   },
   "source": [
    "# Task 3 - Set up the Helper Functions for Modeling"
   ]
  },
  {
   "cell_type": "code",
   "execution_count": 4,
   "metadata": {
    "collapsed": false,
    "jupyter": {
     "outputs_hidden": false
    },
    "pycharm": {
     "name": "#%%\n"
    }
   },
   "outputs": [],
   "source": [
    "def naive_momentum_trading(financial_data, nb_conseq_days):\n",
    "    signals = pd.DataFrame(index=financial_data.index)\n",
    "    signals['orders'] = 0\n",
    "    cons_day = 0\n",
    "    prior_price = 0\n",
    "    init = True\n",
    "    for k in range(len(financial_data['close'])):\n",
    "        price = financial_data['close'][k]\n",
    "        if init:\n",
    "            prior_price = price\n",
    "            init = False\n",
    "        elif price>prior_price:\n",
    "            if cons_day < 0:\n",
    "                cons_day = 0\n",
    "            cons_day += 1\n",
    "        elif price<prior_price:\n",
    "            if cons_day > 0:\n",
    "                cons_day = 0\n",
    "            cons_day -= 1\n",
    "        if cons_day == nb_conseq_days:\n",
    "            signals['orders'][k] = 1\n",
    "        elif cons_day == -nb_conseq_days:\n",
    "            signals['orders'][k] = -1\n",
    "    return signals"
   ]
  },
  {
   "cell_type": "code",
   "execution_count": 5,
   "metadata": {
    "collapsed": false,
    "jupyter": {
     "outputs_hidden": false
    },
    "pycharm": {
     "name": "#%%\n"
    }
   },
   "outputs": [],
   "source": [
    "def plot_chart(symbol_price, trade_strategy):\n",
    "     fig = plt.figure(figsize=(16, 10))\n",
    "     ax1 = fig.add_subplot(111, ylabel='Google price in $')\n",
    "     symbol_price[\"close\"].plot(ax=ax1, color='g', lw=.5)\n",
    "\n",
    "     ax1.plot(ts.loc[ts.orders== 1.0].index,\n",
    "              symbol_price[\"close\"][trade_strategy.orders == 1.0],\n",
    "              '^', markersize=7, color='k')\n",
    "\n",
    "     ax1.plot(ts.loc[ts.orders== -1.0].index,\n",
    "              symbol_price[\"close\"][trade_strategy.orders == -1.0],\n",
    "              'v', markersize=7, color='k')\n",
    "\n",
    "     plt.legend([\"Price\",\"Buy\",\"Sell\"])\n",
    "     plt.title(\"Naive Momentum Trading Strategy\")\n",
    "\n",
    "     plt.show()"
   ]
  },
  {
   "cell_type": "markdown",
   "metadata": {
    "pycharm": {
     "name": "#%% md\n"
    }
   },
   "source": [
    "# Task 4 - Build Model"
   ]
  },
  {
   "cell_type": "code",
   "execution_count": 6,
   "metadata": {
    "collapsed": false,
    "jupyter": {
     "outputs_hidden": false
    },
    "pycharm": {
     "name": "#%%\n"
    }
   },
   "outputs": [],
   "source": [
    "ts = naive_momentum_trading(goog_data, 5)"
   ]
  },
  {
   "cell_type": "markdown",
   "metadata": {
    "pycharm": {
     "name": "#%% md\n"
    }
   },
   "source": [
    "# Task 5 - Evaluate Model Performance"
   ]
  },
  {
   "cell_type": "code",
   "execution_count": 7,
   "metadata": {
    "collapsed": false,
    "jupyter": {
     "outputs_hidden": false
    },
    "pycharm": {
     "name": "#%%\n"
    }
   },
   "outputs": [
    {
     "data": {
      "image/png": "[encoded data removed]",
      "text/plain": [
       "<Figure size 1152x720 with 1 Axes>"
      ]
     },
     "metadata": {
      "needs_background": "light"
     },
     "output_type": "display_data"
    }
   ],
   "source": [
    "plot_chart(goog_data, ts)"
   ]
  }
 ],
 "metadata": {
  "kernelspec": {
   "display_name": "Python 3 (ipykernel)",
   "language": "python",
   "name": "python3"
  },
  "language_info": {
   "codemirror_mode": {
    "name": "ipython",
    "version": 3
   },
   "file_extension": ".py",
   "mimetype": "text/x-python",
   "name": "python",
   "nbconvert_exporter": "python",
   "pygments_lexer": "ipython3",
   "version": "3.9.12"
  },
  "toc": {
   "base_numbering": 1,
   "nav_menu": {},
   "number_sections": true,
   "sideBar": true,
   "skip_h1_title": true,
   "title_cell": "Table of Contents",
   "title_sidebar": "Contents",
   "toc_cell": false,
   "toc_position": {
    "height": "calc(100% - 180px)",
    "left": "10px",
    "top": "150px",
    "width": "230.355px"
   },
   "toc_section_display": true,
   "toc_window_display": true
  }
 },
 "nbformat": 4,
 "nbformat_minor": 4
}
