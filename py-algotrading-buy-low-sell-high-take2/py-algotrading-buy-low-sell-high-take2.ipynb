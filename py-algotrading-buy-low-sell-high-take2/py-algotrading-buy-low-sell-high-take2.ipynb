{
 "cells": [
  {
   "cell_type": "markdown",
   "metadata": {
    "colab_type": "text",
    "id": "QjCdVPMyVdA9"
   },
   "source": [
    "# Algorithmic Trading Model for \"Buy Low Sell High\" Using Python Take 2\n",
    "### David Lowe\n",
    "### April 20, 2020\n",
    "\n",
    "SUMMARY: The purpose of this project is to construct an algorithmic trading model and document the end-to-end steps using a template.\n",
    "\n",
    "INTRODUCTION: This algorithmic trading model uses daily close prices to generate trading signals. If the stock closes lower for the day, we will purchase at the opening of the next trading day if we did not have the stock on-hand. If the stock closes higher for the day, we will sell the stock at the opening of the next day if we have the stock on-hand. We will take no action if we encounter the trading signal to sell but have no stock on-hand or the trading signal to buy if we already have the stock on-hand.\n",
    "\n",
    "We apply the analysis on a stock for a fixed period and compare its return/loss to a simple long-only model. The long-only model will purchase the stock at the opening of day one and hold the stock through the entire time.\n",
    "\n",
    "In iteration Take1, we constructed and tested the trading model for the stock \"GOOG\" during the year of 2019.\n",
    "\n",
    "In this Take2 iteration, we will construct and test the trading model for the stock \"GOOG\" during the year of 2018.\n",
    "\n",
    "ANALYSIS: During 2019, the \"Buy Low Sell High\" strategy returned 12.38%. In the meantime, the long-only approach achieved an accumulated return of 15.98%.\n",
    "\n",
    "During 2018, the \"Buy Low Sell High\" strategy returned -4.57%. In the meantime, the long-only approach achieved an accumulated return of -0.56%. The long-only approach turned out to be a better choice again.\n",
    "\n",
    "CONCLUSION: For this period, the \"Buy Low Sell High\" strategy did not exceed the more straightforward long-only approach, so we should consider modeling more and different methods for this stock.\n",
    "\n",
    "Dataset ML Model: Time series analysis with numerical attributes\n",
    "\n",
    "Dataset Used: Various sources as illustrated below.\n",
    "\n",
    "Dataset Reference: Various sources as documented below.\n",
    "\n",
    "An algorithmic trading modeling project generally can be broken down into about five major tasks:\n",
    "\n",
    "1. Prepare Environment\n",
    "2. Acquire and Pre-Process Data\n",
    "3. Develop Strategy and Train Model\n",
    "4. Backtest Model\n",
    "5. Evaluate Performance"
   ]
  },
  {
   "cell_type": "markdown",
   "metadata": {},
   "source": [
    "## Task 1. Prepare Environment"
   ]
  },
  {
   "cell_type": "code",
   "execution_count": 1,
   "metadata": {},
   "outputs": [],
   "source": [
    "# Install the necessary Python module(s) in Colab\n",
    "# !pip install yfinance edgar"
   ]
  },
  {
   "cell_type": "code",
   "execution_count": 2,
   "metadata": {},
   "outputs": [],
   "source": [
    "# Create the random seed number for reproducible results\n",
    "seedNum = 888"
   ]
  },
  {
   "cell_type": "code",
   "execution_count": 3,
   "metadata": {
    "colab": {},
    "colab_type": "code",
    "id": "FZszqJgtph9m"
   },
   "outputs": [
    {
     "name": "stderr",
     "output_type": "stream",
     "text": [
      "/opt/conda/lib/python3.7/site-packages/pandas_datareader/compat/__init__.py:7: FutureWarning: pandas.util.testing is deprecated. Use the functions in the public API at pandas.testing instead.\n",
      "  from pandas.util.testing import assert_frame_equal\n"
     ]
    }
   ],
   "source": [
    "import os\n",
    "import numpy as np\n",
    "import pandas as pd\n",
    "import pandas_datareader.data as pdr\n",
    "import json\n",
    "import requests\n",
    "from email.message import EmailMessage\n",
    "import matplotlib.pyplot as plt\n",
    "from datetime import datetime, timedelta"
   ]
  },
  {
   "cell_type": "code",
   "execution_count": 4,
   "metadata": {},
   "outputs": [],
   "source": [
    "# Define the function for sending the status notification emails\n",
    "def email_notify(msg_text):\n",
    "    sender = os.environ.get('MAIL_SENDER')\n",
    "    receiver = os.environ.get('MAIL_RECEIVER')\n",
    "    gateway = os.environ.get('SMTP_GATEWAY')\n",
    "    smtpuser = os.environ.get('SMTP_USERNAME')\n",
    "    password = os.environ.get('SMTP_PASSWORD')\n",
    "    if sender==None or receiver==None or gateway==None or smtpuser==None or password==None:\n",
    "        sys.exit(\"Incomplete email setup info. Script Processing Aborted!!!\")\n",
    "    msg = EmailMessage()\n",
    "    msg.set_content(msg_text)\n",
    "    msg['Subject'] = 'Notification from Algorithmic Trading Modeling Script'\n",
    "    msg['From'] = sender\n",
    "    msg['To'] = receiver\n",
    "    server = smtplib.SMTP(gateway, 587)\n",
    "    server.starttls()\n",
    "    server.login(smtpuser, password)\n",
    "    server.send_message(msg)\n",
    "    server.quit()"
   ]
  },
  {
   "cell_type": "code",
   "execution_count": 5,
   "metadata": {},
   "outputs": [],
   "source": [
    "# Begin the timer for the script processing\n",
    "startTimeScript = datetime.now()\n",
    "\n",
    "# Set up the verbose flag to print detailed messages for debugging (setting True will activate!)\n",
    "verbose = False\n",
    "\n",
    "# Set up the sendNotification flag to send progress emails (setting True will send emails!)\n",
    "notifyStatus = False\n",
    "\n",
    "# Configure the plotting style\n",
    "plt.style.use('seaborn')"
   ]
  },
  {
   "cell_type": "code",
   "execution_count": 6,
   "metadata": {},
   "outputs": [],
   "source": [
    "if notifyStatus: email_notify(\"Task 1. Prepare Environment has begun! \"+datetime.now().strftime('%a %B %d, %Y %I:%M:%S %p'))"
   ]
  },
  {
   "cell_type": "code",
   "execution_count": 7,
   "metadata": {},
   "outputs": [
    {
     "name": "stdout",
     "output_type": "stream",
     "text": [
      "Starting date: 2018-01-01 00:00:00\n",
      "Ending date: 2018-12-31 00:00:00\n"
     ]
    }
   ],
   "source": [
    "start_date = datetime(2018, 1, 1)\n",
    "print(\"Starting date:\", start_date)\n",
    "# end_date = datetime.now()\n",
    "end_date = datetime(2018, 12, 31)\n",
    "print(\"Ending date:\", end_date)\n",
    "\n",
    "stock_symbol = 'GOOG'\n",
    "\n",
    "initial_capital = 2000.00"
   ]
  },
  {
   "cell_type": "code",
   "execution_count": 8,
   "metadata": {},
   "outputs": [],
   "source": [
    "if notifyStatus: email_notify(\"Task 1. Prepare Environment completed! \"+datetime.now().strftime('%a %B %d, %Y %I:%M:%S %p'))"
   ]
  },
  {
   "cell_type": "markdown",
   "metadata": {},
   "source": [
    "## Task 2. Acquire and Pre-Process Data"
   ]
  },
  {
   "cell_type": "code",
   "execution_count": 9,
   "metadata": {},
   "outputs": [],
   "source": [
    "if notifyStatus: email_notify(\"Task 2. Acquire and Pre-Process Data has begun! \"+datetime.now().strftime('%a %B %d, %Y %I:%M:%S %p'))"
   ]
  },
  {
   "cell_type": "markdown",
   "metadata": {
    "colab_type": "text",
    "id": "zkopdSEjdfJp"
   },
   "source": [
    "### 2.a) Yahoo Finance"
   ]
  },
  {
   "cell_type": "code",
   "execution_count": 10,
   "metadata": {
    "colab": {
     "base_uri": "https://localhost:8080/",
     "height": 252
    },
    "colab_type": "code",
    "id": "p9ysfTWBhzSp",
    "outputId": "93e03488-8259-4cc8-bde7-dd5f2324b356"
   },
   "outputs": [
    {
     "name": "stdout",
     "output_type": "stream",
     "text": [
      "[*********************100%***********************]  1 of 1 completed\n",
      "250 data points retrieved from the API call.\n"
     ]
    }
   ],
   "source": [
    "import yfinance as yf\n",
    "yf.pdr_override()\n",
    "stock_yahoo = pdr.get_data_yahoo(stock_symbol, start_date, end_date)\n",
    "print(len(stock_yahoo), 'data points retrieved from the API call.')"
   ]
  },
  {
   "cell_type": "code",
   "execution_count": 11,
   "metadata": {},
   "outputs": [
    {
     "name": "stdout",
     "output_type": "stream",
     "text": [
      "<class 'pandas.core.frame.DataFrame'>\n",
      "DatetimeIndex: 250 entries, 2018-01-02 to 2018-12-28\n",
      "Data columns (total 6 columns):\n",
      " #   Column     Non-Null Count  Dtype  \n",
      "---  ------     --------------  -----  \n",
      " 0   Open       250 non-null    float64\n",
      " 1   High       250 non-null    float64\n",
      " 2   Low        250 non-null    float64\n",
      " 3   Close      250 non-null    float64\n",
      " 4   Adj Close  250 non-null    float64\n",
      " 5   Volume     250 non-null    int64  \n",
      "dtypes: float64(5), int64(1)\n",
      "memory usage: 13.7 KB\n"
     ]
    }
   ],
   "source": [
    "stock_yahoo.info()"
   ]
  },
  {
   "cell_type": "code",
   "execution_count": 12,
   "metadata": {},
   "outputs": [
    {
     "data": {
      "text/html": [
       "<div>\n",
       "<style scoped>\n",
       "    .dataframe tbody tr th:only-of-type {\n",
       "        vertical-align: middle;\n",
       "    }\n",
       "\n",
       "    .dataframe tbody tr th {\n",
       "        vertical-align: top;\n",
       "    }\n",
       "\n",
       "    .dataframe thead th {\n",
       "        text-align: right;\n",
       "    }\n",
       "</style>\n",
       "<table border=\"1\" class=\"dataframe\">\n",
       "  <thead>\n",
       "    <tr style=\"text-align: right;\">\n",
       "      <th></th>\n",
       "      <th>Open</th>\n",
       "      <th>High</th>\n",
       "      <th>Low</th>\n",
       "      <th>Close</th>\n",
       "      <th>Adj Close</th>\n",
       "      <th>Volume</th>\n",
       "    </tr>\n",
       "    <tr>\n",
       "      <th>Date</th>\n",
       "      <th></th>\n",
       "      <th></th>\n",
       "      <th></th>\n",
       "      <th></th>\n",
       "      <th></th>\n",
       "      <th></th>\n",
       "    </tr>\n",
       "  </thead>\n",
       "  <tbody>\n",
       "    <tr>\n",
       "      <th>2018-01-02</th>\n",
       "      <td>1048.339966</td>\n",
       "      <td>1066.939941</td>\n",
       "      <td>1045.229980</td>\n",
       "      <td>1065.000000</td>\n",
       "      <td>1065.000000</td>\n",
       "      <td>1237600</td>\n",
       "    </tr>\n",
       "    <tr>\n",
       "      <th>2018-01-03</th>\n",
       "      <td>1064.310059</td>\n",
       "      <td>1086.290039</td>\n",
       "      <td>1063.209961</td>\n",
       "      <td>1082.479980</td>\n",
       "      <td>1082.479980</td>\n",
       "      <td>1430200</td>\n",
       "    </tr>\n",
       "    <tr>\n",
       "      <th>2018-01-04</th>\n",
       "      <td>1088.000000</td>\n",
       "      <td>1093.569946</td>\n",
       "      <td>1084.001953</td>\n",
       "      <td>1086.400024</td>\n",
       "      <td>1086.400024</td>\n",
       "      <td>1004600</td>\n",
       "    </tr>\n",
       "    <tr>\n",
       "      <th>2018-01-05</th>\n",
       "      <td>1094.000000</td>\n",
       "      <td>1104.250000</td>\n",
       "      <td>1092.000000</td>\n",
       "      <td>1102.229980</td>\n",
       "      <td>1102.229980</td>\n",
       "      <td>1279100</td>\n",
       "    </tr>\n",
       "    <tr>\n",
       "      <th>2018-01-08</th>\n",
       "      <td>1102.229980</td>\n",
       "      <td>1111.270020</td>\n",
       "      <td>1101.619995</td>\n",
       "      <td>1106.939941</td>\n",
       "      <td>1106.939941</td>\n",
       "      <td>1047600</td>\n",
       "    </tr>\n",
       "  </tbody>\n",
       "</table>\n",
       "</div>"
      ],
      "text/plain": [
       "                   Open         High          Low        Close    Adj Close  \\\n",
       "Date                                                                          \n",
       "2018-01-02  1048.339966  1066.939941  1045.229980  1065.000000  1065.000000   \n",
       "2018-01-03  1064.310059  1086.290039  1063.209961  1082.479980  1082.479980   \n",
       "2018-01-04  1088.000000  1093.569946  1084.001953  1086.400024  1086.400024   \n",
       "2018-01-05  1094.000000  1104.250000  1092.000000  1102.229980  1102.229980   \n",
       "2018-01-08  1102.229980  1111.270020  1101.619995  1106.939941  1106.939941   \n",
       "\n",
       "             Volume  \n",
       "Date                 \n",
       "2018-01-02  1237600  \n",
       "2018-01-03  1430200  \n",
       "2018-01-04  1004600  \n",
       "2018-01-05  1279100  \n",
       "2018-01-08  1047600  "
      ]
     },
     "execution_count": 12,
     "metadata": {},
     "output_type": "execute_result"
    }
   ],
   "source": [
    "stock_yahoo.head()"
   ]
  },
  {
   "cell_type": "code",
   "execution_count": 13,
   "metadata": {},
   "outputs": [
    {
     "data": {
      "text/html": [
       "<div>\n",
       "<style scoped>\n",
       "    .dataframe tbody tr th:only-of-type {\n",
       "        vertical-align: middle;\n",
       "    }\n",
       "\n",
       "    .dataframe tbody tr th {\n",
       "        vertical-align: top;\n",
       "    }\n",
       "\n",
       "    .dataframe thead th {\n",
       "        text-align: right;\n",
       "    }\n",
       "</style>\n",
       "<table border=\"1\" class=\"dataframe\">\n",
       "  <thead>\n",
       "    <tr style=\"text-align: right;\">\n",
       "      <th></th>\n",
       "      <th>Open</th>\n",
       "      <th>High</th>\n",
       "      <th>Low</th>\n",
       "      <th>Close</th>\n",
       "      <th>Adj Close</th>\n",
       "      <th>Volume</th>\n",
       "    </tr>\n",
       "    <tr>\n",
       "      <th>Date</th>\n",
       "      <th></th>\n",
       "      <th></th>\n",
       "      <th></th>\n",
       "      <th></th>\n",
       "      <th></th>\n",
       "      <th></th>\n",
       "    </tr>\n",
       "  </thead>\n",
       "  <tbody>\n",
       "    <tr>\n",
       "      <th>2018-12-21</th>\n",
       "      <td>1015.299988</td>\n",
       "      <td>1024.020020</td>\n",
       "      <td>973.690002</td>\n",
       "      <td>979.539978</td>\n",
       "      <td>979.539978</td>\n",
       "      <td>4596000</td>\n",
       "    </tr>\n",
       "    <tr>\n",
       "      <th>2018-12-24</th>\n",
       "      <td>973.900024</td>\n",
       "      <td>1003.539978</td>\n",
       "      <td>970.109985</td>\n",
       "      <td>976.219971</td>\n",
       "      <td>976.219971</td>\n",
       "      <td>1590300</td>\n",
       "    </tr>\n",
       "    <tr>\n",
       "      <th>2018-12-26</th>\n",
       "      <td>989.010010</td>\n",
       "      <td>1040.000000</td>\n",
       "      <td>983.000000</td>\n",
       "      <td>1039.459961</td>\n",
       "      <td>1039.459961</td>\n",
       "      <td>2373300</td>\n",
       "    </tr>\n",
       "    <tr>\n",
       "      <th>2018-12-27</th>\n",
       "      <td>1017.150024</td>\n",
       "      <td>1043.890015</td>\n",
       "      <td>997.000000</td>\n",
       "      <td>1043.880005</td>\n",
       "      <td>1043.880005</td>\n",
       "      <td>2109800</td>\n",
       "    </tr>\n",
       "    <tr>\n",
       "      <th>2018-12-28</th>\n",
       "      <td>1049.619995</td>\n",
       "      <td>1055.560059</td>\n",
       "      <td>1033.099976</td>\n",
       "      <td>1037.079956</td>\n",
       "      <td>1037.079956</td>\n",
       "      <td>1414800</td>\n",
       "    </tr>\n",
       "  </tbody>\n",
       "</table>\n",
       "</div>"
      ],
      "text/plain": [
       "                   Open         High          Low        Close    Adj Close  \\\n",
       "Date                                                                          \n",
       "2018-12-21  1015.299988  1024.020020   973.690002   979.539978   979.539978   \n",
       "2018-12-24   973.900024  1003.539978   970.109985   976.219971   976.219971   \n",
       "2018-12-26   989.010010  1040.000000   983.000000  1039.459961  1039.459961   \n",
       "2018-12-27  1017.150024  1043.890015   997.000000  1043.880005  1043.880005   \n",
       "2018-12-28  1049.619995  1055.560059  1033.099976  1037.079956  1037.079956   \n",
       "\n",
       "             Volume  \n",
       "Date                 \n",
       "2018-12-21  4596000  \n",
       "2018-12-24  1590300  \n",
       "2018-12-26  2373300  \n",
       "2018-12-27  2109800  \n",
       "2018-12-28  1414800  "
      ]
     },
     "execution_count": 13,
     "metadata": {},
     "output_type": "execute_result"
    }
   ],
   "source": [
    "stock_yahoo.tail()"
   ]
  },
  {
   "cell_type": "code",
   "execution_count": 14,
   "metadata": {
    "colab": {
     "base_uri": "https://localhost:8080/",
     "height": 332
    },
    "colab_type": "code",
    "id": "Ux_2fMzXdGE6",
    "outputId": "f258bf06-4484-4b70-88f2-5ef7086f7297"
   },
   "outputs": [
    {
     "data": {
      "image/png": "[encoded data removed]",
      "text/plain": [
       "<Figure size 1152x648 with 1 Axes>"
      ]
     },
     "metadata": {},
     "output_type": "display_data"
    }
   ],
   "source": [
    "title_string = 'Yahoo Finance Stock Information for ' + stock_symbol\n",
    "stock_yahoo['Adj Close'].plot(figsize=(16,9), title=title_string)\n",
    "plt.show()"
   ]
  },
  {
   "cell_type": "markdown",
   "metadata": {
    "colab_type": "text",
    "id": "1ZNh6i1sNFAF"
   },
   "source": [
    "### 2.b) Alpha Vantage"
   ]
  },
  {
   "cell_type": "code",
   "execution_count": 15,
   "metadata": {},
   "outputs": [],
   "source": [
    "# Check and see whether the API key is available\n",
    "# alphavantage_key = os.environ.get('ALPHAVANTAGE_API')\n",
    "# if (alphavantage_key==None): sys.exit(\"API key for Alpha Vantage not available. Script Processing Aborted!!!\")\n",
    "# alphavantage_url = \"https://www.alphavantage.co/query?function=TIME_SERIES_DAILY_ADJUSTED&symbol=%s&outputsize=full&apikey=%s\" % (stock_symbol, alphavantage_key)"
   ]
  },
  {
   "cell_type": "code",
   "execution_count": 16,
   "metadata": {
    "colab": {
     "base_uri": "https://localhost:8080/",
     "height": 204
    },
    "colab_type": "code",
    "id": "dKy1UBpuVUjg",
    "outputId": "a75ae6d0-c680-4e3d-8202-c56aac092f99"
   },
   "outputs": [],
   "source": [
    "# response = requests.get(alphavantage_url)\n",
    "# alpha_dict = json.loads(response.text)\n",
    "# print(len(alpha_dict['Time Series (Daily)']), 'data points retrieved from the API call.')\n",
    "# if (verbose): print(alpha_dict)"
   ]
  },
  {
   "cell_type": "code",
   "execution_count": 17,
   "metadata": {},
   "outputs": [],
   "source": [
    "# stock_alpha = pd.DataFrame(alpha_dict['Time Series (Daily)']).T\n",
    "# stock_alpha.index = pd.to_datetime(stock_alpha.index)\n",
    "# stock_alpha = stock_alpha.sort_index(ascending = True)\n",
    "# stock_alpha.columns = ['open', 'high', 'low', 'close', 'adj_close', 'volume', 'dividend', 'split_coef']\n",
    "# stock_alpha = stock_alpha.astype(float)\n",
    "# stock_alpha.info()"
   ]
  },
  {
   "cell_type": "code",
   "execution_count": 18,
   "metadata": {},
   "outputs": [],
   "source": [
    "# stock_alpha.head()"
   ]
  },
  {
   "cell_type": "code",
   "execution_count": 19,
   "metadata": {},
   "outputs": [],
   "source": [
    "# stock_alpha.tail()"
   ]
  },
  {
   "cell_type": "code",
   "execution_count": 20,
   "metadata": {
    "colab": {
     "base_uri": "https://localhost:8080/",
     "height": 332
    },
    "colab_type": "code",
    "id": "Ux_2fMzXdGE6",
    "outputId": "f258bf06-4484-4b70-88f2-5ef7086f7297"
   },
   "outputs": [],
   "source": [
    "# title_string = alpha_dict['Meta Data']['1. Information'] + ' for ' + alpha_dict['Meta Data']['2. Symbol']\n",
    "# stock_alpha['close'].plot(figsize=(16,9), title=title_string)\n",
    "# plt.show()"
   ]
  },
  {
   "cell_type": "markdown",
   "metadata": {
    "colab_type": "text",
    "id": "Y50-He9dyQtO"
   },
   "source": [
    "### 2.c) IEX Cloud"
   ]
  },
  {
   "cell_type": "code",
   "execution_count": 21,
   "metadata": {},
   "outputs": [],
   "source": [
    "# Check and see whether the API key is available\n",
    "# iexcloud_key = os.environ.get('IEXCLOUD_API')\n",
    "# if (iexcloud_key==None): sys.exit(\"API key for IEX Cloud not available. Script Processing Aborted!!!\")\n",
    "# iexcloud_url = \"https://cloud.iexapis.com/stable/stock/%s/chart/5y?token=%s\" % (stock_symbol, iexcloud_key)"
   ]
  },
  {
   "cell_type": "code",
   "execution_count": 22,
   "metadata": {
    "colab": {
     "base_uri": "https://localhost:8080/",
     "height": 120
    },
    "colab_type": "code",
    "id": "5x2RpsDhkBO3",
    "outputId": "8c416096-a56d-4195-acfb-e86a23542fe9"
   },
   "outputs": [],
   "source": [
    "# response = requests.get(iexcloud_url)\n",
    "# iex_dict = json.loads(response.text)\n",
    "# print(len(iex_dict), 'data points retrieved from the API call.')\n",
    "# if (verbose): print(iex_dict)"
   ]
  },
  {
   "cell_type": "code",
   "execution_count": 23,
   "metadata": {},
   "outputs": [],
   "source": [
    "# stock_iexcloud = pd.DataFrame(iex_dict)\n",
    "# stock_iexcloud.set_index('date', inplace=True)\n",
    "# stock_iexcloud = stock_iexcloud.sort_index(ascending = True)\n",
    "# stock_iexcloud.info()"
   ]
  },
  {
   "cell_type": "code",
   "execution_count": 24,
   "metadata": {},
   "outputs": [],
   "source": [
    "# stock_iexcloud.head()"
   ]
  },
  {
   "cell_type": "code",
   "execution_count": 25,
   "metadata": {},
   "outputs": [],
   "source": [
    "# stock_iexcloud.tail()"
   ]
  },
  {
   "cell_type": "code",
   "execution_count": 26,
   "metadata": {},
   "outputs": [],
   "source": [
    "# title_string = 'IEX Cloud Historical Stock Information for ' + stock_symbol\n",
    "# stock_iexcloud['close'].plot(figsize=(16,9), title=title_string)\n",
    "# plt.show()"
   ]
  },
  {
   "cell_type": "markdown",
   "metadata": {
    "colab_type": "text",
    "id": "UJYD0wc73Tcu"
   },
   "source": [
    "### 2.d) Quandl"
   ]
  },
  {
   "cell_type": "code",
   "execution_count": 27,
   "metadata": {},
   "outputs": [],
   "source": [
    "# Code not activated below as Quandl requires a premium subscription for EOD stock data\n",
    "# Code maintained here for future testing and uses"
   ]
  },
  {
   "cell_type": "code",
   "execution_count": 28,
   "metadata": {},
   "outputs": [],
   "source": [
    "# Check and see whether the API key is available\n",
    "# quandl_key = os.environ.get('QUANDL_API')\n",
    "# if (quandl_key==None): sys.exit(\"API key for Quandl not available. Script Processing Aborted!!!\")\n",
    "# quandl_url = \"https://www.quandl.com/api/v3/datasets/EOD/%s.json?api_key=%s\" % (stock_symbol, quandl_key)"
   ]
  },
  {
   "cell_type": "code",
   "execution_count": 29,
   "metadata": {
    "colab": {
     "base_uri": "https://localhost:8080/",
     "height": 680
    },
    "colab_type": "code",
    "id": "q-OIKmOJryU1",
    "outputId": "323439fa-ffea-4ba2-c624-d03ec7a5f83f"
   },
   "outputs": [],
   "source": [
    "# response = requests.get(quandl_url)\n",
    "# quandl_dict = json.loads(response.text)\n",
    "# print(len(quandl_dict['dataset']['data']), 'data points retrieved from the API call.')\n",
    "# if (verbose): print(quandl_dict)"
   ]
  },
  {
   "cell_type": "code",
   "execution_count": 30,
   "metadata": {
    "colab": {
     "base_uri": "https://localhost:8080/",
     "height": 360
    },
    "colab_type": "code",
    "id": "nD1m8nLjuzyi",
    "outputId": "4f7fe523-3ace-4ab7-f4a5-d7ccb7f9c0a7"
   },
   "outputs": [],
   "source": [
    "# stock_quandl = pd.DataFrame(quandl_dict['dataset']['data'])\n",
    "# stock_quandl.columns = quandl_dict['dataset']['column_names']\n",
    "# stock_quandl.set_index('Date', inplace=True)\n",
    "# stock_quandl = stock_quandl.sort_index(ascending = True)\n",
    "# stock_quandl.info()"
   ]
  },
  {
   "cell_type": "code",
   "execution_count": 31,
   "metadata": {
    "colab": {
     "base_uri": "https://localhost:8080/",
     "height": 360
    },
    "colab_type": "code",
    "id": "oxlNtuEE5ejQ",
    "outputId": "d0ae9a03-42ec-4a8a-8c00-4be937d20c70"
   },
   "outputs": [],
   "source": [
    "# stock_quandl.head()"
   ]
  },
  {
   "cell_type": "code",
   "execution_count": 32,
   "metadata": {},
   "outputs": [],
   "source": [
    "# stock_quandl.tail()"
   ]
  },
  {
   "cell_type": "code",
   "execution_count": 33,
   "metadata": {},
   "outputs": [],
   "source": [
    "# title_string = 'Quandl EOD Stock Information for ' + quandl_dict['dataset']['dataset_code']\n",
    "# stock_quandl['Close'].plot(figsize=(16,9), title=title_string)\n",
    "# plt.show()"
   ]
  },
  {
   "cell_type": "markdown",
   "metadata": {
    "colab_type": "text",
    "id": "eRFlhLenGqOn"
   },
   "source": [
    "### 2.e) Federal Reserve Economic Data (FRED)"
   ]
  },
  {
   "cell_type": "code",
   "execution_count": 34,
   "metadata": {},
   "outputs": [],
   "source": [
    "# Code maintained here for future uses. Update the data series name below before use"
   ]
  },
  {
   "cell_type": "code",
   "execution_count": 35,
   "metadata": {
    "colab": {
     "base_uri": "https://localhost:8080/",
     "height": 360
    },
    "colab_type": "code",
    "id": "CX3Vzj16SCqh",
    "outputId": "65c20c1a-fd8a-4397-fb5b-af9f7b02a87a"
   },
   "outputs": [],
   "source": [
    "# fred_data = 'DGS10'\n",
    "# fred_series = pdr.DataReader(fred_data, 'fred', start_date, end_date)\n",
    "# print(len(fred_series), 'data points retrieved from the API call.')"
   ]
  },
  {
   "cell_type": "code",
   "execution_count": 36,
   "metadata": {},
   "outputs": [],
   "source": [
    "# fred_series.head()"
   ]
  },
  {
   "cell_type": "code",
   "execution_count": 37,
   "metadata": {},
   "outputs": [],
   "source": [
    "# fred_series.tail()"
   ]
  },
  {
   "cell_type": "code",
   "execution_count": 38,
   "metadata": {},
   "outputs": [],
   "source": [
    "# title_string = '10-Year Treasury Constant Maturity Rate'\n",
    "# fred_series.plot(figsize=(16,9), title=title_string)\n",
    "# plt.show()"
   ]
  },
  {
   "cell_type": "markdown",
   "metadata": {
    "colab_type": "text",
    "id": "GuyiuIpuF15G"
   },
   "source": [
    "### 2.f) Electronic Data Gathering, Analysis, and Retrieval system (EDGAR)"
   ]
  },
  {
   "cell_type": "code",
   "execution_count": 39,
   "metadata": {},
   "outputs": [],
   "source": [
    "# Code maintained here for future uses. Update the company name and CKI number below before use"
   ]
  },
  {
   "cell_type": "code",
   "execution_count": 40,
   "metadata": {
    "colab": {
     "base_uri": "https://localhost:8080/",
     "height": 439198
    },
    "colab_type": "code",
    "id": "HTYqL44sbuav",
    "outputId": "399e8007-6c40-422c-a33b-102847bac6bf"
   },
   "outputs": [],
   "source": [
    "# import edgar\n",
    "# edgar_filing = edgar.Company(\"MICROSOFT CORP\", \"0000789019\")\n",
    "# tree = edgar_filing.get_all_filings(filing_type = \"10-K\")\n",
    "# docs = edgar_filing.get_documents(tree, no_of_documents=5)\n",
    "# print(len(docs), \"documents retrieved from EDGAR.\")"
   ]
  },
  {
   "cell_type": "code",
   "execution_count": 41,
   "metadata": {},
   "outputs": [],
   "source": [
    "if notifyStatus: email_notify(\"Task 2. Acquire and Pre-Process Data completed! \"+datetime.now().strftime('%a %B %d, %Y %I:%M:%S %p'))"
   ]
  },
  {
   "cell_type": "markdown",
   "metadata": {},
   "source": [
    "## Task 3. Develop Strategy and Train Model"
   ]
  },
  {
   "cell_type": "code",
   "execution_count": 42,
   "metadata": {},
   "outputs": [],
   "source": [
    "if notifyStatus: email_notify(\"Task 3. Develop Strategy and Train Model has begun! \"+datetime.now().strftime('%a %B %d, %Y %I:%M:%S %p'))"
   ]
  },
  {
   "cell_type": "markdown",
   "metadata": {},
   "source": [
    "### 3.a) Set up the Dataframe for the Trading Model"
   ]
  },
  {
   "cell_type": "code",
   "execution_count": 43,
   "metadata": {},
   "outputs": [
    {
     "name": "stdout",
     "output_type": "stream",
     "text": [
      "<class 'pandas.core.frame.DataFrame'>\n",
      "DatetimeIndex: 250 entries, 2018-01-02 to 2018-12-28\n",
      "Data columns (total 2 columns):\n",
      " #   Column       Non-Null Count  Dtype  \n",
      "---  ------       --------------  -----  \n",
      " 0   open_price   250 non-null    float64\n",
      " 1   close_price  250 non-null    float64\n",
      "dtypes: float64(2)\n",
      "memory usage: 5.9 KB\n"
     ]
    }
   ],
   "source": [
    "# Select the data source and pricing columns to use for modeling\n",
    "trading_model = stock_yahoo.loc[:, ['Open', 'Adj Close']]\n",
    "# trading_model = stock_alpha.loc[start_date:end_date, ['adj_close']]\n",
    "# trading_model = stock_iexcloud.loc[start_date:end_date, ['close']]\n",
    "# trading_model = stock_quandl.loc[start_date:end_date, ['Adj_Close']]\n",
    "\n",
    "# Set up the standard column name for modeling\n",
    "trading_model.rename(columns={'Open': 'open_price', 'Adj Close': 'close_price'}, inplace=True)\n",
    "trading_model.info()"
   ]
  },
  {
   "cell_type": "code",
   "execution_count": 44,
   "metadata": {},
   "outputs": [
    {
     "data": {
      "text/html": [
       "<div>\n",
       "<style scoped>\n",
       "    .dataframe tbody tr th:only-of-type {\n",
       "        vertical-align: middle;\n",
       "    }\n",
       "\n",
       "    .dataframe tbody tr th {\n",
       "        vertical-align: top;\n",
       "    }\n",
       "\n",
       "    .dataframe thead th {\n",
       "        text-align: right;\n",
       "    }\n",
       "</style>\n",
       "<table border=\"1\" class=\"dataframe\">\n",
       "  <thead>\n",
       "    <tr style=\"text-align: right;\">\n",
       "      <th></th>\n",
       "      <th>open_price</th>\n",
       "      <th>close_price</th>\n",
       "    </tr>\n",
       "    <tr>\n",
       "      <th>Date</th>\n",
       "      <th></th>\n",
       "      <th></th>\n",
       "    </tr>\n",
       "  </thead>\n",
       "  <tbody>\n",
       "    <tr>\n",
       "      <th>2018-01-02</th>\n",
       "      <td>1048.339966</td>\n",
       "      <td>1065.000000</td>\n",
       "    </tr>\n",
       "    <tr>\n",
       "      <th>2018-01-03</th>\n",
       "      <td>1064.310059</td>\n",
       "      <td>1082.479980</td>\n",
       "    </tr>\n",
       "    <tr>\n",
       "      <th>2018-01-04</th>\n",
       "      <td>1088.000000</td>\n",
       "      <td>1086.400024</td>\n",
       "    </tr>\n",
       "    <tr>\n",
       "      <th>2018-01-05</th>\n",
       "      <td>1094.000000</td>\n",
       "      <td>1102.229980</td>\n",
       "    </tr>\n",
       "    <tr>\n",
       "      <th>2018-01-08</th>\n",
       "      <td>1102.229980</td>\n",
       "      <td>1106.939941</td>\n",
       "    </tr>\n",
       "  </tbody>\n",
       "</table>\n",
       "</div>"
      ],
      "text/plain": [
       "             open_price  close_price\n",
       "Date                                \n",
       "2018-01-02  1048.339966  1065.000000\n",
       "2018-01-03  1064.310059  1082.479980\n",
       "2018-01-04  1088.000000  1086.400024\n",
       "2018-01-05  1094.000000  1102.229980\n",
       "2018-01-08  1102.229980  1106.939941"
      ]
     },
     "execution_count": 44,
     "metadata": {},
     "output_type": "execute_result"
    }
   ],
   "source": [
    "trading_model.head()"
   ]
  },
  {
   "cell_type": "code",
   "execution_count": 45,
   "metadata": {},
   "outputs": [
    {
     "data": {
      "text/html": [
       "<div>\n",
       "<style scoped>\n",
       "    .dataframe tbody tr th:only-of-type {\n",
       "        vertical-align: middle;\n",
       "    }\n",
       "\n",
       "    .dataframe tbody tr th {\n",
       "        vertical-align: top;\n",
       "    }\n",
       "\n",
       "    .dataframe thead th {\n",
       "        text-align: right;\n",
       "    }\n",
       "</style>\n",
       "<table border=\"1\" class=\"dataframe\">\n",
       "  <thead>\n",
       "    <tr style=\"text-align: right;\">\n",
       "      <th></th>\n",
       "      <th>open_price</th>\n",
       "      <th>close_price</th>\n",
       "    </tr>\n",
       "    <tr>\n",
       "      <th>Date</th>\n",
       "      <th></th>\n",
       "      <th></th>\n",
       "    </tr>\n",
       "  </thead>\n",
       "  <tbody>\n",
       "    <tr>\n",
       "      <th>2018-12-21</th>\n",
       "      <td>1015.299988</td>\n",
       "      <td>979.539978</td>\n",
       "    </tr>\n",
       "    <tr>\n",
       "      <th>2018-12-24</th>\n",
       "      <td>973.900024</td>\n",
       "      <td>976.219971</td>\n",
       "    </tr>\n",
       "    <tr>\n",
       "      <th>2018-12-26</th>\n",
       "      <td>989.010010</td>\n",
       "      <td>1039.459961</td>\n",
       "    </tr>\n",
       "    <tr>\n",
       "      <th>2018-12-27</th>\n",
       "      <td>1017.150024</td>\n",
       "      <td>1043.880005</td>\n",
       "    </tr>\n",
       "    <tr>\n",
       "      <th>2018-12-28</th>\n",
       "      <td>1049.619995</td>\n",
       "      <td>1037.079956</td>\n",
       "    </tr>\n",
       "  </tbody>\n",
       "</table>\n",
       "</div>"
      ],
      "text/plain": [
       "             open_price  close_price\n",
       "Date                                \n",
       "2018-12-21  1015.299988   979.539978\n",
       "2018-12-24   973.900024   976.219971\n",
       "2018-12-26   989.010010  1039.459961\n",
       "2018-12-27  1017.150024  1043.880005\n",
       "2018-12-28  1049.619995  1037.079956"
      ]
     },
     "execution_count": 45,
     "metadata": {},
     "output_type": "execute_result"
    }
   ],
   "source": [
    "trading_model.tail()"
   ]
  },
  {
   "cell_type": "markdown",
   "metadata": {},
   "source": [
    "### 3.b) Set up the Analysis Table with Indicators"
   ]
  },
  {
   "cell_type": "code",
   "execution_count": 46,
   "metadata": {},
   "outputs": [
    {
     "data": {
      "text/html": [
       "<div>\n",
       "<style scoped>\n",
       "    .dataframe tbody tr th:only-of-type {\n",
       "        vertical-align: middle;\n",
       "    }\n",
       "\n",
       "    .dataframe tbody tr th {\n",
       "        vertical-align: top;\n",
       "    }\n",
       "\n",
       "    .dataframe thead th {\n",
       "        text-align: right;\n",
       "    }\n",
       "</style>\n",
       "<table border=\"1\" class=\"dataframe\">\n",
       "  <thead>\n",
       "    <tr style=\"text-align: right;\">\n",
       "      <th></th>\n",
       "      <th>open_price</th>\n",
       "      <th>close_price</th>\n",
       "      <th>price_change</th>\n",
       "      <th>price_lower</th>\n",
       "      <th>lower_previous</th>\n",
       "    </tr>\n",
       "    <tr>\n",
       "      <th>Date</th>\n",
       "      <th></th>\n",
       "      <th></th>\n",
       "      <th></th>\n",
       "      <th></th>\n",
       "      <th></th>\n",
       "    </tr>\n",
       "  </thead>\n",
       "  <tbody>\n",
       "    <tr>\n",
       "      <th>2018-01-02</th>\n",
       "      <td>1048.339966</td>\n",
       "      <td>1065.000000</td>\n",
       "      <td>NaN</td>\n",
       "      <td>False</td>\n",
       "      <td>NaN</td>\n",
       "    </tr>\n",
       "    <tr>\n",
       "      <th>2018-01-03</th>\n",
       "      <td>1064.310059</td>\n",
       "      <td>1082.479980</td>\n",
       "      <td>17.479980</td>\n",
       "      <td>False</td>\n",
       "      <td>False</td>\n",
       "    </tr>\n",
       "    <tr>\n",
       "      <th>2018-01-04</th>\n",
       "      <td>1088.000000</td>\n",
       "      <td>1086.400024</td>\n",
       "      <td>3.920044</td>\n",
       "      <td>False</td>\n",
       "      <td>False</td>\n",
       "    </tr>\n",
       "    <tr>\n",
       "      <th>2018-01-05</th>\n",
       "      <td>1094.000000</td>\n",
       "      <td>1102.229980</td>\n",
       "      <td>15.829956</td>\n",
       "      <td>False</td>\n",
       "      <td>False</td>\n",
       "    </tr>\n",
       "    <tr>\n",
       "      <th>2018-01-08</th>\n",
       "      <td>1102.229980</td>\n",
       "      <td>1106.939941</td>\n",
       "      <td>4.709961</td>\n",
       "      <td>False</td>\n",
       "      <td>False</td>\n",
       "    </tr>\n",
       "    <tr>\n",
       "      <th>2018-01-09</th>\n",
       "      <td>1109.400024</td>\n",
       "      <td>1106.260010</td>\n",
       "      <td>-0.679932</td>\n",
       "      <td>True</td>\n",
       "      <td>False</td>\n",
       "    </tr>\n",
       "    <tr>\n",
       "      <th>2018-01-10</th>\n",
       "      <td>1097.099976</td>\n",
       "      <td>1102.609985</td>\n",
       "      <td>-3.650024</td>\n",
       "      <td>True</td>\n",
       "      <td>True</td>\n",
       "    </tr>\n",
       "    <tr>\n",
       "      <th>2018-01-11</th>\n",
       "      <td>1106.300049</td>\n",
       "      <td>1105.520020</td>\n",
       "      <td>2.910034</td>\n",
       "      <td>False</td>\n",
       "      <td>True</td>\n",
       "    </tr>\n",
       "    <tr>\n",
       "      <th>2018-01-12</th>\n",
       "      <td>1102.410034</td>\n",
       "      <td>1122.260010</td>\n",
       "      <td>16.739990</td>\n",
       "      <td>False</td>\n",
       "      <td>False</td>\n",
       "    </tr>\n",
       "    <tr>\n",
       "      <th>2018-01-16</th>\n",
       "      <td>1132.510010</td>\n",
       "      <td>1121.760010</td>\n",
       "      <td>-0.500000</td>\n",
       "      <td>True</td>\n",
       "      <td>False</td>\n",
       "    </tr>\n",
       "  </tbody>\n",
       "</table>\n",
       "</div>"
      ],
      "text/plain": [
       "             open_price  close_price  price_change  price_lower lower_previous\n",
       "Date                                                                          \n",
       "2018-01-02  1048.339966  1065.000000           NaN        False            NaN\n",
       "2018-01-03  1064.310059  1082.479980     17.479980        False          False\n",
       "2018-01-04  1088.000000  1086.400024      3.920044        False          False\n",
       "2018-01-05  1094.000000  1102.229980     15.829956        False          False\n",
       "2018-01-08  1102.229980  1106.939941      4.709961        False          False\n",
       "2018-01-09  1109.400024  1106.260010     -0.679932         True          False\n",
       "2018-01-10  1097.099976  1102.609985     -3.650024         True           True\n",
       "2018-01-11  1106.300049  1105.520020      2.910034        False           True\n",
       "2018-01-12  1102.410034  1122.260010     16.739990        False          False\n",
       "2018-01-16  1132.510010  1121.760010     -0.500000         True          False"
      ]
     },
     "execution_count": 46,
     "metadata": {},
     "output_type": "execute_result"
    }
   ],
   "source": [
    "# Generate the trading signals\n",
    "trading_model['price_change'] = trading_model['close_price'].diff()\n",
    "trading_model['price_lower'] = np.where(trading_model['price_change']<0, True, False)\n",
    "trading_model['lower_previous'] = trading_model['price_lower'].shift(1)\n",
    "# trading_model.dropna(inplace=True)\n",
    "\n",
    "trading_model.head(10)"
   ]
  },
  {
   "cell_type": "code",
   "execution_count": 47,
   "metadata": {},
   "outputs": [
    {
     "data": {
      "text/html": [
       "<div>\n",
       "<style scoped>\n",
       "    .dataframe tbody tr th:only-of-type {\n",
       "        vertical-align: middle;\n",
       "    }\n",
       "\n",
       "    .dataframe tbody tr th {\n",
       "        vertical-align: top;\n",
       "    }\n",
       "\n",
       "    .dataframe thead th {\n",
       "        text-align: right;\n",
       "    }\n",
       "</style>\n",
       "<table border=\"1\" class=\"dataframe\">\n",
       "  <thead>\n",
       "    <tr style=\"text-align: right;\">\n",
       "      <th></th>\n",
       "      <th>open_price</th>\n",
       "      <th>close_price</th>\n",
       "      <th>price_change</th>\n",
       "      <th>price_lower</th>\n",
       "      <th>lower_previous</th>\n",
       "    </tr>\n",
       "    <tr>\n",
       "      <th>Date</th>\n",
       "      <th></th>\n",
       "      <th></th>\n",
       "      <th></th>\n",
       "      <th></th>\n",
       "      <th></th>\n",
       "    </tr>\n",
       "  </thead>\n",
       "  <tbody>\n",
       "    <tr>\n",
       "      <th>2018-12-14</th>\n",
       "      <td>1049.979980</td>\n",
       "      <td>1042.099976</td>\n",
       "      <td>-19.800049</td>\n",
       "      <td>True</td>\n",
       "      <td>True</td>\n",
       "    </tr>\n",
       "    <tr>\n",
       "      <th>2018-12-17</th>\n",
       "      <td>1037.510010</td>\n",
       "      <td>1016.530029</td>\n",
       "      <td>-25.569946</td>\n",
       "      <td>True</td>\n",
       "      <td>True</td>\n",
       "    </tr>\n",
       "    <tr>\n",
       "      <th>2018-12-18</th>\n",
       "      <td>1026.089966</td>\n",
       "      <td>1028.709961</td>\n",
       "      <td>12.179932</td>\n",
       "      <td>False</td>\n",
       "      <td>True</td>\n",
       "    </tr>\n",
       "    <tr>\n",
       "      <th>2018-12-19</th>\n",
       "      <td>1033.989990</td>\n",
       "      <td>1023.010010</td>\n",
       "      <td>-5.699951</td>\n",
       "      <td>True</td>\n",
       "      <td>False</td>\n",
       "    </tr>\n",
       "    <tr>\n",
       "      <th>2018-12-20</th>\n",
       "      <td>1018.130005</td>\n",
       "      <td>1009.409973</td>\n",
       "      <td>-13.600037</td>\n",
       "      <td>True</td>\n",
       "      <td>True</td>\n",
       "    </tr>\n",
       "    <tr>\n",
       "      <th>2018-12-21</th>\n",
       "      <td>1015.299988</td>\n",
       "      <td>979.539978</td>\n",
       "      <td>-29.869995</td>\n",
       "      <td>True</td>\n",
       "      <td>True</td>\n",
       "    </tr>\n",
       "    <tr>\n",
       "      <th>2018-12-24</th>\n",
       "      <td>973.900024</td>\n",
       "      <td>976.219971</td>\n",
       "      <td>-3.320007</td>\n",
       "      <td>True</td>\n",
       "      <td>True</td>\n",
       "    </tr>\n",
       "    <tr>\n",
       "      <th>2018-12-26</th>\n",
       "      <td>989.010010</td>\n",
       "      <td>1039.459961</td>\n",
       "      <td>63.239990</td>\n",
       "      <td>False</td>\n",
       "      <td>True</td>\n",
       "    </tr>\n",
       "    <tr>\n",
       "      <th>2018-12-27</th>\n",
       "      <td>1017.150024</td>\n",
       "      <td>1043.880005</td>\n",
       "      <td>4.420044</td>\n",
       "      <td>False</td>\n",
       "      <td>False</td>\n",
       "    </tr>\n",
       "    <tr>\n",
       "      <th>2018-12-28</th>\n",
       "      <td>1049.619995</td>\n",
       "      <td>1037.079956</td>\n",
       "      <td>-6.800049</td>\n",
       "      <td>True</td>\n",
       "      <td>False</td>\n",
       "    </tr>\n",
       "  </tbody>\n",
       "</table>\n",
       "</div>"
      ],
      "text/plain": [
       "             open_price  close_price  price_change  price_lower lower_previous\n",
       "Date                                                                          \n",
       "2018-12-14  1049.979980  1042.099976    -19.800049         True           True\n",
       "2018-12-17  1037.510010  1016.530029    -25.569946         True           True\n",
       "2018-12-18  1026.089966  1028.709961     12.179932        False           True\n",
       "2018-12-19  1033.989990  1023.010010     -5.699951         True          False\n",
       "2018-12-20  1018.130005  1009.409973    -13.600037         True           True\n",
       "2018-12-21  1015.299988   979.539978    -29.869995         True           True\n",
       "2018-12-24   973.900024   976.219971     -3.320007         True           True\n",
       "2018-12-26   989.010010  1039.459961     63.239990        False           True\n",
       "2018-12-27  1017.150024  1043.880005      4.420044        False          False\n",
       "2018-12-28  1049.619995  1037.079956     -6.800049         True          False"
      ]
     },
     "execution_count": 47,
     "metadata": {},
     "output_type": "execute_result"
    }
   ],
   "source": [
    "trading_model.tail(10)"
   ]
  },
  {
   "cell_type": "code",
   "execution_count": 48,
   "metadata": {},
   "outputs": [],
   "source": [
    "if notifyStatus: email_notify(\"Task 3. Develop Strategy and Train Model completed! \"+datetime.now().strftime('%a %B %d, %Y %I:%M:%S %p'))"
   ]
  },
  {
   "cell_type": "markdown",
   "metadata": {},
   "source": [
    "## Task 4. Backtest Model"
   ]
  },
  {
   "cell_type": "markdown",
   "metadata": {},
   "source": [
    "We create a portfolio data frame to track the daily activities of our trading strategy.\n",
    "\n",
    "The definition of the columns are as follow:\n",
    "\n",
    "trade_action: 1 - Buy, -1 - Sell, 0 - No Action\n",
    "qty_onhand: quantity of position on-hand at the end of day\n",
    "cost_basis: If buying, the cost of the transaction\n",
    "sold_transaction: If selling, the proceeds from the transaction\n",
    "cash_onhand: Cash on-hand at the end of day\n",
    "position_value: The value of the position at the end of day\n",
    "total_position: Value of the portfolio, cash plus security\n",
    "accumu_return: Accumulated return or loss compared to the initial capital investment"
   ]
  },
  {
   "cell_type": "code",
   "execution_count": 49,
   "metadata": {},
   "outputs": [],
   "source": [
    "if notifyStatus: email_notify(\"Task 4. Backtest Model has begun! \"+datetime.now().strftime('%a %B %d, %Y %I:%M:%S %p'))"
   ]
  },
  {
   "cell_type": "code",
   "execution_count": 50,
   "metadata": {},
   "outputs": [
    {
     "data": {
      "text/html": [
       "<div>\n",
       "<style scoped>\n",
       "    .dataframe tbody tr th:only-of-type {\n",
       "        vertical-align: middle;\n",
       "    }\n",
       "\n",
       "    .dataframe tbody tr th {\n",
       "        vertical-align: top;\n",
       "    }\n",
       "\n",
       "    .dataframe thead th {\n",
       "        text-align: right;\n",
       "    }\n",
       "</style>\n",
       "<table border=\"1\" class=\"dataframe\">\n",
       "  <thead>\n",
       "    <tr style=\"text-align: right;\">\n",
       "      <th></th>\n",
       "      <th>trade_action</th>\n",
       "      <th>qty_onhand</th>\n",
       "      <th>cost_basis</th>\n",
       "      <th>sold_transaction</th>\n",
       "      <th>cash_onhand</th>\n",
       "      <th>position_value</th>\n",
       "      <th>total_position</th>\n",
       "      <th>accumu_return</th>\n",
       "    </tr>\n",
       "    <tr>\n",
       "      <th>Date</th>\n",
       "      <th></th>\n",
       "      <th></th>\n",
       "      <th></th>\n",
       "      <th></th>\n",
       "      <th></th>\n",
       "      <th></th>\n",
       "      <th></th>\n",
       "      <th></th>\n",
       "    </tr>\n",
       "  </thead>\n",
       "  <tbody>\n",
       "    <tr>\n",
       "      <th>2018-01-02</th>\n",
       "      <td>0</td>\n",
       "      <td>0</td>\n",
       "      <td>0</td>\n",
       "      <td>0</td>\n",
       "      <td>2000</td>\n",
       "      <td>0</td>\n",
       "      <td>2000</td>\n",
       "      <td>0</td>\n",
       "    </tr>\n",
       "    <tr>\n",
       "      <th>2018-01-03</th>\n",
       "      <td>0</td>\n",
       "      <td>0</td>\n",
       "      <td>0</td>\n",
       "      <td>0</td>\n",
       "      <td>2000</td>\n",
       "      <td>0</td>\n",
       "      <td>2000</td>\n",
       "      <td>0</td>\n",
       "    </tr>\n",
       "    <tr>\n",
       "      <th>2018-01-04</th>\n",
       "      <td>0</td>\n",
       "      <td>0</td>\n",
       "      <td>0</td>\n",
       "      <td>0</td>\n",
       "      <td>2000</td>\n",
       "      <td>0</td>\n",
       "      <td>2000</td>\n",
       "      <td>0</td>\n",
       "    </tr>\n",
       "    <tr>\n",
       "      <th>2018-01-05</th>\n",
       "      <td>0</td>\n",
       "      <td>0</td>\n",
       "      <td>0</td>\n",
       "      <td>0</td>\n",
       "      <td>2000</td>\n",
       "      <td>0</td>\n",
       "      <td>2000</td>\n",
       "      <td>0</td>\n",
       "    </tr>\n",
       "    <tr>\n",
       "      <th>2018-01-08</th>\n",
       "      <td>0</td>\n",
       "      <td>0</td>\n",
       "      <td>0</td>\n",
       "      <td>0</td>\n",
       "      <td>2000</td>\n",
       "      <td>0</td>\n",
       "      <td>2000</td>\n",
       "      <td>0</td>\n",
       "    </tr>\n",
       "    <tr>\n",
       "      <th>2018-01-09</th>\n",
       "      <td>0</td>\n",
       "      <td>0</td>\n",
       "      <td>0</td>\n",
       "      <td>0</td>\n",
       "      <td>2000</td>\n",
       "      <td>0</td>\n",
       "      <td>2000</td>\n",
       "      <td>0</td>\n",
       "    </tr>\n",
       "    <tr>\n",
       "      <th>2018-01-10</th>\n",
       "      <td>1</td>\n",
       "      <td>1</td>\n",
       "      <td>1097.1</td>\n",
       "      <td>0</td>\n",
       "      <td>902.9</td>\n",
       "      <td>1102.61</td>\n",
       "      <td>2005.51</td>\n",
       "      <td>5.51001</td>\n",
       "    </tr>\n",
       "    <tr>\n",
       "      <th>2018-01-11</th>\n",
       "      <td>0</td>\n",
       "      <td>1</td>\n",
       "      <td>0</td>\n",
       "      <td>0</td>\n",
       "      <td>902.9</td>\n",
       "      <td>1105.52</td>\n",
       "      <td>2008.42</td>\n",
       "      <td>8.42004</td>\n",
       "    </tr>\n",
       "    <tr>\n",
       "      <th>2018-01-12</th>\n",
       "      <td>-1</td>\n",
       "      <td>0</td>\n",
       "      <td>0</td>\n",
       "      <td>-1102.41</td>\n",
       "      <td>2005.31</td>\n",
       "      <td>0</td>\n",
       "      <td>2005.31</td>\n",
       "      <td>5.31006</td>\n",
       "    </tr>\n",
       "    <tr>\n",
       "      <th>2018-01-16</th>\n",
       "      <td>0</td>\n",
       "      <td>0</td>\n",
       "      <td>0</td>\n",
       "      <td>0</td>\n",
       "      <td>2005.31</td>\n",
       "      <td>0</td>\n",
       "      <td>2005.31</td>\n",
       "      <td>5.31006</td>\n",
       "    </tr>\n",
       "  </tbody>\n",
       "</table>\n",
       "</div>"
      ],
      "text/plain": [
       "           trade_action qty_onhand cost_basis sold_transaction cash_onhand  \\\n",
       "Date                                                                         \n",
       "2018-01-02            0          0          0                0        2000   \n",
       "2018-01-03            0          0          0                0        2000   \n",
       "2018-01-04            0          0          0                0        2000   \n",
       "2018-01-05            0          0          0                0        2000   \n",
       "2018-01-08            0          0          0                0        2000   \n",
       "2018-01-09            0          0          0                0        2000   \n",
       "2018-01-10            1          1     1097.1                0       902.9   \n",
       "2018-01-11            0          1          0                0       902.9   \n",
       "2018-01-12           -1          0          0         -1102.41     2005.31   \n",
       "2018-01-16            0          0          0                0     2005.31   \n",
       "\n",
       "           position_value total_position accumu_return  \n",
       "Date                                                    \n",
       "2018-01-02              0           2000             0  \n",
       "2018-01-03              0           2000             0  \n",
       "2018-01-04              0           2000             0  \n",
       "2018-01-05              0           2000             0  \n",
       "2018-01-08              0           2000             0  \n",
       "2018-01-09              0           2000             0  \n",
       "2018-01-10        1102.61        2005.51       5.51001  \n",
       "2018-01-11        1105.52        2008.42       8.42004  \n",
       "2018-01-12              0        2005.31       5.31006  \n",
       "2018-01-16              0        2005.31       5.31006  "
      ]
     },
     "execution_count": 50,
     "metadata": {},
     "output_type": "execute_result"
    }
   ],
   "source": [
    "# Construct a portfolio to track the transactions and returns\n",
    "portfolio = pd.DataFrame(index=trading_model.index, columns=['trade_action', 'qty_onhand', 'cost_basis', 'sold_transaction',\n",
    "                                                             'cash_onhand', 'position_value', 'total_position', 'accumu_return'])\n",
    "portfolio.iloc[0]['trade_action'] = 0\n",
    "portfolio.iloc[0]['qty_onhand'] = 0\n",
    "portfolio.iloc[0]['cost_basis'] = 0.00\n",
    "portfolio.iloc[0]['sold_transaction'] = 0.00\n",
    "portfolio.iloc[0]['cash_onhand'] = initial_capital\n",
    "portfolio.iloc[0]['position_value'] = 0.00\n",
    "portfolio.iloc[0]['total_position'] = initial_capital\n",
    "portfolio.iloc[0]['accumu_return'] = portfolio.iloc[0]['total_position'] - initial_capital\n",
    "\n",
    "for i in range(1, len(portfolio)):\n",
    "    if trading_model.iloc[i]['lower_previous'] and (portfolio.iloc[i-1]['qty_onhand'] == 0):\n",
    "        portfolio.iloc[i]['trade_action'] = 1\n",
    "        portfolio.iloc[i]['qty_onhand'] = portfolio.iloc[i-1]['qty_onhand'] + portfolio.iloc[i]['trade_action']\n",
    "        portfolio.iloc[i]['cost_basis'] = trading_model.iloc[i]['open_price'] * portfolio.iloc[i]['trade_action']\n",
    "        portfolio.iloc[i]['sold_transaction'] = 0.00\n",
    "        portfolio.iloc[i]['cash_onhand'] = portfolio.iloc[i-1]['cash_onhand'] - portfolio.iloc[i]['cost_basis']\n",
    "    elif (not trading_model.iloc[i]['lower_previous']) and (portfolio.iloc[i-1]['qty_onhand'] > 0):\n",
    "        portfolio.iloc[i]['trade_action'] = -1\n",
    "        portfolio.iloc[i]['qty_onhand'] = portfolio.iloc[i-1]['qty_onhand'] + portfolio.iloc[i]['trade_action']\n",
    "        portfolio.iloc[i]['cost_basis'] = 0.00\n",
    "        portfolio.iloc[i]['sold_transaction'] = trading_model.iloc[i]['open_price'] * portfolio.iloc[i]['trade_action']\n",
    "        portfolio.iloc[i]['cash_onhand'] = portfolio.iloc[i-1]['cash_onhand'] - portfolio.iloc[i]['sold_transaction']\n",
    "    else:\n",
    "        portfolio.iloc[i]['trade_action'] = 0\n",
    "        portfolio.iloc[i]['qty_onhand'] = portfolio.iloc[i-1]['qty_onhand']\n",
    "        portfolio.iloc[i]['cost_basis'] = 0.00\n",
    "        portfolio.iloc[i]['sold_transaction'] = 0.00\n",
    "        portfolio.iloc[i]['cash_onhand'] = portfolio.iloc[i-1]['cash_onhand']\n",
    "    portfolio.iloc[i]['position_value'] = trading_model.iloc[i]['close_price'] * portfolio.iloc[i]['qty_onhand']\n",
    "    portfolio.iloc[i]['total_position'] = portfolio.iloc[i]['cash_onhand'] + portfolio.iloc[i]['position_value']\n",
    "    portfolio.iloc[i]['accumu_return'] = portfolio.iloc[i]['total_position'] - initial_capital\n",
    "\n",
    "portfolio.head(10)"
   ]
  },
  {
   "cell_type": "code",
   "execution_count": 51,
   "metadata": {},
   "outputs": [
    {
     "data": {
      "text/html": [
       "<div>\n",
       "<style scoped>\n",
       "    .dataframe tbody tr th:only-of-type {\n",
       "        vertical-align: middle;\n",
       "    }\n",
       "\n",
       "    .dataframe tbody tr th {\n",
       "        vertical-align: top;\n",
       "    }\n",
       "\n",
       "    .dataframe thead th {\n",
       "        text-align: right;\n",
       "    }\n",
       "</style>\n",
       "<table border=\"1\" class=\"dataframe\">\n",
       "  <thead>\n",
       "    <tr style=\"text-align: right;\">\n",
       "      <th></th>\n",
       "      <th>trade_action</th>\n",
       "      <th>qty_onhand</th>\n",
       "      <th>cost_basis</th>\n",
       "      <th>sold_transaction</th>\n",
       "      <th>cash_onhand</th>\n",
       "      <th>position_value</th>\n",
       "      <th>total_position</th>\n",
       "      <th>accumu_return</th>\n",
       "    </tr>\n",
       "    <tr>\n",
       "      <th>Date</th>\n",
       "      <th></th>\n",
       "      <th></th>\n",
       "      <th></th>\n",
       "      <th></th>\n",
       "      <th></th>\n",
       "      <th></th>\n",
       "      <th></th>\n",
       "      <th></th>\n",
       "    </tr>\n",
       "  </thead>\n",
       "  <tbody>\n",
       "    <tr>\n",
       "      <th>2018-12-14</th>\n",
       "      <td>1</td>\n",
       "      <td>1</td>\n",
       "      <td>1049.98</td>\n",
       "      <td>0</td>\n",
       "      <td>875.51</td>\n",
       "      <td>1042.1</td>\n",
       "      <td>1917.61</td>\n",
       "      <td>-82.3898</td>\n",
       "    </tr>\n",
       "    <tr>\n",
       "      <th>2018-12-17</th>\n",
       "      <td>0</td>\n",
       "      <td>1</td>\n",
       "      <td>0</td>\n",
       "      <td>0</td>\n",
       "      <td>875.51</td>\n",
       "      <td>1016.53</td>\n",
       "      <td>1892.04</td>\n",
       "      <td>-107.96</td>\n",
       "    </tr>\n",
       "    <tr>\n",
       "      <th>2018-12-18</th>\n",
       "      <td>0</td>\n",
       "      <td>1</td>\n",
       "      <td>0</td>\n",
       "      <td>0</td>\n",
       "      <td>875.51</td>\n",
       "      <td>1028.71</td>\n",
       "      <td>1904.22</td>\n",
       "      <td>-95.7798</td>\n",
       "    </tr>\n",
       "    <tr>\n",
       "      <th>2018-12-19</th>\n",
       "      <td>-1</td>\n",
       "      <td>0</td>\n",
       "      <td>0</td>\n",
       "      <td>-1033.99</td>\n",
       "      <td>1909.5</td>\n",
       "      <td>0</td>\n",
       "      <td>1909.5</td>\n",
       "      <td>-90.4998</td>\n",
       "    </tr>\n",
       "    <tr>\n",
       "      <th>2018-12-20</th>\n",
       "      <td>1</td>\n",
       "      <td>1</td>\n",
       "      <td>1018.13</td>\n",
       "      <td>0</td>\n",
       "      <td>891.37</td>\n",
       "      <td>1009.41</td>\n",
       "      <td>1900.78</td>\n",
       "      <td>-99.2198</td>\n",
       "    </tr>\n",
       "    <tr>\n",
       "      <th>2018-12-21</th>\n",
       "      <td>0</td>\n",
       "      <td>1</td>\n",
       "      <td>0</td>\n",
       "      <td>0</td>\n",
       "      <td>891.37</td>\n",
       "      <td>979.54</td>\n",
       "      <td>1870.91</td>\n",
       "      <td>-129.09</td>\n",
       "    </tr>\n",
       "    <tr>\n",
       "      <th>2018-12-24</th>\n",
       "      <td>0</td>\n",
       "      <td>1</td>\n",
       "      <td>0</td>\n",
       "      <td>0</td>\n",
       "      <td>891.37</td>\n",
       "      <td>976.22</td>\n",
       "      <td>1867.59</td>\n",
       "      <td>-132.41</td>\n",
       "    </tr>\n",
       "    <tr>\n",
       "      <th>2018-12-26</th>\n",
       "      <td>0</td>\n",
       "      <td>1</td>\n",
       "      <td>0</td>\n",
       "      <td>0</td>\n",
       "      <td>891.37</td>\n",
       "      <td>1039.46</td>\n",
       "      <td>1930.83</td>\n",
       "      <td>-69.1698</td>\n",
       "    </tr>\n",
       "    <tr>\n",
       "      <th>2018-12-27</th>\n",
       "      <td>-1</td>\n",
       "      <td>0</td>\n",
       "      <td>0</td>\n",
       "      <td>-1017.15</td>\n",
       "      <td>1908.52</td>\n",
       "      <td>0</td>\n",
       "      <td>1908.52</td>\n",
       "      <td>-91.4797</td>\n",
       "    </tr>\n",
       "    <tr>\n",
       "      <th>2018-12-28</th>\n",
       "      <td>0</td>\n",
       "      <td>0</td>\n",
       "      <td>0</td>\n",
       "      <td>0</td>\n",
       "      <td>1908.52</td>\n",
       "      <td>0</td>\n",
       "      <td>1908.52</td>\n",
       "      <td>-91.4797</td>\n",
       "    </tr>\n",
       "  </tbody>\n",
       "</table>\n",
       "</div>"
      ],
      "text/plain": [
       "           trade_action qty_onhand cost_basis sold_transaction cash_onhand  \\\n",
       "Date                                                                         \n",
       "2018-12-14            1          1    1049.98                0      875.51   \n",
       "2018-12-17            0          1          0                0      875.51   \n",
       "2018-12-18            0          1          0                0      875.51   \n",
       "2018-12-19           -1          0          0         -1033.99      1909.5   \n",
       "2018-12-20            1          1    1018.13                0      891.37   \n",
       "2018-12-21            0          1          0                0      891.37   \n",
       "2018-12-24            0          1          0                0      891.37   \n",
       "2018-12-26            0          1          0                0      891.37   \n",
       "2018-12-27           -1          0          0         -1017.15     1908.52   \n",
       "2018-12-28            0          0          0                0     1908.52   \n",
       "\n",
       "           position_value total_position accumu_return  \n",
       "Date                                                    \n",
       "2018-12-14         1042.1        1917.61      -82.3898  \n",
       "2018-12-17        1016.53        1892.04       -107.96  \n",
       "2018-12-18        1028.71        1904.22      -95.7798  \n",
       "2018-12-19              0         1909.5      -90.4998  \n",
       "2018-12-20        1009.41        1900.78      -99.2198  \n",
       "2018-12-21         979.54        1870.91       -129.09  \n",
       "2018-12-24         976.22        1867.59       -132.41  \n",
       "2018-12-26        1039.46        1930.83      -69.1698  \n",
       "2018-12-27              0        1908.52      -91.4797  \n",
       "2018-12-28              0        1908.52      -91.4797  "
      ]
     },
     "execution_count": 51,
     "metadata": {},
     "output_type": "execute_result"
    }
   ],
   "source": [
    "portfolio.tail(10)"
   ]
  },
  {
   "cell_type": "code",
   "execution_count": 52,
   "metadata": {},
   "outputs": [
    {
     "data": {
      "image/png": "[encoded data removed]",
      "text/plain": [
       "<Figure size 1152x648 with 1 Axes>"
      ]
     },
     "metadata": {},
     "output_type": "display_data"
    }
   ],
   "source": [
    "title_string = 'Trading Strategy Portfolio for ' + stock_symbol\n",
    "portfolio[['cash_onhand','position_value']].plot.area(figsize=(16,9), stacked=True)\n",
    "plt.title(title_string)\n",
    "plt.show()"
   ]
  },
  {
   "cell_type": "code",
   "execution_count": 53,
   "metadata": {},
   "outputs": [],
   "source": [
    "if notifyStatus: email_notify(\"Task 4. Backtest Model completed! \"+datetime.now().strftime('%a %B %d, %Y %I:%M:%S %p'))"
   ]
  },
  {
   "cell_type": "markdown",
   "metadata": {},
   "source": [
    "## Task 5. Evaluate Performance"
   ]
  },
  {
   "cell_type": "markdown",
   "metadata": {},
   "source": [
    "We compare the performance of our trading strategy with the benchmark methodology that we have chosen."
   ]
  },
  {
   "cell_type": "code",
   "execution_count": 54,
   "metadata": {},
   "outputs": [],
   "source": [
    "if notifyStatus: email_notify(\"Task 5. Evaluate Performance has begun! \"+datetime.now().strftime('%a %B %d, %Y %I:%M:%S %p'))"
   ]
  },
  {
   "cell_type": "code",
   "execution_count": 55,
   "metadata": {},
   "outputs": [
    {
     "data": {
      "text/html": [
       "<div>\n",
       "<style scoped>\n",
       "    .dataframe tbody tr th:only-of-type {\n",
       "        vertical-align: middle;\n",
       "    }\n",
       "\n",
       "    .dataframe tbody tr th {\n",
       "        vertical-align: top;\n",
       "    }\n",
       "\n",
       "    .dataframe thead th {\n",
       "        text-align: right;\n",
       "    }\n",
       "</style>\n",
       "<table border=\"1\" class=\"dataframe\">\n",
       "  <thead>\n",
       "    <tr style=\"text-align: right;\">\n",
       "      <th></th>\n",
       "      <th>trade_action</th>\n",
       "      <th>qty_onhand</th>\n",
       "      <th>cash_onhand</th>\n",
       "      <th>position_value</th>\n",
       "      <th>total_position</th>\n",
       "      <th>accumu_return</th>\n",
       "    </tr>\n",
       "    <tr>\n",
       "      <th>Date</th>\n",
       "      <th></th>\n",
       "      <th></th>\n",
       "      <th></th>\n",
       "      <th></th>\n",
       "      <th></th>\n",
       "      <th></th>\n",
       "    </tr>\n",
       "  </thead>\n",
       "  <tbody>\n",
       "    <tr>\n",
       "      <th>2018-01-02</th>\n",
       "      <td>1</td>\n",
       "      <td>1</td>\n",
       "      <td>951.66</td>\n",
       "      <td>1048.34</td>\n",
       "      <td>2000</td>\n",
       "      <td>0</td>\n",
       "    </tr>\n",
       "    <tr>\n",
       "      <th>2018-01-03</th>\n",
       "      <td>0</td>\n",
       "      <td>1</td>\n",
       "      <td>951.66</td>\n",
       "      <td>1082.48</td>\n",
       "      <td>2034.14</td>\n",
       "      <td>34.14</td>\n",
       "    </tr>\n",
       "    <tr>\n",
       "      <th>2018-01-04</th>\n",
       "      <td>0</td>\n",
       "      <td>1</td>\n",
       "      <td>951.66</td>\n",
       "      <td>1086.4</td>\n",
       "      <td>2038.06</td>\n",
       "      <td>38.0601</td>\n",
       "    </tr>\n",
       "    <tr>\n",
       "      <th>2018-01-05</th>\n",
       "      <td>0</td>\n",
       "      <td>1</td>\n",
       "      <td>951.66</td>\n",
       "      <td>1102.23</td>\n",
       "      <td>2053.89</td>\n",
       "      <td>53.89</td>\n",
       "    </tr>\n",
       "    <tr>\n",
       "      <th>2018-01-08</th>\n",
       "      <td>0</td>\n",
       "      <td>1</td>\n",
       "      <td>951.66</td>\n",
       "      <td>1106.94</td>\n",
       "      <td>2058.6</td>\n",
       "      <td>58.6</td>\n",
       "    </tr>\n",
       "    <tr>\n",
       "      <th>2018-01-09</th>\n",
       "      <td>0</td>\n",
       "      <td>1</td>\n",
       "      <td>951.66</td>\n",
       "      <td>1106.26</td>\n",
       "      <td>2057.92</td>\n",
       "      <td>57.92</td>\n",
       "    </tr>\n",
       "    <tr>\n",
       "      <th>2018-01-10</th>\n",
       "      <td>0</td>\n",
       "      <td>1</td>\n",
       "      <td>951.66</td>\n",
       "      <td>1102.61</td>\n",
       "      <td>2054.27</td>\n",
       "      <td>54.27</td>\n",
       "    </tr>\n",
       "    <tr>\n",
       "      <th>2018-01-11</th>\n",
       "      <td>0</td>\n",
       "      <td>1</td>\n",
       "      <td>951.66</td>\n",
       "      <td>1105.52</td>\n",
       "      <td>2057.18</td>\n",
       "      <td>57.1801</td>\n",
       "    </tr>\n",
       "    <tr>\n",
       "      <th>2018-01-12</th>\n",
       "      <td>0</td>\n",
       "      <td>1</td>\n",
       "      <td>951.66</td>\n",
       "      <td>1122.26</td>\n",
       "      <td>2073.92</td>\n",
       "      <td>73.92</td>\n",
       "    </tr>\n",
       "    <tr>\n",
       "      <th>2018-01-16</th>\n",
       "      <td>0</td>\n",
       "      <td>1</td>\n",
       "      <td>951.66</td>\n",
       "      <td>1121.76</td>\n",
       "      <td>2073.42</td>\n",
       "      <td>73.42</td>\n",
       "    </tr>\n",
       "  </tbody>\n",
       "</table>\n",
       "</div>"
      ],
      "text/plain": [
       "           trade_action qty_onhand cash_onhand position_value total_position  \\\n",
       "Date                                                                           \n",
       "2018-01-02            1          1      951.66        1048.34           2000   \n",
       "2018-01-03            0          1      951.66        1082.48        2034.14   \n",
       "2018-01-04            0          1      951.66         1086.4        2038.06   \n",
       "2018-01-05            0          1      951.66        1102.23        2053.89   \n",
       "2018-01-08            0          1      951.66        1106.94         2058.6   \n",
       "2018-01-09            0          1      951.66        1106.26        2057.92   \n",
       "2018-01-10            0          1      951.66        1102.61        2054.27   \n",
       "2018-01-11            0          1      951.66        1105.52        2057.18   \n",
       "2018-01-12            0          1      951.66        1122.26        2073.92   \n",
       "2018-01-16            0          1      951.66        1121.76        2073.42   \n",
       "\n",
       "           accumu_return  \n",
       "Date                      \n",
       "2018-01-02             0  \n",
       "2018-01-03         34.14  \n",
       "2018-01-04       38.0601  \n",
       "2018-01-05         53.89  \n",
       "2018-01-08          58.6  \n",
       "2018-01-09         57.92  \n",
       "2018-01-10         54.27  \n",
       "2018-01-11       57.1801  \n",
       "2018-01-12         73.92  \n",
       "2018-01-16         73.42  "
      ]
     },
     "execution_count": 55,
     "metadata": {},
     "output_type": "execute_result"
    }
   ],
   "source": [
    "# Construct a long only as a benchmark for the trading strategy\n",
    "benchmark = pd.DataFrame(index=trading_model.index, columns=['trade_action', 'qty_onhand', 'cash_onhand', 'position_value', 'total_position', \"accumu_return\"])\n",
    "benchmark.iloc[0]['trade_action'] = 1\n",
    "benchmark.iloc[0]['qty_onhand'] = benchmark.iloc[0]['trade_action']\n",
    "benchmark.iloc[0]['cash_onhand'] = initial_capital - (trading_model.iloc[0]['open_price'] * benchmark.iloc[0]['trade_action'])\n",
    "benchmark.iloc[0]['position_value'] = trading_model.iloc[0]['open_price']\n",
    "benchmark.iloc[0]['total_position'] = initial_capital\n",
    "benchmark.iloc[0]['accumu_return'] = benchmark.iloc[0]['total_position'] - initial_capital\n",
    "\n",
    "for i in range(1, len(portfolio)):\n",
    "    benchmark.iloc[i]['trade_action'] = 0\n",
    "    benchmark.iloc[i]['qty_onhand'] = benchmark.iloc[i-1]['qty_onhand']\n",
    "    benchmark.iloc[i]['cash_onhand'] = benchmark.iloc[i-1]['cash_onhand']\n",
    "    benchmark.iloc[i]['position_value'] = trading_model.iloc[i]['close_price'] * benchmark.iloc[i]['qty_onhand']\n",
    "    benchmark.iloc[i]['total_position'] = benchmark.iloc[i]['cash_onhand'] + benchmark.iloc[i]['position_value']\n",
    "    benchmark.iloc[i]['accumu_return'] = benchmark.iloc[i]['total_position'] - initial_capital\n",
    "\n",
    "benchmark.head(10)"
   ]
  },
  {
   "cell_type": "code",
   "execution_count": 56,
   "metadata": {},
   "outputs": [
    {
     "data": {
      "text/html": [
       "<div>\n",
       "<style scoped>\n",
       "    .dataframe tbody tr th:only-of-type {\n",
       "        vertical-align: middle;\n",
       "    }\n",
       "\n",
       "    .dataframe tbody tr th {\n",
       "        vertical-align: top;\n",
       "    }\n",
       "\n",
       "    .dataframe thead th {\n",
       "        text-align: right;\n",
       "    }\n",
       "</style>\n",
       "<table border=\"1\" class=\"dataframe\">\n",
       "  <thead>\n",
       "    <tr style=\"text-align: right;\">\n",
       "      <th></th>\n",
       "      <th>trade_action</th>\n",
       "      <th>qty_onhand</th>\n",
       "      <th>cash_onhand</th>\n",
       "      <th>position_value</th>\n",
       "      <th>total_position</th>\n",
       "      <th>accumu_return</th>\n",
       "    </tr>\n",
       "    <tr>\n",
       "      <th>Date</th>\n",
       "      <th></th>\n",
       "      <th></th>\n",
       "      <th></th>\n",
       "      <th></th>\n",
       "      <th></th>\n",
       "      <th></th>\n",
       "    </tr>\n",
       "  </thead>\n",
       "  <tbody>\n",
       "    <tr>\n",
       "      <th>2018-12-14</th>\n",
       "      <td>0</td>\n",
       "      <td>1</td>\n",
       "      <td>951.66</td>\n",
       "      <td>1042.1</td>\n",
       "      <td>1993.76</td>\n",
       "      <td>-6.23999</td>\n",
       "    </tr>\n",
       "    <tr>\n",
       "      <th>2018-12-17</th>\n",
       "      <td>0</td>\n",
       "      <td>1</td>\n",
       "      <td>951.66</td>\n",
       "      <td>1016.53</td>\n",
       "      <td>1968.19</td>\n",
       "      <td>-31.8099</td>\n",
       "    </tr>\n",
       "    <tr>\n",
       "      <th>2018-12-18</th>\n",
       "      <td>0</td>\n",
       "      <td>1</td>\n",
       "      <td>951.66</td>\n",
       "      <td>1028.71</td>\n",
       "      <td>1980.37</td>\n",
       "      <td>-19.63</td>\n",
       "    </tr>\n",
       "    <tr>\n",
       "      <th>2018-12-19</th>\n",
       "      <td>0</td>\n",
       "      <td>1</td>\n",
       "      <td>951.66</td>\n",
       "      <td>1023.01</td>\n",
       "      <td>1974.67</td>\n",
       "      <td>-25.33</td>\n",
       "    </tr>\n",
       "    <tr>\n",
       "      <th>2018-12-20</th>\n",
       "      <td>0</td>\n",
       "      <td>1</td>\n",
       "      <td>951.66</td>\n",
       "      <td>1009.41</td>\n",
       "      <td>1961.07</td>\n",
       "      <td>-38.93</td>\n",
       "    </tr>\n",
       "    <tr>\n",
       "      <th>2018-12-21</th>\n",
       "      <td>0</td>\n",
       "      <td>1</td>\n",
       "      <td>951.66</td>\n",
       "      <td>979.54</td>\n",
       "      <td>1931.2</td>\n",
       "      <td>-68.8</td>\n",
       "    </tr>\n",
       "    <tr>\n",
       "      <th>2018-12-24</th>\n",
       "      <td>0</td>\n",
       "      <td>1</td>\n",
       "      <td>951.66</td>\n",
       "      <td>976.22</td>\n",
       "      <td>1927.88</td>\n",
       "      <td>-72.12</td>\n",
       "    </tr>\n",
       "    <tr>\n",
       "      <th>2018-12-26</th>\n",
       "      <td>0</td>\n",
       "      <td>1</td>\n",
       "      <td>951.66</td>\n",
       "      <td>1039.46</td>\n",
       "      <td>1991.12</td>\n",
       "      <td>-8.88</td>\n",
       "    </tr>\n",
       "    <tr>\n",
       "      <th>2018-12-27</th>\n",
       "      <td>0</td>\n",
       "      <td>1</td>\n",
       "      <td>951.66</td>\n",
       "      <td>1043.88</td>\n",
       "      <td>1995.54</td>\n",
       "      <td>-4.45996</td>\n",
       "    </tr>\n",
       "    <tr>\n",
       "      <th>2018-12-28</th>\n",
       "      <td>0</td>\n",
       "      <td>1</td>\n",
       "      <td>951.66</td>\n",
       "      <td>1037.08</td>\n",
       "      <td>1988.74</td>\n",
       "      <td>-11.26</td>\n",
       "    </tr>\n",
       "  </tbody>\n",
       "</table>\n",
       "</div>"
      ],
      "text/plain": [
       "           trade_action qty_onhand cash_onhand position_value total_position  \\\n",
       "Date                                                                           \n",
       "2018-12-14            0          1      951.66         1042.1        1993.76   \n",
       "2018-12-17            0          1      951.66        1016.53        1968.19   \n",
       "2018-12-18            0          1      951.66        1028.71        1980.37   \n",
       "2018-12-19            0          1      951.66        1023.01        1974.67   \n",
       "2018-12-20            0          1      951.66        1009.41        1961.07   \n",
       "2018-12-21            0          1      951.66         979.54         1931.2   \n",
       "2018-12-24            0          1      951.66         976.22        1927.88   \n",
       "2018-12-26            0          1      951.66        1039.46        1991.12   \n",
       "2018-12-27            0          1      951.66        1043.88        1995.54   \n",
       "2018-12-28            0          1      951.66        1037.08        1988.74   \n",
       "\n",
       "           accumu_return  \n",
       "Date                      \n",
       "2018-12-14      -6.23999  \n",
       "2018-12-17      -31.8099  \n",
       "2018-12-18        -19.63  \n",
       "2018-12-19        -25.33  \n",
       "2018-12-20        -38.93  \n",
       "2018-12-21         -68.8  \n",
       "2018-12-24        -72.12  \n",
       "2018-12-26         -8.88  \n",
       "2018-12-27      -4.45996  \n",
       "2018-12-28        -11.26  "
      ]
     },
     "execution_count": 56,
     "metadata": {},
     "output_type": "execute_result"
    }
   ],
   "source": [
    "benchmark.tail(10)"
   ]
  },
  {
   "cell_type": "code",
   "execution_count": 57,
   "metadata": {},
   "outputs": [
    {
     "data": {
      "image/png": "[encoded data removed]",
      "text/plain": [
       "<Figure size 1152x648 with 1 Axes>"
      ]
     },
     "metadata": {},
     "output_type": "display_data"
    }
   ],
   "source": [
    "title_string = 'Default Benchmark Portfolio for ' + stock_symbol\n",
    "benchmark[['cash_onhand','position_value']].plot.area(figsize=(16,9), stacked=True)\n",
    "plt.title(title_string)\n",
    "plt.show()"
   ]
  },
  {
   "cell_type": "code",
   "execution_count": 58,
   "metadata": {},
   "outputs": [
    {
     "data": {
      "text/html": [
       "<div>\n",
       "<style scoped>\n",
       "    .dataframe tbody tr th:only-of-type {\n",
       "        vertical-align: middle;\n",
       "    }\n",
       "\n",
       "    .dataframe tbody tr th {\n",
       "        vertical-align: top;\n",
       "    }\n",
       "\n",
       "    .dataframe thead th {\n",
       "        text-align: right;\n",
       "    }\n",
       "</style>\n",
       "<table border=\"1\" class=\"dataframe\">\n",
       "  <thead>\n",
       "    <tr style=\"text-align: right;\">\n",
       "      <th></th>\n",
       "      <th>strategy</th>\n",
       "      <th>benchmark</th>\n",
       "    </tr>\n",
       "    <tr>\n",
       "      <th>Date</th>\n",
       "      <th></th>\n",
       "      <th></th>\n",
       "    </tr>\n",
       "  </thead>\n",
       "  <tbody>\n",
       "    <tr>\n",
       "      <th>2018-01-02</th>\n",
       "      <td>0</td>\n",
       "      <td>0</td>\n",
       "    </tr>\n",
       "    <tr>\n",
       "      <th>2018-01-03</th>\n",
       "      <td>0</td>\n",
       "      <td>34.14</td>\n",
       "    </tr>\n",
       "    <tr>\n",
       "      <th>2018-01-04</th>\n",
       "      <td>0</td>\n",
       "      <td>38.0601</td>\n",
       "    </tr>\n",
       "    <tr>\n",
       "      <th>2018-01-05</th>\n",
       "      <td>0</td>\n",
       "      <td>53.89</td>\n",
       "    </tr>\n",
       "    <tr>\n",
       "      <th>2018-01-08</th>\n",
       "      <td>0</td>\n",
       "      <td>58.6</td>\n",
       "    </tr>\n",
       "    <tr>\n",
       "      <th>2018-01-09</th>\n",
       "      <td>0</td>\n",
       "      <td>57.92</td>\n",
       "    </tr>\n",
       "    <tr>\n",
       "      <th>2018-01-10</th>\n",
       "      <td>5.51001</td>\n",
       "      <td>54.27</td>\n",
       "    </tr>\n",
       "    <tr>\n",
       "      <th>2018-01-11</th>\n",
       "      <td>8.42004</td>\n",
       "      <td>57.1801</td>\n",
       "    </tr>\n",
       "    <tr>\n",
       "      <th>2018-01-12</th>\n",
       "      <td>5.31006</td>\n",
       "      <td>73.92</td>\n",
       "    </tr>\n",
       "    <tr>\n",
       "      <th>2018-01-16</th>\n",
       "      <td>5.31006</td>\n",
       "      <td>73.42</td>\n",
       "    </tr>\n",
       "  </tbody>\n",
       "</table>\n",
       "</div>"
      ],
      "text/plain": [
       "           strategy benchmark\n",
       "Date                         \n",
       "2018-01-02        0         0\n",
       "2018-01-03        0     34.14\n",
       "2018-01-04        0   38.0601\n",
       "2018-01-05        0     53.89\n",
       "2018-01-08        0      58.6\n",
       "2018-01-09        0     57.92\n",
       "2018-01-10  5.51001     54.27\n",
       "2018-01-11  8.42004   57.1801\n",
       "2018-01-12  5.31006     73.92\n",
       "2018-01-16  5.31006     73.42"
      ]
     },
     "execution_count": 58,
     "metadata": {},
     "output_type": "execute_result"
    }
   ],
   "source": [
    "# Build a performance data frame to display the returns from the strategy and benchmark\n",
    "performance = pd.DataFrame(index=trading_model.index)\n",
    "performance['strategy'] = portfolio['accumu_return']\n",
    "performance['benchmark'] = benchmark['accumu_return']\n",
    "\n",
    "performance.head(10)"
   ]
  },
  {
   "cell_type": "code",
   "execution_count": 59,
   "metadata": {},
   "outputs": [
    {
     "name": "stdout",
     "output_type": "stream",
     "text": [
      "The accumulated return/loss from the trading strategy: -4.57 percent\n",
      "The accumulated return/loss from the long-only benchmark: -0.56 percent\n"
     ]
    }
   ],
   "source": [
    "print('The accumulated return/loss from the trading strategy: %.2f percent' % (performance.iloc[-1]['strategy'] / initial_capital * 100))\n",
    "print('The accumulated return/loss from the long-only benchmark: %.2f percent' % (performance.iloc[-1]['benchmark'] / initial_capital * 100))"
   ]
  },
  {
   "cell_type": "code",
   "execution_count": 60,
   "metadata": {},
   "outputs": [
    {
     "data": {
      "image/png": "[encoded data removed]",
      "text/plain": [
       "<Figure size 1152x648 with 1 Axes>"
      ]
     },
     "metadata": {},
     "output_type": "display_data"
    }
   ],
   "source": [
    "title_string = 'Trading Strategy vs. Long-Only Benchmark for ' + stock_symbol\n",
    "performance[['strategy','benchmark']].plot(figsize=(16,9), title=title_string)\n",
    "plt.show()"
   ]
  },
  {
   "cell_type": "code",
   "execution_count": 61,
   "metadata": {},
   "outputs": [],
   "source": [
    "if notifyStatus: email_notify(\"Task 5. Evaluate Performance completed! \"+datetime.now().strftime('%a %B %d, %Y %I:%M:%S %p'))"
   ]
  },
  {
   "cell_type": "code",
   "execution_count": 62,
   "metadata": {},
   "outputs": [
    {
     "name": "stdout",
     "output_type": "stream",
     "text": [
      "Total time for the script: 0:00:10.966507\n"
     ]
    }
   ],
   "source": [
    "print ('Total time for the script:',(datetime.now() - startTimeScript))"
   ]
  }
 ],
 "metadata": {
  "colab": {
   "collapsed_sections": [],
   "name": "Algotrading_Datasources.ipynb",
   "provenance": [],
   "version": "0.3.2"
  },
  "kernelspec": {
   "display_name": "Python 3",
   "language": "python",
   "name": "python3"
  },
  "language_info": {
   "codemirror_mode": {
    "name": "ipython",
    "version": 3
   },
   "file_extension": ".py",
   "mimetype": "text/x-python",
   "name": "python",
   "nbconvert_exporter": "python",
   "pygments_lexer": "ipython3",
   "version": "3.7.6"
  }
 },
 "nbformat": 4,
 "nbformat_minor": 4
}
