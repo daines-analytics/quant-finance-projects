{
 "cells": [
  {
   "cell_type": "markdown",
   "metadata": {
    "pycharm": {
     "name": "#%% md\n"
    }
   },
   "source": [
    "# Algorithmic Trading Model with ML4T SEC's EDGAR Filing Examples¶\n",
    "### David Lowe¶\n",
    "### June 29, 2022¶\n",
    "\n",
    "NOTE: This script is for learning purposes only and does not constitute a recommendation for buying or selling any stock mentioned in this script.\n",
    "\n",
    "SUMMARY: This project aims to construct and test an algorithmic trading model and document the end-to-end steps using a template.\n",
    "\n",
    "INTRODUCTION: This script aims to replicate the examples found in chapter one of the book Machine Learning for Algorithmic Trading by Stefan Jansen. The script seeks to validate further the Python environment and package requirements for running these code examples. The eventual goal is to integrate various example code segments into an end-to-end algorithmic trading system.\n",
    "\n",
    "Dataset ML Model: Time series analysis with numerical attributes\n",
    "\n",
    "Dataset Used: US Public Company Filing Hosted by SEC's EDGAR Service\n",
    "\n",
    "Source and Further Discussion of the Code Examples: https://www.ml4trading.io/chapter/1"
   ]
  },
  {
   "cell_type": "code",
   "execution_count": 1,
   "metadata": {
    "ExecuteTime": {
     "end_time": "2021-06-07T15:44:09.848255Z",
     "start_time": "2021-06-07T15:44:09.846445Z"
    },
    "pycharm": {
     "name": "#%%\n"
    }
   },
   "outputs": [],
   "source": [
    "import warnings\n",
    "warnings.filterwarnings('ignore')"
   ]
  },
  {
   "cell_type": "code",
   "execution_count": 2,
   "metadata": {
    "ExecuteTime": {
     "end_time": "2021-06-07T15:44:10.347273Z",
     "start_time": "2021-06-07T15:44:09.849525Z"
    },
    "scrolled": true,
    "pycharm": {
     "name": "#%%\n"
    }
   },
   "outputs": [],
   "source": [
    "%matplotlib inline\n",
    "\n",
    "import os\n",
    "from dotenv import load_dotenv\n",
    "from pathlib import Path\n",
    "from datetime import date\n",
    "import json\n",
    "from io import BytesIO\n",
    "from zipfile import ZipFile, BadZipFile\n",
    "from tqdm import tqdm\n",
    "import requests\n",
    "\n",
    "import pandas_datareader.data as web\n",
    "import pandas as pd\n",
    "\n",
    "from pprint import pprint\n",
    "\n",
    "import seaborn as sns\n",
    "import matplotlib.pyplot as plt\n",
    "import matplotlib.ticker as mticker"
   ]
  },
  {
   "cell_type": "code",
   "execution_count": 3,
   "outputs": [
    {
     "data": {
      "text/plain": "True"
     },
     "execution_count": 3,
     "metadata": {},
     "output_type": "execute_result"
    }
   ],
   "source": [
    "# Set up the dotenv file for retrieving environment variables\n",
    "env_path = \"/Users/david/PycharmProjects/ml4tVenv/\"\n",
    "dotenv_path = env_path + \"ml4t.env\"\n",
    "load_dotenv(dotenv_path=dotenv_path)"
   ],
   "metadata": {
    "collapsed": false,
    "pycharm": {
     "name": "#%%\n"
    }
   }
  },
  {
   "cell_type": "code",
   "execution_count": 4,
   "metadata": {
    "ExecuteTime": {
     "end_time": "2021-06-07T15:44:10.349927Z",
     "start_time": "2021-06-07T15:44:10.348221Z"
    },
    "scrolled": true,
    "pycharm": {
     "name": "#%%\n"
    }
   },
   "outputs": [],
   "source": [
    "sns.set_style('whitegrid')"
   ]
  },
  {
   "cell_type": "code",
   "execution_count": 5,
   "metadata": {
    "ExecuteTime": {
     "end_time": "2021-06-07T15:44:10.360919Z",
     "start_time": "2021-06-07T15:44:10.350732Z"
    },
    "pycharm": {
     "name": "#%%\n"
    }
   },
   "outputs": [],
   "source": [
    "# store data in this directory since we won't use it in other chapters\n",
    "data_path = Path('data') # perhaps set to external harddrive to accomodate large amount of data\n",
    "if not data_path.exists():\n",
    "    data_path.mkdir()"
   ]
  },
  {
   "cell_type": "markdown",
   "metadata": {
    "pycharm": {
     "name": "#%% md\n"
    }
   },
   "source": [
    "## Download FS & Notes Data"
   ]
  },
  {
   "cell_type": "markdown",
   "metadata": {
    "pycharm": {
     "name": "#%% md\n"
    }
   },
   "source": [
    "The following code downloads and extracts all historical filings contained in the [Financial Statement and Notes](https://www.sec.gov/dera/data/financial-statement-and-notes-data-set.html) (FSN) datasets from Q1/2018 through Q4/2020.\n",
    "\n",
    "> The SEC has moved to a monthly cadence after Q3/2020; feel free to extend the code by creating the correpsonding file names (see linked website) and download those as well."
   ]
  },
  {
   "cell_type": "markdown",
   "metadata": {
    "pycharm": {
     "name": "#%% md\n"
    }
   },
   "source": [
    "**Downloads over 10GB of data for just one year!**"
   ]
  },
  {
   "cell_type": "code",
   "execution_count": 6,
   "metadata": {
    "ExecuteTime": {
     "end_time": "2021-06-07T15:44:10.375969Z",
     "start_time": "2021-06-07T15:44:10.361753Z"
    },
    "pycharm": {
     "name": "#%%\n"
    }
   },
   "outputs": [],
   "source": [
    "SEC_URL = 'https://www.sec.gov/'\n",
    "FSN_PATH = 'files/dera/data/financial-statement-and-notes-data-sets/'"
   ]
  },
  {
   "cell_type": "code",
   "execution_count": 7,
   "metadata": {
    "ExecuteTime": {
     "end_time": "2021-06-07T15:44:10.403299Z",
     "start_time": "2021-06-07T15:44:10.380518Z"
    },
    "pycharm": {
     "name": "#%%\n"
    }
   },
   "outputs": [
    {
     "data": {
      "text/plain": "[(2020, 1), (2020, 2), (2020, 3), (2020, 4)]"
     },
     "execution_count": 7,
     "metadata": {},
     "output_type": "execute_result"
    }
   ],
   "source": [
    "filing_periods = [(d.year, d.quarter) for d in pd.date_range('2020', '2020-12-31', freq='Q')]\n",
    "filing_periods"
   ]
  },
  {
   "cell_type": "code",
   "execution_count": 8,
   "metadata": {
    "ExecuteTime": {
     "end_time": "2021-06-07T16:04:14.923208Z",
     "start_time": "2021-06-07T15:44:10.408096Z"
    },
    "pycharm": {
     "name": "#%%\n"
    }
   },
   "outputs": [
    {
     "name": "stderr",
     "output_type": "stream",
     "text": [
      "100%|██████████| 4/4 [01:14<00:00, 18.63s/it]\n"
     ]
    }
   ],
   "source": [
    "for yr, qtr in tqdm(filing_periods):\n",
    "    # set (and create) directory\n",
    "    path = data_path / f'{yr}_{qtr}' / 'source'\n",
    "    if not path.exists():\n",
    "        path.mkdir(parents=True)\n",
    "    \n",
    "    # define url and get file\n",
    "    filing = f'{yr}q{qtr}_notes.zip'\n",
    "    url = SEC_URL + FSN_PATH + filing\n",
    "    response = requests.get(url).content\n",
    "    \n",
    "    # decompress and save\n",
    "    try:\n",
    "        with ZipFile(BytesIO(response)) as zip_file:\n",
    "            for file in zip_file.namelist():\n",
    "                local_file = path / file\n",
    "                if local_file.exists():\n",
    "                    continue\n",
    "                with local_file.open('wb') as output:\n",
    "                    for line in zip_file.open(file).readlines():\n",
    "                        output.write(line)\n",
    "    except BadZipFile:\n",
    "        print(f'\\nBad zip file: {yr} {qtr}\\n')\n",
    "        continue"
   ]
  },
  {
   "cell_type": "markdown",
   "metadata": {
    "pycharm": {
     "name": "#%% md\n"
    }
   },
   "source": [
    "## Save to parquet"
   ]
  },
  {
   "cell_type": "markdown",
   "metadata": {
    "pycharm": {
     "name": "#%% md\n"
    }
   },
   "source": [
    "The data is fairly large and to enable faster access than the original text files permit, it is better to convert the text files to binary, columnar parquet format (see Section 'Efficient data storage with pandas' in chapter 2 for a performance comparison of various data-storage options compatible with pandas DataFrames):"
   ]
  },
  {
   "cell_type": "markdown",
   "metadata": {
    "pycharm": {
     "name": "#%% md\n"
    }
   },
   "source": [
    "> Some fo the `txt.tsv` source files contain a small number of faulty lines; the code below drops those lines but indicates the line numbers where you can find the errors if you would like to investigate further. "
   ]
  },
  {
   "cell_type": "code",
   "execution_count": 9,
   "metadata": {
    "ExecuteTime": {
     "end_time": "2021-06-07T16:33:26.732980Z",
     "start_time": "2021-06-07T16:23:56.425987Z"
    },
    "scrolled": true,
    "pycharm": {
     "name": "#%%\n"
    }
   },
   "outputs": [
    {
     "name": "stderr",
     "output_type": "stream",
     "text": [
      "100%|██████████| 32/32 [00:00<00:00, 7997.72it/s]\n"
     ]
    }
   ],
   "source": [
    "for f in tqdm(sorted(list(data_path.glob('**/*.tsv')))):\n",
    "    # set (and create) directory\n",
    "    parquet_path = f.parent.parent / 'parquet'\n",
    "    if not parquet_path.exists():\n",
    "        parquet_path.mkdir(parents=True)    \n",
    "\n",
    "    # write content to .parquet\n",
    "    file_name = f.stem  + '.parquet'\n",
    "    if not (parquet_path / file_name).exists():\n",
    "        try:\n",
    "            df = pd.read_csv(f, sep='\\t', encoding='latin1', low_memory=False, error_bad_lines=False)\n",
    "            df.to_parquet(parquet_path / file_name)\n",
    "        except Exception as e:\n",
    "            print(e, ' | ', f)\n",
    "        # optional: uncomment to delete original .tsv\n",
    "#         else:\n",
    "            # f.unlink"
   ]
  },
  {
   "cell_type": "markdown",
   "metadata": {
    "pycharm": {
     "name": "#%% md\n"
    }
   },
   "source": [
    "## Metadata json"
   ]
  },
  {
   "cell_type": "code",
   "execution_count": 10,
   "metadata": {
    "ExecuteTime": {
     "end_time": "2021-06-07T16:33:43.526377Z",
     "start_time": "2021-06-07T16:33:43.368436Z"
    },
    "scrolled": true,
    "pycharm": {
     "name": "#%%\n"
    }
   },
   "outputs": [
    {
     "name": "stdout",
     "output_type": "stream",
     "text": [
      "{'@context': 'http://www.w3.org/ns/csvw',\n",
      " 'dialect': {'delimiter': '\\t', 'header': True, 'headerRowCount': 1},\n",
      " 'tables': [{'tableSchema': {'aboutUrl': 'readme.htm',\n",
      "                             'columns': [{'datatype': {'base': 'string',\n",
      "                                                       'maxLength': 20,\n",
      "                                                       'minLength': 20},\n",
      "                                          'dc:description': 'Accession Number. '\n",
      "                                                            'The 20-character '\n",
      "                                                            'string formed '\n",
      "                                                            'from the 18-digit '\n",
      "                                                            'number assigned '\n",
      "                                                            'by the Commission '\n",
      "                                                            'to each EDGAR '\n",
      "                                                            'submission.',\n",
      "                                          'name': 'adsh',\n",
      "                                          'required': 'true',\n",
      "                                          'titles': ['Accession Number']},\n",
      "                                         {'datatype': {'base': 'decimal',\n",
      "                                                       'maxLength': 10,\n",
      "                                                       'minInclusive': 0},\n",
      "                                          'dc:description': 'Central Index Key '\n",
      "                                                            '(CIK). Ten digit '\n",
      "                                                            'number assigned '\n",
      "                                                            'by the Commission '\n",
      "                                                            'to each '\n",
      "                                                            'registrant that '\n",
      "                                                            'submits filings.',\n",
      "                                          'name': 'cik',\n",
      "                                          'titles': ['Central Index Key']},\n",
      "                                         {'datatype': {'base': 'string',\n",
      "                                                       'maxLength': 150},\n",
      "                                          'dc:description': 'Name of '\n",
      "                                                            'registrant. This '\n",
      "                                                            'corresponds to '\n",
      "                                                            'the name of the '\n",
      "                                                            'legal entity as '\n",
      "                                                            'recorded in EDGAR '\n",
      "                                                            'as of the filing '\n",
      "                                                            'date.',\n",
      "                                          'name': 'name',\n",
      "                                          'titles': ['Registrant']},\n",
      "                                         {'datatype': {'base': 'string',\n",
      "                                                       'maxLength': 4},\n",
      "                                          'dc:description': 'Standard '\n",
      "                                                            'Industrial '\n",
      "                                                            'Classification '\n",
      "                                                            '(SIC). Four digit '\n",
      "                                                            'code assigned by '\n",
      "                                                            'the Commission as '\n",
      "                                                            'of the filing '\n",
      "                                                            'date, indicating '\n",
      "                                                            \"the registrant's \"\n",
      "                                                            'type of business.',\n",
      "                                          'name': 'sic',\n",
      "                                          'titles': ['Standard Industrial '\n",
      "                                                     'Classification Code']},\n",
      "                                         {'datatype': {'base': 'string',\n",
      "                                                       'maxLength': 2,\n",
      "                                                       'minLength': 2},\n",
      "                                          'dc:description': 'The ISO 3166-1 '\n",
      "                                                            'country of the '\n",
      "                                                            \"registrant's \"\n",
      "                                                            'business address.',\n",
      "                                          'name': 'countryba',\n",
      "                                          'titles': ['Business Address Country',\n",
      "                                                     'Country (B)']},\n",
      "                                         {'datatype': {'base': 'string',\n",
      "                                                       'maxLength': 2,\n",
      "                                                       'minLength': 2},\n",
      "                                          'dc:description': 'The state or '\n",
      "                                                            'province of the '\n",
      "                                                            \"registrant's \"\n",
      "                                                            'business address, '\n",
      "                                                            'if field '\n",
      "                                                            'countryba is US '\n",
      "                                                            'or CA.',\n",
      "                                          'name': 'stprba',\n",
      "                                          'titles': ['Business Address State '\n",
      "                                                     'or Province',\n",
      "                                                     'State (B)']},\n",
      "                                         {'datatype': {'base': 'string',\n",
      "                                                       'maxLength': 30},\n",
      "                                          'dc:description': 'The city of the '\n",
      "                                                            \"registrant's \"\n",
      "                                                            'business address.',\n",
      "                                          'name': 'cityba',\n",
      "                                          'titles': ['Business Address City',\n",
      "                                                     'City (B)']},\n",
      "                                         {'datatype': {'base': 'string',\n",
      "                                                       'maxLength': 10},\n",
      "                                          'dc:description': 'The zip code of '\n",
      "                                                            \"the registrant's \"\n",
      "                                                            'business address.',\n",
      "                                          'name': 'zipba',\n",
      "                                          'titles': ['Business Address Zip or '\n",
      "                                                     'Postal Code',\n",
      "                                                     'Zip (B)']},\n",
      "                                         {'datatype': {'base': 'string',\n",
      "                                                       'maxLength': 40},\n",
      "                                          'dc:description': 'The first line of '\n",
      "                                                            'the street of the '\n",
      "                                                            \"registrant's \"\n",
      "                                                            'business address.',\n",
      "                                          'name': 'bas1',\n",
      "                                          'titles': ['Business Address Street '\n",
      "                                                     '1',\n",
      "                                                     'Street1 (B)']},\n",
      "                                         {'datatype': {'base': 'string',\n",
      "                                                       'maxLength': 40},\n",
      "                                          'dc:description': 'The second line '\n",
      "                                                            'of the street of '\n",
      "                                                            \"the registrant's \"\n",
      "                                                            'business address.',\n",
      "                                          'name': 'bas2',\n",
      "                                          'titles': ['Business Address Street '\n",
      "                                                     '2',\n",
      "                                                     'Street2 (B)']},\n",
      "                                         {'datatype': {'base': 'string',\n",
      "                                                       'maxLength': 20},\n",
      "                                          'dc:description': 'The phone number '\n",
      "                                                            'of the '\n",
      "                                                            \"registrant's \"\n",
      "                                                            'business address.',\n",
      "                                          'name': 'baph',\n",
      "                                          'titles': ['Business Address Phone',\n",
      "                                                     'Phone (B)']},\n",
      "                                         {'datatype': {'base': 'string',\n",
      "                                                       'maxLength': 2,\n",
      "                                                       'minLength': 2},\n",
      "                                          'dc:description': 'The ISO 3166-1 '\n",
      "                                                            'country of the '\n",
      "                                                            \"registrant's \"\n",
      "                                                            'mailing address.',\n",
      "                                          'name': 'countryma',\n",
      "                                          'titles': ['Mailing Address Country',\n",
      "                                                     'Country (M)']},\n",
      "                                         {'datatype': {'base': 'string',\n",
      "                                                       'maxLength': 2,\n",
      "                                                       'minLength': 2},\n",
      "                                          'dc:description': 'The state or '\n",
      "                                                            'province of the '\n",
      "                                                            \"registrant's \"\n",
      "                                                            'mailing address, '\n",
      "                                                            'if field '\n",
      "                                                            'countryma is US '\n",
      "                                                            'or CA.',\n",
      "                                          'name': 'stprma',\n",
      "                                          'titles': ['Mailing Address State or '\n",
      "                                                     'Province',\n",
      "                                                     'State (M)']},\n",
      "                                         {'datatype': {'base': 'string',\n",
      "                                                       'maxLength': 30},\n",
      "                                          'dc:description': 'The city of the '\n",
      "                                                            \"registrant's \"\n",
      "                                                            'mailing address.',\n",
      "                                          'name': 'cityma',\n",
      "                                          'titles': ['Mailing Address City',\n",
      "                                                     'City (M)']},\n",
      "                                         {'datatype': {'base': 'string',\n",
      "                                                       'maxLength': 12},\n",
      "                                          'dc:description': 'The zip code of '\n",
      "                                                            \"the registrant's \"\n",
      "                                                            'mailing address.',\n",
      "                                          'name': 'zipma',\n",
      "                                          'titles': ['Mailing Address Zip or '\n",
      "                                                     'Postal Code',\n",
      "                                                     'Zip (M)']},\n",
      "                                         {'datatype': {'base': 'string',\n",
      "                                                       'maxLength': 40},\n",
      "                                          'dc:description': 'The first line of '\n",
      "                                                            'the street of the '\n",
      "                                                            \"registrant's \"\n",
      "                                                            'mailing address.',\n",
      "                                          'name': 'mas1',\n",
      "                                          'titles': ['Mailing Address Street1',\n",
      "                                                     'Street1 (M)']},\n",
      "                                         {'datatype': {'base': 'string',\n",
      "                                                       'maxLength': 40},\n",
      "                                          'dc:description': 'The second line '\n",
      "                                                            'of the street of '\n",
      "                                                            \"the registrant's \"\n",
      "                                                            'mailing address.',\n",
      "                                          'name': 'mas2',\n",
      "                                          'titles': ['Mailing Address Street2',\n",
      "                                                     'Street1 (M)']},\n",
      "                                         {'datatype': {'base': 'string',\n",
      "                                                       'maxLength': 2,\n",
      "                                                       'minLength': 2},\n",
      "                                          'dc:description': 'The country of '\n",
      "                                                            'incorporation for '\n",
      "                                                            'the registrant.',\n",
      "                                          'name': 'countryinc',\n",
      "                                          'titles': ['Country of Incorporation',\n",
      "                                                     'Incorporation Country']},\n",
      "                                         {'datatype': {'base': 'string',\n",
      "                                                       'maxLength': 2,\n",
      "                                                       'minLength': 2},\n",
      "                                          'dc:description': 'The state or '\n",
      "                                                            'province of '\n",
      "                                                            'incorporation for '\n",
      "                                                            'the registrant, '\n",
      "                                                            'if countryinc is '\n",
      "                                                            'US or CA, '\n",
      "                                                            'otherwise NULL.',\n",
      "                                          'name': 'stprinc',\n",
      "                                          'titles': ['State or Province of '\n",
      "                                                     'Incorporation',\n",
      "                                                     'Incorporation State']},\n",
      "                                         {'datatype': {'base': 'string',\n",
      "                                                       'maxLength': 9},\n",
      "                                          'dc:description': 'Employee '\n",
      "                                                            'Identification '\n",
      "                                                            'Number, 9 digit '\n",
      "                                                            'identification '\n",
      "                                                            'number assigned '\n",
      "                                                            'by the Internal '\n",
      "                                                            'Revenue Service '\n",
      "                                                            'to business '\n",
      "                                                            'entities '\n",
      "                                                            'operating in the '\n",
      "                                                            'United States.',\n",
      "                                          'name': 'ein',\n",
      "                                          'titles': ['EIN',\n",
      "                                                     'Employee Identification '\n",
      "                                                     'Number']},\n",
      "                                         {'datatype': {'base': 'string',\n",
      "                                                       'maxLength': 150},\n",
      "                                          'dc:description': 'Most recent '\n",
      "                                                            'former name of '\n",
      "                                                            'the registrant, '\n",
      "                                                            'if any.',\n",
      "                                          'name': 'former',\n",
      "                                          'titles': ['Former Name']},\n",
      "                                         {'datatype': {'base': 'string',\n",
      "                                                       'maxLength': 8,\n",
      "                                                       'minLength': 8},\n",
      "                                          'dc:description': 'Date of change '\n",
      "                                                            'from the former '\n",
      "                                                            'name, if any.',\n",
      "                                          'name': 'changed',\n",
      "                                          'titles': ['Date of Name Change']},\n",
      "                                         {'datatype': {'base': 'string',\n",
      "                                                       'maxLength': 5},\n",
      "                                          'dc:description': 'Filer status with '\n",
      "                                                            'the Commission at '\n",
      "                                                            'the time of '\n",
      "                                                            'submission: '\n",
      "                                                            '1-LAF=Large '\n",
      "                                                            'Accelerated, '\n",
      "                                                            '2-ACC=Accelerated, '\n",
      "                                                            '3-SRA=Smaller '\n",
      "                                                            'Reporting '\n",
      "                                                            'Accelerated, '\n",
      "                                                            '4-NON=Non-Accelerated, '\n",
      "                                                            '5-SML=Smaller '\n",
      "                                                            'Reporting Filer, '\n",
      "                                                            'NULL=not '\n",
      "                                                            'assigned.',\n",
      "                                          'name': 'afs',\n",
      "                                          'titles': ['Status',\n",
      "                                                     'Accelerated Filer '\n",
      "                                                     'Status']},\n",
      "                                         {'datatype': {'base': 'decimal',\n",
      "                                                       'maxInclusive': 1,\n",
      "                                                       'minInclusive': 0},\n",
      "                                          'dc:description': 'Well Known '\n",
      "                                                            'Seasoned Issuer '\n",
      "                                                            '(WKSI). An issuer '\n",
      "                                                            'that meets '\n",
      "                                                            'specific '\n",
      "                                                            'Commission '\n",
      "                                                            'requirements at '\n",
      "                                                            'some point during '\n",
      "                                                            'a 60-day period '\n",
      "                                                            'preceding the '\n",
      "                                                            'date the issuer '\n",
      "                                                            'satisfies its '\n",
      "                                                            'obligation to '\n",
      "                                                            'update its shelf '\n",
      "                                                            'registration '\n",
      "                                                            'statement.',\n",
      "                                          'name': 'wksi',\n",
      "                                          'titles': ['Well-known Seasoned '\n",
      "                                                     'Issuer']},\n",
      "                                         {'datatype': {'base': 'string',\n",
      "                                                       'maxLength': 4},\n",
      "                                          'dc:description': 'Fiscal Year End '\n",
      "                                                            'Date, rounded to '\n",
      "                                                            'nearest '\n",
      "                                                            'month-end.',\n",
      "                                          'name': 'fye',\n",
      "                                          'titles': ['FY End Date']},\n",
      "                                         {'datatype': {'base': 'string',\n",
      "                                                       'maxLength': 20},\n",
      "                                          'dc:description': 'The submission '\n",
      "                                                            'type of the '\n",
      "                                                            \"registrant's \"\n",
      "                                                            'filing.',\n",
      "                                          'name': 'form',\n",
      "                                          'titles': ['Submission Type',\n",
      "                                                     'Filing Type',\n",
      "                                                     'EDGAR Form Type']},\n",
      "                                         {'datatype': {'base': 'string',\n",
      "                                                       'maxLength': 8,\n",
      "                                                       'minLength': 8},\n",
      "                                          'dc:description': 'Balance Sheet '\n",
      "                                                            'Date.',\n",
      "                                          'name': 'period',\n",
      "                                          'titles': ['Report Period',\n",
      "                                                     'Date of Balance Sheet, '\n",
      "                                                     'rounded to nearest '\n",
      "                                                     'month-end']},\n",
      "                                         {'datatype': {'base': 'string',\n",
      "                                                       'maxLength': 4,\n",
      "                                                       'minLength': 4},\n",
      "                                          'dc:description': 'Fiscal Year Focus '\n",
      "                                                            '(as defined in '\n",
      "                                                            'EFM Ch. 6).',\n",
      "                                          'name': 'fy',\n",
      "                                          'titles': ['Fiscal Year']},\n",
      "                                         {'datatype': {'base': 'string',\n",
      "                                                       'maxLength': 2,\n",
      "                                                       'minLength': 2},\n",
      "                                          'dc:description': 'Fiscal Period '\n",
      "                                                            'Focus (as defined '\n",
      "                                                            'in EFM Ch. 6) '\n",
      "                                                            'within Fiscal '\n",
      "                                                            'Year. The 10-Q '\n",
      "                                                            'for the 1st, 2nd '\n",
      "                                                            'and 3rd quarters '\n",
      "                                                            'would have a '\n",
      "                                                            'fiscal period '\n",
      "                                                            'focus of Q1, Q2 '\n",
      "                                                            '(or H1), and Q3 '\n",
      "                                                            '(or M9) '\n",
      "                                                            'respectively, and '\n",
      "                                                            'a 10-K would have '\n",
      "                                                            'a fiscal period '\n",
      "                                                            'focus of FY.',\n",
      "                                          'name': 'fp',\n",
      "                                          'titles': ['Fiscal Period']},\n",
      "                                         {'datatype': {'base': 'string',\n",
      "                                                       'maxLength': 8},\n",
      "                                          'dc:description': 'The date of the '\n",
      "                                                            \"registrant's \"\n",
      "                                                            'filing with the '\n",
      "                                                            'Commission.',\n",
      "                                          'name': 'filed',\n",
      "                                          'titles': ['Date Filed']},\n",
      "                                         {'datatype': {'base': 'date',\n",
      "                                                       'format': 'YYYYMMDD '\n",
      "                                                                 'HH:MM:SS.S'},\n",
      "                                          'dc:description': 'The acceptance '\n",
      "                                                            'date and time of '\n",
      "                                                            \"the registrant's \"\n",
      "                                                            'filing with the '\n",
      "                                                            'Commission. '\n",
      "                                                            'Filings accepted '\n",
      "                                                            'after 5:30pm EST '\n",
      "                                                            'are considered '\n",
      "                                                            'filed on the '\n",
      "                                                            'following '\n",
      "                                                            'business day.',\n",
      "                                          'name': 'accepted',\n",
      "                                          'titles': ['Acceptance Datetime']},\n",
      "                                         {'datatype': {'base': 'decimal',\n",
      "                                                       'maxInclusive': 255,\n",
      "                                                       'minInclusive': 0},\n",
      "                                          'dc:description': 'Previous Report.  '\n",
      "                                                            'TRUE indicates '\n",
      "                                                            'that the '\n",
      "                                                            'submission '\n",
      "                                                            'information was '\n",
      "                                                            'subsequently '\n",
      "                                                            'amended prior to '\n",
      "                                                            'the end cutoff '\n",
      "                                                            'date of the data '\n",
      "                                                            'set.',\n",
      "                                          'name': 'prevrpt',\n",
      "                                          'required': 'true',\n",
      "                                          'titles': ['Previous Report Flag',\n",
      "                                                     'Subsequently Amended '\n",
      "                                                     'Flag']},\n",
      "                                         {'datatype': {'base': 'decimal',\n",
      "                                                       'maxInclusive': 255,\n",
      "                                                       'minInclusive': 0},\n",
      "                                          'dc:description': 'TRUE indicates '\n",
      "                                                            'that the XBRL '\n",
      "                                                            'submission '\n",
      "                                                            'contains '\n",
      "                                                            'quantitative '\n",
      "                                                            'disclosures '\n",
      "                                                            'within the '\n",
      "                                                            'footnotes and '\n",
      "                                                            'schedules at the '\n",
      "                                                            'required detail '\n",
      "                                                            'level (e.g., each '\n",
      "                                                            'amount).',\n",
      "                                          'name': 'detail',\n",
      "                                          'required': 'true',\n",
      "                                          'titles': ['Detail Tagged']},\n",
      "                                         {'datatype': {'base': 'string',\n",
      "                                                       'maxLength': 32},\n",
      "                                          'dc:description': 'The name of the '\n",
      "                                                            'submitted XBRL '\n",
      "                                                            'Instance Document '\n",
      "                                                            '(EX-101.INS) type '\n",
      "                                                            'data file. The '\n",
      "                                                            'name often begins '\n",
      "                                                            'with the company '\n",
      "                                                            'ticker symbol.',\n",
      "                                          'name': 'instance',\n",
      "                                          'titles': ['Instance Filename']},\n",
      "                                         {'datatype': {'base': 'decimal',\n",
      "                                                       'maxInclusive': 32767,\n",
      "                                                       'minInclusive': 0},\n",
      "                                          'dc:description': 'Number of Central '\n",
      "                                                            'Index Keys (CIK) '\n",
      "                                                            'of registrants '\n",
      "                                                            '(i.e., business '\n",
      "                                                            'units) included '\n",
      "                                                            'in the '\n",
      "                                                            'consolidating '\n",
      "                                                            \"entity's \"\n",
      "                                                            'submitted filing.',\n",
      "                                          'name': 'nciks',\n",
      "                                          'required': 'true',\n",
      "                                          'titles': ['Number of '\n",
      "                                                     'Coregistrants']},\n",
      "                                         {'datatype': {'base': 'string',\n",
      "                                                       'maxLength': 120},\n",
      "                                          'dc:description': 'Additional CIKs '\n",
      "                                                            'of co-registrants '\n",
      "                                                            'included in a '\n",
      "                                                            'consolidating '\n",
      "                                                            \"entity's EDGAR \"\n",
      "                                                            'submission, '\n",
      "                                                            'separated by '\n",
      "                                                            'spaces. If there '\n",
      "                                                            'are no other '\n",
      "                                                            'co-registrants '\n",
      "                                                            '(i.e., nciks = '\n",
      "                                                            '1), the value of '\n",
      "                                                            'aciks is NULL. '\n",
      "                                                            'For a very small '\n",
      "                                                            'number of filers, '\n",
      "                                                            'the list of '\n",
      "                                                            'co-registrants is '\n",
      "                                                            'too long to fit '\n",
      "                                                            'in the field. '\n",
      "                                                            'Where this is the '\n",
      "                                                            'case, PARTIAL '\n",
      "                                                            'will appear at '\n",
      "                                                            'the end of the '\n",
      "                                                            'list indicating '\n",
      "                                                            'that not all '\n",
      "                                                            \"co-registrants' \"\n",
      "                                                            'CIKs are included '\n",
      "                                                            'in the field; '\n",
      "                                                            'users should '\n",
      "                                                            'refer to the '\n",
      "                                                            'complete '\n",
      "                                                            'submission file '\n",
      "                                                            'for all CIK '\n",
      "                                                            'information.',\n",
      "                                          'name': 'aciks',\n",
      "                                          'titles': ['Additional Coregistrant '\n",
      "                                                     'CIKs']},\n",
      "                                         {'datatype': {'base': 'decimal'},\n",
      "                                          'dc:description': 'Public float, in '\n",
      "                                                            'USD, if provided '\n",
      "                                                            'in this '\n",
      "                                                            'submission.',\n",
      "                                          'name': 'pubfloatusd',\n",
      "                                          'titles': ['Public Float']},\n",
      "                                         {'datatype': {'base': 'string',\n",
      "                                                       'maxLength': 8},\n",
      "                                          'dc:description': 'Date on which the '\n",
      "                                                            'public float was '\n",
      "                                                            'measured by the '\n",
      "                                                            'filer.',\n",
      "                                          'name': 'floatdate',\n",
      "                                          'titles': ['Public Float Measurement '\n",
      "                                                     'Date']},\n",
      "                                         {'datatype': {'base': 'string',\n",
      "                                                       'maxLength': 255},\n",
      "                                          'dc:description': 'If the public '\n",
      "                                                            'float value was '\n",
      "                                                            'computed by '\n",
      "                                                            'summing across '\n",
      "                                                            'several tagged '\n",
      "                                                            'values, this '\n",
      "                                                            'indicates the '\n",
      "                                                            'nature of the '\n",
      "                                                            'summation.',\n",
      "                                          'name': 'floataxis',\n",
      "                                          'titles': ['Public Float Axis']},\n",
      "                                         {'datatype': {'base': 'decimal',\n",
      "                                                       'maxInclusive': 255,\n",
      "                                                       'minInclusive': 0},\n",
      "                                          'dc:description': 'If the public '\n",
      "                                                            'float was '\n",
      "                                                            'computed, the '\n",
      "                                                            'number of terms '\n",
      "                                                            'in the summation.',\n",
      "                                          'name': 'floatmems',\n",
      "                                          'titles': ['Public Float Members']}],\n",
      "                             'primaryKey': 'adsh'},\n",
      "             'url': 'sub.tsv'},\n",
      "            {'tableSchema': {'aboutUrl': 'readme.htm',\n",
      "                             'columns': [{'datatype': {'base': 'string',\n",
      "                                                       'maxLength': 256},\n",
      "                                          'dc:description': 'The unique '\n",
      "                                                            'identifier (name) '\n",
      "                                                            'for a tag in a '\n",
      "                                                            'specific taxonomy '\n",
      "                                                            'release.',\n",
      "                                          'name': 'tag',\n",
      "                                          'required': 'true',\n",
      "                                          'titles': ['Localname']},\n",
      "                                         {'datatype': {'base': 'string',\n",
      "                                                       'maxLength': 20},\n",
      "                                          'dc:description': 'For a standard '\n",
      "                                                            'tag, an '\n",
      "                                                            'identifier for '\n",
      "                                                            'the taxonomy; '\n",
      "                                                            'otherwise the '\n",
      "                                                            'accession number '\n",
      "                                                            'where the tag was '\n",
      "                                                            'defined.',\n",
      "                                          'name': 'version',\n",
      "                                          'required': 'true',\n",
      "                                          'titles': ['Namespace', 'Taxonomy']},\n",
      "                                         {'datatype': {'base': 'decimal',\n",
      "                                                       'maxInclusive': 1,\n",
      "                                                       'minInclusive': 0},\n",
      "                                          'dc:description': '1 if tag is '\n",
      "                                                            'custom '\n",
      "                                                            '(version=adsh), 0 '\n",
      "                                                            'if it is '\n",
      "                                                            'standard. Note: '\n",
      "                                                            'This flag is '\n",
      "                                                            'technically '\n",
      "                                                            'redundant with '\n",
      "                                                            'the version and '\n",
      "                                                            'adsh fields.',\n",
      "                                          'name': 'custom',\n",
      "                                          'required': 'true',\n",
      "                                          'titles': []},\n",
      "                                         {'datatype': {'base': 'decimal',\n",
      "                                                       'maxInclusive': 1,\n",
      "                                                       'minInclusive': 0},\n",
      "                                          'dc:description': '1 if the tag is '\n",
      "                                                            'not used to '\n",
      "                                                            'represent a '\n",
      "                                                            'numeric fact.',\n",
      "                                          'name': 'abstract',\n",
      "                                          'required': 'true',\n",
      "                                          'titles': []},\n",
      "                                         {'datatype': {'base': 'string',\n",
      "                                                       'maxLength': 20},\n",
      "                                          'dc:description': 'If abstract=1, '\n",
      "                                                            'then NULL, '\n",
      "                                                            'otherwise the '\n",
      "                                                            'data type (e.g., '\n",
      "                                                            'monetary) for the '\n",
      "                                                            'tag.',\n",
      "                                          'name': 'datatype',\n",
      "                                          'titles': []},\n",
      "                                         {'datatype': {'base': 'string',\n",
      "                                                       'maxLength': 1},\n",
      "                                          'dc:description': 'If abstract=1, '\n",
      "                                                            'then NULL; '\n",
      "                                                            'otherwise, I if '\n",
      "                                                            'the value is a '\n",
      "                                                            'point in time, or '\n",
      "                                                            'D if the value is '\n",
      "                                                            'a duration.',\n",
      "                                          'name': 'iord',\n",
      "                                          'titles': ['Instant or Duration']},\n",
      "                                         {'datatype': {'base': 'string',\n",
      "                                                       'maxLength': 1},\n",
      "                                          'dc:description': 'If datatype = '\n",
      "                                                            'monetary, then '\n",
      "                                                            \"the tag's natural \"\n",
      "                                                            'accounting '\n",
      "                                                            'balance from the '\n",
      "                                                            'perspective of '\n",
      "                                                            'the balance sheet '\n",
      "                                                            'or income '\n",
      "                                                            'statement (debit '\n",
      "                                                            'or credit); if '\n",
      "                                                            'not defined, then '\n",
      "                                                            'NULL.',\n",
      "                                          'name': 'crdr',\n",
      "                                          'titles': ['Credit or Debit']},\n",
      "                                         {'datatype': {'base': 'string',\n",
      "                                                       'maxLength': 512},\n",
      "                                          'dc:description': 'If a standard '\n",
      "                                                            'tag, then the '\n",
      "                                                            'label text '\n",
      "                                                            'provided by the '\n",
      "                                                            'taxonomy, '\n",
      "                                                            'otherwise the '\n",
      "                                                            'text provided by '\n",
      "                                                            'the filer. A tag '\n",
      "                                                            'which had neither '\n",
      "                                                            'would have a NULL '\n",
      "                                                            'value here.',\n",
      "                                          'name': 'tlabel',\n",
      "                                          'titles': ['Label']},\n",
      "                                         {'datatype': {'base': 'string'},\n",
      "                                          'dc:description': 'The detailed '\n",
      "                                                            'definition for '\n",
      "                                                            'the tag. If a '\n",
      "                                                            'standard tag, '\n",
      "                                                            'then the text '\n",
      "                                                            'provided by the '\n",
      "                                                            'taxonomy, '\n",
      "                                                            'otherwise the '\n",
      "                                                            'text assigned by '\n",
      "                                                            'the filer. Some '\n",
      "                                                            'tags have '\n",
      "                                                            'neither, in which '\n",
      "                                                            'case this field '\n",
      "                                                            'is NULL.',\n",
      "                                          'name': 'doc',\n",
      "                                          'titles': ['Documentation']}],\n",
      "                             'primaryKey': ['tag', 'version']},\n",
      "             'url': 'tag.tsv'},\n",
      "            {'tableSchema': {'aboutUrl': 'readme.htm',\n",
      "                             'columns': [{'datatype': {'base': 'string',\n",
      "                                                       'maxLength': 34},\n",
      "                                          'dc:description': 'MD5 hash of the '\n",
      "                                                            'segments field '\n",
      "                                                            'text. Although '\n",
      "                                                            'MD5 is unsuitable '\n",
      "                                                            'for cryptographic '\n",
      "                                                            'use, it is used '\n",
      "                                                            'here merely to '\n",
      "                                                            'limit the size of '\n",
      "                                                            'the primary key.',\n",
      "                                          'name': 'dimh',\n",
      "                                          'required': 'true',\n",
      "                                          'titles': ['Dimension Hash']},\n",
      "                                         {'datatype': {'base': 'string',\n",
      "                                                       'maxLength': 1024},\n",
      "                                          'dc:description': 'Concatenation of '\n",
      "                                                            'tag names '\n",
      "                                                            'representing the '\n",
      "                                                            'axis and members '\n",
      "                                                            'appearing in the '\n",
      "                                                            'XBRL segments. '\n",
      "                                                            'Tag names have '\n",
      "                                                            'their first '\n",
      "                                                            'characters '\n",
      "                                                            '\"Statement\", last '\n",
      "                                                            '4 characters '\n",
      "                                                            '\"Axis\", and last '\n",
      "                                                            '6 characters '\n",
      "                                                            '\"Member\" or '\n",
      "                                                            '\"Domain\" '\n",
      "                                                            'truncated where '\n",
      "                                                            'they appear. '\n",
      "                                                            'Namespaces and '\n",
      "                                                            'prefixes are '\n",
      "                                                            'ignored because '\n",
      "                                                            'EDGAR validation '\n",
      "                                                            'guarantees that '\n",
      "                                                            'the local-names '\n",
      "                                                            'are unique with a '\n",
      "                                                            'submission. Each '\n",
      "                                                            'dimension is '\n",
      "                                                            'represented as '\n",
      "                                                            'the pair '\n",
      "                                                            '\"{axis}={member};\" '\n",
      "                                                            'and the axes '\n",
      "                                                            'concatenated in '\n",
      "                                                            'lexical order. '\n",
      "                                                            'Example: '\n",
      "                                                            '\"LegalEntity=Xyz;Scenario=Restated;\" '\n",
      "                                                            'represents the '\n",
      "                                                            'XBRL segment with '\n",
      "                                                            'dimension '\n",
      "                                                            'LegalEntityAxis '\n",
      "                                                            'and member '\n",
      "                                                            'XyzMember, '\n",
      "                                                            'dimension '\n",
      "                                                            'StatementScenarioAxis '\n",
      "                                                            'and member '\n",
      "                                                            'RestatedMember.',\n",
      "                                          'name': 'segments',\n",
      "                                          'titles': []},\n",
      "                                         {'datatype': {'base': 'decimal',\n",
      "                                                       'maxInclusive': 1,\n",
      "                                                       'minInclusive': 0},\n",
      "                                          'dc:description': 'TRUE if the '\n",
      "                                                            'segments field '\n",
      "                                                            'would have been '\n",
      "                                                            'longer than 1024 '\n",
      "                                                            'characters had it '\n",
      "                                                            'not been '\n",
      "                                                            'truncated, else '\n",
      "                                                            'FALSE.',\n",
      "                                          'name': 'segt',\n",
      "                                          'required': 'true',\n",
      "                                          'titles': ['Segments Truncated']}],\n",
      "                             'primaryKey': 'dimh'},\n",
      "             'url': 'dim.tsv'},\n",
      "            {'tableSchema': {'aboutUrl': 'readme.htm',\n",
      "                             'columns': [{'datatype': {'base': 'string',\n",
      "                                                       'maxLength': 20,\n",
      "                                                       'minLength': 20},\n",
      "                                          'dc:description': 'Accession Number. '\n",
      "                                                            'The 20-character '\n",
      "                                                            'string formed '\n",
      "                                                            'from the 18-digit '\n",
      "                                                            'number assigned '\n",
      "                                                            'by the Commission '\n",
      "                                                            'to each EDGAR '\n",
      "                                                            'submission.',\n",
      "                                          'name': 'adsh',\n",
      "                                          'required': 'true',\n",
      "                                          'titles': ['Accession Number']},\n",
      "                                         {'datatype': {'base': 'string',\n",
      "                                                       'maxLength': 255},\n",
      "                                          'dc:description': 'The unique '\n",
      "                                                            'identifier (name) '\n",
      "                                                            'for a tag in a '\n",
      "                                                            'specific taxonomy '\n",
      "                                                            'release.',\n",
      "                                          'name': 'tag',\n",
      "                                          'required': 'true',\n",
      "                                          'titles': ['Localname']},\n",
      "                                         {'datatype': {'base': 'string',\n",
      "                                                       'maxLength': 20},\n",
      "                                          'dc:description': 'For a standard '\n",
      "                                                            'tag, an '\n",
      "                                                            'identifier for '\n",
      "                                                            'the taxonomy; '\n",
      "                                                            'otherwise the '\n",
      "                                                            'accession number '\n",
      "                                                            'where the tag was '\n",
      "                                                            'defined.',\n",
      "                                          'name': 'version',\n",
      "                                          'required': 'true',\n",
      "                                          'titles': ['Namespace']},\n",
      "                                         {'datatype': {'base': 'string',\n",
      "                                                       'maxLength': 8,\n",
      "                                                       'minLength': 8},\n",
      "                                          'dc:description': 'The end date for '\n",
      "                                                            'the data value, '\n",
      "                                                            'rounded to the '\n",
      "                                                            'nearest month '\n",
      "                                                            'end.',\n",
      "                                          'name': 'ddate',\n",
      "                                          'required': 'true',\n",
      "                                          'titles': ['Data Date']},\n",
      "                                         {'datatype': {'base': 'decimal',\n",
      "                                                       'minInclusive': 0},\n",
      "                                          'dc:description': 'The count of the '\n",
      "                                                            'number of '\n",
      "                                                            'quarters '\n",
      "                                                            'represented by '\n",
      "                                                            'the data value, '\n",
      "                                                            'rounded to the '\n",
      "                                                            'nearest whole '\n",
      "                                                            'number. \"0\" '\n",
      "                                                            'indicates it is a '\n",
      "                                                            'point-in-time '\n",
      "                                                            'value.',\n",
      "                                          'name': 'qtrs',\n",
      "                                          'required': 'true',\n",
      "                                          'titles': ['Quarters']},\n",
      "                                         {'datatype': {'base': 'string',\n",
      "                                                       'maxLength': 50},\n",
      "                                          'dc:description': 'The unit of '\n",
      "                                                            'measure for the '\n",
      "                                                            'value.',\n",
      "                                          'name': 'uom',\n",
      "                                          'required': 'true',\n",
      "                                          'titles': ['Unit of Measure']},\n",
      "                                         {'datatype': {'base': 'string',\n",
      "                                                       'maxLength': 34},\n",
      "                                          'dc:description': 'The 32-byte '\n",
      "                                                            'hexadecimal key '\n",
      "                                                            'for the '\n",
      "                                                            'dimensional '\n",
      "                                                            'information in '\n",
      "                                                            'the DIM data set.',\n",
      "                                          'name': 'dimh',\n",
      "                                          'titles': ['Dimension Hash']},\n",
      "                                         {'datatype': {'base': 'decimal',\n",
      "                                                       'maxInclusive': 32767,\n",
      "                                                       'minInclusive': 0},\n",
      "                                          'dc:description': 'A positive '\n",
      "                                                            'integer to '\n",
      "                                                            'distinguish '\n",
      "                                                            'different '\n",
      "                                                            'reported facts '\n",
      "                                                            'that otherwise '\n",
      "                                                            'would have the '\n",
      "                                                            'same primary key. '\n",
      "                                                            'For most '\n",
      "                                                            'purposes, data '\n",
      "                                                            'with iprx greater '\n",
      "                                                            'than 1 are not '\n",
      "                                                            'needed. The '\n",
      "                                                            'priority for the '\n",
      "                                                            'fact based on '\n",
      "                                                            'higher precision, '\n",
      "                                                            'closeness of the '\n",
      "                                                            'end date to a '\n",
      "                                                            'month end, and '\n",
      "                                                            'closeness of the '\n",
      "                                                            'duration to a '\n",
      "                                                            'multiple of three '\n",
      "                                                            'months. See '\n",
      "                                                            'fields dcml, durp '\n",
      "                                                            'and datp below.',\n",
      "                                          'name': 'iprx',\n",
      "                                          'titles': ['Fact Preference']},\n",
      "                                         {'datatype': {'base': 'decimal'},\n",
      "                                          'dc:description': 'The value. This '\n",
      "                                                            'is not scaled, it '\n",
      "                                                            'is as found in '\n",
      "                                                            'the Interactive '\n",
      "                                                            'Data file, but is '\n",
      "                                                            'rounded to four '\n",
      "                                                            'digits to the '\n",
      "                                                            'right of the '\n",
      "                                                            'decimal point.',\n",
      "                                          'name': 'value',\n",
      "                                          'titles': []},\n",
      "                                         {'datatype': {'base': 'string',\n",
      "                                                       'maxLength': 512},\n",
      "                                          'dc:description': 'The plain text of '\n",
      "                                                            'any superscripted '\n",
      "                                                            'footnotes on the '\n",
      "                                                            'value, if any, as '\n",
      "                                                            'shown on the '\n",
      "                                                            'statement page, '\n",
      "                                                            'truncated to 512 '\n",
      "                                                            'characters.',\n",
      "                                          'name': 'footnote',\n",
      "                                          'titles': ['Footnote Text']},\n",
      "                                         {'datatype': {'base': 'decimal',\n",
      "                                                       'minInclusive': 0},\n",
      "                                          'dc:description': 'Number of bytes '\n",
      "                                                            'in the plain text '\n",
      "                                                            'of the footnote '\n",
      "                                                            'prior to '\n",
      "                                                            'truncation; zero '\n",
      "                                                            'if no footnote.',\n",
      "                                          'name': 'footlen',\n",
      "                                          'required': 'true',\n",
      "                                          'titles': ['Footnote Length']},\n",
      "                                         {'datatype': {'base': 'decimal',\n",
      "                                                       'minInclusive': 0},\n",
      "                                          'dc:description': 'Small integer '\n",
      "                                                            'representing the '\n",
      "                                                            'number of '\n",
      "                                                            'dimensions. Note '\n",
      "                                                            'that this value '\n",
      "                                                            'is a function of '\n",
      "                                                            'the dimension '\n",
      "                                                            'segments.',\n",
      "                                          'name': 'dimn',\n",
      "                                          'required': 'true',\n",
      "                                          'titles': ['Number of Dimensions']},\n",
      "                                         {'datatype': {'base': 'string',\n",
      "                                                       'maxLength': 256},\n",
      "                                          'dc:description': 'If specified, '\n",
      "                                                            'indicates a '\n",
      "                                                            'specific '\n",
      "                                                            'co-registrant, '\n",
      "                                                            'the parent '\n",
      "                                                            'company, or other '\n",
      "                                                            'entity (e.g., '\n",
      "                                                            'guarantor). NULL '\n",
      "                                                            'indicates the '\n",
      "                                                            'consolidated '\n",
      "                                                            'entity. Note that '\n",
      "                                                            'this value is a '\n",
      "                                                            'function of the '\n",
      "                                                            'dimension '\n",
      "                                                            'segments.',\n",
      "                                          'name': 'coreg',\n",
      "                                          'titles': ['Coregistrant']},\n",
      "                                         {'datatype': {'base': 'decimal'},\n",
      "                                          'dc:description': 'The difference '\n",
      "                                                            'between the '\n",
      "                                                            'reported fact '\n",
      "                                                            'duration and the '\n",
      "                                                            'quarter duration '\n",
      "                                                            '(qtrs), expressed '\n",
      "                                                            'as a fraction of '\n",
      "                                                            '1. For example, a '\n",
      "                                                            'fact with '\n",
      "                                                            'duration of 120 '\n",
      "                                                            'days rounded to a '\n",
      "                                                            '91-day quarter '\n",
      "                                                            'has a durp value '\n",
      "                                                            'of 29/91 = '\n",
      "                                                            '+0.3187.',\n",
      "                                          'name': 'durp',\n",
      "                                          'titles': ['Duration Preference']},\n",
      "                                         {'datatype': {'base': 'decimal'},\n",
      "                                          'dc:description': 'The date '\n",
      "                                                            'proximity in '\n",
      "                                                            'number of days '\n",
      "                                                            'between end date '\n",
      "                                                            'reported and '\n",
      "                                                            'month-end rounded '\n",
      "                                                            'date.',\n",
      "                                          'name': 'datp',\n",
      "                                          'titles': ['Date Preference']},\n",
      "                                         {'datatype': {'base': 'decimal',\n",
      "                                                       'maxInclusive': 32767,\n",
      "                                                       'minInclusive': -32768},\n",
      "                                          'dc:description': 'The value of the '\n",
      "                                                            'fact \"decimals\" '\n",
      "                                                            'attribute, with '\n",
      "                                                            'INF represented '\n",
      "                                                            'by 32767.',\n",
      "                                          'name': 'dcml',\n",
      "                                          'titles': ['Decimals']}],\n",
      "                             'foreignKeys': [{'columnReference': 'adsh',\n",
      "                                              'reference': {'columnReference': 'adsh',\n",
      "                                                            'resource': 'sub.tsv'}},\n",
      "                                             {'columnReference': 'dimh',\n",
      "                                              'reference': {'columnReference': 'dimh',\n",
      "                                                            'resource': 'https://wwww.sec.gov/files2020q1.zip#path=dim.tsv'}},\n",
      "                                             {'columnReference': ['tag',\n",
      "                                                                  'version'],\n",
      "                                              'reference': {'columnReference': ['tag',\n",
      "                                                                                'version'],\n",
      "                                                            'resource': 'https://wwww.sec.gov/files2020q1.zip#path=tag.tsv'}}],\n",
      "                             'primaryKey': ['adsh',\n",
      "                                            'tag',\n",
      "                                            'version',\n",
      "                                            'ddate',\n",
      "                                            'qtrs',\n",
      "                                            'uom',\n",
      "                                            'dimh',\n",
      "                                            'iprx']},\n",
      "             'url': 'num.tsv'},\n",
      "            {'tableSchema': {'aboutUrl': 'readme.htm',\n",
      "                             'columns': [{'datatype': {'base': 'string',\n",
      "                                                       'maxLength': 20,\n",
      "                                                       'minLength': 20},\n",
      "                                          'dc:description': 'Accession Number. '\n",
      "                                                            'The 20-character '\n",
      "                                                            'string formed '\n",
      "                                                            'from the 18-digit '\n",
      "                                                            'number assigned '\n",
      "                                                            'by the Commission '\n",
      "                                                            'to each EDGAR '\n",
      "                                                            'submission.',\n",
      "                                          'name': 'adsh',\n",
      "                                          'required': 'true',\n",
      "                                          'titles': ['Accession number']},\n",
      "                                         {'datatype': {'base': 'string',\n",
      "                                                       'maxLength': 255},\n",
      "                                          'dc:description': 'The unique '\n",
      "                                                            'identifier (name) '\n",
      "                                                            'for a tag in a '\n",
      "                                                            'specific taxonomy '\n",
      "                                                            'release.',\n",
      "                                          'name': 'tag',\n",
      "                                          'required': 'true',\n",
      "                                          'titles': ['Localname']},\n",
      "                                         {'datatype': {'base': 'string',\n",
      "                                                       'maxLength': 20},\n",
      "                                          'dc:description': 'For a standard '\n",
      "                                                            'tag, an '\n",
      "                                                            'identifier for '\n",
      "                                                            'the taxonomy; '\n",
      "                                                            'otherwise the '\n",
      "                                                            'accession number '\n",
      "                                                            'where the tag was '\n",
      "                                                            'defined. For '\n",
      "                                                            'example, '\n",
      "                                                            '\"invest/2013\" '\n",
      "                                                            'indicates that '\n",
      "                                                            'the tag is '\n",
      "                                                            'defined in the '\n",
      "                                                            '2013 INVEST '\n",
      "                                                            'taxonomy.',\n",
      "                                          'name': 'version',\n",
      "                                          'required': 'true',\n",
      "                                          'titles': ['Namespace', 'Taxonomy']},\n",
      "                                         {'datatype': {'base': 'string',\n",
      "                                                       'maxLength': 8,\n",
      "                                                       'minLength': 8},\n",
      "                                          'dc:description': 'The end date for '\n",
      "                                                            'the data value, '\n",
      "                                                            'rounded to the '\n",
      "                                                            'nearest month '\n",
      "                                                            'end.',\n",
      "                                          'name': 'ddate',\n",
      "                                          'required': 'true',\n",
      "                                          'titles': ['Data Date']},\n",
      "                                         {'datatype': {'base': 'decimal',\n",
      "                                                       'minInclusive': 0},\n",
      "                                          'dc:description': 'The count of the '\n",
      "                                                            'number of '\n",
      "                                                            'quarters '\n",
      "                                                            'represented by '\n",
      "                                                            'the data value, '\n",
      "                                                            'rounded to the '\n",
      "                                                            'nearest whole '\n",
      "                                                            'number. A point '\n",
      "                                                            'in time value is '\n",
      "                                                            'represented by 0.',\n",
      "                                          'name': 'qtrs',\n",
      "                                          'required': 'true',\n",
      "                                          'titles': ['Quarters']},\n",
      "                                         {'datatype': {'base': 'decimal',\n",
      "                                                       'maxInclusive': 32767,\n",
      "                                                       'minInclusive': -32768},\n",
      "                                          'dc:description': 'A positive '\n",
      "                                                            'integer to '\n",
      "                                                            'distinguish '\n",
      "                                                            'different '\n",
      "                                                            'reported facts '\n",
      "                                                            'that otherwise '\n",
      "                                                            'would have the '\n",
      "                                                            'same primary key. '\n",
      "                                                            'For most '\n",
      "                                                            'purposes, data '\n",
      "                                                            'with iprx greater '\n",
      "                                                            'than 1 are not '\n",
      "                                                            'needed. The '\n",
      "                                                            'priority for the '\n",
      "                                                            'fact based on '\n",
      "                                                            'higher precision, '\n",
      "                                                            'closeness of the '\n",
      "                                                            'end date to a '\n",
      "                                                            'month end, and '\n",
      "                                                            'closeness of the '\n",
      "                                                            'duration to a '\n",
      "                                                            'multiple of three '\n",
      "                                                            'months. See '\n",
      "                                                            'fields dcml, durp '\n",
      "                                                            'and datp below.',\n",
      "                                          'name': 'iprx',\n",
      "                                          'titles': ['Fact Preference',\n",
      "                                                     'Preferred Fact Sort '\n",
      "                                                     'Key']},\n",
      "                                         {'datatype': {'base': 'string',\n",
      "                                                       'maxLength': 5},\n",
      "                                          'dc:description': 'The ISO language '\n",
      "                                                            'code of the fact '\n",
      "                                                            'content.',\n",
      "                                          'name': 'lang',\n",
      "                                          'titles': ['Language']},\n",
      "                                         {'datatype': {'base': 'decimal',\n",
      "                                                       'maxInclusive': 32767,\n",
      "                                                       'minInclusive': -32768},\n",
      "                                          'dc:description': 'The value of the '\n",
      "                                                            'fact \"xml:lang\" '\n",
      "                                                            'attribute, en-US '\n",
      "                                                            'represented by '\n",
      "                                                            '32767, other \"en\" '\n",
      "                                                            'dialects having '\n",
      "                                                            'lower values, and '\n",
      "                                                            'other languages '\n",
      "                                                            'lower still.',\n",
      "                                          'name': 'dcml',\n",
      "                                          'titles': ['Language Preference',\n",
      "                                                     'Language Sort Key']},\n",
      "                                         {'datatype': {'base': 'decimal'},\n",
      "                                          'dc:description': 'The difference '\n",
      "                                                            'between the '\n",
      "                                                            'reported fact '\n",
      "                                                            'duration and the '\n",
      "                                                            'quarter duration '\n",
      "                                                            '(qtrs), expressed '\n",
      "                                                            'as a fraction of '\n",
      "                                                            '1. For example, a '\n",
      "                                                            'fact with '\n",
      "                                                            'duration of 120 '\n",
      "                                                            'days rounded to a '\n",
      "                                                            '91-day quarter '\n",
      "                                                            'has a durp value '\n",
      "                                                            'of 29/91 = '\n",
      "                                                            '+0.3187.',\n",
      "                                          'name': 'durp',\n",
      "                                          'titles': ['Duration Preference']},\n",
      "                                         {'datatype': {'base': 'decimal'},\n",
      "                                          'dc:description': 'The date '\n",
      "                                                            'proximity in '\n",
      "                                                            'number of days '\n",
      "                                                            'between end date '\n",
      "                                                            'reported and '\n",
      "                                                            'month-end rounded '\n",
      "                                                            'date.',\n",
      "                                          'name': 'datp',\n",
      "                                          'titles': ['Date Preference']},\n",
      "                                         {'datatype': {'base': 'string',\n",
      "                                                       'maxLength': 34},\n",
      "                                          'dc:description': 'The 32-byte '\n",
      "                                                            'hexadecimal key '\n",
      "                                                            'for the '\n",
      "                                                            'dimensional '\n",
      "                                                            'information in '\n",
      "                                                            'the DIM data set.',\n",
      "                                          'name': 'dimh',\n",
      "                                          'titles': ['Dimension Hash']},\n",
      "                                         {'datatype': {'base': 'decimal',\n",
      "                                                       'minInclusive': 0},\n",
      "                                          'dc:description': 'Small integer '\n",
      "                                                            'representing the '\n",
      "                                                            'number of '\n",
      "                                                            'dimensions, '\n",
      "                                                            'useful for '\n",
      "                                                            'sorting. Note '\n",
      "                                                            'that this value '\n",
      "                                                            'is function of '\n",
      "                                                            'the dimension '\n",
      "                                                            'segments.',\n",
      "                                          'name': 'dimn',\n",
      "                                          'required': 'true',\n",
      "                                          'titles': ['Number of Dimensions']},\n",
      "                                         {'datatype': {'base': 'string',\n",
      "                                                       'maxLength': 256},\n",
      "                                          'dc:description': 'If specified, '\n",
      "                                                            'indicates a '\n",
      "                                                            'specific '\n",
      "                                                            'co-registrant, '\n",
      "                                                            'the parent '\n",
      "                                                            'company, or other '\n",
      "                                                            'entity (e.g., '\n",
      "                                                            'guarantor). NULL '\n",
      "                                                            'indicates the '\n",
      "                                                            'consolidated '\n",
      "                                                            'entity. Note that '\n",
      "                                                            'this value is a '\n",
      "                                                            'function of the '\n",
      "                                                            'dimension '\n",
      "                                                            'segments.',\n",
      "                                          'name': 'coreg',\n",
      "                                          'titles': ['Coregistrant']},\n",
      "                                         {'datatype': {'base': 'decimal',\n",
      "                                                       'maxInclusive': 1,\n",
      "                                                       'minInclusive': 0},\n",
      "                                          'dc:description': 'Flag indicating '\n",
      "                                                            'whether the value '\n",
      "                                                            'has had tags '\n",
      "                                                            'removed.',\n",
      "                                          'name': 'escaped',\n",
      "                                          'required': 'true',\n",
      "                                          'titles': []},\n",
      "                                         {'datatype': {'base': 'decimal',\n",
      "                                                       'minInclusive': 0},\n",
      "                                          'dc:description': 'Number of bytes '\n",
      "                                                            'in the original, '\n",
      "                                                            'unprocessed '\n",
      "                                                            'value. Zero '\n",
      "                                                            'indicates a NULL '\n",
      "                                                            'value.',\n",
      "                                          'name': 'srclen',\n",
      "                                          'required': 'true',\n",
      "                                          'titles': ['Source Length']},\n",
      "                                         {'datatype': {'base': 'decimal',\n",
      "                                                       'minInclusive': 0},\n",
      "                                          'dc:description': 'The original '\n",
      "                                                            'length of the '\n",
      "                                                            'whitespace '\n",
      "                                                            'normalized value, '\n",
      "                                                            'which may have '\n",
      "                                                            'been greater than '\n",
      "                                                            '8192.',\n",
      "                                          'name': 'txtlen',\n",
      "                                          'required': 'true',\n",
      "                                          'titles': ['Text Length']},\n",
      "                                         {'datatype': {'base': 'string',\n",
      "                                                       'maxLength': 512},\n",
      "                                          'dc:description': 'The plain text of '\n",
      "                                                            'any superscripted '\n",
      "                                                            'footnotes on the '\n",
      "                                                            'value, as shown '\n",
      "                                                            'on the page, '\n",
      "                                                            'truncated to 512 '\n",
      "                                                            'characters, or if '\n",
      "                                                            'there is no '\n",
      "                                                            'footnote, then '\n",
      "                                                            'this field will '\n",
      "                                                            'be blank.',\n",
      "                                          'name': 'footnote',\n",
      "                                          'titles': ['Footnote Text']},\n",
      "                                         {'datatype': {'base': 'decimal',\n",
      "                                                       'minInclusive': 0},\n",
      "                                          'dc:description': 'Number of bytes '\n",
      "                                                            'in the plain text '\n",
      "                                                            'of the footnote '\n",
      "                                                            'prior to '\n",
      "                                                            'truncation.',\n",
      "                                          'name': 'footlen',\n",
      "                                          'required': 'true',\n",
      "                                          'titles': ['Footnote Length']},\n",
      "                                         {'datatype': {'base': 'string',\n",
      "                                                       'maxLength': 255},\n",
      "                                          'dc:description': 'The value of the '\n",
      "                                                            'contextRef '\n",
      "                                                            'attribute in the '\n",
      "                                                            'source XBRL '\n",
      "                                                            'document, which '\n",
      "                                                            'can be used to '\n",
      "                                                            'recover the '\n",
      "                                                            'original HTML '\n",
      "                                                            'tagging if '\n",
      "                                                            'desired.',\n",
      "                                          'name': 'context',\n",
      "                                          'titles': ['Context Ref']},\n",
      "                                         {'datatype': {'base': 'string'},\n",
      "                                          'dc:description': 'The value, with '\n",
      "                                                            'all whitespace '\n",
      "                                                            'normalized, that '\n",
      "                                                            'is, all sequences '\n",
      "                                                            'of line feeds, '\n",
      "                                                            'carriage returns, '\n",
      "                                                            'tabs, '\n",
      "                                                            'non-breaking '\n",
      "                                                            'spaces, and '\n",
      "                                                            'spaces having '\n",
      "                                                            'been collapsed to '\n",
      "                                                            'a single space, '\n",
      "                                                            'and no leading or '\n",
      "                                                            'trailing spaces. '\n",
      "                                                            'Escaped XML that '\n",
      "                                                            'appears in EDGAR '\n",
      "                                                            '\"Text Block\" tags '\n",
      "                                                            'is processed to '\n",
      "                                                            'remove all '\n",
      "                                                            'mark-up '\n",
      "                                                            '(comments, '\n",
      "                                                            'processing '\n",
      "                                                            'instructions, '\n",
      "                                                            'elements, '\n",
      "                                                            'attributes). The '\n",
      "                                                            'resulting text is '\n",
      "                                                            'not intended for '\n",
      "                                                            'end user display '\n",
      "                                                            'but only for text '\n",
      "                                                            'analysis '\n",
      "                                                            'applications.',\n",
      "                                          'name': 'value',\n",
      "                                          'titles': []}],\n",
      "                             'foreignKeys': [{'columnReference': 'adsh',\n",
      "                                              'reference': {'columnReference': 'adsh',\n",
      "                                                            'resource': 'sub.tsv'}},\n",
      "                                             {'columnReference': 'dimh',\n",
      "                                              'reference': {'columnReference': 'dimh',\n",
      "                                                            'resource': 'https://wwww.sec.gov/files2020q1.zip#path=dim.tsv'}},\n",
      "                                             {'columnReference': ['tag',\n",
      "                                                                  'version'],\n",
      "                                              'reference': {'columnReference': ['tag',\n",
      "                                                                                'version'],\n",
      "                                                            'resource': 'https://wwww.sec.gov/files2020q1.zip#path=tag.tsv'}}],\n",
      "                             'primaryKey': ['adsh',\n",
      "                                            'tag',\n",
      "                                            'version',\n",
      "                                            'ddate',\n",
      "                                            'qtrs',\n",
      "                                            'dimh',\n",
      "                                            'iprx']},\n",
      "             'url': 'txt.tsv'},\n",
      "            {'tableSchema': {'aboutUrl': 'readme.htm',\n",
      "                             'columns': [{'datatype': {'base': 'string',\n",
      "                                                       'maxLength': 20,\n",
      "                                                       'minLength': 20},\n",
      "                                          'dc:description': 'Accession Number. '\n",
      "                                                            'The 20-character '\n",
      "                                                            'string formed '\n",
      "                                                            'from the 18-digit '\n",
      "                                                            'number assigned '\n",
      "                                                            'by the Commission '\n",
      "                                                            'to each EDGAR '\n",
      "                                                            'submission.',\n",
      "                                          'name': 'adsh',\n",
      "                                          'required': 'true',\n",
      "                                          'titles': ['Accession Number']},\n",
      "                                         {'datatype': {'base': 'decimal',\n",
      "                                                       'minInclusive': 0},\n",
      "                                          'dc:description': 'Represents the '\n",
      "                                                            'report grouping. '\n",
      "                                                            'The numeric value '\n",
      "                                                            'refers to the \"R '\n",
      "                                                            'file\" as computed '\n",
      "                                                            'by the renderer '\n",
      "                                                            'and posted on the '\n",
      "                                                            'EDGAR website. '\n",
      "                                                            'Note that in some '\n",
      "                                                            'situations the '\n",
      "                                                            'numbers skip.',\n",
      "                                          'name': 'report',\n",
      "                                          'required': 'true',\n",
      "                                          'titles': ['Report Number']},\n",
      "                                         {'datatype': {'base': 'string',\n",
      "                                                       'maxLength': 1},\n",
      "                                          'dc:description': 'The type of '\n",
      "                                                            'interactive data '\n",
      "                                                            'file rendered on '\n",
      "                                                            'the EDGAR '\n",
      "                                                            'website, H = .htm '\n",
      "                                                            'file, X = .xml '\n",
      "                                                            'file.',\n",
      "                                          'name': 'rfile',\n",
      "                                          'required': 'true',\n",
      "                                          'titles': ['Report File Type']},\n",
      "                                         {'datatype': {'base': 'string',\n",
      "                                                       'maxLength': 2},\n",
      "                                          'dc:description': 'If available, one '\n",
      "                                                            'of the menu '\n",
      "                                                            'categories as '\n",
      "                                                            'computed by the '\n",
      "                                                            'renderer: '\n",
      "                                                            'C=Cover, '\n",
      "                                                            'S=Statements, '\n",
      "                                                            'N=Notes, '\n",
      "                                                            'P=Policies, '\n",
      "                                                            'T=Tables, '\n",
      "                                                            'D=Details, '\n",
      "                                                            'O=Other, and '\n",
      "                                                            'U=Uncategorized.',\n",
      "                                          'name': 'menucat',\n",
      "                                          'titles': ['Menu Category']},\n",
      "                                         {'datatype': {'base': 'string',\n",
      "                                                       'maxLength': 512},\n",
      "                                          'dc:description': 'The portion of '\n",
      "                                                            'the long name '\n",
      "                                                            'used in the '\n",
      "                                                            'renderer menu.',\n",
      "                                          'name': 'shortname',\n",
      "                                          'titles': ['Short Name']},\n",
      "                                         {'datatype': {'base': 'string',\n",
      "                                                       'maxLength': 512},\n",
      "                                          'dc:description': 'The '\n",
      "                                                            'space-normalized '\n",
      "                                                            'text of the XBRL '\n",
      "                                                            'link \"definition\" '\n",
      "                                                            'element content.',\n",
      "                                          'name': 'longname',\n",
      "                                          'titles': ['Long Name']},\n",
      "                                         {'datatype': {'base': 'string',\n",
      "                                                       'maxLength': 255},\n",
      "                                          'dc:description': 'The XBRL '\n",
      "                                                            '\"roleuri\" of the '\n",
      "                                                            'role.',\n",
      "                                          'name': 'roleuri',\n",
      "                                          'titles': ['Role URI']},\n",
      "                                         {'datatype': {'base': 'string',\n",
      "                                                       'maxLength': 255},\n",
      "                                          'dc:description': 'The XBRL roleuri '\n",
      "                                                            'of a role for '\n",
      "                                                            'which this role '\n",
      "                                                            'has a matching '\n",
      "                                                            'shortname prefix '\n",
      "                                                            'and a higher '\n",
      "                                                            'level menu '\n",
      "                                                            'category, as '\n",
      "                                                            'computed by the '\n",
      "                                                            'renderer.',\n",
      "                                          'name': 'parentroleuri',\n",
      "                                          'titles': ['Parent Role URI']},\n",
      "                                         {'datatype': {'base': 'decimal',\n",
      "                                                       'minInclusive': 0},\n",
      "                                          'dc:description': 'The value of the '\n",
      "                                                            'report field for '\n",
      "                                                            'the role where '\n",
      "                                                            'roleuri equals '\n",
      "                                                            'this '\n",
      "                                                            'parentroleuri.',\n",
      "                                          'name': 'parentreport',\n",
      "                                          'titles': ['Parent Report']},\n",
      "                                         {'datatype': {'base': 'decimal',\n",
      "                                                       'maxInclusive': 32767,\n",
      "                                                       'minInclusive': 0},\n",
      "                                          'dc:description': 'The highest '\n",
      "                                                            'ancestor report '\n",
      "                                                            'reachable by '\n",
      "                                                            'following '\n",
      "                                                            'parentreport '\n",
      "                                                            'relationships. A '\n",
      "                                                            'note (menucat = '\n",
      "                                                            'N) is its own '\n",
      "                                                            'ultimate parent.',\n",
      "                                          'name': 'ultparentrpt',\n",
      "                                          'titles': ['Ultimate Parent']}],\n",
      "                             'foreignKeys': [{'columnReference': 'adsh',\n",
      "                                              'reference': {'columnReference': 'adsh',\n",
      "                                                            'resource': 'sub.tsv'}}],\n",
      "                             'primaryKey': ['adsh', 'report']},\n",
      "             'url': 'ren.tsv'},\n",
      "            {'tableSchema': {'aboutUrl': 'readme.htm',\n",
      "                             'columns': [{'datatype': {'base': 'string',\n",
      "                                                       'maxLength': 20,\n",
      "                                                       'minLength': 20},\n",
      "                                          'dc:description': 'Accession Number. '\n",
      "                                                            'The 20-character '\n",
      "                                                            'string formed '\n",
      "                                                            'from the 18-digit '\n",
      "                                                            'number assigned '\n",
      "                                                            'by the Commission '\n",
      "                                                            'to each EDGAR '\n",
      "                                                            'submission.',\n",
      "                                          'name': 'adsh',\n",
      "                                          'required': 'true',\n",
      "                                          'titles': ['Accession Number']},\n",
      "                                         {'datatype': {'base': 'decimal',\n",
      "                                                       'minInclusive': 0},\n",
      "                                          'dc:description': 'Represents the '\n",
      "                                                            'report grouping. '\n",
      "                                                            'The numeric value '\n",
      "                                                            'refers to the \"R '\n",
      "                                                            'file\" as computed '\n",
      "                                                            'by the renderer '\n",
      "                                                            'and posted on the '\n",
      "                                                            'EDGAR website. '\n",
      "                                                            'Note that in some '\n",
      "                                                            'situations the '\n",
      "                                                            'numbers skip.',\n",
      "                                          'name': 'report',\n",
      "                                          'required': 'true',\n",
      "                                          'titles': []},\n",
      "                                         {'datatype': {'base': 'decimal',\n",
      "                                                       'minInclusive': 0},\n",
      "                                          'dc:description': 'Represents the '\n",
      "                                                            \"tag's \"\n",
      "                                                            'presentation line '\n",
      "                                                            'order for a given '\n",
      "                                                            'report. Together '\n",
      "                                                            'with the '\n",
      "                                                            'statement and '\n",
      "                                                            'report field, '\n",
      "                                                            'presentation '\n",
      "                                                            'location, order '\n",
      "                                                            'and grouping can '\n",
      "                                                            'be derived.',\n",
      "                                          'name': 'line',\n",
      "                                          'required': 'true',\n",
      "                                          'titles': []},\n",
      "                                         {'datatype': {'base': 'string',\n",
      "                                                       'maxLength': 2},\n",
      "                                          'dc:description': 'The financial '\n",
      "                                                            'statement '\n",
      "                                                            'location to which '\n",
      "                                                            'the value of the '\n",
      "                                                            '\"report\" field '\n",
      "                                                            'pertains.',\n",
      "                                          'name': 'stmt',\n",
      "                                          'titles': ['Statement']},\n",
      "                                         {'datatype': {'base': 'decimal',\n",
      "                                                       'maxInclusive': 1,\n",
      "                                                       'minInclusive': 0},\n",
      "                                          'dc:description': '1 indicates that '\n",
      "                                                            'the value was '\n",
      "                                                            'presented '\n",
      "                                                            '\"parenthetically\" '\n",
      "                                                            'instead of in '\n",
      "                                                            'fields within the '\n",
      "                                                            'financial '\n",
      "                                                            'statements. For '\n",
      "                                                            'example: '\n",
      "                                                            'Receivables (net '\n",
      "                                                            'of allowance for '\n",
      "                                                            'bad debts of USD '\n",
      "                                                            '200 in 2012) USD '\n",
      "                                                            '700',\n",
      "                                          'name': 'inpth',\n",
      "                                          'required': 'true',\n",
      "                                          'titles': ['Parenthentical']},\n",
      "                                         {'datatype': {'base': 'string',\n",
      "                                                       'maxLength': 256},\n",
      "                                          'dc:description': 'The tag chosen by '\n",
      "                                                            'the filer for '\n",
      "                                                            'this line item.',\n",
      "                                          'name': 'tag',\n",
      "                                          'required': 'true',\n",
      "                                          'titles': ['Localname']},\n",
      "                                         {'datatype': {'base': 'string',\n",
      "                                                       'maxLength': 20},\n",
      "                                          'dc:description': 'The taxonomy '\n",
      "                                                            'identifier if the '\n",
      "                                                            'tag is a standard '\n",
      "                                                            'tag, otherwise '\n",
      "                                                            'adsh.',\n",
      "                                          'name': 'version',\n",
      "                                          'required': 'true',\n",
      "                                          'titles': ['Namespace', 'Taxonomy']},\n",
      "                                         {'datatype': {'base': 'string',\n",
      "                                                       'maxLength': 50},\n",
      "                                          'dc:description': 'The XBRL link '\n",
      "                                                            '\"role\" of the '\n",
      "                                                            'preferred label, '\n",
      "                                                            'using only the '\n",
      "                                                            'portion of the '\n",
      "                                                            'role URI after '\n",
      "                                                            'the last \"/\".',\n",
      "                                          'name': 'prole',\n",
      "                                          'titles': ['Preferred Role']},\n",
      "                                         {'datatype': {'base': 'string',\n",
      "                                                       'maxLength': 512},\n",
      "                                          'dc:description': 'The text '\n",
      "                                                            'presented on the '\n",
      "                                                            'line item, also '\n",
      "                                                            'known as a '\n",
      "                                                            '\"preferred\" '\n",
      "                                                            'label.',\n",
      "                                          'name': 'plabel',\n",
      "                                          'titles': ['Label']},\n",
      "                                         {'datatype': {'base': 'decimal',\n",
      "                                                       'maxInclusive': 1,\n",
      "                                                       'minInclusive': 0},\n",
      "                                          'dc:description': 'Flag to indicate '\n",
      "                                                            'whether the prole '\n",
      "                                                            'is treated as '\n",
      "                                                            'negating by the '\n",
      "                                                            'renderer.',\n",
      "                                          'name': 'negating',\n",
      "                                          'required': 'true',\n",
      "                                          'titles': []}],\n",
      "                             'foreignKeys': [{'columnReference': ['adsh',\n",
      "                                                                  'report'],\n",
      "                                              'reference': {'columnReference': ['adsh',\n",
      "                                                                                'report'],\n",
      "                                                            'resource': 'ren.tsv'}},\n",
      "                                             {'columnReference': ['tag',\n",
      "                                                                  'version'],\n",
      "                                              'reference': {'columnReference': ['tag',\n",
      "                                                                                'version'],\n",
      "                                                            'resource': 'tag.tsv'}}],\n",
      "                             'primaryKey': ['adsh', 'report', 'line']},\n",
      "             'url': 'pre.tsv'},\n",
      "            {'tableSchema': {'aboutUrl': 'readme.htm',\n",
      "                             'columns': [{'datatype': {'base': 'string',\n",
      "                                                       'maxLength': 20,\n",
      "                                                       'minLength': 20},\n",
      "                                          'dc:description': 'Accession Number. '\n",
      "                                                            'The 20-character '\n",
      "                                                            'string formed '\n",
      "                                                            'from the 18-digit '\n",
      "                                                            'number assigned '\n",
      "                                                            'by the Commission '\n",
      "                                                            'to each EDGAR '\n",
      "                                                            'submission.',\n",
      "                                          'name': 'adsh',\n",
      "                                          'required': 'true',\n",
      "                                          'titles': ['Accession Number']},\n",
      "                                         {'datatype': {'base': 'decimal',\n",
      "                                                       'maxInclusive': 255,\n",
      "                                                       'minInclusive': 0},\n",
      "                                          'dc:description': 'Sequential number '\n",
      "                                                            'for grouping arcs '\n",
      "                                                            'in a submission.',\n",
      "                                          'name': 'grp',\n",
      "                                          'required': 'true',\n",
      "                                          'titles': ['Group']},\n",
      "                                         {'datatype': {'base': 'decimal',\n",
      "                                                       'minInclusive': 255},\n",
      "                                          'dc:description': 'Sequential number '\n",
      "                                                            'for arcs within a '\n",
      "                                                            'group in a '\n",
      "                                                            'submission.',\n",
      "                                          'name': 'arc',\n",
      "                                          'required': 'true',\n",
      "                                          'titles': []},\n",
      "                                         {'datatype': {'base': 'decimal',\n",
      "                                                       'maxInclusive': 1,\n",
      "                                                       'minInclusive': 0},\n",
      "                                          'dc:description': 'Indicates a '\n",
      "                                                            'weight of -1 '\n",
      "                                                            '(TRUE if the arc '\n",
      "                                                            'is negative), but '\n",
      "                                                            'typically +1 '\n",
      "                                                            '(FALSE).',\n",
      "                                          'name': 'negative',\n",
      "                                          'required': 'true',\n",
      "                                          'titles': ['Negative Weight']},\n",
      "                                         {'datatype': {'base': 'string',\n",
      "                                                       'maxLength': 256},\n",
      "                                          'dc:description': 'The tag for the '\n",
      "                                                            'parent of the arc',\n",
      "                                          'name': 'ptag',\n",
      "                                          'required': 'true',\n",
      "                                          'titles': ['Parent Tag']},\n",
      "                                         {'datatype': {'base': 'string',\n",
      "                                                       'maxLength': 20},\n",
      "                                          'dc:description': 'The version of '\n",
      "                                                            'the tag for the '\n",
      "                                                            'parent of the arc',\n",
      "                                          'name': 'pversion',\n",
      "                                          'required': 'true',\n",
      "                                          'titles': ['Parent Namespace']},\n",
      "                                         {'datatype': {'base': 'string',\n",
      "                                                       'maxLength': 255},\n",
      "                                          'dc:description': 'The tag for the '\n",
      "                                                            'child of the arc',\n",
      "                                          'name': 'ctag',\n",
      "                                          'required': 'true',\n",
      "                                          'titles': ['Child Tag']},\n",
      "                                         {'datatype': {'base': 'string',\n",
      "                                                       'maxLength': 20},\n",
      "                                          'dc:description': 'The version of '\n",
      "                                                            'the tag for the '\n",
      "                                                            'child of the arc',\n",
      "                                          'name': 'cversion',\n",
      "                                          'required': 'true',\n",
      "                                          'titles': ['Child Namespace']}],\n",
      "                             'foreignKeys': [{'columnReference': 'adsh',\n",
      "                                              'reference': {'columnReference': 'adsh',\n",
      "                                                            'resource': 'sub.tsv'}},\n",
      "                                             {'columnReference': ['ptag',\n",
      "                                                                  'pversion'],\n",
      "                                              'reference': {'columnReference': ['tag',\n",
      "                                                                                'version'],\n",
      "                                                            'resource': 'tag.tsv'}},\n",
      "                                             {'columnReference': ['ctag',\n",
      "                                                                  'cversion'],\n",
      "                                              'reference': {'columnReference': ['tag',\n",
      "                                                                                'version'],\n",
      "                                                            'resource': 'tag.tsv'}}],\n",
      "                             'primaryKey': ['adsh', 'grp', 'arc']},\n",
      "             'url': 'cal.tsv'}]}\n"
     ]
    }
   ],
   "source": [
    "filename = os.path.join(data_path, \"2020_1\", \"source\", \"2020q1_notes-metadata.json\")\n",
    "with open(filename, mode=\"r\") as f:\n",
    "    data = json.load(f)\n",
    "\n",
    "pprint(data)"
   ]
  },
  {
   "cell_type": "markdown",
   "metadata": {
    "pycharm": {
     "name": "#%% md\n"
    }
   },
   "source": [
    "## Data Organization"
   ]
  },
  {
   "cell_type": "markdown",
   "metadata": {
    "pycharm": {
     "name": "#%% md\n"
    }
   },
   "source": [
    "For each quarter, the FSN data is organized into eight file sets that contain information about submissions, numbers, taxonomy tags, presentation, and more. Each dataset consists of rows and fields and is provided as a tab-delimited text file:"
   ]
  },
  {
   "cell_type": "markdown",
   "metadata": {
    "pycharm": {
     "name": "#%% md\n"
    }
   },
   "source": [
    "| File | Dataset      | Description                                                 |\n",
    "|------|--------------|-------------------------------------------------------------|\n",
    "| SUB  | Submission   | Identifies each XBRL submission by company, form, date, etc |\n",
    "| TAG  | Tag          | Defines and explains each taxonomy tag                      |\n",
    "| DIM  | Dimension    | Adds detail to numeric and plain text data                  |\n",
    "| NUM  | Numeric      | One row for each distinct data point in filing              |\n",
    "| TXT  | Plain Text   | Contains all non-numeric XBRL fields                        |\n",
    "| REN  | Rendering    | Information for rendering on SEC website                    |\n",
    "| PRE  | Presentation | Detail on tag and number presentation in primary statements |\n",
    "| CAL  | Calculation  | Shows arithmetic relationships among tags                   |"
   ]
  },
  {
   "cell_type": "markdown",
   "metadata": {
    "pycharm": {
     "name": "#%% md\n"
    }
   },
   "source": [
    "## Submission Data"
   ]
  },
  {
   "cell_type": "markdown",
   "metadata": {
    "pycharm": {
     "name": "#%% md\n"
    }
   },
   "source": [
    "The latest submission file contains around 6,500 entries."
   ]
  },
  {
   "cell_type": "code",
   "execution_count": 11,
   "metadata": {
    "ExecuteTime": {
     "end_time": "2021-06-07T16:33:46.579915Z",
     "start_time": "2021-06-07T16:33:46.491388Z"
    },
    "pycharm": {
     "name": "#%%\n"
    }
   },
   "outputs": [
    {
     "name": "stdout",
     "output_type": "stream",
     "text": [
      "<class 'pandas.core.frame.DataFrame'>\n",
      "RangeIndex: 13561 entries, 0 to 13560\n",
      "Data columns (total 40 columns):\n",
      " #   Column       Non-Null Count  Dtype  \n",
      "---  ------       --------------  -----  \n",
      " 0   adsh         13561 non-null  object \n",
      " 1   cik          13561 non-null  int64  \n",
      " 2   name         13561 non-null  object \n",
      " 3   sic          13557 non-null  float64\n",
      " 4   countryba    13545 non-null  object \n",
      " 5   stprba       12623 non-null  object \n",
      " 6   cityba       13544 non-null  object \n",
      " 7   zipba        13542 non-null  object \n",
      " 8   bas1         13545 non-null  object \n",
      " 9   bas2         5409 non-null   object \n",
      " 10  baph         13547 non-null  object \n",
      " 11  countryma    13489 non-null  object \n",
      " 12  stprma       12636 non-null  object \n",
      " 13  cityma       13489 non-null  object \n",
      " 14  zipma        13477 non-null  object \n",
      " 15  mas1         13487 non-null  object \n",
      " 16  mas2         5354 non-null   object \n",
      " 17  countryinc   12378 non-null  object \n",
      " 18  stprinc      11710 non-null  object \n",
      " 19  ein          13561 non-null  int64  \n",
      " 20  former       7898 non-null   object \n",
      " 21  changed      7898 non-null   float64\n",
      " 22  afs          13459 non-null  object \n",
      " 23  wksi         13561 non-null  int64  \n",
      " 24  fye          13556 non-null  float64\n",
      " 25  form         13561 non-null  object \n",
      " 26  period       13561 non-null  int64  \n",
      " 27  fy           5798 non-null   float64\n",
      " 28  fp           5789 non-null   object \n",
      " 29  filed        13561 non-null  int64  \n",
      " 30  accepted     13561 non-null  object \n",
      " 31  prevrpt      13561 non-null  int64  \n",
      " 32  detail       13561 non-null  int64  \n",
      " 33  instance     13561 non-null  object \n",
      " 34  nciks        13561 non-null  int64  \n",
      " 35  aciks        431 non-null    object \n",
      " 36  pubfloatusd  4151 non-null   float64\n",
      " 37  floatdate    4152 non-null   float64\n",
      " 38  floataxis    21 non-null     object \n",
      " 39  floatmems    22 non-null     float64\n",
      "dtypes: float64(7), int64(8), object(25)\n",
      "memory usage: 4.1+ MB\n"
     ]
    }
   ],
   "source": [
    "sub = pd.read_parquet(os.path.join(data_path, '2020_1', 'parquet', 'sub.parquet'))\n",
    "sub.info()"
   ]
  },
  {
   "cell_type": "markdown",
   "metadata": {
    "pycharm": {
     "name": "#%% md\n"
    }
   },
   "source": [
    "### Get AAPL submission"
   ]
  },
  {
   "cell_type": "markdown",
   "metadata": {
    "pycharm": {
     "name": "#%% md\n"
    }
   },
   "source": [
    "The submission dataset contains the unique identifiers required to retrieve the filings: the Central Index Key (CIK) and the Accession Number (adsh). The following shows some of the information about Apple's 2018Q1 10-Q filing:"
   ]
  },
  {
   "cell_type": "code",
   "execution_count": 12,
   "metadata": {
    "ExecuteTime": {
     "end_time": "2021-06-07T16:33:48.918331Z",
     "start_time": "2021-06-07T16:33:48.880843Z"
    },
    "scrolled": true,
    "pycharm": {
     "name": "#%%\n"
    }
   },
   "outputs": [
    {
     "data": {
      "text/plain": "                           1758                  1934                  4910  \\\nname                  APPLE INC             APPLE INC             APPLE INC   \nadsh       0000320193-20-000008  0000320193-20-000010  0001193125-20-039203   \ncik                      320193                320193                320193   \nname                  APPLE INC             APPLE INC             APPLE INC   \nsic                      3571.0                3571.0                3571.0   \ncountryba                    US                    US                    US   \nstprba                       CA                    CA                    CA   \ncityba                CUPERTINO             CUPERTINO             CUPERTINO   \nzipba                     95014                 95014                 95014   \nbas1         ONE APPLE PARK WAY    ONE APPLE PARK WAY    ONE APPLE PARK WAY   \nform                        8-K                  10-Q                   8-K   \nperiod                 20200131              20191231              20200229   \nfiled                  20200128              20200129              20200218   \n\n                           7352  \nname                  APPLE INC  \nadsh       0001193125-20-050884  \ncik                      320193  \nname                  APPLE INC  \nsic                      3571.0  \ncountryba                    US  \nstprba                       CA  \ncityba                CUPERTINO  \nzipba                     95014  \nbas1         ONE APPLE PARK WAY  \nform                        8-K  \nperiod                 20200229  \nfiled                  20200227  ",
      "text/html": "<div>\n<style scoped>\n    .dataframe tbody tr th:only-of-type {\n        vertical-align: middle;\n    }\n\n    .dataframe tbody tr th {\n        vertical-align: top;\n    }\n\n    .dataframe thead th {\n        text-align: right;\n    }\n</style>\n<table border=\"1\" class=\"dataframe\">\n  <thead>\n    <tr style=\"text-align: right;\">\n      <th></th>\n      <th>1758</th>\n      <th>1934</th>\n      <th>4910</th>\n      <th>7352</th>\n    </tr>\n  </thead>\n  <tbody>\n    <tr>\n      <th>name</th>\n      <td>APPLE INC</td>\n      <td>APPLE INC</td>\n      <td>APPLE INC</td>\n      <td>APPLE INC</td>\n    </tr>\n    <tr>\n      <th>adsh</th>\n      <td>0000320193-20-000008</td>\n      <td>0000320193-20-000010</td>\n      <td>0001193125-20-039203</td>\n      <td>0001193125-20-050884</td>\n    </tr>\n    <tr>\n      <th>cik</th>\n      <td>320193</td>\n      <td>320193</td>\n      <td>320193</td>\n      <td>320193</td>\n    </tr>\n    <tr>\n      <th>name</th>\n      <td>APPLE INC</td>\n      <td>APPLE INC</td>\n      <td>APPLE INC</td>\n      <td>APPLE INC</td>\n    </tr>\n    <tr>\n      <th>sic</th>\n      <td>3571.0</td>\n      <td>3571.0</td>\n      <td>3571.0</td>\n      <td>3571.0</td>\n    </tr>\n    <tr>\n      <th>countryba</th>\n      <td>US</td>\n      <td>US</td>\n      <td>US</td>\n      <td>US</td>\n    </tr>\n    <tr>\n      <th>stprba</th>\n      <td>CA</td>\n      <td>CA</td>\n      <td>CA</td>\n      <td>CA</td>\n    </tr>\n    <tr>\n      <th>cityba</th>\n      <td>CUPERTINO</td>\n      <td>CUPERTINO</td>\n      <td>CUPERTINO</td>\n      <td>CUPERTINO</td>\n    </tr>\n    <tr>\n      <th>zipba</th>\n      <td>95014</td>\n      <td>95014</td>\n      <td>95014</td>\n      <td>95014</td>\n    </tr>\n    <tr>\n      <th>bas1</th>\n      <td>ONE APPLE PARK WAY</td>\n      <td>ONE APPLE PARK WAY</td>\n      <td>ONE APPLE PARK WAY</td>\n      <td>ONE APPLE PARK WAY</td>\n    </tr>\n    <tr>\n      <th>form</th>\n      <td>8-K</td>\n      <td>10-Q</td>\n      <td>8-K</td>\n      <td>8-K</td>\n    </tr>\n    <tr>\n      <th>period</th>\n      <td>20200131</td>\n      <td>20191231</td>\n      <td>20200229</td>\n      <td>20200229</td>\n    </tr>\n    <tr>\n      <th>filed</th>\n      <td>20200128</td>\n      <td>20200129</td>\n      <td>20200218</td>\n      <td>20200227</td>\n    </tr>\n  </tbody>\n</table>\n</div>"
     },
     "execution_count": 12,
     "metadata": {},
     "output_type": "execute_result"
    }
   ],
   "source": [
    "name = 'APPLE INC'\n",
    "apple = sub[sub.name == name].T.dropna().squeeze()\n",
    "key_cols = ['name', 'adsh', 'cik', 'name', 'sic', 'countryba', 'stprba',\n",
    "            'cityba', 'zipba', 'bas1', 'form', 'period', 'filed']\n",
    "apple.loc[key_cols]"
   ]
  },
  {
   "cell_type": "markdown",
   "metadata": {
    "pycharm": {
     "name": "#%% md\n"
    }
   },
   "source": [
    "## Build AAPL fundamentals dataset"
   ]
  },
  {
   "cell_type": "markdown",
   "metadata": {
    "pycharm": {
     "name": "#%% md\n"
    }
   },
   "source": [
    "Using the central index key, we can identify all historical quarterly filings available for Apple, and combine this information to obtain 26 Forms 10-Q and nine annual Forms 10-K."
   ]
  },
  {
   "cell_type": "markdown",
   "metadata": {
    "pycharm": {
     "name": "#%% md\n"
    }
   },
   "source": [
    "### Get filings"
   ]
  },
  {
   "cell_type": "code",
   "execution_count": 13,
   "metadata": {
    "ExecuteTime": {
     "end_time": "2021-06-07T16:33:50.709067Z",
     "start_time": "2021-06-07T16:33:49.479737Z"
    },
    "scrolled": true,
    "pycharm": {
     "name": "#%%\n"
    }
   },
   "outputs": [
    {
     "data": {
      "text/plain": "10-Q    3\n10-K    1\nName: form, dtype: int64"
     },
     "execution_count": 13,
     "metadata": {},
     "output_type": "execute_result"
    }
   ],
   "source": [
    "apple_cik = apple.loc['cik'].to_list()[0]\n",
    "aapl_subs = pd.DataFrame()\n",
    "for sub in data_path.glob('**/sub.parquet'):\n",
    "    sub = pd.read_parquet(sub)\n",
    "    aapl_sub = sub[(sub.cik.astype(int) == apple_cik) & (sub.form.isin(['10-Q', '10-K']))]\n",
    "    aapl_subs = pd.concat([aapl_subs, aapl_sub])\n",
    "aapl_subs.form.value_counts()"
   ]
  },
  {
   "cell_type": "markdown",
   "metadata": {
    "pycharm": {
     "name": "#%% md\n"
    }
   },
   "source": [
    "We find 3 quarterly 10-Q and 1 annual 10-K reports:"
   ]
  },
  {
   "cell_type": "markdown",
   "metadata": {
    "pycharm": {
     "name": "#%% md\n"
    }
   },
   "source": [
    "### Get numerical filing data"
   ]
  },
  {
   "cell_type": "markdown",
   "metadata": {
    "pycharm": {
     "name": "#%% md\n"
    }
   },
   "source": [
    "With the Accession Number for each filing, we can now rely on the taxonomies to select the appropriate XBRL tags (listed in the TAG file) from the NUM and TXT files to obtain the numerical or textual/footnote data points of interest."
   ]
  },
  {
   "cell_type": "markdown",
   "metadata": {
    "pycharm": {
     "name": "#%% md\n"
    }
   },
   "source": [
    "First, let's extract all numerical data available from the 19 Apple filings:"
   ]
  },
  {
   "cell_type": "code",
   "execution_count": 14,
   "metadata": {
    "ExecuteTime": {
     "end_time": "2021-06-07T16:34:43.646784Z",
     "start_time": "2021-06-07T16:33:51.977353Z"
    },
    "pycharm": {
     "name": "#%%\n"
    }
   },
   "outputs": [
    {
     "name": "stdout",
     "output_type": "stream",
     "text": [
      "784\n",
      "1017\n",
      "1028\n",
      "1223\n"
     ]
    }
   ],
   "source": [
    "aapl_nums = pd.DataFrame()\n",
    "for num in data_path.glob('**/num.parquet'):\n",
    "    num = pd.read_parquet(num).drop('dimh', axis=1)\n",
    "    aapl_num = num[num.adsh.isin(aapl_subs.adsh)]\n",
    "    print(len(aapl_num))\n",
    "    aapl_nums = pd.concat([aapl_nums, aapl_num])\n",
    "aapl_nums.ddate = pd.to_datetime(aapl_nums.ddate, format='%Y%m%d')   \n",
    "aapl_nums.to_parquet(data_path / 'aapl_nums.parquet')"
   ]
  },
  {
   "cell_type": "markdown",
   "metadata": {
    "pycharm": {
     "name": "#%% md\n"
    }
   },
   "source": [
    "In total, the one year of filing history provide us with over 4,000 numerical values for AAPL."
   ]
  },
  {
   "cell_type": "code",
   "execution_count": 15,
   "metadata": {
    "ExecuteTime": {
     "end_time": "2021-06-07T16:34:43.659690Z",
     "start_time": "2021-06-07T16:34:43.647741Z"
    },
    "scrolled": true,
    "pycharm": {
     "name": "#%%\n"
    }
   },
   "outputs": [
    {
     "name": "stdout",
     "output_type": "stream",
     "text": [
      "<class 'pandas.core.frame.DataFrame'>\n",
      "Int64Index: 4052 entries, 273541 to 3364728\n",
      "Data columns (total 15 columns):\n",
      " #   Column    Non-Null Count  Dtype         \n",
      "---  ------    --------------  -----         \n",
      " 0   adsh      4052 non-null   object        \n",
      " 1   tag       4052 non-null   object        \n",
      " 2   version   4052 non-null   object        \n",
      " 3   ddate     4052 non-null   datetime64[ns]\n",
      " 4   qtrs      4052 non-null   int64         \n",
      " 5   uom       4052 non-null   object        \n",
      " 6   iprx      4052 non-null   int64         \n",
      " 7   value     4044 non-null   float64       \n",
      " 8   footnote  0 non-null      object        \n",
      " 9   footlen   4052 non-null   int64         \n",
      " 10  dimn      4052 non-null   int64         \n",
      " 11  coreg     0 non-null      object        \n",
      " 12  durp      4052 non-null   float64       \n",
      " 13  datp      4052 non-null   float64       \n",
      " 14  dcml      4052 non-null   int64         \n",
      "dtypes: datetime64[ns](1), float64(3), int64(5), object(6)\n",
      "memory usage: 506.5+ KB\n"
     ]
    }
   ],
   "source": [
    "aapl_nums.info()"
   ]
  },
  {
   "cell_type": "markdown",
   "metadata": {
    "pycharm": {
     "name": "#%% md\n"
    }
   },
   "source": [
    "## Create P/E Ratio from EPS and stock price data"
   ]
  },
  {
   "cell_type": "markdown",
   "metadata": {
    "pycharm": {
     "name": "#%% md\n"
    }
   },
   "source": [
    "We can select a useful field, such as Earnings per Diluted Share (EPS), that we can combine with market data to calculate the popular Price/Earnings (P/E) valuation ratio."
   ]
  },
  {
   "cell_type": "code",
   "execution_count": 16,
   "metadata": {
    "ExecuteTime": {
     "end_time": "2021-06-07T16:34:43.667771Z",
     "start_time": "2021-06-07T16:34:43.660831Z"
    },
    "pycharm": {
     "name": "#%%\n"
    }
   },
   "outputs": [],
   "source": [
    "# stock_split = 7\n",
    "# split_date = pd.to_datetime('20140604')\n",
    "# split_date"
   ]
  },
  {
   "cell_type": "markdown",
   "metadata": {
    "pycharm": {
     "name": "#%% md\n"
    }
   },
   "source": [
    "We do need to take into account, however, that Apple split its stock 7:1 on June 4, 2014, and Adjusted Earnings per Share before the split to make earnings comparable, as illustrated in the following code block:"
   ]
  },
  {
   "cell_type": "code",
   "execution_count": 17,
   "metadata": {
    "ExecuteTime": {
     "end_time": "2021-06-07T16:34:43.732249Z",
     "start_time": "2021-06-07T16:34:43.669116Z"
    },
    "pycharm": {
     "name": "#%%\n"
    }
   },
   "outputs": [],
   "source": [
    "# Filter by tag; keep only values measuring 1 quarter\n",
    "eps = aapl_nums[(aapl_nums.tag == 'EarningsPerShareDiluted')\n",
    "                & (aapl_nums.qtrs == 1)].drop('tag', axis=1)\n",
    "\n",
    "# Keep only most recent data point from each filing\n",
    "# eps = eps.groupby('adsh').apply(lambda x: x.nlargest(n=1, columns=['ddate']))\n",
    "\n",
    "# Adjust earnings prior to stock split downward\n",
    "# eps.loc[eps.ddate < split_date,'value'] = eps.loc[eps.ddate < split_date, 'value'].div(7)\n",
    "eps = eps[['ddate', 'value']].set_index('ddate').squeeze().sort_index()\n",
    "eps = eps.rolling(4,min_periods=4).sum().dropna()"
   ]
  },
  {
   "cell_type": "code",
   "execution_count": 18,
   "metadata": {
    "ExecuteTime": {
     "end_time": "2021-06-07T16:34:44.021729Z",
     "start_time": "2021-06-07T16:34:43.733184Z"
    },
    "pycharm": {
     "name": "#%%\n"
    }
   },
   "outputs": [
    {
     "data": {
      "text/plain": "<Figure size 1008x432 with 1 Axes>",
      "image/png": "[encoded data removed]"
     },
     "metadata": {},
     "output_type": "display_data"
    }
   ],
   "source": [
    "eps.plot(lw=2, figsize=(14, 6), title='Diluted Earnings per Share')\n",
    "plt.xlabel('')\n",
    "plt.savefig('diluted eps', dps=300);"
   ]
  },
  {
   "cell_type": "code",
   "execution_count": 19,
   "outputs": [
    {
     "name": "stdout",
     "output_type": "stream",
     "text": [
      "2019-03-31 00:00:00\n"
     ]
    }
   ],
   "source": [
    "print(eps.index.min())"
   ],
   "metadata": {
    "collapsed": false,
    "pycharm": {
     "name": "#%%\n"
    }
   }
  },
  {
   "cell_type": "code",
   "execution_count": 20,
   "metadata": {
    "ExecuteTime": {
     "end_time": "2021-06-07T16:34:44.926121Z",
     "start_time": "2021-06-07T16:34:44.022589Z"
    },
    "pycharm": {
     "name": "#%%\n"
    }
   },
   "outputs": [
    {
     "name": "stdout",
     "output_type": "stream",
     "text": [
      "<class 'pandas.core.frame.DataFrame'>\n",
      "DatetimeIndex: 273 entries, 2020-01-02 to 2020-09-30\n",
      "Freq: D\n",
      "Data columns (total 5 columns):\n",
      " #   Column  Non-Null Count  Dtype  \n",
      "---  ------  --------------  -----  \n",
      " 0   open    189 non-null    float64\n",
      " 1   high    189 non-null    float64\n",
      " 2   low     189 non-null    float64\n",
      " 3   close   189 non-null    float64\n",
      " 4   volume  189 non-null    float64\n",
      "dtypes: float64(5)\n",
      "memory usage: 12.8 KB\n"
     ]
    }
   ],
   "source": [
    "symbol = 'AAPL'\n",
    "\n",
    "# aapl_stock = (web.\n",
    "#               DataReader(symbol, 'av-daily', start=eps.index.min(), api_key=os.getenv('ALPHAVANTAGE_API_KEY'))\n",
    "#               .resample('D')\n",
    "#               .last()\n",
    "#               .loc['2019':eps.index.max()])\n",
    "stock_data = web.DataReader(symbol, 'av-daily', '2020-01-01', '2020-12-31', api_key=os.getenv('ALPHAVANTAGE_API_KEY'))\n",
    "stock_data.index = pd.to_datetime(stock_data.index)\n",
    "aapl_stock = stock_data.resample('D').last().loc['2019':eps.index.max()]\n",
    "\n",
    "aapl_stock.info()"
   ]
  },
  {
   "cell_type": "code",
   "execution_count": 21,
   "metadata": {
    "ExecuteTime": {
     "end_time": "2021-06-07T16:34:45.156567Z",
     "start_time": "2021-06-07T16:34:44.927380Z"
    },
    "pycharm": {
     "name": "#%%\n"
    }
   },
   "outputs": [
    {
     "data": {
      "text/plain": "<Figure size 1008x432 with 1 Axes>",
      "image/png": "[encoded data removed]"
     },
     "metadata": {},
     "output_type": "display_data"
    }
   ],
   "source": [
    "pe = aapl_stock.close.to_frame('price').join(eps.to_frame('eps'))\n",
    "pe = pe.fillna(method='ffill').dropna()\n",
    "pe['P/E Ratio'] = pe.price.div(pe.eps)\n",
    "pe['P/E Ratio'].plot(lw=2, figsize=(14, 6), title='TTM P/E Ratio');"
   ]
  },
  {
   "cell_type": "code",
   "execution_count": 22,
   "metadata": {
    "ExecuteTime": {
     "end_time": "2021-06-07T16:34:45.164600Z",
     "start_time": "2021-06-07T16:34:45.158039Z"
    },
    "pycharm": {
     "name": "#%%\n"
    }
   },
   "outputs": [
    {
     "name": "stdout",
     "output_type": "stream",
     "text": [
      "<class 'pandas.core.frame.DataFrame'>\n",
      "DatetimeIndex: 188 entries, 2020-03-31 to 2020-09-30\n",
      "Data columns (total 3 columns):\n",
      " #   Column     Non-Null Count  Dtype  \n",
      "---  ------     --------------  -----  \n",
      " 0   price      188 non-null    float64\n",
      " 1   eps        188 non-null    float64\n",
      " 2   P/E Ratio  188 non-null    float64\n",
      "dtypes: float64(3)\n",
      "memory usage: 5.9 KB\n"
     ]
    }
   ],
   "source": [
    "pe.info()"
   ]
  },
  {
   "cell_type": "code",
   "execution_count": 23,
   "metadata": {
    "ExecuteTime": {
     "end_time": "2021-06-07T16:34:45.663224Z",
     "start_time": "2021-06-07T16:34:45.165662Z"
    },
    "pycharm": {
     "name": "#%%\n"
    }
   },
   "outputs": [
    {
     "data": {
      "text/plain": "<Figure size 1152x576 with 3 Axes>",
      "image/png": "[encoded data removed]"
     },
     "metadata": {},
     "output_type": "display_data"
    }
   ],
   "source": [
    "axes = pe.plot(subplots=True, figsize=(16,8), legend=False, lw=2)\n",
    "axes[0].set_title('Adj. Close Price')\n",
    "axes[1].set_title('Diluted Earnings per Share')\n",
    "axes[2].set_title('Trailing P/E Ratio')\n",
    "plt.tight_layout();"
   ]
  },
  {
   "cell_type": "markdown",
   "metadata": {
    "pycharm": {
     "name": "#%% md\n"
    }
   },
   "source": [
    "## Explore Additional Fields"
   ]
  },
  {
   "cell_type": "markdown",
   "metadata": {
    "pycharm": {
     "name": "#%% md\n"
    }
   },
   "source": [
    "The field `tag` references values defined in the taxonomy:"
   ]
  },
  {
   "cell_type": "code",
   "execution_count": 24,
   "metadata": {
    "ExecuteTime": {
     "end_time": "2021-06-07T16:34:45.669973Z",
     "start_time": "2021-06-07T16:34:45.664053Z"
    },
    "pycharm": {
     "name": "#%%\n"
    }
   },
   "outputs": [
    {
     "data": {
      "text/plain": "RevenueFromContractWithCustomerExcludingAssessedTax                                           202\nStockholdersEquity                                                                            164\nCashAndCashEquivalentsAtCarryingValue                                                         120\nMarketableSecuritiesCurrent                                                                   112\nMarketableSecuritiesNoncurrent                                                                112\n                                                                                             ... \nUnrecordedUnconditionalPurchaseObligationBalanceOnFifthAnniversary                              1\nDefinedContributionPlanMaximumAnnualContributionsPerEmployeeAmount                              1\nLongTermDebtMaturitiesRepaymentsOfPrincipalInYearFour                                           1\nFinanceLeaseLiabilityPaymentsDueNextTwelveMonths                                                1\nSharebasedCompensationArrangementBySharebasedPaymentAwardPurchasePriceOfCommonStockPercent      1\nName: tag, Length: 319, dtype: int64"
     },
     "execution_count": 24,
     "metadata": {},
     "output_type": "execute_result"
    }
   ],
   "source": [
    "aapl_nums.tag.value_counts()"
   ]
  },
  {
   "cell_type": "markdown",
   "metadata": {
    "pycharm": {
     "name": "#%% md\n"
    }
   },
   "source": [
    "We can select values of interest and track their value or use them as inputs to compute fundamental metrics like the Dividend/Share ratio."
   ]
  },
  {
   "cell_type": "markdown",
   "metadata": {
    "pycharm": {
     "name": "#%% md\n"
    }
   },
   "source": [
    "### Dividends per Share"
   ]
  },
  {
   "cell_type": "code",
   "execution_count": 25,
   "metadata": {
    "ExecuteTime": {
     "end_time": "2021-06-07T16:34:45.679459Z",
     "start_time": "2021-06-07T16:34:45.670870Z"
    },
    "scrolled": true,
    "pycharm": {
     "name": "#%%\n"
    }
   },
   "outputs": [],
   "source": [
    "fields = ['EarningsPerShareDiluted',\n",
    "          'PaymentsOfDividends',\n",
    "          'WeightedAverageNumberOfDilutedSharesOutstanding',\n",
    "          'OperatingIncomeLoss',\n",
    "          'NetIncomeLoss',\n",
    "          'GrossProfit']"
   ]
  },
  {
   "cell_type": "code",
   "execution_count": 26,
   "metadata": {
    "ExecuteTime": {
     "end_time": "2021-06-07T16:34:45.848537Z",
     "start_time": "2021-06-07T16:34:45.680361Z"
    },
    "pycharm": {
     "name": "#%%\n"
    }
   },
   "outputs": [
    {
     "data": {
      "text/plain": "<Figure size 1008x360 with 1 Axes>",
      "image/png": "[encoded data removed]"
     },
     "metadata": {},
     "output_type": "display_data"
    }
   ],
   "source": [
    "dividends = (aapl_nums\n",
    "             .loc[aapl_nums.tag == 'PaymentsOfDividends', ['ddate', 'value']]\n",
    "             .groupby('ddate')\n",
    "             .mean())\n",
    "shares = (aapl_nums\n",
    "          .loc[aapl_nums.tag == 'WeightedAverageNumberOfDilutedSharesOutstanding', ['ddate', 'value']]\n",
    "          .drop_duplicates()\n",
    "          .groupby('ddate')\n",
    "          .mean())\n",
    "df = dividends.div(shares).dropna()\n",
    "ax = df.plot.bar(figsize=(14, 5), title='Dividends per Share', legend=False)\n",
    "ax.xaxis.set_major_formatter(mticker.FixedFormatter(df.index.strftime('%Y-%m')))"
   ]
  },
  {
   "cell_type": "markdown",
   "metadata": {
    "pycharm": {
     "name": "#%% md\n"
    }
   },
   "source": [
    "## Bonus: Textual Information"
   ]
  },
  {
   "cell_type": "code",
   "execution_count": 27,
   "metadata": {
    "ExecuteTime": {
     "end_time": "2021-06-07T16:34:47.940909Z",
     "start_time": "2021-06-07T16:34:45.849479Z"
    },
    "scrolled": true,
    "pycharm": {
     "name": "#%%\n"
    }
   },
   "outputs": [],
   "source": [
    "txt = pd.read_parquet(os.path.join(data_path, '2020_2', 'parquet', 'txt.parquet'))"
   ]
  },
  {
   "cell_type": "markdown",
   "metadata": {
    "pycharm": {
     "name": "#%% md\n"
    }
   },
   "source": [
    "AAPL's adsh is not avaialble in the txt file but you can obtain notes from the financial statements here:"
   ]
  },
  {
   "cell_type": "code",
   "execution_count": 28,
   "metadata": {
    "ExecuteTime": {
     "end_time": "2021-06-07T16:34:47.962984Z",
     "start_time": "2021-06-07T16:34:47.941779Z"
    },
    "pycharm": {
     "name": "#%%\n"
    }
   },
   "outputs": [
    {
     "data": {
      "text/plain": "                   adsh                    tag   version     ddate  qtrs  \\\n0  0000006201-20-000051          AmendmentFlag  dei/2019  20200331     0   \n1  0000006201-20-000051          AmendmentFlag  dei/2019  20200331     0   \n2  0000006201-20-000051  EntityCentralIndexKey  dei/2019  20200331     0   \n3  0000006201-20-000051  EntityCentralIndexKey  dei/2019  20200331     0   \n4  0000006201-20-000051           DocumentType  dei/2019  20200331     0   \n\n   iprx   lang   dcml  durp  datp                                dimh  dimn  \\\n0     0  en-US  32767   0.0  -1.0                          0x00000000     0   \n1     0  en-US  32767   0.0  -1.0  0xbcb3e4b456b208133382b5ccc841019f     1   \n2     0  en-US  32767   0.0  -1.0                          0x00000000     0   \n3     0  en-US  32767   0.0  -1.0  0xbcb3e4b456b208133382b5ccc841019f     1   \n4     0  en-US  32767   0.0  -1.0                          0x00000000     0   \n\n  coreg  escaped  srclen  txtlen footnote  footlen  \\\n0  None        0       5       5     None        0   \n1  None        0       5       5     None        0   \n2  None        0      10      10     None        0   \n3  None        0      10      10     None        0   \n4  None        0       3       3     None        0   \n\n                                             context       value  \n0                                            D2020Q2       false  \n1  D2020Q2_srt_ConsolidatedEntitiesAxis_srt_Subsi...       false  \n2                                            D2020Q2  0000006201  \n3  D2020Q2_srt_ConsolidatedEntitiesAxis_srt_Subsi...  0000004515  \n4                                            D2020Q2         8-K  ",
      "text/html": "<div>\n<style scoped>\n    .dataframe tbody tr th:only-of-type {\n        vertical-align: middle;\n    }\n\n    .dataframe tbody tr th {\n        vertical-align: top;\n    }\n\n    .dataframe thead th {\n        text-align: right;\n    }\n</style>\n<table border=\"1\" class=\"dataframe\">\n  <thead>\n    <tr style=\"text-align: right;\">\n      <th></th>\n      <th>adsh</th>\n      <th>tag</th>\n      <th>version</th>\n      <th>ddate</th>\n      <th>qtrs</th>\n      <th>iprx</th>\n      <th>lang</th>\n      <th>dcml</th>\n      <th>durp</th>\n      <th>datp</th>\n      <th>dimh</th>\n      <th>dimn</th>\n      <th>coreg</th>\n      <th>escaped</th>\n      <th>srclen</th>\n      <th>txtlen</th>\n      <th>footnote</th>\n      <th>footlen</th>\n      <th>context</th>\n      <th>value</th>\n    </tr>\n  </thead>\n  <tbody>\n    <tr>\n      <th>0</th>\n      <td>0000006201-20-000051</td>\n      <td>AmendmentFlag</td>\n      <td>dei/2019</td>\n      <td>20200331</td>\n      <td>0</td>\n      <td>0</td>\n      <td>en-US</td>\n      <td>32767</td>\n      <td>0.0</td>\n      <td>-1.0</td>\n      <td>0x00000000</td>\n      <td>0</td>\n      <td>None</td>\n      <td>0</td>\n      <td>5</td>\n      <td>5</td>\n      <td>None</td>\n      <td>0</td>\n      <td>D2020Q2</td>\n      <td>false</td>\n    </tr>\n    <tr>\n      <th>1</th>\n      <td>0000006201-20-000051</td>\n      <td>AmendmentFlag</td>\n      <td>dei/2019</td>\n      <td>20200331</td>\n      <td>0</td>\n      <td>0</td>\n      <td>en-US</td>\n      <td>32767</td>\n      <td>0.0</td>\n      <td>-1.0</td>\n      <td>0xbcb3e4b456b208133382b5ccc841019f</td>\n      <td>1</td>\n      <td>None</td>\n      <td>0</td>\n      <td>5</td>\n      <td>5</td>\n      <td>None</td>\n      <td>0</td>\n      <td>D2020Q2_srt_ConsolidatedEntitiesAxis_srt_Subsi...</td>\n      <td>false</td>\n    </tr>\n    <tr>\n      <th>2</th>\n      <td>0000006201-20-000051</td>\n      <td>EntityCentralIndexKey</td>\n      <td>dei/2019</td>\n      <td>20200331</td>\n      <td>0</td>\n      <td>0</td>\n      <td>en-US</td>\n      <td>32767</td>\n      <td>0.0</td>\n      <td>-1.0</td>\n      <td>0x00000000</td>\n      <td>0</td>\n      <td>None</td>\n      <td>0</td>\n      <td>10</td>\n      <td>10</td>\n      <td>None</td>\n      <td>0</td>\n      <td>D2020Q2</td>\n      <td>0000006201</td>\n    </tr>\n    <tr>\n      <th>3</th>\n      <td>0000006201-20-000051</td>\n      <td>EntityCentralIndexKey</td>\n      <td>dei/2019</td>\n      <td>20200331</td>\n      <td>0</td>\n      <td>0</td>\n      <td>en-US</td>\n      <td>32767</td>\n      <td>0.0</td>\n      <td>-1.0</td>\n      <td>0xbcb3e4b456b208133382b5ccc841019f</td>\n      <td>1</td>\n      <td>None</td>\n      <td>0</td>\n      <td>10</td>\n      <td>10</td>\n      <td>None</td>\n      <td>0</td>\n      <td>D2020Q2_srt_ConsolidatedEntitiesAxis_srt_Subsi...</td>\n      <td>0000004515</td>\n    </tr>\n    <tr>\n      <th>4</th>\n      <td>0000006201-20-000051</td>\n      <td>DocumentType</td>\n      <td>dei/2019</td>\n      <td>20200331</td>\n      <td>0</td>\n      <td>0</td>\n      <td>en-US</td>\n      <td>32767</td>\n      <td>0.0</td>\n      <td>-1.0</td>\n      <td>0x00000000</td>\n      <td>0</td>\n      <td>None</td>\n      <td>0</td>\n      <td>3</td>\n      <td>3</td>\n      <td>None</td>\n      <td>0</td>\n      <td>D2020Q2</td>\n      <td>8-K</td>\n    </tr>\n  </tbody>\n</table>\n</div>"
     },
     "execution_count": 28,
     "metadata": {},
     "output_type": "execute_result"
    }
   ],
   "source": [
    "txt.head()"
   ]
  }
 ],
 "metadata": {
  "kernelspec": {
   "name": "python3",
   "language": "python",
   "display_name": "Python 3 (ipykernel)"
  },
  "language_info": {
   "codemirror_mode": {
    "name": "ipython",
    "version": 3
   },
   "file_extension": ".py",
   "mimetype": "text/x-python",
   "name": "python",
   "nbconvert_exporter": "python",
   "pygments_lexer": "ipython3",
   "version": "3.8.8"
  },
  "toc": {
   "base_numbering": 1,
   "nav_menu": {},
   "number_sections": true,
   "sideBar": true,
   "skip_h1_title": false,
   "title_cell": "Table of Contents",
   "title_sidebar": "Contents",
   "toc_cell": false,
   "toc_position": {
    "height": "calc(100% - 180px)",
    "left": "10px",
    "top": "150px",
    "width": "512px"
   },
   "toc_section_display": true,
   "toc_window_display": false
  }
 },
 "nbformat": 4,
 "nbformat_minor": 4
}