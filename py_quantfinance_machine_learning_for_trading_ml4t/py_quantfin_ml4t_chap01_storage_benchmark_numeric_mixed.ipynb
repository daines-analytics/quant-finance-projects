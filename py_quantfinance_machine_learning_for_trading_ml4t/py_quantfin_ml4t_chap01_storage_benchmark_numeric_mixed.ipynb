{
  "cells": [
    {
      "cell_type": "markdown",
      "source": [
        "# Algorithmic Trading Model with ML4T Storage Benchmark Examples\n",
        "### David Lowe\n",
        "### June 30, 2022\n",
        "\n",
        "NOTE: This script is for learning purposes only and does not constitute a recommendation for buying or selling any stock mentioned in this script.\n",
        "\n",
        "SUMMARY: This project aims to construct and test an algorithmic trading model and document the end-to-end steps using a template.\n",
        "\n",
        "INTRODUCTION: This script aims to replicate the examples found in chapter one of the book Machine Learning for Algorithmic Trading by Stefan Jansen. The script seeks to validate further the Python environment and package requirements for running these code examples. The eventual goal is to integrate various example code segments into an end-to-end algorithmic trading system.\n",
        "\n",
        "This benchmarking exercise used the Google Colab environment as it has the prerequisite libraries and packages already built-in.\n",
        "\n",
        "Dataset ML Model: Time series analysis with numerical attributes\n",
        "\n",
        "Dataset Used: Programmatically generated DataFrame with random data\n",
        "\n",
        "Source and Further Discussion of the Code Examples: https://www.ml4trading.io/chapter/1"
      ],
      "metadata": {
        "id": "fK53Y7avLDVI"
      }
    },
    {
      "cell_type": "markdown",
      "metadata": {
        "pycharm": {
          "name": "#%% md\n"
        },
        "id": "GlufIjBuEBWa"
      },
      "source": [
        "# Storage Benchmark"
      ]
    },
    {
      "cell_type": "markdown",
      "metadata": {
        "pycharm": {
          "name": "#%% md\n"
        },
        "id": "2RMlBBbCEBWd"
      },
      "source": [
        "In this notebook, we'll compare the following storage formats:\n",
        "- CSV: Comma-separated, standard flat text file format.\n",
        "- HDF5: Hierarchical data format, developed initially at the National Center for Supercomputing Applications. It is a fast and scalable storage format for numerical data, available in pandas using the PyTables library.\n",
        "- Parquet: Part of the Apache Hadoop ecosystem, a binary, columnar storage format that provides efficient data compression and encoding and has been developed by Cloudera and Twitter. It is available for pandas through the `pyarrow` library, led by Wes McKinney, the original author of pandas.\n",
        "\n",
        "This notebook compares the performance of the preceding libraries using a test DataFrame that can be configured to contain numerical or text data, or both. For the HDF5 library, we test both the fixed and table formats. The table format allows for queries and can be appended to.\n",
        "\n",
        "## Usage\n",
        "\n",
        "To recreate the charts used in the book, you need to run this notebook twice up to section 'Store Result' using different settings for `data_type` and arguments for `generate_test_data` as follows:\n",
        "1. `data_type='Numeric`: `numerical_cols=1000`, `text_cols=0` (default)\n",
        "2. `data_type='Mixed`: `numerical_cols=500`, `text_cols=500`"
      ]
    },
    {
      "cell_type": "code",
      "source": [
        "# Retrieve CPU information from the system\n",
        "ncpu = !nproc\n",
        "print(\"The number of available CPUs is:\", ncpu[0])"
      ],
      "metadata": {
        "colab": {
          "base_uri": "https://localhost:8080/"
        },
        "id": "8SmIdMCyMkXf",
        "outputId": "1f0cf9c9-708b-4513-8a5b-0fa5c462c687"
      },
      "execution_count": 1,
      "outputs": [
        {
          "output_type": "stream",
          "name": "stdout",
          "text": [
            "The number of available CPUs is: 8\n"
          ]
        }
      ]
    },
    {
      "cell_type": "code",
      "source": [
        "# Retrieve memory configuration information\n",
        "from psutil import virtual_memory\n",
        "ram_gb = virtual_memory().total / 1e9\n",
        "print('Your runtime has {:.1f} gigabytes of available RAM\\n'.format(ram_gb))"
      ],
      "metadata": {
        "colab": {
          "base_uri": "https://localhost:8080/"
        },
        "id": "7dVdDuwSMlk2",
        "outputId": "e0722496-d229-4007-9ce9-8f52294923df"
      },
      "execution_count": 2,
      "outputs": [
        {
          "output_type": "stream",
          "name": "stdout",
          "text": [
            "Your runtime has 54.8 gigabytes of available RAM\n",
            "\n"
          ]
        }
      ]
    },
    {
      "cell_type": "code",
      "source": [
        "# Retrieve GPU configuration information\n",
        "gpu_info = !nvidia-smi\n",
        "gpu_info = '\\n'.join(gpu_info)\n",
        "print(gpu_info)"
      ],
      "metadata": {
        "colab": {
          "base_uri": "https://localhost:8080/"
        },
        "id": "o0GGOTszMqLu",
        "outputId": "bff41bea-2b96-4cdf-d12e-76ed454f3bfc"
      },
      "execution_count": 3,
      "outputs": [
        {
          "output_type": "stream",
          "name": "stdout",
          "text": [
            "NVIDIA-SMI has failed because it couldn't communicate with the NVIDIA driver. Make sure that the latest NVIDIA driver is installed and running.\n",
            "\n"
          ]
        }
      ]
    },
    {
      "cell_type": "markdown",
      "metadata": {
        "pycharm": {
          "name": "#%% md\n"
        },
        "id": "-UwRZX66EBWd"
      },
      "source": [
        "## Imports & Settings"
      ]
    },
    {
      "cell_type": "code",
      "execution_count": 4,
      "metadata": {
        "ExecuteTime": {
          "end_time": "2020-06-17T01:35:27.316285Z",
          "start_time": "2020-06-17T01:35:27.312369Z"
        },
        "pycharm": {
          "name": "#%%\n"
        },
        "id": "Y4x_sVfYEBWe"
      },
      "outputs": [],
      "source": [
        "import warnings\n",
        "warnings.filterwarnings('ignore')"
      ]
    },
    {
      "cell_type": "code",
      "execution_count": 5,
      "metadata": {
        "ExecuteTime": {
          "end_time": "2020-06-17T01:35:28.969546Z",
          "start_time": "2020-06-17T01:35:27.319259Z"
        },
        "pycharm": {
          "is_executing": true,
          "name": "#%%\n"
        },
        "id": "Dr6WCvg5EBWf"
      },
      "outputs": [],
      "source": [
        "from pathlib import Path\n",
        "import pandas as pd\n",
        "import numpy as np\n",
        "import matplotlib.pyplot as plt\n",
        "import seaborn as sns\n",
        "import random\n",
        "import string\n",
        "from datetime import datetime"
      ]
    },
    {
      "cell_type": "code",
      "execution_count": 6,
      "metadata": {
        "ExecuteTime": {
          "end_time": "2020-06-17T01:35:28.996443Z",
          "start_time": "2020-06-17T01:35:28.990967Z"
        },
        "pycharm": {
          "is_executing": true,
          "name": "#%%\n"
        },
        "id": "JqABPuQ3EBWf"
      },
      "outputs": [],
      "source": [
        "sns.set_style('whitegrid')"
      ]
    },
    {
      "cell_type": "code",
      "source": [
        "# Begin the timer for the script processing\n",
        "START_TIME_SCRIPT = datetime.now()"
      ],
      "metadata": {
        "id": "oGEzySMXM3N_"
      },
      "execution_count": 7,
      "outputs": []
    },
    {
      "cell_type": "code",
      "execution_count": 8,
      "metadata": {
        "ExecuteTime": {
          "end_time": "2020-06-17T01:35:29.007566Z",
          "start_time": "2020-06-17T01:35:29.000677Z"
        },
        "pycharm": {
          "is_executing": true,
          "name": "#%%\n"
        },
        "id": "o4bgEa2nEBWf"
      },
      "outputs": [],
      "source": [
        "results = {}"
      ]
    },
    {
      "cell_type": "markdown",
      "metadata": {
        "pycharm": {
          "name": "#%% md\n"
        },
        "id": "z6vNjghSEBWg"
      },
      "source": [
        "## Generate Test Data"
      ]
    },
    {
      "cell_type": "markdown",
      "metadata": {
        "pycharm": {
          "name": "#%% md\n"
        },
        "id": "755LWpepEBWg"
      },
      "source": [
        "The test `DataFrame` that can be configured to contain numerical or text data, or both. For the HDF5 library, we test both the fixed and table format. "
      ]
    },
    {
      "cell_type": "code",
      "execution_count": 9,
      "metadata": {
        "ExecuteTime": {
          "end_time": "2020-06-17T01:35:29.019361Z",
          "start_time": "2020-06-17T01:35:29.012349Z"
        },
        "pycharm": {
          "is_executing": true,
          "name": "#%%\n"
        },
        "id": "d8lfhcI9EBWh"
      },
      "outputs": [],
      "source": [
        "def generate_test_data(nrows=50000, numerical_cols=1000, text_cols=0, text_length=10):\n",
        "    s = \"\".join([random.choice(string.ascii_letters)\n",
        "                 for _ in range(text_length)])\n",
        "    data = pd.concat([pd.DataFrame(np.random.random(size=(nrows, numerical_cols))),\n",
        "                      pd.DataFrame(np.full(shape=(nrows, text_cols), fill_value=s))],\n",
        "                     axis=1, ignore_index=True)\n",
        "    data.columns = [str(i) for i in data.columns]\n",
        "    return data"
      ]
    },
    {
      "cell_type": "code",
      "execution_count": 52,
      "metadata": {
        "ExecuteTime": {
          "end_time": "2020-06-17T01:35:29.041894Z",
          "start_time": "2020-06-17T01:35:29.024486Z"
        },
        "pycharm": {
          "is_executing": true,
          "name": "#%%\n"
        },
        "id": "rCuMDYhWEBWh"
      },
      "outputs": [],
      "source": [
        "data_type = 'Mixed'"
      ]
    },
    {
      "cell_type": "code",
      "execution_count": 54,
      "metadata": {
        "ExecuteTime": {
          "end_time": "2020-06-17T01:36:22.452175Z",
          "start_time": "2020-06-17T01:35:29.057271Z"
        },
        "pycharm": {
          "is_executing": true,
          "name": "#%%\n"
        },
        "colab": {
          "base_uri": "https://localhost:8080/"
        },
        "id": "88qRTaXjEBWi",
        "outputId": "989917b0-b92d-4fff-bad0-e162481b436c"
      },
      "outputs": [
        {
          "output_type": "stream",
          "name": "stdout",
          "text": [
            "<class 'pandas.core.frame.DataFrame'>\n",
            "RangeIndex: 50000 entries, 0 to 49999\n",
            "Columns: 1000 entries, 0 to 999\n",
            "dtypes: float64(500), object(500)\n",
            "memory usage: 381.5+ MB\n"
          ]
        }
      ],
      "source": [
        "df = generate_test_data(numerical_cols=500, text_cols=500)\n",
        "df.info()"
      ]
    },
    {
      "cell_type": "markdown",
      "metadata": {
        "pycharm": {
          "name": "#%% md\n"
        },
        "id": "KQzDaNqOEBWi"
      },
      "source": [
        "## Parquet"
      ]
    },
    {
      "cell_type": "markdown",
      "metadata": {
        "pycharm": {
          "name": "#%% md\n"
        },
        "id": "KajhaC0TEBWi"
      },
      "source": [
        "### Size"
      ]
    },
    {
      "cell_type": "code",
      "execution_count": 55,
      "metadata": {
        "ExecuteTime": {
          "end_time": "2020-06-17T01:36:22.456279Z",
          "start_time": "2020-06-17T01:36:22.453955Z"
        },
        "pycharm": {
          "is_executing": true,
          "name": "#%%\n"
        },
        "id": "i_DfBgf5EBWj"
      },
      "outputs": [],
      "source": [
        "parquet_file = Path('test.parquet')"
      ]
    },
    {
      "cell_type": "code",
      "execution_count": 56,
      "metadata": {
        "ExecuteTime": {
          "end_time": "2020-06-17T01:37:07.069924Z",
          "start_time": "2020-06-17T01:36:22.457639Z"
        },
        "pycharm": {
          "is_executing": true,
          "name": "#%%\n"
        },
        "id": "rVJh67dKEBWj"
      },
      "outputs": [],
      "source": [
        "df.to_parquet(parquet_file)\n",
        "size = parquet_file.stat().st_size"
      ]
    },
    {
      "cell_type": "markdown",
      "metadata": {
        "pycharm": {
          "name": "#%% md\n"
        },
        "id": "CfGO0b8pEBWj"
      },
      "source": [
        "### Read"
      ]
    },
    {
      "cell_type": "code",
      "execution_count": 57,
      "metadata": {
        "ExecuteTime": {
          "end_time": "2020-06-17T01:37:48.957149Z",
          "start_time": "2020-06-17T01:37:07.076984Z"
        },
        "pycharm": {
          "is_executing": true,
          "name": "#%%\n"
        },
        "colab": {
          "base_uri": "https://localhost:8080/"
        },
        "id": "MMq2fYMKEBWj",
        "outputId": "de16718d-9052-4018-e376-01d4deec376c"
      },
      "outputs": [
        {
          "output_type": "stream",
          "name": "stdout",
          "text": [
            "1 loop, best of 5: 862 ms per loop\n"
          ]
        },
        {
          "output_type": "execute_result",
          "data": {
            "text/plain": [
              "<TimeitResult : 1 loop, best of 5: 862 ms per loop>"
            ]
          },
          "metadata": {},
          "execution_count": 57
        }
      ],
      "source": [
        "%%timeit -o\n",
        "df = pd.read_parquet(parquet_file)"
      ]
    },
    {
      "cell_type": "code",
      "execution_count": 58,
      "metadata": {
        "ExecuteTime": {
          "end_time": "2020-06-17T01:37:48.961665Z",
          "start_time": "2020-06-17T01:37:48.958800Z"
        },
        "pycharm": {
          "is_executing": true,
          "name": "#%%\n"
        },
        "scrolled": true,
        "id": "9EZ7Xl9REBWk"
      },
      "outputs": [],
      "source": [
        "read = _"
      ]
    },
    {
      "cell_type": "code",
      "execution_count": 59,
      "metadata": {
        "ExecuteTime": {
          "end_time": "2020-06-17T01:37:49.188464Z",
          "start_time": "2020-06-17T01:37:48.963287Z"
        },
        "pycharm": {
          "is_executing": true,
          "name": "#%%\n"
        },
        "id": "_EdgiAR9EBWk"
      },
      "outputs": [],
      "source": [
        "parquet_file.unlink()"
      ]
    },
    {
      "cell_type": "markdown",
      "metadata": {
        "pycharm": {
          "name": "#%% md\n"
        },
        "id": "p8FhbEBMEBWk"
      },
      "source": [
        "### Write"
      ]
    },
    {
      "cell_type": "code",
      "execution_count": 60,
      "metadata": {
        "ExecuteTime": {
          "end_time": "2020-06-17T01:43:39.425369Z",
          "start_time": "2020-06-17T01:37:49.190219Z"
        },
        "pycharm": {
          "is_executing": true,
          "name": "#%%\n"
        },
        "colab": {
          "base_uri": "https://localhost:8080/"
        },
        "id": "OM5JOQBKEBWk",
        "outputId": "0911f4ec-0a96-4301-9229-c719e455be98"
      },
      "outputs": [
        {
          "output_type": "stream",
          "name": "stdout",
          "text": [
            "1 loop, best of 5: 12.6 s per loop\n"
          ]
        },
        {
          "output_type": "execute_result",
          "data": {
            "text/plain": [
              "<TimeitResult : 1 loop, best of 5: 12.6 s per loop>"
            ]
          },
          "metadata": {},
          "execution_count": 60
        }
      ],
      "source": [
        "%%timeit -o\n",
        "df.to_parquet(parquet_file)\n",
        "parquet_file.unlink()"
      ]
    },
    {
      "cell_type": "code",
      "execution_count": 61,
      "metadata": {
        "ExecuteTime": {
          "end_time": "2020-06-17T01:43:39.428982Z",
          "start_time": "2020-06-17T01:43:39.426799Z"
        },
        "pycharm": {
          "is_executing": true,
          "name": "#%%\n"
        },
        "id": "Skuo12AIEBWk"
      },
      "outputs": [],
      "source": [
        "write = _"
      ]
    },
    {
      "cell_type": "markdown",
      "metadata": {
        "pycharm": {
          "name": "#%% md\n"
        },
        "id": "Co3RWcZyEBWl"
      },
      "source": [
        "### Results"
      ]
    },
    {
      "cell_type": "code",
      "execution_count": 62,
      "metadata": {
        "ExecuteTime": {
          "end_time": "2020-06-17T01:43:39.439864Z",
          "start_time": "2020-06-17T01:43:39.430333Z"
        },
        "pycharm": {
          "is_executing": true,
          "name": "#%%\n"
        },
        "id": "ABSS2HNgEBWl"
      },
      "outputs": [],
      "source": [
        "results['Parquet'] = {'read': np.mean(read.all_runs), 'write': np.mean(write.all_runs), 'size': size}"
      ]
    },
    {
      "cell_type": "markdown",
      "metadata": {
        "pycharm": {
          "name": "#%% md\n"
        },
        "id": "eqXfA-FtEBWl"
      },
      "source": [
        "## HDF5"
      ]
    },
    {
      "cell_type": "code",
      "execution_count": 63,
      "metadata": {
        "ExecuteTime": {
          "end_time": "2020-06-17T01:43:39.448675Z",
          "start_time": "2020-06-17T01:43:39.441367Z"
        },
        "pycharm": {
          "is_executing": true,
          "name": "#%%\n"
        },
        "id": "8GSCWiQaEBWl"
      },
      "outputs": [],
      "source": [
        "test_store = Path('index.h5')"
      ]
    },
    {
      "cell_type": "markdown",
      "metadata": {
        "pycharm": {
          "name": "#%% md\n"
        },
        "id": "ptPPP9IvEBWl"
      },
      "source": [
        "### Fixed Format"
      ]
    },
    {
      "cell_type": "markdown",
      "metadata": {
        "pycharm": {
          "name": "#%% md\n"
        },
        "id": "Zl7VpvU2EBWo"
      },
      "source": [
        "#### Size"
      ]
    },
    {
      "cell_type": "code",
      "execution_count": 64,
      "metadata": {
        "ExecuteTime": {
          "end_time": "2020-06-17T01:44:50.784125Z",
          "start_time": "2020-06-17T01:43:39.450005Z"
        },
        "pycharm": {
          "is_executing": true,
          "name": "#%%\n"
        },
        "id": "ZRJgxkUmEBWo"
      },
      "outputs": [],
      "source": [
        "with pd.HDFStore(test_store) as store:\n",
        "    store.put('file', df)\n",
        "size = test_store.stat().st_size"
      ]
    },
    {
      "cell_type": "markdown",
      "metadata": {
        "pycharm": {
          "name": "#%% md\n"
        },
        "id": "3CV7M5eyEBWo"
      },
      "source": [
        "#### Read"
      ]
    },
    {
      "cell_type": "code",
      "execution_count": 65,
      "metadata": {
        "ExecuteTime": {
          "end_time": "2020-06-17T02:01:51.204424Z",
          "start_time": "2020-06-17T01:44:50.785606Z"
        },
        "pycharm": {
          "is_executing": true,
          "name": "#%%\n"
        },
        "colab": {
          "base_uri": "https://localhost:8080/"
        },
        "id": "WqsgExI8EBWo",
        "outputId": "783caa25-215d-4500-aee3-9fe7b764671b"
      },
      "outputs": [
        {
          "output_type": "stream",
          "name": "stdout",
          "text": [
            "1 loop, best of 5: 1min 22s per loop\n"
          ]
        },
        {
          "output_type": "execute_result",
          "data": {
            "text/plain": [
              "<TimeitResult : 1 loop, best of 5: 1min 22s per loop>"
            ]
          },
          "metadata": {},
          "execution_count": 65
        }
      ],
      "source": [
        "%%timeit -o\n",
        "with pd.HDFStore(test_store) as store:\n",
        "    store.get('file')"
      ]
    },
    {
      "cell_type": "code",
      "execution_count": 66,
      "metadata": {
        "ExecuteTime": {
          "end_time": "2020-06-17T02:01:51.211964Z",
          "start_time": "2020-06-17T02:01:51.208706Z"
        },
        "pycharm": {
          "is_executing": true,
          "name": "#%%\n"
        },
        "id": "KN36aHnjEBWo"
      },
      "outputs": [],
      "source": [
        "read = _"
      ]
    },
    {
      "cell_type": "code",
      "execution_count": 67,
      "metadata": {
        "ExecuteTime": {
          "end_time": "2020-06-17T02:01:51.620046Z",
          "start_time": "2020-06-17T02:01:51.216720Z"
        },
        "pycharm": {
          "is_executing": true,
          "name": "#%%\n"
        },
        "id": "0FZpkGJdEBWo"
      },
      "outputs": [],
      "source": [
        "test_store.unlink()"
      ]
    },
    {
      "cell_type": "markdown",
      "metadata": {
        "pycharm": {
          "name": "#%% md\n"
        },
        "id": "RN4fZBRMEBWo"
      },
      "source": [
        "#### Write"
      ]
    },
    {
      "cell_type": "code",
      "execution_count": 68,
      "metadata": {
        "ExecuteTime": {
          "end_time": "2020-06-17T02:11:19.164517Z",
          "start_time": "2020-06-17T02:01:51.627442Z"
        },
        "pycharm": {
          "is_executing": true,
          "name": "#%%\n"
        },
        "id": "ntAI2-nqEBWp",
        "colab": {
          "base_uri": "https://localhost:8080/"
        },
        "outputId": "f8656ea4-9bcc-4f9d-8c2c-c0c911538819"
      },
      "outputs": [
        {
          "output_type": "stream",
          "name": "stdout",
          "text": [
            "1 loop, best of 5: 18.3 s per loop\n"
          ]
        },
        {
          "output_type": "execute_result",
          "data": {
            "text/plain": [
              "<TimeitResult : 1 loop, best of 5: 18.3 s per loop>"
            ]
          },
          "metadata": {},
          "execution_count": 68
        }
      ],
      "source": [
        "%%timeit -o\n",
        "with pd.HDFStore(test_store) as store:\n",
        "    store.put('file', df)\n",
        "test_store.unlink()"
      ]
    },
    {
      "cell_type": "code",
      "execution_count": 69,
      "metadata": {
        "ExecuteTime": {
          "end_time": "2020-06-17T02:11:19.168656Z",
          "start_time": "2020-06-17T02:11:19.166433Z"
        },
        "pycharm": {
          "is_executing": true,
          "name": "#%%\n"
        },
        "id": "2Yptt-8REBWp"
      },
      "outputs": [],
      "source": [
        "write = _"
      ]
    },
    {
      "cell_type": "markdown",
      "metadata": {
        "pycharm": {
          "name": "#%% md\n"
        },
        "id": "Cs9Mo6HaEBWp"
      },
      "source": [
        "#### Results"
      ]
    },
    {
      "cell_type": "code",
      "execution_count": 70,
      "metadata": {
        "ExecuteTime": {
          "end_time": "2020-06-17T02:11:19.182992Z",
          "start_time": "2020-06-17T02:11:19.170082Z"
        },
        "pycharm": {
          "is_executing": true,
          "name": "#%%\n"
        },
        "id": "AZTM0aYsEBWp"
      },
      "outputs": [],
      "source": [
        "results['HDF Fixed'] = {'read': np.mean(read.all_runs), 'write': np.mean(write.all_runs), 'size': size}"
      ]
    },
    {
      "cell_type": "markdown",
      "metadata": {
        "pycharm": {
          "name": "#%% md\n"
        },
        "id": "W2gq0XWxEBWp"
      },
      "source": [
        "### Table Format"
      ]
    },
    {
      "cell_type": "markdown",
      "metadata": {
        "pycharm": {
          "name": "#%% md\n"
        },
        "id": "JOTmE8w7EBWp"
      },
      "source": [
        "#### Size"
      ]
    },
    {
      "cell_type": "code",
      "execution_count": 71,
      "metadata": {
        "ExecuteTime": {
          "end_time": "2020-06-17T02:15:33.776631Z",
          "start_time": "2020-06-17T02:11:19.184371Z"
        },
        "pycharm": {
          "is_executing": true,
          "name": "#%%\n"
        },
        "id": "3MBiErqKEBWp"
      },
      "outputs": [],
      "source": [
        "with pd.HDFStore(test_store) as store:\n",
        "    store.append('file', df, format='t')\n",
        "size = test_store.stat().st_size    "
      ]
    },
    {
      "cell_type": "markdown",
      "metadata": {
        "pycharm": {
          "name": "#%% md\n"
        },
        "id": "THmQd3Y1EBWq"
      },
      "source": [
        "#### Read"
      ]
    },
    {
      "cell_type": "code",
      "execution_count": 72,
      "metadata": {
        "ExecuteTime": {
          "start_time": "2020-06-17T01:35:27.475Z"
        },
        "pycharm": {
          "is_executing": true,
          "name": "#%%\n"
        },
        "id": "LAwe1hrVEBWq",
        "colab": {
          "base_uri": "https://localhost:8080/"
        },
        "outputId": "d2417b17-d2ca-4742-efb8-b20ea53d66e8"
      },
      "outputs": [
        {
          "output_type": "stream",
          "name": "stdout",
          "text": [
            "1 loop, best of 5: 39.5 s per loop\n"
          ]
        },
        {
          "output_type": "execute_result",
          "data": {
            "text/plain": [
              "<TimeitResult : 1 loop, best of 5: 39.5 s per loop>"
            ]
          },
          "metadata": {},
          "execution_count": 72
        }
      ],
      "source": [
        "%%timeit -o\n",
        "with pd.HDFStore(test_store) as store:\n",
        "    df = store.get('file')"
      ]
    },
    {
      "cell_type": "code",
      "execution_count": 73,
      "metadata": {
        "ExecuteTime": {
          "start_time": "2020-06-17T01:35:27.484Z"
        },
        "pycharm": {
          "is_executing": true,
          "name": "#%%\n"
        },
        "id": "RdaokytCEBWq"
      },
      "outputs": [],
      "source": [
        "read = _"
      ]
    },
    {
      "cell_type": "code",
      "execution_count": 74,
      "metadata": {
        "ExecuteTime": {
          "start_time": "2020-06-17T01:35:27.491Z"
        },
        "pycharm": {
          "is_executing": true,
          "name": "#%%\n"
        },
        "id": "ipoYiZ8eEBWq"
      },
      "outputs": [],
      "source": [
        "test_store.unlink()"
      ]
    },
    {
      "cell_type": "markdown",
      "metadata": {
        "pycharm": {
          "name": "#%% md\n"
        },
        "id": "yS9TeEYTEBWq"
      },
      "source": [
        "#### Write"
      ]
    },
    {
      "cell_type": "markdown",
      "metadata": {
        "pycharm": {
          "name": "#%% md\n"
        },
        "id": "elTlYqiQEBWq"
      },
      "source": [
        "Note that `write` in table format does not work with text data."
      ]
    },
    {
      "cell_type": "code",
      "execution_count": 75,
      "metadata": {
        "ExecuteTime": {
          "start_time": "2020-06-17T01:35:27.499Z"
        },
        "pycharm": {
          "is_executing": true,
          "name": "#%%\n"
        },
        "id": "rGONvmv-EBWq",
        "colab": {
          "base_uri": "https://localhost:8080/"
        },
        "outputId": "03d8ac11-be7f-449a-d6a6-0db9dcb9a04d"
      },
      "outputs": [
        {
          "output_type": "stream",
          "name": "stdout",
          "text": [
            "1 loop, best of 5: 1min 5s per loop\n"
          ]
        },
        {
          "output_type": "execute_result",
          "data": {
            "text/plain": [
              "<TimeitResult : 1 loop, best of 5: 1min 5s per loop>"
            ]
          },
          "metadata": {},
          "execution_count": 75
        }
      ],
      "source": [
        "%%timeit -o\n",
        "with pd.HDFStore(test_store) as store:\n",
        "    store.append('file', df, format='t')\n",
        "test_store.unlink()    "
      ]
    },
    {
      "cell_type": "code",
      "execution_count": 76,
      "metadata": {
        "ExecuteTime": {
          "start_time": "2020-06-17T01:35:27.507Z"
        },
        "pycharm": {
          "is_executing": true,
          "name": "#%%\n"
        },
        "id": "2dy4t6OwEBWq"
      },
      "outputs": [],
      "source": [
        "write = _"
      ]
    },
    {
      "cell_type": "markdown",
      "metadata": {
        "pycharm": {
          "name": "#%% md\n"
        },
        "id": "zTj0ki3_EBWr"
      },
      "source": [
        "#### Results"
      ]
    },
    {
      "cell_type": "code",
      "execution_count": 77,
      "metadata": {
        "ExecuteTime": {
          "start_time": "2020-06-17T01:35:27.515Z"
        },
        "pycharm": {
          "is_executing": true,
          "name": "#%%\n"
        },
        "id": "a-WIrRk_EBWr"
      },
      "outputs": [],
      "source": [
        "results['HDF Table'] = {'read': np.mean(read.all_runs), 'write': np.mean(write.all_runs), 'size': size}"
      ]
    },
    {
      "cell_type": "markdown",
      "metadata": {
        "pycharm": {
          "name": "#%% md\n"
        },
        "id": "b60IYSpzEBWr"
      },
      "source": [
        "### Table Select"
      ]
    },
    {
      "cell_type": "markdown",
      "metadata": {
        "pycharm": {
          "name": "#%% md\n"
        },
        "id": "ONZYABFkEBWr"
      },
      "source": [
        "#### Size"
      ]
    },
    {
      "cell_type": "code",
      "execution_count": 78,
      "metadata": {
        "ExecuteTime": {
          "start_time": "2020-06-17T01:35:27.527Z"
        },
        "pycharm": {
          "is_executing": true,
          "name": "#%%\n"
        },
        "id": "bETmS66BEBWr"
      },
      "outputs": [],
      "source": [
        "with pd.HDFStore(test_store) as store:\n",
        "    store.append('file', df, format='t', data_columns=['company', 'form'])\n",
        "size = test_store.stat().st_size "
      ]
    },
    {
      "cell_type": "markdown",
      "metadata": {
        "pycharm": {
          "name": "#%% md\n"
        },
        "id": "dRX6nanlEBWr"
      },
      "source": [
        "#### Read"
      ]
    },
    {
      "cell_type": "code",
      "execution_count": 79,
      "metadata": {
        "ExecuteTime": {
          "start_time": "2020-06-17T01:35:27.531Z"
        },
        "pycharm": {
          "is_executing": true,
          "name": "#%%\n"
        },
        "id": "RffRXZqdEBWr"
      },
      "outputs": [],
      "source": [
        "company = 'APPLE INC'"
      ]
    },
    {
      "cell_type": "code",
      "execution_count": 80,
      "metadata": {
        "ExecuteTime": {
          "start_time": "2020-06-17T01:35:27.535Z"
        },
        "pycharm": {
          "is_executing": true,
          "name": "#%%\n"
        },
        "id": "JhqKjIjLEBWr",
        "colab": {
          "base_uri": "https://localhost:8080/"
        },
        "outputId": "d57e9555-e2f8-4f44-d89e-ab654e3eaf49"
      },
      "outputs": [
        {
          "output_type": "stream",
          "name": "stdout",
          "text": [
            "1 loop, best of 5: 44.2 s per loop\n"
          ]
        }
      ],
      "source": [
        "%%timeit\n",
        "with pd.HDFStore(test_store) as store:\n",
        "    s = store.get('file')"
      ]
    },
    {
      "cell_type": "code",
      "execution_count": 81,
      "metadata": {
        "ExecuteTime": {
          "start_time": "2020-06-17T01:35:27.551Z"
        },
        "pycharm": {
          "is_executing": true,
          "name": "#%%\n"
        },
        "id": "3iY9rvGEEBWs"
      },
      "outputs": [],
      "source": [
        "read = _"
      ]
    },
    {
      "cell_type": "code",
      "execution_count": 82,
      "metadata": {
        "ExecuteTime": {
          "start_time": "2020-06-17T01:35:27.554Z"
        },
        "pycharm": {
          "is_executing": true,
          "name": "#%%\n"
        },
        "id": "xmZXMfqUEBWs"
      },
      "outputs": [],
      "source": [
        "test_store.unlink()"
      ]
    },
    {
      "cell_type": "markdown",
      "metadata": {
        "pycharm": {
          "name": "#%% md\n"
        },
        "id": "4_hZG00fEBWs"
      },
      "source": [
        "#### Write"
      ]
    },
    {
      "cell_type": "code",
      "execution_count": 83,
      "metadata": {
        "ExecuteTime": {
          "start_time": "2020-06-17T01:35:27.572Z"
        },
        "pycharm": {
          "is_executing": true,
          "name": "#%%\n"
        },
        "id": "JtpKn-iBEBWs",
        "colab": {
          "base_uri": "https://localhost:8080/"
        },
        "outputId": "e67c33f0-955d-4806-8777-2152fea736cd"
      },
      "outputs": [
        {
          "output_type": "stream",
          "name": "stdout",
          "text": [
            "1 loop, best of 5: 1min 5s per loop\n"
          ]
        }
      ],
      "source": [
        "%%timeit\n",
        "with pd.HDFStore(test_store) as store:\n",
        "    store.append('file', df, format='t', data_columns=['company', 'form'])\n",
        "test_store.unlink() "
      ]
    },
    {
      "cell_type": "code",
      "execution_count": 84,
      "metadata": {
        "ExecuteTime": {
          "start_time": "2020-06-17T01:35:27.575Z"
        },
        "pycharm": {
          "is_executing": true,
          "name": "#%%\n"
        },
        "id": "4dJACQGgEBWs"
      },
      "outputs": [],
      "source": [
        "write = _"
      ]
    },
    {
      "cell_type": "markdown",
      "metadata": {
        "pycharm": {
          "name": "#%% md\n"
        },
        "id": "11n0qw_yEBWs"
      },
      "source": [
        "#### Results"
      ]
    },
    {
      "cell_type": "code",
      "execution_count": 85,
      "metadata": {
        "ExecuteTime": {
          "start_time": "2020-06-17T01:35:27.579Z"
        },
        "pycharm": {
          "is_executing": true,
          "name": "#%%\n"
        },
        "id": "1PcOVA2SEBWs"
      },
      "outputs": [],
      "source": [
        "results['HDF Select'] = {'read': np.mean(read.all_runs), 'write': np.mean(write.all_runs), 'size': size}"
      ]
    },
    {
      "cell_type": "markdown",
      "metadata": {
        "pycharm": {
          "name": "#%% md\n"
        },
        "id": "jMzNw9xXEBWs"
      },
      "source": [
        "## CSV"
      ]
    },
    {
      "cell_type": "code",
      "execution_count": 86,
      "metadata": {
        "ExecuteTime": {
          "start_time": "2020-06-17T01:35:27.583Z"
        },
        "pycharm": {
          "is_executing": true,
          "name": "#%%\n"
        },
        "id": "gRPp6arzEBWs"
      },
      "outputs": [],
      "source": [
        "test_csv = Path('test.csv')"
      ]
    },
    {
      "cell_type": "markdown",
      "metadata": {
        "pycharm": {
          "name": "#%% md\n"
        },
        "id": "LUVanS3UEBWt"
      },
      "source": [
        "### Size"
      ]
    },
    {
      "cell_type": "code",
      "execution_count": 87,
      "metadata": {
        "ExecuteTime": {
          "start_time": "2020-06-17T01:35:27.587Z"
        },
        "pycharm": {
          "is_executing": true,
          "name": "#%%\n"
        },
        "id": "F4HRnNIrEBWt",
        "colab": {
          "base_uri": "https://localhost:8080/"
        },
        "outputId": "dbb9476a-dc9f-4490-fd40-5fe4bca0dd29"
      },
      "outputs": [
        {
          "output_type": "execute_result",
          "data": {
            "text/plain": [
              "757041169"
            ]
          },
          "metadata": {},
          "execution_count": 87
        }
      ],
      "source": [
        "df.to_csv(test_csv)\n",
        "test_csv.stat().st_size"
      ]
    },
    {
      "cell_type": "markdown",
      "metadata": {
        "pycharm": {
          "name": "#%% md\n"
        },
        "id": "mlMSpEsPEBWt"
      },
      "source": [
        "### Read"
      ]
    },
    {
      "cell_type": "code",
      "execution_count": 88,
      "metadata": {
        "ExecuteTime": {
          "start_time": "2020-06-17T01:35:27.592Z"
        },
        "pycharm": {
          "is_executing": true,
          "name": "#%%\n"
        },
        "id": "89neGPYwEBWt",
        "colab": {
          "base_uri": "https://localhost:8080/"
        },
        "outputId": "6c2e8de7-423b-4dbc-c566-7612f0c5dde2"
      },
      "outputs": [
        {
          "output_type": "stream",
          "name": "stdout",
          "text": [
            "1 loop, best of 5: 10.9 s per loop\n"
          ]
        },
        {
          "output_type": "execute_result",
          "data": {
            "text/plain": [
              "<TimeitResult : 1 loop, best of 5: 10.9 s per loop>"
            ]
          },
          "metadata": {},
          "execution_count": 88
        }
      ],
      "source": [
        "%%timeit -o\n",
        "df = pd.read_csv(test_csv)"
      ]
    },
    {
      "cell_type": "code",
      "execution_count": 89,
      "metadata": {
        "ExecuteTime": {
          "start_time": "2020-06-17T01:35:27.596Z"
        },
        "pycharm": {
          "is_executing": true,
          "name": "#%%\n"
        },
        "id": "AdlqJxJbEBWt"
      },
      "outputs": [],
      "source": [
        "read = _"
      ]
    },
    {
      "cell_type": "code",
      "execution_count": 90,
      "metadata": {
        "ExecuteTime": {
          "start_time": "2020-06-17T01:35:27.600Z"
        },
        "pycharm": {
          "is_executing": true,
          "name": "#%%\n"
        },
        "id": "6YUSigM_EBWt"
      },
      "outputs": [],
      "source": [
        "test_csv.unlink()  "
      ]
    },
    {
      "cell_type": "markdown",
      "metadata": {
        "pycharm": {
          "name": "#%% md\n"
        },
        "id": "GjBlt6IrEBWt"
      },
      "source": [
        "### Write"
      ]
    },
    {
      "cell_type": "code",
      "execution_count": 91,
      "metadata": {
        "ExecuteTime": {
          "start_time": "2020-06-17T01:35:27.605Z"
        },
        "pycharm": {
          "is_executing": true,
          "name": "#%%\n"
        },
        "id": "KasLfUFQEBWt",
        "colab": {
          "base_uri": "https://localhost:8080/"
        },
        "outputId": "523bda6c-d232-423a-b9ad-0e42307badd6"
      },
      "outputs": [
        {
          "output_type": "stream",
          "name": "stdout",
          "text": [
            "1 loop, best of 5: 55.8 s per loop\n"
          ]
        },
        {
          "output_type": "execute_result",
          "data": {
            "text/plain": [
              "<TimeitResult : 1 loop, best of 5: 55.8 s per loop>"
            ]
          },
          "metadata": {},
          "execution_count": 91
        }
      ],
      "source": [
        "%%timeit -o\n",
        "df.to_csv(test_csv)\n",
        "test_csv.unlink()"
      ]
    },
    {
      "cell_type": "code",
      "execution_count": 92,
      "metadata": {
        "ExecuteTime": {
          "start_time": "2020-06-17T01:35:27.616Z"
        },
        "pycharm": {
          "is_executing": true,
          "name": "#%%\n"
        },
        "id": "bSvhCpNZEBWt"
      },
      "outputs": [],
      "source": [
        "write = _"
      ]
    },
    {
      "cell_type": "markdown",
      "metadata": {
        "pycharm": {
          "name": "#%% md\n"
        },
        "id": "NUubSW2IEBWu"
      },
      "source": [
        "### Results"
      ]
    },
    {
      "cell_type": "code",
      "execution_count": 93,
      "metadata": {
        "ExecuteTime": {
          "start_time": "2020-06-17T01:35:27.621Z"
        },
        "pycharm": {
          "is_executing": true,
          "name": "#%%\n"
        },
        "id": "u2_gNfnQEBWu"
      },
      "outputs": [],
      "source": [
        "results['CSV'] = {'read': np.mean(read.all_runs), 'write': np.mean(write.all_runs), 'size': size}"
      ]
    },
    {
      "cell_type": "markdown",
      "metadata": {
        "pycharm": {
          "name": "#%% md\n"
        },
        "id": "6Ta8ZBykEBWu"
      },
      "source": [
        "## Store Results"
      ]
    },
    {
      "cell_type": "code",
      "source": [
        "pd.DataFrame(results).assign(Data=data_type).to_csv(f'{data_type}.csv')"
      ],
      "metadata": {
        "id": "nrO5DRdxbjDm"
      },
      "execution_count": 94,
      "outputs": []
    },
    {
      "cell_type": "markdown",
      "metadata": {
        "pycharm": {
          "name": "#%% md\n"
        },
        "id": "BCAOW0UREBWu"
      },
      "source": [
        "## Display Results"
      ]
    },
    {
      "cell_type": "markdown",
      "metadata": {
        "pycharm": {
          "name": "#%% md\n"
        },
        "id": "PcJPZqaJEBWu"
      },
      "source": [
        "Please run the notebook twice as described above under `Usage` to create the two `csv` files with results for different test data."
      ]
    },
    {
      "cell_type": "code",
      "execution_count": 106,
      "metadata": {
        "ExecuteTime": {
          "start_time": "2020-06-17T01:35:27.630Z"
        },
        "pycharm": {
          "is_executing": true,
          "name": "#%%\n"
        },
        "id": "4b8azi9TEBWu"
      },
      "outputs": [],
      "source": [
        "df = (pd.read_csv('Numeric.csv', index_col=0)\n",
        "      .append(pd.read_csv('Mixed.csv', index_col=0))\n",
        "      .rename(columns=str.capitalize))\n",
        "df.index.name='Storage'\n",
        "df = df.set_index('Data', append=True).unstack()\n",
        "df.iloc[1] /= 1e6"
      ]
    },
    {
      "cell_type": "code",
      "source": [
        "df"
      ],
      "metadata": {
        "colab": {
          "base_uri": "https://localhost:8080/",
          "height": 206
        },
        "id": "C9Br00c7AYZQ",
        "outputId": "0715eb44-ebb7-4590-a8de-cd0de4d027fd"
      },
      "execution_count": 107,
      "outputs": [
        {
          "output_type": "execute_result",
          "data": {
            "text/plain": [
              "            Parquet               Hdf fixed                Hdf table  \\\n",
              "Data          Mixed     Numeric       Mixed      Numeric       Mixed   \n",
              "Storage                                                                \n",
              "read       0.910159    2.015634   92.924653   212.813626   44.288362   \n",
              "size     250.677618  501.369608  526.559612  1051.662696  450.753287   \n",
              "write     12.829980   29.035646   18.905098    38.493942   70.234465   \n",
              "\n",
              "                     Hdf select                     Csv              \n",
              "Data        Numeric       Mixed     Numeric       Mixed     Numeric  \n",
              "Storage                                                              \n",
              "read      95.829707   70.234465  149.598850   11.334666   23.370982  \n",
              "size     900.767225  450.753287  900.767225  450.753287  900.767225  \n",
              "write    149.598850   70.234465  149.598850   56.752698  117.476676  "
            ],
            "text/html": [
              "\n",
              "  <div id=\"df-bdb1f809-ca7c-445d-8999-40f1cf168ed1\">\n",
              "    <div class=\"colab-df-container\">\n",
              "      <div>\n",
              "<style scoped>\n",
              "    .dataframe tbody tr th:only-of-type {\n",
              "        vertical-align: middle;\n",
              "    }\n",
              "\n",
              "    .dataframe tbody tr th {\n",
              "        vertical-align: top;\n",
              "    }\n",
              "\n",
              "    .dataframe thead tr th {\n",
              "        text-align: left;\n",
              "    }\n",
              "\n",
              "    .dataframe thead tr:last-of-type th {\n",
              "        text-align: right;\n",
              "    }\n",
              "</style>\n",
              "<table border=\"1\" class=\"dataframe\">\n",
              "  <thead>\n",
              "    <tr>\n",
              "      <th></th>\n",
              "      <th colspan=\"2\" halign=\"left\">Parquet</th>\n",
              "      <th colspan=\"2\" halign=\"left\">Hdf fixed</th>\n",
              "      <th colspan=\"2\" halign=\"left\">Hdf table</th>\n",
              "      <th colspan=\"2\" halign=\"left\">Hdf select</th>\n",
              "      <th colspan=\"2\" halign=\"left\">Csv</th>\n",
              "    </tr>\n",
              "    <tr>\n",
              "      <th>Data</th>\n",
              "      <th>Mixed</th>\n",
              "      <th>Numeric</th>\n",
              "      <th>Mixed</th>\n",
              "      <th>Numeric</th>\n",
              "      <th>Mixed</th>\n",
              "      <th>Numeric</th>\n",
              "      <th>Mixed</th>\n",
              "      <th>Numeric</th>\n",
              "      <th>Mixed</th>\n",
              "      <th>Numeric</th>\n",
              "    </tr>\n",
              "    <tr>\n",
              "      <th>Storage</th>\n",
              "      <th></th>\n",
              "      <th></th>\n",
              "      <th></th>\n",
              "      <th></th>\n",
              "      <th></th>\n",
              "      <th></th>\n",
              "      <th></th>\n",
              "      <th></th>\n",
              "      <th></th>\n",
              "      <th></th>\n",
              "    </tr>\n",
              "  </thead>\n",
              "  <tbody>\n",
              "    <tr>\n",
              "      <th>read</th>\n",
              "      <td>0.910159</td>\n",
              "      <td>2.015634</td>\n",
              "      <td>92.924653</td>\n",
              "      <td>212.813626</td>\n",
              "      <td>44.288362</td>\n",
              "      <td>95.829707</td>\n",
              "      <td>70.234465</td>\n",
              "      <td>149.598850</td>\n",
              "      <td>11.334666</td>\n",
              "      <td>23.370982</td>\n",
              "    </tr>\n",
              "    <tr>\n",
              "      <th>size</th>\n",
              "      <td>250.677618</td>\n",
              "      <td>501.369608</td>\n",
              "      <td>526.559612</td>\n",
              "      <td>1051.662696</td>\n",
              "      <td>450.753287</td>\n",
              "      <td>900.767225</td>\n",
              "      <td>450.753287</td>\n",
              "      <td>900.767225</td>\n",
              "      <td>450.753287</td>\n",
              "      <td>900.767225</td>\n",
              "    </tr>\n",
              "    <tr>\n",
              "      <th>write</th>\n",
              "      <td>12.829980</td>\n",
              "      <td>29.035646</td>\n",
              "      <td>18.905098</td>\n",
              "      <td>38.493942</td>\n",
              "      <td>70.234465</td>\n",
              "      <td>149.598850</td>\n",
              "      <td>70.234465</td>\n",
              "      <td>149.598850</td>\n",
              "      <td>56.752698</td>\n",
              "      <td>117.476676</td>\n",
              "    </tr>\n",
              "  </tbody>\n",
              "</table>\n",
              "</div>\n",
              "      <button class=\"colab-df-convert\" onclick=\"convertToInteractive('df-bdb1f809-ca7c-445d-8999-40f1cf168ed1')\"\n",
              "              title=\"Convert this dataframe to an interactive table.\"\n",
              "              style=\"display:none;\">\n",
              "        \n",
              "  <svg xmlns=\"http://www.w3.org/2000/svg\" height=\"24px\"viewBox=\"0 0 24 24\"\n",
              "       width=\"24px\">\n",
              "    <path d=\"M0 0h24v24H0V0z\" fill=\"none\"/>\n",
              "    <path d=\"M18.56 5.44l.94 2.06.94-2.06 2.06-.94-2.06-.94-.94-2.06-.94 2.06-2.06.94zm-11 1L8.5 8.5l.94-2.06 2.06-.94-2.06-.94L8.5 2.5l-.94 2.06-2.06.94zm10 10l.94 2.06.94-2.06 2.06-.94-2.06-.94-.94-2.06-.94 2.06-2.06.94z\"/><path d=\"M17.41 7.96l-1.37-1.37c-.4-.4-.92-.59-1.43-.59-.52 0-1.04.2-1.43.59L10.3 9.45l-7.72 7.72c-.78.78-.78 2.05 0 2.83L4 21.41c.39.39.9.59 1.41.59.51 0 1.02-.2 1.41-.59l7.78-7.78 2.81-2.81c.8-.78.8-2.07 0-2.86zM5.41 20L4 18.59l7.72-7.72 1.47 1.35L5.41 20z\"/>\n",
              "  </svg>\n",
              "      </button>\n",
              "      \n",
              "  <style>\n",
              "    .colab-df-container {\n",
              "      display:flex;\n",
              "      flex-wrap:wrap;\n",
              "      gap: 12px;\n",
              "    }\n",
              "\n",
              "    .colab-df-convert {\n",
              "      background-color: #E8F0FE;\n",
              "      border: none;\n",
              "      border-radius: 50%;\n",
              "      cursor: pointer;\n",
              "      display: none;\n",
              "      fill: #1967D2;\n",
              "      height: 32px;\n",
              "      padding: 0 0 0 0;\n",
              "      width: 32px;\n",
              "    }\n",
              "\n",
              "    .colab-df-convert:hover {\n",
              "      background-color: #E2EBFA;\n",
              "      box-shadow: 0px 1px 2px rgba(60, 64, 67, 0.3), 0px 1px 3px 1px rgba(60, 64, 67, 0.15);\n",
              "      fill: #174EA6;\n",
              "    }\n",
              "\n",
              "    [theme=dark] .colab-df-convert {\n",
              "      background-color: #3B4455;\n",
              "      fill: #D2E3FC;\n",
              "    }\n",
              "\n",
              "    [theme=dark] .colab-df-convert:hover {\n",
              "      background-color: #434B5C;\n",
              "      box-shadow: 0px 1px 3px 1px rgba(0, 0, 0, 0.15);\n",
              "      filter: drop-shadow(0px 1px 2px rgba(0, 0, 0, 0.3));\n",
              "      fill: #FFFFFF;\n",
              "    }\n",
              "  </style>\n",
              "\n",
              "      <script>\n",
              "        const buttonEl =\n",
              "          document.querySelector('#df-bdb1f809-ca7c-445d-8999-40f1cf168ed1 button.colab-df-convert');\n",
              "        buttonEl.style.display =\n",
              "          google.colab.kernel.accessAllowed ? 'block' : 'none';\n",
              "\n",
              "        async function convertToInteractive(key) {\n",
              "          const element = document.querySelector('#df-bdb1f809-ca7c-445d-8999-40f1cf168ed1');\n",
              "          const dataTable =\n",
              "            await google.colab.kernel.invokeFunction('convertToInteractive',\n",
              "                                                     [key], {});\n",
              "          if (!dataTable) return;\n",
              "\n",
              "          const docLinkHtml = 'Like what you see? Visit the ' +\n",
              "            '<a target=\"_blank\" href=https://colab.research.google.com/notebooks/data_table.ipynb>data table notebook</a>'\n",
              "            + ' to learn more about interactive tables.';\n",
              "          element.innerHTML = '';\n",
              "          dataTable['output_type'] = 'display_data';\n",
              "          await google.colab.output.renderOutput(dataTable, element);\n",
              "          const docLink = document.createElement('div');\n",
              "          docLink.innerHTML = docLinkHtml;\n",
              "          element.appendChild(docLink);\n",
              "        }\n",
              "      </script>\n",
              "    </div>\n",
              "  </div>\n",
              "  "
            ]
          },
          "metadata": {},
          "execution_count": 107
        }
      ]
    },
    {
      "cell_type": "code",
      "execution_count": 123,
      "metadata": {
        "ExecuteTime": {
          "start_time": "2020-06-17T01:35:27.633Z"
        },
        "pycharm": {
          "is_executing": true,
          "name": "#%%\n"
        },
        "scrolled": false,
        "id": "MYVsAHaqEBWu",
        "colab": {
          "base_uri": "https://localhost:8080/",
          "height": 297
        },
        "outputId": "5a95a788-6eec-4f00-a499-fa967ec320d4"
      },
      "outputs": [
        {
          "output_type": "display_data",
          "data": {
            "text/plain": [
              "<Figure size 1152x288 with 3 Axes>"
            ],
            "image/png": "[encoded data removed]"
          },
          "metadata": {}
        }
      ],
      "source": [
        "fig, axes = plt.subplots(ncols=3, figsize=(16, 4))\n",
        "for i, op in enumerate(['read', 'size', 'write']):\n",
        "    flag= op in ['read', 'write']\n",
        "    df.iloc[i].plot.barh(title=op, ax=axes[i], logx=flag)\n",
        "    if flag:\n",
        "        axes[i].set_xlabel('seconds (log scale)')\n",
        "    else:\n",
        "        axes[i].set_xlabel('MB')\n",
        "fig.tight_layout()\n",
        "# fig.savefig('storage', dpi=300);"
      ]
    },
    {
      "cell_type": "code",
      "source": [
        "print ('Total time for the script:',(datetime.now() - START_TIME_SCRIPT))"
      ],
      "metadata": {
        "colab": {
          "base_uri": "https://localhost:8080/"
        },
        "id": "Qa31IBN-M9t2",
        "outputId": "5aa38e7a-a6fd-4827-ece0-cab676dd7f9a"
      },
      "execution_count": 124,
      "outputs": [
        {
          "output_type": "stream",
          "name": "stdout",
          "text": [
            "Total time for the script: 3:36:09.947547\n"
          ]
        }
      ]
    }
  ],
  "metadata": {
    "kernelspec": {
      "display_name": "Python 3",
      "language": "python",
      "name": "python3"
    },
    "language_info": {
      "codemirror_mode": {
        "name": "ipython",
        "version": 3
      },
      "file_extension": ".py",
      "mimetype": "text/x-python",
      "name": "python",
      "nbconvert_exporter": "python",
      "pygments_lexer": "ipython3",
      "version": "3.8.8"
    },
    "toc": {
      "base_numbering": 1,
      "nav_menu": {},
      "number_sections": true,
      "sideBar": true,
      "skip_h1_title": true,
      "title_cell": "Table of Contents",
      "title_sidebar": "Contents",
      "toc_cell": false,
      "toc_position": {},
      "toc_section_display": true,
      "toc_window_display": true
    },
    "colab": {
      "name": "py_quantfin_ml4t_chap01_storage_benchmark_numeric_mixed.ipynb",
      "provenance": [],
      "collapsed_sections": [],
      "machine_shape": "hm",
      "background_execution": "on"
    },
    "gpuClass": "standard"
  },
  "nbformat": 4,
  "nbformat_minor": 0
}