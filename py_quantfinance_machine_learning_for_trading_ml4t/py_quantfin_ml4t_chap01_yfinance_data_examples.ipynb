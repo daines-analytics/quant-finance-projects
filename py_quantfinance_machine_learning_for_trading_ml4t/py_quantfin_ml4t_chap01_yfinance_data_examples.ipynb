{
 "cells": [
  {
   "cell_type": "markdown",
   "metadata": {
    "pycharm": {
     "name": "#%% md\n"
    }
   },
   "source": [
    "# Algorithmic Trading Model with ML4T `yfinance` Market and Fundamental Data Examples\n",
    "### David Lowe\n",
    "### June 28, 2022\n",
    "\n",
    "NOTE: This script is for learning purposes only and does not constitute a recommendation for buying or selling any stock mentioned in this script.\n",
    "\n",
    "SUMMARY: This project aims to construct and test an algorithmic trading model and document the end-to-end steps using a template.\n",
    "\n",
    "INTRODUCTION: This script aims to replicate the examples found in chapter one of the book Machine Learning for Algorithmic Trading by Stefan Jansen. The script seeks to validate further the Python environment and package requirements for running these code examples. The eventual goal is to integrate various example code segments into an end-to-end algorithmic trading system.\n",
    "\n",
    "Dataset ML Model: Time series analysis with numerical attributes\n",
    "\n",
    "Dataset Used: US Equities and Fund Prices Hosted by Yahoo! Finance\n",
    "\n",
    "Source and Further Discussion of the Code Examples: https://www.ml4trading.io/chapter/1"
   ]
  },
  {
   "cell_type": "markdown",
   "metadata": {
    "pycharm": {
     "name": "#%% md\n"
    }
   },
   "source": [
    "## Imports & Settings"
   ]
  },
  {
   "cell_type": "code",
   "execution_count": 1,
   "metadata": {
    "ExecuteTime": {
     "end_time": "2020-12-30T22:10:17.912280Z",
     "start_time": "2020-12-30T22:10:17.910159Z"
    },
    "pycharm": {
     "name": "#%%\n"
    }
   },
   "outputs": [],
   "source": [
    "import warnings\n",
    "warnings.filterwarnings('ignore')"
   ]
  },
  {
   "cell_type": "code",
   "execution_count": 2,
   "metadata": {
    "ExecuteTime": {
     "end_time": "2020-12-30T22:10:18.106348Z",
     "start_time": "2020-12-30T22:10:17.915000Z"
    },
    "pycharm": {
     "name": "#%%\n"
    }
   },
   "outputs": [],
   "source": [
    "import pandas as pd\n",
    "import yfinance as yf\n",
    "from datetime import datetime"
   ]
  },
  {
   "cell_type": "markdown",
   "metadata": {
    "pycharm": {
     "name": "#%% md\n"
    }
   },
   "source": [
    "## How to work with a Ticker object"
   ]
  },
  {
   "cell_type": "code",
   "execution_count": 3,
   "metadata": {
    "ExecuteTime": {
     "end_time": "2020-12-30T22:10:18.113266Z",
     "start_time": "2020-12-30T22:10:18.107256Z"
    },
    "pycharm": {
     "name": "#%%\n"
    }
   },
   "outputs": [],
   "source": [
    "symbol = 'INTC'\n",
    "ticker = yf.Ticker(symbol)"
   ]
  },
  {
   "cell_type": "markdown",
   "metadata": {
    "pycharm": {
     "name": "#%% md\n"
    }
   },
   "source": [
    "### Show ticker info"
   ]
  },
  {
   "cell_type": "code",
   "execution_count": 4,
   "metadata": {
    "ExecuteTime": {
     "end_time": "2020-12-30T22:10:19.850491Z",
     "start_time": "2020-12-30T22:10:18.114284Z"
    },
    "pycharm": {
     "name": "#%%\n"
    }
   },
   "outputs": [
    {
     "data": {
      "text/plain": "zip                                                           95054-1549\nsector                                                        Technology\nfullTimeEmployees                                                 122900\nlongBusinessSummary    Intel Corporation engages in the design, manuf...\ncity                                                         Santa Clara\n                                             ...                        \ndayHigh                                                            38.12\nregularMarketPrice                                                 36.97\npreMarketPrice                                                      None\nlogo_url                             https://logo.clearbit.com/intel.com\ntrailingPegRatio                                                  2.1556\nLength: 153, dtype: object"
     },
     "execution_count": 4,
     "metadata": {},
     "output_type": "execute_result"
    }
   ],
   "source": [
    "pd.Series(ticker.info)"
   ]
  },
  {
   "cell_type": "markdown",
   "metadata": {
    "pycharm": {
     "name": "#%% md\n"
    }
   },
   "source": [
    "### Get market data"
   ]
  },
  {
   "cell_type": "code",
   "execution_count": 5,
   "metadata": {
    "ExecuteTime": {
     "end_time": "2020-12-30T22:10:20.144321Z",
     "start_time": "2020-12-30T22:10:19.854215Z"
    },
    "pycharm": {
     "name": "#%%\n"
    }
   },
   "outputs": [
    {
     "name": "stdout",
     "output_type": "stream",
     "text": [
      "<class 'pandas.core.frame.DataFrame'>\n",
      "DatetimeIndex: 1561 entries, 2022-06-13 09:30:00-04:00 to 2022-06-17 16:00:00-04:00\n",
      "Data columns (total 7 columns):\n",
      " #   Column        Non-Null Count  Dtype  \n",
      "---  ------        --------------  -----  \n",
      " 0   Open          1561 non-null   float64\n",
      " 1   High          1561 non-null   float64\n",
      " 2   Low           1561 non-null   float64\n",
      " 3   Close         1561 non-null   float64\n",
      " 4   Volume        1561 non-null   int64  \n",
      " 5   Dividends     1561 non-null   int64  \n",
      " 6   Stock Splits  1561 non-null   int64  \n",
      "dtypes: float64(4), int64(3)\n",
      "memory usage: 97.6 KB\n"
     ]
    }
   ],
   "source": [
    "data = ticker.history(period='5d',\n",
    "                      interval='1m',\n",
    "                      start=datetime(2022, 6, 13),\n",
    "                      end=datetime(2022, 6, 17),\n",
    "                      actions=True,\n",
    "                      auto_adjust=True,\n",
    "                      back_adjust=False)\n",
    "data.info()"
   ]
  },
  {
   "cell_type": "markdown",
   "metadata": {
    "pycharm": {
     "name": "#%% md\n"
    }
   },
   "source": [
    "### View company actions"
   ]
  },
  {
   "cell_type": "code",
   "execution_count": 6,
   "metadata": {
    "ExecuteTime": {
     "end_time": "2020-12-30T22:10:20.151969Z",
     "start_time": "2020-12-30T22:10:20.145305Z"
    },
    "pycharm": {
     "name": "#%%\n"
    }
   },
   "outputs": [
    {
     "data": {
      "text/plain": "Empty DataFrame\nColumns: [Dividends, Stock Splits]\nIndex: []",
      "text/html": "<div>\n<style scoped>\n    .dataframe tbody tr th:only-of-type {\n        vertical-align: middle;\n    }\n\n    .dataframe tbody tr th {\n        vertical-align: top;\n    }\n\n    .dataframe thead th {\n        text-align: right;\n    }\n</style>\n<table border=\"1\" class=\"dataframe\">\n  <thead>\n    <tr style=\"text-align: right;\">\n      <th></th>\n      <th>Dividends</th>\n      <th>Stock Splits</th>\n    </tr>\n    <tr>\n      <th>Datetime</th>\n      <th></th>\n      <th></th>\n    </tr>\n  </thead>\n  <tbody>\n  </tbody>\n</table>\n</div>"
     },
     "execution_count": 6,
     "metadata": {},
     "output_type": "execute_result"
    }
   ],
   "source": [
    "# show actions (dividends, splits)\n",
    "ticker.actions"
   ]
  },
  {
   "cell_type": "code",
   "execution_count": 7,
   "metadata": {
    "ExecuteTime": {
     "end_time": "2020-12-30T22:10:20.162584Z",
     "start_time": "2020-12-30T22:10:20.152852Z"
    },
    "pycharm": {
     "name": "#%%\n"
    }
   },
   "outputs": [
    {
     "data": {
      "text/plain": "Series([], Name: Dividends, dtype: int64)"
     },
     "execution_count": 7,
     "metadata": {},
     "output_type": "execute_result"
    }
   ],
   "source": [
    "ticker.dividends"
   ]
  },
  {
   "cell_type": "code",
   "execution_count": 8,
   "metadata": {
    "ExecuteTime": {
     "end_time": "2020-12-30T22:10:20.173848Z",
     "start_time": "2020-12-30T22:10:20.163395Z"
    },
    "pycharm": {
     "name": "#%%\n"
    }
   },
   "outputs": [
    {
     "data": {
      "text/plain": "Series([], Name: Stock Splits, dtype: int64)"
     },
     "execution_count": 8,
     "metadata": {},
     "output_type": "execute_result"
    }
   ],
   "source": [
    "ticker.splits"
   ]
  },
  {
   "cell_type": "markdown",
   "metadata": {
    "pycharm": {
     "name": "#%% md\n"
    }
   },
   "source": [
    "### Annual and Quarterly Financial Statement Summary"
   ]
  },
  {
   "cell_type": "code",
   "execution_count": 9,
   "metadata": {
    "ExecuteTime": {
     "end_time": "2020-12-30T22:10:20.184437Z",
     "start_time": "2020-12-30T22:10:20.176409Z"
    },
    "pycharm": {
     "name": "#%%\n"
    }
   },
   "outputs": [
    {
     "data": {
      "text/plain": "                                           2021-12-25     2020-12-26  \\\nResearch Development                    15190000000.0  13556000000.0   \nEffect Of Accounting Charges                     None           None   \nIncome Before Tax                       21703000000.0  25078000000.0   \nMinority Interest                                None           None   \nNet Income                              19868000000.0  20899000000.0   \nSelling General Administrative           6543000000.0   6180000000.0   \nGross Profit                            43815000000.0  43612000000.0   \nEbit                                    22082000000.0  23876000000.0   \nOperating Income                        22082000000.0  23876000000.0   \nOther Operating Expenses                          NaN            NaN   \nInterest Expense                         -597000000.0   -629000000.0   \nExtraordinary Items                              None           None   \nNon Recurring                                    None           None   \nOther Items                                      None           None   \nIncome Tax Expense                       1835000000.0   4179000000.0   \nTotal Revenue                           79024000000.0  77867000000.0   \nTotal Operating Expenses                56942000000.0  53991000000.0   \nCost Of Revenue                         35209000000.0  34255000000.0   \nTotal Other Income Expense Net           -379000000.0   1202000000.0   \nDiscontinued Operations                          None           None   \nNet Income From Continuing Ops          19868000000.0  20899000000.0   \nNet Income Applicable To Common Shares  19868000000.0  20899000000.0   \n\n                                           2019-12-28     2018-12-29  \nResearch Development                    13362000000.0  13543000000.0  \nEffect Of Accounting Charges                     None           None  \nIncome Before Tax                       24058000000.0  23317000000.0  \nMinority Interest                                None           None  \nNet Income                              21048000000.0  21053000000.0  \nSelling General Administrative           6350000000.0   6950000000.0  \nGross Profit                            42140000000.0  43737000000.0  \nEbit                                    22428000000.0  23244000000.0  \nOperating Income                        22428000000.0  23244000000.0  \nOther Operating Expenses                  393000000.0    -72000000.0  \nInterest Expense                         -489000000.0   -468000000.0  \nExtraordinary Items                              None           None  \nNon Recurring                                    None           None  \nOther Items                                      None           None  \nIncome Tax Expense                       3010000000.0   2264000000.0  \nTotal Revenue                           71965000000.0  70848000000.0  \nTotal Operating Expenses                49537000000.0  47604000000.0  \nCost Of Revenue                         29825000000.0  27111000000.0  \nTotal Other Income Expense Net           1630000000.0     73000000.0  \nDiscontinued Operations                          None           None  \nNet Income From Continuing Ops          21048000000.0  21053000000.0  \nNet Income Applicable To Common Shares  21048000000.0  21053000000.0  ",
      "text/html": "<div>\n<style scoped>\n    .dataframe tbody tr th:only-of-type {\n        vertical-align: middle;\n    }\n\n    .dataframe tbody tr th {\n        vertical-align: top;\n    }\n\n    .dataframe thead th {\n        text-align: right;\n    }\n</style>\n<table border=\"1\" class=\"dataframe\">\n  <thead>\n    <tr style=\"text-align: right;\">\n      <th></th>\n      <th>2021-12-25</th>\n      <th>2020-12-26</th>\n      <th>2019-12-28</th>\n      <th>2018-12-29</th>\n    </tr>\n  </thead>\n  <tbody>\n    <tr>\n      <th>Research Development</th>\n      <td>15190000000.0</td>\n      <td>13556000000.0</td>\n      <td>13362000000.0</td>\n      <td>13543000000.0</td>\n    </tr>\n    <tr>\n      <th>Effect Of Accounting Charges</th>\n      <td>None</td>\n      <td>None</td>\n      <td>None</td>\n      <td>None</td>\n    </tr>\n    <tr>\n      <th>Income Before Tax</th>\n      <td>21703000000.0</td>\n      <td>25078000000.0</td>\n      <td>24058000000.0</td>\n      <td>23317000000.0</td>\n    </tr>\n    <tr>\n      <th>Minority Interest</th>\n      <td>None</td>\n      <td>None</td>\n      <td>None</td>\n      <td>None</td>\n    </tr>\n    <tr>\n      <th>Net Income</th>\n      <td>19868000000.0</td>\n      <td>20899000000.0</td>\n      <td>21048000000.0</td>\n      <td>21053000000.0</td>\n    </tr>\n    <tr>\n      <th>Selling General Administrative</th>\n      <td>6543000000.0</td>\n      <td>6180000000.0</td>\n      <td>6350000000.0</td>\n      <td>6950000000.0</td>\n    </tr>\n    <tr>\n      <th>Gross Profit</th>\n      <td>43815000000.0</td>\n      <td>43612000000.0</td>\n      <td>42140000000.0</td>\n      <td>43737000000.0</td>\n    </tr>\n    <tr>\n      <th>Ebit</th>\n      <td>22082000000.0</td>\n      <td>23876000000.0</td>\n      <td>22428000000.0</td>\n      <td>23244000000.0</td>\n    </tr>\n    <tr>\n      <th>Operating Income</th>\n      <td>22082000000.0</td>\n      <td>23876000000.0</td>\n      <td>22428000000.0</td>\n      <td>23244000000.0</td>\n    </tr>\n    <tr>\n      <th>Other Operating Expenses</th>\n      <td>NaN</td>\n      <td>NaN</td>\n      <td>393000000.0</td>\n      <td>-72000000.0</td>\n    </tr>\n    <tr>\n      <th>Interest Expense</th>\n      <td>-597000000.0</td>\n      <td>-629000000.0</td>\n      <td>-489000000.0</td>\n      <td>-468000000.0</td>\n    </tr>\n    <tr>\n      <th>Extraordinary Items</th>\n      <td>None</td>\n      <td>None</td>\n      <td>None</td>\n      <td>None</td>\n    </tr>\n    <tr>\n      <th>Non Recurring</th>\n      <td>None</td>\n      <td>None</td>\n      <td>None</td>\n      <td>None</td>\n    </tr>\n    <tr>\n      <th>Other Items</th>\n      <td>None</td>\n      <td>None</td>\n      <td>None</td>\n      <td>None</td>\n    </tr>\n    <tr>\n      <th>Income Tax Expense</th>\n      <td>1835000000.0</td>\n      <td>4179000000.0</td>\n      <td>3010000000.0</td>\n      <td>2264000000.0</td>\n    </tr>\n    <tr>\n      <th>Total Revenue</th>\n      <td>79024000000.0</td>\n      <td>77867000000.0</td>\n      <td>71965000000.0</td>\n      <td>70848000000.0</td>\n    </tr>\n    <tr>\n      <th>Total Operating Expenses</th>\n      <td>56942000000.0</td>\n      <td>53991000000.0</td>\n      <td>49537000000.0</td>\n      <td>47604000000.0</td>\n    </tr>\n    <tr>\n      <th>Cost Of Revenue</th>\n      <td>35209000000.0</td>\n      <td>34255000000.0</td>\n      <td>29825000000.0</td>\n      <td>27111000000.0</td>\n    </tr>\n    <tr>\n      <th>Total Other Income Expense Net</th>\n      <td>-379000000.0</td>\n      <td>1202000000.0</td>\n      <td>1630000000.0</td>\n      <td>73000000.0</td>\n    </tr>\n    <tr>\n      <th>Discontinued Operations</th>\n      <td>None</td>\n      <td>None</td>\n      <td>None</td>\n      <td>None</td>\n    </tr>\n    <tr>\n      <th>Net Income From Continuing Ops</th>\n      <td>19868000000.0</td>\n      <td>20899000000.0</td>\n      <td>21048000000.0</td>\n      <td>21053000000.0</td>\n    </tr>\n    <tr>\n      <th>Net Income Applicable To Common Shares</th>\n      <td>19868000000.0</td>\n      <td>20899000000.0</td>\n      <td>21048000000.0</td>\n      <td>21053000000.0</td>\n    </tr>\n  </tbody>\n</table>\n</div>"
     },
     "execution_count": 9,
     "metadata": {},
     "output_type": "execute_result"
    }
   ],
   "source": [
    "ticker.financials"
   ]
  },
  {
   "cell_type": "code",
   "execution_count": 10,
   "metadata": {
    "ExecuteTime": {
     "end_time": "2020-12-30T22:10:20.196645Z",
     "start_time": "2020-12-30T22:10:20.186246Z"
    },
    "pycharm": {
     "name": "#%%\n"
    }
   },
   "outputs": [
    {
     "data": {
      "text/plain": "                                           2022-04-02     2021-12-25  \\\nResearch Development                     4362000000.0   4049000000.0   \nEffect Of Accounting Charges                     None           None   \nIncome Before Tax                        9661000000.0   5194000000.0   \nMinority Interest                                None           None   \nNet Income                               8113000000.0   4623000000.0   \nSelling General Administrative           1752000000.0   1942000000.0   \nGross Profit                             9244000000.0  11009000000.0   \nEbit                                     3130000000.0   5018000000.0   \nOperating Income                         3130000000.0   5018000000.0   \nOther Operating Expenses                         None           None   \nInterest Expense                         -124000000.0   -134000000.0   \nExtraordinary Items                              None           None   \nNon Recurring                                    None           None   \nOther Items                                      None           None   \nIncome Tax Expense                       1548000000.0    571000000.0   \nTotal Revenue                           18353000000.0  20528000000.0   \nTotal Operating Expenses                15223000000.0  15510000000.0   \nCost Of Revenue                          9109000000.0   9519000000.0   \nTotal Other Income Expense Net           6531000000.0    176000000.0   \nDiscontinued Operations                          None           None   \nNet Income From Continuing Ops           8113000000.0   4623000000.0   \nNet Income Applicable To Common Shares   8113000000.0   4623000000.0   \n\n                                           2021-09-25     2021-06-26  \nResearch Development                     3803000000.0   3715000000.0  \nEffect Of Accounting Charges                     None           None  \nIncome Before Tax                        6858000000.0   5745000000.0  \nMinority Interest                                None           None  \nNet Income                               6823000000.0   5061000000.0  \nSelling General Administrative           1674000000.0   1599000000.0  \nGross Profit                            10746000000.0  11206000000.0  \nEbit                                     5269000000.0   5892000000.0  \nOperating Income                         5269000000.0   5892000000.0  \nOther Operating Expenses                         None           None  \nInterest Expense                         -144000000.0   -129000000.0  \nExtraordinary Items                              None           None  \nNon Recurring                                    None           None  \nOther Items                                      None           None  \nIncome Tax Expense                         35000000.0    684000000.0  \nTotal Revenue                           19192000000.0  19631000000.0  \nTotal Operating Expenses                13923000000.0  13739000000.0  \nCost Of Revenue                          8446000000.0   8425000000.0  \nTotal Other Income Expense Net           1589000000.0   -147000000.0  \nDiscontinued Operations                          None           None  \nNet Income From Continuing Ops           6823000000.0   5061000000.0  \nNet Income Applicable To Common Shares   6823000000.0   5061000000.0  ",
      "text/html": "<div>\n<style scoped>\n    .dataframe tbody tr th:only-of-type {\n        vertical-align: middle;\n    }\n\n    .dataframe tbody tr th {\n        vertical-align: top;\n    }\n\n    .dataframe thead th {\n        text-align: right;\n    }\n</style>\n<table border=\"1\" class=\"dataframe\">\n  <thead>\n    <tr style=\"text-align: right;\">\n      <th></th>\n      <th>2022-04-02</th>\n      <th>2021-12-25</th>\n      <th>2021-09-25</th>\n      <th>2021-06-26</th>\n    </tr>\n  </thead>\n  <tbody>\n    <tr>\n      <th>Research Development</th>\n      <td>4362000000.0</td>\n      <td>4049000000.0</td>\n      <td>3803000000.0</td>\n      <td>3715000000.0</td>\n    </tr>\n    <tr>\n      <th>Effect Of Accounting Charges</th>\n      <td>None</td>\n      <td>None</td>\n      <td>None</td>\n      <td>None</td>\n    </tr>\n    <tr>\n      <th>Income Before Tax</th>\n      <td>9661000000.0</td>\n      <td>5194000000.0</td>\n      <td>6858000000.0</td>\n      <td>5745000000.0</td>\n    </tr>\n    <tr>\n      <th>Minority Interest</th>\n      <td>None</td>\n      <td>None</td>\n      <td>None</td>\n      <td>None</td>\n    </tr>\n    <tr>\n      <th>Net Income</th>\n      <td>8113000000.0</td>\n      <td>4623000000.0</td>\n      <td>6823000000.0</td>\n      <td>5061000000.0</td>\n    </tr>\n    <tr>\n      <th>Selling General Administrative</th>\n      <td>1752000000.0</td>\n      <td>1942000000.0</td>\n      <td>1674000000.0</td>\n      <td>1599000000.0</td>\n    </tr>\n    <tr>\n      <th>Gross Profit</th>\n      <td>9244000000.0</td>\n      <td>11009000000.0</td>\n      <td>10746000000.0</td>\n      <td>11206000000.0</td>\n    </tr>\n    <tr>\n      <th>Ebit</th>\n      <td>3130000000.0</td>\n      <td>5018000000.0</td>\n      <td>5269000000.0</td>\n      <td>5892000000.0</td>\n    </tr>\n    <tr>\n      <th>Operating Income</th>\n      <td>3130000000.0</td>\n      <td>5018000000.0</td>\n      <td>5269000000.0</td>\n      <td>5892000000.0</td>\n    </tr>\n    <tr>\n      <th>Other Operating Expenses</th>\n      <td>None</td>\n      <td>None</td>\n      <td>None</td>\n      <td>None</td>\n    </tr>\n    <tr>\n      <th>Interest Expense</th>\n      <td>-124000000.0</td>\n      <td>-134000000.0</td>\n      <td>-144000000.0</td>\n      <td>-129000000.0</td>\n    </tr>\n    <tr>\n      <th>Extraordinary Items</th>\n      <td>None</td>\n      <td>None</td>\n      <td>None</td>\n      <td>None</td>\n    </tr>\n    <tr>\n      <th>Non Recurring</th>\n      <td>None</td>\n      <td>None</td>\n      <td>None</td>\n      <td>None</td>\n    </tr>\n    <tr>\n      <th>Other Items</th>\n      <td>None</td>\n      <td>None</td>\n      <td>None</td>\n      <td>None</td>\n    </tr>\n    <tr>\n      <th>Income Tax Expense</th>\n      <td>1548000000.0</td>\n      <td>571000000.0</td>\n      <td>35000000.0</td>\n      <td>684000000.0</td>\n    </tr>\n    <tr>\n      <th>Total Revenue</th>\n      <td>18353000000.0</td>\n      <td>20528000000.0</td>\n      <td>19192000000.0</td>\n      <td>19631000000.0</td>\n    </tr>\n    <tr>\n      <th>Total Operating Expenses</th>\n      <td>15223000000.0</td>\n      <td>15510000000.0</td>\n      <td>13923000000.0</td>\n      <td>13739000000.0</td>\n    </tr>\n    <tr>\n      <th>Cost Of Revenue</th>\n      <td>9109000000.0</td>\n      <td>9519000000.0</td>\n      <td>8446000000.0</td>\n      <td>8425000000.0</td>\n    </tr>\n    <tr>\n      <th>Total Other Income Expense Net</th>\n      <td>6531000000.0</td>\n      <td>176000000.0</td>\n      <td>1589000000.0</td>\n      <td>-147000000.0</td>\n    </tr>\n    <tr>\n      <th>Discontinued Operations</th>\n      <td>None</td>\n      <td>None</td>\n      <td>None</td>\n      <td>None</td>\n    </tr>\n    <tr>\n      <th>Net Income From Continuing Ops</th>\n      <td>8113000000.0</td>\n      <td>4623000000.0</td>\n      <td>6823000000.0</td>\n      <td>5061000000.0</td>\n    </tr>\n    <tr>\n      <th>Net Income Applicable To Common Shares</th>\n      <td>8113000000.0</td>\n      <td>4623000000.0</td>\n      <td>6823000000.0</td>\n      <td>5061000000.0</td>\n    </tr>\n  </tbody>\n</table>\n</div>"
     },
     "execution_count": 10,
     "metadata": {},
     "output_type": "execute_result"
    }
   ],
   "source": [
    "ticker.quarterly_financials"
   ]
  },
  {
   "cell_type": "markdown",
   "metadata": {
    "pycharm": {
     "name": "#%% md\n"
    }
   },
   "source": [
    "### Annual and Quarterly Balance Sheet"
   ]
  },
  {
   "cell_type": "code",
   "execution_count": 11,
   "metadata": {
    "ExecuteTime": {
     "end_time": "2020-12-30T22:10:20.206470Z",
     "start_time": "2020-12-30T22:10:20.197694Z"
    },
    "pycharm": {
     "name": "#%%\n"
    }
   },
   "outputs": [
    {
     "data": {
      "text/plain": "                                    2021-12-25    2020-12-26    2019-12-28  \\\nIntangible Assets                 7.270000e+09  9.026000e+09  1.082700e+10   \nTotal Liab                        7.301500e+10  7.205300e+10  5.902000e+10   \nTotal Stockholder Equity          9.539100e+10  8.103800e+10  7.750400e+10   \nOther Current Liab                2.555000e+09  3.438000e+09  2.330000e+09   \nTotal Assets                      1.684060e+11  1.530910e+11  1.365240e+11   \nCommon Stock                      2.800600e+10  2.555600e+10  2.526100e+10   \nOther Current Assets              8.897000e+09  7.575000e+09  1.637000e+09   \nRetained Earnings                 6.826500e+10  5.623300e+10  5.352300e+10   \nOther Liab                        1.174800e+10  1.340200e+10  1.140200e+10   \nGood Will                         2.696300e+10  2.697100e+10  2.627600e+10   \nTreasury Stock                   -8.800000e+08 -7.510000e+08 -1.280000e+09   \nOther Assets                      5.523000e+09  5.917000e+09  5.553000e+09   \nCash                              4.827000e+09  5.865000e+09  4.194000e+09   \nTotal Current Liabilities         2.746200e+10  2.475400e+10  2.231000e+10   \nDeferred Long Term Asset Charges  8.740000e+08  1.232000e+09  1.209000e+09   \nShort Long Term Debt              4.656000e+09  2.632000e+09  3.747000e+09   \nOther Stockholder Equity         -8.800000e+08 -7.510000e+08 -1.280000e+09   \nProperty Plant Equipment          6.379400e+10  5.658400e+10  5.538600e+10   \nTotal Current Assets              5.771800e+10  4.724900e+10  3.123900e+10   \nLong Term Investments             7.138000e+09  7.344000e+09  7.243000e+09   \nNet Tangible Assets               6.115800e+10  4.504100e+10  4.040100e+10   \nShort Term Investments            2.103000e+09  2.292000e+09  1.082000e+09   \nNet Receivables                   9.632000e+09  7.352000e+09  7.735000e+09   \nLong Term Debt                    3.351000e+10  3.389700e+10  2.530800e+10   \nInventory                         1.077600e+10  8.427000e+09  8.744000e+09   \nAccounts Payable                  5.747000e+09  5.581000e+09  4.128000e+09   \n\n                                    2018-12-29  \nIntangible Assets                 1.183600e+10  \nTotal Liab                        5.340000e+10  \nTotal Stockholder Equity          7.456300e+10  \nOther Current Liab                1.438000e+09  \nTotal Assets                      1.279630e+11  \nCommon Stock                      2.536500e+10  \nOther Current Assets              2.646000e+09  \nRetained Earnings                 5.017200e+10  \nOther Liab                        1.167600e+10  \nGood Will                         2.451300e+10  \nTreasury Stock                   -9.740000e+08  \nOther Assets                      4.421000e+09  \nCash                              3.019000e+09  \nTotal Current Liabilities         1.662600e+10  \nDeferred Long Term Asset Charges  1.122000e+09  \nShort Long Term Debt              7.610000e+08  \nOther Stockholder Equity         -9.740000e+08  \nProperty Plant Equipment          4.897600e+10  \nTotal Current Assets              2.878700e+10  \nLong Term Investments             9.430000e+09  \nNet Tangible Assets               3.821400e+10  \nShort Term Investments            2.788000e+09  \nNet Receivables                   7.238000e+09  \nLong Term Debt                    2.509800e+10  \nInventory                         7.253000e+09  \nAccounts Payable                  3.824000e+09  ",
      "text/html": "<div>\n<style scoped>\n    .dataframe tbody tr th:only-of-type {\n        vertical-align: middle;\n    }\n\n    .dataframe tbody tr th {\n        vertical-align: top;\n    }\n\n    .dataframe thead th {\n        text-align: right;\n    }\n</style>\n<table border=\"1\" class=\"dataframe\">\n  <thead>\n    <tr style=\"text-align: right;\">\n      <th></th>\n      <th>2021-12-25</th>\n      <th>2020-12-26</th>\n      <th>2019-12-28</th>\n      <th>2018-12-29</th>\n    </tr>\n  </thead>\n  <tbody>\n    <tr>\n      <th>Intangible Assets</th>\n      <td>7.270000e+09</td>\n      <td>9.026000e+09</td>\n      <td>1.082700e+10</td>\n      <td>1.183600e+10</td>\n    </tr>\n    <tr>\n      <th>Total Liab</th>\n      <td>7.301500e+10</td>\n      <td>7.205300e+10</td>\n      <td>5.902000e+10</td>\n      <td>5.340000e+10</td>\n    </tr>\n    <tr>\n      <th>Total Stockholder Equity</th>\n      <td>9.539100e+10</td>\n      <td>8.103800e+10</td>\n      <td>7.750400e+10</td>\n      <td>7.456300e+10</td>\n    </tr>\n    <tr>\n      <th>Other Current Liab</th>\n      <td>2.555000e+09</td>\n      <td>3.438000e+09</td>\n      <td>2.330000e+09</td>\n      <td>1.438000e+09</td>\n    </tr>\n    <tr>\n      <th>Total Assets</th>\n      <td>1.684060e+11</td>\n      <td>1.530910e+11</td>\n      <td>1.365240e+11</td>\n      <td>1.279630e+11</td>\n    </tr>\n    <tr>\n      <th>Common Stock</th>\n      <td>2.800600e+10</td>\n      <td>2.555600e+10</td>\n      <td>2.526100e+10</td>\n      <td>2.536500e+10</td>\n    </tr>\n    <tr>\n      <th>Other Current Assets</th>\n      <td>8.897000e+09</td>\n      <td>7.575000e+09</td>\n      <td>1.637000e+09</td>\n      <td>2.646000e+09</td>\n    </tr>\n    <tr>\n      <th>Retained Earnings</th>\n      <td>6.826500e+10</td>\n      <td>5.623300e+10</td>\n      <td>5.352300e+10</td>\n      <td>5.017200e+10</td>\n    </tr>\n    <tr>\n      <th>Other Liab</th>\n      <td>1.174800e+10</td>\n      <td>1.340200e+10</td>\n      <td>1.140200e+10</td>\n      <td>1.167600e+10</td>\n    </tr>\n    <tr>\n      <th>Good Will</th>\n      <td>2.696300e+10</td>\n      <td>2.697100e+10</td>\n      <td>2.627600e+10</td>\n      <td>2.451300e+10</td>\n    </tr>\n    <tr>\n      <th>Treasury Stock</th>\n      <td>-8.800000e+08</td>\n      <td>-7.510000e+08</td>\n      <td>-1.280000e+09</td>\n      <td>-9.740000e+08</td>\n    </tr>\n    <tr>\n      <th>Other Assets</th>\n      <td>5.523000e+09</td>\n      <td>5.917000e+09</td>\n      <td>5.553000e+09</td>\n      <td>4.421000e+09</td>\n    </tr>\n    <tr>\n      <th>Cash</th>\n      <td>4.827000e+09</td>\n      <td>5.865000e+09</td>\n      <td>4.194000e+09</td>\n      <td>3.019000e+09</td>\n    </tr>\n    <tr>\n      <th>Total Current Liabilities</th>\n      <td>2.746200e+10</td>\n      <td>2.475400e+10</td>\n      <td>2.231000e+10</td>\n      <td>1.662600e+10</td>\n    </tr>\n    <tr>\n      <th>Deferred Long Term Asset Charges</th>\n      <td>8.740000e+08</td>\n      <td>1.232000e+09</td>\n      <td>1.209000e+09</td>\n      <td>1.122000e+09</td>\n    </tr>\n    <tr>\n      <th>Short Long Term Debt</th>\n      <td>4.656000e+09</td>\n      <td>2.632000e+09</td>\n      <td>3.747000e+09</td>\n      <td>7.610000e+08</td>\n    </tr>\n    <tr>\n      <th>Other Stockholder Equity</th>\n      <td>-8.800000e+08</td>\n      <td>-7.510000e+08</td>\n      <td>-1.280000e+09</td>\n      <td>-9.740000e+08</td>\n    </tr>\n    <tr>\n      <th>Property Plant Equipment</th>\n      <td>6.379400e+10</td>\n      <td>5.658400e+10</td>\n      <td>5.538600e+10</td>\n      <td>4.897600e+10</td>\n    </tr>\n    <tr>\n      <th>Total Current Assets</th>\n      <td>5.771800e+10</td>\n      <td>4.724900e+10</td>\n      <td>3.123900e+10</td>\n      <td>2.878700e+10</td>\n    </tr>\n    <tr>\n      <th>Long Term Investments</th>\n      <td>7.138000e+09</td>\n      <td>7.344000e+09</td>\n      <td>7.243000e+09</td>\n      <td>9.430000e+09</td>\n    </tr>\n    <tr>\n      <th>Net Tangible Assets</th>\n      <td>6.115800e+10</td>\n      <td>4.504100e+10</td>\n      <td>4.040100e+10</td>\n      <td>3.821400e+10</td>\n    </tr>\n    <tr>\n      <th>Short Term Investments</th>\n      <td>2.103000e+09</td>\n      <td>2.292000e+09</td>\n      <td>1.082000e+09</td>\n      <td>2.788000e+09</td>\n    </tr>\n    <tr>\n      <th>Net Receivables</th>\n      <td>9.632000e+09</td>\n      <td>7.352000e+09</td>\n      <td>7.735000e+09</td>\n      <td>7.238000e+09</td>\n    </tr>\n    <tr>\n      <th>Long Term Debt</th>\n      <td>3.351000e+10</td>\n      <td>3.389700e+10</td>\n      <td>2.530800e+10</td>\n      <td>2.509800e+10</td>\n    </tr>\n    <tr>\n      <th>Inventory</th>\n      <td>1.077600e+10</td>\n      <td>8.427000e+09</td>\n      <td>8.744000e+09</td>\n      <td>7.253000e+09</td>\n    </tr>\n    <tr>\n      <th>Accounts Payable</th>\n      <td>5.747000e+09</td>\n      <td>5.581000e+09</td>\n      <td>4.128000e+09</td>\n      <td>3.824000e+09</td>\n    </tr>\n  </tbody>\n</table>\n</div>"
     },
     "execution_count": 11,
     "metadata": {},
     "output_type": "execute_result"
    }
   ],
   "source": [
    "ticker.balance_sheet"
   ]
  },
  {
   "cell_type": "code",
   "execution_count": 12,
   "metadata": {
    "ExecuteTime": {
     "end_time": "2020-12-30T22:10:20.230795Z",
     "start_time": "2020-12-30T22:10:20.207431Z"
    },
    "pycharm": {
     "name": "#%%\n"
    }
   },
   "outputs": [
    {
     "data": {
      "text/plain": "                                    2022-04-02    2021-12-25    2021-09-25  \\\nIntangible Assets                 6.813000e+09  7.270000e+09  7.684000e+09   \nTotal Liab                        7.322000e+10  7.301500e+10  7.787500e+10   \nTotal Stockholder Equity          1.031360e+11  9.539100e+10  9.008700e+10   \nOther Current Liab                6.250000e+08  2.555000e+09  5.560000e+08   \nTotal Assets                      1.763560e+11  1.684060e+11  1.679620e+11   \nCommon Stock                      2.924400e+10  2.800600e+10  2.759200e+10   \nOther Current Assets              4.076000e+09  8.897000e+09  8.260000e+09   \nRetained Earnings                 7.489400e+10  6.826500e+10  6.364200e+10   \nOther Liab                        1.111000e+10  1.174800e+10  1.269300e+10   \nGood Will                         2.701100e+10  2.696300e+10  2.678600e+10   \nTreasury Stock                   -1.002000e+09 -8.800000e+08 -1.147000e+09   \nOther Assets                      7.210000e+09  5.523000e+09  5.452000e+09   \nCash                              6.215000e+09  4.827000e+09  7.870000e+09   \nTotal Current Liabilities         2.932200e+10  2.746200e+10  2.957200e+10   \nShort Long Term Debt              4.459000e+09  4.656000e+09  4.694000e+09   \nOther Stockholder Equity         -1.002000e+09 -8.800000e+08 -1.147000e+09   \nProperty Plant Equipment          6.671800e+10  6.379400e+10  5.973300e+10   \nTotal Current Assets              6.256800e+10  5.771800e+10  6.130400e+10   \nLong Term Investments             6.036000e+09  7.138000e+09  7.003000e+09   \nNet Tangible Assets               6.931200e+10  6.115800e+10  5.561700e+10   \nShort Term Investments            3.248100e+10  2.103000e+09  4.004000e+09   \nNet Receivables                   7.861000e+09  9.632000e+09  8.611000e+09   \nLong Term Debt                    3.278800e+10  3.351000e+10  3.561000e+10   \nInventory                         1.193500e+10  1.077600e+10  9.798000e+09   \nAccounts Payable                  7.210000e+09  5.747000e+09  6.792000e+09   \nDeferred Long Term Asset Charges           NaN  8.740000e+08           NaN   \n\n                                    2021-06-26  \nIntangible Assets                 8.018000e+09  \nTotal Liab                        6.939000e+10  \nTotal Stockholder Equity          8.520700e+10  \nOther Current Liab                6.180000e+08  \nTotal Assets                      1.545970e+11  \nCommon Stock                      2.665500e+10  \nOther Current Assets              8.025000e+09  \nRetained Earnings                 5.964700e+10  \nOther Liab                        1.284000e+10  \nGood Will                         2.676800e+10  \nTreasury Stock                   -1.095000e+09  \nOther Assets                      5.356000e+09  \nCash                              4.746000e+09  \nTotal Current Liabilities         2.483600e+10  \nShort Long Term Debt              3.695000e+09  \nOther Stockholder Equity         -1.095000e+09  \nProperty Plant Equipment          5.816600e+10  \nTotal Current Assets              4.937200e+10  \nLong Term Investments             6.917000e+09  \nNet Tangible Assets               5.042100e+10  \nShort Term Investments            3.014000e+09  \nNet Receivables                   7.673000e+09  \nLong Term Debt                    3.171400e+10  \nInventory                         8.817000e+09  \nAccounts Payable                  5.917000e+09  \nDeferred Long Term Asset Charges           NaN  ",
      "text/html": "<div>\n<style scoped>\n    .dataframe tbody tr th:only-of-type {\n        vertical-align: middle;\n    }\n\n    .dataframe tbody tr th {\n        vertical-align: top;\n    }\n\n    .dataframe thead th {\n        text-align: right;\n    }\n</style>\n<table border=\"1\" class=\"dataframe\">\n  <thead>\n    <tr style=\"text-align: right;\">\n      <th></th>\n      <th>2022-04-02</th>\n      <th>2021-12-25</th>\n      <th>2021-09-25</th>\n      <th>2021-06-26</th>\n    </tr>\n  </thead>\n  <tbody>\n    <tr>\n      <th>Intangible Assets</th>\n      <td>6.813000e+09</td>\n      <td>7.270000e+09</td>\n      <td>7.684000e+09</td>\n      <td>8.018000e+09</td>\n    </tr>\n    <tr>\n      <th>Total Liab</th>\n      <td>7.322000e+10</td>\n      <td>7.301500e+10</td>\n      <td>7.787500e+10</td>\n      <td>6.939000e+10</td>\n    </tr>\n    <tr>\n      <th>Total Stockholder Equity</th>\n      <td>1.031360e+11</td>\n      <td>9.539100e+10</td>\n      <td>9.008700e+10</td>\n      <td>8.520700e+10</td>\n    </tr>\n    <tr>\n      <th>Other Current Liab</th>\n      <td>6.250000e+08</td>\n      <td>2.555000e+09</td>\n      <td>5.560000e+08</td>\n      <td>6.180000e+08</td>\n    </tr>\n    <tr>\n      <th>Total Assets</th>\n      <td>1.763560e+11</td>\n      <td>1.684060e+11</td>\n      <td>1.679620e+11</td>\n      <td>1.545970e+11</td>\n    </tr>\n    <tr>\n      <th>Common Stock</th>\n      <td>2.924400e+10</td>\n      <td>2.800600e+10</td>\n      <td>2.759200e+10</td>\n      <td>2.665500e+10</td>\n    </tr>\n    <tr>\n      <th>Other Current Assets</th>\n      <td>4.076000e+09</td>\n      <td>8.897000e+09</td>\n      <td>8.260000e+09</td>\n      <td>8.025000e+09</td>\n    </tr>\n    <tr>\n      <th>Retained Earnings</th>\n      <td>7.489400e+10</td>\n      <td>6.826500e+10</td>\n      <td>6.364200e+10</td>\n      <td>5.964700e+10</td>\n    </tr>\n    <tr>\n      <th>Other Liab</th>\n      <td>1.111000e+10</td>\n      <td>1.174800e+10</td>\n      <td>1.269300e+10</td>\n      <td>1.284000e+10</td>\n    </tr>\n    <tr>\n      <th>Good Will</th>\n      <td>2.701100e+10</td>\n      <td>2.696300e+10</td>\n      <td>2.678600e+10</td>\n      <td>2.676800e+10</td>\n    </tr>\n    <tr>\n      <th>Treasury Stock</th>\n      <td>-1.002000e+09</td>\n      <td>-8.800000e+08</td>\n      <td>-1.147000e+09</td>\n      <td>-1.095000e+09</td>\n    </tr>\n    <tr>\n      <th>Other Assets</th>\n      <td>7.210000e+09</td>\n      <td>5.523000e+09</td>\n      <td>5.452000e+09</td>\n      <td>5.356000e+09</td>\n    </tr>\n    <tr>\n      <th>Cash</th>\n      <td>6.215000e+09</td>\n      <td>4.827000e+09</td>\n      <td>7.870000e+09</td>\n      <td>4.746000e+09</td>\n    </tr>\n    <tr>\n      <th>Total Current Liabilities</th>\n      <td>2.932200e+10</td>\n      <td>2.746200e+10</td>\n      <td>2.957200e+10</td>\n      <td>2.483600e+10</td>\n    </tr>\n    <tr>\n      <th>Short Long Term Debt</th>\n      <td>4.459000e+09</td>\n      <td>4.656000e+09</td>\n      <td>4.694000e+09</td>\n      <td>3.695000e+09</td>\n    </tr>\n    <tr>\n      <th>Other Stockholder Equity</th>\n      <td>-1.002000e+09</td>\n      <td>-8.800000e+08</td>\n      <td>-1.147000e+09</td>\n      <td>-1.095000e+09</td>\n    </tr>\n    <tr>\n      <th>Property Plant Equipment</th>\n      <td>6.671800e+10</td>\n      <td>6.379400e+10</td>\n      <td>5.973300e+10</td>\n      <td>5.816600e+10</td>\n    </tr>\n    <tr>\n      <th>Total Current Assets</th>\n      <td>6.256800e+10</td>\n      <td>5.771800e+10</td>\n      <td>6.130400e+10</td>\n      <td>4.937200e+10</td>\n    </tr>\n    <tr>\n      <th>Long Term Investments</th>\n      <td>6.036000e+09</td>\n      <td>7.138000e+09</td>\n      <td>7.003000e+09</td>\n      <td>6.917000e+09</td>\n    </tr>\n    <tr>\n      <th>Net Tangible Assets</th>\n      <td>6.931200e+10</td>\n      <td>6.115800e+10</td>\n      <td>5.561700e+10</td>\n      <td>5.042100e+10</td>\n    </tr>\n    <tr>\n      <th>Short Term Investments</th>\n      <td>3.248100e+10</td>\n      <td>2.103000e+09</td>\n      <td>4.004000e+09</td>\n      <td>3.014000e+09</td>\n    </tr>\n    <tr>\n      <th>Net Receivables</th>\n      <td>7.861000e+09</td>\n      <td>9.632000e+09</td>\n      <td>8.611000e+09</td>\n      <td>7.673000e+09</td>\n    </tr>\n    <tr>\n      <th>Long Term Debt</th>\n      <td>3.278800e+10</td>\n      <td>3.351000e+10</td>\n      <td>3.561000e+10</td>\n      <td>3.171400e+10</td>\n    </tr>\n    <tr>\n      <th>Inventory</th>\n      <td>1.193500e+10</td>\n      <td>1.077600e+10</td>\n      <td>9.798000e+09</td>\n      <td>8.817000e+09</td>\n    </tr>\n    <tr>\n      <th>Accounts Payable</th>\n      <td>7.210000e+09</td>\n      <td>5.747000e+09</td>\n      <td>6.792000e+09</td>\n      <td>5.917000e+09</td>\n    </tr>\n    <tr>\n      <th>Deferred Long Term Asset Charges</th>\n      <td>NaN</td>\n      <td>8.740000e+08</td>\n      <td>NaN</td>\n      <td>NaN</td>\n    </tr>\n  </tbody>\n</table>\n</div>"
     },
     "execution_count": 12,
     "metadata": {},
     "output_type": "execute_result"
    }
   ],
   "source": [
    "ticker.quarterly_balance_sheet"
   ]
  },
  {
   "cell_type": "markdown",
   "metadata": {
    "pycharm": {
     "name": "#%% md\n"
    }
   },
   "source": [
    "### Annual and Quarterly Cashflow Statement"
   ]
  },
  {
   "cell_type": "code",
   "execution_count": 13,
   "metadata": {
    "ExecuteTime": {
     "end_time": "2020-12-30T22:10:20.253275Z",
     "start_time": "2020-12-30T22:10:20.231815Z"
    },
    "pycharm": {
     "name": "#%%\n"
    }
   },
   "outputs": [
    {
     "data": {
      "text/plain": "                                             2021-12-25    2020-12-26  \\\nInvestments                               -5.287000e+09 -6.891000e+09   \nChange To Liabilities                     -3.930000e+08  2.240000e+08   \nTotal Cashflows From Investing Activities -2.516700e+10 -2.079600e+10   \nNet Borrowings                             2.474000e+09  5.722000e+09   \nTotal Cash From Financing Activities      -5.862000e+09 -1.291700e+10   \nChange To Operating Activities             9.740000e+08 -8.900000e+07   \nIssuance Of Stock                          1.020000e+09  8.970000e+08   \nNet Income                                 1.986800e+10  2.089900e+10   \nChange In Cash                            -1.038000e+09  1.671000e+09   \nRepurchase Of Stock                       -2.415000e+09 -1.422900e+10   \nTotal Cash From Operating Activities       2.999100e+10  3.538400e+10   \nDepreciation                               1.179200e+10  1.223900e+10   \nOther Cashflows From Investing Activities  6.580000e+08  1.385000e+09   \nDividends Paid                            -5.644000e+09 -5.568000e+09   \nChange To Inventory                       -2.339000e+09 -6.870000e+08   \nChange To Account Receivables             -2.674000e+09  8.830000e+08   \nOther Cashflows From Financing Activities -1.297000e+09  2.610000e+08   \nChange To Netincome                        3.204000e+09  2.950000e+08   \nCapital Expenditures                      -2.032900e+10 -1.445300e+10   \n\n                                             2019-12-28    2018-12-29  \nInvestments                                2.140000e+09  3.856000e+09  \nChange To Liabilities                     -8.600000e+07  1.578000e+09  \nTotal Cashflows From Investing Activities -1.440500e+10 -1.123900e+10  \nNet Borrowings                             7.650000e+08 -2.603000e+09  \nTotal Cash From Financing Activities      -1.756500e+10 -1.860700e+10  \nChange To Operating Activities             1.682000e+09  4.100000e+07  \nIssuance Of Stock                          7.500000e+08  5.550000e+08  \nNet Income                                 2.104800e+10  2.105300e+10  \nChange In Cash                             1.175000e+09 -4.140000e+08  \nRepurchase Of Stock                       -1.357600e+10 -1.073000e+10  \nTotal Cash From Operating Activities       3.314500e+10  2.943200e+10  \nDepreciation                               1.082600e+10  9.085000e+09  \nOther Cashflows From Investing Activities  1.626000e+09 -2.720000e+08  \nDividends Paid                            -5.576000e+09 -5.541000e+09  \nChange To Inventory                       -1.481000e+09 -2.140000e+08  \nChange To Account Receivables             -9.350000e+08 -1.714000e+09  \nOther Cashflows From Financing Activities  7.200000e+07 -2.880000e+08  \nChange To Netincome                        1.206000e+09  1.204000e+09  \nCapital Expenditures                      -1.621300e+10 -1.518100e+10  ",
      "text/html": "<div>\n<style scoped>\n    .dataframe tbody tr th:only-of-type {\n        vertical-align: middle;\n    }\n\n    .dataframe tbody tr th {\n        vertical-align: top;\n    }\n\n    .dataframe thead th {\n        text-align: right;\n    }\n</style>\n<table border=\"1\" class=\"dataframe\">\n  <thead>\n    <tr style=\"text-align: right;\">\n      <th></th>\n      <th>2021-12-25</th>\n      <th>2020-12-26</th>\n      <th>2019-12-28</th>\n      <th>2018-12-29</th>\n    </tr>\n  </thead>\n  <tbody>\n    <tr>\n      <th>Investments</th>\n      <td>-5.287000e+09</td>\n      <td>-6.891000e+09</td>\n      <td>2.140000e+09</td>\n      <td>3.856000e+09</td>\n    </tr>\n    <tr>\n      <th>Change To Liabilities</th>\n      <td>-3.930000e+08</td>\n      <td>2.240000e+08</td>\n      <td>-8.600000e+07</td>\n      <td>1.578000e+09</td>\n    </tr>\n    <tr>\n      <th>Total Cashflows From Investing Activities</th>\n      <td>-2.516700e+10</td>\n      <td>-2.079600e+10</td>\n      <td>-1.440500e+10</td>\n      <td>-1.123900e+10</td>\n    </tr>\n    <tr>\n      <th>Net Borrowings</th>\n      <td>2.474000e+09</td>\n      <td>5.722000e+09</td>\n      <td>7.650000e+08</td>\n      <td>-2.603000e+09</td>\n    </tr>\n    <tr>\n      <th>Total Cash From Financing Activities</th>\n      <td>-5.862000e+09</td>\n      <td>-1.291700e+10</td>\n      <td>-1.756500e+10</td>\n      <td>-1.860700e+10</td>\n    </tr>\n    <tr>\n      <th>Change To Operating Activities</th>\n      <td>9.740000e+08</td>\n      <td>-8.900000e+07</td>\n      <td>1.682000e+09</td>\n      <td>4.100000e+07</td>\n    </tr>\n    <tr>\n      <th>Issuance Of Stock</th>\n      <td>1.020000e+09</td>\n      <td>8.970000e+08</td>\n      <td>7.500000e+08</td>\n      <td>5.550000e+08</td>\n    </tr>\n    <tr>\n      <th>Net Income</th>\n      <td>1.986800e+10</td>\n      <td>2.089900e+10</td>\n      <td>2.104800e+10</td>\n      <td>2.105300e+10</td>\n    </tr>\n    <tr>\n      <th>Change In Cash</th>\n      <td>-1.038000e+09</td>\n      <td>1.671000e+09</td>\n      <td>1.175000e+09</td>\n      <td>-4.140000e+08</td>\n    </tr>\n    <tr>\n      <th>Repurchase Of Stock</th>\n      <td>-2.415000e+09</td>\n      <td>-1.422900e+10</td>\n      <td>-1.357600e+10</td>\n      <td>-1.073000e+10</td>\n    </tr>\n    <tr>\n      <th>Total Cash From Operating Activities</th>\n      <td>2.999100e+10</td>\n      <td>3.538400e+10</td>\n      <td>3.314500e+10</td>\n      <td>2.943200e+10</td>\n    </tr>\n    <tr>\n      <th>Depreciation</th>\n      <td>1.179200e+10</td>\n      <td>1.223900e+10</td>\n      <td>1.082600e+10</td>\n      <td>9.085000e+09</td>\n    </tr>\n    <tr>\n      <th>Other Cashflows From Investing Activities</th>\n      <td>6.580000e+08</td>\n      <td>1.385000e+09</td>\n      <td>1.626000e+09</td>\n      <td>-2.720000e+08</td>\n    </tr>\n    <tr>\n      <th>Dividends Paid</th>\n      <td>-5.644000e+09</td>\n      <td>-5.568000e+09</td>\n      <td>-5.576000e+09</td>\n      <td>-5.541000e+09</td>\n    </tr>\n    <tr>\n      <th>Change To Inventory</th>\n      <td>-2.339000e+09</td>\n      <td>-6.870000e+08</td>\n      <td>-1.481000e+09</td>\n      <td>-2.140000e+08</td>\n    </tr>\n    <tr>\n      <th>Change To Account Receivables</th>\n      <td>-2.674000e+09</td>\n      <td>8.830000e+08</td>\n      <td>-9.350000e+08</td>\n      <td>-1.714000e+09</td>\n    </tr>\n    <tr>\n      <th>Other Cashflows From Financing Activities</th>\n      <td>-1.297000e+09</td>\n      <td>2.610000e+08</td>\n      <td>7.200000e+07</td>\n      <td>-2.880000e+08</td>\n    </tr>\n    <tr>\n      <th>Change To Netincome</th>\n      <td>3.204000e+09</td>\n      <td>2.950000e+08</td>\n      <td>1.206000e+09</td>\n      <td>1.204000e+09</td>\n    </tr>\n    <tr>\n      <th>Capital Expenditures</th>\n      <td>-2.032900e+10</td>\n      <td>-1.445300e+10</td>\n      <td>-1.621300e+10</td>\n      <td>-1.518100e+10</td>\n    </tr>\n  </tbody>\n</table>\n</div>"
     },
     "execution_count": 13,
     "metadata": {},
     "output_type": "execute_result"
    }
   ],
   "source": [
    "ticker.cashflow"
   ]
  },
  {
   "cell_type": "code",
   "execution_count": 14,
   "metadata": {
    "ExecuteTime": {
     "end_time": "2020-12-30T22:10:20.267617Z",
     "start_time": "2020-12-30T22:10:20.254020Z"
    },
    "pycharm": {
     "name": "#%%\n"
    }
   },
   "outputs": [
    {
     "data": {
      "text/plain": "                                             2022-04-02    2021-12-25  \\\nInvestments                               -3.919000e+09  2.769000e+09   \nChange To Liabilities                     -1.340000e+08  8.900000e+07   \nTotal Cashflows From Investing Activities -2.640000e+09 -5.034000e+09   \nNet Borrowings                            -2.990000e+08 -2.000000e+09   \nTotal Cash From Financing Activities      -1.863000e+09 -3.806000e+09   \nChange To Operating Activities            -3.170000e+09 -6.800000e+07   \nIssuance Of Stock                          5.890000e+08  4.000000e+06   \nNet Income                                 8.113000e+09  4.623000e+09   \nChange In Cash                             1.388000e+09 -3.043000e+09   \nTotal Cash From Operating Activities       5.891000e+09  5.797000e+09   \nDepreciation                               3.348000e+09  3.074000e+09   \nOther Cashflows From Investing Activities -4.680000e+08  3.800000e+07   \nDividends Paid                            -1.487000e+09 -1.413000e+09   \nChange To Inventory                       -1.147000e+09 -1.127000e+09   \nChange To Account Receivables              2.384000e+09 -1.056000e+09   \nOther Cashflows From Financing Activities -6.660000e+08 -3.970000e+08   \nChange To Netincome                       -4.722000e+09  1.330000e+08   \nCapital Expenditures                      -4.797000e+09 -7.632000e+09   \nRepurchase Of Stock                                 NaN           NaN   \n\n                                             2021-09-25    2021-06-26  \nInvestments                               -6.481000e+09 -3.010000e+09  \nChange To Liabilities                      6.640000e+08  1.170000e+08  \nTotal Cashflows From Investing Activities -1.068200e+10 -6.904000e+09  \nNet Borrowings                             4.974000e+09 -5.000000e+08  \nTotal Cash From Financing Activities       3.906000e+09 -2.288000e+09  \nChange To Operating Activities             2.137000e+09  8.290000e+08  \nIssuance Of Stock                          4.270000e+08  2.400000e+07  \nNet Income                                 6.823000e+09  5.061000e+09  \nChange In Cash                             3.124000e+09 -4.460000e+08  \nTotal Cash From Operating Activities       9.900000e+09  8.746000e+09  \nDepreciation                               2.959000e+09  2.857000e+09  \nOther Cashflows From Investing Activities  2.400000e+08 -2.600000e+07  \nDividends Paid                            -1.410000e+09 -1.410000e+09  \nChange To Inventory                       -1.086000e+09 -3.060000e+08  \nChange To Account Receivables             -9.400000e+08 -2.520000e+08  \nOther Cashflows From Financing Activities -8.500000e+07 -2.880000e+08  \nChange To Netincome                        2.700000e+07  7.090000e+08  \nCapital Expenditures                      -4.441000e+09 -3.868000e+09  \nRepurchase Of Stock                                 NaN -1.140000e+08  ",
      "text/html": "<div>\n<style scoped>\n    .dataframe tbody tr th:only-of-type {\n        vertical-align: middle;\n    }\n\n    .dataframe tbody tr th {\n        vertical-align: top;\n    }\n\n    .dataframe thead th {\n        text-align: right;\n    }\n</style>\n<table border=\"1\" class=\"dataframe\">\n  <thead>\n    <tr style=\"text-align: right;\">\n      <th></th>\n      <th>2022-04-02</th>\n      <th>2021-12-25</th>\n      <th>2021-09-25</th>\n      <th>2021-06-26</th>\n    </tr>\n  </thead>\n  <tbody>\n    <tr>\n      <th>Investments</th>\n      <td>-3.919000e+09</td>\n      <td>2.769000e+09</td>\n      <td>-6.481000e+09</td>\n      <td>-3.010000e+09</td>\n    </tr>\n    <tr>\n      <th>Change To Liabilities</th>\n      <td>-1.340000e+08</td>\n      <td>8.900000e+07</td>\n      <td>6.640000e+08</td>\n      <td>1.170000e+08</td>\n    </tr>\n    <tr>\n      <th>Total Cashflows From Investing Activities</th>\n      <td>-2.640000e+09</td>\n      <td>-5.034000e+09</td>\n      <td>-1.068200e+10</td>\n      <td>-6.904000e+09</td>\n    </tr>\n    <tr>\n      <th>Net Borrowings</th>\n      <td>-2.990000e+08</td>\n      <td>-2.000000e+09</td>\n      <td>4.974000e+09</td>\n      <td>-5.000000e+08</td>\n    </tr>\n    <tr>\n      <th>Total Cash From Financing Activities</th>\n      <td>-1.863000e+09</td>\n      <td>-3.806000e+09</td>\n      <td>3.906000e+09</td>\n      <td>-2.288000e+09</td>\n    </tr>\n    <tr>\n      <th>Change To Operating Activities</th>\n      <td>-3.170000e+09</td>\n      <td>-6.800000e+07</td>\n      <td>2.137000e+09</td>\n      <td>8.290000e+08</td>\n    </tr>\n    <tr>\n      <th>Issuance Of Stock</th>\n      <td>5.890000e+08</td>\n      <td>4.000000e+06</td>\n      <td>4.270000e+08</td>\n      <td>2.400000e+07</td>\n    </tr>\n    <tr>\n      <th>Net Income</th>\n      <td>8.113000e+09</td>\n      <td>4.623000e+09</td>\n      <td>6.823000e+09</td>\n      <td>5.061000e+09</td>\n    </tr>\n    <tr>\n      <th>Change In Cash</th>\n      <td>1.388000e+09</td>\n      <td>-3.043000e+09</td>\n      <td>3.124000e+09</td>\n      <td>-4.460000e+08</td>\n    </tr>\n    <tr>\n      <th>Total Cash From Operating Activities</th>\n      <td>5.891000e+09</td>\n      <td>5.797000e+09</td>\n      <td>9.900000e+09</td>\n      <td>8.746000e+09</td>\n    </tr>\n    <tr>\n      <th>Depreciation</th>\n      <td>3.348000e+09</td>\n      <td>3.074000e+09</td>\n      <td>2.959000e+09</td>\n      <td>2.857000e+09</td>\n    </tr>\n    <tr>\n      <th>Other Cashflows From Investing Activities</th>\n      <td>-4.680000e+08</td>\n      <td>3.800000e+07</td>\n      <td>2.400000e+08</td>\n      <td>-2.600000e+07</td>\n    </tr>\n    <tr>\n      <th>Dividends Paid</th>\n      <td>-1.487000e+09</td>\n      <td>-1.413000e+09</td>\n      <td>-1.410000e+09</td>\n      <td>-1.410000e+09</td>\n    </tr>\n    <tr>\n      <th>Change To Inventory</th>\n      <td>-1.147000e+09</td>\n      <td>-1.127000e+09</td>\n      <td>-1.086000e+09</td>\n      <td>-3.060000e+08</td>\n    </tr>\n    <tr>\n      <th>Change To Account Receivables</th>\n      <td>2.384000e+09</td>\n      <td>-1.056000e+09</td>\n      <td>-9.400000e+08</td>\n      <td>-2.520000e+08</td>\n    </tr>\n    <tr>\n      <th>Other Cashflows From Financing Activities</th>\n      <td>-6.660000e+08</td>\n      <td>-3.970000e+08</td>\n      <td>-8.500000e+07</td>\n      <td>-2.880000e+08</td>\n    </tr>\n    <tr>\n      <th>Change To Netincome</th>\n      <td>-4.722000e+09</td>\n      <td>1.330000e+08</td>\n      <td>2.700000e+07</td>\n      <td>7.090000e+08</td>\n    </tr>\n    <tr>\n      <th>Capital Expenditures</th>\n      <td>-4.797000e+09</td>\n      <td>-7.632000e+09</td>\n      <td>-4.441000e+09</td>\n      <td>-3.868000e+09</td>\n    </tr>\n    <tr>\n      <th>Repurchase Of Stock</th>\n      <td>NaN</td>\n      <td>NaN</td>\n      <td>NaN</td>\n      <td>-1.140000e+08</td>\n    </tr>\n  </tbody>\n</table>\n</div>"
     },
     "execution_count": 14,
     "metadata": {},
     "output_type": "execute_result"
    }
   ],
   "source": [
    "ticker.quarterly_cashflow"
   ]
  },
  {
   "cell_type": "code",
   "execution_count": 15,
   "metadata": {
    "ExecuteTime": {
     "end_time": "2020-12-30T22:10:20.279600Z",
     "start_time": "2020-12-30T22:10:20.268571Z"
    },
    "pycharm": {
     "name": "#%%\n"
    }
   },
   "outputs": [
    {
     "data": {
      "text/plain": "          Revenue     Earnings\nYear                          \n2018  70848000000  21053000000\n2019  71965000000  21048000000\n2020  77867000000  20899000000\n2021  79024000000  19868000000",
      "text/html": "<div>\n<style scoped>\n    .dataframe tbody tr th:only-of-type {\n        vertical-align: middle;\n    }\n\n    .dataframe tbody tr th {\n        vertical-align: top;\n    }\n\n    .dataframe thead th {\n        text-align: right;\n    }\n</style>\n<table border=\"1\" class=\"dataframe\">\n  <thead>\n    <tr style=\"text-align: right;\">\n      <th></th>\n      <th>Revenue</th>\n      <th>Earnings</th>\n    </tr>\n    <tr>\n      <th>Year</th>\n      <th></th>\n      <th></th>\n    </tr>\n  </thead>\n  <tbody>\n    <tr>\n      <th>2018</th>\n      <td>70848000000</td>\n      <td>21053000000</td>\n    </tr>\n    <tr>\n      <th>2019</th>\n      <td>71965000000</td>\n      <td>21048000000</td>\n    </tr>\n    <tr>\n      <th>2020</th>\n      <td>77867000000</td>\n      <td>20899000000</td>\n    </tr>\n    <tr>\n      <th>2021</th>\n      <td>79024000000</td>\n      <td>19868000000</td>\n    </tr>\n  </tbody>\n</table>\n</div>"
     },
     "execution_count": 15,
     "metadata": {},
     "output_type": "execute_result"
    }
   ],
   "source": [
    "ticker.earnings"
   ]
  },
  {
   "cell_type": "code",
   "execution_count": 16,
   "metadata": {
    "ExecuteTime": {
     "end_time": "2020-12-30T22:10:20.291334Z",
     "start_time": "2020-12-30T22:10:20.280662Z"
    },
    "pycharm": {
     "name": "#%%\n"
    }
   },
   "outputs": [
    {
     "data": {
      "text/plain": "             Revenue    Earnings\nQuarter                         \n2Q2021   19631000000  5061000000\n3Q2021   19192000000  6823000000\n4Q2021   20528000000  4623000000\n2Q2022   18353000000  8113000000",
      "text/html": "<div>\n<style scoped>\n    .dataframe tbody tr th:only-of-type {\n        vertical-align: middle;\n    }\n\n    .dataframe tbody tr th {\n        vertical-align: top;\n    }\n\n    .dataframe thead th {\n        text-align: right;\n    }\n</style>\n<table border=\"1\" class=\"dataframe\">\n  <thead>\n    <tr style=\"text-align: right;\">\n      <th></th>\n      <th>Revenue</th>\n      <th>Earnings</th>\n    </tr>\n    <tr>\n      <th>Quarter</th>\n      <th></th>\n      <th></th>\n    </tr>\n  </thead>\n  <tbody>\n    <tr>\n      <th>2Q2021</th>\n      <td>19631000000</td>\n      <td>5061000000</td>\n    </tr>\n    <tr>\n      <th>3Q2021</th>\n      <td>19192000000</td>\n      <td>6823000000</td>\n    </tr>\n    <tr>\n      <th>4Q2021</th>\n      <td>20528000000</td>\n      <td>4623000000</td>\n    </tr>\n    <tr>\n      <th>2Q2022</th>\n      <td>18353000000</td>\n      <td>8113000000</td>\n    </tr>\n  </tbody>\n</table>\n</div>"
     },
     "execution_count": 16,
     "metadata": {},
     "output_type": "execute_result"
    }
   ],
   "source": [
    "ticker.quarterly_earnings"
   ]
  },
  {
   "cell_type": "markdown",
   "metadata": {
    "pycharm": {
     "name": "#%% md\n"
    }
   },
   "source": [
    "### Sustainability: Environmental, Social and Governance (ESG)"
   ]
  },
  {
   "cell_type": "code",
   "execution_count": 17,
   "metadata": {
    "ExecuteTime": {
     "end_time": "2020-12-30T22:10:20.306584Z",
     "start_time": "2020-12-30T22:10:20.292531Z"
    },
    "pycharm": {
     "name": "#%%\n"
    }
   },
   "outputs": [
    {
     "data": {
      "text/plain": "                                Value\n2022-5                               \npalmOil                         False\ncontroversialWeapons            False\ngambling                        False\nsocialScore                      5.63\nnuclear                         False\nfurLeather                      False\nalcoholic                       False\ngmo                             False\ncatholic                        False\nsocialPercentile                 None\npeerCount                          31\ngovernanceScore                  6.68\nenvironmentPercentile            None\nanimalTesting                   False\ntobacco                         False\ntotalEsg                        16.67\nhighestControversy                  3\nesgPerformance             UNDER_PERF\ncoal                            False\npesticides                      False\nadult                           False\npercentile                      14.17\npeerGroup              Semiconductors\nsmallArms                       False\nenvironmentScore                 4.36\ngovernancePercentile             None\nmilitaryContract                False",
      "text/html": "<div>\n<style scoped>\n    .dataframe tbody tr th:only-of-type {\n        vertical-align: middle;\n    }\n\n    .dataframe tbody tr th {\n        vertical-align: top;\n    }\n\n    .dataframe thead th {\n        text-align: right;\n    }\n</style>\n<table border=\"1\" class=\"dataframe\">\n  <thead>\n    <tr style=\"text-align: right;\">\n      <th></th>\n      <th>Value</th>\n    </tr>\n    <tr>\n      <th>2022-5</th>\n      <th></th>\n    </tr>\n  </thead>\n  <tbody>\n    <tr>\n      <th>palmOil</th>\n      <td>False</td>\n    </tr>\n    <tr>\n      <th>controversialWeapons</th>\n      <td>False</td>\n    </tr>\n    <tr>\n      <th>gambling</th>\n      <td>False</td>\n    </tr>\n    <tr>\n      <th>socialScore</th>\n      <td>5.63</td>\n    </tr>\n    <tr>\n      <th>nuclear</th>\n      <td>False</td>\n    </tr>\n    <tr>\n      <th>furLeather</th>\n      <td>False</td>\n    </tr>\n    <tr>\n      <th>alcoholic</th>\n      <td>False</td>\n    </tr>\n    <tr>\n      <th>gmo</th>\n      <td>False</td>\n    </tr>\n    <tr>\n      <th>catholic</th>\n      <td>False</td>\n    </tr>\n    <tr>\n      <th>socialPercentile</th>\n      <td>None</td>\n    </tr>\n    <tr>\n      <th>peerCount</th>\n      <td>31</td>\n    </tr>\n    <tr>\n      <th>governanceScore</th>\n      <td>6.68</td>\n    </tr>\n    <tr>\n      <th>environmentPercentile</th>\n      <td>None</td>\n    </tr>\n    <tr>\n      <th>animalTesting</th>\n      <td>False</td>\n    </tr>\n    <tr>\n      <th>tobacco</th>\n      <td>False</td>\n    </tr>\n    <tr>\n      <th>totalEsg</th>\n      <td>16.67</td>\n    </tr>\n    <tr>\n      <th>highestControversy</th>\n      <td>3</td>\n    </tr>\n    <tr>\n      <th>esgPerformance</th>\n      <td>UNDER_PERF</td>\n    </tr>\n    <tr>\n      <th>coal</th>\n      <td>False</td>\n    </tr>\n    <tr>\n      <th>pesticides</th>\n      <td>False</td>\n    </tr>\n    <tr>\n      <th>adult</th>\n      <td>False</td>\n    </tr>\n    <tr>\n      <th>percentile</th>\n      <td>14.17</td>\n    </tr>\n    <tr>\n      <th>peerGroup</th>\n      <td>Semiconductors</td>\n    </tr>\n    <tr>\n      <th>smallArms</th>\n      <td>False</td>\n    </tr>\n    <tr>\n      <th>environmentScore</th>\n      <td>4.36</td>\n    </tr>\n    <tr>\n      <th>governancePercentile</th>\n      <td>None</td>\n    </tr>\n    <tr>\n      <th>militaryContract</th>\n      <td>False</td>\n    </tr>\n  </tbody>\n</table>\n</div>"
     },
     "execution_count": 17,
     "metadata": {},
     "output_type": "execute_result"
    }
   ],
   "source": [
    "ticker.sustainability"
   ]
  },
  {
   "cell_type": "markdown",
   "metadata": {
    "pycharm": {
     "name": "#%% md\n"
    }
   },
   "source": [
    "### Analyst Recommendations"
   ]
  },
  {
   "cell_type": "code",
   "execution_count": 18,
   "metadata": {
    "ExecuteTime": {
     "end_time": "2020-12-30T22:10:20.322318Z",
     "start_time": "2020-12-30T22:10:20.307914Z"
    },
    "pycharm": {
     "name": "#%%\n"
    }
   },
   "outputs": [
    {
     "name": "stdout",
     "output_type": "stream",
     "text": [
      "<class 'pandas.core.frame.DataFrame'>\n",
      "DatetimeIndex: 401 entries, 2012-04-18 06:30:00 to 2022-06-06 11:12:28\n",
      "Data columns (total 4 columns):\n",
      " #   Column      Non-Null Count  Dtype \n",
      "---  ------      --------------  ----- \n",
      " 0   Firm        401 non-null    object\n",
      " 1   To Grade    401 non-null    object\n",
      " 2   From Grade  401 non-null    object\n",
      " 3   Action      401 non-null    object\n",
      "dtypes: object(4)\n",
      "memory usage: 15.7+ KB\n"
     ]
    }
   ],
   "source": [
    "ticker.recommendations.info()"
   ]
  },
  {
   "cell_type": "code",
   "execution_count": 19,
   "metadata": {
    "ExecuteTime": {
     "end_time": "2020-12-30T22:10:20.334167Z",
     "start_time": "2020-12-30T22:10:20.323193Z"
    },
    "pycharm": {
     "name": "#%%\n"
    }
   },
   "outputs": [
    {
     "data": {
      "text/plain": "                               Firm        To Grade    From Grade Action\nDate                                                                    \n2022-01-27 12:30:47          Mizuho         Neutral                 main\n2022-01-27 13:43:56   Credit Suisse      Outperform                 main\n2022-01-27 15:27:50             UBS         Neutral                 main\n2022-02-18 14:15:38        Barclays     Underweight                 main\n2022-02-18 14:37:50     BMO Capital  Market Perform                 main\n2022-02-23 10:26:16   Raymond James  Market Perform  Underperform     up\n2022-03-03 11:13:10  Morgan Stanley     Underweight  Equal-Weight   down\n2022-04-29 10:55:30         Needham             Buy                 main\n2022-04-29 12:39:41     Wells Fargo    Equal-Weight                 main\n2022-06-06 11:12:28       Citigroup         Neutral                 main",
      "text/html": "<div>\n<style scoped>\n    .dataframe tbody tr th:only-of-type {\n        vertical-align: middle;\n    }\n\n    .dataframe tbody tr th {\n        vertical-align: top;\n    }\n\n    .dataframe thead th {\n        text-align: right;\n    }\n</style>\n<table border=\"1\" class=\"dataframe\">\n  <thead>\n    <tr style=\"text-align: right;\">\n      <th></th>\n      <th>Firm</th>\n      <th>To Grade</th>\n      <th>From Grade</th>\n      <th>Action</th>\n    </tr>\n    <tr>\n      <th>Date</th>\n      <th></th>\n      <th></th>\n      <th></th>\n      <th></th>\n    </tr>\n  </thead>\n  <tbody>\n    <tr>\n      <th>2022-01-27 12:30:47</th>\n      <td>Mizuho</td>\n      <td>Neutral</td>\n      <td></td>\n      <td>main</td>\n    </tr>\n    <tr>\n      <th>2022-01-27 13:43:56</th>\n      <td>Credit Suisse</td>\n      <td>Outperform</td>\n      <td></td>\n      <td>main</td>\n    </tr>\n    <tr>\n      <th>2022-01-27 15:27:50</th>\n      <td>UBS</td>\n      <td>Neutral</td>\n      <td></td>\n      <td>main</td>\n    </tr>\n    <tr>\n      <th>2022-02-18 14:15:38</th>\n      <td>Barclays</td>\n      <td>Underweight</td>\n      <td></td>\n      <td>main</td>\n    </tr>\n    <tr>\n      <th>2022-02-18 14:37:50</th>\n      <td>BMO Capital</td>\n      <td>Market Perform</td>\n      <td></td>\n      <td>main</td>\n    </tr>\n    <tr>\n      <th>2022-02-23 10:26:16</th>\n      <td>Raymond James</td>\n      <td>Market Perform</td>\n      <td>Underperform</td>\n      <td>up</td>\n    </tr>\n    <tr>\n      <th>2022-03-03 11:13:10</th>\n      <td>Morgan Stanley</td>\n      <td>Underweight</td>\n      <td>Equal-Weight</td>\n      <td>down</td>\n    </tr>\n    <tr>\n      <th>2022-04-29 10:55:30</th>\n      <td>Needham</td>\n      <td>Buy</td>\n      <td></td>\n      <td>main</td>\n    </tr>\n    <tr>\n      <th>2022-04-29 12:39:41</th>\n      <td>Wells Fargo</td>\n      <td>Equal-Weight</td>\n      <td></td>\n      <td>main</td>\n    </tr>\n    <tr>\n      <th>2022-06-06 11:12:28</th>\n      <td>Citigroup</td>\n      <td>Neutral</td>\n      <td></td>\n      <td>main</td>\n    </tr>\n  </tbody>\n</table>\n</div>"
     },
     "execution_count": 19,
     "metadata": {},
     "output_type": "execute_result"
    }
   ],
   "source": [
    "ticker.recommendations.tail(10)"
   ]
  },
  {
   "cell_type": "markdown",
   "metadata": {
    "pycharm": {
     "name": "#%% md\n"
    }
   },
   "source": [
    "### Upcoming Events"
   ]
  },
  {
   "cell_type": "code",
   "execution_count": 20,
   "metadata": {
    "ExecuteTime": {
     "end_time": "2020-12-30T22:10:20.347731Z",
     "start_time": "2020-12-30T22:10:20.334969Z"
    },
    "pycharm": {
     "name": "#%%\n"
    }
   },
   "outputs": [
    {
     "data": {
      "text/plain": "                                    0                    1\nEarnings Date     2022-07-20 20:00:00  2022-07-25 20:00:00\nEarnings Average                 0.71                 0.71\nEarnings Low                     0.62                 0.62\nEarnings High                    0.86                 0.86\nRevenue Average           18002200000          18002200000\nRevenue Low               17435000000          17435000000\nRevenue High              18725800000          18725800000",
      "text/html": "<div>\n<style scoped>\n    .dataframe tbody tr th:only-of-type {\n        vertical-align: middle;\n    }\n\n    .dataframe tbody tr th {\n        vertical-align: top;\n    }\n\n    .dataframe thead th {\n        text-align: right;\n    }\n</style>\n<table border=\"1\" class=\"dataframe\">\n  <thead>\n    <tr style=\"text-align: right;\">\n      <th></th>\n      <th>0</th>\n      <th>1</th>\n    </tr>\n  </thead>\n  <tbody>\n    <tr>\n      <th>Earnings Date</th>\n      <td>2022-07-20 20:00:00</td>\n      <td>2022-07-25 20:00:00</td>\n    </tr>\n    <tr>\n      <th>Earnings Average</th>\n      <td>0.71</td>\n      <td>0.71</td>\n    </tr>\n    <tr>\n      <th>Earnings Low</th>\n      <td>0.62</td>\n      <td>0.62</td>\n    </tr>\n    <tr>\n      <th>Earnings High</th>\n      <td>0.86</td>\n      <td>0.86</td>\n    </tr>\n    <tr>\n      <th>Revenue Average</th>\n      <td>18002200000</td>\n      <td>18002200000</td>\n    </tr>\n    <tr>\n      <th>Revenue Low</th>\n      <td>17435000000</td>\n      <td>17435000000</td>\n    </tr>\n    <tr>\n      <th>Revenue High</th>\n      <td>18725800000</td>\n      <td>18725800000</td>\n    </tr>\n  </tbody>\n</table>\n</div>"
     },
     "execution_count": 20,
     "metadata": {},
     "output_type": "execute_result"
    }
   ],
   "source": [
    "ticker.calendar"
   ]
  },
  {
   "cell_type": "markdown",
   "metadata": {
    "pycharm": {
     "name": "#%% md\n"
    }
   },
   "source": [
    "### Option Expiration Dates"
   ]
  },
  {
   "cell_type": "code",
   "execution_count": 21,
   "metadata": {
    "ExecuteTime": {
     "end_time": "2020-12-30T22:10:20.509948Z",
     "start_time": "2020-12-30T22:10:20.348676Z"
    },
    "pycharm": {
     "name": "#%%\n"
    }
   },
   "outputs": [
    {
     "data": {
      "text/plain": "('2022-06-24',\n '2022-07-01',\n '2022-07-08',\n '2022-07-15',\n '2022-07-22',\n '2022-07-29',\n '2022-08-19',\n '2022-09-16',\n '2022-10-21',\n '2022-11-18',\n '2022-12-16',\n '2023-01-20',\n '2023-06-16',\n '2024-01-19')"
     },
     "execution_count": 21,
     "metadata": {},
     "output_type": "execute_result"
    }
   ],
   "source": [
    "ticker.options"
   ]
  },
  {
   "cell_type": "code",
   "execution_count": 22,
   "metadata": {
    "ExecuteTime": {
     "end_time": "2020-12-30T22:10:20.954610Z",
     "start_time": "2020-12-30T22:10:20.938467Z"
    },
    "pycharm": {
     "name": "#%%\n"
    }
   },
   "outputs": [
    {
     "name": "stdout",
     "output_type": "stream",
     "text": [
      "<class 'pandas.core.frame.DataFrame'>\n",
      "RangeIndex: 46 entries, 0 to 45\n",
      "Data columns (total 14 columns):\n",
      " #   Column             Non-Null Count  Dtype              \n",
      "---  ------             --------------  -----              \n",
      " 0   contractSymbol     46 non-null     object             \n",
      " 1   lastTradeDate      46 non-null     datetime64[ns, UTC]\n",
      " 2   strike             46 non-null     float64            \n",
      " 3   lastPrice          46 non-null     float64            \n",
      " 4   bid                46 non-null     float64            \n",
      " 5   ask                46 non-null     float64            \n",
      " 6   change             46 non-null     float64            \n",
      " 7   percentChange      42 non-null     float64            \n",
      " 8   volume             46 non-null     int64              \n",
      " 9   openInterest       42 non-null     float64            \n",
      " 10  impliedVolatility  46 non-null     float64            \n",
      " 11  inTheMoney         46 non-null     bool               \n",
      " 12  contractSize       46 non-null     object             \n",
      " 13  currency           46 non-null     object             \n",
      "dtypes: bool(1), datetime64[ns, UTC](1), float64(8), int64(1), object(3)\n",
      "memory usage: 4.8+ KB\n"
     ]
    }
   ],
   "source": [
    "expiration = ticker.options[0]\n",
    "options = ticker.option_chain(expiration)\n",
    "options.calls.info()"
   ]
  },
  {
   "cell_type": "code",
   "execution_count": 23,
   "metadata": {
    "ExecuteTime": {
     "end_time": "2020-12-30T22:10:20.974092Z",
     "start_time": "2020-12-30T22:10:20.956269Z"
    },
    "pycharm": {
     "name": "#%%\n"
    }
   },
   "outputs": [
    {
     "data": {
      "text/plain": "        contractSymbol             lastTradeDate  strike  lastPrice    bid  \\\n0  INTC220624C00025000 2022-06-17 17:13:48+00:00    25.0      12.25  11.90   \n1  INTC220624C00030000 2022-06-16 16:34:14+00:00    30.0       7.40   6.90   \n2  INTC220624C00032000 2022-06-17 19:02:17+00:00    32.0       4.95   4.95   \n3  INTC220624C00033500 2022-06-17 18:47:24+00:00    33.5       3.50   3.45   \n4  INTC220624C00034000 2022-06-17 16:06:02+00:00    34.0       2.82   3.00   \n\n     ask  change  percentChange  volume  openInterest  impliedVolatility  \\\n0  12.10    0.18       1.491303       4           3.0           1.546877   \n1   7.10    0.00       0.000000     100         112.0           0.890626   \n2   5.10    4.95            NaN       1           NaN           0.730471   \n3   3.65    3.50            NaN       1           NaN           0.582035   \n4   3.15   -0.58     -17.058828      11           9.0           0.550786   \n\n   inTheMoney contractSize currency  \n0        True      REGULAR      USD  \n1        True      REGULAR      USD  \n2        True      REGULAR      USD  \n3        True      REGULAR      USD  \n4        True      REGULAR      USD  ",
      "text/html": "<div>\n<style scoped>\n    .dataframe tbody tr th:only-of-type {\n        vertical-align: middle;\n    }\n\n    .dataframe tbody tr th {\n        vertical-align: top;\n    }\n\n    .dataframe thead th {\n        text-align: right;\n    }\n</style>\n<table border=\"1\" class=\"dataframe\">\n  <thead>\n    <tr style=\"text-align: right;\">\n      <th></th>\n      <th>contractSymbol</th>\n      <th>lastTradeDate</th>\n      <th>strike</th>\n      <th>lastPrice</th>\n      <th>bid</th>\n      <th>ask</th>\n      <th>change</th>\n      <th>percentChange</th>\n      <th>volume</th>\n      <th>openInterest</th>\n      <th>impliedVolatility</th>\n      <th>inTheMoney</th>\n      <th>contractSize</th>\n      <th>currency</th>\n    </tr>\n  </thead>\n  <tbody>\n    <tr>\n      <th>0</th>\n      <td>INTC220624C00025000</td>\n      <td>2022-06-17 17:13:48+00:00</td>\n      <td>25.0</td>\n      <td>12.25</td>\n      <td>11.90</td>\n      <td>12.10</td>\n      <td>0.18</td>\n      <td>1.491303</td>\n      <td>4</td>\n      <td>3.0</td>\n      <td>1.546877</td>\n      <td>True</td>\n      <td>REGULAR</td>\n      <td>USD</td>\n    </tr>\n    <tr>\n      <th>1</th>\n      <td>INTC220624C00030000</td>\n      <td>2022-06-16 16:34:14+00:00</td>\n      <td>30.0</td>\n      <td>7.40</td>\n      <td>6.90</td>\n      <td>7.10</td>\n      <td>0.00</td>\n      <td>0.000000</td>\n      <td>100</td>\n      <td>112.0</td>\n      <td>0.890626</td>\n      <td>True</td>\n      <td>REGULAR</td>\n      <td>USD</td>\n    </tr>\n    <tr>\n      <th>2</th>\n      <td>INTC220624C00032000</td>\n      <td>2022-06-17 19:02:17+00:00</td>\n      <td>32.0</td>\n      <td>4.95</td>\n      <td>4.95</td>\n      <td>5.10</td>\n      <td>4.95</td>\n      <td>NaN</td>\n      <td>1</td>\n      <td>NaN</td>\n      <td>0.730471</td>\n      <td>True</td>\n      <td>REGULAR</td>\n      <td>USD</td>\n    </tr>\n    <tr>\n      <th>3</th>\n      <td>INTC220624C00033500</td>\n      <td>2022-06-17 18:47:24+00:00</td>\n      <td>33.5</td>\n      <td>3.50</td>\n      <td>3.45</td>\n      <td>3.65</td>\n      <td>3.50</td>\n      <td>NaN</td>\n      <td>1</td>\n      <td>NaN</td>\n      <td>0.582035</td>\n      <td>True</td>\n      <td>REGULAR</td>\n      <td>USD</td>\n    </tr>\n    <tr>\n      <th>4</th>\n      <td>INTC220624C00034000</td>\n      <td>2022-06-17 16:06:02+00:00</td>\n      <td>34.0</td>\n      <td>2.82</td>\n      <td>3.00</td>\n      <td>3.15</td>\n      <td>-0.58</td>\n      <td>-17.058828</td>\n      <td>11</td>\n      <td>9.0</td>\n      <td>0.550786</td>\n      <td>True</td>\n      <td>REGULAR</td>\n      <td>USD</td>\n    </tr>\n  </tbody>\n</table>\n</div>"
     },
     "execution_count": 23,
     "metadata": {},
     "output_type": "execute_result"
    }
   ],
   "source": [
    "options.calls.head()"
   ]
  },
  {
   "cell_type": "code",
   "execution_count": 24,
   "metadata": {
    "ExecuteTime": {
     "end_time": "2020-12-30T22:10:20.990394Z",
     "start_time": "2020-12-30T22:10:20.975343Z"
    },
    "pycharm": {
     "name": "#%%\n"
    }
   },
   "outputs": [
    {
     "name": "stdout",
     "output_type": "stream",
     "text": [
      "<class 'pandas.core.frame.DataFrame'>\n",
      "RangeIndex: 48 entries, 0 to 47\n",
      "Data columns (total 14 columns):\n",
      " #   Column             Non-Null Count  Dtype              \n",
      "---  ------             --------------  -----              \n",
      " 0   contractSymbol     48 non-null     object             \n",
      " 1   lastTradeDate      48 non-null     datetime64[ns, UTC]\n",
      " 2   strike             48 non-null     float64            \n",
      " 3   lastPrice          48 non-null     float64            \n",
      " 4   bid                48 non-null     float64            \n",
      " 5   ask                48 non-null     float64            \n",
      " 6   change             48 non-null     float64            \n",
      " 7   percentChange      40 non-null     float64            \n",
      " 8   volume             44 non-null     float64            \n",
      " 9   openInterest       40 non-null     float64            \n",
      " 10  impliedVolatility  48 non-null     float64            \n",
      " 11  inTheMoney         48 non-null     bool               \n",
      " 12  contractSize       48 non-null     object             \n",
      " 13  currency           48 non-null     object             \n",
      "dtypes: bool(1), datetime64[ns, UTC](1), float64(9), object(3)\n",
      "memory usage: 5.0+ KB\n"
     ]
    }
   ],
   "source": [
    "options.puts.info()"
   ]
  },
  {
   "cell_type": "markdown",
   "metadata": {
    "pycharm": {
     "name": "#%% md\n"
    }
   },
   "source": [
    "## Downloading multiple symbols"
   ]
  },
  {
   "cell_type": "code",
   "execution_count": 25,
   "metadata": {
    "ExecuteTime": {
     "end_time": "2020-12-30T22:10:21.023516Z",
     "start_time": "2020-12-30T22:10:21.007945Z"
    },
    "pycharm": {
     "name": "#%%\n"
    }
   },
   "outputs": [],
   "source": [
    "tickers = yf.Tickers('msft aapl googl')"
   ]
  },
  {
   "cell_type": "code",
   "execution_count": 26,
   "metadata": {
    "ExecuteTime": {
     "end_time": "2020-12-30T22:10:21.027641Z",
     "start_time": "2020-12-30T22:10:21.024445Z"
    },
    "pycharm": {
     "name": "#%%\n"
    }
   },
   "outputs": [
    {
     "data": {
      "text/plain": "yfinance.Tickers object <MSFT,AAPL,GOOGL>"
     },
     "execution_count": 26,
     "metadata": {},
     "output_type": "execute_result"
    }
   ],
   "source": [
    "tickers"
   ]
  },
  {
   "cell_type": "code",
   "execution_count": 27,
   "metadata": {
    "ExecuteTime": {
     "end_time": "2020-12-30T22:10:22.222298Z",
     "start_time": "2020-12-30T22:10:21.028540Z"
    },
    "pycharm": {
     "name": "#%%\n"
    }
   },
   "outputs": [
    {
     "data": {
      "text/plain": "zip                                                           98052-6399\nsector                                                        Technology\nfullTimeEmployees                                                 181000\nlongBusinessSummary    Microsoft Corporation develops, licenses, and ...\ncity                                                             Redmond\n                                             ...                        \ndayHigh                                                            250.5\nregularMarketPrice                                                247.65\npreMarketPrice                                                      None\nlogo_url                         https://logo.clearbit.com/microsoft.com\ntrailingPegRatio                                                  1.6973\nLength: 153, dtype: object"
     },
     "execution_count": 27,
     "metadata": {},
     "output_type": "execute_result"
    }
   ],
   "source": [
    "pd.Series(tickers.tickers['MSFT'].info)"
   ]
  },
  {
   "cell_type": "code",
   "execution_count": 28,
   "metadata": {
    "ExecuteTime": {
     "end_time": "2020-12-30T22:10:22.609960Z",
     "start_time": "2020-12-30T22:10:22.223131Z"
    },
    "pycharm": {
     "name": "#%%\n"
    }
   },
   "outputs": [
    {
     "data": {
      "text/plain": "                  Open        High         Low       Close     Volume  \\\nDate                                                                    \n2022-05-18  146.850006  147.360001  139.899994  140.820007  109742900   \n2022-05-19  139.880005  141.660004  136.600006  137.350006  136095600   \n2022-05-20  139.089996  140.699997  132.610001  137.589996  137426100   \n2022-05-23  137.789993  143.259995  137.649994  143.110001  117726300   \n2022-05-24  140.809998  141.970001  137.330002  140.360001  104132700   \n2022-05-25  138.429993  141.789993  138.339996  140.520004   92482700   \n2022-05-26  137.389999  144.339996  137.139999  143.779999   90601500   \n2022-05-27  145.389999  149.679993  145.259995  149.639999   90978500   \n2022-05-31  149.070007  150.660004  146.839996  148.839996  103718400   \n2022-06-01  149.899994  151.740005  147.679993  148.710007   74286600   \n2022-06-02  147.830002  151.270004  146.860001  151.210007   72348100   \n2022-06-03  146.899994  147.970001  144.460007  145.380005   88471400   \n2022-06-06  147.029999  148.570007  144.899994  146.139999   71598400   \n2022-06-07  144.350006  149.000000  144.100006  148.710007   67808200   \n2022-06-08  148.580002  149.869995  147.460007  147.960007   53950200   \n2022-06-09  147.080002  147.949997  142.529999  142.639999   69473000   \n2022-06-10  140.279999  140.759995  137.059998  137.130005   91437900   \n2022-06-13  132.869995  135.199997  131.440002  131.880005  122207100   \n2022-06-14  133.130005  133.889999  131.479996  132.759995   84784300   \n2022-06-15  134.289993  137.339996  132.160004  135.429993   91533000   \n2022-06-16  132.080002  132.389999  129.039993  130.059998  108123900   \n2022-06-17  130.070007  133.080002  129.809998  131.559998  134118500   \n\n            Dividends  Stock Splits  \nDate                                 \n2022-05-18          0             0  \n2022-05-19          0             0  \n2022-05-20          0             0  \n2022-05-23          0             0  \n2022-05-24          0             0  \n2022-05-25          0             0  \n2022-05-26          0             0  \n2022-05-27          0             0  \n2022-05-31          0             0  \n2022-06-01          0             0  \n2022-06-02          0             0  \n2022-06-03          0             0  \n2022-06-06          0             0  \n2022-06-07          0             0  \n2022-06-08          0             0  \n2022-06-09          0             0  \n2022-06-10          0             0  \n2022-06-13          0             0  \n2022-06-14          0             0  \n2022-06-15          0             0  \n2022-06-16          0             0  \n2022-06-17          0             0  ",
      "text/html": "<div>\n<style scoped>\n    .dataframe tbody tr th:only-of-type {\n        vertical-align: middle;\n    }\n\n    .dataframe tbody tr th {\n        vertical-align: top;\n    }\n\n    .dataframe thead th {\n        text-align: right;\n    }\n</style>\n<table border=\"1\" class=\"dataframe\">\n  <thead>\n    <tr style=\"text-align: right;\">\n      <th></th>\n      <th>Open</th>\n      <th>High</th>\n      <th>Low</th>\n      <th>Close</th>\n      <th>Volume</th>\n      <th>Dividends</th>\n      <th>Stock Splits</th>\n    </tr>\n    <tr>\n      <th>Date</th>\n      <th></th>\n      <th></th>\n      <th></th>\n      <th></th>\n      <th></th>\n      <th></th>\n      <th></th>\n    </tr>\n  </thead>\n  <tbody>\n    <tr>\n      <th>2022-05-18</th>\n      <td>146.850006</td>\n      <td>147.360001</td>\n      <td>139.899994</td>\n      <td>140.820007</td>\n      <td>109742900</td>\n      <td>0</td>\n      <td>0</td>\n    </tr>\n    <tr>\n      <th>2022-05-19</th>\n      <td>139.880005</td>\n      <td>141.660004</td>\n      <td>136.600006</td>\n      <td>137.350006</td>\n      <td>136095600</td>\n      <td>0</td>\n      <td>0</td>\n    </tr>\n    <tr>\n      <th>2022-05-20</th>\n      <td>139.089996</td>\n      <td>140.699997</td>\n      <td>132.610001</td>\n      <td>137.589996</td>\n      <td>137426100</td>\n      <td>0</td>\n      <td>0</td>\n    </tr>\n    <tr>\n      <th>2022-05-23</th>\n      <td>137.789993</td>\n      <td>143.259995</td>\n      <td>137.649994</td>\n      <td>143.110001</td>\n      <td>117726300</td>\n      <td>0</td>\n      <td>0</td>\n    </tr>\n    <tr>\n      <th>2022-05-24</th>\n      <td>140.809998</td>\n      <td>141.970001</td>\n      <td>137.330002</td>\n      <td>140.360001</td>\n      <td>104132700</td>\n      <td>0</td>\n      <td>0</td>\n    </tr>\n    <tr>\n      <th>2022-05-25</th>\n      <td>138.429993</td>\n      <td>141.789993</td>\n      <td>138.339996</td>\n      <td>140.520004</td>\n      <td>92482700</td>\n      <td>0</td>\n      <td>0</td>\n    </tr>\n    <tr>\n      <th>2022-05-26</th>\n      <td>137.389999</td>\n      <td>144.339996</td>\n      <td>137.139999</td>\n      <td>143.779999</td>\n      <td>90601500</td>\n      <td>0</td>\n      <td>0</td>\n    </tr>\n    <tr>\n      <th>2022-05-27</th>\n      <td>145.389999</td>\n      <td>149.679993</td>\n      <td>145.259995</td>\n      <td>149.639999</td>\n      <td>90978500</td>\n      <td>0</td>\n      <td>0</td>\n    </tr>\n    <tr>\n      <th>2022-05-31</th>\n      <td>149.070007</td>\n      <td>150.660004</td>\n      <td>146.839996</td>\n      <td>148.839996</td>\n      <td>103718400</td>\n      <td>0</td>\n      <td>0</td>\n    </tr>\n    <tr>\n      <th>2022-06-01</th>\n      <td>149.899994</td>\n      <td>151.740005</td>\n      <td>147.679993</td>\n      <td>148.710007</td>\n      <td>74286600</td>\n      <td>0</td>\n      <td>0</td>\n    </tr>\n    <tr>\n      <th>2022-06-02</th>\n      <td>147.830002</td>\n      <td>151.270004</td>\n      <td>146.860001</td>\n      <td>151.210007</td>\n      <td>72348100</td>\n      <td>0</td>\n      <td>0</td>\n    </tr>\n    <tr>\n      <th>2022-06-03</th>\n      <td>146.899994</td>\n      <td>147.970001</td>\n      <td>144.460007</td>\n      <td>145.380005</td>\n      <td>88471400</td>\n      <td>0</td>\n      <td>0</td>\n    </tr>\n    <tr>\n      <th>2022-06-06</th>\n      <td>147.029999</td>\n      <td>148.570007</td>\n      <td>144.899994</td>\n      <td>146.139999</td>\n      <td>71598400</td>\n      <td>0</td>\n      <td>0</td>\n    </tr>\n    <tr>\n      <th>2022-06-07</th>\n      <td>144.350006</td>\n      <td>149.000000</td>\n      <td>144.100006</td>\n      <td>148.710007</td>\n      <td>67808200</td>\n      <td>0</td>\n      <td>0</td>\n    </tr>\n    <tr>\n      <th>2022-06-08</th>\n      <td>148.580002</td>\n      <td>149.869995</td>\n      <td>147.460007</td>\n      <td>147.960007</td>\n      <td>53950200</td>\n      <td>0</td>\n      <td>0</td>\n    </tr>\n    <tr>\n      <th>2022-06-09</th>\n      <td>147.080002</td>\n      <td>147.949997</td>\n      <td>142.529999</td>\n      <td>142.639999</td>\n      <td>69473000</td>\n      <td>0</td>\n      <td>0</td>\n    </tr>\n    <tr>\n      <th>2022-06-10</th>\n      <td>140.279999</td>\n      <td>140.759995</td>\n      <td>137.059998</td>\n      <td>137.130005</td>\n      <td>91437900</td>\n      <td>0</td>\n      <td>0</td>\n    </tr>\n    <tr>\n      <th>2022-06-13</th>\n      <td>132.869995</td>\n      <td>135.199997</td>\n      <td>131.440002</td>\n      <td>131.880005</td>\n      <td>122207100</td>\n      <td>0</td>\n      <td>0</td>\n    </tr>\n    <tr>\n      <th>2022-06-14</th>\n      <td>133.130005</td>\n      <td>133.889999</td>\n      <td>131.479996</td>\n      <td>132.759995</td>\n      <td>84784300</td>\n      <td>0</td>\n      <td>0</td>\n    </tr>\n    <tr>\n      <th>2022-06-15</th>\n      <td>134.289993</td>\n      <td>137.339996</td>\n      <td>132.160004</td>\n      <td>135.429993</td>\n      <td>91533000</td>\n      <td>0</td>\n      <td>0</td>\n    </tr>\n    <tr>\n      <th>2022-06-16</th>\n      <td>132.080002</td>\n      <td>132.389999</td>\n      <td>129.039993</td>\n      <td>130.059998</td>\n      <td>108123900</td>\n      <td>0</td>\n      <td>0</td>\n    </tr>\n    <tr>\n      <th>2022-06-17</th>\n      <td>130.070007</td>\n      <td>133.080002</td>\n      <td>129.809998</td>\n      <td>131.559998</td>\n      <td>134118500</td>\n      <td>0</td>\n      <td>0</td>\n    </tr>\n  </tbody>\n</table>\n</div>"
     },
     "execution_count": 28,
     "metadata": {},
     "output_type": "execute_result"
    }
   ],
   "source": [
    "tickers.tickers['AAPL'].history(period=\"1mo\")"
   ]
  },
  {
   "cell_type": "code",
   "execution_count": 29,
   "metadata": {
    "ExecuteTime": {
     "end_time": "2020-12-30T22:10:23.079278Z",
     "start_time": "2020-12-30T22:10:22.611171Z"
    },
    "pycharm": {
     "name": "#%%\n"
    }
   },
   "outputs": [
    {
     "name": "stdout",
     "output_type": "stream",
     "text": [
      "[*********************100%***********************]  3 of 3 completed\n"
     ]
    },
    {
     "data": {
      "text/plain": "                        Close  Dividends         High          Low  \\\nDate                                                                 \n2022-05-18 AAPL    140.820007       0.00   147.360001   139.899994   \n           GOOGL  2237.989990       0.00  2308.000000  2231.110107   \n           MSFT    254.080002       0.62   263.600006   252.770004   \n2022-05-19 AAPL    137.350006       0.00   141.660004   136.600006   \n           GOOGL  2207.679932       0.00  2260.199951  2200.000000   \n...                       ...        ...          ...          ...   \n2022-06-16 GOOGL  2120.669922       0.00  2172.969971  2102.760010   \n           MSFT    244.970001       0.00   247.419998   243.020004   \n2022-06-17 AAPL    131.559998       0.00   133.080002   129.809998   \n           GOOGL  2142.870117       0.00  2173.989990  2100.919922   \n           MSFT    247.649994       0.00   250.500000   244.029999   \n\n                         Open  Stock Splits     Volume  \nDate                                                    \n2022-05-18 AAPL    146.850006             0  109742900  \n           GOOGL  2300.000000             0    1756300  \n           MSFT    263.000000             0   31356000  \n2022-05-19 AAPL    139.880005             0  136095600  \n           GOOGL  2228.629883             0    1707200  \n...                       ...           ...        ...  \n2022-06-16 GOOGL  2144.419922             0    2584200  \n           MSFT    245.979996             0   33169200  \n2022-06-17 AAPL    130.070007             0  134118500  \n           GOOGL  2120.669922             0    2555300  \n           MSFT    244.699997             0   42800400  \n\n[66 rows x 7 columns]",
      "text/html": "<div>\n<style scoped>\n    .dataframe tbody tr th:only-of-type {\n        vertical-align: middle;\n    }\n\n    .dataframe tbody tr th {\n        vertical-align: top;\n    }\n\n    .dataframe thead th {\n        text-align: right;\n    }\n</style>\n<table border=\"1\" class=\"dataframe\">\n  <thead>\n    <tr style=\"text-align: right;\">\n      <th></th>\n      <th></th>\n      <th>Close</th>\n      <th>Dividends</th>\n      <th>High</th>\n      <th>Low</th>\n      <th>Open</th>\n      <th>Stock Splits</th>\n      <th>Volume</th>\n    </tr>\n    <tr>\n      <th>Date</th>\n      <th></th>\n      <th></th>\n      <th></th>\n      <th></th>\n      <th></th>\n      <th></th>\n      <th></th>\n      <th></th>\n    </tr>\n  </thead>\n  <tbody>\n    <tr>\n      <th rowspan=\"3\" valign=\"top\">2022-05-18</th>\n      <th>AAPL</th>\n      <td>140.820007</td>\n      <td>0.00</td>\n      <td>147.360001</td>\n      <td>139.899994</td>\n      <td>146.850006</td>\n      <td>0</td>\n      <td>109742900</td>\n    </tr>\n    <tr>\n      <th>GOOGL</th>\n      <td>2237.989990</td>\n      <td>0.00</td>\n      <td>2308.000000</td>\n      <td>2231.110107</td>\n      <td>2300.000000</td>\n      <td>0</td>\n      <td>1756300</td>\n    </tr>\n    <tr>\n      <th>MSFT</th>\n      <td>254.080002</td>\n      <td>0.62</td>\n      <td>263.600006</td>\n      <td>252.770004</td>\n      <td>263.000000</td>\n      <td>0</td>\n      <td>31356000</td>\n    </tr>\n    <tr>\n      <th rowspan=\"2\" valign=\"top\">2022-05-19</th>\n      <th>AAPL</th>\n      <td>137.350006</td>\n      <td>0.00</td>\n      <td>141.660004</td>\n      <td>136.600006</td>\n      <td>139.880005</td>\n      <td>0</td>\n      <td>136095600</td>\n    </tr>\n    <tr>\n      <th>GOOGL</th>\n      <td>2207.679932</td>\n      <td>0.00</td>\n      <td>2260.199951</td>\n      <td>2200.000000</td>\n      <td>2228.629883</td>\n      <td>0</td>\n      <td>1707200</td>\n    </tr>\n    <tr>\n      <th>...</th>\n      <th>...</th>\n      <td>...</td>\n      <td>...</td>\n      <td>...</td>\n      <td>...</td>\n      <td>...</td>\n      <td>...</td>\n      <td>...</td>\n    </tr>\n    <tr>\n      <th rowspan=\"2\" valign=\"top\">2022-06-16</th>\n      <th>GOOGL</th>\n      <td>2120.669922</td>\n      <td>0.00</td>\n      <td>2172.969971</td>\n      <td>2102.760010</td>\n      <td>2144.419922</td>\n      <td>0</td>\n      <td>2584200</td>\n    </tr>\n    <tr>\n      <th>MSFT</th>\n      <td>244.970001</td>\n      <td>0.00</td>\n      <td>247.419998</td>\n      <td>243.020004</td>\n      <td>245.979996</td>\n      <td>0</td>\n      <td>33169200</td>\n    </tr>\n    <tr>\n      <th rowspan=\"3\" valign=\"top\">2022-06-17</th>\n      <th>AAPL</th>\n      <td>131.559998</td>\n      <td>0.00</td>\n      <td>133.080002</td>\n      <td>129.809998</td>\n      <td>130.070007</td>\n      <td>0</td>\n      <td>134118500</td>\n    </tr>\n    <tr>\n      <th>GOOGL</th>\n      <td>2142.870117</td>\n      <td>0.00</td>\n      <td>2173.989990</td>\n      <td>2100.919922</td>\n      <td>2120.669922</td>\n      <td>0</td>\n      <td>2555300</td>\n    </tr>\n    <tr>\n      <th>MSFT</th>\n      <td>247.649994</td>\n      <td>0.00</td>\n      <td>250.500000</td>\n      <td>244.029999</td>\n      <td>244.699997</td>\n      <td>0</td>\n      <td>42800400</td>\n    </tr>\n  </tbody>\n</table>\n<p>66 rows × 7 columns</p>\n</div>"
     },
     "execution_count": 29,
     "metadata": {},
     "output_type": "execute_result"
    }
   ],
   "source": [
    "tickers.history(period='1mo').stack(-1)"
   ]
  },
  {
   "cell_type": "code",
   "execution_count": 30,
   "metadata": {
    "ExecuteTime": {
     "end_time": "2020-12-30T22:10:23.280307Z",
     "start_time": "2020-12-30T22:10:23.080251Z"
    },
    "pycharm": {
     "name": "#%%\n"
    }
   },
   "outputs": [
    {
     "name": "stdout",
     "output_type": "stream",
     "text": [
      "[*********************100%***********************]  2 of 2 completed\n"
     ]
    }
   ],
   "source": [
    "data = yf.download(\"SPY AAPL\", start=\"2020-01-01\", end=\"2020-01-05\")"
   ]
  },
  {
   "cell_type": "code",
   "execution_count": 31,
   "metadata": {
    "ExecuteTime": {
     "end_time": "2020-12-30T22:10:23.290789Z",
     "start_time": "2020-12-30T22:10:23.281500Z"
    },
    "pycharm": {
     "name": "#%%\n"
    }
   },
   "outputs": [
    {
     "name": "stdout",
     "output_type": "stream",
     "text": [
      "<class 'pandas.core.frame.DataFrame'>\n",
      "DatetimeIndex: 2 entries, 2020-01-02 to 2020-01-03\n",
      "Data columns (total 12 columns):\n",
      " #   Column             Non-Null Count  Dtype  \n",
      "---  ------             --------------  -----  \n",
      " 0   (Adj Close, AAPL)  2 non-null      float64\n",
      " 1   (Adj Close, SPY)   2 non-null      float64\n",
      " 2   (Close, AAPL)      2 non-null      float64\n",
      " 3   (Close, SPY)       2 non-null      float64\n",
      " 4   (High, AAPL)       2 non-null      float64\n",
      " 5   (High, SPY)        2 non-null      float64\n",
      " 6   (Low, AAPL)        2 non-null      float64\n",
      " 7   (Low, SPY)         2 non-null      float64\n",
      " 8   (Open, AAPL)       2 non-null      float64\n",
      " 9   (Open, SPY)        2 non-null      float64\n",
      " 10  (Volume, AAPL)     2 non-null      int64  \n",
      " 11  (Volume, SPY)      2 non-null      int64  \n",
      "dtypes: float64(10), int64(2)\n",
      "memory usage: 208.0 bytes\n"
     ]
    }
   ],
   "source": [
    "data.info()"
   ]
  },
  {
   "cell_type": "code",
   "execution_count": 32,
   "metadata": {
    "ExecuteTime": {
     "end_time": "2020-12-30T22:10:23.890433Z",
     "start_time": "2020-12-30T22:10:23.292190Z"
    },
    "pycharm": {
     "name": "#%%\n"
    }
   },
   "outputs": [
    {
     "name": "stdout",
     "output_type": "stream",
     "text": [
      "[*********************100%***********************]  3 of 3 completed\n"
     ]
    }
   ],
   "source": [
    "data = yf.download(\n",
    "        tickers = \"SPY AAPL MSFT\", # list or string\n",
    "\n",
    "        # use \"period\" instead of start/end\n",
    "        # valid periods: 1d,5d,1mo,3mo,6mo,1y,2y,5y,10y,ytd,max\n",
    "        # (optional, default is '1mo')\n",
    "        period = \"5d\",\n",
    "\n",
    "        # fetch data by interval (including intraday if period < 60 days)\n",
    "        # valid intervals: 1m,2m,5m,15m,30m,60m,90m,1h,1d,5d,1wk,1mo,3mo\n",
    "        # (optional, default is '1d')\n",
    "        interval = \"1m\",\n",
    "\n",
    "        # group by ticker (to access via data['SPY'])\n",
    "        # (optional, default is 'column')\n",
    "        group_by = 'ticker',\n",
    "\n",
    "        # adjust all OHLC automatically\n",
    "        # (optional, default is False)\n",
    "        auto_adjust = True,\n",
    "\n",
    "        # download pre/post regular market hours data\n",
    "        # (optional, default is False)\n",
    "        prepost = True,\n",
    "\n",
    "        # use threads for mass downloading? (True/False/Integer)\n",
    "        # (optional, default is True)\n",
    "        threads = True,\n",
    "\n",
    "        # proxy URL scheme use use when downloading?\n",
    "        # (optional, default is None)\n",
    "        proxy = None\n",
    "    )"
   ]
  },
  {
   "cell_type": "code",
   "execution_count": 33,
   "metadata": {
    "ExecuteTime": {
     "end_time": "2020-12-30T22:10:23.905366Z",
     "start_time": "2020-12-30T22:10:23.891377Z"
    },
    "pycharm": {
     "name": "#%%\n"
    }
   },
   "outputs": [
    {
     "name": "stdout",
     "output_type": "stream",
     "text": [
      "<class 'pandas.core.frame.DataFrame'>\n",
      "DatetimeIndex: 4724 entries, 2022-06-13 04:00:00-04:00 to 2022-06-17 19:59:00-04:00\n",
      "Data columns (total 15 columns):\n",
      " #   Column          Non-Null Count  Dtype  \n",
      "---  ------          --------------  -----  \n",
      " 0   (SPY, Open)     4709 non-null   float64\n",
      " 1   (SPY, High)     4709 non-null   float64\n",
      " 2   (SPY, Low)      4709 non-null   float64\n",
      " 3   (SPY, Close)    4709 non-null   float64\n",
      " 4   (SPY, Volume)   4709 non-null   float64\n",
      " 5   (AAPL, Open)    4723 non-null   float64\n",
      " 6   (AAPL, High)    4723 non-null   float64\n",
      " 7   (AAPL, Low)     4723 non-null   float64\n",
      " 8   (AAPL, Close)   4723 non-null   float64\n",
      " 9   (AAPL, Volume)  4723 non-null   float64\n",
      " 10  (MSFT, Open)    4608 non-null   float64\n",
      " 11  (MSFT, High)    4608 non-null   float64\n",
      " 12  (MSFT, Low)     4608 non-null   float64\n",
      " 13  (MSFT, Close)   4608 non-null   float64\n",
      " 14  (MSFT, Volume)  4608 non-null   float64\n",
      "dtypes: float64(15)\n",
      "memory usage: 590.5 KB\n"
     ]
    }
   ],
   "source": [
    "data.info()"
   ]
  },
  {
   "cell_type": "code",
   "execution_count": 34,
   "metadata": {
    "ExecuteTime": {
     "end_time": "2020-12-30T22:10:24.352264Z",
     "start_time": "2020-12-30T22:10:23.906522Z"
    },
    "pycharm": {
     "name": "#%%\n"
    }
   },
   "outputs": [
    {
     "name": "stdout",
     "output_type": "stream",
     "text": [
      "[*********************100%***********************]  1 of 1 completed\n"
     ]
    }
   ],
   "source": [
    "from pandas_datareader import data as pdr\n",
    "\n",
    "import yfinance as yf\n",
    "yf.pdr_override()\n",
    "\n",
    "# download dataframe\n",
    "data = pdr.get_data_yahoo('SPY',\n",
    "                          start='2017-01-01',\n",
    "                          end='2019-04-30',\n",
    "                          auto_adjust=False)"
   ]
  },
  {
   "cell_type": "code",
   "execution_count": 35,
   "metadata": {
    "ExecuteTime": {
     "end_time": "2020-12-30T22:10:24.362899Z",
     "start_time": "2020-12-30T22:10:24.354134Z"
    },
    "pycharm": {
     "name": "#%%\n"
    }
   },
   "outputs": [
    {
     "data": {
      "text/plain": "                  Open        High         Low       Close   Adj Close  \\\nDate                                                                     \n2019-04-23  290.679993  293.140015  290.420013  292.880005  277.617126   \n2019-04-24  292.790009  293.160004  292.070007  292.230011  277.000946   \n2019-04-25  292.119995  292.779999  290.730011  292.049988  276.830292   \n2019-04-26  292.100006  293.489990  291.239990  293.410004  278.119446   \n2019-04-29  293.510010  294.450012  293.410004  293.869995  278.555450   \n\n              Volume  \nDate                  \n2019-04-23  52246600  \n2019-04-24  50392900  \n2019-04-25  57770900  \n2019-04-26  50916400  \n2019-04-29  57197700  ",
      "text/html": "<div>\n<style scoped>\n    .dataframe tbody tr th:only-of-type {\n        vertical-align: middle;\n    }\n\n    .dataframe tbody tr th {\n        vertical-align: top;\n    }\n\n    .dataframe thead th {\n        text-align: right;\n    }\n</style>\n<table border=\"1\" class=\"dataframe\">\n  <thead>\n    <tr style=\"text-align: right;\">\n      <th></th>\n      <th>Open</th>\n      <th>High</th>\n      <th>Low</th>\n      <th>Close</th>\n      <th>Adj Close</th>\n      <th>Volume</th>\n    </tr>\n    <tr>\n      <th>Date</th>\n      <th></th>\n      <th></th>\n      <th></th>\n      <th></th>\n      <th></th>\n      <th></th>\n    </tr>\n  </thead>\n  <tbody>\n    <tr>\n      <th>2019-04-23</th>\n      <td>290.679993</td>\n      <td>293.140015</td>\n      <td>290.420013</td>\n      <td>292.880005</td>\n      <td>277.617126</td>\n      <td>52246600</td>\n    </tr>\n    <tr>\n      <th>2019-04-24</th>\n      <td>292.790009</td>\n      <td>293.160004</td>\n      <td>292.070007</td>\n      <td>292.230011</td>\n      <td>277.000946</td>\n      <td>50392900</td>\n    </tr>\n    <tr>\n      <th>2019-04-25</th>\n      <td>292.119995</td>\n      <td>292.779999</td>\n      <td>290.730011</td>\n      <td>292.049988</td>\n      <td>276.830292</td>\n      <td>57770900</td>\n    </tr>\n    <tr>\n      <th>2019-04-26</th>\n      <td>292.100006</td>\n      <td>293.489990</td>\n      <td>291.239990</td>\n      <td>293.410004</td>\n      <td>278.119446</td>\n      <td>50916400</td>\n    </tr>\n    <tr>\n      <th>2019-04-29</th>\n      <td>293.510010</td>\n      <td>294.450012</td>\n      <td>293.410004</td>\n      <td>293.869995</td>\n      <td>278.555450</td>\n      <td>57197700</td>\n    </tr>\n  </tbody>\n</table>\n</div>"
     },
     "execution_count": 35,
     "metadata": {},
     "output_type": "execute_result"
    }
   ],
   "source": [
    "# auto_adjust = True\n",
    "data.tail()"
   ]
  },
  {
   "cell_type": "code",
   "execution_count": 36,
   "metadata": {
    "ExecuteTime": {
     "end_time": "2020-12-30T22:10:24.380357Z",
     "start_time": "2020-12-30T22:10:24.364065Z"
    },
    "pycharm": {
     "name": "#%%\n"
    }
   },
   "outputs": [
    {
     "data": {
      "text/plain": "                  Open        High         Low       Close   Adj Close  \\\nDate                                                                     \n2019-04-23  290.679993  293.140015  290.420013  292.880005  277.617126   \n2019-04-24  292.790009  293.160004  292.070007  292.230011  277.000946   \n2019-04-25  292.119995  292.779999  290.730011  292.049988  276.830292   \n2019-04-26  292.100006  293.489990  291.239990  293.410004  278.119446   \n2019-04-29  293.510010  294.450012  293.410004  293.869995  278.555450   \n\n              Volume  \nDate                  \n2019-04-23  52246600  \n2019-04-24  50392900  \n2019-04-25  57770900  \n2019-04-26  50916400  \n2019-04-29  57197700  ",
      "text/html": "<div>\n<style scoped>\n    .dataframe tbody tr th:only-of-type {\n        vertical-align: middle;\n    }\n\n    .dataframe tbody tr th {\n        vertical-align: top;\n    }\n\n    .dataframe thead th {\n        text-align: right;\n    }\n</style>\n<table border=\"1\" class=\"dataframe\">\n  <thead>\n    <tr style=\"text-align: right;\">\n      <th></th>\n      <th>Open</th>\n      <th>High</th>\n      <th>Low</th>\n      <th>Close</th>\n      <th>Adj Close</th>\n      <th>Volume</th>\n    </tr>\n    <tr>\n      <th>Date</th>\n      <th></th>\n      <th></th>\n      <th></th>\n      <th></th>\n      <th></th>\n      <th></th>\n    </tr>\n  </thead>\n  <tbody>\n    <tr>\n      <th>2019-04-23</th>\n      <td>290.679993</td>\n      <td>293.140015</td>\n      <td>290.420013</td>\n      <td>292.880005</td>\n      <td>277.617126</td>\n      <td>52246600</td>\n    </tr>\n    <tr>\n      <th>2019-04-24</th>\n      <td>292.790009</td>\n      <td>293.160004</td>\n      <td>292.070007</td>\n      <td>292.230011</td>\n      <td>277.000946</td>\n      <td>50392900</td>\n    </tr>\n    <tr>\n      <th>2019-04-25</th>\n      <td>292.119995</td>\n      <td>292.779999</td>\n      <td>290.730011</td>\n      <td>292.049988</td>\n      <td>276.830292</td>\n      <td>57770900</td>\n    </tr>\n    <tr>\n      <th>2019-04-26</th>\n      <td>292.100006</td>\n      <td>293.489990</td>\n      <td>291.239990</td>\n      <td>293.410004</td>\n      <td>278.119446</td>\n      <td>50916400</td>\n    </tr>\n    <tr>\n      <th>2019-04-29</th>\n      <td>293.510010</td>\n      <td>294.450012</td>\n      <td>293.410004</td>\n      <td>293.869995</td>\n      <td>278.555450</td>\n      <td>57197700</td>\n    </tr>\n  </tbody>\n</table>\n</div>"
     },
     "execution_count": 36,
     "metadata": {},
     "output_type": "execute_result"
    }
   ],
   "source": [
    "# auto_adjust = False\n",
    "data.tail()"
   ]
  }
 ],
 "metadata": {
  "kernelspec": {
   "display_name": "Python 3",
   "language": "python",
   "name": "python3"
  },
  "language_info": {
   "codemirror_mode": {
    "name": "ipython",
    "version": 3
   },
   "file_extension": ".py",
   "mimetype": "text/x-python",
   "name": "python",
   "nbconvert_exporter": "python",
   "pygments_lexer": "ipython3",
   "version": "3.8.6"
  },
  "toc": {
   "base_numbering": 1,
   "nav_menu": {},
   "number_sections": true,
   "sideBar": true,
   "skip_h1_title": true,
   "title_cell": "Table of Contents",
   "title_sidebar": "Contents",
   "toc_cell": false,
   "toc_position": {},
   "toc_section_display": true,
   "toc_window_display": true
  }
 },
 "nbformat": 4,
 "nbformat_minor": 2
}