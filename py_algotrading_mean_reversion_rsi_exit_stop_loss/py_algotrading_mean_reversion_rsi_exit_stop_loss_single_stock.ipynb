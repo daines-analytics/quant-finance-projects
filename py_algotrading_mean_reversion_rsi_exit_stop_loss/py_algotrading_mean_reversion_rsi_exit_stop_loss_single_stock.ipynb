{
 "cells": [
  {
   "cell_type": "markdown",
   "metadata": {
    "colab_type": "text",
    "id": "nn0Ld1RjTekC"
   },
   "source": [
    "# Algorithmic Trading Model for Mean-Reversion with RSI Exit and Stop Loss Signals for an Individual Stock Using Python\n",
    "### David Lowe\n",
    "### August 4, 2021\n",
    "\n",
    "NOTE: This script is for learning purposes only and does not constitute a recommendation for buying or selling any stock mentioned in this script.\n",
    "\n",
    "SUMMARY: This project aims to construct and test an algorithmic trading model and document the end-to-end steps using a template.\n",
    "\n",
    "INTRODUCTION: This algorithmic trading model compares a simple mean-reversion strategy with or without using RSI as the exit signal for an individual stock. The model will use a trend window size of ten days for long trades only. When the 14-day RSI value reaches 70, the model will exit the long position. In addition, the model will also generate an exit signal when the holding reaches an 10% loss at the end of day.\n",
    "\n",
    "ANALYSIS: In this modeling iteration, we analyzed the stock of AAPL (Apple Inc.) between January 1, 2016, and July 30, 2021. The mean-reversion model without using RSI produced a gain of 26.90% per share, while the model with RSI signals returned a profit of 121.95%. In addition, the buy-and-hold approach yielded a gain of 462.84% per share.\n",
    "\n",
    "CONCLUSION: For the AAPL stock during the modeling time frame, the long-only trading strategy with or without RSI as the exit signal did not produce a better return than the buy-and-hold approach. We should consider experimenting with more variations of the strategy.\n",
    "\n",
    "Dataset ML Model: Time series analysis with numerical attributes\n",
    "\n",
    "Dataset Used: Quandl\n",
    "\n",
    "An algorithmic trading modeling project generally can be broken down into about five major tasks:\n",
    "\n",
    "1. Prepare Environment\n",
    "2. Acquire and Pre-Process Data\n",
    "3. Implement and Train Models\n",
    "4. Back-test Models\n",
    "5. Evaluate Strategy Performance"
   ]
  },
  {
   "cell_type": "markdown",
   "metadata": {
    "colab_type": "text",
    "id": "-DieEv9pTekE"
   },
   "source": [
    "## Task 1 - Prepare Environment"
   ]
  },
  {
   "cell_type": "markdown",
   "metadata": {
    "pycharm": {
     "name": "#%% md\n"
    }
   },
   "source": [
    "### 1.a) Load libraries and modules"
   ]
  },
  {
   "cell_type": "code",
   "execution_count": 1,
   "metadata": {
    "colab": {},
    "colab_type": "code",
    "collapsed": false,
    "id": "8IwyGxxuTekE",
    "jupyter": {
     "outputs_hidden": false
    },
    "pycharm": {
     "name": "#%%\n"
    }
   },
   "outputs": [],
   "source": [
    "import pandas as pd\n",
    "import matplotlib.pyplot as plt\n",
    "import statistics as stats\n",
    "import os\n",
    "import sys\n",
    "from datetime import date, datetime, timedelta\n",
    "import requests\n",
    "import json\n",
    "from dotenv import load_dotenv\n",
    "\n",
    "# Begin the timer for the script processing\n",
    "startTimeScript = datetime.now()"
   ]
  },
  {
   "cell_type": "markdown",
   "metadata": {
    "pycharm": {
     "name": "#%% md\n"
    }
   },
   "source": [
    "### 1.b) Set up the controlling parameters and functions¶"
   ]
  },
  {
   "cell_type": "code",
   "execution_count": 2,
   "metadata": {
    "colab": {
     "base_uri": "https://localhost:8080/",
     "height": 51
    },
    "colab_type": "code",
    "collapsed": false,
    "id": "Zagik25QTekS",
    "jupyter": {
     "outputs_hidden": false
    },
    "outputId": "d14332ba-63ec-4224-ca13-c4ecdab3541a",
    "pycharm": {
     "name": "#%%\n"
    }
   },
   "outputs": [
    {
     "name": "stdout",
     "output_type": "stream",
     "text": [
      "Starting date for the model: 2016-01-01\n",
      "Ending date for the model: 2021-07-30\n",
      "First date of data we need for modeling: 2015-12-12\n",
      "Last date of data we need for modeling: 2021-07-30\n"
     ]
    }
   ],
   "source": [
    "# Specify the key modeling parameters below\n",
    "stock_list = ['AAPL']\n",
    "\n",
    "# Specify the parameters for calculating moving average windows\n",
    "TREND_WINDOW = 10\n",
    "VOLUME_WINDOW = 10\n",
    "MEAN_REVERSION = True  # If false, model using the trend-following strategy\n",
    "\n",
    "# Specify the parameters for calculating RSI\n",
    "RSI_WINDOW = 14\n",
    "RSI_HIGH = 70\n",
    "RSI_MIDDLE = 50\n",
    "RSI_LOW = 30\n",
    "\n",
    "# Specify the risk management parameters\n",
    "HOLDING_PERIOD_MIN = 999\n",
    "HOLDING_PERIOD_MAX = 999\n",
    "GAIN_MAX = 0.99\n",
    "LOSS_MAX = 0.10\n",
    "LONG_ONLY = True  # If false, model both long and short trades\n",
    "\n",
    "# The number of extra days of data we need for calculating moving averages (usually equals to the largest value of window size)\n",
    "EXTRA_DAYS = TREND_WINDOW\n",
    "\n",
    "MODEL_START_DATE = date(2016, 1, 1)\n",
    "print(\"Starting date for the model:\", MODEL_START_DATE)\n",
    "\n",
    "# MODEL_END_DATE = datetime.now().date()\n",
    "MODEL_END_DATE = date(2021, 7, 30)\n",
    "print(\"Ending date for the model:\", MODEL_END_DATE)\n",
    "\n",
    "# data_start_date = MODEL_START_DATE\n",
    "data_start_date = MODEL_START_DATE - timedelta(days=int(EXTRA_DAYS * 2)) # Need more pricing data to calculate moving averages\n",
    "print(\"First date of data we need for modeling:\", data_start_date)\n",
    "\n",
    "data_end_date = MODEL_END_DATE\n",
    "print(\"Last date of data we need for modeling:\", data_end_date)\n",
    "\n",
    "# Set up the verbose flag to print detailed messages for debugging (setting True will activate!)\n",
    "verbose_data_retrieval = False  # Show the head and tail of the raw dataframe\n",
    "verbose_signals = False  # All entries from the Signals dataframe\n",
    "verbose_entry_exit = False  # All entry and exit points from the Signals dataframe\n",
    "verbose_trade_actions = False  # All bought and sold activities during portfolio generation\n",
    "verbose_portfolios = False  # All entries from the Positions dataframe\n",
    "verbose_transactions = True  #  All buying and selling transactions from the Positions dataframe\n",
    "verbose_draw_graphs = True"
   ]
  },
  {
   "cell_type": "code",
   "execution_count": 3,
   "metadata": {
    "collapsed": false,
    "jupyter": {
     "outputs_hidden": false
    },
    "pycharm": {
     "name": "#%%\n"
    }
   },
   "outputs": [],
   "source": [
    "# Set up parameters for displaying report data\n",
    "pd.set_option('display.max_rows', None)\n",
    "pd.set_option('display.max_columns', None)\n",
    "pd.set_option('display.width', 999)"
   ]
  },
  {
   "cell_type": "markdown",
   "metadata": {
    "colab_type": "text",
    "id": "Xa51FMY_TekZ"
   },
   "source": [
    "## Task 2 - Acquire and Pre-Process Data"
   ]
  },
  {
   "cell_type": "code",
   "execution_count": 4,
   "metadata": {
    "colab": {},
    "colab_type": "code",
    "collapsed": false,
    "id": "Og9L0byuTekd",
    "jupyter": {
     "outputs_hidden": false
    },
    "pycharm": {
     "name": "#%%\n"
    }
   },
   "outputs": [],
   "source": [
    "def retrieve_stock_data(ticker=stock_list[0]):\n",
    "    # Set up the data service provider and data acquisition parameters\n",
    "    data_service = 'Quandl'\n",
    "\n",
    "    # Check and see whether the API key is available\n",
    "    api_key = os.environ.get('QUANDL_API')\n",
    "    if api_key is None: sys.exit(data_service + ' API key not available. Script processing cannot continue!!!')\n",
    "\n",
    "    if ticker=='': sys.exit('Stock symbol not available. Script processing cannot continue!!!')\n",
    "\n",
    "    start_date_string = data_start_date.strftime('%Y-%m-%d')\n",
    "    end_date_string = data_end_date.strftime('%Y-%m-%d')\n",
    "    api_url = \"https://www.quandl.com/api/v3/datatables/SHARADAR/SEP.json?date.gte=%s&date.lte=%s&ticker=%s&api_key=%s\" % (start_date_string, end_date_string, ticker, api_key)\n",
    "    response = requests.get(api_url)\n",
    "    resp_dict = json.loads(response.text)\n",
    "    stock_rawdata = pd.DataFrame(resp_dict['datatable']['data'])\n",
    "    print(len(stock_rawdata), 'data points retrieved from the API call for stock:', ticker)\n",
    "\n",
    "    stock_rawdata.columns = ['ticker', 'date', 'open', 'high', 'low', 'close', 'volume', 'closeadj', 'closeunadj', 'lastupdated']\n",
    "    # stock_rawdata.set_index('date', inplace=True)\n",
    "    stock_rawdata.index = pd.to_datetime(stock_rawdata.date)\n",
    "    stock_pricing = stock_rawdata.sort_index(ascending=True)\n",
    "\n",
    "    # Set up the standard column name for modeling\n",
    "    # Column names may be data-provider specific!\n",
    "    model_template = stock_pricing.loc[:, ['open','closeadj','volume']]\n",
    "    model_template.rename(columns={'open': 'open_price', 'closeadj': 'close_price', 'volume': 'trading_volume'}, inplace=True)\n",
    "    if verbose_data_retrieval:\n",
    "        print(model_template.head())\n",
    "        print()\n",
    "        print(model_template.tail())\n",
    "\n",
    "    return model_template"
   ]
  },
  {
   "cell_type": "markdown",
   "metadata": {
    "colab_type": "text",
    "id": "UKNJYDlGTek0"
   },
   "source": [
    "## Task 3 - Implement and Train Models"
   ]
  },
  {
   "cell_type": "code",
   "execution_count": 5,
   "metadata": {
    "collapsed": false,
    "jupyter": {
     "outputs_hidden": false
    },
    "pycharm": {
     "name": "#%%\n"
    }
   },
   "outputs": [],
   "source": [
    "# Define the function that will generate the indicators and trading signals\n",
    "# General logic for processing the trading signals for each time period\n",
    "# 1 - Check to see whether we need to execute a trading action from the previous day's signal. Once the trading action is executed, move on to the next day.\n",
    "# 2 - If no trade actions to execute on open, check to see whether we have any breakout that generates a trading signal. If we have a new trading signal and currently has no position, mark the entry action for the next day.\n",
    "# 3 - If no new signal for today, check to see whether we need to exit any existing position. If we have an exit signal and currently hold a position, mark the exit action for the next day.\n",
    "# 4 - If nothing is going on, mark up the trading model appropriately and move to the next day.\n",
    "\n",
    "def populate_signals_model1(model_template):\n",
    "    \"\"\"Calculate signals for a Mean Reversion strategy\n",
    "\n",
    "    Strategy details:\n",
    "    Entry signals -- Low point of a trend window (default 10 days)\n",
    "    Exit signals -- high point of a trend window (default 10 days)\n",
    "    \"\"\"\n",
    "\n",
    "    trade_model = model_template.copy()\n",
    "    mean_reversion_flag = MEAN_REVERSION\n",
    "    trend_window = TREND_WINDOW\n",
    "    volume_window = VOLUME_WINDOW\n",
    "\n",
    "    trade_model['buy_on_open'] = False\n",
    "    trade_model['sell_on_open'] = False\n",
    "    trade_model['short_on_open'] = False\n",
    "    trade_model['cover_on_open'] = False\n",
    "    trade_model['position_long'] = False\n",
    "    trade_model['position_short'] = False\n",
    "    trade_model['holding_period'] = 0\n",
    "    trade_model['cost_basis'] = 0.0\n",
    "    trade_model['gain_loss_pct'] = 0.0\n",
    "    trade_model['window_avg'] = trade_model['close_price'].shift(1).rolling(window=trend_window).mean()\n",
    "    trade_model['window_high'] = trade_model['close_price'].shift(1).rolling(window=trend_window).max()\n",
    "    trade_model['window_low'] = trade_model['close_price'].shift(1).rolling(window=trend_window).min()\n",
    "    trade_model['volume_ma'] = trade_model['trading_volume'].rolling(volume_window).mean()\n",
    "\n",
    "    # Truncate the model to the required starting and ending dates\n",
    "    trade_model = trade_model[MODEL_START_DATE:MODEL_END_DATE]\n",
    "    last_index = len(trade_model) - 1\n",
    "\n",
    "    for k in range(len(trade_model)-1):\n",
    "        # Calculate the breakout, True or False.\n",
    "        price_today = trade_model.at[trade_model.index[k],'close_price']\n",
    "        price_high =  trade_model.at[trade_model.index[k],'window_high']\n",
    "        price_low = trade_model.at[trade_model.index[k],'window_low']\n",
    "        if mean_reversion_flag:\n",
    "            breakout_long_side = price_today < price_low\n",
    "            breakout_short_side = price_today > price_high\n",
    "        else:\n",
    "            breakout_long_side = price_today > price_high\n",
    "            breakout_short_side = price_today < price_low\n",
    "        volume_today = trade_model.at[trade_model.index[k],'trading_volume']\n",
    "        volume_avg = trade_model.at[trade_model.index[k],'volume_ma']\n",
    "\n",
    "        # Set the exit signals\n",
    "        price_avg = trade_model.at[trade_model.index[k],'window_avg']\n",
    "        close_above_threshold = price_today > price_avg\n",
    "        close_below_threshold = price_today < price_avg\n",
    "\n",
    "        # For the very first trading session, just need to check for the breakout action\n",
    "        if k == 0:\n",
    "            if breakout_long_side and (volume_today > volume_avg):\n",
    "                trade_model.at[trade_model.index[k+1],'buy_on_open'] = True\n",
    "            elif breakout_short_side and (volume_today > volume_avg) and (not LONG_ONLY):\n",
    "                trade_model.at[trade_model.index[k+1],'short_on_open'] = True\n",
    "        else:\n",
    "            currently_long = trade_model.at[trade_model.index[k-1],'position_long']\n",
    "            currently_short = trade_model.at[trade_model.index[k-1],'position_short']\n",
    "            holding_period = trade_model.at[trade_model.index[k-1],'holding_period']\n",
    "            cost_basis = trade_model.at[trade_model.index[k-1],'cost_basis']\n",
    "\n",
    "            # Check to see whether we need to execute any trade action on open\n",
    "            if trade_model.at[trade_model.index[k],'buy_on_open']:\n",
    "                trade_executed_today = True\n",
    "                currently_long = True\n",
    "                currently_short = False\n",
    "                holding_period = 1\n",
    "                cost_basis = -trade_model.at[trade_model.index[k],'open_price']\n",
    "            elif trade_model.at[trade_model.index[k],'short_on_open']:\n",
    "                trade_executed_today = True\n",
    "                currently_long = False\n",
    "                currently_short = True\n",
    "                holding_period = 1\n",
    "                cost_basis = trade_model.at[trade_model.index[k],'open_price']\n",
    "            elif trade_model.at[trade_model.index[k],'sell_on_open']:\n",
    "                trade_executed_today = True\n",
    "                currently_long = False\n",
    "                currently_short = False\n",
    "                holding_period = 0\n",
    "                cost_basis = 0.0\n",
    "            elif trade_model.at[trade_model.index[k],'cover_on_open']:\n",
    "                trade_executed_today = True\n",
    "                currently_long = False\n",
    "                currently_short = False\n",
    "                holding_period = 0\n",
    "                cost_basis = 0.0\n",
    "            else:\n",
    "                trade_executed_today = False\n",
    "\n",
    "            # If no trade on open, check to see whether we have a breakout with an entry the next day\n",
    "            if breakout_long_side and (not currently_long) and (not currently_short) and (volume_today > volume_avg) and (k < last_index):\n",
    "                trade_model.at[trade_model.index[k+1],'buy_on_open'] = True\n",
    "            elif breakout_short_side and (not currently_long) and (not currently_short) and (volume_today > volume_avg) and (k < last_index) and (not LONG_ONLY):\n",
    "                trade_model.at[trade_model.index[k+1],'short_on_open'] = True\n",
    "\n",
    "            # If no breakout, check to see whether we need to exit based on the price action\n",
    "            if currently_long and ((mean_reversion_flag and close_above_threshold) or ((not mean_reversion_flag) and close_below_threshold) or (holding_period >= HOLDING_PERIOD_MAX)):\n",
    "                trade_model.at[trade_model.index[k+1],'sell_on_open'] = True\n",
    "            elif currently_short and ((mean_reversion_flag and close_below_threshold) or ((not mean_reversion_flag) and close_above_threshold) or (holding_period >= HOLDING_PERIOD_MAX)):\n",
    "                trade_model.at[trade_model.index[k+1],'cover_on_open'] = True\n",
    "\n",
    "            # If no breakout, check to see whether we need to exit based on the profit or loss targets\n",
    "            if currently_long :\n",
    "                up_down_pct = (cost_basis + price_today) / abs(cost_basis)\n",
    "                trade_model.at[trade_model.index[k],'gain_loss_pct'] = up_down_pct\n",
    "                if (up_down_pct >= GAIN_MAX) or (up_down_pct <= -LOSS_MAX) :\n",
    "                    trade_model.at[trade_model.index[k+1],'sell_on_open'] = True\n",
    "            elif currently_short :\n",
    "                up_down_pct = (cost_basis - price_today) / abs(cost_basis)\n",
    "                trade_model.at[trade_model.index[k],'gain_loss_pct'] = up_down_pct\n",
    "                if (up_down_pct >= GAIN_MAX) or (up_down_pct <= -LOSS_MAX) :\n",
    "                    trade_model.at[trade_model.index[k+1],'cover_on_open'] = True\n",
    "\n",
    "            # If no action on a given day, carry over the position status\n",
    "            if (k > 0) and (not trade_executed_today):\n",
    "                if currently_long or currently_short:\n",
    "                    holding_period = holding_period + 1\n",
    "\n",
    "            trade_model.at[trade_model.index[k],'position_long'] = currently_long\n",
    "            trade_model.at[trade_model.index[k],'position_short'] = currently_short\n",
    "            trade_model.at[trade_model.index[k],'holding_period'] = holding_period\n",
    "            trade_model.at[trade_model.index[k],'cost_basis'] = cost_basis\n",
    "\n",
    "            # # Exiting the position on the last day of modeling period\n",
    "            # if k == last_index-1:\n",
    "            #     if trade_model.at[trade_model.index[k],'position_long']:\n",
    "            #         trade_model.at[trade_model.index[k+1],'sell_on_open'] = True\n",
    "            #         trade_model.at[trade_model.index[k+1],'position_long'] = False\n",
    "            #     elif trade_model.at[trade_model.index[k],'position_short']:\n",
    "            #         trade_model.at[trade_model.index[k+1],'cover_on_open'] = True\n",
    "            #         trade_model.at[trade_model.index[k+1],'position_short'] = False\n",
    "\n",
    "    if verbose_signals: print(trade_model, '\\n')\n",
    "    return trade_model"
   ]
  },
  {
   "cell_type": "code",
   "execution_count": 6,
   "metadata": {
    "colab": {},
    "colab_type": "code",
    "collapsed": false,
    "id": "yfQTRXPnTelA",
    "jupyter": {
     "outputs_hidden": false
    },
    "pycharm": {
     "name": "#%%\n"
    }
   },
   "outputs": [],
   "source": [
    "# Define the function that will generate the indicators and trading signals\n",
    "# General logic for processing the trading signals for each time period\n",
    "# 1 - Check to see whether we need to execute a trading action from the previous day's signal. Once the trading action is executed, move on to the next day.\n",
    "# 2 - If no trade actions to execute on open, check to see whether we have any breakout that generates a trading signal. If we have a new trading signal and currently has no position, mark the entry action for the next day.\n",
    "# 3 - If no new signal for today, check to see whether we need to exit any existing position. If we have an exit signal and currently hold a position, mark the exit action for the next day.\n",
    "# 4 - If nothing is going on, mark up the trading model appropriately and move to the next day.\n",
    "\n",
    "def populate_signals_model2(model_template):\n",
    "    \"\"\"Calculate signals for a Mean Reversion strategy\n",
    "\n",
    "    Strategy details:\n",
    "    Entry signals -- Low point of a trend window (default 10 days)\n",
    "    Exit signals -- Above the high RSI threshold (default 70)\n",
    "    \"\"\"\n",
    "\n",
    "    trade_model = model_template.copy()\n",
    "    mean_reversion_flag = MEAN_REVERSION\n",
    "    trend_window = TREND_WINDOW\n",
    "    volume_window = VOLUME_WINDOW\n",
    "    rsi_lookback = RSI_WINDOW\n",
    "\n",
    "    trade_model['buy_on_open'] = False\n",
    "    trade_model['sell_on_open'] = False\n",
    "    trade_model['short_on_open'] = False\n",
    "    trade_model['cover_on_open'] = False\n",
    "    trade_model['position_long'] = False\n",
    "    trade_model['position_short'] = False\n",
    "    trade_model['holding_period'] = 0\n",
    "    trade_model['cost_basis'] = 0.0\n",
    "    trade_model['gain_loss_pct'] = 0.0\n",
    "    trade_model['window_avg'] = trade_model['close_price'].shift(1).rolling(window=trend_window).mean()\n",
    "    trade_model['window_high'] = trade_model['close_price'].shift(1).rolling(window=trend_window).max()\n",
    "    trade_model['window_low'] = trade_model['close_price'].shift(1).rolling(window=trend_window).min()\n",
    "    trade_model['volume_ma'] = trade_model['trading_volume'].rolling(volume_window).mean()\n",
    "\n",
    "    # Calculate the RSI ratings\n",
    "    gain_history = []\n",
    "    loss_history = []\n",
    "    for k in range(len(trade_model)):\n",
    "        close_price = trade_model.at[trade_model.index[k],'close_price']\n",
    "        if k == 0:\n",
    "            trade_model.at[trade_model.index[k],'rsi_value'] = 50\n",
    "        else:\n",
    "            previous_price = trade_model.at[trade_model.index[k-1],'close_price']\n",
    "            gain_history.append(max(0, close_price - previous_price))\n",
    "            loss_history.append(max(0, previous_price - close_price))\n",
    "            if len(gain_history) > rsi_lookback: # maximum observations is equal to look-back period\n",
    "                del (gain_history[0])\n",
    "                del (loss_history[0])\n",
    "            avg_gain = stats.mean(gain_history) # average gain over look-back period\n",
    "            avg_loss = stats.mean(loss_history) # average loss over look-back period\n",
    "            rs = 1\n",
    "            if avg_loss > 0: # to avoid division by 0, which is undefined\n",
    "                rs = avg_gain / avg_loss\n",
    "            trade_model.at[trade_model.index[k],'rsi_value'] = 100 - (100 / (1 + rs))\n",
    "\n",
    "    # Truncate the model to the required starting and ending dates\n",
    "    trade_model = trade_model[MODEL_START_DATE:MODEL_END_DATE]\n",
    "    last_index = len(trade_model) - 1\n",
    "\n",
    "    for k in range(len(trade_model)-1):\n",
    "        # Calculate the breakout, True or False.\n",
    "        price_today = trade_model.at[trade_model.index[k],'close_price']\n",
    "        price_high =  trade_model.at[trade_model.index[k],'window_high']\n",
    "        price_low = trade_model.at[trade_model.index[k],'window_low']\n",
    "        if mean_reversion_flag:\n",
    "            breakout_long_side = price_today < price_low\n",
    "            breakout_short_side = price_today > price_high\n",
    "        else:\n",
    "            breakout_long_side = price_today > price_high\n",
    "            breakout_short_side = price_today < price_low\n",
    "        volume_today = trade_model.at[trade_model.index[k],'trading_volume']\n",
    "        volume_avg = trade_model.at[trade_model.index[k],'volume_ma']\n",
    "\n",
    "        # Set the exit signals\n",
    "        rsi_value = trade_model.at[trade_model.index[k],'rsi_value']\n",
    "        close_above_threshold = rsi_value > RSI_HIGH\n",
    "        close_below_threshold = rsi_value < RSI_LOW\n",
    "\n",
    "        # For the very first trading session, just need to check for the breakout action\n",
    "        if k == 0:\n",
    "            if breakout_long_side and (volume_today > volume_avg):\n",
    "                trade_model.at[trade_model.index[k+1],'buy_on_open'] = True\n",
    "            elif breakout_short_side and (volume_today > volume_avg) and (not LONG_ONLY):\n",
    "                trade_model.at[trade_model.index[k+1],'short_on_open'] = True\n",
    "        else:\n",
    "            currently_long = trade_model.at[trade_model.index[k-1],'position_long']\n",
    "            currently_short = trade_model.at[trade_model.index[k-1],'position_short']\n",
    "            holding_period = trade_model.at[trade_model.index[k-1],'holding_period']\n",
    "            cost_basis = trade_model.at[trade_model.index[k-1],'cost_basis']\n",
    "\n",
    "            # Check to see whether we need to execute any trade action on open\n",
    "            if trade_model.at[trade_model.index[k],'buy_on_open']:\n",
    "                trade_executed_today = True\n",
    "                currently_long = True\n",
    "                currently_short = False\n",
    "                holding_period = 1\n",
    "                cost_basis = -trade_model.at[trade_model.index[k],'open_price']\n",
    "            elif trade_model.at[trade_model.index[k],'short_on_open']:\n",
    "                trade_executed_today = True\n",
    "                currently_long = False\n",
    "                currently_short = True\n",
    "                holding_period = 1\n",
    "                cost_basis = trade_model.at[trade_model.index[k],'open_price']\n",
    "            elif trade_model.at[trade_model.index[k],'sell_on_open']:\n",
    "                trade_executed_today = True\n",
    "                currently_long = False\n",
    "                currently_short = False\n",
    "                holding_period = 0\n",
    "                cost_basis = 0.0\n",
    "            elif trade_model.at[trade_model.index[k],'cover_on_open']:\n",
    "                trade_executed_today = True\n",
    "                currently_long = False\n",
    "                currently_short = False\n",
    "                holding_period = 0\n",
    "                cost_basis = 0.0\n",
    "            else:\n",
    "                trade_executed_today = False\n",
    "\n",
    "            # If no trade on open, check to see whether we have a breakout with an entry the next day\n",
    "            if breakout_long_side and (not currently_long) and (not currently_short) and (volume_today > volume_avg) and (k < last_index):\n",
    "                trade_model.at[trade_model.index[k+1],'buy_on_open'] = True\n",
    "            elif breakout_short_side and (not currently_long) and (not currently_short) and (volume_today > volume_avg) and (k < last_index) and (not LONG_ONLY):\n",
    "                trade_model.at[trade_model.index[k+1],'short_on_open'] = True\n",
    "\n",
    "            # If no breakout, check to see whether we need to exit based on the price action\n",
    "            if currently_long and ((mean_reversion_flag and close_above_threshold) or ((not mean_reversion_flag) and close_below_threshold) or (holding_period >= HOLDING_PERIOD_MAX)):\n",
    "                trade_model.at[trade_model.index[k+1],'sell_on_open'] = True\n",
    "            elif currently_short and ((mean_reversion_flag and close_below_threshold) or ((not mean_reversion_flag) and close_above_threshold) or (holding_period >= HOLDING_PERIOD_MAX)):\n",
    "                trade_model.at[trade_model.index[k+1],'cover_on_open'] = True\n",
    "\n",
    "            # If no breakout, check to see whether we need to exit based on the profit or loss targets\n",
    "            if currently_long :\n",
    "                up_down_pct = (cost_basis + price_today) / abs(cost_basis)\n",
    "                trade_model.at[trade_model.index[k],'gain_loss_pct'] = up_down_pct\n",
    "                if (up_down_pct >= GAIN_MAX) or (up_down_pct <= -LOSS_MAX) :\n",
    "                    trade_model.at[trade_model.index[k+1],'sell_on_open'] = True\n",
    "            elif currently_short :\n",
    "                up_down_pct = (cost_basis - price_today) / abs(cost_basis)\n",
    "                trade_model.at[trade_model.index[k],'gain_loss_pct'] = up_down_pct\n",
    "                if (up_down_pct >= GAIN_MAX) or (up_down_pct <= -LOSS_MAX) :\n",
    "                    trade_model.at[trade_model.index[k+1],'cover_on_open'] = True\n",
    "\n",
    "            # If no action on a given day, carry over the position status\n",
    "            if (k > 0) and (not trade_executed_today):\n",
    "                if currently_long or currently_short:\n",
    "                    holding_period = holding_period + 1\n",
    "\n",
    "            trade_model.at[trade_model.index[k],'position_long'] = currently_long\n",
    "            trade_model.at[trade_model.index[k],'position_short'] = currently_short\n",
    "            trade_model.at[trade_model.index[k],'holding_period'] = holding_period\n",
    "            trade_model.at[trade_model.index[k],'cost_basis'] = cost_basis\n",
    "\n",
    "            # # Exiting the position on the last day of modeling period\n",
    "            # if k == last_index-1:\n",
    "            #     if trade_model.at[trade_model.index[k],'position_long']:\n",
    "            #         trade_model.at[trade_model.index[k+1],'sell_on_open'] = True\n",
    "            #         trade_model.at[trade_model.index[k+1],'position_long'] = False\n",
    "            #     elif trade_model.at[trade_model.index[k],'position_short']:\n",
    "            #         trade_model.at[trade_model.index[k+1],'cover_on_open'] = True\n",
    "            #         trade_model.at[trade_model.index[k+1],'position_short'] = False\n",
    "\n",
    "    if verbose_signals: print(trade_model, '\\n')\n",
    "    return trade_model"
   ]
  },
  {
   "cell_type": "code",
   "execution_count": 7,
   "metadata": {
    "colab": {
     "base_uri": "https://localhost:8080/",
     "height": 1000
    },
    "colab_type": "code",
    "collapsed": false,
    "id": "327CZKmtTelL",
    "jupyter": {
     "outputs_hidden": false
    },
    "outputId": "b353b49d-0281-4aa7-a530-6747c166eae5",
    "pycharm": {
     "name": "#%%\n"
    }
   },
   "outputs": [],
   "source": [
    "# List the entry/exit points for each model\n",
    "def list_model_entry_exit(trade_model):\n",
    "    print(trade_model[trade_model['buy_on_open'] | trade_model['sell_on_open'] | trade_model['short_on_open'] | trade_model['cover_on_open']])"
   ]
  },
  {
   "cell_type": "code",
   "execution_count": 8,
   "metadata": {
    "collapsed": false,
    "jupyter": {
     "outputs_hidden": false
    },
    "pycharm": {
     "name": "#%%\n"
    }
   },
   "outputs": [],
   "source": [
    "def draw_model_graph(trade_model, ticker='', model_name=''):\n",
    "    graph_data = trade_model.copy()\n",
    "    title_string = model_name + ' Trading Model for ' + ticker\n",
    "    fig = plt.figure(figsize=(16,9))\n",
    "    ylabel = ticker + ' price in $'\n",
    "    ax1 = fig.add_subplot(111, ylabel=ylabel, title=title_string)\n",
    "    graph_data['close_price'].plot(ax=ax1, color='g')\n",
    "    graph_data['window_high'].plot(ax=ax1, color='b')\n",
    "    graph_data['window_low'].plot(ax=ax1, color='r')\n",
    "    ax1.plot(graph_data.loc[graph_data['buy_on_open']].index, graph_data.close_price[graph_data['buy_on_open']], '^', markersize=7, color='b',label='Buy on Open')\n",
    "    ax1.plot(graph_data.loc[graph_data['sell_on_open']].index, graph_data.close_price[graph_data['sell_on_open']], 'v', markersize=7, color='b',label='Sell on Open')\n",
    "    ax1.plot(graph_data.loc[graph_data['short_on_open']].index, graph_data.close_price[graph_data['short_on_open']], '^', markersize=7, color='r',label='Short on Open')\n",
    "    ax1.plot(graph_data.loc[graph_data['cover_on_open']].index, graph_data.close_price[graph_data['cover_on_open']], 'v', markersize=7, color='r',label='Cover on Open')\n",
    "    plt.legend(loc='upper left')\n",
    "    plt.show()"
   ]
  },
  {
   "cell_type": "markdown",
   "metadata": {
    "colab_type": "text",
    "id": "wzTQaZkeTeld"
   },
   "source": [
    "## Task 4 - Back-test Models"
   ]
  },
  {
   "cell_type": "code",
   "execution_count": 9,
   "metadata": {
    "collapsed": false,
    "jupyter": {
     "outputs_hidden": false
    },
    "pycharm": {
     "name": "#%%\n"
    }
   },
   "outputs": [],
   "source": [
    "def generate_trading_portfolios(trade_model):\n",
    "    # Construct a portfolio to track the transactions and returns\n",
    "    portfolio = pd.DataFrame(index=trade_model.index, columns=['trade_action', 'price_executed', 'qty_transacted', 'cost_basis', 'gain_loss', 'qty_on_hand', 'cash_on_hand', 'position_value', 'total_position', 'accum_return'])\n",
    "    portfolio['trade_action'] = False\n",
    "    portfolio.at[portfolio.index[0],'price_executed'] = 0.00\n",
    "    portfolio.at[portfolio.index[0],'qty_transacted'] = 0\n",
    "    portfolio.at[portfolio.index[0],'cost_basis'] = 0.00\n",
    "    portfolio.at[portfolio.index[0],'gain_loss'] = 0.00\n",
    "    portfolio.at[portfolio.index[0],'qty_on_hand'] = 0\n",
    "    portfolio.at[portfolio.index[0],'cash_on_hand'] = INITIAL_CAPITAL\n",
    "    portfolio.at[portfolio.index[0],'position_value'] = 0.00\n",
    "    portfolio.at[portfolio.index[0],'total_position'] = INITIAL_CAPITAL\n",
    "    portfolio.at[portfolio.index[0],'accum_return'] = 0.00\n",
    "    quantity = 1\n",
    "\n",
    "    # The conditional parameters below determine how the trading strategy will be carried out\n",
    "    for i in range(1, len(portfolio)):\n",
    "        price_per_share = trade_model.at[trade_model.index[i],'open_price']\n",
    "        if trade_model.at[trade_model.index[i],'buy_on_open']:\n",
    "            # Code block for Buy on Open\n",
    "            portfolio.at[portfolio.index[i],'trade_action'] = True\n",
    "            portfolio.at[portfolio.index[i],'price_executed'] = price_per_share\n",
    "            portfolio.at[portfolio.index[i],'qty_transacted'] = quantity\n",
    "            recent_cost = price_per_share * -quantity\n",
    "            portfolio.at[portfolio.index[i],'cost_basis'] = recent_cost\n",
    "            portfolio.at[portfolio.index[i],'gain_loss'] = 0.00\n",
    "            portfolio.at[portfolio.index[i],'qty_on_hand'] = portfolio.iloc[i-1]['qty_on_hand'] + quantity\n",
    "            portfolio.at[portfolio.index[i],'cash_on_hand'] = portfolio.iloc[i-1]['cash_on_hand'] + recent_cost\n",
    "            if verbose_trade_actions: print('BOUGHT QTY:', quantity, 'on', portfolio.index[i].date(), 'at the price of', price_per_share)\n",
    "        elif trade_model.at[trade_model.index[i],'sell_on_open']:\n",
    "            # Code block for Sell on Open\n",
    "            portfolio.at[portfolio.index[i],'trade_action'] = True\n",
    "            portfolio.at[portfolio.index[i],'price_executed'] = price_per_share\n",
    "            portfolio.at[portfolio.index[i],'qty_transacted'] = -quantity\n",
    "            recent_cost = 0.00\n",
    "            portfolio.at[portfolio.index[i],'cost_basis'] = recent_cost\n",
    "            portfolio.at[portfolio.index[i],'gain_loss'] = (price_per_share * quantity) + portfolio.iloc[i-1]['cost_basis']\n",
    "            portfolio.at[portfolio.index[i],'qty_on_hand'] = portfolio.iloc[i-1]['qty_on_hand'] - quantity\n",
    "            portfolio.at[portfolio.index[i],'cash_on_hand'] = portfolio.iloc[i-1]['cash_on_hand'] + (price_per_share * quantity)\n",
    "            if verbose_trade_actions: print('SOLD QTY:', quantity, 'on', portfolio.index[i].date(), 'at the price of', price_per_share)\n",
    "        elif trade_model.at[trade_model.index[i],'short_on_open']:\n",
    "            # Code block for Short on Open\n",
    "            portfolio.at[portfolio.index[i],'trade_action'] = True\n",
    "            portfolio.at[portfolio.index[i],'price_executed'] = price_per_share\n",
    "            portfolio.at[portfolio.index[i],'qty_transacted'] = -quantity\n",
    "            recent_cost = price_per_share * quantity\n",
    "            portfolio.at[portfolio.index[i],'cost_basis'] = recent_cost\n",
    "            portfolio.at[portfolio.index[i],'gain_loss'] = 0.00\n",
    "            portfolio.at[portfolio.index[i],'qty_on_hand'] = portfolio.iloc[i-1]['qty_on_hand'] - quantity\n",
    "            portfolio.at[portfolio.index[i],'cash_on_hand'] = portfolio.iloc[i-1]['cash_on_hand'] + recent_cost\n",
    "            if verbose_trade_actions: print('SHORTED QTY:', -quantity, 'on', portfolio.index[i].date(), 'at the price of', trade_model.at[portfolio.index[i],'open_price'])\n",
    "        elif trade_model.at[trade_model.index[i],'cover_on_open']:\n",
    "            # Code block for Cover on Open\n",
    "            portfolio.at[portfolio.index[i],'trade_action'] = True\n",
    "            portfolio.at[portfolio.index[i],'price_executed'] = price_per_share\n",
    "            portfolio.at[portfolio.index[i],'qty_transacted'] = quantity\n",
    "            recent_cost = 0.00\n",
    "            portfolio.at[portfolio.index[i],'cost_basis'] = recent_cost\n",
    "            portfolio.at[portfolio.index[i],'gain_loss'] = portfolio.iloc[i-1]['cost_basis'] - (price_per_share * quantity)\n",
    "            portfolio.at[portfolio.index[i],'qty_on_hand'] = portfolio.iloc[i-1]['qty_on_hand'] + quantity\n",
    "            portfolio.at[portfolio.index[i],'cash_on_hand'] = portfolio.iloc[i-1]['cash_on_hand'] - (price_per_share * quantity)\n",
    "            if verbose_trade_actions: print('COVERED QTY:', quantity, 'on', portfolio.index[i].date(), 'at the price of', trade_model.at[portfolio.index[i],'open_price'])\n",
    "        else:\n",
    "            # Code block for no trade actions\n",
    "            portfolio.at[portfolio.index[i],'price_executed'] = 0.00\n",
    "            portfolio.at[portfolio.index[i],'qty_transacted'] = 0\n",
    "            portfolio.at[portfolio.index[i],'cost_basis'] = portfolio.iloc[i-1]['cost_basis']\n",
    "            portfolio.at[portfolio.index[i],'gain_loss'] = 0.00\n",
    "            portfolio.at[portfolio.index[i],'qty_on_hand'] = portfolio.iloc[i-1]['qty_on_hand']\n",
    "            portfolio.at[portfolio.index[i],'cash_on_hand'] = portfolio.iloc[i-1]['cash_on_hand']\n",
    "        portfolio.at[portfolio.index[i],'position_value'] = trade_model.at[trade_model.index[i],'close_price'] * portfolio.at[portfolio.index[i],'qty_on_hand']\n",
    "        portfolio.at[portfolio.index[i],'total_position'] = portfolio.at[portfolio.index[i],'cash_on_hand'] + portfolio.at[portfolio.index[i],'position_value']\n",
    "        portfolio.at[portfolio.index[i],'accum_return'] = portfolio.at[portfolio.index[i],'total_position'] - INITIAL_CAPITAL\n",
    "\n",
    "    if verbose_portfolios: print('\\n', portfolio, '\\n')\n",
    "    return portfolio"
   ]
  },
  {
   "cell_type": "code",
   "execution_count": 10,
   "metadata": {
    "colab": {
     "base_uri": "https://localhost:8080/",
     "height": 1000
    },
    "colab_type": "code",
    "collapsed": false,
    "id": "mOsqVrfRTelw",
    "jupyter": {
     "outputs_hidden": false
    },
    "outputId": "17950f55-4566-48b2-dde6-0974c6e45966",
    "pycharm": {
     "name": "#%%\n"
    }
   },
   "outputs": [],
   "source": [
    "def calculate_positions_performance(trade_model):\n",
    "    trade_positions = generate_trading_portfolios(trade_model)\n",
    "    trade_transactions = trade_positions[trade_positions['trade_action']]\n",
    "    if verbose_transactions: print(trade_transactions)\n",
    "    if trade_transactions.at[trade_transactions.index[-1],'trade_action']:\n",
    "        if trade_transactions.at[trade_transactions.index[-1],'qty_on_hand'] == 0:\n",
    "            print('The current status of the model is:','Waiting to enter a position since',trade_transactions.index.tolist()[-1].date(),'\\n')\n",
    "        elif trade_transactions.at[trade_transactions.index[-1],'qty_on_hand'] > 0:\n",
    "            print('The current status of the model is:','Holding a long position since',trade_transactions.index.tolist()[-1].date(),'\\n')\n",
    "        else:\n",
    "            print('The current status of the model is:','Holding a short position since',trade_transactions.index.tolist()[-1].date(),'\\n')\n",
    "    return trade_positions"
   ]
  },
  {
   "cell_type": "markdown",
   "metadata": {
    "pycharm": {
     "name": "#%% md\n"
    }
   },
   "source": [
    "## Task 5 - Evaluate Strategy Performance"
   ]
  },
  {
   "cell_type": "code",
   "execution_count": 11,
   "metadata": {
    "collapsed": false,
    "jupyter": {
     "outputs_hidden": false
    },
    "pycharm": {
     "name": "#%%\n"
    }
   },
   "outputs": [],
   "source": [
    "def evaluate_strategy_performance(ticker=stock_list[0]):\n",
    "    model1_signals = stock_signals_positions[ticker+'model1_signals']\n",
    "    if verbose_entry_exit:\n",
    "        print('List the entry and exit points for model #1...')\n",
    "        list_model_entry_exit(model1_signals)\n",
    "    print('\\nCalculating the positions for model #1...')\n",
    "    model1_positions = calculate_positions_performance(model1_signals)\n",
    "\n",
    "    model2_signals = stock_signals_positions[ticker+'model2_signals']\n",
    "    if verbose_entry_exit:\n",
    "        print('List the entry and exit points for model #2...')\n",
    "        list_model_entry_exit(model2_signals)\n",
    "    print('\\nCalculating the positions for model #2...')\n",
    "    model2_positions = calculate_positions_performance(model2_signals)\n",
    "\n",
    "    print('Processing the transactions for model #1...')\n",
    "    print('Accumulated profit/loss for one share of stock with initial capital of $%.2f at the end of modeling period: $%.2f' % (INITIAL_CAPITAL, model1_positions.accum_return[-1]))\n",
    "    model1_return_pct = model1_positions.accum_return[-1] / INITIAL_CAPITAL * 100\n",
    "    print('Accumulated return percentage based on the initial capital investment: %.2f%%\\n' % model1_return_pct)\n",
    "\n",
    "    print('Processing the transactions for model #2...')\n",
    "    print('Accumulated profit/loss for one share of stock with initial capital of $%.2f at the end of modeling period: $%.2f' % (INITIAL_CAPITAL, model2_positions.accum_return[-1]))\n",
    "    model2_return_pct = model2_positions.accum_return[-1] / INITIAL_CAPITAL * 100\n",
    "    print('Accumulated return percentage based on the initial capital investment: %.2f%%' % model2_return_pct)\n",
    "\n",
    "    # Calculate the stock's performance for a buy-and-hold model\n",
    "    buy_hold_model = stock_model_template[MODEL_START_DATE:MODEL_END_DATE]\n",
    "    print()\n",
    "    print('The entry point for the buy-and-hold model: $%.2f on %s' % (buy_hold_model.iloc[0]['open_price'], buy_hold_model.index[0].date()))\n",
    "    print('The exit point for the buy-and-hold model: $%.2f on %s' % (buy_hold_model.iloc[-1]['open_price'], buy_hold_model.index[-1].date()))\n",
    "    buy_hold_return = buy_hold_model.iloc[-1]['open_price'] - buy_hold_model.iloc[0]['open_price']\n",
    "    print('The performance of the buy-and-hold model: $%.2f' % buy_hold_return)\n",
    "    buyhold_return_pct = buy_hold_return / INITIAL_CAPITAL * 100\n",
    "    print('Accumulated return percentage based on the initial capital investment: %.2f%%\\n' % buyhold_return_pct)\n",
    "\n",
    "    model_performance = {'Symbol': ticker,\n",
    "                         'Model1_Return_VAL': model1_positions.accum_return[-1],\n",
    "                         'Model1_Return_PCT': model1_return_pct,\n",
    "                         'Model2_Return_VAL': model2_positions.accum_return[-1],\n",
    "                         'Model2_Return_PCT': model2_return_pct,\n",
    "                         'Buy_Hold_Return': buy_hold_return,\n",
    "                         'BH_Return_PCT': buyhold_return_pct}\n",
    "\n",
    "    if verbose_draw_graphs: draw_model_graph(model1_signals, ticker, 'Mean-Reversion without RSI')\n",
    "    if verbose_draw_graphs: draw_model_graph(model2_signals, ticker, 'Mean-Reversion using RSI Exit')\n",
    "\n",
    "    return model_performance"
   ]
  },
  {
   "cell_type": "code",
   "execution_count": 12,
   "metadata": {
    "collapsed": false,
    "jupyter": {
     "outputs_hidden": false
    },
    "pycharm": {
     "name": "#%%\n"
    }
   },
   "outputs": [],
   "source": [
    "# Initialize a dataframe for storing the model's profit and loss\n",
    "performance_summary = pd.DataFrame(columns=['Symbol','Model1_Return_VAL','Model1_Return_PCT',\n",
    "                                            'Model2_Return_VAL','Model2_Return_PCT',\n",
    "                                            'Buy_Hold_Return','BH_Return_PCT'])"
   ]
  },
  {
   "cell_type": "code",
   "execution_count": 13,
   "metadata": {
    "collapsed": false,
    "jupyter": {
     "outputs_hidden": false
    },
    "pycharm": {
     "name": "#%%\n"
    }
   },
   "outputs": [
    {
     "name": "stdout",
     "output_type": "stream",
     "text": [
      "1417 data points retrieved from the API call for stock: AAPL\n",
      "\n",
      "Generating the trading signals for model #1...\n",
      "\n",
      "Generating the trading signals for model #2...\n",
      "\n",
      "Calculating the positions for model #1...\n",
      "            trade_action price_executed qty_transacted cost_basis gain_loss qty_on_hand cash_on_hand position_value total_position accum_return\n",
      "date                                                                                                                                           \n",
      "2016-01-06          True          25.14              1     -25.14         0           1        0.512         23.247         23.759       -1.893\n",
      "2016-01-08          True         24.637             -1          0    -0.503           0       25.149              0         25.149       -0.503\n",
      "2016-01-28          True         23.448              1    -23.448         0           1        1.701         21.721         23.422        -2.23\n",
      "2016-02-05          True          24.13             -1          0     0.682           0       25.831              0         25.831        0.179\n",
      "2016-04-19          True          26.97              1     -26.97         0           1       -1.139         24.813         23.674       -1.978\n",
      "2016-04-27          True             24             -1          0     -2.97           0       22.861              0         22.861       -2.791\n",
      "2016-04-28          True         24.402              1    -24.402         0           1       -1.541          22.01         20.469       -5.183\n",
      "2016-05-02          True         23.491             -1          0    -0.911           0        21.95              0          21.95       -3.702\n",
      "2016-05-13          True           22.5              1      -22.5         0           1        -0.55         21.138         20.588       -5.064\n",
      "2016-05-17          True         23.637             -1          0     1.137           0       23.087              0         23.087       -2.565\n",
      "2016-06-14          True          24.33              1     -24.33         0           1       -1.243         22.758         21.515       -4.137\n",
      "2016-06-27          True          23.25             -1          0     -1.08           0       22.007              0         22.007       -3.645\n",
      "2016-06-28          True         23.225              1    -23.225         0           1       -1.218         21.855         20.637       -5.015\n",
      "2016-07-01          True         23.872             -1          0     0.647           0       22.654              0         22.654       -2.998\n",
      "2016-07-27          True         26.066              1    -26.066         0           1       -3.412          24.04         20.628       -5.024\n",
      "2016-07-28          True         25.707             -1          0    -0.359           0       22.295              0         22.295       -3.357\n",
      "2016-08-26          True         26.852              1    -26.852         0           1       -4.557         25.106         20.549       -5.103\n",
      "2016-09-06          True         26.975             -1          0     0.123           0       22.418              0         22.418       -3.234\n",
      "2016-09-09          True          26.16              1     -26.16         0           1       -3.742         24.212          20.47       -5.182\n",
      "2016-09-14          True         27.183             -1          0     1.023           0       23.441              0         23.441       -2.211\n",
      "2016-10-27          True         28.848              1    -28.848         0           1       -5.407         26.877          21.47       -4.182\n",
      "2016-11-04          True         27.133             -1          0    -1.715           0       21.726              0         21.726       -3.926\n",
      "2016-11-11          True          26.73              1     -26.73         0           1       -5.004         25.588         20.584       -5.068\n",
      "2016-11-17          True         27.453             -1          0     0.723           0       22.449              0         22.449       -3.203\n",
      "2016-12-02          True         27.293              1    -27.293         0           1       -4.844         25.935         21.091       -4.561\n",
      "2016-12-08          True         27.715             -1          0     0.422           0       22.871              0         22.871       -2.781\n",
      "2017-04-12          True           35.4              1      -35.4         0           1      -12.529         33.607         21.078       -4.574\n",
      "2017-04-21          True          35.61             -1          0      0.21           0       23.081              0         23.081       -2.571\n",
      "2017-06-12          True         36.435              1    -36.435         0           1      -13.354         34.606         21.252         -4.4\n",
      "2017-06-26          True         36.792             -1          0     0.357           0       23.438              0         23.438       -2.214\n",
      "2017-09-11          True         40.125              1    -40.125         0           1      -16.687         38.589         21.902        -3.75\n",
      "2017-09-26          True         37.945             -1          0     -2.18           0       21.258              0         21.258       -4.394\n",
      "2017-12-27          True         42.525              1    -42.525         0           1      -21.267          40.91         19.643       -6.009\n",
      "2018-01-05          True          43.36             -1          0     0.835           0       22.093              0         22.093       -3.559\n",
      "2018-01-25          True         43.626              1    -43.626         0           1      -21.533         41.032         19.499       -6.153\n",
      "2018-02-05          True         39.775             -1          0    -3.851           0       18.242              0         18.242        -7.41\n",
      "2018-02-06          True         38.708              1    -38.708         0           1      -20.466         39.095         18.629       -7.023\n",
      "2018-02-13          True         40.487             -1          0     1.779           0       20.021              0         20.021       -5.631\n",
      "2018-03-22          True           42.5              1      -42.5         0           1      -22.479         40.654         18.175       -7.477\n",
      "2018-04-05          True         43.145             -1          0     0.645           0       20.666              0         20.666       -4.986\n",
      "2018-04-23          True         41.709              1    -41.709         0           1      -21.043         39.784         18.741       -6.911\n",
      "2018-05-02          True         43.806             -1          0     2.097           0       22.763              0         22.763       -2.889\n",
      "2018-06-18          True          46.97              1     -46.97         0           1      -24.207         45.618         21.411       -4.241\n",
      "2018-07-03          True         46.947             -1          0    -0.023           0        22.74              0          22.74       -2.912\n",
      "2018-07-31          True         47.575              1    -47.575         0           1      -24.835         45.993         21.158       -4.494\n",
      "2018-08-02          True         50.145             -1          0      2.57           0        25.31              0          25.31       -0.342\n",
      "2018-09-18          True         54.447              1    -54.447         0           1      -29.137         52.934         23.797       -1.855\n",
      "2018-09-25          True         54.938             -1          0     0.491           0       25.801              0         25.801        0.149\n",
      "2018-10-11          True          53.63              1     -53.63         0           1      -27.829         52.015         24.186       -1.466\n",
      "2018-10-23          True         53.958             -1          0     0.328           0       26.129              0         26.129        0.477\n",
      "2018-10-30          True         52.788              1    -52.788         0           1      -26.659         51.736         25.077       -0.575\n",
      "2018-11-01          True         54.763             -1          0     1.975           0       28.104              0         28.104        2.452\n",
      "2018-11-05          True         51.075              1    -51.075         0           1      -22.971         48.896         25.925        0.273\n",
      "2018-11-15          True         47.097             -1          0    -3.978           0       24.126              0         24.126       -1.526\n",
      "2018-11-20          True         44.593              1    -44.593         0           1      -20.467         43.077          22.61       -3.042\n",
      "2018-12-04          True         45.237             -1          0     0.644           0        24.77              0          24.77       -0.882\n",
      "2018-12-10          True          41.25              1     -41.25         0           1       -16.48          41.28           24.8       -0.852\n",
      "2018-12-24          True         37.038             -1          0    -4.212           0       20.558              0         20.558       -5.094\n",
      "2019-01-04          True         36.133              1    -36.133         0           1      -15.575         36.086         20.511       -5.141\n",
      "2019-01-10          True         38.125             -1          0     1.992           0        22.55              0          22.55       -3.102\n",
      "2019-05-13          True         46.928              1    -46.928         0           1      -24.378         45.575         21.197       -4.455\n",
      "2019-06-05          True          46.07             -1          0    -0.858           0       21.692              0         21.692        -3.96\n",
      "2019-08-06          True         49.078              1    -49.078         0           1      -27.386         48.343         20.957       -4.695\n",
      "2019-08-14          True          50.79             -1          0     1.712           0       23.404              0         23.404       -2.248\n",
      "2019-12-04          True         65.267              1    -65.267         0           1      -41.863         64.667         22.804       -2.848\n",
      "2019-12-06          True          66.87             -1          0     1.603           0       25.007              0         25.007       -0.645\n",
      "2020-01-28          True          78.15              1     -78.15         0           1      -53.143         78.491         25.348       -0.304\n",
      "2020-01-29          True         81.112             -1          0     2.962           0       27.969              0         27.969        2.317\n",
      "2020-02-04          True         78.828              1    -78.828         0           1      -50.859         78.778         27.919        2.267\n",
      "2020-02-05          True          80.88             -1          0     2.052           0       30.021              0         30.021        4.369\n",
      "2020-02-24          True         74.315              1    -74.315         0           1      -44.294         73.848         29.554        3.902\n",
      "2020-03-05          True          73.88             -1          0    -0.435           0       29.586              0         29.586        3.934\n",
      "2020-03-10          True         69.285              1    -69.285         0           1      -39.699         70.668         30.969        5.317\n",
      "2020-03-13          True         66.222             -1          0    -3.063           0       26.523              0         26.523        0.871\n",
      "2020-03-17          True         61.877              1    -61.877         0           1      -35.354         62.624          27.27        1.618\n",
      "2020-03-24          True          59.09             -1          0    -2.787           0       23.736              0         23.736       -1.916\n",
      "2020-07-24          True         90.987              1    -90.987         0           1      -67.251         91.991          24.74       -0.912\n",
      "2020-07-31          True        102.884             -1          0    11.897           0       35.633              0         35.633        9.981\n",
      "2020-09-09          True         117.26              1    -117.26         0           1      -81.627        116.745         35.118        9.466\n",
      "2020-09-28          True         115.01             -1          0     -2.25           0       33.383              0         33.383        7.731\n",
      "2020-10-29          True         112.37              1    -112.37         0           1      -78.987        114.755         35.768       10.116\n",
      "2020-11-05          True         117.95             -1          0      5.58           0       38.963              0         38.963       13.311\n",
      "2020-11-24          True         113.91              1    -113.91         0           1      -74.947        114.804         39.857       14.205\n",
      "2020-12-01          True         121.01             -1          0       7.1           0       46.063              0         46.063       20.411\n",
      "2021-01-07          True         128.36              1    -128.36         0           1      -82.297        130.504         48.207       22.555\n",
      "2021-01-11          True         129.19             -1          0      0.83           0       46.893              0         46.893       21.241\n",
      "2021-02-17          True         131.25              1    -131.25         0           1      -84.357        130.619         46.262        20.61\n",
      "2021-03-09          True         119.03             -1          0    -12.22           0       34.673              0         34.673        9.021\n",
      "2021-05-03          True         132.04              1    -132.04         0           1      -97.367        132.316         34.949        9.297\n",
      "2021-05-21          True         127.82             -1          0     -4.22           0       30.453              0         30.453        4.801\n",
      "2021-06-04          True         124.07              1    -124.07         0           1      -93.617         125.89         32.273        6.621\n",
      "2021-06-07          True         126.17             -1          0       2.1           0       32.553              0         32.553        6.901\n",
      "The current status of the model is: Waiting to enter a position since 2021-06-07 \n",
      "\n",
      "\n",
      "Calculating the positions for model #2...\n",
      "            trade_action price_executed qty_transacted cost_basis gain_loss qty_on_hand cash_on_hand position_value total_position accum_return\n",
      "date                                                                                                                                           \n",
      "2016-01-06          True          25.14              1     -25.14         0           1        0.512         23.247         23.759       -1.893\n",
      "2016-01-08          True         24.637             -1          0    -0.503           0       25.149              0         25.149       -0.503\n",
      "2016-01-28          True         23.448              1    -23.448         0           1        1.701         21.721         23.422        -2.23\n",
      "2016-03-04          True         25.593             -1          0     2.145           0       27.294              0         27.294        1.642\n",
      "2016-04-19          True          26.97              1     -26.97         0           1        0.324         24.813         25.137       -0.515\n",
      "2016-04-27          True             24             -1          0     -2.97           0       24.324              0         24.324       -1.328\n",
      "2016-04-28          True         24.402              1    -24.402         0           1       -0.078          22.01         21.932        -3.72\n",
      "2016-05-02          True         23.491             -1          0    -0.911           0       23.413              0         23.413       -2.239\n",
      "2016-05-13          True           22.5              1      -22.5         0           1        0.913         21.138         22.051       -3.601\n",
      "2016-05-26          True          24.92             -1          0      2.42           0       25.833              0         25.833        0.181\n",
      "2016-06-14          True          24.33              1     -24.33         0           1        1.503         22.758         24.261       -1.391\n",
      "2016-06-27          True          23.25             -1          0     -1.08           0       24.753              0         24.753       -0.899\n",
      "2016-06-28          True         23.225              1    -23.225         0           1        1.528         21.855         23.383       -2.269\n",
      "2016-07-18          True         24.675             -1          0      1.45           0       26.203              0         26.203        0.551\n",
      "2016-07-27          True         26.066              1    -26.066         0           1        0.137          24.04         24.177       -1.475\n",
      "2016-07-28          True         25.707             -1          0    -0.359           0       25.844              0         25.844        0.192\n",
      "2016-08-26          True         26.852              1    -26.852         0           1       -1.008         25.106         24.098       -1.554\n",
      "2016-09-29          True          28.29             -1          0     1.438           0       27.282              0         27.282         1.63\n",
      "2016-10-27          True         28.848              1    -28.848         0           1       -1.566         26.877         25.311       -0.341\n",
      "2016-11-04          True         27.133             -1          0    -1.715           0       25.567              0         25.567       -0.085\n",
      "2016-11-11          True          26.73              1     -26.73         0           1       -1.163         25.588         24.425       -1.227\n",
      "2016-12-20          True         29.185             -1          0     2.455           0       28.022              0         28.022         2.37\n",
      "2017-04-12          True           35.4              1      -35.4         0           1       -7.378         33.607         26.229        0.577\n",
      "2017-05-03          True         36.398             -1          0     0.998           0        29.02              0          29.02        3.368\n",
      "2017-06-12          True         36.435              1    -36.435         0           1       -7.415         34.606         27.191        1.539\n",
      "2017-07-19          True          37.62             -1          0     1.185           0       30.205              0         30.205        4.553\n",
      "2017-09-11          True         40.125              1    -40.125         0           1        -9.92         38.589         28.669        3.017\n",
      "2017-09-26          True         37.945             -1          0     -2.18           0       28.025              0         28.025        2.373\n",
      "2017-12-27          True         42.525              1    -42.525         0           1        -14.5          40.91          26.41        0.758\n",
      "2018-01-18          True         44.843             -1          0     2.318           0       30.343              0         30.343        4.691\n",
      "2018-01-25          True         43.626              1    -43.626         0           1      -13.283         41.032         27.749        2.097\n",
      "2018-02-05          True         39.775             -1          0    -3.851           0       26.492              0         26.492         0.84\n",
      "2018-02-06          True         38.708              1    -38.708         0           1      -12.216         39.095         26.879        1.227\n",
      "2018-02-27          True         44.775             -1          0     6.067           0       32.559              0         32.559        6.907\n",
      "2018-03-22          True           42.5              1      -42.5         0           1       -9.941         40.654         30.713        5.061\n",
      "2018-04-19          True         43.737             -1          0     1.237           0       33.796              0         33.796        8.144\n",
      "2018-04-23          True         41.709              1    -41.709         0           1       -7.913         39.784         31.871        6.219\n",
      "2018-05-11          True         47.373             -1          0     5.664           0        39.46              0          39.46       13.808\n",
      "2018-06-18          True          46.97              1     -46.97         0           1        -7.51         45.618         38.108       12.456\n",
      "2018-07-25          True         48.265             -1          0     1.295           0       40.755              0         40.755       15.103\n",
      "2018-07-31          True         47.575              1    -47.575         0           1        -6.82         45.993         39.173       13.521\n",
      "2018-08-02          True         50.145             -1          0      2.57           0       43.325              0         43.325       17.673\n",
      "2018-09-18          True         54.447              1    -54.447         0           1      -11.122         52.934         41.812        16.16\n",
      "2018-11-06          True          50.48             -1          0    -3.967           0       39.358              0         39.358       13.706\n",
      "2018-11-13          True         47.907              1    -47.907         0           1       -8.549         46.789          38.24       12.588\n",
      "2018-11-21          True         44.932             -1          0    -2.975           0       36.383              0         36.383       10.731\n",
      "2018-12-10          True          41.25              1     -41.25         0           1       -4.867          41.28         36.413       10.761\n",
      "2018-12-24          True         37.038             -1          0    -4.212           0       32.171              0         32.171        6.519\n",
      "2019-01-04          True         36.133              1    -36.133         0           1       -3.962         36.086         32.124        6.472\n",
      "2019-02-04          True         41.852             -1          0     5.719           0        37.89              0          37.89       12.238\n",
      "2019-05-13          True         46.928              1    -46.928         0           1       -9.038         45.575         36.537       10.885\n",
      "2019-06-14          True         47.886             -1          0     0.958           0       38.848              0         38.848       13.196\n",
      "2019-08-06          True         49.078              1    -49.078         0           1       -10.23         48.343         38.113       12.461\n",
      "2019-09-16          True         54.432             -1          0     5.354           0       44.202              0         44.202        18.55\n",
      "2019-12-04          True         65.267              1    -65.267         0           1      -21.065         64.667         43.602        17.95\n",
      "2019-12-23          True         70.132             -1          0     4.865           0       49.067              0         49.067       23.415\n",
      "2020-01-28          True          78.15              1     -78.15         0           1      -29.083         78.491         49.408       23.756\n",
      "2020-02-28          True         64.315             -1          0   -13.835           0       35.232              0         35.232         9.58\n",
      "2020-03-02          True          70.57              1     -70.57         0           1      -35.338         74.004         38.666       13.014\n",
      "2020-03-13          True         66.222             -1          0    -4.348           0       30.884              0         30.884        5.232\n",
      "2020-03-17          True         61.877              1    -61.877         0           1      -30.993         62.624         31.631        5.979\n",
      "2020-03-24          True          59.09             -1          0    -2.787           0       28.097              0         28.097        2.445\n",
      "2020-07-24          True         90.987              1    -90.987         0           1       -62.89         91.991         29.101        3.449\n",
      "2020-08-06          True        110.405             -1          0    19.418           0       47.515              0         47.515       21.863\n",
      "2020-09-09          True         117.26              1    -117.26         0           1      -69.745        116.745             47       21.348\n",
      "2020-11-20          True         118.64             -1          0      1.38           0       48.895              0         48.895       23.243\n",
      "2020-11-24          True         113.91              1    -113.91         0           1      -65.015        114.804         49.789       24.137\n",
      "2020-12-15          True         124.34             -1          0     10.43           0       59.325              0         59.325       33.673\n",
      "2021-01-07          True         128.36              1    -128.36         0           1      -69.035        130.504         61.469       35.817\n",
      "2021-01-28          True         139.52             -1          0     11.16           0       70.485              0         70.485       44.833\n",
      "2021-02-17          True         131.25              1    -131.25         0           1      -60.765        130.619         69.854       44.202\n",
      "2021-03-09          True         119.03             -1          0    -12.22           0       58.265              0         58.265       32.613\n",
      "2021-05-03          True         132.04              1    -132.04         0           1      -73.775        132.316         58.541       32.889\n",
      "2021-06-18          True         130.71             -1          0     -1.33           0       56.935              0         56.935       31.283\n",
      "The current status of the model is: Waiting to enter a position since 2021-06-18 \n",
      "\n",
      "Processing the transactions for model #1...\n",
      "Accumulated profit/loss for one share of stock with initial capital of $25.65 at the end of modeling period: $6.90\n",
      "Accumulated return percentage based on the initial capital investment: 26.90%\n",
      "\n",
      "Processing the transactions for model #2...\n",
      "Accumulated profit/loss for one share of stock with initial capital of $25.65 at the end of modeling period: $31.28\n",
      "Accumulated return percentage based on the initial capital investment: 121.95%\n",
      "\n",
      "The entry point for the buy-and-hold model: $25.65 on 2016-01-04\n",
      "The exit point for the buy-and-hold model: $144.38 on 2021-07-30\n",
      "The performance of the buy-and-hold model: $118.73\n",
      "Accumulated return percentage based on the initial capital investment: 462.84%\n",
      "\n"
     ]
    },
    {
     "data": {
      "image/png": "[encoded data removed]",
      "text/plain": [
       "<Figure size 1152x648 with 1 Axes>"
      ]
     },
     "metadata": {
      "needs_background": "light"
     },
     "output_type": "display_data"
    },
    {
     "data": {
      "image/png": "[encoded data removed]",
      "text/plain": [
       "<Figure size 1152x648 with 1 Axes>"
      ]
     },
     "metadata": {
      "needs_background": "light"
     },
     "output_type": "display_data"
    }
   ],
   "source": [
    "for symbol in stock_list:\n",
    "    stock_signals_positions = {}\n",
    "    stock_model_template = retrieve_stock_data(symbol)\n",
    "\n",
    "    print('\\nGenerating the trading signals for model #1...')\n",
    "    tag_name = symbol + 'model1_signals'\n",
    "    stock_signals_positions[tag_name] = populate_signals_model1(stock_model_template)\n",
    "\n",
    "    print('\\nGenerating the trading signals for model #2...')\n",
    "    tag_name = symbol + 'model2_signals'\n",
    "    stock_signals_positions[tag_name] = populate_signals_model2(stock_model_template)\n",
    "\n",
    "    INITIAL_CAPITAL = stock_signals_positions[tag_name].at[stock_signals_positions[tag_name].index[0],'open_price']\n",
    "    performance_values = evaluate_strategy_performance(symbol)\n",
    "    performance_summary = performance_summary.append(performance_values, ignore_index=True)"
   ]
  },
  {
   "cell_type": "code",
   "execution_count": 14,
   "metadata": {
    "collapsed": false,
    "jupyter": {
     "outputs_hidden": false
    },
    "pycharm": {
     "name": "#%%\n"
    }
   },
   "outputs": [
    {
     "name": "stdout",
     "output_type": "stream",
     "text": [
      "  Symbol  Model1_Return_VAL  Model1_Return_PCT  Model2_Return_VAL  Model2_Return_PCT  Buy_Hold_Return  BH_Return_PCT\n",
      "0   AAPL              6.901          26.902386             31.283         121.951505          118.728     462.841104\n"
     ]
    }
   ],
   "source": [
    "print(performance_summary)"
   ]
  },
  {
   "cell_type": "code",
   "execution_count": 15,
   "metadata": {
    "collapsed": false,
    "jupyter": {
     "outputs_hidden": false
    },
    "pycharm": {
     "name": "#%%\n"
    }
   },
   "outputs": [
    {
     "name": "stdout",
     "output_type": "stream",
     "text": [
      "Total time for the script: 0:00:13.681551\n"
     ]
    }
   ],
   "source": [
    "print ('Total time for the script:',(datetime.now() - startTimeScript))"
   ]
  }
 ],
 "metadata": {
  "colab": {
   "collapsed_sections": [],
   "name": "py_algotrading_ema_crossover_grid_search.ipynb",
   "provenance": []
  },
  "kernelspec": {
   "display_name": "Python 3",
   "language": "python",
   "name": "python3"
  },
  "language_info": {
   "codemirror_mode": {
    "name": "ipython",
    "version": 3
   },
   "file_extension": ".py",
   "mimetype": "text/x-python",
   "name": "python",
   "nbconvert_exporter": "python",
   "pygments_lexer": "ipython3",
   "version": "3.8.5"
  }
 },
 "nbformat": 4,
 "nbformat_minor": 4
}
