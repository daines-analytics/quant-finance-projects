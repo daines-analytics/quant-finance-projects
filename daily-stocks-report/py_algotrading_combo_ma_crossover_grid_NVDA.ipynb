{
 "cells": [
  {
   "cell_type": "markdown",
   "metadata": {
    "colab_type": "text",
    "id": "nn0Ld1RjTekC"
   },
   "source": [
    "# Algorithmic Trading Model for Moving Average Crossover Grid Search"
   ]
  },
  {
   "cell_type": "markdown",
   "metadata": {
    "colab_type": "text",
    "id": "-DieEv9pTekE"
   },
   "source": [
    "## Task 1. Prepare Environment"
   ]
  },
  {
   "cell_type": "code",
   "execution_count": 178,
   "metadata": {
    "colab": {},
    "colab_type": "code",
    "collapsed": false,
    "id": "8IwyGxxuTekE",
    "jupyter": {
     "outputs_hidden": false
    },
    "pycharm": {
     "name": "#%%\n"
    }
   },
   "outputs": [],
   "source": [
    "import os\n",
    "import sys\n",
    "import numpy as np\n",
    "import pandas as pd\n",
    "import requests\n",
    "import json\n",
    "import matplotlib.pyplot as plt\n",
    "from datetime import datetime, timedelta\n",
    "from dotenv import load_dotenv"
   ]
  },
  {
   "cell_type": "code",
   "execution_count": 179,
   "metadata": {
    "colab": {
     "base_uri": "https://localhost:8080/",
     "height": 51
    },
    "colab_type": "code",
    "collapsed": false,
    "id": "Zagik25QTekS",
    "jupyter": {
     "outputs_hidden": false
    },
    "outputId": "d14332ba-63ec-4224-ca13-c4ecdab3541a",
    "pycharm": {
     "name": "#%%\n"
    }
   },
   "outputs": [
    {
     "name": "stdout",
     "output_type": "stream",
     "text": [
      "Starting date for the model: 2019-01-01 00:00:00\n",
      "Ending date for the model: 2020-07-27 14:14:48.308428\n"
     ]
    }
   ],
   "source": [
    "stock_symbol = 'NVDA'\n",
    "initial_capital = 0\n",
    "\n",
    "# Specify the moving average parameters for the trading strategy\n",
    "fast_ema_min = 5\n",
    "fast_ema_max = 20\n",
    "slow_ema_min = 10\n",
    "slow_ema_max = 50\n",
    "fast_sma_min = 5\n",
    "fast_sma_max = 20\n",
    "slow_sma_min = 10\n",
    "slow_sma_max = 50\n",
    "ma_increment = 5\n",
    "min_ma_gap = 5\n",
    "\n",
    "# The number of extra days of data we need (usually equals to the larger of slow_ema or slow_sma)\n",
    "extra_days_data = 50\n",
    "\n",
    "model_start_date = datetime(2019, 1, 1)\n",
    "print(\"Starting date for the model:\", model_start_date)\n",
    "stock_start_date = model_start_date - timedelta(days=int(extra_days_data*1.5)) # Need more pricing data to calculate moving averages\n",
    "\n",
    "model_end_date = datetime.now()\n",
    "# model_end_date = datetime(2020, 6, 30)\n",
    "print(\"Ending date for the model:\", model_end_date)"
   ]
  },
  {
   "cell_type": "code",
   "execution_count": 180,
   "metadata": {
    "colab": {
     "base_uri": "https://localhost:8080/",
     "height": 34
    },
    "colab_type": "code",
    "collapsed": false,
    "id": "aTI50KL9TekN",
    "jupyter": {
     "outputs_hidden": false
    },
    "outputId": "68f4a687-6e33-48e5-ef46-c23d7994bc3e",
    "pycharm": {
     "name": "#%%\n"
    }
   },
   "outputs": [],
   "source": [
    "# Begin the timer for the script processing\n",
    "startTimeScript = datetime.now()\n",
    "\n",
    "# Set up the verbose flag to print detailed messages for debugging (setting True will activate!)\n",
    "verbose_models = False\n",
    "verbose_graphs = False\n",
    "verbose_portfolios = False\n",
    "\n",
    "# Set up the sendNotification flag to send progress emails (setting True will send emails!)\n",
    "notifyStatus = False\n",
    "\n",
    "# Set up the parent directory location for loading the dotenv files\n",
    "useColab = False\n",
    "if useColab:\n",
    "    # Mount Google Drive locally for storing files\n",
    "    from google.colab import drive\n",
    "    drive.mount('/content/gdrive')\n",
    "    gdrivePrefix = '/content/gdrive/My Drive/Colab_Downloads/'\n",
    "    env_path = '/content/gdrive/My Drive/Colab Notebooks/'\n",
    "    dotenv_path = env_path + \"python_script.env\"\n",
    "    load_dotenv(dotenv_path=dotenv_path)\n",
    "\n",
    "# Set up the dotenv file for retrieving environment variables\n",
    "useLocalPC = True\n",
    "if useLocalPC:\n",
    "    env_path = \"/Users/david/PycharmProjects/\"\n",
    "    dotenv_path = env_path + \"python_script.env\"\n",
    "    load_dotenv(dotenv_path=dotenv_path)\n",
    "\n",
    "# Configure the plotting style\n",
    "plt.style.use('seaborn')\n",
    "\n",
    "# Set Pandas options\n",
    "pd.set_option(\"display.max_rows\", None)\n",
    "pd.set_option(\"display.max_columns\", None)\n",
    "pd.set_option(\"display.width\", 140)"
   ]
  },
  {
   "cell_type": "markdown",
   "metadata": {
    "colab_type": "text",
    "id": "Xa51FMY_TekZ"
   },
   "source": [
    "## Task 2. Acquire and Pre-Process Data"
   ]
  },
  {
   "cell_type": "code",
   "execution_count": 181,
   "metadata": {
    "colab": {},
    "colab_type": "code",
    "collapsed": false,
    "id": "Og9L0byuTekd",
    "jupyter": {
     "outputs_hidden": false
    },
    "pycharm": {
     "name": "#%%\n"
    }
   },
   "outputs": [],
   "source": [
    "# Check and see whether the API key is available\n",
    "quandl_key = os.environ.get('QUANDL_API')\n",
    "if quandl_key is None: sys.exit(\"API key for Quandl not available. Script Processing Aborted!!!\")"
   ]
  },
  {
   "cell_type": "code",
   "execution_count": 182,
   "metadata": {
    "colab": {},
    "colab_type": "code",
    "collapsed": false,
    "id": "Vx4DZ7UbTekg",
    "jupyter": {
     "outputs_hidden": false
    },
    "pycharm": {
     "name": "#%%\n"
    }
   },
   "outputs": [],
   "source": [
    "start_date_string = stock_start_date.strftime('%Y-%m-%d')\n",
    "end_date_string = model_end_date.strftime('%Y-%m-%d')\n",
    "\n",
    "quandl_url = \"https://www.quandl.com/api/v3/datatables/SHARADAR/SEP.json?date.gte=%s&date.lte=%s&ticker=%s&api_key=%s\" % (start_date_string, end_date_string, stock_symbol, quandl_key)"
   ]
  },
  {
   "cell_type": "code",
   "execution_count": 183,
   "metadata": {
    "colab": {
     "base_uri": "https://localhost:8080/",
     "height": 34
    },
    "colab_type": "code",
    "collapsed": false,
    "id": "zdbEhMn8Tekj",
    "jupyter": {
     "outputs_hidden": false
    },
    "outputId": "c52a8b39-0a15-4b5a-c2d7-4359b519573d",
    "pycharm": {
     "name": "#%%\n"
    }
   },
   "outputs": [
    {
     "name": "stdout",
     "output_type": "stream",
     "text": [
      "445 data points retrieved from the API call.\n"
     ]
    }
   ],
   "source": [
    "response = requests.get(quandl_url)\n",
    "quandl_dict = json.loads(response.text)\n",
    "stock_quandl = pd.DataFrame(quandl_dict['datatable']['data'])\n",
    "print(len(stock_quandl), 'data points retrieved from the API call.')"
   ]
  },
  {
   "cell_type": "code",
   "execution_count": 184,
   "metadata": {
    "colab": {
     "base_uri": "https://localhost:8080/",
     "height": 306
    },
    "colab_type": "code",
    "collapsed": false,
    "id": "5ybXsZl1Tekl",
    "jupyter": {
     "outputs_hidden": false
    },
    "outputId": "2ecb3706-3631-40df-d26e-cb13ffec5fa4",
    "pycharm": {
     "name": "#%%\n"
    }
   },
   "outputs": [
    {
     "name": "stdout",
     "output_type": "stream",
     "text": [
      "<class 'pandas.core.frame.DataFrame'>\n",
      "DatetimeIndex: 445 entries, 2018-10-18 to 2020-07-27\n",
      "Data columns (total 10 columns):\n",
      " #   Column       Non-Null Count  Dtype  \n",
      "---  ------       --------------  -----  \n",
      " 0   ticker       445 non-null    object \n",
      " 1   date         445 non-null    object \n",
      " 2   open         445 non-null    float64\n",
      " 3   high         445 non-null    float64\n",
      " 4   low          445 non-null    float64\n",
      " 5   close        445 non-null    float64\n",
      " 6   volume       445 non-null    float64\n",
      " 7   dividend     445 non-null    float64\n",
      " 8   closeunadj   445 non-null    float64\n",
      " 9   lastupdated  445 non-null    object \n",
      "dtypes: float64(7), object(3)\n",
      "memory usage: 38.2+ KB\n"
     ]
    }
   ],
   "source": [
    "stock_quandl.columns = ['ticker', 'date', 'open', 'high', 'low', 'close', 'volume', 'dividend', 'closeunadj', 'lastupdated']\n",
    "# stock_quandl.set_index('date', inplace=True)\n",
    "stock_quandl.index = pd.to_datetime(stock_quandl.date)\n",
    "stock_quandl = stock_quandl.sort_index(ascending=True)\n",
    "stock_quandl.info()"
   ]
  },
  {
   "cell_type": "code",
   "execution_count": 185,
   "metadata": {
    "colab": {
     "base_uri": "https://localhost:8080/",
     "height": 235
    },
    "colab_type": "code",
    "collapsed": false,
    "id": "GzN1_13bTeko",
    "jupyter": {
     "outputs_hidden": false
    },
    "outputId": "c113bf72-655c-46a1-ee6d-36b236404897",
    "pycharm": {
     "name": "#%%\n"
    }
   },
   "outputs": [
    {
     "data": {
      "text/plain": "           ticker        date    open    high     low   close      volume  dividend  closeunadj lastupdated\ndate                                                                                                       \n2018-10-18   AAPL  2018-10-18  217.86  219.74  213.00  216.02  32581315.0       0.0      216.02  2020-05-01\n2018-10-19   AAPL  2018-10-19  218.06  221.26  217.43  219.31  33078726.0       0.0      219.31  2020-05-01\n2018-10-22   AAPL  2018-10-22  219.79  223.36  218.94  220.65  28792082.0       0.0      220.65  2020-05-01\n2018-10-23   AAPL  2018-10-23  215.83  223.25  214.70  222.73  38767846.0       0.0      222.73  2020-05-01\n2018-10-24   AAPL  2018-10-24  222.60  224.23  214.54  215.09  40925163.0       0.0      215.09  2020-05-01",
      "text/html": "<div>\n<style scoped>\n    .dataframe tbody tr th:only-of-type {\n        vertical-align: middle;\n    }\n\n    .dataframe tbody tr th {\n        vertical-align: top;\n    }\n\n    .dataframe thead th {\n        text-align: right;\n    }\n</style>\n<table border=\"1\" class=\"dataframe\">\n  <thead>\n    <tr style=\"text-align: right;\">\n      <th></th>\n      <th>ticker</th>\n      <th>date</th>\n      <th>open</th>\n      <th>high</th>\n      <th>low</th>\n      <th>close</th>\n      <th>volume</th>\n      <th>dividend</th>\n      <th>closeunadj</th>\n      <th>lastupdated</th>\n    </tr>\n    <tr>\n      <th>date</th>\n      <th></th>\n      <th></th>\n      <th></th>\n      <th></th>\n      <th></th>\n      <th></th>\n      <th></th>\n      <th></th>\n      <th></th>\n      <th></th>\n    </tr>\n  </thead>\n  <tbody>\n    <tr>\n      <th>2018-10-18</th>\n      <td>AAPL</td>\n      <td>2018-10-18</td>\n      <td>217.86</td>\n      <td>219.74</td>\n      <td>213.00</td>\n      <td>216.02</td>\n      <td>32581315.0</td>\n      <td>0.0</td>\n      <td>216.02</td>\n      <td>2020-05-01</td>\n    </tr>\n    <tr>\n      <th>2018-10-19</th>\n      <td>AAPL</td>\n      <td>2018-10-19</td>\n      <td>218.06</td>\n      <td>221.26</td>\n      <td>217.43</td>\n      <td>219.31</td>\n      <td>33078726.0</td>\n      <td>0.0</td>\n      <td>219.31</td>\n      <td>2020-05-01</td>\n    </tr>\n    <tr>\n      <th>2018-10-22</th>\n      <td>AAPL</td>\n      <td>2018-10-22</td>\n      <td>219.79</td>\n      <td>223.36</td>\n      <td>218.94</td>\n      <td>220.65</td>\n      <td>28792082.0</td>\n      <td>0.0</td>\n      <td>220.65</td>\n      <td>2020-05-01</td>\n    </tr>\n    <tr>\n      <th>2018-10-23</th>\n      <td>AAPL</td>\n      <td>2018-10-23</td>\n      <td>215.83</td>\n      <td>223.25</td>\n      <td>214.70</td>\n      <td>222.73</td>\n      <td>38767846.0</td>\n      <td>0.0</td>\n      <td>222.73</td>\n      <td>2020-05-01</td>\n    </tr>\n    <tr>\n      <th>2018-10-24</th>\n      <td>AAPL</td>\n      <td>2018-10-24</td>\n      <td>222.60</td>\n      <td>224.23</td>\n      <td>214.54</td>\n      <td>215.09</td>\n      <td>40925163.0</td>\n      <td>0.0</td>\n      <td>215.09</td>\n      <td>2020-05-01</td>\n    </tr>\n  </tbody>\n</table>\n</div>"
     },
     "execution_count": 185,
     "metadata": {},
     "output_type": "execute_result"
    }
   ],
   "source": [
    "stock_quandl.head()"
   ]
  },
  {
   "cell_type": "code",
   "execution_count": 186,
   "metadata": {
    "colab": {
     "base_uri": "https://localhost:8080/",
     "height": 235
    },
    "colab_type": "code",
    "collapsed": false,
    "id": "T7jmDLccTeks",
    "jupyter": {
     "outputs_hidden": false
    },
    "outputId": "4c47d9b0-b8d7-4a64-c05b-300169b85925",
    "pycharm": {
     "name": "#%%\n"
    }
   },
   "outputs": [
    {
     "data": {
      "text/plain": "           ticker        date     open    high      low   close      volume  dividend  closeunadj lastupdated\ndate                                                                                                         \n2020-07-21   AAPL  2020-07-21  396.690  397.00  386.970  388.00  25912229.0       0.0      388.00  2020-07-23\n2020-07-22   AAPL  2020-07-22  386.770  391.90  386.410  389.09  20590020.0       0.0      389.09  2020-07-22\n2020-07-23   AAPL  2020-07-23  387.993  388.31  368.039  371.38  49251108.0       0.0      371.38  2020-07-23\n2020-07-24   AAPL  2020-07-24  363.950  371.88  356.580  370.46  46359716.0       0.0      370.46  2020-07-24\n2020-07-27   AAPL  2020-07-27  374.840  379.62  373.920  379.24  29469969.0       0.0      379.24  2020-07-27",
      "text/html": "<div>\n<style scoped>\n    .dataframe tbody tr th:only-of-type {\n        vertical-align: middle;\n    }\n\n    .dataframe tbody tr th {\n        vertical-align: top;\n    }\n\n    .dataframe thead th {\n        text-align: right;\n    }\n</style>\n<table border=\"1\" class=\"dataframe\">\n  <thead>\n    <tr style=\"text-align: right;\">\n      <th></th>\n      <th>ticker</th>\n      <th>date</th>\n      <th>open</th>\n      <th>high</th>\n      <th>low</th>\n      <th>close</th>\n      <th>volume</th>\n      <th>dividend</th>\n      <th>closeunadj</th>\n      <th>lastupdated</th>\n    </tr>\n    <tr>\n      <th>date</th>\n      <th></th>\n      <th></th>\n      <th></th>\n      <th></th>\n      <th></th>\n      <th></th>\n      <th></th>\n      <th></th>\n      <th></th>\n      <th></th>\n    </tr>\n  </thead>\n  <tbody>\n    <tr>\n      <th>2020-07-21</th>\n      <td>AAPL</td>\n      <td>2020-07-21</td>\n      <td>396.690</td>\n      <td>397.00</td>\n      <td>386.970</td>\n      <td>388.00</td>\n      <td>25912229.0</td>\n      <td>0.0</td>\n      <td>388.00</td>\n      <td>2020-07-23</td>\n    </tr>\n    <tr>\n      <th>2020-07-22</th>\n      <td>AAPL</td>\n      <td>2020-07-22</td>\n      <td>386.770</td>\n      <td>391.90</td>\n      <td>386.410</td>\n      <td>389.09</td>\n      <td>20590020.0</td>\n      <td>0.0</td>\n      <td>389.09</td>\n      <td>2020-07-22</td>\n    </tr>\n    <tr>\n      <th>2020-07-23</th>\n      <td>AAPL</td>\n      <td>2020-07-23</td>\n      <td>387.993</td>\n      <td>388.31</td>\n      <td>368.039</td>\n      <td>371.38</td>\n      <td>49251108.0</td>\n      <td>0.0</td>\n      <td>371.38</td>\n      <td>2020-07-23</td>\n    </tr>\n    <tr>\n      <th>2020-07-24</th>\n      <td>AAPL</td>\n      <td>2020-07-24</td>\n      <td>363.950</td>\n      <td>371.88</td>\n      <td>356.580</td>\n      <td>370.46</td>\n      <td>46359716.0</td>\n      <td>0.0</td>\n      <td>370.46</td>\n      <td>2020-07-24</td>\n    </tr>\n    <tr>\n      <th>2020-07-27</th>\n      <td>AAPL</td>\n      <td>2020-07-27</td>\n      <td>374.840</td>\n      <td>379.62</td>\n      <td>373.920</td>\n      <td>379.24</td>\n      <td>29469969.0</td>\n      <td>0.0</td>\n      <td>379.24</td>\n      <td>2020-07-27</td>\n    </tr>\n  </tbody>\n</table>\n</div>"
     },
     "execution_count": 186,
     "metadata": {},
     "output_type": "execute_result"
    }
   ],
   "source": [
    "stock_quandl.tail()"
   ]
  },
  {
   "cell_type": "code",
   "execution_count": 187,
   "metadata": {
    "colab": {
     "base_uri": "https://localhost:8080/",
     "height": 535
    },
    "colab_type": "code",
    "collapsed": false,
    "id": "Tfuu40coTekv",
    "jupyter": {
     "outputs_hidden": false
    },
    "outputId": "2357753d-6c83-46ad-e8cc-8593497d20ff",
    "pycharm": {
     "name": "#%%\n"
    }
   },
   "outputs": [
    {
     "name": "stderr",
     "output_type": "stream",
     "text": [
      "c:\\users\\david\\pycharmprojects\\development-2020\\venv\\lib\\site-packages\\pandas\\plotting\\_matplotlib\\converter.py:256: MatplotlibDeprecationWarning: \n",
      "The epoch2num function was deprecated in Matplotlib 3.3 and will be removed two minor releases later.\n",
      "  base = dates.epoch2num(dt.asi8 / 1.0e9)\n"
     ]
    },
    {
     "data": {
      "text/plain": "<Figure size 1152x648 with 1 Axes>",
      "image/png": "[encoded data removed]"
     },
     "metadata": {},
     "output_type": "display_data"
    }
   ],
   "source": [
    "quandl_title = 'Quandl Historical Stock Information for ' + stock_symbol\n",
    "stock_quandl['close'].plot(figsize=(16,9), title=quandl_title)\n",
    "plt.show()"
   ]
  },
  {
   "cell_type": "markdown",
   "metadata": {
    "colab_type": "text",
    "id": "UKNJYDlGTek0"
   },
   "source": [
    "## Task 3. Develop Strategy and Train Model"
   ]
  },
  {
   "cell_type": "markdown",
   "metadata": {
    "colab_type": "text",
    "id": "zUtaaGbgTek3"
   },
   "source": [
    "### 3.a) Set up the Dataframe for the Trading Model"
   ]
  },
  {
   "cell_type": "code",
   "execution_count": 188,
   "metadata": {
    "colab": {
     "base_uri": "https://localhost:8080/",
     "height": 170
    },
    "colab_type": "code",
    "collapsed": false,
    "id": "dGpN7bg-Tek3",
    "jupyter": {
     "outputs_hidden": false
    },
    "outputId": "60f23809-9c25-44bd-dcbc-82c93777493d",
    "pycharm": {
     "name": "#%%\n"
    }
   },
   "outputs": [
    {
     "name": "stdout",
     "output_type": "stream",
     "text": [
      "<class 'pandas.core.frame.DataFrame'>\n",
      "DatetimeIndex: 445 entries, 2018-10-18 to 2020-07-27\n",
      "Data columns (total 2 columns):\n",
      " #   Column       Non-Null Count  Dtype  \n",
      "---  ------       --------------  -----  \n",
      " 0   open_price   445 non-null    float64\n",
      " 1   close_price  445 non-null    float64\n",
      "dtypes: float64(2)\n",
      "memory usage: 10.4 KB\n"
     ]
    }
   ],
   "source": [
    "# Set up the standard column name for modeling\n",
    "model_template = stock_quandl.loc[:, ['open','close']]\n",
    "model_template.rename(columns={'open': 'open_price', 'close': 'close_price'}, inplace=True)\n",
    "model_template.info()"
   ]
  },
  {
   "cell_type": "markdown",
   "metadata": {
    "colab_type": "text",
    "id": "v-3ecix6Tek_"
   },
   "source": [
    "### 3.b) Set up the Analysis Table with Indicators"
   ]
  },
  {
   "cell_type": "code",
   "execution_count": 189,
   "metadata": {
    "colab": {},
    "colab_type": "code",
    "collapsed": false,
    "id": "yfQTRXPnTelA",
    "jupyter": {
     "outputs_hidden": false
    },
    "pycharm": {
     "name": "#%%\n"
    }
   },
   "outputs": [],
   "source": [
    "# Define the functions that will generate the trading signals based on the different MA curves used\n",
    "\n",
    "def ema_only_crossover(model):\n",
    "    wait_for_entry = True\n",
    "    for x in range(len(model)):\n",
    "        if model['ema_change'].iloc[x] > 0:\n",
    "            model['trade_signal'].iloc[x] = 1  # trade_signal = 1 means we should enter into a long position\n",
    "        else:\n",
    "            model['trade_signal'].iloc[x] = 0  # trade_signal = 0 means we should exit the long position\n",
    "        if x != 0:\n",
    "            model['signal_change'].iloc[x] = model['trade_signal'].iloc[x] - model['trade_signal'].iloc[x-1]\n",
    "            if wait_for_entry and (model['signal_change'].iloc[x-1] == 1):\n",
    "                model['entry_exit'].iloc[x] = model['signal_change'].iloc[x-1]\n",
    "                wait_for_entry = False\n",
    "            elif (not wait_for_entry) and (model['signal_change'].iloc[x-1] != 0):\n",
    "                model['entry_exit'].iloc[x] = model['signal_change'].iloc[x-1]\n",
    "\n",
    "def sma_only_crossover(model):\n",
    "    wait_for_entry = True\n",
    "    for x in range(len(model)):\n",
    "        if model['sma_change'].iloc[x] > 0:\n",
    "            model['trade_signal'].iloc[x] = 1  # trade_signal = 1 means we should enter into a long position\n",
    "        else:\n",
    "            model['trade_signal'].iloc[x] = 0  # trade_signal = 0 means we should exit the long position\n",
    "        if x != 0:\n",
    "            model['signal_change'].iloc[x] = model['trade_signal'].iloc[x] - model['trade_signal'].iloc[x-1]\n",
    "            if wait_for_entry and (model['signal_change'].iloc[x-1] == 1):\n",
    "                model['entry_exit'].iloc[x] = model['signal_change'].iloc[x-1]\n",
    "                wait_for_entry = False\n",
    "            elif (not wait_for_entry) and (model['signal_change'].iloc[x-1] != 0):\n",
    "                model['entry_exit'].iloc[x] = model['signal_change'].iloc[x-1]"
   ]
  },
  {
   "cell_type": "code",
   "execution_count": 190,
   "metadata": {
    "colab": {
     "base_uri": "https://localhost:8080/",
     "height": 1000
    },
    "colab_type": "code",
    "collapsed": false,
    "id": "8M4khYD7TelG",
    "jupyter": {
     "outputs_hidden": false
    },
    "outputId": "05f4cf43-5ebd-4654-9806-00894118795f",
    "pycharm": {
     "name": "#%%\n"
    }
   },
   "outputs": [
    {
     "name": "stdout",
     "output_type": "stream",
     "text": [
      "30 EMA only models generated!\n",
      "\n",
      "30 SMA only models generated!\n"
     ]
    }
   ],
   "source": [
    "# Processing models using only the EMA curves\n",
    "ema_model_collection = {}\n",
    "serial_number = 1\n",
    "for slow_ma in range(slow_ema_min, slow_ema_max+1, ma_increment):\n",
    "    for fast_ma in range(fast_ema_min, fast_ema_max+1, ma_increment):\n",
    "        if (slow_ma - fast_ma) < min_ma_gap: break\n",
    "        if verbose_models: print('Processing EMA model with slow_ema of', slow_ma, 'and fast_ema of', fast_ma)\n",
    "        model_name = 'EMA_' + str(serial_number).zfill(3) + '_SlowEMA_' + str(slow_ma).zfill(3) + '_FastEMA_' + str(fast_ma).zfill(3)\n",
    "        serial_number = serial_number + 1\n",
    "        trading_model = model_template.copy()\n",
    "        trading_model['fast_ema'] = trading_model['close_price'].ewm(span=fast_ma).mean()\n",
    "        trading_model['slow_ema'] = trading_model['close_price'].ewm(span=slow_ma).mean()\n",
    "        trading_model['ema_change'] = trading_model['fast_ema'] - trading_model['slow_ema']\n",
    "        trading_model['fast_sma'] = trading_model['close_price'].rolling(fast_ma).mean()\n",
    "        trading_model['slow_sma'] = trading_model['close_price'].rolling(slow_ma).mean()\n",
    "        trading_model['sma_change'] = trading_model['fast_sma'] - trading_model['slow_sma']\n",
    "        trading_model['fastema_slowsma_chg'] = trading_model['fast_ema'] - trading_model['slow_sma']\n",
    "        trading_model['fastsma_slowema_chg'] = trading_model['fast_sma'] - trading_model['slow_ema']\n",
    "        trading_model['trade_signal'] = np.zeros(len(trading_model))\n",
    "        trading_model['signal_change'] = np.zeros(len(trading_model))\n",
    "        trading_model['entry_exit'] = np.zeros(len(trading_model))\n",
    "        trading_model = trading_model[model_start_date:model_end_date]\n",
    "        ema_only_crossover(trading_model)\n",
    "        ema_model_collection[model_name] = trading_model.copy()\n",
    "        if verbose_models: print('Model', model_name, 'added to the trading model collection.')\n",
    "print(serial_number-1, 'EMA only models generated!')\n",
    "\n",
    "# Processing models using only the SMA curves\n",
    "print()\n",
    "sma_model_collection = {}\n",
    "serial_number = 1\n",
    "for slow_ma in range(slow_sma_min, slow_sma_max+1, ma_increment):\n",
    "    for fast_ma in range(fast_sma_min, fast_sma_max+1, ma_increment):\n",
    "        if (slow_ma - fast_ma) < min_ma_gap: break\n",
    "        if verbose_models: print('Processing EMA model with slow_ema of', slow_ma, 'and fast_ema of', fast_ma)\n",
    "        model_name = 'SMA_' + str(serial_number).zfill(3) + '_SlowSMA_' + str(slow_ma).zfill(3) + '_FastSMA_' + str(fast_ma).zfill(3)\n",
    "        serial_number = serial_number + 1\n",
    "        trading_model = model_template.copy()\n",
    "        trading_model['fast_ema'] = trading_model['close_price'].ewm(span=fast_ma).mean()\n",
    "        trading_model['slow_ema'] = trading_model['close_price'].ewm(span=slow_ma).mean()\n",
    "        trading_model['ema_change'] = trading_model['fast_ema'] - trading_model['slow_ema']\n",
    "        trading_model['fast_sma'] = trading_model['close_price'].rolling(fast_ma).mean()\n",
    "        trading_model['slow_sma'] = trading_model['close_price'].rolling(slow_ma).mean()\n",
    "        trading_model['sma_change'] = trading_model['fast_sma'] - trading_model['slow_sma']\n",
    "        trading_model['fastema_slowsma_chg'] = trading_model['fast_ema'] - trading_model['slow_sma']\n",
    "        trading_model['fastsma_slowema_chg'] = trading_model['fast_sma'] - trading_model['slow_ema']\n",
    "        trading_model['trade_signal'] = np.zeros(len(trading_model))\n",
    "        trading_model['signal_change'] = np.zeros(len(trading_model))\n",
    "        trading_model['entry_exit'] = np.zeros(len(trading_model))\n",
    "        trading_model = trading_model[model_start_date:model_end_date]\n",
    "        sma_only_crossover(trading_model)\n",
    "        sma_model_collection[model_name] = trading_model.copy()\n",
    "        if verbose_models: print('Model', model_name, 'added to the trading model collection.')\n",
    "print(serial_number-1, 'SMA only models generated!')"
   ]
  },
  {
   "cell_type": "code",
   "execution_count": 191,
   "metadata": {
    "colab": {
     "base_uri": "https://localhost:8080/",
     "height": 1000
    },
    "colab_type": "code",
    "collapsed": false,
    "id": "327CZKmtTelL",
    "jupyter": {
     "outputs_hidden": false
    },
    "outputId": "b353b49d-0281-4aa7-a530-6747c166eae5",
    "pycharm": {
     "name": "#%%\n"
    }
   },
   "outputs": [],
   "source": [
    "# List the entry/exit points for each model\n",
    "def list_model_entry_exit(model_collection):\n",
    "    for model_name in model_collection:\n",
    "        print('List the signal change and entry/exit points for', model_name)\n",
    "        print(model_collection[model_name][(model_collection[model_name].signal_change != 0) | (model_collection[model_name].entry_exit != 0)])\n",
    "        print()"
   ]
  },
  {
   "cell_type": "code",
   "execution_count": 192,
   "outputs": [],
   "source": [
    "if verbose_models: list_model_entry_exit(ema_model_collection)"
   ],
   "metadata": {
    "collapsed": false,
    "pycharm": {
     "name": "#%%\n"
    }
   }
  },
  {
   "cell_type": "code",
   "execution_count": 193,
   "outputs": [],
   "source": [
    "if verbose_models: list_model_entry_exit(sma_model_collection)"
   ],
   "metadata": {
    "collapsed": false,
    "pycharm": {
     "name": "#%%\n"
    }
   }
  },
  {
   "cell_type": "code",
   "execution_count": 194,
   "metadata": {
    "colab": {
     "base_uri": "https://localhost:8080/",
     "height": 1000
    },
    "colab_type": "code",
    "collapsed": false,
    "id": "XEyJXVxcTelS",
    "jupyter": {
     "outputs_hidden": false
    },
    "outputId": "c74ac3e9-fbd3-4e73-8294-f12d0cce88dc",
    "pycharm": {
     "name": "#%%\n"
    }
   },
   "outputs": [],
   "source": [
    "def draw_model_graphs(trade_model, fast_ma_curve='fast_ema', slow_ma_curve='slow_ema'):\n",
    "    graph_data = trade_model.copy()\n",
    "    title_string = \"Moving Average Crossover Model for \" + model_name\n",
    "    fig = plt.figure(figsize=(16,9))\n",
    "    ylabel = stock_symbol + ' price in $'\n",
    "    ax1 = fig.add_subplot(111, ylabel=ylabel, title=title_string)\n",
    "    graph_data[fast_ma_curve].plot(ax=ax1, color='b', lw=2.)\n",
    "    graph_data[slow_ma_curve].plot(ax=ax1, color='r', lw=2.)\n",
    "    graph_data['close_price'].plot(ax=ax1, color='g')\n",
    "    ax1.plot(graph_data.loc[graph_data.entry_exit == 1].index, graph_data.close_price[graph_data.entry_exit == 1], '^', markersize=7, color='k',label='buy')\n",
    "    ax1.plot(graph_data.loc[graph_data.entry_exit == -1].index, graph_data.close_price[graph_data.entry_exit == -1], 'v', markersize=7, color='k',label='sell')\n",
    "    plt.legend(loc='upper left')\n",
    "    plt.show()"
   ]
  },
  {
   "cell_type": "code",
   "execution_count": 195,
   "outputs": [],
   "source": [
    "if verbose_graphs:\n",
    "    for each_model in ema_model_collection:\n",
    "        draw_model_graphs(ema_model_collection[each_model], 'fast_ema', 'slow_ema')"
   ],
   "metadata": {
    "collapsed": false,
    "pycharm": {
     "name": "#%%\n"
    }
   }
  },
  {
   "cell_type": "code",
   "execution_count": 196,
   "outputs": [],
   "source": [
    "if verbose_graphs:\n",
    "    for each_model in sma_model_collection:\n",
    "        draw_model_graphs(sma_model_collection[each_model], 'fast_sma', 'slow_sma')"
   ],
   "metadata": {
    "collapsed": false,
    "pycharm": {
     "name": "#%%\n"
    }
   }
  },
  {
   "cell_type": "markdown",
   "metadata": {
    "colab_type": "text",
    "id": "wzTQaZkeTeld"
   },
   "source": [
    "## Task 4. Back-test Model"
   ]
  },
  {
   "cell_type": "code",
   "execution_count": 197,
   "metadata": {
    "colab": {},
    "colab_type": "code",
    "collapsed": false,
    "id": "Q1xZWksnTelr",
    "jupyter": {
     "outputs_hidden": false
    },
    "pycharm": {
     "name": "#%%\n"
    }
   },
   "outputs": [],
   "source": [
    "def trading_portfolio_generation(initial_fund, trade_model):\n",
    "    # Construct a portfolio to track the transactions and returns\n",
    "    portfolio = pd.DataFrame(index=trade_model.index, columns=['trade_action', 'qty_onhand', 'cost_basis', 'sold_transaction', 'gain_loss', 'cash_onhand', 'position_value', 'total_position', 'accumu_return'])\n",
    "    portfolio.iloc[0]['trade_action'] = 0\n",
    "    portfolio.iloc[0]['qty_onhand'] = 0\n",
    "    portfolio.iloc[0]['cost_basis'] = 0.00\n",
    "    portfolio.iloc[0]['sold_transaction'] = 0.00\n",
    "    portfolio.iloc[0]['gain_loss'] = 0.00\n",
    "    portfolio.iloc[0]['cash_onhand'] = initial_capital\n",
    "    portfolio.iloc[0]['position_value'] = 0.00\n",
    "    portfolio.iloc[0]['total_position'] = initial_capital\n",
    "    portfolio.iloc[0]['accumu_return'] = portfolio.iloc[0]['total_position'] - initial_fund\n",
    "    recent_cost = 0\n",
    "\n",
    "    # The conditional parameters below determine how the trading strategy will be carried out\n",
    "    for i in range(1, len(portfolio)):\n",
    "        if (trade_model.iloc[i]['entry_exit'] == 1) and (portfolio.iloc[i-1]['qty_onhand'] == 0):\n",
    "            portfolio.iloc[i]['trade_action'] = 1\n",
    "            portfolio.iloc[i]['qty_onhand'] = portfolio.iloc[i-1]['qty_onhand'] + portfolio.iloc[i]['trade_action']\n",
    "            portfolio.iloc[i]['cost_basis'] = trade_model.iloc[i]['open_price'] * portfolio.iloc[i]['trade_action']\n",
    "            portfolio.iloc[i]['sold_transaction'] = 0.00\n",
    "            portfolio.iloc[i]['gain_loss'] = 0.00\n",
    "            portfolio.iloc[i]['cash_onhand'] = portfolio.iloc[i-1]['cash_onhand'] - portfolio.iloc[i]['cost_basis']\n",
    "            recent_cost = trade_model.iloc[i]['open_price'] * portfolio.iloc[i]['trade_action']\n",
    "            if verbose_portfolios: print('BOUGHT QTY:', portfolio.iloc[i]['trade_action'], 'on', portfolio.index[i], 'at the price of', trade_model.iloc[i]['open_price'])\n",
    "        elif (trade_model.iloc[i]['entry_exit'] == -1) and (portfolio.iloc[i-1]['qty_onhand'] > 0):\n",
    "            portfolio.iloc[i]['trade_action'] = -1\n",
    "            portfolio.iloc[i]['qty_onhand'] = portfolio.iloc[i-1]['qty_onhand'] + portfolio.iloc[i]['trade_action']\n",
    "            portfolio.iloc[i]['cost_basis'] = 0.00\n",
    "            portfolio.iloc[i]['sold_transaction'] = trade_model.iloc[i]['open_price'] * portfolio.iloc[i]['trade_action'] * -1\n",
    "            portfolio.iloc[i]['gain_loss'] = (recent_cost + (trade_model.iloc[i]['open_price'] * portfolio.iloc[i]['trade_action'])) * -1\n",
    "            portfolio.iloc[i]['cash_onhand'] = portfolio.iloc[i-1]['cash_onhand'] + portfolio.iloc[i]['sold_transaction']\n",
    "            recent_cost = 0.00\n",
    "            if verbose_portfolios: print('SOLD QTY:', portfolio.iloc[i]['trade_action'], 'on', portfolio.index[i], 'at the price of', trade_model.iloc[i]['open_price'])\n",
    "        else:\n",
    "            portfolio.iloc[i]['trade_action'] = 0\n",
    "            portfolio.iloc[i]['qty_onhand'] = portfolio.iloc[i-1]['qty_onhand']\n",
    "            portfolio.iloc[i]['cost_basis'] = portfolio.iloc[i-1]['cost_basis']\n",
    "            portfolio.iloc[i]['sold_transaction'] = 0.00\n",
    "            portfolio.iloc[i]['gain_loss'] = 0.00\n",
    "            portfolio.iloc[i]['cash_onhand'] = portfolio.iloc[i-1]['cash_onhand']\n",
    "        portfolio.iloc[i]['position_value'] = trade_model.iloc[i]['close_price'] * portfolio.iloc[i]['qty_onhand']\n",
    "        portfolio.iloc[i]['total_position'] = portfolio.iloc[i]['cash_onhand'] + portfolio.iloc[i]['position_value']\n",
    "        portfolio.iloc[i]['accumu_return'] = portfolio.iloc[i]['total_position'] - initial_fund\n",
    "\n",
    "    return portfolio"
   ]
  },
  {
   "cell_type": "code",
   "execution_count": 198,
   "metadata": {
    "colab": {
     "base_uri": "https://localhost:8080/",
     "height": 1000
    },
    "colab_type": "code",
    "collapsed": false,
    "id": "mOsqVrfRTelw",
    "jupyter": {
     "outputs_hidden": false
    },
    "outputId": "17950f55-4566-48b2-dde6-0974c6e45966",
    "pycharm": {
     "name": "#%%\n"
    }
   },
   "outputs": [],
   "source": [
    "def generate_portfolio_and_performance(model_collection):\n",
    "    # Initialize a dictionary for tracking portfolios for all models\n",
    "    portfolio_collection = {}\n",
    "    # Initialize a dataframe for reporting model performance summary\n",
    "    performance_summary = pd.DataFrame(columns=['model_name','return_value','return_percent'])\n",
    "\n",
    "    for model_name in model_collection:\n",
    "        if verbose_portfolios: print('Processing portfolio for model:', model_name)\n",
    "        portfolio_collection[model_name] = trading_portfolio_generation(initial_capital, model_collection[model_name])\n",
    "        trade_transactions = portfolio_collection[model_name][portfolio_collection[model_name].trade_action != 0]\n",
    "        if verbose_portfolios: print(trade_transactions)\n",
    "        if verbose_portfolios: print('Accumulated profit/loss for one share of stock with initial capital of $%.0f at the end of modeling period: $%.2f' % (initial_capital, portfolio_collection[model_name].accumu_return[-1]))\n",
    "        if initial_capital != 0:\n",
    "            return_percentage = portfolio_collection[model_name].accumu_return[-1] / initial_capital * 100\n",
    "            if verbose_portfolios: print('Accumulated return percentage based on the initial capital investment: %.2f%%' % return_percentage)\n",
    "        else:\n",
    "            return_percentage = None\n",
    "        if trade_transactions.iloc[-1]['trade_action'] == 1:\n",
    "            if verbose_portfolios: print('The current status of the model is:', 'Holding a position since', trade_transactions.index.tolist()[-1], '\\n')\n",
    "        else:\n",
    "            if verbose_portfolios: print('The current status of the model is:', 'Waiting to enter since', trade_transactions.index.tolist()[-1], '\\n')\n",
    "        performance_summary = performance_summary.append({'model_name': model_name, 'return_value': portfolio_collection[model_name].accumu_return[-1], 'return_percent': return_percentage}, ignore_index=True)\n",
    "    performance_summary.sort_values(by=['return_value'], inplace=True, ascending=False)\n",
    "    return portfolio_collection, performance_summary"
   ]
  },
  {
   "cell_type": "code",
   "execution_count": 199,
   "outputs": [
    {
     "name": "stdout",
     "output_type": "stream",
     "text": [
      "30 trading transaction portfolios generated.\n",
      "30 profit/loss performance summaries generated.\n"
     ]
    }
   ],
   "source": [
    "ema_portfolio_collection, ema_performance_summary = generate_portfolio_and_performance(ema_model_collection)\n",
    "print(len(ema_portfolio_collection), 'trading transaction portfolios generated.')\n",
    "print(len(ema_performance_summary), 'profit/loss performance summaries generated.')"
   ],
   "metadata": {
    "collapsed": false,
    "pycharm": {
     "name": "#%%\n"
    }
   }
  },
  {
   "cell_type": "code",
   "execution_count": 200,
   "outputs": [
    {
     "name": "stdout",
     "output_type": "stream",
     "text": [
      "30 trading transaction portfolios generated.\n",
      "30 profit/loss performance summaries generated.\n"
     ]
    }
   ],
   "source": [
    "sma_portfolio_collection, sma_performance_summary = generate_portfolio_and_performance(sma_model_collection)\n",
    "print(len(sma_portfolio_collection), 'trading transaction portfolios generated.')\n",
    "print(len(sma_performance_summary), 'profit/loss performance summaries generated.')"
   ],
   "metadata": {
    "collapsed": false,
    "pycharm": {
     "name": "#%%\n"
    }
   }
  },
  {
   "cell_type": "code",
   "execution_count": 201,
   "outputs": [],
   "source": [
    "# Display performance summary from the top and bottom models\n",
    "def display_top_bottom_performance(performance_summary):\n",
    "    print(performance_summary.head())\n",
    "    print(performance_summary.tail())"
   ],
   "metadata": {
    "collapsed": false,
    "pycharm": {
     "name": "#%%\n"
    }
   }
  },
  {
   "cell_type": "code",
   "execution_count": 202,
   "outputs": [
    {
     "name": "stdout",
     "output_type": "stream",
     "text": [
      "                        model_name  return_value return_percent\n",
      "1  EMA_002_SlowEMA_015_FastEMA_005       241.249           None\n",
      "3  EMA_004_SlowEMA_020_FastEMA_005       224.220           None\n",
      "6  EMA_007_SlowEMA_025_FastEMA_005       224.130           None\n",
      "2  EMA_003_SlowEMA_015_FastEMA_010       223.660           None\n",
      "0  EMA_001_SlowEMA_010_FastEMA_005       220.960           None\n",
      "                         model_name  return_value return_percent\n",
      "12  EMA_013_SlowEMA_030_FastEMA_015        171.15           None\n",
      "9   EMA_010_SlowEMA_025_FastEMA_020        169.41           None\n",
      "16  EMA_017_SlowEMA_035_FastEMA_015        168.85           None\n",
      "13  EMA_014_SlowEMA_030_FastEMA_020        167.15           None\n",
      "25  EMA_026_SlowEMA_045_FastEMA_020        161.47           None\n"
     ]
    }
   ],
   "source": [
    "# Display the EMA model performance summary\n",
    "display_top_bottom_performance(ema_performance_summary)"
   ],
   "metadata": {
    "collapsed": false,
    "pycharm": {
     "name": "#%%\n"
    }
   }
  },
  {
   "cell_type": "code",
   "execution_count": 203,
   "metadata": {
    "colab": {
     "base_uri": "https://localhost:8080/",
     "height": 544
    },
    "colab_type": "code",
    "id": "7ErV8f-6Tely",
    "outputId": "79745f23-239b-43bc-ab91-4fde0a9947cb"
   },
   "outputs": [
    {
     "name": "stdout",
     "output_type": "stream",
     "text": [
      "                        model_name  return_value return_percent\n",
      "1  SMA_002_SlowSMA_015_FastSMA_005       266.519           None\n",
      "0  SMA_001_SlowSMA_010_FastSMA_005       241.654           None\n",
      "6  SMA_007_SlowSMA_025_FastSMA_005       239.750           None\n",
      "3  SMA_004_SlowSMA_020_FastSMA_005       228.850           None\n",
      "4  SMA_005_SlowSMA_020_FastSMA_010       227.600           None\n",
      "                         model_name  return_value return_percent\n",
      "29  SMA_030_SlowSMA_050_FastSMA_020        181.11           None\n",
      "13  SMA_014_SlowSMA_030_FastSMA_020        176.92           None\n",
      "17  SMA_018_SlowSMA_035_FastSMA_020        168.73           None\n",
      "23  SMA_024_SlowSMA_045_FastSMA_010        162.87           None\n",
      "19  SMA_020_SlowSMA_040_FastSMA_010        162.42           None\n"
     ]
    }
   ],
   "source": [
    "# Display the SMA model performance summary\n",
    "display_top_bottom_performance(sma_performance_summary)"
   ]
  },
  {
   "cell_type": "code",
   "execution_count": 207,
   "outputs": [],
   "source": [
    "# Display the entry/exit signals and transactions from the top model\n",
    "def display_signals_transactions(model_name, portfolio_collection, model_collection):\n",
    "    print('The transactions from the top model %s:' % model_name)\n",
    "    print(portfolio_collection[model_name][portfolio_collection[model_name].trade_action != 0])\n",
    "    print()\n",
    "    print('The trading signal changes from the top model %s:' % model_name)\n",
    "    print(model_collection[model_name][model_collection[model_name].signal_change != 0])"
   ],
   "metadata": {
    "collapsed": false,
    "pycharm": {
     "name": "#%%\n"
    }
   }
  },
  {
   "cell_type": "code",
   "execution_count": 210,
   "metadata": {
    "colab": {
     "base_uri": "https://localhost:8080/",
     "height": 561
    },
    "colab_type": "code",
    "id": "-4DC2gCYV-OE",
    "outputId": "1ab6d9f5-33ba-49b8-ae03-d072adf9142a"
   },
   "outputs": [
    {
     "name": "stdout",
     "output_type": "stream",
     "text": [
      "The transactions from the top model SMA_002_SlowSMA_015_FastSMA_005:\n",
      "           trade_action qty_onhand cost_basis sold_transaction gain_loss cash_onhand position_value total_position accumu_return\n",
      "date                                                                                                                            \n",
      "2019-01-16            1          1     153.08                0         0     -153.08         154.94           1.86          1.86\n",
      "2019-05-10           -1          0          0          197.419    44.339      44.339              0         44.339        44.339\n",
      "2019-06-10            1          1     191.81                0         0    -147.471         192.58         45.109        45.109\n",
      "2019-08-06           -1          0          0           196.31       4.5      48.839              0         48.839        48.839\n",
      "2019-08-19            1          1     210.62                0         0    -161.781         210.35         48.569        48.569\n",
      "2019-08-30           -1          0          0           210.16     -0.46      48.379              0         48.379        48.379\n",
      "2019-09-05            1          1        212                0         0    -163.621         213.28         49.659        49.659\n",
      "2019-09-27           -1          0          0           220.54      8.54      56.919              0         56.919        56.919\n",
      "2019-10-02            1          1     223.06                0         0    -166.141         218.96         52.819        52.819\n",
      "2019-12-05           -1          0          0           263.79     40.73      97.649              0         97.649        97.649\n",
      "2019-12-11            1          1     268.81                0         0    -171.161         270.77         99.609        99.609\n",
      "2020-02-06           -1          0          0           322.57     53.76     151.409              0        151.409       151.409\n",
      "2020-02-10            1          1     314.18                0         0    -162.771         321.55        158.779       158.779\n",
      "2020-02-25           -1          0          0           300.95    -13.23     138.179              0        138.179       138.179\n",
      "2020-04-01            1          1      246.5                0         0    -108.321         240.91        132.589       132.589\n",
      "2020-07-27           -1          0          0           374.84    128.34     266.519              0        266.519       266.519\n",
      "\n",
      "The trading signal changes from the top model SMA_002_SlowSMA_015_FastSMA_005:\n",
      "            open_price  close_price    fast_ema    slow_ema  ema_change  fast_sma    slow_sma  sma_change  fastema_slowsma_chg  \\\n",
      "date                                                                                                                             \n",
      "2019-01-15      150.27       153.07  151.973697  153.935632   -1.961935   152.494  152.242667    0.251333            -0.268970   \n",
      "2019-05-09      200.40       200.72  203.829547  204.131983   -0.302436   205.342  205.618000   -0.276000            -1.788453   \n",
      "2019-06-07      186.51       190.15  184.162158  183.731094    0.431065   182.170  181.328667    0.841333             2.833492   \n",
      "2019-08-05      197.99       193.34  202.850820  205.008757   -2.157937   205.522  206.192000   -0.670000            -3.341180   \n",
      "2019-08-16      204.28       206.50  204.038512  203.638155    0.400357   204.088  203.879333    0.208667             0.159179   \n",
      "2019-08-29      208.50       209.01  207.021949  206.421010    0.600939   205.566  206.338000   -0.772000             0.683949   \n",
      "2019-09-04      208.39       209.19  207.705392  206.910208    0.795184   207.634  207.217333    0.416667             0.488059   \n",
      "2019-09-26      220.00       219.89  219.679027  218.007878    1.671149   219.010  219.262333   -0.252333             0.416694   \n",
      "2019-10-01      225.07       224.59  222.142304  219.560473    2.581831   221.660  220.812333    0.847667             1.329971   \n",
      "2019-12-04      261.07       261.74  262.857920  262.419604    0.438316   264.088  264.289333   -0.201333            -1.431413   \n",
      "2019-12-10      268.60       268.48  267.066750  264.727453    2.339296   266.686  265.070667    1.615333             1.996083   \n",
      "2020-02-05      323.52       321.45  317.575253  314.695105    2.880148   316.468  316.696000   -0.228000             0.879253   \n",
      "2020-02-07      322.37       320.03  320.090112  316.512034    3.578079   318.840  317.940000    0.900000             2.150112   \n",
      "2020-02-24      297.26       298.18  312.028549  316.838817   -4.810268   314.830  319.102000   -4.272000            -7.073451   \n",
      "2020-03-31      255.60       254.29  251.476137  255.050724   -3.574588   252.160  249.962667    2.197333             1.513470   \n",
      "2020-07-24      363.95       370.46  378.649528  378.681531   -0.032003   382.472  382.608000   -0.136000            -3.958472   \n",
      "\n",
      "            fastsma_slowema_chg  trade_signal  signal_change  entry_exit  \n",
      "date                                                                      \n",
      "2019-01-15            -1.441632           1.0            1.0         0.0  \n",
      "2019-05-09             1.210017           0.0           -1.0         0.0  \n",
      "2019-06-07            -1.561094           1.0            1.0         0.0  \n",
      "2019-08-05             0.513243           0.0           -1.0         0.0  \n",
      "2019-08-16             0.449845           1.0            1.0         0.0  \n",
      "2019-08-29            -0.855010           0.0           -1.0         0.0  \n",
      "2019-09-04             0.723792           1.0            1.0         0.0  \n",
      "2019-09-26             1.002122           0.0           -1.0         0.0  \n",
      "2019-10-01             2.099527           1.0            1.0         0.0  \n",
      "2019-12-04             1.668396           0.0           -1.0         0.0  \n",
      "2019-12-10             1.958547           1.0            1.0         0.0  \n",
      "2020-02-05             1.772895           0.0           -1.0         0.0  \n",
      "2020-02-07             2.327966           1.0            1.0         0.0  \n",
      "2020-02-24            -2.008817           0.0           -1.0         0.0  \n",
      "2020-03-31            -2.890724           1.0            1.0         0.0  \n",
      "2020-07-24             3.790469           0.0           -1.0         0.0  \n",
      "\n"
     ]
    },
    {
     "name": "stderr",
     "output_type": "stream",
     "text": [
      "c:\\users\\david\\pycharmprojects\\development-2020\\venv\\lib\\site-packages\\pandas\\plotting\\_matplotlib\\converter.py:256: MatplotlibDeprecationWarning: \n",
      "The epoch2num function was deprecated in Matplotlib 3.3 and will be removed two minor releases later.\n",
      "  base = dates.epoch2num(dt.asi8 / 1.0e9)\n",
      "c:\\users\\david\\pycharmprojects\\development-2020\\venv\\lib\\site-packages\\pandas\\plotting\\_matplotlib\\converter.py:256: MatplotlibDeprecationWarning: \n",
      "The epoch2num function was deprecated in Matplotlib 3.3 and will be removed two minor releases later.\n",
      "  base = dates.epoch2num(dt.asi8 / 1.0e9)\n",
      "c:\\users\\david\\pycharmprojects\\development-2020\\venv\\lib\\site-packages\\pandas\\plotting\\_matplotlib\\converter.py:256: MatplotlibDeprecationWarning: \n",
      "The epoch2num function was deprecated in Matplotlib 3.3 and will be removed two minor releases later.\n",
      "  base = dates.epoch2num(dt.asi8 / 1.0e9)\n"
     ]
    },
    {
     "data": {
      "text/plain": "<Figure size 1152x648 with 1 Axes>",
      "image/png": "[encoded data removed]"
     },
     "metadata": {},
     "output_type": "display_data"
    }
   ],
   "source": [
    "# Display the details for the top model\n",
    "if ema_performance_summary.iloc[0]['return_value'] > sma_performance_summary.iloc[0]['return_value']:\n",
    "    top_model = ema_performance_summary.iloc[0]['model_name']\n",
    "    best_return = ema_performance_summary.iloc[0]['return_value']\n",
    "    display_signals_transactions(top_model, ema_portfolio_collection, ema_model_collection)\n",
    "    print()\n",
    "    draw_model_graphs(ema_model_collection[top_model], 'fast_ema', 'slow_ema')\n",
    "else:\n",
    "    top_model = sma_performance_summary.iloc[0]['model_name']\n",
    "    best_return = sma_performance_summary.iloc[0]['return_value']\n",
    "    display_signals_transactions(top_model, sma_portfolio_collection, sma_model_collection)\n",
    "    print()\n",
    "    draw_model_graphs(sma_model_collection[top_model], 'fast_sma', 'slow_sma')"
   ]
  },
  {
   "cell_type": "markdown",
   "metadata": {
    "colab_type": "text",
    "id": "xc_vWsaSTel4"
   },
   "source": [
    "## Task 5. Evaluate Performance"
   ]
  },
  {
   "cell_type": "code",
   "execution_count": 211,
   "metadata": {
    "colab": {
     "base_uri": "https://localhost:8080/",
     "height": 51
    },
    "colab_type": "code",
    "collapsed": false,
    "id": "YTyOJjYzTel7",
    "jupyter": {
     "outputs_hidden": false
    },
    "outputId": "8ab127f5-5316-4e3a-9908-75f18dd9a2b9",
    "pycharm": {
     "name": "#%%\n"
    }
   },
   "outputs": [
    {
     "name": "stdout",
     "output_type": "stream",
     "text": [
      "The best model found is: SMA_002_SlowSMA_015_FastSMA_005\n",
      "The best profit/loss for the investing period is: $266.52\n"
     ]
    }
   ],
   "source": [
    "print('The best model found is:', top_model)\n",
    "print('The best profit/loss for the investing period is: $%.2f' % best_return)\n",
    "if initial_capital != 0:\n",
    "    print('The best return percentage for initial capital is: %.2f%%' % (best_return / initial_capital * 100))"
   ]
  },
  {
   "cell_type": "code",
   "execution_count": 212,
   "metadata": {
    "colab": {
     "base_uri": "https://localhost:8080/",
     "height": 34
    },
    "colab_type": "code",
    "id": "aTP_6WyfTemB",
    "outputId": "6cda4cc2-d890-47d5-9a63-43cffd21d72f"
   },
   "outputs": [
    {
     "name": "stdout",
     "output_type": "stream",
     "text": [
      "The performance of the long-only model from day one is: $224.35\n"
     ]
    }
   ],
   "source": [
    "# Calculate the stock's performance for a long-only model\n",
    "model_template = model_template[model_start_date:model_end_date]\n",
    "print('The performance of the long-only model from day one is: $%.2f' %(model_template.iloc[-1]['close_price'] - model_template.iloc[0]['open_price']))"
   ]
  },
  {
   "cell_type": "code",
   "execution_count": null,
   "metadata": {
    "colab": {
     "base_uri": "https://localhost:8080/",
     "height": 34
    },
    "colab_type": "code",
    "collapsed": false,
    "id": "be1J2gmiTemG",
    "jupyter": {
     "outputs_hidden": false
    },
    "outputId": "28010a58-a8c1-43ae-d6ff-200fc13eb876",
    "pycharm": {
     "name": "#%%\n"
    }
   },
   "outputs": [],
   "source": [
    "print ('Total time for the script:',(datetime.now() - startTimeScript))"
   ]
  }
 ],
 "metadata": {
  "colab": {
   "collapsed_sections": [],
   "name": "py_algotrading_ema_crossover_grid_search.ipynb",
   "provenance": []
  },
  "kernelspec": {
   "display_name": "Python 3",
   "language": "python",
   "name": "python3"
  },
  "language_info": {
   "codemirror_mode": {
    "name": "ipython",
    "version": 3
   },
   "file_extension": ".py",
   "mimetype": "text/x-python",
   "name": "python",
   "nbconvert_exporter": "python",
   "pygments_lexer": "ipython3",
   "version": "3.7.6"
  }
 },
 "nbformat": 4,
 "nbformat_minor": 4
}