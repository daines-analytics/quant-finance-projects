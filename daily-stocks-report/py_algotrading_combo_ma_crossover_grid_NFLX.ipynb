{
 "cells": [
  {
   "cell_type": "markdown",
   "metadata": {
    "colab_type": "text",
    "id": "nn0Ld1RjTekC"
   },
   "source": [
    "# Algorithmic Trading Model for Combo Moving Average Crossover Grid Search\n",
    "### July 28, 2020\n"
   ]
  },
  {
   "cell_type": "markdown",
   "metadata": {
    "colab_type": "text",
    "id": "-DieEv9pTekE"
   },
   "source": [
    "## Task 1. Prepare Environment"
   ]
  },
  {
   "cell_type": "code",
   "execution_count": 1,
   "metadata": {
    "colab": {},
    "colab_type": "code",
    "collapsed": false,
    "id": "8IwyGxxuTekE",
    "jupyter": {
     "outputs_hidden": false
    },
    "pycharm": {
     "name": "#%%\n"
    }
   },
   "outputs": [],
   "source": [
    "import os\n",
    "import sys\n",
    "import numpy as np\n",
    "import pandas as pd\n",
    "import requests\n",
    "import json\n",
    "import matplotlib.pyplot as plt\n",
    "from datetime import datetime, timedelta\n",
    "from dotenv import load_dotenv"
   ]
  },
  {
   "cell_type": "code",
   "execution_count": 2,
   "metadata": {
    "colab": {
     "base_uri": "https://localhost:8080/",
     "height": 51
    },
    "colab_type": "code",
    "collapsed": false,
    "id": "Zagik25QTekS",
    "jupyter": {
     "outputs_hidden": false
    },
    "outputId": "d14332ba-63ec-4224-ca13-c4ecdab3541a",
    "pycharm": {
     "name": "#%%\n"
    }
   },
   "outputs": [
    {
     "name": "stdout",
     "output_type": "stream",
     "text": [
      "Starting date for the model: 2019-01-01 00:00:00\n",
      "Ending date for the model: 2020-07-29 02:09:50.794850\n"
     ]
    }
   ],
   "source": [
    "stock_symbol = 'NFLX'\n",
    "initial_capital = 0\n",
    "\n",
    "# Specify the moving average parameters for the trading strategy\n",
    "fast_ema_min = 5\n",
    "fast_ema_max = 20\n",
    "slow_ema_min = 10\n",
    "slow_ema_max = 50\n",
    "fast_sma_min = 5\n",
    "fast_sma_max = 20\n",
    "slow_sma_min = 10\n",
    "slow_sma_max = 50\n",
    "ma_increment = 5\n",
    "min_ma_gap = 5\n",
    "\n",
    "# The number of extra days of data we need (usually equals to the larger of slow_ema or slow_sma)\n",
    "extra_days_data = 50\n",
    "\n",
    "model_start_date = datetime(2019, 1, 1)\n",
    "print(\"Starting date for the model:\", model_start_date)\n",
    "stock_start_date = model_start_date - timedelta(days=int(extra_days_data*1.5)) # Need more pricing data to calculate moving averages\n",
    "\n",
    "model_end_date = datetime.now()\n",
    "# model_end_date = datetime(2020, 6, 30)\n",
    "print(\"Ending date for the model:\", model_end_date)"
   ]
  },
  {
   "cell_type": "code",
   "execution_count": 3,
   "metadata": {
    "colab": {
     "base_uri": "https://localhost:8080/",
     "height": 34
    },
    "colab_type": "code",
    "collapsed": false,
    "id": "aTI50KL9TekN",
    "jupyter": {
     "outputs_hidden": false
    },
    "outputId": "68f4a687-6e33-48e5-ef46-c23d7994bc3e",
    "pycharm": {
     "name": "#%%\n"
    }
   },
   "outputs": [],
   "source": [
    "# Begin the timer for the script processing\n",
    "startTimeScript = datetime.now()\n",
    "\n",
    "# Set up the verbose flag to print detailed messages for debugging (setting True will activate!)\n",
    "verbose_models = False\n",
    "verbose_graphs = False\n",
    "verbose_portfolios = False\n",
    "\n",
    "# Set up the sendNotification flag to send progress emails (setting True will send emails!)\n",
    "notifyStatus = False\n",
    "\n",
    "# Set up the parent directory location for loading the dotenv files\n",
    "useColab = False\n",
    "if useColab:\n",
    "    # Mount Google Drive locally for storing files\n",
    "    from google.colab import drive\n",
    "    drive.mount('/content/gdrive')\n",
    "    gdrivePrefix = '/content/gdrive/My Drive/Colab_Downloads/'\n",
    "    env_path = '/content/gdrive/My Drive/Colab Notebooks/'\n",
    "    dotenv_path = env_path + \"python_script.env\"\n",
    "    load_dotenv(dotenv_path=dotenv_path)\n",
    "\n",
    "# Set up the dotenv file for retrieving environment variables\n",
    "useLocalPC = True\n",
    "if useLocalPC:\n",
    "    env_path = \"/Users/david/PycharmProjects/\"\n",
    "    dotenv_path = env_path + \"python_script.env\"\n",
    "    load_dotenv(dotenv_path=dotenv_path)\n",
    "\n",
    "# Configure the plotting style\n",
    "plt.style.use('seaborn')\n",
    "\n",
    "# Set Pandas options\n",
    "pd.set_option(\"display.max_rows\", None)\n",
    "pd.set_option(\"display.max_columns\", None)\n",
    "pd.set_option(\"display.width\", 140)"
   ]
  },
  {
   "cell_type": "markdown",
   "metadata": {
    "colab_type": "text",
    "id": "Xa51FMY_TekZ"
   },
   "source": [
    "## Task 2. Acquire and Pre-Process Data"
   ]
  },
  {
   "cell_type": "code",
   "execution_count": 4,
   "metadata": {
    "colab": {},
    "colab_type": "code",
    "collapsed": false,
    "id": "Og9L0byuTekd",
    "jupyter": {
     "outputs_hidden": false
    },
    "pycharm": {
     "name": "#%%\n"
    }
   },
   "outputs": [],
   "source": [
    "# Check and see whether the API key is available\n",
    "quandl_key = os.environ.get('QUANDL_API')\n",
    "if quandl_key is None: sys.exit(\"API key for Quandl not available. Script Processing Aborted!!!\")"
   ]
  },
  {
   "cell_type": "code",
   "execution_count": 5,
   "metadata": {
    "colab": {},
    "colab_type": "code",
    "collapsed": false,
    "id": "Vx4DZ7UbTekg",
    "jupyter": {
     "outputs_hidden": false
    },
    "pycharm": {
     "name": "#%%\n"
    }
   },
   "outputs": [],
   "source": [
    "start_date_string = stock_start_date.strftime('%Y-%m-%d')\n",
    "end_date_string = model_end_date.strftime('%Y-%m-%d')\n",
    "\n",
    "quandl_url = \"https://www.quandl.com/api/v3/datatables/SHARADAR/SEP.json?date.gte=%s&date.lte=%s&ticker=%s&api_key=%s\" % (start_date_string, end_date_string, stock_symbol, quandl_key)"
   ]
  },
  {
   "cell_type": "code",
   "execution_count": 6,
   "metadata": {
    "colab": {
     "base_uri": "https://localhost:8080/",
     "height": 34
    },
    "colab_type": "code",
    "collapsed": false,
    "id": "zdbEhMn8Tekj",
    "jupyter": {
     "outputs_hidden": false
    },
    "outputId": "c52a8b39-0a15-4b5a-c2d7-4359b519573d",
    "pycharm": {
     "name": "#%%\n"
    }
   },
   "outputs": [
    {
     "name": "stdout",
     "output_type": "stream",
     "text": [
      "446 data points retrieved from the API call.\n"
     ]
    }
   ],
   "source": [
    "response = requests.get(quandl_url)\n",
    "quandl_dict = json.loads(response.text)\n",
    "stock_quandl = pd.DataFrame(quandl_dict['datatable']['data'])\n",
    "print(len(stock_quandl), 'data points retrieved from the API call.')"
   ]
  },
  {
   "cell_type": "code",
   "execution_count": 7,
   "metadata": {
    "colab": {
     "base_uri": "https://localhost:8080/",
     "height": 306
    },
    "colab_type": "code",
    "collapsed": false,
    "id": "5ybXsZl1Tekl",
    "jupyter": {
     "outputs_hidden": false
    },
    "outputId": "2ecb3706-3631-40df-d26e-cb13ffec5fa4",
    "pycharm": {
     "name": "#%%\n"
    }
   },
   "outputs": [
    {
     "name": "stdout",
     "output_type": "stream",
     "text": [
      "<class 'pandas.core.frame.DataFrame'>\n",
      "DatetimeIndex: 446 entries, 2018-10-18 to 2020-07-28\n",
      "Data columns (total 10 columns):\n",
      " #   Column       Non-Null Count  Dtype  \n",
      "---  ------       --------------  -----  \n",
      " 0   ticker       446 non-null    object \n",
      " 1   date         446 non-null    object \n",
      " 2   open         446 non-null    float64\n",
      " 3   high         446 non-null    float64\n",
      " 4   low          446 non-null    float64\n",
      " 5   close        446 non-null    float64\n",
      " 6   volume       446 non-null    float64\n",
      " 7   dividend     446 non-null    float64\n",
      " 8   closeunadj   446 non-null    float64\n",
      " 9   lastupdated  446 non-null    object \n",
      "dtypes: float64(7), object(3)\n",
      "memory usage: 38.3+ KB\n"
     ]
    }
   ],
   "source": [
    "stock_quandl.columns = ['ticker', 'date', 'open', 'high', 'low', 'close', 'volume', 'dividend', 'closeunadj', 'lastupdated']\n",
    "# stock_quandl.set_index('date', inplace=True)\n",
    "stock_quandl.index = pd.to_datetime(stock_quandl.date)\n",
    "stock_quandl = stock_quandl.sort_index(ascending=True)\n",
    "stock_quandl.info()"
   ]
  },
  {
   "cell_type": "code",
   "execution_count": 8,
   "metadata": {
    "colab": {
     "base_uri": "https://localhost:8080/",
     "height": 235
    },
    "colab_type": "code",
    "collapsed": false,
    "id": "GzN1_13bTeko",
    "jupyter": {
     "outputs_hidden": false
    },
    "outputId": "c113bf72-655c-46a1-ee6d-36b236404897",
    "pycharm": {
     "name": "#%%\n"
    }
   },
   "outputs": [
    {
     "data": {
      "text/html": [
       "<div>\n",
       "<style scoped>\n",
       "    .dataframe tbody tr th:only-of-type {\n",
       "        vertical-align: middle;\n",
       "    }\n",
       "\n",
       "    .dataframe tbody tr th {\n",
       "        vertical-align: top;\n",
       "    }\n",
       "\n",
       "    .dataframe thead th {\n",
       "        text-align: right;\n",
       "    }\n",
       "</style>\n",
       "<table border=\"1\" class=\"dataframe\">\n",
       "  <thead>\n",
       "    <tr style=\"text-align: right;\">\n",
       "      <th></th>\n",
       "      <th>ticker</th>\n",
       "      <th>date</th>\n",
       "      <th>open</th>\n",
       "      <th>high</th>\n",
       "      <th>low</th>\n",
       "      <th>close</th>\n",
       "      <th>volume</th>\n",
       "      <th>dividend</th>\n",
       "      <th>closeunadj</th>\n",
       "      <th>lastupdated</th>\n",
       "    </tr>\n",
       "    <tr>\n",
       "      <th>date</th>\n",
       "      <th></th>\n",
       "      <th></th>\n",
       "      <th></th>\n",
       "      <th></th>\n",
       "      <th></th>\n",
       "      <th></th>\n",
       "      <th></th>\n",
       "      <th></th>\n",
       "      <th></th>\n",
       "      <th></th>\n",
       "    </tr>\n",
       "  </thead>\n",
       "  <tbody>\n",
       "    <tr>\n",
       "      <th>2018-10-18</th>\n",
       "      <td>NFLX</td>\n",
       "      <td>2018-10-18</td>\n",
       "      <td>360.673</td>\n",
       "      <td>362.20</td>\n",
       "      <td>346.05</td>\n",
       "      <td>346.71</td>\n",
       "      <td>18461040.0</td>\n",
       "      <td>0.0</td>\n",
       "      <td>346.71</td>\n",
       "      <td>2020-05-01</td>\n",
       "    </tr>\n",
       "    <tr>\n",
       "      <th>2018-10-19</th>\n",
       "      <td>NFLX</td>\n",
       "      <td>2018-10-19</td>\n",
       "      <td>351.000</td>\n",
       "      <td>355.80</td>\n",
       "      <td>332.20</td>\n",
       "      <td>332.67</td>\n",
       "      <td>16717233.0</td>\n",
       "      <td>0.0</td>\n",
       "      <td>332.67</td>\n",
       "      <td>2020-05-01</td>\n",
       "    </tr>\n",
       "    <tr>\n",
       "      <th>2018-10-22</th>\n",
       "      <td>NFLX</td>\n",
       "      <td>2018-10-22</td>\n",
       "      <td>333.100</td>\n",
       "      <td>335.80</td>\n",
       "      <td>320.34</td>\n",
       "      <td>329.54</td>\n",
       "      <td>17097175.0</td>\n",
       "      <td>0.0</td>\n",
       "      <td>329.54</td>\n",
       "      <td>2020-05-01</td>\n",
       "    </tr>\n",
       "    <tr>\n",
       "      <th>2018-10-23</th>\n",
       "      <td>NFLX</td>\n",
       "      <td>2018-10-23</td>\n",
       "      <td>318.000</td>\n",
       "      <td>336.58</td>\n",
       "      <td>316.77</td>\n",
       "      <td>333.16</td>\n",
       "      <td>14907326.0</td>\n",
       "      <td>0.0</td>\n",
       "      <td>333.16</td>\n",
       "      <td>2020-05-01</td>\n",
       "    </tr>\n",
       "    <tr>\n",
       "      <th>2018-10-24</th>\n",
       "      <td>NFLX</td>\n",
       "      <td>2018-10-24</td>\n",
       "      <td>332.280</td>\n",
       "      <td>333.00</td>\n",
       "      <td>300.73</td>\n",
       "      <td>301.83</td>\n",
       "      <td>19039297.0</td>\n",
       "      <td>0.0</td>\n",
       "      <td>301.83</td>\n",
       "      <td>2020-05-01</td>\n",
       "    </tr>\n",
       "  </tbody>\n",
       "</table>\n",
       "</div>"
      ],
      "text/plain": [
       "           ticker        date     open    high     low   close      volume  dividend  closeunadj lastupdated\n",
       "date                                                                                                        \n",
       "2018-10-18   NFLX  2018-10-18  360.673  362.20  346.05  346.71  18461040.0       0.0      346.71  2020-05-01\n",
       "2018-10-19   NFLX  2018-10-19  351.000  355.80  332.20  332.67  16717233.0       0.0      332.67  2020-05-01\n",
       "2018-10-22   NFLX  2018-10-22  333.100  335.80  320.34  329.54  17097175.0       0.0      329.54  2020-05-01\n",
       "2018-10-23   NFLX  2018-10-23  318.000  336.58  316.77  333.16  14907326.0       0.0      333.16  2020-05-01\n",
       "2018-10-24   NFLX  2018-10-24  332.280  333.00  300.73  301.83  19039297.0       0.0      301.83  2020-05-01"
      ]
     },
     "execution_count": 8,
     "metadata": {},
     "output_type": "execute_result"
    }
   ],
   "source": [
    "stock_quandl.head()"
   ]
  },
  {
   "cell_type": "code",
   "execution_count": 9,
   "metadata": {
    "colab": {
     "base_uri": "https://localhost:8080/",
     "height": 235
    },
    "colab_type": "code",
    "collapsed": false,
    "id": "T7jmDLccTeks",
    "jupyter": {
     "outputs_hidden": false
    },
    "outputId": "4c47d9b0-b8d7-4a64-c05b-300169b85925",
    "pycharm": {
     "name": "#%%\n"
    }
   },
   "outputs": [
    {
     "data": {
      "text/html": [
       "<div>\n",
       "<style scoped>\n",
       "    .dataframe tbody tr th:only-of-type {\n",
       "        vertical-align: middle;\n",
       "    }\n",
       "\n",
       "    .dataframe tbody tr th {\n",
       "        vertical-align: top;\n",
       "    }\n",
       "\n",
       "    .dataframe thead th {\n",
       "        text-align: right;\n",
       "    }\n",
       "</style>\n",
       "<table border=\"1\" class=\"dataframe\">\n",
       "  <thead>\n",
       "    <tr style=\"text-align: right;\">\n",
       "      <th></th>\n",
       "      <th>ticker</th>\n",
       "      <th>date</th>\n",
       "      <th>open</th>\n",
       "      <th>high</th>\n",
       "      <th>low</th>\n",
       "      <th>close</th>\n",
       "      <th>volume</th>\n",
       "      <th>dividend</th>\n",
       "      <th>closeunadj</th>\n",
       "      <th>lastupdated</th>\n",
       "    </tr>\n",
       "    <tr>\n",
       "      <th>date</th>\n",
       "      <th></th>\n",
       "      <th></th>\n",
       "      <th></th>\n",
       "      <th></th>\n",
       "      <th></th>\n",
       "      <th></th>\n",
       "      <th></th>\n",
       "      <th></th>\n",
       "      <th></th>\n",
       "      <th></th>\n",
       "    </tr>\n",
       "  </thead>\n",
       "  <tbody>\n",
       "    <tr>\n",
       "      <th>2020-07-22</th>\n",
       "      <td>NFLX</td>\n",
       "      <td>2020-07-22</td>\n",
       "      <td>492.19</td>\n",
       "      <td>497.200</td>\n",
       "      <td>487.20</td>\n",
       "      <td>489.82</td>\n",
       "      <td>6834839.0</td>\n",
       "      <td>0.0</td>\n",
       "      <td>489.82</td>\n",
       "      <td>2020-07-22</td>\n",
       "    </tr>\n",
       "    <tr>\n",
       "      <th>2020-07-23</th>\n",
       "      <td>NFLX</td>\n",
       "      <td>2020-07-23</td>\n",
       "      <td>491.13</td>\n",
       "      <td>491.900</td>\n",
       "      <td>472.02</td>\n",
       "      <td>477.58</td>\n",
       "      <td>7722034.0</td>\n",
       "      <td>0.0</td>\n",
       "      <td>477.58</td>\n",
       "      <td>2020-07-23</td>\n",
       "    </tr>\n",
       "    <tr>\n",
       "      <th>2020-07-24</th>\n",
       "      <td>NFLX</td>\n",
       "      <td>2020-07-24</td>\n",
       "      <td>468.77</td>\n",
       "      <td>487.170</td>\n",
       "      <td>467.54</td>\n",
       "      <td>480.45</td>\n",
       "      <td>7746247.0</td>\n",
       "      <td>0.0</td>\n",
       "      <td>480.45</td>\n",
       "      <td>2020-07-24</td>\n",
       "    </tr>\n",
       "    <tr>\n",
       "      <th>2020-07-27</th>\n",
       "      <td>NFLX</td>\n",
       "      <td>2020-07-27</td>\n",
       "      <td>484.51</td>\n",
       "      <td>496.920</td>\n",
       "      <td>482.31</td>\n",
       "      <td>495.65</td>\n",
       "      <td>7800691.0</td>\n",
       "      <td>0.0</td>\n",
       "      <td>495.65</td>\n",
       "      <td>2020-07-27</td>\n",
       "    </tr>\n",
       "    <tr>\n",
       "      <th>2020-07-28</th>\n",
       "      <td>NFLX</td>\n",
       "      <td>2020-07-28</td>\n",
       "      <td>496.02</td>\n",
       "      <td>497.793</td>\n",
       "      <td>487.76</td>\n",
       "      <td>488.51</td>\n",
       "      <td>5963892.0</td>\n",
       "      <td>0.0</td>\n",
       "      <td>488.51</td>\n",
       "      <td>2020-07-28</td>\n",
       "    </tr>\n",
       "  </tbody>\n",
       "</table>\n",
       "</div>"
      ],
      "text/plain": [
       "           ticker        date    open     high     low   close     volume  dividend  closeunadj lastupdated\n",
       "date                                                                                                       \n",
       "2020-07-22   NFLX  2020-07-22  492.19  497.200  487.20  489.82  6834839.0       0.0      489.82  2020-07-22\n",
       "2020-07-23   NFLX  2020-07-23  491.13  491.900  472.02  477.58  7722034.0       0.0      477.58  2020-07-23\n",
       "2020-07-24   NFLX  2020-07-24  468.77  487.170  467.54  480.45  7746247.0       0.0      480.45  2020-07-24\n",
       "2020-07-27   NFLX  2020-07-27  484.51  496.920  482.31  495.65  7800691.0       0.0      495.65  2020-07-27\n",
       "2020-07-28   NFLX  2020-07-28  496.02  497.793  487.76  488.51  5963892.0       0.0      488.51  2020-07-28"
      ]
     },
     "execution_count": 9,
     "metadata": {},
     "output_type": "execute_result"
    }
   ],
   "source": [
    "stock_quandl.tail()"
   ]
  },
  {
   "cell_type": "code",
   "execution_count": 10,
   "metadata": {
    "colab": {
     "base_uri": "https://localhost:8080/",
     "height": 535
    },
    "colab_type": "code",
    "collapsed": false,
    "id": "Tfuu40coTekv",
    "jupyter": {
     "outputs_hidden": false
    },
    "outputId": "2357753d-6c83-46ad-e8cc-8593497d20ff",
    "pycharm": {
     "name": "#%%\n"
    }
   },
   "outputs": [
    {
     "data": {
      "image/png": "[encoded data removed]",
      "text/plain": [
       "<Figure size 1152x648 with 1 Axes>"
      ]
     },
     "metadata": {},
     "output_type": "display_data"
    }
   ],
   "source": [
    "quandl_title = 'Quandl Historical Stock Information for ' + stock_symbol\n",
    "stock_quandl['close'].plot(figsize=(16,9), title=quandl_title)\n",
    "plt.show()"
   ]
  },
  {
   "cell_type": "markdown",
   "metadata": {
    "colab_type": "text",
    "id": "UKNJYDlGTek0"
   },
   "source": [
    "## Task 3. Develop Strategy and Train Model"
   ]
  },
  {
   "cell_type": "markdown",
   "metadata": {
    "colab_type": "text",
    "id": "zUtaaGbgTek3"
   },
   "source": [
    "### 3.a) Set up the Dataframe for the Trading Model"
   ]
  },
  {
   "cell_type": "code",
   "execution_count": 11,
   "metadata": {
    "colab": {
     "base_uri": "https://localhost:8080/",
     "height": 170
    },
    "colab_type": "code",
    "collapsed": false,
    "id": "dGpN7bg-Tek3",
    "jupyter": {
     "outputs_hidden": false
    },
    "outputId": "60f23809-9c25-44bd-dcbc-82c93777493d",
    "pycharm": {
     "name": "#%%\n"
    }
   },
   "outputs": [
    {
     "name": "stdout",
     "output_type": "stream",
     "text": [
      "<class 'pandas.core.frame.DataFrame'>\n",
      "DatetimeIndex: 446 entries, 2018-10-18 to 2020-07-28\n",
      "Data columns (total 2 columns):\n",
      " #   Column       Non-Null Count  Dtype  \n",
      "---  ------       --------------  -----  \n",
      " 0   open_price   446 non-null    float64\n",
      " 1   close_price  446 non-null    float64\n",
      "dtypes: float64(2)\n",
      "memory usage: 10.5 KB\n"
     ]
    }
   ],
   "source": [
    "# Set up the standard column name for modeling\n",
    "model_template = stock_quandl.loc[:, ['open','close']]\n",
    "model_template.rename(columns={'open': 'open_price', 'close': 'close_price'}, inplace=True)\n",
    "model_template.info()"
   ]
  },
  {
   "cell_type": "markdown",
   "metadata": {
    "colab_type": "text",
    "id": "v-3ecix6Tek_"
   },
   "source": [
    "### 3.b) Set up the Analysis Table with Indicators"
   ]
  },
  {
   "cell_type": "code",
   "execution_count": 12,
   "metadata": {
    "colab": {},
    "colab_type": "code",
    "collapsed": false,
    "id": "yfQTRXPnTelA",
    "jupyter": {
     "outputs_hidden": false
    },
    "pycharm": {
     "name": "#%%\n"
    }
   },
   "outputs": [],
   "source": [
    "# Define the functions that will generate the trading signals based on the different MA curves used\n",
    "\n",
    "def ema_only_crossover(model):\n",
    "    wait_for_entry = True\n",
    "    for x in range(len(model)):\n",
    "        if model['ema_change'].iloc[x] > 0:\n",
    "            model['trade_signal'].iloc[x] = 1  # trade_signal = 1 means we should enter into a long position\n",
    "        else:\n",
    "            model['trade_signal'].iloc[x] = 0  # trade_signal = 0 means we should exit the long position\n",
    "        if x != 0:\n",
    "            model['signal_change'].iloc[x] = model['trade_signal'].iloc[x] - model['trade_signal'].iloc[x-1]\n",
    "            if wait_for_entry and (model['signal_change'].iloc[x-1] == 1):\n",
    "                model['entry_exit'].iloc[x] = model['signal_change'].iloc[x-1]\n",
    "                wait_for_entry = False\n",
    "            elif (not wait_for_entry) and (model['signal_change'].iloc[x-1] != 0):\n",
    "                model['entry_exit'].iloc[x] = model['signal_change'].iloc[x-1]\n",
    "\n",
    "def sma_only_crossover(model):\n",
    "    wait_for_entry = True\n",
    "    for x in range(len(model)):\n",
    "        if model['sma_change'].iloc[x] > 0:\n",
    "            model['trade_signal'].iloc[x] = 1  # trade_signal = 1 means we should enter into a long position\n",
    "        else:\n",
    "            model['trade_signal'].iloc[x] = 0  # trade_signal = 0 means we should exit the long position\n",
    "        if x != 0:\n",
    "            model['signal_change'].iloc[x] = model['trade_signal'].iloc[x] - model['trade_signal'].iloc[x-1]\n",
    "            if wait_for_entry and (model['signal_change'].iloc[x-1] == 1):\n",
    "                model['entry_exit'].iloc[x] = model['signal_change'].iloc[x-1]\n",
    "                wait_for_entry = False\n",
    "            elif (not wait_for_entry) and (model['signal_change'].iloc[x-1] != 0):\n",
    "                model['entry_exit'].iloc[x] = model['signal_change'].iloc[x-1]"
   ]
  },
  {
   "cell_type": "code",
   "execution_count": 13,
   "metadata": {
    "colab": {
     "base_uri": "https://localhost:8080/",
     "height": 1000
    },
    "colab_type": "code",
    "collapsed": false,
    "id": "8M4khYD7TelG",
    "jupyter": {
     "outputs_hidden": false
    },
    "outputId": "05f4cf43-5ebd-4654-9806-00894118795f",
    "pycharm": {
     "name": "#%%\n"
    }
   },
   "outputs": [
    {
     "name": "stdout",
     "output_type": "stream",
     "text": [
      "30 EMA only models generated!\n",
      "\n",
      "30 SMA only models generated!\n"
     ]
    }
   ],
   "source": [
    "# Processing models using only the EMA curves\n",
    "ema_model_collection = {}\n",
    "serial_number = 1\n",
    "for slow_ma in range(slow_ema_min, slow_ema_max+1, ma_increment):\n",
    "    for fast_ma in range(fast_ema_min, fast_ema_max+1, ma_increment):\n",
    "        if (slow_ma - fast_ma) < min_ma_gap: break\n",
    "        if verbose_models: print('Processing EMA model with slow_ema of', slow_ma, 'and fast_ema of', fast_ma)\n",
    "        model_tag = 'EMA_' + str(serial_number).zfill(3) + '_SlowEMA_' + str(slow_ma).zfill(3) + '_FastEMA_' + str(fast_ma).zfill(3)\n",
    "        serial_number = serial_number + 1\n",
    "        trading_model = model_template.copy()\n",
    "        trading_model['fast_ema'] = trading_model['close_price'].ewm(span=fast_ma).mean()\n",
    "        trading_model['slow_ema'] = trading_model['close_price'].ewm(span=slow_ma).mean()\n",
    "        trading_model['ema_change'] = trading_model['fast_ema'] - trading_model['slow_ema']\n",
    "        trading_model['fast_sma'] = trading_model['close_price'].rolling(fast_ma).mean()\n",
    "        trading_model['slow_sma'] = trading_model['close_price'].rolling(slow_ma).mean()\n",
    "        trading_model['sma_change'] = trading_model['fast_sma'] - trading_model['slow_sma']\n",
    "        trading_model['fastema_slowsma_chg'] = trading_model['fast_ema'] - trading_model['slow_sma']\n",
    "        trading_model['fastsma_slowema_chg'] = trading_model['fast_sma'] - trading_model['slow_ema']\n",
    "        trading_model['trade_signal'] = np.zeros(len(trading_model))\n",
    "        trading_model['signal_change'] = np.zeros(len(trading_model))\n",
    "        trading_model['entry_exit'] = np.zeros(len(trading_model))\n",
    "        trading_model = trading_model[model_start_date:model_end_date]\n",
    "        ema_only_crossover(trading_model)\n",
    "        ema_model_collection[model_tag] = trading_model.copy()\n",
    "        if verbose_models: print('Model', model_tag, 'added to the trading model collection.')\n",
    "print(serial_number-1, 'EMA only models generated!')\n",
    "\n",
    "# Processing models using only the SMA curves\n",
    "print()\n",
    "sma_model_collection = {}\n",
    "serial_number = 1\n",
    "for slow_ma in range(slow_sma_min, slow_sma_max+1, ma_increment):\n",
    "    for fast_ma in range(fast_sma_min, fast_sma_max+1, ma_increment):\n",
    "        if (slow_ma - fast_ma) < min_ma_gap: break\n",
    "        if verbose_models: print('Processing EMA model with slow_ema of', slow_ma, 'and fast_ema of', fast_ma)\n",
    "        model_tag = 'SMA_' + str(serial_number).zfill(3) + '_SlowSMA_' + str(slow_ma).zfill(3) + '_FastSMA_' + str(fast_ma).zfill(3)\n",
    "        serial_number = serial_number + 1\n",
    "        trading_model = model_template.copy()\n",
    "        trading_model['fast_ema'] = trading_model['close_price'].ewm(span=fast_ma).mean()\n",
    "        trading_model['slow_ema'] = trading_model['close_price'].ewm(span=slow_ma).mean()\n",
    "        trading_model['ema_change'] = trading_model['fast_ema'] - trading_model['slow_ema']\n",
    "        trading_model['fast_sma'] = trading_model['close_price'].rolling(fast_ma).mean()\n",
    "        trading_model['slow_sma'] = trading_model['close_price'].rolling(slow_ma).mean()\n",
    "        trading_model['sma_change'] = trading_model['fast_sma'] - trading_model['slow_sma']\n",
    "        trading_model['fastema_slowsma_chg'] = trading_model['fast_ema'] - trading_model['slow_sma']\n",
    "        trading_model['fastsma_slowema_chg'] = trading_model['fast_sma'] - trading_model['slow_ema']\n",
    "        trading_model['trade_signal'] = np.zeros(len(trading_model))\n",
    "        trading_model['signal_change'] = np.zeros(len(trading_model))\n",
    "        trading_model['entry_exit'] = np.zeros(len(trading_model))\n",
    "        trading_model = trading_model[model_start_date:model_end_date]\n",
    "        sma_only_crossover(trading_model)\n",
    "        sma_model_collection[model_tag] = trading_model.copy()\n",
    "        if verbose_models: print('Model', model_tag, 'added to the trading model collection.')\n",
    "print(serial_number-1, 'SMA only models generated!')"
   ]
  },
  {
   "cell_type": "code",
   "execution_count": 14,
   "metadata": {
    "colab": {
     "base_uri": "https://localhost:8080/",
     "height": 1000
    },
    "colab_type": "code",
    "collapsed": false,
    "id": "327CZKmtTelL",
    "jupyter": {
     "outputs_hidden": false
    },
    "outputId": "b353b49d-0281-4aa7-a530-6747c166eae5",
    "pycharm": {
     "name": "#%%\n"
    }
   },
   "outputs": [],
   "source": [
    "# List the entry/exit points for each model\n",
    "def list_model_entry_exit(model_collection):\n",
    "    for model_name in model_collection:\n",
    "        print('List the signal change and entry/exit points for', model_name)\n",
    "        print(model_collection[model_name][(model_collection[model_name].signal_change != 0) | (model_collection[model_name].entry_exit != 0)])\n",
    "        print()"
   ]
  },
  {
   "cell_type": "code",
   "execution_count": 15,
   "metadata": {
    "collapsed": false,
    "jupyter": {
     "outputs_hidden": false
    },
    "pycharm": {
     "name": "#%%\n"
    }
   },
   "outputs": [],
   "source": [
    "if verbose_models: list_model_entry_exit(ema_model_collection)"
   ]
  },
  {
   "cell_type": "code",
   "execution_count": 16,
   "metadata": {
    "collapsed": false,
    "jupyter": {
     "outputs_hidden": false
    },
    "pycharm": {
     "name": "#%%\n"
    }
   },
   "outputs": [],
   "source": [
    "if verbose_models: list_model_entry_exit(sma_model_collection)"
   ]
  },
  {
   "cell_type": "code",
   "execution_count": 17,
   "metadata": {
    "colab": {
     "base_uri": "https://localhost:8080/",
     "height": 1000
    },
    "colab_type": "code",
    "collapsed": false,
    "id": "XEyJXVxcTelS",
    "jupyter": {
     "outputs_hidden": false
    },
    "outputId": "c74ac3e9-fbd3-4e73-8294-f12d0cce88dc",
    "pycharm": {
     "name": "#%%\n"
    }
   },
   "outputs": [],
   "source": [
    "def draw_model_graphs(model_name, trade_model, fast_ma_curve='fast_ema', slow_ma_curve='slow_ema'):\n",
    "    graph_data = trade_model.copy()\n",
    "    title_string = \"Moving Average Crossover Model for \" + model_name\n",
    "    fig = plt.figure(figsize=(16,9))\n",
    "    ylabel = stock_symbol + ' price in $'\n",
    "    ax1 = fig.add_subplot(111, ylabel=ylabel, title=title_string)\n",
    "    graph_data[fast_ma_curve].plot(ax=ax1, color='b', lw=2.)\n",
    "    graph_data[slow_ma_curve].plot(ax=ax1, color='r', lw=2.)\n",
    "    graph_data['close_price'].plot(ax=ax1, color='g')\n",
    "    ax1.plot(graph_data.loc[graph_data.entry_exit == 1].index, graph_data.close_price[graph_data.entry_exit == 1], '^', markersize=7, color='k',label='buy')\n",
    "    ax1.plot(graph_data.loc[graph_data.entry_exit == -1].index, graph_data.close_price[graph_data.entry_exit == -1], 'v', markersize=7, color='k',label='sell')\n",
    "    plt.legend(loc='upper left')\n",
    "    plt.show()"
   ]
  },
  {
   "cell_type": "code",
   "execution_count": 18,
   "metadata": {
    "collapsed": false,
    "jupyter": {
     "outputs_hidden": false
    },
    "pycharm": {
     "name": "#%%\n"
    }
   },
   "outputs": [],
   "source": [
    "if verbose_graphs:\n",
    "    for tag in ema_model_collection:\n",
    "        draw_model_graphs(tag, ema_model_collection[tag], 'fast_ema', 'slow_ema')"
   ]
  },
  {
   "cell_type": "code",
   "execution_count": 19,
   "metadata": {
    "collapsed": false,
    "jupyter": {
     "outputs_hidden": false
    },
    "pycharm": {
     "name": "#%%\n"
    }
   },
   "outputs": [],
   "source": [
    "if verbose_graphs:\n",
    "    for tag in sma_model_collection:\n",
    "        draw_model_graphs(tag, sma_model_collection[tag], 'fast_sma', 'slow_sma')"
   ]
  },
  {
   "cell_type": "markdown",
   "metadata": {
    "colab_type": "text",
    "id": "wzTQaZkeTeld"
   },
   "source": [
    "## Task 4. Back-test Model"
   ]
  },
  {
   "cell_type": "code",
   "execution_count": 20,
   "metadata": {
    "colab": {},
    "colab_type": "code",
    "collapsed": false,
    "id": "Q1xZWksnTelr",
    "jupyter": {
     "outputs_hidden": false
    },
    "pycharm": {
     "name": "#%%\n"
    }
   },
   "outputs": [],
   "source": [
    "def trading_portfolio_generation(initial_fund, trade_model):\n",
    "    # Construct a portfolio to track the transactions and returns\n",
    "    portfolio = pd.DataFrame(index=trade_model.index, columns=['trade_action', 'qty_onhand', 'cost_basis', 'sold_transaction', 'gain_loss', 'cash_onhand', 'position_value', 'total_position', 'accumu_return'])\n",
    "    portfolio.iloc[0]['trade_action'] = 0\n",
    "    portfolio.iloc[0]['qty_onhand'] = 0\n",
    "    portfolio.iloc[0]['cost_basis'] = 0.00\n",
    "    portfolio.iloc[0]['sold_transaction'] = 0.00\n",
    "    portfolio.iloc[0]['gain_loss'] = 0.00\n",
    "    portfolio.iloc[0]['cash_onhand'] = initial_capital\n",
    "    portfolio.iloc[0]['position_value'] = 0.00\n",
    "    portfolio.iloc[0]['total_position'] = initial_capital\n",
    "    portfolio.iloc[0]['accumu_return'] = portfolio.iloc[0]['total_position'] - initial_fund\n",
    "    recent_cost = 0\n",
    "\n",
    "    # The conditional parameters below determine how the trading strategy will be carried out\n",
    "    for i in range(1, len(portfolio)):\n",
    "        if (trade_model.iloc[i]['entry_exit'] == 1) and (portfolio.iloc[i-1]['qty_onhand'] == 0):\n",
    "            portfolio.iloc[i]['trade_action'] = 1\n",
    "            portfolio.iloc[i]['qty_onhand'] = portfolio.iloc[i-1]['qty_onhand'] + portfolio.iloc[i]['trade_action']\n",
    "            portfolio.iloc[i]['cost_basis'] = trade_model.iloc[i]['open_price'] * portfolio.iloc[i]['trade_action']\n",
    "            portfolio.iloc[i]['sold_transaction'] = 0.00\n",
    "            portfolio.iloc[i]['gain_loss'] = 0.00\n",
    "            portfolio.iloc[i]['cash_onhand'] = portfolio.iloc[i-1]['cash_onhand'] - portfolio.iloc[i]['cost_basis']\n",
    "            recent_cost = trade_model.iloc[i]['open_price'] * portfolio.iloc[i]['trade_action']\n",
    "            if verbose_portfolios: print('BOUGHT QTY:', portfolio.iloc[i]['trade_action'], 'on', portfolio.index[i], 'at the price of', trade_model.iloc[i]['open_price'])\n",
    "        elif (trade_model.iloc[i]['entry_exit'] == -1) and (portfolio.iloc[i-1]['qty_onhand'] > 0):\n",
    "            portfolio.iloc[i]['trade_action'] = -1\n",
    "            portfolio.iloc[i]['qty_onhand'] = portfolio.iloc[i-1]['qty_onhand'] + portfolio.iloc[i]['trade_action']\n",
    "            portfolio.iloc[i]['cost_basis'] = 0.00\n",
    "            portfolio.iloc[i]['sold_transaction'] = trade_model.iloc[i]['open_price'] * portfolio.iloc[i]['trade_action'] * -1\n",
    "            portfolio.iloc[i]['gain_loss'] = (recent_cost + (trade_model.iloc[i]['open_price'] * portfolio.iloc[i]['trade_action'])) * -1\n",
    "            portfolio.iloc[i]['cash_onhand'] = portfolio.iloc[i-1]['cash_onhand'] + portfolio.iloc[i]['sold_transaction']\n",
    "            recent_cost = 0.00\n",
    "            if verbose_portfolios: print('SOLD QTY:', portfolio.iloc[i]['trade_action'], 'on', portfolio.index[i], 'at the price of', trade_model.iloc[i]['open_price'])\n",
    "        else:\n",
    "            portfolio.iloc[i]['trade_action'] = 0\n",
    "            portfolio.iloc[i]['qty_onhand'] = portfolio.iloc[i-1]['qty_onhand']\n",
    "            portfolio.iloc[i]['cost_basis'] = portfolio.iloc[i-1]['cost_basis']\n",
    "            portfolio.iloc[i]['sold_transaction'] = 0.00\n",
    "            portfolio.iloc[i]['gain_loss'] = 0.00\n",
    "            portfolio.iloc[i]['cash_onhand'] = portfolio.iloc[i-1]['cash_onhand']\n",
    "        portfolio.iloc[i]['position_value'] = trade_model.iloc[i]['close_price'] * portfolio.iloc[i]['qty_onhand']\n",
    "        portfolio.iloc[i]['total_position'] = portfolio.iloc[i]['cash_onhand'] + portfolio.iloc[i]['position_value']\n",
    "        portfolio.iloc[i]['accumu_return'] = portfolio.iloc[i]['total_position'] - initial_fund\n",
    "\n",
    "    return portfolio"
   ]
  },
  {
   "cell_type": "code",
   "execution_count": 21,
   "metadata": {
    "colab": {
     "base_uri": "https://localhost:8080/",
     "height": 1000
    },
    "colab_type": "code",
    "collapsed": false,
    "id": "mOsqVrfRTelw",
    "jupyter": {
     "outputs_hidden": false
    },
    "outputId": "17950f55-4566-48b2-dde6-0974c6e45966",
    "pycharm": {
     "name": "#%%\n"
    }
   },
   "outputs": [],
   "source": [
    "def generate_portfolio_and_performance(model_collection):\n",
    "    # Initialize a dictionary for tracking portfolios for all models\n",
    "    portfolio_collection = {}\n",
    "    # Initialize a dataframe for reporting model performance summary\n",
    "    performance_summary = pd.DataFrame(columns=['model_name','return_value','return_percent'])\n",
    "\n",
    "    for model_name in model_collection:\n",
    "        if verbose_portfolios: print('Processing portfolio for model:', model_name)\n",
    "        portfolio_collection[model_name] = trading_portfolio_generation(initial_capital, model_collection[model_name])\n",
    "        trade_transactions = portfolio_collection[model_name][portfolio_collection[model_name].trade_action != 0]\n",
    "        if verbose_portfolios: print(trade_transactions)\n",
    "        if verbose_portfolios: print('Accumulated profit/loss for one share of stock with initial capital of $%.0f at the end of modeling period: $%.2f' % (initial_capital, portfolio_collection[model_name].accumu_return[-1]))\n",
    "        if initial_capital != 0:\n",
    "            return_percentage = portfolio_collection[model_name].accumu_return[-1] / initial_capital * 100\n",
    "            if verbose_portfolios: print('Accumulated return percentage based on the initial capital investment: %.2f%%' % return_percentage)\n",
    "        else:\n",
    "            return_percentage = None\n",
    "        if trade_transactions.iloc[-1]['trade_action'] == 1:\n",
    "            if verbose_portfolios: print('The current status of the model is:', 'Holding a position since', trade_transactions.index.tolist()[-1], '\\n')\n",
    "        else:\n",
    "            if verbose_portfolios: print('The current status of the model is:', 'Waiting to enter since', trade_transactions.index.tolist()[-1], '\\n')\n",
    "        performance_summary = performance_summary.append({'model_name': model_name, 'return_value': portfolio_collection[model_name].accumu_return[-1], 'return_percent': return_percentage}, ignore_index=True)\n",
    "    performance_summary.sort_values(by=['return_value'], inplace=True, ascending=False)\n",
    "    return portfolio_collection, performance_summary"
   ]
  },
  {
   "cell_type": "code",
   "execution_count": 22,
   "metadata": {
    "collapsed": false,
    "jupyter": {
     "outputs_hidden": false
    },
    "pycharm": {
     "name": "#%%\n"
    }
   },
   "outputs": [
    {
     "name": "stdout",
     "output_type": "stream",
     "text": [
      "30 trading transaction portfolios generated.\n",
      "30 profit/loss performance summaries generated.\n"
     ]
    }
   ],
   "source": [
    "ema_portfolio_collection, ema_performance_summary = generate_portfolio_and_performance(ema_model_collection)\n",
    "print(len(ema_portfolio_collection), 'trading transaction portfolios generated.')\n",
    "print(len(ema_performance_summary), 'profit/loss performance summaries generated.')"
   ]
  },
  {
   "cell_type": "code",
   "execution_count": 23,
   "metadata": {
    "collapsed": false,
    "jupyter": {
     "outputs_hidden": false
    },
    "pycharm": {
     "name": "#%%\n"
    }
   },
   "outputs": [
    {
     "name": "stdout",
     "output_type": "stream",
     "text": [
      "30 trading transaction portfolios generated.\n",
      "30 profit/loss performance summaries generated.\n"
     ]
    }
   ],
   "source": [
    "sma_portfolio_collection, sma_performance_summary = generate_portfolio_and_performance(sma_model_collection)\n",
    "print(len(sma_portfolio_collection), 'trading transaction portfolios generated.')\n",
    "print(len(sma_performance_summary), 'profit/loss performance summaries generated.')"
   ]
  },
  {
   "cell_type": "code",
   "execution_count": 24,
   "metadata": {
    "collapsed": false,
    "jupyter": {
     "outputs_hidden": false
    },
    "pycharm": {
     "name": "#%%\n"
    }
   },
   "outputs": [
    {
     "name": "stdout",
     "output_type": "stream",
     "text": [
      "                         model_name  return_value return_percent\n",
      "22  EMA_023_SlowEMA_045_FastEMA_005        176.94           None\n",
      "26  EMA_027_SlowEMA_050_FastEMA_005        174.95           None\n",
      "15  EMA_016_SlowEMA_035_FastEMA_010        144.95           None\n",
      "18  EMA_019_SlowEMA_040_FastEMA_005        141.01           None\n",
      "19  EMA_020_SlowEMA_040_FastEMA_010        137.59           None\n"
     ]
    }
   ],
   "source": [
    "# Display the top models from EMA-only performance summary\n",
    "print(ema_performance_summary.head())"
   ]
  },
  {
   "cell_type": "code",
   "execution_count": 25,
   "metadata": {
    "colab": {
     "base_uri": "https://localhost:8080/",
     "height": 544
    },
    "colab_type": "code",
    "id": "7ErV8f-6Tely",
    "outputId": "79745f23-239b-43bc-ab91-4fde0a9947cb"
   },
   "outputs": [
    {
     "name": "stdout",
     "output_type": "stream",
     "text": [
      "                         model_name  return_value return_percent\n",
      "2   SMA_003_SlowSMA_015_FastSMA_010       129.525           None\n",
      "26  SMA_027_SlowSMA_050_FastSMA_005       128.230           None\n",
      "27  SMA_028_SlowSMA_050_FastSMA_010       124.280           None\n",
      "15  SMA_016_SlowSMA_035_FastSMA_010       118.451           None\n",
      "16  SMA_017_SlowSMA_035_FastSMA_015       107.510           None\n"
     ]
    }
   ],
   "source": [
    "# Display the top models from SMA-only performance summary\n",
    "print(sma_performance_summary.head())"
   ]
  },
  {
   "cell_type": "code",
   "execution_count": 26,
   "metadata": {
    "collapsed": false,
    "jupyter": {
     "outputs_hidden": false
    },
    "pycharm": {
     "name": "#%%\n"
    }
   },
   "outputs": [],
   "source": [
    "# Display the entry/exit signals and transactions from the top model\n",
    "def display_signals_transactions(model_name, portfolio_collection, model_collection):\n",
    "    cols_to_display = ['open_price','close_price','fast_ema','slow_ema','fast_sma','slow_sma','trade_signal','signal_change','entry_exit']\n",
    "    print('The transactions from the top model %s:' % model_name)\n",
    "    print(portfolio_collection[model_name][portfolio_collection[model_name].trade_action != 0])\n",
    "    print()\n",
    "    print('The trading signal changes from the top model %s:' % model_name)\n",
    "    print(model_collection[model_name][(model_collection[model_name].signal_change != 0) | (model_collection[model_name].entry_exit != 0)][cols_to_display])"
   ]
  },
  {
   "cell_type": "code",
   "execution_count": 27,
   "metadata": {
    "colab": {
     "base_uri": "https://localhost:8080/",
     "height": 561
    },
    "colab_type": "code",
    "id": "-4DC2gCYV-OE",
    "outputId": "1ab6d9f5-33ba-49b8-ae03-d072adf9142a"
   },
   "outputs": [
    {
     "name": "stdout",
     "output_type": "stream",
     "text": [
      "The transactions from the top model EMA_023_SlowEMA_045_FastEMA_005:\n",
      "           trade_action qty_onhand cost_basis sold_transaction gain_loss cash_onhand position_value total_position accumu_return\n",
      "date                                                                                                                            \n",
      "2019-01-07            1          1      302.1                0         0      -302.1         315.34          13.24         13.24\n",
      "2019-05-14           -1          0          0           348.71     46.61       46.61              0          46.61         46.61\n",
      "2019-06-21            1          1        365                0         0     -318.39         369.21          50.82         50.82\n",
      "2019-07-19           -1          0          0            323.4     -41.6        5.01              0           5.01          5.01\n",
      "2019-11-04            1          1        288                0         0     -282.99         292.86           9.87          9.87\n",
      "2020-03-13           -1          0          0           330.51     42.51       47.52              0          47.52         47.52\n",
      "2020-03-27            1          1     359.09                0         0     -311.57         357.12          45.55         45.55\n",
      "\n",
      "The trading signal changes from the top model EMA_023_SlowEMA_045_FastEMA_005:\n",
      "            open_price  close_price    fast_ema    slow_ema  fast_sma    slow_sma  trade_signal  signal_change  entry_exit\n",
      "date                                                                                                                      \n",
      "2019-01-04      281.88      297.570  275.730669  274.027704   272.034  279.155667           1.0            1.0         0.0\n",
      "2019-01-07      302.10      315.340  288.933780  276.003016   283.886  279.811889           1.0            0.0         1.0\n",
      "2019-05-13      352.29      345.260  359.311786  363.147351   360.776  365.293111           0.0           -1.0         0.0\n",
      "2019-05-14      348.71      345.610  354.744524  362.383472   355.806  364.998667           0.0            0.0        -1.0\n",
      "2019-06-20      365.91      365.210  358.288204  355.793544   355.240  359.421111           1.0            1.0         0.0\n",
      "2019-06-21      365.00      369.210  361.928802  356.377187   361.136  359.742667           1.0            0.0         1.0\n",
      "2019-07-18      323.76      325.210  353.858302  363.121323   358.698  359.805778           0.0           -1.0         0.0\n",
      "2019-07-19      323.40      315.100  340.938868  361.032950   347.068  358.919333           0.0            0.0        -1.0\n",
      "2019-11-01      288.70      286.810  285.152431  284.890309   285.748  280.113556           1.0            1.0         0.0\n",
      "2019-11-04      288.00      292.860  287.721621  285.236820   287.948  280.093778           1.0            0.0         1.0\n",
      "2020-03-12      326.50      315.250  344.725788  355.997124   348.952  358.891778           0.0           -1.0         0.0\n",
      "2020-03-13      330.51      336.295  341.915525  355.140510   342.417  358.825889           0.0            0.0        -1.0\n",
      "2020-03-26      344.00      362.990  350.341988  349.453249   351.160  358.783667           1.0            1.0         0.0\n",
      "2020-03-27      359.09      357.120  352.601326  349.786586   356.018  358.950778           1.0            0.0         1.0\n",
      "\n"
     ]
    },
    {
     "data": {
      "image/png": "[encoded data removed]",
      "text/plain": [
       "<Figure size 1152x648 with 1 Axes>"
      ]
     },
     "metadata": {},
     "output_type": "display_data"
    }
   ],
   "source": [
    "# Display the details for the top model\n",
    "if ema_performance_summary.iloc[0]['return_value'] > sma_performance_summary.iloc[0]['return_value']:\n",
    "    top_model = ema_performance_summary.iloc[0]['model_name']\n",
    "    best_return = ema_performance_summary.iloc[0]['return_value']\n",
    "    display_signals_transactions(top_model, ema_portfolio_collection, ema_model_collection)\n",
    "    print()\n",
    "    draw_model_graphs(top_model, ema_model_collection[top_model], 'fast_ema', 'slow_ema')\n",
    "else:\n",
    "    top_model = sma_performance_summary.iloc[0]['model_name']\n",
    "    best_return = sma_performance_summary.iloc[0]['return_value']\n",
    "    display_signals_transactions(top_model, sma_portfolio_collection, sma_model_collection)\n",
    "    print()\n",
    "    draw_model_graphs(top_model, sma_model_collection[top_model], 'fast_sma', 'slow_sma')"
   ]
  },
  {
   "cell_type": "markdown",
   "metadata": {
    "colab_type": "text",
    "id": "xc_vWsaSTel4"
   },
   "source": [
    "## Task 5. Evaluate Performance"
   ]
  },
  {
   "cell_type": "code",
   "execution_count": 28,
   "metadata": {
    "colab": {
     "base_uri": "https://localhost:8080/",
     "height": 51
    },
    "colab_type": "code",
    "collapsed": false,
    "id": "YTyOJjYzTel7",
    "jupyter": {
     "outputs_hidden": false
    },
    "outputId": "8ab127f5-5316-4e3a-9908-75f18dd9a2b9",
    "pycharm": {
     "name": "#%%\n"
    }
   },
   "outputs": [
    {
     "name": "stdout",
     "output_type": "stream",
     "text": [
      "The best model found is: EMA_023_SlowEMA_045_FastEMA_005\n",
      "The best profit/loss for the investing period is: $176.94\n"
     ]
    }
   ],
   "source": [
    "print('The best model found is:', top_model)\n",
    "print('The best profit/loss for the investing period is: $%.2f' % best_return)\n",
    "if initial_capital != 0:\n",
    "    print('The best return percentage for initial capital is: %.2f%%' % (best_return / initial_capital * 100))"
   ]
  },
  {
   "cell_type": "code",
   "execution_count": 29,
   "metadata": {
    "colab": {
     "base_uri": "https://localhost:8080/",
     "height": 34
    },
    "colab_type": "code",
    "id": "aTP_6WyfTemB",
    "outputId": "6cda4cc2-d890-47d5-9a63-43cffd21d72f"
   },
   "outputs": [
    {
     "name": "stdout",
     "output_type": "stream",
     "text": [
      "The performance of the long-only model from day one is: $229.23\n"
     ]
    }
   ],
   "source": [
    "# Calculate the stock's performance for a long-only model\n",
    "model_template = model_template[model_start_date:model_end_date]\n",
    "print('The performance of the long-only model from day one is: $%.2f' %(model_template.iloc[-1]['close_price'] - model_template.iloc[0]['open_price']))"
   ]
  },
  {
   "cell_type": "code",
   "execution_count": 30,
   "metadata": {
    "colab": {
     "base_uri": "https://localhost:8080/",
     "height": 34
    },
    "colab_type": "code",
    "collapsed": false,
    "id": "be1J2gmiTemG",
    "jupyter": {
     "outputs_hidden": false
    },
    "outputId": "28010a58-a8c1-43ae-d6ff-200fc13eb876",
    "pycharm": {
     "name": "#%%\n"
    }
   },
   "outputs": [
    {
     "name": "stdout",
     "output_type": "stream",
     "text": [
      "Total time for the script: 0:02:41.094065\n"
     ]
    }
   ],
   "source": [
    "print ('Total time for the script:',(datetime.now() - startTimeScript))"
   ]
  }
 ],
 "metadata": {
  "colab": {
   "collapsed_sections": [],
   "name": "py_algotrading_ema_crossover_grid_search.ipynb",
   "provenance": []
  },
  "kernelspec": {
   "display_name": "Python 3",
   "language": "python",
   "name": "python3"
  },
  "language_info": {
   "codemirror_mode": {
    "name": "ipython",
    "version": 3
   },
   "file_extension": ".py",
   "mimetype": "text/x-python",
   "name": "python",
   "nbconvert_exporter": "python",
   "pygments_lexer": "ipython3",
   "version": "3.7.6"
  }
 },
 "nbformat": 4,
 "nbformat_minor": 4
}
