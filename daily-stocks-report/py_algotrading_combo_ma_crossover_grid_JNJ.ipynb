{
 "cells": [
  {
   "cell_type": "markdown",
   "metadata": {
    "colab_type": "text",
    "id": "nn0Ld1RjTekC"
   },
   "source": [
    "# Algorithmic Trading Model for Combo Moving Average Crossover Grid Search"
   ]
  },
  {
   "cell_type": "markdown",
   "metadata": {
    "colab_type": "text",
    "id": "-DieEv9pTekE"
   },
   "source": [
    "## Task 1. Prepare Environment"
   ]
  },
  {
   "cell_type": "code",
   "execution_count": 1,
   "metadata": {
    "colab": {},
    "colab_type": "code",
    "collapsed": false,
    "id": "8IwyGxxuTekE",
    "jupyter": {
     "outputs_hidden": false
    },
    "pycharm": {
     "name": "#%%\n"
    }
   },
   "outputs": [],
   "source": [
    "import os\n",
    "import sys\n",
    "import numpy as np\n",
    "import pandas as pd\n",
    "import requests\n",
    "import json\n",
    "import matplotlib.pyplot as plt\n",
    "from datetime import datetime, timedelta\n",
    "from dotenv import load_dotenv"
   ]
  },
  {
   "cell_type": "code",
   "execution_count": 2,
   "metadata": {
    "colab": {
     "base_uri": "https://localhost:8080/",
     "height": 51
    },
    "colab_type": "code",
    "collapsed": false,
    "id": "Zagik25QTekS",
    "jupyter": {
     "outputs_hidden": false
    },
    "outputId": "d14332ba-63ec-4224-ca13-c4ecdab3541a",
    "pycharm": {
     "name": "#%%\n"
    }
   },
   "outputs": [
    {
     "name": "stdout",
     "output_type": "stream",
     "text": [
      "Starting date for the model: 2019-01-01 00:00:00\n",
      "Ending date for the model: 2020-07-29 23:20:29.807440\n"
     ]
    }
   ],
   "source": [
    "stock_symbol = 'JNJ'\n",
    "initial_capital = 0\n",
    "\n",
    "# Specify the moving average parameters for the trading strategy\n",
    "fast_ema_min = 5\n",
    "fast_ema_max = 30\n",
    "slow_ema_min = 10\n",
    "slow_ema_max = 60\n",
    "fast_sma_min = 5\n",
    "fast_sma_max = 30\n",
    "slow_sma_min = 10\n",
    "slow_sma_max = 60\n",
    "ma_increment = 5\n",
    "min_ma_gap = 5\n",
    "\n",
    "# The number of extra days of data we need (usually equals to the larger of slow_ema or slow_sma)\n",
    "extra_days_data = slow_sma_max\n",
    "\n",
    "model_start_date = datetime(2019, 1, 1)\n",
    "print(\"Starting date for the model:\", model_start_date)\n",
    "stock_start_date = model_start_date - timedelta(days=int(extra_days_data*1.5)) # Need more pricing data to calculate moving averages\n",
    "\n",
    "model_end_date = datetime.now()\n",
    "# model_end_date = datetime(2020, 6, 30)\n",
    "print(\"Ending date for the model:\", model_end_date)"
   ]
  },
  {
   "cell_type": "code",
   "execution_count": 3,
   "metadata": {
    "colab": {
     "base_uri": "https://localhost:8080/",
     "height": 34
    },
    "colab_type": "code",
    "collapsed": false,
    "id": "aTI50KL9TekN",
    "jupyter": {
     "outputs_hidden": false
    },
    "outputId": "68f4a687-6e33-48e5-ef46-c23d7994bc3e",
    "pycharm": {
     "name": "#%%\n"
    }
   },
   "outputs": [],
   "source": [
    "# Begin the timer for the script processing\n",
    "startTimeScript = datetime.now()\n",
    "\n",
    "# Set up the verbose flag to print detailed messages for debugging (setting True will activate!)\n",
    "verbose_models = False\n",
    "verbose_graphs = False\n",
    "verbose_portfolios = False\n",
    "\n",
    "# Set up the sendNotification flag to send progress emails (setting True will send emails!)\n",
    "notifyStatus = False\n",
    "\n",
    "# Set up the parent directory location for loading the dotenv files\n",
    "useColab = False\n",
    "if useColab:\n",
    "    # Mount Google Drive locally for storing files\n",
    "    from google.colab import drive\n",
    "    drive.mount('/content/gdrive')\n",
    "    gdrivePrefix = '/content/gdrive/My Drive/Colab_Downloads/'\n",
    "    env_path = '/content/gdrive/My Drive/Colab Notebooks/'\n",
    "    dotenv_path = env_path + \"python_script.env\"\n",
    "    load_dotenv(dotenv_path=dotenv_path)\n",
    "\n",
    "# Set up the dotenv file for retrieving environment variables\n",
    "useLocalPC = False\n",
    "if useLocalPC:\n",
    "    env_path = \"/Users/david/PycharmProjects/\"\n",
    "    dotenv_path = env_path + \"python_script.env\"\n",
    "    load_dotenv(dotenv_path=dotenv_path)\n",
    "\n",
    "# Configure the plotting style\n",
    "plt.style.use('seaborn')\n",
    "\n",
    "# Set Pandas options\n",
    "pd.set_option(\"display.max_rows\", None)\n",
    "pd.set_option(\"display.max_columns\", None)\n",
    "pd.set_option(\"display.width\", 140)"
   ]
  },
  {
   "cell_type": "markdown",
   "metadata": {
    "colab_type": "text",
    "id": "Xa51FMY_TekZ"
   },
   "source": [
    "## Task 2. Acquire and Pre-Process Data"
   ]
  },
  {
   "cell_type": "code",
   "execution_count": 4,
   "metadata": {
    "colab": {},
    "colab_type": "code",
    "collapsed": false,
    "id": "Og9L0byuTekd",
    "jupyter": {
     "outputs_hidden": false
    },
    "pycharm": {
     "name": "#%%\n"
    }
   },
   "outputs": [],
   "source": [
    "# Check and see whether the API key is available\n",
    "quandl_key = os.environ.get('QUANDL_API')\n",
    "if quandl_key is None: sys.exit(\"API key for Quandl not available. Script Processing Aborted!!!\")"
   ]
  },
  {
   "cell_type": "code",
   "execution_count": 5,
   "metadata": {
    "colab": {},
    "colab_type": "code",
    "collapsed": false,
    "id": "Vx4DZ7UbTekg",
    "jupyter": {
     "outputs_hidden": false
    },
    "pycharm": {
     "name": "#%%\n"
    }
   },
   "outputs": [],
   "source": [
    "start_date_string = stock_start_date.strftime('%Y-%m-%d')\n",
    "end_date_string = model_end_date.strftime('%Y-%m-%d')\n",
    "\n",
    "quandl_url = \"https://www.quandl.com/api/v3/datatables/SHARADAR/SEP.json?date.gte=%s&date.lte=%s&ticker=%s&api_key=%s\" % (start_date_string, end_date_string, stock_symbol, quandl_key)"
   ]
  },
  {
   "cell_type": "code",
   "execution_count": 6,
   "metadata": {
    "colab": {
     "base_uri": "https://localhost:8080/",
     "height": 34
    },
    "colab_type": "code",
    "collapsed": false,
    "id": "zdbEhMn8Tekj",
    "jupyter": {
     "outputs_hidden": false
    },
    "outputId": "c52a8b39-0a15-4b5a-c2d7-4359b519573d",
    "pycharm": {
     "name": "#%%\n"
    }
   },
   "outputs": [
    {
     "name": "stdout",
     "output_type": "stream",
     "text": [
      "458 data points retrieved from the API call.\n"
     ]
    }
   ],
   "source": [
    "response = requests.get(quandl_url)\n",
    "quandl_dict = json.loads(response.text)\n",
    "stock_quandl = pd.DataFrame(quandl_dict['datatable']['data'])\n",
    "print(len(stock_quandl), 'data points retrieved from the API call.')"
   ]
  },
  {
   "cell_type": "code",
   "execution_count": 7,
   "metadata": {
    "colab": {
     "base_uri": "https://localhost:8080/",
     "height": 306
    },
    "colab_type": "code",
    "collapsed": false,
    "id": "5ybXsZl1Tekl",
    "jupyter": {
     "outputs_hidden": false
    },
    "outputId": "2ecb3706-3631-40df-d26e-cb13ffec5fa4",
    "pycharm": {
     "name": "#%%\n"
    }
   },
   "outputs": [
    {
     "name": "stdout",
     "output_type": "stream",
     "text": [
      "<class 'pandas.core.frame.DataFrame'>\n",
      "DatetimeIndex: 458 entries, 2018-10-03 to 2020-07-29\n",
      "Data columns (total 10 columns):\n",
      " #   Column       Non-Null Count  Dtype  \n",
      "---  ------       --------------  -----  \n",
      " 0   ticker       458 non-null    object \n",
      " 1   date         458 non-null    object \n",
      " 2   open         458 non-null    float64\n",
      " 3   high         458 non-null    float64\n",
      " 4   low          458 non-null    float64\n",
      " 5   close        458 non-null    float64\n",
      " 6   volume       458 non-null    float64\n",
      " 7   dividend     458 non-null    float64\n",
      " 8   closeunadj   458 non-null    float64\n",
      " 9   lastupdated  458 non-null    object \n",
      "dtypes: float64(7), object(3)\n",
      "memory usage: 39.4+ KB\n"
     ]
    }
   ],
   "source": [
    "stock_quandl.columns = ['ticker', 'date', 'open', 'high', 'low', 'close', 'volume', 'dividend', 'closeunadj', 'lastupdated']\n",
    "# stock_quandl.set_index('date', inplace=True)\n",
    "stock_quandl.index = pd.to_datetime(stock_quandl.date)\n",
    "stock_quandl = stock_quandl.sort_index(ascending=True)\n",
    "stock_quandl.info()"
   ]
  },
  {
   "cell_type": "code",
   "execution_count": 8,
   "metadata": {
    "colab": {
     "base_uri": "https://localhost:8080/",
     "height": 235
    },
    "colab_type": "code",
    "collapsed": false,
    "id": "GzN1_13bTeko",
    "jupyter": {
     "outputs_hidden": false
    },
    "outputId": "c113bf72-655c-46a1-ee6d-36b236404897",
    "pycharm": {
     "name": "#%%\n"
    }
   },
   "outputs": [
    {
     "data": {
      "text/html": [
       "<div>\n",
       "<style scoped>\n",
       "    .dataframe tbody tr th:only-of-type {\n",
       "        vertical-align: middle;\n",
       "    }\n",
       "\n",
       "    .dataframe tbody tr th {\n",
       "        vertical-align: top;\n",
       "    }\n",
       "\n",
       "    .dataframe thead th {\n",
       "        text-align: right;\n",
       "    }\n",
       "</style>\n",
       "<table border=\"1\" class=\"dataframe\">\n",
       "  <thead>\n",
       "    <tr style=\"text-align: right;\">\n",
       "      <th></th>\n",
       "      <th>ticker</th>\n",
       "      <th>date</th>\n",
       "      <th>open</th>\n",
       "      <th>high</th>\n",
       "      <th>low</th>\n",
       "      <th>close</th>\n",
       "      <th>volume</th>\n",
       "      <th>dividend</th>\n",
       "      <th>closeunadj</th>\n",
       "      <th>lastupdated</th>\n",
       "    </tr>\n",
       "    <tr>\n",
       "      <th>date</th>\n",
       "      <th></th>\n",
       "      <th></th>\n",
       "      <th></th>\n",
       "      <th></th>\n",
       "      <th></th>\n",
       "      <th></th>\n",
       "      <th></th>\n",
       "      <th></th>\n",
       "      <th></th>\n",
       "      <th></th>\n",
       "    </tr>\n",
       "  </thead>\n",
       "  <tbody>\n",
       "    <tr>\n",
       "      <th>2018-10-03</th>\n",
       "      <td>AAPL</td>\n",
       "      <td>2018-10-03</td>\n",
       "      <td>230.05</td>\n",
       "      <td>233.47</td>\n",
       "      <td>229.780</td>\n",
       "      <td>232.07</td>\n",
       "      <td>28654799.0</td>\n",
       "      <td>0.0</td>\n",
       "      <td>232.07</td>\n",
       "      <td>2020-05-01</td>\n",
       "    </tr>\n",
       "    <tr>\n",
       "      <th>2018-10-04</th>\n",
       "      <td>AAPL</td>\n",
       "      <td>2018-10-04</td>\n",
       "      <td>230.78</td>\n",
       "      <td>232.35</td>\n",
       "      <td>226.730</td>\n",
       "      <td>227.99</td>\n",
       "      <td>32042000.0</td>\n",
       "      <td>0.0</td>\n",
       "      <td>227.99</td>\n",
       "      <td>2020-05-01</td>\n",
       "    </tr>\n",
       "    <tr>\n",
       "      <th>2018-10-05</th>\n",
       "      <td>AAPL</td>\n",
       "      <td>2018-10-05</td>\n",
       "      <td>227.96</td>\n",
       "      <td>228.41</td>\n",
       "      <td>220.580</td>\n",
       "      <td>224.29</td>\n",
       "      <td>33580463.0</td>\n",
       "      <td>0.0</td>\n",
       "      <td>224.29</td>\n",
       "      <td>2020-05-01</td>\n",
       "    </tr>\n",
       "    <tr>\n",
       "      <th>2018-10-08</th>\n",
       "      <td>AAPL</td>\n",
       "      <td>2018-10-08</td>\n",
       "      <td>222.21</td>\n",
       "      <td>224.80</td>\n",
       "      <td>220.200</td>\n",
       "      <td>223.77</td>\n",
       "      <td>29663923.0</td>\n",
       "      <td>0.0</td>\n",
       "      <td>223.77</td>\n",
       "      <td>2020-05-01</td>\n",
       "    </tr>\n",
       "    <tr>\n",
       "      <th>2018-10-09</th>\n",
       "      <td>AAPL</td>\n",
       "      <td>2018-10-09</td>\n",
       "      <td>223.64</td>\n",
       "      <td>227.27</td>\n",
       "      <td>222.246</td>\n",
       "      <td>226.87</td>\n",
       "      <td>26891029.0</td>\n",
       "      <td>0.0</td>\n",
       "      <td>226.87</td>\n",
       "      <td>2020-05-01</td>\n",
       "    </tr>\n",
       "  </tbody>\n",
       "</table>\n",
       "</div>"
      ],
      "text/plain": [
       "           ticker        date    open    high      low   close      volume  dividend  closeunadj lastupdated\n",
       "date                                                                                                        \n",
       "2018-10-03   AAPL  2018-10-03  230.05  233.47  229.780  232.07  28654799.0       0.0      232.07  2020-05-01\n",
       "2018-10-04   AAPL  2018-10-04  230.78  232.35  226.730  227.99  32042000.0       0.0      227.99  2020-05-01\n",
       "2018-10-05   AAPL  2018-10-05  227.96  228.41  220.580  224.29  33580463.0       0.0      224.29  2020-05-01\n",
       "2018-10-08   AAPL  2018-10-08  222.21  224.80  220.200  223.77  29663923.0       0.0      223.77  2020-05-01\n",
       "2018-10-09   AAPL  2018-10-09  223.64  227.27  222.246  226.87  26891029.0       0.0      226.87  2020-05-01"
      ]
     },
     "execution_count": 8,
     "metadata": {},
     "output_type": "execute_result"
    }
   ],
   "source": [
    "stock_quandl.head()"
   ]
  },
  {
   "cell_type": "code",
   "execution_count": 9,
   "metadata": {
    "colab": {
     "base_uri": "https://localhost:8080/",
     "height": 235
    },
    "colab_type": "code",
    "collapsed": false,
    "id": "T7jmDLccTeks",
    "jupyter": {
     "outputs_hidden": false
    },
    "outputId": "4c47d9b0-b8d7-4a64-c05b-300169b85925",
    "pycharm": {
     "name": "#%%\n"
    }
   },
   "outputs": [
    {
     "data": {
      "text/html": [
       "<div>\n",
       "<style scoped>\n",
       "    .dataframe tbody tr th:only-of-type {\n",
       "        vertical-align: middle;\n",
       "    }\n",
       "\n",
       "    .dataframe tbody tr th {\n",
       "        vertical-align: top;\n",
       "    }\n",
       "\n",
       "    .dataframe thead th {\n",
       "        text-align: right;\n",
       "    }\n",
       "</style>\n",
       "<table border=\"1\" class=\"dataframe\">\n",
       "  <thead>\n",
       "    <tr style=\"text-align: right;\">\n",
       "      <th></th>\n",
       "      <th>ticker</th>\n",
       "      <th>date</th>\n",
       "      <th>open</th>\n",
       "      <th>high</th>\n",
       "      <th>low</th>\n",
       "      <th>close</th>\n",
       "      <th>volume</th>\n",
       "      <th>dividend</th>\n",
       "      <th>closeunadj</th>\n",
       "      <th>lastupdated</th>\n",
       "    </tr>\n",
       "    <tr>\n",
       "      <th>date</th>\n",
       "      <th></th>\n",
       "      <th></th>\n",
       "      <th></th>\n",
       "      <th></th>\n",
       "      <th></th>\n",
       "      <th></th>\n",
       "      <th></th>\n",
       "      <th></th>\n",
       "      <th></th>\n",
       "      <th></th>\n",
       "    </tr>\n",
       "  </thead>\n",
       "  <tbody>\n",
       "    <tr>\n",
       "      <th>2020-07-23</th>\n",
       "      <td>AAPL</td>\n",
       "      <td>2020-07-23</td>\n",
       "      <td>387.993</td>\n",
       "      <td>388.310</td>\n",
       "      <td>368.039</td>\n",
       "      <td>371.38</td>\n",
       "      <td>49251108.0</td>\n",
       "      <td>0.0</td>\n",
       "      <td>371.38</td>\n",
       "      <td>2020-07-23</td>\n",
       "    </tr>\n",
       "    <tr>\n",
       "      <th>2020-07-24</th>\n",
       "      <td>AAPL</td>\n",
       "      <td>2020-07-24</td>\n",
       "      <td>363.950</td>\n",
       "      <td>371.880</td>\n",
       "      <td>356.580</td>\n",
       "      <td>370.46</td>\n",
       "      <td>46359716.0</td>\n",
       "      <td>0.0</td>\n",
       "      <td>370.46</td>\n",
       "      <td>2020-07-24</td>\n",
       "    </tr>\n",
       "    <tr>\n",
       "      <th>2020-07-27</th>\n",
       "      <td>AAPL</td>\n",
       "      <td>2020-07-27</td>\n",
       "      <td>374.840</td>\n",
       "      <td>379.620</td>\n",
       "      <td>373.920</td>\n",
       "      <td>379.24</td>\n",
       "      <td>29469969.0</td>\n",
       "      <td>0.0</td>\n",
       "      <td>379.24</td>\n",
       "      <td>2020-07-27</td>\n",
       "    </tr>\n",
       "    <tr>\n",
       "      <th>2020-07-28</th>\n",
       "      <td>AAPL</td>\n",
       "      <td>2020-07-28</td>\n",
       "      <td>377.470</td>\n",
       "      <td>378.199</td>\n",
       "      <td>372.990</td>\n",
       "      <td>373.01</td>\n",
       "      <td>25311293.0</td>\n",
       "      <td>0.0</td>\n",
       "      <td>373.01</td>\n",
       "      <td>2020-07-28</td>\n",
       "    </tr>\n",
       "    <tr>\n",
       "      <th>2020-07-29</th>\n",
       "      <td>AAPL</td>\n",
       "      <td>2020-07-29</td>\n",
       "      <td>375.000</td>\n",
       "      <td>380.920</td>\n",
       "      <td>374.850</td>\n",
       "      <td>380.16</td>\n",
       "      <td>21602404.0</td>\n",
       "      <td>0.0</td>\n",
       "      <td>380.16</td>\n",
       "      <td>2020-07-29</td>\n",
       "    </tr>\n",
       "  </tbody>\n",
       "</table>\n",
       "</div>"
      ],
      "text/plain": [
       "           ticker        date     open     high      low   close      volume  dividend  closeunadj lastupdated\n",
       "date                                                                                                          \n",
       "2020-07-23   AAPL  2020-07-23  387.993  388.310  368.039  371.38  49251108.0       0.0      371.38  2020-07-23\n",
       "2020-07-24   AAPL  2020-07-24  363.950  371.880  356.580  370.46  46359716.0       0.0      370.46  2020-07-24\n",
       "2020-07-27   AAPL  2020-07-27  374.840  379.620  373.920  379.24  29469969.0       0.0      379.24  2020-07-27\n",
       "2020-07-28   AAPL  2020-07-28  377.470  378.199  372.990  373.01  25311293.0       0.0      373.01  2020-07-28\n",
       "2020-07-29   AAPL  2020-07-29  375.000  380.920  374.850  380.16  21602404.0       0.0      380.16  2020-07-29"
      ]
     },
     "execution_count": 9,
     "metadata": {},
     "output_type": "execute_result"
    }
   ],
   "source": [
    "stock_quandl.tail()"
   ]
  },
  {
   "cell_type": "code",
   "execution_count": 10,
   "metadata": {
    "colab": {
     "base_uri": "https://localhost:8080/",
     "height": 535
    },
    "colab_type": "code",
    "collapsed": false,
    "id": "Tfuu40coTekv",
    "jupyter": {
     "outputs_hidden": false
    },
    "outputId": "2357753d-6c83-46ad-e8cc-8593497d20ff",
    "pycharm": {
     "name": "#%%\n"
    }
   },
   "outputs": [
    {
     "data": {
      "image/png": "[encoded data removed]",
      "text/plain": [
       "<Figure size 1152x648 with 1 Axes>"
      ]
     },
     "metadata": {},
     "output_type": "display_data"
    }
   ],
   "source": [
    "quandl_title = 'Quandl Historical Stock Information for ' + stock_symbol\n",
    "stock_quandl['close'].plot(figsize=(16,9), title=quandl_title)\n",
    "plt.show()"
   ]
  },
  {
   "cell_type": "markdown",
   "metadata": {
    "colab_type": "text",
    "id": "UKNJYDlGTek0"
   },
   "source": [
    "## Task 3. Develop Strategy and Train Model"
   ]
  },
  {
   "cell_type": "markdown",
   "metadata": {
    "colab_type": "text",
    "id": "zUtaaGbgTek3"
   },
   "source": [
    "### 3.a) Set up the Dataframe for the Trading Model"
   ]
  },
  {
   "cell_type": "code",
   "execution_count": 11,
   "metadata": {
    "colab": {
     "base_uri": "https://localhost:8080/",
     "height": 170
    },
    "colab_type": "code",
    "collapsed": false,
    "id": "dGpN7bg-Tek3",
    "jupyter": {
     "outputs_hidden": false
    },
    "outputId": "60f23809-9c25-44bd-dcbc-82c93777493d",
    "pycharm": {
     "name": "#%%\n"
    }
   },
   "outputs": [
    {
     "name": "stdout",
     "output_type": "stream",
     "text": [
      "<class 'pandas.core.frame.DataFrame'>\n",
      "DatetimeIndex: 458 entries, 2018-10-03 to 2020-07-29\n",
      "Data columns (total 2 columns):\n",
      " #   Column       Non-Null Count  Dtype  \n",
      "---  ------       --------------  -----  \n",
      " 0   open_price   458 non-null    float64\n",
      " 1   close_price  458 non-null    float64\n",
      "dtypes: float64(2)\n",
      "memory usage: 10.7 KB\n"
     ]
    }
   ],
   "source": [
    "# Set up the standard column name for modeling\n",
    "model_template = stock_quandl.loc[:, ['open','close']]\n",
    "model_template.rename(columns={'open': 'open_price', 'close': 'close_price'}, inplace=True)\n",
    "model_template.info()"
   ]
  },
  {
   "cell_type": "markdown",
   "metadata": {
    "colab_type": "text",
    "id": "v-3ecix6Tek_"
   },
   "source": [
    "### 3.b) Set up the Analysis Table with Indicators"
   ]
  },
  {
   "cell_type": "code",
   "execution_count": 12,
   "metadata": {
    "colab": {},
    "colab_type": "code",
    "collapsed": false,
    "id": "yfQTRXPnTelA",
    "jupyter": {
     "outputs_hidden": false
    },
    "pycharm": {
     "name": "#%%\n"
    }
   },
   "outputs": [],
   "source": [
    "# Define the functions that will generate the indicators and trading signals\n",
    "\n",
    "def populate_indicators(passed_model):\n",
    "    passed_model['fast_ema'] = passed_model['close_price'].ewm(span=fast_ma).mean()\n",
    "    passed_model['slow_ema'] = passed_model['close_price'].ewm(span=slow_ma).mean()\n",
    "    passed_model['fast_sma'] = passed_model['close_price'].rolling(fast_ma).mean()\n",
    "    passed_model['slow_sma'] = passed_model['close_price'].rolling(slow_ma).mean()\n",
    "    passed_model['ema_change'] = passed_model['fast_ema'] - passed_model['slow_ema']\n",
    "    passed_model['sma_change'] = passed_model['fast_sma'] - passed_model['slow_sma']\n",
    "    passed_model['fastema_slowsma_chg'] = passed_model['fast_ema'] - passed_model['slow_sma']\n",
    "    passed_model['fastsma_slowema_chg'] = passed_model['fast_sma'] - passed_model['slow_ema']\n",
    "    passed_model['trade_signal'] = np.zeros(len(passed_model))\n",
    "    passed_model['signal_change'] = np.zeros(len(passed_model))\n",
    "    passed_model['entry_exit'] = np.zeros(len(passed_model))\n",
    "\n",
    "def populate_signals(model, change_curve):\n",
    "    wait_for_entry = True\n",
    "    for x in range(len(model)):\n",
    "        if model[change_curve].iloc[x] > 0:\n",
    "            model['trade_signal'].iloc[x] = 1  # trade_signal = 1 means we should enter into a long position\n",
    "        else:\n",
    "            model['trade_signal'].iloc[x] = 0  # trade_signal = 0 means we should exit the long position\n",
    "        if x != 0:\n",
    "            model['signal_change'].iloc[x] = model['trade_signal'].iloc[x] - model['trade_signal'].iloc[x-1]\n",
    "            if wait_for_entry and (model['signal_change'].iloc[x-1] == 1):\n",
    "                model['entry_exit'].iloc[x] = model['signal_change'].iloc[x-1]\n",
    "                wait_for_entry = False\n",
    "            elif (not wait_for_entry) and (model['signal_change'].iloc[x-1] != 0):\n",
    "                model['entry_exit'].iloc[x] = model['signal_change'].iloc[x-1]\n"
   ]
  },
  {
   "cell_type": "code",
   "execution_count": 13,
   "metadata": {
    "colab": {
     "base_uri": "https://localhost:8080/",
     "height": 1000
    },
    "colab_type": "code",
    "collapsed": false,
    "id": "8M4khYD7TelG",
    "jupyter": {
     "outputs_hidden": false
    },
    "outputId": "05f4cf43-5ebd-4654-9806-00894118795f",
    "pycharm": {
     "name": "#%%\n"
    }
   },
   "outputs": [
    {
     "name": "stdout",
     "output_type": "stream",
     "text": [
      "51 EMA only models generated!\n",
      "\n",
      "51 SMA only models generated!\n",
      "\n",
      "51 Fast EMA/Slow SMA models generated!\n",
      "\n",
      "51 Fast SMA/Slow EMA models generated!\n"
     ]
    }
   ],
   "source": [
    "# Processing models using only the EMA curves\n",
    "ema_model_collection = {}\n",
    "serial_number = 1\n",
    "for slow_ma in range(slow_ema_min, slow_ema_max+1, ma_increment):\n",
    "    for fast_ma in range(fast_ema_min, fast_ema_max+1, ma_increment):\n",
    "        if (slow_ma - fast_ma) < min_ma_gap: break\n",
    "        if verbose_models: print('Processing model with fast_ema of', fast_ma, 'and slow_ema of', slow_ma)\n",
    "        model_tag = 'EMA_' + str(serial_number).zfill(3) + '_FastEMA_' + str(fast_ma).zfill(3) + '_SlowEMA_' + str(slow_ma).zfill(3)\n",
    "        serial_number = serial_number + 1\n",
    "        trading_model = model_template.copy()\n",
    "        populate_indicators(trading_model)\n",
    "        trading_model = trading_model[model_start_date:model_end_date]\n",
    "        populate_signals(trading_model, 'ema_change')\n",
    "        ema_model_collection[model_tag] = trading_model.copy()\n",
    "        if verbose_models: print('Model', model_tag, 'added to the trading model collection.')\n",
    "print(len(ema_model_collection), 'EMA only models generated!')\n",
    "\n",
    "# Processing models using only the SMA curves\n",
    "print()\n",
    "sma_model_collection = {}\n",
    "serial_number = 1\n",
    "for slow_ma in range(slow_sma_min, slow_sma_max+1, ma_increment):\n",
    "    for fast_ma in range(fast_sma_min, fast_sma_max+1, ma_increment):\n",
    "        if (slow_ma - fast_ma) < min_ma_gap: break\n",
    "        if verbose_models: print('Processing model with fast_sma of', fast_ma, 'and slow_sma of', slow_ma)\n",
    "        model_tag = 'SMA_' + str(serial_number).zfill(3) + '_FastSMA_' + str(fast_ma).zfill(3) + '_SlowSMA_' + str(slow_ma).zfill(3)\n",
    "        serial_number = serial_number + 1\n",
    "        trading_model = model_template.copy()\n",
    "        populate_indicators(trading_model)\n",
    "        trading_model = trading_model[model_start_date:model_end_date]\n",
    "        populate_signals(trading_model, 'sma_change')\n",
    "        sma_model_collection[model_tag] = trading_model.copy()\n",
    "        if verbose_models: print('Model', model_tag, 'added to the trading model collection.')\n",
    "print(len(sma_model_collection), 'SMA only models generated!')\n",
    "\n",
    "# Processing models using fast EMA and slow SMA curves\n",
    "print()\n",
    "fast_ema_slow_sma_models = {}\n",
    "serial_number = 1\n",
    "for slow_ma in range(slow_sma_min, slow_sma_max+1, ma_increment):\n",
    "    for fast_ma in range(fast_ema_min, fast_ema_max+1, ma_increment):\n",
    "        if (slow_ma - fast_ma) < min_ma_gap: break\n",
    "        if verbose_models: print('Processing model with fast_ema of', fast_ma, 'and slow_sma of', slow_ma)\n",
    "        model_tag = 'Mixed_' + str(serial_number).zfill(3) + '_FastEMA_' + str(fast_ma).zfill(3) + '_SlowSMA_' + str(slow_ma).zfill(3)\n",
    "        serial_number = serial_number + 1\n",
    "        trading_model = model_template.copy()\n",
    "        populate_indicators(trading_model)\n",
    "        trading_model = trading_model[model_start_date:model_end_date]\n",
    "        populate_signals(trading_model, 'fastema_slowsma_chg')\n",
    "        fast_ema_slow_sma_models[model_tag] = trading_model.copy()\n",
    "        if verbose_models: print('Model', model_tag, 'added to the trading model collection.')\n",
    "print(len(fast_ema_slow_sma_models), 'Fast EMA/Slow SMA models generated!')\n",
    "\n",
    "# Processing models using fast SMA and slow EMA curves\n",
    "print()\n",
    "fast_sma_slow_ema_models = {}\n",
    "serial_number = 1\n",
    "for slow_ma in range(slow_ema_min, slow_ema_max+1, ma_increment):\n",
    "    for fast_ma in range(fast_sma_min, fast_sma_max+1, ma_increment):\n",
    "        if (slow_ma - fast_ma) < min_ma_gap: break\n",
    "        if verbose_models: print('Processing model with fast_sma of', fast_ma, 'and slow_ema of', slow_ma)\n",
    "        model_tag = 'Mixed_' + str(serial_number).zfill(3) + '_FastSMA_' + str(fast_ma).zfill(3) + '_SlowEMA_' + str(slow_ma).zfill(3)\n",
    "        serial_number = serial_number + 1\n",
    "        trading_model = model_template.copy()\n",
    "        populate_indicators(trading_model)\n",
    "        trading_model = trading_model[model_start_date:model_end_date]\n",
    "        populate_signals(trading_model, 'fastsma_slowema_chg')\n",
    "        fast_sma_slow_ema_models[model_tag] = trading_model.copy()\n",
    "        if verbose_models: print('Model', model_tag, 'added to the trading model collection.')\n",
    "print(len(fast_sma_slow_ema_models), 'Fast SMA/Slow EMA models generated!')\n"
   ]
  },
  {
   "cell_type": "code",
   "execution_count": 14,
   "metadata": {
    "colab": {
     "base_uri": "https://localhost:8080/",
     "height": 1000
    },
    "colab_type": "code",
    "collapsed": false,
    "id": "327CZKmtTelL",
    "jupyter": {
     "outputs_hidden": false
    },
    "outputId": "b353b49d-0281-4aa7-a530-6747c166eae5",
    "pycharm": {
     "name": "#%%\n"
    }
   },
   "outputs": [],
   "source": [
    "# List the entry/exit points for each model\n",
    "def list_model_entry_exit(model_collection):\n",
    "    for model_name in model_collection:\n",
    "        print('List the signal change and entry/exit points for', model_name)\n",
    "        print(model_collection[model_name][(model_collection[model_name].signal_change != 0) | (model_collection[model_name].entry_exit != 0)])\n",
    "        print()"
   ]
  },
  {
   "cell_type": "code",
   "execution_count": 15,
   "metadata": {
    "collapsed": false,
    "jupyter": {
     "outputs_hidden": false
    },
    "pycharm": {
     "name": "#%%\n"
    }
   },
   "outputs": [],
   "source": [
    "if verbose_models: list_model_entry_exit(ema_model_collection)"
   ]
  },
  {
   "cell_type": "code",
   "execution_count": 16,
   "metadata": {
    "collapsed": false,
    "jupyter": {
     "outputs_hidden": false
    },
    "pycharm": {
     "name": "#%%\n"
    }
   },
   "outputs": [],
   "source": [
    "if verbose_models: list_model_entry_exit(sma_model_collection)"
   ]
  },
  {
   "cell_type": "code",
   "execution_count": 17,
   "metadata": {},
   "outputs": [],
   "source": [
    "if verbose_models: list_model_entry_exit(fast_ema_slow_sma_models)"
   ]
  },
  {
   "cell_type": "code",
   "execution_count": 18,
   "metadata": {},
   "outputs": [],
   "source": [
    "if verbose_models: list_model_entry_exit(fast_sma_slow_ema_models)"
   ]
  },
  {
   "cell_type": "code",
   "execution_count": 19,
   "metadata": {
    "colab": {
     "base_uri": "https://localhost:8080/",
     "height": 1000
    },
    "colab_type": "code",
    "collapsed": false,
    "id": "XEyJXVxcTelS",
    "jupyter": {
     "outputs_hidden": false
    },
    "outputId": "c74ac3e9-fbd3-4e73-8294-f12d0cce88dc",
    "pycharm": {
     "name": "#%%\n"
    }
   },
   "outputs": [],
   "source": [
    "def draw_model_graphs(model_name, trade_model, fast_ma_curve='fast_ema', slow_ma_curve='slow_ema'):\n",
    "    graph_data = trade_model.copy()\n",
    "    title_string = \"Moving Average Crossover Model for \" + model_name\n",
    "    fig = plt.figure(figsize=(16,9))\n",
    "    ylabel = stock_symbol + ' price in $'\n",
    "    ax1 = fig.add_subplot(111, ylabel=ylabel, title=title_string)\n",
    "    graph_data[fast_ma_curve].plot(ax=ax1, color='b', lw=2.)\n",
    "    graph_data[slow_ma_curve].plot(ax=ax1, color='r', lw=2.)\n",
    "    graph_data['close_price'].plot(ax=ax1, color='g')\n",
    "    ax1.plot(graph_data.loc[graph_data.entry_exit == 1].index, graph_data.close_price[graph_data.entry_exit == 1], '^', markersize=7, color='k',label='buy')\n",
    "    ax1.plot(graph_data.loc[graph_data.entry_exit == -1].index, graph_data.close_price[graph_data.entry_exit == -1], 'v', markersize=7, color='k',label='sell')\n",
    "    plt.legend(loc='upper left')\n",
    "    plt.show()"
   ]
  },
  {
   "cell_type": "code",
   "execution_count": 20,
   "metadata": {
    "collapsed": false,
    "jupyter": {
     "outputs_hidden": false
    },
    "pycharm": {
     "name": "#%%\n"
    }
   },
   "outputs": [],
   "source": [
    "if verbose_graphs:\n",
    "    for tag in ema_model_collection:\n",
    "        draw_model_graphs(tag, ema_model_collection[tag], 'fast_ema', 'slow_ema')"
   ]
  },
  {
   "cell_type": "code",
   "execution_count": 21,
   "metadata": {
    "collapsed": false,
    "jupyter": {
     "outputs_hidden": false
    },
    "pycharm": {
     "name": "#%%\n"
    }
   },
   "outputs": [],
   "source": [
    "if verbose_graphs:\n",
    "    for tag in sma_model_collection:\n",
    "        draw_model_graphs(tag, sma_model_collection[tag], 'fast_sma', 'slow_sma')"
   ]
  },
  {
   "cell_type": "code",
   "execution_count": 22,
   "metadata": {},
   "outputs": [],
   "source": [
    "if verbose_graphs:\n",
    "    for tag in fast_ema_slow_sma_models:\n",
    "        draw_model_graphs(tag, fast_ema_slow_sma_models[tag], 'fast_ema', 'slow_sma')"
   ]
  },
  {
   "cell_type": "code",
   "execution_count": 23,
   "metadata": {},
   "outputs": [],
   "source": [
    "if verbose_graphs:\n",
    "    for tag in fast_sma_slow_ema_models:\n",
    "        draw_model_graphs(tag, fast_sma_slow_ema_models[tag], 'fast_sma', 'slow_ema')"
   ]
  },
  {
   "cell_type": "markdown",
   "metadata": {
    "colab_type": "text",
    "id": "wzTQaZkeTeld"
   },
   "source": [
    "## Task 4. Back-test Model"
   ]
  },
  {
   "cell_type": "code",
   "execution_count": 24,
   "metadata": {
    "colab": {},
    "colab_type": "code",
    "collapsed": false,
    "id": "Q1xZWksnTelr",
    "jupyter": {
     "outputs_hidden": false
    },
    "pycharm": {
     "name": "#%%\n"
    }
   },
   "outputs": [],
   "source": [
    "def trading_portfolio_generation(initial_fund, trade_model):\n",
    "    # Construct a portfolio to track the transactions and returns\n",
    "    portfolio = pd.DataFrame(index=trade_model.index, columns=['trade_action', 'qty_onhand', 'cost_basis', 'sold_transaction', 'gain_loss', 'cash_onhand', 'position_value', 'total_position', 'accumu_return'])\n",
    "    portfolio.iloc[0]['trade_action'] = 0\n",
    "    portfolio.iloc[0]['qty_onhand'] = 0\n",
    "    portfolio.iloc[0]['cost_basis'] = 0.00\n",
    "    portfolio.iloc[0]['sold_transaction'] = 0.00\n",
    "    portfolio.iloc[0]['gain_loss'] = 0.00\n",
    "    portfolio.iloc[0]['cash_onhand'] = initial_capital\n",
    "    portfolio.iloc[0]['position_value'] = 0.00\n",
    "    portfolio.iloc[0]['total_position'] = initial_capital\n",
    "    portfolio.iloc[0]['accumu_return'] = portfolio.iloc[0]['total_position'] - initial_fund\n",
    "    recent_cost = 0\n",
    "\n",
    "    # The conditional parameters below determine how the trading strategy will be carried out\n",
    "    for i in range(1, len(portfolio)):\n",
    "        if (trade_model.iloc[i]['entry_exit'] == 1) and (portfolio.iloc[i-1]['qty_onhand'] == 0):\n",
    "            portfolio.iloc[i]['trade_action'] = 1\n",
    "            portfolio.iloc[i]['qty_onhand'] = portfolio.iloc[i-1]['qty_onhand'] + portfolio.iloc[i]['trade_action']\n",
    "            portfolio.iloc[i]['cost_basis'] = trade_model.iloc[i]['open_price'] * portfolio.iloc[i]['trade_action']\n",
    "            portfolio.iloc[i]['sold_transaction'] = 0.00\n",
    "            portfolio.iloc[i]['gain_loss'] = 0.00\n",
    "            portfolio.iloc[i]['cash_onhand'] = portfolio.iloc[i-1]['cash_onhand'] - portfolio.iloc[i]['cost_basis']\n",
    "            recent_cost = trade_model.iloc[i]['open_price'] * portfolio.iloc[i]['trade_action']\n",
    "            if verbose_portfolios: print('BOUGHT QTY:', portfolio.iloc[i]['trade_action'], 'on', portfolio.index[i], 'at the price of', trade_model.iloc[i]['open_price'])\n",
    "        elif (trade_model.iloc[i]['entry_exit'] == -1) and (portfolio.iloc[i-1]['qty_onhand'] > 0):\n",
    "            portfolio.iloc[i]['trade_action'] = -1\n",
    "            portfolio.iloc[i]['qty_onhand'] = portfolio.iloc[i-1]['qty_onhand'] + portfolio.iloc[i]['trade_action']\n",
    "            portfolio.iloc[i]['cost_basis'] = 0.00\n",
    "            portfolio.iloc[i]['sold_transaction'] = trade_model.iloc[i]['open_price'] * portfolio.iloc[i]['trade_action'] * -1\n",
    "            portfolio.iloc[i]['gain_loss'] = (recent_cost + (trade_model.iloc[i]['open_price'] * portfolio.iloc[i]['trade_action'])) * -1\n",
    "            portfolio.iloc[i]['cash_onhand'] = portfolio.iloc[i-1]['cash_onhand'] + portfolio.iloc[i]['sold_transaction']\n",
    "            recent_cost = 0.00\n",
    "            if verbose_portfolios: print('SOLD QTY:', portfolio.iloc[i]['trade_action'], 'on', portfolio.index[i], 'at the price of', trade_model.iloc[i]['open_price'])\n",
    "        else:\n",
    "            portfolio.iloc[i]['trade_action'] = 0\n",
    "            portfolio.iloc[i]['qty_onhand'] = portfolio.iloc[i-1]['qty_onhand']\n",
    "            portfolio.iloc[i]['cost_basis'] = portfolio.iloc[i-1]['cost_basis']\n",
    "            portfolio.iloc[i]['sold_transaction'] = 0.00\n",
    "            portfolio.iloc[i]['gain_loss'] = 0.00\n",
    "            portfolio.iloc[i]['cash_onhand'] = portfolio.iloc[i-1]['cash_onhand']\n",
    "        portfolio.iloc[i]['position_value'] = trade_model.iloc[i]['close_price'] * portfolio.iloc[i]['qty_onhand']\n",
    "        portfolio.iloc[i]['total_position'] = portfolio.iloc[i]['cash_onhand'] + portfolio.iloc[i]['position_value']\n",
    "        portfolio.iloc[i]['accumu_return'] = portfolio.iloc[i]['total_position'] - initial_fund\n",
    "\n",
    "    return portfolio"
   ]
  },
  {
   "cell_type": "code",
   "execution_count": 25,
   "metadata": {
    "colab": {
     "base_uri": "https://localhost:8080/",
     "height": 1000
    },
    "colab_type": "code",
    "collapsed": false,
    "id": "mOsqVrfRTelw",
    "jupyter": {
     "outputs_hidden": false
    },
    "outputId": "17950f55-4566-48b2-dde6-0974c6e45966",
    "pycharm": {
     "name": "#%%\n"
    }
   },
   "outputs": [],
   "source": [
    "def generate_portfolio_and_performance(model_collection):\n",
    "    # Initialize a dictionary for tracking portfolios for all models\n",
    "    portfolio_collection = {}\n",
    "    # Initialize a dataframe for reporting model performance summary\n",
    "    performance_summary = pd.DataFrame(columns=['model_name','return_value','return_percent'])\n",
    "\n",
    "    for model_name in model_collection:\n",
    "        if verbose_portfolios: print('Processing portfolio for model:', model_name)\n",
    "        portfolio_collection[model_name] = trading_portfolio_generation(initial_capital, model_collection[model_name])\n",
    "        trade_transactions = portfolio_collection[model_name][portfolio_collection[model_name].trade_action != 0]\n",
    "        if verbose_portfolios: print(trade_transactions)\n",
    "        if verbose_portfolios: print('Accumulated profit/loss for one share of stock with initial capital of $%.0f at the end of modeling period: $%.2f' % (initial_capital, portfolio_collection[model_name].accumu_return[-1]))\n",
    "        if initial_capital != 0:\n",
    "            return_percentage = portfolio_collection[model_name].accumu_return[-1] / initial_capital * 100\n",
    "            if verbose_portfolios: print('Accumulated return percentage based on the initial capital investment: %.2f%%' % return_percentage)\n",
    "        else:\n",
    "            return_percentage = None\n",
    "        if trade_transactions.iloc[-1]['trade_action'] == 1:\n",
    "            if verbose_portfolios: print('The current status of the model is:', 'Holding a position since', trade_transactions.index.tolist()[-1], '\\n')\n",
    "        else:\n",
    "            if verbose_portfolios: print('The current status of the model is:', 'Waiting to enter since', trade_transactions.index.tolist()[-1], '\\n')\n",
    "        performance_summary = performance_summary.append({'model_name': model_name, 'return_value': portfolio_collection[model_name].accumu_return[-1], 'return_percent': return_percentage}, ignore_index=True)\n",
    "    performance_summary.sort_values(by=['return_value'], inplace=True, ascending=False)\n",
    "    return portfolio_collection, performance_summary"
   ]
  },
  {
   "cell_type": "code",
   "execution_count": 26,
   "metadata": {
    "collapsed": false,
    "jupyter": {
     "outputs_hidden": false
    },
    "pycharm": {
     "name": "#%%\n"
    }
   },
   "outputs": [
    {
     "name": "stdout",
     "output_type": "stream",
     "text": [
      "51 trading transaction portfolios generated.\n",
      "51 profit/loss performance summaries generated.\n"
     ]
    }
   ],
   "source": [
    "ema_portfolio_collection, ema_performance_summary = generate_portfolio_and_performance(ema_model_collection)\n",
    "print(len(ema_portfolio_collection), 'trading transaction portfolios generated.')\n",
    "print(len(ema_performance_summary), 'profit/loss performance summaries generated.')"
   ]
  },
  {
   "cell_type": "code",
   "execution_count": 27,
   "metadata": {
    "collapsed": false,
    "jupyter": {
     "outputs_hidden": false
    },
    "pycharm": {
     "name": "#%%\n"
    }
   },
   "outputs": [
    {
     "name": "stdout",
     "output_type": "stream",
     "text": [
      "51 trading transaction portfolios generated.\n",
      "51 profit/loss performance summaries generated.\n"
     ]
    }
   ],
   "source": [
    "sma_portfolio_collection, sma_performance_summary = generate_portfolio_and_performance(sma_model_collection)\n",
    "print(len(sma_portfolio_collection), 'trading transaction portfolios generated.')\n",
    "print(len(sma_performance_summary), 'profit/loss performance summaries generated.')"
   ]
  },
  {
   "cell_type": "code",
   "execution_count": 28,
   "metadata": {},
   "outputs": [
    {
     "name": "stdout",
     "output_type": "stream",
     "text": [
      "51 trading transaction portfolios generated.\n",
      "51 profit/loss performance summaries generated.\n"
     ]
    }
   ],
   "source": [
    "fast_ema_slow_sma_portfolios, fast_ema_slow_sma_performance = generate_portfolio_and_performance(fast_ema_slow_sma_models)\n",
    "print(len(fast_ema_slow_sma_portfolios), 'trading transaction portfolios generated.')\n",
    "print(len(fast_ema_slow_sma_performance), 'profit/loss performance summaries generated.')"
   ]
  },
  {
   "cell_type": "code",
   "execution_count": 29,
   "metadata": {},
   "outputs": [
    {
     "name": "stdout",
     "output_type": "stream",
     "text": [
      "51 trading transaction portfolios generated.\n",
      "51 profit/loss performance summaries generated.\n"
     ]
    }
   ],
   "source": [
    "fast_sma_slow_ema_portfolios, fast_sma_slow_ema_performance = generate_portfolio_and_performance(fast_sma_slow_ema_models)\n",
    "print(len(fast_sma_slow_ema_portfolios), 'trading transaction portfolios generated.')\n",
    "print(len(fast_sma_slow_ema_performance), 'profit/loss performance summaries generated.')"
   ]
  },
  {
   "cell_type": "code",
   "execution_count": 30,
   "metadata": {
    "collapsed": false,
    "jupyter": {
     "outputs_hidden": false
    },
    "pycharm": {
     "name": "#%%\n"
    }
   },
   "outputs": [
    {
     "data": {
      "text/html": [
       "<div>\n",
       "<style scoped>\n",
       "    .dataframe tbody tr th:only-of-type {\n",
       "        vertical-align: middle;\n",
       "    }\n",
       "\n",
       "    .dataframe tbody tr th {\n",
       "        vertical-align: top;\n",
       "    }\n",
       "\n",
       "    .dataframe thead th {\n",
       "        text-align: right;\n",
       "    }\n",
       "</style>\n",
       "<table border=\"1\" class=\"dataframe\">\n",
       "  <thead>\n",
       "    <tr style=\"text-align: right;\">\n",
       "      <th></th>\n",
       "      <th>model_name</th>\n",
       "      <th>return_value</th>\n",
       "      <th>return_percent</th>\n",
       "    </tr>\n",
       "  </thead>\n",
       "  <tbody>\n",
       "    <tr>\n",
       "      <th>1</th>\n",
       "      <td>EMA_002_FastEMA_005_SlowEMA_015</td>\n",
       "      <td>238.779</td>\n",
       "      <td>None</td>\n",
       "    </tr>\n",
       "    <tr>\n",
       "      <th>3</th>\n",
       "      <td>EMA_004_FastEMA_005_SlowEMA_020</td>\n",
       "      <td>225.140</td>\n",
       "      <td>None</td>\n",
       "    </tr>\n",
       "    <tr>\n",
       "      <th>6</th>\n",
       "      <td>EMA_007_FastEMA_005_SlowEMA_025</td>\n",
       "      <td>225.050</td>\n",
       "      <td>None</td>\n",
       "    </tr>\n",
       "    <tr>\n",
       "      <th>2</th>\n",
       "      <td>EMA_003_FastEMA_010_SlowEMA_015</td>\n",
       "      <td>224.580</td>\n",
       "      <td>None</td>\n",
       "    </tr>\n",
       "    <tr>\n",
       "      <th>0</th>\n",
       "      <td>EMA_001_FastEMA_005_SlowEMA_010</td>\n",
       "      <td>220.960</td>\n",
       "      <td>None</td>\n",
       "    </tr>\n",
       "  </tbody>\n",
       "</table>\n",
       "</div>"
      ],
      "text/plain": [
       "                        model_name  return_value return_percent\n",
       "1  EMA_002_FastEMA_005_SlowEMA_015       238.779           None\n",
       "3  EMA_004_FastEMA_005_SlowEMA_020       225.140           None\n",
       "6  EMA_007_FastEMA_005_SlowEMA_025       225.050           None\n",
       "2  EMA_003_FastEMA_010_SlowEMA_015       224.580           None\n",
       "0  EMA_001_FastEMA_005_SlowEMA_010       220.960           None"
      ]
     },
     "execution_count": 30,
     "metadata": {},
     "output_type": "execute_result"
    }
   ],
   "source": [
    "# Display the top models from EMA-only performance summary\n",
    "ema_performance_summary.head()"
   ]
  },
  {
   "cell_type": "code",
   "execution_count": 31,
   "metadata": {
    "colab": {
     "base_uri": "https://localhost:8080/",
     "height": 544
    },
    "colab_type": "code",
    "id": "7ErV8f-6Tely",
    "outputId": "79745f23-239b-43bc-ab91-4fde0a9947cb"
   },
   "outputs": [
    {
     "data": {
      "text/html": [
       "<div>\n",
       "<style scoped>\n",
       "    .dataframe tbody tr th:only-of-type {\n",
       "        vertical-align: middle;\n",
       "    }\n",
       "\n",
       "    .dataframe tbody tr th {\n",
       "        vertical-align: top;\n",
       "    }\n",
       "\n",
       "    .dataframe thead th {\n",
       "        text-align: right;\n",
       "    }\n",
       "</style>\n",
       "<table border=\"1\" class=\"dataframe\">\n",
       "  <thead>\n",
       "    <tr style=\"text-align: right;\">\n",
       "      <th></th>\n",
       "      <th>model_name</th>\n",
       "      <th>return_value</th>\n",
       "      <th>return_percent</th>\n",
       "    </tr>\n",
       "  </thead>\n",
       "  <tbody>\n",
       "    <tr>\n",
       "      <th>1</th>\n",
       "      <td>SMA_002_FastSMA_005_SlowSMA_015</td>\n",
       "      <td>266.519</td>\n",
       "      <td>None</td>\n",
       "    </tr>\n",
       "    <tr>\n",
       "      <th>0</th>\n",
       "      <td>SMA_001_FastSMA_005_SlowSMA_010</td>\n",
       "      <td>241.654</td>\n",
       "      <td>None</td>\n",
       "    </tr>\n",
       "    <tr>\n",
       "      <th>6</th>\n",
       "      <td>SMA_007_FastSMA_005_SlowSMA_025</td>\n",
       "      <td>240.670</td>\n",
       "      <td>None</td>\n",
       "    </tr>\n",
       "    <tr>\n",
       "      <th>4</th>\n",
       "      <td>SMA_005_FastSMA_010_SlowSMA_020</td>\n",
       "      <td>228.520</td>\n",
       "      <td>None</td>\n",
       "    </tr>\n",
       "    <tr>\n",
       "      <th>3</th>\n",
       "      <td>SMA_004_FastSMA_005_SlowSMA_020</td>\n",
       "      <td>224.610</td>\n",
       "      <td>None</td>\n",
       "    </tr>\n",
       "  </tbody>\n",
       "</table>\n",
       "</div>"
      ],
      "text/plain": [
       "                        model_name  return_value return_percent\n",
       "1  SMA_002_FastSMA_005_SlowSMA_015       266.519           None\n",
       "0  SMA_001_FastSMA_005_SlowSMA_010       241.654           None\n",
       "6  SMA_007_FastSMA_005_SlowSMA_025       240.670           None\n",
       "4  SMA_005_FastSMA_010_SlowSMA_020       228.520           None\n",
       "3  SMA_004_FastSMA_005_SlowSMA_020       224.610           None"
      ]
     },
     "execution_count": 31,
     "metadata": {},
     "output_type": "execute_result"
    }
   ],
   "source": [
    "# Display the top models from SMA-only performance summary\n",
    "sma_performance_summary.head()"
   ]
  },
  {
   "cell_type": "code",
   "execution_count": 32,
   "metadata": {},
   "outputs": [
    {
     "data": {
      "text/html": [
       "<div>\n",
       "<style scoped>\n",
       "    .dataframe tbody tr th:only-of-type {\n",
       "        vertical-align: middle;\n",
       "    }\n",
       "\n",
       "    .dataframe tbody tr th {\n",
       "        vertical-align: top;\n",
       "    }\n",
       "\n",
       "    .dataframe thead th {\n",
       "        text-align: right;\n",
       "    }\n",
       "</style>\n",
       "<table border=\"1\" class=\"dataframe\">\n",
       "  <thead>\n",
       "    <tr style=\"text-align: right;\">\n",
       "      <th></th>\n",
       "      <th>model_name</th>\n",
       "      <th>return_value</th>\n",
       "      <th>return_percent</th>\n",
       "    </tr>\n",
       "  </thead>\n",
       "  <tbody>\n",
       "    <tr>\n",
       "      <th>3</th>\n",
       "      <td>Mixed_004_FastEMA_005_SlowSMA_020</td>\n",
       "      <td>239.369</td>\n",
       "      <td>None</td>\n",
       "    </tr>\n",
       "    <tr>\n",
       "      <th>9</th>\n",
       "      <td>Mixed_010_FastEMA_020_SlowSMA_025</td>\n",
       "      <td>239.029</td>\n",
       "      <td>None</td>\n",
       "    </tr>\n",
       "    <tr>\n",
       "      <th>2</th>\n",
       "      <td>Mixed_003_FastEMA_010_SlowSMA_015</td>\n",
       "      <td>235.340</td>\n",
       "      <td>None</td>\n",
       "    </tr>\n",
       "    <tr>\n",
       "      <th>10</th>\n",
       "      <td>Mixed_011_FastEMA_005_SlowSMA_030</td>\n",
       "      <td>233.690</td>\n",
       "      <td>None</td>\n",
       "    </tr>\n",
       "    <tr>\n",
       "      <th>1</th>\n",
       "      <td>Mixed_002_FastEMA_005_SlowSMA_015</td>\n",
       "      <td>233.610</td>\n",
       "      <td>None</td>\n",
       "    </tr>\n",
       "  </tbody>\n",
       "</table>\n",
       "</div>"
      ],
      "text/plain": [
       "                           model_name  return_value return_percent\n",
       "3   Mixed_004_FastEMA_005_SlowSMA_020       239.369           None\n",
       "9   Mixed_010_FastEMA_020_SlowSMA_025       239.029           None\n",
       "2   Mixed_003_FastEMA_010_SlowSMA_015       235.340           None\n",
       "10  Mixed_011_FastEMA_005_SlowSMA_030       233.690           None\n",
       "1   Mixed_002_FastEMA_005_SlowSMA_015       233.610           None"
      ]
     },
     "execution_count": 32,
     "metadata": {},
     "output_type": "execute_result"
    }
   ],
   "source": [
    "# Display the top models from Fast EMA/Slow SMA performance summary\n",
    "fast_ema_slow_sma_performance.head()"
   ]
  },
  {
   "cell_type": "code",
   "execution_count": 33,
   "metadata": {},
   "outputs": [
    {
     "data": {
      "text/html": [
       "<div>\n",
       "<style scoped>\n",
       "    .dataframe tbody tr th:only-of-type {\n",
       "        vertical-align: middle;\n",
       "    }\n",
       "\n",
       "    .dataframe tbody tr th {\n",
       "        vertical-align: top;\n",
       "    }\n",
       "\n",
       "    .dataframe thead th {\n",
       "        text-align: right;\n",
       "    }\n",
       "</style>\n",
       "<table border=\"1\" class=\"dataframe\">\n",
       "  <thead>\n",
       "    <tr style=\"text-align: right;\">\n",
       "      <th></th>\n",
       "      <th>model_name</th>\n",
       "      <th>return_value</th>\n",
       "      <th>return_percent</th>\n",
       "    </tr>\n",
       "  </thead>\n",
       "  <tbody>\n",
       "    <tr>\n",
       "      <th>0</th>\n",
       "      <td>Mixed_001_FastSMA_005_SlowEMA_010</td>\n",
       "      <td>238.73</td>\n",
       "      <td>None</td>\n",
       "    </tr>\n",
       "    <tr>\n",
       "      <th>3</th>\n",
       "      <td>Mixed_004_FastSMA_005_SlowEMA_020</td>\n",
       "      <td>228.06</td>\n",
       "      <td>None</td>\n",
       "    </tr>\n",
       "    <tr>\n",
       "      <th>34</th>\n",
       "      <td>Mixed_035_FastSMA_010_SlowEMA_050</td>\n",
       "      <td>227.73</td>\n",
       "      <td>None</td>\n",
       "    </tr>\n",
       "    <tr>\n",
       "      <th>1</th>\n",
       "      <td>Mixed_002_FastSMA_005_SlowEMA_015</td>\n",
       "      <td>227.47</td>\n",
       "      <td>None</td>\n",
       "    </tr>\n",
       "    <tr>\n",
       "      <th>28</th>\n",
       "      <td>Mixed_029_FastSMA_010_SlowEMA_045</td>\n",
       "      <td>221.13</td>\n",
       "      <td>None</td>\n",
       "    </tr>\n",
       "  </tbody>\n",
       "</table>\n",
       "</div>"
      ],
      "text/plain": [
       "                           model_name  return_value return_percent\n",
       "0   Mixed_001_FastSMA_005_SlowEMA_010        238.73           None\n",
       "3   Mixed_004_FastSMA_005_SlowEMA_020        228.06           None\n",
       "34  Mixed_035_FastSMA_010_SlowEMA_050        227.73           None\n",
       "1   Mixed_002_FastSMA_005_SlowEMA_015        227.47           None\n",
       "28  Mixed_029_FastSMA_010_SlowEMA_045        221.13           None"
      ]
     },
     "execution_count": 33,
     "metadata": {},
     "output_type": "execute_result"
    }
   ],
   "source": [
    "# Display the top models from Fast SMA/Slow EMA performance summary\n",
    "fast_sma_slow_ema_performance.head()"
   ]
  },
  {
   "cell_type": "code",
   "execution_count": 34,
   "metadata": {
    "collapsed": false,
    "jupyter": {
     "outputs_hidden": false
    },
    "pycharm": {
     "name": "#%%\n"
    }
   },
   "outputs": [],
   "source": [
    "# Display the entry/exit signals and transactions from the top model\n",
    "def display_signals_transactions(model_name, portfolio_collection, model_collection):\n",
    "    cols_to_display = ['open_price','close_price','fast_ema','slow_ema','fast_sma','slow_sma','trade_signal','signal_change','entry_exit']\n",
    "    print('The transactions from the top model %s:' % model_name)\n",
    "    print(portfolio_collection[model_name][portfolio_collection[model_name].trade_action != 0])\n",
    "    print()\n",
    "    print('The trading signal changes from the top model %s:' % model_name)\n",
    "    print(model_collection[model_name][(model_collection[model_name].signal_change != 0) | (model_collection[model_name].entry_exit != 0)][cols_to_display])"
   ]
  },
  {
   "cell_type": "code",
   "execution_count": 35,
   "metadata": {},
   "outputs": [
    {
     "name": "stdout",
     "output_type": "stream",
     "text": [
      "The transactions from the top model SMA_002_FastSMA_005_SlowSMA_015:\n",
      "           trade_action qty_onhand cost_basis sold_transaction gain_loss cash_onhand position_value total_position accumu_return\n",
      "date                                                                                                                            \n",
      "2019-01-16            1          1     153.08                0         0     -153.08         154.94           1.86          1.86\n",
      "2019-05-10           -1          0          0          197.419    44.339      44.339              0         44.339        44.339\n",
      "2019-06-10            1          1     191.81                0         0    -147.471         192.58         45.109        45.109\n",
      "2019-08-06           -1          0          0           196.31       4.5      48.839              0         48.839        48.839\n",
      "2019-08-19            1          1     210.62                0         0    -161.781         210.35         48.569        48.569\n",
      "2019-08-30           -1          0          0           210.16     -0.46      48.379              0         48.379        48.379\n",
      "2019-09-05            1          1        212                0         0    -163.621         213.28         49.659        49.659\n",
      "2019-09-27           -1          0          0           220.54      8.54      56.919              0         56.919        56.919\n",
      "2019-10-02            1          1     223.06                0         0    -166.141         218.96         52.819        52.819\n",
      "2019-12-05           -1          0          0           263.79     40.73      97.649              0         97.649        97.649\n",
      "2019-12-11            1          1     268.81                0         0    -171.161         270.77         99.609        99.609\n",
      "2020-02-06           -1          0          0           322.57     53.76     151.409              0        151.409       151.409\n",
      "2020-02-10            1          1     314.18                0         0    -162.771         321.55        158.779       158.779\n",
      "2020-02-25           -1          0          0           300.95    -13.23     138.179              0        138.179       138.179\n",
      "2020-04-01            1          1      246.5                0         0    -108.321         240.91        132.589       132.589\n",
      "2020-07-27           -1          0          0           374.84    128.34     266.519              0        266.519       266.519\n",
      "\n",
      "The trading signal changes from the top model SMA_002_FastSMA_005_SlowSMA_015:\n",
      "            open_price  close_price    fast_ema    slow_ema  fast_sma    slow_sma  trade_signal  signal_change  entry_exit\n",
      "date                                                                                                                      \n",
      "2019-01-15     150.270       153.07  151.973697  153.952864   152.494  152.242667           1.0            1.0         0.0\n",
      "2019-01-16     153.080       154.94  152.962465  154.076264   152.820  152.783333           1.0            0.0         1.0\n",
      "2019-05-09     200.400       200.72  203.829547  204.131983   205.342  205.618000           0.0           -1.0         0.0\n",
      "2019-05-10     197.419       197.18  201.613031  203.262986   202.428  205.172667           0.0            0.0        -1.0\n",
      "2019-06-07     186.510       190.15  184.162158  183.731094   182.170  181.328667           1.0            1.0         0.0\n",
      "2019-06-10     191.810       192.58  186.968106  184.837207   186.026  181.567333           1.0            0.0         1.0\n",
      "2019-08-05     197.990       193.34  202.850820  205.008757   205.522  206.192000           0.0           -1.0         0.0\n",
      "2019-08-06     196.310       197.00  200.900547  204.007663   203.166  205.692000           0.0            0.0        -1.0\n",
      "2019-08-16     204.280       206.50  204.038512  203.638155   204.088  203.879333           1.0            1.0         0.0\n",
      "2019-08-19     210.620       210.35  206.142342  204.477136   206.062  203.924000           1.0            0.0         1.0\n",
      "2019-08-29     208.500       209.01  207.021949  206.421010   205.566  206.338000           0.0           -1.0         0.0\n",
      "2019-08-30     210.160       208.74  207.594633  206.710884   206.786  206.854667           0.0            0.0        -1.0\n",
      "2019-09-04     208.390       209.19  207.705392  206.910208   207.634  207.217333           1.0            1.0         0.0\n",
      "2019-09-05     212.000       213.28  209.563595  207.706432   209.184  207.919333           1.0            0.0         1.0\n",
      "2019-09-26     220.000       219.89  219.679027  218.007878   219.010  219.262333           0.0           -1.0         0.0\n",
      "2019-09-27     220.540       218.82  219.392685  218.109393   219.228  219.633000           0.0            0.0        -1.0\n",
      "2019-10-01     225.070       224.59  222.142304  219.560473   221.660  220.812333           1.0            1.0         0.0\n",
      "2019-10-02     223.060       218.96  221.081536  219.485414   221.246  220.503667           1.0            0.0         1.0\n",
      "2019-12-04     261.070       261.74  262.857920  262.419604   264.088  264.289333           0.0           -1.0         0.0\n",
      "2019-12-05     263.790       265.58  263.765280  262.814653   263.636  264.363333           0.0            0.0        -1.0\n",
      "2019-12-10     268.600       268.48  267.066750  264.727453   266.686  265.070667           1.0            1.0         0.0\n",
      "2019-12-11     268.810       270.77  268.301166  265.482772   268.492  265.369333           1.0            0.0         1.0\n",
      "2020-02-05     323.520       321.45  317.575253  314.695105   316.468  316.696000           0.0           -1.0         0.0\n",
      "2020-02-06     322.570       325.21  320.120169  316.009467   316.736  317.620667           0.0            0.0        -1.0\n",
      "2020-02-07     322.370       320.03  320.090112  316.512034   318.840  317.940000           1.0            1.0         0.0\n",
      "2020-02-10     314.180       321.55  320.576742  317.141780   321.418  318.128000           1.0            0.0         1.0\n",
      "2020-02-24     297.260       298.18  312.028549  316.838817   314.830  319.102000           0.0           -1.0         0.0\n",
      "2020-02-25     300.950       288.08  304.045699  313.243965   308.646  317.730000           0.0            0.0        -1.0\n",
      "2020-03-31     255.600       254.29  251.476137  255.050724   252.160  249.962667           1.0            1.0         0.0\n",
      "2020-04-01     246.500       240.91  247.954091  253.283134   251.238  247.661333           1.0            0.0         1.0\n",
      "2020-07-24     363.950       370.46  378.649528  378.681531   382.472  382.608000           0.0           -1.0         0.0\n",
      "2020-07-27     374.840       379.24  378.846352  378.751340   379.634  382.967333           0.0            0.0        -1.0\n",
      "\n"
     ]
    },
    {
     "data": {
      "image/png": "[encoded data removed]",
      "text/plain": [
       "<Figure size 1152x648 with 1 Axes>"
      ]
     },
     "metadata": {},
     "output_type": "display_data"
    }
   ],
   "source": [
    "# Display the details for the top model\n",
    "return_list = [ema_performance_summary.iloc[0]['return_value'], sma_performance_summary.iloc[0]['return_value'], \n",
    "               fast_ema_slow_sma_performance.iloc[0]['return_value'], fast_sma_slow_ema_performance.iloc[0]['return_value']]\n",
    "performance_list = [ema_performance_summary, sma_performance_summary, fast_ema_slow_sma_performance, fast_sma_slow_ema_performance]\n",
    "portfolio_list = [ema_portfolio_collection, sma_portfolio_collection, fast_ema_slow_sma_portfolios, fast_sma_slow_ema_portfolios]\n",
    "model_list = [ema_model_collection, sma_model_collection, fast_ema_slow_sma_models, fast_sma_slow_ema_models]\n",
    "fast_ma_list = ['fast_ema', 'fast_sma', 'fast_ema', 'fast_sma']\n",
    "slow_ma_list = ['slow_ema', 'slow_sma', 'slow_sma', 'slow_ema']\n",
    "top_model_return = max(return_list)\n",
    "top_model_index = return_list.index(top_model_return)\n",
    "top_model_name = performance_list[top_model_index].iloc[0]['model_name']\n",
    "display_signals_transactions(top_model_name, portfolio_list[top_model_index], model_list[top_model_index])\n",
    "print()\n",
    "draw_model_graphs(top_model_name, model_list[top_model_index][top_model_name], fast_ma_list[top_model_index], slow_ma_list[top_model_index])"
   ]
  },
  {
   "cell_type": "markdown",
   "metadata": {
    "colab_type": "text",
    "id": "xc_vWsaSTel4"
   },
   "source": [
    "## Task 5. Evaluate Performance"
   ]
  },
  {
   "cell_type": "code",
   "execution_count": 36,
   "metadata": {
    "colab": {
     "base_uri": "https://localhost:8080/",
     "height": 51
    },
    "colab_type": "code",
    "collapsed": false,
    "id": "YTyOJjYzTel7",
    "jupyter": {
     "outputs_hidden": false
    },
    "outputId": "8ab127f5-5316-4e3a-9908-75f18dd9a2b9",
    "pycharm": {
     "name": "#%%\n"
    }
   },
   "outputs": [
    {
     "name": "stdout",
     "output_type": "stream",
     "text": [
      "The best model found is: SMA_002_FastSMA_005_SlowSMA_015\n",
      "The best profit/loss for the investing period is: $266.52\n"
     ]
    }
   ],
   "source": [
    "print('The best model found is:', top_model_name)\n",
    "print('The best profit/loss for the investing period is: $%.2f' % top_model_return)\n",
    "if initial_capital != 0:\n",
    "    print('The best return percentage for initial capital is: %.2f%%' % (top_model_return / initial_capital * 100))"
   ]
  },
  {
   "cell_type": "code",
   "execution_count": 37,
   "metadata": {
    "colab": {
     "base_uri": "https://localhost:8080/",
     "height": 34
    },
    "colab_type": "code",
    "id": "aTP_6WyfTemB",
    "outputId": "6cda4cc2-d890-47d5-9a63-43cffd21d72f"
   },
   "outputs": [
    {
     "name": "stdout",
     "output_type": "stream",
     "text": [
      "The performance of the long-only model from day one is: $225.27\n"
     ]
    }
   ],
   "source": [
    "# Calculate the stock's performance for a long-only model\n",
    "model_template = model_template[model_start_date:model_end_date]\n",
    "print('The performance of the long-only model from day one is: $%.2f' %(model_template.iloc[-1]['close_price'] - model_template.iloc[0]['open_price']))"
   ]
  },
  {
   "cell_type": "code",
   "execution_count": 38,
   "metadata": {
    "colab": {
     "base_uri": "https://localhost:8080/",
     "height": 34
    },
    "colab_type": "code",
    "collapsed": false,
    "id": "be1J2gmiTemG",
    "jupyter": {
     "outputs_hidden": false
    },
    "outputId": "28010a58-a8c1-43ae-d6ff-200fc13eb876",
    "pycharm": {
     "name": "#%%\n"
    }
   },
   "outputs": [
    {
     "name": "stdout",
     "output_type": "stream",
     "text": [
      "Total time for the script: 0:08:34.174378\n"
     ]
    }
   ],
   "source": [
    "print ('Total time for the script:',(datetime.now() - startTimeScript))"
   ]
  }
 ],
 "metadata": {
  "colab": {
   "collapsed_sections": [],
   "name": "py_algotrading_ema_crossover_grid_search.ipynb",
   "provenance": []
  },
  "kernelspec": {
   "display_name": "Python 3",
   "language": "python",
   "name": "python3"
  },
  "language_info": {
   "codemirror_mode": {
    "name": "ipython",
    "version": 3
   },
   "file_extension": ".py",
   "mimetype": "text/x-python",
   "name": "python",
   "nbconvert_exporter": "python",
   "pygments_lexer": "ipython3",
   "version": "3.7.6"
  }
 },
 "nbformat": 4,
 "nbformat_minor": 4
}
