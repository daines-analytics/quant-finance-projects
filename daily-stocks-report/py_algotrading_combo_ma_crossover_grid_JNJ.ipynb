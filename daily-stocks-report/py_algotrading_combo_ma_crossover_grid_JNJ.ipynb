{
 "cells": [
  {
   "cell_type": "markdown",
   "metadata": {
    "colab_type": "text",
    "id": "nn0Ld1RjTekC"
   },
   "source": [
    "# Algorithmic Trading Model for Combo Moving Average Crossover Grid Search\n",
    "### July 28, 2020\n"
   ]
  },
  {
   "cell_type": "markdown",
   "metadata": {
    "colab_type": "text",
    "id": "-DieEv9pTekE"
   },
   "source": [
    "## Task 1. Prepare Environment"
   ]
  },
  {
   "cell_type": "code",
   "execution_count": 1,
   "metadata": {
    "colab": {},
    "colab_type": "code",
    "collapsed": false,
    "id": "8IwyGxxuTekE",
    "jupyter": {
     "outputs_hidden": false
    },
    "pycharm": {
     "name": "#%%\n"
    }
   },
   "outputs": [],
   "source": [
    "import os\n",
    "import sys\n",
    "import numpy as np\n",
    "import pandas as pd\n",
    "import requests\n",
    "import json\n",
    "import matplotlib.pyplot as plt\n",
    "from datetime import datetime, timedelta\n",
    "from dotenv import load_dotenv"
   ]
  },
  {
   "cell_type": "code",
   "execution_count": 2,
   "metadata": {
    "colab": {
     "base_uri": "https://localhost:8080/",
     "height": 51
    },
    "colab_type": "code",
    "collapsed": false,
    "id": "Zagik25QTekS",
    "jupyter": {
     "outputs_hidden": false
    },
    "outputId": "d14332ba-63ec-4224-ca13-c4ecdab3541a",
    "pycharm": {
     "name": "#%%\n"
    }
   },
   "outputs": [
    {
     "name": "stdout",
     "output_type": "stream",
     "text": [
      "Starting date for the model: 2019-01-01 00:00:00\n",
      "Ending date for the model: 2020-07-29 01:56:55.878689\n"
     ]
    }
   ],
   "source": [
    "stock_symbol = 'JNJ'\n",
    "initial_capital = 0\n",
    "\n",
    "# Specify the moving average parameters for the trading strategy\n",
    "fast_ema_min = 5\n",
    "fast_ema_max = 20\n",
    "slow_ema_min = 10\n",
    "slow_ema_max = 50\n",
    "fast_sma_min = 5\n",
    "fast_sma_max = 20\n",
    "slow_sma_min = 10\n",
    "slow_sma_max = 50\n",
    "ma_increment = 5\n",
    "min_ma_gap = 5\n",
    "\n",
    "# The number of extra days of data we need (usually equals to the larger of slow_ema or slow_sma)\n",
    "extra_days_data = 50\n",
    "\n",
    "model_start_date = datetime(2019, 1, 1)\n",
    "print(\"Starting date for the model:\", model_start_date)\n",
    "stock_start_date = model_start_date - timedelta(days=int(extra_days_data*1.5)) # Need more pricing data to calculate moving averages\n",
    "\n",
    "model_end_date = datetime.now()\n",
    "# model_end_date = datetime(2020, 6, 30)\n",
    "print(\"Ending date for the model:\", model_end_date)"
   ]
  },
  {
   "cell_type": "code",
   "execution_count": 3,
   "metadata": {
    "colab": {
     "base_uri": "https://localhost:8080/",
     "height": 34
    },
    "colab_type": "code",
    "collapsed": false,
    "id": "aTI50KL9TekN",
    "jupyter": {
     "outputs_hidden": false
    },
    "outputId": "68f4a687-6e33-48e5-ef46-c23d7994bc3e",
    "pycharm": {
     "name": "#%%\n"
    }
   },
   "outputs": [],
   "source": [
    "# Begin the timer for the script processing\n",
    "startTimeScript = datetime.now()\n",
    "\n",
    "# Set up the verbose flag to print detailed messages for debugging (setting True will activate!)\n",
    "verbose_models = False\n",
    "verbose_graphs = False\n",
    "verbose_portfolios = False\n",
    "\n",
    "# Set up the sendNotification flag to send progress emails (setting True will send emails!)\n",
    "notifyStatus = False\n",
    "\n",
    "# Set up the parent directory location for loading the dotenv files\n",
    "useColab = False\n",
    "if useColab:\n",
    "    # Mount Google Drive locally for storing files\n",
    "    from google.colab import drive\n",
    "    drive.mount('/content/gdrive')\n",
    "    gdrivePrefix = '/content/gdrive/My Drive/Colab_Downloads/'\n",
    "    env_path = '/content/gdrive/My Drive/Colab Notebooks/'\n",
    "    dotenv_path = env_path + \"python_script.env\"\n",
    "    load_dotenv(dotenv_path=dotenv_path)\n",
    "\n",
    "# Set up the dotenv file for retrieving environment variables\n",
    "useLocalPC = True\n",
    "if useLocalPC:\n",
    "    env_path = \"/Users/david/PycharmProjects/\"\n",
    "    dotenv_path = env_path + \"python_script.env\"\n",
    "    load_dotenv(dotenv_path=dotenv_path)\n",
    "\n",
    "# Configure the plotting style\n",
    "plt.style.use('seaborn')\n",
    "\n",
    "# Set Pandas options\n",
    "pd.set_option(\"display.max_rows\", None)\n",
    "pd.set_option(\"display.max_columns\", None)\n",
    "pd.set_option(\"display.width\", 140)"
   ]
  },
  {
   "cell_type": "markdown",
   "metadata": {
    "colab_type": "text",
    "id": "Xa51FMY_TekZ"
   },
   "source": [
    "## Task 2. Acquire and Pre-Process Data"
   ]
  },
  {
   "cell_type": "code",
   "execution_count": 4,
   "metadata": {
    "colab": {},
    "colab_type": "code",
    "collapsed": false,
    "id": "Og9L0byuTekd",
    "jupyter": {
     "outputs_hidden": false
    },
    "pycharm": {
     "name": "#%%\n"
    }
   },
   "outputs": [],
   "source": [
    "# Check and see whether the API key is available\n",
    "quandl_key = os.environ.get('QUANDL_API')\n",
    "if quandl_key is None: sys.exit(\"API key for Quandl not available. Script Processing Aborted!!!\")"
   ]
  },
  {
   "cell_type": "code",
   "execution_count": 5,
   "metadata": {
    "colab": {},
    "colab_type": "code",
    "collapsed": false,
    "id": "Vx4DZ7UbTekg",
    "jupyter": {
     "outputs_hidden": false
    },
    "pycharm": {
     "name": "#%%\n"
    }
   },
   "outputs": [],
   "source": [
    "start_date_string = stock_start_date.strftime('%Y-%m-%d')\n",
    "end_date_string = model_end_date.strftime('%Y-%m-%d')\n",
    "\n",
    "quandl_url = \"https://www.quandl.com/api/v3/datatables/SHARADAR/SEP.json?date.gte=%s&date.lte=%s&ticker=%s&api_key=%s\" % (start_date_string, end_date_string, stock_symbol, quandl_key)"
   ]
  },
  {
   "cell_type": "code",
   "execution_count": 6,
   "metadata": {
    "colab": {
     "base_uri": "https://localhost:8080/",
     "height": 34
    },
    "colab_type": "code",
    "collapsed": false,
    "id": "zdbEhMn8Tekj",
    "jupyter": {
     "outputs_hidden": false
    },
    "outputId": "c52a8b39-0a15-4b5a-c2d7-4359b519573d",
    "pycharm": {
     "name": "#%%\n"
    }
   },
   "outputs": [
    {
     "name": "stdout",
     "output_type": "stream",
     "text": [
      "446 data points retrieved from the API call.\n"
     ]
    }
   ],
   "source": [
    "response = requests.get(quandl_url)\n",
    "quandl_dict = json.loads(response.text)\n",
    "stock_quandl = pd.DataFrame(quandl_dict['datatable']['data'])\n",
    "print(len(stock_quandl), 'data points retrieved from the API call.')"
   ]
  },
  {
   "cell_type": "code",
   "execution_count": 7,
   "metadata": {
    "colab": {
     "base_uri": "https://localhost:8080/",
     "height": 306
    },
    "colab_type": "code",
    "collapsed": false,
    "id": "5ybXsZl1Tekl",
    "jupyter": {
     "outputs_hidden": false
    },
    "outputId": "2ecb3706-3631-40df-d26e-cb13ffec5fa4",
    "pycharm": {
     "name": "#%%\n"
    }
   },
   "outputs": [
    {
     "name": "stdout",
     "output_type": "stream",
     "text": [
      "<class 'pandas.core.frame.DataFrame'>\n",
      "DatetimeIndex: 446 entries, 2018-10-18 to 2020-07-28\n",
      "Data columns (total 10 columns):\n",
      " #   Column       Non-Null Count  Dtype  \n",
      "---  ------       --------------  -----  \n",
      " 0   ticker       446 non-null    object \n",
      " 1   date         446 non-null    object \n",
      " 2   open         446 non-null    float64\n",
      " 3   high         446 non-null    float64\n",
      " 4   low          446 non-null    float64\n",
      " 5   close        446 non-null    float64\n",
      " 6   volume       446 non-null    float64\n",
      " 7   dividend     446 non-null    float64\n",
      " 8   closeunadj   446 non-null    float64\n",
      " 9   lastupdated  446 non-null    object \n",
      "dtypes: float64(7), object(3)\n",
      "memory usage: 38.3+ KB\n"
     ]
    }
   ],
   "source": [
    "stock_quandl.columns = ['ticker', 'date', 'open', 'high', 'low', 'close', 'volume', 'dividend', 'closeunadj', 'lastupdated']\n",
    "# stock_quandl.set_index('date', inplace=True)\n",
    "stock_quandl.index = pd.to_datetime(stock_quandl.date)\n",
    "stock_quandl = stock_quandl.sort_index(ascending=True)\n",
    "stock_quandl.info()"
   ]
  },
  {
   "cell_type": "code",
   "execution_count": 8,
   "metadata": {
    "colab": {
     "base_uri": "https://localhost:8080/",
     "height": 235
    },
    "colab_type": "code",
    "collapsed": false,
    "id": "GzN1_13bTeko",
    "jupyter": {
     "outputs_hidden": false
    },
    "outputId": "c113bf72-655c-46a1-ee6d-36b236404897",
    "pycharm": {
     "name": "#%%\n"
    }
   },
   "outputs": [
    {
     "data": {
      "text/html": [
       "<div>\n",
       "<style scoped>\n",
       "    .dataframe tbody tr th:only-of-type {\n",
       "        vertical-align: middle;\n",
       "    }\n",
       "\n",
       "    .dataframe tbody tr th {\n",
       "        vertical-align: top;\n",
       "    }\n",
       "\n",
       "    .dataframe thead th {\n",
       "        text-align: right;\n",
       "    }\n",
       "</style>\n",
       "<table border=\"1\" class=\"dataframe\">\n",
       "  <thead>\n",
       "    <tr style=\"text-align: right;\">\n",
       "      <th></th>\n",
       "      <th>ticker</th>\n",
       "      <th>date</th>\n",
       "      <th>open</th>\n",
       "      <th>high</th>\n",
       "      <th>low</th>\n",
       "      <th>close</th>\n",
       "      <th>volume</th>\n",
       "      <th>dividend</th>\n",
       "      <th>closeunadj</th>\n",
       "      <th>lastupdated</th>\n",
       "    </tr>\n",
       "    <tr>\n",
       "      <th>date</th>\n",
       "      <th></th>\n",
       "      <th></th>\n",
       "      <th></th>\n",
       "      <th></th>\n",
       "      <th></th>\n",
       "      <th></th>\n",
       "      <th></th>\n",
       "      <th></th>\n",
       "      <th></th>\n",
       "      <th></th>\n",
       "    </tr>\n",
       "  </thead>\n",
       "  <tbody>\n",
       "    <tr>\n",
       "      <th>2018-10-18</th>\n",
       "      <td>JNJ</td>\n",
       "      <td>2018-10-18</td>\n",
       "      <td>139.20</td>\n",
       "      <td>139.81</td>\n",
       "      <td>137.71</td>\n",
       "      <td>139.50</td>\n",
       "      <td>7583928.0</td>\n",
       "      <td>0.0</td>\n",
       "      <td>139.50</td>\n",
       "      <td>2020-05-01</td>\n",
       "    </tr>\n",
       "    <tr>\n",
       "      <th>2018-10-19</th>\n",
       "      <td>JNJ</td>\n",
       "      <td>2018-10-19</td>\n",
       "      <td>138.34</td>\n",
       "      <td>140.00</td>\n",
       "      <td>137.91</td>\n",
       "      <td>139.05</td>\n",
       "      <td>5924794.0</td>\n",
       "      <td>0.0</td>\n",
       "      <td>139.05</td>\n",
       "      <td>2020-05-01</td>\n",
       "    </tr>\n",
       "    <tr>\n",
       "      <th>2018-10-22</th>\n",
       "      <td>JNJ</td>\n",
       "      <td>2018-10-22</td>\n",
       "      <td>138.61</td>\n",
       "      <td>139.26</td>\n",
       "      <td>138.14</td>\n",
       "      <td>138.68</td>\n",
       "      <td>4637394.0</td>\n",
       "      <td>0.0</td>\n",
       "      <td>138.68</td>\n",
       "      <td>2020-05-01</td>\n",
       "    </tr>\n",
       "    <tr>\n",
       "      <th>2018-10-23</th>\n",
       "      <td>JNJ</td>\n",
       "      <td>2018-10-23</td>\n",
       "      <td>137.79</td>\n",
       "      <td>139.49</td>\n",
       "      <td>137.45</td>\n",
       "      <td>138.93</td>\n",
       "      <td>8282694.0</td>\n",
       "      <td>0.0</td>\n",
       "      <td>138.93</td>\n",
       "      <td>2020-05-01</td>\n",
       "    </tr>\n",
       "    <tr>\n",
       "      <th>2018-10-24</th>\n",
       "      <td>JNJ</td>\n",
       "      <td>2018-10-24</td>\n",
       "      <td>138.52</td>\n",
       "      <td>140.11</td>\n",
       "      <td>137.17</td>\n",
       "      <td>137.47</td>\n",
       "      <td>8148997.0</td>\n",
       "      <td>0.0</td>\n",
       "      <td>137.47</td>\n",
       "      <td>2020-05-01</td>\n",
       "    </tr>\n",
       "  </tbody>\n",
       "</table>\n",
       "</div>"
      ],
      "text/plain": [
       "           ticker        date    open    high     low   close     volume  dividend  closeunadj lastupdated\n",
       "date                                                                                                      \n",
       "2018-10-18    JNJ  2018-10-18  139.20  139.81  137.71  139.50  7583928.0       0.0      139.50  2020-05-01\n",
       "2018-10-19    JNJ  2018-10-19  138.34  140.00  137.91  139.05  5924794.0       0.0      139.05  2020-05-01\n",
       "2018-10-22    JNJ  2018-10-22  138.61  139.26  138.14  138.68  4637394.0       0.0      138.68  2020-05-01\n",
       "2018-10-23    JNJ  2018-10-23  137.79  139.49  137.45  138.93  8282694.0       0.0      138.93  2020-05-01\n",
       "2018-10-24    JNJ  2018-10-24  138.52  140.11  137.17  137.47  8148997.0       0.0      137.47  2020-05-01"
      ]
     },
     "execution_count": 8,
     "metadata": {},
     "output_type": "execute_result"
    }
   ],
   "source": [
    "stock_quandl.head()"
   ]
  },
  {
   "cell_type": "code",
   "execution_count": 9,
   "metadata": {
    "colab": {
     "base_uri": "https://localhost:8080/",
     "height": 235
    },
    "colab_type": "code",
    "collapsed": false,
    "id": "T7jmDLccTeks",
    "jupyter": {
     "outputs_hidden": false
    },
    "outputId": "4c47d9b0-b8d7-4a64-c05b-300169b85925",
    "pycharm": {
     "name": "#%%\n"
    }
   },
   "outputs": [
    {
     "data": {
      "text/html": [
       "<div>\n",
       "<style scoped>\n",
       "    .dataframe tbody tr th:only-of-type {\n",
       "        vertical-align: middle;\n",
       "    }\n",
       "\n",
       "    .dataframe tbody tr th {\n",
       "        vertical-align: top;\n",
       "    }\n",
       "\n",
       "    .dataframe thead th {\n",
       "        text-align: right;\n",
       "    }\n",
       "</style>\n",
       "<table border=\"1\" class=\"dataframe\">\n",
       "  <thead>\n",
       "    <tr style=\"text-align: right;\">\n",
       "      <th></th>\n",
       "      <th>ticker</th>\n",
       "      <th>date</th>\n",
       "      <th>open</th>\n",
       "      <th>high</th>\n",
       "      <th>low</th>\n",
       "      <th>close</th>\n",
       "      <th>volume</th>\n",
       "      <th>dividend</th>\n",
       "      <th>closeunadj</th>\n",
       "      <th>lastupdated</th>\n",
       "    </tr>\n",
       "    <tr>\n",
       "      <th>date</th>\n",
       "      <th></th>\n",
       "      <th></th>\n",
       "      <th></th>\n",
       "      <th></th>\n",
       "      <th></th>\n",
       "      <th></th>\n",
       "      <th></th>\n",
       "      <th></th>\n",
       "      <th></th>\n",
       "      <th></th>\n",
       "    </tr>\n",
       "  </thead>\n",
       "  <tbody>\n",
       "    <tr>\n",
       "      <th>2020-07-22</th>\n",
       "      <td>JNJ</td>\n",
       "      <td>2020-07-22</td>\n",
       "      <td>149.93</td>\n",
       "      <td>150.405</td>\n",
       "      <td>147.85</td>\n",
       "      <td>150.01</td>\n",
       "      <td>5916769.0</td>\n",
       "      <td>0.0</td>\n",
       "      <td>150.01</td>\n",
       "      <td>2020-07-22</td>\n",
       "    </tr>\n",
       "    <tr>\n",
       "      <th>2020-07-23</th>\n",
       "      <td>JNJ</td>\n",
       "      <td>2020-07-23</td>\n",
       "      <td>150.21</td>\n",
       "      <td>150.850</td>\n",
       "      <td>149.28</td>\n",
       "      <td>149.61</td>\n",
       "      <td>6555650.0</td>\n",
       "      <td>0.0</td>\n",
       "      <td>149.61</td>\n",
       "      <td>2020-07-23</td>\n",
       "    </tr>\n",
       "    <tr>\n",
       "      <th>2020-07-24</th>\n",
       "      <td>JNJ</td>\n",
       "      <td>2020-07-24</td>\n",
       "      <td>150.50</td>\n",
       "      <td>150.600</td>\n",
       "      <td>147.03</td>\n",
       "      <td>148.12</td>\n",
       "      <td>5358950.0</td>\n",
       "      <td>0.0</td>\n",
       "      <td>148.12</td>\n",
       "      <td>2020-07-24</td>\n",
       "    </tr>\n",
       "    <tr>\n",
       "      <th>2020-07-27</th>\n",
       "      <td>JNJ</td>\n",
       "      <td>2020-07-27</td>\n",
       "      <td>147.37</td>\n",
       "      <td>148.920</td>\n",
       "      <td>146.86</td>\n",
       "      <td>147.18</td>\n",
       "      <td>5673807.0</td>\n",
       "      <td>0.0</td>\n",
       "      <td>147.18</td>\n",
       "      <td>2020-07-27</td>\n",
       "    </tr>\n",
       "    <tr>\n",
       "      <th>2020-07-28</th>\n",
       "      <td>JNJ</td>\n",
       "      <td>2020-07-28</td>\n",
       "      <td>147.40</td>\n",
       "      <td>147.990</td>\n",
       "      <td>146.75</td>\n",
       "      <td>146.83</td>\n",
       "      <td>4841223.0</td>\n",
       "      <td>0.0</td>\n",
       "      <td>146.83</td>\n",
       "      <td>2020-07-28</td>\n",
       "    </tr>\n",
       "  </tbody>\n",
       "</table>\n",
       "</div>"
      ],
      "text/plain": [
       "           ticker        date    open     high     low   close     volume  dividend  closeunadj lastupdated\n",
       "date                                                                                                       \n",
       "2020-07-22    JNJ  2020-07-22  149.93  150.405  147.85  150.01  5916769.0       0.0      150.01  2020-07-22\n",
       "2020-07-23    JNJ  2020-07-23  150.21  150.850  149.28  149.61  6555650.0       0.0      149.61  2020-07-23\n",
       "2020-07-24    JNJ  2020-07-24  150.50  150.600  147.03  148.12  5358950.0       0.0      148.12  2020-07-24\n",
       "2020-07-27    JNJ  2020-07-27  147.37  148.920  146.86  147.18  5673807.0       0.0      147.18  2020-07-27\n",
       "2020-07-28    JNJ  2020-07-28  147.40  147.990  146.75  146.83  4841223.0       0.0      146.83  2020-07-28"
      ]
     },
     "execution_count": 9,
     "metadata": {},
     "output_type": "execute_result"
    }
   ],
   "source": [
    "stock_quandl.tail()"
   ]
  },
  {
   "cell_type": "code",
   "execution_count": 10,
   "metadata": {
    "colab": {
     "base_uri": "https://localhost:8080/",
     "height": 535
    },
    "colab_type": "code",
    "collapsed": false,
    "id": "Tfuu40coTekv",
    "jupyter": {
     "outputs_hidden": false
    },
    "outputId": "2357753d-6c83-46ad-e8cc-8593497d20ff",
    "pycharm": {
     "name": "#%%\n"
    }
   },
   "outputs": [
    {
     "data": {
      "image/png": "[encoded data removed]",
      "text/plain": [
       "<Figure size 1152x648 with 1 Axes>"
      ]
     },
     "metadata": {},
     "output_type": "display_data"
    }
   ],
   "source": [
    "quandl_title = 'Quandl Historical Stock Information for ' + stock_symbol\n",
    "stock_quandl['close'].plot(figsize=(16,9), title=quandl_title)\n",
    "plt.show()"
   ]
  },
  {
   "cell_type": "markdown",
   "metadata": {
    "colab_type": "text",
    "id": "UKNJYDlGTek0"
   },
   "source": [
    "## Task 3. Develop Strategy and Train Model"
   ]
  },
  {
   "cell_type": "markdown",
   "metadata": {
    "colab_type": "text",
    "id": "zUtaaGbgTek3"
   },
   "source": [
    "### 3.a) Set up the Dataframe for the Trading Model"
   ]
  },
  {
   "cell_type": "code",
   "execution_count": 11,
   "metadata": {
    "colab": {
     "base_uri": "https://localhost:8080/",
     "height": 170
    },
    "colab_type": "code",
    "collapsed": false,
    "id": "dGpN7bg-Tek3",
    "jupyter": {
     "outputs_hidden": false
    },
    "outputId": "60f23809-9c25-44bd-dcbc-82c93777493d",
    "pycharm": {
     "name": "#%%\n"
    }
   },
   "outputs": [
    {
     "name": "stdout",
     "output_type": "stream",
     "text": [
      "<class 'pandas.core.frame.DataFrame'>\n",
      "DatetimeIndex: 446 entries, 2018-10-18 to 2020-07-28\n",
      "Data columns (total 2 columns):\n",
      " #   Column       Non-Null Count  Dtype  \n",
      "---  ------       --------------  -----  \n",
      " 0   open_price   446 non-null    float64\n",
      " 1   close_price  446 non-null    float64\n",
      "dtypes: float64(2)\n",
      "memory usage: 10.5 KB\n"
     ]
    }
   ],
   "source": [
    "# Set up the standard column name for modeling\n",
    "model_template = stock_quandl.loc[:, ['open','close']]\n",
    "model_template.rename(columns={'open': 'open_price', 'close': 'close_price'}, inplace=True)\n",
    "model_template.info()"
   ]
  },
  {
   "cell_type": "markdown",
   "metadata": {
    "colab_type": "text",
    "id": "v-3ecix6Tek_"
   },
   "source": [
    "### 3.b) Set up the Analysis Table with Indicators"
   ]
  },
  {
   "cell_type": "code",
   "execution_count": 12,
   "metadata": {
    "colab": {},
    "colab_type": "code",
    "collapsed": false,
    "id": "yfQTRXPnTelA",
    "jupyter": {
     "outputs_hidden": false
    },
    "pycharm": {
     "name": "#%%\n"
    }
   },
   "outputs": [],
   "source": [
    "# Define the functions that will generate the trading signals based on the different MA curves used\n",
    "\n",
    "def ema_only_crossover(model):\n",
    "    wait_for_entry = True\n",
    "    for x in range(len(model)):\n",
    "        if model['ema_change'].iloc[x] > 0:\n",
    "            model['trade_signal'].iloc[x] = 1  # trade_signal = 1 means we should enter into a long position\n",
    "        else:\n",
    "            model['trade_signal'].iloc[x] = 0  # trade_signal = 0 means we should exit the long position\n",
    "        if x != 0:\n",
    "            model['signal_change'].iloc[x] = model['trade_signal'].iloc[x] - model['trade_signal'].iloc[x-1]\n",
    "            if wait_for_entry and (model['signal_change'].iloc[x-1] == 1):\n",
    "                model['entry_exit'].iloc[x] = model['signal_change'].iloc[x-1]\n",
    "                wait_for_entry = False\n",
    "            elif (not wait_for_entry) and (model['signal_change'].iloc[x-1] != 0):\n",
    "                model['entry_exit'].iloc[x] = model['signal_change'].iloc[x-1]\n",
    "\n",
    "def sma_only_crossover(model):\n",
    "    wait_for_entry = True\n",
    "    for x in range(len(model)):\n",
    "        if model['sma_change'].iloc[x] > 0:\n",
    "            model['trade_signal'].iloc[x] = 1  # trade_signal = 1 means we should enter into a long position\n",
    "        else:\n",
    "            model['trade_signal'].iloc[x] = 0  # trade_signal = 0 means we should exit the long position\n",
    "        if x != 0:\n",
    "            model['signal_change'].iloc[x] = model['trade_signal'].iloc[x] - model['trade_signal'].iloc[x-1]\n",
    "            if wait_for_entry and (model['signal_change'].iloc[x-1] == 1):\n",
    "                model['entry_exit'].iloc[x] = model['signal_change'].iloc[x-1]\n",
    "                wait_for_entry = False\n",
    "            elif (not wait_for_entry) and (model['signal_change'].iloc[x-1] != 0):\n",
    "                model['entry_exit'].iloc[x] = model['signal_change'].iloc[x-1]"
   ]
  },
  {
   "cell_type": "code",
   "execution_count": 13,
   "metadata": {
    "colab": {
     "base_uri": "https://localhost:8080/",
     "height": 1000
    },
    "colab_type": "code",
    "collapsed": false,
    "id": "8M4khYD7TelG",
    "jupyter": {
     "outputs_hidden": false
    },
    "outputId": "05f4cf43-5ebd-4654-9806-00894118795f",
    "pycharm": {
     "name": "#%%\n"
    }
   },
   "outputs": [
    {
     "name": "stdout",
     "output_type": "stream",
     "text": [
      "30 EMA only models generated!\n",
      "\n",
      "30 SMA only models generated!\n"
     ]
    }
   ],
   "source": [
    "# Processing models using only the EMA curves\n",
    "ema_model_collection = {}\n",
    "serial_number = 1\n",
    "for slow_ma in range(slow_ema_min, slow_ema_max+1, ma_increment):\n",
    "    for fast_ma in range(fast_ema_min, fast_ema_max+1, ma_increment):\n",
    "        if (slow_ma - fast_ma) < min_ma_gap: break\n",
    "        if verbose_models: print('Processing EMA model with slow_ema of', slow_ma, 'and fast_ema of', fast_ma)\n",
    "        model_tag = 'EMA_' + str(serial_number).zfill(3) + '_SlowEMA_' + str(slow_ma).zfill(3) + '_FastEMA_' + str(fast_ma).zfill(3)\n",
    "        serial_number = serial_number + 1\n",
    "        trading_model = model_template.copy()\n",
    "        trading_model['fast_ema'] = trading_model['close_price'].ewm(span=fast_ma).mean()\n",
    "        trading_model['slow_ema'] = trading_model['close_price'].ewm(span=slow_ma).mean()\n",
    "        trading_model['ema_change'] = trading_model['fast_ema'] - trading_model['slow_ema']\n",
    "        trading_model['fast_sma'] = trading_model['close_price'].rolling(fast_ma).mean()\n",
    "        trading_model['slow_sma'] = trading_model['close_price'].rolling(slow_ma).mean()\n",
    "        trading_model['sma_change'] = trading_model['fast_sma'] - trading_model['slow_sma']\n",
    "        trading_model['fastema_slowsma_chg'] = trading_model['fast_ema'] - trading_model['slow_sma']\n",
    "        trading_model['fastsma_slowema_chg'] = trading_model['fast_sma'] - trading_model['slow_ema']\n",
    "        trading_model['trade_signal'] = np.zeros(len(trading_model))\n",
    "        trading_model['signal_change'] = np.zeros(len(trading_model))\n",
    "        trading_model['entry_exit'] = np.zeros(len(trading_model))\n",
    "        trading_model = trading_model[model_start_date:model_end_date]\n",
    "        ema_only_crossover(trading_model)\n",
    "        ema_model_collection[model_tag] = trading_model.copy()\n",
    "        if verbose_models: print('Model', model_tag, 'added to the trading model collection.')\n",
    "print(serial_number-1, 'EMA only models generated!')\n",
    "\n",
    "# Processing models using only the SMA curves\n",
    "print()\n",
    "sma_model_collection = {}\n",
    "serial_number = 1\n",
    "for slow_ma in range(slow_sma_min, slow_sma_max+1, ma_increment):\n",
    "    for fast_ma in range(fast_sma_min, fast_sma_max+1, ma_increment):\n",
    "        if (slow_ma - fast_ma) < min_ma_gap: break\n",
    "        if verbose_models: print('Processing EMA model with slow_ema of', slow_ma, 'and fast_ema of', fast_ma)\n",
    "        model_tag = 'SMA_' + str(serial_number).zfill(3) + '_SlowSMA_' + str(slow_ma).zfill(3) + '_FastSMA_' + str(fast_ma).zfill(3)\n",
    "        serial_number = serial_number + 1\n",
    "        trading_model = model_template.copy()\n",
    "        trading_model['fast_ema'] = trading_model['close_price'].ewm(span=fast_ma).mean()\n",
    "        trading_model['slow_ema'] = trading_model['close_price'].ewm(span=slow_ma).mean()\n",
    "        trading_model['ema_change'] = trading_model['fast_ema'] - trading_model['slow_ema']\n",
    "        trading_model['fast_sma'] = trading_model['close_price'].rolling(fast_ma).mean()\n",
    "        trading_model['slow_sma'] = trading_model['close_price'].rolling(slow_ma).mean()\n",
    "        trading_model['sma_change'] = trading_model['fast_sma'] - trading_model['slow_sma']\n",
    "        trading_model['fastema_slowsma_chg'] = trading_model['fast_ema'] - trading_model['slow_sma']\n",
    "        trading_model['fastsma_slowema_chg'] = trading_model['fast_sma'] - trading_model['slow_ema']\n",
    "        trading_model['trade_signal'] = np.zeros(len(trading_model))\n",
    "        trading_model['signal_change'] = np.zeros(len(trading_model))\n",
    "        trading_model['entry_exit'] = np.zeros(len(trading_model))\n",
    "        trading_model = trading_model[model_start_date:model_end_date]\n",
    "        sma_only_crossover(trading_model)\n",
    "        sma_model_collection[model_tag] = trading_model.copy()\n",
    "        if verbose_models: print('Model', model_tag, 'added to the trading model collection.')\n",
    "print(serial_number-1, 'SMA only models generated!')"
   ]
  },
  {
   "cell_type": "code",
   "execution_count": 14,
   "metadata": {
    "colab": {
     "base_uri": "https://localhost:8080/",
     "height": 1000
    },
    "colab_type": "code",
    "collapsed": false,
    "id": "327CZKmtTelL",
    "jupyter": {
     "outputs_hidden": false
    },
    "outputId": "b353b49d-0281-4aa7-a530-6747c166eae5",
    "pycharm": {
     "name": "#%%\n"
    }
   },
   "outputs": [],
   "source": [
    "# List the entry/exit points for each model\n",
    "def list_model_entry_exit(model_collection):\n",
    "    for model_name in model_collection:\n",
    "        print('List the signal change and entry/exit points for', model_name)\n",
    "        print(model_collection[model_name][(model_collection[model_name].signal_change != 0) | (model_collection[model_name].entry_exit != 0)])\n",
    "        print()"
   ]
  },
  {
   "cell_type": "code",
   "execution_count": 15,
   "metadata": {
    "collapsed": false,
    "jupyter": {
     "outputs_hidden": false
    },
    "pycharm": {
     "name": "#%%\n"
    }
   },
   "outputs": [],
   "source": [
    "if verbose_models: list_model_entry_exit(ema_model_collection)"
   ]
  },
  {
   "cell_type": "code",
   "execution_count": 16,
   "metadata": {
    "collapsed": false,
    "jupyter": {
     "outputs_hidden": false
    },
    "pycharm": {
     "name": "#%%\n"
    }
   },
   "outputs": [],
   "source": [
    "if verbose_models: list_model_entry_exit(sma_model_collection)"
   ]
  },
  {
   "cell_type": "code",
   "execution_count": 17,
   "metadata": {
    "colab": {
     "base_uri": "https://localhost:8080/",
     "height": 1000
    },
    "colab_type": "code",
    "collapsed": false,
    "id": "XEyJXVxcTelS",
    "jupyter": {
     "outputs_hidden": false
    },
    "outputId": "c74ac3e9-fbd3-4e73-8294-f12d0cce88dc",
    "pycharm": {
     "name": "#%%\n"
    }
   },
   "outputs": [],
   "source": [
    "def draw_model_graphs(model_name, trade_model, fast_ma_curve='fast_ema', slow_ma_curve='slow_ema'):\n",
    "    graph_data = trade_model.copy()\n",
    "    title_string = \"Moving Average Crossover Model for \" + model_name\n",
    "    fig = plt.figure(figsize=(16,9))\n",
    "    ylabel = stock_symbol + ' price in $'\n",
    "    ax1 = fig.add_subplot(111, ylabel=ylabel, title=title_string)\n",
    "    graph_data[fast_ma_curve].plot(ax=ax1, color='b', lw=2.)\n",
    "    graph_data[slow_ma_curve].plot(ax=ax1, color='r', lw=2.)\n",
    "    graph_data['close_price'].plot(ax=ax1, color='g')\n",
    "    ax1.plot(graph_data.loc[graph_data.entry_exit == 1].index, graph_data.close_price[graph_data.entry_exit == 1], '^', markersize=7, color='k',label='buy')\n",
    "    ax1.plot(graph_data.loc[graph_data.entry_exit == -1].index, graph_data.close_price[graph_data.entry_exit == -1], 'v', markersize=7, color='k',label='sell')\n",
    "    plt.legend(loc='upper left')\n",
    "    plt.show()"
   ]
  },
  {
   "cell_type": "code",
   "execution_count": 18,
   "metadata": {
    "collapsed": false,
    "jupyter": {
     "outputs_hidden": false
    },
    "pycharm": {
     "name": "#%%\n"
    }
   },
   "outputs": [],
   "source": [
    "if verbose_graphs:\n",
    "    for tag in ema_model_collection:\n",
    "        draw_model_graphs(tag, ema_model_collection[tag], 'fast_ema', 'slow_ema')"
   ]
  },
  {
   "cell_type": "code",
   "execution_count": 19,
   "metadata": {
    "collapsed": false,
    "jupyter": {
     "outputs_hidden": false
    },
    "pycharm": {
     "name": "#%%\n"
    }
   },
   "outputs": [],
   "source": [
    "if verbose_graphs:\n",
    "    for tag in sma_model_collection:\n",
    "        draw_model_graphs(tag, sma_model_collection[tag], 'fast_sma', 'slow_sma')"
   ]
  },
  {
   "cell_type": "markdown",
   "metadata": {
    "colab_type": "text",
    "id": "wzTQaZkeTeld"
   },
   "source": [
    "## Task 4. Back-test Model"
   ]
  },
  {
   "cell_type": "code",
   "execution_count": 20,
   "metadata": {
    "colab": {},
    "colab_type": "code",
    "collapsed": false,
    "id": "Q1xZWksnTelr",
    "jupyter": {
     "outputs_hidden": false
    },
    "pycharm": {
     "name": "#%%\n"
    }
   },
   "outputs": [],
   "source": [
    "def trading_portfolio_generation(initial_fund, trade_model):\n",
    "    # Construct a portfolio to track the transactions and returns\n",
    "    portfolio = pd.DataFrame(index=trade_model.index, columns=['trade_action', 'qty_onhand', 'cost_basis', 'sold_transaction', 'gain_loss', 'cash_onhand', 'position_value', 'total_position', 'accumu_return'])\n",
    "    portfolio.iloc[0]['trade_action'] = 0\n",
    "    portfolio.iloc[0]['qty_onhand'] = 0\n",
    "    portfolio.iloc[0]['cost_basis'] = 0.00\n",
    "    portfolio.iloc[0]['sold_transaction'] = 0.00\n",
    "    portfolio.iloc[0]['gain_loss'] = 0.00\n",
    "    portfolio.iloc[0]['cash_onhand'] = initial_capital\n",
    "    portfolio.iloc[0]['position_value'] = 0.00\n",
    "    portfolio.iloc[0]['total_position'] = initial_capital\n",
    "    portfolio.iloc[0]['accumu_return'] = portfolio.iloc[0]['total_position'] - initial_fund\n",
    "    recent_cost = 0\n",
    "\n",
    "    # The conditional parameters below determine how the trading strategy will be carried out\n",
    "    for i in range(1, len(portfolio)):\n",
    "        if (trade_model.iloc[i]['entry_exit'] == 1) and (portfolio.iloc[i-1]['qty_onhand'] == 0):\n",
    "            portfolio.iloc[i]['trade_action'] = 1\n",
    "            portfolio.iloc[i]['qty_onhand'] = portfolio.iloc[i-1]['qty_onhand'] + portfolio.iloc[i]['trade_action']\n",
    "            portfolio.iloc[i]['cost_basis'] = trade_model.iloc[i]['open_price'] * portfolio.iloc[i]['trade_action']\n",
    "            portfolio.iloc[i]['sold_transaction'] = 0.00\n",
    "            portfolio.iloc[i]['gain_loss'] = 0.00\n",
    "            portfolio.iloc[i]['cash_onhand'] = portfolio.iloc[i-1]['cash_onhand'] - portfolio.iloc[i]['cost_basis']\n",
    "            recent_cost = trade_model.iloc[i]['open_price'] * portfolio.iloc[i]['trade_action']\n",
    "            if verbose_portfolios: print('BOUGHT QTY:', portfolio.iloc[i]['trade_action'], 'on', portfolio.index[i], 'at the price of', trade_model.iloc[i]['open_price'])\n",
    "        elif (trade_model.iloc[i]['entry_exit'] == -1) and (portfolio.iloc[i-1]['qty_onhand'] > 0):\n",
    "            portfolio.iloc[i]['trade_action'] = -1\n",
    "            portfolio.iloc[i]['qty_onhand'] = portfolio.iloc[i-1]['qty_onhand'] + portfolio.iloc[i]['trade_action']\n",
    "            portfolio.iloc[i]['cost_basis'] = 0.00\n",
    "            portfolio.iloc[i]['sold_transaction'] = trade_model.iloc[i]['open_price'] * portfolio.iloc[i]['trade_action'] * -1\n",
    "            portfolio.iloc[i]['gain_loss'] = (recent_cost + (trade_model.iloc[i]['open_price'] * portfolio.iloc[i]['trade_action'])) * -1\n",
    "            portfolio.iloc[i]['cash_onhand'] = portfolio.iloc[i-1]['cash_onhand'] + portfolio.iloc[i]['sold_transaction']\n",
    "            recent_cost = 0.00\n",
    "            if verbose_portfolios: print('SOLD QTY:', portfolio.iloc[i]['trade_action'], 'on', portfolio.index[i], 'at the price of', trade_model.iloc[i]['open_price'])\n",
    "        else:\n",
    "            portfolio.iloc[i]['trade_action'] = 0\n",
    "            portfolio.iloc[i]['qty_onhand'] = portfolio.iloc[i-1]['qty_onhand']\n",
    "            portfolio.iloc[i]['cost_basis'] = portfolio.iloc[i-1]['cost_basis']\n",
    "            portfolio.iloc[i]['sold_transaction'] = 0.00\n",
    "            portfolio.iloc[i]['gain_loss'] = 0.00\n",
    "            portfolio.iloc[i]['cash_onhand'] = portfolio.iloc[i-1]['cash_onhand']\n",
    "        portfolio.iloc[i]['position_value'] = trade_model.iloc[i]['close_price'] * portfolio.iloc[i]['qty_onhand']\n",
    "        portfolio.iloc[i]['total_position'] = portfolio.iloc[i]['cash_onhand'] + portfolio.iloc[i]['position_value']\n",
    "        portfolio.iloc[i]['accumu_return'] = portfolio.iloc[i]['total_position'] - initial_fund\n",
    "\n",
    "    return portfolio"
   ]
  },
  {
   "cell_type": "code",
   "execution_count": 21,
   "metadata": {
    "colab": {
     "base_uri": "https://localhost:8080/",
     "height": 1000
    },
    "colab_type": "code",
    "collapsed": false,
    "id": "mOsqVrfRTelw",
    "jupyter": {
     "outputs_hidden": false
    },
    "outputId": "17950f55-4566-48b2-dde6-0974c6e45966",
    "pycharm": {
     "name": "#%%\n"
    }
   },
   "outputs": [],
   "source": [
    "def generate_portfolio_and_performance(model_collection):\n",
    "    # Initialize a dictionary for tracking portfolios for all models\n",
    "    portfolio_collection = {}\n",
    "    # Initialize a dataframe for reporting model performance summary\n",
    "    performance_summary = pd.DataFrame(columns=['model_name','return_value','return_percent'])\n",
    "\n",
    "    for model_name in model_collection:\n",
    "        if verbose_portfolios: print('Processing portfolio for model:', model_name)\n",
    "        portfolio_collection[model_name] = trading_portfolio_generation(initial_capital, model_collection[model_name])\n",
    "        trade_transactions = portfolio_collection[model_name][portfolio_collection[model_name].trade_action != 0]\n",
    "        if verbose_portfolios: print(trade_transactions)\n",
    "        if verbose_portfolios: print('Accumulated profit/loss for one share of stock with initial capital of $%.0f at the end of modeling period: $%.2f' % (initial_capital, portfolio_collection[model_name].accumu_return[-1]))\n",
    "        if initial_capital != 0:\n",
    "            return_percentage = portfolio_collection[model_name].accumu_return[-1] / initial_capital * 100\n",
    "            if verbose_portfolios: print('Accumulated return percentage based on the initial capital investment: %.2f%%' % return_percentage)\n",
    "        else:\n",
    "            return_percentage = None\n",
    "        if trade_transactions.iloc[-1]['trade_action'] == 1:\n",
    "            if verbose_portfolios: print('The current status of the model is:', 'Holding a position since', trade_transactions.index.tolist()[-1], '\\n')\n",
    "        else:\n",
    "            if verbose_portfolios: print('The current status of the model is:', 'Waiting to enter since', trade_transactions.index.tolist()[-1], '\\n')\n",
    "        performance_summary = performance_summary.append({'model_name': model_name, 'return_value': portfolio_collection[model_name].accumu_return[-1], 'return_percent': return_percentage}, ignore_index=True)\n",
    "    performance_summary.sort_values(by=['return_value'], inplace=True, ascending=False)\n",
    "    return portfolio_collection, performance_summary"
   ]
  },
  {
   "cell_type": "code",
   "execution_count": 22,
   "metadata": {
    "collapsed": false,
    "jupyter": {
     "outputs_hidden": false
    },
    "pycharm": {
     "name": "#%%\n"
    }
   },
   "outputs": [
    {
     "name": "stdout",
     "output_type": "stream",
     "text": [
      "30 trading transaction portfolios generated.\n",
      "30 profit/loss performance summaries generated.\n"
     ]
    }
   ],
   "source": [
    "ema_portfolio_collection, ema_performance_summary = generate_portfolio_and_performance(ema_model_collection)\n",
    "print(len(ema_portfolio_collection), 'trading transaction portfolios generated.')\n",
    "print(len(ema_performance_summary), 'profit/loss performance summaries generated.')"
   ]
  },
  {
   "cell_type": "code",
   "execution_count": 23,
   "metadata": {
    "collapsed": false,
    "jupyter": {
     "outputs_hidden": false
    },
    "pycharm": {
     "name": "#%%\n"
    }
   },
   "outputs": [
    {
     "name": "stdout",
     "output_type": "stream",
     "text": [
      "30 trading transaction portfolios generated.\n",
      "30 profit/loss performance summaries generated.\n"
     ]
    }
   ],
   "source": [
    "sma_portfolio_collection, sma_performance_summary = generate_portfolio_and_performance(sma_model_collection)\n",
    "print(len(sma_portfolio_collection), 'trading transaction portfolios generated.')\n",
    "print(len(sma_performance_summary), 'profit/loss performance summaries generated.')"
   ]
  },
  {
   "cell_type": "code",
   "execution_count": 24,
   "metadata": {
    "collapsed": false,
    "jupyter": {
     "outputs_hidden": false
    },
    "pycharm": {
     "name": "#%%\n"
    }
   },
   "outputs": [
    {
     "name": "stdout",
     "output_type": "stream",
     "text": [
      "                        model_name  return_value return_percent\n",
      "0  EMA_001_SlowEMA_010_FastEMA_005         25.70           None\n",
      "2  EMA_003_SlowEMA_015_FastEMA_010         19.52           None\n",
      "4  EMA_005_SlowEMA_020_FastEMA_010         13.73           None\n",
      "3  EMA_004_SlowEMA_020_FastEMA_005         12.54           None\n",
      "1  EMA_002_SlowEMA_015_FastEMA_005          8.51           None\n"
     ]
    }
   ],
   "source": [
    "# Display the top models from EMA-only performance summary\n",
    "print(ema_performance_summary.head())"
   ]
  },
  {
   "cell_type": "code",
   "execution_count": 25,
   "metadata": {
    "colab": {
     "base_uri": "https://localhost:8080/",
     "height": 544
    },
    "colab_type": "code",
    "id": "7ErV8f-6Tely",
    "outputId": "79745f23-239b-43bc-ab91-4fde0a9947cb"
   },
   "outputs": [
    {
     "name": "stdout",
     "output_type": "stream",
     "text": [
      "                        model_name  return_value return_percent\n",
      "3  SMA_004_SlowSMA_020_FastSMA_005         36.51           None\n",
      "2  SMA_003_SlowSMA_015_FastSMA_010         23.34           None\n",
      "6  SMA_007_SlowSMA_025_FastSMA_005         23.07           None\n",
      "4  SMA_005_SlowSMA_020_FastSMA_010         18.69           None\n",
      "1  SMA_002_SlowSMA_015_FastSMA_005         16.83           None\n"
     ]
    }
   ],
   "source": [
    "# Display the top models from SMA-only performance summary\n",
    "print(sma_performance_summary.head())"
   ]
  },
  {
   "cell_type": "code",
   "execution_count": 26,
   "metadata": {
    "collapsed": false,
    "jupyter": {
     "outputs_hidden": false
    },
    "pycharm": {
     "name": "#%%\n"
    }
   },
   "outputs": [],
   "source": [
    "# Display the entry/exit signals and transactions from the top model\n",
    "def display_signals_transactions(model_name, portfolio_collection, model_collection):\n",
    "    cols_to_display = ['open_price','close_price','fast_ema','slow_ema','fast_sma','slow_sma','trade_signal','signal_change','entry_exit']\n",
    "    print('The transactions from the top model %s:' % model_name)\n",
    "    print(portfolio_collection[model_name][portfolio_collection[model_name].trade_action != 0])\n",
    "    print()\n",
    "    print('The trading signal changes from the top model %s:' % model_name)\n",
    "    print(model_collection[model_name][(model_collection[model_name].signal_change != 0) | (model_collection[model_name].entry_exit != 0)][cols_to_display])"
   ]
  },
  {
   "cell_type": "code",
   "execution_count": 27,
   "metadata": {
    "colab": {
     "base_uri": "https://localhost:8080/",
     "height": 561
    },
    "colab_type": "code",
    "id": "-4DC2gCYV-OE",
    "outputId": "1ab6d9f5-33ba-49b8-ae03-d072adf9142a"
   },
   "outputs": [
    {
     "name": "stdout",
     "output_type": "stream",
     "text": [
      "The transactions from the top model SMA_004_SlowSMA_020_FastSMA_005:\n",
      "           trade_action qty_onhand cost_basis sold_transaction gain_loss cash_onhand position_value total_position accumu_return\n",
      "date                                                                                                                            \n",
      "2019-01-15            1          1     128.52                0         0     -128.52         129.36           0.84          0.84\n",
      "2019-01-29           -1          0          0           128.95      0.43        0.43              0           0.43          0.43\n",
      "2019-01-30            1          1     130.37                0         0     -129.94         131.64            1.7           1.7\n",
      "2019-03-22           -1          0          0           137.75      7.38        7.81              0           7.81          7.81\n",
      "2019-04-01            1          1     139.99                0         0     -132.18         138.98            6.8           6.8\n",
      "2019-04-05           -1          0          0           136.04     -3.95        3.86              0           3.86          3.86\n",
      "2019-04-22            1          1     136.98                0         0     -133.12         137.83           4.71          4.71\n",
      "2019-05-14           -1          0          0           137.04      0.06        3.92              0           3.92          3.92\n",
      "2019-06-11            1          1     139.68                0         0     -135.76         139.78           4.02          4.02\n",
      "2019-07-05           -1          0          0           141.74      2.06        5.98              0           5.98          5.98\n",
      "2019-07-10            1          1     141.78                0         0      -135.8         141.21           5.41          5.41\n",
      "2019-07-12           -1          0          0           140.12     -1.66        4.32              0           4.32          4.32\n",
      "2019-08-13            1          1      132.3                0         0     -127.98         133.42           5.44          5.44\n",
      "2019-08-21           -1          0          0            131.7      -0.6        3.72              0           3.72          3.72\n",
      "2019-08-23            1          1     131.07                0         0     -127.35         127.73           0.38          0.38\n",
      "2019-08-26           -1          0          0           127.42     -3.65        0.07              0           0.07          0.07\n",
      "2019-09-16            1          1     130.11                0         0     -130.04         129.54           -0.5          -0.5\n",
      "2019-10-02           -1          0          0           132.76      2.65        2.72              0           2.72          2.72\n",
      "2019-10-04            1          1     131.34                0         0     -128.62         133.66           5.04          5.04\n",
      "2019-10-15           -1          0          0              133      1.66        4.38              0           4.38          4.38\n",
      "2019-10-17            1          1     135.96                0         0     -131.58         136.17           4.59          4.59\n",
      "2019-10-24           -1          0          0           130.42     -5.54       -1.16              0          -1.16         -1.16\n",
      "2019-11-04            1          1      131.8                0         0     -132.96         130.23          -2.73         -2.73\n",
      "2020-02-20           -1          0          0           148.61     16.81       15.65              0          15.65         15.65\n",
      "2020-04-03            1          1     132.38                0         0     -116.73         134.17          17.44         17.44\n",
      "2020-05-07           -1          0          0           149.37     16.99       32.64              0          32.64         32.64\n",
      "2020-06-04            1          1      146.8                0         0     -114.16         146.73          32.57         32.57\n",
      "2020-06-10           -1          0          0            146.6      -0.2       32.44              0          32.44         32.44\n",
      "2020-07-09            1          1     142.76                0         0     -110.32         142.49          32.17         32.17\n",
      "\n",
      "The trading signal changes from the top model SMA_004_SlowSMA_020_FastSMA_005:\n",
      "            open_price  close_price    fast_ema    slow_ema  fast_sma   slow_sma  trade_signal  signal_change  entry_exit\n",
      "date                                                                                                                     \n",
      "2019-01-14      128.74      128.280  128.858348  130.588712  129.3260  128.23750           1.0            1.0         0.0\n",
      "2019-01-15      128.52      129.360  129.025565  130.471403  129.2060  128.05550           1.0            0.0         1.0\n",
      "2019-01-28      127.81      128.990  128.559868  129.468744  128.3700  128.51450           0.0           -1.0         0.0\n",
      "2019-01-29      128.95      130.330  129.149912  129.550850  128.6760  128.66750           1.0            1.0        -1.0\n",
      "2019-01-30      130.37      131.640  129.979941  129.749998  129.2440  128.79700           1.0            0.0         1.0\n",
      "2019-03-21      137.00      138.100  137.910034  137.367219  137.7200  137.80900           0.0           -1.0         0.0\n",
      "2019-03-22      137.75      136.910  137.576689  137.323674  137.5820  137.82450           0.0            0.0        -1.0\n",
      "2019-03-29      139.28      139.790  138.804955  137.842341  138.5100  138.29350           1.0            1.0         0.0\n",
      "2019-04-01      139.99      138.980  138.863303  137.950691  138.9840  138.31850           1.0            0.0         1.0\n",
      "2019-04-04      136.87      135.570  137.218386  137.637920  137.8440  138.03600           0.0           -1.0         0.0\n",
      "2019-04-05      136.04      136.180  136.872257  137.499069  137.1220  137.94200           0.0            0.0        -1.0\n",
      "2019-04-18      139.35      137.520  137.385120  137.081912  137.3120  137.20650           1.0            1.0         0.0\n",
      "2019-04-22      136.98      137.830  137.533413  137.153159  137.6820  137.25250           1.0            0.0         1.0\n",
      "2019-05-13      137.85      137.200  138.848554  139.290956  138.9480  139.53300           0.0           -1.0         0.0\n",
      "2019-05-14      137.04      136.820  138.172369  139.055627  138.3180  139.54800           0.0            0.0        -1.0\n",
      "2019-06-10      138.60      139.020  136.944614  136.470989  136.4720  136.35750           1.0            1.0         0.0\n",
      "2019-06-11      139.68      139.780  137.889743  136.786133  137.6820  136.48650           1.0            0.0         1.0\n",
      "2019-07-03      141.00      142.140  140.911915  140.211227  140.3000  140.57900           0.0           -1.0         0.0\n",
      "2019-07-05      141.74      140.570  140.797943  140.245396  140.2760  140.77350           0.0            0.0        -1.0\n",
      "2019-07-09      141.46      141.410  141.040197  140.418748  141.0240  141.01400           1.0            1.0         0.0\n",
      "2019-07-10      141.78      141.210  141.096798  140.494105  141.2600  141.08550           1.0            0.0         1.0\n",
      "2019-07-11      140.94      140.110  140.767865  140.457524  140.8540  141.00700           0.0           -1.0         0.0\n",
      "2019-07-12      140.12      134.300  138.611910  139.871093  139.6000  140.68650           0.0            0.0        -1.0\n",
      "2019-08-12      131.50      132.153  131.580482  132.217625  131.3706  130.97715           1.0            1.0         0.0\n",
      "2019-08-13      132.30      133.420  132.193655  132.332137  131.9006  131.02315           1.0            0.0         1.0\n",
      "2019-08-20      131.96      130.600  131.260810  131.825653  131.0020  131.18765           0.0           -1.0         0.0\n",
      "2019-08-21      131.70      131.530  131.350540  131.797495  131.2560  131.27515           0.0            0.0        -1.0\n",
      "2019-08-22      131.60      131.270  131.323694  131.747258  131.4020  131.28265           1.0            1.0         0.0\n",
      "2019-08-23      131.07      127.730  130.125796  131.364662  130.6760  131.13265           0.0           -1.0         1.0\n",
      "2019-08-26      127.42      127.800  129.350530  131.025170  129.7860  130.87165           0.0            0.0        -1.0\n",
      "2019-09-13      131.33      130.780  130.091123  129.792755  129.7760  129.53650           1.0            1.0         0.0\n",
      "2019-09-16      130.11      129.540  129.907415  129.768683  130.2940  129.44550           1.0            0.0         1.0\n",
      "2019-10-01      130.02      129.990  129.756242  130.009017  129.5620  129.85050           0.0           -1.0         0.0\n",
      "2019-10-02      132.76      132.000  130.504161  130.198634  129.7640  130.00750           0.0            0.0        -1.0\n",
      "2019-10-03      131.64      131.190  130.732774  130.293050  130.2320  130.13800           1.0            1.0         0.0\n",
      "2019-10-04      131.34      133.660  131.708516  130.613712  131.2440  130.41050           1.0            0.0         1.0\n",
      "2019-10-14      131.36      130.720  130.729115  130.691403  130.4340  130.75600           0.0           -1.0         0.0\n",
      "2019-10-15      133.00      132.840  131.432744  130.896031  130.6340  130.91450           0.0            0.0        -1.0\n",
      "2019-10-16      134.90      135.170  132.678496  131.303076  131.8240  131.15250           1.0            1.0         0.0\n",
      "2019-10-17      135.96      136.170  133.842330  131.766593  133.2460  131.45550           1.0            0.0         1.0\n",
      "2019-10-23      129.66      129.900  130.027374  130.788732  130.1980  130.90000           0.0           -1.0         0.0\n",
      "2019-10-24      130.42      127.500  129.184916  130.475519  128.4640  130.83250           0.0            0.0        -1.0\n",
      "2019-11-01      132.05      131.200  130.989578  130.562925  130.8768  130.72820           1.0            1.0         0.0\n",
      "2019-11-04      131.80      130.230  130.736386  130.531218  131.0868  130.58170           1.0            0.0         1.0\n",
      "2020-02-19      149.21      148.940  149.820140  149.878481  149.8780  150.37700           0.0           -1.0         0.0\n",
      "2020-02-20      148.61      148.370  149.336760  149.734817  149.3340  150.38300           0.0            0.0        -1.0\n",
      "2020-04-02      129.12      133.150  129.821946  130.222935  129.8520  129.13900           1.0            1.0         0.0\n",
      "2020-04-03      132.38      134.170  131.271297  130.598846  132.0540  128.74600           1.0            0.0         1.0\n",
      "2020-05-06      150.00      148.080  149.080962  147.454991  148.8360  149.22250           0.0           -1.0         0.0\n",
      "2020-05-07      149.37      147.590  148.583975  147.467849  148.3460  149.43900           0.0            0.0        -1.0\n",
      "2020-06-03      148.52      148.650  147.851730  147.492152  147.9620  147.66950           1.0            1.0         0.0\n",
      "2020-06-04      146.80      146.730  147.477820  147.419566  147.9140  147.60200           1.0            0.0         1.0\n",
      "2020-06-09      148.25      145.960  146.788243  147.215267  147.0820  147.33350           0.0           -1.0         0.0\n",
      "2020-06-10      146.60      147.800  147.125495  147.270956  146.9120  147.36650           0.0            0.0        -1.0\n",
      "2020-07-08      142.87      143.270  142.294655  142.499071  142.0900  142.07300           1.0            1.0         0.0\n",
      "2020-07-09      142.76      142.490  142.359770  142.498207  142.5120  141.80750           1.0            0.0         1.0\n",
      "\n"
     ]
    },
    {
     "data": {
      "image/png": "[encoded data removed]",
      "text/plain": [
       "<Figure size 1152x648 with 1 Axes>"
      ]
     },
     "metadata": {},
     "output_type": "display_data"
    }
   ],
   "source": [
    "# Display the details for the top model\n",
    "if ema_performance_summary.iloc[0]['return_value'] > sma_performance_summary.iloc[0]['return_value']:\n",
    "    top_model = ema_performance_summary.iloc[0]['model_name']\n",
    "    best_return = ema_performance_summary.iloc[0]['return_value']\n",
    "    display_signals_transactions(top_model, ema_portfolio_collection, ema_model_collection)\n",
    "    print()\n",
    "    draw_model_graphs(top_model, ema_model_collection[top_model], 'fast_ema', 'slow_ema')\n",
    "else:\n",
    "    top_model = sma_performance_summary.iloc[0]['model_name']\n",
    "    best_return = sma_performance_summary.iloc[0]['return_value']\n",
    "    display_signals_transactions(top_model, sma_portfolio_collection, sma_model_collection)\n",
    "    print()\n",
    "    draw_model_graphs(top_model, sma_model_collection[top_model], 'fast_sma', 'slow_sma')"
   ]
  },
  {
   "cell_type": "markdown",
   "metadata": {
    "colab_type": "text",
    "id": "xc_vWsaSTel4"
   },
   "source": [
    "## Task 5. Evaluate Performance"
   ]
  },
  {
   "cell_type": "code",
   "execution_count": 28,
   "metadata": {
    "colab": {
     "base_uri": "https://localhost:8080/",
     "height": 51
    },
    "colab_type": "code",
    "collapsed": false,
    "id": "YTyOJjYzTel7",
    "jupyter": {
     "outputs_hidden": false
    },
    "outputId": "8ab127f5-5316-4e3a-9908-75f18dd9a2b9",
    "pycharm": {
     "name": "#%%\n"
    }
   },
   "outputs": [
    {
     "name": "stdout",
     "output_type": "stream",
     "text": [
      "The best model found is: SMA_004_SlowSMA_020_FastSMA_005\n",
      "The best profit/loss for the investing period is: $36.51\n"
     ]
    }
   ],
   "source": [
    "print('The best model found is:', top_model)\n",
    "print('The best profit/loss for the investing period is: $%.2f' % best_return)\n",
    "if initial_capital != 0:\n",
    "    print('The best return percentage for initial capital is: %.2f%%' % (best_return / initial_capital * 100))"
   ]
  },
  {
   "cell_type": "code",
   "execution_count": 29,
   "metadata": {
    "colab": {
     "base_uri": "https://localhost:8080/",
     "height": 34
    },
    "colab_type": "code",
    "id": "aTP_6WyfTemB",
    "outputId": "6cda4cc2-d890-47d5-9a63-43cffd21d72f"
   },
   "outputs": [
    {
     "name": "stdout",
     "output_type": "stream",
     "text": [
      "The performance of the long-only model from day one is: $18.70\n"
     ]
    }
   ],
   "source": [
    "# Calculate the stock's performance for a long-only model\n",
    "model_template = model_template[model_start_date:model_end_date]\n",
    "print('The performance of the long-only model from day one is: $%.2f' %(model_template.iloc[-1]['close_price'] - model_template.iloc[0]['open_price']))"
   ]
  },
  {
   "cell_type": "code",
   "execution_count": 30,
   "metadata": {
    "colab": {
     "base_uri": "https://localhost:8080/",
     "height": 34
    },
    "colab_type": "code",
    "collapsed": false,
    "id": "be1J2gmiTemG",
    "jupyter": {
     "outputs_hidden": false
    },
    "outputId": "28010a58-a8c1-43ae-d6ff-200fc13eb876",
    "pycharm": {
     "name": "#%%\n"
    }
   },
   "outputs": [
    {
     "name": "stdout",
     "output_type": "stream",
     "text": [
      "Total time for the script: 0:02:43.810285\n"
     ]
    }
   ],
   "source": [
    "print ('Total time for the script:',(datetime.now() - startTimeScript))"
   ]
  }
 ],
 "metadata": {
  "colab": {
   "collapsed_sections": [],
   "name": "py_algotrading_ema_crossover_grid_search.ipynb",
   "provenance": []
  },
  "kernelspec": {
   "display_name": "Python 3",
   "language": "python",
   "name": "python3"
  },
  "language_info": {
   "codemirror_mode": {
    "name": "ipython",
    "version": 3
   },
   "file_extension": ".py",
   "mimetype": "text/x-python",
   "name": "python",
   "nbconvert_exporter": "python",
   "pygments_lexer": "ipython3",
   "version": "3.7.6"
  }
 },
 "nbformat": 4,
 "nbformat_minor": 4
}
