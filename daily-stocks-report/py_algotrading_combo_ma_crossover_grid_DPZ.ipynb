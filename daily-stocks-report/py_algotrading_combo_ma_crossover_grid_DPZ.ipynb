{
 "cells": [
  {
   "cell_type": "markdown",
   "metadata": {
    "colab_type": "text",
    "id": "nn0Ld1RjTekC"
   },
   "source": [
    "# Algorithmic Trading Model for Momentum and Mean-Reversion Moving Average Crossover Grid Search\n",
    "### David Lowe\n",
    "### September 7, 2020"
   ]
  },
  {
   "cell_type": "markdown",
   "metadata": {
    "colab_type": "text",
    "id": "-DieEv9pTekE"
   },
   "source": [
    "## Task 1. Prepare Environment"
   ]
  },
  {
   "cell_type": "code",
   "execution_count": 1,
   "metadata": {
    "colab": {},
    "colab_type": "code",
    "collapsed": false,
    "id": "8IwyGxxuTekE",
    "jupyter": {
     "outputs_hidden": false
    },
    "pycharm": {
     "name": "#%%\n"
    }
   },
   "outputs": [],
   "source": [
    "import os\n",
    "import sys\n",
    "import numpy as np\n",
    "import pandas as pd\n",
    "import requests\n",
    "import json\n",
    "import matplotlib.pyplot as plt\n",
    "from datetime import datetime, timedelta\n",
    "from dotenv import load_dotenv"
   ]
  },
  {
   "cell_type": "code",
   "execution_count": 2,
   "metadata": {
    "colab": {
     "base_uri": "https://localhost:8080/",
     "height": 51
    },
    "colab_type": "code",
    "collapsed": false,
    "id": "Zagik25QTekS",
    "jupyter": {
     "outputs_hidden": false
    },
    "outputId": "d14332ba-63ec-4224-ca13-c4ecdab3541a",
    "pycharm": {
     "name": "#%%\n"
    }
   },
   "outputs": [
    {
     "name": "stdout",
     "output_type": "stream",
     "text": [
      "Starting date for the model: 2019-01-01 00:00:00\n",
      "Ending date for the model: 2020-08-30 17:28:44.923915\n"
     ]
    }
   ],
   "source": [
    "stock_symbol = 'DPZ'\n",
    "initial_capital = 0\n",
    "\n",
    "# Specify the moving average parameters for the trading strategy\n",
    "fast_ema_min = 10\n",
    "fast_ema_max = 30\n",
    "slow_ema_min = 10\n",
    "slow_ema_max = 60\n",
    "fast_sma_min = 10\n",
    "fast_sma_max = 30\n",
    "slow_sma_min = 10\n",
    "slow_sma_max = 60\n",
    "ma_increment = 5\n",
    "min_ma_gap = 5\n",
    "\n",
    "# The number of extra days of data we need (usually equals to the larger of slow_ema or slow_sma)\n",
    "extra_days_data = slow_sma_max\n",
    "\n",
    "model_start_date = datetime(2019, 1, 1)\n",
    "print(\"Starting date for the model:\", model_start_date)\n",
    "stock_start_date = model_start_date - timedelta(days=int(extra_days_data*1.5)) # Need more pricing data to calculate moving averages\n",
    "\n",
    "model_end_date = datetime.now()\n",
    "# model_end_date = datetime(2020, 6, 30)\n",
    "print(\"Ending date for the model:\", model_end_date)"
   ]
  },
  {
   "cell_type": "code",
   "execution_count": 3,
   "metadata": {
    "colab": {
     "base_uri": "https://localhost:8080/",
     "height": 34
    },
    "colab_type": "code",
    "collapsed": false,
    "id": "aTI50KL9TekN",
    "jupyter": {
     "outputs_hidden": false
    },
    "outputId": "68f4a687-6e33-48e5-ef46-c23d7994bc3e",
    "pycharm": {
     "name": "#%%\n"
    }
   },
   "outputs": [],
   "source": [
    "# Begin the timer for the script processing\n",
    "startTimeScript = datetime.now()\n",
    "\n",
    "# Set up the verbose flag to print detailed messages for debugging (setting True will activate!)\n",
    "verbose_models = False\n",
    "verbose_graphs = False\n",
    "verbose_portfolios = False\n",
    "\n",
    "# Set up the parent directory location for loading the dotenv files\n",
    "# useColab = False\n",
    "# if useColab:\n",
    "#     # Mount Google Drive locally for storing files\n",
    "#     from google.colab import drive\n",
    "#     drive.mount('/content/gdrive')\n",
    "#     gdrivePrefix = '/content/gdrive/My Drive/Colab_Downloads/'\n",
    "#     env_path = '/content/gdrive/My Drive/Colab Notebooks/'\n",
    "#     dotenv_path = env_path + \"python_script.env\"\n",
    "#     load_dotenv(dotenv_path=dotenv_path)\n",
    "\n",
    "# Set up the dotenv file for retrieving environment variables\n",
    "useLocalPC = False\n",
    "if useLocalPC:\n",
    "    env_path = \"/Users/david/PycharmProjects/\"\n",
    "    dotenv_path = env_path + \"python_script.env\"\n",
    "    load_dotenv(dotenv_path=dotenv_path)\n",
    "\n",
    "# Configure the plotting style\n",
    "plt.style.use('seaborn')\n",
    "\n",
    "# Set Pandas options\n",
    "pd.set_option(\"display.max_rows\", None)\n",
    "pd.set_option(\"display.max_columns\", None)\n",
    "pd.set_option(\"display.width\", 140)"
   ]
  },
  {
   "cell_type": "markdown",
   "metadata": {
    "colab_type": "text",
    "id": "Xa51FMY_TekZ"
   },
   "source": [
    "## Task 2. Acquire and Pre-Process Data"
   ]
  },
  {
   "cell_type": "code",
   "execution_count": 4,
   "metadata": {
    "colab": {},
    "colab_type": "code",
    "collapsed": false,
    "id": "Og9L0byuTekd",
    "jupyter": {
     "outputs_hidden": false
    },
    "pycharm": {
     "name": "#%%\n"
    }
   },
   "outputs": [],
   "source": [
    "# Check and see whether the API key is available\n",
    "quandl_key = os.environ.get('QUANDL_API')\n",
    "if quandl_key is None: sys.exit(\"API key for Quandl not available. Script Processing Aborted!!!\")"
   ]
  },
  {
   "cell_type": "code",
   "execution_count": 5,
   "metadata": {
    "colab": {},
    "colab_type": "code",
    "collapsed": false,
    "id": "Vx4DZ7UbTekg",
    "jupyter": {
     "outputs_hidden": false
    },
    "pycharm": {
     "name": "#%%\n"
    }
   },
   "outputs": [],
   "source": [
    "start_date_string = stock_start_date.strftime('%Y-%m-%d')\n",
    "end_date_string = model_end_date.strftime('%Y-%m-%d')\n",
    "\n",
    "quandl_url = \"https://www.quandl.com/api/v3/datatables/SHARADAR/SEP.json?date.gte=%s&date.lte=%s&ticker=%s&api_key=%s\" % (start_date_string, end_date_string, stock_symbol, quandl_key)"
   ]
  },
  {
   "cell_type": "code",
   "execution_count": 6,
   "metadata": {
    "colab": {
     "base_uri": "https://localhost:8080/",
     "height": 34
    },
    "colab_type": "code",
    "collapsed": false,
    "id": "zdbEhMn8Tekj",
    "jupyter": {
     "outputs_hidden": false
    },
    "outputId": "c52a8b39-0a15-4b5a-c2d7-4359b519573d",
    "pycharm": {
     "name": "#%%\n"
    }
   },
   "outputs": [
    {
     "name": "stdout",
     "output_type": "stream",
     "text": [
      "480 data points retrieved from the API call.\n"
     ]
    }
   ],
   "source": [
    "response = requests.get(quandl_url)\n",
    "quandl_dict = json.loads(response.text)\n",
    "stock_quandl = pd.DataFrame(quandl_dict['datatable']['data'])\n",
    "print(len(stock_quandl), 'data points retrieved from the API call.')"
   ]
  },
  {
   "cell_type": "code",
   "execution_count": 7,
   "metadata": {
    "colab": {
     "base_uri": "https://localhost:8080/",
     "height": 306
    },
    "colab_type": "code",
    "collapsed": false,
    "id": "5ybXsZl1Tekl",
    "jupyter": {
     "outputs_hidden": false
    },
    "outputId": "2ecb3706-3631-40df-d26e-cb13ffec5fa4",
    "pycharm": {
     "name": "#%%\n"
    }
   },
   "outputs": [
    {
     "name": "stdout",
     "output_type": "stream",
     "text": [
      "<class 'pandas.core.frame.DataFrame'>\n",
      "DatetimeIndex: 480 entries, 2018-10-03 to 2020-08-28\n",
      "Data columns (total 10 columns):\n",
      " #   Column       Non-Null Count  Dtype  \n",
      "---  ------       --------------  -----  \n",
      " 0   ticker       480 non-null    object \n",
      " 1   date         480 non-null    object \n",
      " 2   open         480 non-null    float64\n",
      " 3   high         480 non-null    float64\n",
      " 4   low          480 non-null    float64\n",
      " 5   close        480 non-null    float64\n",
      " 6   volume       480 non-null    float64\n",
      " 7   dividend     480 non-null    float64\n",
      " 8   closeunadj   480 non-null    float64\n",
      " 9   lastupdated  480 non-null    object \n",
      "dtypes: float64(7), object(3)\n",
      "memory usage: 41.2+ KB\n"
     ]
    }
   ],
   "source": [
    "stock_quandl.columns = ['ticker', 'date', 'open', 'high', 'low', 'close', 'volume', 'dividend', 'closeunadj', 'lastupdated']\n",
    "# stock_quandl.set_index('date', inplace=True)\n",
    "stock_quandl.index = pd.to_datetime(stock_quandl.date)\n",
    "stock_quandl = stock_quandl.sort_index(ascending=True)\n",
    "stock_quandl.info()"
   ]
  },
  {
   "cell_type": "code",
   "execution_count": 8,
   "metadata": {
    "colab": {
     "base_uri": "https://localhost:8080/",
     "height": 235
    },
    "colab_type": "code",
    "collapsed": false,
    "id": "GzN1_13bTeko",
    "jupyter": {
     "outputs_hidden": false
    },
    "outputId": "c113bf72-655c-46a1-ee6d-36b236404897",
    "pycharm": {
     "name": "#%%\n"
    }
   },
   "outputs": [
    {
     "data": {
      "text/plain": "           ticker        date    open    high      low   close      volume  dividend  closeunadj lastupdated\ndate                                                                                                        \n2018-10-03   AAPL  2018-10-03  230.05  233.47  229.780  232.07  28654799.0       0.0      232.07  2020-05-01\n2018-10-04   AAPL  2018-10-04  230.78  232.35  226.730  227.99  32042000.0       0.0      227.99  2020-05-01\n2018-10-05   AAPL  2018-10-05  227.96  228.41  220.580  224.29  33580463.0       0.0      224.29  2020-05-01\n2018-10-08   AAPL  2018-10-08  222.21  224.80  220.200  223.77  29663923.0       0.0      223.77  2020-05-01\n2018-10-09   AAPL  2018-10-09  223.64  227.27  222.246  226.87  26891029.0       0.0      226.87  2020-05-01",
      "text/html": "<div>\n<style scoped>\n    .dataframe tbody tr th:only-of-type {\n        vertical-align: middle;\n    }\n\n    .dataframe tbody tr th {\n        vertical-align: top;\n    }\n\n    .dataframe thead th {\n        text-align: right;\n    }\n</style>\n<table border=\"1\" class=\"dataframe\">\n  <thead>\n    <tr style=\"text-align: right;\">\n      <th></th>\n      <th>ticker</th>\n      <th>date</th>\n      <th>open</th>\n      <th>high</th>\n      <th>low</th>\n      <th>close</th>\n      <th>volume</th>\n      <th>dividend</th>\n      <th>closeunadj</th>\n      <th>lastupdated</th>\n    </tr>\n    <tr>\n      <th>date</th>\n      <th></th>\n      <th></th>\n      <th></th>\n      <th></th>\n      <th></th>\n      <th></th>\n      <th></th>\n      <th></th>\n      <th></th>\n      <th></th>\n    </tr>\n  </thead>\n  <tbody>\n    <tr>\n      <th>2018-10-03</th>\n      <td>AAPL</td>\n      <td>2018-10-03</td>\n      <td>230.05</td>\n      <td>233.47</td>\n      <td>229.780</td>\n      <td>232.07</td>\n      <td>28654799.0</td>\n      <td>0.0</td>\n      <td>232.07</td>\n      <td>2020-05-01</td>\n    </tr>\n    <tr>\n      <th>2018-10-04</th>\n      <td>AAPL</td>\n      <td>2018-10-04</td>\n      <td>230.78</td>\n      <td>232.35</td>\n      <td>226.730</td>\n      <td>227.99</td>\n      <td>32042000.0</td>\n      <td>0.0</td>\n      <td>227.99</td>\n      <td>2020-05-01</td>\n    </tr>\n    <tr>\n      <th>2018-10-05</th>\n      <td>AAPL</td>\n      <td>2018-10-05</td>\n      <td>227.96</td>\n      <td>228.41</td>\n      <td>220.580</td>\n      <td>224.29</td>\n      <td>33580463.0</td>\n      <td>0.0</td>\n      <td>224.29</td>\n      <td>2020-05-01</td>\n    </tr>\n    <tr>\n      <th>2018-10-08</th>\n      <td>AAPL</td>\n      <td>2018-10-08</td>\n      <td>222.21</td>\n      <td>224.80</td>\n      <td>220.200</td>\n      <td>223.77</td>\n      <td>29663923.0</td>\n      <td>0.0</td>\n      <td>223.77</td>\n      <td>2020-05-01</td>\n    </tr>\n    <tr>\n      <th>2018-10-09</th>\n      <td>AAPL</td>\n      <td>2018-10-09</td>\n      <td>223.64</td>\n      <td>227.27</td>\n      <td>222.246</td>\n      <td>226.87</td>\n      <td>26891029.0</td>\n      <td>0.0</td>\n      <td>226.87</td>\n      <td>2020-05-01</td>\n    </tr>\n  </tbody>\n</table>\n</div>"
     },
     "execution_count": 8,
     "metadata": {},
     "output_type": "execute_result"
    }
   ],
   "source": [
    "stock_quandl.head()"
   ]
  },
  {
   "cell_type": "code",
   "execution_count": 9,
   "metadata": {
    "colab": {
     "base_uri": "https://localhost:8080/",
     "height": 235
    },
    "colab_type": "code",
    "collapsed": false,
    "id": "T7jmDLccTeks",
    "jupyter": {
     "outputs_hidden": false
    },
    "outputId": "4c47d9b0-b8d7-4a64-c05b-300169b85925",
    "pycharm": {
     "name": "#%%\n"
    }
   },
   "outputs": [
    {
     "data": {
      "text/plain": "           ticker        date     open     high      low   close      volume  dividend  closeunadj lastupdated\ndate                                                                                                          \n2020-08-24   AAPL  2020-08-24  514.790  515.140  495.745  503.43  85834847.0       0.0      503.43  2020-08-24\n2020-08-25   AAPL  2020-08-25  498.790  500.717  492.210  499.30  52235429.0       0.0      499.30  2020-08-25\n2020-08-26   AAPL  2020-08-26  504.716  507.970  500.330  506.09  40251209.0       0.0      506.09  2020-08-26\n2020-08-27   AAPL  2020-08-27  508.570  509.940  495.330  500.04  38536674.0       0.0      500.04  2020-08-27\n2020-08-28   AAPL  2020-08-28  504.050  505.770  498.310  499.23  46907479.0       0.0      499.23  2020-08-28",
      "text/html": "<div>\n<style scoped>\n    .dataframe tbody tr th:only-of-type {\n        vertical-align: middle;\n    }\n\n    .dataframe tbody tr th {\n        vertical-align: top;\n    }\n\n    .dataframe thead th {\n        text-align: right;\n    }\n</style>\n<table border=\"1\" class=\"dataframe\">\n  <thead>\n    <tr style=\"text-align: right;\">\n      <th></th>\n      <th>ticker</th>\n      <th>date</th>\n      <th>open</th>\n      <th>high</th>\n      <th>low</th>\n      <th>close</th>\n      <th>volume</th>\n      <th>dividend</th>\n      <th>closeunadj</th>\n      <th>lastupdated</th>\n    </tr>\n    <tr>\n      <th>date</th>\n      <th></th>\n      <th></th>\n      <th></th>\n      <th></th>\n      <th></th>\n      <th></th>\n      <th></th>\n      <th></th>\n      <th></th>\n      <th></th>\n    </tr>\n  </thead>\n  <tbody>\n    <tr>\n      <th>2020-08-24</th>\n      <td>AAPL</td>\n      <td>2020-08-24</td>\n      <td>514.790</td>\n      <td>515.140</td>\n      <td>495.745</td>\n      <td>503.43</td>\n      <td>85834847.0</td>\n      <td>0.0</td>\n      <td>503.43</td>\n      <td>2020-08-24</td>\n    </tr>\n    <tr>\n      <th>2020-08-25</th>\n      <td>AAPL</td>\n      <td>2020-08-25</td>\n      <td>498.790</td>\n      <td>500.717</td>\n      <td>492.210</td>\n      <td>499.30</td>\n      <td>52235429.0</td>\n      <td>0.0</td>\n      <td>499.30</td>\n      <td>2020-08-25</td>\n    </tr>\n    <tr>\n      <th>2020-08-26</th>\n      <td>AAPL</td>\n      <td>2020-08-26</td>\n      <td>504.716</td>\n      <td>507.970</td>\n      <td>500.330</td>\n      <td>506.09</td>\n      <td>40251209.0</td>\n      <td>0.0</td>\n      <td>506.09</td>\n      <td>2020-08-26</td>\n    </tr>\n    <tr>\n      <th>2020-08-27</th>\n      <td>AAPL</td>\n      <td>2020-08-27</td>\n      <td>508.570</td>\n      <td>509.940</td>\n      <td>495.330</td>\n      <td>500.04</td>\n      <td>38536674.0</td>\n      <td>0.0</td>\n      <td>500.04</td>\n      <td>2020-08-27</td>\n    </tr>\n    <tr>\n      <th>2020-08-28</th>\n      <td>AAPL</td>\n      <td>2020-08-28</td>\n      <td>504.050</td>\n      <td>505.770</td>\n      <td>498.310</td>\n      <td>499.23</td>\n      <td>46907479.0</td>\n      <td>0.0</td>\n      <td>499.23</td>\n      <td>2020-08-28</td>\n    </tr>\n  </tbody>\n</table>\n</div>"
     },
     "execution_count": 9,
     "metadata": {},
     "output_type": "execute_result"
    }
   ],
   "source": [
    "stock_quandl.tail()"
   ]
  },
  {
   "cell_type": "code",
   "execution_count": 10,
   "metadata": {
    "colab": {
     "base_uri": "https://localhost:8080/",
     "height": 535
    },
    "colab_type": "code",
    "collapsed": false,
    "id": "Tfuu40coTekv",
    "jupyter": {
     "outputs_hidden": false
    },
    "outputId": "2357753d-6c83-46ad-e8cc-8593497d20ff",
    "pycharm": {
     "name": "#%%\n"
    }
   },
   "outputs": [
    {
     "data": {
      "text/plain": "<Figure size 1152x648 with 1 Axes>",
      "image/png": "[encoded data removed]"
     },
     "metadata": {},
     "output_type": "display_data"
    }
   ],
   "source": [
    "quandl_title = 'Quandl Historical Stock Information for ' + stock_symbol\n",
    "stock_quandl['close'].plot(figsize=(16,9), title=quandl_title)\n",
    "plt.show()"
   ]
  },
  {
   "cell_type": "markdown",
   "metadata": {
    "colab_type": "text",
    "id": "UKNJYDlGTek0"
   },
   "source": [
    "## Task 3. Develop Strategy and Train Model"
   ]
  },
  {
   "cell_type": "markdown",
   "metadata": {
    "colab_type": "text",
    "id": "zUtaaGbgTek3"
   },
   "source": [
    "### 3.a) Set up the Dataframe for the Trading Model"
   ]
  },
  {
   "cell_type": "code",
   "execution_count": 11,
   "metadata": {
    "colab": {
     "base_uri": "https://localhost:8080/",
     "height": 170
    },
    "colab_type": "code",
    "collapsed": false,
    "id": "dGpN7bg-Tek3",
    "jupyter": {
     "outputs_hidden": false
    },
    "outputId": "60f23809-9c25-44bd-dcbc-82c93777493d",
    "pycharm": {
     "name": "#%%\n"
    }
   },
   "outputs": [
    {
     "name": "stdout",
     "output_type": "stream",
     "text": [
      "<class 'pandas.core.frame.DataFrame'>\n",
      "DatetimeIndex: 480 entries, 2018-10-03 to 2020-08-28\n",
      "Data columns (total 2 columns):\n",
      " #   Column       Non-Null Count  Dtype  \n",
      "---  ------       --------------  -----  \n",
      " 0   open_price   480 non-null    float64\n",
      " 1   close_price  480 non-null    float64\n",
      "dtypes: float64(2)\n",
      "memory usage: 11.2 KB\n"
     ]
    }
   ],
   "source": [
    "# Set up the standard column name for modeling\n",
    "model_template = stock_quandl.loc[:, ['open','close']]\n",
    "model_template.rename(columns={'open': 'open_price', 'close': 'close_price'}, inplace=True)\n",
    "model_template.info()"
   ]
  },
  {
   "cell_type": "markdown",
   "metadata": {
    "colab_type": "text",
    "id": "v-3ecix6Tek_"
   },
   "source": [
    "### 3.b) Set up the Analysis Table with Indicators"
   ]
  },
  {
   "cell_type": "code",
   "execution_count": 12,
   "metadata": {
    "colab": {},
    "colab_type": "code",
    "collapsed": false,
    "id": "yfQTRXPnTelA",
    "jupyter": {
     "outputs_hidden": false
    },
    "pycharm": {
     "name": "#%%\n"
    }
   },
   "outputs": [],
   "source": [
    "# Define the functions that will generate the indicators and trading signals\n",
    "\n",
    "def populate_indicators(passed_model):\n",
    "    passed_model['fast_ema'] = passed_model['close_price'].ewm(span=fast_ma).mean()\n",
    "    passed_model['slow_ema'] = passed_model['close_price'].ewm(span=slow_ma).mean()\n",
    "    passed_model['fast_sma'] = passed_model['close_price'].rolling(fast_ma).mean()\n",
    "    passed_model['slow_sma'] = passed_model['close_price'].rolling(slow_ma).mean()\n",
    "    passed_model['ema_change'] = passed_model['fast_ema'] - passed_model['slow_ema']\n",
    "    passed_model['sma_change'] = passed_model['fast_sma'] - passed_model['slow_sma']\n",
    "    passed_model['fastema_slowsma_chg'] = passed_model['fast_ema'] - passed_model['slow_sma']\n",
    "    passed_model['fastsma_slowema_chg'] = passed_model['fast_sma'] - passed_model['slow_ema']\n",
    "    passed_model['trade_signal'] = np.zeros(len(passed_model))\n",
    "    passed_model['signal_change'] = np.zeros(len(passed_model))\n",
    "    passed_model['entry_exit'] = np.zeros(len(passed_model))\n",
    "\n",
    "def populate_momentum_signals(model, change_curve):\n",
    "    wait_for_entry = True\n",
    "    for x in range(len(model)):\n",
    "        if model[change_curve].iloc[x] > 0:\n",
    "            model['trade_signal'].iloc[x] = 1  # trade_signal = 1 means we should enter into a long position\n",
    "        else:\n",
    "            model['trade_signal'].iloc[x] = 0  # trade_signal = 0 means we should exit the long position\n",
    "        if x != 0:\n",
    "            model['signal_change'].iloc[x] = model['trade_signal'].iloc[x] - model['trade_signal'].iloc[x-1]\n",
    "            if wait_for_entry and (model['signal_change'].iloc[x-1] == 1):\n",
    "                model['entry_exit'].iloc[x] = model['signal_change'].iloc[x-1]\n",
    "                wait_for_entry = False\n",
    "            elif (not wait_for_entry) and (model['signal_change'].iloc[x-1] != 0):\n",
    "                model['entry_exit'].iloc[x] = model['signal_change'].iloc[x-1]\n",
    "\n",
    "def populate_reversion_signals(model, change_curve):\n",
    "    wait_for_entry = True\n",
    "    for x in range(len(model)):\n",
    "        if model[change_curve].iloc[x] < 0:\n",
    "            model['trade_signal'].iloc[x] = 1  # trade_signal = 1 means we should enter into a long position\n",
    "        else:\n",
    "            model['trade_signal'].iloc[x] = 0  # trade_signal = 0 means we should exit the long position\n",
    "        if x != 0:\n",
    "            model['signal_change'].iloc[x] = model['trade_signal'].iloc[x] - model['trade_signal'].iloc[x-1]\n",
    "            if wait_for_entry and (model['signal_change'].iloc[x-1] == 1):\n",
    "                model['entry_exit'].iloc[x] = model['signal_change'].iloc[x-1]\n",
    "                wait_for_entry = False\n",
    "            elif (not wait_for_entry) and (model['signal_change'].iloc[x-1] != 0):\n",
    "                model['entry_exit'].iloc[x] = model['signal_change'].iloc[x-1]"
   ]
  },
  {
   "cell_type": "code",
   "execution_count": 13,
   "metadata": {
    "colab": {
     "base_uri": "https://localhost:8080/",
     "height": 1000
    },
    "colab_type": "code",
    "collapsed": false,
    "id": "8M4khYD7TelG",
    "jupyter": {
     "outputs_hidden": false
    },
    "outputId": "05f4cf43-5ebd-4654-9806-00894118795f",
    "pycharm": {
     "name": "#%%\n"
    }
   },
   "outputs": [
    {
     "name": "stdout",
     "output_type": "stream",
     "text": [
      "35 momentum EMA only models generated!\n",
      "\n",
      "35 momentum SMA only models generated!\n",
      "\n",
      "35 momentum Fast EMA/Slow SMA models generated!\n",
      "\n",
      "35 momentum Fast SMA/Slow EMA models generated!\n",
      "\n",
      "35 mean-reversion EMA only models generated!\n",
      "\n",
      "35 mean-reversion SMA only models generated!\n",
      "\n",
      "35 mean-reversion Fast EMA/Slow SMA models generated!\n",
      "\n",
      "35 mean-reversion Fast SMA/Slow EMA models generated!\n"
     ]
    }
   ],
   "source": [
    "# Processing momentum models using only the EMA curves\n",
    "momentum_fast_slow_ema_only_models = {}\n",
    "serial_number = 1\n",
    "for slow_ma in range(slow_ema_min, slow_ema_max+1, ma_increment):\n",
    "    for fast_ma in range(fast_ema_min, fast_ema_max+1, ma_increment):\n",
    "        if (slow_ma - fast_ma) < min_ma_gap: break\n",
    "        if verbose_models: print('Processing momentum model with fast_ema of', fast_ma, 'and slow_ema of', slow_ma)\n",
    "        model_tag = 'Momentum_EMA_' + str(serial_number).zfill(3) + '_FastEMA_' + str(fast_ma).zfill(3) + '_SlowEMA_' + str(slow_ma).zfill(3)\n",
    "        serial_number = serial_number + 1\n",
    "        trading_model = model_template.copy()\n",
    "        populate_indicators(trading_model)\n",
    "        trading_model = trading_model[model_start_date:model_end_date]\n",
    "        populate_momentum_signals(trading_model, 'ema_change')\n",
    "        momentum_fast_slow_ema_only_models[model_tag] = trading_model.copy()\n",
    "        if verbose_models: print('Model', model_tag, 'added to the trading model collection.')\n",
    "print(len(momentum_fast_slow_ema_only_models), 'momentum EMA only models generated!')\n",
    "\n",
    "# Processing momentum models using only the SMA curves\n",
    "print()\n",
    "momentum_fast_slow_sma_only_models = {}\n",
    "serial_number = 1\n",
    "for slow_ma in range(slow_sma_min, slow_sma_max+1, ma_increment):\n",
    "    for fast_ma in range(fast_sma_min, fast_sma_max+1, ma_increment):\n",
    "        if (slow_ma - fast_ma) < min_ma_gap: break\n",
    "        if verbose_models: print('Processing momentum model with fast_sma of', fast_ma, 'and slow_sma of', slow_ma)\n",
    "        model_tag = 'Momentum_SMA_' + str(serial_number).zfill(3) + '_FastSMA_' + str(fast_ma).zfill(3) + '_SlowSMA_' + str(slow_ma).zfill(3)\n",
    "        serial_number = serial_number + 1\n",
    "        trading_model = model_template.copy()\n",
    "        populate_indicators(trading_model)\n",
    "        trading_model = trading_model[model_start_date:model_end_date]\n",
    "        populate_momentum_signals(trading_model, 'sma_change')\n",
    "        momentum_fast_slow_sma_only_models[model_tag] = trading_model.copy()\n",
    "        if verbose_models: print('Model', model_tag, 'added to the trading model collection.')\n",
    "print(len(momentum_fast_slow_sma_only_models), 'momentum SMA only models generated!')\n",
    "\n",
    "# Processing momentum models using fast EMA and slow SMA curves\n",
    "print()\n",
    "momentum_fast_ema_slow_sma_models = {}\n",
    "serial_number = 1\n",
    "for slow_ma in range(slow_sma_min, slow_sma_max+1, ma_increment):\n",
    "    for fast_ma in range(fast_ema_min, fast_ema_max+1, ma_increment):\n",
    "        if (slow_ma - fast_ma) < min_ma_gap: break\n",
    "        if verbose_models: print('Processing momentum model with fast_ema of', fast_ma, 'and slow_sma of', slow_ma)\n",
    "        model_tag = 'Momentum_Mixed_' + str(serial_number).zfill(3) + '_FastEMA_' + str(fast_ma).zfill(3) + '_SlowSMA_' + str(slow_ma).zfill(3)\n",
    "        serial_number = serial_number + 1\n",
    "        trading_model = model_template.copy()\n",
    "        populate_indicators(trading_model)\n",
    "        trading_model = trading_model[model_start_date:model_end_date]\n",
    "        populate_momentum_signals(trading_model, 'fastema_slowsma_chg')\n",
    "        momentum_fast_ema_slow_sma_models[model_tag] = trading_model.copy()\n",
    "        if verbose_models: print('Model', model_tag, 'added to the trading model collection.')\n",
    "print(len(momentum_fast_ema_slow_sma_models), 'momentum Fast EMA/Slow SMA models generated!')\n",
    "\n",
    "# Processing momentum models using fast SMA and slow EMA curves\n",
    "print()\n",
    "momentum_fast_sma_slow_ema_models = {}\n",
    "serial_number = 1\n",
    "for slow_ma in range(slow_ema_min, slow_ema_max+1, ma_increment):\n",
    "    for fast_ma in range(fast_sma_min, fast_sma_max+1, ma_increment):\n",
    "        if (slow_ma - fast_ma) < min_ma_gap: break\n",
    "        if verbose_models: print('Processing momentum model with fast_sma of', fast_ma, 'and slow_ema of', slow_ma)\n",
    "        model_tag = 'Momentum_Mixed_' + str(serial_number).zfill(3) + '_FastSMA_' + str(fast_ma).zfill(3) + '_SlowEMA_' + str(slow_ma).zfill(3)\n",
    "        serial_number = serial_number + 1\n",
    "        trading_model = model_template.copy()\n",
    "        populate_indicators(trading_model)\n",
    "        trading_model = trading_model[model_start_date:model_end_date]\n",
    "        populate_momentum_signals(trading_model, 'fastsma_slowema_chg')\n",
    "        momentum_fast_sma_slow_ema_models[model_tag] = trading_model.copy()\n",
    "        if verbose_models: print('Model', model_tag, 'added to the trading model collection.')\n",
    "print(len(momentum_fast_sma_slow_ema_models), 'momentum Fast SMA/Slow EMA models generated!')\n",
    "\n",
    "# Processing mean-reversion models using only the EMA curves\n",
    "print()\n",
    "reversion_fast_slow_ema_only_models = {}\n",
    "serial_number = 1\n",
    "for slow_ma in range(slow_ema_min, slow_ema_max+1, ma_increment):\n",
    "    for fast_ma in range(fast_ema_min, fast_ema_max+1, ma_increment):\n",
    "        if (slow_ma - fast_ma) < min_ma_gap: break\n",
    "        if verbose_models: print('Processing mean-reversion model with fast_ema of', fast_ma, 'and slow_ema of', slow_ma)\n",
    "        model_tag = 'Reversion_EMA_' + str(serial_number).zfill(3) + '_FastEMA_' + str(fast_ma).zfill(3) + '_SlowEMA_' + str(slow_ma).zfill(3)\n",
    "        serial_number = serial_number + 1\n",
    "        trading_model = model_template.copy()\n",
    "        populate_indicators(trading_model)\n",
    "        trading_model = trading_model[model_start_date:model_end_date]\n",
    "        populate_reversion_signals(trading_model, 'ema_change')\n",
    "        reversion_fast_slow_ema_only_models[model_tag] = trading_model.copy()\n",
    "        if verbose_models: print('Model', model_tag, 'added to the trading model collection.')\n",
    "print(len(momentum_fast_slow_ema_only_models), 'mean-reversion EMA only models generated!')\n",
    "\n",
    "# Processing mean-reversion models using only the SMA curves\n",
    "print()\n",
    "reversion_fast_slow_sma_only_models = {}\n",
    "serial_number = 1\n",
    "for slow_ma in range(slow_sma_min, slow_sma_max+1, ma_increment):\n",
    "    for fast_ma in range(fast_sma_min, fast_sma_max+1, ma_increment):\n",
    "        if (slow_ma - fast_ma) < min_ma_gap: break\n",
    "        if verbose_models: print('Processing mean-reversion model with fast_sma of', fast_ma, 'and slow_sma of', slow_ma)\n",
    "        model_tag = 'Reversion_SMA_' + str(serial_number).zfill(3) + '_FastSMA_' + str(fast_ma).zfill(3) + '_SlowSMA_' + str(slow_ma).zfill(3)\n",
    "        serial_number = serial_number + 1\n",
    "        trading_model = model_template.copy()\n",
    "        populate_indicators(trading_model)\n",
    "        trading_model = trading_model[model_start_date:model_end_date]\n",
    "        populate_reversion_signals(trading_model, 'sma_change')\n",
    "        reversion_fast_slow_sma_only_models[model_tag] = trading_model.copy()\n",
    "        if verbose_models: print('Model', model_tag, 'added to the trading model collection.')\n",
    "print(len(reversion_fast_slow_sma_only_models), 'mean-reversion SMA only models generated!')\n",
    "\n",
    "# Processing mean-reversion models using fast EMA and slow SMA curves\n",
    "print()\n",
    "reversion_fast_ema_slow_sma_models = {}\n",
    "serial_number = 1\n",
    "for slow_ma in range(slow_sma_min, slow_sma_max+1, ma_increment):\n",
    "    for fast_ma in range(fast_ema_min, fast_ema_max+1, ma_increment):\n",
    "        if (slow_ma - fast_ma) < min_ma_gap: break\n",
    "        if verbose_models: print('Processing mean-reversion model with fast_ema of', fast_ma, 'and slow_sma of', slow_ma)\n",
    "        model_tag = 'Reversion_Mixed_' + str(serial_number).zfill(3) + '_FastEMA_' + str(fast_ma).zfill(3) + '_SlowSMA_' + str(slow_ma).zfill(3)\n",
    "        serial_number = serial_number + 1\n",
    "        trading_model = model_template.copy()\n",
    "        populate_indicators(trading_model)\n",
    "        trading_model = trading_model[model_start_date:model_end_date]\n",
    "        populate_reversion_signals(trading_model, 'fastema_slowsma_chg')\n",
    "        reversion_fast_ema_slow_sma_models[model_tag] = trading_model.copy()\n",
    "        if verbose_models: print('Model', model_tag, 'added to the trading model collection.')\n",
    "print(len(reversion_fast_ema_slow_sma_models), 'mean-reversion Fast EMA/Slow SMA models generated!')\n",
    "\n",
    "# Processing mean-reversion models using fast SMA and slow EMA curves\n",
    "print()\n",
    "reversion_fast_sma_slow_ema_models = {}\n",
    "serial_number = 1\n",
    "for slow_ma in range(slow_ema_min, slow_ema_max+1, ma_increment):\n",
    "    for fast_ma in range(fast_sma_min, fast_sma_max+1, ma_increment):\n",
    "        if (slow_ma - fast_ma) < min_ma_gap: break\n",
    "        if verbose_models: print('Processing mean-reversion model with fast_sma of', fast_ma, 'and slow_ema of', slow_ma)\n",
    "        model_tag = 'Reversion_Mixed_' + str(serial_number).zfill(3) + '_FastSMA_' + str(fast_ma).zfill(3) + '_SlowEMA_' + str(slow_ma).zfill(3)\n",
    "        serial_number = serial_number + 1\n",
    "        trading_model = model_template.copy()\n",
    "        populate_indicators(trading_model)\n",
    "        trading_model = trading_model[model_start_date:model_end_date]\n",
    "        populate_reversion_signals(trading_model, 'fastsma_slowema_chg')\n",
    "        reversion_fast_sma_slow_ema_models[model_tag] = trading_model.copy()\n",
    "        if verbose_models: print('Model', model_tag, 'added to the trading model collection.')\n",
    "print(len(reversion_fast_sma_slow_ema_models), 'mean-reversion Fast SMA/Slow EMA models generated!')"
   ]
  },
  {
   "cell_type": "code",
   "execution_count": 14,
   "metadata": {
    "colab": {
     "base_uri": "https://localhost:8080/",
     "height": 1000
    },
    "colab_type": "code",
    "collapsed": false,
    "id": "327CZKmtTelL",
    "jupyter": {
     "outputs_hidden": false
    },
    "outputId": "b353b49d-0281-4aa7-a530-6747c166eae5",
    "pycharm": {
     "name": "#%%\n"
    }
   },
   "outputs": [],
   "source": [
    "# List the entry/exit points for each model\n",
    "def list_model_entry_exit(model_collection):\n",
    "    for model_name in model_collection:\n",
    "        print('List the signal change and entry/exit points for', model_name)\n",
    "        print(model_collection[model_name][(model_collection[model_name].signal_change != 0) | (model_collection[model_name].entry_exit != 0)])\n",
    "        print()"
   ]
  },
  {
   "cell_type": "code",
   "execution_count": 15,
   "metadata": {
    "collapsed": false,
    "jupyter": {
     "outputs_hidden": false
    },
    "pycharm": {
     "name": "#%%\n"
    }
   },
   "outputs": [],
   "source": [
    "if verbose_models: list_model_entry_exit(momentum_fast_slow_ema_only_models)"
   ]
  },
  {
   "cell_type": "code",
   "execution_count": 16,
   "metadata": {
    "collapsed": false,
    "jupyter": {
     "outputs_hidden": false
    },
    "pycharm": {
     "name": "#%%\n"
    }
   },
   "outputs": [],
   "source": [
    "if verbose_models: list_model_entry_exit(momentum_fast_slow_sma_only_models)"
   ]
  },
  {
   "cell_type": "code",
   "execution_count": 17,
   "metadata": {},
   "outputs": [],
   "source": [
    "if verbose_models: list_model_entry_exit(momentum_fast_ema_slow_sma_models)"
   ]
  },
  {
   "cell_type": "code",
   "execution_count": 18,
   "metadata": {},
   "outputs": [],
   "source": [
    "if verbose_models: list_model_entry_exit(momentum_fast_sma_slow_ema_models)"
   ]
  },
  {
   "cell_type": "code",
   "execution_count": 19,
   "outputs": [],
   "source": [
    "if verbose_models: list_model_entry_exit(reversion_fast_slow_ema_only_models)"
   ],
   "metadata": {
    "collapsed": false,
    "pycharm": {
     "name": "#%%\n"
    }
   }
  },
  {
   "cell_type": "code",
   "execution_count": 20,
   "outputs": [],
   "source": [
    "if verbose_models: list_model_entry_exit(reversion_fast_slow_sma_only_models)"
   ],
   "metadata": {
    "collapsed": false,
    "pycharm": {
     "name": "#%%\n"
    }
   }
  },
  {
   "cell_type": "code",
   "execution_count": 21,
   "outputs": [],
   "source": [
    "if verbose_models: list_model_entry_exit(reversion_fast_ema_slow_sma_models)"
   ],
   "metadata": {
    "collapsed": false,
    "pycharm": {
     "name": "#%%\n"
    }
   }
  },
  {
   "cell_type": "code",
   "execution_count": 22,
   "outputs": [],
   "source": [
    "if verbose_models: list_model_entry_exit(reversion_fast_sma_slow_ema_models)"
   ],
   "metadata": {
    "collapsed": false,
    "pycharm": {
     "name": "#%%\n"
    }
   }
  },
  {
   "cell_type": "code",
   "execution_count": 23,
   "metadata": {
    "colab": {
     "base_uri": "https://localhost:8080/",
     "height": 1000
    },
    "colab_type": "code",
    "collapsed": false,
    "id": "XEyJXVxcTelS",
    "jupyter": {
     "outputs_hidden": false
    },
    "outputId": "c74ac3e9-fbd3-4e73-8294-f12d0cce88dc",
    "pycharm": {
     "name": "#%%\n"
    }
   },
   "outputs": [],
   "source": [
    "def draw_model_graphs(model_name, trade_model, fast_ma_curve='fast_ema', slow_ma_curve='slow_ema'):\n",
    "    graph_data = trade_model.copy()\n",
    "    title_string = \"Moving Average Crossover Model for \" + model_name\n",
    "    fig = plt.figure(figsize=(16,9))\n",
    "    ylabel = stock_symbol + ' price in $'\n",
    "    ax1 = fig.add_subplot(111, ylabel=ylabel, title=title_string)\n",
    "    graph_data[fast_ma_curve].plot(ax=ax1, color='b', lw=2.)\n",
    "    graph_data[slow_ma_curve].plot(ax=ax1, color='r', lw=2.)\n",
    "    graph_data['close_price'].plot(ax=ax1, color='g')\n",
    "    ax1.plot(graph_data.loc[graph_data.entry_exit == 1].index, graph_data.close_price[graph_data.entry_exit == 1], '^', markersize=7, color='k',label='buy')\n",
    "    ax1.plot(graph_data.loc[graph_data.entry_exit == -1].index, graph_data.close_price[graph_data.entry_exit == -1], 'v', markersize=7, color='k',label='sell')\n",
    "    plt.legend(loc='upper left')\n",
    "    plt.show()"
   ]
  },
  {
   "cell_type": "code",
   "execution_count": 24,
   "metadata": {
    "collapsed": false,
    "jupyter": {
     "outputs_hidden": false
    },
    "pycharm": {
     "name": "#%%\n"
    }
   },
   "outputs": [],
   "source": [
    "if verbose_graphs:\n",
    "    for tag in momentum_fast_slow_ema_only_models:\n",
    "        draw_model_graphs(tag, momentum_fast_slow_ema_only_models[tag], 'fast_ema', 'slow_ema')"
   ]
  },
  {
   "cell_type": "code",
   "execution_count": 25,
   "metadata": {
    "collapsed": false,
    "jupyter": {
     "outputs_hidden": false
    },
    "pycharm": {
     "name": "#%%\n"
    }
   },
   "outputs": [],
   "source": [
    "if verbose_graphs:\n",
    "    for tag in momentum_fast_slow_sma_only_models:\n",
    "        draw_model_graphs(tag, momentum_fast_slow_sma_only_models[tag], 'fast_sma', 'slow_sma')"
   ]
  },
  {
   "cell_type": "code",
   "execution_count": 26,
   "metadata": {},
   "outputs": [],
   "source": [
    "if verbose_graphs:\n",
    "    for tag in momentum_fast_ema_slow_sma_models:\n",
    "        draw_model_graphs(tag, momentum_fast_ema_slow_sma_models[tag], 'fast_ema', 'slow_sma')"
   ]
  },
  {
   "cell_type": "code",
   "execution_count": 27,
   "metadata": {},
   "outputs": [],
   "source": [
    "if verbose_graphs:\n",
    "    for tag in momentum_fast_sma_slow_ema_models:\n",
    "        draw_model_graphs(tag, momentum_fast_sma_slow_ema_models[tag], 'fast_sma', 'slow_ema')"
   ]
  },
  {
   "cell_type": "code",
   "execution_count": 28,
   "outputs": [],
   "source": [
    "if verbose_graphs:\n",
    "    for tag in reversion_fast_slow_ema_only_models:\n",
    "        draw_model_graphs(tag, reversion_fast_slow_ema_only_models[tag], 'fast_ema', 'slow_ema')"
   ],
   "metadata": {
    "collapsed": false,
    "pycharm": {
     "name": "#%%\n"
    }
   }
  },
  {
   "cell_type": "code",
   "execution_count": 29,
   "outputs": [],
   "source": [
    "if verbose_graphs:\n",
    "    for tag in reversion_fast_slow_sma_only_models:\n",
    "        draw_model_graphs(tag, reversion_fast_slow_sma_only_models[tag], 'fast_sma', 'slow_sma')"
   ],
   "metadata": {
    "collapsed": false,
    "pycharm": {
     "name": "#%%\n"
    }
   }
  },
  {
   "cell_type": "code",
   "execution_count": 30,
   "outputs": [],
   "source": [
    "if verbose_graphs:\n",
    "    for tag in reversion_fast_ema_slow_sma_models:\n",
    "        draw_model_graphs(tag, reversion_fast_ema_slow_sma_models[tag], 'fast_ema', 'slow_sma')"
   ],
   "metadata": {
    "collapsed": false,
    "pycharm": {
     "name": "#%%\n"
    }
   }
  },
  {
   "cell_type": "code",
   "execution_count": 31,
   "outputs": [],
   "source": [
    "if verbose_graphs:\n",
    "    for tag in reversion_fast_sma_slow_ema_models:\n",
    "        draw_model_graphs(tag, reversion_fast_sma_slow_ema_models[tag], 'fast_sma', 'slow_ema')"
   ],
   "metadata": {
    "collapsed": false,
    "pycharm": {
     "name": "#%%\n"
    }
   }
  },
  {
   "cell_type": "markdown",
   "metadata": {
    "colab_type": "text",
    "id": "wzTQaZkeTeld"
   },
   "source": [
    "## Task 4. Back-test Model"
   ]
  },
  {
   "cell_type": "code",
   "execution_count": 32,
   "metadata": {
    "colab": {},
    "colab_type": "code",
    "collapsed": false,
    "id": "Q1xZWksnTelr",
    "jupyter": {
     "outputs_hidden": false
    },
    "pycharm": {
     "name": "#%%\n"
    }
   },
   "outputs": [],
   "source": [
    "def trading_portfolio_generation(initial_fund, trade_model):\n",
    "    # Construct a portfolio to track the transactions and returns\n",
    "    portfolio = pd.DataFrame(index=trade_model.index, columns=['trade_action', 'qty_onhand', 'cost_basis', 'sold_transaction', 'gain_loss', 'cash_onhand', 'position_value', 'total_position', 'accumu_return'])\n",
    "    portfolio.iloc[0]['trade_action'] = 0\n",
    "    portfolio.iloc[0]['qty_onhand'] = 0\n",
    "    portfolio.iloc[0]['cost_basis'] = 0.00\n",
    "    portfolio.iloc[0]['sold_transaction'] = 0.00\n",
    "    portfolio.iloc[0]['gain_loss'] = 0.00\n",
    "    portfolio.iloc[0]['cash_onhand'] = initial_capital\n",
    "    portfolio.iloc[0]['position_value'] = 0.00\n",
    "    portfolio.iloc[0]['total_position'] = initial_capital\n",
    "    portfolio.iloc[0]['accumu_return'] = portfolio.iloc[0]['total_position'] - initial_fund\n",
    "    recent_cost = 0\n",
    "\n",
    "    # The conditional parameters below determine how the trading strategy will be carried out\n",
    "    for i in range(1, len(portfolio)):\n",
    "        if (trade_model.iloc[i]['entry_exit'] == 1) and (portfolio.iloc[i-1]['qty_onhand'] == 0):\n",
    "            portfolio.iloc[i]['trade_action'] = 1\n",
    "            portfolio.iloc[i]['qty_onhand'] = portfolio.iloc[i-1]['qty_onhand'] + portfolio.iloc[i]['trade_action']\n",
    "            portfolio.iloc[i]['cost_basis'] = trade_model.iloc[i]['open_price'] * portfolio.iloc[i]['trade_action']\n",
    "            portfolio.iloc[i]['sold_transaction'] = 0.00\n",
    "            portfolio.iloc[i]['gain_loss'] = 0.00\n",
    "            portfolio.iloc[i]['cash_onhand'] = portfolio.iloc[i-1]['cash_onhand'] - portfolio.iloc[i]['cost_basis']\n",
    "            recent_cost = trade_model.iloc[i]['open_price'] * portfolio.iloc[i]['trade_action']\n",
    "            if verbose_portfolios: print('BOUGHT QTY:', portfolio.iloc[i]['trade_action'], 'on', portfolio.index[i], 'at the price of', trade_model.iloc[i]['open_price'])\n",
    "        elif (trade_model.iloc[i]['entry_exit'] == -1) and (portfolio.iloc[i-1]['qty_onhand'] > 0):\n",
    "            portfolio.iloc[i]['trade_action'] = -1\n",
    "            portfolio.iloc[i]['qty_onhand'] = portfolio.iloc[i-1]['qty_onhand'] + portfolio.iloc[i]['trade_action']\n",
    "            portfolio.iloc[i]['cost_basis'] = 0.00\n",
    "            portfolio.iloc[i]['sold_transaction'] = trade_model.iloc[i]['open_price'] * portfolio.iloc[i]['trade_action'] * -1\n",
    "            portfolio.iloc[i]['gain_loss'] = (recent_cost + (trade_model.iloc[i]['open_price'] * portfolio.iloc[i]['trade_action'])) * -1\n",
    "            portfolio.iloc[i]['cash_onhand'] = portfolio.iloc[i-1]['cash_onhand'] + portfolio.iloc[i]['sold_transaction']\n",
    "            recent_cost = 0.00\n",
    "            if verbose_portfolios: print('SOLD QTY:', portfolio.iloc[i]['trade_action'], 'on', portfolio.index[i], 'at the price of', trade_model.iloc[i]['open_price'])\n",
    "        else:\n",
    "            portfolio.iloc[i]['trade_action'] = 0\n",
    "            portfolio.iloc[i]['qty_onhand'] = portfolio.iloc[i-1]['qty_onhand']\n",
    "            portfolio.iloc[i]['cost_basis'] = portfolio.iloc[i-1]['cost_basis']\n",
    "            portfolio.iloc[i]['sold_transaction'] = 0.00\n",
    "            portfolio.iloc[i]['gain_loss'] = 0.00\n",
    "            portfolio.iloc[i]['cash_onhand'] = portfolio.iloc[i-1]['cash_onhand']\n",
    "        portfolio.iloc[i]['position_value'] = trade_model.iloc[i]['close_price'] * portfolio.iloc[i]['qty_onhand']\n",
    "        portfolio.iloc[i]['total_position'] = portfolio.iloc[i]['cash_onhand'] + portfolio.iloc[i]['position_value']\n",
    "        portfolio.iloc[i]['accumu_return'] = portfolio.iloc[i]['total_position'] - initial_fund\n",
    "\n",
    "    return portfolio"
   ]
  },
  {
   "cell_type": "code",
   "execution_count": 33,
   "metadata": {
    "colab": {
     "base_uri": "https://localhost:8080/",
     "height": 1000
    },
    "colab_type": "code",
    "collapsed": false,
    "id": "mOsqVrfRTelw",
    "jupyter": {
     "outputs_hidden": false
    },
    "outputId": "17950f55-4566-48b2-dde6-0974c6e45966",
    "pycharm": {
     "name": "#%%\n"
    }
   },
   "outputs": [],
   "source": [
    "def generate_portfolio_and_performance(model_collection):\n",
    "    # Initialize a dictionary for tracking portfolios for all models\n",
    "    portfolio_collection = {}\n",
    "    # Initialize a dataframe for reporting model performance summary\n",
    "    performance_summary = pd.DataFrame(columns=['model_name','return_value','return_percent'])\n",
    "\n",
    "    for model_name in model_collection:\n",
    "        if verbose_portfolios: print('Processing portfolio for model:', model_name)\n",
    "        portfolio_collection[model_name] = trading_portfolio_generation(initial_capital, model_collection[model_name])\n",
    "        trade_transactions = portfolio_collection[model_name][portfolio_collection[model_name].trade_action != 0]\n",
    "        if verbose_portfolios: print(trade_transactions)\n",
    "        if verbose_portfolios: print('Accumulated profit/loss for one share of stock with initial capital of $%.0f at the end of modeling period: $%.2f' % (initial_capital, portfolio_collection[model_name].accumu_return[-1]))\n",
    "        if initial_capital != 0:\n",
    "            return_percentage = portfolio_collection[model_name].accumu_return[-1] / initial_capital * 100\n",
    "            if verbose_portfolios: print('Accumulated return percentage based on the initial capital investment: %.2f%%' % return_percentage)\n",
    "        else:\n",
    "            return_percentage = None\n",
    "        if trade_transactions.iloc[-1]['trade_action'] == 1:\n",
    "            if verbose_portfolios: print('The current status of the model is:', 'Holding a position since', trade_transactions.index.tolist()[-1], '\\n')\n",
    "        else:\n",
    "            if verbose_portfolios: print('The current status of the model is:', 'Waiting to enter since', trade_transactions.index.tolist()[-1], '\\n')\n",
    "        performance_summary = performance_summary.append({'model_name': model_name, 'return_value': portfolio_collection[model_name].accumu_return[-1], 'return_percent': return_percentage}, ignore_index=True)\n",
    "    performance_summary.sort_values(by=['return_value'], inplace=True, ascending=False)\n",
    "    return portfolio_collection, performance_summary"
   ]
  },
  {
   "cell_type": "code",
   "execution_count": 34,
   "metadata": {
    "collapsed": false,
    "jupyter": {
     "outputs_hidden": false
    },
    "pycharm": {
     "name": "#%%\n"
    }
   },
   "outputs": [
    {
     "name": "stdout",
     "output_type": "stream",
     "text": [
      "35 momentum trading transaction portfolios generated.\n",
      "35 profit/loss performance summaries generated.\n"
     ]
    }
   ],
   "source": [
    "momentum_fast_slow_ema_only_portfolios, momentum_fast_slow_ema_only_performance = generate_portfolio_and_performance(momentum_fast_slow_ema_only_models)\n",
    "print(len(momentum_fast_slow_ema_only_portfolios), 'momentum trading transaction portfolios generated.')\n",
    "print(len(momentum_fast_slow_ema_only_performance), 'profit/loss performance summaries generated.')"
   ]
  },
  {
   "cell_type": "code",
   "execution_count": 35,
   "metadata": {
    "collapsed": false,
    "jupyter": {
     "outputs_hidden": false
    },
    "pycharm": {
     "name": "#%%\n"
    }
   },
   "outputs": [
    {
     "name": "stdout",
     "output_type": "stream",
     "text": [
      "35 momentum trading transaction portfolios generated.\n",
      "35 profit/loss performance summaries generated.\n"
     ]
    }
   ],
   "source": [
    "momentum_fast_slow_sma_portfolios, momentum_fast_slow_sma_only_performance = generate_portfolio_and_performance(momentum_fast_slow_sma_only_models)\n",
    "print(len(momentum_fast_slow_sma_portfolios), 'momentum trading transaction portfolios generated.')\n",
    "print(len(momentum_fast_slow_sma_only_performance), 'profit/loss performance summaries generated.')"
   ]
  },
  {
   "cell_type": "code",
   "execution_count": 36,
   "metadata": {},
   "outputs": [
    {
     "name": "stdout",
     "output_type": "stream",
     "text": [
      "35 momentum trading transaction portfolios generated.\n",
      "35 profit/loss performance summaries generated.\n"
     ]
    }
   ],
   "source": [
    "momentum_fast_ema_slow_sma_portfolios, momentum_fast_ema_slow_sma_performance = generate_portfolio_and_performance(momentum_fast_ema_slow_sma_models)\n",
    "print(len(momentum_fast_ema_slow_sma_portfolios), 'momentum trading transaction portfolios generated.')\n",
    "print(len(momentum_fast_ema_slow_sma_performance), 'profit/loss performance summaries generated.')"
   ]
  },
  {
   "cell_type": "code",
   "execution_count": 37,
   "metadata": {},
   "outputs": [
    {
     "name": "stdout",
     "output_type": "stream",
     "text": [
      "35 momentum trading transaction portfolios generated.\n",
      "35 profit/loss performance summaries generated.\n"
     ]
    }
   ],
   "source": [
    "momentum_fast_sma_slow_ema_portfolios, momentum_fast_sma_slow_ema_performance = generate_portfolio_and_performance(momentum_fast_sma_slow_ema_models)\n",
    "print(len(momentum_fast_sma_slow_ema_portfolios), 'momentum trading transaction portfolios generated.')\n",
    "print(len(momentum_fast_sma_slow_ema_performance), 'profit/loss performance summaries generated.')"
   ]
  },
  {
   "cell_type": "code",
   "execution_count": 38,
   "outputs": [
    {
     "name": "stdout",
     "output_type": "stream",
     "text": [
      "35 mean-reversion trading transaction portfolios generated.\n",
      "35 profit/loss performance summaries generated.\n"
     ]
    }
   ],
   "source": [
    "reversion_fast_slow_ema_only_portfolios, reversion_fast_slow_ema_only_performance = generate_portfolio_and_performance(reversion_fast_slow_ema_only_models)\n",
    "print(len(reversion_fast_slow_ema_only_portfolios), 'mean-reversion trading transaction portfolios generated.')\n",
    "print(len(reversion_fast_slow_ema_only_performance), 'profit/loss performance summaries generated.')"
   ],
   "metadata": {
    "collapsed": false,
    "pycharm": {
     "name": "#%%\n"
    }
   }
  },
  {
   "cell_type": "code",
   "execution_count": 39,
   "outputs": [
    {
     "name": "stdout",
     "output_type": "stream",
     "text": [
      "35 mean-reversion trading transaction portfolios generated.\n",
      "35 profit/loss performance summaries generated.\n"
     ]
    }
   ],
   "source": [
    "reversion_fast_slow_sma_portfolios, reversion_fast_slow_sma_only_performance = generate_portfolio_and_performance(reversion_fast_slow_sma_only_models)\n",
    "print(len(reversion_fast_slow_sma_portfolios), 'mean-reversion trading transaction portfolios generated.')\n",
    "print(len(reversion_fast_slow_sma_only_performance), 'profit/loss performance summaries generated.')"
   ],
   "metadata": {
    "collapsed": false,
    "pycharm": {
     "name": "#%%\n"
    }
   }
  },
  {
   "cell_type": "code",
   "execution_count": 40,
   "outputs": [
    {
     "name": "stdout",
     "output_type": "stream",
     "text": [
      "35 mean-reversion trading transaction portfolios generated.\n",
      "35 profit/loss performance summaries generated.\n"
     ]
    }
   ],
   "source": [
    "reversion_fast_ema_slow_sma_portfolios, reversion_fast_ema_slow_sma_performance = generate_portfolio_and_performance(reversion_fast_ema_slow_sma_models)\n",
    "print(len(reversion_fast_ema_slow_sma_portfolios), 'mean-reversion trading transaction portfolios generated.')\n",
    "print(len(reversion_fast_ema_slow_sma_performance), 'profit/loss performance summaries generated.')"
   ],
   "metadata": {
    "collapsed": false,
    "pycharm": {
     "name": "#%%\n"
    }
   }
  },
  {
   "cell_type": "code",
   "execution_count": 41,
   "outputs": [
    {
     "name": "stdout",
     "output_type": "stream",
     "text": [
      "35 mean-reversion trading transaction portfolios generated.\n",
      "35 profit/loss performance summaries generated.\n"
     ]
    }
   ],
   "source": [
    "reversion_fast_sma_slow_ema_portfolios, reversion_fast_sma_slow_ema_performance = generate_portfolio_and_performance(reversion_fast_sma_slow_ema_models)\n",
    "print(len(reversion_fast_sma_slow_ema_portfolios), 'mean-reversion trading transaction portfolios generated.')\n",
    "print(len(reversion_fast_sma_slow_ema_performance), 'profit/loss performance summaries generated.')"
   ],
   "metadata": {
    "collapsed": false,
    "pycharm": {
     "name": "#%%\n"
    }
   }
  },
  {
   "cell_type": "code",
   "execution_count": 42,
   "metadata": {
    "collapsed": false,
    "jupyter": {
     "outputs_hidden": false
    },
    "pycharm": {
     "name": "#%%\n"
    }
   },
   "outputs": [
    {
     "data": {
      "text/plain": "                                  model_name  return_value return_percent\n0   Momentum_EMA_001_FastEMA_010_SlowEMA_020       330.570           None\n25  Momentum_EMA_026_FastEMA_010_SlowEMA_055       324.970           None\n3   Momentum_EMA_004_FastEMA_010_SlowEMA_030       323.555           None\n1   Momentum_EMA_002_FastEMA_010_SlowEMA_025       321.965           None\n30  Momentum_EMA_031_FastEMA_010_SlowEMA_060       321.775           None",
      "text/html": "<div>\n<style scoped>\n    .dataframe tbody tr th:only-of-type {\n        vertical-align: middle;\n    }\n\n    .dataframe tbody tr th {\n        vertical-align: top;\n    }\n\n    .dataframe thead th {\n        text-align: right;\n    }\n</style>\n<table border=\"1\" class=\"dataframe\">\n  <thead>\n    <tr style=\"text-align: right;\">\n      <th></th>\n      <th>model_name</th>\n      <th>return_value</th>\n      <th>return_percent</th>\n    </tr>\n  </thead>\n  <tbody>\n    <tr>\n      <th>0</th>\n      <td>Momentum_EMA_001_FastEMA_010_SlowEMA_020</td>\n      <td>330.570</td>\n      <td>None</td>\n    </tr>\n    <tr>\n      <th>25</th>\n      <td>Momentum_EMA_026_FastEMA_010_SlowEMA_055</td>\n      <td>324.970</td>\n      <td>None</td>\n    </tr>\n    <tr>\n      <th>3</th>\n      <td>Momentum_EMA_004_FastEMA_010_SlowEMA_030</td>\n      <td>323.555</td>\n      <td>None</td>\n    </tr>\n    <tr>\n      <th>1</th>\n      <td>Momentum_EMA_002_FastEMA_010_SlowEMA_025</td>\n      <td>321.965</td>\n      <td>None</td>\n    </tr>\n    <tr>\n      <th>30</th>\n      <td>Momentum_EMA_031_FastEMA_010_SlowEMA_060</td>\n      <td>321.775</td>\n      <td>None</td>\n    </tr>\n  </tbody>\n</table>\n</div>"
     },
     "execution_count": 42,
     "metadata": {},
     "output_type": "execute_result"
    }
   ],
   "source": [
    "momentum_fast_slow_ema_only_performance.head()"
   ]
  },
  {
   "cell_type": "code",
   "execution_count": 43,
   "metadata": {
    "colab": {
     "base_uri": "https://localhost:8080/",
     "height": 544
    },
    "colab_type": "code",
    "id": "7ErV8f-6Tely",
    "outputId": "79745f23-239b-43bc-ab91-4fde0a9947cb"
   },
   "outputs": [
    {
     "data": {
      "text/plain": "                                  model_name  return_value return_percent\n0   Momentum_SMA_001_FastSMA_010_SlowSMA_020       347.590           None\n16  Momentum_SMA_017_FastSMA_015_SlowSMA_045       335.330           None\n1   Momentum_SMA_002_FastSMA_010_SlowSMA_025       332.805           None\n30  Momentum_SMA_031_FastSMA_010_SlowSMA_060       331.460           None\n2   Momentum_SMA_003_FastSMA_015_SlowSMA_025       326.870           None",
      "text/html": "<div>\n<style scoped>\n    .dataframe tbody tr th:only-of-type {\n        vertical-align: middle;\n    }\n\n    .dataframe tbody tr th {\n        vertical-align: top;\n    }\n\n    .dataframe thead th {\n        text-align: right;\n    }\n</style>\n<table border=\"1\" class=\"dataframe\">\n  <thead>\n    <tr style=\"text-align: right;\">\n      <th></th>\n      <th>model_name</th>\n      <th>return_value</th>\n      <th>return_percent</th>\n    </tr>\n  </thead>\n  <tbody>\n    <tr>\n      <th>0</th>\n      <td>Momentum_SMA_001_FastSMA_010_SlowSMA_020</td>\n      <td>347.590</td>\n      <td>None</td>\n    </tr>\n    <tr>\n      <th>16</th>\n      <td>Momentum_SMA_017_FastSMA_015_SlowSMA_045</td>\n      <td>335.330</td>\n      <td>None</td>\n    </tr>\n    <tr>\n      <th>1</th>\n      <td>Momentum_SMA_002_FastSMA_010_SlowSMA_025</td>\n      <td>332.805</td>\n      <td>None</td>\n    </tr>\n    <tr>\n      <th>30</th>\n      <td>Momentum_SMA_031_FastSMA_010_SlowSMA_060</td>\n      <td>331.460</td>\n      <td>None</td>\n    </tr>\n    <tr>\n      <th>2</th>\n      <td>Momentum_SMA_003_FastSMA_015_SlowSMA_025</td>\n      <td>326.870</td>\n      <td>None</td>\n    </tr>\n  </tbody>\n</table>\n</div>"
     },
     "execution_count": 43,
     "metadata": {},
     "output_type": "execute_result"
    }
   ],
   "source": [
    "momentum_fast_slow_sma_only_performance.head()"
   ]
  },
  {
   "cell_type": "code",
   "execution_count": 44,
   "metadata": {},
   "outputs": [
    {
     "data": {
      "text/plain": "                                   model_name  return_value return_percent\n2  Momentum_Mixed_003_FastEMA_015_SlowSMA_025        351.89           None\n1  Momentum_Mixed_002_FastEMA_010_SlowSMA_025        350.21           None\n5  Momentum_Mixed_006_FastEMA_020_SlowSMA_030        338.90           None\n4  Momentum_Mixed_005_FastEMA_015_SlowSMA_030        332.10           None\n3  Momentum_Mixed_004_FastEMA_010_SlowSMA_030        329.71           None",
      "text/html": "<div>\n<style scoped>\n    .dataframe tbody tr th:only-of-type {\n        vertical-align: middle;\n    }\n\n    .dataframe tbody tr th {\n        vertical-align: top;\n    }\n\n    .dataframe thead th {\n        text-align: right;\n    }\n</style>\n<table border=\"1\" class=\"dataframe\">\n  <thead>\n    <tr style=\"text-align: right;\">\n      <th></th>\n      <th>model_name</th>\n      <th>return_value</th>\n      <th>return_percent</th>\n    </tr>\n  </thead>\n  <tbody>\n    <tr>\n      <th>2</th>\n      <td>Momentum_Mixed_003_FastEMA_015_SlowSMA_025</td>\n      <td>351.89</td>\n      <td>None</td>\n    </tr>\n    <tr>\n      <th>1</th>\n      <td>Momentum_Mixed_002_FastEMA_010_SlowSMA_025</td>\n      <td>350.21</td>\n      <td>None</td>\n    </tr>\n    <tr>\n      <th>5</th>\n      <td>Momentum_Mixed_006_FastEMA_020_SlowSMA_030</td>\n      <td>338.90</td>\n      <td>None</td>\n    </tr>\n    <tr>\n      <th>4</th>\n      <td>Momentum_Mixed_005_FastEMA_015_SlowSMA_030</td>\n      <td>332.10</td>\n      <td>None</td>\n    </tr>\n    <tr>\n      <th>3</th>\n      <td>Momentum_Mixed_004_FastEMA_010_SlowSMA_030</td>\n      <td>329.71</td>\n      <td>None</td>\n    </tr>\n  </tbody>\n</table>\n</div>"
     },
     "execution_count": 44,
     "metadata": {},
     "output_type": "execute_result"
    }
   ],
   "source": [
    "momentum_fast_ema_slow_sma_performance.head()"
   ]
  },
  {
   "cell_type": "code",
   "execution_count": 45,
   "metadata": {},
   "outputs": [
    {
     "data": {
      "text/plain": "                                    model_name  return_value return_percent\n20  Momentum_Mixed_021_FastSMA_010_SlowEMA_050        346.80           None\n15  Momentum_Mixed_016_FastSMA_010_SlowEMA_045        340.20           None\n30  Momentum_Mixed_031_FastSMA_010_SlowEMA_060        337.90           None\n25  Momentum_Mixed_026_FastSMA_010_SlowEMA_055        336.95           None\n2   Momentum_Mixed_003_FastSMA_015_SlowEMA_025        323.31           None",
      "text/html": "<div>\n<style scoped>\n    .dataframe tbody tr th:only-of-type {\n        vertical-align: middle;\n    }\n\n    .dataframe tbody tr th {\n        vertical-align: top;\n    }\n\n    .dataframe thead th {\n        text-align: right;\n    }\n</style>\n<table border=\"1\" class=\"dataframe\">\n  <thead>\n    <tr style=\"text-align: right;\">\n      <th></th>\n      <th>model_name</th>\n      <th>return_value</th>\n      <th>return_percent</th>\n    </tr>\n  </thead>\n  <tbody>\n    <tr>\n      <th>20</th>\n      <td>Momentum_Mixed_021_FastSMA_010_SlowEMA_050</td>\n      <td>346.80</td>\n      <td>None</td>\n    </tr>\n    <tr>\n      <th>15</th>\n      <td>Momentum_Mixed_016_FastSMA_010_SlowEMA_045</td>\n      <td>340.20</td>\n      <td>None</td>\n    </tr>\n    <tr>\n      <th>30</th>\n      <td>Momentum_Mixed_031_FastSMA_010_SlowEMA_060</td>\n      <td>337.90</td>\n      <td>None</td>\n    </tr>\n    <tr>\n      <th>25</th>\n      <td>Momentum_Mixed_026_FastSMA_010_SlowEMA_055</td>\n      <td>336.95</td>\n      <td>None</td>\n    </tr>\n    <tr>\n      <th>2</th>\n      <td>Momentum_Mixed_003_FastSMA_015_SlowEMA_025</td>\n      <td>323.31</td>\n      <td>None</td>\n    </tr>\n  </tbody>\n</table>\n</div>"
     },
     "execution_count": 45,
     "metadata": {},
     "output_type": "execute_result"
    }
   ],
   "source": [
    "momentum_fast_sma_slow_ema_performance.head()"
   ]
  },
  {
   "cell_type": "code",
   "execution_count": 46,
   "outputs": [
    {
     "data": {
      "text/plain": "                                   model_name  return_value return_percent\n29  Reversion_EMA_030_FastEMA_030_SlowEMA_055        78.960           None\n34  Reversion_EMA_035_FastEMA_030_SlowEMA_060        68.895           None\n23  Reversion_EMA_024_FastEMA_025_SlowEMA_050        62.380           None\n19  Reversion_EMA_020_FastEMA_030_SlowEMA_045        60.850           None\n24  Reversion_EMA_025_FastEMA_030_SlowEMA_050        59.020           None",
      "text/html": "<div>\n<style scoped>\n    .dataframe tbody tr th:only-of-type {\n        vertical-align: middle;\n    }\n\n    .dataframe tbody tr th {\n        vertical-align: top;\n    }\n\n    .dataframe thead th {\n        text-align: right;\n    }\n</style>\n<table border=\"1\" class=\"dataframe\">\n  <thead>\n    <tr style=\"text-align: right;\">\n      <th></th>\n      <th>model_name</th>\n      <th>return_value</th>\n      <th>return_percent</th>\n    </tr>\n  </thead>\n  <tbody>\n    <tr>\n      <th>29</th>\n      <td>Reversion_EMA_030_FastEMA_030_SlowEMA_055</td>\n      <td>78.960</td>\n      <td>None</td>\n    </tr>\n    <tr>\n      <th>34</th>\n      <td>Reversion_EMA_035_FastEMA_030_SlowEMA_060</td>\n      <td>68.895</td>\n      <td>None</td>\n    </tr>\n    <tr>\n      <th>23</th>\n      <td>Reversion_EMA_024_FastEMA_025_SlowEMA_050</td>\n      <td>62.380</td>\n      <td>None</td>\n    </tr>\n    <tr>\n      <th>19</th>\n      <td>Reversion_EMA_020_FastEMA_030_SlowEMA_045</td>\n      <td>60.850</td>\n      <td>None</td>\n    </tr>\n    <tr>\n      <th>24</th>\n      <td>Reversion_EMA_025_FastEMA_030_SlowEMA_050</td>\n      <td>59.020</td>\n      <td>None</td>\n    </tr>\n  </tbody>\n</table>\n</div>"
     },
     "execution_count": 46,
     "metadata": {},
     "output_type": "execute_result"
    }
   ],
   "source": [
    "reversion_fast_slow_ema_only_performance.head()"
   ],
   "metadata": {
    "collapsed": false,
    "pycharm": {
     "name": "#%%\n"
    }
   }
  },
  {
   "cell_type": "code",
   "execution_count": 47,
   "outputs": [
    {
     "data": {
      "text/plain": "                                   model_name  return_value return_percent\n34  Reversion_SMA_035_FastSMA_030_SlowSMA_060         97.39           None\n29  Reversion_SMA_030_FastSMA_030_SlowSMA_055         69.40           None\n28  Reversion_SMA_029_FastSMA_025_SlowSMA_055         67.49           None\n33  Reversion_SMA_034_FastSMA_025_SlowSMA_060         67.00           None\n19  Reversion_SMA_020_FastSMA_030_SlowSMA_045         62.96           None",
      "text/html": "<div>\n<style scoped>\n    .dataframe tbody tr th:only-of-type {\n        vertical-align: middle;\n    }\n\n    .dataframe tbody tr th {\n        vertical-align: top;\n    }\n\n    .dataframe thead th {\n        text-align: right;\n    }\n</style>\n<table border=\"1\" class=\"dataframe\">\n  <thead>\n    <tr style=\"text-align: right;\">\n      <th></th>\n      <th>model_name</th>\n      <th>return_value</th>\n      <th>return_percent</th>\n    </tr>\n  </thead>\n  <tbody>\n    <tr>\n      <th>34</th>\n      <td>Reversion_SMA_035_FastSMA_030_SlowSMA_060</td>\n      <td>97.39</td>\n      <td>None</td>\n    </tr>\n    <tr>\n      <th>29</th>\n      <td>Reversion_SMA_030_FastSMA_030_SlowSMA_055</td>\n      <td>69.40</td>\n      <td>None</td>\n    </tr>\n    <tr>\n      <th>28</th>\n      <td>Reversion_SMA_029_FastSMA_025_SlowSMA_055</td>\n      <td>67.49</td>\n      <td>None</td>\n    </tr>\n    <tr>\n      <th>33</th>\n      <td>Reversion_SMA_034_FastSMA_025_SlowSMA_060</td>\n      <td>67.00</td>\n      <td>None</td>\n    </tr>\n    <tr>\n      <th>19</th>\n      <td>Reversion_SMA_020_FastSMA_030_SlowSMA_045</td>\n      <td>62.96</td>\n      <td>None</td>\n    </tr>\n  </tbody>\n</table>\n</div>"
     },
     "execution_count": 47,
     "metadata": {},
     "output_type": "execute_result"
    }
   ],
   "source": [
    "reversion_fast_slow_sma_only_performance.head()"
   ],
   "metadata": {
    "collapsed": false,
    "pycharm": {
     "name": "#%%\n"
    }
   }
  },
  {
   "cell_type": "code",
   "execution_count": 48,
   "outputs": [
    {
     "data": {
      "text/plain": "                                     model_name  return_value return_percent\n34  Reversion_Mixed_035_FastEMA_030_SlowSMA_060         63.86           None\n33  Reversion_Mixed_034_FastEMA_025_SlowSMA_060         61.07           None\n0   Reversion_Mixed_001_FastEMA_010_SlowSMA_020         43.42           None\n21  Reversion_Mixed_022_FastEMA_015_SlowSMA_050         42.89           None\n25  Reversion_Mixed_026_FastEMA_010_SlowSMA_055         40.79           None",
      "text/html": "<div>\n<style scoped>\n    .dataframe tbody tr th:only-of-type {\n        vertical-align: middle;\n    }\n\n    .dataframe tbody tr th {\n        vertical-align: top;\n    }\n\n    .dataframe thead th {\n        text-align: right;\n    }\n</style>\n<table border=\"1\" class=\"dataframe\">\n  <thead>\n    <tr style=\"text-align: right;\">\n      <th></th>\n      <th>model_name</th>\n      <th>return_value</th>\n      <th>return_percent</th>\n    </tr>\n  </thead>\n  <tbody>\n    <tr>\n      <th>34</th>\n      <td>Reversion_Mixed_035_FastEMA_030_SlowSMA_060</td>\n      <td>63.86</td>\n      <td>None</td>\n    </tr>\n    <tr>\n      <th>33</th>\n      <td>Reversion_Mixed_034_FastEMA_025_SlowSMA_060</td>\n      <td>61.07</td>\n      <td>None</td>\n    </tr>\n    <tr>\n      <th>0</th>\n      <td>Reversion_Mixed_001_FastEMA_010_SlowSMA_020</td>\n      <td>43.42</td>\n      <td>None</td>\n    </tr>\n    <tr>\n      <th>21</th>\n      <td>Reversion_Mixed_022_FastEMA_015_SlowSMA_050</td>\n      <td>42.89</td>\n      <td>None</td>\n    </tr>\n    <tr>\n      <th>25</th>\n      <td>Reversion_Mixed_026_FastEMA_010_SlowSMA_055</td>\n      <td>40.79</td>\n      <td>None</td>\n    </tr>\n  </tbody>\n</table>\n</div>"
     },
     "execution_count": 48,
     "metadata": {},
     "output_type": "execute_result"
    }
   ],
   "source": [
    "reversion_fast_ema_slow_sma_performance.head()"
   ],
   "metadata": {
    "collapsed": false,
    "pycharm": {
     "name": "#%%\n"
    }
   }
  },
  {
   "cell_type": "code",
   "execution_count": 49,
   "outputs": [
    {
     "data": {
      "text/plain": "                                     model_name  return_value return_percent\n13  Reversion_Mixed_014_FastSMA_025_SlowEMA_040         99.79           None\n9   Reversion_Mixed_010_FastSMA_025_SlowEMA_035         84.82           None\n14  Reversion_Mixed_015_FastSMA_030_SlowEMA_040         79.89           None\n32  Reversion_Mixed_033_FastSMA_020_SlowEMA_060         76.35           None\n27  Reversion_Mixed_028_FastSMA_020_SlowEMA_055         76.35           None",
      "text/html": "<div>\n<style scoped>\n    .dataframe tbody tr th:only-of-type {\n        vertical-align: middle;\n    }\n\n    .dataframe tbody tr th {\n        vertical-align: top;\n    }\n\n    .dataframe thead th {\n        text-align: right;\n    }\n</style>\n<table border=\"1\" class=\"dataframe\">\n  <thead>\n    <tr style=\"text-align: right;\">\n      <th></th>\n      <th>model_name</th>\n      <th>return_value</th>\n      <th>return_percent</th>\n    </tr>\n  </thead>\n  <tbody>\n    <tr>\n      <th>13</th>\n      <td>Reversion_Mixed_014_FastSMA_025_SlowEMA_040</td>\n      <td>99.79</td>\n      <td>None</td>\n    </tr>\n    <tr>\n      <th>9</th>\n      <td>Reversion_Mixed_010_FastSMA_025_SlowEMA_035</td>\n      <td>84.82</td>\n      <td>None</td>\n    </tr>\n    <tr>\n      <th>14</th>\n      <td>Reversion_Mixed_015_FastSMA_030_SlowEMA_040</td>\n      <td>79.89</td>\n      <td>None</td>\n    </tr>\n    <tr>\n      <th>32</th>\n      <td>Reversion_Mixed_033_FastSMA_020_SlowEMA_060</td>\n      <td>76.35</td>\n      <td>None</td>\n    </tr>\n    <tr>\n      <th>27</th>\n      <td>Reversion_Mixed_028_FastSMA_020_SlowEMA_055</td>\n      <td>76.35</td>\n      <td>None</td>\n    </tr>\n  </tbody>\n</table>\n</div>"
     },
     "execution_count": 49,
     "metadata": {},
     "output_type": "execute_result"
    }
   ],
   "source": [
    "reversion_fast_sma_slow_ema_performance.head()"
   ],
   "metadata": {
    "collapsed": false,
    "pycharm": {
     "name": "#%%\n"
    }
   }
  },
  {
   "cell_type": "code",
   "execution_count": 50,
   "metadata": {
    "collapsed": false,
    "jupyter": {
     "outputs_hidden": false
    },
    "pycharm": {
     "name": "#%%\n"
    }
   },
   "outputs": [],
   "source": [
    "# Display the entry/exit signals and transactions from the top model\n",
    "def display_signals_transactions(model_name, portfolio_collection, model_collection):\n",
    "    cols_to_display = ['open_price','close_price','fast_ema','slow_ema','fast_sma','slow_sma','trade_signal','signal_change','entry_exit']\n",
    "    print('The transactions from the top model %s:' % model_name)\n",
    "    print(portfolio_collection[model_name][portfolio_collection[model_name].trade_action != 0])\n",
    "    print()\n",
    "    print('The trading signal changes from the top model %s:' % model_name)\n",
    "    print(model_collection[model_name][(model_collection[model_name].signal_change != 0) | (model_collection[model_name].entry_exit != 0)][cols_to_display])"
   ]
  },
  {
   "cell_type": "code",
   "execution_count": 51,
   "metadata": {},
   "outputs": [
    {
     "name": "stdout",
     "output_type": "stream",
     "text": [
      "The transactions from the top model Momentum_Mixed_003_FastEMA_015_SlowSMA_025:\n",
      "           trade_action qty_onhand cost_basis sold_transaction gain_loss cash_onhand position_value total_position accumu_return\n",
      "date                                                                                                                            \n",
      "2019-01-24            1          1     154.11                0         0     -154.11          152.7          -1.41         -1.41\n",
      "2019-05-14           -1          0          0           186.41      32.3        32.3              0           32.3          32.3\n",
      "2019-06-13            1          1      194.7                0         0      -162.4         194.15          31.75         31.75\n",
      "2019-08-07           -1          0          0           195.41      0.71       33.01              0          33.01         33.01\n",
      "2019-08-21            1          1     212.99                0         0     -179.98         212.64          32.66         32.66\n",
      "2020-02-25           -1          0          0           300.95     87.96      120.97              0         120.97        120.97\n",
      "2020-04-13            1          1     268.31                0         0     -147.34         273.25         125.91        125.91\n",
      "\n",
      "The trading signal changes from the top model Momentum_Mixed_003_FastEMA_015_SlowSMA_025:\n",
      "            open_price  close_price    fast_ema    slow_ema    fast_sma  slow_sma  trade_signal  signal_change  entry_exit\n",
      "date                                                                                                                      \n",
      "2019-01-23      154.15       153.92  154.383794  157.239624  152.290667  154.2776           1.0            1.0         0.0\n",
      "2019-01-24      154.11       152.70  154.173312  156.889686  151.942667  153.8280           1.0            0.0         1.0\n",
      "2019-05-13      187.71       185.72  201.070112  200.168522  203.918667  202.6728           0.0           -1.0         0.0\n",
      "2019-05-14      186.41       188.66  199.518848  199.283247  202.664000  202.2152           0.0            0.0        -1.0\n",
      "2019-06-12      193.95       194.19  187.097080  187.965930  182.854667  186.3076           1.0            1.0         0.0\n",
      "2019-06-13      194.70       194.15  187.978695  188.441628  183.612667  185.9576           1.0            0.0         1.0\n",
      "2019-08-06      196.31       197.00  204.007663  203.297563  205.692000  204.6400           0.0           -1.0         0.0\n",
      "2019-08-07      195.41       199.04  203.386705  202.970058  205.404667  204.4924           0.0            0.0        -1.0\n",
      "2019-08-20      210.88       210.36  205.212494  204.329680  204.029333  205.1996           1.0            1.0         0.0\n",
      "2019-08-21      212.99       212.64  206.140932  204.968935  204.002667  205.5712           1.0            0.0         1.0\n",
      "2020-02-24      297.26       298.18  316.838817  314.982269  319.102000  318.4572           0.0           -1.0         0.0\n",
      "2020-02-25      300.95       288.08  313.243965  312.912863  317.730000  317.2312           0.0            0.0        -1.0\n",
      "2020-04-09      268.70       267.99  256.472114  260.667904  249.633333  254.9276           1.0            1.0         0.0\n",
      "2020-04-13      268.31       273.25  258.569350  261.635757  252.567333  254.2964           1.0            0.0         1.0\n",
      "\n"
     ]
    },
    {
     "data": {
      "text/plain": "<Figure size 1152x648 with 1 Axes>",
      "image/png": "[encoded data removed]"
     },
     "metadata": {},
     "output_type": "display_data"
    }
   ],
   "source": [
    "# Display the details for the top model\n",
    "return_list = [momentum_fast_slow_ema_only_performance.iloc[0]['return_value'], momentum_fast_slow_sma_only_performance.iloc[0]['return_value'], momentum_fast_ema_slow_sma_performance.iloc[0]['return_value'], momentum_fast_sma_slow_ema_performance.iloc[0]['return_value'], reversion_fast_slow_ema_only_performance.iloc[0]['return_value'], reversion_fast_slow_sma_only_performance.iloc[0]['return_value'], reversion_fast_ema_slow_sma_performance.iloc[0]['return_value'], reversion_fast_sma_slow_ema_performance.iloc[0]['return_value']]\n",
    "performance_list = [momentum_fast_slow_ema_only_performance, momentum_fast_slow_sma_only_performance, momentum_fast_ema_slow_sma_performance, momentum_fast_sma_slow_ema_performance, reversion_fast_slow_ema_only_performance, reversion_fast_slow_sma_only_performance, reversion_fast_ema_slow_sma_performance, reversion_fast_sma_slow_ema_performance]\n",
    "portfolio_list = [momentum_fast_slow_ema_only_portfolios, momentum_fast_slow_sma_portfolios, momentum_fast_ema_slow_sma_portfolios, momentum_fast_sma_slow_ema_portfolios, reversion_fast_slow_ema_only_portfolios, reversion_fast_slow_sma_portfolios, reversion_fast_ema_slow_sma_portfolios, reversion_fast_sma_slow_ema_portfolios]\n",
    "model_list = [momentum_fast_slow_ema_only_models, momentum_fast_slow_sma_only_models, momentum_fast_ema_slow_sma_models, momentum_fast_sma_slow_ema_models, reversion_fast_slow_ema_only_models, reversion_fast_slow_sma_only_models, reversion_fast_ema_slow_sma_models, reversion_fast_sma_slow_ema_models]\n",
    "fast_ma_list = ['fast_ema', 'fast_sma', 'fast_ema', 'fast_sma', 'fast_ema', 'fast_sma', 'fast_ema', 'fast_sma']\n",
    "slow_ma_list = ['slow_ema', 'slow_sma', 'slow_sma', 'slow_ema', 'slow_ema', 'slow_sma', 'slow_sma', 'slow_ema']\n",
    "top_model_return = max(return_list)\n",
    "top_model_index = return_list.index(top_model_return)\n",
    "top_model_name = performance_list[top_model_index].iloc[0]['model_name']\n",
    "display_signals_transactions(top_model_name, portfolio_list[top_model_index], model_list[top_model_index])\n",
    "print()\n",
    "draw_model_graphs(top_model_name, model_list[top_model_index][top_model_name], fast_ma_list[top_model_index], slow_ma_list[top_model_index])"
   ]
  },
  {
   "cell_type": "markdown",
   "metadata": {
    "colab_type": "text",
    "id": "xc_vWsaSTel4"
   },
   "source": [
    "## Task 5. Evaluate Performance"
   ]
  },
  {
   "cell_type": "code",
   "execution_count": 52,
   "metadata": {
    "colab": {
     "base_uri": "https://localhost:8080/",
     "height": 51
    },
    "colab_type": "code",
    "collapsed": false,
    "id": "YTyOJjYzTel7",
    "jupyter": {
     "outputs_hidden": false
    },
    "outputId": "8ab127f5-5316-4e3a-9908-75f18dd9a2b9",
    "pycharm": {
     "name": "#%%\n"
    }
   },
   "outputs": [
    {
     "name": "stdout",
     "output_type": "stream",
     "text": [
      "The best model found is: Momentum_Mixed_003_FastEMA_015_SlowSMA_025\n",
      "The best profit/loss for the investing period is: $351.89\n"
     ]
    }
   ],
   "source": [
    "print('The best model found is:', top_model_name)\n",
    "print('The best profit/loss for the investing period is: $%.2f' % top_model_return)\n",
    "if initial_capital != 0:\n",
    "    print('The best return percentage for initial capital is: %.2f%%' % (top_model_return / initial_capital * 100))"
   ]
  },
  {
   "cell_type": "code",
   "execution_count": 53,
   "metadata": {
    "colab": {
     "base_uri": "https://localhost:8080/",
     "height": 34
    },
    "colab_type": "code",
    "id": "aTP_6WyfTemB",
    "outputId": "6cda4cc2-d890-47d5-9a63-43cffd21d72f"
   },
   "outputs": [
    {
     "name": "stdout",
     "output_type": "stream",
     "text": [
      "The performance of the long-only model from day one is: $344.34\n"
     ]
    }
   ],
   "source": [
    "# Calculate the stock's performance for a long-only model\n",
    "model_template = model_template[model_start_date:model_end_date]\n",
    "print('The performance of the long-only model from day one is: $%.2f' %(model_template.iloc[-1]['close_price'] - model_template.iloc[0]['open_price']))"
   ]
  },
  {
   "cell_type": "code",
   "execution_count": 54,
   "metadata": {
    "colab": {
     "base_uri": "https://localhost:8080/",
     "height": 34
    },
    "colab_type": "code",
    "collapsed": false,
    "id": "be1J2gmiTemG",
    "jupyter": {
     "outputs_hidden": false
    },
    "outputId": "28010a58-a8c1-43ae-d6ff-200fc13eb876",
    "pycharm": {
     "name": "#%%\n"
    }
   },
   "outputs": [
    {
     "name": "stdout",
     "output_type": "stream",
     "text": [
      "Total time for the script: 0:02:54.148325\n"
     ]
    }
   ],
   "source": [
    "print ('Total time for the script:',(datetime.now() - startTimeScript))"
   ]
  }
 ],
 "metadata": {
  "colab": {
   "collapsed_sections": [],
   "name": "py_algotrading_ema_crossover_grid_search.ipynb",
   "provenance": []
  },
  "kernelspec": {
   "display_name": "Python 3",
   "language": "python",
   "name": "python3"
  },
  "language_info": {
   "codemirror_mode": {
    "name": "ipython",
    "version": 3
   },
   "file_extension": ".py",
   "mimetype": "text/x-python",
   "name": "python",
   "nbconvert_exporter": "python",
   "pygments_lexer": "ipython3",
   "version": "3.7.6"
  }
 },
 "nbformat": 4,
 "nbformat_minor": 4
}