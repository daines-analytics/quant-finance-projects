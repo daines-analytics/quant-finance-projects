{
 "cells": [
  {
   "cell_type": "markdown",
   "metadata": {
    "colab_type": "text",
    "id": "nn0Ld1RjTekC"
   },
   "source": [
    "# Algorithmic Trading Model for Combo Moving Average Crossover Grid Search\n",
    "### July 28, 2020\n"
   ]
  },
  {
   "cell_type": "markdown",
   "metadata": {
    "colab_type": "text",
    "id": "-DieEv9pTekE"
   },
   "source": [
    "## Task 1. Prepare Environment"
   ]
  },
  {
   "cell_type": "code",
   "execution_count": 1,
   "metadata": {
    "colab": {},
    "colab_type": "code",
    "collapsed": false,
    "id": "8IwyGxxuTekE",
    "jupyter": {
     "outputs_hidden": false
    },
    "pycharm": {
     "name": "#%%\n"
    }
   },
   "outputs": [],
   "source": [
    "import os\n",
    "import sys\n",
    "import numpy as np\n",
    "import pandas as pd\n",
    "import requests\n",
    "import json\n",
    "import matplotlib.pyplot as plt\n",
    "from datetime import datetime, timedelta\n",
    "from dotenv import load_dotenv"
   ]
  },
  {
   "cell_type": "code",
   "execution_count": 2,
   "metadata": {
    "colab": {
     "base_uri": "https://localhost:8080/",
     "height": 51
    },
    "colab_type": "code",
    "collapsed": false,
    "id": "Zagik25QTekS",
    "jupyter": {
     "outputs_hidden": false
    },
    "outputId": "d14332ba-63ec-4224-ca13-c4ecdab3541a",
    "pycharm": {
     "name": "#%%\n"
    }
   },
   "outputs": [
    {
     "name": "stdout",
     "output_type": "stream",
     "text": [
      "Starting date for the model: 2019-01-01 00:00:00\n",
      "Ending date for the model: 2020-07-29 01:48:13.216157\n"
     ]
    }
   ],
   "source": [
    "stock_symbol = 'DPZ'\n",
    "initial_capital = 0\n",
    "\n",
    "# Specify the moving average parameters for the trading strategy\n",
    "fast_ema_min = 5\n",
    "fast_ema_max = 20\n",
    "slow_ema_min = 10\n",
    "slow_ema_max = 50\n",
    "fast_sma_min = 5\n",
    "fast_sma_max = 20\n",
    "slow_sma_min = 10\n",
    "slow_sma_max = 50\n",
    "ma_increment = 5\n",
    "min_ma_gap = 5\n",
    "\n",
    "# The number of extra days of data we need (usually equals to the larger of slow_ema or slow_sma)\n",
    "extra_days_data = 50\n",
    "\n",
    "model_start_date = datetime(2019, 1, 1)\n",
    "print(\"Starting date for the model:\", model_start_date)\n",
    "stock_start_date = model_start_date - timedelta(days=int(extra_days_data*1.5)) # Need more pricing data to calculate moving averages\n",
    "\n",
    "model_end_date = datetime.now()\n",
    "# model_end_date = datetime(2020, 6, 30)\n",
    "print(\"Ending date for the model:\", model_end_date)"
   ]
  },
  {
   "cell_type": "code",
   "execution_count": 3,
   "metadata": {
    "colab": {
     "base_uri": "https://localhost:8080/",
     "height": 34
    },
    "colab_type": "code",
    "collapsed": false,
    "id": "aTI50KL9TekN",
    "jupyter": {
     "outputs_hidden": false
    },
    "outputId": "68f4a687-6e33-48e5-ef46-c23d7994bc3e",
    "pycharm": {
     "name": "#%%\n"
    }
   },
   "outputs": [],
   "source": [
    "# Begin the timer for the script processing\n",
    "startTimeScript = datetime.now()\n",
    "\n",
    "# Set up the verbose flag to print detailed messages for debugging (setting True will activate!)\n",
    "verbose_models = False\n",
    "verbose_graphs = False\n",
    "verbose_portfolios = False\n",
    "\n",
    "# Set up the sendNotification flag to send progress emails (setting True will send emails!)\n",
    "notifyStatus = False\n",
    "\n",
    "# Set up the parent directory location for loading the dotenv files\n",
    "useColab = False\n",
    "if useColab:\n",
    "    # Mount Google Drive locally for storing files\n",
    "    from google.colab import drive\n",
    "    drive.mount('/content/gdrive')\n",
    "    gdrivePrefix = '/content/gdrive/My Drive/Colab_Downloads/'\n",
    "    env_path = '/content/gdrive/My Drive/Colab Notebooks/'\n",
    "    dotenv_path = env_path + \"python_script.env\"\n",
    "    load_dotenv(dotenv_path=dotenv_path)\n",
    "\n",
    "# Set up the dotenv file for retrieving environment variables\n",
    "useLocalPC = True\n",
    "if useLocalPC:\n",
    "    env_path = \"/Users/david/PycharmProjects/\"\n",
    "    dotenv_path = env_path + \"python_script.env\"\n",
    "    load_dotenv(dotenv_path=dotenv_path)\n",
    "\n",
    "# Configure the plotting style\n",
    "plt.style.use('seaborn')\n",
    "\n",
    "# Set Pandas options\n",
    "pd.set_option(\"display.max_rows\", None)\n",
    "pd.set_option(\"display.max_columns\", None)\n",
    "pd.set_option(\"display.width\", 140)"
   ]
  },
  {
   "cell_type": "markdown",
   "metadata": {
    "colab_type": "text",
    "id": "Xa51FMY_TekZ"
   },
   "source": [
    "## Task 2. Acquire and Pre-Process Data"
   ]
  },
  {
   "cell_type": "code",
   "execution_count": 4,
   "metadata": {
    "colab": {},
    "colab_type": "code",
    "collapsed": false,
    "id": "Og9L0byuTekd",
    "jupyter": {
     "outputs_hidden": false
    },
    "pycharm": {
     "name": "#%%\n"
    }
   },
   "outputs": [],
   "source": [
    "# Check and see whether the API key is available\n",
    "quandl_key = os.environ.get('QUANDL_API')\n",
    "if quandl_key is None: sys.exit(\"API key for Quandl not available. Script Processing Aborted!!!\")"
   ]
  },
  {
   "cell_type": "code",
   "execution_count": 5,
   "metadata": {
    "colab": {},
    "colab_type": "code",
    "collapsed": false,
    "id": "Vx4DZ7UbTekg",
    "jupyter": {
     "outputs_hidden": false
    },
    "pycharm": {
     "name": "#%%\n"
    }
   },
   "outputs": [],
   "source": [
    "start_date_string = stock_start_date.strftime('%Y-%m-%d')\n",
    "end_date_string = model_end_date.strftime('%Y-%m-%d')\n",
    "\n",
    "quandl_url = \"https://www.quandl.com/api/v3/datatables/SHARADAR/SEP.json?date.gte=%s&date.lte=%s&ticker=%s&api_key=%s\" % (start_date_string, end_date_string, stock_symbol, quandl_key)"
   ]
  },
  {
   "cell_type": "code",
   "execution_count": 6,
   "metadata": {
    "colab": {
     "base_uri": "https://localhost:8080/",
     "height": 34
    },
    "colab_type": "code",
    "collapsed": false,
    "id": "zdbEhMn8Tekj",
    "jupyter": {
     "outputs_hidden": false
    },
    "outputId": "c52a8b39-0a15-4b5a-c2d7-4359b519573d",
    "pycharm": {
     "name": "#%%\n"
    }
   },
   "outputs": [
    {
     "name": "stdout",
     "output_type": "stream",
     "text": [
      "446 data points retrieved from the API call.\n"
     ]
    }
   ],
   "source": [
    "response = requests.get(quandl_url)\n",
    "quandl_dict = json.loads(response.text)\n",
    "stock_quandl = pd.DataFrame(quandl_dict['datatable']['data'])\n",
    "print(len(stock_quandl), 'data points retrieved from the API call.')"
   ]
  },
  {
   "cell_type": "code",
   "execution_count": 7,
   "metadata": {
    "colab": {
     "base_uri": "https://localhost:8080/",
     "height": 306
    },
    "colab_type": "code",
    "collapsed": false,
    "id": "5ybXsZl1Tekl",
    "jupyter": {
     "outputs_hidden": false
    },
    "outputId": "2ecb3706-3631-40df-d26e-cb13ffec5fa4",
    "pycharm": {
     "name": "#%%\n"
    }
   },
   "outputs": [
    {
     "name": "stdout",
     "output_type": "stream",
     "text": [
      "<class 'pandas.core.frame.DataFrame'>\n",
      "DatetimeIndex: 446 entries, 2018-10-18 to 2020-07-28\n",
      "Data columns (total 10 columns):\n",
      " #   Column       Non-Null Count  Dtype  \n",
      "---  ------       --------------  -----  \n",
      " 0   ticker       446 non-null    object \n",
      " 1   date         446 non-null    object \n",
      " 2   open         446 non-null    float64\n",
      " 3   high         446 non-null    float64\n",
      " 4   low          446 non-null    float64\n",
      " 5   close        446 non-null    float64\n",
      " 6   volume       446 non-null    float64\n",
      " 7   dividend     446 non-null    float64\n",
      " 8   closeunadj   446 non-null    float64\n",
      " 9   lastupdated  446 non-null    object \n",
      "dtypes: float64(7), object(3)\n",
      "memory usage: 38.3+ KB\n"
     ]
    }
   ],
   "source": [
    "stock_quandl.columns = ['ticker', 'date', 'open', 'high', 'low', 'close', 'volume', 'dividend', 'closeunadj', 'lastupdated']\n",
    "# stock_quandl.set_index('date', inplace=True)\n",
    "stock_quandl.index = pd.to_datetime(stock_quandl.date)\n",
    "stock_quandl = stock_quandl.sort_index(ascending=True)\n",
    "stock_quandl.info()"
   ]
  },
  {
   "cell_type": "code",
   "execution_count": 8,
   "metadata": {
    "colab": {
     "base_uri": "https://localhost:8080/",
     "height": 235
    },
    "colab_type": "code",
    "collapsed": false,
    "id": "GzN1_13bTeko",
    "jupyter": {
     "outputs_hidden": false
    },
    "outputId": "c113bf72-655c-46a1-ee6d-36b236404897",
    "pycharm": {
     "name": "#%%\n"
    }
   },
   "outputs": [
    {
     "data": {
      "text/html": [
       "<div>\n",
       "<style scoped>\n",
       "    .dataframe tbody tr th:only-of-type {\n",
       "        vertical-align: middle;\n",
       "    }\n",
       "\n",
       "    .dataframe tbody tr th {\n",
       "        vertical-align: top;\n",
       "    }\n",
       "\n",
       "    .dataframe thead th {\n",
       "        text-align: right;\n",
       "    }\n",
       "</style>\n",
       "<table border=\"1\" class=\"dataframe\">\n",
       "  <thead>\n",
       "    <tr style=\"text-align: right;\">\n",
       "      <th></th>\n",
       "      <th>ticker</th>\n",
       "      <th>date</th>\n",
       "      <th>open</th>\n",
       "      <th>high</th>\n",
       "      <th>low</th>\n",
       "      <th>close</th>\n",
       "      <th>volume</th>\n",
       "      <th>dividend</th>\n",
       "      <th>closeunadj</th>\n",
       "      <th>lastupdated</th>\n",
       "    </tr>\n",
       "    <tr>\n",
       "      <th>date</th>\n",
       "      <th></th>\n",
       "      <th></th>\n",
       "      <th></th>\n",
       "      <th></th>\n",
       "      <th></th>\n",
       "      <th></th>\n",
       "      <th></th>\n",
       "      <th></th>\n",
       "      <th></th>\n",
       "      <th></th>\n",
       "    </tr>\n",
       "  </thead>\n",
       "  <tbody>\n",
       "    <tr>\n",
       "      <th>2018-10-18</th>\n",
       "      <td>DPZ</td>\n",
       "      <td>2018-10-18</td>\n",
       "      <td>266.24</td>\n",
       "      <td>268.679</td>\n",
       "      <td>260.25</td>\n",
       "      <td>266.38</td>\n",
       "      <td>823399.0</td>\n",
       "      <td>0.0</td>\n",
       "      <td>266.38</td>\n",
       "      <td>2020-05-01</td>\n",
       "    </tr>\n",
       "    <tr>\n",
       "      <th>2018-10-19</th>\n",
       "      <td>DPZ</td>\n",
       "      <td>2018-10-19</td>\n",
       "      <td>265.93</td>\n",
       "      <td>270.975</td>\n",
       "      <td>262.79</td>\n",
       "      <td>267.75</td>\n",
       "      <td>798312.0</td>\n",
       "      <td>0.0</td>\n",
       "      <td>267.75</td>\n",
       "      <td>2020-05-01</td>\n",
       "    </tr>\n",
       "    <tr>\n",
       "      <th>2018-10-22</th>\n",
       "      <td>DPZ</td>\n",
       "      <td>2018-10-22</td>\n",
       "      <td>268.19</td>\n",
       "      <td>272.000</td>\n",
       "      <td>267.33</td>\n",
       "      <td>267.75</td>\n",
       "      <td>943269.0</td>\n",
       "      <td>0.0</td>\n",
       "      <td>267.75</td>\n",
       "      <td>2020-05-01</td>\n",
       "    </tr>\n",
       "    <tr>\n",
       "      <th>2018-10-23</th>\n",
       "      <td>DPZ</td>\n",
       "      <td>2018-10-23</td>\n",
       "      <td>265.00</td>\n",
       "      <td>266.500</td>\n",
       "      <td>262.03</td>\n",
       "      <td>265.82</td>\n",
       "      <td>592830.0</td>\n",
       "      <td>0.0</td>\n",
       "      <td>265.82</td>\n",
       "      <td>2020-05-01</td>\n",
       "    </tr>\n",
       "    <tr>\n",
       "      <th>2018-10-24</th>\n",
       "      <td>DPZ</td>\n",
       "      <td>2018-10-24</td>\n",
       "      <td>265.69</td>\n",
       "      <td>265.810</td>\n",
       "      <td>254.90</td>\n",
       "      <td>255.49</td>\n",
       "      <td>552940.0</td>\n",
       "      <td>0.0</td>\n",
       "      <td>255.49</td>\n",
       "      <td>2020-05-01</td>\n",
       "    </tr>\n",
       "  </tbody>\n",
       "</table>\n",
       "</div>"
      ],
      "text/plain": [
       "           ticker        date    open     high     low   close    volume  dividend  closeunadj lastupdated\n",
       "date                                                                                                      \n",
       "2018-10-18    DPZ  2018-10-18  266.24  268.679  260.25  266.38  823399.0       0.0      266.38  2020-05-01\n",
       "2018-10-19    DPZ  2018-10-19  265.93  270.975  262.79  267.75  798312.0       0.0      267.75  2020-05-01\n",
       "2018-10-22    DPZ  2018-10-22  268.19  272.000  267.33  267.75  943269.0       0.0      267.75  2020-05-01\n",
       "2018-10-23    DPZ  2018-10-23  265.00  266.500  262.03  265.82  592830.0       0.0      265.82  2020-05-01\n",
       "2018-10-24    DPZ  2018-10-24  265.69  265.810  254.90  255.49  552940.0       0.0      255.49  2020-05-01"
      ]
     },
     "execution_count": 8,
     "metadata": {},
     "output_type": "execute_result"
    }
   ],
   "source": [
    "stock_quandl.head()"
   ]
  },
  {
   "cell_type": "code",
   "execution_count": 9,
   "metadata": {
    "colab": {
     "base_uri": "https://localhost:8080/",
     "height": 235
    },
    "colab_type": "code",
    "collapsed": false,
    "id": "T7jmDLccTeks",
    "jupyter": {
     "outputs_hidden": false
    },
    "outputId": "4c47d9b0-b8d7-4a64-c05b-300169b85925",
    "pycharm": {
     "name": "#%%\n"
    }
   },
   "outputs": [
    {
     "data": {
      "text/html": [
       "<div>\n",
       "<style scoped>\n",
       "    .dataframe tbody tr th:only-of-type {\n",
       "        vertical-align: middle;\n",
       "    }\n",
       "\n",
       "    .dataframe tbody tr th {\n",
       "        vertical-align: top;\n",
       "    }\n",
       "\n",
       "    .dataframe thead th {\n",
       "        text-align: right;\n",
       "    }\n",
       "</style>\n",
       "<table border=\"1\" class=\"dataframe\">\n",
       "  <thead>\n",
       "    <tr style=\"text-align: right;\">\n",
       "      <th></th>\n",
       "      <th>ticker</th>\n",
       "      <th>date</th>\n",
       "      <th>open</th>\n",
       "      <th>high</th>\n",
       "      <th>low</th>\n",
       "      <th>close</th>\n",
       "      <th>volume</th>\n",
       "      <th>dividend</th>\n",
       "      <th>closeunadj</th>\n",
       "      <th>lastupdated</th>\n",
       "    </tr>\n",
       "    <tr>\n",
       "      <th>date</th>\n",
       "      <th></th>\n",
       "      <th></th>\n",
       "      <th></th>\n",
       "      <th></th>\n",
       "      <th></th>\n",
       "      <th></th>\n",
       "      <th></th>\n",
       "      <th></th>\n",
       "      <th></th>\n",
       "      <th></th>\n",
       "    </tr>\n",
       "  </thead>\n",
       "  <tbody>\n",
       "    <tr>\n",
       "      <th>2020-07-22</th>\n",
       "      <td>DPZ</td>\n",
       "      <td>2020-07-22</td>\n",
       "      <td>388.47</td>\n",
       "      <td>395.22</td>\n",
       "      <td>387.405</td>\n",
       "      <td>389.12</td>\n",
       "      <td>568027.0</td>\n",
       "      <td>0.0</td>\n",
       "      <td>389.12</td>\n",
       "      <td>2020-07-22</td>\n",
       "    </tr>\n",
       "    <tr>\n",
       "      <th>2020-07-23</th>\n",
       "      <td>DPZ</td>\n",
       "      <td>2020-07-23</td>\n",
       "      <td>389.99</td>\n",
       "      <td>390.60</td>\n",
       "      <td>377.895</td>\n",
       "      <td>381.32</td>\n",
       "      <td>617607.0</td>\n",
       "      <td>0.0</td>\n",
       "      <td>381.32</td>\n",
       "      <td>2020-07-23</td>\n",
       "    </tr>\n",
       "    <tr>\n",
       "      <th>2020-07-24</th>\n",
       "      <td>DPZ</td>\n",
       "      <td>2020-07-24</td>\n",
       "      <td>379.48</td>\n",
       "      <td>387.23</td>\n",
       "      <td>376.576</td>\n",
       "      <td>386.91</td>\n",
       "      <td>548286.0</td>\n",
       "      <td>0.0</td>\n",
       "      <td>386.91</td>\n",
       "      <td>2020-07-24</td>\n",
       "    </tr>\n",
       "    <tr>\n",
       "      <th>2020-07-27</th>\n",
       "      <td>DPZ</td>\n",
       "      <td>2020-07-27</td>\n",
       "      <td>390.62</td>\n",
       "      <td>394.89</td>\n",
       "      <td>387.110</td>\n",
       "      <td>389.61</td>\n",
       "      <td>549829.0</td>\n",
       "      <td>0.0</td>\n",
       "      <td>389.61</td>\n",
       "      <td>2020-07-27</td>\n",
       "    </tr>\n",
       "    <tr>\n",
       "      <th>2020-07-28</th>\n",
       "      <td>DPZ</td>\n",
       "      <td>2020-07-28</td>\n",
       "      <td>389.54</td>\n",
       "      <td>390.83</td>\n",
       "      <td>384.765</td>\n",
       "      <td>385.42</td>\n",
       "      <td>476762.0</td>\n",
       "      <td>0.0</td>\n",
       "      <td>385.42</td>\n",
       "      <td>2020-07-28</td>\n",
       "    </tr>\n",
       "  </tbody>\n",
       "</table>\n",
       "</div>"
      ],
      "text/plain": [
       "           ticker        date    open    high      low   close    volume  dividend  closeunadj lastupdated\n",
       "date                                                                                                      \n",
       "2020-07-22    DPZ  2020-07-22  388.47  395.22  387.405  389.12  568027.0       0.0      389.12  2020-07-22\n",
       "2020-07-23    DPZ  2020-07-23  389.99  390.60  377.895  381.32  617607.0       0.0      381.32  2020-07-23\n",
       "2020-07-24    DPZ  2020-07-24  379.48  387.23  376.576  386.91  548286.0       0.0      386.91  2020-07-24\n",
       "2020-07-27    DPZ  2020-07-27  390.62  394.89  387.110  389.61  549829.0       0.0      389.61  2020-07-27\n",
       "2020-07-28    DPZ  2020-07-28  389.54  390.83  384.765  385.42  476762.0       0.0      385.42  2020-07-28"
      ]
     },
     "execution_count": 9,
     "metadata": {},
     "output_type": "execute_result"
    }
   ],
   "source": [
    "stock_quandl.tail()"
   ]
  },
  {
   "cell_type": "code",
   "execution_count": 10,
   "metadata": {
    "colab": {
     "base_uri": "https://localhost:8080/",
     "height": 535
    },
    "colab_type": "code",
    "collapsed": false,
    "id": "Tfuu40coTekv",
    "jupyter": {
     "outputs_hidden": false
    },
    "outputId": "2357753d-6c83-46ad-e8cc-8593497d20ff",
    "pycharm": {
     "name": "#%%\n"
    }
   },
   "outputs": [
    {
     "data": {
      "image/png": "[encoded data removed]",
      "text/plain": [
       "<Figure size 1152x648 with 1 Axes>"
      ]
     },
     "metadata": {},
     "output_type": "display_data"
    }
   ],
   "source": [
    "quandl_title = 'Quandl Historical Stock Information for ' + stock_symbol\n",
    "stock_quandl['close'].plot(figsize=(16,9), title=quandl_title)\n",
    "plt.show()"
   ]
  },
  {
   "cell_type": "markdown",
   "metadata": {
    "colab_type": "text",
    "id": "UKNJYDlGTek0"
   },
   "source": [
    "## Task 3. Develop Strategy and Train Model"
   ]
  },
  {
   "cell_type": "markdown",
   "metadata": {
    "colab_type": "text",
    "id": "zUtaaGbgTek3"
   },
   "source": [
    "### 3.a) Set up the Dataframe for the Trading Model"
   ]
  },
  {
   "cell_type": "code",
   "execution_count": 11,
   "metadata": {
    "colab": {
     "base_uri": "https://localhost:8080/",
     "height": 170
    },
    "colab_type": "code",
    "collapsed": false,
    "id": "dGpN7bg-Tek3",
    "jupyter": {
     "outputs_hidden": false
    },
    "outputId": "60f23809-9c25-44bd-dcbc-82c93777493d",
    "pycharm": {
     "name": "#%%\n"
    }
   },
   "outputs": [
    {
     "name": "stdout",
     "output_type": "stream",
     "text": [
      "<class 'pandas.core.frame.DataFrame'>\n",
      "DatetimeIndex: 446 entries, 2018-10-18 to 2020-07-28\n",
      "Data columns (total 2 columns):\n",
      " #   Column       Non-Null Count  Dtype  \n",
      "---  ------       --------------  -----  \n",
      " 0   open_price   446 non-null    float64\n",
      " 1   close_price  446 non-null    float64\n",
      "dtypes: float64(2)\n",
      "memory usage: 10.5 KB\n"
     ]
    }
   ],
   "source": [
    "# Set up the standard column name for modeling\n",
    "model_template = stock_quandl.loc[:, ['open','close']]\n",
    "model_template.rename(columns={'open': 'open_price', 'close': 'close_price'}, inplace=True)\n",
    "model_template.info()"
   ]
  },
  {
   "cell_type": "markdown",
   "metadata": {
    "colab_type": "text",
    "id": "v-3ecix6Tek_"
   },
   "source": [
    "### 3.b) Set up the Analysis Table with Indicators"
   ]
  },
  {
   "cell_type": "code",
   "execution_count": 12,
   "metadata": {
    "colab": {},
    "colab_type": "code",
    "collapsed": false,
    "id": "yfQTRXPnTelA",
    "jupyter": {
     "outputs_hidden": false
    },
    "pycharm": {
     "name": "#%%\n"
    }
   },
   "outputs": [],
   "source": [
    "# Define the functions that will generate the trading signals based on the different MA curves used\n",
    "\n",
    "def ema_only_crossover(model):\n",
    "    wait_for_entry = True\n",
    "    for x in range(len(model)):\n",
    "        if model['ema_change'].iloc[x] > 0:\n",
    "            model['trade_signal'].iloc[x] = 1  # trade_signal = 1 means we should enter into a long position\n",
    "        else:\n",
    "            model['trade_signal'].iloc[x] = 0  # trade_signal = 0 means we should exit the long position\n",
    "        if x != 0:\n",
    "            model['signal_change'].iloc[x] = model['trade_signal'].iloc[x] - model['trade_signal'].iloc[x-1]\n",
    "            if wait_for_entry and (model['signal_change'].iloc[x-1] == 1):\n",
    "                model['entry_exit'].iloc[x] = model['signal_change'].iloc[x-1]\n",
    "                wait_for_entry = False\n",
    "            elif (not wait_for_entry) and (model['signal_change'].iloc[x-1] != 0):\n",
    "                model['entry_exit'].iloc[x] = model['signal_change'].iloc[x-1]\n",
    "\n",
    "def sma_only_crossover(model):\n",
    "    wait_for_entry = True\n",
    "    for x in range(len(model)):\n",
    "        if model['sma_change'].iloc[x] > 0:\n",
    "            model['trade_signal'].iloc[x] = 1  # trade_signal = 1 means we should enter into a long position\n",
    "        else:\n",
    "            model['trade_signal'].iloc[x] = 0  # trade_signal = 0 means we should exit the long position\n",
    "        if x != 0:\n",
    "            model['signal_change'].iloc[x] = model['trade_signal'].iloc[x] - model['trade_signal'].iloc[x-1]\n",
    "            if wait_for_entry and (model['signal_change'].iloc[x-1] == 1):\n",
    "                model['entry_exit'].iloc[x] = model['signal_change'].iloc[x-1]\n",
    "                wait_for_entry = False\n",
    "            elif (not wait_for_entry) and (model['signal_change'].iloc[x-1] != 0):\n",
    "                model['entry_exit'].iloc[x] = model['signal_change'].iloc[x-1]"
   ]
  },
  {
   "cell_type": "code",
   "execution_count": 13,
   "metadata": {
    "colab": {
     "base_uri": "https://localhost:8080/",
     "height": 1000
    },
    "colab_type": "code",
    "collapsed": false,
    "id": "8M4khYD7TelG",
    "jupyter": {
     "outputs_hidden": false
    },
    "outputId": "05f4cf43-5ebd-4654-9806-00894118795f",
    "pycharm": {
     "name": "#%%\n"
    }
   },
   "outputs": [
    {
     "name": "stdout",
     "output_type": "stream",
     "text": [
      "30 EMA only models generated!\n",
      "\n",
      "30 SMA only models generated!\n"
     ]
    }
   ],
   "source": [
    "# Processing models using only the EMA curves\n",
    "ema_model_collection = {}\n",
    "serial_number = 1\n",
    "for slow_ma in range(slow_ema_min, slow_ema_max+1, ma_increment):\n",
    "    for fast_ma in range(fast_ema_min, fast_ema_max+1, ma_increment):\n",
    "        if (slow_ma - fast_ma) < min_ma_gap: break\n",
    "        if verbose_models: print('Processing EMA model with slow_ema of', slow_ma, 'and fast_ema of', fast_ma)\n",
    "        model_tag = 'EMA_' + str(serial_number).zfill(3) + '_SlowEMA_' + str(slow_ma).zfill(3) + '_FastEMA_' + str(fast_ma).zfill(3)\n",
    "        serial_number = serial_number + 1\n",
    "        trading_model = model_template.copy()\n",
    "        trading_model['fast_ema'] = trading_model['close_price'].ewm(span=fast_ma).mean()\n",
    "        trading_model['slow_ema'] = trading_model['close_price'].ewm(span=slow_ma).mean()\n",
    "        trading_model['ema_change'] = trading_model['fast_ema'] - trading_model['slow_ema']\n",
    "        trading_model['fast_sma'] = trading_model['close_price'].rolling(fast_ma).mean()\n",
    "        trading_model['slow_sma'] = trading_model['close_price'].rolling(slow_ma).mean()\n",
    "        trading_model['sma_change'] = trading_model['fast_sma'] - trading_model['slow_sma']\n",
    "        trading_model['fastema_slowsma_chg'] = trading_model['fast_ema'] - trading_model['slow_sma']\n",
    "        trading_model['fastsma_slowema_chg'] = trading_model['fast_sma'] - trading_model['slow_ema']\n",
    "        trading_model['trade_signal'] = np.zeros(len(trading_model))\n",
    "        trading_model['signal_change'] = np.zeros(len(trading_model))\n",
    "        trading_model['entry_exit'] = np.zeros(len(trading_model))\n",
    "        trading_model = trading_model[model_start_date:model_end_date]\n",
    "        ema_only_crossover(trading_model)\n",
    "        ema_model_collection[model_tag] = trading_model.copy()\n",
    "        if verbose_models: print('Model', model_tag, 'added to the trading model collection.')\n",
    "print(serial_number-1, 'EMA only models generated!')\n",
    "\n",
    "# Processing models using only the SMA curves\n",
    "print()\n",
    "sma_model_collection = {}\n",
    "serial_number = 1\n",
    "for slow_ma in range(slow_sma_min, slow_sma_max+1, ma_increment):\n",
    "    for fast_ma in range(fast_sma_min, fast_sma_max+1, ma_increment):\n",
    "        if (slow_ma - fast_ma) < min_ma_gap: break\n",
    "        if verbose_models: print('Processing EMA model with slow_ema of', slow_ma, 'and fast_ema of', fast_ma)\n",
    "        model_tag = 'SMA_' + str(serial_number).zfill(3) + '_SlowSMA_' + str(slow_ma).zfill(3) + '_FastSMA_' + str(fast_ma).zfill(3)\n",
    "        serial_number = serial_number + 1\n",
    "        trading_model = model_template.copy()\n",
    "        trading_model['fast_ema'] = trading_model['close_price'].ewm(span=fast_ma).mean()\n",
    "        trading_model['slow_ema'] = trading_model['close_price'].ewm(span=slow_ma).mean()\n",
    "        trading_model['ema_change'] = trading_model['fast_ema'] - trading_model['slow_ema']\n",
    "        trading_model['fast_sma'] = trading_model['close_price'].rolling(fast_ma).mean()\n",
    "        trading_model['slow_sma'] = trading_model['close_price'].rolling(slow_ma).mean()\n",
    "        trading_model['sma_change'] = trading_model['fast_sma'] - trading_model['slow_sma']\n",
    "        trading_model['fastema_slowsma_chg'] = trading_model['fast_ema'] - trading_model['slow_sma']\n",
    "        trading_model['fastsma_slowema_chg'] = trading_model['fast_sma'] - trading_model['slow_ema']\n",
    "        trading_model['trade_signal'] = np.zeros(len(trading_model))\n",
    "        trading_model['signal_change'] = np.zeros(len(trading_model))\n",
    "        trading_model['entry_exit'] = np.zeros(len(trading_model))\n",
    "        trading_model = trading_model[model_start_date:model_end_date]\n",
    "        sma_only_crossover(trading_model)\n",
    "        sma_model_collection[model_tag] = trading_model.copy()\n",
    "        if verbose_models: print('Model', model_tag, 'added to the trading model collection.')\n",
    "print(serial_number-1, 'SMA only models generated!')"
   ]
  },
  {
   "cell_type": "code",
   "execution_count": 14,
   "metadata": {
    "colab": {
     "base_uri": "https://localhost:8080/",
     "height": 1000
    },
    "colab_type": "code",
    "collapsed": false,
    "id": "327CZKmtTelL",
    "jupyter": {
     "outputs_hidden": false
    },
    "outputId": "b353b49d-0281-4aa7-a530-6747c166eae5",
    "pycharm": {
     "name": "#%%\n"
    }
   },
   "outputs": [],
   "source": [
    "# List the entry/exit points for each model\n",
    "def list_model_entry_exit(model_collection):\n",
    "    for model_name in model_collection:\n",
    "        print('List the signal change and entry/exit points for', model_name)\n",
    "        print(model_collection[model_name][(model_collection[model_name].signal_change != 0) | (model_collection[model_name].entry_exit != 0)])\n",
    "        print()"
   ]
  },
  {
   "cell_type": "code",
   "execution_count": 15,
   "metadata": {
    "collapsed": false,
    "jupyter": {
     "outputs_hidden": false
    },
    "pycharm": {
     "name": "#%%\n"
    }
   },
   "outputs": [],
   "source": [
    "if verbose_models: list_model_entry_exit(ema_model_collection)"
   ]
  },
  {
   "cell_type": "code",
   "execution_count": 16,
   "metadata": {
    "collapsed": false,
    "jupyter": {
     "outputs_hidden": false
    },
    "pycharm": {
     "name": "#%%\n"
    }
   },
   "outputs": [],
   "source": [
    "if verbose_models: list_model_entry_exit(sma_model_collection)"
   ]
  },
  {
   "cell_type": "code",
   "execution_count": 17,
   "metadata": {
    "colab": {
     "base_uri": "https://localhost:8080/",
     "height": 1000
    },
    "colab_type": "code",
    "collapsed": false,
    "id": "XEyJXVxcTelS",
    "jupyter": {
     "outputs_hidden": false
    },
    "outputId": "c74ac3e9-fbd3-4e73-8294-f12d0cce88dc",
    "pycharm": {
     "name": "#%%\n"
    }
   },
   "outputs": [],
   "source": [
    "def draw_model_graphs(model_name, trade_model, fast_ma_curve='fast_ema', slow_ma_curve='slow_ema'):\n",
    "    graph_data = trade_model.copy()\n",
    "    title_string = \"Moving Average Crossover Model for \" + model_name\n",
    "    fig = plt.figure(figsize=(16,9))\n",
    "    ylabel = stock_symbol + ' price in $'\n",
    "    ax1 = fig.add_subplot(111, ylabel=ylabel, title=title_string)\n",
    "    graph_data[fast_ma_curve].plot(ax=ax1, color='b', lw=2.)\n",
    "    graph_data[slow_ma_curve].plot(ax=ax1, color='r', lw=2.)\n",
    "    graph_data['close_price'].plot(ax=ax1, color='g')\n",
    "    ax1.plot(graph_data.loc[graph_data.entry_exit == 1].index, graph_data.close_price[graph_data.entry_exit == 1], '^', markersize=7, color='k',label='buy')\n",
    "    ax1.plot(graph_data.loc[graph_data.entry_exit == -1].index, graph_data.close_price[graph_data.entry_exit == -1], 'v', markersize=7, color='k',label='sell')\n",
    "    plt.legend(loc='upper left')\n",
    "    plt.show()"
   ]
  },
  {
   "cell_type": "code",
   "execution_count": 18,
   "metadata": {
    "collapsed": false,
    "jupyter": {
     "outputs_hidden": false
    },
    "pycharm": {
     "name": "#%%\n"
    }
   },
   "outputs": [],
   "source": [
    "if verbose_graphs:\n",
    "    for tag in ema_model_collection:\n",
    "        draw_model_graphs(tag, ema_model_collection[tag], 'fast_ema', 'slow_ema')"
   ]
  },
  {
   "cell_type": "code",
   "execution_count": 19,
   "metadata": {
    "collapsed": false,
    "jupyter": {
     "outputs_hidden": false
    },
    "pycharm": {
     "name": "#%%\n"
    }
   },
   "outputs": [],
   "source": [
    "if verbose_graphs:\n",
    "    for tag in sma_model_collection:\n",
    "        draw_model_graphs(tag, sma_model_collection[tag], 'fast_sma', 'slow_sma')"
   ]
  },
  {
   "cell_type": "markdown",
   "metadata": {
    "colab_type": "text",
    "id": "wzTQaZkeTeld"
   },
   "source": [
    "## Task 4. Back-test Model"
   ]
  },
  {
   "cell_type": "code",
   "execution_count": 20,
   "metadata": {
    "colab": {},
    "colab_type": "code",
    "collapsed": false,
    "id": "Q1xZWksnTelr",
    "jupyter": {
     "outputs_hidden": false
    },
    "pycharm": {
     "name": "#%%\n"
    }
   },
   "outputs": [],
   "source": [
    "def trading_portfolio_generation(initial_fund, trade_model):\n",
    "    # Construct a portfolio to track the transactions and returns\n",
    "    portfolio = pd.DataFrame(index=trade_model.index, columns=['trade_action', 'qty_onhand', 'cost_basis', 'sold_transaction', 'gain_loss', 'cash_onhand', 'position_value', 'total_position', 'accumu_return'])\n",
    "    portfolio.iloc[0]['trade_action'] = 0\n",
    "    portfolio.iloc[0]['qty_onhand'] = 0\n",
    "    portfolio.iloc[0]['cost_basis'] = 0.00\n",
    "    portfolio.iloc[0]['sold_transaction'] = 0.00\n",
    "    portfolio.iloc[0]['gain_loss'] = 0.00\n",
    "    portfolio.iloc[0]['cash_onhand'] = initial_capital\n",
    "    portfolio.iloc[0]['position_value'] = 0.00\n",
    "    portfolio.iloc[0]['total_position'] = initial_capital\n",
    "    portfolio.iloc[0]['accumu_return'] = portfolio.iloc[0]['total_position'] - initial_fund\n",
    "    recent_cost = 0\n",
    "\n",
    "    # The conditional parameters below determine how the trading strategy will be carried out\n",
    "    for i in range(1, len(portfolio)):\n",
    "        if (trade_model.iloc[i]['entry_exit'] == 1) and (portfolio.iloc[i-1]['qty_onhand'] == 0):\n",
    "            portfolio.iloc[i]['trade_action'] = 1\n",
    "            portfolio.iloc[i]['qty_onhand'] = portfolio.iloc[i-1]['qty_onhand'] + portfolio.iloc[i]['trade_action']\n",
    "            portfolio.iloc[i]['cost_basis'] = trade_model.iloc[i]['open_price'] * portfolio.iloc[i]['trade_action']\n",
    "            portfolio.iloc[i]['sold_transaction'] = 0.00\n",
    "            portfolio.iloc[i]['gain_loss'] = 0.00\n",
    "            portfolio.iloc[i]['cash_onhand'] = portfolio.iloc[i-1]['cash_onhand'] - portfolio.iloc[i]['cost_basis']\n",
    "            recent_cost = trade_model.iloc[i]['open_price'] * portfolio.iloc[i]['trade_action']\n",
    "            if verbose_portfolios: print('BOUGHT QTY:', portfolio.iloc[i]['trade_action'], 'on', portfolio.index[i], 'at the price of', trade_model.iloc[i]['open_price'])\n",
    "        elif (trade_model.iloc[i]['entry_exit'] == -1) and (portfolio.iloc[i-1]['qty_onhand'] > 0):\n",
    "            portfolio.iloc[i]['trade_action'] = -1\n",
    "            portfolio.iloc[i]['qty_onhand'] = portfolio.iloc[i-1]['qty_onhand'] + portfolio.iloc[i]['trade_action']\n",
    "            portfolio.iloc[i]['cost_basis'] = 0.00\n",
    "            portfolio.iloc[i]['sold_transaction'] = trade_model.iloc[i]['open_price'] * portfolio.iloc[i]['trade_action'] * -1\n",
    "            portfolio.iloc[i]['gain_loss'] = (recent_cost + (trade_model.iloc[i]['open_price'] * portfolio.iloc[i]['trade_action'])) * -1\n",
    "            portfolio.iloc[i]['cash_onhand'] = portfolio.iloc[i-1]['cash_onhand'] + portfolio.iloc[i]['sold_transaction']\n",
    "            recent_cost = 0.00\n",
    "            if verbose_portfolios: print('SOLD QTY:', portfolio.iloc[i]['trade_action'], 'on', portfolio.index[i], 'at the price of', trade_model.iloc[i]['open_price'])\n",
    "        else:\n",
    "            portfolio.iloc[i]['trade_action'] = 0\n",
    "            portfolio.iloc[i]['qty_onhand'] = portfolio.iloc[i-1]['qty_onhand']\n",
    "            portfolio.iloc[i]['cost_basis'] = portfolio.iloc[i-1]['cost_basis']\n",
    "            portfolio.iloc[i]['sold_transaction'] = 0.00\n",
    "            portfolio.iloc[i]['gain_loss'] = 0.00\n",
    "            portfolio.iloc[i]['cash_onhand'] = portfolio.iloc[i-1]['cash_onhand']\n",
    "        portfolio.iloc[i]['position_value'] = trade_model.iloc[i]['close_price'] * portfolio.iloc[i]['qty_onhand']\n",
    "        portfolio.iloc[i]['total_position'] = portfolio.iloc[i]['cash_onhand'] + portfolio.iloc[i]['position_value']\n",
    "        portfolio.iloc[i]['accumu_return'] = portfolio.iloc[i]['total_position'] - initial_fund\n",
    "\n",
    "    return portfolio"
   ]
  },
  {
   "cell_type": "code",
   "execution_count": 21,
   "metadata": {
    "colab": {
     "base_uri": "https://localhost:8080/",
     "height": 1000
    },
    "colab_type": "code",
    "collapsed": false,
    "id": "mOsqVrfRTelw",
    "jupyter": {
     "outputs_hidden": false
    },
    "outputId": "17950f55-4566-48b2-dde6-0974c6e45966",
    "pycharm": {
     "name": "#%%\n"
    }
   },
   "outputs": [],
   "source": [
    "def generate_portfolio_and_performance(model_collection):\n",
    "    # Initialize a dictionary for tracking portfolios for all models\n",
    "    portfolio_collection = {}\n",
    "    # Initialize a dataframe for reporting model performance summary\n",
    "    performance_summary = pd.DataFrame(columns=['model_name','return_value','return_percent'])\n",
    "\n",
    "    for model_name in model_collection:\n",
    "        if verbose_portfolios: print('Processing portfolio for model:', model_name)\n",
    "        portfolio_collection[model_name] = trading_portfolio_generation(initial_capital, model_collection[model_name])\n",
    "        trade_transactions = portfolio_collection[model_name][portfolio_collection[model_name].trade_action != 0]\n",
    "        if verbose_portfolios: print(trade_transactions)\n",
    "        if verbose_portfolios: print('Accumulated profit/loss for one share of stock with initial capital of $%.0f at the end of modeling period: $%.2f' % (initial_capital, portfolio_collection[model_name].accumu_return[-1]))\n",
    "        if initial_capital != 0:\n",
    "            return_percentage = portfolio_collection[model_name].accumu_return[-1] / initial_capital * 100\n",
    "            if verbose_portfolios: print('Accumulated return percentage based on the initial capital investment: %.2f%%' % return_percentage)\n",
    "        else:\n",
    "            return_percentage = None\n",
    "        if trade_transactions.iloc[-1]['trade_action'] == 1:\n",
    "            if verbose_portfolios: print('The current status of the model is:', 'Holding a position since', trade_transactions.index.tolist()[-1], '\\n')\n",
    "        else:\n",
    "            if verbose_portfolios: print('The current status of the model is:', 'Waiting to enter since', trade_transactions.index.tolist()[-1], '\\n')\n",
    "        performance_summary = performance_summary.append({'model_name': model_name, 'return_value': portfolio_collection[model_name].accumu_return[-1], 'return_percent': return_percentage}, ignore_index=True)\n",
    "    performance_summary.sort_values(by=['return_value'], inplace=True, ascending=False)\n",
    "    return portfolio_collection, performance_summary"
   ]
  },
  {
   "cell_type": "code",
   "execution_count": 22,
   "metadata": {
    "collapsed": false,
    "jupyter": {
     "outputs_hidden": false
    },
    "pycharm": {
     "name": "#%%\n"
    }
   },
   "outputs": [
    {
     "name": "stdout",
     "output_type": "stream",
     "text": [
      "30 trading transaction portfolios generated.\n",
      "30 profit/loss performance summaries generated.\n"
     ]
    }
   ],
   "source": [
    "ema_portfolio_collection, ema_performance_summary = generate_portfolio_and_performance(ema_model_collection)\n",
    "print(len(ema_portfolio_collection), 'trading transaction portfolios generated.')\n",
    "print(len(ema_performance_summary), 'profit/loss performance summaries generated.')"
   ]
  },
  {
   "cell_type": "code",
   "execution_count": 23,
   "metadata": {
    "collapsed": false,
    "jupyter": {
     "outputs_hidden": false
    },
    "pycharm": {
     "name": "#%%\n"
    }
   },
   "outputs": [
    {
     "name": "stdout",
     "output_type": "stream",
     "text": [
      "30 trading transaction portfolios generated.\n",
      "30 profit/loss performance summaries generated.\n"
     ]
    }
   ],
   "source": [
    "sma_portfolio_collection, sma_performance_summary = generate_portfolio_and_performance(sma_model_collection)\n",
    "print(len(sma_portfolio_collection), 'trading transaction portfolios generated.')\n",
    "print(len(sma_performance_summary), 'profit/loss performance summaries generated.')"
   ]
  },
  {
   "cell_type": "code",
   "execution_count": 24,
   "metadata": {
    "collapsed": false,
    "jupyter": {
     "outputs_hidden": false
    },
    "pycharm": {
     "name": "#%%\n"
    }
   },
   "outputs": [
    {
     "name": "stdout",
     "output_type": "stream",
     "text": [
      "                         model_name  return_value return_percent\n",
      "2   EMA_003_SlowEMA_015_FastEMA_010        101.31           None\n",
      "23  EMA_024_SlowEMA_045_FastEMA_010         91.95           None\n",
      "5   EMA_006_SlowEMA_020_FastEMA_015         91.68           None\n",
      "7   EMA_008_SlowEMA_025_FastEMA_010         90.52           None\n",
      "4   EMA_005_SlowEMA_020_FastEMA_010         85.46           None\n"
     ]
    }
   ],
   "source": [
    "# Display the top models from EMA-only performance summary\n",
    "print(ema_performance_summary.head())"
   ]
  },
  {
   "cell_type": "code",
   "execution_count": 25,
   "metadata": {
    "colab": {
     "base_uri": "https://localhost:8080/",
     "height": 544
    },
    "colab_type": "code",
    "id": "7ErV8f-6Tely",
    "outputId": "79745f23-239b-43bc-ab91-4fde0a9947cb"
   },
   "outputs": [
    {
     "name": "stdout",
     "output_type": "stream",
     "text": [
      "                         model_name  return_value return_percent\n",
      "3   SMA_004_SlowSMA_020_FastSMA_005        104.63           None\n",
      "14  SMA_015_SlowSMA_035_FastSMA_005        101.40           None\n",
      "0   SMA_001_SlowSMA_010_FastSMA_005        100.79           None\n",
      "10  SMA_011_SlowSMA_030_FastSMA_005         97.23           None\n",
      "6   SMA_007_SlowSMA_025_FastSMA_005         83.46           None\n"
     ]
    }
   ],
   "source": [
    "# Display the top models from SMA-only performance summary\n",
    "print(sma_performance_summary.head())"
   ]
  },
  {
   "cell_type": "code",
   "execution_count": 26,
   "metadata": {
    "collapsed": false,
    "jupyter": {
     "outputs_hidden": false
    },
    "pycharm": {
     "name": "#%%\n"
    }
   },
   "outputs": [],
   "source": [
    "# Display the entry/exit signals and transactions from the top model\n",
    "def display_signals_transactions(model_name, portfolio_collection, model_collection):\n",
    "    cols_to_display = ['open_price','close_price','fast_ema','slow_ema','fast_sma','slow_sma','trade_signal','signal_change','entry_exit']\n",
    "    print('The transactions from the top model %s:' % model_name)\n",
    "    print(portfolio_collection[model_name][portfolio_collection[model_name].trade_action != 0])\n",
    "    print()\n",
    "    print('The trading signal changes from the top model %s:' % model_name)\n",
    "    print(model_collection[model_name][(model_collection[model_name].signal_change != 0) | (model_collection[model_name].entry_exit != 0)][cols_to_display])"
   ]
  },
  {
   "cell_type": "code",
   "execution_count": 27,
   "metadata": {
    "colab": {
     "base_uri": "https://localhost:8080/",
     "height": 561
    },
    "colab_type": "code",
    "id": "-4DC2gCYV-OE",
    "outputId": "1ab6d9f5-33ba-49b8-ae03-d072adf9142a"
   },
   "outputs": [
    {
     "name": "stdout",
     "output_type": "stream",
     "text": [
      "The transactions from the top model SMA_004_SlowSMA_020_FastSMA_005:\n",
      "           trade_action qty_onhand cost_basis sold_transaction gain_loss cash_onhand position_value total_position accumu_return\n",
      "date                                                                                                                            \n",
      "2019-01-11            1          1     246.98                0         0     -246.98         248.99           2.01          2.01\n",
      "2019-02-21           -1          0          0           261.48      14.5        14.5              0           14.5          14.5\n",
      "2019-04-01            1          1     258.71                0         0     -244.21         249.45           5.24          5.24\n",
      "2019-06-03           -1          0          0            279.7     20.99       35.49              0          35.49         35.49\n",
      "2019-06-06            1          1     285.76                0         0     -250.27            287          36.73         36.73\n",
      "2019-06-17           -1          0          0           281.19     -4.57       30.92              0          30.92         30.92\n",
      "2019-07-15            1          1     283.44                0         0     -252.52         269.92           17.4          17.4\n",
      "2019-07-16           -1          0          0            254.3    -29.14        1.78              0           1.78          1.78\n",
      "2019-09-09            1          1     238.14                0         0     -236.36          239.2           2.84          2.84\n",
      "2019-10-01           -1          0          0           245.13      6.99        8.77              0           8.77          8.77\n",
      "2019-10-10            1          1     248.43                0         0     -239.66         254.77          15.11         15.11\n",
      "2019-12-10           -1          0          0           287.05     38.62       47.39              0          47.39         47.39\n",
      "2019-12-12            1          1     292.95                0         0     -245.56         296.65          51.09         51.09\n",
      "2019-12-24           -1          0          0           288.26     -4.69        42.7              0           42.7          42.7\n",
      "2019-12-27            1          1     293.26                0         0     -250.56         292.31          41.75         41.75\n",
      "2020-01-10           -1          0          0           290.78     -2.48       40.22              0          40.22         40.22\n",
      "2020-02-18            1          1     293.24                0         0     -253.02         295.78          42.76         42.76\n",
      "2020-03-13           -1          0          0           328.39     35.15       75.37              0          75.37         75.37\n",
      "2020-03-30            1          1     338.65                0         0     -263.28         346.75          83.47         83.47\n",
      "2020-05-29           -1          0          0           370.26     31.61      106.98              0         106.98        106.98\n",
      "2020-06-02            1          1     386.63                0         0     -279.65         384.86         105.21        105.21\n",
      "2020-06-19           -1          0          0           380.81     -5.82      101.16              0         101.16        101.16\n",
      "2020-07-09            1          1     386.07                0         0     -284.91          385.5         100.59        100.59\n",
      "2020-07-28           -1          0          0           389.54      3.47      104.63              0         104.63        104.63\n",
      "\n",
      "The trading signal changes from the top model SMA_004_SlowSMA_020_FastSMA_005:\n",
      "            open_price  close_price    fast_ema    slow_ema  fast_sma  slow_sma  trade_signal  signal_change  entry_exit\n",
      "date                                                                                                                    \n",
      "2019-01-10      245.51       246.19  245.205944  247.126788   245.004  244.3815           1.0            1.0         0.0\n",
      "2019-01-11      246.98       248.99  246.467296  247.304773   246.082  244.3470           1.0            0.0         1.0\n",
      "2019-02-20      279.69       278.49  282.038111  279.628898   283.070  283.1370           0.0           -1.0         0.0\n",
      "2019-02-21      261.48       253.01  272.362074  277.093252   275.912  282.1295           0.0            0.0        -1.0\n",
      "2019-03-29      255.00       258.10  251.383678  250.029418   249.512  246.8405           1.0            1.0         0.0\n",
      "2019-04-01      258.71       249.45  250.739119  249.974235   250.890  246.8845           1.0            0.0         1.0\n",
      "2019-05-31      274.28       279.50  279.614757  278.322990   279.570  280.1380           0.0           -1.0         0.0\n",
      "2019-06-03      279.70       276.49  278.573171  278.148420   278.346  279.9750           0.0            0.0        -1.0\n",
      "2019-06-05      285.10       285.34  282.034743  279.337550   280.522  280.4715           1.0            1.0         0.0\n",
      "2019-06-06      285.76       287.00  283.689828  280.067307   282.466  280.6640           1.0            0.0         1.0\n",
      "2019-06-14      281.57       280.65  281.617502  280.947741   281.342  282.2605           0.0           -1.0         0.0\n",
      "2019-06-17      281.19       282.00  281.745001  281.047956   281.214  282.2980           0.0            0.0        -1.0\n",
      "2019-07-12      278.62       282.11  278.965850  278.509341   278.462  278.3935           1.0            1.0         0.0\n",
      "2019-07-15      283.44       269.92  275.950566  277.691308   277.004  277.8570           0.0           -1.0         1.0\n",
      "2019-07-16      254.30       246.54  266.147044  274.724517   270.312  276.0840           0.0            0.0        -1.0\n",
      "2019-09-06      245.11       237.35  236.080776  235.460102   234.990  233.1385           1.0            1.0         0.0\n",
      "2019-09-09      238.14       239.20  237.120517  235.816283   237.462  232.7070           1.0            0.0         1.0\n",
      "2019-09-30      240.56       244.59  242.698914  242.077454   241.786  242.7480           0.0           -1.0         0.0\n",
      "2019-10-01      245.13       245.77  243.722609  242.429125   242.346  243.6930           0.0            0.0        -1.0\n",
      "2019-10-09      251.51       248.19  246.887540  243.911383   245.872  244.5935           1.0            1.0         0.0\n",
      "2019-10-10      248.43       254.77  249.515027  244.945537   248.156  244.9925           1.0            0.0         1.0\n",
      "2019-12-09      286.61       286.37  287.113245  284.641644   285.980  286.1080           0.0           -1.0         0.0\n",
      "2019-12-10      287.05       285.24  286.488830  284.698630   286.210  286.3355           0.0            0.0        -1.0\n",
      "2019-12-11      285.26       293.62  288.865887  285.548284   287.734  287.1225           1.0            1.0         0.0\n",
      "2019-12-12      292.95       296.65  291.460591  286.605591   289.690  287.9850           1.0            0.0         1.0\n",
      "2019-12-23      292.42       288.27  290.042444  288.571596   289.668  290.3325           0.0           -1.0         0.0\n",
      "2019-12-24      288.26       289.64  289.908296  288.673349   289.246  290.1645           0.0            0.0        -1.0\n",
      "2019-12-26      290.31       292.24  290.685531  289.013030   290.830  290.3195           1.0            1.0         0.0\n",
      "2019-12-27      293.26       292.31  291.227021  289.327027   290.892  290.1685           1.0            0.0         1.0\n",
      "2020-01-09      292.29       288.90  291.100609  290.909595   291.986  292.0120           0.0           -1.0         0.0\n",
      "2020-01-10      290.78       289.09  290.430406  290.736301   290.870  291.7855           0.0            0.0        -1.0\n",
      "2020-02-14      285.97       291.60  284.239416  282.317943   281.852  281.6820           1.0            1.0         0.0\n",
      "2020-02-18      293.24       295.78  288.086278  283.600044   286.038  282.1475           1.0            0.0         1.0\n",
      "2020-03-12      308.02       317.11  330.839473  329.882138   333.360  336.5000           0.0           -1.0         0.0\n",
      "2020-03-13      328.39       316.63  326.102982  328.620029   329.404  338.0300           0.0            0.0        -1.0\n",
      "2020-03-27      328.83       338.74  331.320338  323.946107   333.226  325.4810           1.0            1.0         0.0\n",
      "2020-03-30      338.65       346.75  336.463559  326.117907   337.802  325.4425           1.0            0.0         1.0\n",
      "2020-05-28      375.96       365.55  368.959104  368.773413   369.404  370.4790           0.0           -1.0         0.0\n",
      "2020-05-29      370.26       385.84  374.586070  370.398802   371.524  371.6745           0.0            0.0        -1.0\n",
      "2020-06-01      385.59       383.58  377.584046  371.654154   373.820  372.9885           1.0            1.0         0.0\n",
      "2020-06-02      386.63       384.86  380.009364  372.911854   378.760  374.2765           1.0            0.0         1.0\n",
      "2020-06-18      380.93       375.55  378.072866  377.846116   377.430  378.5465           0.0           -1.0         0.0\n",
      "2020-06-19      380.81       378.41  378.185244  377.899820   377.482  378.7050           0.0            0.0        -1.0\n",
      "2020-07-08      381.72       384.14  380.319162  377.330090   380.016  377.8265           1.0            1.0         0.0\n",
      "2020-07-09      386.07       385.50  382.046108  378.108177   381.974  377.4855           1.0            0.0         1.0\n",
      "2020-07-27      390.62       389.61  388.528446  388.312220   386.954  388.1900           0.0           -1.0         0.0\n",
      "2020-07-28      389.54       385.42  387.492297  388.036771   386.476  389.0025           0.0            0.0        -1.0\n",
      "\n"
     ]
    },
    {
     "data": {
      "image/png": "[encoded data removed]",
      "text/plain": [
       "<Figure size 1152x648 with 1 Axes>"
      ]
     },
     "metadata": {},
     "output_type": "display_data"
    }
   ],
   "source": [
    "# Display the details for the top model\n",
    "if ema_performance_summary.iloc[0]['return_value'] > sma_performance_summary.iloc[0]['return_value']:\n",
    "    top_model = ema_performance_summary.iloc[0]['model_name']\n",
    "    best_return = ema_performance_summary.iloc[0]['return_value']\n",
    "    display_signals_transactions(top_model, ema_portfolio_collection, ema_model_collection)\n",
    "    print()\n",
    "    draw_model_graphs(top_model, ema_model_collection[top_model], 'fast_ema', 'slow_ema')\n",
    "else:\n",
    "    top_model = sma_performance_summary.iloc[0]['model_name']\n",
    "    best_return = sma_performance_summary.iloc[0]['return_value']\n",
    "    display_signals_transactions(top_model, sma_portfolio_collection, sma_model_collection)\n",
    "    print()\n",
    "    draw_model_graphs(top_model, sma_model_collection[top_model], 'fast_sma', 'slow_sma')"
   ]
  },
  {
   "cell_type": "markdown",
   "metadata": {
    "colab_type": "text",
    "id": "xc_vWsaSTel4"
   },
   "source": [
    "## Task 5. Evaluate Performance"
   ]
  },
  {
   "cell_type": "code",
   "execution_count": 28,
   "metadata": {
    "colab": {
     "base_uri": "https://localhost:8080/",
     "height": 51
    },
    "colab_type": "code",
    "collapsed": false,
    "id": "YTyOJjYzTel7",
    "jupyter": {
     "outputs_hidden": false
    },
    "outputId": "8ab127f5-5316-4e3a-9908-75f18dd9a2b9",
    "pycharm": {
     "name": "#%%\n"
    }
   },
   "outputs": [
    {
     "name": "stdout",
     "output_type": "stream",
     "text": [
      "The best model found is: SMA_004_SlowSMA_020_FastSMA_005\n",
      "The best profit/loss for the investing period is: $104.63\n"
     ]
    }
   ],
   "source": [
    "print('The best model found is:', top_model)\n",
    "print('The best profit/loss for the investing period is: $%.2f' % best_return)\n",
    "if initial_capital != 0:\n",
    "    print('The best return percentage for initial capital is: %.2f%%' % (best_return / initial_capital * 100))"
   ]
  },
  {
   "cell_type": "code",
   "execution_count": 29,
   "metadata": {
    "colab": {
     "base_uri": "https://localhost:8080/",
     "height": 34
    },
    "colab_type": "code",
    "id": "aTP_6WyfTemB",
    "outputId": "6cda4cc2-d890-47d5-9a63-43cffd21d72f"
   },
   "outputs": [
    {
     "name": "stdout",
     "output_type": "stream",
     "text": [
      "The performance of the long-only model from day one is: $139.83\n"
     ]
    }
   ],
   "source": [
    "# Calculate the stock's performance for a long-only model\n",
    "model_template = model_template[model_start_date:model_end_date]\n",
    "print('The performance of the long-only model from day one is: $%.2f' %(model_template.iloc[-1]['close_price'] - model_template.iloc[0]['open_price']))"
   ]
  },
  {
   "cell_type": "code",
   "execution_count": 30,
   "metadata": {
    "colab": {
     "base_uri": "https://localhost:8080/",
     "height": 34
    },
    "colab_type": "code",
    "collapsed": false,
    "id": "be1J2gmiTemG",
    "jupyter": {
     "outputs_hidden": false
    },
    "outputId": "28010a58-a8c1-43ae-d6ff-200fc13eb876",
    "pycharm": {
     "name": "#%%\n"
    }
   },
   "outputs": [
    {
     "name": "stdout",
     "output_type": "stream",
     "text": [
      "Total time for the script: 0:02:40.877058\n"
     ]
    }
   ],
   "source": [
    "print ('Total time for the script:',(datetime.now() - startTimeScript))"
   ]
  }
 ],
 "metadata": {
  "colab": {
   "collapsed_sections": [],
   "name": "py_algotrading_ema_crossover_grid_search.ipynb",
   "provenance": []
  },
  "kernelspec": {
   "display_name": "Python 3",
   "language": "python",
   "name": "python3"
  },
  "language_info": {
   "codemirror_mode": {
    "name": "ipython",
    "version": 3
   },
   "file_extension": ".py",
   "mimetype": "text/x-python",
   "name": "python",
   "nbconvert_exporter": "python",
   "pygments_lexer": "ipython3",
   "version": "3.7.6"
  }
 },
 "nbformat": 4,
 "nbformat_minor": 4
}
