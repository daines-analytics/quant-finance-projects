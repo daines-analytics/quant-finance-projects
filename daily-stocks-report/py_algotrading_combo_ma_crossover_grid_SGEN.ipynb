{
 "cells": [
  {
   "cell_type": "markdown",
   "metadata": {
    "colab_type": "text",
    "id": "nn0Ld1RjTekC"
   },
   "source": [
    "# Algorithmic Trading Model for Combo Moving Average Crossover Grid Search"
   ]
  },
  {
   "cell_type": "markdown",
   "metadata": {
    "colab_type": "text",
    "id": "-DieEv9pTekE"
   },
   "source": [
    "## Task 1. Prepare Environment"
   ]
  },
  {
   "cell_type": "code",
   "execution_count": 1,
   "metadata": {
    "colab": {},
    "colab_type": "code",
    "collapsed": false,
    "id": "8IwyGxxuTekE",
    "jupyter": {
     "outputs_hidden": false
    },
    "pycharm": {
     "name": "#%%\n"
    }
   },
   "outputs": [],
   "source": [
    "import os\n",
    "import sys\n",
    "import numpy as np\n",
    "import pandas as pd\n",
    "import requests\n",
    "import json\n",
    "import matplotlib.pyplot as plt\n",
    "from datetime import datetime, timedelta\n",
    "from dotenv import load_dotenv"
   ]
  },
  {
   "cell_type": "code",
   "execution_count": 2,
   "metadata": {
    "colab": {
     "base_uri": "https://localhost:8080/",
     "height": 51
    },
    "colab_type": "code",
    "collapsed": false,
    "id": "Zagik25QTekS",
    "jupyter": {
     "outputs_hidden": false
    },
    "outputId": "d14332ba-63ec-4224-ca13-c4ecdab3541a",
    "pycharm": {
     "name": "#%%\n"
    }
   },
   "outputs": [
    {
     "name": "stdout",
     "output_type": "stream",
     "text": [
      "Starting date for the model: 2019-01-01 00:00:00\n",
      "Ending date for the model: 2020-07-31 17:26:05.839613\n"
     ]
    }
   ],
   "source": [
    "stock_symbol = 'SGEN'\n",
    "initial_capital = 0\n",
    "\n",
    "# Specify the moving average parameters for the trading strategy\n",
    "fast_ema_min = 5\n",
    "fast_ema_max = 30\n",
    "slow_ema_min = 10\n",
    "slow_ema_max = 60\n",
    "fast_sma_min = 5\n",
    "fast_sma_max = 30\n",
    "slow_sma_min = 10\n",
    "slow_sma_max = 60\n",
    "ma_increment = 5\n",
    "min_ma_gap = 5\n",
    "\n",
    "# The number of extra days of data we need (usually equals to the larger of slow_ema or slow_sma)\n",
    "extra_days_data = slow_sma_max\n",
    "\n",
    "model_start_date = datetime(2019, 1, 1)\n",
    "print(\"Starting date for the model:\", model_start_date)\n",
    "stock_start_date = model_start_date - timedelta(days=int(extra_days_data*1.5)) # Need more pricing data to calculate moving averages\n",
    "\n",
    "model_end_date = datetime.now()\n",
    "# model_end_date = datetime(2020, 6, 30)\n",
    "print(\"Ending date for the model:\", model_end_date)"
   ]
  },
  {
   "cell_type": "code",
   "execution_count": 3,
   "metadata": {
    "colab": {
     "base_uri": "https://localhost:8080/",
     "height": 34
    },
    "colab_type": "code",
    "collapsed": false,
    "id": "aTI50KL9TekN",
    "jupyter": {
     "outputs_hidden": false
    },
    "outputId": "68f4a687-6e33-48e5-ef46-c23d7994bc3e",
    "pycharm": {
     "name": "#%%\n"
    }
   },
   "outputs": [],
   "source": [
    "# Begin the timer for the script processing\n",
    "startTimeScript = datetime.now()\n",
    "\n",
    "# Set up the verbose flag to print detailed messages for debugging (setting True will activate!)\n",
    "verbose_models = False\n",
    "verbose_graphs = False\n",
    "verbose_portfolios = False\n",
    "\n",
    "# Set up the sendNotification flag to send progress emails (setting True will send emails!)\n",
    "notifyStatus = False\n",
    "\n",
    "# Set up the parent directory location for loading the dotenv files\n",
    "useColab = False\n",
    "if useColab:\n",
    "    # Mount Google Drive locally for storing files\n",
    "    from google.colab import drive\n",
    "    drive.mount('/content/gdrive')\n",
    "    gdrivePrefix = '/content/gdrive/My Drive/Colab_Downloads/'\n",
    "    env_path = '/content/gdrive/My Drive/Colab Notebooks/'\n",
    "    dotenv_path = env_path + \"python_script.env\"\n",
    "    load_dotenv(dotenv_path=dotenv_path)\n",
    "\n",
    "# Set up the dotenv file for retrieving environment variables\n",
    "useLocalPC = False\n",
    "if useLocalPC:\n",
    "    env_path = \"/Users/david/PycharmProjects/\"\n",
    "    dotenv_path = env_path + \"python_script.env\"\n",
    "    load_dotenv(dotenv_path=dotenv_path)\n",
    "\n",
    "# Configure the plotting style\n",
    "plt.style.use('seaborn')\n",
    "\n",
    "# Set Pandas options\n",
    "pd.set_option(\"display.max_rows\", None)\n",
    "pd.set_option(\"display.max_columns\", None)\n",
    "pd.set_option(\"display.width\", 140)"
   ]
  },
  {
   "cell_type": "markdown",
   "metadata": {
    "colab_type": "text",
    "id": "Xa51FMY_TekZ"
   },
   "source": [
    "## Task 2. Acquire and Pre-Process Data"
   ]
  },
  {
   "cell_type": "code",
   "execution_count": 4,
   "metadata": {
    "colab": {},
    "colab_type": "code",
    "collapsed": false,
    "id": "Og9L0byuTekd",
    "jupyter": {
     "outputs_hidden": false
    },
    "pycharm": {
     "name": "#%%\n"
    }
   },
   "outputs": [],
   "source": [
    "# Check and see whether the API key is available\n",
    "quandl_key = os.environ.get('QUANDL_API')\n",
    "if quandl_key is None: sys.exit(\"API key for Quandl not available. Script Processing Aborted!!!\")"
   ]
  },
  {
   "cell_type": "code",
   "execution_count": 5,
   "metadata": {
    "colab": {},
    "colab_type": "code",
    "collapsed": false,
    "id": "Vx4DZ7UbTekg",
    "jupyter": {
     "outputs_hidden": false
    },
    "pycharm": {
     "name": "#%%\n"
    }
   },
   "outputs": [],
   "source": [
    "start_date_string = stock_start_date.strftime('%Y-%m-%d')\n",
    "end_date_string = model_end_date.strftime('%Y-%m-%d')\n",
    "\n",
    "quandl_url = \"https://www.quandl.com/api/v3/datatables/SHARADAR/SEP.json?date.gte=%s&date.lte=%s&ticker=%s&api_key=%s\" % (start_date_string, end_date_string, stock_symbol, quandl_key)"
   ]
  },
  {
   "cell_type": "code",
   "execution_count": 6,
   "metadata": {
    "colab": {
     "base_uri": "https://localhost:8080/",
     "height": 34
    },
    "colab_type": "code",
    "collapsed": false,
    "id": "zdbEhMn8Tekj",
    "jupyter": {
     "outputs_hidden": false
    },
    "outputId": "c52a8b39-0a15-4b5a-c2d7-4359b519573d",
    "pycharm": {
     "name": "#%%\n"
    }
   },
   "outputs": [
    {
     "name": "stdout",
     "output_type": "stream",
     "text": [
      "459 data points retrieved from the API call.\n"
     ]
    }
   ],
   "source": [
    "response = requests.get(quandl_url)\n",
    "quandl_dict = json.loads(response.text)\n",
    "stock_quandl = pd.DataFrame(quandl_dict['datatable']['data'])\n",
    "print(len(stock_quandl), 'data points retrieved from the API call.')"
   ]
  },
  {
   "cell_type": "code",
   "execution_count": 7,
   "metadata": {
    "colab": {
     "base_uri": "https://localhost:8080/",
     "height": 306
    },
    "colab_type": "code",
    "collapsed": false,
    "id": "5ybXsZl1Tekl",
    "jupyter": {
     "outputs_hidden": false
    },
    "outputId": "2ecb3706-3631-40df-d26e-cb13ffec5fa4",
    "pycharm": {
     "name": "#%%\n"
    }
   },
   "outputs": [
    {
     "name": "stdout",
     "output_type": "stream",
     "text": [
      "<class 'pandas.core.frame.DataFrame'>\n",
      "DatetimeIndex: 459 entries, 2018-10-03 to 2020-07-30\n",
      "Data columns (total 10 columns):\n",
      " #   Column       Non-Null Count  Dtype  \n",
      "---  ------       --------------  -----  \n",
      " 0   ticker       459 non-null    object \n",
      " 1   date         459 non-null    object \n",
      " 2   open         459 non-null    float64\n",
      " 3   high         459 non-null    float64\n",
      " 4   low          459 non-null    float64\n",
      " 5   close        459 non-null    float64\n",
      " 6   volume       459 non-null    float64\n",
      " 7   dividend     459 non-null    float64\n",
      " 8   closeunadj   459 non-null    float64\n",
      " 9   lastupdated  459 non-null    object \n",
      "dtypes: float64(7), object(3)\n",
      "memory usage: 39.4+ KB\n"
     ]
    }
   ],
   "source": [
    "stock_quandl.columns = ['ticker', 'date', 'open', 'high', 'low', 'close', 'volume', 'dividend', 'closeunadj', 'lastupdated']\n",
    "# stock_quandl.set_index('date', inplace=True)\n",
    "stock_quandl.index = pd.to_datetime(stock_quandl.date)\n",
    "stock_quandl = stock_quandl.sort_index(ascending=True)\n",
    "stock_quandl.info()"
   ]
  },
  {
   "cell_type": "code",
   "execution_count": 8,
   "metadata": {
    "colab": {
     "base_uri": "https://localhost:8080/",
     "height": 235
    },
    "colab_type": "code",
    "collapsed": false,
    "id": "GzN1_13bTeko",
    "jupyter": {
     "outputs_hidden": false
    },
    "outputId": "c113bf72-655c-46a1-ee6d-36b236404897",
    "pycharm": {
     "name": "#%%\n"
    }
   },
   "outputs": [
    {
     "data": {
      "text/html": [
       "<div>\n",
       "<style scoped>\n",
       "    .dataframe tbody tr th:only-of-type {\n",
       "        vertical-align: middle;\n",
       "    }\n",
       "\n",
       "    .dataframe tbody tr th {\n",
       "        vertical-align: top;\n",
       "    }\n",
       "\n",
       "    .dataframe thead th {\n",
       "        text-align: right;\n",
       "    }\n",
       "</style>\n",
       "<table border=\"1\" class=\"dataframe\">\n",
       "  <thead>\n",
       "    <tr style=\"text-align: right;\">\n",
       "      <th></th>\n",
       "      <th>ticker</th>\n",
       "      <th>date</th>\n",
       "      <th>open</th>\n",
       "      <th>high</th>\n",
       "      <th>low</th>\n",
       "      <th>close</th>\n",
       "      <th>volume</th>\n",
       "      <th>dividend</th>\n",
       "      <th>closeunadj</th>\n",
       "      <th>lastupdated</th>\n",
       "    </tr>\n",
       "    <tr>\n",
       "      <th>date</th>\n",
       "      <th></th>\n",
       "      <th></th>\n",
       "      <th></th>\n",
       "      <th></th>\n",
       "      <th></th>\n",
       "      <th></th>\n",
       "      <th></th>\n",
       "      <th></th>\n",
       "      <th></th>\n",
       "      <th></th>\n",
       "    </tr>\n",
       "  </thead>\n",
       "  <tbody>\n",
       "    <tr>\n",
       "      <th>2018-10-03</th>\n",
       "      <td>SGEN</td>\n",
       "      <td>2018-10-03</td>\n",
       "      <td>81.81</td>\n",
       "      <td>84.370</td>\n",
       "      <td>81.24</td>\n",
       "      <td>82.76</td>\n",
       "      <td>1176456.0</td>\n",
       "      <td>0.0</td>\n",
       "      <td>82.76</td>\n",
       "      <td>2020-05-01</td>\n",
       "    </tr>\n",
       "    <tr>\n",
       "      <th>2018-10-04</th>\n",
       "      <td>SGEN</td>\n",
       "      <td>2018-10-04</td>\n",
       "      <td>82.28</td>\n",
       "      <td>82.970</td>\n",
       "      <td>78.78</td>\n",
       "      <td>79.53</td>\n",
       "      <td>1043163.0</td>\n",
       "      <td>0.0</td>\n",
       "      <td>79.53</td>\n",
       "      <td>2020-05-01</td>\n",
       "    </tr>\n",
       "    <tr>\n",
       "      <th>2018-10-05</th>\n",
       "      <td>SGEN</td>\n",
       "      <td>2018-10-05</td>\n",
       "      <td>80.19</td>\n",
       "      <td>80.483</td>\n",
       "      <td>78.15</td>\n",
       "      <td>78.48</td>\n",
       "      <td>936857.0</td>\n",
       "      <td>0.0</td>\n",
       "      <td>78.48</td>\n",
       "      <td>2020-05-01</td>\n",
       "    </tr>\n",
       "    <tr>\n",
       "      <th>2018-10-08</th>\n",
       "      <td>SGEN</td>\n",
       "      <td>2018-10-08</td>\n",
       "      <td>78.02</td>\n",
       "      <td>78.260</td>\n",
       "      <td>76.22</td>\n",
       "      <td>77.07</td>\n",
       "      <td>1010525.0</td>\n",
       "      <td>0.0</td>\n",
       "      <td>77.07</td>\n",
       "      <td>2020-05-01</td>\n",
       "    </tr>\n",
       "    <tr>\n",
       "      <th>2018-10-09</th>\n",
       "      <td>SGEN</td>\n",
       "      <td>2018-10-09</td>\n",
       "      <td>76.90</td>\n",
       "      <td>77.800</td>\n",
       "      <td>74.62</td>\n",
       "      <td>74.84</td>\n",
       "      <td>805112.0</td>\n",
       "      <td>0.0</td>\n",
       "      <td>74.84</td>\n",
       "      <td>2020-05-01</td>\n",
       "    </tr>\n",
       "  </tbody>\n",
       "</table>\n",
       "</div>"
      ],
      "text/plain": [
       "           ticker        date   open    high    low  close     volume  dividend  closeunadj lastupdated\n",
       "date                                                                                                   \n",
       "2018-10-03   SGEN  2018-10-03  81.81  84.370  81.24  82.76  1176456.0       0.0       82.76  2020-05-01\n",
       "2018-10-04   SGEN  2018-10-04  82.28  82.970  78.78  79.53  1043163.0       0.0       79.53  2020-05-01\n",
       "2018-10-05   SGEN  2018-10-05  80.19  80.483  78.15  78.48   936857.0       0.0       78.48  2020-05-01\n",
       "2018-10-08   SGEN  2018-10-08  78.02  78.260  76.22  77.07  1010525.0       0.0       77.07  2020-05-01\n",
       "2018-10-09   SGEN  2018-10-09  76.90  77.800  74.62  74.84   805112.0       0.0       74.84  2020-05-01"
      ]
     },
     "execution_count": 8,
     "metadata": {},
     "output_type": "execute_result"
    }
   ],
   "source": [
    "stock_quandl.head()"
   ]
  },
  {
   "cell_type": "code",
   "execution_count": 9,
   "metadata": {
    "colab": {
     "base_uri": "https://localhost:8080/",
     "height": 235
    },
    "colab_type": "code",
    "collapsed": false,
    "id": "T7jmDLccTeks",
    "jupyter": {
     "outputs_hidden": false
    },
    "outputId": "4c47d9b0-b8d7-4a64-c05b-300169b85925",
    "pycharm": {
     "name": "#%%\n"
    }
   },
   "outputs": [
    {
     "data": {
      "text/html": [
       "<div>\n",
       "<style scoped>\n",
       "    .dataframe tbody tr th:only-of-type {\n",
       "        vertical-align: middle;\n",
       "    }\n",
       "\n",
       "    .dataframe tbody tr th {\n",
       "        vertical-align: top;\n",
       "    }\n",
       "\n",
       "    .dataframe thead th {\n",
       "        text-align: right;\n",
       "    }\n",
       "</style>\n",
       "<table border=\"1\" class=\"dataframe\">\n",
       "  <thead>\n",
       "    <tr style=\"text-align: right;\">\n",
       "      <th></th>\n",
       "      <th>ticker</th>\n",
       "      <th>date</th>\n",
       "      <th>open</th>\n",
       "      <th>high</th>\n",
       "      <th>low</th>\n",
       "      <th>close</th>\n",
       "      <th>volume</th>\n",
       "      <th>dividend</th>\n",
       "      <th>closeunadj</th>\n",
       "      <th>lastupdated</th>\n",
       "    </tr>\n",
       "    <tr>\n",
       "      <th>date</th>\n",
       "      <th></th>\n",
       "      <th></th>\n",
       "      <th></th>\n",
       "      <th></th>\n",
       "      <th></th>\n",
       "      <th></th>\n",
       "      <th></th>\n",
       "      <th></th>\n",
       "      <th></th>\n",
       "      <th></th>\n",
       "    </tr>\n",
       "  </thead>\n",
       "  <tbody>\n",
       "    <tr>\n",
       "      <th>2020-07-24</th>\n",
       "      <td>SGEN</td>\n",
       "      <td>2020-07-24</td>\n",
       "      <td>169.61</td>\n",
       "      <td>170.80</td>\n",
       "      <td>166.73</td>\n",
       "      <td>168.815</td>\n",
       "      <td>1056971.0</td>\n",
       "      <td>0.0</td>\n",
       "      <td>168.815</td>\n",
       "      <td>2020-07-24</td>\n",
       "    </tr>\n",
       "    <tr>\n",
       "      <th>2020-07-27</th>\n",
       "      <td>SGEN</td>\n",
       "      <td>2020-07-27</td>\n",
       "      <td>170.20</td>\n",
       "      <td>172.71</td>\n",
       "      <td>168.07</td>\n",
       "      <td>171.360</td>\n",
       "      <td>2142421.0</td>\n",
       "      <td>0.0</td>\n",
       "      <td>171.360</td>\n",
       "      <td>2020-07-27</td>\n",
       "    </tr>\n",
       "    <tr>\n",
       "      <th>2020-07-28</th>\n",
       "      <td>SGEN</td>\n",
       "      <td>2020-07-28</td>\n",
       "      <td>172.45</td>\n",
       "      <td>174.37</td>\n",
       "      <td>170.69</td>\n",
       "      <td>171.350</td>\n",
       "      <td>1135102.0</td>\n",
       "      <td>0.0</td>\n",
       "      <td>171.350</td>\n",
       "      <td>2020-07-28</td>\n",
       "    </tr>\n",
       "    <tr>\n",
       "      <th>2020-07-29</th>\n",
       "      <td>SGEN</td>\n",
       "      <td>2020-07-29</td>\n",
       "      <td>172.48</td>\n",
       "      <td>173.90</td>\n",
       "      <td>168.25</td>\n",
       "      <td>168.420</td>\n",
       "      <td>1476989.0</td>\n",
       "      <td>0.0</td>\n",
       "      <td>168.420</td>\n",
       "      <td>2020-07-29</td>\n",
       "    </tr>\n",
       "    <tr>\n",
       "      <th>2020-07-30</th>\n",
       "      <td>SGEN</td>\n",
       "      <td>2020-07-30</td>\n",
       "      <td>167.95</td>\n",
       "      <td>172.82</td>\n",
       "      <td>167.22</td>\n",
       "      <td>171.140</td>\n",
       "      <td>911085.0</td>\n",
       "      <td>0.0</td>\n",
       "      <td>171.140</td>\n",
       "      <td>2020-07-30</td>\n",
       "    </tr>\n",
       "  </tbody>\n",
       "</table>\n",
       "</div>"
      ],
      "text/plain": [
       "           ticker        date    open    high     low    close     volume  dividend  closeunadj lastupdated\n",
       "date                                                                                                       \n",
       "2020-07-24   SGEN  2020-07-24  169.61  170.80  166.73  168.815  1056971.0       0.0     168.815  2020-07-24\n",
       "2020-07-27   SGEN  2020-07-27  170.20  172.71  168.07  171.360  2142421.0       0.0     171.360  2020-07-27\n",
       "2020-07-28   SGEN  2020-07-28  172.45  174.37  170.69  171.350  1135102.0       0.0     171.350  2020-07-28\n",
       "2020-07-29   SGEN  2020-07-29  172.48  173.90  168.25  168.420  1476989.0       0.0     168.420  2020-07-29\n",
       "2020-07-30   SGEN  2020-07-30  167.95  172.82  167.22  171.140   911085.0       0.0     171.140  2020-07-30"
      ]
     },
     "execution_count": 9,
     "metadata": {},
     "output_type": "execute_result"
    }
   ],
   "source": [
    "stock_quandl.tail()"
   ]
  },
  {
   "cell_type": "code",
   "execution_count": 10,
   "metadata": {
    "colab": {
     "base_uri": "https://localhost:8080/",
     "height": 535
    },
    "colab_type": "code",
    "collapsed": false,
    "id": "Tfuu40coTekv",
    "jupyter": {
     "outputs_hidden": false
    },
    "outputId": "2357753d-6c83-46ad-e8cc-8593497d20ff",
    "pycharm": {
     "name": "#%%\n"
    }
   },
   "outputs": [
    {
     "data": {
      "image/png": "[encoded data removed]",
      "text/plain": [
       "<Figure size 1152x648 with 1 Axes>"
      ]
     },
     "metadata": {},
     "output_type": "display_data"
    }
   ],
   "source": [
    "quandl_title = 'Quandl Historical Stock Information for ' + stock_symbol\n",
    "stock_quandl['close'].plot(figsize=(16,9), title=quandl_title)\n",
    "plt.show()"
   ]
  },
  {
   "cell_type": "markdown",
   "metadata": {
    "colab_type": "text",
    "id": "UKNJYDlGTek0"
   },
   "source": [
    "## Task 3. Develop Strategy and Train Model"
   ]
  },
  {
   "cell_type": "markdown",
   "metadata": {
    "colab_type": "text",
    "id": "zUtaaGbgTek3"
   },
   "source": [
    "### 3.a) Set up the Dataframe for the Trading Model"
   ]
  },
  {
   "cell_type": "code",
   "execution_count": 11,
   "metadata": {
    "colab": {
     "base_uri": "https://localhost:8080/",
     "height": 170
    },
    "colab_type": "code",
    "collapsed": false,
    "id": "dGpN7bg-Tek3",
    "jupyter": {
     "outputs_hidden": false
    },
    "outputId": "60f23809-9c25-44bd-dcbc-82c93777493d",
    "pycharm": {
     "name": "#%%\n"
    }
   },
   "outputs": [
    {
     "name": "stdout",
     "output_type": "stream",
     "text": [
      "<class 'pandas.core.frame.DataFrame'>\n",
      "DatetimeIndex: 459 entries, 2018-10-03 to 2020-07-30\n",
      "Data columns (total 2 columns):\n",
      " #   Column       Non-Null Count  Dtype  \n",
      "---  ------       --------------  -----  \n",
      " 0   open_price   459 non-null    float64\n",
      " 1   close_price  459 non-null    float64\n",
      "dtypes: float64(2)\n",
      "memory usage: 10.8 KB\n"
     ]
    }
   ],
   "source": [
    "# Set up the standard column name for modeling\n",
    "model_template = stock_quandl.loc[:, ['open','close']]\n",
    "model_template.rename(columns={'open': 'open_price', 'close': 'close_price'}, inplace=True)\n",
    "model_template.info()"
   ]
  },
  {
   "cell_type": "markdown",
   "metadata": {
    "colab_type": "text",
    "id": "v-3ecix6Tek_"
   },
   "source": [
    "### 3.b) Set up the Analysis Table with Indicators"
   ]
  },
  {
   "cell_type": "code",
   "execution_count": 12,
   "metadata": {
    "colab": {},
    "colab_type": "code",
    "collapsed": false,
    "id": "yfQTRXPnTelA",
    "jupyter": {
     "outputs_hidden": false
    },
    "pycharm": {
     "name": "#%%\n"
    }
   },
   "outputs": [],
   "source": [
    "# Define the functions that will generate the indicators and trading signals\n",
    "\n",
    "def populate_indicators(passed_model):\n",
    "    passed_model['fast_ema'] = passed_model['close_price'].ewm(span=fast_ma).mean()\n",
    "    passed_model['slow_ema'] = passed_model['close_price'].ewm(span=slow_ma).mean()\n",
    "    passed_model['fast_sma'] = passed_model['close_price'].rolling(fast_ma).mean()\n",
    "    passed_model['slow_sma'] = passed_model['close_price'].rolling(slow_ma).mean()\n",
    "    passed_model['ema_change'] = passed_model['fast_ema'] - passed_model['slow_ema']\n",
    "    passed_model['sma_change'] = passed_model['fast_sma'] - passed_model['slow_sma']\n",
    "    passed_model['fastema_slowsma_chg'] = passed_model['fast_ema'] - passed_model['slow_sma']\n",
    "    passed_model['fastsma_slowema_chg'] = passed_model['fast_sma'] - passed_model['slow_ema']\n",
    "    passed_model['trade_signal'] = np.zeros(len(passed_model))\n",
    "    passed_model['signal_change'] = np.zeros(len(passed_model))\n",
    "    passed_model['entry_exit'] = np.zeros(len(passed_model))\n",
    "\n",
    "def populate_signals(model, change_curve):\n",
    "    wait_for_entry = True\n",
    "    for x in range(len(model)):\n",
    "        if model[change_curve].iloc[x] > 0:\n",
    "            model['trade_signal'].iloc[x] = 1  # trade_signal = 1 means we should enter into a long position\n",
    "        else:\n",
    "            model['trade_signal'].iloc[x] = 0  # trade_signal = 0 means we should exit the long position\n",
    "        if x != 0:\n",
    "            model['signal_change'].iloc[x] = model['trade_signal'].iloc[x] - model['trade_signal'].iloc[x-1]\n",
    "            if wait_for_entry and (model['signal_change'].iloc[x-1] == 1):\n",
    "                model['entry_exit'].iloc[x] = model['signal_change'].iloc[x-1]\n",
    "                wait_for_entry = False\n",
    "            elif (not wait_for_entry) and (model['signal_change'].iloc[x-1] != 0):\n",
    "                model['entry_exit'].iloc[x] = model['signal_change'].iloc[x-1]\n"
   ]
  },
  {
   "cell_type": "code",
   "execution_count": 13,
   "metadata": {
    "colab": {
     "base_uri": "https://localhost:8080/",
     "height": 1000
    },
    "colab_type": "code",
    "collapsed": false,
    "id": "8M4khYD7TelG",
    "jupyter": {
     "outputs_hidden": false
    },
    "outputId": "05f4cf43-5ebd-4654-9806-00894118795f",
    "pycharm": {
     "name": "#%%\n"
    }
   },
   "outputs": [
    {
     "name": "stdout",
     "output_type": "stream",
     "text": [
      "51 EMA only models generated!\n",
      "\n",
      "51 SMA only models generated!\n",
      "\n",
      "51 Fast EMA/Slow SMA models generated!\n",
      "\n",
      "51 Fast SMA/Slow EMA models generated!\n"
     ]
    }
   ],
   "source": [
    "# Processing models using only the EMA curves\n",
    "ema_model_collection = {}\n",
    "serial_number = 1\n",
    "for slow_ma in range(slow_ema_min, slow_ema_max+1, ma_increment):\n",
    "    for fast_ma in range(fast_ema_min, fast_ema_max+1, ma_increment):\n",
    "        if (slow_ma - fast_ma) < min_ma_gap: break\n",
    "        if verbose_models: print('Processing model with fast_ema of', fast_ma, 'and slow_ema of', slow_ma)\n",
    "        model_tag = 'EMA_' + str(serial_number).zfill(3) + '_FastEMA_' + str(fast_ma).zfill(3) + '_SlowEMA_' + str(slow_ma).zfill(3)\n",
    "        serial_number = serial_number + 1\n",
    "        trading_model = model_template.copy()\n",
    "        populate_indicators(trading_model)\n",
    "        trading_model = trading_model[model_start_date:model_end_date]\n",
    "        populate_signals(trading_model, 'ema_change')\n",
    "        ema_model_collection[model_tag] = trading_model.copy()\n",
    "        if verbose_models: print('Model', model_tag, 'added to the trading model collection.')\n",
    "print(len(ema_model_collection), 'EMA only models generated!')\n",
    "\n",
    "# Processing models using only the SMA curves\n",
    "print()\n",
    "sma_model_collection = {}\n",
    "serial_number = 1\n",
    "for slow_ma in range(slow_sma_min, slow_sma_max+1, ma_increment):\n",
    "    for fast_ma in range(fast_sma_min, fast_sma_max+1, ma_increment):\n",
    "        if (slow_ma - fast_ma) < min_ma_gap: break\n",
    "        if verbose_models: print('Processing model with fast_sma of', fast_ma, 'and slow_sma of', slow_ma)\n",
    "        model_tag = 'SMA_' + str(serial_number).zfill(3) + '_FastSMA_' + str(fast_ma).zfill(3) + '_SlowSMA_' + str(slow_ma).zfill(3)\n",
    "        serial_number = serial_number + 1\n",
    "        trading_model = model_template.copy()\n",
    "        populate_indicators(trading_model)\n",
    "        trading_model = trading_model[model_start_date:model_end_date]\n",
    "        populate_signals(trading_model, 'sma_change')\n",
    "        sma_model_collection[model_tag] = trading_model.copy()\n",
    "        if verbose_models: print('Model', model_tag, 'added to the trading model collection.')\n",
    "print(len(sma_model_collection), 'SMA only models generated!')\n",
    "\n",
    "# Processing models using fast EMA and slow SMA curves\n",
    "print()\n",
    "fast_ema_slow_sma_models = {}\n",
    "serial_number = 1\n",
    "for slow_ma in range(slow_sma_min, slow_sma_max+1, ma_increment):\n",
    "    for fast_ma in range(fast_ema_min, fast_ema_max+1, ma_increment):\n",
    "        if (slow_ma - fast_ma) < min_ma_gap: break\n",
    "        if verbose_models: print('Processing model with fast_ema of', fast_ma, 'and slow_sma of', slow_ma)\n",
    "        model_tag = 'Mixed_' + str(serial_number).zfill(3) + '_FastEMA_' + str(fast_ma).zfill(3) + '_SlowSMA_' + str(slow_ma).zfill(3)\n",
    "        serial_number = serial_number + 1\n",
    "        trading_model = model_template.copy()\n",
    "        populate_indicators(trading_model)\n",
    "        trading_model = trading_model[model_start_date:model_end_date]\n",
    "        populate_signals(trading_model, 'fastema_slowsma_chg')\n",
    "        fast_ema_slow_sma_models[model_tag] = trading_model.copy()\n",
    "        if verbose_models: print('Model', model_tag, 'added to the trading model collection.')\n",
    "print(len(fast_ema_slow_sma_models), 'Fast EMA/Slow SMA models generated!')\n",
    "\n",
    "# Processing models using fast SMA and slow EMA curves\n",
    "print()\n",
    "fast_sma_slow_ema_models = {}\n",
    "serial_number = 1\n",
    "for slow_ma in range(slow_ema_min, slow_ema_max+1, ma_increment):\n",
    "    for fast_ma in range(fast_sma_min, fast_sma_max+1, ma_increment):\n",
    "        if (slow_ma - fast_ma) < min_ma_gap: break\n",
    "        if verbose_models: print('Processing model with fast_sma of', fast_ma, 'and slow_ema of', slow_ma)\n",
    "        model_tag = 'Mixed_' + str(serial_number).zfill(3) + '_FastSMA_' + str(fast_ma).zfill(3) + '_SlowEMA_' + str(slow_ma).zfill(3)\n",
    "        serial_number = serial_number + 1\n",
    "        trading_model = model_template.copy()\n",
    "        populate_indicators(trading_model)\n",
    "        trading_model = trading_model[model_start_date:model_end_date]\n",
    "        populate_signals(trading_model, 'fastsma_slowema_chg')\n",
    "        fast_sma_slow_ema_models[model_tag] = trading_model.copy()\n",
    "        if verbose_models: print('Model', model_tag, 'added to the trading model collection.')\n",
    "print(len(fast_sma_slow_ema_models), 'Fast SMA/Slow EMA models generated!')\n"
   ]
  },
  {
   "cell_type": "code",
   "execution_count": 14,
   "metadata": {
    "colab": {
     "base_uri": "https://localhost:8080/",
     "height": 1000
    },
    "colab_type": "code",
    "collapsed": false,
    "id": "327CZKmtTelL",
    "jupyter": {
     "outputs_hidden": false
    },
    "outputId": "b353b49d-0281-4aa7-a530-6747c166eae5",
    "pycharm": {
     "name": "#%%\n"
    }
   },
   "outputs": [],
   "source": [
    "# List the entry/exit points for each model\n",
    "def list_model_entry_exit(model_collection):\n",
    "    for model_name in model_collection:\n",
    "        print('List the signal change and entry/exit points for', model_name)\n",
    "        print(model_collection[model_name][(model_collection[model_name].signal_change != 0) | (model_collection[model_name].entry_exit != 0)])\n",
    "        print()"
   ]
  },
  {
   "cell_type": "code",
   "execution_count": 15,
   "metadata": {
    "collapsed": false,
    "jupyter": {
     "outputs_hidden": false
    },
    "pycharm": {
     "name": "#%%\n"
    }
   },
   "outputs": [],
   "source": [
    "if verbose_models: list_model_entry_exit(ema_model_collection)"
   ]
  },
  {
   "cell_type": "code",
   "execution_count": 16,
   "metadata": {
    "collapsed": false,
    "jupyter": {
     "outputs_hidden": false
    },
    "pycharm": {
     "name": "#%%\n"
    }
   },
   "outputs": [],
   "source": [
    "if verbose_models: list_model_entry_exit(sma_model_collection)"
   ]
  },
  {
   "cell_type": "code",
   "execution_count": 17,
   "metadata": {},
   "outputs": [],
   "source": [
    "if verbose_models: list_model_entry_exit(fast_ema_slow_sma_models)"
   ]
  },
  {
   "cell_type": "code",
   "execution_count": 18,
   "metadata": {},
   "outputs": [],
   "source": [
    "if verbose_models: list_model_entry_exit(fast_sma_slow_ema_models)"
   ]
  },
  {
   "cell_type": "code",
   "execution_count": 19,
   "metadata": {
    "colab": {
     "base_uri": "https://localhost:8080/",
     "height": 1000
    },
    "colab_type": "code",
    "collapsed": false,
    "id": "XEyJXVxcTelS",
    "jupyter": {
     "outputs_hidden": false
    },
    "outputId": "c74ac3e9-fbd3-4e73-8294-f12d0cce88dc",
    "pycharm": {
     "name": "#%%\n"
    }
   },
   "outputs": [],
   "source": [
    "def draw_model_graphs(model_name, trade_model, fast_ma_curve='fast_ema', slow_ma_curve='slow_ema'):\n",
    "    graph_data = trade_model.copy()\n",
    "    title_string = \"Moving Average Crossover Model for \" + model_name\n",
    "    fig = plt.figure(figsize=(16,9))\n",
    "    ylabel = stock_symbol + ' price in $'\n",
    "    ax1 = fig.add_subplot(111, ylabel=ylabel, title=title_string)\n",
    "    graph_data[fast_ma_curve].plot(ax=ax1, color='b', lw=2.)\n",
    "    graph_data[slow_ma_curve].plot(ax=ax1, color='r', lw=2.)\n",
    "    graph_data['close_price'].plot(ax=ax1, color='g')\n",
    "    ax1.plot(graph_data.loc[graph_data.entry_exit == 1].index, graph_data.close_price[graph_data.entry_exit == 1], '^', markersize=7, color='k',label='buy')\n",
    "    ax1.plot(graph_data.loc[graph_data.entry_exit == -1].index, graph_data.close_price[graph_data.entry_exit == -1], 'v', markersize=7, color='k',label='sell')\n",
    "    plt.legend(loc='upper left')\n",
    "    plt.show()"
   ]
  },
  {
   "cell_type": "code",
   "execution_count": 20,
   "metadata": {
    "collapsed": false,
    "jupyter": {
     "outputs_hidden": false
    },
    "pycharm": {
     "name": "#%%\n"
    }
   },
   "outputs": [],
   "source": [
    "if verbose_graphs:\n",
    "    for tag in ema_model_collection:\n",
    "        draw_model_graphs(tag, ema_model_collection[tag], 'fast_ema', 'slow_ema')"
   ]
  },
  {
   "cell_type": "code",
   "execution_count": 21,
   "metadata": {
    "collapsed": false,
    "jupyter": {
     "outputs_hidden": false
    },
    "pycharm": {
     "name": "#%%\n"
    }
   },
   "outputs": [],
   "source": [
    "if verbose_graphs:\n",
    "    for tag in sma_model_collection:\n",
    "        draw_model_graphs(tag, sma_model_collection[tag], 'fast_sma', 'slow_sma')"
   ]
  },
  {
   "cell_type": "code",
   "execution_count": 22,
   "metadata": {},
   "outputs": [],
   "source": [
    "if verbose_graphs:\n",
    "    for tag in fast_ema_slow_sma_models:\n",
    "        draw_model_graphs(tag, fast_ema_slow_sma_models[tag], 'fast_ema', 'slow_sma')"
   ]
  },
  {
   "cell_type": "code",
   "execution_count": 23,
   "metadata": {},
   "outputs": [],
   "source": [
    "if verbose_graphs:\n",
    "    for tag in fast_sma_slow_ema_models:\n",
    "        draw_model_graphs(tag, fast_sma_slow_ema_models[tag], 'fast_sma', 'slow_ema')"
   ]
  },
  {
   "cell_type": "markdown",
   "metadata": {
    "colab_type": "text",
    "id": "wzTQaZkeTeld"
   },
   "source": [
    "## Task 4. Back-test Model"
   ]
  },
  {
   "cell_type": "code",
   "execution_count": 24,
   "metadata": {
    "colab": {},
    "colab_type": "code",
    "collapsed": false,
    "id": "Q1xZWksnTelr",
    "jupyter": {
     "outputs_hidden": false
    },
    "pycharm": {
     "name": "#%%\n"
    }
   },
   "outputs": [],
   "source": [
    "def trading_portfolio_generation(initial_fund, trade_model):\n",
    "    # Construct a portfolio to track the transactions and returns\n",
    "    portfolio = pd.DataFrame(index=trade_model.index, columns=['trade_action', 'qty_onhand', 'cost_basis', 'sold_transaction', 'gain_loss', 'cash_onhand', 'position_value', 'total_position', 'accumu_return'])\n",
    "    portfolio.iloc[0]['trade_action'] = 0\n",
    "    portfolio.iloc[0]['qty_onhand'] = 0\n",
    "    portfolio.iloc[0]['cost_basis'] = 0.00\n",
    "    portfolio.iloc[0]['sold_transaction'] = 0.00\n",
    "    portfolio.iloc[0]['gain_loss'] = 0.00\n",
    "    portfolio.iloc[0]['cash_onhand'] = initial_capital\n",
    "    portfolio.iloc[0]['position_value'] = 0.00\n",
    "    portfolio.iloc[0]['total_position'] = initial_capital\n",
    "    portfolio.iloc[0]['accumu_return'] = portfolio.iloc[0]['total_position'] - initial_fund\n",
    "    recent_cost = 0\n",
    "\n",
    "    # The conditional parameters below determine how the trading strategy will be carried out\n",
    "    for i in range(1, len(portfolio)):\n",
    "        if (trade_model.iloc[i]['entry_exit'] == 1) and (portfolio.iloc[i-1]['qty_onhand'] == 0):\n",
    "            portfolio.iloc[i]['trade_action'] = 1\n",
    "            portfolio.iloc[i]['qty_onhand'] = portfolio.iloc[i-1]['qty_onhand'] + portfolio.iloc[i]['trade_action']\n",
    "            portfolio.iloc[i]['cost_basis'] = trade_model.iloc[i]['open_price'] * portfolio.iloc[i]['trade_action']\n",
    "            portfolio.iloc[i]['sold_transaction'] = 0.00\n",
    "            portfolio.iloc[i]['gain_loss'] = 0.00\n",
    "            portfolio.iloc[i]['cash_onhand'] = portfolio.iloc[i-1]['cash_onhand'] - portfolio.iloc[i]['cost_basis']\n",
    "            recent_cost = trade_model.iloc[i]['open_price'] * portfolio.iloc[i]['trade_action']\n",
    "            if verbose_portfolios: print('BOUGHT QTY:', portfolio.iloc[i]['trade_action'], 'on', portfolio.index[i], 'at the price of', trade_model.iloc[i]['open_price'])\n",
    "        elif (trade_model.iloc[i]['entry_exit'] == -1) and (portfolio.iloc[i-1]['qty_onhand'] > 0):\n",
    "            portfolio.iloc[i]['trade_action'] = -1\n",
    "            portfolio.iloc[i]['qty_onhand'] = portfolio.iloc[i-1]['qty_onhand'] + portfolio.iloc[i]['trade_action']\n",
    "            portfolio.iloc[i]['cost_basis'] = 0.00\n",
    "            portfolio.iloc[i]['sold_transaction'] = trade_model.iloc[i]['open_price'] * portfolio.iloc[i]['trade_action'] * -1\n",
    "            portfolio.iloc[i]['gain_loss'] = (recent_cost + (trade_model.iloc[i]['open_price'] * portfolio.iloc[i]['trade_action'])) * -1\n",
    "            portfolio.iloc[i]['cash_onhand'] = portfolio.iloc[i-1]['cash_onhand'] + portfolio.iloc[i]['sold_transaction']\n",
    "            recent_cost = 0.00\n",
    "            if verbose_portfolios: print('SOLD QTY:', portfolio.iloc[i]['trade_action'], 'on', portfolio.index[i], 'at the price of', trade_model.iloc[i]['open_price'])\n",
    "        else:\n",
    "            portfolio.iloc[i]['trade_action'] = 0\n",
    "            portfolio.iloc[i]['qty_onhand'] = portfolio.iloc[i-1]['qty_onhand']\n",
    "            portfolio.iloc[i]['cost_basis'] = portfolio.iloc[i-1]['cost_basis']\n",
    "            portfolio.iloc[i]['sold_transaction'] = 0.00\n",
    "            portfolio.iloc[i]['gain_loss'] = 0.00\n",
    "            portfolio.iloc[i]['cash_onhand'] = portfolio.iloc[i-1]['cash_onhand']\n",
    "        portfolio.iloc[i]['position_value'] = trade_model.iloc[i]['close_price'] * portfolio.iloc[i]['qty_onhand']\n",
    "        portfolio.iloc[i]['total_position'] = portfolio.iloc[i]['cash_onhand'] + portfolio.iloc[i]['position_value']\n",
    "        portfolio.iloc[i]['accumu_return'] = portfolio.iloc[i]['total_position'] - initial_fund\n",
    "\n",
    "    return portfolio"
   ]
  },
  {
   "cell_type": "code",
   "execution_count": 25,
   "metadata": {
    "colab": {
     "base_uri": "https://localhost:8080/",
     "height": 1000
    },
    "colab_type": "code",
    "collapsed": false,
    "id": "mOsqVrfRTelw",
    "jupyter": {
     "outputs_hidden": false
    },
    "outputId": "17950f55-4566-48b2-dde6-0974c6e45966",
    "pycharm": {
     "name": "#%%\n"
    }
   },
   "outputs": [],
   "source": [
    "def generate_portfolio_and_performance(model_collection):\n",
    "    # Initialize a dictionary for tracking portfolios for all models\n",
    "    portfolio_collection = {}\n",
    "    # Initialize a dataframe for reporting model performance summary\n",
    "    performance_summary = pd.DataFrame(columns=['model_name','return_value','return_percent'])\n",
    "\n",
    "    for model_name in model_collection:\n",
    "        if verbose_portfolios: print('Processing portfolio for model:', model_name)\n",
    "        portfolio_collection[model_name] = trading_portfolio_generation(initial_capital, model_collection[model_name])\n",
    "        trade_transactions = portfolio_collection[model_name][portfolio_collection[model_name].trade_action != 0]\n",
    "        if verbose_portfolios: print(trade_transactions)\n",
    "        if verbose_portfolios: print('Accumulated profit/loss for one share of stock with initial capital of $%.0f at the end of modeling period: $%.2f' % (initial_capital, portfolio_collection[model_name].accumu_return[-1]))\n",
    "        if initial_capital != 0:\n",
    "            return_percentage = portfolio_collection[model_name].accumu_return[-1] / initial_capital * 100\n",
    "            if verbose_portfolios: print('Accumulated return percentage based on the initial capital investment: %.2f%%' % return_percentage)\n",
    "        else:\n",
    "            return_percentage = None\n",
    "        if trade_transactions.iloc[-1]['trade_action'] == 1:\n",
    "            if verbose_portfolios: print('The current status of the model is:', 'Holding a position since', trade_transactions.index.tolist()[-1], '\\n')\n",
    "        else:\n",
    "            if verbose_portfolios: print('The current status of the model is:', 'Waiting to enter since', trade_transactions.index.tolist()[-1], '\\n')\n",
    "        performance_summary = performance_summary.append({'model_name': model_name, 'return_value': portfolio_collection[model_name].accumu_return[-1], 'return_percent': return_percentage}, ignore_index=True)\n",
    "    performance_summary.sort_values(by=['return_value'], inplace=True, ascending=False)\n",
    "    return portfolio_collection, performance_summary"
   ]
  },
  {
   "cell_type": "code",
   "execution_count": 26,
   "metadata": {
    "collapsed": false,
    "jupyter": {
     "outputs_hidden": false
    },
    "pycharm": {
     "name": "#%%\n"
    }
   },
   "outputs": [
    {
     "name": "stdout",
     "output_type": "stream",
     "text": [
      "51 trading transaction portfolios generated.\n",
      "51 profit/loss performance summaries generated.\n"
     ]
    }
   ],
   "source": [
    "ema_portfolio_collection, ema_performance_summary = generate_portfolio_and_performance(ema_model_collection)\n",
    "print(len(ema_portfolio_collection), 'trading transaction portfolios generated.')\n",
    "print(len(ema_performance_summary), 'profit/loss performance summaries generated.')"
   ]
  },
  {
   "cell_type": "code",
   "execution_count": 27,
   "metadata": {
    "collapsed": false,
    "jupyter": {
     "outputs_hidden": false
    },
    "pycharm": {
     "name": "#%%\n"
    }
   },
   "outputs": [
    {
     "name": "stdout",
     "output_type": "stream",
     "text": [
      "51 trading transaction portfolios generated.\n",
      "51 profit/loss performance summaries generated.\n"
     ]
    }
   ],
   "source": [
    "sma_portfolio_collection, sma_performance_summary = generate_portfolio_and_performance(sma_model_collection)\n",
    "print(len(sma_portfolio_collection), 'trading transaction portfolios generated.')\n",
    "print(len(sma_performance_summary), 'profit/loss performance summaries generated.')"
   ]
  },
  {
   "cell_type": "code",
   "execution_count": 28,
   "metadata": {},
   "outputs": [
    {
     "name": "stdout",
     "output_type": "stream",
     "text": [
      "51 trading transaction portfolios generated.\n",
      "51 profit/loss performance summaries generated.\n"
     ]
    }
   ],
   "source": [
    "fast_ema_slow_sma_portfolios, fast_ema_slow_sma_performance = generate_portfolio_and_performance(fast_ema_slow_sma_models)\n",
    "print(len(fast_ema_slow_sma_portfolios), 'trading transaction portfolios generated.')\n",
    "print(len(fast_ema_slow_sma_performance), 'profit/loss performance summaries generated.')"
   ]
  },
  {
   "cell_type": "code",
   "execution_count": 29,
   "metadata": {},
   "outputs": [
    {
     "name": "stdout",
     "output_type": "stream",
     "text": [
      "51 trading transaction portfolios generated.\n",
      "51 profit/loss performance summaries generated.\n"
     ]
    }
   ],
   "source": [
    "fast_sma_slow_ema_portfolios, fast_sma_slow_ema_performance = generate_portfolio_and_performance(fast_sma_slow_ema_models)\n",
    "print(len(fast_sma_slow_ema_portfolios), 'trading transaction portfolios generated.')\n",
    "print(len(fast_sma_slow_ema_performance), 'profit/loss performance summaries generated.')"
   ]
  },
  {
   "cell_type": "code",
   "execution_count": 30,
   "metadata": {
    "collapsed": false,
    "jupyter": {
     "outputs_hidden": false
    },
    "pycharm": {
     "name": "#%%\n"
    }
   },
   "outputs": [
    {
     "data": {
      "text/html": [
       "<div>\n",
       "<style scoped>\n",
       "    .dataframe tbody tr th:only-of-type {\n",
       "        vertical-align: middle;\n",
       "    }\n",
       "\n",
       "    .dataframe tbody tr th {\n",
       "        vertical-align: top;\n",
       "    }\n",
       "\n",
       "    .dataframe thead th {\n",
       "        text-align: right;\n",
       "    }\n",
       "</style>\n",
       "<table border=\"1\" class=\"dataframe\">\n",
       "  <thead>\n",
       "    <tr style=\"text-align: right;\">\n",
       "      <th></th>\n",
       "      <th>model_name</th>\n",
       "      <th>return_value</th>\n",
       "      <th>return_percent</th>\n",
       "    </tr>\n",
       "  </thead>\n",
       "  <tbody>\n",
       "    <tr>\n",
       "      <th>46</th>\n",
       "      <td>EMA_047_FastEMA_010_SlowEMA_060</td>\n",
       "      <td>83.03</td>\n",
       "      <td>None</td>\n",
       "    </tr>\n",
       "    <tr>\n",
       "      <th>40</th>\n",
       "      <td>EMA_041_FastEMA_010_SlowEMA_055</td>\n",
       "      <td>79.77</td>\n",
       "      <td>None</td>\n",
       "    </tr>\n",
       "    <tr>\n",
       "      <th>45</th>\n",
       "      <td>EMA_046_FastEMA_005_SlowEMA_060</td>\n",
       "      <td>76.17</td>\n",
       "      <td>None</td>\n",
       "    </tr>\n",
       "    <tr>\n",
       "      <th>39</th>\n",
       "      <td>EMA_040_FastEMA_005_SlowEMA_055</td>\n",
       "      <td>70.86</td>\n",
       "      <td>None</td>\n",
       "    </tr>\n",
       "    <tr>\n",
       "      <th>28</th>\n",
       "      <td>EMA_029_FastEMA_010_SlowEMA_045</td>\n",
       "      <td>68.36</td>\n",
       "      <td>None</td>\n",
       "    </tr>\n",
       "  </tbody>\n",
       "</table>\n",
       "</div>"
      ],
      "text/plain": [
       "                         model_name  return_value return_percent\n",
       "46  EMA_047_FastEMA_010_SlowEMA_060         83.03           None\n",
       "40  EMA_041_FastEMA_010_SlowEMA_055         79.77           None\n",
       "45  EMA_046_FastEMA_005_SlowEMA_060         76.17           None\n",
       "39  EMA_040_FastEMA_005_SlowEMA_055         70.86           None\n",
       "28  EMA_029_FastEMA_010_SlowEMA_045         68.36           None"
      ]
     },
     "execution_count": 30,
     "metadata": {},
     "output_type": "execute_result"
    }
   ],
   "source": [
    "# Display the top models from EMA-only performance summary\n",
    "ema_performance_summary.head()"
   ]
  },
  {
   "cell_type": "code",
   "execution_count": 31,
   "metadata": {
    "colab": {
     "base_uri": "https://localhost:8080/",
     "height": 544
    },
    "colab_type": "code",
    "id": "7ErV8f-6Tely",
    "outputId": "79745f23-239b-43bc-ab91-4fde0a9947cb"
   },
   "outputs": [
    {
     "data": {
      "text/html": [
       "<div>\n",
       "<style scoped>\n",
       "    .dataframe tbody tr th:only-of-type {\n",
       "        vertical-align: middle;\n",
       "    }\n",
       "\n",
       "    .dataframe tbody tr th {\n",
       "        vertical-align: top;\n",
       "    }\n",
       "\n",
       "    .dataframe thead th {\n",
       "        text-align: right;\n",
       "    }\n",
       "</style>\n",
       "<table border=\"1\" class=\"dataframe\">\n",
       "  <thead>\n",
       "    <tr style=\"text-align: right;\">\n",
       "      <th></th>\n",
       "      <th>model_name</th>\n",
       "      <th>return_value</th>\n",
       "      <th>return_percent</th>\n",
       "    </tr>\n",
       "  </thead>\n",
       "  <tbody>\n",
       "    <tr>\n",
       "      <th>7</th>\n",
       "      <td>SMA_008_FastSMA_010_SlowSMA_025</td>\n",
       "      <td>85.45</td>\n",
       "      <td>None</td>\n",
       "    </tr>\n",
       "    <tr>\n",
       "      <th>4</th>\n",
       "      <td>SMA_005_FastSMA_010_SlowSMA_020</td>\n",
       "      <td>82.23</td>\n",
       "      <td>None</td>\n",
       "    </tr>\n",
       "    <tr>\n",
       "      <th>3</th>\n",
       "      <td>SMA_004_FastSMA_005_SlowSMA_020</td>\n",
       "      <td>76.80</td>\n",
       "      <td>None</td>\n",
       "    </tr>\n",
       "    <tr>\n",
       "      <th>1</th>\n",
       "      <td>SMA_002_FastSMA_005_SlowSMA_015</td>\n",
       "      <td>69.91</td>\n",
       "      <td>None</td>\n",
       "    </tr>\n",
       "    <tr>\n",
       "      <th>39</th>\n",
       "      <td>SMA_040_FastSMA_005_SlowSMA_055</td>\n",
       "      <td>67.48</td>\n",
       "      <td>None</td>\n",
       "    </tr>\n",
       "  </tbody>\n",
       "</table>\n",
       "</div>"
      ],
      "text/plain": [
       "                         model_name  return_value return_percent\n",
       "7   SMA_008_FastSMA_010_SlowSMA_025         85.45           None\n",
       "4   SMA_005_FastSMA_010_SlowSMA_020         82.23           None\n",
       "3   SMA_004_FastSMA_005_SlowSMA_020         76.80           None\n",
       "1   SMA_002_FastSMA_005_SlowSMA_015         69.91           None\n",
       "39  SMA_040_FastSMA_005_SlowSMA_055         67.48           None"
      ]
     },
     "execution_count": 31,
     "metadata": {},
     "output_type": "execute_result"
    }
   ],
   "source": [
    "# Display the top models from SMA-only performance summary\n",
    "sma_performance_summary.head()"
   ]
  },
  {
   "cell_type": "code",
   "execution_count": 32,
   "metadata": {},
   "outputs": [
    {
     "data": {
      "text/html": [
       "<div>\n",
       "<style scoped>\n",
       "    .dataframe tbody tr th:only-of-type {\n",
       "        vertical-align: middle;\n",
       "    }\n",
       "\n",
       "    .dataframe tbody tr th {\n",
       "        vertical-align: top;\n",
       "    }\n",
       "\n",
       "    .dataframe thead th {\n",
       "        text-align: right;\n",
       "    }\n",
       "</style>\n",
       "<table border=\"1\" class=\"dataframe\">\n",
       "  <thead>\n",
       "    <tr style=\"text-align: right;\">\n",
       "      <th></th>\n",
       "      <th>model_name</th>\n",
       "      <th>return_value</th>\n",
       "      <th>return_percent</th>\n",
       "    </tr>\n",
       "  </thead>\n",
       "  <tbody>\n",
       "    <tr>\n",
       "      <th>5</th>\n",
       "      <td>Mixed_006_FastEMA_015_SlowSMA_020</td>\n",
       "      <td>79.42</td>\n",
       "      <td>None</td>\n",
       "    </tr>\n",
       "    <tr>\n",
       "      <th>4</th>\n",
       "      <td>Mixed_005_FastEMA_010_SlowSMA_020</td>\n",
       "      <td>78.04</td>\n",
       "      <td>None</td>\n",
       "    </tr>\n",
       "    <tr>\n",
       "      <th>3</th>\n",
       "      <td>Mixed_004_FastEMA_005_SlowSMA_020</td>\n",
       "      <td>76.33</td>\n",
       "      <td>None</td>\n",
       "    </tr>\n",
       "    <tr>\n",
       "      <th>1</th>\n",
       "      <td>Mixed_002_FastEMA_005_SlowSMA_015</td>\n",
       "      <td>70.86</td>\n",
       "      <td>None</td>\n",
       "    </tr>\n",
       "    <tr>\n",
       "      <th>28</th>\n",
       "      <td>Mixed_029_FastEMA_010_SlowSMA_045</td>\n",
       "      <td>67.50</td>\n",
       "      <td>None</td>\n",
       "    </tr>\n",
       "  </tbody>\n",
       "</table>\n",
       "</div>"
      ],
      "text/plain": [
       "                           model_name  return_value return_percent\n",
       "5   Mixed_006_FastEMA_015_SlowSMA_020         79.42           None\n",
       "4   Mixed_005_FastEMA_010_SlowSMA_020         78.04           None\n",
       "3   Mixed_004_FastEMA_005_SlowSMA_020         76.33           None\n",
       "1   Mixed_002_FastEMA_005_SlowSMA_015         70.86           None\n",
       "28  Mixed_029_FastEMA_010_SlowSMA_045         67.50           None"
      ]
     },
     "execution_count": 32,
     "metadata": {},
     "output_type": "execute_result"
    }
   ],
   "source": [
    "# Display the top models from Fast EMA/Slow SMA performance summary\n",
    "fast_ema_slow_sma_performance.head()"
   ]
  },
  {
   "cell_type": "code",
   "execution_count": 33,
   "metadata": {},
   "outputs": [
    {
     "data": {
      "text/html": [
       "<div>\n",
       "<style scoped>\n",
       "    .dataframe tbody tr th:only-of-type {\n",
       "        vertical-align: middle;\n",
       "    }\n",
       "\n",
       "    .dataframe tbody tr th {\n",
       "        vertical-align: top;\n",
       "    }\n",
       "\n",
       "    .dataframe thead th {\n",
       "        text-align: right;\n",
       "    }\n",
       "</style>\n",
       "<table border=\"1\" class=\"dataframe\">\n",
       "  <thead>\n",
       "    <tr style=\"text-align: right;\">\n",
       "      <th></th>\n",
       "      <th>model_name</th>\n",
       "      <th>return_value</th>\n",
       "      <th>return_percent</th>\n",
       "    </tr>\n",
       "  </thead>\n",
       "  <tbody>\n",
       "    <tr>\n",
       "      <th>2</th>\n",
       "      <td>Mixed_003_FastSMA_010_SlowEMA_015</td>\n",
       "      <td>89.23</td>\n",
       "      <td>None</td>\n",
       "    </tr>\n",
       "    <tr>\n",
       "      <th>11</th>\n",
       "      <td>Mixed_012_FastSMA_010_SlowEMA_030</td>\n",
       "      <td>88.08</td>\n",
       "      <td>None</td>\n",
       "    </tr>\n",
       "    <tr>\n",
       "      <th>16</th>\n",
       "      <td>Mixed_017_FastSMA_010_SlowEMA_035</td>\n",
       "      <td>78.69</td>\n",
       "      <td>None</td>\n",
       "    </tr>\n",
       "    <tr>\n",
       "      <th>4</th>\n",
       "      <td>Mixed_005_FastSMA_010_SlowEMA_020</td>\n",
       "      <td>77.78</td>\n",
       "      <td>None</td>\n",
       "    </tr>\n",
       "    <tr>\n",
       "      <th>15</th>\n",
       "      <td>Mixed_016_FastSMA_005_SlowEMA_035</td>\n",
       "      <td>76.38</td>\n",
       "      <td>None</td>\n",
       "    </tr>\n",
       "  </tbody>\n",
       "</table>\n",
       "</div>"
      ],
      "text/plain": [
       "                           model_name  return_value return_percent\n",
       "2   Mixed_003_FastSMA_010_SlowEMA_015         89.23           None\n",
       "11  Mixed_012_FastSMA_010_SlowEMA_030         88.08           None\n",
       "16  Mixed_017_FastSMA_010_SlowEMA_035         78.69           None\n",
       "4   Mixed_005_FastSMA_010_SlowEMA_020         77.78           None\n",
       "15  Mixed_016_FastSMA_005_SlowEMA_035         76.38           None"
      ]
     },
     "execution_count": 33,
     "metadata": {},
     "output_type": "execute_result"
    }
   ],
   "source": [
    "# Display the top models from Fast SMA/Slow EMA performance summary\n",
    "fast_sma_slow_ema_performance.head()"
   ]
  },
  {
   "cell_type": "code",
   "execution_count": 34,
   "metadata": {
    "collapsed": false,
    "jupyter": {
     "outputs_hidden": false
    },
    "pycharm": {
     "name": "#%%\n"
    }
   },
   "outputs": [],
   "source": [
    "# Display the entry/exit signals and transactions from the top model\n",
    "def display_signals_transactions(model_name, portfolio_collection, model_collection):\n",
    "    cols_to_display = ['open_price','close_price','fast_ema','slow_ema','fast_sma','slow_sma','trade_signal','signal_change','entry_exit']\n",
    "    print('The transactions from the top model %s:' % model_name)\n",
    "    print(portfolio_collection[model_name][portfolio_collection[model_name].trade_action != 0])\n",
    "    print()\n",
    "    print('The trading signal changes from the top model %s:' % model_name)\n",
    "    print(model_collection[model_name][(model_collection[model_name].signal_change != 0) | (model_collection[model_name].entry_exit != 0)][cols_to_display])"
   ]
  },
  {
   "cell_type": "code",
   "execution_count": 35,
   "metadata": {},
   "outputs": [
    {
     "name": "stdout",
     "output_type": "stream",
     "text": [
      "The transactions from the top model Mixed_003_FastSMA_010_SlowEMA_015:\n",
      "           trade_action qty_onhand cost_basis sold_transaction gain_loss cash_onhand position_value total_position accumu_return\n",
      "date                                                                                                                            \n",
      "2019-01-15            1          1      70.07                0         0      -70.07          72.01           1.94          1.94\n",
      "2019-02-20           -1          0          0             70.2      0.13        0.13              0           0.13          0.13\n",
      "2019-03-06            1          1      71.59                0         0      -71.46          69.39          -2.07         -2.07\n",
      "2019-03-15           -1          0          0            73.99       2.4        2.53              0           2.53          2.53\n",
      "2019-03-22            1          1      74.01                0         0      -71.48          73.99           2.51          2.51\n",
      "2019-04-10           -1          0          0             79.7      5.69        8.22              0           8.22          8.22\n",
      "2019-04-12            1          1      78.89                0         0      -70.67          78.05           7.38          7.38\n",
      "2019-04-26           -1          0          0               69     -9.89       -1.67              0          -1.67         -1.67\n",
      "2019-06-03            1          1      65.55                0         0      -67.22          67.86           0.64          0.64\n",
      "2019-06-24           -1          0          0             72.2      6.65        4.98              0           4.98          4.98\n",
      "2019-06-25            1          1      71.12                0         0      -66.14          69.03           2.89          2.89\n",
      "2019-07-08           -1          0          0            68.66     -2.46        2.52              0           2.52          2.52\n",
      "2019-07-15            1          1       63.8                0         0      -61.28          63.99           2.71          2.71\n",
      "2019-07-16           -1          0          0            64.34      0.54        3.06              0           3.06          3.06\n",
      "2019-07-29            1          1       74.8                0         0      -71.74          75.95           4.21          4.21\n",
      "2019-09-06           -1          0          0            71.55     -3.25       -0.19              0          -0.19         -0.19\n",
      "2019-09-27            1          1       76.7                0         0      -76.89             76          -0.89         -0.89\n",
      "2019-12-18           -1          0          0           113.96     37.26       37.07              0          37.07         37.07\n",
      "2020-01-03            1          1     110.74                0         0      -73.67         112.65          38.98         38.98\n",
      "2020-01-08           -1          0          0            111.7      0.96       38.03              0          38.03         38.03\n",
      "2020-02-03            1          1     108.51                0         0      -70.48         108.68           38.2          38.2\n",
      "2020-02-07           -1          0          0           111.23      2.72       40.75              0          40.75         40.75\n",
      "2020-02-14            1          1      118.4                0         0      -77.65         118.07          40.42         40.42\n",
      "2020-03-05           -1          0          0           112.89     -5.51       35.24              0          35.24         35.24\n",
      "2020-04-06            1          1     121.66                0         0      -86.42         124.47          38.05         38.05\n",
      "2020-06-03           -1          0          0           159.09     37.43       72.67              0          72.67         72.67\n",
      "2020-06-08            1          1     146.55                0         0      -73.88         150.86          76.98         76.98\n",
      "2020-06-16           -1          0          0           157.15      10.6       83.27              0          83.27         83.27\n",
      "2020-06-25            1          1     165.18                0         0      -81.91         167.86          85.95         85.95\n",
      "\n",
      "The trading signal changes from the top model Mixed_003_FastSMA_010_SlowEMA_015:\n",
      "            open_price  close_price    fast_ema    slow_ema  fast_sma    slow_sma  trade_signal  signal_change  entry_exit\n",
      "date                                                                                                                      \n",
      "2019-01-14       70.59        70.34   65.751496   63.844159    64.234   61.103333           1.0            1.0         0.0\n",
      "2019-01-15       70.07        72.01   66.889407   64.864967    65.769   62.410000           1.0            0.0         1.0\n",
      "2019-02-19       71.15        70.15   70.205436   70.452177    70.163   71.991333           0.0           -1.0         0.0\n",
      "2019-02-20       70.20        69.76   70.124448   70.365655    69.571   71.762000           0.0            0.0        -1.0\n",
      "2019-03-05       72.00        71.87   72.210001   71.896676    72.067   71.042667           1.0            1.0         0.0\n",
      "2019-03-06       71.59        69.39   71.697274   71.583341    72.030   71.238000           1.0            0.0         1.0\n",
      "2019-03-14       73.06        73.60   71.683797   71.531437    71.454   71.850000           0.0           -1.0         0.0\n",
      "2019-03-15       73.99        74.62   72.217652   71.917508    71.448   72.076000           0.0            0.0        -1.0\n",
      "2019-03-21       72.26        75.31   73.062968   72.653342    72.673   72.236667           1.0            1.0         0.0\n",
      "2019-03-22       74.01        73.99   73.231519   72.820424    73.150   72.190667           1.0            0.0         1.0\n",
      "2019-04-09       79.86        79.40   76.396702   75.546537    75.479   75.068000           0.0           -1.0         0.0\n",
      "2019-04-10       79.70        80.91   77.217301   76.216970    76.052   75.610667           0.0            0.0        -1.0\n",
      "2019-04-11       80.75        78.31   77.415974   76.478599    76.701   75.810667           1.0            1.0         0.0\n",
      "2019-04-12       78.89        78.05   77.531251   76.675024    77.182   76.081333           1.0            0.0         1.0\n",
      "2019-04-25       70.10        71.09   72.263492   73.060452    73.055   74.941333           0.0           -1.0         0.0\n",
      "2019-04-26       69.00        68.60   71.597403   72.502895    72.084   74.595333           0.0            0.0        -1.0\n",
      "2019-05-31       66.60        65.07   67.039903   67.198899    67.206   66.504667           1.0            1.0         0.0\n",
      "2019-06-03       65.55        67.86   67.189012   67.281536    67.350   66.519333           1.0            0.0         1.0\n",
      "2019-06-21       72.43        71.74   70.715120   70.088397    69.977   69.763333           0.0           -1.0         0.0\n",
      "2019-06-24       72.20        70.64   70.701462   70.157348    70.244   69.948667           1.0            1.0        -1.0\n",
      "2019-06-25       71.12        69.03   70.397560   70.016429    70.493   69.924000           1.0            0.0         1.0\n",
      "2019-07-05       70.35        69.05   69.303735   69.316648    69.216   70.008000           0.0           -1.0         0.0\n",
      "2019-07-08       68.66        67.10   68.903056   69.039567    68.752   69.914667           0.0            0.0        -1.0\n",
      "2019-07-12       65.13        63.78   67.194607   67.765320    67.805   68.291333           1.0            1.0         0.0\n",
      "2019-07-15       63.80        63.99   66.611952   67.293405    67.283   67.774667           0.0           -1.0         1.0\n",
      "2019-07-16       64.34        63.18   65.987960   66.779229    66.766   67.277333           0.0            0.0        -1.0\n",
      "2019-07-26       73.93        74.46   72.957526   72.054330    72.746   70.644667           1.0            1.0         0.0\n",
      "2019-07-29       74.80        75.95   73.501613   72.541289    73.942   71.234667           1.0            0.0         1.0\n",
      "2019-09-05       72.11        71.35   73.289478   74.034849    73.739   75.419333           0.0           -1.0         0.0\n",
      "2019-09-06       71.55        70.46   72.775028   73.587993    72.949   75.002667           0.0            0.0        -1.0\n",
      "2019-09-26       73.82        72.63   72.904065   72.796081    72.798   71.774000           1.0            1.0         0.0\n",
      "2019-09-27       76.70        76.00   73.466962   73.196571    73.335   72.143333           1.0            0.0         1.0\n",
      "2019-12-17      115.20       113.21  114.548289  114.793956   114.653  116.298000           0.0           -1.0         0.0\n",
      "2019-12-18      113.96       112.74  114.219509  114.537212   114.092  115.776667           0.0            0.0        -1.0\n",
      "2020-01-02      113.69       112.41  114.057871  114.288530   114.337  113.918667           1.0            1.0         0.0\n",
      "2020-01-03      110.74       112.65  113.801895  114.083714   114.328  114.006000           1.0            0.0         1.0\n",
      "2020-01-07      111.22       111.32  112.933830  113.400969   113.347  113.752000           0.0           -1.0         0.0\n",
      "2020-01-08      111.70       111.20  112.618588  113.125848   112.951  113.516667           0.0            0.0        -1.0\n",
      "2020-01-31      109.23       108.39  110.689350  110.869551   111.172  110.112667           1.0            1.0         0.0\n",
      "2020-02-03      108.51       108.68  110.324013  110.595857   111.140  109.862000           1.0            0.0         1.0\n",
      "2020-02-06      118.73       118.64  113.166871  112.531502   112.413  111.767333           0.0           -1.0         0.0\n",
      "2020-02-07      111.23       117.41  113.938349  113.141314   112.797  112.417333           0.0            0.0        -1.0\n",
      "2020-02-13      117.77       118.22  116.075821  115.057526   115.368  114.152667           1.0            1.0         0.0\n",
      "2020-02-14      118.40       118.07  116.438399  115.434085   116.336  114.452667           1.0            0.0         1.0\n",
      "2020-03-04      109.92       115.98  113.239174  113.726111   113.325  115.164667           0.0           -1.0         0.0\n",
      "2020-03-05      112.89       118.81  114.252051  114.361597   113.373  115.214000           0.0            0.0        -1.0\n",
      "2020-04-03      117.25       116.51  111.957720  110.444626   110.910  106.753333           1.0            1.0         0.0\n",
      "2020-04-06      121.66       124.47  114.232680  112.197798   113.430  108.668000           1.0            0.0         1.0\n",
      "2020-06-02      159.47       160.82  156.684056  155.807322   155.621  157.012667           0.0           -1.0         0.0\n",
      "2020-06-03      159.09       155.05  156.386955  155.712657   155.410  156.564667           0.0            0.0        -1.0\n",
      "2020-06-05      149.50       148.39  154.046804  154.219534   154.294  155.290667           1.0            1.0         0.0\n",
      "2020-06-08      146.55       150.86  153.467385  153.799592   153.803  154.659333           1.0            0.0         1.0\n",
      "2020-06-15      149.88       155.56  152.859139  153.115341   152.646  153.262667           0.0           -1.0         0.0\n",
      "2020-06-16      157.15       156.88  153.590205  153.585923   152.252  153.606000           0.0            0.0        -1.0\n",
      "2020-06-24      171.40       164.80  162.812758  160.709083   160.728  157.506667           1.0            1.0         0.0\n",
      "2020-06-25      165.18       167.86  163.730438  161.602948   162.659  158.668667           1.0            0.0         1.0\n",
      "\n"
     ]
    },
    {
     "data": {
      "image/png": "[encoded data removed]",
      "text/plain": [
       "<Figure size 1152x648 with 1 Axes>"
      ]
     },
     "metadata": {},
     "output_type": "display_data"
    }
   ],
   "source": [
    "# Display the details for the top model\n",
    "return_list = [ema_performance_summary.iloc[0]['return_value'], sma_performance_summary.iloc[0]['return_value'], \n",
    "               fast_ema_slow_sma_performance.iloc[0]['return_value'], fast_sma_slow_ema_performance.iloc[0]['return_value']]\n",
    "performance_list = [ema_performance_summary, sma_performance_summary, fast_ema_slow_sma_performance, fast_sma_slow_ema_performance]\n",
    "portfolio_list = [ema_portfolio_collection, sma_portfolio_collection, fast_ema_slow_sma_portfolios, fast_sma_slow_ema_portfolios]\n",
    "model_list = [ema_model_collection, sma_model_collection, fast_ema_slow_sma_models, fast_sma_slow_ema_models]\n",
    "fast_ma_list = ['fast_ema', 'fast_sma', 'fast_ema', 'fast_sma']\n",
    "slow_ma_list = ['slow_ema', 'slow_sma', 'slow_sma', 'slow_ema']\n",
    "top_model_return = max(return_list)\n",
    "top_model_index = return_list.index(top_model_return)\n",
    "top_model_name = performance_list[top_model_index].iloc[0]['model_name']\n",
    "display_signals_transactions(top_model_name, portfolio_list[top_model_index], model_list[top_model_index])\n",
    "print()\n",
    "draw_model_graphs(top_model_name, model_list[top_model_index][top_model_name], fast_ma_list[top_model_index], slow_ma_list[top_model_index])"
   ]
  },
  {
   "cell_type": "markdown",
   "metadata": {
    "colab_type": "text",
    "id": "xc_vWsaSTel4"
   },
   "source": [
    "## Task 5. Evaluate Performance"
   ]
  },
  {
   "cell_type": "code",
   "execution_count": 36,
   "metadata": {
    "colab": {
     "base_uri": "https://localhost:8080/",
     "height": 51
    },
    "colab_type": "code",
    "collapsed": false,
    "id": "YTyOJjYzTel7",
    "jupyter": {
     "outputs_hidden": false
    },
    "outputId": "8ab127f5-5316-4e3a-9908-75f18dd9a2b9",
    "pycharm": {
     "name": "#%%\n"
    }
   },
   "outputs": [
    {
     "name": "stdout",
     "output_type": "stream",
     "text": [
      "The best model found is: Mixed_003_FastSMA_010_SlowEMA_015\n",
      "The best profit/loss for the investing period is: $89.23\n"
     ]
    }
   ],
   "source": [
    "print('The best model found is:', top_model_name)\n",
    "print('The best profit/loss for the investing period is: $%.2f' % top_model_return)\n",
    "if initial_capital != 0:\n",
    "    print('The best return percentage for initial capital is: %.2f%%' % (top_model_return / initial_capital * 100))"
   ]
  },
  {
   "cell_type": "code",
   "execution_count": 37,
   "metadata": {
    "colab": {
     "base_uri": "https://localhost:8080/",
     "height": 34
    },
    "colab_type": "code",
    "id": "aTP_6WyfTemB",
    "outputId": "6cda4cc2-d890-47d5-9a63-43cffd21d72f"
   },
   "outputs": [
    {
     "name": "stdout",
     "output_type": "stream",
     "text": [
      "The performance of the long-only model from day one is: $115.69\n"
     ]
    }
   ],
   "source": [
    "# Calculate the stock's performance for a long-only model\n",
    "model_template = model_template[model_start_date:model_end_date]\n",
    "print('The performance of the long-only model from day one is: $%.2f' %(model_template.iloc[-1]['close_price'] - model_template.iloc[0]['open_price']))"
   ]
  },
  {
   "cell_type": "code",
   "execution_count": 38,
   "metadata": {
    "colab": {
     "base_uri": "https://localhost:8080/",
     "height": 34
    },
    "colab_type": "code",
    "collapsed": false,
    "id": "be1J2gmiTemG",
    "jupyter": {
     "outputs_hidden": false
    },
    "outputId": "28010a58-a8c1-43ae-d6ff-200fc13eb876",
    "pycharm": {
     "name": "#%%\n"
    }
   },
   "outputs": [
    {
     "name": "stdout",
     "output_type": "stream",
     "text": [
      "Total time for the script: 0:08:43.765390\n"
     ]
    }
   ],
   "source": [
    "print ('Total time for the script:',(datetime.now() - startTimeScript))"
   ]
  }
 ],
 "metadata": {
  "colab": {
   "collapsed_sections": [],
   "name": "py_algotrading_ema_crossover_grid_search.ipynb",
   "provenance": []
  },
  "kernelspec": {
   "display_name": "Python 3",
   "language": "python",
   "name": "python3"
  },
  "language_info": {
   "codemirror_mode": {
    "name": "ipython",
    "version": 3
   },
   "file_extension": ".py",
   "mimetype": "text/x-python",
   "name": "python",
   "nbconvert_exporter": "python",
   "pygments_lexer": "ipython3",
   "version": "3.7.6"
  }
 },
 "nbformat": 4,
 "nbformat_minor": 4
}
