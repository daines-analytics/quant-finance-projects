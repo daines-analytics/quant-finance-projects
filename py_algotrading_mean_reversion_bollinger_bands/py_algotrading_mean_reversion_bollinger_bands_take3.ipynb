{
 "cells": [
  {
   "cell_type": "markdown",
   "metadata": {
    "colab_type": "text",
    "id": "nn0Ld1RjTekC"
   },
   "source": [
    "# Algorithmic Trading Model for Mean-Reversion with Bollinger Bands Strategy Using Python Take 3\n",
    "### David Lowe\n",
    "### April 21, 2021\n",
    "\n",
    "NOTE: This script is for learning purposes only and does not constitute a recommendation for buying or selling any stock mentioned in this script.\n",
    "\n",
    "SUMMARY: This project aims to construct and test an algorithmic trading model and document the end-to-end steps using a template.\n",
    "\n",
    "INTRODUCTION: This algorithmic trading model examines a simple mean-reversion strategy for a stock. The model enters a position when the price reaches either the upper or lower Bollinger Bands for the last X number of days. The model will exit the trade when the stock price crosses the middle Bollinger Band of the same window size.\n",
    "\n",
    "In iteration Take1, we set up the models using a trend window size for long trades only. The window size varied from 10 to 50 trading days at a 5-day increment.\n",
    "\n",
    "In iteration Take2, we set up the models using a trend window size for long and short trades. The window size varied from 10 to 50 trading days at a 5-day increment.\n",
    "\n",
    "In this Take3 iteration, we will experiment with different Bollinger Band factors. The models will still use a trend window size for long trades only. The window size varied from 10 to 50 trading days at a 5-day increment.\n",
    "\n",
    "ANALYSIS: In iteration Take1, we analyzed the stock prices for Costco Wholesale (COST) between January 1, 2016, and April 9, 2021. The top trading model produced a profit of 105.59 dollars per share. The buy-and-hold approach yielded a gain of 201.10 dollars per share.\n",
    "\n",
    "In iteration Take2, we analyzed the stock prices for Costco Wholesale (COST) between January 1, 2016, and April 9, 2021. The top trading model produced a profit of 70.47 dollars per share. The buy-and-hold approach yielded a gain of 201.10 dollars per share.\n",
    "\n",
    "In this Take3 iteration, we analyzed the stock prices for Costco Wholesale (COST) between January 1, 2016, and April 9, 2021. The top trading model produced a profit of 143.20 dollars per share. The buy-and-hold approach yielded a gain of 201.10 dollars per share.\n",
    "\n",
    "CONCLUSION: For the stock of COST during the modeling time frame, the simple long trading strategy with variable Bollinger Band factors did not produce a better return than the buy-and-hold approach. We should consider modeling this stock further by experimenting with more variations of the strategy.\n",
    "\n",
    "Dataset ML Model: Time series analysis with numerical attributes\n",
    "\n",
    "Dataset Used: Quandl\n",
    "\n",
    "An algorithmic trading modeling project generally can be broken down into about five major tasks:\n",
    "\n",
    "1. Prepare Environment\n",
    "2. Acquire and Pre-Process Data\n",
    "3. Implement and Train Models\n",
    "4. Back-test Models\n",
    "5. Evaluate Strategy Performance"
   ]
  },
  {
   "cell_type": "markdown",
   "metadata": {
    "colab_type": "text",
    "id": "-DieEv9pTekE"
   },
   "source": [
    "## Task 1 - Prepare Environment"
   ]
  },
  {
   "cell_type": "code",
   "execution_count": 1,
   "metadata": {
    "collapsed": false,
    "jupyter": {
     "outputs_hidden": false
    },
    "pycharm": {
     "name": "#%%\n"
    }
   },
   "outputs": [],
   "source": [
    "# # Install the necessary packages for Colab\n",
    "# !pip install python-dotenv PyMySQL"
   ]
  },
  {
   "cell_type": "code",
   "execution_count": 2,
   "metadata": {
    "collapsed": false,
    "jupyter": {
     "outputs_hidden": false
    },
    "pycharm": {
     "name": "#%%\n"
    }
   },
   "outputs": [],
   "source": [
    "# # Retrieve the GPU information from Colab\n",
    "# gpu_info = !nvidia-smi\n",
    "# gpu_info = '\\n'.join(gpu_info)\n",
    "# if gpu_info.find('failed') >= 0:\n",
    "#     print('Select the Runtime → \"Change runtime type\" menu to enable a GPU accelerator, ')\n",
    "#     print('and then re-execute this cell.')\n",
    "# else:\n",
    "#     print(gpu_info)"
   ]
  },
  {
   "cell_type": "code",
   "execution_count": 3,
   "metadata": {
    "collapsed": false,
    "jupyter": {
     "outputs_hidden": false
    },
    "pycharm": {
     "name": "#%%\n"
    }
   },
   "outputs": [],
   "source": [
    "# # Retrieve the memory configuration from Colab\n",
    "# from psutil import virtual_memory\n",
    "# ram_gb = virtual_memory().total / 1e9\n",
    "# print('Your runtime has {:.1f} gigabytes of available RAM\\n'.format(ram_gb))\n",
    "#\n",
    "# if ram_gb < 20:\n",
    "#     print('To enable a high-RAM runtime, select the Runtime → \"Change runtime type\"')\n",
    "#     print('menu, and then select High-RAM in the Runtime shape dropdown. Then, ')\n",
    "#     print('re-execute this cell.')\n",
    "# else:\n",
    "#     print('You are using a high-RAM runtime!')"
   ]
  },
  {
   "cell_type": "code",
   "execution_count": 4,
   "metadata": {
    "collapsed": false,
    "jupyter": {
     "outputs_hidden": false
    },
    "pycharm": {
     "name": "#%%\n"
    }
   },
   "outputs": [],
   "source": [
    "# # Retrieve the CPU information\n",
    "# ncpu = !nproc\n",
    "# print(\"The number of available CPUs is:\", ncpu[0])"
   ]
  },
  {
   "cell_type": "markdown",
   "metadata": {
    "pycharm": {
     "name": "#%% md\n"
    }
   },
   "source": [
    "### 1.a) Load libraries and modules"
   ]
  },
  {
   "cell_type": "code",
   "execution_count": 5,
   "metadata": {
    "colab": {},
    "colab_type": "code",
    "collapsed": false,
    "id": "8IwyGxxuTekE",
    "jupyter": {
     "outputs_hidden": false
    },
    "pycharm": {
     "name": "#%%\n"
    }
   },
   "outputs": [],
   "source": [
    "import pandas as pd\n",
    "import matplotlib.pyplot as plt\n",
    "import os\n",
    "import sys\n",
    "from datetime import date, datetime, timedelta\n",
    "import requests\n",
    "import json\n",
    "from dotenv import load_dotenv\n",
    "# import pandas_datareader.data as pdr\n",
    "\n",
    "# Begin the timer for the script processing\n",
    "startTimeScript = datetime.now()"
   ]
  },
  {
   "cell_type": "markdown",
   "metadata": {
    "pycharm": {
     "name": "#%% md\n"
    }
   },
   "source": [
    "### 1.b) Set up the controlling parameters and functions¶"
   ]
  },
  {
   "cell_type": "code",
   "execution_count": 6,
   "metadata": {
    "colab": {
     "base_uri": "https://localhost:8080/",
     "height": 51
    },
    "colab_type": "code",
    "collapsed": false,
    "id": "Zagik25QTekS",
    "jupyter": {
     "outputs_hidden": false
    },
    "outputId": "d14332ba-63ec-4224-ca13-c4ecdab3541a",
    "pycharm": {
     "name": "#%%\n"
    }
   },
   "outputs": [
    {
     "name": "stdout",
     "output_type": "stream",
     "text": [
      "Starting date for the model: 2016-01-01\n",
      "Ending date for the model: 2021-04-09\n",
      "First date of data we need for modeling: 2015-09-23\n",
      "Last date of data we need for modeling: 2021-04-09\n"
     ]
    }
   ],
   "source": [
    "# Specify the key modeling parameters below\n",
    "STOCK_SYMBOL = 'COST'\n",
    "INITIAL_CAPITAL = 0\n",
    "\n",
    "# Specify the moving average parameters for the trading strategy\n",
    "WINDOW_MIN = 10\n",
    "WINDOW_MAX = 50\n",
    "WINDOW_INCREMENT = 5\n",
    "VOL_MA_MIN = 10\n",
    "VOL_MA_MAX = 10\n",
    "VOL_MA_INCREMENT = 10\n",
    "HOLDING_MIN = 999\n",
    "HOLDING_MAX = 999\n",
    "HOLDING_INCREMENT = 10\n",
    "BBANDS_MAX = 30\n",
    "BBANDS_MIN = 10\n",
    "BBANDS_INCREMENT = 5\n",
    "GAIN_MAX = 0.99\n",
    "LOSS_MAX = 0.99\n",
    "\n",
    "MEAN_REVERSION = True\n",
    "TREND_FOLLOWING = False\n",
    "if MEAN_REVERSION and TREND_FOLLOWING: sys.exit(\"Cannot have both MEAN_REVERSION and TREND_FOLLOWING flags be set to True. Script Processing Aborted!!!\")\n",
    "\n",
    "LONG_ONLY = True\n",
    "SHORT_ONLY = False\n",
    "if LONG_ONLY and SHORT_ONLY: sys.exit(\"Cannot have both LONG_ONLY and SHORT_LONG flags be set to True. Script Processing Aborted!!!\")\n",
    "\n",
    "# The number of extra days of data we need for calculating moving averages (usually equals to the largest value of slow MA)\n",
    "EXTRA_DAYS = WINDOW_MAX\n",
    "# EXTRA_DAYS = SLOW_MA_MAX\n",
    "\n",
    "MODEL_START_DATE = date(2016, 1, 1)\n",
    "print(\"Starting date for the model:\", MODEL_START_DATE)\n",
    "\n",
    "# MODEL_END_DATE = datetime.now().date()\n",
    "MODEL_END_DATE = date(2021, 4, 9)\n",
    "print(\"Ending date for the model:\", MODEL_END_DATE)\n",
    "\n",
    "# data_start_date = MODEL_START_DATE\n",
    "data_start_date = MODEL_START_DATE - timedelta(days=int(EXTRA_DAYS * 2)) # Need more pricing data to calculate moving averages\n",
    "print(\"First date of data we need for modeling:\", data_start_date)\n",
    "\n",
    "data_end_date = MODEL_END_DATE\n",
    "print(\"Last date of data we need for modeling:\", data_end_date)"
   ]
  },
  {
   "cell_type": "code",
   "execution_count": 7,
   "metadata": {
    "colab": {
     "base_uri": "https://localhost:8080/",
     "height": 34
    },
    "colab_type": "code",
    "collapsed": false,
    "id": "aTI50KL9TekN",
    "jupyter": {
     "outputs_hidden": false
    },
    "outputId": "68f4a687-6e33-48e5-ef46-c23d7994bc3e",
    "pycharm": {
     "name": "#%%\n"
    }
   },
   "outputs": [],
   "source": [
    "# Specify the script running parameters below\n",
    "\n",
    "# Set Pandas options\n",
    "pd.set_option(\"display.max_rows\", None)\n",
    "pd.set_option(\"display.max_columns\", None)\n",
    "pd.set_option(\"display.width\", 384)\n",
    "\n",
    "# Configure the plotting style\n",
    "plt.style.use('seaborn')\n",
    "\n",
    "# Set up the verbose flag to print detailed messages for debugging (setting True will activate!)\n",
    "verbose_signals = False\n",
    "verbose_models = False\n",
    "verbose_graphs = False\n",
    "verbose_trade_actions = False\n",
    "verbose_portfolios = False\n",
    "verbose_transactions = False\n",
    "verbose_positions = False"
   ]
  },
  {
   "cell_type": "code",
   "execution_count": 8,
   "metadata": {
    "collapsed": false,
    "jupyter": {
     "outputs_hidden": false
    },
    "pycharm": {
     "name": "#%%\n"
    }
   },
   "outputs": [
    {
     "data": {
      "text/plain": "True"
     },
     "execution_count": 8,
     "metadata": {},
     "output_type": "execute_result"
    }
   ],
   "source": [
    "# Set up the parent directory location for loading the dotenv files\n",
    "\n",
    "# Mount Google Drive locally for storing files\n",
    "# from google.colab import drive\n",
    "# drive.mount('/content/gdrive')\n",
    "# gdrivePrefix = '/content/gdrive/My Drive/Colab_Downloads/'\n",
    "# env_path = '/content/gdrive/My Drive/Colab Notebooks/'\n",
    "# dotenv_path = env_path + \"python_script.env\"\n",
    "# load_dotenv(dotenv_path=dotenv_path)\n",
    "\n",
    "# Set up access to the dotenv file on local PC\n",
    "env_path = \"/Users/david/PycharmProjects/\"\n",
    "dotenv_path = env_path + \"python_script.env\"\n",
    "load_dotenv(dotenv_path=dotenv_path)"
   ]
  },
  {
   "cell_type": "markdown",
   "metadata": {
    "colab_type": "text",
    "id": "Xa51FMY_TekZ"
   },
   "source": [
    "## Task 2 - Acquire and Pre-Process Data"
   ]
  },
  {
   "cell_type": "code",
   "execution_count": 9,
   "metadata": {
    "colab": {},
    "colab_type": "code",
    "collapsed": false,
    "id": "Og9L0byuTekd",
    "jupyter": {
     "outputs_hidden": false
    },
    "pycharm": {
     "name": "#%%\n"
    }
   },
   "outputs": [
    {
     "name": "stdout",
     "output_type": "stream",
     "text": [
      "1396 data points retrieved from the API call.\n"
     ]
    }
   ],
   "source": [
    "# Set up the data service provider and data acquisition parameters\n",
    "data_service = 'Quandl'\n",
    "\n",
    "# Check and see whether the API key is available\n",
    "api_key = os.environ.get('QUANDL_API')\n",
    "if api_key is None: sys.exit(\"API key for Quandl not available. Script Processing Aborted!!!\")\n",
    "\n",
    "start_date_string = data_start_date.strftime('%Y-%m-%d')\n",
    "end_date_string = data_end_date.strftime('%Y-%m-%d')\n",
    "api_url = \"https://www.quandl.com/api/v3/datatables/SHARADAR/SEP.json?date.gte=%s&date.lte=%s&ticker=%s&api_key=%s&qopts.data_version=2\" % (start_date_string, end_date_string, STOCK_SYMBOL, api_key)\n",
    "response = requests.get(api_url)\n",
    "resp_dict = json.loads(response.text)\n",
    "stock_rawdata = pd.DataFrame(resp_dict['datatable']['data'])\n",
    "print(len(stock_rawdata), 'data points retrieved from the API call.')"
   ]
  },
  {
   "cell_type": "code",
   "execution_count": 10,
   "metadata": {},
   "outputs": [
    {
     "name": "stdout",
     "output_type": "stream",
     "text": [
      "           ticker        date    open     high     low   close     volume  closeadj  closeunadj lastupdated\n",
      "date                                                                                                       \n",
      "2015-09-23   COST  2015-09-23  143.46  145.630  142.65  145.43  2310212.0   128.808      145.43  2021-02-04\n",
      "2015-09-24   COST  2015-09-24  144.37  145.420  143.65  144.87  1974868.0   128.312      144.87  2021-02-04\n",
      "2015-09-25   COST  2015-09-25  145.95  146.900  145.01  145.55  1845691.0   128.914      145.55  2021-02-04\n",
      "2015-09-28   COST  2015-09-28  145.39  145.800  143.29  143.55  2506451.0   127.143      143.55  2021-02-04\n",
      "2015-09-29   COST  2015-09-29  143.04  144.135  142.25  143.72  2513094.0   127.294      143.72  2021-02-04\n",
      "\n",
      "           ticker        date     open    high      low   close     volume  closeadj  closeunadj lastupdated\n",
      "date                                                                                                        \n",
      "2021-04-05   COST  2021-04-05  357.500  362.67  356.838  360.82  2696265.0    360.82      360.82  2021-04-05\n",
      "2021-04-06   COST  2021-04-06  359.800  362.80  359.000  360.12  2142011.0    360.12      360.12  2021-04-06\n",
      "2021-04-07   COST  2021-04-07  360.866  361.46  357.610  358.81  1808369.0    358.81      358.81  2021-04-08\n",
      "2021-04-08   COST  2021-04-08  362.800  366.02  359.600  361.22  2839157.0    361.22      361.22  2021-04-08\n",
      "2021-04-09   COST  2021-04-09  360.910  363.71  359.595  363.21  1610750.0    363.21      363.21  2021-04-09\n"
     ]
    }
   ],
   "source": [
    "stock_rawdata.columns = ['ticker', 'date', 'open', 'high', 'low', 'close', 'volume', 'closeadj', 'closeunadj', 'lastupdated']\n",
    "# stock_rawdata.set_index('date', inplace=True)\n",
    "stock_rawdata.index = pd.to_datetime(stock_rawdata.date)\n",
    "stock_pricing = stock_rawdata.sort_index(ascending=True)\n",
    "print(stock_pricing.head())\n",
    "print()\n",
    "print(stock_pricing.tail())"
   ]
  },
  {
   "cell_type": "code",
   "execution_count": 11,
   "metadata": {
    "colab": {
     "base_uri": "https://localhost:8080/",
     "height": 535
    },
    "colab_type": "code",
    "collapsed": false,
    "id": "Tfuu40coTekv",
    "jupyter": {
     "outputs_hidden": false
    },
    "outputId": "2357753d-6c83-46ad-e8cc-8593497d20ff",
    "pycharm": {
     "name": "#%%\n"
    }
   },
   "outputs": [
    {
     "data": {
      "text/plain": "<Figure size 1152x648 with 1 Axes>",
      "image/png": "[encoded data removed]"
     },
     "metadata": {},
     "output_type": "display_data"
    }
   ],
   "source": [
    "# Set up the standard column name for modeling\n",
    "# Column names may be data-provider specific!\n",
    "MODEL_TEMPLATE = stock_pricing.loc[:, ['open','closeadj','volume']]\n",
    "MODEL_TEMPLATE.rename(columns={'open': 'open_price', 'closeadj': 'close_price', 'volume': 'trading_volume'}, inplace=True)\n",
    "plot_title = 'Historical Stock Close Price for ' + STOCK_SYMBOL + ' from ' + data_service\n",
    "MODEL_TEMPLATE['close_price'].plot(figsize=(16,9), title=plot_title)\n",
    "plt.show()"
   ]
  },
  {
   "cell_type": "markdown",
   "metadata": {
    "colab_type": "text",
    "id": "UKNJYDlGTek0"
   },
   "source": [
    "## Task 3 - Implement and Train Models"
   ]
  },
  {
   "cell_type": "code",
   "execution_count": 12,
   "metadata": {
    "colab": {},
    "colab_type": "code",
    "collapsed": false,
    "id": "yfQTRXPnTelA",
    "jupyter": {
     "outputs_hidden": false
    },
    "pycharm": {
     "name": "#%%\n"
    }
   },
   "outputs": [],
   "source": [
    "# Define the function that will generate the indicators and trading signals\n",
    "# General logic for processing the trading signals for each time period\n",
    "# 1 - Check to see whether we need to execute a trading action from the previous day's signal. Once the trading action is executed, move on to the next day.\n",
    "# 2 - If no trade actions to execute on open, check to see whether we have any breakout that generates a trading signal. If we have a new trading signal and currently has no position, mark the entry action for the next day.\n",
    "# 3 - If no new signal for today, check to see whether we need to exit any existing position. If we have an exit signal and currently hold a position, mark the exit action for the next day.\n",
    "# 4 - If nothing is going on, mark up the trading model appropriately and move to the next day.\n",
    "\n",
    "def populate_signals(window=WINDOW_MIN, bbands_factor=BBANDS_MIN, vol_ma=VOL_MA_MIN, max_holding=HOLDING_MAX):\n",
    "\n",
    "    trade_model = MODEL_TEMPLATE.copy()\n",
    "    trade_model['buy_on_open'] = False\n",
    "    trade_model['sell_on_open'] = False\n",
    "    trade_model['short_on_open'] = False\n",
    "    trade_model['cover_on_open'] = False\n",
    "    trade_model['holding_period'] = None\n",
    "    trade_model['cost_basis'] = None\n",
    "    trade_model['pandl_pct'] = None\n",
    "    trade_model['position_long'] = None\n",
    "    trade_model['position_short'] = None\n",
    "    trade_model['band_std'] = trade_model['close_price'].shift(1).rolling(window=window).std()\n",
    "    trade_model['band_middle'] = trade_model['close_price'].shift(1).rolling(window=window).mean()\n",
    "    trade_model['band_upper'] = trade_model['band_middle'] + (trade_model['band_std'] * bbands_factor / 10)\n",
    "    trade_model['band_lower'] = trade_model['band_middle'] - (trade_model['band_std'] * bbands_factor / 10)\n",
    "    trade_model['volume_ma'] = trade_model['trading_volume'].rolling(vol_ma).mean()\n",
    "\n",
    "    # Truncate the model to the required starting and ending dates\n",
    "    trade_model = trade_model[MODEL_START_DATE:MODEL_END_DATE]\n",
    "    last_index = len(trade_model) - 1\n",
    "\n",
    "    for k in range(len(trade_model)):\n",
    "        # Calculate the magnitude of breakout. Positive value means breaking out towards a direction\n",
    "        price_today = trade_model.at[trade_model.index[k],'close_price']\n",
    "        price_high =  trade_model.at[trade_model.index[k],'band_upper']\n",
    "        price_low = trade_model.at[trade_model.index[k],'band_lower']\n",
    "        price_avg = trade_model.at[trade_model.index[k],'band_middle']\n",
    "        if MEAN_REVERSION:\n",
    "            breakout_long_side = price_today < price_low\n",
    "            breakout_short_side = price_today > price_high\n",
    "        else:\n",
    "            breakout_long_side = price_today > price_high\n",
    "            breakout_short_side = price_today < price_low\n",
    "        volume_today = trade_model.at[trade_model.index[k],'trading_volume']\n",
    "        volume_avg = trade_model.at[trade_model.index[k],'volume_ma']\n",
    "        close_above_avg = price_today > price_avg\n",
    "        close_below_avg = price_today < price_avg\n",
    "        if k == 0:\n",
    "            currently_long = False\n",
    "            currently_short = False\n",
    "            holding_period = 0\n",
    "            cost_basis = 0\n",
    "        else:\n",
    "            currently_long = trade_model.at[trade_model.index[k-1],'position_long']\n",
    "            currently_short = trade_model.at[trade_model.index[k-1],'position_short']\n",
    "            holding_period = trade_model.at[trade_model.index[k-1],'holding_period']\n",
    "            cost_basis = trade_model.at[trade_model.index[k-1],'cost_basis']\n",
    "\n",
    "        trade_executed_today = False\n",
    "\n",
    "        # Check to see whether we need to execute any trade action on open\n",
    "        if trade_model.at[trade_model.index[k],'buy_on_open']:\n",
    "            trade_executed_today = True\n",
    "            currently_long = True\n",
    "            currently_short = False\n",
    "            holding_period = 1\n",
    "            cost_basis = -trade_model.at[trade_model.index[k],'open_price']\n",
    "        elif trade_model.at[trade_model.index[k],'short_on_open']:\n",
    "            trade_executed_today = True\n",
    "            currently_long = False\n",
    "            currently_short = True\n",
    "            holding_period = 1\n",
    "            cost_basis = trade_model.at[trade_model.index[k],'open_price']\n",
    "        elif trade_model.at[trade_model.index[k],'sell_on_open']:\n",
    "            trade_executed_today = True\n",
    "            currently_long = False\n",
    "            currently_short = False\n",
    "            holding_period = 0\n",
    "            cost_basis = 0.0\n",
    "        elif trade_model.at[trade_model.index[k],'cover_on_open']:\n",
    "            trade_executed_today = True\n",
    "            currently_long = False\n",
    "            currently_short = False\n",
    "            holding_period = 0\n",
    "            cost_basis = 0.0\n",
    "        else:\n",
    "            # If no trade on open, check to see whether we have a breakout with an entry the next day\n",
    "            if (breakout_long_side > 0) and (not currently_long) and (not currently_short) and (volume_today > volume_avg) and (k < last_index-1) and (not SHORT_ONLY):\n",
    "                trade_model.at[trade_model.index[k+1],'buy_on_open'] = True\n",
    "            elif (breakout_short_side > 0) and (not currently_long) and (not currently_short) and (volume_today > volume_avg) and (k < last_index-1) and (not LONG_ONLY):\n",
    "                trade_model.at[trade_model.index[k+1],'short_on_open'] = True\n",
    "            else:\n",
    "                # If no breakout, check to see whether we need to exit an existing position the next day\n",
    "                if currently_short and (k < last_index-1):\n",
    "                    if (MEAN_REVERSION and close_below_avg) or (TREND_FOLLOWING and close_above_avg) or (holding_period+1 >= max_holding):\n",
    "                        trade_model.at[trade_model.index[k+1],'cover_on_open'] = True\n",
    "                elif currently_long and (k < last_index-1):\n",
    "                    if (MEAN_REVERSION and close_above_avg) or (TREND_FOLLOWING and close_below_avg) or (holding_period+1 >= max_holding):\n",
    "                        trade_model.at[trade_model.index[k+1],'sell_on_open'] = True\n",
    "\n",
    "        # If no action on a given day, carry over the position status\n",
    "        if (k > 0) and (not trade_executed_today):\n",
    "            if currently_long or currently_short:\n",
    "                holding_period = holding_period + 1\n",
    "\n",
    "        trade_model.at[trade_model.index[k],'position_long'] = currently_long\n",
    "        trade_model.at[trade_model.index[k],'position_short'] = currently_short\n",
    "        trade_model.at[trade_model.index[k],'holding_period'] = holding_period\n",
    "        trade_model.at[trade_model.index[k],'cost_basis'] = cost_basis\n",
    "\n",
    "        # Check to see whether the profit or loss target has been met for exiting the position\n",
    "        if currently_long :\n",
    "            pandl_pct = (cost_basis + price_today) / abs(cost_basis)\n",
    "            trade_model.at[trade_model.index[k],'pandl_pct'] = pandl_pct\n",
    "            if (pandl_pct >= GAIN_MAX) or (pandl_pct <= -LOSS_MAX) :\n",
    "                trade_model.at[trade_model.index[k+1],'sell_on_open'] = True\n",
    "        elif currently_short :\n",
    "            pandl_pct = (cost_basis - price_today) / abs(cost_basis)\n",
    "            trade_model.at[trade_model.index[k],'pandl_pct'] = pandl_pct\n",
    "            if (pandl_pct >= GAIN_MAX) or (pandl_pct <= -LOSS_MAX) :\n",
    "                trade_model.at[trade_model.index[k+1],'cover_on_open'] = True\n",
    "        else:\n",
    "            trade_model.at[trade_model.index[k],'pandl_pct'] = 0.0\n",
    "\n",
    "        # # Exiting the position on the last day of modeling period\n",
    "        # if k == last_index-1:\n",
    "        #     if trade_model.at[trade_model.index[k],'position_long']:\n",
    "        #         trade_model.at[trade_model.index[k+1],'sell_on_open'] = True\n",
    "        #         trade_model.at[trade_model.index[k+1],'position_long'] = False\n",
    "        #     elif trade_model.at[trade_model.index[k],'position_short']:\n",
    "        #         trade_model.at[trade_model.index[k+1],'cover_on_open'] = True\n",
    "        #         trade_model.at[trade_model.index[k+1],'position_short'] = False\n",
    "\n",
    "    if verbose_signals: print(trade_model, '\\n')\n",
    "    return trade_model"
   ]
  },
  {
   "cell_type": "code",
   "execution_count": 13,
   "metadata": {
    "collapsed": false,
    "jupyter": {
     "outputs_hidden": false
    },
    "pycharm": {
     "name": "#%%\n"
    }
   },
   "outputs": [
    {
     "name": "stdout",
     "output_type": "stream",
     "text": [
      "45 trading models generated!\n"
     ]
    }
   ],
   "source": [
    "# Build the collection of trading models by iterating through the parameters\n",
    "trading_model_collection = {}\n",
    "serial_no = 0\n",
    "for window_size in range(WINDOW_MIN, WINDOW_MAX+1, WINDOW_INCREMENT):\n",
    "    for band_factor in range(BBANDS_MIN, BBANDS_MAX+1, BBANDS_INCREMENT):\n",
    "        for vol_average in range(VOL_MA_MIN, VOL_MA_MAX+1, VOL_MA_INCREMENT):\n",
    "            for hold_period in range(HOLDING_MIN, HOLDING_MAX+1, HOLDING_INCREMENT):\n",
    "                serial_no += 1\n",
    "                model_tag = 'Model_' + str(serial_no).zfill(3) + '_WINDOW_' + str(window_size).zfill(3) + '_BBFACTOR_' + str(band_factor).zfill(2) + '_VOLMA_' + str(vol_average).zfill(3) + '_HOLD_' + str(hold_period).zfill(3)\n",
    "                if verbose_signals: print('Processing model:', model_tag)\n",
    "                trading_model = populate_signals(window_size, band_factor, vol_average, hold_period)\n",
    "                trading_model_collection[model_tag] = trading_model.copy()\n",
    "print(len(trading_model_collection), 'trading models generated!')"
   ]
  },
  {
   "cell_type": "code",
   "execution_count": 14,
   "metadata": {
    "colab": {
     "base_uri": "https://localhost:8080/",
     "height": 1000
    },
    "colab_type": "code",
    "collapsed": false,
    "id": "327CZKmtTelL",
    "jupyter": {
     "outputs_hidden": false
    },
    "outputId": "b353b49d-0281-4aa7-a530-6747c166eae5",
    "pycharm": {
     "name": "#%%\n"
    }
   },
   "outputs": [],
   "source": [
    "# List the entry/exit points for each model\n",
    "def list_model_entry_exit(trade_model):\n",
    "    print(trade_model[trade_model['buy_on_open'] | trade_model['sell_on_open'] | trade_model['short_on_open'] | trade_model['cover_on_open']])"
   ]
  },
  {
   "cell_type": "code",
   "execution_count": 15,
   "metadata": {
    "collapsed": false,
    "jupyter": {
     "outputs_hidden": false
    },
    "pycharm": {
     "name": "#%%\n"
    }
   },
   "outputs": [],
   "source": [
    "if verbose_models:\n",
    "    for model_name in trading_model_collection:\n",
    "        print('List the signal changes and entry/exit points for model:', model_name)\n",
    "        list_model_entry_exit(trading_model_collection[model_name])\n",
    "        print()"
   ]
  },
  {
   "cell_type": "code",
   "execution_count": 16,
   "metadata": {
    "collapsed": false,
    "jupyter": {
     "outputs_hidden": false
    },
    "pycharm": {
     "name": "#%%\n"
    }
   },
   "outputs": [],
   "source": [
    "def draw_model_graph(trade_model, mdl_name=STOCK_SYMBOL):\n",
    "    graph_data = trade_model.copy()\n",
    "    title_string = 'Simple Mean-Reversion Trading Model for ' + mdl_name\n",
    "    fig = plt.figure(figsize=(16,9))\n",
    "    ylabel = STOCK_SYMBOL + ' price in $'\n",
    "    ax1 = fig.add_subplot(111, ylabel=ylabel, title=title_string)\n",
    "    graph_data['close_price'].plot(ax=ax1, color='g')\n",
    "    graph_data['band_upper'].plot(ax=ax1, color='b')\n",
    "    graph_data['band_lower'].plot(ax=ax1, color='r')\n",
    "    graph_data['band_middle'].plot(ax=ax1, color='k')\n",
    "    ax1.plot(graph_data.loc[graph_data['buy_on_open']].index, graph_data.close_price[graph_data['buy_on_open']], '^', markersize=7, color='b',label='Buy on Open')\n",
    "    ax1.plot(graph_data.loc[graph_data['sell_on_open']].index, graph_data.close_price[graph_data['sell_on_open']], 'v', markersize=7, color='b',label='Sell on Open')\n",
    "    ax1.plot(graph_data.loc[graph_data['short_on_open']].index, graph_data.close_price[graph_data['short_on_open']], '^', markersize=7, color='r',label='Short on Open')\n",
    "    ax1.plot(graph_data.loc[graph_data['cover_on_open']].index, graph_data.close_price[graph_data['cover_on_open']], 'v', markersize=7, color='r',label='Cover on Open')\n",
    "    plt.legend(loc='upper left')\n",
    "    plt.show()"
   ]
  },
  {
   "cell_type": "code",
   "execution_count": 17,
   "metadata": {
    "collapsed": false,
    "jupyter": {
     "outputs_hidden": false
    },
    "pycharm": {
     "name": "#%%\n"
    }
   },
   "outputs": [],
   "source": [
    "if verbose_graphs:\n",
    "    for model_name in trading_model_collection:\n",
    "        draw_model_graph(trading_model_collection[model_name], model_name)"
   ]
  },
  {
   "cell_type": "markdown",
   "metadata": {
    "colab_type": "text",
    "id": "wzTQaZkeTeld"
   },
   "source": [
    "## Task 4 - Back-test Models"
   ]
  },
  {
   "cell_type": "code",
   "execution_count": 18,
   "metadata": {
    "collapsed": false,
    "jupyter": {
     "outputs_hidden": false
    },
    "pycharm": {
     "name": "#%%\n"
    }
   },
   "outputs": [],
   "source": [
    "def generate_trading_portfolios(trade_model):\n",
    "    # Construct a portfolio to track the transactions and returns\n",
    "    portfolio = pd.DataFrame(index=trade_model.index, columns=['trade_action', 'price_executed', 'qty_transacted', 'cost_basis', 'gain_loss', 'qty_on_hand', 'cash_on_hand', 'position_value', 'total_position', 'accum_return'])\n",
    "    portfolio['trade_action'] = False\n",
    "    portfolio.at[portfolio.index[0],'price_executed'] = 0.00\n",
    "    portfolio.at[portfolio.index[0],'qty_transacted'] = 0\n",
    "    portfolio.at[portfolio.index[0],'cost_basis'] = 0.00\n",
    "    portfolio.at[portfolio.index[0],'gain_loss'] = 0.00\n",
    "    portfolio.at[portfolio.index[0],'qty_on_hand'] = 0\n",
    "    portfolio.at[portfolio.index[0],'cash_on_hand'] = INITIAL_CAPITAL\n",
    "    portfolio.at[portfolio.index[0],'position_value'] = 0.00\n",
    "    portfolio.at[portfolio.index[0],'total_position'] = INITIAL_CAPITAL\n",
    "    portfolio.at[portfolio.index[0],'accum_return'] = 0.00\n",
    "    quantity = 1\n",
    "\n",
    "    # The conditional parameters below determine how the trading strategy will be carried out\n",
    "    for i in range(1, len(portfolio)):\n",
    "        price_per_share = trade_model.at[trade_model.index[i],'open_price']\n",
    "        if trade_model.at[trade_model.index[i],'buy_on_open']:\n",
    "            # Code block for Buy on Open\n",
    "            portfolio.at[portfolio.index[i],'trade_action'] = True\n",
    "            portfolio.at[portfolio.index[i],'price_executed'] = price_per_share\n",
    "            portfolio.at[portfolio.index[i],'qty_transacted'] = quantity\n",
    "            recent_cost = price_per_share * -quantity\n",
    "            portfolio.at[portfolio.index[i],'cost_basis'] = recent_cost\n",
    "            portfolio.at[portfolio.index[i],'gain_loss'] = 0.00\n",
    "            portfolio.at[portfolio.index[i],'qty_on_hand'] = portfolio.iloc[i-1]['qty_on_hand'] + quantity\n",
    "            portfolio.at[portfolio.index[i],'cash_on_hand'] = portfolio.iloc[i-1]['cash_on_hand'] + recent_cost\n",
    "            if verbose_trade_actions: print('BOUGHT QTY:', quantity, 'on', portfolio.index[i].date(), 'at the price of', price_per_share)\n",
    "        elif trade_model.at[trade_model.index[i],'sell_on_open']:\n",
    "            # Code block for Sell on Open\n",
    "            portfolio.at[portfolio.index[i],'trade_action'] = True\n",
    "            portfolio.at[portfolio.index[i],'price_executed'] = price_per_share\n",
    "            portfolio.at[portfolio.index[i],'qty_transacted'] = -quantity\n",
    "            recent_cost = 0.00\n",
    "            portfolio.at[portfolio.index[i],'cost_basis'] = recent_cost\n",
    "            portfolio.at[portfolio.index[i],'gain_loss'] = (price_per_share * quantity) + portfolio.iloc[i-1]['cost_basis']\n",
    "            portfolio.at[portfolio.index[i],'qty_on_hand'] = portfolio.iloc[i-1]['qty_on_hand'] - quantity\n",
    "            portfolio.at[portfolio.index[i],'cash_on_hand'] = portfolio.iloc[i-1]['cash_on_hand'] + (price_per_share * quantity)\n",
    "            if verbose_trade_actions: print('SOLD QTY:', quantity, 'on', portfolio.index[i].date(), 'at the price of', price_per_share)\n",
    "        elif trade_model.at[trade_model.index[i],'short_on_open']:\n",
    "            # Code block for Short on Open\n",
    "            portfolio.at[portfolio.index[i],'trade_action'] = True\n",
    "            portfolio.at[portfolio.index[i],'price_executed'] = price_per_share\n",
    "            portfolio.at[portfolio.index[i],'qty_transacted'] = -quantity\n",
    "            recent_cost = price_per_share * quantity\n",
    "            portfolio.at[portfolio.index[i],'cost_basis'] = recent_cost\n",
    "            portfolio.at[portfolio.index[i],'gain_loss'] = 0.00\n",
    "            portfolio.at[portfolio.index[i],'qty_on_hand'] = portfolio.iloc[i-1]['qty_on_hand'] - quantity\n",
    "            portfolio.at[portfolio.index[i],'cash_on_hand'] = portfolio.iloc[i-1]['cash_on_hand'] + recent_cost\n",
    "            if verbose_trade_actions: print('SHORTED QTY:', -quantity, 'on', portfolio.index[i].date(), 'at the price of', trade_model.at[portfolio.index[i],'open_price'])\n",
    "        elif trade_model.at[trade_model.index[i],'cover_on_open']:\n",
    "            # Code block for Cover on Open\n",
    "            portfolio.at[portfolio.index[i],'trade_action'] = True\n",
    "            portfolio.at[portfolio.index[i],'price_executed'] = price_per_share\n",
    "            portfolio.at[portfolio.index[i],'qty_transacted'] = quantity\n",
    "            recent_cost = 0.00\n",
    "            portfolio.at[portfolio.index[i],'cost_basis'] = recent_cost\n",
    "            portfolio.at[portfolio.index[i],'gain_loss'] = portfolio.iloc[i-1]['cost_basis'] - (price_per_share * quantity)\n",
    "            portfolio.at[portfolio.index[i],'qty_on_hand'] = portfolio.iloc[i-1]['qty_on_hand'] + quantity\n",
    "            portfolio.at[portfolio.index[i],'cash_on_hand'] = portfolio.iloc[i-1]['cash_on_hand'] - (price_per_share * quantity)\n",
    "            if verbose_trade_actions: print('COVERED QTY:', quantity, 'on', portfolio.index[i].date(), 'at the price of', trade_model.at[portfolio.index[i],'open_price'])\n",
    "        else:\n",
    "            # Code block for no trade actions\n",
    "            portfolio.at[portfolio.index[i],'price_executed'] = 0.00\n",
    "            portfolio.at[portfolio.index[i],'qty_transacted'] = 0\n",
    "            portfolio.at[portfolio.index[i],'cost_basis'] = portfolio.iloc[i-1]['cost_basis']\n",
    "            portfolio.at[portfolio.index[i],'gain_loss'] = 0.00\n",
    "            portfolio.at[portfolio.index[i],'qty_on_hand'] = portfolio.iloc[i-1]['qty_on_hand']\n",
    "            portfolio.at[portfolio.index[i],'cash_on_hand'] = portfolio.iloc[i-1]['cash_on_hand']\n",
    "        portfolio.at[portfolio.index[i],'position_value'] = trade_model.at[trade_model.index[i],'close_price'] * portfolio.at[portfolio.index[i],'qty_on_hand']\n",
    "        portfolio.at[portfolio.index[i],'total_position'] = portfolio.at[portfolio.index[i],'cash_on_hand'] + portfolio.at[portfolio.index[i],'position_value']\n",
    "        portfolio.at[portfolio.index[i],'accum_return'] = portfolio.at[portfolio.index[i],'total_position'] - INITIAL_CAPITAL\n",
    "\n",
    "    if verbose_portfolios: print('\\n', portfolio, '\\n')\n",
    "    return portfolio"
   ]
  },
  {
   "cell_type": "code",
   "execution_count": 19,
   "metadata": {
    "colab": {
     "base_uri": "https://localhost:8080/",
     "height": 1000
    },
    "colab_type": "code",
    "collapsed": false,
    "id": "mOsqVrfRTelw",
    "jupyter": {
     "outputs_hidden": false
    },
    "outputId": "17950f55-4566-48b2-dde6-0974c6e45966",
    "pycharm": {
     "name": "#%%\n"
    }
   },
   "outputs": [],
   "source": [
    "def calculate_positions_and_performance(trade_model):\n",
    "    trade_positions = generate_trading_portfolios(trade_model)\n",
    "    trade_transactions = trade_positions[trade_positions['trade_action']]\n",
    "    if verbose_transactions: print(trade_transactions)\n",
    "    if trade_transactions.at[trade_transactions.index[-1],'trade_action']:\n",
    "        if trade_transactions.at[trade_transactions.index[-1],'qty_on_hand'] == 0:\n",
    "            print('The current status of the model is:','Waiting to enter a position since',trade_transactions.index.tolist()[-1].date(),'\\n')\n",
    "        elif trade_transactions.at[trade_transactions.index[-1],'qty_on_hand'] > 0:\n",
    "            print('The current status of the model is:','Holding a long position since',trade_transactions.index.tolist()[-1].date(),'\\n')\n",
    "        else:\n",
    "            print('The current status of the model is:','Holding a short position since',trade_transactions.index.tolist()[-1].date(),'\\n')\n",
    "    return trade_positions"
   ]
  },
  {
   "cell_type": "code",
   "execution_count": 20,
   "metadata": {
    "collapsed": false,
    "jupyter": {
     "outputs_hidden": false
    },
    "pycharm": {
     "name": "#%%\n"
    }
   },
   "outputs": [
    {
     "name": "stdout",
     "output_type": "stream",
     "text": [
      "Processing the positions for model: Model_001_WINDOW_010_BBFACTOR_10_VOLMA_010_HOLD_999\n",
      "The current status of the model is: Waiting to enter a position since 2021-03-12 \n",
      "\n",
      "Processing the positions for model: Model_002_WINDOW_010_BBFACTOR_15_VOLMA_010_HOLD_999\n",
      "The current status of the model is: Waiting to enter a position since 2021-03-12 \n",
      "\n",
      "Processing the positions for model: Model_003_WINDOW_010_BBFACTOR_20_VOLMA_010_HOLD_999\n",
      "The current status of the model is: Waiting to enter a position since 2021-03-12 \n",
      "\n",
      "Processing the positions for model: Model_004_WINDOW_010_BBFACTOR_25_VOLMA_010_HOLD_999\n",
      "The current status of the model is: Waiting to enter a position since 2021-03-12 \n",
      "\n",
      "Processing the positions for model: Model_005_WINDOW_010_BBFACTOR_30_VOLMA_010_HOLD_999\n",
      "The current status of the model is: Waiting to enter a position since 2021-03-12 \n",
      "\n",
      "Processing the positions for model: Model_006_WINDOW_015_BBFACTOR_10_VOLMA_010_HOLD_999\n",
      "The current status of the model is: Waiting to enter a position since 2021-03-15 \n",
      "\n",
      "Processing the positions for model: Model_007_WINDOW_015_BBFACTOR_15_VOLMA_010_HOLD_999\n",
      "The current status of the model is: Waiting to enter a position since 2021-03-15 \n",
      "\n",
      "Processing the positions for model: Model_008_WINDOW_015_BBFACTOR_20_VOLMA_010_HOLD_999\n",
      "The current status of the model is: Waiting to enter a position since 2021-03-15 \n",
      "\n",
      "Processing the positions for model: Model_009_WINDOW_015_BBFACTOR_25_VOLMA_010_HOLD_999\n",
      "The current status of the model is: Waiting to enter a position since 2021-03-15 \n",
      "\n",
      "Processing the positions for model: Model_010_WINDOW_015_BBFACTOR_30_VOLMA_010_HOLD_999\n",
      "The current status of the model is: Waiting to enter a position since 2021-03-15 \n",
      "\n",
      "Processing the positions for model: Model_011_WINDOW_020_BBFACTOR_10_VOLMA_010_HOLD_999\n",
      "The current status of the model is: Waiting to enter a position since 2021-03-23 \n",
      "\n",
      "Processing the positions for model: Model_012_WINDOW_020_BBFACTOR_15_VOLMA_010_HOLD_999\n",
      "The current status of the model is: Waiting to enter a position since 2021-03-23 \n",
      "\n",
      "Processing the positions for model: Model_013_WINDOW_020_BBFACTOR_20_VOLMA_010_HOLD_999\n",
      "The current status of the model is: Waiting to enter a position since 2021-03-23 \n",
      "\n",
      "Processing the positions for model: Model_014_WINDOW_020_BBFACTOR_25_VOLMA_010_HOLD_999\n",
      "The current status of the model is: Waiting to enter a position since 2021-03-23 \n",
      "\n",
      "Processing the positions for model: Model_015_WINDOW_020_BBFACTOR_30_VOLMA_010_HOLD_999\n",
      "The current status of the model is: Waiting to enter a position since 2021-03-23 \n",
      "\n",
      "Processing the positions for model: Model_016_WINDOW_025_BBFACTOR_10_VOLMA_010_HOLD_999\n",
      "The current status of the model is: Waiting to enter a position since 2021-03-23 \n",
      "\n",
      "Processing the positions for model: Model_017_WINDOW_025_BBFACTOR_15_VOLMA_010_HOLD_999\n",
      "The current status of the model is: Waiting to enter a position since 2021-03-23 \n",
      "\n",
      "Processing the positions for model: Model_018_WINDOW_025_BBFACTOR_20_VOLMA_010_HOLD_999\n",
      "The current status of the model is: Waiting to enter a position since 2021-03-23 \n",
      "\n",
      "Processing the positions for model: Model_019_WINDOW_025_BBFACTOR_25_VOLMA_010_HOLD_999\n",
      "The current status of the model is: Waiting to enter a position since 2021-03-23 \n",
      "\n",
      "Processing the positions for model: Model_020_WINDOW_025_BBFACTOR_30_VOLMA_010_HOLD_999\n",
      "The current status of the model is: Waiting to enter a position since 2021-03-23 \n",
      "\n",
      "Processing the positions for model: Model_021_WINDOW_030_BBFACTOR_10_VOLMA_010_HOLD_999\n",
      "The current status of the model is: Waiting to enter a position since 2021-03-24 \n",
      "\n",
      "Processing the positions for model: Model_022_WINDOW_030_BBFACTOR_15_VOLMA_010_HOLD_999\n",
      "The current status of the model is: Waiting to enter a position since 2021-03-24 \n",
      "\n",
      "Processing the positions for model: Model_023_WINDOW_030_BBFACTOR_20_VOLMA_010_HOLD_999\n",
      "The current status of the model is: Waiting to enter a position since 2021-03-24 \n",
      "\n",
      "Processing the positions for model: Model_024_WINDOW_030_BBFACTOR_25_VOLMA_010_HOLD_999\n",
      "The current status of the model is: Waiting to enter a position since 2021-03-24 \n",
      "\n",
      "Processing the positions for model: Model_025_WINDOW_030_BBFACTOR_30_VOLMA_010_HOLD_999\n",
      "The current status of the model is: Waiting to enter a position since 2021-03-24 \n",
      "\n",
      "Processing the positions for model: Model_026_WINDOW_035_BBFACTOR_10_VOLMA_010_HOLD_999\n",
      "The current status of the model is: Waiting to enter a position since 2021-03-24 \n",
      "\n",
      "Processing the positions for model: Model_027_WINDOW_035_BBFACTOR_15_VOLMA_010_HOLD_999\n",
      "The current status of the model is: Waiting to enter a position since 2021-03-24 \n",
      "\n",
      "Processing the positions for model: Model_028_WINDOW_035_BBFACTOR_20_VOLMA_010_HOLD_999\n",
      "The current status of the model is: Waiting to enter a position since 2021-03-24 \n",
      "\n",
      "Processing the positions for model: Model_029_WINDOW_035_BBFACTOR_25_VOLMA_010_HOLD_999\n",
      "The current status of the model is: Waiting to enter a position since 2021-03-24 \n",
      "\n",
      "Processing the positions for model: Model_030_WINDOW_035_BBFACTOR_30_VOLMA_010_HOLD_999\n",
      "The current status of the model is: Waiting to enter a position since 2021-03-24 \n",
      "\n",
      "Processing the positions for model: Model_031_WINDOW_040_BBFACTOR_10_VOLMA_010_HOLD_999\n",
      "The current status of the model is: Waiting to enter a position since 2021-03-26 \n",
      "\n",
      "Processing the positions for model: Model_032_WINDOW_040_BBFACTOR_15_VOLMA_010_HOLD_999\n",
      "The current status of the model is: Waiting to enter a position since 2021-03-26 \n",
      "\n",
      "Processing the positions for model: Model_033_WINDOW_040_BBFACTOR_20_VOLMA_010_HOLD_999\n",
      "The current status of the model is: Waiting to enter a position since 2021-03-26 \n",
      "\n",
      "Processing the positions for model: Model_034_WINDOW_040_BBFACTOR_25_VOLMA_010_HOLD_999\n",
      "The current status of the model is: Waiting to enter a position since 2021-03-26 \n",
      "\n",
      "Processing the positions for model: Model_035_WINDOW_040_BBFACTOR_30_VOLMA_010_HOLD_999\n",
      "The current status of the model is: Waiting to enter a position since 2021-03-26 \n",
      "\n",
      "Processing the positions for model: Model_036_WINDOW_045_BBFACTOR_10_VOLMA_010_HOLD_999\n",
      "The current status of the model is: Waiting to enter a position since 2021-03-26 \n",
      "\n",
      "Processing the positions for model: Model_037_WINDOW_045_BBFACTOR_15_VOLMA_010_HOLD_999\n",
      "The current status of the model is: Waiting to enter a position since 2021-03-26 \n",
      "\n",
      "Processing the positions for model: Model_038_WINDOW_045_BBFACTOR_20_VOLMA_010_HOLD_999\n",
      "The current status of the model is: Waiting to enter a position since 2021-03-26 \n",
      "\n",
      "Processing the positions for model: Model_039_WINDOW_045_BBFACTOR_25_VOLMA_010_HOLD_999\n",
      "The current status of the model is: Waiting to enter a position since 2021-03-26 \n",
      "\n",
      "Processing the positions for model: Model_040_WINDOW_045_BBFACTOR_30_VOLMA_010_HOLD_999\n",
      "The current status of the model is: Waiting to enter a position since 2021-03-26 \n",
      "\n",
      "Processing the positions for model: Model_041_WINDOW_050_BBFACTOR_10_VOLMA_010_HOLD_999\n",
      "The current status of the model is: Waiting to enter a position since 2021-03-26 \n",
      "\n",
      "Processing the positions for model: Model_042_WINDOW_050_BBFACTOR_15_VOLMA_010_HOLD_999\n",
      "The current status of the model is: Waiting to enter a position since 2021-03-26 \n",
      "\n",
      "Processing the positions for model: Model_043_WINDOW_050_BBFACTOR_20_VOLMA_010_HOLD_999\n",
      "The current status of the model is: Waiting to enter a position since 2021-03-26 \n",
      "\n",
      "Processing the positions for model: Model_044_WINDOW_050_BBFACTOR_25_VOLMA_010_HOLD_999\n",
      "The current status of the model is: Waiting to enter a position since 2021-03-26 \n",
      "\n",
      "Processing the positions for model: Model_045_WINDOW_050_BBFACTOR_30_VOLMA_010_HOLD_999\n",
      "The current status of the model is: Waiting to enter a position since 2021-03-26 \n",
      "\n",
      "45 sets of model positions generated.\n"
     ]
    }
   ],
   "source": [
    "# Convert trading models into positions and calculate profit and loss\n",
    "# Initialize a dictionary for tracking positions for all models\n",
    "model_positions_collection={}\n",
    "\n",
    "for model_name in trading_model_collection:\n",
    "    print('Processing the positions for model:', model_name)\n",
    "    model_positions_collection[model_name] = calculate_positions_and_performance(trading_model_collection[model_name])\n",
    "print(len(model_positions_collection), 'sets of model positions generated.')"
   ]
  },
  {
   "cell_type": "code",
   "execution_count": 21,
   "metadata": {
    "collapsed": false,
    "jupyter": {
     "outputs_hidden": false
    },
    "pycharm": {
     "name": "#%%\n"
    }
   },
   "outputs": [
    {
     "name": "stdout",
     "output_type": "stream",
     "text": [
      "45 profit/loss summaries generated.\n",
      "\n",
      "The top ten model's performance summary:\n",
      "                                          Model_name  Return_value Return_percentage\n",
      "0  Model_012_WINDOW_020_BBFACTOR_15_VOLMA_010_HOL...       143.199              None\n",
      "1  Model_007_WINDOW_015_BBFACTOR_15_VOLMA_010_HOL...       119.569              None\n",
      "2  Model_011_WINDOW_020_BBFACTOR_10_VOLMA_010_HOL...       116.860              None\n",
      "3  Model_001_WINDOW_010_BBFACTOR_10_VOLMA_010_HOL...       112.190              None\n",
      "4  Model_038_WINDOW_045_BBFACTOR_20_VOLMA_010_HOL...       105.590              None\n",
      "5  Model_037_WINDOW_045_BBFACTOR_15_VOLMA_010_HOL...       105.220              None\n",
      "6  Model_006_WINDOW_015_BBFACTOR_10_VOLMA_010_HOL...       103.470              None\n",
      "7  Model_041_WINDOW_050_BBFACTOR_10_VOLMA_010_HOL...       100.748              None\n",
      "8  Model_008_WINDOW_015_BBFACTOR_20_VOLMA_010_HOL...       100.370              None\n",
      "9  Model_036_WINDOW_045_BBFACTOR_10_VOLMA_010_HOL...        97.278              None\n"
     ]
    }
   ],
   "source": [
    "# Initialize a dataframe for storing the model's profit and loss\n",
    "model_performance_summary = pd.DataFrame(columns=['Model_name','Return_value','Return_percentage'])\n",
    "for model_name in model_positions_collection:\n",
    "    if verbose_positions: print('Processing positions for model:', model_name)\n",
    "    if verbose_positions: print('Accumulated profit/loss for one share of stock with initial capital of $%.0f at the end of modeling period: $%.2f' % (INITIAL_CAPITAL, model_positions_collection[model_name].accum_return[-1]))\n",
    "    if INITIAL_CAPITAL != 0:\n",
    "        return_percentage = model_positions_collection[model_name].accum_return[-1] / INITIAL_CAPITAL * 100\n",
    "        if verbose_positions: print('Accumulated return percentage based on the initial capital investment: %.2f%%' % return_percentage)\n",
    "    else:\n",
    "        return_percentage = None\n",
    "    if verbose_positions: print()\n",
    "    model_performance_summary = model_performance_summary.append({'Model_name': model_name, 'Return_value': model_positions_collection[model_name].accum_return[-1], 'Return_percentage': return_percentage}, ignore_index=True)\n",
    "    model_performance_summary.sort_values(by=['Return_value'], inplace=True, ascending=False)\n",
    "\n",
    "print(len(model_performance_summary), 'profit/loss summaries generated.\\n')\n",
    "print('The top ten model\\'s performance summary:')\n",
    "print(model_performance_summary.head(10))"
   ]
  },
  {
   "cell_type": "markdown",
   "metadata": {
    "pycharm": {
     "name": "#%% md\n"
    }
   },
   "source": [
    "## Task 5 - Evaluate Strategy Performance"
   ]
  },
  {
   "cell_type": "code",
   "execution_count": 22,
   "metadata": {
    "collapsed": false,
    "jupyter": {
     "outputs_hidden": false
    },
    "pycharm": {
     "name": "#%%\n"
    }
   },
   "outputs": [
    {
     "name": "stdout",
     "output_type": "stream",
     "text": [
      "The entry point for the buy-and-hold model: $159.81 on 2016-01-04\n",
      "The exit point for the buy-and-hold model: $360.91 on 2021-04-09\n",
      "The performance of the buy-and-hold model: $201.10\n",
      "The performance of the top trading model: $143.20\n"
     ]
    }
   ],
   "source": [
    "# Calculate the stock's performance for a buy-and-hold model\n",
    "top_model_name = model_performance_summary.loc[0]['Model_name']\n",
    "top_trading_model = trading_model_collection[top_model_name]\n",
    "print('The entry point for the buy-and-hold model: $%.2f on %s' % (top_trading_model.iloc[0]['open_price'], top_trading_model.index[0].date()))\n",
    "print('The exit point for the buy-and-hold model: $%.2f on %s' % (top_trading_model.iloc[-1]['open_price'], top_trading_model.index[-1].date()))\n",
    "print('The performance of the buy-and-hold model: $%.2f' %(top_trading_model.iloc[-1]['open_price'] - top_trading_model.iloc[0]['open_price']))\n",
    "print('The performance of the top trading model: $%.2f' %(model_performance_summary.iloc[0]['Return_value']))"
   ]
  },
  {
   "cell_type": "code",
   "execution_count": 23,
   "metadata": {
    "collapsed": false,
    "jupyter": {
     "outputs_hidden": false
    },
    "pycharm": {
     "name": "#%%\n"
    }
   },
   "outputs": [
    {
     "name": "stdout",
     "output_type": "stream",
     "text": [
      "            trade_action price_executed qty_transacted cost_basis gain_loss qty_on_hand cash_on_hand position_value total_position accum_return\n",
      "date                                                                                                                                           \n",
      "2016-01-08          True        155.280              1   -155.280     0.000           1     -155.280        135.069        -20.211      -20.211\n",
      "2016-02-16          True        149.350             -1      0.000    -5.930           0       -5.930          0.000         -5.930       -5.930\n",
      "2016-04-12          True        149.600              1   -149.600     0.000           1     -155.530        134.018        -21.512      -21.512\n",
      "2016-05-05          True        148.980             -1      0.000    -0.620           0       -6.550          0.000         -6.550       -6.550\n",
      "2016-05-09          True        146.830              1   -146.830     0.000           1     -153.380        132.692        -20.688      -20.688\n",
      "2016-05-27          True        150.240             -1      0.000     3.410           0       -3.140          0.000         -3.140       -3.140\n",
      "2016-08-26          True        165.390              1   -165.390     0.000           1     -168.530        146.782        -21.748      -21.748\n",
      "2016-10-25          True        149.900             -1      0.000   -15.490           0      -18.630          0.000        -18.630      -18.630\n",
      "2016-11-01          True        148.480              1   -148.480     0.000           1     -167.110        131.319        -35.791      -35.791\n",
      "2016-11-14          True        150.920             -1      0.000     2.440           0      -16.190          0.000        -16.190      -16.190\n",
      "2017-03-07          True        166.540              1   -166.540     0.000           1     -182.730        150.392        -32.338      -32.338\n",
      "2017-03-31          True        167.590             -1      0.000     1.050           0      -15.140          0.000        -15.140      -15.140\n",
      "2017-06-19          True        167.050              1   -167.050     0.000           1     -182.190        154.447        -27.743      -27.743\n",
      "2017-08-01          True        159.100             -1      0.000    -7.950           0      -23.090          0.000        -23.090      -23.090\n",
      "2017-08-25          True        152.370              1   -152.370     0.000           1     -175.460        143.721        -31.739      -31.739\n",
      "2017-09-01          True        157.590             -1      0.000     5.220           0      -17.870          0.000        -17.870      -17.870\n",
      "2017-10-09          True        157.010              1   -157.010     0.000           1     -174.880        145.757        -29.123      -29.123\n",
      "2017-10-24          True        161.160             -1      0.000     4.150           0      -13.720          0.000        -13.720      -13.720\n",
      "2018-02-06          True        178.910              1   -178.910     0.000           1     -192.630        174.927        -17.703      -17.703\n",
      "2018-02-16          True        191.450             -1      0.000    12.540           0       -1.180          0.000         -1.180       -1.180\n",
      "2018-03-23          True        183.280              1   -183.280     0.000           1     -184.460        171.430        -13.030      -13.030\n",
      "2018-04-02          True        186.910             -1      0.000     3.630           0        2.450          0.000          2.450        2.450\n",
      "2018-10-08          True        219.340              1   -219.340     0.000           1     -216.890        213.423         -3.467       -3.467\n",
      "2018-10-22          True        229.880             -1      0.000    10.540           0       12.990          0.000         12.990       12.990\n",
      "2018-10-29          True        219.750              1   -219.750     0.000           1     -206.760        211.984          5.224        5.224\n",
      "2018-10-31          True        228.650             -1      0.000     8.900           0       21.890          0.000         21.890       21.890\n",
      "2018-11-21          True        220.560              1   -220.560     0.000           1     -198.670        208.812         10.142       10.142\n",
      "2018-11-29          True        229.000             -1      0.000     8.440           0       30.330          0.000         30.330       30.330\n",
      "2018-12-17          True        206.680              1   -206.680     0.000           1     -176.350        193.202         16.852       16.852\n",
      "2019-01-09          True        209.150             -1      0.000     2.470           0       32.800          0.000         32.800       32.800\n",
      "2019-05-08          True        239.560              1   -239.560     0.000           1     -206.760        231.194         24.434       24.434\n",
      "2019-05-13          True        244.120             -1      0.000     4.560           0       37.360          0.000         37.360       37.360\n",
      "2019-06-03          True        239.780              1   -239.780     0.000           1     -202.420        231.552         29.132       29.132\n",
      "2019-06-05          True        246.100             -1      0.000     6.320           0       43.680          0.000         43.680       43.680\n",
      "2019-08-06          True        266.470              1   -266.470     0.000           1     -222.790        258.677         35.887       35.887\n",
      "2019-08-20          True        276.280             -1      0.000     9.810           0       53.490          0.000         53.490       53.490\n",
      "2019-10-02          True        283.230              1   -283.230     0.000           1     -229.740        274.454         44.714       44.714\n",
      "2019-10-07          True        291.040             -1      0.000     7.810           0       61.300          0.000         61.300       61.300\n",
      "2019-12-03          True        295.130              1   -295.130     0.000           1     -233.830        285.241         51.411       51.411\n",
      "2019-12-27          True        296.220             -1      0.000     1.090           0       62.390          0.000         62.390       62.390\n",
      "2020-01-03          True        290.050              1   -290.050     0.000           1     -227.660        281.440         53.780       53.780\n",
      "2020-01-09          True        298.550             -1      0.000     8.500           0       70.890          0.000         70.890       70.890\n",
      "2020-02-28          True        285.250              1   -285.250     0.000           1     -214.360        271.792         57.432       57.432\n",
      "2020-03-05          True        315.770             -1      0.000    30.520           0      101.410          0.000        101.410      101.410\n",
      "2020-03-13          True        288.830              1   -288.830     0.000           1     -187.420        292.219        104.799      104.799\n",
      "2020-03-18          True        298.000             -1      0.000     9.170           0      110.580          0.000        110.580      110.580\n",
      "2020-05-15          True        299.070              1   -299.070     0.000           1     -188.490        289.929        101.439      101.439\n",
      "2020-05-27          True        304.560             -1      0.000     5.490           0      116.070          0.000        116.070      116.070\n",
      "2020-06-15          True        297.050              1   -297.050     0.000           1     -180.980        287.962        106.982      106.982\n",
      "2020-07-01          True        302.500             -1      0.000     5.450           0      121.520          0.000        121.520      121.520\n",
      "2020-09-21          True        333.971              1   -333.971     0.000           1     -212.451        329.746        117.295      117.295\n",
      "2020-09-24          True        345.000             -1      0.000    11.029           0      132.549          0.000        132.549      132.549\n",
      "2020-11-02          True        362.220              1   -362.220     0.000           1     -229.671        354.527        124.856      124.856\n",
      "2020-11-04          True        374.020             -1      0.000    11.800           0      144.349          0.000        144.349      144.349\n",
      "2020-12-21          True        365.090              1   -365.090     0.000           1     -220.741        364.253        143.512      143.512\n",
      "2020-12-30          True        374.200             -1      0.000     9.110           0      153.459          0.000        153.459      153.459\n",
      "2021-01-20          True        354.390              1   -354.390     0.000           1     -200.931        360.591        159.660      159.660\n",
      "2021-02-09          True        360.040             -1      0.000     5.650           0      159.109          0.000        159.109      159.109\n",
      "2021-02-23          True        349.800              1   -349.800     0.000           1     -190.691        342.150        151.459      151.459\n",
      "2021-03-23          True        333.890             -1      0.000   -15.910           0      143.199          0.000        143.199      143.199\n"
     ]
    }
   ],
   "source": [
    "top_model_positions = model_positions_collection[top_model_name]\n",
    "print(top_model_positions[top_model_positions['trade_action'] != 0])"
   ]
  },
  {
   "cell_type": "code",
   "execution_count": 24,
   "metadata": {
    "collapsed": false,
    "jupyter": {
     "outputs_hidden": false
    },
    "pycharm": {
     "name": "#%%\n"
    }
   },
   "outputs": [
    {
     "data": {
      "text/plain": "<Figure size 1152x648 with 1 Axes>",
      "image/png": "[encoded data removed]"
     },
     "metadata": {},
     "output_type": "display_data"
    }
   ],
   "source": [
    "draw_model_graph(trading_model_collection[top_model_name], top_model_name)"
   ]
  },
  {
   "cell_type": "code",
   "execution_count": 25,
   "metadata": {
    "colab": {
     "base_uri": "https://localhost:8080/",
     "height": 34
    },
    "colab_type": "code",
    "collapsed": false,
    "id": "be1J2gmiTemG",
    "jupyter": {
     "outputs_hidden": false
    },
    "outputId": "28010a58-a8c1-43ae-d6ff-200fc13eb876",
    "pycharm": {
     "name": "#%%\n"
    }
   },
   "outputs": [
    {
     "name": "stdout",
     "output_type": "stream",
     "text": [
      "Total time for the script: 0:00:51.890359\n"
     ]
    }
   ],
   "source": [
    "print ('Total time for the script:',(datetime.now() - startTimeScript))"
   ]
  }
 ],
 "metadata": {
  "colab": {
   "collapsed_sections": [],
   "name": "py_algotrading_ema_crossover_grid_search.ipynb",
   "provenance": []
  },
  "kernelspec": {
   "display_name": "Python 3",
   "language": "python",
   "name": "python3"
  },
  "language_info": {
   "codemirror_mode": {
    "name": "ipython",
    "version": 3
   },
   "file_extension": ".py",
   "mimetype": "text/x-python",
   "name": "python",
   "nbconvert_exporter": "python",
   "pygments_lexer": "ipython3",
   "version": "3.8.5"
  }
 },
 "nbformat": 4,
 "nbformat_minor": 4
}